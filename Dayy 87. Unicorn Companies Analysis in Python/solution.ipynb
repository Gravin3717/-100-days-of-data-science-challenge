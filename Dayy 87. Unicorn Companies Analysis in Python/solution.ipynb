{
 "cells": [
  {
   "cell_type": "markdown",
   "id": "55db98b1",
   "metadata": {
    "papermill": {
     "duration": 0.05928,
     "end_time": "2022-05-11T01:23:10.454404",
     "exception": false,
     "start_time": "2022-05-11T01:23:10.395124",
     "status": "completed"
    },
    "tags": []
   },
   "source": [
    "# Dataset"
   ]
  },
  {
   "cell_type": "markdown",
   "id": "6490f122",
   "metadata": {
    "papermill": {
     "duration": 0.058914,
     "end_time": "2022-05-11T01:23:10.572389",
     "exception": false,
     "start_time": "2022-05-11T01:23:10.513475",
     "status": "completed"
    },
    "tags": []
   },
   "source": [
    "## Unicorn Companies Dataset"
   ]
  },
  {
   "cell_type": "markdown",
   "id": "38050afe",
   "metadata": {
    "papermill": {
     "duration": 0.059165,
     "end_time": "2022-05-11T01:23:10.811712",
     "exception": false,
     "start_time": "2022-05-11T01:23:10.752547",
     "status": "completed"
    },
    "tags": []
   },
   "source": [
    "\n",
    "<p style=\"font-size:1.5rem\">A unicorn company, or unicorn startup, is a private company with a valuation of over $1 billion. This dataset provides the list of current unicorn companies in the world. The latest update is on March 2022, there are 1035 unicorn companies in the world.</p>"
   ]
  },
  {
   "cell_type": "markdown",
   "id": "c8859b5e",
   "metadata": {
    "papermill": {
     "duration": 0.062652,
     "end_time": "2022-05-11T01:23:10.933599",
     "exception": false,
     "start_time": "2022-05-11T01:23:10.870947",
     "status": "completed"
    },
    "tags": []
   },
   "source": [
    "## Countries Dataset (worldmapdata)"
   ]
  },
  {
   "cell_type": "markdown",
   "id": "5f1c8b2c",
   "metadata": {
    "papermill": {
     "duration": 0.059089,
     "end_time": "2022-05-11T01:23:11.052443",
     "exception": false,
     "start_time": "2022-05-11T01:23:10.993354",
     "status": "completed"
    },
    "tags": []
   },
   "source": [
    "\n",
    "<p style=\"font-size:1.5rem\">\n",
    "Original API url: https://restcountries.com/v2/all <br>\n",
    "Modified version to make it compatible with the country name in the unicorn companies dataset.\n",
    "</p>"
   ]
  },
  {
   "cell_type": "markdown",
   "id": "8c735b5c",
   "metadata": {
    "papermill": {
     "duration": 0.058726,
     "end_time": "2022-05-11T01:23:11.172508",
     "exception": false,
     "start_time": "2022-05-11T01:23:11.113782",
     "status": "completed"
    },
    "tags": []
   },
   "source": [
    "# Import Library"
   ]
  },
  {
   "cell_type": "code",
   "execution_count": 1,
   "id": "c484d11b",
   "metadata": {
    "_cell_guid": "b1076dfc-b9ad-4769-8c92-a6c4dae69d19",
    "_uuid": "8f2839f25d086af736a60e9eeb907d3b93b6e0e5",
    "execution": {
     "iopub.execute_input": "2022-05-11T01:23:11.297672Z",
     "iopub.status.busy": "2022-05-11T01:23:11.297205Z",
     "iopub.status.idle": "2022-05-11T01:23:14.265908Z",
     "shell.execute_reply": "2022-05-11T01:23:14.264738Z"
    },
    "papermill": {
     "duration": 3.035359,
     "end_time": "2022-05-11T01:23:14.269264",
     "exception": false,
     "start_time": "2022-05-11T01:23:11.233905",
     "status": "completed"
    },
    "tags": []
   },
   "outputs": [],
   "source": [
    "import numpy as np\n",
    "import pandas as pd\n",
    "import matplotlib as mpl\n",
    "import matplotlib.pyplot as plt\n",
    "import seaborn as sns\n",
    "import plotly.express as px\n",
    "import altair as alt\n",
    "import json"
   ]
  },
  {
   "cell_type": "code",
   "execution_count": 2,
   "id": "e53e0c80",
   "metadata": {
    "execution": {
     "iopub.execute_input": "2022-05-11T01:23:14.390213Z",
     "iopub.status.busy": "2022-05-11T01:23:14.389074Z",
     "iopub.status.idle": "2022-05-11T01:23:14.428132Z",
     "shell.execute_reply": "2022-05-11T01:23:14.427218Z"
    },
    "papermill": {
     "duration": 0.102219,
     "end_time": "2022-05-11T01:23:14.430819",
     "exception": false,
     "start_time": "2022-05-11T01:23:14.328600",
     "status": "completed"
    },
    "tags": []
   },
   "outputs": [
    {
     "data": {
      "text/html": [
       "        <script type=\"text/javascript\">\n",
       "        window.PlotlyConfig = {MathJaxConfig: 'local'};\n",
       "        if (window.MathJax) {MathJax.Hub.Config({SVG: {font: \"STIX-Web\"}});}\n",
       "        if (typeof require !== 'undefined') {\n",
       "        require.undef(\"plotly\");\n",
       "        requirejs.config({\n",
       "            paths: {\n",
       "                'plotly': ['https://cdn.plot.ly/plotly-2.11.1.min']\n",
       "            }\n",
       "        });\n",
       "        require(['plotly'], function(Plotly) {\n",
       "            window._Plotly = Plotly;\n",
       "        });\n",
       "        }\n",
       "        </script>\n",
       "        "
      ]
     },
     "metadata": {},
     "output_type": "display_data"
    }
   ],
   "source": [
    "from plotly.offline import iplot, init_notebook_mode\n",
    "init_notebook_mode(connected=True)"
   ]
  },
  {
   "cell_type": "markdown",
   "id": "ce4bb480",
   "metadata": {
    "papermill": {
     "duration": 0.059162,
     "end_time": "2022-05-11T01:23:14.549883",
     "exception": false,
     "start_time": "2022-05-11T01:23:14.490721",
     "status": "completed"
    },
    "tags": []
   },
   "source": [
    "# Import Dataset"
   ]
  },
  {
   "cell_type": "code",
   "execution_count": 3,
   "id": "bc8d4a47",
   "metadata": {
    "execution": {
     "iopub.execute_input": "2022-05-11T01:23:14.673610Z",
     "iopub.status.busy": "2022-05-11T01:23:14.672921Z",
     "iopub.status.idle": "2022-05-11T01:23:14.702351Z",
     "shell.execute_reply": "2022-05-11T01:23:14.701401Z"
    },
    "papermill": {
     "duration": 0.09379,
     "end_time": "2022-05-11T01:23:14.705069",
     "exception": false,
     "start_time": "2022-05-11T01:23:14.611279",
     "status": "completed"
    },
    "tags": []
   },
   "outputs": [],
   "source": [
    "df = pd.read_csv(\"../input/unicorn-companies-dataset/Unicorn_Companies.csv\")"
   ]
  },
  {
   "cell_type": "markdown",
   "id": "f782bb8a",
   "metadata": {
    "papermill": {
     "duration": 0.062,
     "end_time": "2022-05-11T01:23:14.830456",
     "exception": false,
     "start_time": "2022-05-11T01:23:14.768456",
     "status": "completed"
    },
    "tags": []
   },
   "source": [
    "# Understand the structure of data and example of data"
   ]
  },
  {
   "cell_type": "code",
   "execution_count": 4,
   "id": "84f18b8a",
   "metadata": {
    "execution": {
     "iopub.execute_input": "2022-05-11T01:23:14.953074Z",
     "iopub.status.busy": "2022-05-11T01:23:14.952688Z",
     "iopub.status.idle": "2022-05-11T01:23:14.962540Z",
     "shell.execute_reply": "2022-05-11T01:23:14.961644Z"
    },
    "papermill": {
     "duration": 0.073592,
     "end_time": "2022-05-11T01:23:14.964866",
     "exception": false,
     "start_time": "2022-05-11T01:23:14.891274",
     "status": "completed"
    },
    "tags": []
   },
   "outputs": [
    {
     "data": {
      "text/plain": [
       "Index(['Company', 'Valuation ($B)', 'Date Joined', 'Country', 'City',\n",
       "       'Industry', 'Select Inverstors', 'Founded Year', 'Total Raised',\n",
       "       'Financial Stage', 'Investors Count', 'Deal Terms', 'Portfolio Exits'],\n",
       "      dtype='object')"
      ]
     },
     "execution_count": 4,
     "metadata": {},
     "output_type": "execute_result"
    }
   ],
   "source": [
    "df.columns"
   ]
  },
  {
   "cell_type": "markdown",
   "id": "706744e7",
   "metadata": {
    "papermill": {
     "duration": 0.059669,
     "end_time": "2022-05-11T01:23:15.084600",
     "exception": false,
     "start_time": "2022-05-11T01:23:15.024931",
     "status": "completed"
    },
    "tags": []
   },
   "source": [
    "<p style=\"font-size:1.5rem\">There are 13 columns in the dataset providing the information about the unicorn company.</p>\n",
    "<ol style=\"font-size: 1.25rem\">\n",
    "    <li>Company: The name of the company</li>\n",
    "    <li>Valuation (&dollar;B): Economic value of the company in the digit of billion US dollar.</li>\n",
    "    <li>Date Joined: The date that company become the unicorn company.</li>\n",
    "    <li>Country: The country where company was established</li>\n",
    "    <li>City: The city where company was established</li>\n",
    "    <li>Industry: The industry of company</li>\n",
    "    <li>Select Inverstors: List of selected companies that invest during founding stage in the unicorn company</li>\n",
    "    <li>Founded Year: The launch year of the company.</li>\n",
    "    <li>Total Raised: The full deal size of an investment.</li>\n",
    "    <li>Financial Stage: The current financial stage of the company</li>\n",
    "    <li>Investors count: The total number of investors</li>\n",
    "    <li>Deal Terms</li>\n",
    "    <li>Portfolio Exits</li>\n",
    "</ol>\n",
    "\n",
    "<p style=\"font-size: 1.25rem\">There is no useful descriptive information about deal terms and portfolio exits, so we decide not to use them.</p>"
   ]
  },
  {
   "cell_type": "code",
   "execution_count": 5,
   "id": "bb99c690",
   "metadata": {
    "execution": {
     "iopub.execute_input": "2022-05-11T01:23:15.207381Z",
     "iopub.status.busy": "2022-05-11T01:23:15.207039Z",
     "iopub.status.idle": "2022-05-11T01:23:15.232897Z",
     "shell.execute_reply": "2022-05-11T01:23:15.231966Z"
    },
    "papermill": {
     "duration": 0.08973,
     "end_time": "2022-05-11T01:23:15.235258",
     "exception": false,
     "start_time": "2022-05-11T01:23:15.145528",
     "status": "completed"
    },
    "tags": []
   },
   "outputs": [
    {
     "data": {
      "text/html": [
       "<div>\n",
       "<style scoped>\n",
       "    .dataframe tbody tr th:only-of-type {\n",
       "        vertical-align: middle;\n",
       "    }\n",
       "\n",
       "    .dataframe tbody tr th {\n",
       "        vertical-align: top;\n",
       "    }\n",
       "\n",
       "    .dataframe thead th {\n",
       "        text-align: right;\n",
       "    }\n",
       "</style>\n",
       "<table border=\"1\" class=\"dataframe\">\n",
       "  <thead>\n",
       "    <tr style=\"text-align: right;\">\n",
       "      <th></th>\n",
       "      <th>Company</th>\n",
       "      <th>Valuation ($B)</th>\n",
       "      <th>Date Joined</th>\n",
       "      <th>Country</th>\n",
       "      <th>City</th>\n",
       "      <th>Industry</th>\n",
       "      <th>Select Inverstors</th>\n",
       "      <th>Founded Year</th>\n",
       "      <th>Total Raised</th>\n",
       "      <th>Financial Stage</th>\n",
       "      <th>Investors Count</th>\n",
       "      <th>Deal Terms</th>\n",
       "      <th>Portfolio Exits</th>\n",
       "    </tr>\n",
       "  </thead>\n",
       "  <tbody>\n",
       "    <tr>\n",
       "      <th>0</th>\n",
       "      <td>Bytedance</td>\n",
       "      <td>$140</td>\n",
       "      <td>4/7/2017</td>\n",
       "      <td>China</td>\n",
       "      <td>Beijing</td>\n",
       "      <td>Artificial intelligence</td>\n",
       "      <td>Sequoia Capital China, SIG Asia Investments, S...</td>\n",
       "      <td>2012</td>\n",
       "      <td>$7.44B</td>\n",
       "      <td>IPO</td>\n",
       "      <td>28</td>\n",
       "      <td>8</td>\n",
       "      <td>5</td>\n",
       "    </tr>\n",
       "    <tr>\n",
       "      <th>1</th>\n",
       "      <td>SpaceX</td>\n",
       "      <td>$100.3</td>\n",
       "      <td>12/1/2012</td>\n",
       "      <td>United States</td>\n",
       "      <td>Hawthorne</td>\n",
       "      <td>Other</td>\n",
       "      <td>Founders Fund, Draper Fisher Jurvetson, Rothen...</td>\n",
       "      <td>2002</td>\n",
       "      <td>$6.874B</td>\n",
       "      <td>None</td>\n",
       "      <td>29</td>\n",
       "      <td>12</td>\n",
       "      <td>None</td>\n",
       "    </tr>\n",
       "    <tr>\n",
       "      <th>2</th>\n",
       "      <td>Stripe</td>\n",
       "      <td>$95</td>\n",
       "      <td>1/23/2014</td>\n",
       "      <td>United States</td>\n",
       "      <td>San Francisco</td>\n",
       "      <td>Fintech</td>\n",
       "      <td>Khosla Ventures, LowercaseCapital, capitalG</td>\n",
       "      <td>2010</td>\n",
       "      <td>$2.901B</td>\n",
       "      <td>Asset</td>\n",
       "      <td>39</td>\n",
       "      <td>12</td>\n",
       "      <td>1</td>\n",
       "    </tr>\n",
       "    <tr>\n",
       "      <th>3</th>\n",
       "      <td>Klarna</td>\n",
       "      <td>$45.6</td>\n",
       "      <td>12/12/2011</td>\n",
       "      <td>Sweden</td>\n",
       "      <td>Stockholm</td>\n",
       "      <td>Fintech</td>\n",
       "      <td>Institutional Venture Partners, Sequoia Capita...</td>\n",
       "      <td>2005</td>\n",
       "      <td>$3.472B</td>\n",
       "      <td>Acquired</td>\n",
       "      <td>56</td>\n",
       "      <td>13</td>\n",
       "      <td>1</td>\n",
       "    </tr>\n",
       "    <tr>\n",
       "      <th>4</th>\n",
       "      <td>Epic Games</td>\n",
       "      <td>$42</td>\n",
       "      <td>10/26/2018</td>\n",
       "      <td>United States</td>\n",
       "      <td>Cary</td>\n",
       "      <td>Other</td>\n",
       "      <td>Tencent Holdings, KKR, Smash Ventures</td>\n",
       "      <td>1991</td>\n",
       "      <td>$4.377B</td>\n",
       "      <td>Acquired</td>\n",
       "      <td>25</td>\n",
       "      <td>5</td>\n",
       "      <td>2</td>\n",
       "    </tr>\n",
       "  </tbody>\n",
       "</table>\n",
       "</div>"
      ],
      "text/plain": [
       "      Company Valuation ($B) Date Joined        Country           City  \\\n",
       "0   Bytedance           $140    4/7/2017          China        Beijing   \n",
       "1      SpaceX         $100.3   12/1/2012  United States      Hawthorne   \n",
       "2      Stripe            $95   1/23/2014  United States  San Francisco   \n",
       "3      Klarna          $45.6  12/12/2011         Sweden      Stockholm   \n",
       "4  Epic Games            $42  10/26/2018  United States           Cary   \n",
       "\n",
       "                  Industry                                  Select Inverstors  \\\n",
       "0  Artificial intelligence  Sequoia Capital China, SIG Asia Investments, S...   \n",
       "1                    Other  Founders Fund, Draper Fisher Jurvetson, Rothen...   \n",
       "2                  Fintech        Khosla Ventures, LowercaseCapital, capitalG   \n",
       "3                  Fintech  Institutional Venture Partners, Sequoia Capita...   \n",
       "4                    Other              Tencent Holdings, KKR, Smash Ventures   \n",
       "\n",
       "  Founded Year Total Raised Financial Stage Investors Count Deal Terms  \\\n",
       "0         2012       $7.44B             IPO              28          8   \n",
       "1         2002      $6.874B            None              29         12   \n",
       "2         2010      $2.901B           Asset              39         12   \n",
       "3         2005      $3.472B        Acquired              56         13   \n",
       "4         1991      $4.377B        Acquired              25          5   \n",
       "\n",
       "  Portfolio Exits  \n",
       "0               5  \n",
       "1            None  \n",
       "2               1  \n",
       "3               1  \n",
       "4               2  "
      ]
     },
     "execution_count": 5,
     "metadata": {},
     "output_type": "execute_result"
    }
   ],
   "source": [
    "df.head()"
   ]
  },
  {
   "cell_type": "code",
   "execution_count": 6,
   "id": "e0337222",
   "metadata": {
    "execution": {
     "iopub.execute_input": "2022-05-11T01:23:15.361627Z",
     "iopub.status.busy": "2022-05-11T01:23:15.360451Z",
     "iopub.status.idle": "2022-05-11T01:23:15.412331Z",
     "shell.execute_reply": "2022-05-11T01:23:15.411549Z"
    },
    "papermill": {
     "duration": 0.117431,
     "end_time": "2022-05-11T01:23:15.414728",
     "exception": false,
     "start_time": "2022-05-11T01:23:15.297297",
     "status": "completed"
    },
    "tags": []
   },
   "outputs": [
    {
     "data": {
      "text/html": [
       "<div>\n",
       "<style scoped>\n",
       "    .dataframe tbody tr th:only-of-type {\n",
       "        vertical-align: middle;\n",
       "    }\n",
       "\n",
       "    .dataframe tbody tr th {\n",
       "        vertical-align: top;\n",
       "    }\n",
       "\n",
       "    .dataframe thead th {\n",
       "        text-align: right;\n",
       "    }\n",
       "</style>\n",
       "<table border=\"1\" class=\"dataframe\">\n",
       "  <thead>\n",
       "    <tr style=\"text-align: right;\">\n",
       "      <th></th>\n",
       "      <th>Company</th>\n",
       "      <th>Valuation ($B)</th>\n",
       "      <th>Date Joined</th>\n",
       "      <th>Country</th>\n",
       "      <th>City</th>\n",
       "      <th>Industry</th>\n",
       "      <th>Select Inverstors</th>\n",
       "      <th>Founded Year</th>\n",
       "      <th>Total Raised</th>\n",
       "      <th>Financial Stage</th>\n",
       "      <th>Investors Count</th>\n",
       "      <th>Deal Terms</th>\n",
       "      <th>Portfolio Exits</th>\n",
       "    </tr>\n",
       "  </thead>\n",
       "  <tbody>\n",
       "    <tr>\n",
       "      <th>count</th>\n",
       "      <td>1037</td>\n",
       "      <td>1037</td>\n",
       "      <td>1037</td>\n",
       "      <td>1037</td>\n",
       "      <td>1037</td>\n",
       "      <td>1037</td>\n",
       "      <td>1037</td>\n",
       "      <td>1037</td>\n",
       "      <td>1037</td>\n",
       "      <td>1037</td>\n",
       "      <td>1037</td>\n",
       "      <td>1037</td>\n",
       "      <td>1037</td>\n",
       "    </tr>\n",
       "    <tr>\n",
       "      <th>unique</th>\n",
       "      <td>1035</td>\n",
       "      <td>200</td>\n",
       "      <td>623</td>\n",
       "      <td>46</td>\n",
       "      <td>256</td>\n",
       "      <td>33</td>\n",
       "      <td>1006</td>\n",
       "      <td>37</td>\n",
       "      <td>914</td>\n",
       "      <td>10</td>\n",
       "      <td>54</td>\n",
       "      <td>16</td>\n",
       "      <td>5</td>\n",
       "    </tr>\n",
       "    <tr>\n",
       "      <th>top</th>\n",
       "      <td>Bolt</td>\n",
       "      <td>$1</td>\n",
       "      <td>7/13/2021</td>\n",
       "      <td>United States</td>\n",
       "      <td>San Francisco</td>\n",
       "      <td>Fintech</td>\n",
       "      <td>None</td>\n",
       "      <td>2015</td>\n",
       "      <td>None</td>\n",
       "      <td>None</td>\n",
       "      <td>10</td>\n",
       "      <td>1</td>\n",
       "      <td>None</td>\n",
       "    </tr>\n",
       "    <tr>\n",
       "      <th>freq</th>\n",
       "      <td>2</td>\n",
       "      <td>244</td>\n",
       "      <td>9</td>\n",
       "      <td>536</td>\n",
       "      <td>145</td>\n",
       "      <td>205</td>\n",
       "      <td>17</td>\n",
       "      <td>144</td>\n",
       "      <td>24</td>\n",
       "      <td>988</td>\n",
       "      <td>69</td>\n",
       "      <td>280</td>\n",
       "      <td>988</td>\n",
       "    </tr>\n",
       "  </tbody>\n",
       "</table>\n",
       "</div>"
      ],
      "text/plain": [
       "       Company Valuation ($B) Date Joined        Country           City  \\\n",
       "count     1037           1037        1037           1037           1037   \n",
       "unique    1035            200         623             46            256   \n",
       "top       Bolt             $1   7/13/2021  United States  San Francisco   \n",
       "freq         2            244           9            536            145   \n",
       "\n",
       "       Industry Select Inverstors Founded Year Total Raised Financial Stage  \\\n",
       "count      1037              1037         1037         1037            1037   \n",
       "unique       33              1006           37          914              10   \n",
       "top     Fintech              None         2015         None            None   \n",
       "freq        205                17          144           24             988   \n",
       "\n",
       "       Investors Count Deal Terms Portfolio Exits  \n",
       "count             1037       1037            1037  \n",
       "unique              54         16               5  \n",
       "top                 10          1            None  \n",
       "freq                69        280             988  "
      ]
     },
     "execution_count": 6,
     "metadata": {},
     "output_type": "execute_result"
    }
   ],
   "source": [
    "df.describe()"
   ]
  },
  {
   "cell_type": "code",
   "execution_count": 7,
   "id": "8c06a54b",
   "metadata": {
    "execution": {
     "iopub.execute_input": "2022-05-11T01:23:15.543829Z",
     "iopub.status.busy": "2022-05-11T01:23:15.543199Z",
     "iopub.status.idle": "2022-05-11T01:23:15.561450Z",
     "shell.execute_reply": "2022-05-11T01:23:15.560384Z"
    },
    "papermill": {
     "duration": 0.086472,
     "end_time": "2022-05-11T01:23:15.564114",
     "exception": false,
     "start_time": "2022-05-11T01:23:15.477642",
     "status": "completed"
    },
    "tags": []
   },
   "outputs": [
    {
     "name": "stdout",
     "output_type": "stream",
     "text": [
      "<class 'pandas.core.frame.DataFrame'>\n",
      "RangeIndex: 1037 entries, 0 to 1036\n",
      "Data columns (total 13 columns):\n",
      " #   Column             Non-Null Count  Dtype \n",
      "---  ------             --------------  ----- \n",
      " 0   Company            1037 non-null   object\n",
      " 1   Valuation ($B)     1037 non-null   object\n",
      " 2   Date Joined        1037 non-null   object\n",
      " 3   Country            1037 non-null   object\n",
      " 4   City               1037 non-null   object\n",
      " 5   Industry           1037 non-null   object\n",
      " 6   Select Inverstors  1037 non-null   object\n",
      " 7   Founded Year       1037 non-null   object\n",
      " 8   Total Raised       1037 non-null   object\n",
      " 9   Financial Stage    1037 non-null   object\n",
      " 10  Investors Count    1037 non-null   object\n",
      " 11  Deal Terms         1037 non-null   object\n",
      " 12  Portfolio Exits    1037 non-null   object\n",
      "dtypes: object(13)\n",
      "memory usage: 105.4+ KB\n"
     ]
    }
   ],
   "source": [
    "df.info()"
   ]
  },
  {
   "cell_type": "markdown",
   "id": "209f58cd",
   "metadata": {
    "papermill": {
     "duration": 0.063792,
     "end_time": "2022-05-11T01:23:15.692308",
     "exception": false,
     "start_time": "2022-05-11T01:23:15.628516",
     "status": "completed"
    },
    "tags": []
   },
   "source": [
    "# Data Cleaning and Data Preprocessing"
   ]
  },
  {
   "cell_type": "markdown",
   "id": "5ed5d988",
   "metadata": {
    "papermill": {
     "duration": 0.062485,
     "end_time": "2022-05-11T01:23:15.818588",
     "exception": false,
     "start_time": "2022-05-11T01:23:15.756103",
     "status": "completed"
    },
    "tags": []
   },
   "source": [
    "## Valuation (&dollar;B)"
   ]
  },
  {
   "cell_type": "markdown",
   "id": "032c259f",
   "metadata": {
    "papermill": {
     "duration": 0.062014,
     "end_time": "2022-05-11T01:23:15.942840",
     "exception": false,
     "start_time": "2022-05-11T01:23:15.880826",
     "status": "completed"
    },
    "tags": []
   },
   "source": [
    "<p style=\"font-size:1.25rem\">\n",
    "We are going to convert valuation columns to be numeric column.\n",
    "</p>"
   ]
  },
  {
   "cell_type": "code",
   "execution_count": 8,
   "id": "08d5113e",
   "metadata": {
    "execution": {
     "iopub.execute_input": "2022-05-11T01:23:16.069372Z",
     "iopub.status.busy": "2022-05-11T01:23:16.068976Z",
     "iopub.status.idle": "2022-05-11T01:23:16.080895Z",
     "shell.execute_reply": "2022-05-11T01:23:16.080061Z"
    },
    "papermill": {
     "duration": 0.078067,
     "end_time": "2022-05-11T01:23:16.083369",
     "exception": false,
     "start_time": "2022-05-11T01:23:16.005302",
     "status": "completed"
    },
    "tags": []
   },
   "outputs": [],
   "source": [
    "# Remove Dollar sign and convert to float\n",
    "df[\"Valuation ($B)\"] = df[\"Valuation ($B)\"].replace({\"\\$\": \"\"},regex=True).astype(float)"
   ]
  },
  {
   "cell_type": "markdown",
   "id": "78b89f9c",
   "metadata": {
    "papermill": {
     "duration": 0.062841,
     "end_time": "2022-05-11T01:23:16.209775",
     "exception": false,
     "start_time": "2022-05-11T01:23:16.146934",
     "status": "completed"
    },
    "tags": []
   },
   "source": [
    "## Date Joined"
   ]
  },
  {
   "cell_type": "markdown",
   "id": "b6f8efa8",
   "metadata": {
    "papermill": {
     "duration": 0.063792,
     "end_time": "2022-05-11T01:23:16.335872",
     "exception": false,
     "start_time": "2022-05-11T01:23:16.272080",
     "status": "completed"
    },
    "tags": []
   },
   "source": [
    "<p style=\"font-size:1.25rem\">\n",
    "We are going to convert date joined column to be date.\n",
    "</p>"
   ]
  },
  {
   "cell_type": "code",
   "execution_count": 9,
   "id": "ada7d771",
   "metadata": {
    "execution": {
     "iopub.execute_input": "2022-05-11T01:23:16.465348Z",
     "iopub.status.busy": "2022-05-11T01:23:16.464935Z",
     "iopub.status.idle": "2022-05-11T01:23:16.542138Z",
     "shell.execute_reply": "2022-05-11T01:23:16.541080Z"
    },
    "papermill": {
     "duration": 0.145665,
     "end_time": "2022-05-11T01:23:16.545052",
     "exception": false,
     "start_time": "2022-05-11T01:23:16.399387",
     "status": "completed"
    },
    "tags": []
   },
   "outputs": [],
   "source": [
    "df[\"Date Joined\"] = pd.to_datetime(df[\"Date Joined\"])"
   ]
  },
  {
   "cell_type": "markdown",
   "id": "ff44383f",
   "metadata": {
    "papermill": {
     "duration": 0.062081,
     "end_time": "2022-05-11T01:23:16.671239",
     "exception": false,
     "start_time": "2022-05-11T01:23:16.609158",
     "status": "completed"
    },
    "tags": []
   },
   "source": [
    "## Country, City, and Industry"
   ]
  },
  {
   "cell_type": "markdown",
   "id": "f0899f61",
   "metadata": {
    "papermill": {
     "duration": 0.066392,
     "end_time": "2022-05-11T01:23:16.799872",
     "exception": false,
     "start_time": "2022-05-11T01:23:16.733480",
     "status": "completed"
    },
    "tags": []
   },
   "source": [
    "<p style=\"font-size:1.25rem\">\n",
    "We are going to convert country, city, and industry columns to be categorical.\n",
    "</p>"
   ]
  },
  {
   "cell_type": "code",
   "execution_count": 10,
   "id": "dc16baf1",
   "metadata": {
    "execution": {
     "iopub.execute_input": "2022-05-11T01:23:16.928176Z",
     "iopub.status.busy": "2022-05-11T01:23:16.927500Z",
     "iopub.status.idle": "2022-05-11T01:23:16.942796Z",
     "shell.execute_reply": "2022-05-11T01:23:16.941551Z"
    },
    "papermill": {
     "duration": 0.082951,
     "end_time": "2022-05-11T01:23:16.945619",
     "exception": false,
     "start_time": "2022-05-11T01:23:16.862668",
     "status": "completed"
    },
    "tags": []
   },
   "outputs": [],
   "source": [
    "df[\"Country\"] = df[\"Country\"].astype('category')\n",
    "df[\"City\"] = df[\"City\"].astype('category')\n",
    "df[\"Industry\"] = df[\"Industry\"].str.upper()\n",
    "df[\"Industry\"] = df[\"Industry\"].replace({\"FINTTECH\":\"FINTECH\"},regex=True)\n",
    "df[\"Industry\"] = df[\"Industry\"].astype('category')"
   ]
  },
  {
   "cell_type": "markdown",
   "id": "a23092f3",
   "metadata": {
    "papermill": {
     "duration": 0.061784,
     "end_time": "2022-05-11T01:23:17.071356",
     "exception": false,
     "start_time": "2022-05-11T01:23:17.009572",
     "status": "completed"
    },
    "tags": []
   },
   "source": [
    "## Founded Year"
   ]
  },
  {
   "cell_type": "markdown",
   "id": "caa13d6c",
   "metadata": {
    "papermill": {
     "duration": 0.061247,
     "end_time": "2022-05-11T01:23:17.194832",
     "exception": false,
     "start_time": "2022-05-11T01:23:17.133585",
     "status": "completed"
    },
    "tags": []
   },
   "source": [
    "<p style=\"font-size:1.25rem\">\n",
    "We are going to convert founded year to be numeric type.\n",
    "</p>"
   ]
  },
  {
   "cell_type": "code",
   "execution_count": 11,
   "id": "ed54d0c6",
   "metadata": {
    "execution": {
     "iopub.execute_input": "2022-05-11T01:23:17.320360Z",
     "iopub.status.busy": "2022-05-11T01:23:17.319975Z",
     "iopub.status.idle": "2022-05-11T01:23:17.328367Z",
     "shell.execute_reply": "2022-05-11T01:23:17.327379Z"
    },
    "papermill": {
     "duration": 0.074086,
     "end_time": "2022-05-11T01:23:17.330829",
     "exception": false,
     "start_time": "2022-05-11T01:23:17.256743",
     "status": "completed"
    },
    "tags": []
   },
   "outputs": [],
   "source": [
    "df.loc[df[\"Founded Year\"] == \"None\",\"Founded Year\"] = 0\n",
    "df[\"Founded Year\"] = df[\"Founded Year\"].astype(int)"
   ]
  },
  {
   "cell_type": "markdown",
   "id": "2296d86a",
   "metadata": {
    "papermill": {
     "duration": 0.061285,
     "end_time": "2022-05-11T01:23:17.455210",
     "exception": false,
     "start_time": "2022-05-11T01:23:17.393925",
     "status": "completed"
    },
    "tags": []
   },
   "source": [
    "## Total Raised"
   ]
  },
  {
   "cell_type": "markdown",
   "id": "eb4e66aa",
   "metadata": {
    "papermill": {
     "duration": 0.061298,
     "end_time": "2022-05-11T01:23:17.578377",
     "exception": false,
     "start_time": "2022-05-11T01:23:17.517079",
     "status": "completed"
    },
    "tags": []
   },
   "source": [
    "<p style=\"font-size:1.25rem\">\n",
    "We are going to convert total raised columns to be numeric column and in dollar format.\n",
    "</p>"
   ]
  },
  {
   "cell_type": "code",
   "execution_count": 12,
   "id": "56bc86fd",
   "metadata": {
    "execution": {
     "iopub.execute_input": "2022-05-11T01:23:17.705003Z",
     "iopub.status.busy": "2022-05-11T01:23:17.704623Z",
     "iopub.status.idle": "2022-05-11T01:23:17.744108Z",
     "shell.execute_reply": "2022-05-11T01:23:17.743094Z"
    },
    "papermill": {
     "duration": 0.106677,
     "end_time": "2022-05-11T01:23:17.746993",
     "exception": false,
     "start_time": "2022-05-11T01:23:17.640316",
     "status": "completed"
    },
    "tags": []
   },
   "outputs": [],
   "source": [
    "# Remove dollar sign \n",
    "df[\"Total Raised\"] = df[\"Total Raised\"].replace({\"\\$\": \"\"},regex=True)\n",
    "# Transform the total raised that ends with B by multiply with 10^9 and convert type back to string for preventing type error\n",
    "df.loc[df[\"Total Raised\"].str.endswith('B'),\"Total Raised\"] = (df[df[\"Total Raised\"].str.endswith('B')][\"Total Raised\"].replace({\"B\":\"\"},regex=True).astype(float) * 1_000_000_000).astype(str) \n",
    "# Transform the total raised that ends with M by multiply with 10^6 and convert type back to string for preventing type error\n",
    "df.loc[df[\"Total Raised\"].str.endswith('M'),\"Total Raised\"] = (df[df[\"Total Raised\"].str.endswith('M')][\"Total Raised\"].replace({\"M\":\"\"},regex=True).astype(float) * 1_000_000).astype(str)\n",
    "# Transform the total raised that ends with K by multiply with 10^3 and convert type back to string for preventing type error\n",
    "df.loc[df[\"Total Raised\"].str.endswith('K'),\"Total Raised\"] = (df[df[\"Total Raised\"].str.endswith('K')][\"Total Raised\"].replace({\"K\":\"\"},regex=True).astype(float) * 1_000).astype(str)\n",
    "# Transform the total raised that has value is None to be 0\n",
    "df.loc[df[\"Total Raised\"] == \"None\",\"Total Raised\"] = \"0\"\n",
    "# Convert total raised column to be float \n",
    "df[\"Total Raised\"] = df[\"Total Raised\"].astype(float)"
   ]
  },
  {
   "cell_type": "markdown",
   "id": "fe9fd260",
   "metadata": {
    "papermill": {
     "duration": 0.069333,
     "end_time": "2022-05-11T01:23:17.892236",
     "exception": false,
     "start_time": "2022-05-11T01:23:17.822903",
     "status": "completed"
    },
    "tags": []
   },
   "source": [
    "## Financial Stage"
   ]
  },
  {
   "cell_type": "code",
   "execution_count": 13,
   "id": "3f477f71",
   "metadata": {
    "execution": {
     "iopub.execute_input": "2022-05-11T01:23:18.026676Z",
     "iopub.status.busy": "2022-05-11T01:23:18.025918Z",
     "iopub.status.idle": "2022-05-11T01:23:18.035301Z",
     "shell.execute_reply": "2022-05-11T01:23:18.034245Z"
    },
    "papermill": {
     "duration": 0.083193,
     "end_time": "2022-05-11T01:23:18.037572",
     "exception": false,
     "start_time": "2022-05-11T01:23:17.954379",
     "status": "completed"
    },
    "tags": []
   },
   "outputs": [
    {
     "data": {
      "text/plain": [
       "None           988\n",
       "Acquired        22\n",
       "Divestiture      8\n",
       "IPO              7\n",
       "Acq              7\n",
       "Asset            1\n",
       "Take             1\n",
       "Management       1\n",
       "Reverse          1\n",
       "Corporate        1\n",
       "Name: Financial Stage, dtype: int64"
      ]
     },
     "execution_count": 13,
     "metadata": {},
     "output_type": "execute_result"
    }
   ],
   "source": [
    "df[\"Financial Stage\"].value_counts()"
   ]
  },
  {
   "cell_type": "markdown",
   "id": "8dbef995",
   "metadata": {
    "papermill": {
     "duration": 0.063222,
     "end_time": "2022-05-11T01:23:18.163424",
     "exception": false,
     "start_time": "2022-05-11T01:23:18.100202",
     "status": "completed"
    },
    "tags": []
   },
   "source": [
    "<p style=\"font-size:1.25rem\">\n",
    "Since there are a lot of None in Financial Stage column, so we decide to drop this column.\n",
    "</p>"
   ]
  },
  {
   "cell_type": "code",
   "execution_count": 14,
   "id": "4581e490",
   "metadata": {
    "execution": {
     "iopub.execute_input": "2022-05-11T01:23:18.290368Z",
     "iopub.status.busy": "2022-05-11T01:23:18.289769Z",
     "iopub.status.idle": "2022-05-11T01:23:18.296217Z",
     "shell.execute_reply": "2022-05-11T01:23:18.295242Z"
    },
    "papermill": {
     "duration": 0.072936,
     "end_time": "2022-05-11T01:23:18.298860",
     "exception": false,
     "start_time": "2022-05-11T01:23:18.225924",
     "status": "completed"
    },
    "tags": []
   },
   "outputs": [],
   "source": [
    "df = df.drop(\"Financial Stage\", axis=1)"
   ]
  },
  {
   "cell_type": "markdown",
   "id": "9ad05ceb",
   "metadata": {
    "papermill": {
     "duration": 0.071123,
     "end_time": "2022-05-11T01:23:18.437169",
     "exception": false,
     "start_time": "2022-05-11T01:23:18.366046",
     "status": "completed"
    },
    "tags": []
   },
   "source": [
    "## Investors Count"
   ]
  },
  {
   "cell_type": "markdown",
   "id": "11d984b5",
   "metadata": {
    "papermill": {
     "duration": 0.062266,
     "end_time": "2022-05-11T01:23:18.561658",
     "exception": false,
     "start_time": "2022-05-11T01:23:18.499392",
     "status": "completed"
    },
    "tags": []
   },
   "source": [
    "<p style=\"font-size:1.25rem\">\n",
    "We are going to convert investors count columns to be numeric column.\n",
    "</p>"
   ]
  },
  {
   "cell_type": "code",
   "execution_count": 15,
   "id": "719fe2d7",
   "metadata": {
    "execution": {
     "iopub.execute_input": "2022-05-11T01:23:18.688075Z",
     "iopub.status.busy": "2022-05-11T01:23:18.687689Z",
     "iopub.status.idle": "2022-05-11T01:23:18.695356Z",
     "shell.execute_reply": "2022-05-11T01:23:18.694667Z"
    },
    "papermill": {
     "duration": 0.073733,
     "end_time": "2022-05-11T01:23:18.697720",
     "exception": false,
     "start_time": "2022-05-11T01:23:18.623987",
     "status": "completed"
    },
    "tags": []
   },
   "outputs": [],
   "source": [
    "df.loc[df[\"Investors Count\"] == \"None\", \"Investors Count\"] = \"0\"\n",
    "df[\"Investors Count\"] = df[\"Investors Count\"].astype(int)"
   ]
  },
  {
   "cell_type": "markdown",
   "id": "9f8b9230",
   "metadata": {
    "papermill": {
     "duration": 0.063347,
     "end_time": "2022-05-11T01:23:18.824056",
     "exception": false,
     "start_time": "2022-05-11T01:23:18.760709",
     "status": "completed"
    },
    "tags": []
   },
   "source": [
    "## Deal Terms and Portfolio Exits"
   ]
  },
  {
   "cell_type": "markdown",
   "id": "e9ca3569",
   "metadata": {
    "papermill": {
     "duration": 0.063684,
     "end_time": "2022-05-11T01:23:18.950788",
     "exception": false,
     "start_time": "2022-05-11T01:23:18.887104",
     "status": "completed"
    },
    "tags": []
   },
   "source": [
    "<p style=\"font-size:1.25rem\">\n",
    "Since we have less information about these two columns, so we decide to drop these columns.\n",
    "</p>"
   ]
  },
  {
   "cell_type": "code",
   "execution_count": 16,
   "id": "804cfff6",
   "metadata": {
    "execution": {
     "iopub.execute_input": "2022-05-11T01:23:19.082039Z",
     "iopub.status.busy": "2022-05-11T01:23:19.081104Z",
     "iopub.status.idle": "2022-05-11T01:23:19.088379Z",
     "shell.execute_reply": "2022-05-11T01:23:19.087428Z"
    },
    "papermill": {
     "duration": 0.077505,
     "end_time": "2022-05-11T01:23:19.090749",
     "exception": false,
     "start_time": "2022-05-11T01:23:19.013244",
     "status": "completed"
    },
    "tags": []
   },
   "outputs": [],
   "source": [
    "df = df.drop([\"Deal Terms\",\"Portfolio Exits\"], axis=1)"
   ]
  },
  {
   "cell_type": "markdown",
   "id": "69c6b388",
   "metadata": {
    "papermill": {
     "duration": 0.06281,
     "end_time": "2022-05-11T01:23:19.217786",
     "exception": false,
     "start_time": "2022-05-11T01:23:19.154976",
     "status": "completed"
    },
    "tags": []
   },
   "source": [
    "## Year Joined"
   ]
  },
  {
   "cell_type": "markdown",
   "id": "a2ddd76b",
   "metadata": {
    "papermill": {
     "duration": 0.062439,
     "end_time": "2022-05-11T01:23:19.343407",
     "exception": false,
     "start_time": "2022-05-11T01:23:19.280968",
     "status": "completed"
    },
    "tags": []
   },
   "source": [
    "<p style=\"font-size:1.25rem\">\n",
    "We are going to extract year joined from the date joined.\n",
    "</p>"
   ]
  },
  {
   "cell_type": "code",
   "execution_count": 17,
   "id": "0ffcabca",
   "metadata": {
    "execution": {
     "iopub.execute_input": "2022-05-11T01:23:19.470993Z",
     "iopub.status.busy": "2022-05-11T01:23:19.469913Z",
     "iopub.status.idle": "2022-05-11T01:23:19.482973Z",
     "shell.execute_reply": "2022-05-11T01:23:19.482218Z"
    },
    "papermill": {
     "duration": 0.07951,
     "end_time": "2022-05-11T01:23:19.485580",
     "exception": false,
     "start_time": "2022-05-11T01:23:19.406070",
     "status": "completed"
    },
    "tags": []
   },
   "outputs": [],
   "source": [
    "df[\"Year Joined\"] = df[\"Date Joined\"].apply(lambda x: x.year)"
   ]
  },
  {
   "cell_type": "markdown",
   "id": "4395b5db",
   "metadata": {
    "papermill": {
     "duration": 0.063148,
     "end_time": "2022-05-11T01:23:19.611067",
     "exception": false,
     "start_time": "2022-05-11T01:23:19.547919",
     "status": "completed"
    },
    "tags": []
   },
   "source": [
    "## Year to become unicorn company"
   ]
  },
  {
   "cell_type": "markdown",
   "id": "0739a968",
   "metadata": {
    "papermill": {
     "duration": 0.062501,
     "end_time": "2022-05-11T01:23:19.735574",
     "exception": false,
     "start_time": "2022-05-11T01:23:19.673073",
     "status": "completed"
    },
    "tags": []
   },
   "source": [
    "<p style=\"font-size:1.25rem\">\n",
    "Since we know the year that company founded and year that company become unicorn, we can find number of year that the company use to become the unicorn.\n",
    "</p>"
   ]
  },
  {
   "cell_type": "code",
   "execution_count": 18,
   "id": "5aee2910",
   "metadata": {
    "execution": {
     "iopub.execute_input": "2022-05-11T01:23:19.863137Z",
     "iopub.status.busy": "2022-05-11T01:23:19.862458Z",
     "iopub.status.idle": "2022-05-11T01:23:19.870850Z",
     "shell.execute_reply": "2022-05-11T01:23:19.869500Z"
    },
    "papermill": {
     "duration": 0.075524,
     "end_time": "2022-05-11T01:23:19.873740",
     "exception": false,
     "start_time": "2022-05-11T01:23:19.798216",
     "status": "completed"
    },
    "tags": []
   },
   "outputs": [],
   "source": [
    "df[\"Year to Unicorn\"] = df[\"Year Joined\"] - df[\"Founded Year\"]\n",
    "df.loc[df[\"Year to Unicorn\"] == df[\"Year Joined\"],\"Year to Unicorn\"] = 0\n",
    "df[\"Year to Unicorn\"] = df[\"Year to Unicorn\"].astype(int)"
   ]
  },
  {
   "cell_type": "markdown",
   "id": "5033e187",
   "metadata": {
    "papermill": {
     "duration": 0.063017,
     "end_time": "2022-05-11T01:23:20.000144",
     "exception": false,
     "start_time": "2022-05-11T01:23:19.937127",
     "status": "completed"
    },
    "tags": []
   },
   "source": [
    "## Explore current dataframe"
   ]
  },
  {
   "cell_type": "code",
   "execution_count": 19,
   "id": "b596e84d",
   "metadata": {
    "execution": {
     "iopub.execute_input": "2022-05-11T01:23:20.128792Z",
     "iopub.status.busy": "2022-05-11T01:23:20.128411Z",
     "iopub.status.idle": "2022-05-11T01:23:20.149142Z",
     "shell.execute_reply": "2022-05-11T01:23:20.148440Z"
    },
    "papermill": {
     "duration": 0.086691,
     "end_time": "2022-05-11T01:23:20.151052",
     "exception": false,
     "start_time": "2022-05-11T01:23:20.064361",
     "status": "completed"
    },
    "tags": []
   },
   "outputs": [
    {
     "data": {
      "text/html": [
       "<div>\n",
       "<style scoped>\n",
       "    .dataframe tbody tr th:only-of-type {\n",
       "        vertical-align: middle;\n",
       "    }\n",
       "\n",
       "    .dataframe tbody tr th {\n",
       "        vertical-align: top;\n",
       "    }\n",
       "\n",
       "    .dataframe thead th {\n",
       "        text-align: right;\n",
       "    }\n",
       "</style>\n",
       "<table border=\"1\" class=\"dataframe\">\n",
       "  <thead>\n",
       "    <tr style=\"text-align: right;\">\n",
       "      <th></th>\n",
       "      <th>Company</th>\n",
       "      <th>Valuation ($B)</th>\n",
       "      <th>Date Joined</th>\n",
       "      <th>Country</th>\n",
       "      <th>City</th>\n",
       "      <th>Industry</th>\n",
       "      <th>Select Inverstors</th>\n",
       "      <th>Founded Year</th>\n",
       "      <th>Total Raised</th>\n",
       "      <th>Investors Count</th>\n",
       "      <th>Year Joined</th>\n",
       "      <th>Year to Unicorn</th>\n",
       "    </tr>\n",
       "  </thead>\n",
       "  <tbody>\n",
       "    <tr>\n",
       "      <th>0</th>\n",
       "      <td>Bytedance</td>\n",
       "      <td>140.0</td>\n",
       "      <td>2017-04-07</td>\n",
       "      <td>China</td>\n",
       "      <td>Beijing</td>\n",
       "      <td>ARTIFICIAL INTELLIGENCE</td>\n",
       "      <td>Sequoia Capital China, SIG Asia Investments, S...</td>\n",
       "      <td>2012</td>\n",
       "      <td>7.440000e+09</td>\n",
       "      <td>28</td>\n",
       "      <td>2017</td>\n",
       "      <td>5</td>\n",
       "    </tr>\n",
       "    <tr>\n",
       "      <th>1</th>\n",
       "      <td>SpaceX</td>\n",
       "      <td>100.3</td>\n",
       "      <td>2012-12-01</td>\n",
       "      <td>United States</td>\n",
       "      <td>Hawthorne</td>\n",
       "      <td>OTHER</td>\n",
       "      <td>Founders Fund, Draper Fisher Jurvetson, Rothen...</td>\n",
       "      <td>2002</td>\n",
       "      <td>6.874000e+09</td>\n",
       "      <td>29</td>\n",
       "      <td>2012</td>\n",
       "      <td>10</td>\n",
       "    </tr>\n",
       "    <tr>\n",
       "      <th>2</th>\n",
       "      <td>Stripe</td>\n",
       "      <td>95.0</td>\n",
       "      <td>2014-01-23</td>\n",
       "      <td>United States</td>\n",
       "      <td>San Francisco</td>\n",
       "      <td>FINTECH</td>\n",
       "      <td>Khosla Ventures, LowercaseCapital, capitalG</td>\n",
       "      <td>2010</td>\n",
       "      <td>2.901000e+09</td>\n",
       "      <td>39</td>\n",
       "      <td>2014</td>\n",
       "      <td>4</td>\n",
       "    </tr>\n",
       "    <tr>\n",
       "      <th>3</th>\n",
       "      <td>Klarna</td>\n",
       "      <td>45.6</td>\n",
       "      <td>2011-12-12</td>\n",
       "      <td>Sweden</td>\n",
       "      <td>Stockholm</td>\n",
       "      <td>FINTECH</td>\n",
       "      <td>Institutional Venture Partners, Sequoia Capita...</td>\n",
       "      <td>2005</td>\n",
       "      <td>3.472000e+09</td>\n",
       "      <td>56</td>\n",
       "      <td>2011</td>\n",
       "      <td>6</td>\n",
       "    </tr>\n",
       "    <tr>\n",
       "      <th>4</th>\n",
       "      <td>Epic Games</td>\n",
       "      <td>42.0</td>\n",
       "      <td>2018-10-26</td>\n",
       "      <td>United States</td>\n",
       "      <td>Cary</td>\n",
       "      <td>OTHER</td>\n",
       "      <td>Tencent Holdings, KKR, Smash Ventures</td>\n",
       "      <td>1991</td>\n",
       "      <td>4.377000e+09</td>\n",
       "      <td>25</td>\n",
       "      <td>2018</td>\n",
       "      <td>27</td>\n",
       "    </tr>\n",
       "  </tbody>\n",
       "</table>\n",
       "</div>"
      ],
      "text/plain": [
       "      Company  Valuation ($B) Date Joined        Country           City  \\\n",
       "0   Bytedance           140.0  2017-04-07          China        Beijing   \n",
       "1      SpaceX           100.3  2012-12-01  United States      Hawthorne   \n",
       "2      Stripe            95.0  2014-01-23  United States  San Francisco   \n",
       "3      Klarna            45.6  2011-12-12         Sweden      Stockholm   \n",
       "4  Epic Games            42.0  2018-10-26  United States           Cary   \n",
       "\n",
       "                  Industry                                  Select Inverstors  \\\n",
       "0  ARTIFICIAL INTELLIGENCE  Sequoia Capital China, SIG Asia Investments, S...   \n",
       "1                    OTHER  Founders Fund, Draper Fisher Jurvetson, Rothen...   \n",
       "2                  FINTECH        Khosla Ventures, LowercaseCapital, capitalG   \n",
       "3                  FINTECH  Institutional Venture Partners, Sequoia Capita...   \n",
       "4                    OTHER              Tencent Holdings, KKR, Smash Ventures   \n",
       "\n",
       "   Founded Year  Total Raised  Investors Count  Year Joined  Year to Unicorn  \n",
       "0          2012  7.440000e+09               28         2017                5  \n",
       "1          2002  6.874000e+09               29         2012               10  \n",
       "2          2010  2.901000e+09               39         2014                4  \n",
       "3          2005  3.472000e+09               56         2011                6  \n",
       "4          1991  4.377000e+09               25         2018               27  "
      ]
     },
     "execution_count": 19,
     "metadata": {},
     "output_type": "execute_result"
    }
   ],
   "source": [
    "df.head()"
   ]
  },
  {
   "cell_type": "code",
   "execution_count": 20,
   "id": "bef25d28",
   "metadata": {
    "execution": {
     "iopub.execute_input": "2022-05-11T01:23:20.281384Z",
     "iopub.status.busy": "2022-05-11T01:23:20.280960Z",
     "iopub.status.idle": "2022-05-11T01:23:20.300967Z",
     "shell.execute_reply": "2022-05-11T01:23:20.299809Z"
    },
    "papermill": {
     "duration": 0.087738,
     "end_time": "2022-05-11T01:23:20.303785",
     "exception": false,
     "start_time": "2022-05-11T01:23:20.216047",
     "status": "completed"
    },
    "tags": []
   },
   "outputs": [
    {
     "name": "stdout",
     "output_type": "stream",
     "text": [
      "<class 'pandas.core.frame.DataFrame'>\n",
      "RangeIndex: 1037 entries, 0 to 1036\n",
      "Data columns (total 12 columns):\n",
      " #   Column             Non-Null Count  Dtype         \n",
      "---  ------             --------------  -----         \n",
      " 0   Company            1037 non-null   object        \n",
      " 1   Valuation ($B)     1037 non-null   float64       \n",
      " 2   Date Joined        1037 non-null   datetime64[ns]\n",
      " 3   Country            1037 non-null   category      \n",
      " 4   City               1037 non-null   category      \n",
      " 5   Industry           1037 non-null   category      \n",
      " 6   Select Inverstors  1037 non-null   object        \n",
      " 7   Founded Year       1037 non-null   int64         \n",
      " 8   Total Raised       1037 non-null   float64       \n",
      " 9   Investors Count    1037 non-null   int64         \n",
      " 10  Year Joined        1037 non-null   int64         \n",
      " 11  Year to Unicorn    1037 non-null   int64         \n",
      "dtypes: category(3), datetime64[ns](1), float64(2), int64(4), object(2)\n",
      "memory usage: 89.9+ KB\n"
     ]
    }
   ],
   "source": [
    "df.info()"
   ]
  },
  {
   "cell_type": "code",
   "execution_count": 21,
   "id": "20c4941c",
   "metadata": {
    "execution": {
     "iopub.execute_input": "2022-05-11T01:23:20.435649Z",
     "iopub.status.busy": "2022-05-11T01:23:20.435134Z",
     "iopub.status.idle": "2022-05-11T01:23:20.468521Z",
     "shell.execute_reply": "2022-05-11T01:23:20.467383Z"
    },
    "papermill": {
     "duration": 0.102888,
     "end_time": "2022-05-11T01:23:20.471041",
     "exception": false,
     "start_time": "2022-05-11T01:23:20.368153",
     "status": "completed"
    },
    "tags": []
   },
   "outputs": [
    {
     "data": {
      "text/html": [
       "<div>\n",
       "<style scoped>\n",
       "    .dataframe tbody tr th:only-of-type {\n",
       "        vertical-align: middle;\n",
       "    }\n",
       "\n",
       "    .dataframe tbody tr th {\n",
       "        vertical-align: top;\n",
       "    }\n",
       "\n",
       "    .dataframe thead th {\n",
       "        text-align: right;\n",
       "    }\n",
       "</style>\n",
       "<table border=\"1\" class=\"dataframe\">\n",
       "  <thead>\n",
       "    <tr style=\"text-align: right;\">\n",
       "      <th></th>\n",
       "      <th>Valuation ($B)</th>\n",
       "      <th>Founded Year</th>\n",
       "      <th>Total Raised</th>\n",
       "      <th>Investors Count</th>\n",
       "      <th>Year Joined</th>\n",
       "      <th>Year to Unicorn</th>\n",
       "    </tr>\n",
       "  </thead>\n",
       "  <tbody>\n",
       "    <tr>\n",
       "      <th>count</th>\n",
       "      <td>1037.000000</td>\n",
       "      <td>1037.000000</td>\n",
       "      <td>1.037000e+03</td>\n",
       "      <td>1037.000000</td>\n",
       "      <td>1037.000000</td>\n",
       "      <td>1037.000000</td>\n",
       "    </tr>\n",
       "    <tr>\n",
       "      <th>mean</th>\n",
       "      <td>3.292083</td>\n",
       "      <td>1929.251688</td>\n",
       "      <td>5.624418e+08</td>\n",
       "      <td>14.418515</td>\n",
       "      <td>2019.820636</td>\n",
       "      <td>6.828351</td>\n",
       "    </tr>\n",
       "    <tr>\n",
       "      <th>std</th>\n",
       "      <td>7.309781</td>\n",
       "      <td>401.499520</td>\n",
       "      <td>7.326493e+08</td>\n",
       "      <td>9.951832</td>\n",
       "      <td>1.999189</td>\n",
       "      <td>5.607449</td>\n",
       "    </tr>\n",
       "    <tr>\n",
       "      <th>min</th>\n",
       "      <td>1.000000</td>\n",
       "      <td>0.000000</td>\n",
       "      <td>0.000000e+00</td>\n",
       "      <td>0.000000</td>\n",
       "      <td>2007.000000</td>\n",
       "      <td>-4.000000</td>\n",
       "    </tr>\n",
       "    <tr>\n",
       "      <th>25%</th>\n",
       "      <td>1.080000</td>\n",
       "      <td>2011.000000</td>\n",
       "      <td>2.173000e+08</td>\n",
       "      <td>8.000000</td>\n",
       "      <td>2019.000000</td>\n",
       "      <td>4.000000</td>\n",
       "    </tr>\n",
       "    <tr>\n",
       "      <th>50%</th>\n",
       "      <td>1.600000</td>\n",
       "      <td>2014.000000</td>\n",
       "      <td>3.686000e+08</td>\n",
       "      <td>13.000000</td>\n",
       "      <td>2021.000000</td>\n",
       "      <td>6.000000</td>\n",
       "    </tr>\n",
       "    <tr>\n",
       "      <th>75%</th>\n",
       "      <td>3.100000</td>\n",
       "      <td>2016.000000</td>\n",
       "      <td>6.283000e+08</td>\n",
       "      <td>19.000000</td>\n",
       "      <td>2021.000000</td>\n",
       "      <td>8.000000</td>\n",
       "    </tr>\n",
       "    <tr>\n",
       "      <th>max</th>\n",
       "      <td>140.000000</td>\n",
       "      <td>2021.000000</td>\n",
       "      <td>7.440000e+09</td>\n",
       "      <td>91.000000</td>\n",
       "      <td>2022.000000</td>\n",
       "      <td>98.000000</td>\n",
       "    </tr>\n",
       "  </tbody>\n",
       "</table>\n",
       "</div>"
      ],
      "text/plain": [
       "       Valuation ($B)  Founded Year  Total Raised  Investors Count  \\\n",
       "count     1037.000000   1037.000000  1.037000e+03      1037.000000   \n",
       "mean         3.292083   1929.251688  5.624418e+08        14.418515   \n",
       "std          7.309781    401.499520  7.326493e+08         9.951832   \n",
       "min          1.000000      0.000000  0.000000e+00         0.000000   \n",
       "25%          1.080000   2011.000000  2.173000e+08         8.000000   \n",
       "50%          1.600000   2014.000000  3.686000e+08        13.000000   \n",
       "75%          3.100000   2016.000000  6.283000e+08        19.000000   \n",
       "max        140.000000   2021.000000  7.440000e+09        91.000000   \n",
       "\n",
       "       Year Joined  Year to Unicorn  \n",
       "count  1037.000000      1037.000000  \n",
       "mean   2019.820636         6.828351  \n",
       "std       1.999189         5.607449  \n",
       "min    2007.000000        -4.000000  \n",
       "25%    2019.000000         4.000000  \n",
       "50%    2021.000000         6.000000  \n",
       "75%    2021.000000         8.000000  \n",
       "max    2022.000000        98.000000  "
      ]
     },
     "execution_count": 21,
     "metadata": {},
     "output_type": "execute_result"
    }
   ],
   "source": [
    "df.describe()"
   ]
  },
  {
   "cell_type": "markdown",
   "id": "05673dba",
   "metadata": {
    "papermill": {
     "duration": 0.063682,
     "end_time": "2022-05-11T01:23:20.599308",
     "exception": false,
     "start_time": "2022-05-11T01:23:20.535626",
     "status": "completed"
    },
    "tags": []
   },
   "source": [
    "# Visualize the data"
   ]
  },
  {
   "cell_type": "markdown",
   "id": "859246b4",
   "metadata": {
    "papermill": {
     "duration": 0.063087,
     "end_time": "2022-05-11T01:23:20.725670",
     "exception": false,
     "start_time": "2022-05-11T01:23:20.662583",
     "status": "completed"
    },
    "tags": []
   },
   "source": [
    "## Distribution of valuation in unicorn companies"
   ]
  },
  {
   "cell_type": "code",
   "execution_count": 22,
   "id": "2f66924e",
   "metadata": {
    "execution": {
     "iopub.execute_input": "2022-05-11T01:23:20.856304Z",
     "iopub.status.busy": "2022-05-11T01:23:20.855909Z",
     "iopub.status.idle": "2022-05-11T01:23:21.079755Z",
     "shell.execute_reply": "2022-05-11T01:23:21.078676Z"
    },
    "papermill": {
     "duration": 0.292983,
     "end_time": "2022-05-11T01:23:21.082667",
     "exception": false,
     "start_time": "2022-05-11T01:23:20.789684",
     "status": "completed"
    },
    "tags": []
   },
   "outputs": [
    {
     "data": {
      "image/png": "[encoded data removed]",
      "text/plain": [
       "<Figure size 432x288 with 1 Axes>"
      ]
     },
     "metadata": {
      "needs_background": "light"
     },
     "output_type": "display_data"
    }
   ],
   "source": [
    "ax = plt.subplot()\n",
    "plt.boxplot(df[\"Valuation ($B)\"])\n",
    "plt.yscale('log', base=2)\n",
    "plt.xlabel(\"Valuation ($B) Column\",fontsize=14)\n",
    "plt.ylabel(\"Value in Billion dollars\",fontsize=14)\n",
    "plt.title(\"Distribution of valuation in unicorn companies\",fontsize=20)\n",
    "ax.yaxis.set_major_formatter(mpl.ticker.FormatStrFormatter(\"%d\"))"
   ]
  },
  {
   "cell_type": "markdown",
   "id": "7eb1b07a",
   "metadata": {
    "papermill": {
     "duration": 0.066243,
     "end_time": "2022-05-11T01:23:21.216915",
     "exception": false,
     "start_time": "2022-05-11T01:23:21.150672",
     "status": "completed"
    },
    "tags": []
   },
   "source": [
    "<p style=\"font-size:1.25rem\">\n",
    "The distribution of valuation in unicorn companies graph shows that most valuation of company landed about 1.5 - 3 billion dollar. In addition, the high valuation companies clearly different from normal unicorn companies.\n",
    "</p>"
   ]
  },
  {
   "cell_type": "markdown",
   "id": "c2a20984",
   "metadata": {
    "papermill": {
     "duration": 0.066174,
     "end_time": "2022-05-11T01:23:21.349048",
     "exception": false,
     "start_time": "2022-05-11T01:23:21.282874",
     "status": "completed"
    },
    "tags": []
   },
   "source": [
    "## Distribution of year to become unicorn companies"
   ]
  },
  {
   "cell_type": "code",
   "execution_count": 23,
   "id": "b355b303",
   "metadata": {
    "execution": {
     "iopub.execute_input": "2022-05-11T01:23:21.480861Z",
     "iopub.status.busy": "2022-05-11T01:23:21.480336Z",
     "iopub.status.idle": "2022-05-11T01:23:21.690432Z",
     "shell.execute_reply": "2022-05-11T01:23:21.689393Z"
    },
    "papermill": {
     "duration": 0.279439,
     "end_time": "2022-05-11T01:23:21.692894",
     "exception": false,
     "start_time": "2022-05-11T01:23:21.413455",
     "status": "completed"
    },
    "tags": []
   },
   "outputs": [
    {
     "data": {
      "image/png": "[encoded data removed]",
      "text/plain": [
       "<Figure size 432x288 with 1 Axes>"
      ]
     },
     "metadata": {
      "needs_background": "light"
     },
     "output_type": "display_data"
    }
   ],
   "source": [
    "ax = plt.subplot()\n",
    "sns.boxplot(y=df.loc[df[\"Year to Unicorn\"] > 0,\"Year to Unicorn\"],palette=\"Set2\")\n",
    "plt.yscale('log', base=2)\n",
    "plt.xlabel(\"Year to Unicorn Column\",fontsize=14)\n",
    "plt.ylabel(\"Year\",fontsize=14)\n",
    "plt.title(\"Distribution of year to unicorn of companies\",fontsize=20)\n",
    "ax.yaxis.set_major_formatter(mpl.ticker.FormatStrFormatter(\"%d\"))"
   ]
  },
  {
   "cell_type": "markdown",
   "id": "f122a05b",
   "metadata": {
    "papermill": {
     "duration": 0.065716,
     "end_time": "2022-05-11T01:23:21.825346",
     "exception": false,
     "start_time": "2022-05-11T01:23:21.759630",
     "status": "completed"
    },
    "tags": []
   },
   "source": [
    "<p style=\"font-size:1.25rem\">\n",
    "The distribution of years to become unicorn companies graph shows that most companies use 4 - 12 years to become the unicorn companies. In addition, there are some companies that take more than 16 years to become unicorns and the most one is up to 98 years.\n",
    "</p>"
   ]
  },
  {
   "cell_type": "code",
   "execution_count": 24,
   "id": "6ceac0ab",
   "metadata": {
    "execution": {
     "iopub.execute_input": "2022-05-11T01:23:21.971700Z",
     "iopub.status.busy": "2022-05-11T01:23:21.971334Z",
     "iopub.status.idle": "2022-05-11T01:23:21.976992Z",
     "shell.execute_reply": "2022-05-11T01:23:21.976065Z"
    },
    "papermill": {
     "duration": 0.089241,
     "end_time": "2022-05-11T01:23:21.980186",
     "exception": false,
     "start_time": "2022-05-11T01:23:21.890945",
     "status": "completed"
    },
    "tags": []
   },
   "outputs": [
    {
     "name": "stdout",
     "output_type": "stream",
     "text": [
      "Most year: 98\n"
     ]
    }
   ],
   "source": [
    "print(\"Most year:\", max(df[\"Year to Unicorn\"]))"
   ]
  },
  {
   "cell_type": "markdown",
   "id": "d73b8435",
   "metadata": {
    "papermill": {
     "duration": 0.066155,
     "end_time": "2022-05-11T01:23:22.113005",
     "exception": false,
     "start_time": "2022-05-11T01:23:22.046850",
     "status": "completed"
    },
    "tags": []
   },
   "source": [
    "## Top 10 most valuation unicorn companies"
   ]
  },
  {
   "cell_type": "code",
   "execution_count": 25,
   "id": "276b688d",
   "metadata": {
    "execution": {
     "iopub.execute_input": "2022-05-11T01:23:22.252694Z",
     "iopub.status.busy": "2022-05-11T01:23:22.252341Z",
     "iopub.status.idle": "2022-05-11T01:23:23.513275Z",
     "shell.execute_reply": "2022-05-11T01:23:23.512073Z"
    },
    "papermill": {
     "duration": 1.331342,
     "end_time": "2022-05-11T01:23:23.515995",
     "exception": false,
     "start_time": "2022-05-11T01:23:22.184653",
     "status": "completed"
    },
    "tags": []
   },
   "outputs": [
    {
     "data": {
      "application/vnd.plotly.v1+json": {
       "config": {
        "linkText": "Export to plot.ly",
        "plotlyServerURL": "https://plot.ly",
        "showLink": false
       },
       "data": [
        {
         "alignmentgroup": "True",
         "hovertemplate": "Company=%{x}<br>Valuation ($B)=%{y}<extra></extra>",
         "legendgroup": "Bytedance",
         "marker": {
          "color": "rgb(102, 197, 204)",
          "pattern": {
           "shape": ""
          }
         },
         "name": "Bytedance",
         "offsetgroup": "Bytedance",
         "orientation": "v",
         "showlegend": true,
         "textposition": "auto",
         "type": "bar",
         "x": [
          "Bytedance"
         ],
         "xaxis": "x",
         "y": [
          140
         ],
         "yaxis": "y"
        },
        {
         "alignmentgroup": "True",
         "hovertemplate": "Company=%{x}<br>Valuation ($B)=%{y}<extra></extra>",
         "legendgroup": "SpaceX",
         "marker": {
          "color": "rgb(246, 207, 113)",
          "pattern": {
           "shape": ""
          }
         },
         "name": "SpaceX",
         "offsetgroup": "SpaceX",
         "orientation": "v",
         "showlegend": true,
         "textposition": "auto",
         "type": "bar",
         "x": [
          "SpaceX"
         ],
         "xaxis": "x",
         "y": [
          100.3
         ],
         "yaxis": "y"
        },
        {
         "alignmentgroup": "True",
         "hovertemplate": "Company=%{x}<br>Valuation ($B)=%{y}<extra></extra>",
         "legendgroup": "Stripe",
         "marker": {
          "color": "rgb(248, 156, 116)",
          "pattern": {
           "shape": ""
          }
         },
         "name": "Stripe",
         "offsetgroup": "Stripe",
         "orientation": "v",
         "showlegend": true,
         "textposition": "auto",
         "type": "bar",
         "x": [
          "Stripe"
         ],
         "xaxis": "x",
         "y": [
          95
         ],
         "yaxis": "y"
        },
        {
         "alignmentgroup": "True",
         "hovertemplate": "Company=%{x}<br>Valuation ($B)=%{y}<extra></extra>",
         "legendgroup": "Klarna",
         "marker": {
          "color": "rgb(220, 176, 242)",
          "pattern": {
           "shape": ""
          }
         },
         "name": "Klarna",
         "offsetgroup": "Klarna",
         "orientation": "v",
         "showlegend": true,
         "textposition": "auto",
         "type": "bar",
         "x": [
          "Klarna"
         ],
         "xaxis": "x",
         "y": [
          45.6
         ],
         "yaxis": "y"
        },
        {
         "alignmentgroup": "True",
         "hovertemplate": "Company=%{x}<br>Valuation ($B)=%{y}<extra></extra>",
         "legendgroup": "Epic Games",
         "marker": {
          "color": "rgb(135, 197, 95)",
          "pattern": {
           "shape": ""
          }
         },
         "name": "Epic Games",
         "offsetgroup": "Epic Games",
         "orientation": "v",
         "showlegend": true,
         "textposition": "auto",
         "type": "bar",
         "x": [
          "Epic Games"
         ],
         "xaxis": "x",
         "y": [
          42
         ],
         "yaxis": "y"
        },
        {
         "alignmentgroup": "True",
         "hovertemplate": "Company=%{x}<br>Valuation ($B)=%{y}<extra></extra>",
         "legendgroup": "Canva",
         "marker": {
          "color": "rgb(158, 185, 243)",
          "pattern": {
           "shape": ""
          }
         },
         "name": "Canva",
         "offsetgroup": "Canva",
         "orientation": "v",
         "showlegend": true,
         "textposition": "auto",
         "type": "bar",
         "x": [
          "Canva"
         ],
         "xaxis": "x",
         "y": [
          40
         ],
         "yaxis": "y"
        },
        {
         "alignmentgroup": "True",
         "hovertemplate": "Company=%{x}<br>Valuation ($B)=%{y}<extra></extra>",
         "legendgroup": "Checkout.com",
         "marker": {
          "color": "rgb(254, 136, 177)",
          "pattern": {
           "shape": ""
          }
         },
         "name": "Checkout.com",
         "offsetgroup": "Checkout.com",
         "orientation": "v",
         "showlegend": true,
         "textposition": "auto",
         "type": "bar",
         "x": [
          "Checkout.com"
         ],
         "xaxis": "x",
         "y": [
          40
         ],
         "yaxis": "y"
        },
        {
         "alignmentgroup": "True",
         "hovertemplate": "Company=%{x}<br>Valuation ($B)=%{y}<extra></extra>",
         "legendgroup": "Instacart",
         "marker": {
          "color": "rgb(201, 219, 116)",
          "pattern": {
           "shape": ""
          }
         },
         "name": "Instacart",
         "offsetgroup": "Instacart",
         "orientation": "v",
         "showlegend": true,
         "textposition": "auto",
         "type": "bar",
         "x": [
          "Instacart"
         ],
         "xaxis": "x",
         "y": [
          39
         ],
         "yaxis": "y"
        },
        {
         "alignmentgroup": "True",
         "hovertemplate": "Company=%{x}<br>Valuation ($B)=%{y}<extra></extra>",
         "legendgroup": "Databricks",
         "marker": {
          "color": "rgb(139, 224, 164)",
          "pattern": {
           "shape": ""
          }
         },
         "name": "Databricks",
         "offsetgroup": "Databricks",
         "orientation": "v",
         "showlegend": true,
         "textposition": "auto",
         "type": "bar",
         "x": [
          "Databricks"
         ],
         "xaxis": "x",
         "y": [
          38
         ],
         "yaxis": "y"
        },
        {
         "alignmentgroup": "True",
         "hovertemplate": "Company=%{x}<br>Valuation ($B)=%{y}<extra></extra>",
         "legendgroup": "Revolut",
         "marker": {
          "color": "rgb(180, 151, 231)",
          "pattern": {
           "shape": ""
          }
         },
         "name": "Revolut",
         "offsetgroup": "Revolut",
         "orientation": "v",
         "showlegend": true,
         "textposition": "auto",
         "type": "bar",
         "x": [
          "Revolut"
         ],
         "xaxis": "x",
         "y": [
          33
         ],
         "yaxis": "y"
        }
       ],
       "layout": {
        "barmode": "relative",
        "legend": {
         "title": {
          "text": "Company"
         },
         "tracegroupgap": 0
        },
        "template": {
         "data": {
          "bar": [
           {
            "error_x": {
             "color": "#2a3f5f"
            },
            "error_y": {
             "color": "#2a3f5f"
            },
            "marker": {
             "line": {
              "color": "#E5ECF6",
              "width": 0.5
             },
             "pattern": {
              "fillmode": "overlay",
              "size": 10,
              "solidity": 0.2
             }
            },
            "type": "bar"
           }
          ],
          "barpolar": [
           {
            "marker": {
             "line": {
              "color": "#E5ECF6",
              "width": 0.5
             },
             "pattern": {
              "fillmode": "overlay",
              "size": 10,
              "solidity": 0.2
             }
            },
            "type": "barpolar"
           }
          ],
          "carpet": [
           {
            "aaxis": {
             "endlinecolor": "#2a3f5f",
             "gridcolor": "white",
             "linecolor": "white",
             "minorgridcolor": "white",
             "startlinecolor": "#2a3f5f"
            },
            "baxis": {
             "endlinecolor": "#2a3f5f",
             "gridcolor": "white",
             "linecolor": "white",
             "minorgridcolor": "white",
             "startlinecolor": "#2a3f5f"
            },
            "type": "carpet"
           }
          ],
          "choropleth": [
           {
            "colorbar": {
             "outlinewidth": 0,
             "ticks": ""
            },
            "type": "choropleth"
           }
          ],
          "contour": [
           {
            "colorbar": {
             "outlinewidth": 0,
             "ticks": ""
            },
            "colorscale": [
             [
              0,
              "#0d0887"
             ],
             [
              0.1111111111111111,
              "#46039f"
             ],
             [
              0.2222222222222222,
              "#7201a8"
             ],
             [
              0.3333333333333333,
              "#9c179e"
             ],
             [
              0.4444444444444444,
              "#bd3786"
             ],
             [
              0.5555555555555556,
              "#d8576b"
             ],
             [
              0.6666666666666666,
              "#ed7953"
             ],
             [
              0.7777777777777778,
              "#fb9f3a"
             ],
             [
              0.8888888888888888,
              "#fdca26"
             ],
             [
              1,
              "#f0f921"
             ]
            ],
            "type": "contour"
           }
          ],
          "contourcarpet": [
           {
            "colorbar": {
             "outlinewidth": 0,
             "ticks": ""
            },
            "type": "contourcarpet"
           }
          ],
          "heatmap": [
           {
            "colorbar": {
             "outlinewidth": 0,
             "ticks": ""
            },
            "colorscale": [
             [
              0,
              "#0d0887"
             ],
             [
              0.1111111111111111,
              "#46039f"
             ],
             [
              0.2222222222222222,
              "#7201a8"
             ],
             [
              0.3333333333333333,
              "#9c179e"
             ],
             [
              0.4444444444444444,
              "#bd3786"
             ],
             [
              0.5555555555555556,
              "#d8576b"
             ],
             [
              0.6666666666666666,
              "#ed7953"
             ],
             [
              0.7777777777777778,
              "#fb9f3a"
             ],
             [
              0.8888888888888888,
              "#fdca26"
             ],
             [
              1,
              "#f0f921"
             ]
            ],
            "type": "heatmap"
           }
          ],
          "heatmapgl": [
           {
            "colorbar": {
             "outlinewidth": 0,
             "ticks": ""
            },
            "colorscale": [
             [
              0,
              "#0d0887"
             ],
             [
              0.1111111111111111,
              "#46039f"
             ],
             [
              0.2222222222222222,
              "#7201a8"
             ],
             [
              0.3333333333333333,
              "#9c179e"
             ],
             [
              0.4444444444444444,
              "#bd3786"
             ],
             [
              0.5555555555555556,
              "#d8576b"
             ],
             [
              0.6666666666666666,
              "#ed7953"
             ],
             [
              0.7777777777777778,
              "#fb9f3a"
             ],
             [
              0.8888888888888888,
              "#fdca26"
             ],
             [
              1,
              "#f0f921"
             ]
            ],
            "type": "heatmapgl"
           }
          ],
          "histogram": [
           {
            "marker": {
             "pattern": {
              "fillmode": "overlay",
              "size": 10,
              "solidity": 0.2
             }
            },
            "type": "histogram"
           }
          ],
          "histogram2d": [
           {
            "colorbar": {
             "outlinewidth": 0,
             "ticks": ""
            },
            "colorscale": [
             [
              0,
              "#0d0887"
             ],
             [
              0.1111111111111111,
              "#46039f"
             ],
             [
              0.2222222222222222,
              "#7201a8"
             ],
             [
              0.3333333333333333,
              "#9c179e"
             ],
             [
              0.4444444444444444,
              "#bd3786"
             ],
             [
              0.5555555555555556,
              "#d8576b"
             ],
             [
              0.6666666666666666,
              "#ed7953"
             ],
             [
              0.7777777777777778,
              "#fb9f3a"
             ],
             [
              0.8888888888888888,
              "#fdca26"
             ],
             [
              1,
              "#f0f921"
             ]
            ],
            "type": "histogram2d"
           }
          ],
          "histogram2dcontour": [
           {
            "colorbar": {
             "outlinewidth": 0,
             "ticks": ""
            },
            "colorscale": [
             [
              0,
              "#0d0887"
             ],
             [
              0.1111111111111111,
              "#46039f"
             ],
             [
              0.2222222222222222,
              "#7201a8"
             ],
             [
              0.3333333333333333,
              "#9c179e"
             ],
             [
              0.4444444444444444,
              "#bd3786"
             ],
             [
              0.5555555555555556,
              "#d8576b"
             ],
             [
              0.6666666666666666,
              "#ed7953"
             ],
             [
              0.7777777777777778,
              "#fb9f3a"
             ],
             [
              0.8888888888888888,
              "#fdca26"
             ],
             [
              1,
              "#f0f921"
             ]
            ],
            "type": "histogram2dcontour"
           }
          ],
          "mesh3d": [
           {
            "colorbar": {
             "outlinewidth": 0,
             "ticks": ""
            },
            "type": "mesh3d"
           }
          ],
          "parcoords": [
           {
            "line": {
             "colorbar": {
              "outlinewidth": 0,
              "ticks": ""
             }
            },
            "type": "parcoords"
           }
          ],
          "pie": [
           {
            "automargin": true,
            "type": "pie"
           }
          ],
          "scatter": [
           {
            "fillpattern": {
             "fillmode": "overlay",
             "size": 10,
             "solidity": 0.2
            },
            "type": "scatter"
           }
          ],
          "scatter3d": [
           {
            "line": {
             "colorbar": {
              "outlinewidth": 0,
              "ticks": ""
             }
            },
            "marker": {
             "colorbar": {
              "outlinewidth": 0,
              "ticks": ""
             }
            },
            "type": "scatter3d"
           }
          ],
          "scattercarpet": [
           {
            "marker": {
             "colorbar": {
              "outlinewidth": 0,
              "ticks": ""
             }
            },
            "type": "scattercarpet"
           }
          ],
          "scattergeo": [
           {
            "marker": {
             "colorbar": {
              "outlinewidth": 0,
              "ticks": ""
             }
            },
            "type": "scattergeo"
           }
          ],
          "scattergl": [
           {
            "marker": {
             "colorbar": {
              "outlinewidth": 0,
              "ticks": ""
             }
            },
            "type": "scattergl"
           }
          ],
          "scattermapbox": [
           {
            "marker": {
             "colorbar": {
              "outlinewidth": 0,
              "ticks": ""
             }
            },
            "type": "scattermapbox"
           }
          ],
          "scatterpolar": [
           {
            "marker": {
             "colorbar": {
              "outlinewidth": 0,
              "ticks": ""
             }
            },
            "type": "scatterpolar"
           }
          ],
          "scatterpolargl": [
           {
            "marker": {
             "colorbar": {
              "outlinewidth": 0,
              "ticks": ""
             }
            },
            "type": "scatterpolargl"
           }
          ],
          "scatterternary": [
           {
            "marker": {
             "colorbar": {
              "outlinewidth": 0,
              "ticks": ""
             }
            },
            "type": "scatterternary"
           }
          ],
          "surface": [
           {
            "colorbar": {
             "outlinewidth": 0,
             "ticks": ""
            },
            "colorscale": [
             [
              0,
              "#0d0887"
             ],
             [
              0.1111111111111111,
              "#46039f"
             ],
             [
              0.2222222222222222,
              "#7201a8"
             ],
             [
              0.3333333333333333,
              "#9c179e"
             ],
             [
              0.4444444444444444,
              "#bd3786"
             ],
             [
              0.5555555555555556,
              "#d8576b"
             ],
             [
              0.6666666666666666,
              "#ed7953"
             ],
             [
              0.7777777777777778,
              "#fb9f3a"
             ],
             [
              0.8888888888888888,
              "#fdca26"
             ],
             [
              1,
              "#f0f921"
             ]
            ],
            "type": "surface"
           }
          ],
          "table": [
           {
            "cells": {
             "fill": {
              "color": "#EBF0F8"
             },
             "line": {
              "color": "white"
             }
            },
            "header": {
             "fill": {
              "color": "#C8D4E3"
             },
             "line": {
              "color": "white"
             }
            },
            "type": "table"
           }
          ]
         },
         "layout": {
          "annotationdefaults": {
           "arrowcolor": "#2a3f5f",
           "arrowhead": 0,
           "arrowwidth": 1
          },
          "autotypenumbers": "strict",
          "coloraxis": {
           "colorbar": {
            "outlinewidth": 0,
            "ticks": ""
           }
          },
          "colorscale": {
           "diverging": [
            [
             0,
             "#8e0152"
            ],
            [
             0.1,
             "#c51b7d"
            ],
            [
             0.2,
             "#de77ae"
            ],
            [
             0.3,
             "#f1b6da"
            ],
            [
             0.4,
             "#fde0ef"
            ],
            [
             0.5,
             "#f7f7f7"
            ],
            [
             0.6,
             "#e6f5d0"
            ],
            [
             0.7,
             "#b8e186"
            ],
            [
             0.8,
             "#7fbc41"
            ],
            [
             0.9,
             "#4d9221"
            ],
            [
             1,
             "#276419"
            ]
           ],
           "sequential": [
            [
             0,
             "#0d0887"
            ],
            [
             0.1111111111111111,
             "#46039f"
            ],
            [
             0.2222222222222222,
             "#7201a8"
            ],
            [
             0.3333333333333333,
             "#9c179e"
            ],
            [
             0.4444444444444444,
             "#bd3786"
            ],
            [
             0.5555555555555556,
             "#d8576b"
            ],
            [
             0.6666666666666666,
             "#ed7953"
            ],
            [
             0.7777777777777778,
             "#fb9f3a"
            ],
            [
             0.8888888888888888,
             "#fdca26"
            ],
            [
             1,
             "#f0f921"
            ]
           ],
           "sequentialminus": [
            [
             0,
             "#0d0887"
            ],
            [
             0.1111111111111111,
             "#46039f"
            ],
            [
             0.2222222222222222,
             "#7201a8"
            ],
            [
             0.3333333333333333,
             "#9c179e"
            ],
            [
             0.4444444444444444,
             "#bd3786"
            ],
            [
             0.5555555555555556,
             "#d8576b"
            ],
            [
             0.6666666666666666,
             "#ed7953"
            ],
            [
             0.7777777777777778,
             "#fb9f3a"
            ],
            [
             0.8888888888888888,
             "#fdca26"
            ],
            [
             1,
             "#f0f921"
            ]
           ]
          },
          "colorway": [
           "#636efa",
           "#EF553B",
           "#00cc96",
           "#ab63fa",
           "#FFA15A",
           "#19d3f3",
           "#FF6692",
           "#B6E880",
           "#FF97FF",
           "#FECB52"
          ],
          "font": {
           "color": "#2a3f5f"
          },
          "geo": {
           "bgcolor": "white",
           "lakecolor": "white",
           "landcolor": "#E5ECF6",
           "showlakes": true,
           "showland": true,
           "subunitcolor": "white"
          },
          "hoverlabel": {
           "align": "left"
          },
          "hovermode": "closest",
          "mapbox": {
           "style": "light"
          },
          "paper_bgcolor": "white",
          "plot_bgcolor": "#E5ECF6",
          "polar": {
           "angularaxis": {
            "gridcolor": "white",
            "linecolor": "white",
            "ticks": ""
           },
           "bgcolor": "#E5ECF6",
           "radialaxis": {
            "gridcolor": "white",
            "linecolor": "white",
            "ticks": ""
           }
          },
          "scene": {
           "xaxis": {
            "backgroundcolor": "#E5ECF6",
            "gridcolor": "white",
            "gridwidth": 2,
            "linecolor": "white",
            "showbackground": true,
            "ticks": "",
            "zerolinecolor": "white"
           },
           "yaxis": {
            "backgroundcolor": "#E5ECF6",
            "gridcolor": "white",
            "gridwidth": 2,
            "linecolor": "white",
            "showbackground": true,
            "ticks": "",
            "zerolinecolor": "white"
           },
           "zaxis": {
            "backgroundcolor": "#E5ECF6",
            "gridcolor": "white",
            "gridwidth": 2,
            "linecolor": "white",
            "showbackground": true,
            "ticks": "",
            "zerolinecolor": "white"
           }
          },
          "shapedefaults": {
           "line": {
            "color": "#2a3f5f"
           }
          },
          "ternary": {
           "aaxis": {
            "gridcolor": "white",
            "linecolor": "white",
            "ticks": ""
           },
           "baxis": {
            "gridcolor": "white",
            "linecolor": "white",
            "ticks": ""
           },
           "bgcolor": "#E5ECF6",
           "caxis": {
            "gridcolor": "white",
            "linecolor": "white",
            "ticks": ""
           }
          },
          "title": {
           "x": 0.05
          },
          "xaxis": {
           "automargin": true,
           "gridcolor": "white",
           "linecolor": "white",
           "ticks": "",
           "title": {
            "standoff": 15
           },
           "zerolinecolor": "white",
           "zerolinewidth": 2
          },
          "yaxis": {
           "automargin": true,
           "gridcolor": "white",
           "linecolor": "white",
           "ticks": "",
           "title": {
            "standoff": 15
           },
           "zerolinecolor": "white",
           "zerolinewidth": 2
          }
         }
        },
        "title": {
         "text": "Top 10 most valuation unicorn companies"
        },
        "xaxis": {
         "anchor": "y",
         "categoryarray": [
          "Bytedance",
          "SpaceX",
          "Stripe",
          "Klarna",
          "Epic Games",
          "Canva",
          "Checkout.com",
          "Instacart",
          "Databricks",
          "Revolut"
         ],
         "categoryorder": "array",
         "domain": [
          0,
          1
         ],
         "title": {
          "text": "Company"
         }
        },
        "yaxis": {
         "anchor": "x",
         "domain": [
          0,
          1
         ],
         "title": {
          "text": "Valuation ($B)"
         }
        }
       }
      },
      "text/html": [
       "<div>                            <div id=\"256e7a88-fe35-4975-a624-69834066e8e1\" class=\"plotly-graph-div\" style=\"height:525px; width:100%;\"></div>            <script type=\"text/javascript\">                require([\"plotly\"], function(Plotly) {                    window.PLOTLYENV=window.PLOTLYENV || {};                                    if (document.getElementById(\"256e7a88-fe35-4975-a624-69834066e8e1\")) {                    Plotly.newPlot(                        \"256e7a88-fe35-4975-a624-69834066e8e1\",                        [{\"alignmentgroup\":\"True\",\"hovertemplate\":\"Company=%{x}<br>Valuation ($B)=%{y}<extra></extra>\",\"legendgroup\":\"Bytedance\",\"marker\":{\"color\":\"rgb(102, 197, 204)\",\"pattern\":{\"shape\":\"\"}},\"name\":\"Bytedance\",\"offsetgroup\":\"Bytedance\",\"orientation\":\"v\",\"showlegend\":true,\"textposition\":\"auto\",\"x\":[\"Bytedance\"],\"xaxis\":\"x\",\"y\":[140.0],\"yaxis\":\"y\",\"type\":\"bar\"},{\"alignmentgroup\":\"True\",\"hovertemplate\":\"Company=%{x}<br>Valuation ($B)=%{y}<extra></extra>\",\"legendgroup\":\"SpaceX\",\"marker\":{\"color\":\"rgb(246, 207, 113)\",\"pattern\":{\"shape\":\"\"}},\"name\":\"SpaceX\",\"offsetgroup\":\"SpaceX\",\"orientation\":\"v\",\"showlegend\":true,\"textposition\":\"auto\",\"x\":[\"SpaceX\"],\"xaxis\":\"x\",\"y\":[100.3],\"yaxis\":\"y\",\"type\":\"bar\"},{\"alignmentgroup\":\"True\",\"hovertemplate\":\"Company=%{x}<br>Valuation ($B)=%{y}<extra></extra>\",\"legendgroup\":\"Stripe\",\"marker\":{\"color\":\"rgb(248, 156, 116)\",\"pattern\":{\"shape\":\"\"}},\"name\":\"Stripe\",\"offsetgroup\":\"Stripe\",\"orientation\":\"v\",\"showlegend\":true,\"textposition\":\"auto\",\"x\":[\"Stripe\"],\"xaxis\":\"x\",\"y\":[95.0],\"yaxis\":\"y\",\"type\":\"bar\"},{\"alignmentgroup\":\"True\",\"hovertemplate\":\"Company=%{x}<br>Valuation ($B)=%{y}<extra></extra>\",\"legendgroup\":\"Klarna\",\"marker\":{\"color\":\"rgb(220, 176, 242)\",\"pattern\":{\"shape\":\"\"}},\"name\":\"Klarna\",\"offsetgroup\":\"Klarna\",\"orientation\":\"v\",\"showlegend\":true,\"textposition\":\"auto\",\"x\":[\"Klarna\"],\"xaxis\":\"x\",\"y\":[45.6],\"yaxis\":\"y\",\"type\":\"bar\"},{\"alignmentgroup\":\"True\",\"hovertemplate\":\"Company=%{x}<br>Valuation ($B)=%{y}<extra></extra>\",\"legendgroup\":\"Epic Games\",\"marker\":{\"color\":\"rgb(135, 197, 95)\",\"pattern\":{\"shape\":\"\"}},\"name\":\"Epic Games\",\"offsetgroup\":\"Epic Games\",\"orientation\":\"v\",\"showlegend\":true,\"textposition\":\"auto\",\"x\":[\"Epic Games\"],\"xaxis\":\"x\",\"y\":[42.0],\"yaxis\":\"y\",\"type\":\"bar\"},{\"alignmentgroup\":\"True\",\"hovertemplate\":\"Company=%{x}<br>Valuation ($B)=%{y}<extra></extra>\",\"legendgroup\":\"Canva\",\"marker\":{\"color\":\"rgb(158, 185, 243)\",\"pattern\":{\"shape\":\"\"}},\"name\":\"Canva\",\"offsetgroup\":\"Canva\",\"orientation\":\"v\",\"showlegend\":true,\"textposition\":\"auto\",\"x\":[\"Canva\"],\"xaxis\":\"x\",\"y\":[40.0],\"yaxis\":\"y\",\"type\":\"bar\"},{\"alignmentgroup\":\"True\",\"hovertemplate\":\"Company=%{x}<br>Valuation ($B)=%{y}<extra></extra>\",\"legendgroup\":\"Checkout.com\",\"marker\":{\"color\":\"rgb(254, 136, 177)\",\"pattern\":{\"shape\":\"\"}},\"name\":\"Checkout.com\",\"offsetgroup\":\"Checkout.com\",\"orientation\":\"v\",\"showlegend\":true,\"textposition\":\"auto\",\"x\":[\"Checkout.com\"],\"xaxis\":\"x\",\"y\":[40.0],\"yaxis\":\"y\",\"type\":\"bar\"},{\"alignmentgroup\":\"True\",\"hovertemplate\":\"Company=%{x}<br>Valuation ($B)=%{y}<extra></extra>\",\"legendgroup\":\"Instacart\",\"marker\":{\"color\":\"rgb(201, 219, 116)\",\"pattern\":{\"shape\":\"\"}},\"name\":\"Instacart\",\"offsetgroup\":\"Instacart\",\"orientation\":\"v\",\"showlegend\":true,\"textposition\":\"auto\",\"x\":[\"Instacart\"],\"xaxis\":\"x\",\"y\":[39.0],\"yaxis\":\"y\",\"type\":\"bar\"},{\"alignmentgroup\":\"True\",\"hovertemplate\":\"Company=%{x}<br>Valuation ($B)=%{y}<extra></extra>\",\"legendgroup\":\"Databricks\",\"marker\":{\"color\":\"rgb(139, 224, 164)\",\"pattern\":{\"shape\":\"\"}},\"name\":\"Databricks\",\"offsetgroup\":\"Databricks\",\"orientation\":\"v\",\"showlegend\":true,\"textposition\":\"auto\",\"x\":[\"Databricks\"],\"xaxis\":\"x\",\"y\":[38.0],\"yaxis\":\"y\",\"type\":\"bar\"},{\"alignmentgroup\":\"True\",\"hovertemplate\":\"Company=%{x}<br>Valuation ($B)=%{y}<extra></extra>\",\"legendgroup\":\"Revolut\",\"marker\":{\"color\":\"rgb(180, 151, 231)\",\"pattern\":{\"shape\":\"\"}},\"name\":\"Revolut\",\"offsetgroup\":\"Revolut\",\"orientation\":\"v\",\"showlegend\":true,\"textposition\":\"auto\",\"x\":[\"Revolut\"],\"xaxis\":\"x\",\"y\":[33.0],\"yaxis\":\"y\",\"type\":\"bar\"}],                        {\"barmode\":\"relative\",\"legend\":{\"title\":{\"text\":\"Company\"},\"tracegroupgap\":0},\"template\":{\"data\":{\"barpolar\":[{\"marker\":{\"line\":{\"color\":\"#E5ECF6\",\"width\":0.5},\"pattern\":{\"fillmode\":\"overlay\",\"size\":10,\"solidity\":0.2}},\"type\":\"barpolar\"}],\"bar\":[{\"error_x\":{\"color\":\"#2a3f5f\"},\"error_y\":{\"color\":\"#2a3f5f\"},\"marker\":{\"line\":{\"color\":\"#E5ECF6\",\"width\":0.5},\"pattern\":{\"fillmode\":\"overlay\",\"size\":10,\"solidity\":0.2}},\"type\":\"bar\"}],\"carpet\":[{\"aaxis\":{\"endlinecolor\":\"#2a3f5f\",\"gridcolor\":\"white\",\"linecolor\":\"white\",\"minorgridcolor\":\"white\",\"startlinecolor\":\"#2a3f5f\"},\"baxis\":{\"endlinecolor\":\"#2a3f5f\",\"gridcolor\":\"white\",\"linecolor\":\"white\",\"minorgridcolor\":\"white\",\"startlinecolor\":\"#2a3f5f\"},\"type\":\"carpet\"}],\"choropleth\":[{\"colorbar\":{\"outlinewidth\":0,\"ticks\":\"\"},\"type\":\"choropleth\"}],\"contourcarpet\":[{\"colorbar\":{\"outlinewidth\":0,\"ticks\":\"\"},\"type\":\"contourcarpet\"}],\"contour\":[{\"colorbar\":{\"outlinewidth\":0,\"ticks\":\"\"},\"colorscale\":[[0.0,\"#0d0887\"],[0.1111111111111111,\"#46039f\"],[0.2222222222222222,\"#7201a8\"],[0.3333333333333333,\"#9c179e\"],[0.4444444444444444,\"#bd3786\"],[0.5555555555555556,\"#d8576b\"],[0.6666666666666666,\"#ed7953\"],[0.7777777777777778,\"#fb9f3a\"],[0.8888888888888888,\"#fdca26\"],[1.0,\"#f0f921\"]],\"type\":\"contour\"}],\"heatmapgl\":[{\"colorbar\":{\"outlinewidth\":0,\"ticks\":\"\"},\"colorscale\":[[0.0,\"#0d0887\"],[0.1111111111111111,\"#46039f\"],[0.2222222222222222,\"#7201a8\"],[0.3333333333333333,\"#9c179e\"],[0.4444444444444444,\"#bd3786\"],[0.5555555555555556,\"#d8576b\"],[0.6666666666666666,\"#ed7953\"],[0.7777777777777778,\"#fb9f3a\"],[0.8888888888888888,\"#fdca26\"],[1.0,\"#f0f921\"]],\"type\":\"heatmapgl\"}],\"heatmap\":[{\"colorbar\":{\"outlinewidth\":0,\"ticks\":\"\"},\"colorscale\":[[0.0,\"#0d0887\"],[0.1111111111111111,\"#46039f\"],[0.2222222222222222,\"#7201a8\"],[0.3333333333333333,\"#9c179e\"],[0.4444444444444444,\"#bd3786\"],[0.5555555555555556,\"#d8576b\"],[0.6666666666666666,\"#ed7953\"],[0.7777777777777778,\"#fb9f3a\"],[0.8888888888888888,\"#fdca26\"],[1.0,\"#f0f921\"]],\"type\":\"heatmap\"}],\"histogram2dcontour\":[{\"colorbar\":{\"outlinewidth\":0,\"ticks\":\"\"},\"colorscale\":[[0.0,\"#0d0887\"],[0.1111111111111111,\"#46039f\"],[0.2222222222222222,\"#7201a8\"],[0.3333333333333333,\"#9c179e\"],[0.4444444444444444,\"#bd3786\"],[0.5555555555555556,\"#d8576b\"],[0.6666666666666666,\"#ed7953\"],[0.7777777777777778,\"#fb9f3a\"],[0.8888888888888888,\"#fdca26\"],[1.0,\"#f0f921\"]],\"type\":\"histogram2dcontour\"}],\"histogram2d\":[{\"colorbar\":{\"outlinewidth\":0,\"ticks\":\"\"},\"colorscale\":[[0.0,\"#0d0887\"],[0.1111111111111111,\"#46039f\"],[0.2222222222222222,\"#7201a8\"],[0.3333333333333333,\"#9c179e\"],[0.4444444444444444,\"#bd3786\"],[0.5555555555555556,\"#d8576b\"],[0.6666666666666666,\"#ed7953\"],[0.7777777777777778,\"#fb9f3a\"],[0.8888888888888888,\"#fdca26\"],[1.0,\"#f0f921\"]],\"type\":\"histogram2d\"}],\"histogram\":[{\"marker\":{\"pattern\":{\"fillmode\":\"overlay\",\"size\":10,\"solidity\":0.2}},\"type\":\"histogram\"}],\"mesh3d\":[{\"colorbar\":{\"outlinewidth\":0,\"ticks\":\"\"},\"type\":\"mesh3d\"}],\"parcoords\":[{\"line\":{\"colorbar\":{\"outlinewidth\":0,\"ticks\":\"\"}},\"type\":\"parcoords\"}],\"pie\":[{\"automargin\":true,\"type\":\"pie\"}],\"scatter3d\":[{\"line\":{\"colorbar\":{\"outlinewidth\":0,\"ticks\":\"\"}},\"marker\":{\"colorbar\":{\"outlinewidth\":0,\"ticks\":\"\"}},\"type\":\"scatter3d\"}],\"scattercarpet\":[{\"marker\":{\"colorbar\":{\"outlinewidth\":0,\"ticks\":\"\"}},\"type\":\"scattercarpet\"}],\"scattergeo\":[{\"marker\":{\"colorbar\":{\"outlinewidth\":0,\"ticks\":\"\"}},\"type\":\"scattergeo\"}],\"scattergl\":[{\"marker\":{\"colorbar\":{\"outlinewidth\":0,\"ticks\":\"\"}},\"type\":\"scattergl\"}],\"scattermapbox\":[{\"marker\":{\"colorbar\":{\"outlinewidth\":0,\"ticks\":\"\"}},\"type\":\"scattermapbox\"}],\"scatterpolargl\":[{\"marker\":{\"colorbar\":{\"outlinewidth\":0,\"ticks\":\"\"}},\"type\":\"scatterpolargl\"}],\"scatterpolar\":[{\"marker\":{\"colorbar\":{\"outlinewidth\":0,\"ticks\":\"\"}},\"type\":\"scatterpolar\"}],\"scatter\":[{\"fillpattern\":{\"fillmode\":\"overlay\",\"size\":10,\"solidity\":0.2},\"type\":\"scatter\"}],\"scatterternary\":[{\"marker\":{\"colorbar\":{\"outlinewidth\":0,\"ticks\":\"\"}},\"type\":\"scatterternary\"}],\"surface\":[{\"colorbar\":{\"outlinewidth\":0,\"ticks\":\"\"},\"colorscale\":[[0.0,\"#0d0887\"],[0.1111111111111111,\"#46039f\"],[0.2222222222222222,\"#7201a8\"],[0.3333333333333333,\"#9c179e\"],[0.4444444444444444,\"#bd3786\"],[0.5555555555555556,\"#d8576b\"],[0.6666666666666666,\"#ed7953\"],[0.7777777777777778,\"#fb9f3a\"],[0.8888888888888888,\"#fdca26\"],[1.0,\"#f0f921\"]],\"type\":\"surface\"}],\"table\":[{\"cells\":{\"fill\":{\"color\":\"#EBF0F8\"},\"line\":{\"color\":\"white\"}},\"header\":{\"fill\":{\"color\":\"#C8D4E3\"},\"line\":{\"color\":\"white\"}},\"type\":\"table\"}]},\"layout\":{\"annotationdefaults\":{\"arrowcolor\":\"#2a3f5f\",\"arrowhead\":0,\"arrowwidth\":1},\"autotypenumbers\":\"strict\",\"coloraxis\":{\"colorbar\":{\"outlinewidth\":0,\"ticks\":\"\"}},\"colorscale\":{\"diverging\":[[0,\"#8e0152\"],[0.1,\"#c51b7d\"],[0.2,\"#de77ae\"],[0.3,\"#f1b6da\"],[0.4,\"#fde0ef\"],[0.5,\"#f7f7f7\"],[0.6,\"#e6f5d0\"],[0.7,\"#b8e186\"],[0.8,\"#7fbc41\"],[0.9,\"#4d9221\"],[1,\"#276419\"]],\"sequential\":[[0.0,\"#0d0887\"],[0.1111111111111111,\"#46039f\"],[0.2222222222222222,\"#7201a8\"],[0.3333333333333333,\"#9c179e\"],[0.4444444444444444,\"#bd3786\"],[0.5555555555555556,\"#d8576b\"],[0.6666666666666666,\"#ed7953\"],[0.7777777777777778,\"#fb9f3a\"],[0.8888888888888888,\"#fdca26\"],[1.0,\"#f0f921\"]],\"sequentialminus\":[[0.0,\"#0d0887\"],[0.1111111111111111,\"#46039f\"],[0.2222222222222222,\"#7201a8\"],[0.3333333333333333,\"#9c179e\"],[0.4444444444444444,\"#bd3786\"],[0.5555555555555556,\"#d8576b\"],[0.6666666666666666,\"#ed7953\"],[0.7777777777777778,\"#fb9f3a\"],[0.8888888888888888,\"#fdca26\"],[1.0,\"#f0f921\"]]},\"colorway\":[\"#636efa\",\"#EF553B\",\"#00cc96\",\"#ab63fa\",\"#FFA15A\",\"#19d3f3\",\"#FF6692\",\"#B6E880\",\"#FF97FF\",\"#FECB52\"],\"font\":{\"color\":\"#2a3f5f\"},\"geo\":{\"bgcolor\":\"white\",\"lakecolor\":\"white\",\"landcolor\":\"#E5ECF6\",\"showlakes\":true,\"showland\":true,\"subunitcolor\":\"white\"},\"hoverlabel\":{\"align\":\"left\"},\"hovermode\":\"closest\",\"mapbox\":{\"style\":\"light\"},\"paper_bgcolor\":\"white\",\"plot_bgcolor\":\"#E5ECF6\",\"polar\":{\"angularaxis\":{\"gridcolor\":\"white\",\"linecolor\":\"white\",\"ticks\":\"\"},\"bgcolor\":\"#E5ECF6\",\"radialaxis\":{\"gridcolor\":\"white\",\"linecolor\":\"white\",\"ticks\":\"\"}},\"scene\":{\"xaxis\":{\"backgroundcolor\":\"#E5ECF6\",\"gridcolor\":\"white\",\"gridwidth\":2,\"linecolor\":\"white\",\"showbackground\":true,\"ticks\":\"\",\"zerolinecolor\":\"white\"},\"yaxis\":{\"backgroundcolor\":\"#E5ECF6\",\"gridcolor\":\"white\",\"gridwidth\":2,\"linecolor\":\"white\",\"showbackground\":true,\"ticks\":\"\",\"zerolinecolor\":\"white\"},\"zaxis\":{\"backgroundcolor\":\"#E5ECF6\",\"gridcolor\":\"white\",\"gridwidth\":2,\"linecolor\":\"white\",\"showbackground\":true,\"ticks\":\"\",\"zerolinecolor\":\"white\"}},\"shapedefaults\":{\"line\":{\"color\":\"#2a3f5f\"}},\"ternary\":{\"aaxis\":{\"gridcolor\":\"white\",\"linecolor\":\"white\",\"ticks\":\"\"},\"baxis\":{\"gridcolor\":\"white\",\"linecolor\":\"white\",\"ticks\":\"\"},\"bgcolor\":\"#E5ECF6\",\"caxis\":{\"gridcolor\":\"white\",\"linecolor\":\"white\",\"ticks\":\"\"}},\"title\":{\"x\":0.05},\"xaxis\":{\"automargin\":true,\"gridcolor\":\"white\",\"linecolor\":\"white\",\"ticks\":\"\",\"title\":{\"standoff\":15},\"zerolinecolor\":\"white\",\"zerolinewidth\":2},\"yaxis\":{\"automargin\":true,\"gridcolor\":\"white\",\"linecolor\":\"white\",\"ticks\":\"\",\"title\":{\"standoff\":15},\"zerolinecolor\":\"white\",\"zerolinewidth\":2}}},\"title\":{\"text\":\"Top 10 most valuation unicorn companies\"},\"xaxis\":{\"anchor\":\"y\",\"categoryarray\":[\"Bytedance\",\"SpaceX\",\"Stripe\",\"Klarna\",\"Epic Games\",\"Canva\",\"Checkout.com\",\"Instacart\",\"Databricks\",\"Revolut\"],\"categoryorder\":\"array\",\"domain\":[0.0,1.0],\"title\":{\"text\":\"Company\"}},\"yaxis\":{\"anchor\":\"x\",\"domain\":[0.0,1.0],\"title\":{\"text\":\"Valuation ($B)\"}}},                        {\"responsive\": true}                    ).then(function(){\n",
       "                            \n",
       "var gd = document.getElementById('256e7a88-fe35-4975-a624-69834066e8e1');\n",
       "var x = new MutationObserver(function (mutations, observer) {{\n",
       "        var display = window.getComputedStyle(gd).display;\n",
       "        if (!display || display === 'none') {{\n",
       "            console.log([gd, 'removed!']);\n",
       "            Plotly.purge(gd);\n",
       "            observer.disconnect();\n",
       "        }}\n",
       "}});\n",
       "\n",
       "// Listen for the removal of the full notebook cells\n",
       "var notebookContainer = gd.closest('#notebook-container');\n",
       "if (notebookContainer) {{\n",
       "    x.observe(notebookContainer, {childList: true});\n",
       "}}\n",
       "\n",
       "// Listen for the clearing of the current output cell\n",
       "var outputEl = gd.closest('.output');\n",
       "if (outputEl) {{\n",
       "    x.observe(outputEl, {childList: true});\n",
       "}}\n",
       "\n",
       "                        })                };                });            </script>        </div>"
      ]
     },
     "metadata": {},
     "output_type": "display_data"
    }
   ],
   "source": [
    "top10_valuation_company = df.sort_values(\"Valuation ($B)\",ascending=False)[:10]\n",
    "fig = px.bar(top10_valuation_company, \n",
    "             x=\"Company\", \n",
    "             y=\"Valuation ($B)\",\n",
    "             title=\"Top 10 most valuation unicorn companies\",\n",
    "             color=\"Company\", \n",
    "             color_discrete_sequence=px.colors.qualitative.Pastel)\n",
    "iplot(fig)"
   ]
  },
  {
   "cell_type": "markdown",
   "id": "4f66ea14",
   "metadata": {
    "papermill": {
     "duration": 0.074006,
     "end_time": "2022-05-11T01:23:23.666341",
     "exception": false,
     "start_time": "2022-05-11T01:23:23.592335",
     "status": "completed"
    },
    "tags": []
   },
   "source": [
    "<p style=\"font-size:1.25rem\">\n",
    "The top 10 companies based on the valuation graph shows that Bytedance has the most valuation value and is clearly different from the second and the third which are Spacex and Stripe that have a similar value. In addition, other companies have about the same valuation.\n",
    "</p>"
   ]
  },
  {
   "cell_type": "markdown",
   "id": "2c7af198",
   "metadata": {
    "papermill": {
     "duration": 0.075937,
     "end_time": "2022-05-11T01:23:23.817434",
     "exception": false,
     "start_time": "2022-05-11T01:23:23.741497",
     "status": "completed"
    },
    "tags": []
   },
   "source": [
    "## Top 10 countries based on valuation of unicorn company"
   ]
  },
  {
   "cell_type": "code",
   "execution_count": 26,
   "id": "ed93082b",
   "metadata": {
    "execution": {
     "iopub.execute_input": "2022-05-11T01:23:23.972221Z",
     "iopub.status.busy": "2022-05-11T01:23:23.971200Z",
     "iopub.status.idle": "2022-05-11T01:23:24.125355Z",
     "shell.execute_reply": "2022-05-11T01:23:24.124175Z"
    },
    "papermill": {
     "duration": 0.233264,
     "end_time": "2022-05-11T01:23:24.127849",
     "exception": false,
     "start_time": "2022-05-11T01:23:23.894585",
     "status": "completed"
    },
    "tags": []
   },
   "outputs": [
    {
     "data": {
      "application/vnd.plotly.v1+json": {
       "config": {
        "linkText": "Export to plot.ly",
        "plotlyServerURL": "https://plot.ly",
        "showLink": false
       },
       "data": [
        {
         "alignmentgroup": "True",
         "hovertemplate": "Country=%{x}<br>Valuation ($B)=%{y}<extra></extra>",
         "legendgroup": "United States",
         "marker": {
          "color": "rgb(102, 197, 204)",
          "pattern": {
           "shape": ""
          }
         },
         "name": "United States",
         "offsetgroup": "United States",
         "orientation": "v",
         "showlegend": true,
         "textposition": "auto",
         "type": "bar",
         "x": [
          "United States"
         ],
         "xaxis": "x",
         "y": [
          1829.74
         ],
         "yaxis": "y"
        },
        {
         "alignmentgroup": "True",
         "hovertemplate": "Country=%{x}<br>Valuation ($B)=%{y}<extra></extra>",
         "legendgroup": "China",
         "marker": {
          "color": "rgb(246, 207, 113)",
          "pattern": {
           "shape": ""
          }
         },
         "name": "China",
         "offsetgroup": "China",
         "orientation": "v",
         "showlegend": true,
         "textposition": "auto",
         "type": "bar",
         "x": [
          "China"
         ],
         "xaxis": "x",
         "y": [
          572.69
         ],
         "yaxis": "y"
        },
        {
         "alignmentgroup": "True",
         "hovertemplate": "Country=%{x}<br>Valuation ($B)=%{y}<extra></extra>",
         "legendgroup": "India",
         "marker": {
          "color": "rgb(248, 156, 116)",
          "pattern": {
           "shape": ""
          }
         },
         "name": "India",
         "offsetgroup": "India",
         "orientation": "v",
         "showlegend": true,
         "textposition": "auto",
         "type": "bar",
         "x": [
          "India"
         ],
         "xaxis": "x",
         "y": [
          187.05
         ],
         "yaxis": "y"
        },
        {
         "alignmentgroup": "True",
         "hovertemplate": "Country=%{x}<br>Valuation ($B)=%{y}<extra></extra>",
         "legendgroup": "United Kingdom",
         "marker": {
          "color": "rgb(220, 176, 242)",
          "pattern": {
           "shape": ""
          }
         },
         "name": "United Kingdom",
         "offsetgroup": "United Kingdom",
         "orientation": "v",
         "showlegend": true,
         "textposition": "auto",
         "type": "bar",
         "x": [
          "United Kingdom"
         ],
         "xaxis": "x",
         "y": [
          177.68
         ],
         "yaxis": "y"
        },
        {
         "alignmentgroup": "True",
         "hovertemplate": "Country=%{x}<br>Valuation ($B)=%{y}<extra></extra>",
         "legendgroup": "Germany",
         "marker": {
          "color": "rgb(135, 197, 95)",
          "pattern": {
           "shape": ""
          }
         },
         "name": "Germany",
         "offsetgroup": "Germany",
         "orientation": "v",
         "showlegend": true,
         "textposition": "auto",
         "type": "bar",
         "x": [
          "Germany"
         ],
         "xaxis": "x",
         "y": [
          66.7
         ],
         "yaxis": "y"
        },
        {
         "alignmentgroup": "True",
         "hovertemplate": "Country=%{x}<br>Valuation ($B)=%{y}<extra></extra>",
         "legendgroup": "Sweden",
         "marker": {
          "color": "rgb(158, 185, 243)",
          "pattern": {
           "shape": ""
          }
         },
         "name": "Sweden",
         "offsetgroup": "Sweden",
         "orientation": "v",
         "showlegend": true,
         "textposition": "auto",
         "type": "bar",
         "x": [
          "Sweden"
         ],
         "xaxis": "x",
         "y": [
          60.52
         ],
         "yaxis": "y"
        },
        {
         "alignmentgroup": "True",
         "hovertemplate": "Country=%{x}<br>Valuation ($B)=%{y}<extra></extra>",
         "legendgroup": "Australia",
         "marker": {
          "color": "rgb(254, 136, 177)",
          "pattern": {
           "shape": ""
          }
         },
         "name": "Australia",
         "offsetgroup": "Australia",
         "orientation": "v",
         "showlegend": true,
         "textposition": "auto",
         "type": "bar",
         "x": [
          "Australia"
         ],
         "xaxis": "x",
         "y": [
          50.6
         ],
         "yaxis": "y"
        },
        {
         "alignmentgroup": "True",
         "hovertemplate": "Country=%{x}<br>Valuation ($B)=%{y}<extra></extra>",
         "legendgroup": "France",
         "marker": {
          "color": "rgb(201, 219, 116)",
          "pattern": {
           "shape": ""
          }
         },
         "name": "France",
         "offsetgroup": "France",
         "orientation": "v",
         "showlegend": true,
         "textposition": "auto",
         "type": "bar",
         "x": [
          "France"
         ],
         "xaxis": "x",
         "y": [
          49.87
         ],
         "yaxis": "y"
        },
        {
         "alignmentgroup": "True",
         "hovertemplate": "Country=%{x}<br>Valuation ($B)=%{y}<extra></extra>",
         "legendgroup": "Canada",
         "marker": {
          "color": "rgb(139, 224, 164)",
          "pattern": {
           "shape": ""
          }
         },
         "name": "Canada",
         "offsetgroup": "Canada",
         "orientation": "v",
         "showlegend": true,
         "textposition": "auto",
         "type": "bar",
         "x": [
          "Canada"
         ],
         "xaxis": "x",
         "y": [
          49.03
         ],
         "yaxis": "y"
        },
        {
         "alignmentgroup": "True",
         "hovertemplate": "Country=%{x}<br>Valuation ($B)=%{y}<extra></extra>",
         "legendgroup": "Israel",
         "marker": {
          "color": "rgb(180, 151, 231)",
          "pattern": {
           "shape": ""
          }
         },
         "name": "Israel",
         "offsetgroup": "Israel",
         "orientation": "v",
         "showlegend": true,
         "textposition": "auto",
         "type": "bar",
         "x": [
          "Israel"
         ],
         "xaxis": "x",
         "y": [
          38.42
         ],
         "yaxis": "y"
        }
       ],
       "layout": {
        "barmode": "relative",
        "legend": {
         "title": {
          "text": "Country"
         },
         "tracegroupgap": 0
        },
        "template": {
         "data": {
          "bar": [
           {
            "error_x": {
             "color": "#2a3f5f"
            },
            "error_y": {
             "color": "#2a3f5f"
            },
            "marker": {
             "line": {
              "color": "#E5ECF6",
              "width": 0.5
             },
             "pattern": {
              "fillmode": "overlay",
              "size": 10,
              "solidity": 0.2
             }
            },
            "type": "bar"
           }
          ],
          "barpolar": [
           {
            "marker": {
             "line": {
              "color": "#E5ECF6",
              "width": 0.5
             },
             "pattern": {
              "fillmode": "overlay",
              "size": 10,
              "solidity": 0.2
             }
            },
            "type": "barpolar"
           }
          ],
          "carpet": [
           {
            "aaxis": {
             "endlinecolor": "#2a3f5f",
             "gridcolor": "white",
             "linecolor": "white",
             "minorgridcolor": "white",
             "startlinecolor": "#2a3f5f"
            },
            "baxis": {
             "endlinecolor": "#2a3f5f",
             "gridcolor": "white",
             "linecolor": "white",
             "minorgridcolor": "white",
             "startlinecolor": "#2a3f5f"
            },
            "type": "carpet"
           }
          ],
          "choropleth": [
           {
            "colorbar": {
             "outlinewidth": 0,
             "ticks": ""
            },
            "type": "choropleth"
           }
          ],
          "contour": [
           {
            "colorbar": {
             "outlinewidth": 0,
             "ticks": ""
            },
            "colorscale": [
             [
              0,
              "#0d0887"
             ],
             [
              0.1111111111111111,
              "#46039f"
             ],
             [
              0.2222222222222222,
              "#7201a8"
             ],
             [
              0.3333333333333333,
              "#9c179e"
             ],
             [
              0.4444444444444444,
              "#bd3786"
             ],
             [
              0.5555555555555556,
              "#d8576b"
             ],
             [
              0.6666666666666666,
              "#ed7953"
             ],
             [
              0.7777777777777778,
              "#fb9f3a"
             ],
             [
              0.8888888888888888,
              "#fdca26"
             ],
             [
              1,
              "#f0f921"
             ]
            ],
            "type": "contour"
           }
          ],
          "contourcarpet": [
           {
            "colorbar": {
             "outlinewidth": 0,
             "ticks": ""
            },
            "type": "contourcarpet"
           }
          ],
          "heatmap": [
           {
            "colorbar": {
             "outlinewidth": 0,
             "ticks": ""
            },
            "colorscale": [
             [
              0,
              "#0d0887"
             ],
             [
              0.1111111111111111,
              "#46039f"
             ],
             [
              0.2222222222222222,
              "#7201a8"
             ],
             [
              0.3333333333333333,
              "#9c179e"
             ],
             [
              0.4444444444444444,
              "#bd3786"
             ],
             [
              0.5555555555555556,
              "#d8576b"
             ],
             [
              0.6666666666666666,
              "#ed7953"
             ],
             [
              0.7777777777777778,
              "#fb9f3a"
             ],
             [
              0.8888888888888888,
              "#fdca26"
             ],
             [
              1,
              "#f0f921"
             ]
            ],
            "type": "heatmap"
           }
          ],
          "heatmapgl": [
           {
            "colorbar": {
             "outlinewidth": 0,
             "ticks": ""
            },
            "colorscale": [
             [
              0,
              "#0d0887"
             ],
             [
              0.1111111111111111,
              "#46039f"
             ],
             [
              0.2222222222222222,
              "#7201a8"
             ],
             [
              0.3333333333333333,
              "#9c179e"
             ],
             [
              0.4444444444444444,
              "#bd3786"
             ],
             [
              0.5555555555555556,
              "#d8576b"
             ],
             [
              0.6666666666666666,
              "#ed7953"
             ],
             [
              0.7777777777777778,
              "#fb9f3a"
             ],
             [
              0.8888888888888888,
              "#fdca26"
             ],
             [
              1,
              "#f0f921"
             ]
            ],
            "type": "heatmapgl"
           }
          ],
          "histogram": [
           {
            "marker": {
             "pattern": {
              "fillmode": "overlay",
              "size": 10,
              "solidity": 0.2
             }
            },
            "type": "histogram"
           }
          ],
          "histogram2d": [
           {
            "colorbar": {
             "outlinewidth": 0,
             "ticks": ""
            },
            "colorscale": [
             [
              0,
              "#0d0887"
             ],
             [
              0.1111111111111111,
              "#46039f"
             ],
             [
              0.2222222222222222,
              "#7201a8"
             ],
             [
              0.3333333333333333,
              "#9c179e"
             ],
             [
              0.4444444444444444,
              "#bd3786"
             ],
             [
              0.5555555555555556,
              "#d8576b"
             ],
             [
              0.6666666666666666,
              "#ed7953"
             ],
             [
              0.7777777777777778,
              "#fb9f3a"
             ],
             [
              0.8888888888888888,
              "#fdca26"
             ],
             [
              1,
              "#f0f921"
             ]
            ],
            "type": "histogram2d"
           }
          ],
          "histogram2dcontour": [
           {
            "colorbar": {
             "outlinewidth": 0,
             "ticks": ""
            },
            "colorscale": [
             [
              0,
              "#0d0887"
             ],
             [
              0.1111111111111111,
              "#46039f"
             ],
             [
              0.2222222222222222,
              "#7201a8"
             ],
             [
              0.3333333333333333,
              "#9c179e"
             ],
             [
              0.4444444444444444,
              "#bd3786"
             ],
             [
              0.5555555555555556,
              "#d8576b"
             ],
             [
              0.6666666666666666,
              "#ed7953"
             ],
             [
              0.7777777777777778,
              "#fb9f3a"
             ],
             [
              0.8888888888888888,
              "#fdca26"
             ],
             [
              1,
              "#f0f921"
             ]
            ],
            "type": "histogram2dcontour"
           }
          ],
          "mesh3d": [
           {
            "colorbar": {
             "outlinewidth": 0,
             "ticks": ""
            },
            "type": "mesh3d"
           }
          ],
          "parcoords": [
           {
            "line": {
             "colorbar": {
              "outlinewidth": 0,
              "ticks": ""
             }
            },
            "type": "parcoords"
           }
          ],
          "pie": [
           {
            "automargin": true,
            "type": "pie"
           }
          ],
          "scatter": [
           {
            "fillpattern": {
             "fillmode": "overlay",
             "size": 10,
             "solidity": 0.2
            },
            "type": "scatter"
           }
          ],
          "scatter3d": [
           {
            "line": {
             "colorbar": {
              "outlinewidth": 0,
              "ticks": ""
             }
            },
            "marker": {
             "colorbar": {
              "outlinewidth": 0,
              "ticks": ""
             }
            },
            "type": "scatter3d"
           }
          ],
          "scattercarpet": [
           {
            "marker": {
             "colorbar": {
              "outlinewidth": 0,
              "ticks": ""
             }
            },
            "type": "scattercarpet"
           }
          ],
          "scattergeo": [
           {
            "marker": {
             "colorbar": {
              "outlinewidth": 0,
              "ticks": ""
             }
            },
            "type": "scattergeo"
           }
          ],
          "scattergl": [
           {
            "marker": {
             "colorbar": {
              "outlinewidth": 0,
              "ticks": ""
             }
            },
            "type": "scattergl"
           }
          ],
          "scattermapbox": [
           {
            "marker": {
             "colorbar": {
              "outlinewidth": 0,
              "ticks": ""
             }
            },
            "type": "scattermapbox"
           }
          ],
          "scatterpolar": [
           {
            "marker": {
             "colorbar": {
              "outlinewidth": 0,
              "ticks": ""
             }
            },
            "type": "scatterpolar"
           }
          ],
          "scatterpolargl": [
           {
            "marker": {
             "colorbar": {
              "outlinewidth": 0,
              "ticks": ""
             }
            },
            "type": "scatterpolargl"
           }
          ],
          "scatterternary": [
           {
            "marker": {
             "colorbar": {
              "outlinewidth": 0,
              "ticks": ""
             }
            },
            "type": "scatterternary"
           }
          ],
          "surface": [
           {
            "colorbar": {
             "outlinewidth": 0,
             "ticks": ""
            },
            "colorscale": [
             [
              0,
              "#0d0887"
             ],
             [
              0.1111111111111111,
              "#46039f"
             ],
             [
              0.2222222222222222,
              "#7201a8"
             ],
             [
              0.3333333333333333,
              "#9c179e"
             ],
             [
              0.4444444444444444,
              "#bd3786"
             ],
             [
              0.5555555555555556,
              "#d8576b"
             ],
             [
              0.6666666666666666,
              "#ed7953"
             ],
             [
              0.7777777777777778,
              "#fb9f3a"
             ],
             [
              0.8888888888888888,
              "#fdca26"
             ],
             [
              1,
              "#f0f921"
             ]
            ],
            "type": "surface"
           }
          ],
          "table": [
           {
            "cells": {
             "fill": {
              "color": "#EBF0F8"
             },
             "line": {
              "color": "white"
             }
            },
            "header": {
             "fill": {
              "color": "#C8D4E3"
             },
             "line": {
              "color": "white"
             }
            },
            "type": "table"
           }
          ]
         },
         "layout": {
          "annotationdefaults": {
           "arrowcolor": "#2a3f5f",
           "arrowhead": 0,
           "arrowwidth": 1
          },
          "autotypenumbers": "strict",
          "coloraxis": {
           "colorbar": {
            "outlinewidth": 0,
            "ticks": ""
           }
          },
          "colorscale": {
           "diverging": [
            [
             0,
             "#8e0152"
            ],
            [
             0.1,
             "#c51b7d"
            ],
            [
             0.2,
             "#de77ae"
            ],
            [
             0.3,
             "#f1b6da"
            ],
            [
             0.4,
             "#fde0ef"
            ],
            [
             0.5,
             "#f7f7f7"
            ],
            [
             0.6,
             "#e6f5d0"
            ],
            [
             0.7,
             "#b8e186"
            ],
            [
             0.8,
             "#7fbc41"
            ],
            [
             0.9,
             "#4d9221"
            ],
            [
             1,
             "#276419"
            ]
           ],
           "sequential": [
            [
             0,
             "#0d0887"
            ],
            [
             0.1111111111111111,
             "#46039f"
            ],
            [
             0.2222222222222222,
             "#7201a8"
            ],
            [
             0.3333333333333333,
             "#9c179e"
            ],
            [
             0.4444444444444444,
             "#bd3786"
            ],
            [
             0.5555555555555556,
             "#d8576b"
            ],
            [
             0.6666666666666666,
             "#ed7953"
            ],
            [
             0.7777777777777778,
             "#fb9f3a"
            ],
            [
             0.8888888888888888,
             "#fdca26"
            ],
            [
             1,
             "#f0f921"
            ]
           ],
           "sequentialminus": [
            [
             0,
             "#0d0887"
            ],
            [
             0.1111111111111111,
             "#46039f"
            ],
            [
             0.2222222222222222,
             "#7201a8"
            ],
            [
             0.3333333333333333,
             "#9c179e"
            ],
            [
             0.4444444444444444,
             "#bd3786"
            ],
            [
             0.5555555555555556,
             "#d8576b"
            ],
            [
             0.6666666666666666,
             "#ed7953"
            ],
            [
             0.7777777777777778,
             "#fb9f3a"
            ],
            [
             0.8888888888888888,
             "#fdca26"
            ],
            [
             1,
             "#f0f921"
            ]
           ]
          },
          "colorway": [
           "#636efa",
           "#EF553B",
           "#00cc96",
           "#ab63fa",
           "#FFA15A",
           "#19d3f3",
           "#FF6692",
           "#B6E880",
           "#FF97FF",
           "#FECB52"
          ],
          "font": {
           "color": "#2a3f5f"
          },
          "geo": {
           "bgcolor": "white",
           "lakecolor": "white",
           "landcolor": "#E5ECF6",
           "showlakes": true,
           "showland": true,
           "subunitcolor": "white"
          },
          "hoverlabel": {
           "align": "left"
          },
          "hovermode": "closest",
          "mapbox": {
           "style": "light"
          },
          "paper_bgcolor": "white",
          "plot_bgcolor": "#E5ECF6",
          "polar": {
           "angularaxis": {
            "gridcolor": "white",
            "linecolor": "white",
            "ticks": ""
           },
           "bgcolor": "#E5ECF6",
           "radialaxis": {
            "gridcolor": "white",
            "linecolor": "white",
            "ticks": ""
           }
          },
          "scene": {
           "xaxis": {
            "backgroundcolor": "#E5ECF6",
            "gridcolor": "white",
            "gridwidth": 2,
            "linecolor": "white",
            "showbackground": true,
            "ticks": "",
            "zerolinecolor": "white"
           },
           "yaxis": {
            "backgroundcolor": "#E5ECF6",
            "gridcolor": "white",
            "gridwidth": 2,
            "linecolor": "white",
            "showbackground": true,
            "ticks": "",
            "zerolinecolor": "white"
           },
           "zaxis": {
            "backgroundcolor": "#E5ECF6",
            "gridcolor": "white",
            "gridwidth": 2,
            "linecolor": "white",
            "showbackground": true,
            "ticks": "",
            "zerolinecolor": "white"
           }
          },
          "shapedefaults": {
           "line": {
            "color": "#2a3f5f"
           }
          },
          "ternary": {
           "aaxis": {
            "gridcolor": "white",
            "linecolor": "white",
            "ticks": ""
           },
           "baxis": {
            "gridcolor": "white",
            "linecolor": "white",
            "ticks": ""
           },
           "bgcolor": "#E5ECF6",
           "caxis": {
            "gridcolor": "white",
            "linecolor": "white",
            "ticks": ""
           }
          },
          "title": {
           "x": 0.05
          },
          "xaxis": {
           "automargin": true,
           "gridcolor": "white",
           "linecolor": "white",
           "ticks": "",
           "title": {
            "standoff": 15
           },
           "zerolinecolor": "white",
           "zerolinewidth": 2
          },
          "yaxis": {
           "automargin": true,
           "gridcolor": "white",
           "linecolor": "white",
           "ticks": "",
           "title": {
            "standoff": 15
           },
           "zerolinecolor": "white",
           "zerolinewidth": 2
          }
         }
        },
        "title": {
         "text": "Top 10 countries based on valuation of unicorn company"
        },
        "xaxis": {
         "anchor": "y",
         "categoryarray": [
          "United States",
          "China",
          "India",
          "United Kingdom",
          "Germany",
          "Sweden",
          "Australia",
          "France",
          "Canada",
          "Israel"
         ],
         "categoryorder": "array",
         "domain": [
          0,
          1
         ],
         "title": {
          "text": "Country"
         }
        },
        "yaxis": {
         "anchor": "x",
         "domain": [
          0,
          1
         ],
         "title": {
          "text": "Valuation ($B)"
         }
        }
       }
      },
      "text/html": [
       "<div>                            <div id=\"226744e2-fc54-4700-aa06-872207900cd2\" class=\"plotly-graph-div\" style=\"height:525px; width:100%;\"></div>            <script type=\"text/javascript\">                require([\"plotly\"], function(Plotly) {                    window.PLOTLYENV=window.PLOTLYENV || {};                                    if (document.getElementById(\"226744e2-fc54-4700-aa06-872207900cd2\")) {                    Plotly.newPlot(                        \"226744e2-fc54-4700-aa06-872207900cd2\",                        [{\"alignmentgroup\":\"True\",\"hovertemplate\":\"Country=%{x}<br>Valuation ($B)=%{y}<extra></extra>\",\"legendgroup\":\"United States\",\"marker\":{\"color\":\"rgb(102, 197, 204)\",\"pattern\":{\"shape\":\"\"}},\"name\":\"United States\",\"offsetgroup\":\"United States\",\"orientation\":\"v\",\"showlegend\":true,\"textposition\":\"auto\",\"x\":[\"United States\"],\"xaxis\":\"x\",\"y\":[1829.74],\"yaxis\":\"y\",\"type\":\"bar\"},{\"alignmentgroup\":\"True\",\"hovertemplate\":\"Country=%{x}<br>Valuation ($B)=%{y}<extra></extra>\",\"legendgroup\":\"China\",\"marker\":{\"color\":\"rgb(246, 207, 113)\",\"pattern\":{\"shape\":\"\"}},\"name\":\"China\",\"offsetgroup\":\"China\",\"orientation\":\"v\",\"showlegend\":true,\"textposition\":\"auto\",\"x\":[\"China\"],\"xaxis\":\"x\",\"y\":[572.69],\"yaxis\":\"y\",\"type\":\"bar\"},{\"alignmentgroup\":\"True\",\"hovertemplate\":\"Country=%{x}<br>Valuation ($B)=%{y}<extra></extra>\",\"legendgroup\":\"India\",\"marker\":{\"color\":\"rgb(248, 156, 116)\",\"pattern\":{\"shape\":\"\"}},\"name\":\"India\",\"offsetgroup\":\"India\",\"orientation\":\"v\",\"showlegend\":true,\"textposition\":\"auto\",\"x\":[\"India\"],\"xaxis\":\"x\",\"y\":[187.05],\"yaxis\":\"y\",\"type\":\"bar\"},{\"alignmentgroup\":\"True\",\"hovertemplate\":\"Country=%{x}<br>Valuation ($B)=%{y}<extra></extra>\",\"legendgroup\":\"United Kingdom\",\"marker\":{\"color\":\"rgb(220, 176, 242)\",\"pattern\":{\"shape\":\"\"}},\"name\":\"United Kingdom\",\"offsetgroup\":\"United Kingdom\",\"orientation\":\"v\",\"showlegend\":true,\"textposition\":\"auto\",\"x\":[\"United Kingdom\"],\"xaxis\":\"x\",\"y\":[177.68],\"yaxis\":\"y\",\"type\":\"bar\"},{\"alignmentgroup\":\"True\",\"hovertemplate\":\"Country=%{x}<br>Valuation ($B)=%{y}<extra></extra>\",\"legendgroup\":\"Germany\",\"marker\":{\"color\":\"rgb(135, 197, 95)\",\"pattern\":{\"shape\":\"\"}},\"name\":\"Germany\",\"offsetgroup\":\"Germany\",\"orientation\":\"v\",\"showlegend\":true,\"textposition\":\"auto\",\"x\":[\"Germany\"],\"xaxis\":\"x\",\"y\":[66.7],\"yaxis\":\"y\",\"type\":\"bar\"},{\"alignmentgroup\":\"True\",\"hovertemplate\":\"Country=%{x}<br>Valuation ($B)=%{y}<extra></extra>\",\"legendgroup\":\"Sweden\",\"marker\":{\"color\":\"rgb(158, 185, 243)\",\"pattern\":{\"shape\":\"\"}},\"name\":\"Sweden\",\"offsetgroup\":\"Sweden\",\"orientation\":\"v\",\"showlegend\":true,\"textposition\":\"auto\",\"x\":[\"Sweden\"],\"xaxis\":\"x\",\"y\":[60.52],\"yaxis\":\"y\",\"type\":\"bar\"},{\"alignmentgroup\":\"True\",\"hovertemplate\":\"Country=%{x}<br>Valuation ($B)=%{y}<extra></extra>\",\"legendgroup\":\"Australia\",\"marker\":{\"color\":\"rgb(254, 136, 177)\",\"pattern\":{\"shape\":\"\"}},\"name\":\"Australia\",\"offsetgroup\":\"Australia\",\"orientation\":\"v\",\"showlegend\":true,\"textposition\":\"auto\",\"x\":[\"Australia\"],\"xaxis\":\"x\",\"y\":[50.6],\"yaxis\":\"y\",\"type\":\"bar\"},{\"alignmentgroup\":\"True\",\"hovertemplate\":\"Country=%{x}<br>Valuation ($B)=%{y}<extra></extra>\",\"legendgroup\":\"France\",\"marker\":{\"color\":\"rgb(201, 219, 116)\",\"pattern\":{\"shape\":\"\"}},\"name\":\"France\",\"offsetgroup\":\"France\",\"orientation\":\"v\",\"showlegend\":true,\"textposition\":\"auto\",\"x\":[\"France\"],\"xaxis\":\"x\",\"y\":[49.87],\"yaxis\":\"y\",\"type\":\"bar\"},{\"alignmentgroup\":\"True\",\"hovertemplate\":\"Country=%{x}<br>Valuation ($B)=%{y}<extra></extra>\",\"legendgroup\":\"Canada\",\"marker\":{\"color\":\"rgb(139, 224, 164)\",\"pattern\":{\"shape\":\"\"}},\"name\":\"Canada\",\"offsetgroup\":\"Canada\",\"orientation\":\"v\",\"showlegend\":true,\"textposition\":\"auto\",\"x\":[\"Canada\"],\"xaxis\":\"x\",\"y\":[49.03],\"yaxis\":\"y\",\"type\":\"bar\"},{\"alignmentgroup\":\"True\",\"hovertemplate\":\"Country=%{x}<br>Valuation ($B)=%{y}<extra></extra>\",\"legendgroup\":\"Israel\",\"marker\":{\"color\":\"rgb(180, 151, 231)\",\"pattern\":{\"shape\":\"\"}},\"name\":\"Israel\",\"offsetgroup\":\"Israel\",\"orientation\":\"v\",\"showlegend\":true,\"textposition\":\"auto\",\"x\":[\"Israel\"],\"xaxis\":\"x\",\"y\":[38.42],\"yaxis\":\"y\",\"type\":\"bar\"}],                        {\"barmode\":\"relative\",\"legend\":{\"title\":{\"text\":\"Country\"},\"tracegroupgap\":0},\"template\":{\"data\":{\"barpolar\":[{\"marker\":{\"line\":{\"color\":\"#E5ECF6\",\"width\":0.5},\"pattern\":{\"fillmode\":\"overlay\",\"size\":10,\"solidity\":0.2}},\"type\":\"barpolar\"}],\"bar\":[{\"error_x\":{\"color\":\"#2a3f5f\"},\"error_y\":{\"color\":\"#2a3f5f\"},\"marker\":{\"line\":{\"color\":\"#E5ECF6\",\"width\":0.5},\"pattern\":{\"fillmode\":\"overlay\",\"size\":10,\"solidity\":0.2}},\"type\":\"bar\"}],\"carpet\":[{\"aaxis\":{\"endlinecolor\":\"#2a3f5f\",\"gridcolor\":\"white\",\"linecolor\":\"white\",\"minorgridcolor\":\"white\",\"startlinecolor\":\"#2a3f5f\"},\"baxis\":{\"endlinecolor\":\"#2a3f5f\",\"gridcolor\":\"white\",\"linecolor\":\"white\",\"minorgridcolor\":\"white\",\"startlinecolor\":\"#2a3f5f\"},\"type\":\"carpet\"}],\"choropleth\":[{\"colorbar\":{\"outlinewidth\":0,\"ticks\":\"\"},\"type\":\"choropleth\"}],\"contourcarpet\":[{\"colorbar\":{\"outlinewidth\":0,\"ticks\":\"\"},\"type\":\"contourcarpet\"}],\"contour\":[{\"colorbar\":{\"outlinewidth\":0,\"ticks\":\"\"},\"colorscale\":[[0.0,\"#0d0887\"],[0.1111111111111111,\"#46039f\"],[0.2222222222222222,\"#7201a8\"],[0.3333333333333333,\"#9c179e\"],[0.4444444444444444,\"#bd3786\"],[0.5555555555555556,\"#d8576b\"],[0.6666666666666666,\"#ed7953\"],[0.7777777777777778,\"#fb9f3a\"],[0.8888888888888888,\"#fdca26\"],[1.0,\"#f0f921\"]],\"type\":\"contour\"}],\"heatmapgl\":[{\"colorbar\":{\"outlinewidth\":0,\"ticks\":\"\"},\"colorscale\":[[0.0,\"#0d0887\"],[0.1111111111111111,\"#46039f\"],[0.2222222222222222,\"#7201a8\"],[0.3333333333333333,\"#9c179e\"],[0.4444444444444444,\"#bd3786\"],[0.5555555555555556,\"#d8576b\"],[0.6666666666666666,\"#ed7953\"],[0.7777777777777778,\"#fb9f3a\"],[0.8888888888888888,\"#fdca26\"],[1.0,\"#f0f921\"]],\"type\":\"heatmapgl\"}],\"heatmap\":[{\"colorbar\":{\"outlinewidth\":0,\"ticks\":\"\"},\"colorscale\":[[0.0,\"#0d0887\"],[0.1111111111111111,\"#46039f\"],[0.2222222222222222,\"#7201a8\"],[0.3333333333333333,\"#9c179e\"],[0.4444444444444444,\"#bd3786\"],[0.5555555555555556,\"#d8576b\"],[0.6666666666666666,\"#ed7953\"],[0.7777777777777778,\"#fb9f3a\"],[0.8888888888888888,\"#fdca26\"],[1.0,\"#f0f921\"]],\"type\":\"heatmap\"}],\"histogram2dcontour\":[{\"colorbar\":{\"outlinewidth\":0,\"ticks\":\"\"},\"colorscale\":[[0.0,\"#0d0887\"],[0.1111111111111111,\"#46039f\"],[0.2222222222222222,\"#7201a8\"],[0.3333333333333333,\"#9c179e\"],[0.4444444444444444,\"#bd3786\"],[0.5555555555555556,\"#d8576b\"],[0.6666666666666666,\"#ed7953\"],[0.7777777777777778,\"#fb9f3a\"],[0.8888888888888888,\"#fdca26\"],[1.0,\"#f0f921\"]],\"type\":\"histogram2dcontour\"}],\"histogram2d\":[{\"colorbar\":{\"outlinewidth\":0,\"ticks\":\"\"},\"colorscale\":[[0.0,\"#0d0887\"],[0.1111111111111111,\"#46039f\"],[0.2222222222222222,\"#7201a8\"],[0.3333333333333333,\"#9c179e\"],[0.4444444444444444,\"#bd3786\"],[0.5555555555555556,\"#d8576b\"],[0.6666666666666666,\"#ed7953\"],[0.7777777777777778,\"#fb9f3a\"],[0.8888888888888888,\"#fdca26\"],[1.0,\"#f0f921\"]],\"type\":\"histogram2d\"}],\"histogram\":[{\"marker\":{\"pattern\":{\"fillmode\":\"overlay\",\"size\":10,\"solidity\":0.2}},\"type\":\"histogram\"}],\"mesh3d\":[{\"colorbar\":{\"outlinewidth\":0,\"ticks\":\"\"},\"type\":\"mesh3d\"}],\"parcoords\":[{\"line\":{\"colorbar\":{\"outlinewidth\":0,\"ticks\":\"\"}},\"type\":\"parcoords\"}],\"pie\":[{\"automargin\":true,\"type\":\"pie\"}],\"scatter3d\":[{\"line\":{\"colorbar\":{\"outlinewidth\":0,\"ticks\":\"\"}},\"marker\":{\"colorbar\":{\"outlinewidth\":0,\"ticks\":\"\"}},\"type\":\"scatter3d\"}],\"scattercarpet\":[{\"marker\":{\"colorbar\":{\"outlinewidth\":0,\"ticks\":\"\"}},\"type\":\"scattercarpet\"}],\"scattergeo\":[{\"marker\":{\"colorbar\":{\"outlinewidth\":0,\"ticks\":\"\"}},\"type\":\"scattergeo\"}],\"scattergl\":[{\"marker\":{\"colorbar\":{\"outlinewidth\":0,\"ticks\":\"\"}},\"type\":\"scattergl\"}],\"scattermapbox\":[{\"marker\":{\"colorbar\":{\"outlinewidth\":0,\"ticks\":\"\"}},\"type\":\"scattermapbox\"}],\"scatterpolargl\":[{\"marker\":{\"colorbar\":{\"outlinewidth\":0,\"ticks\":\"\"}},\"type\":\"scatterpolargl\"}],\"scatterpolar\":[{\"marker\":{\"colorbar\":{\"outlinewidth\":0,\"ticks\":\"\"}},\"type\":\"scatterpolar\"}],\"scatter\":[{\"fillpattern\":{\"fillmode\":\"overlay\",\"size\":10,\"solidity\":0.2},\"type\":\"scatter\"}],\"scatterternary\":[{\"marker\":{\"colorbar\":{\"outlinewidth\":0,\"ticks\":\"\"}},\"type\":\"scatterternary\"}],\"surface\":[{\"colorbar\":{\"outlinewidth\":0,\"ticks\":\"\"},\"colorscale\":[[0.0,\"#0d0887\"],[0.1111111111111111,\"#46039f\"],[0.2222222222222222,\"#7201a8\"],[0.3333333333333333,\"#9c179e\"],[0.4444444444444444,\"#bd3786\"],[0.5555555555555556,\"#d8576b\"],[0.6666666666666666,\"#ed7953\"],[0.7777777777777778,\"#fb9f3a\"],[0.8888888888888888,\"#fdca26\"],[1.0,\"#f0f921\"]],\"type\":\"surface\"}],\"table\":[{\"cells\":{\"fill\":{\"color\":\"#EBF0F8\"},\"line\":{\"color\":\"white\"}},\"header\":{\"fill\":{\"color\":\"#C8D4E3\"},\"line\":{\"color\":\"white\"}},\"type\":\"table\"}]},\"layout\":{\"annotationdefaults\":{\"arrowcolor\":\"#2a3f5f\",\"arrowhead\":0,\"arrowwidth\":1},\"autotypenumbers\":\"strict\",\"coloraxis\":{\"colorbar\":{\"outlinewidth\":0,\"ticks\":\"\"}},\"colorscale\":{\"diverging\":[[0,\"#8e0152\"],[0.1,\"#c51b7d\"],[0.2,\"#de77ae\"],[0.3,\"#f1b6da\"],[0.4,\"#fde0ef\"],[0.5,\"#f7f7f7\"],[0.6,\"#e6f5d0\"],[0.7,\"#b8e186\"],[0.8,\"#7fbc41\"],[0.9,\"#4d9221\"],[1,\"#276419\"]],\"sequential\":[[0.0,\"#0d0887\"],[0.1111111111111111,\"#46039f\"],[0.2222222222222222,\"#7201a8\"],[0.3333333333333333,\"#9c179e\"],[0.4444444444444444,\"#bd3786\"],[0.5555555555555556,\"#d8576b\"],[0.6666666666666666,\"#ed7953\"],[0.7777777777777778,\"#fb9f3a\"],[0.8888888888888888,\"#fdca26\"],[1.0,\"#f0f921\"]],\"sequentialminus\":[[0.0,\"#0d0887\"],[0.1111111111111111,\"#46039f\"],[0.2222222222222222,\"#7201a8\"],[0.3333333333333333,\"#9c179e\"],[0.4444444444444444,\"#bd3786\"],[0.5555555555555556,\"#d8576b\"],[0.6666666666666666,\"#ed7953\"],[0.7777777777777778,\"#fb9f3a\"],[0.8888888888888888,\"#fdca26\"],[1.0,\"#f0f921\"]]},\"colorway\":[\"#636efa\",\"#EF553B\",\"#00cc96\",\"#ab63fa\",\"#FFA15A\",\"#19d3f3\",\"#FF6692\",\"#B6E880\",\"#FF97FF\",\"#FECB52\"],\"font\":{\"color\":\"#2a3f5f\"},\"geo\":{\"bgcolor\":\"white\",\"lakecolor\":\"white\",\"landcolor\":\"#E5ECF6\",\"showlakes\":true,\"showland\":true,\"subunitcolor\":\"white\"},\"hoverlabel\":{\"align\":\"left\"},\"hovermode\":\"closest\",\"mapbox\":{\"style\":\"light\"},\"paper_bgcolor\":\"white\",\"plot_bgcolor\":\"#E5ECF6\",\"polar\":{\"angularaxis\":{\"gridcolor\":\"white\",\"linecolor\":\"white\",\"ticks\":\"\"},\"bgcolor\":\"#E5ECF6\",\"radialaxis\":{\"gridcolor\":\"white\",\"linecolor\":\"white\",\"ticks\":\"\"}},\"scene\":{\"xaxis\":{\"backgroundcolor\":\"#E5ECF6\",\"gridcolor\":\"white\",\"gridwidth\":2,\"linecolor\":\"white\",\"showbackground\":true,\"ticks\":\"\",\"zerolinecolor\":\"white\"},\"yaxis\":{\"backgroundcolor\":\"#E5ECF6\",\"gridcolor\":\"white\",\"gridwidth\":2,\"linecolor\":\"white\",\"showbackground\":true,\"ticks\":\"\",\"zerolinecolor\":\"white\"},\"zaxis\":{\"backgroundcolor\":\"#E5ECF6\",\"gridcolor\":\"white\",\"gridwidth\":2,\"linecolor\":\"white\",\"showbackground\":true,\"ticks\":\"\",\"zerolinecolor\":\"white\"}},\"shapedefaults\":{\"line\":{\"color\":\"#2a3f5f\"}},\"ternary\":{\"aaxis\":{\"gridcolor\":\"white\",\"linecolor\":\"white\",\"ticks\":\"\"},\"baxis\":{\"gridcolor\":\"white\",\"linecolor\":\"white\",\"ticks\":\"\"},\"bgcolor\":\"#E5ECF6\",\"caxis\":{\"gridcolor\":\"white\",\"linecolor\":\"white\",\"ticks\":\"\"}},\"title\":{\"x\":0.05},\"xaxis\":{\"automargin\":true,\"gridcolor\":\"white\",\"linecolor\":\"white\",\"ticks\":\"\",\"title\":{\"standoff\":15},\"zerolinecolor\":\"white\",\"zerolinewidth\":2},\"yaxis\":{\"automargin\":true,\"gridcolor\":\"white\",\"linecolor\":\"white\",\"ticks\":\"\",\"title\":{\"standoff\":15},\"zerolinecolor\":\"white\",\"zerolinewidth\":2}}},\"title\":{\"text\":\"Top 10 countries based on valuation of unicorn company\"},\"xaxis\":{\"anchor\":\"y\",\"categoryarray\":[\"United States\",\"China\",\"India\",\"United Kingdom\",\"Germany\",\"Sweden\",\"Australia\",\"France\",\"Canada\",\"Israel\"],\"categoryorder\":\"array\",\"domain\":[0.0,1.0],\"title\":{\"text\":\"Country\"}},\"yaxis\":{\"anchor\":\"x\",\"domain\":[0.0,1.0],\"title\":{\"text\":\"Valuation ($B)\"}}},                        {\"responsive\": true}                    ).then(function(){\n",
       "                            \n",
       "var gd = document.getElementById('226744e2-fc54-4700-aa06-872207900cd2');\n",
       "var x = new MutationObserver(function (mutations, observer) {{\n",
       "        var display = window.getComputedStyle(gd).display;\n",
       "        if (!display || display === 'none') {{\n",
       "            console.log([gd, 'removed!']);\n",
       "            Plotly.purge(gd);\n",
       "            observer.disconnect();\n",
       "        }}\n",
       "}});\n",
       "\n",
       "// Listen for the removal of the full notebook cells\n",
       "var notebookContainer = gd.closest('#notebook-container');\n",
       "if (notebookContainer) {{\n",
       "    x.observe(notebookContainer, {childList: true});\n",
       "}}\n",
       "\n",
       "// Listen for the clearing of the current output cell\n",
       "var outputEl = gd.closest('.output');\n",
       "if (outputEl) {{\n",
       "    x.observe(outputEl, {childList: true});\n",
       "}}\n",
       "\n",
       "                        })                };                });            </script>        </div>"
      ]
     },
     "metadata": {},
     "output_type": "display_data"
    }
   ],
   "source": [
    "groupby_country = df.groupby(\"Country\")\n",
    "top10_valuation_country = groupby_country.sum(\"Valuation ($B)\").sort_values(\"Valuation ($B)\",ascending=False)[:10]\n",
    "top10_valuation_country = top10_valuation_country.reset_index()\n",
    "fig = px.bar(top10_valuation_country, \n",
    "             x=\"Country\", \n",
    "             y=\"Valuation ($B)\",\n",
    "             title=\"Top 10 countries based on valuation of unicorn company\",\n",
    "             color=\"Country\", \n",
    "             color_discrete_sequence=px.colors.qualitative.Pastel)\n",
    "iplot(fig)"
   ]
  },
  {
   "cell_type": "markdown",
   "id": "3053a918",
   "metadata": {
    "papermill": {
     "duration": 0.083279,
     "end_time": "2022-05-11T01:23:24.299071",
     "exception": false,
     "start_time": "2022-05-11T01:23:24.215792",
     "status": "completed"
    },
    "tags": []
   },
   "source": [
    "<p style=\"font-size:1.25rem\">\n",
    "The top 10 countries based on the valuation of unicorn company graph shows that the United States has the most valuation value and is clearly different from other countries. And China is the second unicorn company that has the most valuation.\n",
    "</p>"
   ]
  },
  {
   "cell_type": "markdown",
   "id": "43acea0f",
   "metadata": {
    "papermill": {
     "duration": 0.082855,
     "end_time": "2022-05-11T01:23:24.465225",
     "exception": false,
     "start_time": "2022-05-11T01:23:24.382370",
     "status": "completed"
    },
    "tags": []
   },
   "source": [
    "## Proportion of top 10 countries based on number of company"
   ]
  },
  {
   "cell_type": "code",
   "execution_count": 27,
   "id": "a8d0e835",
   "metadata": {
    "execution": {
     "iopub.execute_input": "2022-05-11T01:23:24.633268Z",
     "iopub.status.busy": "2022-05-11T01:23:24.632627Z",
     "iopub.status.idle": "2022-05-11T01:23:24.743669Z",
     "shell.execute_reply": "2022-05-11T01:23:24.742635Z"
    },
    "papermill": {
     "duration": 0.19849,
     "end_time": "2022-05-11T01:23:24.746646",
     "exception": false,
     "start_time": "2022-05-11T01:23:24.548156",
     "status": "completed"
    },
    "tags": []
   },
   "outputs": [
    {
     "data": {
      "application/vnd.plotly.v1+json": {
       "config": {
        "linkText": "Export to plot.ly",
        "plotlyServerURL": "https://plot.ly",
        "showLink": false
       },
       "data": [
        {
         "domain": {
          "x": [
           0,
           1
          ],
          "y": [
           0,
           1
          ]
         },
         "hovertemplate": "Country=%{label}<br>Company=%{value}<extra></extra>",
         "labels": [
          "United States",
          "China",
          "India",
          "United Kingdom",
          "Germany",
          "France",
          "Israel",
          "Canada",
          "Brazil",
          "South Korea"
         ],
         "legendgroup": "",
         "name": "",
         "showlegend": true,
         "type": "pie",
         "values": [
          536,
          168,
          63,
          42,
          24,
          24,
          20,
          19,
          16,
          12
         ]
        }
       ],
       "layout": {
        "legend": {
         "tracegroupgap": 0
        },
        "piecolorway": [
         "rgb(102, 197, 204)",
         "rgb(246, 207, 113)",
         "rgb(248, 156, 116)",
         "rgb(220, 176, 242)",
         "rgb(135, 197, 95)",
         "rgb(158, 185, 243)",
         "rgb(254, 136, 177)",
         "rgb(201, 219, 116)",
         "rgb(139, 224, 164)",
         "rgb(180, 151, 231)",
         "rgb(179, 179, 179)"
        ],
        "template": {
         "data": {
          "bar": [
           {
            "error_x": {
             "color": "#2a3f5f"
            },
            "error_y": {
             "color": "#2a3f5f"
            },
            "marker": {
             "line": {
              "color": "#E5ECF6",
              "width": 0.5
             },
             "pattern": {
              "fillmode": "overlay",
              "size": 10,
              "solidity": 0.2
             }
            },
            "type": "bar"
           }
          ],
          "barpolar": [
           {
            "marker": {
             "line": {
              "color": "#E5ECF6",
              "width": 0.5
             },
             "pattern": {
              "fillmode": "overlay",
              "size": 10,
              "solidity": 0.2
             }
            },
            "type": "barpolar"
           }
          ],
          "carpet": [
           {
            "aaxis": {
             "endlinecolor": "#2a3f5f",
             "gridcolor": "white",
             "linecolor": "white",
             "minorgridcolor": "white",
             "startlinecolor": "#2a3f5f"
            },
            "baxis": {
             "endlinecolor": "#2a3f5f",
             "gridcolor": "white",
             "linecolor": "white",
             "minorgridcolor": "white",
             "startlinecolor": "#2a3f5f"
            },
            "type": "carpet"
           }
          ],
          "choropleth": [
           {
            "colorbar": {
             "outlinewidth": 0,
             "ticks": ""
            },
            "type": "choropleth"
           }
          ],
          "contour": [
           {
            "colorbar": {
             "outlinewidth": 0,
             "ticks": ""
            },
            "colorscale": [
             [
              0,
              "#0d0887"
             ],
             [
              0.1111111111111111,
              "#46039f"
             ],
             [
              0.2222222222222222,
              "#7201a8"
             ],
             [
              0.3333333333333333,
              "#9c179e"
             ],
             [
              0.4444444444444444,
              "#bd3786"
             ],
             [
              0.5555555555555556,
              "#d8576b"
             ],
             [
              0.6666666666666666,
              "#ed7953"
             ],
             [
              0.7777777777777778,
              "#fb9f3a"
             ],
             [
              0.8888888888888888,
              "#fdca26"
             ],
             [
              1,
              "#f0f921"
             ]
            ],
            "type": "contour"
           }
          ],
          "contourcarpet": [
           {
            "colorbar": {
             "outlinewidth": 0,
             "ticks": ""
            },
            "type": "contourcarpet"
           }
          ],
          "heatmap": [
           {
            "colorbar": {
             "outlinewidth": 0,
             "ticks": ""
            },
            "colorscale": [
             [
              0,
              "#0d0887"
             ],
             [
              0.1111111111111111,
              "#46039f"
             ],
             [
              0.2222222222222222,
              "#7201a8"
             ],
             [
              0.3333333333333333,
              "#9c179e"
             ],
             [
              0.4444444444444444,
              "#bd3786"
             ],
             [
              0.5555555555555556,
              "#d8576b"
             ],
             [
              0.6666666666666666,
              "#ed7953"
             ],
             [
              0.7777777777777778,
              "#fb9f3a"
             ],
             [
              0.8888888888888888,
              "#fdca26"
             ],
             [
              1,
              "#f0f921"
             ]
            ],
            "type": "heatmap"
           }
          ],
          "heatmapgl": [
           {
            "colorbar": {
             "outlinewidth": 0,
             "ticks": ""
            },
            "colorscale": [
             [
              0,
              "#0d0887"
             ],
             [
              0.1111111111111111,
              "#46039f"
             ],
             [
              0.2222222222222222,
              "#7201a8"
             ],
             [
              0.3333333333333333,
              "#9c179e"
             ],
             [
              0.4444444444444444,
              "#bd3786"
             ],
             [
              0.5555555555555556,
              "#d8576b"
             ],
             [
              0.6666666666666666,
              "#ed7953"
             ],
             [
              0.7777777777777778,
              "#fb9f3a"
             ],
             [
              0.8888888888888888,
              "#fdca26"
             ],
             [
              1,
              "#f0f921"
             ]
            ],
            "type": "heatmapgl"
           }
          ],
          "histogram": [
           {
            "marker": {
             "pattern": {
              "fillmode": "overlay",
              "size": 10,
              "solidity": 0.2
             }
            },
            "type": "histogram"
           }
          ],
          "histogram2d": [
           {
            "colorbar": {
             "outlinewidth": 0,
             "ticks": ""
            },
            "colorscale": [
             [
              0,
              "#0d0887"
             ],
             [
              0.1111111111111111,
              "#46039f"
             ],
             [
              0.2222222222222222,
              "#7201a8"
             ],
             [
              0.3333333333333333,
              "#9c179e"
             ],
             [
              0.4444444444444444,
              "#bd3786"
             ],
             [
              0.5555555555555556,
              "#d8576b"
             ],
             [
              0.6666666666666666,
              "#ed7953"
             ],
             [
              0.7777777777777778,
              "#fb9f3a"
             ],
             [
              0.8888888888888888,
              "#fdca26"
             ],
             [
              1,
              "#f0f921"
             ]
            ],
            "type": "histogram2d"
           }
          ],
          "histogram2dcontour": [
           {
            "colorbar": {
             "outlinewidth": 0,
             "ticks": ""
            },
            "colorscale": [
             [
              0,
              "#0d0887"
             ],
             [
              0.1111111111111111,
              "#46039f"
             ],
             [
              0.2222222222222222,
              "#7201a8"
             ],
             [
              0.3333333333333333,
              "#9c179e"
             ],
             [
              0.4444444444444444,
              "#bd3786"
             ],
             [
              0.5555555555555556,
              "#d8576b"
             ],
             [
              0.6666666666666666,
              "#ed7953"
             ],
             [
              0.7777777777777778,
              "#fb9f3a"
             ],
             [
              0.8888888888888888,
              "#fdca26"
             ],
             [
              1,
              "#f0f921"
             ]
            ],
            "type": "histogram2dcontour"
           }
          ],
          "mesh3d": [
           {
            "colorbar": {
             "outlinewidth": 0,
             "ticks": ""
            },
            "type": "mesh3d"
           }
          ],
          "parcoords": [
           {
            "line": {
             "colorbar": {
              "outlinewidth": 0,
              "ticks": ""
             }
            },
            "type": "parcoords"
           }
          ],
          "pie": [
           {
            "automargin": true,
            "type": "pie"
           }
          ],
          "scatter": [
           {
            "fillpattern": {
             "fillmode": "overlay",
             "size": 10,
             "solidity": 0.2
            },
            "type": "scatter"
           }
          ],
          "scatter3d": [
           {
            "line": {
             "colorbar": {
              "outlinewidth": 0,
              "ticks": ""
             }
            },
            "marker": {
             "colorbar": {
              "outlinewidth": 0,
              "ticks": ""
             }
            },
            "type": "scatter3d"
           }
          ],
          "scattercarpet": [
           {
            "marker": {
             "colorbar": {
              "outlinewidth": 0,
              "ticks": ""
             }
            },
            "type": "scattercarpet"
           }
          ],
          "scattergeo": [
           {
            "marker": {
             "colorbar": {
              "outlinewidth": 0,
              "ticks": ""
             }
            },
            "type": "scattergeo"
           }
          ],
          "scattergl": [
           {
            "marker": {
             "colorbar": {
              "outlinewidth": 0,
              "ticks": ""
             }
            },
            "type": "scattergl"
           }
          ],
          "scattermapbox": [
           {
            "marker": {
             "colorbar": {
              "outlinewidth": 0,
              "ticks": ""
             }
            },
            "type": "scattermapbox"
           }
          ],
          "scatterpolar": [
           {
            "marker": {
             "colorbar": {
              "outlinewidth": 0,
              "ticks": ""
             }
            },
            "type": "scatterpolar"
           }
          ],
          "scatterpolargl": [
           {
            "marker": {
             "colorbar": {
              "outlinewidth": 0,
              "ticks": ""
             }
            },
            "type": "scatterpolargl"
           }
          ],
          "scatterternary": [
           {
            "marker": {
             "colorbar": {
              "outlinewidth": 0,
              "ticks": ""
             }
            },
            "type": "scatterternary"
           }
          ],
          "surface": [
           {
            "colorbar": {
             "outlinewidth": 0,
             "ticks": ""
            },
            "colorscale": [
             [
              0,
              "#0d0887"
             ],
             [
              0.1111111111111111,
              "#46039f"
             ],
             [
              0.2222222222222222,
              "#7201a8"
             ],
             [
              0.3333333333333333,
              "#9c179e"
             ],
             [
              0.4444444444444444,
              "#bd3786"
             ],
             [
              0.5555555555555556,
              "#d8576b"
             ],
             [
              0.6666666666666666,
              "#ed7953"
             ],
             [
              0.7777777777777778,
              "#fb9f3a"
             ],
             [
              0.8888888888888888,
              "#fdca26"
             ],
             [
              1,
              "#f0f921"
             ]
            ],
            "type": "surface"
           }
          ],
          "table": [
           {
            "cells": {
             "fill": {
              "color": "#EBF0F8"
             },
             "line": {
              "color": "white"
             }
            },
            "header": {
             "fill": {
              "color": "#C8D4E3"
             },
             "line": {
              "color": "white"
             }
            },
            "type": "table"
           }
          ]
         },
         "layout": {
          "annotationdefaults": {
           "arrowcolor": "#2a3f5f",
           "arrowhead": 0,
           "arrowwidth": 1
          },
          "autotypenumbers": "strict",
          "coloraxis": {
           "colorbar": {
            "outlinewidth": 0,
            "ticks": ""
           }
          },
          "colorscale": {
           "diverging": [
            [
             0,
             "#8e0152"
            ],
            [
             0.1,
             "#c51b7d"
            ],
            [
             0.2,
             "#de77ae"
            ],
            [
             0.3,
             "#f1b6da"
            ],
            [
             0.4,
             "#fde0ef"
            ],
            [
             0.5,
             "#f7f7f7"
            ],
            [
             0.6,
             "#e6f5d0"
            ],
            [
             0.7,
             "#b8e186"
            ],
            [
             0.8,
             "#7fbc41"
            ],
            [
             0.9,
             "#4d9221"
            ],
            [
             1,
             "#276419"
            ]
           ],
           "sequential": [
            [
             0,
             "#0d0887"
            ],
            [
             0.1111111111111111,
             "#46039f"
            ],
            [
             0.2222222222222222,
             "#7201a8"
            ],
            [
             0.3333333333333333,
             "#9c179e"
            ],
            [
             0.4444444444444444,
             "#bd3786"
            ],
            [
             0.5555555555555556,
             "#d8576b"
            ],
            [
             0.6666666666666666,
             "#ed7953"
            ],
            [
             0.7777777777777778,
             "#fb9f3a"
            ],
            [
             0.8888888888888888,
             "#fdca26"
            ],
            [
             1,
             "#f0f921"
            ]
           ],
           "sequentialminus": [
            [
             0,
             "#0d0887"
            ],
            [
             0.1111111111111111,
             "#46039f"
            ],
            [
             0.2222222222222222,
             "#7201a8"
            ],
            [
             0.3333333333333333,
             "#9c179e"
            ],
            [
             0.4444444444444444,
             "#bd3786"
            ],
            [
             0.5555555555555556,
             "#d8576b"
            ],
            [
             0.6666666666666666,
             "#ed7953"
            ],
            [
             0.7777777777777778,
             "#fb9f3a"
            ],
            [
             0.8888888888888888,
             "#fdca26"
            ],
            [
             1,
             "#f0f921"
            ]
           ]
          },
          "colorway": [
           "#636efa",
           "#EF553B",
           "#00cc96",
           "#ab63fa",
           "#FFA15A",
           "#19d3f3",
           "#FF6692",
           "#B6E880",
           "#FF97FF",
           "#FECB52"
          ],
          "font": {
           "color": "#2a3f5f"
          },
          "geo": {
           "bgcolor": "white",
           "lakecolor": "white",
           "landcolor": "#E5ECF6",
           "showlakes": true,
           "showland": true,
           "subunitcolor": "white"
          },
          "hoverlabel": {
           "align": "left"
          },
          "hovermode": "closest",
          "mapbox": {
           "style": "light"
          },
          "paper_bgcolor": "white",
          "plot_bgcolor": "#E5ECF6",
          "polar": {
           "angularaxis": {
            "gridcolor": "white",
            "linecolor": "white",
            "ticks": ""
           },
           "bgcolor": "#E5ECF6",
           "radialaxis": {
            "gridcolor": "white",
            "linecolor": "white",
            "ticks": ""
           }
          },
          "scene": {
           "xaxis": {
            "backgroundcolor": "#E5ECF6",
            "gridcolor": "white",
            "gridwidth": 2,
            "linecolor": "white",
            "showbackground": true,
            "ticks": "",
            "zerolinecolor": "white"
           },
           "yaxis": {
            "backgroundcolor": "#E5ECF6",
            "gridcolor": "white",
            "gridwidth": 2,
            "linecolor": "white",
            "showbackground": true,
            "ticks": "",
            "zerolinecolor": "white"
           },
           "zaxis": {
            "backgroundcolor": "#E5ECF6",
            "gridcolor": "white",
            "gridwidth": 2,
            "linecolor": "white",
            "showbackground": true,
            "ticks": "",
            "zerolinecolor": "white"
           }
          },
          "shapedefaults": {
           "line": {
            "color": "#2a3f5f"
           }
          },
          "ternary": {
           "aaxis": {
            "gridcolor": "white",
            "linecolor": "white",
            "ticks": ""
           },
           "baxis": {
            "gridcolor": "white",
            "linecolor": "white",
            "ticks": ""
           },
           "bgcolor": "#E5ECF6",
           "caxis": {
            "gridcolor": "white",
            "linecolor": "white",
            "ticks": ""
           }
          },
          "title": {
           "x": 0.05
          },
          "xaxis": {
           "automargin": true,
           "gridcolor": "white",
           "linecolor": "white",
           "ticks": "",
           "title": {
            "standoff": 15
           },
           "zerolinecolor": "white",
           "zerolinewidth": 2
          },
          "yaxis": {
           "automargin": true,
           "gridcolor": "white",
           "linecolor": "white",
           "ticks": "",
           "title": {
            "standoff": 15
           },
           "zerolinecolor": "white",
           "zerolinewidth": 2
          }
         }
        },
        "title": {
         "text": "Proportion of top 10 countries based on number of company"
        }
       }
      },
      "text/html": [
       "<div>                            <div id=\"86a67764-0fad-4b43-bcce-4319c5f9e680\" class=\"plotly-graph-div\" style=\"height:525px; width:100%;\"></div>            <script type=\"text/javascript\">                require([\"plotly\"], function(Plotly) {                    window.PLOTLYENV=window.PLOTLYENV || {};                                    if (document.getElementById(\"86a67764-0fad-4b43-bcce-4319c5f9e680\")) {                    Plotly.newPlot(                        \"86a67764-0fad-4b43-bcce-4319c5f9e680\",                        [{\"domain\":{\"x\":[0.0,1.0],\"y\":[0.0,1.0]},\"hovertemplate\":\"Country=%{label}<br>Company=%{value}<extra></extra>\",\"labels\":[\"United States\",\"China\",\"India\",\"United Kingdom\",\"Germany\",\"France\",\"Israel\",\"Canada\",\"Brazil\",\"South Korea\"],\"legendgroup\":\"\",\"name\":\"\",\"showlegend\":true,\"values\":[536,168,63,42,24,24,20,19,16,12],\"type\":\"pie\"}],                        {\"legend\":{\"tracegroupgap\":0},\"piecolorway\":[\"rgb(102, 197, 204)\",\"rgb(246, 207, 113)\",\"rgb(248, 156, 116)\",\"rgb(220, 176, 242)\",\"rgb(135, 197, 95)\",\"rgb(158, 185, 243)\",\"rgb(254, 136, 177)\",\"rgb(201, 219, 116)\",\"rgb(139, 224, 164)\",\"rgb(180, 151, 231)\",\"rgb(179, 179, 179)\"],\"template\":{\"data\":{\"barpolar\":[{\"marker\":{\"line\":{\"color\":\"#E5ECF6\",\"width\":0.5},\"pattern\":{\"fillmode\":\"overlay\",\"size\":10,\"solidity\":0.2}},\"type\":\"barpolar\"}],\"bar\":[{\"error_x\":{\"color\":\"#2a3f5f\"},\"error_y\":{\"color\":\"#2a3f5f\"},\"marker\":{\"line\":{\"color\":\"#E5ECF6\",\"width\":0.5},\"pattern\":{\"fillmode\":\"overlay\",\"size\":10,\"solidity\":0.2}},\"type\":\"bar\"}],\"carpet\":[{\"aaxis\":{\"endlinecolor\":\"#2a3f5f\",\"gridcolor\":\"white\",\"linecolor\":\"white\",\"minorgridcolor\":\"white\",\"startlinecolor\":\"#2a3f5f\"},\"baxis\":{\"endlinecolor\":\"#2a3f5f\",\"gridcolor\":\"white\",\"linecolor\":\"white\",\"minorgridcolor\":\"white\",\"startlinecolor\":\"#2a3f5f\"},\"type\":\"carpet\"}],\"choropleth\":[{\"colorbar\":{\"outlinewidth\":0,\"ticks\":\"\"},\"type\":\"choropleth\"}],\"contourcarpet\":[{\"colorbar\":{\"outlinewidth\":0,\"ticks\":\"\"},\"type\":\"contourcarpet\"}],\"contour\":[{\"colorbar\":{\"outlinewidth\":0,\"ticks\":\"\"},\"colorscale\":[[0.0,\"#0d0887\"],[0.1111111111111111,\"#46039f\"],[0.2222222222222222,\"#7201a8\"],[0.3333333333333333,\"#9c179e\"],[0.4444444444444444,\"#bd3786\"],[0.5555555555555556,\"#d8576b\"],[0.6666666666666666,\"#ed7953\"],[0.7777777777777778,\"#fb9f3a\"],[0.8888888888888888,\"#fdca26\"],[1.0,\"#f0f921\"]],\"type\":\"contour\"}],\"heatmapgl\":[{\"colorbar\":{\"outlinewidth\":0,\"ticks\":\"\"},\"colorscale\":[[0.0,\"#0d0887\"],[0.1111111111111111,\"#46039f\"],[0.2222222222222222,\"#7201a8\"],[0.3333333333333333,\"#9c179e\"],[0.4444444444444444,\"#bd3786\"],[0.5555555555555556,\"#d8576b\"],[0.6666666666666666,\"#ed7953\"],[0.7777777777777778,\"#fb9f3a\"],[0.8888888888888888,\"#fdca26\"],[1.0,\"#f0f921\"]],\"type\":\"heatmapgl\"}],\"heatmap\":[{\"colorbar\":{\"outlinewidth\":0,\"ticks\":\"\"},\"colorscale\":[[0.0,\"#0d0887\"],[0.1111111111111111,\"#46039f\"],[0.2222222222222222,\"#7201a8\"],[0.3333333333333333,\"#9c179e\"],[0.4444444444444444,\"#bd3786\"],[0.5555555555555556,\"#d8576b\"],[0.6666666666666666,\"#ed7953\"],[0.7777777777777778,\"#fb9f3a\"],[0.8888888888888888,\"#fdca26\"],[1.0,\"#f0f921\"]],\"type\":\"heatmap\"}],\"histogram2dcontour\":[{\"colorbar\":{\"outlinewidth\":0,\"ticks\":\"\"},\"colorscale\":[[0.0,\"#0d0887\"],[0.1111111111111111,\"#46039f\"],[0.2222222222222222,\"#7201a8\"],[0.3333333333333333,\"#9c179e\"],[0.4444444444444444,\"#bd3786\"],[0.5555555555555556,\"#d8576b\"],[0.6666666666666666,\"#ed7953\"],[0.7777777777777778,\"#fb9f3a\"],[0.8888888888888888,\"#fdca26\"],[1.0,\"#f0f921\"]],\"type\":\"histogram2dcontour\"}],\"histogram2d\":[{\"colorbar\":{\"outlinewidth\":0,\"ticks\":\"\"},\"colorscale\":[[0.0,\"#0d0887\"],[0.1111111111111111,\"#46039f\"],[0.2222222222222222,\"#7201a8\"],[0.3333333333333333,\"#9c179e\"],[0.4444444444444444,\"#bd3786\"],[0.5555555555555556,\"#d8576b\"],[0.6666666666666666,\"#ed7953\"],[0.7777777777777778,\"#fb9f3a\"],[0.8888888888888888,\"#fdca26\"],[1.0,\"#f0f921\"]],\"type\":\"histogram2d\"}],\"histogram\":[{\"marker\":{\"pattern\":{\"fillmode\":\"overlay\",\"size\":10,\"solidity\":0.2}},\"type\":\"histogram\"}],\"mesh3d\":[{\"colorbar\":{\"outlinewidth\":0,\"ticks\":\"\"},\"type\":\"mesh3d\"}],\"parcoords\":[{\"line\":{\"colorbar\":{\"outlinewidth\":0,\"ticks\":\"\"}},\"type\":\"parcoords\"}],\"pie\":[{\"automargin\":true,\"type\":\"pie\"}],\"scatter3d\":[{\"line\":{\"colorbar\":{\"outlinewidth\":0,\"ticks\":\"\"}},\"marker\":{\"colorbar\":{\"outlinewidth\":0,\"ticks\":\"\"}},\"type\":\"scatter3d\"}],\"scattercarpet\":[{\"marker\":{\"colorbar\":{\"outlinewidth\":0,\"ticks\":\"\"}},\"type\":\"scattercarpet\"}],\"scattergeo\":[{\"marker\":{\"colorbar\":{\"outlinewidth\":0,\"ticks\":\"\"}},\"type\":\"scattergeo\"}],\"scattergl\":[{\"marker\":{\"colorbar\":{\"outlinewidth\":0,\"ticks\":\"\"}},\"type\":\"scattergl\"}],\"scattermapbox\":[{\"marker\":{\"colorbar\":{\"outlinewidth\":0,\"ticks\":\"\"}},\"type\":\"scattermapbox\"}],\"scatterpolargl\":[{\"marker\":{\"colorbar\":{\"outlinewidth\":0,\"ticks\":\"\"}},\"type\":\"scatterpolargl\"}],\"scatterpolar\":[{\"marker\":{\"colorbar\":{\"outlinewidth\":0,\"ticks\":\"\"}},\"type\":\"scatterpolar\"}],\"scatter\":[{\"fillpattern\":{\"fillmode\":\"overlay\",\"size\":10,\"solidity\":0.2},\"type\":\"scatter\"}],\"scatterternary\":[{\"marker\":{\"colorbar\":{\"outlinewidth\":0,\"ticks\":\"\"}},\"type\":\"scatterternary\"}],\"surface\":[{\"colorbar\":{\"outlinewidth\":0,\"ticks\":\"\"},\"colorscale\":[[0.0,\"#0d0887\"],[0.1111111111111111,\"#46039f\"],[0.2222222222222222,\"#7201a8\"],[0.3333333333333333,\"#9c179e\"],[0.4444444444444444,\"#bd3786\"],[0.5555555555555556,\"#d8576b\"],[0.6666666666666666,\"#ed7953\"],[0.7777777777777778,\"#fb9f3a\"],[0.8888888888888888,\"#fdca26\"],[1.0,\"#f0f921\"]],\"type\":\"surface\"}],\"table\":[{\"cells\":{\"fill\":{\"color\":\"#EBF0F8\"},\"line\":{\"color\":\"white\"}},\"header\":{\"fill\":{\"color\":\"#C8D4E3\"},\"line\":{\"color\":\"white\"}},\"type\":\"table\"}]},\"layout\":{\"annotationdefaults\":{\"arrowcolor\":\"#2a3f5f\",\"arrowhead\":0,\"arrowwidth\":1},\"autotypenumbers\":\"strict\",\"coloraxis\":{\"colorbar\":{\"outlinewidth\":0,\"ticks\":\"\"}},\"colorscale\":{\"diverging\":[[0,\"#8e0152\"],[0.1,\"#c51b7d\"],[0.2,\"#de77ae\"],[0.3,\"#f1b6da\"],[0.4,\"#fde0ef\"],[0.5,\"#f7f7f7\"],[0.6,\"#e6f5d0\"],[0.7,\"#b8e186\"],[0.8,\"#7fbc41\"],[0.9,\"#4d9221\"],[1,\"#276419\"]],\"sequential\":[[0.0,\"#0d0887\"],[0.1111111111111111,\"#46039f\"],[0.2222222222222222,\"#7201a8\"],[0.3333333333333333,\"#9c179e\"],[0.4444444444444444,\"#bd3786\"],[0.5555555555555556,\"#d8576b\"],[0.6666666666666666,\"#ed7953\"],[0.7777777777777778,\"#fb9f3a\"],[0.8888888888888888,\"#fdca26\"],[1.0,\"#f0f921\"]],\"sequentialminus\":[[0.0,\"#0d0887\"],[0.1111111111111111,\"#46039f\"],[0.2222222222222222,\"#7201a8\"],[0.3333333333333333,\"#9c179e\"],[0.4444444444444444,\"#bd3786\"],[0.5555555555555556,\"#d8576b\"],[0.6666666666666666,\"#ed7953\"],[0.7777777777777778,\"#fb9f3a\"],[0.8888888888888888,\"#fdca26\"],[1.0,\"#f0f921\"]]},\"colorway\":[\"#636efa\",\"#EF553B\",\"#00cc96\",\"#ab63fa\",\"#FFA15A\",\"#19d3f3\",\"#FF6692\",\"#B6E880\",\"#FF97FF\",\"#FECB52\"],\"font\":{\"color\":\"#2a3f5f\"},\"geo\":{\"bgcolor\":\"white\",\"lakecolor\":\"white\",\"landcolor\":\"#E5ECF6\",\"showlakes\":true,\"showland\":true,\"subunitcolor\":\"white\"},\"hoverlabel\":{\"align\":\"left\"},\"hovermode\":\"closest\",\"mapbox\":{\"style\":\"light\"},\"paper_bgcolor\":\"white\",\"plot_bgcolor\":\"#E5ECF6\",\"polar\":{\"angularaxis\":{\"gridcolor\":\"white\",\"linecolor\":\"white\",\"ticks\":\"\"},\"bgcolor\":\"#E5ECF6\",\"radialaxis\":{\"gridcolor\":\"white\",\"linecolor\":\"white\",\"ticks\":\"\"}},\"scene\":{\"xaxis\":{\"backgroundcolor\":\"#E5ECF6\",\"gridcolor\":\"white\",\"gridwidth\":2,\"linecolor\":\"white\",\"showbackground\":true,\"ticks\":\"\",\"zerolinecolor\":\"white\"},\"yaxis\":{\"backgroundcolor\":\"#E5ECF6\",\"gridcolor\":\"white\",\"gridwidth\":2,\"linecolor\":\"white\",\"showbackground\":true,\"ticks\":\"\",\"zerolinecolor\":\"white\"},\"zaxis\":{\"backgroundcolor\":\"#E5ECF6\",\"gridcolor\":\"white\",\"gridwidth\":2,\"linecolor\":\"white\",\"showbackground\":true,\"ticks\":\"\",\"zerolinecolor\":\"white\"}},\"shapedefaults\":{\"line\":{\"color\":\"#2a3f5f\"}},\"ternary\":{\"aaxis\":{\"gridcolor\":\"white\",\"linecolor\":\"white\",\"ticks\":\"\"},\"baxis\":{\"gridcolor\":\"white\",\"linecolor\":\"white\",\"ticks\":\"\"},\"bgcolor\":\"#E5ECF6\",\"caxis\":{\"gridcolor\":\"white\",\"linecolor\":\"white\",\"ticks\":\"\"}},\"title\":{\"x\":0.05},\"xaxis\":{\"automargin\":true,\"gridcolor\":\"white\",\"linecolor\":\"white\",\"ticks\":\"\",\"title\":{\"standoff\":15},\"zerolinecolor\":\"white\",\"zerolinewidth\":2},\"yaxis\":{\"automargin\":true,\"gridcolor\":\"white\",\"linecolor\":\"white\",\"ticks\":\"\",\"title\":{\"standoff\":15},\"zerolinecolor\":\"white\",\"zerolinewidth\":2}}},\"title\":{\"text\":\"Proportion of top 10 countries based on number of company\"}},                        {\"responsive\": true}                    ).then(function(){\n",
       "                            \n",
       "var gd = document.getElementById('86a67764-0fad-4b43-bcce-4319c5f9e680');\n",
       "var x = new MutationObserver(function (mutations, observer) {{\n",
       "        var display = window.getComputedStyle(gd).display;\n",
       "        if (!display || display === 'none') {{\n",
       "            console.log([gd, 'removed!']);\n",
       "            Plotly.purge(gd);\n",
       "            observer.disconnect();\n",
       "        }}\n",
       "}});\n",
       "\n",
       "// Listen for the removal of the full notebook cells\n",
       "var notebookContainer = gd.closest('#notebook-container');\n",
       "if (notebookContainer) {{\n",
       "    x.observe(notebookContainer, {childList: true});\n",
       "}}\n",
       "\n",
       "// Listen for the clearing of the current output cell\n",
       "var outputEl = gd.closest('.output');\n",
       "if (outputEl) {{\n",
       "    x.observe(outputEl, {childList: true});\n",
       "}}\n",
       "\n",
       "                        })                };                });            </script>        </div>"
      ]
     },
     "metadata": {},
     "output_type": "display_data"
    }
   ],
   "source": [
    "groupby_country = df.groupby(\"Country\")\n",
    "top10_company_country = groupby_country.count().sort_values(\"Company\",ascending=False)[:10]\n",
    "top10_company_country = top10_company_country.reset_index()\n",
    "fig = px.pie(top10_company_country,\n",
    "             values='Company',\n",
    "             names='Country',\n",
    "             title='Proportion of top 10 countries based on number of company',\n",
    "             color_discrete_sequence=px.colors.qualitative.Pastel)\n",
    "iplot(fig)"
   ]
  },
  {
   "cell_type": "markdown",
   "id": "fdce8e91",
   "metadata": {
    "papermill": {
     "duration": 0.092001,
     "end_time": "2022-05-11T01:23:24.932112",
     "exception": false,
     "start_time": "2022-05-11T01:23:24.840111",
     "status": "completed"
    },
    "tags": []
   },
   "source": [
    "<p style=\"font-size:1.25rem\">\n",
    "    The proportion of the top 10 countries based on the number of company chart shows that the United States has unicorn companies more than half of all unicorn companies, followed by China with 18.2%.\n",
    "</p>"
   ]
  },
  {
   "cell_type": "markdown",
   "id": "7c3062b8",
   "metadata": {
    "papermill": {
     "duration": 0.089494,
     "end_time": "2022-05-11T01:23:25.111419",
     "exception": false,
     "start_time": "2022-05-11T01:23:25.021925",
     "status": "completed"
    },
    "tags": []
   },
   "source": [
    "## Treemap of Valuation based on industry, country, and city"
   ]
  },
  {
   "cell_type": "code",
   "execution_count": 28,
   "id": "e83c8b57",
   "metadata": {
    "execution": {
     "iopub.execute_input": "2022-05-11T01:23:25.295698Z",
     "iopub.status.busy": "2022-05-11T01:23:25.295138Z",
     "iopub.status.idle": "2022-05-11T01:23:25.871117Z",
     "shell.execute_reply": "2022-05-11T01:23:25.870128Z"
    },
    "papermill": {
     "duration": 0.684159,
     "end_time": "2022-05-11T01:23:25.886941",
     "exception": false,
     "start_time": "2022-05-11T01:23:25.202782",
     "status": "completed"
    },
    "tags": []
   },
   "outputs": [
    {
     "data": {
      "application/vnd.plotly.v1+json": {
       "config": {
        "linkText": "Export to plot.ly",
        "plotlyServerURL": "https://plot.ly",
        "showLink": false
       },
       "data": [
        {
         "branchvalues": "total",
         "domain": {
          "x": [
           0,
           1
          ],
          "y": [
           0,
           1
          ]
         },
         "hovertemplate": "labels=%{label}<br>Valuation ($B)=%{value}<br>parent=%{parent}<br>id=%{id}<extra></extra>",
         "ids": [
          "INTERNET SOFTWARE & SERVICES/United States/Zephyr Cove/1047 Games",
          "HARDWARE/China/Hangzhou/1KMXC",
          "CYBERSECURITY/Canada/Toronto/1Password",
          "ARTIFICIAL INTELLIGENCE/China/Beijing/4Paradigm",
          "SUPPLY CHAIN, LOGISTICS, & DELIVERY/China/Shanghai/56PINGTAI",
          "INTERNET SOFTWARE & SERVICES/China/Beijing/58 Daojia",
          "ARTIFICIAL INTELLIGENCE/United States/San Francisco/6Sense",
          "OTHER/United States/El Segundo/ABL Space Systems",
          "AUTO & TRANSPORTATION/China/Shanghai/AIWAYS",
          "ARTIFICIAL INTELLIGENCE/United States/New York/ASAPP",
          "OTHER/United Kingdom/Colchester/Accelerant",
          "FINTECH/India/Bengaluru/Acko General Insurance",
          "CYBERSECURITY/Switzerland/Schaffhausen/Acronis",
          "INTERNET SOFTWARE & SERVICES/United States/Chicago/ActiveCampaign",
          "ARTIFICIAL INTELLIGENCE/Canada/Toronto/Ada Support",
          "FINTECH/United States/Mountain View/Addepar",
          "VISION PLUS CAPITAL, GSR VENTURES, ZHENFUND/Singapore/Artificial intelligence/Advance Intelligence Group",
          "ARTIFICIAL INTELLIGENCE/Bermuda/Hamilton/Afiniti",
          "EDTECH/United States/Glendale/Age of Learning",
          "FINTECH/United States/Denver/AgentSync",
          "HARDWARE/Germany/Munich/Agile Robots",
          "ARTIFICIAL INTELLIGENCE/China/Beijing/Aibee",
          "INTERNET SOFTWARE & SERVICES/United States/San Francisco/Airbyte",
          "INTERNET SOFTWARE & SERVICES/United States/New York/Aircall",
          "INTERNET SOFTWARE & SERVICES/United States/San Francisco/Airtable",
          "FINTECH/Australia/Melbourne/Airwallex",
          "INTERNET SOFTWARE & SERVICES/Finland/Helsinki/Aiven",
          "FINTECH/Indonesia/Jakarta/Ajaib",
          "E-COMMERCE & DIRECT-TO-CONSUMER/Indonesia/Jakarta/Akulaku",
          "FINTECH/France/Paris/Alan",
          "INTERNET SOFTWARE & SERVICES/United States/Redwood City/Alation",
          "FINTECH/United States/San Francisco/Alchemy",
          "HEALTH/United States/Bethesda/Aledade",
          "CYBERSECURITY/United States/San Francisco/Aleo",
          "INTERNET SOFTWARE & SERVICES/United States/San Francisco/Algolia",
          "FINTECH/United States/New York/Alloy",
          "HEALTH/United States/San Francisco/Alto Pharmacy",
          "HEALTH/United States/Framingham/Alzheon",
          "TIGER GLOBAL MANAGEMENT, TIGER BROKERS, DCM VENTURES/Hong Kong/Fintech/Amber Group",
          "FINTECH/United States/Chicago/Amount",
          "ARTIFICIAL INTELLIGENCE/United States/Seattle/Amperity",
          "FINTECH/United States/San Francisco/Anchorage Digital",
          "INTERNET SOFTWARE & SERVICES/United States/New York/Andela",
          "ARTIFICIAL INTELLIGENCE/United States/Irvine/Anduril",
          "E-COMMERCE & DIRECT-TO-CONSUMER/France/Paris/Ankorstore",
          "ARTIFICIAL INTELLIGENCE/United States/Berkeley/Anyscale",
          "OTHER/United States/Goleta/Apeel Sciences",
          "E-COMMERCE & DIRECT-TO-CONSUMER/United States/San Francisco/AppDirect",
          "DATA MANAGEMENT & ANALYTICS/United States/Sunnyvale/Applied Intuition",
          "EDTECH/Canada/Kitchener/ApplyBoard",
          "MOBILE & TELECOMMUNICATIONS/United States/San Francisco/AppsFlyer",
          "HEALTH/South Korea/Seongnam-Si/Aprogen",
          "MOBILE & TELECOMMUNICATIONS/China/Beijing/Apus Group",
          "CYBERSECURITY/Israel/Ramat Gan/Aqua Security",
          "CYBERSECURITY/United States/Eden Prairie/Arctic Wolf Networks",
          "ARTIFICIAL INTELLIGENCE/United States/Pittsburgh/Argo AI",
          "HEALTH/China/Beijing/Arrail Dental",
          "EDTECH/United States/New York/Articulate",
          "FINTECH/Thailand/Bangkok/Ascend Money",
          "INTERNET SOFTWARE & SERVICES/United States/Culver City/Assembly",
          "SUPPLY CHAIN, LOGISTICS, & DELIVERY/Canada/Ottawa/Assent Compliance",
          "MOBILE & TELECOMMUNICATIONS/United States/San Francisco/Astranis Space Technologies",
          "FINTECH/United States/Mountain View/At-Bay",
          "HEALTH/United States/Mountain View/Athelas",
          "HEALTH/United States/New York/Athletic Greens",
          "MOBILE & TELECOMMUNICATIONS/United States/Hoboken/Attentive",
          "ARTIFICIAL INTELLIGENCE/United States/New York/Augury",
          "CYBERSECURITY/United States/Burlington/Aura",
          "INTERNET SOFTWARE & SERVICES/United States/San Francisco/Aurora Solar",
          "ARTIFICIAL INTELLIGENCE/United States/San Jose/Automation Anywhere",
          "INTERNET SOFTWARE & SERVICES/United States/San Francisco/Automattic",
          "ARTIFICIAL INTELLIGENCE/United States/Chicago/Avant",
          "INTERNET SOFTWARE & SERVICES/United States/Santa Clara/Aviatrix",
          "E-COMMERCE & DIRECT-TO-CONSUMER/United States/New York/Away",
          "INTERNET SOFTWARE & SERVICES/Canada/Waterloo/Axelar",
          "OTHER/United States/Houston/Axiom Space",
          "CYBERSECURITY/United States/New York/Axonius",
          "DATA MANAGEMENT & ANALYTICS/United States/Berkeley Heights/Axtria",
          "FINTECH/United Kingdom/Peterborough/BGL Group",
          "EDTECH/India/Bengaluru/BYJU's",
          "AUTO & TRANSPORTATION/China/Nanjing/BYTON",
          "E-COMMERCE & DIRECT-TO-CONSUMER/France/Paris/Back Market",
          "FINTECH/China/Beijing/Baiwang",
          "AUTO & TRANSPORTATION/China/Shanghai/Banma Network Technologies",
          "E-COMMERCE & DIRECT-TO-CONSUMER/China/Hangzhou/BeiBei",
          "INTERNET SOFTWARE & SERVICES/China/Beijing/Beisen",
          "INTERNET SOFTWARE & SERVICES/United States/San Francisco/Benchling",
          "ARTIFICIAL INTELLIGENCE/United Kingdom/London/BenevolentAI",
          "E-COMMERCE & DIRECT-TO-CONSUMER/Germany/Berlin/Berlin Brands Group",
          "FINTECH/United States/New York/Better.com",
          "INTERNET SOFTWARE & SERVICES/United States/San Francisco/BetterUp",
          "ARTIFICIAL INTELLIGENCE/Chile/Santiago/Betterfly",
          "FINTECH/United States/New York/Betterment",
          "CYBERSECURITY/United States/New York/Beyond Identity",
          "FINTECH/India/New Delhi/BharatPe",
          "CYBERSECURITY/United States/New York/BigID",
          "ARTIFICIAL INTELLIGENCE/United States/Mountain View/BigPanda",
          "HEALTH/United States/San Diego/Biosplice Therapeutics",
          "HARDWARE/China/Shanghai/Biren Technology",
          "HARDWARE/Netherlands/Amsterdam/BitFury",
          "FINTECH/Austria/Vienna/BitPanda",
          "CYBERSECURITY/United States/Boston/BitSight Technologies",
          "HARDWARE/China/Beijing/Bitmain Technologies",
          "FINTECH/Mexico/Mexico City/Bitso",
          "AUTO & TRANSPORTATION/France/Paris/BlaBlaCar",
          "ARTIFICIAL INTELLIGENCE/China/Shanghai/Black Sesame Technologies",
          "OTHER/United States/Los Angeles/Black Unicorn Factory",
          "SUPPLY CHAIN, LOGISTICS, & DELIVERY/India/Bengaluru/BlackBuck",
          "SUPPLY CHAIN, LOGISTICS, & DELIVERY/India/Gurgaon/Blinkit",
          "FINTECH/United States/Los Angeles/BlockDaemon",
          "FINTECH/United States/Jersey City/BlockFi",
          "FINTECH/United Kingdom/London/Blockchain.com",
          "FINTECH/Canada/Vancouver/Blockstream",
          "ARTIFICIAL INTELLIGENCE/United States/Mountain View/BloomReach",
          "CYBERSECURITY/United States/New York/BlueVoyant",
          "ARTIFICIAL INTELLIGENCE/United States/New York/Bluecore",
          "FINTECH/United States/San Francisco/Bolt",
          "AUTO & TRANSPORTATION/Estonia/Tallinn/Bolt",
          "OTHER/United States/Englewood/Boom Supersonic",
          "AUTO & TRANSPORTATION/China/Shanghai/Bordrin Motors",
          "FINTECH/United Kingdom/London/Bought By Many",
          "OTHER/United States/New York/Bowery Farming",
          "MOBILE & TELECOMMUNICATIONS/United States/Redwood City/Branch",
          "CONSUMER & RETAIL/United Kingdom/Aberdeen/BrewDog",
          "FINTECH/United States/San Francisco/Brex",
          "SUPPLY CHAIN, LOGISTICS, & DELIVERY/Israel/Tel Aviv/Bringg",
          "INTERNET SOFTWARE & SERVICES/Ireland/Dublin/BrowserStack",
          "INTERNET SOFTWARE & SERVICES/United States/Nashville/Built",
          "FINTECH/Netherlands/Amsterdam/Bunq",
          "ARTIFICIAL INTELLIGENCE/China/Beijing/Bytedance",
          "FINTECH/United States/Leawood/C2FO",
          "FINTECH/Brazil/Sao Paulo/C6 Bank",
          "FINTECH/United States/New York/CAIS",
          "FINTECH/United States/Boston/CFGI",
          "CYBERSECURITY/United States/New York/CHEQ",
          "HEALTH/United Kingdom/Cambridge/CMR Surgical",
          "FINTECH/India/Bengaluru/CRED",
          "AUTO & TRANSPORTATION/Spain/Madrid/Cabify",
          "HEALTH/United States/New York/Cadence",
          "INTERNET SOFTWARE & SERVICES/United States/Atlanta/Calendly",
          "CONSUMER & RETAIL/United States/San Francisco/Calm",
          "MOBILE & TELECOMMUNICATIONS/United States/Cambridge/Cambridge Mobile Telematics",
          "INTERNET SOFTWARE & SERVICES/United States/Chicago/Cameo",
          "INTERNET SOFTWARE & SERVICES/Australia/Surry Hills/Canva",
          "AUTO & TRANSPORTATION/China/Hangzhou/Cao Cao Mobility",
          "HEALTH/United States/New York/Capsule",
          "FINTECH/United States/San Francisco/CaptivateIQ",
          "E-COMMERCE & DIRECT-TO-CONSUMER/India/Jaipur/CarDekho",
          "HARDWARE/United States/Redwood City/Carbon",
          "HEALTH/United States/San Francisco/Carbon Health",
          "SUPPLY CHAIN, LOGISTICS, & DELIVERY/Brazil/Sao Paulo/CargoX",
          "HEALTH/United States/Irving/Caris Life Sciences",
          "500 GLOBAL, RAKUTEN VENTURES, GOLDEN GATE VENTURES/Singapore/E-commerce & direct-to-consumer/Carousell",
          "SINGTEL INNOV8, ALPHA JWC VENTURES, GOLDEN GATE VENTURES/Singapore/E-commerce & direct-to-consumer/Carro",
          "E-COMMERCE & DIRECT-TO-CONSUMER/India/Gurgaon/Cars24",
          "E-COMMERCE & DIRECT-TO-CONSUMER/Malaysia/Selangor/Carsome",
          "FINTECH/United States/Lincoln/Carson Group",
          "FINTECH/United States/San Francisco/Carta",
          "E-COMMERCE & DIRECT-TO-CONSUMER/China/Jiangsu/Carzone",
          "CYBERSECURITY/Israel/Tel Aviv/Cato Networks",
          "OTHER/United States/Washington/Cava Group",
          "FINTECH/United States/New York/Cedar",
          "MOBILE & TELECOMMUNICATIONS/South Africa/Midrand/Cell C",
          "DATA MANAGEMENT & ANALYTICS/Germany/Munich/Celonis",
          "FINTECH/United States/Hoboken/Celsius Network",
          "HEALTH/United States/San Francisco/Cerebral",
          "HARDWARE/United States/Los Altos/Cerebras Systems",
          "FINTECH/China/Hangzhou/Cgtz",
          "FINTECH/United States/New York/Chainalysis",
          "EDTECH/China/Shanghai/Changingedu",
          "FINTECH/United States/Walnut/ChargeBee Technologies",
          "FINTECH/United Kingdom/London/Checkout.com",
          "INTERNET SOFTWARE & SERVICES/United States/San Francisco/Checkr",
          "E-COMMERCE & DIRECT-TO-CONSUMER/China/Beijing/Chehaoduo",
          "FINTECH/United States/San Francisco/Chime",
          "HARDWARE/China/Wuxi/China Cloud",
          "HARDWARE/China/Beijing/Chipone",
          "FINTECH/United States/San Francisco/Chipper Cash",
          "DATA MANAGEMENT & ANALYTICS/United States/New York/Chronosphere",
          "ANDREESSEN HOROWITZ, DST GLOBAL, IDG CAPITAL/Hong Kong/E-commerce & direct-to-consumer/Cider",
          "FINTECH/United States/Boston/Circle",
          "INTERNET SOFTWARE & SERVICES/United States/San Francisco/CircleCI",
          "HEALTH/United States/Brooklyn/Cityblock Health",
          "FINTECH/Mexico/Mexico City/Clara",
          "INTERNET SOFTWARE & SERVICES/United States/Sunnyvale/Clari",
          "CYBERSECURITY/United States/New York/Claroty",
          "FINTECH/Canada/Toronto/Clearco",
          "FINTECH/United States/Chicago/Clearcover",
          "DATA MANAGEMENT & ANALYTICS/United States/Portola Valley/ClickHouse",
          "INTERNET SOFTWARE & SERVICES/United States/San Diego/ClickUp",
          "INTERNET SOFTWARE & SERVICES/Canada/Burnaby/Clio",
          "FINTECH/Mexico/Mexico City/Clip",
          "DATA MANAGEMENT & ANALYTICS/United States/San Jose/CloudBees",
          "FINTECH/Brazil/Sao Paulo/CloudWalk",
          "INTERNET SOFTWARE & SERVICES/United States/Santa Clara/Cloudinary",
          "ARTIFICIAL INTELLIGENCE/China/Guangzhou/Cloudwalk",
          "MOBILE & TELECOMMUNICATIONS/United States/San Francisco/Clubhouse",
          "CYBERSECURITY/United States/San Francisco/Coalition",
          "DATA MANAGEMENT & ANALYTICS/United States/New York/Cockroach Labs",
          "INTERNET SOFTWARE & SERVICES/United States/Mountain View/Coda",
          "DATA MANAGEMENT & ANALYTICS/Norway/Lysaker/Cognite",
          "DATA MANAGEMENT & ANALYTICS/United States/San Jose/Cohesity",
          "FINTECH/India/Maharashtra/CoinDCX",
          "FINTECH/United States/San Francisco/CoinList",
          "FINTECH/India/Bangalore/CoinSwitch Kuber",
          "FINTECH/United States/San Francisco/CoinTracker",
          "FINTECH/United States/San Francisco/Collective Health",
          "DATA MANAGEMENT & ANALYTICS/Belgium/Brussels/Collibra",
          "HEALTH/United States/Burlingame/Color",
          "INTERNET SOFTWARE & SERVICES/United States/San Francisco/Commure",
          "FINTECH/United States/New York/ConsenSys",
          "INTERNET SOFTWARE & SERVICES/France/Paris/ContentSquare",
          "INTERNET SOFTWARE & SERVICES/Germany/Berlin/Contentful",
          "CYBERSECURITY/United States/Los Altos/Contrast Security",
          "SUPPLY CHAIN, LOGISTICS, & DELIVERY/United States/Seattle/Convoy",
          "HARDWARE/China/Shenzhen/Coocaa",
          "DATA MANAGEMENT & ANALYTICS/United States/Chicago/Copado",
          "EDTECH/United States/Redwood City/Course Hero",
          "FINTECH/Brazil/Sao Paulo/Creditas",
          "INTERNET SOFTWARE & SERVICES/Australia/Richmond/Culture Amp",
          "HEALTH/India/Bengaluru/CureFit",
          "FINTECH/United States/New York/Current",
          "CYBERSECURITY/United States/Boston/Cybereason",
          "HARDWARE/China/Shenzhen/DJI Innovations",
          "DATA MANAGEMENT & ANALYTICS/China/Hangzhou/DT Dream",
          "OTHER/China/Shenzhen/Dadi Cinema",
          "E-COMMERCE & DIRECT-TO-CONSUMER/United States/New York/Daily Harvest",
          "INTERNET SOFTWARE & SERVICES/India/Bengaluru/DailyHunt",
          "FINTECH/United States/New York/DailyPay",
          "FINTECH/Canada/Vancouver/Dapper Labs",
          "INTERNET SOFTWARE & SERVICES/India/Hyderabad/Darwinbox",
          "ARTIFICIAL INTELLIGENCE/United States/Boston/DataRobot",
          "DATA MANAGEMENT & ANALYTICS/United States/San Francisco/Databricks",
          "INTERNET SOFTWARE & SERVICES/United States/New York/Dataiku",
          "ARTIFICIAL INTELLIGENCE/United States/New York/Dataminr",
          "E-COMMERCE & DIRECT-TO-CONSUMER/India/Bengaluru/DealShare",
          "FINTECH/United States/San Francisco/Deel",
          "ARTIFICIAL INTELLIGENCE/China/Shanghai/DeepBlue Technology",
          "INTERNET SOFTWARE & SERVICES/France/Paris/Deezer",
          "EDTECH/United States/Pleasanton/Degreed",
          "SUPPLY CHAIN, LOGISTICS, & DELIVERY/India/Gurgaon/Delhivery",
          "FINTECH/Belgium/Ghent/Deliverect",
          "SUPPLY CHAIN, LOGISTICS, & DELIVERY/United States/San Francisco/Deliverr",
          "HARDWARE/United States/San Francisco/Density",
          "HEALTH/France/Paris/Dental Monitoring",
          "DATA MANAGEMENT & ANALYTICS/United States/Cambridge/Devo",
          "HEALTH/United States/Waltham/Devoted Health",
          "INTERNET SOFTWARE & SERVICES/United States/San Francisco/Dialpad",
          "OTHER/United States/San Francisco/Diamond Foundry",
          "E-COMMERCE & DIRECT-TO-CONSUMER/China/Shanghai/DianRong",
          "FINTECH/India/Bengaluru/Digit Insurance",
          "FINTECH/United States/New York/Digital Currency Group",
          "INTERNET SOFTWARE & SERVICES/United States/San Francisco/Discord",
          "HEALTH/United States/Denver/DispatchHealth",
          "INTERNET SOFTWARE & SERVICES/United States/New York/DistroKid",
          "FINTECH/United States/San Francisco/Divvy Homes",
          "HEALTH/France/Paris/Doctolib",
          "INTERNET SOFTWARE & SERVICES/United States/Berkeley/Domestika",
          "CYBERSECURITY/United States/Hanover/Dragos",
          "CYBERSECURITY/United States/San Diego/Drata",
          "MOBILE & TELECOMMUNICATIONS/Turkey/Istanbul/Dream Games",
          "INTERNET SOFTWARE & SERVICES/India/Mumbai/Dream11",
          "DATA MANAGEMENT & ANALYTICS/United States/Santa Clara/Dremio",
          "INTERNET SOFTWARE & SERVICES/Israel/Ra'anana/DriveNets",
          "FINTECH/United States/Chatham/DriveWealth",
          "DATA MANAGEMENT & ANALYTICS/United States/Sunnyvale/Druva",
          "FINTECH/South Korea/Seoul/Dunamu",
          "DATA MANAGEMENT & ANALYTICS/Norway/Oslo/Dune Analytics",
          "E-COMMERCE & DIRECT-TO-CONSUMER/United States/Bend/Dutchie",
          "HEALTH/China/Hangzhou/Dxy.cn",
          "FINTECH/Brazil/Curitiba/EBANX",
          "AUTO & TRANSPORTATION/China/Wuhan/ECARX",
          "AUTO & TRANSPORTATION/China/Shanghai/ENOVATE",
          "HEALTH/United States/Cambridge/EQRx",
          "FINTECH/Israel/Giv'atayim/Earnix",
          "CONSUMER & RETAIL/China/Beijing/Easyhome",
          "CONSUMER & RETAIL/United States/San Francisco/Eat Just",
          "HARDWARE/China/Shenzhen/EcoFlow",
          "INTERNET SOFTWARE & SERVICES/United States/Santa Clara/Eightfold.ai",
          "AUTO & TRANSPORTATION/Sweden/Stockholm/Einride",
          "SUPPLY CHAIN, LOGISTICS, & DELIVERY/India/Pune/ElasticRun",
          "HEALTH/United States/San Francisco/Elemy",
          "OTHER/United Arab Emirates/Dubai/Emerging Markets Property Group",
          "HARDWARE/China/Shanghai/Enflame",
          "INTERNET SOFTWARE & SERVICES/Germany/Berlin/Enpal",
          "INTERNET SOFTWARE & SERVICES/United States/San Francisco/Envoy",
          "OTHER/United States/Cary/Epic Games",
          "INTERNET SOFTWARE & SERVICES/Sweden/Stockholm/Epidemic Sound",
          "OTHER/United States/Hawthorne/Epirus",
          "EDTECH/India/Mumbai/Eruditus Executive Education",
          "FINTECH/United States/New York/Esusu",
          "FINTECH/United States/San Francisco/Ethos",
          "INTERNET SOFTWARE & SERVICES/United States/Oakland/Everlaw",
          "E-COMMERCE & DIRECT-TO-CONSUMER/United States/Austin/Everly Health",
          "HEALTH/United States/San Mateo/Evidation",
          "CYBERSECURITY/United States/Foster City/Exabeam",
          "HARDWARE/France/Croix/Exotec",
          "CYBERSECURITY/United States/Herndon/Expel",
          "FINTECH/United States/San Francisco/Extend",
          "SEQUOIA CAPITAL, THOMA BRAVO, SOFTBANK/Bahamas/Fintech/FTX",
          "MOBILE & TELECOMMUNICATIONS/China/Beijing/FXiaoKe",
          "E-COMMERCE & DIRECT-TO-CONSUMER/United States/Bellevue/Fabric",
          "SUPPLY CHAIN, LOGISTICS, & DELIVERY/United States/New York/Fabric",
          "AUTO & TRANSPORTATION/United States/Santa Monica/Fair",
          "ARTIFICIAL INTELLIGENCE/United States/San Francisco/Faire",
          "FINTECH/United States/San Mateo/FalconX",
          "E-COMMERCE & DIRECT-TO-CONSUMER/United States/Jacksonville/Fanatics",
          "OTHER/United States/San Carlos/Farmers Business Network",
          "ARTIFICIAL INTELLIGENCE/United States/San Mateo/Feedzai",
          "EDTECH/China/Beijing/Fenbi Education",
          "E-COMMERCE & DIRECT-TO-CONSUMER/United States/Madison/Fetch Rewards",
          "INTERNET SOFTWARE & SERVICES/United States/New York/Fever Labs",
          "INTERNET SOFTWARE & SERVICES/United States/San Francisco/Figma",
          "INTERNET SOFTWARE & SERVICES/Canada/Toronto/Figment",
          "FINTECH/United States/New York/Fireblocks",
          "DATA MANAGEMENT & ANALYTICS/Israel/Tel Aviv/Firebolt",
          "OTHER/United States/Cedar Park/Firefly Aerospace",
          "E-COMMERCE & DIRECT-TO-CONSUMER/India/Pune/FirstCry",
          "HEALTH/China/Chengdu/Fiture",
          "OTHER/India/Chennai/Five Star Business Finance",
          "DATA MANAGEMENT & ANALYTICS/United States/Oakland/FiveTran",
          "SUPPLY CHAIN, LOGISTICS, & DELIVERY/Thailand/Bangkok/Flash Express",
          "SUPPLY CHAIN, LOGISTICS, & DELIVERY/China/Beijing/FlashEx",
          "SUPPLY CHAIN, LOGISTICS, & DELIVERY/United States/San Francisco/Flexport",
          "E-COMMERCE & DIRECT-TO-CONSUMER/Germany/Berlin/Flink",
          "INTERNET SOFTWARE & SERVICES/United States/Palo Alto/Flipboard",
          "INTERNET SOFTWARE & SERVICES/Ireland/Dublin/Flipdish",
          "AUTO & TRANSPORTATION/Germany/Munich/FlixMobility",
          "FINTECH/United States/Los Angeles/FloQast",
          "SUPPLY CHAIN, LOGISTICS, & DELIVERY/United States/Encinitas/Flock Freight",
          "HARDWARE/United States/Atlanta/Flock Safety",
          "FINTECH/United States/San Francisco/Flutterwave",
          "HARDWARE/United States/Somerville/Formlabs",
          "FINTECH/United States/San Francisco/Forte Labs",
          "CYBERSECURITY/United States/New York/Forter",
          "SUPPLY CHAIN, LOGISTICS, & DELIVERY/Germany/Berlin/Forto",
          "DATA MANAGEMENT & ANALYTICS/India/Mumbai/Fractal Analytics",
          "FINTECH/Canada/Toronto/Freshbooks",
          "INTERNET SOFTWARE & SERVICES/United States/Atlanta/FullStory",
          "FINTECH/United States/San Francisco/Fundbox",
          "INTERNET SOFTWARE & SERVICES/United States/Chicago/G2",
          "SUPPLY CHAIN, LOGISTICS, & DELIVERY/China/Beijing/G7 Networks",
          "INTERNET SOFTWARE & SERVICES/Australia/Brisbane/GO1",
          "E-COMMERCE & DIRECT-TO-CONSUMER/United States/Culver City/GOAT",
          "OTHER/South Korea/Seoul/GPclub",
          "MOBILE & TELECOMMUNICATIONS/China/Beijing/GalaxySpace",
          "HARDWARE/China/Shanghai/Gaussian Robotics",
          "HARDWARE/China/Beijing/Geek+",
          "E-COMMERCE & DIRECT-TO-CONSUMER/Norway/Oslo/Gelato",
          "INTERNET SOFTWARE & SERVICES/United States/San Francisco/Gem",
          "FINTECH/United States/New York/Gemini",
          "TRAVEL/Germany/Berlin/GetYourGuide",
          "E-COMMERCE & DIRECT-TO-CONSUMER/Turkey/Istanbul/Getir",
          "AUTO & TRANSPORTATION/United Kingdom/London/Gett",
          "HARDWARE/United Kingdom/London/Global Switch",
          "E-COMMERCE & DIRECT-TO-CONSUMER/India/New Delhi/GlobalBees",
          "ARTIFICIAL INTELLIGENCE/United States/Menlo Park/Globality",
          "INTERNET SOFTWARE & SERVICES/United States/Boston/Globalization Partners",
          "CONSUMER & RETAIL/United States/New York/Glossier",
          "FINTECH/United Kingdom/London/GoCardless",
          "EDTECH/Austria/Vienna/GoStudent",
          "ARTIFICIAL INTELLIGENCE/United States/Palo Alto/Gong",
          "INTERNET SOFTWARE & SERVICES/United States/Roseville/GoodLeap",
          "E-COMMERCE & DIRECT-TO-CONSUMER/Germany/Berlin/Gorillas",
          "SUPPLY CHAIN, LOGISTICS, & DELIVERY/United Kingdom/London/Gousto",
          "INTERNET SOFTWARE & SERVICES/United States/New York/Grafana Labs",
          "INTERNET SOFTWARE & SERVICES/United States/San Francisco/Grammarly",
          "ARTIFICIAL INTELLIGENCE/United Kingdom/Bristol/Graphcore",
          "FINTECH/United States/Atlanta/Greenlight",
          "FINTECH/United Kingdom/London/Greensill",
          "ARTIFICIAL INTELLIGENCE/United States/Mountain View/Groq",
          "E-COMMERCE & DIRECT-TO-CONSUMER/United States/San Francisco/Grove Collaborative",
          "FINTECH/India/Bengaluru/Groww",
          "E-COMMERCE & DIRECT-TO-CONSUMER/United States/San Francisco/GrubMarket",
          "FINTECH/United States/San Mateo/Guideline",
          "INTERNET SOFTWARE & SERVICES/United States/Denver/Guild Education",
          "CONSUMER & RETAIL/China/Shanghai/Guoquan Shihui",
          "INTERNET SOFTWARE & SERVICES/United States/San Francisco/GupShup",
          "FINTECH/United States/San Francisco/Gusto",
          "INTERNET SOFTWARE & SERVICES/United States/New York/Gympass",
          "E-COMMERCE & DIRECT-TO-CONSUMER/United Kingdom/Solihull/Gymshark",
          "ARTIFICIAL INTELLIGENCE/United States/Mountain View/H2O.ai",
          "CONSUMER & RETAIL/China/Shanghai/HAYDON",
          "OTHER/China/Shenzhen/HEYTEA",
          "MOBILE & TELECOMMUNICATIONS/Finland/Espoo/HMD Global",
          "ARTIFICIAL INTELLIGENCE/Israel/Tel Aviv/Hailo",
          "INTERNET SOFTWARE & SERVICES/United States/San Francisco/Handshake",
          "ARTIFICIAL INTELLIGENCE/China/Beijing/Haomao.AI",
          "FINTECH/United States/Tustin/Happy Money",
          "ARTIFICIAL INTELLIGENCE/United States/San Francisco/Harness",
          "CONSUMER & RETAIL/United States/New York/Harry's",
          "INTERNET SOFTWARE & SERVICES/India/Bengaluru/Hasura",
          "HEALTH/United States/Redwood City/HeartFlow",
          "INTERNET SOFTWARE & SERVICES/United States/San Francisco/Helium Systems",
          "AUTO & TRANSPORTATION/China/Shanghai/Hello TransTech",
          "ARTIFICIAL INTELLIGENCE/China/Shanghai/Hesai Tech",
          "E-COMMERCE & DIRECT-TO-CONSUMER/United States/Chicago/Heyday",
          "INTERNET SOFTWARE & SERVICES/Israel/Tel Aviv/Hibob",
          "FINTECH/United States/Houston/HighRadius",
          "INTERNET SOFTWARE & SERVICES/United States/Seattle/Highspot",
          "HEALTH/United States/San Francisco/Hinge Health",
          "ARTIFICIAL INTELLIGENCE/United States/San Francisco/Hive",
          "SUPPLY CHAIN, LOGISTICS, & DELIVERY/China/Shenzhen/Hive Box",
          "FINTECH/United States/San Francisco/HomeLight",
          "INTERNET SOFTWARE & SERVICES/United States/San Francisco/HoneyBook",
          "INTERNET SOFTWARE & SERVICES/United States/San Francisco/Honor Technology",
          "INTERNET SOFTWARE & SERVICES/United Kingdom/London/Hopin",
          "TRAVEL/Canada/Montreal/Hopper",
          "ARTIFICIAL INTELLIGENCE/China/Beijing/Horizon Robotics",
          "E-COMMERCE & DIRECT-TO-CONSUMER/China/Nanjing/Hosjoy",
          "E-COMMERCE & DIRECT-TO-CONSUMER/Netherlands/Amsterdam/Hotmart",
          "E-COMMERCE & DIRECT-TO-CONSUMER/United States/Palo Alto/Houzz",
          "OTHER/United Kingdom/London/Howden Group Holdings",
          "AUTO & TRANSPORTATION/China/Shanghai/Hozon Auto",
          "EDTECH/China/Shanghai/HuJiang",
          "MOBILE & TELECOMMUNICATIONS/China/Shanghai/Huaqin Telecom Technology",
          "E-COMMERCE & DIRECT-TO-CONSUMER/China/Beijing/HuiMin",
          "EDTECH/China/Beijing/Huike Group",
          "FINTECH/China/Beijing/Huisuanzhang",
          "FINTECH/United States/San Francisco/Human Interest",
          "KUANG-CHI/Singapore/Mobile & telecommunications/HyalRoute",
          "FINTECH/China/Hangzhou/Hyperchain",
          "CYBERSECURITY/United States/McLean/ID.me",
          "INTERNET SOFTWARE & SERVICES/United States/San Francisco/IRL",
          "SUPPLY CHAIN, LOGISTICS, & DELIVERY/United States/Dallas/ISN",
          "FINTECH/United States/Denver/Ibotta",
          "ARTIFICIAL INTELLIGENCE/United States/Bellevue/Icertis",
          "E-COMMERCE & DIRECT-TO-CONSUMER/United States/New York/Il Makiage",
          "CYBERSECURITY/United States/Sunnyvale/Illumio",
          "HARDWARE/China/Shanghai/Iluvatar CoreX",
          "INTERNET SOFTWARE & SERVICES/United States/Santa Barbara/Impact",
          "CONSUMER & RETAIL/United States/Redwood City/Impossible Foods",
          "OTHER/United Kingdom/London/Improbable",
          "OTHER/Germany/Berlin/InFarm",
          "MOBILE & TELECOMMUNICATIONS/India/Bengaluru/InMobi",
          "HEALTH/Israel/Tirat Carmel/InSightec",
          "INTERNET SOFTWARE & SERVICES/United States/New York/InVision",
          "OTHER/United States/Cambridge/Inari",
          "CYBERSECURITY/United States/San Francisco/Incode Technologies",
          "ARTIFICIAL INTELLIGENCE/United States/Boston/Indigo Ag",
          "HARDWARE/United States/Waltham/Infinidat",
          "MOBILE & TELECOMMUNICATIONS/Croatia/Vodnjan/Infobip",
          "E-COMMERCE & DIRECT-TO-CONSUMER/India/Thane/Infra.Market",
          "FINTECH/United States/New York/Injective Protocol",
          "HEALTH/United States/San Francisco/Innovaccer",
          "INTERNET SOFTWARE & SERVICES/Turkey/Istanbul/Insider",
          "DATA MANAGEMENT & ANALYTICS/United States/San Francisco/Instabase",
          "SUPPLY CHAIN, LOGISTICS, & DELIVERY/United States/San Francisco/Instacart",
          "HEALTH/United States/Boston/Intarcia Therapeutics",
          "ARTIFICIAL INTELLIGENCE/China/Shenzhen/Intellifusion",
          "INTERNET SOFTWARE & SERVICES/United States/San Francisco/Intercom",
          "FINTECH/United States/Arlington/Interos",
          "FINTECH/United States/San Francisco/Inxeption",
          "DATA MANAGEMENT & ANALYTICS/United States/Austin/Iodine Software",
          "INTERNET SOFTWARE & SERVICES/United States/Sacramento/Ironclad",
          "INTERNET SOFTWARE & SERVICES/United States/San Francisco/Iterable",
          "FINTECH/United States/Redwood City/Ivalua",
          "SUPPLY CHAIN, LOGISTICS, & DELIVERY/Indonesia/Jakarta/J&T Express",
          "E-COMMERCE & DIRECT-TO-CONSUMER/China/Hangzhou/JOLLY Information Technology",
          "CONSUMER & RETAIL/United States/San Francisco/JUUL Labs",
          "FINTECH/China/Beijing/JimuBox",
          "E-COMMERCE & DIRECT-TO-CONSUMER/China/Beijing/Jiuxian",
          "INTERNET SOFTWARE & SERVICES/Spain/Madrid/Jobandtalent",
          "E-COMMERCE & DIRECT-TO-CONSUMER/United States/New York/Jokr",
          "EDTECH/Israel/Tel Aviv/JoyTunes",
          "E-COMMERCE & DIRECT-TO-CONSUMER/China/Wuhan/Juanpi",
          "SUPPLY CHAIN, LOGISTICS, & DELIVERY/China/Chengdu/Juma Peisong",
          "DATA MANAGEMENT & ANALYTICS/United States/Louisville/JumpCloud",
          "DATA MANAGEMENT & ANALYTICS/China/Beijing/Jusfoun Big Data",
          "INTERNET SOFTWARE & SERVICES/United States/New York/Justworks",
          "HEALTH/United States/New York/K Health",
          "E-COMMERCE & DIRECT-TO-CONSUMER/China/Dongguan/KK Group",
          "HEALTH/Sweden/Stockholm/KRY",
          "INTERNET SOFTWARE & SERVICES/United States/Irvine/Kajabi",
          "INTERNET SOFTWARE & SERVICES/United States/Seattle/Karat",
          "CYBERSECURITY/United States/Miami/Kaseya",
          "E-COMMERCE & DIRECT-TO-CONSUMER/Mexico/Lerma de Villada/Kavak",
          "SUPPLY CHAIN, LOGISTICS, & DELIVERY/China/Shanghai/Keenon Robotics",
          "MOBILE & TELECOMMUNICATIONS/China/Beijing/Keep",
          "SUPPLY CHAIN, LOGISTICS, & DELIVERY/United States/San Francisco/KeepTruckin",
          "CONSUMER & RETAIL/United States/Austin/Kendra Scott",
          "SUPPLY CHAIN, LOGISTICS, & DELIVERY/United Arab Emirates/Dubai/Kitopi",
          "FINTECH/Sweden/Stockholm/Klarna",
          "INTERNET SOFTWARE & SERVICES/United States/Boston/Klaviyo",
          "TRAVEL/Hong Kong/Central/Klook",
          "EDTECH/China/Beijing/KnowBox",
          "HEALTH/United States/San Francisco/Komodo Health",
          "FINTECH/Mexico/Mexico City/Konfio",
          "INTERNET SOFTWARE & SERVICES/United States/San Francisco/Kong",
          "CONSUMER & RETAIL/Indonesia/Jakarta/Kopi Kenangan",
          "E-COMMERCE & DIRECT-TO-CONSUMER/China/Beijing/Koudai",
          "FINTECH/United States/San Francisco/Kraken",
          "SUPPLY CHAIN, LOGISTICS, & DELIVERY/China/Tianjin/Kuaigou Dache",
          "INTERNET SOFTWARE & SERVICES/China/Beijing/Kuaikan Manhua",
          "INTERNET SOFTWARE & SERVICES/China/Hangzhou/Kujiale",
          "SUPPLY CHAIN, LOGISTICS, & DELIVERY/South Korea/Seoul/Kurly",
          "CONSUMER & RETAIL/South Korea/Seoul/L&P Cosmetic",
          "EDTECH/India/Andheri/LEAD School",
          "INTERNET SOFTWARE & SERVICES/United States/Dallas/LTK",
          "CYBERSECURITY/United States/San Jose/Lacework",
          "SUPPLY CHAIN, LOGISTICS, & DELIVERY/Hong Kong/Cheung Sha Wan/Lalamove",
          "E-COMMERCE & DIRECT-TO-CONSUMER/China/Shenzhen/Lamabang",
          "INTERNET SOFTWARE & SERVICES/United States/San Francisco/Lattice",
          "INTERNET SOFTWARE & SERVICES/United States/Oakland/LaunchDarkly",
          "AUTO & TRANSPORTATION/China/Hangzhou/Leap Motor",
          "HARDWARE/France/Paris/Ledger",
          "E-COMMERCE & DIRECT-TO-CONSUMER/India/Faridabad/Lenskart",
          "INTERNET SOFTWARE & SERVICES/United States/Scottsdale/Lessen",
          "HEALTH/Ireland/Dublin/LetsGetChecked",
          "E-COMMERCE & DIRECT-TO-CONSUMER/China/Beijing/Lianjia",
          "E-COMMERCE & DIRECT-TO-CONSUMER/India/Bengaluru/Licious",
          "OTHER/Colombia/Bogota/LifeMiles",
          "ARTIFICIAL INTELLIGENCE/Israel/Jerusalem/Lightricks",
          "HEALTH/China/Beijing/LinkDoc Technology",
          "MOBILE & TELECOMMUNICATIONS/China/Shanghai/LinkSure Network",
          "FINTECH/Japan/Tokyo/Liquid",
          "E-COMMERCE & DIRECT-TO-CONSUMER/India/Bengaluru/LivSpace",
          "SUPPLY CHAIN, LOGISTICS, & DELIVERY/United States/New York/Loadsmart",
          "HARDWARE/United States/Wilmington/Locus Robotics",
          "E-COMMERCE & DIRECT-TO-CONSUMER/Brazil/Sao Paulo/Loft",
          "SUPPLY CHAIN, LOGISTICS, & DELIVERY/Brazil/Sao Paulo/Loggi",
          "CYBERSECURITY/United States/San Francisco/Lookout",
          "INTERNET SOFTWARE & SERVICES/United States/San Francisco/Loom",
          "INTERNET SOFTWARE & SERVICES/United States/South Jordan/Lucid Software",
          "FINTECH/United States/New York/Lukka",
          "FINTECH/Denmark/Aarhus/Lunar",
          "EDTECH/China/Beijing/Luoji Siwei",
          "INTERNET SOFTWARE & SERVICES/United States/New York/Lusha",
          "FINTECH/France/Paris/Lydia",
          "HEALTH/United States/Burlingame/Lyra Health",
          "FINTECH/United States/Chicago/M1 Finance",
          "ARTIFICIAL INTELLIGENCE/China/Beijing/MEGVII",
          "ARTIFICIAL INTELLIGENCE/United States/Redwood City/MOLOCO",
          "INTERNET SOFTWARE & SERVICES/United States/San Francisco/MURAL",
          "E-COMMERCE & DIRECT-TO-CONSUMER/South Korea/Seoul/MUSINSA",
          "FINTECH/United States/Lehi/MX Technologies",
          "E-COMMERCE & DIRECT-TO-CONSUMER/Brazil/Parana/MadeiraMadeira",
          "TRAVEL/China/Beijing/Mafengwo",
          "HARDWARE/United States/Plantation/Magic Leap",
          "MOBILE & TELECOMMUNICATIONS/China/Beijing/Maimai",
          "E-COMMERCE & DIRECT-TO-CONSUMER/India/Gurgaon/Mamaearth",
          "FINTECH/Netherlands/Amsterdam/Mambu",
          "HEALTH/United States/Brisbane/Mammoth Biosciences",
          "OTHER/China/Shanghai/Manner",
          "E-COMMERCE & DIRECT-TO-CONSUMER/France/Paris/ManoMano",
          "FINTECH/United Kingdom/London/Marshmallow",
          "EDTECH/United States/San Francisco/MasterClass",
          "FINTECH/United States/New York/Masterworks",
          "DATA MANAGEMENT & ANALYTICS/United Kingdom/Altrincham/Matillion",
          "DRAGONFLY CAPTIAL, QIMING VENTURE PARTNERS, DST GLOBAL/Singapore/Fintech/Matrixport",
          "HEALTH/United States/New York/Maven Clinic",
          "INTERNET SOFTWARE & SERVICES/United States/Palo Alto/Medable",
          "INTERNET SOFTWARE & SERVICES/United States/New York/MediaMath",
          "HEALTH/China/Chengdu/Medlinker",
          "ARTIFICIAL INTELLIGENCE/France/Paris/Meero",
          "INTERNET SOFTWARE & SERVICES/India/Bengaluru/Meesho",
          "MOBILE & TELECOMMUNICATIONS/China/Beijing/Meicai",
          "HARDWARE/China/Zhuhai/Meizu Technology",
          "FINTECH/United States/New York/Melio",
          "OTHER/India/Bengaluru/Mensa Brands",
          "E-COMMERCE & DIRECT-TO-CONSUMER/Mexico/Mexico City/Merama",
          "FINTECH/United States/San Francisco/Mercury",
          "MOBILE & TELECOMMUNICATIONS/Netherlands/Amsterdam/MessageBird",
          "E-COMMERCE & DIRECT-TO-CONSUMER/China/Beijing/Mia.com",
          "E-COMMERCE & DIRECT-TO-CONSUMER/China/Beijing/Miaoshou Doctor",
          "HEALTH/Switzerland/Lausanne/MindMaze",
          "INTERNET SOFTWARE & SERVICES/United States/San Francisco/MindTickle",
          "ARTIFICIAL INTELLIGENCE/China/Beijing/Mininglamp Technology",
          "DATA MANAGEMENT & ANALYTICS/United States/Palo Alto/Minio",
          "E-COMMERCE & DIRECT-TO-CONSUMER/France/Paris/Mirakl",
          "INTERNET SOFTWARE & SERVICES/United States/San Francisco/Miro",
          "E-COMMERCE & DIRECT-TO-CONSUMER/United States/Pennsauken/Misfits Market",
          "INTERNET SOFTWARE & SERVICES/United States/San Francisco/Mixpanel",
          "FINTECH/Vietnam/Ho Chi Minh City/MoMo",
          "FINTECH/India/Gurugram/MobiKwik",
          "INTERNET SOFTWARE & SERVICES/India/Bengaluru/Mobile Premier League",
          "FINTECH/United States/San Francisco/MobileCoin",
          "CONSUMER & RETAIL/China/Beijing/Mobvoi",
          "HEALTH/United States/San Francisco/Modern Health",
          "FINTECH/United States/San Francisco/Modern Treasury",
          "HEALTH/United States/Boca Raton/Modernizing Medicine",
          "E-COMMERCE & DIRECT-TO-CONSUMER/China/Shanghai/Mofang Living",
          "JUNGLE VENTURES, ACCEL, VENTURE HIGHWAY/Singapore/E-commerce & direct-to-consumer/Moglix",
          "INTERNET SOFTWARE & SERVICES/China/Beijing/Moka",
          "FINTECH/Netherlands/Amsterdam/Mollie",
          "ARTIFICIAL INTELLIGENCE/China/Beijing/Momenta",
          "FINTECH/United Kingdom/London/Monzo",
          "MOBILE & TELECOMMUNICATIONS/Israel/Tel Aviv/Moon Active",
          "FINTECH/United States/Miami/MoonPay",
          "INTERNET SOFTWARE & SERVICES/United States/Washington DC/Morning Consult",
          "E-COMMERCE & DIRECT-TO-CONSUMER/United Kingdom/London/Motorway",
          "ARTIFICIAL INTELLIGENCE/United States/Mountain View/Moveworks",
          "MOBILE & TELECOMMUNICATIONS/Brazil/Sao Paulo/Movile",
          "DATA MANAGEMENT & ANALYTICS/United States/Northbrook/Mu Sigma",
          "INTERNET SOFTWARE & SERVICES/United States/San Francisco/Mux",
          "E-COMMERCE & DIRECT-TO-CONSUMER/India/Mumbai/MyGlamm",
          "FINTECH/Philippines/Taguig City/Mynt",
          "INTERNET SOFTWARE & SERVICES/United States/Sherman Oaks/Mythical Games",
          "FINTECH/Germany/Berlin/N26",
          "VERTEX VENTURES SE ASIA, GLOBAL FOUNDERS CAPITAL, VISA VENTURES/Singapore/Fintech/NIUM",
          "FINTECH/India/Mumbai/National Stock Exchange of India",
          "OTHER/United States/Chicago/Nature's Fynd",
          "DATA MANAGEMENT & ANALYTICS/United States/San Mateo/Neo4j",
          "FINTECH/Brazil/Sao Paulo/Neon",
          "INTERNET SOFTWARE & SERVICES/United States/San Francisco/Netlify",
          "CYBERSECURITY/United States/Santa Clara/Netskope",
          "E-COMMERCE & DIRECT-TO-CONSUMER/China/Beijing/Newlink Group",
          "INTERNET SOFTWARE & SERVICES/United States/Mountain View/News Break",
          "INTERNET SOFTWARE & SERVICES/United States/New York/Newsela",
          "OTHER/Canada/Vancouver/Nexii",
          "FINTECH/United States/Palo Alto/Next Insurance",
          "HARDWARE/Israel/Tel Aviv/Next Silicon",
          "DATA MANAGEMENT & ANALYTICS/Switzerland/Prilly/Nexthink",
          "INTERNET SOFTWARE & SERVICES/United States/Scottsdale/Nextiva",
          "MOBILE & TELECOMMUNICATIONS/United States/San Francisco/Niantic",
          "B CAPITAL GROUP, MONK'S HILL VENTURES, DYNAMIC PARCEL DISTRIBUTION/Singapore/Supply chain, logistics, & delivery/Ninja Van",
          "INTERNET SOFTWARE & SERVICES/India/Bengaluru/NoBroker",
          "CYBERSECURITY/United States/Palo Alto/Noname Security",
          "HEALTH/United States/New York/Noom",
          "OTHER/Sweden/Stockholm/Northvolt",
          "ARTIFICIAL INTELLIGENCE/Chile/Santiago/NotCo",
          "INTERNET SOFTWARE & SERVICES/United States/San Francisco/Notion Labs",
          "OTHER/Germany/Unterfoehring/NuCom Group",
          "FINTECH/Switzerland/Zurich/Numbrs",
          "AUTO & TRANSPORTATION/United States/Mountain View/Nuro",
          "E-COMMERCE & DIRECT-TO-CONSUMER/Brazil/Sao Paulo/Nuvemshop",
          "INTERNET SOFTWARE & SERVICES/China/Beijing/Nxin",
          "OTHER/Luxembourg/Leudelange/OCSiAl",
          "TEMASEK, GUGGENHEIM INVESTMENTS, QATAR INVESTMENT AUTHORITY/Singapore/Internet software & services/ONE",
          "OTHER/France/Roubaix/OVH",
          "OTHER/United Kingdom/Bristol/OVO Energy",
          "TRAVEL/India/Gurugram/OYO Rooms",
          "FINTECH/United Kingdom/London/OakNorth Bank",
          "E-COMMERCE & DIRECT-TO-CONSUMER/Norway/Oslo/Oda",
          "INTERNET SOFTWARE & SERVICES/Belgium/Louvain-la-Neuve/Odoo",
          "E-COMMERCE & DIRECT-TO-CONSUMER/India/Gurgaon/OfBusiness",
          "INTERNET SOFTWARE & SERVICES/United States/Princeton/Offchain Labs",
          "AUTO & TRANSPORTATION/India/Bengaluru/Ola Cabs",
          "AUTO & TRANSPORTATION/India/Bengaluru/Ola Electric Mobility",
          "E-COMMERCE & DIRECT-TO-CONSUMER/Brazil/Curitiba/Olist",
          "INTERNET SOFTWARE & SERVICES/United States/Columbus/Olive",
          "HEALTH/United States/San Francisco/Omada Health",
          "TRAVEL/Germany/Berlin/Omio",
          "INTERNET SOFTWARE & SERVICES/United States/Atlanta/OneTrust",
          "FINTECH/Nigeria/Lagos/Opay",
          "ARTIFICIAL INTELLIGENCE/United States/San Francisco/OpenAI",
          "E-COMMERCE & DIRECT-TO-CONSUMER/United States/New York/OpenSea",
          "INTERNET SOFTWARE & SERVICES/United States/New York/OpenWeb",
          "HARDWARE/United States/New York/Opentrons",
          "ARTIFICIAL INTELLIGENCE/Israel/Jerusalem/OrCam Technologies",
          "HARDWARE/China/Shenzhen/Orbbec Technology",
          "HEALTH/United States/Menlo Park/Orca Bio",
          "CYBERSECURITY/United States/Portland/Orca Security",
          "FINTECH/United States/New York/Orchard",
          "HEALTH/Germany/Duderstadt/Otto Bock HealthCare",
          "INTERNET SOFTWARE & SERVICES/United States/Boston/OutSystems",
          "INTERNET SOFTWARE & SERVICES/United States/Seattle/Outreach",
          "EDTECH/United States/San Francisco/Outschool",
          "INTERNET SOFTWARE & SERVICES/China/Shanghai/Ouyeel",
          "FINTECH/Indonesia/Jakarta/Ovo",
          "ARTIFICIAL INTELLIGENCE/United States/New York/Owkin",
          "DATA MANAGEMENT & ANALYTICS/United States/Englewood Cliffs/OwnBackup",
          "CONSUMER & RETAIL/United States/San Francisco/PAX",
          "INTERNET SOFTWARE & SERVICES/United States/Bellingham/PLACE",
          "FINTECH/United Kingdom/London/PPRO",
          "FINTECH/United States/Cincinnati/Pacaso",
          "FINTECH/Israel/Tel Aviv/Pagaya",
          "INTERNET SOFTWARE & SERVICES/United States/San Francisco/PandaDoc",
          "INTERNET SOFTWARE & SERVICES/United States/San Francisco/Pantheon Systems",
          "CYBERSECURITY/United States/San Francisco/Panther Labs",
          "HEALTH/United States/Miami/Papa",
          "INTERNET SOFTWARE & SERVICES/United States/New York/Papaya Global",
          "INTERNET SOFTWARE & SERVICES/United States/Scottsdale/Paradox",
          "CONSUMER & RETAIL/United States/New York/Pat McGrath Labs",
          "SEQUOIA CAPITAL CHINA, SHUNWEI CAPITAL PARTNERS, QUALGRO/Singapore/Internet software & services/PatSnap",
          "INTERNET SOFTWARE & SERVICES/United States/San Francisco/Patreon",
          "INTERNET SOFTWARE & SERVICES/United States/Lehi/Pattern",
          "FINTECH/United States/New York/Paxos",
          "FINTECH/United Kingdom/London/PayFit",
          "FINTECH/United Kingdom/London/Payhawk",
          "INTERNET SOFTWARE & SERVICES/United States/Raleigh/Pendo",
          "CYBERSECURITY/Israel/Petah Tikva/Pentera",
          "INTERNET SOFTWARE & SERVICES/United States/San Francisco/People.ai",
          "CYBERSECURITY/United States/San Francisco/Persona",
          "INTERNET SOFTWARE & SERVICES/Germany/Munich/Personio",
          "E-COMMERCE & DIRECT-TO-CONSUMER/Australia/Alexandria/Pet Circle",
          "FINTECH/United States/San Francisco/Phantom",
          "E-COMMERCE & DIRECT-TO-CONSUMER/United States/Islandia/Pharmapacks",
          "INTERNET SOFTWARE & SERVICES/United States/Ambler/Phenom People",
          "MOBILE & TELECOMMUNICATIONS/United States/San Francisco/PicsArt",
          "FINTECH/United States/San Francisco/Pilot.com",
          "FINTECH/India/Noida/Pine Labs",
          "EDTECH/China/Beijing/Pipa Coding",
          "FINTECH/United States/Miami/Pipe",
          "ARTIFICIAL INTELLIGENCE/United States/Los Altos/Placer.ai",
          "FINTECH/United States/San Francisco/Plaid",
          "OTHER/Japan/Tokyo/Playco",
          "FINTECH/Denmark/Copenhagen/Pleo",
          "INTERNET SOFTWARE & SERVICES/United States/Palo Alto/Plume",
          "INTERNET SOFTWARE & SERVICES/United States/Lehi/Podium",
          "INTERNET SOFTWARE & SERVICES/Canada/Mississauga/PointClickCare",
          "MOBILE & TELECOMMUNICATIONS/China/Shanghai/Poizon",
          "FINTECH/India/Gurgaon/PolicyBazaar",
          "ARTIFICIAL INTELLIGENCE/United States/Fremont/Pony.ai",
          "INTERNET SOFTWARE & SERVICES/United States/San Francisco/Postman",
          "ARTIFICIAL INTELLIGENCE/Japan/Tokyo/Preferred Networks",
          "HEALTH/United States/Cambridge/Prime Medicine",
          "OTHER/United States/Charlotte/Printful",
          "HEALTH/India/Gurugram/Pristyn Care",
          "INTERNET SOFTWARE & SERVICES/United States/San Francisco/Productboard",
          "SUPPLY CHAIN, LOGISTICS, & DELIVERY/United States/Chicago/Project44",
          "CONSUMER & RETAIL/South Africa/Bryanston/Promasidor Holdings",
          "HARDWARE/United States/Palo Alto/PsiQuantum",
          "FINTECH/United States/New York/Public",
          "INTERNET SOFTWARE & SERVICES/China/Shanghai/Qingting FM",
          "FINTECH/France/Paris/Qonto",
          "FINTECH/United States/San Francisco/Qualia",
          "DATA MANAGEMENT & ANALYTICS/United States/Colorado Springs/Quantum Metric",
          "E-COMMERCE & DIRECT-TO-CONSUMER/Brazil/Campinas/QuintoAndar",
          "EDTECH/United States/San Francisco/Quizlet",
          "DATA MANAGEMENT & ANALYTICS/United States/Seattle/Qumulo",
          "INTERNET SOFTWARE & SERVICES/United States/Mountain View/Quora",
          "SUPPLY CHAIN, LOGISTICS, & DELIVERY/United States/Miami/REEF Technology",
          "SUPPLY CHAIN, LOGISTICS, & DELIVERY/Finland/Helsinki/RELEX Solutions",
          "E-COMMERCE & DIRECT-TO-CONSUMER/South Korea/Seoul/RIDI",
          "HEALTH/United States/El Segundo/Radiology Partners",
          "FINTECH/United Kingdom/Crewe/Radius Payment Solutions",
          "FINTECH/United States/New York/Ramp",
          "SUPPLY CHAIN, LOGISTICS, & DELIVERY/Colombia/Bogota/Rappi",
          "FINTECH/United Kingdom/London/Rapyd",
          "CONSUMER & RETAIL/Germany/Berlin/Razor",
          "FINTECH/India/Bengaluru/Razorpay",
          "FINTECH/United States/Los Angeles/ReCharge",
          "E-COMMERCE & DIRECT-TO-CONSUMER/India/Pune/Rebel Foods",
          "ARTIFICIAL INTELLIGENCE/United States/Washington DC/Rebellion Defense",
          "INTERNET SOFTWARE & SERVICES/United States/Seattle/Rec Room",
          "OTHER/United States/Fort Mill/Red Ventures",
          "DATA MANAGEMENT & ANALYTICS/United States/Mountain View/Redis Labs",
          "OTHER/United States/Carson City/Redwood Materials",
          "HEALTH/United States/Boston/Reify Health",
          "INTERNET SOFTWARE & SERVICES/United States/Chicago/Relativity",
          "OTHER/United States/Inglewood/Relativity Space",
          "CYBERSECURITY/United States/Tampa/ReliaQuest",
          "DATA MANAGEMENT & ANALYTICS/United States/Redwood City/Reltio",
          "FINTECH/United States/San Francisco/Remote",
          "INTERNET SOFTWARE & SERVICES/United States/San Francisco/Retool",
          "FINTECH/United Kingdom/London/Revolut",
          "OTHER/Philippines/Manila/Revolution Precrafted",
          "HEALTH/United States/New York/Rightway",
          "FINTECH/United States/San Francisco/Ripple",
          "INTERNET SOFTWARE & SERVICES/United States/San Francisco/Rippling",
          "SUPPLY CHAIN, LOGISTICS, & DELIVERY/India/Gurgaon/Rivigo",
          "HEALTH/United States/New York/Ro",
          "SUPPLY CHAIN, LOGISTICS, & DELIVERY/Czech Republic/Prague/Rohlik",
          "INTERNET SOFTWARE & SERVICES/United States/New York/Rokt",
          "CONSUMER & RETAIL/United States/San Francisco/Rothy's",
          "SUPPLY CHAIN, LOGISTICS, & DELIVERY/United States/Lehi/Route",
          "HARDWARE/China/Shenzhen/Royole Corporation",
          "OTHER/United States/Atlanta/Rubicon",
          "DATA MANAGEMENT & ANALYTICS/United States/Palo Alto/Rubrik",
          "E-COMMERCE & DIRECT-TO-CONSUMER/China/Shenzhen/SHEIN",
          "OTHER/China/Guiyang/SITECH DEV",
          "INTERNET SOFTWARE & SERVICES/United States/Chicago/SMS Assist",
          "E-COMMERCE & DIRECT-TO-CONSUMER/Canada/Montreal/SSENSE",
          "SUPPLY CHAIN, LOGISTICS, & DELIVERY/United States/Atlanta/STORD",
          "AUTO & TRANSPORTATION/China/Changzhou/SVOLT",
          "HEALTH/United States/New York/SWORD Health",
          "INTERNET SOFTWARE & SERVICES/Australia/Sydney/SafetyCulture",
          "CYBERSECURITY/United States/Palo Alto/Salt Security",
          "FINTECH/United Kingdom/London/SaltPay",
          "DATA MANAGEMENT & ANALYTICS/United States/Palo Alto/SambaNova Systems",
          "E-COMMERCE & DIRECT-TO-CONSUMER/United States/El Segundo/Savage X Fenty",
          "FINTECH/Germany/Munich/Scalable Capital",
          "FINTECH/Italy/Milan/Scalapay",
          "ARTIFICIAL INTELLIGENCE/United States/San Francisco/Scale AI",
          "SUPPLY CHAIN, LOGISTICS, & DELIVERY/Switzerland/Zurich/Scandit",
          "MOBILE & TELECOMMUNICATIONS/United States/Culver City/Scopely",
          "INTERNET SOFTWARE & SERVICES/United States/Bellevue/SeekOut",
          "INTERNET SOFTWARE & SERVICES/United States/San Diego/Seismic",
          "E-COMMERCE & DIRECT-TO-CONSUMER/Germany/Berlin/SellerX",
          "MOBILE & TELECOMMUNICATIONS/United States/San Mateo/Sendbird",
          "SUPPLY CHAIN, LOGISTICS, & DELIVERY/Germany/Berlin/Sennder",
          "OTHER/United States/San Francisco/Sentry",
          "INTERNET SOFTWARE & SERVICES/United States/Glendale/ServiceTitan",
          "INTERNET SOFTWARE & SERVICES/India/Bengaluru/ShareChat",
          "ARTIFICIAL INTELLIGENCE/United States/San Diego/Shield AI",
          "ARTIFICIAL INTELLIGENCE/France/Paris/Shift Technology",
          "SUPPLY CHAIN, LOGISTICS, & DELIVERY/United States/Chicago/ShipBob",
          "SUPPLY CHAIN, LOGISTICS, & DELIVERY/United States/San Francisco/Shippo",
          "INTERNET SOFTWARE & SERVICES/United States/San Francisco/Side",
          "FINTECH/United States/El Segundo/Sidecar Health",
          "ARTIFICIAL INTELLIGENCE/United States/San Francisco/Sift",
          "FINTECH/United States/San Jose/Signifyd",
          "OTHER/United States/Alameda/Sila Nanotechnologies",
          "DATA MANAGEMENT & ANALYTICS/United States/New York/Sisense",
          "E-COMMERCE & DIRECT-TO-CONSUMER/United States/Los Angeles/Skims",
          "INTERNET SOFTWARE & SERVICES/Vietnam/Ho Chi Minh City/Sky Mavis",
          "OTHER/United States/Santa Monica/Skydance Media",
          "SUPPLY CHAIN, LOGISTICS, & DELIVERY/United States/Redwood City/Skydio",
          "FINTECH/India/Bengaluru/Slice",
          "FINTECH/United States/New York/SmartAsset",
          "FINTECH/Japan/Tokyo/SmartHR",
          "ARTIFICIAL INTELLIGENCE/China/Shenzhen/SmartMore",
          "MOBILE & TELECOMMUNICATIONS/Japan/Tokyo/SmartNews",
          "INTERNET SOFTWARE & SERVICES/United States/San Francisco/SmartRecruiters",
          "INTERNET SOFTWARE & SERVICES/United States/San Mateo/SnapLogic",
          "E-COMMERCE & DIRECT-TO-CONSUMER/India/New Delhi/Snapdeal",
          "FINTECH/United States/San Francisco/Snapdocs",
          "ARTIFICIAL INTELLIGENCE/United States/Palo Alto/Snorkel AI",
          "CYBERSECURITY/United States/Boston/Snyk",
          "AUTO & TRANSPORTATION/South Korea/Jeju-do/Socar",
          "CYBERSECURITY/United States/New York/Socure",
          "INTERNET SOFTWARE & SERVICES/United States/Cambridge/Solo.io",
          "OTHER/United States/Houston/Solugen",
          "HEALTH/United States/McLean/Somatus",
          "HEALTH/United States/Denver/SonderMind",
          "E-COMMERCE & DIRECT-TO-CONSUMER/France/Paris/Sorare",
          "E-COMMERCE & DIRECT-TO-CONSUMER/China/Hangzhou/SouChe Holdings",
          "ARTIFICIAL INTELLIGENCE/United States/Santa Clara/SoundHound",
          "INTERNET SOFTWARE & SERVICES/United States/San Francisco/Sourcegraph",
          "OTHER/United States/Hawthorne/SpaceX",
          "ARTIFICIAL INTELLIGENCE/United States/Austin/SparkCognition",
          "FINTECH/France/Paris/Spendesk",
          "OTHER/Japan/Tsuruoka/Spiber",
          "E-COMMERCE & DIRECT-TO-CONSUMER/India/Gurugram/Spinny",
          "INTERNET SOFTWARE & SERVICES/United States/San Jose/Splashtop",
          "FINTECH/United States/San Francisco/SpotOn",
          "FINTECH/United States/Los Angeles/Spotter",
          "HEALTH/United States/New York/Spring Health",
          "ARTIFICIAL INTELLIGENCE/United States/San Francisco/Standard",
          "AUTO & TRANSPORTATION/China/Changzhou/Star Charge",
          "DATA MANAGEMENT & ANALYTICS/United States/Boston/Starburst",
          "CYBERSECURITY/Israel/Netanya/StarkWare",
          "FINTECH/United Kingdom/London/Starling Bank",
          "MOBILE & TELECOMMUNICATIONS/United States/Boston/Starry",
          "FINTECH/United States/New York/Stash",
          "E-COMMERCE & DIRECT-TO-CONSUMER/United States/Detroit/StockX",
          "OTHER/Israel/Herzliya/StoreDot",
          "INTERNET SOFTWARE & SERVICES/United States/San Francisco/Strava",
          "FINTECH/United States/San Francisco/Stripe",
          "CYBERSECURITY/United States/San Francisco/Stytch",
          "FINTECH/United Kingdom/London/SumUp",
          "FINTECH/United States/Los Angeles/Sunbit",
          "SUPPLY CHAIN, LOGISTICS, & DELIVERY/India/Bengaluru/Swiggy",
          "FINTECH/France/Montpellier/Swile",
          "FINTECH/United States/New York/Symphony",
          "CYBERSECURITY/United States/San Francisco/Sysdig",
          "FINTECH/China/Qingdao/TELD",
          "HARDWARE/China/Beijing/TERMINUS Technology",
          "ARTIFICIAL INTELLIGENCE/China/Guangzhou/TUNGEE",
          "INTERNET SOFTWARE & SERVICES/United States/Boise/Tackle.io",
          "INTERNET SOFTWARE & SERVICES/United States/San Francisco/Talkdesk",
          "MOBILE & TELECOMMUNICATIONS/China/Beijing/TalkingData",
          "MOBILE & TELECOMMUNICATIONS/United States/Mountain View/TangoMe",
          "CYBERSECURITY/United States/Kirkland/Tanium",
          "FINTECH/United States/Draper/TaxBit",
          "INTERNET SOFTWARE & SERVICES/United States/San Diego/Tealium",
          "E-COMMERCE & DIRECT-TO-CONSUMER/United States/El Segundo/TechStyle Fashion Group",
          "INTERNET SOFTWARE & SERVICES/United States/San Ramon/Tekion",
          "INTERNET SOFTWARE & SERVICES/United States/Bellevue/Temporal",
          "HEALTH/United States/Chicago/Tempus",
          "ARTIFICIAL INTELLIGENCE/Canada/Toronto/TensTorrent",
          "INTERNET SOFTWARE & SERVICES/China/Shanghai/Tezign",
          "FINTECH/United Kingdom/London/The Bank of London",
          "E-COMMERCE & DIRECT-TO-CONSUMER/United States/Austin/The Zebra",
          "HEALTH/United States/New York/Thirty Madison",
          "FINTECH/United Kingdom/London/Thought Machine",
          "INTERNET SOFTWARE & SERVICES/United States/Sunnyvale/ThoughtSpot",
          "OTHER/United States/Walpole/Thrasio",
          "E-COMMERCE & DIRECT-TO-CONSUMER/United States/San Francisco/Thumbtack",
          "TRAVEL/Germany/Berlin/Tier",
          "INTERNET SOFTWARE & SERVICES/United States/New York/Timescale",
          "FINTECH/United States/San Mateo/Tipalti",
          "E-COMMERCE & DIRECT-TO-CONSUMER/United States/San Francisco/Tonal",
          "CYBERSECURITY/China/Hangzhou/Tongdun Technology",
          "FINTECH/South Korea/Seoul/Toss",
          "ARTIFICIAL INTELLIGENCE/United Kingdom/London/Tractable",
          "FINTECH/Germany/Berlin/Trade Republic",
          "OTHER/United States/Norfolk/Trader Interactive",
          "FINTECH/United States/San Francisco/Tradeshift",
          "FINTECH/United States/Westerville/TradingView",
          "HEALTH/United States/San Francisco/Transcarent",
          "CYBERSECURITY/Israel/Tel Aviv/Transmit Security",
          "TRAVEL/Spain/Barcelona/TravelPerk",
          "TRAVEL/Indonesia/Jakarta/Traveloka",
          "HOPU INVESTMENT MANAGEMENT, BOYU CAPITAL, DC THOMSON VENTURES/Singapore/Artificial intelligence/Trax",
          "CONSUMER & RETAIL/Hong Kong/Kowloon/Trendy Group International",
          "FINTECH/United States/Charlotte/Tresata",
          "HEALTH/United States/New York/TrialSpark",
          "TRAVEL/United States/Palo Alto/TripActions",
          "MOBILE & TELECOMMUNICATIONS/United Kingdom/London/Tripledot Studios",
          "FINTECH/United Kingdom/London/TrueLayer",
          "HEALTH/United States/Hayward/Truepill",
          "CYBERSECURITY/Canada/Vancouver/Trulioo",
          "FINTECH/United States/New York/Trumid",
          "TRAVEL/China/Beijing/TuJia",
          "E-COMMERCE & DIRECT-TO-CONSUMER/China/Shenzhen/Tubatu.com",
          "AUTO & TRANSPORTATION/China/Shanghai/Tuhu",
          "INTERNET SOFTWARE & SERVICES/United States/Palo Alto/Turing",
          "HARDWARE/China/Shenzhen/UBTECH Robotics",
          "SUPPLY CHAIN, LOGISTICS, & DELIVERY/China/Beijing/UISEE Technology",
          "FINTECH/Argentina/Buenos Aires/Uala",
          "SUPPLY CHAIN, LOGISTICS, & DELIVERY/India/Bengaluru/Udaan",
          "EDTECH/India/Bengaluru/Unacademy",
          "ARTIFICIAL INTELLIGENCE/Brazil/Sao Paulo/Unico",
          "ARTIFICIAL INTELLIGENCE/United States/Palo Alto/Uniphore",
          "ARTIFICIAL INTELLIGENCE/China/Beijing/Unisound",
          "HEALTH/United States/New York/Unite Us",
          "HEALTH/China/Shanghai/United Imaging Healthcare",
          "FINTECH/United States/New York/Unqork",
          "EDTECH/India/Mumbai/UpGrad",
          "FINTECH/United States/San Francisco/Upgrade",
          "OTHER/United States/Boulder/Uplight",
          "FINTECH/India/Mumbai/Upstox",
          "ARTIFICIAL INTELLIGENCE/United States/Chicago/Uptake",
          "E-COMMERCE & DIRECT-TO-CONSUMER/India/Gurgaon/Urban Company",
          "DATA MANAGEMENT & ANALYTICS/United States/New York/VAST Data",
          "EDTECH/China/Beijing/VIPKid",
          "TRAVEL/Sweden/Stockholm/VOI",
          "INTERNET SOFTWARE & SERVICES/United States/New York/VTS",
          "INTERNET SOFTWARE & SERVICES/United States/Dublin/Vagaro",
          "FINTECH/United States/San Francisco/Varo Bank",
          "ARTIFICIAL INTELLIGENCE/United States/San Jose/Vectra Networks",
          "EDTECH/India/Bengaluru/Vedantu",
          "E-COMMERCE & DIRECT-TO-CONSUMER/France/La Plaine Saint-Denis/Veepee",
          "INTERNET SOFTWARE & SERVICES/United States/San Mateo/Veev",
          "SUPPLY CHAIN, LOGISTICS, & DELIVERY/United States/Boulder/Veho",
          "CYBERSECURITY/United States/Salt Lake City/Venafi",
          "ARTIFICIAL INTELLIGENCE/United States/New York/VerbIT",
          "INTERNET SOFTWARE & SERVICES/United States/San Francisco/Vercel",
          "ARTIFICIAL INTELLIGENCE/Estonia/Tallinn/Veriff",
          "CYBERSECURITY/United States/San Mateo/Verkada",
          "E-COMMERCE & DIRECT-TO-CONSUMER/France/Paris/Vestiaire Collective",
          "AUTO & TRANSPORTATION/United States/New York/Via",
          "INTERNET SOFTWARE & SERVICES/United States/Brooklyn/Vice Media",
          "INTERNET SOFTWARE & SERVICES/United States/Los Angeles/VideoAmp",
          "E-COMMERCE & DIRECT-TO-CONSUMER/Lithuania/Vilnius/Vinted",
          "HEALTH/United States/San Francisco/Virta Health",
          "FINTECH/United States/New York/Vise",
          "INTERNET SOFTWARE & SERVICES/Canada/Vancouver/Visier",
          "OTHER/United Arab Emirates/Dubai/Vista Global",
          "OTHER/France/Paris/Voodoo",
          "INTERNET SOFTWARE & SERVICES/United States/Washington/Vox Media",
          "E-COMMERCE & DIRECT-TO-CONSUMER/United States/Carlsbad/Vuori",
          "E-COMMERCE & DIRECT-TO-CONSUMER/South Korea/Seoul/WEMAKEPRICE",
          "AUTO & TRANSPORTATION/China/Shanghai/WM Motor",
          "INTERNET SOFTWARE & SERVICES/China/Guangzhou/WTOIP",
          "MOBILE & TELECOMMUNICATIONS/China/Hangzhou/Wacai",
          "INTERNET SOFTWARE & SERVICES/United States/San Francisco/Watershed",
          "FINTECH/Senegal/Dakar/Wave",
          "FINTECH/Ireland/Dublin/Wayflyer",
          "HEALTH/China/Hangzhou/We Doctor",
          "FINTECH/China/Changsha/WeBull",
          "SEQUOIA CAPITAL CHINA, ING, ALIBABA ENTREPRENEURS FUND/Hong Kong/Fintech/WeLab",
          "AUTO & TRANSPORTATION/China/Guangzhou/WeRide",
          "INTERNET SOFTWARE & SERVICES/United States/San Francisco/Webflow",
          "SUPPLY CHAIN, LOGISTICS, & DELIVERY/United States/Fremont/Weee!",
          "CONSUMER & RETAIL/China/Luohe/Weilong",
          "OTHER/China/Hunan/Wenheyou",
          "E-COMMERCE & DIRECT-TO-CONSUMER/United States/Marina del Rey/Whatnot",
          "E-COMMERCE & DIRECT-TO-CONSUMER/United States/Boston/Whoop",
          "OTHER/Brazil/Sao Paulo/Wildlife Studios",
          "CYBERSECURITY/Israel/Tel Aviv/Wiz",
          "E-COMMERCE & DIRECT-TO-CONSUMER/China/Beijing/Womai",
          "INTERNET SOFTWARE & SERVICES/United States/Mountain View/Workato",
          "INTERNET SOFTWARE & SERVICES/Ireland/Dublin/Workhuman",
          "INTERNET SOFTWARE & SERVICES/United States/Austin/Workrise",
          "FINTECH/United States/New York/Wrapbook",
          "INTERNET SOFTWARE & SERVICES/China/Shanghai/XForcePlus",
          "FINTECH/Indonesia/Jakarta/Xendit",
          "TRAVEL/China/Beijing/XiaoZhu",
          "FINTECH/China/Beijing/Xiaobing",
          "E-COMMERCE & DIRECT-TO-CONSUMER/China/Shanghai/Xiaohongshu",
          "MOBILE & TELECOMMUNICATIONS/China/Shanghai/Ximalaya FM",
          "INTERNET SOFTWARE & SERVICES/China/Chengdu/Xinchao Media",
          "E-COMMERCE & DIRECT-TO-CONSUMER/China/Changsha/Xingsheng Selected",
          "E-COMMERCE & DIRECT-TO-CONSUMER/China/Shenzhen/Xingyun Group",
          "SUPPLY CHAIN, LOGISTICS, & DELIVERY/India/Pune/Xpressbees",
          "ARTIFICIAL INTELLIGENCE/China/Shenzhen/XtalPi",
          "SUPPLY CHAIN, LOGISTICS, & DELIVERY/China/Shenzhen/YH Global",
          "ARTIFICIAL INTELLIGENCE/China/Shanghai/YITU Technology",
          "TRAVEL/South Korea/Seoul/Yanolja",
          "HEALTH/China/Guangzhou/Yaoshibang",
          "MOBILE & TELECOMMUNICATIONS/South Korea/Seoul/Yello Mobile",
          "MOBILE & TELECOMMUNICATIONS/China/Beijing/Yidian Zixun",
          "SUPPLY CHAIN, LOGISTICS, & DELIVERY/China/Shanghai/Yiguo",
          "CONSUMER & RETAIL/China/Beijing/Yijiupi",
          "SUPPLY CHAIN, LOGISTICS, & DELIVERY/China/Shanghai/Yimidida",
          "E-COMMERCE & DIRECT-TO-CONSUMER/China/Hefei/Yipin Shengxian",
          "INTERNET SOFTWARE & SERVICES/United States/New York/YipitData",
          "MOBILE & TELECOMMUNICATIONS/China/Beijing/Yixia",
          "OTHER/France/Evry/Ynsect",
          "INTERNET SOFTWARE & SERVICES/United States/New York/Yotpo",
          "OTHER/United States/New York/You & Mr Jones",
          "AUTO & TRANSPORTATION/China/Shanghai/Youxia Motors",
          "EDTECH/China/Beijing/Yuanfudao",
          "CONSUMER & RETAIL/China/Beijing/Yuanqi Senlin",
          "DATA MANAGEMENT & ANALYTICS/United States/Sunnyvale/YugaByte",
          "SUPPLY CHAIN, LOGISTICS, & DELIVERY/China/Shanghai/YunQuNa",
          "EDTECH/China/Suzhou/Yunxuetang",
          "FINTECH/United Kingdom/London/ZEPZ",
          "INTERNET SOFTWARE & SERVICES/United States/Sunnyvale/Zapier",
          "FINTECH/United Kingdom/London/Zego",
          "FINTECH/United States/Austin/ZenBusiness",
          "INTERNET SOFTWARE & SERVICES/United States/Bellevue/Zenoti",
          "FINTECH/United States/San Francisco/Zeta",
          "INTERNET SOFTWARE & SERVICES/India/Bengaluru/Zetwerk",
          "E-COMMERCE & DIRECT-TO-CONSUMER/China/Shanghai/Zhaogang",
          "E-COMMERCE & DIRECT-TO-CONSUMER/China/Beijing/Zhuan Zhuan",
          "INTERNET SOFTWARE & SERVICES/China/Chongqing/Zhubajie",
          "CONSUMER & RETAIL/China/Chongqing/Zihaiguo",
          "FINTECH/United Kingdom/London/Zilch",
          "SUPPLY CHAIN, LOGISTICS, & DELIVERY/United States/South San Francisco/Zipline",
          "E-COMMERCE & DIRECT-TO-CONSUMER/China/Beijing/Ziroom",
          "HEALTH/United States/New York/ZocDoc",
          "AUTO & TRANSPORTATION/China/Shanghai/ZongMu Technology",
          "FINTECH/United Kingdom/London/Zopa",
          "CONSUMER & RETAIL/United States/Mountain View/Zume",
          "EDTECH/China/Beijing/Zuoyebang",
          "E-COMMERCE & DIRECT-TO-CONSUMER/United States/Long Beach/Zwift",
          "INTERNET SOFTWARE & SERVICES/India/Bengaluru/apna",
          "MUNDI VENTURES, DOQLING CAPITAL PARTNERS, ACTIVANT CAPITAL/Singapore/Fintech/bolttech",
          "FINTECH/United States/New York/candy.com",
          "DATA MANAGEMENT & ANALYTICS/United States/Philadelphia/dbt Labs",
          "E-COMMERCE & DIRECT-TO-CONSUMER/China/Shanghai/eDaili",
          "CYBERSECURITY/Canada/Waterloo/eSentire",
          "SUPPLY CHAIN, LOGISTICS, & DELIVERY/United States/Boston/ezCater",
          "E-COMMERCE & DIRECT-TO-CONSUMER/United States/Philadelphia/goPuff",
          "FINTECH/United States/New York/iCapital Network",
          "ARTIFICIAL INTELLIGENCE/China/Shenzhen/iCarbonX",
          "SUPPLY CHAIN, LOGISTICS, & DELIVERY/Brazil/Osasco/iFood",
          "FINTECH/United States/Long Beach/iTrustCapital",
          "EDTECH/China/Shanghai/iTutorGroup",
          "ARTIFICIAL INTELLIGENCE/United States/Dallas/o9 Solutions",
          "INTERNET SOFTWARE & SERVICES/United States/San Francisco/reddit",
          "FINTECH/Germany/Berlin/solarisBank",
          "FINTECH/Germany/Berlin/wefox",
          "FINTECH/Denmark/Aarhus",
          "CONSUMER & RETAIL/United Kingdom/Aberdeen",
          "OTHER/United States/Alameda",
          "E-COMMERCE & DIRECT-TO-CONSUMER/Australia/Alexandria",
          "DATA MANAGEMENT & ANALYTICS/United Kingdom/Altrincham",
          "INTERNET SOFTWARE & SERVICES/United States/Ambler",
          "E-COMMERCE & DIRECT-TO-CONSUMER/Netherlands/Amsterdam",
          "FINTECH/Netherlands/Amsterdam",
          "HARDWARE/Netherlands/Amsterdam",
          "MOBILE & TELECOMMUNICATIONS/Netherlands/Amsterdam",
          "EDTECH/India/Andheri",
          "FINTECH/United States/Arlington",
          "HOPU INVESTMENT MANAGEMENT, BOYU CAPITAL, DC THOMSON VENTURES/Singapore/Artificial intelligence",
          "VISION PLUS CAPITAL, GSR VENTURES, ZHENFUND/Singapore/Artificial intelligence",
          "FINTECH/United States/Atlanta",
          "HARDWARE/United States/Atlanta",
          "INTERNET SOFTWARE & SERVICES/United States/Atlanta",
          "OTHER/United States/Atlanta",
          "SUPPLY CHAIN, LOGISTICS, & DELIVERY/United States/Atlanta",
          "ARTIFICIAL INTELLIGENCE/United States/Austin",
          "CONSUMER & RETAIL/United States/Austin",
          "DATA MANAGEMENT & ANALYTICS/United States/Austin",
          "E-COMMERCE & DIRECT-TO-CONSUMER/United States/Austin",
          "FINTECH/United States/Austin",
          "INTERNET SOFTWARE & SERVICES/United States/Austin",
          "FINTECH/India/Bangalore",
          "FINTECH/Thailand/Bangkok",
          "SUPPLY CHAIN, LOGISTICS, & DELIVERY/Thailand/Bangkok",
          "TRAVEL/Spain/Barcelona",
          "ARTIFICIAL INTELLIGENCE/China/Beijing",
          "CONSUMER & RETAIL/China/Beijing",
          "DATA MANAGEMENT & ANALYTICS/China/Beijing",
          "E-COMMERCE & DIRECT-TO-CONSUMER/China/Beijing",
          "EDTECH/China/Beijing",
          "FINTECH/China/Beijing",
          "HARDWARE/China/Beijing",
          "HEALTH/China/Beijing",
          "INTERNET SOFTWARE & SERVICES/China/Beijing",
          "MOBILE & TELECOMMUNICATIONS/China/Beijing",
          "SUPPLY CHAIN, LOGISTICS, & DELIVERY/China/Beijing",
          "TRAVEL/China/Beijing",
          "ARTIFICIAL INTELLIGENCE/United States/Bellevue",
          "E-COMMERCE & DIRECT-TO-CONSUMER/United States/Bellevue",
          "INTERNET SOFTWARE & SERVICES/United States/Bellevue",
          "INTERNET SOFTWARE & SERVICES/United States/Bellingham",
          "E-COMMERCE & DIRECT-TO-CONSUMER/United States/Bend",
          "AUTO & TRANSPORTATION/India/Bengaluru",
          "E-COMMERCE & DIRECT-TO-CONSUMER/India/Bengaluru",
          "EDTECH/India/Bengaluru",
          "FINTECH/India/Bengaluru",
          "HEALTH/India/Bengaluru",
          "INTERNET SOFTWARE & SERVICES/India/Bengaluru",
          "MOBILE & TELECOMMUNICATIONS/India/Bengaluru",
          "OTHER/India/Bengaluru",
          "SUPPLY CHAIN, LOGISTICS, & DELIVERY/India/Bengaluru",
          "ARTIFICIAL INTELLIGENCE/United States/Berkeley",
          "INTERNET SOFTWARE & SERVICES/United States/Berkeley",
          "DATA MANAGEMENT & ANALYTICS/United States/Berkeley Heights",
          "CONSUMER & RETAIL/Germany/Berlin",
          "E-COMMERCE & DIRECT-TO-CONSUMER/Germany/Berlin",
          "FINTECH/Germany/Berlin",
          "INTERNET SOFTWARE & SERVICES/Germany/Berlin",
          "OTHER/Germany/Berlin",
          "SUPPLY CHAIN, LOGISTICS, & DELIVERY/Germany/Berlin",
          "TRAVEL/Germany/Berlin",
          "HEALTH/United States/Bethesda",
          "HEALTH/United States/Boca Raton",
          "OTHER/Colombia/Bogota",
          "SUPPLY CHAIN, LOGISTICS, & DELIVERY/Colombia/Bogota",
          "INTERNET SOFTWARE & SERVICES/United States/Boise",
          "ARTIFICIAL INTELLIGENCE/United States/Boston",
          "CYBERSECURITY/United States/Boston",
          "DATA MANAGEMENT & ANALYTICS/United States/Boston",
          "E-COMMERCE & DIRECT-TO-CONSUMER/United States/Boston",
          "FINTECH/United States/Boston",
          "HEALTH/United States/Boston",
          "INTERNET SOFTWARE & SERVICES/United States/Boston",
          "MOBILE & TELECOMMUNICATIONS/United States/Boston",
          "SUPPLY CHAIN, LOGISTICS, & DELIVERY/United States/Boston",
          "OTHER/United States/Boulder",
          "SUPPLY CHAIN, LOGISTICS, & DELIVERY/United States/Boulder",
          "INTERNET SOFTWARE & SERVICES/Australia/Brisbane",
          "HEALTH/United States/Brisbane",
          "ARTIFICIAL INTELLIGENCE/United Kingdom/Bristol",
          "OTHER/United Kingdom/Bristol",
          "HEALTH/United States/Brooklyn",
          "INTERNET SOFTWARE & SERVICES/United States/Brooklyn",
          "DATA MANAGEMENT & ANALYTICS/Belgium/Brussels",
          "CONSUMER & RETAIL/South Africa/Bryanston",
          "FINTECH/Argentina/Buenos Aires",
          "HEALTH/United States/Burlingame",
          "CYBERSECURITY/United States/Burlington",
          "INTERNET SOFTWARE & SERVICES/Canada/Burnaby",
          "HEALTH/United Kingdom/Cambridge",
          "DATA MANAGEMENT & ANALYTICS/United States/Cambridge",
          "HEALTH/United States/Cambridge",
          "INTERNET SOFTWARE & SERVICES/United States/Cambridge",
          "MOBILE & TELECOMMUNICATIONS/United States/Cambridge",
          "OTHER/United States/Cambridge",
          "E-COMMERCE & DIRECT-TO-CONSUMER/Brazil/Campinas",
          "E-COMMERCE & DIRECT-TO-CONSUMER/United States/Carlsbad",
          "OTHER/United States/Carson City",
          "OTHER/United States/Cary",
          "OTHER/United States/Cedar Park",
          "TRAVEL/Hong Kong/Central",
          "E-COMMERCE & DIRECT-TO-CONSUMER/China/Changsha",
          "FINTECH/China/Changsha",
          "AUTO & TRANSPORTATION/China/Changzhou",
          "FINTECH/United States/Charlotte",
          "OTHER/United States/Charlotte",
          "FINTECH/United States/Chatham",
          "HEALTH/China/Chengdu",
          "INTERNET SOFTWARE & SERVICES/China/Chengdu",
          "SUPPLY CHAIN, LOGISTICS, & DELIVERY/China/Chengdu",
          "OTHER/India/Chennai",
          "SUPPLY CHAIN, LOGISTICS, & DELIVERY/Hong Kong/Cheung Sha Wan",
          "ARTIFICIAL INTELLIGENCE/United States/Chicago",
          "DATA MANAGEMENT & ANALYTICS/United States/Chicago",
          "E-COMMERCE & DIRECT-TO-CONSUMER/United States/Chicago",
          "FINTECH/United States/Chicago",
          "HEALTH/United States/Chicago",
          "INTERNET SOFTWARE & SERVICES/United States/Chicago",
          "OTHER/United States/Chicago",
          "SUPPLY CHAIN, LOGISTICS, & DELIVERY/United States/Chicago",
          "CONSUMER & RETAIL/China/Chongqing",
          "INTERNET SOFTWARE & SERVICES/China/Chongqing",
          "FINTECH/United States/Cincinnati",
          "OTHER/United Kingdom/Colchester",
          "DATA MANAGEMENT & ANALYTICS/United States/Colorado Springs",
          "INTERNET SOFTWARE & SERVICES/United States/Columbus",
          "FINTECH/Denmark/Copenhagen",
          "FINTECH/United Kingdom/Crewe",
          "HARDWARE/France/Croix",
          "E-COMMERCE & DIRECT-TO-CONSUMER/United States/Culver City",
          "INTERNET SOFTWARE & SERVICES/United States/Culver City",
          "MOBILE & TELECOMMUNICATIONS/United States/Culver City",
          "E-COMMERCE & DIRECT-TO-CONSUMER/Brazil/Curitiba",
          "FINTECH/Brazil/Curitiba",
          "FINTECH/Senegal/Dakar",
          "ARTIFICIAL INTELLIGENCE/United States/Dallas",
          "INTERNET SOFTWARE & SERVICES/United States/Dallas",
          "SUPPLY CHAIN, LOGISTICS, & DELIVERY/United States/Dallas",
          "FINTECH/United States/Denver",
          "HEALTH/United States/Denver",
          "INTERNET SOFTWARE & SERVICES/United States/Denver",
          "E-COMMERCE & DIRECT-TO-CONSUMER/United States/Detroit",
          "E-COMMERCE & DIRECT-TO-CONSUMER/China/Dongguan",
          "FINTECH/United States/Draper",
          "OTHER/United Arab Emirates/Dubai",
          "SUPPLY CHAIN, LOGISTICS, & DELIVERY/United Arab Emirates/Dubai",
          "FINTECH/Ireland/Dublin",
          "HEALTH/Ireland/Dublin",
          "INTERNET SOFTWARE & SERVICES/Ireland/Dublin",
          "INTERNET SOFTWARE & SERVICES/United States/Dublin",
          "HEALTH/Germany/Duderstadt",
          "ANDREESSEN HOROWITZ, DST GLOBAL, IDG CAPITAL/Hong Kong/E-commerce & direct-to-consumer",
          "500 GLOBAL, RAKUTEN VENTURES, GOLDEN GATE VENTURES/Singapore/E-commerce & direct-to-consumer",
          "JUNGLE VENTURES, ACCEL, VENTURE HIGHWAY/Singapore/E-commerce & direct-to-consumer",
          "SINGTEL INNOV8, ALPHA JWC VENTURES, GOLDEN GATE VENTURES/Singapore/E-commerce & direct-to-consumer",
          "CYBERSECURITY/United States/Eden Prairie",
          "E-COMMERCE & DIRECT-TO-CONSUMER/United States/El Segundo",
          "FINTECH/United States/El Segundo",
          "HEALTH/United States/El Segundo",
          "OTHER/United States/El Segundo",
          "SUPPLY CHAIN, LOGISTICS, & DELIVERY/United States/Encinitas",
          "OTHER/United States/Englewood",
          "DATA MANAGEMENT & ANALYTICS/United States/Englewood Cliffs",
          "MOBILE & TELECOMMUNICATIONS/Finland/Espoo",
          "OTHER/France/Evry",
          "E-COMMERCE & DIRECT-TO-CONSUMER/India/Faridabad",
          "SEQUOIA CAPITAL, THOMA BRAVO, SOFTBANK/Bahamas/Fintech",
          "SEQUOIA CAPITAL CHINA, ING, ALIBABA ENTREPRENEURS FUND/Hong Kong/Fintech",
          "TIGER GLOBAL MANAGEMENT, TIGER BROKERS, DCM VENTURES/Hong Kong/Fintech",
          "DRAGONFLY CAPTIAL, QIMING VENTURE PARTNERS, DST GLOBAL/Singapore/Fintech",
          "MUNDI VENTURES, DOQLING CAPITAL PARTNERS, ACTIVANT CAPITAL/Singapore/Fintech",
          "VERTEX VENTURES SE ASIA, GLOBAL FOUNDERS CAPITAL, VISA VENTURES/Singapore/Fintech",
          "OTHER/United States/Fort Mill",
          "CYBERSECURITY/United States/Foster City",
          "HEALTH/United States/Framingham",
          "ARTIFICIAL INTELLIGENCE/United States/Fremont",
          "SUPPLY CHAIN, LOGISTICS, & DELIVERY/United States/Fremont",
          "FINTECH/Belgium/Ghent",
          "FINTECH/Israel/Giv'atayim",
          "EDTECH/United States/Glendale",
          "INTERNET SOFTWARE & SERVICES/United States/Glendale",
          "OTHER/United States/Goleta",
          "ARTIFICIAL INTELLIGENCE/China/Guangzhou",
          "AUTO & TRANSPORTATION/China/Guangzhou",
          "HEALTH/China/Guangzhou",
          "INTERNET SOFTWARE & SERVICES/China/Guangzhou",
          "OTHER/China/Guiyang",
          "E-COMMERCE & DIRECT-TO-CONSUMER/India/Gurgaon",
          "FINTECH/India/Gurgaon",
          "SUPPLY CHAIN, LOGISTICS, & DELIVERY/India/Gurgaon",
          "E-COMMERCE & DIRECT-TO-CONSUMER/India/Gurugram",
          "FINTECH/India/Gurugram",
          "HEALTH/India/Gurugram",
          "TRAVEL/India/Gurugram",
          "ARTIFICIAL INTELLIGENCE/Bermuda/Hamilton",
          "AUTO & TRANSPORTATION/China/Hangzhou",
          "CYBERSECURITY/China/Hangzhou",
          "DATA MANAGEMENT & ANALYTICS/China/Hangzhou",
          "E-COMMERCE & DIRECT-TO-CONSUMER/China/Hangzhou",
          "FINTECH/China/Hangzhou",
          "HARDWARE/China/Hangzhou",
          "HEALTH/China/Hangzhou",
          "INTERNET SOFTWARE & SERVICES/China/Hangzhou",
          "MOBILE & TELECOMMUNICATIONS/China/Hangzhou",
          "CYBERSECURITY/United States/Hanover",
          "OTHER/United States/Hawthorne",
          "HEALTH/United States/Hayward",
          "E-COMMERCE & DIRECT-TO-CONSUMER/China/Hefei",
          "INTERNET SOFTWARE & SERVICES/Finland/Helsinki",
          "SUPPLY CHAIN, LOGISTICS, & DELIVERY/Finland/Helsinki",
          "CYBERSECURITY/United States/Herndon",
          "OTHER/Israel/Herzliya",
          "FINTECH/Vietnam/Ho Chi Minh City",
          "INTERNET SOFTWARE & SERVICES/Vietnam/Ho Chi Minh City",
          "FINTECH/United States/Hoboken",
          "MOBILE & TELECOMMUNICATIONS/United States/Hoboken",
          "FINTECH/United States/Houston",
          "OTHER/United States/Houston",
          "OTHER/China/Hunan",
          "INTERNET SOFTWARE & SERVICES/India/Hyderabad",
          "OTHER/United States/Inglewood",
          "SEQUOIA CAPITAL CHINA, SHUNWEI CAPITAL PARTNERS, QUALGRO/Singapore/Internet software & services",
          "TEMASEK, GUGGENHEIM INVESTMENTS, QATAR INVESTMENT AUTHORITY/Singapore/Internet software & services",
          "ARTIFICIAL INTELLIGENCE/United States/Irvine",
          "INTERNET SOFTWARE & SERVICES/United States/Irvine",
          "HEALTH/United States/Irving",
          "E-COMMERCE & DIRECT-TO-CONSUMER/United States/Islandia",
          "E-COMMERCE & DIRECT-TO-CONSUMER/Turkey/Istanbul",
          "INTERNET SOFTWARE & SERVICES/Turkey/Istanbul",
          "MOBILE & TELECOMMUNICATIONS/Turkey/Istanbul",
          "E-COMMERCE & DIRECT-TO-CONSUMER/United States/Jacksonville",
          "E-COMMERCE & DIRECT-TO-CONSUMER/India/Jaipur",
          "CONSUMER & RETAIL/Indonesia/Jakarta",
          "E-COMMERCE & DIRECT-TO-CONSUMER/Indonesia/Jakarta",
          "FINTECH/Indonesia/Jakarta",
          "SUPPLY CHAIN, LOGISTICS, & DELIVERY/Indonesia/Jakarta",
          "TRAVEL/Indonesia/Jakarta",
          "AUTO & TRANSPORTATION/South Korea/Jeju-do",
          "FINTECH/United States/Jersey City",
          "ARTIFICIAL INTELLIGENCE/Israel/Jerusalem",
          "E-COMMERCE & DIRECT-TO-CONSUMER/China/Jiangsu",
          "CYBERSECURITY/United States/Kirkland",
          "EDTECH/Canada/Kitchener",
          "CONSUMER & RETAIL/Hong Kong/Kowloon",
          "E-COMMERCE & DIRECT-TO-CONSUMER/France/La Plaine Saint-Denis",
          "FINTECH/Nigeria/Lagos",
          "HEALTH/Switzerland/Lausanne",
          "FINTECH/United States/Leawood",
          "FINTECH/United States/Lehi",
          "INTERNET SOFTWARE & SERVICES/United States/Lehi",
          "SUPPLY CHAIN, LOGISTICS, & DELIVERY/United States/Lehi",
          "E-COMMERCE & DIRECT-TO-CONSUMER/Mexico/Lerma de Villada",
          "OTHER/Luxembourg/Leudelange",
          "FINTECH/United States/Lincoln",
          "ARTIFICIAL INTELLIGENCE/United Kingdom/London",
          "AUTO & TRANSPORTATION/United Kingdom/London",
          "E-COMMERCE & DIRECT-TO-CONSUMER/United Kingdom/London",
          "FINTECH/United Kingdom/London",
          "HARDWARE/United Kingdom/London",
          "INTERNET SOFTWARE & SERVICES/United Kingdom/London",
          "MOBILE & TELECOMMUNICATIONS/United Kingdom/London",
          "OTHER/United Kingdom/London",
          "SUPPLY CHAIN, LOGISTICS, & DELIVERY/United Kingdom/London",
          "E-COMMERCE & DIRECT-TO-CONSUMER/United States/Long Beach",
          "FINTECH/United States/Long Beach",
          "ARTIFICIAL INTELLIGENCE/United States/Los Altos",
          "CYBERSECURITY/United States/Los Altos",
          "HARDWARE/United States/Los Altos",
          "E-COMMERCE & DIRECT-TO-CONSUMER/United States/Los Angeles",
          "FINTECH/United States/Los Angeles",
          "INTERNET SOFTWARE & SERVICES/United States/Los Angeles",
          "OTHER/United States/Los Angeles",
          "DATA MANAGEMENT & ANALYTICS/United States/Louisville",
          "INTERNET SOFTWARE & SERVICES/Belgium/Louvain-la-Neuve",
          "CONSUMER & RETAIL/China/Luohe",
          "DATA MANAGEMENT & ANALYTICS/Norway/Lysaker",
          "E-COMMERCE & DIRECT-TO-CONSUMER/United States/Madison",
          "AUTO & TRANSPORTATION/Spain/Madrid",
          "INTERNET SOFTWARE & SERVICES/Spain/Madrid",
          "FINTECH/India/Maharashtra",
          "OTHER/Philippines/Manila",
          "E-COMMERCE & DIRECT-TO-CONSUMER/United States/Marina del Rey",
          "CYBERSECURITY/United States/McLean",
          "HEALTH/United States/McLean",
          "FINTECH/Australia/Melbourne",
          "ARTIFICIAL INTELLIGENCE/United States/Menlo Park",
          "HEALTH/United States/Menlo Park",
          "E-COMMERCE & DIRECT-TO-CONSUMER/Mexico/Mexico City",
          "FINTECH/Mexico/Mexico City",
          "CYBERSECURITY/United States/Miami",
          "FINTECH/United States/Miami",
          "HEALTH/United States/Miami",
          "SUPPLY CHAIN, LOGISTICS, & DELIVERY/United States/Miami",
          "MOBILE & TELECOMMUNICATIONS/South Africa/Midrand",
          "FINTECH/Italy/Milan",
          "INTERNET SOFTWARE & SERVICES/Canada/Mississauga",
          "KUANG-CHI/Singapore/Mobile & telecommunications",
          "FINTECH/France/Montpellier",
          "E-COMMERCE & DIRECT-TO-CONSUMER/Canada/Montreal",
          "TRAVEL/Canada/Montreal",
          "ARTIFICIAL INTELLIGENCE/United States/Mountain View",
          "AUTO & TRANSPORTATION/United States/Mountain View",
          "CONSUMER & RETAIL/United States/Mountain View",
          "DATA MANAGEMENT & ANALYTICS/United States/Mountain View",
          "FINTECH/United States/Mountain View",
          "HEALTH/United States/Mountain View",
          "INTERNET SOFTWARE & SERVICES/United States/Mountain View",
          "MOBILE & TELECOMMUNICATIONS/United States/Mountain View",
          "DATA MANAGEMENT & ANALYTICS/India/Mumbai",
          "E-COMMERCE & DIRECT-TO-CONSUMER/India/Mumbai",
          "EDTECH/India/Mumbai",
          "FINTECH/India/Mumbai",
          "INTERNET SOFTWARE & SERVICES/India/Mumbai",
          "AUTO & TRANSPORTATION/Germany/Munich",
          "DATA MANAGEMENT & ANALYTICS/Germany/Munich",
          "FINTECH/Germany/Munich",
          "HARDWARE/Germany/Munich",
          "INTERNET SOFTWARE & SERVICES/Germany/Munich",
          "AUTO & TRANSPORTATION/China/Nanjing",
          "E-COMMERCE & DIRECT-TO-CONSUMER/China/Nanjing",
          "INTERNET SOFTWARE & SERVICES/United States/Nashville",
          "CYBERSECURITY/Israel/Netanya",
          "E-COMMERCE & DIRECT-TO-CONSUMER/India/New Delhi",
          "FINTECH/India/New Delhi",
          "ARTIFICIAL INTELLIGENCE/United States/New York",
          "AUTO & TRANSPORTATION/United States/New York",
          "CONSUMER & RETAIL/United States/New York",
          "CYBERSECURITY/United States/New York",
          "DATA MANAGEMENT & ANALYTICS/United States/New York",
          "E-COMMERCE & DIRECT-TO-CONSUMER/United States/New York",
          "EDTECH/United States/New York",
          "FINTECH/United States/New York",
          "HARDWARE/United States/New York",
          "HEALTH/United States/New York",
          "INTERNET SOFTWARE & SERVICES/United States/New York",
          "OTHER/United States/New York",
          "SUPPLY CHAIN, LOGISTICS, & DELIVERY/United States/New York",
          "FINTECH/India/Noida",
          "OTHER/United States/Norfolk",
          "DATA MANAGEMENT & ANALYTICS/United States/Northbrook",
          "DATA MANAGEMENT & ANALYTICS/United States/Oakland",
          "INTERNET SOFTWARE & SERVICES/United States/Oakland",
          "SUPPLY CHAIN, LOGISTICS, & DELIVERY/Brazil/Osasco",
          "DATA MANAGEMENT & ANALYTICS/Norway/Oslo",
          "E-COMMERCE & DIRECT-TO-CONSUMER/Norway/Oslo",
          "SUPPLY CHAIN, LOGISTICS, & DELIVERY/Canada/Ottawa",
          "ARTIFICIAL INTELLIGENCE/United States/Palo Alto",
          "CYBERSECURITY/United States/Palo Alto",
          "DATA MANAGEMENT & ANALYTICS/United States/Palo Alto",
          "E-COMMERCE & DIRECT-TO-CONSUMER/United States/Palo Alto",
          "FINTECH/United States/Palo Alto",
          "HARDWARE/United States/Palo Alto",
          "INTERNET SOFTWARE & SERVICES/United States/Palo Alto",
          "TRAVEL/United States/Palo Alto",
          "E-COMMERCE & DIRECT-TO-CONSUMER/Brazil/Parana",
          "ARTIFICIAL INTELLIGENCE/France/Paris",
          "AUTO & TRANSPORTATION/France/Paris",
          "E-COMMERCE & DIRECT-TO-CONSUMER/France/Paris",
          "FINTECH/France/Paris",
          "HARDWARE/France/Paris",
          "HEALTH/France/Paris",
          "INTERNET SOFTWARE & SERVICES/France/Paris",
          "OTHER/France/Paris",
          "E-COMMERCE & DIRECT-TO-CONSUMER/United States/Pennsauken",
          "CYBERSECURITY/Israel/Petah Tikva",
          "FINTECH/United Kingdom/Peterborough",
          "DATA MANAGEMENT & ANALYTICS/United States/Philadelphia",
          "E-COMMERCE & DIRECT-TO-CONSUMER/United States/Philadelphia",
          "ARTIFICIAL INTELLIGENCE/United States/Pittsburgh",
          "HARDWARE/United States/Plantation",
          "EDTECH/United States/Pleasanton",
          "CYBERSECURITY/United States/Portland",
          "DATA MANAGEMENT & ANALYTICS/United States/Portola Valley",
          "SUPPLY CHAIN, LOGISTICS, & DELIVERY/Czech Republic/Prague",
          "DATA MANAGEMENT & ANALYTICS/Switzerland/Prilly",
          "INTERNET SOFTWARE & SERVICES/United States/Princeton",
          "E-COMMERCE & DIRECT-TO-CONSUMER/India/Pune",
          "SUPPLY CHAIN, LOGISTICS, & DELIVERY/India/Pune",
          "FINTECH/China/Qingdao",
          "INTERNET SOFTWARE & SERVICES/Israel/Ra'anana",
          "INTERNET SOFTWARE & SERVICES/United States/Raleigh",
          "CYBERSECURITY/Israel/Ramat Gan",
          "ARTIFICIAL INTELLIGENCE/United States/Redwood City",
          "CONSUMER & RETAIL/United States/Redwood City",
          "DATA MANAGEMENT & ANALYTICS/United States/Redwood City",
          "EDTECH/United States/Redwood City",
          "FINTECH/United States/Redwood City",
          "HARDWARE/United States/Redwood City",
          "HEALTH/United States/Redwood City",
          "INTERNET SOFTWARE & SERVICES/United States/Redwood City",
          "MOBILE & TELECOMMUNICATIONS/United States/Redwood City",
          "SUPPLY CHAIN, LOGISTICS, & DELIVERY/United States/Redwood City",
          "INTERNET SOFTWARE & SERVICES/Australia/Richmond",
          "INTERNET SOFTWARE & SERVICES/United States/Roseville",
          "OTHER/France/Roubaix",
          "INTERNET SOFTWARE & SERVICES/United States/Sacramento",
          "CYBERSECURITY/United States/Salt Lake City",
          "OTHER/United States/San Carlos",
          "ARTIFICIAL INTELLIGENCE/United States/San Diego",
          "CYBERSECURITY/United States/San Diego",
          "HEALTH/United States/San Diego",
          "INTERNET SOFTWARE & SERVICES/United States/San Diego",
          "ARTIFICIAL INTELLIGENCE/United States/San Francisco",
          "CONSUMER & RETAIL/United States/San Francisco",
          "CYBERSECURITY/United States/San Francisco",
          "DATA MANAGEMENT & ANALYTICS/United States/San Francisco",
          "E-COMMERCE & DIRECT-TO-CONSUMER/United States/San Francisco",
          "EDTECH/United States/San Francisco",
          "FINTECH/United States/San Francisco",
          "HARDWARE/United States/San Francisco",
          "HEALTH/United States/San Francisco",
          "INTERNET SOFTWARE & SERVICES/United States/San Francisco",
          "MOBILE & TELECOMMUNICATIONS/United States/San Francisco",
          "OTHER/United States/San Francisco",
          "SUPPLY CHAIN, LOGISTICS, & DELIVERY/United States/San Francisco",
          "ARTIFICIAL INTELLIGENCE/United States/San Jose",
          "CYBERSECURITY/United States/San Jose",
          "DATA MANAGEMENT & ANALYTICS/United States/San Jose",
          "FINTECH/United States/San Jose",
          "INTERNET SOFTWARE & SERVICES/United States/San Jose",
          "ARTIFICIAL INTELLIGENCE/United States/San Mateo",
          "CYBERSECURITY/United States/San Mateo",
          "DATA MANAGEMENT & ANALYTICS/United States/San Mateo",
          "FINTECH/United States/San Mateo",
          "HEALTH/United States/San Mateo",
          "INTERNET SOFTWARE & SERVICES/United States/San Mateo",
          "MOBILE & TELECOMMUNICATIONS/United States/San Mateo",
          "INTERNET SOFTWARE & SERVICES/United States/San Ramon",
          "INTERNET SOFTWARE & SERVICES/United States/Santa Barbara",
          "ARTIFICIAL INTELLIGENCE/United States/Santa Clara",
          "CYBERSECURITY/United States/Santa Clara",
          "DATA MANAGEMENT & ANALYTICS/United States/Santa Clara",
          "INTERNET SOFTWARE & SERVICES/United States/Santa Clara",
          "AUTO & TRANSPORTATION/United States/Santa Monica",
          "OTHER/United States/Santa Monica",
          "ARTIFICIAL INTELLIGENCE/Chile/Santiago",
          "ARTIFICIAL INTELLIGENCE/Brazil/Sao Paulo",
          "E-COMMERCE & DIRECT-TO-CONSUMER/Brazil/Sao Paulo",
          "FINTECH/Brazil/Sao Paulo",
          "MOBILE & TELECOMMUNICATIONS/Brazil/Sao Paulo",
          "OTHER/Brazil/Sao Paulo",
          "SUPPLY CHAIN, LOGISTICS, & DELIVERY/Brazil/Sao Paulo",
          "CYBERSECURITY/Switzerland/Schaffhausen",
          "INTERNET SOFTWARE & SERVICES/United States/Scottsdale",
          "ARTIFICIAL INTELLIGENCE/United States/Seattle",
          "DATA MANAGEMENT & ANALYTICS/United States/Seattle",
          "INTERNET SOFTWARE & SERVICES/United States/Seattle",
          "SUPPLY CHAIN, LOGISTICS, & DELIVERY/United States/Seattle",
          "E-COMMERCE & DIRECT-TO-CONSUMER/Malaysia/Selangor",
          "HEALTH/South Korea/Seongnam-Si",
          "CONSUMER & RETAIL/South Korea/Seoul",
          "E-COMMERCE & DIRECT-TO-CONSUMER/South Korea/Seoul",
          "FINTECH/South Korea/Seoul",
          "MOBILE & TELECOMMUNICATIONS/South Korea/Seoul",
          "OTHER/South Korea/Seoul",
          "SUPPLY CHAIN, LOGISTICS, & DELIVERY/South Korea/Seoul",
          "TRAVEL/South Korea/Seoul",
          "ARTIFICIAL INTELLIGENCE/China/Shanghai",
          "AUTO & TRANSPORTATION/China/Shanghai",
          "CONSUMER & RETAIL/China/Shanghai",
          "E-COMMERCE & DIRECT-TO-CONSUMER/China/Shanghai",
          "EDTECH/China/Shanghai",
          "HARDWARE/China/Shanghai",
          "HEALTH/China/Shanghai",
          "INTERNET SOFTWARE & SERVICES/China/Shanghai",
          "MOBILE & TELECOMMUNICATIONS/China/Shanghai",
          "OTHER/China/Shanghai",
          "SUPPLY CHAIN, LOGISTICS, & DELIVERY/China/Shanghai",
          "ARTIFICIAL INTELLIGENCE/China/Shenzhen",
          "E-COMMERCE & DIRECT-TO-CONSUMER/China/Shenzhen",
          "HARDWARE/China/Shenzhen",
          "OTHER/China/Shenzhen",
          "SUPPLY CHAIN, LOGISTICS, & DELIVERY/China/Shenzhen",
          "INTERNET SOFTWARE & SERVICES/United States/Sherman Oaks",
          "E-COMMERCE & DIRECT-TO-CONSUMER/United Kingdom/Solihull",
          "HARDWARE/United States/Somerville",
          "INTERNET SOFTWARE & SERVICES/United States/South Jordan",
          "SUPPLY CHAIN, LOGISTICS, & DELIVERY/United States/South San Francisco",
          "AUTO & TRANSPORTATION/Sweden/Stockholm",
          "FINTECH/Sweden/Stockholm",
          "HEALTH/Sweden/Stockholm",
          "INTERNET SOFTWARE & SERVICES/Sweden/Stockholm",
          "OTHER/Sweden/Stockholm",
          "TRAVEL/Sweden/Stockholm",
          "CYBERSECURITY/United States/Sunnyvale",
          "DATA MANAGEMENT & ANALYTICS/United States/Sunnyvale",
          "INTERNET SOFTWARE & SERVICES/United States/Sunnyvale",
          "B CAPITAL GROUP, MONK'S HILL VENTURES, DYNAMIC PARCEL DISTRIBUTION/Singapore/Supply chain, logistics, & delivery",
          "INTERNET SOFTWARE & SERVICES/Australia/Surry Hills",
          "EDTECH/China/Suzhou",
          "INTERNET SOFTWARE & SERVICES/Australia/Sydney",
          "FINTECH/Philippines/Taguig City",
          "ARTIFICIAL INTELLIGENCE/Estonia/Tallinn",
          "AUTO & TRANSPORTATION/Estonia/Tallinn",
          "CYBERSECURITY/United States/Tampa",
          "ARTIFICIAL INTELLIGENCE/Israel/Tel Aviv",
          "CYBERSECURITY/Israel/Tel Aviv",
          "DATA MANAGEMENT & ANALYTICS/Israel/Tel Aviv",
          "EDTECH/Israel/Tel Aviv",
          "FINTECH/Israel/Tel Aviv",
          "HARDWARE/Israel/Tel Aviv",
          "INTERNET SOFTWARE & SERVICES/Israel/Tel Aviv",
          "MOBILE & TELECOMMUNICATIONS/Israel/Tel Aviv",
          "SUPPLY CHAIN, LOGISTICS, & DELIVERY/Israel/Tel Aviv",
          "E-COMMERCE & DIRECT-TO-CONSUMER/India/Thane",
          "SUPPLY CHAIN, LOGISTICS, & DELIVERY/China/Tianjin",
          "HEALTH/Israel/Tirat Carmel",
          "ARTIFICIAL INTELLIGENCE/Japan/Tokyo",
          "FINTECH/Japan/Tokyo",
          "MOBILE & TELECOMMUNICATIONS/Japan/Tokyo",
          "OTHER/Japan/Tokyo",
          "ARTIFICIAL INTELLIGENCE/Canada/Toronto",
          "CYBERSECURITY/Canada/Toronto",
          "FINTECH/Canada/Toronto",
          "INTERNET SOFTWARE & SERVICES/Canada/Toronto",
          "OTHER/Japan/Tsuruoka",
          "FINTECH/United States/Tustin",
          "OTHER/Germany/Unterfoehring",
          "CYBERSECURITY/Canada/Vancouver",
          "FINTECH/Canada/Vancouver",
          "INTERNET SOFTWARE & SERVICES/Canada/Vancouver",
          "OTHER/Canada/Vancouver",
          "EDTECH/Austria/Vienna",
          "FINTECH/Austria/Vienna",
          "E-COMMERCE & DIRECT-TO-CONSUMER/Lithuania/Vilnius",
          "MOBILE & TELECOMMUNICATIONS/Croatia/Vodnjan",
          "FINTECH/United States/Walnut",
          "OTHER/United States/Walpole",
          "HARDWARE/United States/Waltham",
          "HEALTH/United States/Waltham",
          "INTERNET SOFTWARE & SERVICES/United States/Washington",
          "OTHER/United States/Washington",
          "ARTIFICIAL INTELLIGENCE/United States/Washington DC",
          "INTERNET SOFTWARE & SERVICES/United States/Washington DC",
          "CYBERSECURITY/Canada/Waterloo",
          "INTERNET SOFTWARE & SERVICES/Canada/Waterloo",
          "FINTECH/United States/Westerville",
          "HARDWARE/United States/Wilmington",
          "AUTO & TRANSPORTATION/China/Wuhan",
          "E-COMMERCE & DIRECT-TO-CONSUMER/China/Wuhan",
          "HARDWARE/China/Wuxi",
          "INTERNET SOFTWARE & SERVICES/United States/Zephyr Cove",
          "HARDWARE/China/Zhuhai",
          "FINTECH/Switzerland/Zurich",
          "SUPPLY CHAIN, LOGISTICS, & DELIVERY/Switzerland/Zurich",
          "FINTECH/Argentina",
          "E-COMMERCE & DIRECT-TO-CONSUMER/Australia",
          "FINTECH/Australia",
          "INTERNET SOFTWARE & SERVICES/Australia",
          "EDTECH/Austria",
          "FINTECH/Austria",
          "SEQUOIA CAPITAL, THOMA BRAVO, SOFTBANK/Bahamas",
          "DATA MANAGEMENT & ANALYTICS/Belgium",
          "FINTECH/Belgium",
          "INTERNET SOFTWARE & SERVICES/Belgium",
          "ARTIFICIAL INTELLIGENCE/Bermuda",
          "ARTIFICIAL INTELLIGENCE/Brazil",
          "E-COMMERCE & DIRECT-TO-CONSUMER/Brazil",
          "FINTECH/Brazil",
          "MOBILE & TELECOMMUNICATIONS/Brazil",
          "OTHER/Brazil",
          "SUPPLY CHAIN, LOGISTICS, & DELIVERY/Brazil",
          "ARTIFICIAL INTELLIGENCE/Canada",
          "CYBERSECURITY/Canada",
          "E-COMMERCE & DIRECT-TO-CONSUMER/Canada",
          "EDTECH/Canada",
          "FINTECH/Canada",
          "INTERNET SOFTWARE & SERVICES/Canada",
          "OTHER/Canada",
          "SUPPLY CHAIN, LOGISTICS, & DELIVERY/Canada",
          "TRAVEL/Canada",
          "ARTIFICIAL INTELLIGENCE/Chile",
          "ARTIFICIAL INTELLIGENCE/China",
          "AUTO & TRANSPORTATION/China",
          "CONSUMER & RETAIL/China",
          "CYBERSECURITY/China",
          "DATA MANAGEMENT & ANALYTICS/China",
          "E-COMMERCE & DIRECT-TO-CONSUMER/China",
          "EDTECH/China",
          "FINTECH/China",
          "HARDWARE/China",
          "HEALTH/China",
          "INTERNET SOFTWARE & SERVICES/China",
          "MOBILE & TELECOMMUNICATIONS/China",
          "OTHER/China",
          "SUPPLY CHAIN, LOGISTICS, & DELIVERY/China",
          "TRAVEL/China",
          "OTHER/Colombia",
          "SUPPLY CHAIN, LOGISTICS, & DELIVERY/Colombia",
          "MOBILE & TELECOMMUNICATIONS/Croatia",
          "SUPPLY CHAIN, LOGISTICS, & DELIVERY/Czech Republic",
          "FINTECH/Denmark",
          "ARTIFICIAL INTELLIGENCE/Estonia",
          "AUTO & TRANSPORTATION/Estonia",
          "INTERNET SOFTWARE & SERVICES/Finland",
          "MOBILE & TELECOMMUNICATIONS/Finland",
          "SUPPLY CHAIN, LOGISTICS, & DELIVERY/Finland",
          "ARTIFICIAL INTELLIGENCE/France",
          "AUTO & TRANSPORTATION/France",
          "E-COMMERCE & DIRECT-TO-CONSUMER/France",
          "FINTECH/France",
          "HARDWARE/France",
          "HEALTH/France",
          "INTERNET SOFTWARE & SERVICES/France",
          "OTHER/France",
          "AUTO & TRANSPORTATION/Germany",
          "CONSUMER & RETAIL/Germany",
          "DATA MANAGEMENT & ANALYTICS/Germany",
          "E-COMMERCE & DIRECT-TO-CONSUMER/Germany",
          "FINTECH/Germany",
          "HARDWARE/Germany",
          "HEALTH/Germany",
          "INTERNET SOFTWARE & SERVICES/Germany",
          "OTHER/Germany",
          "SUPPLY CHAIN, LOGISTICS, & DELIVERY/Germany",
          "TRAVEL/Germany",
          "ANDREESSEN HOROWITZ, DST GLOBAL, IDG CAPITAL/Hong Kong",
          "CONSUMER & RETAIL/Hong Kong",
          "SEQUOIA CAPITAL CHINA, ING, ALIBABA ENTREPRENEURS FUND/Hong Kong",
          "SUPPLY CHAIN, LOGISTICS, & DELIVERY/Hong Kong",
          "TIGER GLOBAL MANAGEMENT, TIGER BROKERS, DCM VENTURES/Hong Kong",
          "TRAVEL/Hong Kong",
          "AUTO & TRANSPORTATION/India",
          "DATA MANAGEMENT & ANALYTICS/India",
          "E-COMMERCE & DIRECT-TO-CONSUMER/India",
          "EDTECH/India",
          "FINTECH/India",
          "HEALTH/India",
          "INTERNET SOFTWARE & SERVICES/India",
          "MOBILE & TELECOMMUNICATIONS/India",
          "OTHER/India",
          "SUPPLY CHAIN, LOGISTICS, & DELIVERY/India",
          "TRAVEL/India",
          "CONSUMER & RETAIL/Indonesia",
          "E-COMMERCE & DIRECT-TO-CONSUMER/Indonesia",
          "FINTECH/Indonesia",
          "SUPPLY CHAIN, LOGISTICS, & DELIVERY/Indonesia",
          "TRAVEL/Indonesia",
          "FINTECH/Ireland",
          "HEALTH/Ireland",
          "INTERNET SOFTWARE & SERVICES/Ireland",
          "ARTIFICIAL INTELLIGENCE/Israel",
          "CYBERSECURITY/Israel",
          "DATA MANAGEMENT & ANALYTICS/Israel",
          "EDTECH/Israel",
          "FINTECH/Israel",
          "HARDWARE/Israel",
          "HEALTH/Israel",
          "INTERNET SOFTWARE & SERVICES/Israel",
          "MOBILE & TELECOMMUNICATIONS/Israel",
          "OTHER/Israel",
          "SUPPLY CHAIN, LOGISTICS, & DELIVERY/Israel",
          "FINTECH/Italy",
          "ARTIFICIAL INTELLIGENCE/Japan",
          "FINTECH/Japan",
          "MOBILE & TELECOMMUNICATIONS/Japan",
          "OTHER/Japan",
          "E-COMMERCE & DIRECT-TO-CONSUMER/Lithuania",
          "OTHER/Luxembourg",
          "E-COMMERCE & DIRECT-TO-CONSUMER/Malaysia",
          "E-COMMERCE & DIRECT-TO-CONSUMER/Mexico",
          "FINTECH/Mexico",
          "E-COMMERCE & DIRECT-TO-CONSUMER/Netherlands",
          "FINTECH/Netherlands",
          "HARDWARE/Netherlands",
          "MOBILE & TELECOMMUNICATIONS/Netherlands",
          "FINTECH/Nigeria",
          "DATA MANAGEMENT & ANALYTICS/Norway",
          "E-COMMERCE & DIRECT-TO-CONSUMER/Norway",
          "FINTECH/Philippines",
          "OTHER/Philippines",
          "FINTECH/Senegal",
          "500 GLOBAL, RAKUTEN VENTURES, GOLDEN GATE VENTURES/Singapore",
          "B CAPITAL GROUP, MONK'S HILL VENTURES, DYNAMIC PARCEL DISTRIBUTION/Singapore",
          "DRAGONFLY CAPTIAL, QIMING VENTURE PARTNERS, DST GLOBAL/Singapore",
          "HOPU INVESTMENT MANAGEMENT, BOYU CAPITAL, DC THOMSON VENTURES/Singapore",
          "JUNGLE VENTURES, ACCEL, VENTURE HIGHWAY/Singapore",
          "KUANG-CHI/Singapore",
          "MUNDI VENTURES, DOQLING CAPITAL PARTNERS, ACTIVANT CAPITAL/Singapore",
          "SEQUOIA CAPITAL CHINA, SHUNWEI CAPITAL PARTNERS, QUALGRO/Singapore",
          "SINGTEL INNOV8, ALPHA JWC VENTURES, GOLDEN GATE VENTURES/Singapore",
          "TEMASEK, GUGGENHEIM INVESTMENTS, QATAR INVESTMENT AUTHORITY/Singapore",
          "VERTEX VENTURES SE ASIA, GLOBAL FOUNDERS CAPITAL, VISA VENTURES/Singapore",
          "VISION PLUS CAPITAL, GSR VENTURES, ZHENFUND/Singapore",
          "CONSUMER & RETAIL/South Africa",
          "MOBILE & TELECOMMUNICATIONS/South Africa",
          "AUTO & TRANSPORTATION/South Korea",
          "CONSUMER & RETAIL/South Korea",
          "E-COMMERCE & DIRECT-TO-CONSUMER/South Korea",
          "FINTECH/South Korea",
          "HEALTH/South Korea",
          "MOBILE & TELECOMMUNICATIONS/South Korea",
          "OTHER/South Korea",
          "SUPPLY CHAIN, LOGISTICS, & DELIVERY/South Korea",
          "TRAVEL/South Korea",
          "AUTO & TRANSPORTATION/Spain",
          "INTERNET SOFTWARE & SERVICES/Spain",
          "TRAVEL/Spain",
          "AUTO & TRANSPORTATION/Sweden",
          "FINTECH/Sweden",
          "HEALTH/Sweden",
          "INTERNET SOFTWARE & SERVICES/Sweden",
          "OTHER/Sweden",
          "TRAVEL/Sweden",
          "CYBERSECURITY/Switzerland",
          "DATA MANAGEMENT & ANALYTICS/Switzerland",
          "FINTECH/Switzerland",
          "HEALTH/Switzerland",
          "SUPPLY CHAIN, LOGISTICS, & DELIVERY/Switzerland",
          "FINTECH/Thailand",
          "SUPPLY CHAIN, LOGISTICS, & DELIVERY/Thailand",
          "E-COMMERCE & DIRECT-TO-CONSUMER/Turkey",
          "INTERNET SOFTWARE & SERVICES/Turkey",
          "MOBILE & TELECOMMUNICATIONS/Turkey",
          "OTHER/United Arab Emirates",
          "SUPPLY CHAIN, LOGISTICS, & DELIVERY/United Arab Emirates",
          "ARTIFICIAL INTELLIGENCE/United Kingdom",
          "AUTO & TRANSPORTATION/United Kingdom",
          "CONSUMER & RETAIL/United Kingdom",
          "DATA MANAGEMENT & ANALYTICS/United Kingdom",
          "E-COMMERCE & DIRECT-TO-CONSUMER/United Kingdom",
          "FINTECH/United Kingdom",
          "HARDWARE/United Kingdom",
          "HEALTH/United Kingdom",
          "INTERNET SOFTWARE & SERVICES/United Kingdom",
          "MOBILE & TELECOMMUNICATIONS/United Kingdom",
          "OTHER/United Kingdom",
          "SUPPLY CHAIN, LOGISTICS, & DELIVERY/United Kingdom",
          "ARTIFICIAL INTELLIGENCE/United States",
          "AUTO & TRANSPORTATION/United States",
          "CONSUMER & RETAIL/United States",
          "CYBERSECURITY/United States",
          "DATA MANAGEMENT & ANALYTICS/United States",
          "E-COMMERCE & DIRECT-TO-CONSUMER/United States",
          "EDTECH/United States",
          "FINTECH/United States",
          "HARDWARE/United States",
          "HEALTH/United States",
          "INTERNET SOFTWARE & SERVICES/United States",
          "MOBILE & TELECOMMUNICATIONS/United States",
          "OTHER/United States",
          "SUPPLY CHAIN, LOGISTICS, & DELIVERY/United States",
          "TRAVEL/United States",
          "FINTECH/Vietnam",
          "INTERNET SOFTWARE & SERVICES/Vietnam",
          "500 GLOBAL, RAKUTEN VENTURES, GOLDEN GATE VENTURES",
          "ANDREESSEN HOROWITZ, DST GLOBAL, IDG CAPITAL",
          "ARTIFICIAL INTELLIGENCE",
          "AUTO & TRANSPORTATION",
          "B CAPITAL GROUP, MONK'S HILL VENTURES, DYNAMIC PARCEL DISTRIBUTION",
          "CONSUMER & RETAIL",
          "CYBERSECURITY",
          "DATA MANAGEMENT & ANALYTICS",
          "DRAGONFLY CAPTIAL, QIMING VENTURE PARTNERS, DST GLOBAL",
          "E-COMMERCE & DIRECT-TO-CONSUMER",
          "EDTECH",
          "FINTECH",
          "HARDWARE",
          "HEALTH",
          "HOPU INVESTMENT MANAGEMENT, BOYU CAPITAL, DC THOMSON VENTURES",
          "INTERNET SOFTWARE & SERVICES",
          "JUNGLE VENTURES, ACCEL, VENTURE HIGHWAY",
          "KUANG-CHI",
          "MOBILE & TELECOMMUNICATIONS",
          "MUNDI VENTURES, DOQLING CAPITAL PARTNERS, ACTIVANT CAPITAL",
          "OTHER",
          "SEQUOIA CAPITAL CHINA, ING, ALIBABA ENTREPRENEURS FUND",
          "SEQUOIA CAPITAL CHINA, SHUNWEI CAPITAL PARTNERS, QUALGRO",
          "SEQUOIA CAPITAL, THOMA BRAVO, SOFTBANK",
          "SINGTEL INNOV8, ALPHA JWC VENTURES, GOLDEN GATE VENTURES",
          "SUPPLY CHAIN, LOGISTICS, & DELIVERY",
          "TEMASEK, GUGGENHEIM INVESTMENTS, QATAR INVESTMENT AUTHORITY",
          "TIGER GLOBAL MANAGEMENT, TIGER BROKERS, DCM VENTURES",
          "TRAVEL",
          "VERTEX VENTURES SE ASIA, GLOBAL FOUNDERS CAPITAL, VISA VENTURES",
          "VISION PLUS CAPITAL, GSR VENTURES, ZHENFUND"
         ],
         "labels": [
          "1047 Games",
          "1KMXC",
          "1Password",
          "4Paradigm",
          "56PINGTAI",
          "58 Daojia",
          "6Sense",
          "ABL Space Systems",
          "AIWAYS",
          "ASAPP",
          "Accelerant",
          "Acko General Insurance",
          "Acronis",
          "ActiveCampaign",
          "Ada Support",
          "Addepar",
          "Advance Intelligence Group",
          "Afiniti",
          "Age of Learning",
          "AgentSync",
          "Agile Robots",
          "Aibee",
          "Airbyte",
          "Aircall",
          "Airtable",
          "Airwallex",
          "Aiven",
          "Ajaib",
          "Akulaku",
          "Alan",
          "Alation",
          "Alchemy",
          "Aledade",
          "Aleo",
          "Algolia",
          "Alloy",
          "Alto Pharmacy",
          "Alzheon",
          "Amber Group",
          "Amount",
          "Amperity",
          "Anchorage Digital",
          "Andela",
          "Anduril",
          "Ankorstore",
          "Anyscale",
          "Apeel Sciences",
          "AppDirect",
          "Applied Intuition",
          "ApplyBoard",
          "AppsFlyer",
          "Aprogen",
          "Apus Group",
          "Aqua Security",
          "Arctic Wolf Networks",
          "Argo AI",
          "Arrail Dental",
          "Articulate",
          "Ascend Money",
          "Assembly",
          "Assent Compliance",
          "Astranis Space Technologies",
          "At-Bay",
          "Athelas",
          "Athletic Greens",
          "Attentive",
          "Augury",
          "Aura",
          "Aurora Solar",
          "Automation Anywhere",
          "Automattic",
          "Avant",
          "Aviatrix",
          "Away",
          "Axelar",
          "Axiom Space",
          "Axonius",
          "Axtria",
          "BGL Group",
          "BYJU's",
          "BYTON",
          "Back Market",
          "Baiwang",
          "Banma Network Technologies",
          "BeiBei",
          "Beisen",
          "Benchling",
          "BenevolentAI",
          "Berlin Brands Group",
          "Better.com",
          "BetterUp",
          "Betterfly",
          "Betterment",
          "Beyond Identity",
          "BharatPe",
          "BigID",
          "BigPanda",
          "Biosplice Therapeutics",
          "Biren Technology",
          "BitFury",
          "BitPanda",
          "BitSight Technologies",
          "Bitmain Technologies",
          "Bitso",
          "BlaBlaCar",
          "Black Sesame Technologies",
          "Black Unicorn Factory",
          "BlackBuck",
          "Blinkit",
          "BlockDaemon",
          "BlockFi",
          "Blockchain.com",
          "Blockstream",
          "BloomReach",
          "BlueVoyant",
          "Bluecore",
          "Bolt",
          "Bolt",
          "Boom Supersonic",
          "Bordrin Motors",
          "Bought By Many",
          "Bowery Farming",
          "Branch",
          "BrewDog",
          "Brex",
          "Bringg",
          "BrowserStack",
          "Built",
          "Bunq",
          "Bytedance",
          "C2FO",
          "C6 Bank",
          "CAIS",
          "CFGI",
          "CHEQ",
          "CMR Surgical",
          "CRED",
          "Cabify",
          "Cadence",
          "Calendly",
          "Calm",
          "Cambridge Mobile Telematics",
          "Cameo",
          "Canva",
          "Cao Cao Mobility",
          "Capsule",
          "CaptivateIQ",
          "CarDekho",
          "Carbon",
          "Carbon Health",
          "CargoX",
          "Caris Life Sciences",
          "Carousell",
          "Carro",
          "Cars24",
          "Carsome",
          "Carson Group",
          "Carta",
          "Carzone",
          "Cato Networks",
          "Cava Group",
          "Cedar",
          "Cell C",
          "Celonis",
          "Celsius Network",
          "Cerebral",
          "Cerebras Systems",
          "Cgtz",
          "Chainalysis",
          "Changingedu",
          "ChargeBee Technologies",
          "Checkout.com",
          "Checkr",
          "Chehaoduo",
          "Chime",
          "China Cloud",
          "Chipone",
          "Chipper Cash",
          "Chronosphere",
          "Cider",
          "Circle",
          "CircleCI",
          "Cityblock Health",
          "Clara",
          "Clari",
          "Claroty",
          "Clearco",
          "Clearcover",
          "ClickHouse",
          "ClickUp",
          "Clio",
          "Clip",
          "CloudBees",
          "CloudWalk",
          "Cloudinary",
          "Cloudwalk",
          "Clubhouse",
          "Coalition",
          "Cockroach Labs",
          "Coda",
          "Cognite",
          "Cohesity",
          "CoinDCX",
          "CoinList",
          "CoinSwitch Kuber",
          "CoinTracker",
          "Collective Health",
          "Collibra",
          "Color",
          "Commure",
          "ConsenSys",
          "ContentSquare",
          "Contentful",
          "Contrast Security",
          "Convoy",
          "Coocaa",
          "Copado",
          "Course Hero",
          "Creditas",
          "Culture Amp",
          "CureFit",
          "Current",
          "Cybereason",
          "DJI Innovations",
          "DT Dream",
          "Dadi Cinema",
          "Daily Harvest",
          "DailyHunt",
          "DailyPay",
          "Dapper Labs",
          "Darwinbox",
          "DataRobot",
          "Databricks",
          "Dataiku",
          "Dataminr",
          "DealShare",
          "Deel",
          "DeepBlue Technology",
          "Deezer",
          "Degreed",
          "Delhivery",
          "Deliverect",
          "Deliverr",
          "Density",
          "Dental Monitoring",
          "Devo",
          "Devoted Health",
          "Dialpad",
          "Diamond Foundry",
          "DianRong",
          "Digit Insurance",
          "Digital Currency Group",
          "Discord",
          "DispatchHealth",
          "DistroKid",
          "Divvy Homes",
          "Doctolib",
          "Domestika",
          "Dragos",
          "Drata",
          "Dream Games",
          "Dream11",
          "Dremio",
          "DriveNets",
          "DriveWealth",
          "Druva",
          "Dunamu",
          "Dune Analytics",
          "Dutchie",
          "Dxy.cn",
          "EBANX",
          "ECARX",
          "ENOVATE",
          "EQRx",
          "Earnix",
          "Easyhome",
          "Eat Just",
          "EcoFlow",
          "Eightfold.ai",
          "Einride",
          "ElasticRun",
          "Elemy",
          "Emerging Markets Property Group",
          "Enflame",
          "Enpal",
          "Envoy",
          "Epic Games",
          "Epidemic Sound",
          "Epirus",
          "Eruditus Executive Education",
          "Esusu",
          "Ethos",
          "Everlaw",
          "Everly Health",
          "Evidation",
          "Exabeam",
          "Exotec",
          "Expel",
          "Extend",
          "FTX",
          "FXiaoKe",
          "Fabric",
          "Fabric",
          "Fair",
          "Faire",
          "FalconX",
          "Fanatics",
          "Farmers Business Network",
          "Feedzai",
          "Fenbi Education",
          "Fetch Rewards",
          "Fever Labs",
          "Figma",
          "Figment",
          "Fireblocks",
          "Firebolt",
          "Firefly Aerospace",
          "FirstCry",
          "Fiture",
          "Five Star Business Finance",
          "FiveTran",
          "Flash Express",
          "FlashEx",
          "Flexport",
          "Flink",
          "Flipboard",
          "Flipdish",
          "FlixMobility",
          "FloQast",
          "Flock Freight",
          "Flock Safety",
          "Flutterwave",
          "Formlabs",
          "Forte Labs",
          "Forter",
          "Forto",
          "Fractal Analytics",
          "Freshbooks",
          "FullStory",
          "Fundbox",
          "G2",
          "G7 Networks",
          "GO1",
          "GOAT",
          "GPclub",
          "GalaxySpace",
          "Gaussian Robotics",
          "Geek+",
          "Gelato",
          "Gem",
          "Gemini",
          "GetYourGuide",
          "Getir",
          "Gett",
          "Global Switch",
          "GlobalBees",
          "Globality",
          "Globalization Partners",
          "Glossier",
          "GoCardless",
          "GoStudent",
          "Gong",
          "GoodLeap",
          "Gorillas",
          "Gousto",
          "Grafana Labs",
          "Grammarly",
          "Graphcore",
          "Greenlight",
          "Greensill",
          "Groq",
          "Grove Collaborative",
          "Groww",
          "GrubMarket",
          "Guideline",
          "Guild Education",
          "Guoquan Shihui",
          "GupShup",
          "Gusto",
          "Gympass",
          "Gymshark",
          "H2O.ai",
          "HAYDON",
          "HEYTEA",
          "HMD Global",
          "Hailo",
          "Handshake",
          "Haomao.AI",
          "Happy Money",
          "Harness",
          "Harry's",
          "Hasura",
          "HeartFlow",
          "Helium Systems",
          "Hello TransTech",
          "Hesai Tech",
          "Heyday",
          "Hibob",
          "HighRadius",
          "Highspot",
          "Hinge Health",
          "Hive",
          "Hive Box",
          "HomeLight",
          "HoneyBook",
          "Honor Technology",
          "Hopin",
          "Hopper",
          "Horizon Robotics",
          "Hosjoy",
          "Hotmart",
          "Houzz",
          "Howden Group Holdings",
          "Hozon Auto",
          "HuJiang",
          "Huaqin Telecom Technology",
          "HuiMin",
          "Huike Group",
          "Huisuanzhang",
          "Human Interest",
          "HyalRoute",
          "Hyperchain",
          "ID.me",
          "IRL",
          "ISN",
          "Ibotta",
          "Icertis",
          "Il Makiage",
          "Illumio",
          "Iluvatar CoreX",
          "Impact",
          "Impossible Foods",
          "Improbable",
          "InFarm",
          "InMobi",
          "InSightec",
          "InVision",
          "Inari",
          "Incode Technologies",
          "Indigo Ag",
          "Infinidat",
          "Infobip",
          "Infra.Market",
          "Injective Protocol",
          "Innovaccer",
          "Insider",
          "Instabase",
          "Instacart",
          "Intarcia Therapeutics",
          "Intellifusion",
          "Intercom",
          "Interos",
          "Inxeption",
          "Iodine Software",
          "Ironclad",
          "Iterable",
          "Ivalua",
          "J&T Express",
          "JOLLY Information Technology",
          "JUUL Labs",
          "JimuBox",
          "Jiuxian",
          "Jobandtalent",
          "Jokr",
          "JoyTunes",
          "Juanpi",
          "Juma Peisong",
          "JumpCloud",
          "Jusfoun Big Data",
          "Justworks",
          "K Health",
          "KK Group",
          "KRY",
          "Kajabi",
          "Karat",
          "Kaseya",
          "Kavak",
          "Keenon Robotics",
          "Keep",
          "KeepTruckin",
          "Kendra Scott",
          "Kitopi",
          "Klarna",
          "Klaviyo",
          "Klook",
          "KnowBox",
          "Komodo Health",
          "Konfio",
          "Kong",
          "Kopi Kenangan",
          "Koudai",
          "Kraken",
          "Kuaigou Dache",
          "Kuaikan Manhua",
          "Kujiale",
          "Kurly",
          "L&P Cosmetic",
          "LEAD School",
          "LTK",
          "Lacework",
          "Lalamove",
          "Lamabang",
          "Lattice",
          "LaunchDarkly",
          "Leap Motor",
          "Ledger",
          "Lenskart",
          "Lessen",
          "LetsGetChecked",
          "Lianjia",
          "Licious",
          "LifeMiles",
          "Lightricks",
          "LinkDoc Technology",
          "LinkSure Network",
          "Liquid",
          "LivSpace",
          "Loadsmart",
          "Locus Robotics",
          "Loft",
          "Loggi",
          "Lookout",
          "Loom",
          "Lucid Software",
          "Lukka",
          "Lunar",
          "Luoji Siwei",
          "Lusha",
          "Lydia",
          "Lyra Health",
          "M1 Finance",
          "MEGVII",
          "MOLOCO",
          "MURAL",
          "MUSINSA",
          "MX Technologies",
          "MadeiraMadeira",
          "Mafengwo",
          "Magic Leap",
          "Maimai",
          "Mamaearth",
          "Mambu",
          "Mammoth Biosciences",
          "Manner",
          "ManoMano",
          "Marshmallow",
          "MasterClass",
          "Masterworks",
          "Matillion",
          "Matrixport",
          "Maven Clinic",
          "Medable",
          "MediaMath",
          "Medlinker",
          "Meero",
          "Meesho",
          "Meicai",
          "Meizu Technology",
          "Melio",
          "Mensa Brands",
          "Merama",
          "Mercury",
          "MessageBird",
          "Mia.com",
          "Miaoshou Doctor",
          "MindMaze",
          "MindTickle",
          "Mininglamp Technology",
          "Minio",
          "Mirakl",
          "Miro",
          "Misfits Market",
          "Mixpanel",
          "MoMo",
          "MobiKwik",
          "Mobile Premier League",
          "MobileCoin",
          "Mobvoi",
          "Modern Health",
          "Modern Treasury",
          "Modernizing Medicine",
          "Mofang Living",
          "Moglix",
          "Moka",
          "Mollie",
          "Momenta",
          "Monzo",
          "Moon Active",
          "MoonPay",
          "Morning Consult",
          "Motorway",
          "Moveworks",
          "Movile",
          "Mu Sigma",
          "Mux",
          "MyGlamm",
          "Mynt",
          "Mythical Games",
          "N26",
          "NIUM",
          "National Stock Exchange of India",
          "Nature's Fynd",
          "Neo4j",
          "Neon",
          "Netlify",
          "Netskope",
          "Newlink Group",
          "News Break",
          "Newsela",
          "Nexii",
          "Next Insurance",
          "Next Silicon",
          "Nexthink",
          "Nextiva",
          "Niantic",
          "Ninja Van",
          "NoBroker",
          "Noname Security",
          "Noom",
          "Northvolt",
          "NotCo",
          "Notion Labs",
          "NuCom Group",
          "Numbrs",
          "Nuro",
          "Nuvemshop",
          "Nxin",
          "OCSiAl",
          "ONE",
          "OVH",
          "OVO Energy",
          "OYO Rooms",
          "OakNorth Bank",
          "Oda",
          "Odoo",
          "OfBusiness",
          "Offchain Labs",
          "Ola Cabs",
          "Ola Electric Mobility",
          "Olist",
          "Olive",
          "Omada Health",
          "Omio",
          "OneTrust",
          "Opay",
          "OpenAI",
          "OpenSea",
          "OpenWeb",
          "Opentrons",
          "OrCam Technologies",
          "Orbbec Technology",
          "Orca Bio",
          "Orca Security",
          "Orchard",
          "Otto Bock HealthCare",
          "OutSystems",
          "Outreach",
          "Outschool",
          "Ouyeel",
          "Ovo",
          "Owkin",
          "OwnBackup",
          "PAX",
          "PLACE",
          "PPRO",
          "Pacaso",
          "Pagaya",
          "PandaDoc",
          "Pantheon Systems",
          "Panther Labs",
          "Papa",
          "Papaya Global",
          "Paradox",
          "Pat McGrath Labs",
          "PatSnap",
          "Patreon",
          "Pattern",
          "Paxos",
          "PayFit",
          "Payhawk",
          "Pendo",
          "Pentera",
          "People.ai",
          "Persona",
          "Personio",
          "Pet Circle",
          "Phantom",
          "Pharmapacks",
          "Phenom People",
          "PicsArt",
          "Pilot.com",
          "Pine Labs",
          "Pipa Coding",
          "Pipe",
          "Placer.ai",
          "Plaid",
          "Playco",
          "Pleo",
          "Plume",
          "Podium",
          "PointClickCare",
          "Poizon",
          "PolicyBazaar",
          "Pony.ai",
          "Postman",
          "Preferred Networks",
          "Prime Medicine",
          "Printful",
          "Pristyn Care",
          "Productboard",
          "Project44",
          "Promasidor Holdings",
          "PsiQuantum",
          "Public",
          "Qingting FM",
          "Qonto",
          "Qualia",
          "Quantum Metric",
          "QuintoAndar",
          "Quizlet",
          "Qumulo",
          "Quora",
          "REEF Technology",
          "RELEX Solutions",
          "RIDI",
          "Radiology Partners",
          "Radius Payment Solutions",
          "Ramp",
          "Rappi",
          "Rapyd",
          "Razor",
          "Razorpay",
          "ReCharge",
          "Rebel Foods",
          "Rebellion Defense",
          "Rec Room",
          "Red Ventures",
          "Redis Labs",
          "Redwood Materials",
          "Reify Health",
          "Relativity",
          "Relativity Space",
          "ReliaQuest",
          "Reltio",
          "Remote",
          "Retool",
          "Revolut",
          "Revolution Precrafted",
          "Rightway",
          "Ripple",
          "Rippling",
          "Rivigo",
          "Ro",
          "Rohlik",
          "Rokt",
          "Rothy's",
          "Route",
          "Royole Corporation",
          "Rubicon",
          "Rubrik",
          "SHEIN",
          "SITECH DEV",
          "SMS Assist",
          "SSENSE",
          "STORD",
          "SVOLT",
          "SWORD Health",
          "SafetyCulture",
          "Salt Security",
          "SaltPay",
          "SambaNova Systems",
          "Savage X Fenty",
          "Scalable Capital",
          "Scalapay",
          "Scale AI",
          "Scandit",
          "Scopely",
          "SeekOut",
          "Seismic",
          "SellerX",
          "Sendbird",
          "Sennder",
          "Sentry",
          "ServiceTitan",
          "ShareChat",
          "Shield AI",
          "Shift Technology",
          "ShipBob",
          "Shippo",
          "Side",
          "Sidecar Health",
          "Sift",
          "Signifyd",
          "Sila Nanotechnologies",
          "Sisense",
          "Skims",
          "Sky Mavis",
          "Skydance Media",
          "Skydio",
          "Slice",
          "SmartAsset",
          "SmartHR",
          "SmartMore",
          "SmartNews",
          "SmartRecruiters",
          "SnapLogic",
          "Snapdeal",
          "Snapdocs",
          "Snorkel AI",
          "Snyk",
          "Socar",
          "Socure",
          "Solo.io",
          "Solugen",
          "Somatus",
          "SonderMind",
          "Sorare",
          "SouChe Holdings",
          "SoundHound",
          "Sourcegraph",
          "SpaceX",
          "SparkCognition",
          "Spendesk",
          "Spiber",
          "Spinny",
          "Splashtop",
          "SpotOn",
          "Spotter",
          "Spring Health",
          "Standard",
          "Star Charge",
          "Starburst",
          "StarkWare",
          "Starling Bank",
          "Starry",
          "Stash",
          "StockX",
          "StoreDot",
          "Strava",
          "Stripe",
          "Stytch",
          "SumUp",
          "Sunbit",
          "Swiggy",
          "Swile",
          "Symphony",
          "Sysdig",
          "TELD",
          "TERMINUS Technology",
          "TUNGEE",
          "Tackle.io",
          "Talkdesk",
          "TalkingData",
          "TangoMe",
          "Tanium",
          "TaxBit",
          "Tealium",
          "TechStyle Fashion Group",
          "Tekion",
          "Temporal",
          "Tempus",
          "TensTorrent",
          "Tezign",
          "The Bank of London",
          "The Zebra",
          "Thirty Madison",
          "Thought Machine",
          "ThoughtSpot",
          "Thrasio",
          "Thumbtack",
          "Tier",
          "Timescale",
          "Tipalti",
          "Tonal",
          "Tongdun Technology",
          "Toss",
          "Tractable",
          "Trade Republic",
          "Trader Interactive",
          "Tradeshift",
          "TradingView",
          "Transcarent",
          "Transmit Security",
          "TravelPerk",
          "Traveloka",
          "Trax",
          "Trendy Group International",
          "Tresata",
          "TrialSpark",
          "TripActions",
          "Tripledot Studios",
          "TrueLayer",
          "Truepill",
          "Trulioo",
          "Trumid",
          "TuJia",
          "Tubatu.com",
          "Tuhu",
          "Turing",
          "UBTECH Robotics",
          "UISEE Technology",
          "Uala",
          "Udaan",
          "Unacademy",
          "Unico",
          "Uniphore",
          "Unisound",
          "Unite Us",
          "United Imaging Healthcare",
          "Unqork",
          "UpGrad",
          "Upgrade",
          "Uplight",
          "Upstox",
          "Uptake",
          "Urban Company",
          "VAST Data",
          "VIPKid",
          "VOI",
          "VTS",
          "Vagaro",
          "Varo Bank",
          "Vectra Networks",
          "Vedantu",
          "Veepee",
          "Veev",
          "Veho",
          "Venafi",
          "VerbIT",
          "Vercel",
          "Veriff",
          "Verkada",
          "Vestiaire Collective",
          "Via",
          "Vice Media",
          "VideoAmp",
          "Vinted",
          "Virta Health",
          "Vise",
          "Visier",
          "Vista Global",
          "Voodoo",
          "Vox Media",
          "Vuori",
          "WEMAKEPRICE",
          "WM Motor",
          "WTOIP",
          "Wacai",
          "Watershed",
          "Wave",
          "Wayflyer",
          "We Doctor",
          "WeBull",
          "WeLab",
          "WeRide",
          "Webflow",
          "Weee!",
          "Weilong",
          "Wenheyou",
          "Whatnot",
          "Whoop",
          "Wildlife Studios",
          "Wiz",
          "Womai",
          "Workato",
          "Workhuman",
          "Workrise",
          "Wrapbook",
          "XForcePlus",
          "Xendit",
          "XiaoZhu",
          "Xiaobing",
          "Xiaohongshu",
          "Ximalaya FM",
          "Xinchao Media",
          "Xingsheng Selected",
          "Xingyun Group",
          "Xpressbees",
          "XtalPi",
          "YH Global",
          "YITU Technology",
          "Yanolja",
          "Yaoshibang",
          "Yello Mobile",
          "Yidian Zixun",
          "Yiguo",
          "Yijiupi",
          "Yimidida",
          "Yipin Shengxian",
          "YipitData",
          "Yixia",
          "Ynsect",
          "Yotpo",
          "You & Mr Jones",
          "Youxia Motors",
          "Yuanfudao",
          "Yuanqi Senlin",
          "YugaByte",
          "YunQuNa",
          "Yunxuetang",
          "ZEPZ",
          "Zapier",
          "Zego",
          "ZenBusiness",
          "Zenoti",
          "Zeta",
          "Zetwerk",
          "Zhaogang",
          "Zhuan Zhuan",
          "Zhubajie",
          "Zihaiguo",
          "Zilch",
          "Zipline",
          "Ziroom",
          "ZocDoc",
          "ZongMu Technology",
          "Zopa",
          "Zume",
          "Zuoyebang",
          "Zwift",
          "apna",
          "bolttech",
          "candy.com",
          "dbt Labs",
          "eDaili",
          "eSentire",
          "ezCater",
          "goPuff",
          "iCapital Network",
          "iCarbonX",
          "iFood",
          "iTrustCapital",
          "iTutorGroup",
          "o9 Solutions",
          "reddit",
          "solarisBank",
          "wefox",
          "Aarhus",
          "Aberdeen",
          "Alameda",
          "Alexandria",
          "Altrincham",
          "Ambler",
          "Amsterdam",
          "Amsterdam",
          "Amsterdam",
          "Amsterdam",
          "Andheri",
          "Arlington",
          "Artificial intelligence",
          "Artificial intelligence",
          "Atlanta",
          "Atlanta",
          "Atlanta",
          "Atlanta",
          "Atlanta",
          "Austin",
          "Austin",
          "Austin",
          "Austin",
          "Austin",
          "Austin",
          "Bangalore",
          "Bangkok",
          "Bangkok",
          "Barcelona",
          "Beijing",
          "Beijing",
          "Beijing",
          "Beijing",
          "Beijing",
          "Beijing",
          "Beijing",
          "Beijing",
          "Beijing",
          "Beijing",
          "Beijing",
          "Beijing",
          "Bellevue",
          "Bellevue",
          "Bellevue",
          "Bellingham",
          "Bend",
          "Bengaluru",
          "Bengaluru",
          "Bengaluru",
          "Bengaluru",
          "Bengaluru",
          "Bengaluru",
          "Bengaluru",
          "Bengaluru",
          "Bengaluru",
          "Berkeley",
          "Berkeley",
          "Berkeley Heights",
          "Berlin",
          "Berlin",
          "Berlin",
          "Berlin",
          "Berlin",
          "Berlin",
          "Berlin",
          "Bethesda",
          "Boca Raton",
          "Bogota",
          "Bogota",
          "Boise",
          "Boston",
          "Boston",
          "Boston",
          "Boston",
          "Boston",
          "Boston",
          "Boston",
          "Boston",
          "Boston",
          "Boulder",
          "Boulder",
          "Brisbane",
          "Brisbane",
          "Bristol",
          "Bristol",
          "Brooklyn",
          "Brooklyn",
          "Brussels",
          "Bryanston",
          "Buenos Aires",
          "Burlingame",
          "Burlington",
          "Burnaby",
          "Cambridge",
          "Cambridge",
          "Cambridge",
          "Cambridge",
          "Cambridge",
          "Cambridge",
          "Campinas",
          "Carlsbad",
          "Carson City",
          "Cary",
          "Cedar Park",
          "Central",
          "Changsha",
          "Changsha",
          "Changzhou",
          "Charlotte",
          "Charlotte",
          "Chatham",
          "Chengdu",
          "Chengdu",
          "Chengdu",
          "Chennai",
          "Cheung Sha Wan",
          "Chicago",
          "Chicago",
          "Chicago",
          "Chicago",
          "Chicago",
          "Chicago",
          "Chicago",
          "Chicago",
          "Chongqing",
          "Chongqing",
          "Cincinnati",
          "Colchester",
          "Colorado Springs",
          "Columbus",
          "Copenhagen",
          "Crewe",
          "Croix",
          "Culver City",
          "Culver City",
          "Culver City",
          "Curitiba",
          "Curitiba",
          "Dakar",
          "Dallas",
          "Dallas",
          "Dallas",
          "Denver",
          "Denver",
          "Denver",
          "Detroit",
          "Dongguan",
          "Draper",
          "Dubai",
          "Dubai",
          "Dublin",
          "Dublin",
          "Dublin",
          "Dublin",
          "Duderstadt",
          "E-commerce & direct-to-consumer",
          "E-commerce & direct-to-consumer",
          "E-commerce & direct-to-consumer",
          "E-commerce & direct-to-consumer",
          "Eden Prairie",
          "El Segundo",
          "El Segundo",
          "El Segundo",
          "El Segundo",
          "Encinitas",
          "Englewood",
          "Englewood Cliffs",
          "Espoo",
          "Evry",
          "Faridabad",
          "Fintech",
          "Fintech",
          "Fintech",
          "Fintech",
          "Fintech",
          "Fintech",
          "Fort Mill",
          "Foster City",
          "Framingham",
          "Fremont",
          "Fremont",
          "Ghent",
          "Giv'atayim",
          "Glendale",
          "Glendale",
          "Goleta",
          "Guangzhou",
          "Guangzhou",
          "Guangzhou",
          "Guangzhou",
          "Guiyang",
          "Gurgaon",
          "Gurgaon",
          "Gurgaon",
          "Gurugram",
          "Gurugram",
          "Gurugram",
          "Gurugram",
          "Hamilton",
          "Hangzhou",
          "Hangzhou",
          "Hangzhou",
          "Hangzhou",
          "Hangzhou",
          "Hangzhou",
          "Hangzhou",
          "Hangzhou",
          "Hangzhou",
          "Hanover",
          "Hawthorne",
          "Hayward",
          "Hefei",
          "Helsinki",
          "Helsinki",
          "Herndon",
          "Herzliya",
          "Ho Chi Minh City",
          "Ho Chi Minh City",
          "Hoboken",
          "Hoboken",
          "Houston",
          "Houston",
          "Hunan",
          "Hyderabad",
          "Inglewood",
          "Internet software & services",
          "Internet software & services",
          "Irvine",
          "Irvine",
          "Irving",
          "Islandia",
          "Istanbul",
          "Istanbul",
          "Istanbul",
          "Jacksonville",
          "Jaipur",
          "Jakarta",
          "Jakarta",
          "Jakarta",
          "Jakarta",
          "Jakarta",
          "Jeju-do",
          "Jersey City",
          "Jerusalem",
          "Jiangsu",
          "Kirkland",
          "Kitchener",
          "Kowloon",
          "La Plaine Saint-Denis",
          "Lagos",
          "Lausanne",
          "Leawood",
          "Lehi",
          "Lehi",
          "Lehi",
          "Lerma de Villada",
          "Leudelange",
          "Lincoln",
          "London",
          "London",
          "London",
          "London",
          "London",
          "London",
          "London",
          "London",
          "London",
          "Long Beach",
          "Long Beach",
          "Los Altos",
          "Los Altos",
          "Los Altos",
          "Los Angeles",
          "Los Angeles",
          "Los Angeles",
          "Los Angeles",
          "Louisville",
          "Louvain-la-Neuve",
          "Luohe",
          "Lysaker",
          "Madison",
          "Madrid",
          "Madrid",
          "Maharashtra",
          "Manila",
          "Marina del Rey",
          "McLean",
          "McLean",
          "Melbourne",
          "Menlo Park",
          "Menlo Park",
          "Mexico City",
          "Mexico City",
          "Miami",
          "Miami",
          "Miami",
          "Miami",
          "Midrand",
          "Milan",
          "Mississauga",
          "Mobile & telecommunications",
          "Montpellier",
          "Montreal",
          "Montreal",
          "Mountain View",
          "Mountain View",
          "Mountain View",
          "Mountain View",
          "Mountain View",
          "Mountain View",
          "Mountain View",
          "Mountain View",
          "Mumbai",
          "Mumbai",
          "Mumbai",
          "Mumbai",
          "Mumbai",
          "Munich",
          "Munich",
          "Munich",
          "Munich",
          "Munich",
          "Nanjing",
          "Nanjing",
          "Nashville",
          "Netanya",
          "New Delhi",
          "New Delhi",
          "New York",
          "New York",
          "New York",
          "New York",
          "New York",
          "New York",
          "New York",
          "New York",
          "New York",
          "New York",
          "New York",
          "New York",
          "New York",
          "Noida",
          "Norfolk",
          "Northbrook",
          "Oakland",
          "Oakland",
          "Osasco",
          "Oslo",
          "Oslo",
          "Ottawa",
          "Palo Alto",
          "Palo Alto",
          "Palo Alto",
          "Palo Alto",
          "Palo Alto",
          "Palo Alto",
          "Palo Alto",
          "Palo Alto",
          "Parana",
          "Paris",
          "Paris",
          "Paris",
          "Paris",
          "Paris",
          "Paris",
          "Paris",
          "Paris",
          "Pennsauken",
          "Petah Tikva",
          "Peterborough",
          "Philadelphia",
          "Philadelphia",
          "Pittsburgh",
          "Plantation",
          "Pleasanton",
          "Portland",
          "Portola Valley",
          "Prague",
          "Prilly",
          "Princeton",
          "Pune",
          "Pune",
          "Qingdao",
          "Ra'anana",
          "Raleigh",
          "Ramat Gan",
          "Redwood City",
          "Redwood City",
          "Redwood City",
          "Redwood City",
          "Redwood City",
          "Redwood City",
          "Redwood City",
          "Redwood City",
          "Redwood City",
          "Redwood City",
          "Richmond",
          "Roseville",
          "Roubaix",
          "Sacramento",
          "Salt Lake City",
          "San Carlos",
          "San Diego",
          "San Diego",
          "San Diego",
          "San Diego",
          "San Francisco",
          "San Francisco",
          "San Francisco",
          "San Francisco",
          "San Francisco",
          "San Francisco",
          "San Francisco",
          "San Francisco",
          "San Francisco",
          "San Francisco",
          "San Francisco",
          "San Francisco",
          "San Francisco",
          "San Jose",
          "San Jose",
          "San Jose",
          "San Jose",
          "San Jose",
          "San Mateo",
          "San Mateo",
          "San Mateo",
          "San Mateo",
          "San Mateo",
          "San Mateo",
          "San Mateo",
          "San Ramon",
          "Santa Barbara",
          "Santa Clara",
          "Santa Clara",
          "Santa Clara",
          "Santa Clara",
          "Santa Monica",
          "Santa Monica",
          "Santiago",
          "Sao Paulo",
          "Sao Paulo",
          "Sao Paulo",
          "Sao Paulo",
          "Sao Paulo",
          "Sao Paulo",
          "Schaffhausen",
          "Scottsdale",
          "Seattle",
          "Seattle",
          "Seattle",
          "Seattle",
          "Selangor",
          "Seongnam-Si",
          "Seoul",
          "Seoul",
          "Seoul",
          "Seoul",
          "Seoul",
          "Seoul",
          "Seoul",
          "Shanghai",
          "Shanghai",
          "Shanghai",
          "Shanghai",
          "Shanghai",
          "Shanghai",
          "Shanghai",
          "Shanghai",
          "Shanghai",
          "Shanghai",
          "Shanghai",
          "Shenzhen",
          "Shenzhen",
          "Shenzhen",
          "Shenzhen",
          "Shenzhen",
          "Sherman Oaks",
          "Solihull",
          "Somerville",
          "South Jordan",
          "South San Francisco",
          "Stockholm",
          "Stockholm",
          "Stockholm",
          "Stockholm",
          "Stockholm",
          "Stockholm",
          "Sunnyvale",
          "Sunnyvale",
          "Sunnyvale",
          "Supply chain, logistics, & delivery",
          "Surry Hills",
          "Suzhou",
          "Sydney",
          "Taguig City",
          "Tallinn",
          "Tallinn",
          "Tampa",
          "Tel Aviv",
          "Tel Aviv",
          "Tel Aviv",
          "Tel Aviv",
          "Tel Aviv",
          "Tel Aviv",
          "Tel Aviv",
          "Tel Aviv",
          "Tel Aviv",
          "Thane",
          "Tianjin",
          "Tirat Carmel",
          "Tokyo",
          "Tokyo",
          "Tokyo",
          "Tokyo",
          "Toronto",
          "Toronto",
          "Toronto",
          "Toronto",
          "Tsuruoka",
          "Tustin",
          "Unterfoehring",
          "Vancouver",
          "Vancouver",
          "Vancouver",
          "Vancouver",
          "Vienna",
          "Vienna",
          "Vilnius",
          "Vodnjan",
          "Walnut",
          "Walpole",
          "Waltham",
          "Waltham",
          "Washington",
          "Washington",
          "Washington DC",
          "Washington DC",
          "Waterloo",
          "Waterloo",
          "Westerville",
          "Wilmington",
          "Wuhan",
          "Wuhan",
          "Wuxi",
          "Zephyr Cove",
          "Zhuhai",
          "Zurich",
          "Zurich",
          "Argentina",
          "Australia",
          "Australia",
          "Australia",
          "Austria",
          "Austria",
          "Bahamas",
          "Belgium",
          "Belgium",
          "Belgium",
          "Bermuda",
          "Brazil",
          "Brazil",
          "Brazil",
          "Brazil",
          "Brazil",
          "Brazil",
          "Canada",
          "Canada",
          "Canada",
          "Canada",
          "Canada",
          "Canada",
          "Canada",
          "Canada",
          "Canada",
          "Chile",
          "China",
          "China",
          "China",
          "China",
          "China",
          "China",
          "China",
          "China",
          "China",
          "China",
          "China",
          "China",
          "China",
          "China",
          "China",
          "Colombia",
          "Colombia",
          "Croatia",
          "Czech Republic",
          "Denmark",
          "Estonia",
          "Estonia",
          "Finland",
          "Finland",
          "Finland",
          "France",
          "France",
          "France",
          "France",
          "France",
          "France",
          "France",
          "France",
          "Germany",
          "Germany",
          "Germany",
          "Germany",
          "Germany",
          "Germany",
          "Germany",
          "Germany",
          "Germany",
          "Germany",
          "Germany",
          "Hong Kong",
          "Hong Kong",
          "Hong Kong",
          "Hong Kong",
          "Hong Kong",
          "Hong Kong",
          "India",
          "India",
          "India",
          "India",
          "India",
          "India",
          "India",
          "India",
          "India",
          "India",
          "India",
          "Indonesia",
          "Indonesia",
          "Indonesia",
          "Indonesia",
          "Indonesia",
          "Ireland",
          "Ireland",
          "Ireland",
          "Israel",
          "Israel",
          "Israel",
          "Israel",
          "Israel",
          "Israel",
          "Israel",
          "Israel",
          "Israel",
          "Israel",
          "Israel",
          "Italy",
          "Japan",
          "Japan",
          "Japan",
          "Japan",
          "Lithuania",
          "Luxembourg",
          "Malaysia",
          "Mexico",
          "Mexico",
          "Netherlands",
          "Netherlands",
          "Netherlands",
          "Netherlands",
          "Nigeria",
          "Norway",
          "Norway",
          "Philippines",
          "Philippines",
          "Senegal",
          "Singapore",
          "Singapore",
          "Singapore",
          "Singapore",
          "Singapore",
          "Singapore",
          "Singapore",
          "Singapore",
          "Singapore",
          "Singapore",
          "Singapore",
          "Singapore",
          "South Africa",
          "South Africa",
          "South Korea",
          "South Korea",
          "South Korea",
          "South Korea",
          "South Korea",
          "South Korea",
          "South Korea",
          "South Korea",
          "South Korea",
          "Spain",
          "Spain",
          "Spain",
          "Sweden",
          "Sweden",
          "Sweden",
          "Sweden",
          "Sweden",
          "Sweden",
          "Switzerland",
          "Switzerland",
          "Switzerland",
          "Switzerland",
          "Switzerland",
          "Thailand",
          "Thailand",
          "Turkey",
          "Turkey",
          "Turkey",
          "United Arab Emirates",
          "United Arab Emirates",
          "United Kingdom",
          "United Kingdom",
          "United Kingdom",
          "United Kingdom",
          "United Kingdom",
          "United Kingdom",
          "United Kingdom",
          "United Kingdom",
          "United Kingdom",
          "United Kingdom",
          "United Kingdom",
          "United Kingdom",
          "United States",
          "United States",
          "United States",
          "United States",
          "United States",
          "United States",
          "United States",
          "United States",
          "United States",
          "United States",
          "United States",
          "United States",
          "United States",
          "United States",
          "United States",
          "Vietnam",
          "Vietnam",
          "500 GLOBAL, RAKUTEN VENTURES, GOLDEN GATE VENTURES",
          "ANDREESSEN HOROWITZ, DST GLOBAL, IDG CAPITAL",
          "ARTIFICIAL INTELLIGENCE",
          "AUTO & TRANSPORTATION",
          "B CAPITAL GROUP, MONK'S HILL VENTURES, DYNAMIC PARCEL DISTRIBUTION",
          "CONSUMER & RETAIL",
          "CYBERSECURITY",
          "DATA MANAGEMENT & ANALYTICS",
          "DRAGONFLY CAPTIAL, QIMING VENTURE PARTNERS, DST GLOBAL",
          "E-COMMERCE & DIRECT-TO-CONSUMER",
          "EDTECH",
          "FINTECH",
          "HARDWARE",
          "HEALTH",
          "HOPU INVESTMENT MANAGEMENT, BOYU CAPITAL, DC THOMSON VENTURES",
          "INTERNET SOFTWARE & SERVICES",
          "JUNGLE VENTURES, ACCEL, VENTURE HIGHWAY",
          "KUANG-CHI",
          "MOBILE & TELECOMMUNICATIONS",
          "MUNDI VENTURES, DOQLING CAPITAL PARTNERS, ACTIVANT CAPITAL",
          "OTHER",
          "SEQUOIA CAPITAL CHINA, ING, ALIBABA ENTREPRENEURS FUND",
          "SEQUOIA CAPITAL CHINA, SHUNWEI CAPITAL PARTNERS, QUALGRO",
          "SEQUOIA CAPITAL, THOMA BRAVO, SOFTBANK",
          "SINGTEL INNOV8, ALPHA JWC VENTURES, GOLDEN GATE VENTURES",
          "SUPPLY CHAIN, LOGISTICS, & DELIVERY",
          "TEMASEK, GUGGENHEIM INVESTMENTS, QATAR INVESTMENT AUTHORITY",
          "TIGER GLOBAL MANAGEMENT, TIGER BROKERS, DCM VENTURES",
          "TRAVEL",
          "VERTEX VENTURES SE ASIA, GLOBAL FOUNDERS CAPITAL, VISA VENTURES",
          "VISION PLUS CAPITAL, GSR VENTURES, ZHENFUND"
         ],
         "name": "",
         "parents": [
          "INTERNET SOFTWARE & SERVICES/United States/Zephyr Cove",
          "HARDWARE/China/Hangzhou",
          "CYBERSECURITY/Canada/Toronto",
          "ARTIFICIAL INTELLIGENCE/China/Beijing",
          "SUPPLY CHAIN, LOGISTICS, & DELIVERY/China/Shanghai",
          "INTERNET SOFTWARE & SERVICES/China/Beijing",
          "ARTIFICIAL INTELLIGENCE/United States/San Francisco",
          "OTHER/United States/El Segundo",
          "AUTO & TRANSPORTATION/China/Shanghai",
          "ARTIFICIAL INTELLIGENCE/United States/New York",
          "OTHER/United Kingdom/Colchester",
          "FINTECH/India/Bengaluru",
          "CYBERSECURITY/Switzerland/Schaffhausen",
          "INTERNET SOFTWARE & SERVICES/United States/Chicago",
          "ARTIFICIAL INTELLIGENCE/Canada/Toronto",
          "FINTECH/United States/Mountain View",
          "VISION PLUS CAPITAL, GSR VENTURES, ZHENFUND/Singapore/Artificial intelligence",
          "ARTIFICIAL INTELLIGENCE/Bermuda/Hamilton",
          "EDTECH/United States/Glendale",
          "FINTECH/United States/Denver",
          "HARDWARE/Germany/Munich",
          "ARTIFICIAL INTELLIGENCE/China/Beijing",
          "INTERNET SOFTWARE & SERVICES/United States/San Francisco",
          "INTERNET SOFTWARE & SERVICES/United States/New York",
          "INTERNET SOFTWARE & SERVICES/United States/San Francisco",
          "FINTECH/Australia/Melbourne",
          "INTERNET SOFTWARE & SERVICES/Finland/Helsinki",
          "FINTECH/Indonesia/Jakarta",
          "E-COMMERCE & DIRECT-TO-CONSUMER/Indonesia/Jakarta",
          "FINTECH/France/Paris",
          "INTERNET SOFTWARE & SERVICES/United States/Redwood City",
          "FINTECH/United States/San Francisco",
          "HEALTH/United States/Bethesda",
          "CYBERSECURITY/United States/San Francisco",
          "INTERNET SOFTWARE & SERVICES/United States/San Francisco",
          "FINTECH/United States/New York",
          "HEALTH/United States/San Francisco",
          "HEALTH/United States/Framingham",
          "TIGER GLOBAL MANAGEMENT, TIGER BROKERS, DCM VENTURES/Hong Kong/Fintech",
          "FINTECH/United States/Chicago",
          "ARTIFICIAL INTELLIGENCE/United States/Seattle",
          "FINTECH/United States/San Francisco",
          "INTERNET SOFTWARE & SERVICES/United States/New York",
          "ARTIFICIAL INTELLIGENCE/United States/Irvine",
          "E-COMMERCE & DIRECT-TO-CONSUMER/France/Paris",
          "ARTIFICIAL INTELLIGENCE/United States/Berkeley",
          "OTHER/United States/Goleta",
          "E-COMMERCE & DIRECT-TO-CONSUMER/United States/San Francisco",
          "DATA MANAGEMENT & ANALYTICS/United States/Sunnyvale",
          "EDTECH/Canada/Kitchener",
          "MOBILE & TELECOMMUNICATIONS/United States/San Francisco",
          "HEALTH/South Korea/Seongnam-Si",
          "MOBILE & TELECOMMUNICATIONS/China/Beijing",
          "CYBERSECURITY/Israel/Ramat Gan",
          "CYBERSECURITY/United States/Eden Prairie",
          "ARTIFICIAL INTELLIGENCE/United States/Pittsburgh",
          "HEALTH/China/Beijing",
          "EDTECH/United States/New York",
          "FINTECH/Thailand/Bangkok",
          "INTERNET SOFTWARE & SERVICES/United States/Culver City",
          "SUPPLY CHAIN, LOGISTICS, & DELIVERY/Canada/Ottawa",
          "MOBILE & TELECOMMUNICATIONS/United States/San Francisco",
          "FINTECH/United States/Mountain View",
          "HEALTH/United States/Mountain View",
          "HEALTH/United States/New York",
          "MOBILE & TELECOMMUNICATIONS/United States/Hoboken",
          "ARTIFICIAL INTELLIGENCE/United States/New York",
          "CYBERSECURITY/United States/Burlington",
          "INTERNET SOFTWARE & SERVICES/United States/San Francisco",
          "ARTIFICIAL INTELLIGENCE/United States/San Jose",
          "INTERNET SOFTWARE & SERVICES/United States/San Francisco",
          "ARTIFICIAL INTELLIGENCE/United States/Chicago",
          "INTERNET SOFTWARE & SERVICES/United States/Santa Clara",
          "E-COMMERCE & DIRECT-TO-CONSUMER/United States/New York",
          "INTERNET SOFTWARE & SERVICES/Canada/Waterloo",
          "OTHER/United States/Houston",
          "CYBERSECURITY/United States/New York",
          "DATA MANAGEMENT & ANALYTICS/United States/Berkeley Heights",
          "FINTECH/United Kingdom/Peterborough",
          "EDTECH/India/Bengaluru",
          "AUTO & TRANSPORTATION/China/Nanjing",
          "E-COMMERCE & DIRECT-TO-CONSUMER/France/Paris",
          "FINTECH/China/Beijing",
          "AUTO & TRANSPORTATION/China/Shanghai",
          "E-COMMERCE & DIRECT-TO-CONSUMER/China/Hangzhou",
          "INTERNET SOFTWARE & SERVICES/China/Beijing",
          "INTERNET SOFTWARE & SERVICES/United States/San Francisco",
          "ARTIFICIAL INTELLIGENCE/United Kingdom/London",
          "E-COMMERCE & DIRECT-TO-CONSUMER/Germany/Berlin",
          "FINTECH/United States/New York",
          "INTERNET SOFTWARE & SERVICES/United States/San Francisco",
          "ARTIFICIAL INTELLIGENCE/Chile/Santiago",
          "FINTECH/United States/New York",
          "CYBERSECURITY/United States/New York",
          "FINTECH/India/New Delhi",
          "CYBERSECURITY/United States/New York",
          "ARTIFICIAL INTELLIGENCE/United States/Mountain View",
          "HEALTH/United States/San Diego",
          "HARDWARE/China/Shanghai",
          "HARDWARE/Netherlands/Amsterdam",
          "FINTECH/Austria/Vienna",
          "CYBERSECURITY/United States/Boston",
          "HARDWARE/China/Beijing",
          "FINTECH/Mexico/Mexico City",
          "AUTO & TRANSPORTATION/France/Paris",
          "ARTIFICIAL INTELLIGENCE/China/Shanghai",
          "OTHER/United States/Los Angeles",
          "SUPPLY CHAIN, LOGISTICS, & DELIVERY/India/Bengaluru",
          "SUPPLY CHAIN, LOGISTICS, & DELIVERY/India/Gurgaon",
          "FINTECH/United States/Los Angeles",
          "FINTECH/United States/Jersey City",
          "FINTECH/United Kingdom/London",
          "FINTECH/Canada/Vancouver",
          "ARTIFICIAL INTELLIGENCE/United States/Mountain View",
          "CYBERSECURITY/United States/New York",
          "ARTIFICIAL INTELLIGENCE/United States/New York",
          "FINTECH/United States/San Francisco",
          "AUTO & TRANSPORTATION/Estonia/Tallinn",
          "OTHER/United States/Englewood",
          "AUTO & TRANSPORTATION/China/Shanghai",
          "FINTECH/United Kingdom/London",
          "OTHER/United States/New York",
          "MOBILE & TELECOMMUNICATIONS/United States/Redwood City",
          "CONSUMER & RETAIL/United Kingdom/Aberdeen",
          "FINTECH/United States/San Francisco",
          "SUPPLY CHAIN, LOGISTICS, & DELIVERY/Israel/Tel Aviv",
          "INTERNET SOFTWARE & SERVICES/Ireland/Dublin",
          "INTERNET SOFTWARE & SERVICES/United States/Nashville",
          "FINTECH/Netherlands/Amsterdam",
          "ARTIFICIAL INTELLIGENCE/China/Beijing",
          "FINTECH/United States/Leawood",
          "FINTECH/Brazil/Sao Paulo",
          "FINTECH/United States/New York",
          "FINTECH/United States/Boston",
          "CYBERSECURITY/United States/New York",
          "HEALTH/United Kingdom/Cambridge",
          "FINTECH/India/Bengaluru",
          "AUTO & TRANSPORTATION/Spain/Madrid",
          "HEALTH/United States/New York",
          "INTERNET SOFTWARE & SERVICES/United States/Atlanta",
          "CONSUMER & RETAIL/United States/San Francisco",
          "MOBILE & TELECOMMUNICATIONS/United States/Cambridge",
          "INTERNET SOFTWARE & SERVICES/United States/Chicago",
          "INTERNET SOFTWARE & SERVICES/Australia/Surry Hills",
          "AUTO & TRANSPORTATION/China/Hangzhou",
          "HEALTH/United States/New York",
          "FINTECH/United States/San Francisco",
          "E-COMMERCE & DIRECT-TO-CONSUMER/India/Jaipur",
          "HARDWARE/United States/Redwood City",
          "HEALTH/United States/San Francisco",
          "SUPPLY CHAIN, LOGISTICS, & DELIVERY/Brazil/Sao Paulo",
          "HEALTH/United States/Irving",
          "500 GLOBAL, RAKUTEN VENTURES, GOLDEN GATE VENTURES/Singapore/E-commerce & direct-to-consumer",
          "SINGTEL INNOV8, ALPHA JWC VENTURES, GOLDEN GATE VENTURES/Singapore/E-commerce & direct-to-consumer",
          "E-COMMERCE & DIRECT-TO-CONSUMER/India/Gurgaon",
          "E-COMMERCE & DIRECT-TO-CONSUMER/Malaysia/Selangor",
          "FINTECH/United States/Lincoln",
          "FINTECH/United States/San Francisco",
          "E-COMMERCE & DIRECT-TO-CONSUMER/China/Jiangsu",
          "CYBERSECURITY/Israel/Tel Aviv",
          "OTHER/United States/Washington",
          "FINTECH/United States/New York",
          "MOBILE & TELECOMMUNICATIONS/South Africa/Midrand",
          "DATA MANAGEMENT & ANALYTICS/Germany/Munich",
          "FINTECH/United States/Hoboken",
          "HEALTH/United States/San Francisco",
          "HARDWARE/United States/Los Altos",
          "FINTECH/China/Hangzhou",
          "FINTECH/United States/New York",
          "EDTECH/China/Shanghai",
          "FINTECH/United States/Walnut",
          "FINTECH/United Kingdom/London",
          "INTERNET SOFTWARE & SERVICES/United States/San Francisco",
          "E-COMMERCE & DIRECT-TO-CONSUMER/China/Beijing",
          "FINTECH/United States/San Francisco",
          "HARDWARE/China/Wuxi",
          "HARDWARE/China/Beijing",
          "FINTECH/United States/San Francisco",
          "DATA MANAGEMENT & ANALYTICS/United States/New York",
          "ANDREESSEN HOROWITZ, DST GLOBAL, IDG CAPITAL/Hong Kong/E-commerce & direct-to-consumer",
          "FINTECH/United States/Boston",
          "INTERNET SOFTWARE & SERVICES/United States/San Francisco",
          "HEALTH/United States/Brooklyn",
          "FINTECH/Mexico/Mexico City",
          "INTERNET SOFTWARE & SERVICES/United States/Sunnyvale",
          "CYBERSECURITY/United States/New York",
          "FINTECH/Canada/Toronto",
          "FINTECH/United States/Chicago",
          "DATA MANAGEMENT & ANALYTICS/United States/Portola Valley",
          "INTERNET SOFTWARE & SERVICES/United States/San Diego",
          "INTERNET SOFTWARE & SERVICES/Canada/Burnaby",
          "FINTECH/Mexico/Mexico City",
          "DATA MANAGEMENT & ANALYTICS/United States/San Jose",
          "FINTECH/Brazil/Sao Paulo",
          "INTERNET SOFTWARE & SERVICES/United States/Santa Clara",
          "ARTIFICIAL INTELLIGENCE/China/Guangzhou",
          "MOBILE & TELECOMMUNICATIONS/United States/San Francisco",
          "CYBERSECURITY/United States/San Francisco",
          "DATA MANAGEMENT & ANALYTICS/United States/New York",
          "INTERNET SOFTWARE & SERVICES/United States/Mountain View",
          "DATA MANAGEMENT & ANALYTICS/Norway/Lysaker",
          "DATA MANAGEMENT & ANALYTICS/United States/San Jose",
          "FINTECH/India/Maharashtra",
          "FINTECH/United States/San Francisco",
          "FINTECH/India/Bangalore",
          "FINTECH/United States/San Francisco",
          "FINTECH/United States/San Francisco",
          "DATA MANAGEMENT & ANALYTICS/Belgium/Brussels",
          "HEALTH/United States/Burlingame",
          "INTERNET SOFTWARE & SERVICES/United States/San Francisco",
          "FINTECH/United States/New York",
          "INTERNET SOFTWARE & SERVICES/France/Paris",
          "INTERNET SOFTWARE & SERVICES/Germany/Berlin",
          "CYBERSECURITY/United States/Los Altos",
          "SUPPLY CHAIN, LOGISTICS, & DELIVERY/United States/Seattle",
          "HARDWARE/China/Shenzhen",
          "DATA MANAGEMENT & ANALYTICS/United States/Chicago",
          "EDTECH/United States/Redwood City",
          "FINTECH/Brazil/Sao Paulo",
          "INTERNET SOFTWARE & SERVICES/Australia/Richmond",
          "HEALTH/India/Bengaluru",
          "FINTECH/United States/New York",
          "CYBERSECURITY/United States/Boston",
          "HARDWARE/China/Shenzhen",
          "DATA MANAGEMENT & ANALYTICS/China/Hangzhou",
          "OTHER/China/Shenzhen",
          "E-COMMERCE & DIRECT-TO-CONSUMER/United States/New York",
          "INTERNET SOFTWARE & SERVICES/India/Bengaluru",
          "FINTECH/United States/New York",
          "FINTECH/Canada/Vancouver",
          "INTERNET SOFTWARE & SERVICES/India/Hyderabad",
          "ARTIFICIAL INTELLIGENCE/United States/Boston",
          "DATA MANAGEMENT & ANALYTICS/United States/San Francisco",
          "INTERNET SOFTWARE & SERVICES/United States/New York",
          "ARTIFICIAL INTELLIGENCE/United States/New York",
          "E-COMMERCE & DIRECT-TO-CONSUMER/India/Bengaluru",
          "FINTECH/United States/San Francisco",
          "ARTIFICIAL INTELLIGENCE/China/Shanghai",
          "INTERNET SOFTWARE & SERVICES/France/Paris",
          "EDTECH/United States/Pleasanton",
          "SUPPLY CHAIN, LOGISTICS, & DELIVERY/India/Gurgaon",
          "FINTECH/Belgium/Ghent",
          "SUPPLY CHAIN, LOGISTICS, & DELIVERY/United States/San Francisco",
          "HARDWARE/United States/San Francisco",
          "HEALTH/France/Paris",
          "DATA MANAGEMENT & ANALYTICS/United States/Cambridge",
          "HEALTH/United States/Waltham",
          "INTERNET SOFTWARE & SERVICES/United States/San Francisco",
          "OTHER/United States/San Francisco",
          "E-COMMERCE & DIRECT-TO-CONSUMER/China/Shanghai",
          "FINTECH/India/Bengaluru",
          "FINTECH/United States/New York",
          "INTERNET SOFTWARE & SERVICES/United States/San Francisco",
          "HEALTH/United States/Denver",
          "INTERNET SOFTWARE & SERVICES/United States/New York",
          "FINTECH/United States/San Francisco",
          "HEALTH/France/Paris",
          "INTERNET SOFTWARE & SERVICES/United States/Berkeley",
          "CYBERSECURITY/United States/Hanover",
          "CYBERSECURITY/United States/San Diego",
          "MOBILE & TELECOMMUNICATIONS/Turkey/Istanbul",
          "INTERNET SOFTWARE & SERVICES/India/Mumbai",
          "DATA MANAGEMENT & ANALYTICS/United States/Santa Clara",
          "INTERNET SOFTWARE & SERVICES/Israel/Ra'anana",
          "FINTECH/United States/Chatham",
          "DATA MANAGEMENT & ANALYTICS/United States/Sunnyvale",
          "FINTECH/South Korea/Seoul",
          "DATA MANAGEMENT & ANALYTICS/Norway/Oslo",
          "E-COMMERCE & DIRECT-TO-CONSUMER/United States/Bend",
          "HEALTH/China/Hangzhou",
          "FINTECH/Brazil/Curitiba",
          "AUTO & TRANSPORTATION/China/Wuhan",
          "AUTO & TRANSPORTATION/China/Shanghai",
          "HEALTH/United States/Cambridge",
          "FINTECH/Israel/Giv'atayim",
          "CONSUMER & RETAIL/China/Beijing",
          "CONSUMER & RETAIL/United States/San Francisco",
          "HARDWARE/China/Shenzhen",
          "INTERNET SOFTWARE & SERVICES/United States/Santa Clara",
          "AUTO & TRANSPORTATION/Sweden/Stockholm",
          "SUPPLY CHAIN, LOGISTICS, & DELIVERY/India/Pune",
          "HEALTH/United States/San Francisco",
          "OTHER/United Arab Emirates/Dubai",
          "HARDWARE/China/Shanghai",
          "INTERNET SOFTWARE & SERVICES/Germany/Berlin",
          "INTERNET SOFTWARE & SERVICES/United States/San Francisco",
          "OTHER/United States/Cary",
          "INTERNET SOFTWARE & SERVICES/Sweden/Stockholm",
          "OTHER/United States/Hawthorne",
          "EDTECH/India/Mumbai",
          "FINTECH/United States/New York",
          "FINTECH/United States/San Francisco",
          "INTERNET SOFTWARE & SERVICES/United States/Oakland",
          "E-COMMERCE & DIRECT-TO-CONSUMER/United States/Austin",
          "HEALTH/United States/San Mateo",
          "CYBERSECURITY/United States/Foster City",
          "HARDWARE/France/Croix",
          "CYBERSECURITY/United States/Herndon",
          "FINTECH/United States/San Francisco",
          "SEQUOIA CAPITAL, THOMA BRAVO, SOFTBANK/Bahamas/Fintech",
          "MOBILE & TELECOMMUNICATIONS/China/Beijing",
          "E-COMMERCE & DIRECT-TO-CONSUMER/United States/Bellevue",
          "SUPPLY CHAIN, LOGISTICS, & DELIVERY/United States/New York",
          "AUTO & TRANSPORTATION/United States/Santa Monica",
          "ARTIFICIAL INTELLIGENCE/United States/San Francisco",
          "FINTECH/United States/San Mateo",
          "E-COMMERCE & DIRECT-TO-CONSUMER/United States/Jacksonville",
          "OTHER/United States/San Carlos",
          "ARTIFICIAL INTELLIGENCE/United States/San Mateo",
          "EDTECH/China/Beijing",
          "E-COMMERCE & DIRECT-TO-CONSUMER/United States/Madison",
          "INTERNET SOFTWARE & SERVICES/United States/New York",
          "INTERNET SOFTWARE & SERVICES/United States/San Francisco",
          "INTERNET SOFTWARE & SERVICES/Canada/Toronto",
          "FINTECH/United States/New York",
          "DATA MANAGEMENT & ANALYTICS/Israel/Tel Aviv",
          "OTHER/United States/Cedar Park",
          "E-COMMERCE & DIRECT-TO-CONSUMER/India/Pune",
          "HEALTH/China/Chengdu",
          "OTHER/India/Chennai",
          "DATA MANAGEMENT & ANALYTICS/United States/Oakland",
          "SUPPLY CHAIN, LOGISTICS, & DELIVERY/Thailand/Bangkok",
          "SUPPLY CHAIN, LOGISTICS, & DELIVERY/China/Beijing",
          "SUPPLY CHAIN, LOGISTICS, & DELIVERY/United States/San Francisco",
          "E-COMMERCE & DIRECT-TO-CONSUMER/Germany/Berlin",
          "INTERNET SOFTWARE & SERVICES/United States/Palo Alto",
          "INTERNET SOFTWARE & SERVICES/Ireland/Dublin",
          "AUTO & TRANSPORTATION/Germany/Munich",
          "FINTECH/United States/Los Angeles",
          "SUPPLY CHAIN, LOGISTICS, & DELIVERY/United States/Encinitas",
          "HARDWARE/United States/Atlanta",
          "FINTECH/United States/San Francisco",
          "HARDWARE/United States/Somerville",
          "FINTECH/United States/San Francisco",
          "CYBERSECURITY/United States/New York",
          "SUPPLY CHAIN, LOGISTICS, & DELIVERY/Germany/Berlin",
          "DATA MANAGEMENT & ANALYTICS/India/Mumbai",
          "FINTECH/Canada/Toronto",
          "INTERNET SOFTWARE & SERVICES/United States/Atlanta",
          "FINTECH/United States/San Francisco",
          "INTERNET SOFTWARE & SERVICES/United States/Chicago",
          "SUPPLY CHAIN, LOGISTICS, & DELIVERY/China/Beijing",
          "INTERNET SOFTWARE & SERVICES/Australia/Brisbane",
          "E-COMMERCE & DIRECT-TO-CONSUMER/United States/Culver City",
          "OTHER/South Korea/Seoul",
          "MOBILE & TELECOMMUNICATIONS/China/Beijing",
          "HARDWARE/China/Shanghai",
          "HARDWARE/China/Beijing",
          "E-COMMERCE & DIRECT-TO-CONSUMER/Norway/Oslo",
          "INTERNET SOFTWARE & SERVICES/United States/San Francisco",
          "FINTECH/United States/New York",
          "TRAVEL/Germany/Berlin",
          "E-COMMERCE & DIRECT-TO-CONSUMER/Turkey/Istanbul",
          "AUTO & TRANSPORTATION/United Kingdom/London",
          "HARDWARE/United Kingdom/London",
          "E-COMMERCE & DIRECT-TO-CONSUMER/India/New Delhi",
          "ARTIFICIAL INTELLIGENCE/United States/Menlo Park",
          "INTERNET SOFTWARE & SERVICES/United States/Boston",
          "CONSUMER & RETAIL/United States/New York",
          "FINTECH/United Kingdom/London",
          "EDTECH/Austria/Vienna",
          "ARTIFICIAL INTELLIGENCE/United States/Palo Alto",
          "INTERNET SOFTWARE & SERVICES/United States/Roseville",
          "E-COMMERCE & DIRECT-TO-CONSUMER/Germany/Berlin",
          "SUPPLY CHAIN, LOGISTICS, & DELIVERY/United Kingdom/London",
          "INTERNET SOFTWARE & SERVICES/United States/New York",
          "INTERNET SOFTWARE & SERVICES/United States/San Francisco",
          "ARTIFICIAL INTELLIGENCE/United Kingdom/Bristol",
          "FINTECH/United States/Atlanta",
          "FINTECH/United Kingdom/London",
          "ARTIFICIAL INTELLIGENCE/United States/Mountain View",
          "E-COMMERCE & DIRECT-TO-CONSUMER/United States/San Francisco",
          "FINTECH/India/Bengaluru",
          "E-COMMERCE & DIRECT-TO-CONSUMER/United States/San Francisco",
          "FINTECH/United States/San Mateo",
          "INTERNET SOFTWARE & SERVICES/United States/Denver",
          "CONSUMER & RETAIL/China/Shanghai",
          "INTERNET SOFTWARE & SERVICES/United States/San Francisco",
          "FINTECH/United States/San Francisco",
          "INTERNET SOFTWARE & SERVICES/United States/New York",
          "E-COMMERCE & DIRECT-TO-CONSUMER/United Kingdom/Solihull",
          "ARTIFICIAL INTELLIGENCE/United States/Mountain View",
          "CONSUMER & RETAIL/China/Shanghai",
          "OTHER/China/Shenzhen",
          "MOBILE & TELECOMMUNICATIONS/Finland/Espoo",
          "ARTIFICIAL INTELLIGENCE/Israel/Tel Aviv",
          "INTERNET SOFTWARE & SERVICES/United States/San Francisco",
          "ARTIFICIAL INTELLIGENCE/China/Beijing",
          "FINTECH/United States/Tustin",
          "ARTIFICIAL INTELLIGENCE/United States/San Francisco",
          "CONSUMER & RETAIL/United States/New York",
          "INTERNET SOFTWARE & SERVICES/India/Bengaluru",
          "HEALTH/United States/Redwood City",
          "INTERNET SOFTWARE & SERVICES/United States/San Francisco",
          "AUTO & TRANSPORTATION/China/Shanghai",
          "ARTIFICIAL INTELLIGENCE/China/Shanghai",
          "E-COMMERCE & DIRECT-TO-CONSUMER/United States/Chicago",
          "INTERNET SOFTWARE & SERVICES/Israel/Tel Aviv",
          "FINTECH/United States/Houston",
          "INTERNET SOFTWARE & SERVICES/United States/Seattle",
          "HEALTH/United States/San Francisco",
          "ARTIFICIAL INTELLIGENCE/United States/San Francisco",
          "SUPPLY CHAIN, LOGISTICS, & DELIVERY/China/Shenzhen",
          "FINTECH/United States/San Francisco",
          "INTERNET SOFTWARE & SERVICES/United States/San Francisco",
          "INTERNET SOFTWARE & SERVICES/United States/San Francisco",
          "INTERNET SOFTWARE & SERVICES/United Kingdom/London",
          "TRAVEL/Canada/Montreal",
          "ARTIFICIAL INTELLIGENCE/China/Beijing",
          "E-COMMERCE & DIRECT-TO-CONSUMER/China/Nanjing",
          "E-COMMERCE & DIRECT-TO-CONSUMER/Netherlands/Amsterdam",
          "E-COMMERCE & DIRECT-TO-CONSUMER/United States/Palo Alto",
          "OTHER/United Kingdom/London",
          "AUTO & TRANSPORTATION/China/Shanghai",
          "EDTECH/China/Shanghai",
          "MOBILE & TELECOMMUNICATIONS/China/Shanghai",
          "E-COMMERCE & DIRECT-TO-CONSUMER/China/Beijing",
          "EDTECH/China/Beijing",
          "FINTECH/China/Beijing",
          "FINTECH/United States/San Francisco",
          "KUANG-CHI/Singapore/Mobile & telecommunications",
          "FINTECH/China/Hangzhou",
          "CYBERSECURITY/United States/McLean",
          "INTERNET SOFTWARE & SERVICES/United States/San Francisco",
          "SUPPLY CHAIN, LOGISTICS, & DELIVERY/United States/Dallas",
          "FINTECH/United States/Denver",
          "ARTIFICIAL INTELLIGENCE/United States/Bellevue",
          "E-COMMERCE & DIRECT-TO-CONSUMER/United States/New York",
          "CYBERSECURITY/United States/Sunnyvale",
          "HARDWARE/China/Shanghai",
          "INTERNET SOFTWARE & SERVICES/United States/Santa Barbara",
          "CONSUMER & RETAIL/United States/Redwood City",
          "OTHER/United Kingdom/London",
          "OTHER/Germany/Berlin",
          "MOBILE & TELECOMMUNICATIONS/India/Bengaluru",
          "HEALTH/Israel/Tirat Carmel",
          "INTERNET SOFTWARE & SERVICES/United States/New York",
          "OTHER/United States/Cambridge",
          "CYBERSECURITY/United States/San Francisco",
          "ARTIFICIAL INTELLIGENCE/United States/Boston",
          "HARDWARE/United States/Waltham",
          "MOBILE & TELECOMMUNICATIONS/Croatia/Vodnjan",
          "E-COMMERCE & DIRECT-TO-CONSUMER/India/Thane",
          "FINTECH/United States/New York",
          "HEALTH/United States/San Francisco",
          "INTERNET SOFTWARE & SERVICES/Turkey/Istanbul",
          "DATA MANAGEMENT & ANALYTICS/United States/San Francisco",
          "SUPPLY CHAIN, LOGISTICS, & DELIVERY/United States/San Francisco",
          "HEALTH/United States/Boston",
          "ARTIFICIAL INTELLIGENCE/China/Shenzhen",
          "INTERNET SOFTWARE & SERVICES/United States/San Francisco",
          "FINTECH/United States/Arlington",
          "FINTECH/United States/San Francisco",
          "DATA MANAGEMENT & ANALYTICS/United States/Austin",
          "INTERNET SOFTWARE & SERVICES/United States/Sacramento",
          "INTERNET SOFTWARE & SERVICES/United States/San Francisco",
          "FINTECH/United States/Redwood City",
          "SUPPLY CHAIN, LOGISTICS, & DELIVERY/Indonesia/Jakarta",
          "E-COMMERCE & DIRECT-TO-CONSUMER/China/Hangzhou",
          "CONSUMER & RETAIL/United States/San Francisco",
          "FINTECH/China/Beijing",
          "E-COMMERCE & DIRECT-TO-CONSUMER/China/Beijing",
          "INTERNET SOFTWARE & SERVICES/Spain/Madrid",
          "E-COMMERCE & DIRECT-TO-CONSUMER/United States/New York",
          "EDTECH/Israel/Tel Aviv",
          "E-COMMERCE & DIRECT-TO-CONSUMER/China/Wuhan",
          "SUPPLY CHAIN, LOGISTICS, & DELIVERY/China/Chengdu",
          "DATA MANAGEMENT & ANALYTICS/United States/Louisville",
          "DATA MANAGEMENT & ANALYTICS/China/Beijing",
          "INTERNET SOFTWARE & SERVICES/United States/New York",
          "HEALTH/United States/New York",
          "E-COMMERCE & DIRECT-TO-CONSUMER/China/Dongguan",
          "HEALTH/Sweden/Stockholm",
          "INTERNET SOFTWARE & SERVICES/United States/Irvine",
          "INTERNET SOFTWARE & SERVICES/United States/Seattle",
          "CYBERSECURITY/United States/Miami",
          "E-COMMERCE & DIRECT-TO-CONSUMER/Mexico/Lerma de Villada",
          "SUPPLY CHAIN, LOGISTICS, & DELIVERY/China/Shanghai",
          "MOBILE & TELECOMMUNICATIONS/China/Beijing",
          "SUPPLY CHAIN, LOGISTICS, & DELIVERY/United States/San Francisco",
          "CONSUMER & RETAIL/United States/Austin",
          "SUPPLY CHAIN, LOGISTICS, & DELIVERY/United Arab Emirates/Dubai",
          "FINTECH/Sweden/Stockholm",
          "INTERNET SOFTWARE & SERVICES/United States/Boston",
          "TRAVEL/Hong Kong/Central",
          "EDTECH/China/Beijing",
          "HEALTH/United States/San Francisco",
          "FINTECH/Mexico/Mexico City",
          "INTERNET SOFTWARE & SERVICES/United States/San Francisco",
          "CONSUMER & RETAIL/Indonesia/Jakarta",
          "E-COMMERCE & DIRECT-TO-CONSUMER/China/Beijing",
          "FINTECH/United States/San Francisco",
          "SUPPLY CHAIN, LOGISTICS, & DELIVERY/China/Tianjin",
          "INTERNET SOFTWARE & SERVICES/China/Beijing",
          "INTERNET SOFTWARE & SERVICES/China/Hangzhou",
          "SUPPLY CHAIN, LOGISTICS, & DELIVERY/South Korea/Seoul",
          "CONSUMER & RETAIL/South Korea/Seoul",
          "EDTECH/India/Andheri",
          "INTERNET SOFTWARE & SERVICES/United States/Dallas",
          "CYBERSECURITY/United States/San Jose",
          "SUPPLY CHAIN, LOGISTICS, & DELIVERY/Hong Kong/Cheung Sha Wan",
          "E-COMMERCE & DIRECT-TO-CONSUMER/China/Shenzhen",
          "INTERNET SOFTWARE & SERVICES/United States/San Francisco",
          "INTERNET SOFTWARE & SERVICES/United States/Oakland",
          "AUTO & TRANSPORTATION/China/Hangzhou",
          "HARDWARE/France/Paris",
          "E-COMMERCE & DIRECT-TO-CONSUMER/India/Faridabad",
          "INTERNET SOFTWARE & SERVICES/United States/Scottsdale",
          "HEALTH/Ireland/Dublin",
          "E-COMMERCE & DIRECT-TO-CONSUMER/China/Beijing",
          "E-COMMERCE & DIRECT-TO-CONSUMER/India/Bengaluru",
          "OTHER/Colombia/Bogota",
          "ARTIFICIAL INTELLIGENCE/Israel/Jerusalem",
          "HEALTH/China/Beijing",
          "MOBILE & TELECOMMUNICATIONS/China/Shanghai",
          "FINTECH/Japan/Tokyo",
          "E-COMMERCE & DIRECT-TO-CONSUMER/India/Bengaluru",
          "SUPPLY CHAIN, LOGISTICS, & DELIVERY/United States/New York",
          "HARDWARE/United States/Wilmington",
          "E-COMMERCE & DIRECT-TO-CONSUMER/Brazil/Sao Paulo",
          "SUPPLY CHAIN, LOGISTICS, & DELIVERY/Brazil/Sao Paulo",
          "CYBERSECURITY/United States/San Francisco",
          "INTERNET SOFTWARE & SERVICES/United States/San Francisco",
          "INTERNET SOFTWARE & SERVICES/United States/South Jordan",
          "FINTECH/United States/New York",
          "FINTECH/Denmark/Aarhus",
          "EDTECH/China/Beijing",
          "INTERNET SOFTWARE & SERVICES/United States/New York",
          "FINTECH/France/Paris",
          "HEALTH/United States/Burlingame",
          "FINTECH/United States/Chicago",
          "ARTIFICIAL INTELLIGENCE/China/Beijing",
          "ARTIFICIAL INTELLIGENCE/United States/Redwood City",
          "INTERNET SOFTWARE & SERVICES/United States/San Francisco",
          "E-COMMERCE & DIRECT-TO-CONSUMER/South Korea/Seoul",
          "FINTECH/United States/Lehi",
          "E-COMMERCE & DIRECT-TO-CONSUMER/Brazil/Parana",
          "TRAVEL/China/Beijing",
          "HARDWARE/United States/Plantation",
          "MOBILE & TELECOMMUNICATIONS/China/Beijing",
          "E-COMMERCE & DIRECT-TO-CONSUMER/India/Gurgaon",
          "FINTECH/Netherlands/Amsterdam",
          "HEALTH/United States/Brisbane",
          "OTHER/China/Shanghai",
          "E-COMMERCE & DIRECT-TO-CONSUMER/France/Paris",
          "FINTECH/United Kingdom/London",
          "EDTECH/United States/San Francisco",
          "FINTECH/United States/New York",
          "DATA MANAGEMENT & ANALYTICS/United Kingdom/Altrincham",
          "DRAGONFLY CAPTIAL, QIMING VENTURE PARTNERS, DST GLOBAL/Singapore/Fintech",
          "HEALTH/United States/New York",
          "INTERNET SOFTWARE & SERVICES/United States/Palo Alto",
          "INTERNET SOFTWARE & SERVICES/United States/New York",
          "HEALTH/China/Chengdu",
          "ARTIFICIAL INTELLIGENCE/France/Paris",
          "INTERNET SOFTWARE & SERVICES/India/Bengaluru",
          "MOBILE & TELECOMMUNICATIONS/China/Beijing",
          "HARDWARE/China/Zhuhai",
          "FINTECH/United States/New York",
          "OTHER/India/Bengaluru",
          "E-COMMERCE & DIRECT-TO-CONSUMER/Mexico/Mexico City",
          "FINTECH/United States/San Francisco",
          "MOBILE & TELECOMMUNICATIONS/Netherlands/Amsterdam",
          "E-COMMERCE & DIRECT-TO-CONSUMER/China/Beijing",
          "E-COMMERCE & DIRECT-TO-CONSUMER/China/Beijing",
          "HEALTH/Switzerland/Lausanne",
          "INTERNET SOFTWARE & SERVICES/United States/San Francisco",
          "ARTIFICIAL INTELLIGENCE/China/Beijing",
          "DATA MANAGEMENT & ANALYTICS/United States/Palo Alto",
          "E-COMMERCE & DIRECT-TO-CONSUMER/France/Paris",
          "INTERNET SOFTWARE & SERVICES/United States/San Francisco",
          "E-COMMERCE & DIRECT-TO-CONSUMER/United States/Pennsauken",
          "INTERNET SOFTWARE & SERVICES/United States/San Francisco",
          "FINTECH/Vietnam/Ho Chi Minh City",
          "FINTECH/India/Gurugram",
          "INTERNET SOFTWARE & SERVICES/India/Bengaluru",
          "FINTECH/United States/San Francisco",
          "CONSUMER & RETAIL/China/Beijing",
          "HEALTH/United States/San Francisco",
          "FINTECH/United States/San Francisco",
          "HEALTH/United States/Boca Raton",
          "E-COMMERCE & DIRECT-TO-CONSUMER/China/Shanghai",
          "JUNGLE VENTURES, ACCEL, VENTURE HIGHWAY/Singapore/E-commerce & direct-to-consumer",
          "INTERNET SOFTWARE & SERVICES/China/Beijing",
          "FINTECH/Netherlands/Amsterdam",
          "ARTIFICIAL INTELLIGENCE/China/Beijing",
          "FINTECH/United Kingdom/London",
          "MOBILE & TELECOMMUNICATIONS/Israel/Tel Aviv",
          "FINTECH/United States/Miami",
          "INTERNET SOFTWARE & SERVICES/United States/Washington DC",
          "E-COMMERCE & DIRECT-TO-CONSUMER/United Kingdom/London",
          "ARTIFICIAL INTELLIGENCE/United States/Mountain View",
          "MOBILE & TELECOMMUNICATIONS/Brazil/Sao Paulo",
          "DATA MANAGEMENT & ANALYTICS/United States/Northbrook",
          "INTERNET SOFTWARE & SERVICES/United States/San Francisco",
          "E-COMMERCE & DIRECT-TO-CONSUMER/India/Mumbai",
          "FINTECH/Philippines/Taguig City",
          "INTERNET SOFTWARE & SERVICES/United States/Sherman Oaks",
          "FINTECH/Germany/Berlin",
          "VERTEX VENTURES SE ASIA, GLOBAL FOUNDERS CAPITAL, VISA VENTURES/Singapore/Fintech",
          "FINTECH/India/Mumbai",
          "OTHER/United States/Chicago",
          "DATA MANAGEMENT & ANALYTICS/United States/San Mateo",
          "FINTECH/Brazil/Sao Paulo",
          "INTERNET SOFTWARE & SERVICES/United States/San Francisco",
          "CYBERSECURITY/United States/Santa Clara",
          "E-COMMERCE & DIRECT-TO-CONSUMER/China/Beijing",
          "INTERNET SOFTWARE & SERVICES/United States/Mountain View",
          "INTERNET SOFTWARE & SERVICES/United States/New York",
          "OTHER/Canada/Vancouver",
          "FINTECH/United States/Palo Alto",
          "HARDWARE/Israel/Tel Aviv",
          "DATA MANAGEMENT & ANALYTICS/Switzerland/Prilly",
          "INTERNET SOFTWARE & SERVICES/United States/Scottsdale",
          "MOBILE & TELECOMMUNICATIONS/United States/San Francisco",
          "B CAPITAL GROUP, MONK'S HILL VENTURES, DYNAMIC PARCEL DISTRIBUTION/Singapore/Supply chain, logistics, & delivery",
          "INTERNET SOFTWARE & SERVICES/India/Bengaluru",
          "CYBERSECURITY/United States/Palo Alto",
          "HEALTH/United States/New York",
          "OTHER/Sweden/Stockholm",
          "ARTIFICIAL INTELLIGENCE/Chile/Santiago",
          "INTERNET SOFTWARE & SERVICES/United States/San Francisco",
          "OTHER/Germany/Unterfoehring",
          "FINTECH/Switzerland/Zurich",
          "AUTO & TRANSPORTATION/United States/Mountain View",
          "E-COMMERCE & DIRECT-TO-CONSUMER/Brazil/Sao Paulo",
          "INTERNET SOFTWARE & SERVICES/China/Beijing",
          "OTHER/Luxembourg/Leudelange",
          "TEMASEK, GUGGENHEIM INVESTMENTS, QATAR INVESTMENT AUTHORITY/Singapore/Internet software & services",
          "OTHER/France/Roubaix",
          "OTHER/United Kingdom/Bristol",
          "TRAVEL/India/Gurugram",
          "FINTECH/United Kingdom/London",
          "E-COMMERCE & DIRECT-TO-CONSUMER/Norway/Oslo",
          "INTERNET SOFTWARE & SERVICES/Belgium/Louvain-la-Neuve",
          "E-COMMERCE & DIRECT-TO-CONSUMER/India/Gurgaon",
          "INTERNET SOFTWARE & SERVICES/United States/Princeton",
          "AUTO & TRANSPORTATION/India/Bengaluru",
          "AUTO & TRANSPORTATION/India/Bengaluru",
          "E-COMMERCE & DIRECT-TO-CONSUMER/Brazil/Curitiba",
          "INTERNET SOFTWARE & SERVICES/United States/Columbus",
          "HEALTH/United States/San Francisco",
          "TRAVEL/Germany/Berlin",
          "INTERNET SOFTWARE & SERVICES/United States/Atlanta",
          "FINTECH/Nigeria/Lagos",
          "ARTIFICIAL INTELLIGENCE/United States/San Francisco",
          "E-COMMERCE & DIRECT-TO-CONSUMER/United States/New York",
          "INTERNET SOFTWARE & SERVICES/United States/New York",
          "HARDWARE/United States/New York",
          "ARTIFICIAL INTELLIGENCE/Israel/Jerusalem",
          "HARDWARE/China/Shenzhen",
          "HEALTH/United States/Menlo Park",
          "CYBERSECURITY/United States/Portland",
          "FINTECH/United States/New York",
          "HEALTH/Germany/Duderstadt",
          "INTERNET SOFTWARE & SERVICES/United States/Boston",
          "INTERNET SOFTWARE & SERVICES/United States/Seattle",
          "EDTECH/United States/San Francisco",
          "INTERNET SOFTWARE & SERVICES/China/Shanghai",
          "FINTECH/Indonesia/Jakarta",
          "ARTIFICIAL INTELLIGENCE/United States/New York",
          "DATA MANAGEMENT & ANALYTICS/United States/Englewood Cliffs",
          "CONSUMER & RETAIL/United States/San Francisco",
          "INTERNET SOFTWARE & SERVICES/United States/Bellingham",
          "FINTECH/United Kingdom/London",
          "FINTECH/United States/Cincinnati",
          "FINTECH/Israel/Tel Aviv",
          "INTERNET SOFTWARE & SERVICES/United States/San Francisco",
          "INTERNET SOFTWARE & SERVICES/United States/San Francisco",
          "CYBERSECURITY/United States/San Francisco",
          "HEALTH/United States/Miami",
          "INTERNET SOFTWARE & SERVICES/United States/New York",
          "INTERNET SOFTWARE & SERVICES/United States/Scottsdale",
          "CONSUMER & RETAIL/United States/New York",
          "SEQUOIA CAPITAL CHINA, SHUNWEI CAPITAL PARTNERS, QUALGRO/Singapore/Internet software & services",
          "INTERNET SOFTWARE & SERVICES/United States/San Francisco",
          "INTERNET SOFTWARE & SERVICES/United States/Lehi",
          "FINTECH/United States/New York",
          "FINTECH/United Kingdom/London",
          "FINTECH/United Kingdom/London",
          "INTERNET SOFTWARE & SERVICES/United States/Raleigh",
          "CYBERSECURITY/Israel/Petah Tikva",
          "INTERNET SOFTWARE & SERVICES/United States/San Francisco",
          "CYBERSECURITY/United States/San Francisco",
          "INTERNET SOFTWARE & SERVICES/Germany/Munich",
          "E-COMMERCE & DIRECT-TO-CONSUMER/Australia/Alexandria",
          "FINTECH/United States/San Francisco",
          "E-COMMERCE & DIRECT-TO-CONSUMER/United States/Islandia",
          "INTERNET SOFTWARE & SERVICES/United States/Ambler",
          "MOBILE & TELECOMMUNICATIONS/United States/San Francisco",
          "FINTECH/United States/San Francisco",
          "FINTECH/India/Noida",
          "EDTECH/China/Beijing",
          "FINTECH/United States/Miami",
          "ARTIFICIAL INTELLIGENCE/United States/Los Altos",
          "FINTECH/United States/San Francisco",
          "OTHER/Japan/Tokyo",
          "FINTECH/Denmark/Copenhagen",
          "INTERNET SOFTWARE & SERVICES/United States/Palo Alto",
          "INTERNET SOFTWARE & SERVICES/United States/Lehi",
          "INTERNET SOFTWARE & SERVICES/Canada/Mississauga",
          "MOBILE & TELECOMMUNICATIONS/China/Shanghai",
          "FINTECH/India/Gurgaon",
          "ARTIFICIAL INTELLIGENCE/United States/Fremont",
          "INTERNET SOFTWARE & SERVICES/United States/San Francisco",
          "ARTIFICIAL INTELLIGENCE/Japan/Tokyo",
          "HEALTH/United States/Cambridge",
          "OTHER/United States/Charlotte",
          "HEALTH/India/Gurugram",
          "INTERNET SOFTWARE & SERVICES/United States/San Francisco",
          "SUPPLY CHAIN, LOGISTICS, & DELIVERY/United States/Chicago",
          "CONSUMER & RETAIL/South Africa/Bryanston",
          "HARDWARE/United States/Palo Alto",
          "FINTECH/United States/New York",
          "INTERNET SOFTWARE & SERVICES/China/Shanghai",
          "FINTECH/France/Paris",
          "FINTECH/United States/San Francisco",
          "DATA MANAGEMENT & ANALYTICS/United States/Colorado Springs",
          "E-COMMERCE & DIRECT-TO-CONSUMER/Brazil/Campinas",
          "EDTECH/United States/San Francisco",
          "DATA MANAGEMENT & ANALYTICS/United States/Seattle",
          "INTERNET SOFTWARE & SERVICES/United States/Mountain View",
          "SUPPLY CHAIN, LOGISTICS, & DELIVERY/United States/Miami",
          "SUPPLY CHAIN, LOGISTICS, & DELIVERY/Finland/Helsinki",
          "E-COMMERCE & DIRECT-TO-CONSUMER/South Korea/Seoul",
          "HEALTH/United States/El Segundo",
          "FINTECH/United Kingdom/Crewe",
          "FINTECH/United States/New York",
          "SUPPLY CHAIN, LOGISTICS, & DELIVERY/Colombia/Bogota",
          "FINTECH/United Kingdom/London",
          "CONSUMER & RETAIL/Germany/Berlin",
          "FINTECH/India/Bengaluru",
          "FINTECH/United States/Los Angeles",
          "E-COMMERCE & DIRECT-TO-CONSUMER/India/Pune",
          "ARTIFICIAL INTELLIGENCE/United States/Washington DC",
          "INTERNET SOFTWARE & SERVICES/United States/Seattle",
          "OTHER/United States/Fort Mill",
          "DATA MANAGEMENT & ANALYTICS/United States/Mountain View",
          "OTHER/United States/Carson City",
          "HEALTH/United States/Boston",
          "INTERNET SOFTWARE & SERVICES/United States/Chicago",
          "OTHER/United States/Inglewood",
          "CYBERSECURITY/United States/Tampa",
          "DATA MANAGEMENT & ANALYTICS/United States/Redwood City",
          "FINTECH/United States/San Francisco",
          "INTERNET SOFTWARE & SERVICES/United States/San Francisco",
          "FINTECH/United Kingdom/London",
          "OTHER/Philippines/Manila",
          "HEALTH/United States/New York",
          "FINTECH/United States/San Francisco",
          "INTERNET SOFTWARE & SERVICES/United States/San Francisco",
          "SUPPLY CHAIN, LOGISTICS, & DELIVERY/India/Gurgaon",
          "HEALTH/United States/New York",
          "SUPPLY CHAIN, LOGISTICS, & DELIVERY/Czech Republic/Prague",
          "INTERNET SOFTWARE & SERVICES/United States/New York",
          "CONSUMER & RETAIL/United States/San Francisco",
          "SUPPLY CHAIN, LOGISTICS, & DELIVERY/United States/Lehi",
          "HARDWARE/China/Shenzhen",
          "OTHER/United States/Atlanta",
          "DATA MANAGEMENT & ANALYTICS/United States/Palo Alto",
          "E-COMMERCE & DIRECT-TO-CONSUMER/China/Shenzhen",
          "OTHER/China/Guiyang",
          "INTERNET SOFTWARE & SERVICES/United States/Chicago",
          "E-COMMERCE & DIRECT-TO-CONSUMER/Canada/Montreal",
          "SUPPLY CHAIN, LOGISTICS, & DELIVERY/United States/Atlanta",
          "AUTO & TRANSPORTATION/China/Changzhou",
          "HEALTH/United States/New York",
          "INTERNET SOFTWARE & SERVICES/Australia/Sydney",
          "CYBERSECURITY/United States/Palo Alto",
          "FINTECH/United Kingdom/London",
          "DATA MANAGEMENT & ANALYTICS/United States/Palo Alto",
          "E-COMMERCE & DIRECT-TO-CONSUMER/United States/El Segundo",
          "FINTECH/Germany/Munich",
          "FINTECH/Italy/Milan",
          "ARTIFICIAL INTELLIGENCE/United States/San Francisco",
          "SUPPLY CHAIN, LOGISTICS, & DELIVERY/Switzerland/Zurich",
          "MOBILE & TELECOMMUNICATIONS/United States/Culver City",
          "INTERNET SOFTWARE & SERVICES/United States/Bellevue",
          "INTERNET SOFTWARE & SERVICES/United States/San Diego",
          "E-COMMERCE & DIRECT-TO-CONSUMER/Germany/Berlin",
          "MOBILE & TELECOMMUNICATIONS/United States/San Mateo",
          "SUPPLY CHAIN, LOGISTICS, & DELIVERY/Germany/Berlin",
          "OTHER/United States/San Francisco",
          "INTERNET SOFTWARE & SERVICES/United States/Glendale",
          "INTERNET SOFTWARE & SERVICES/India/Bengaluru",
          "ARTIFICIAL INTELLIGENCE/United States/San Diego",
          "ARTIFICIAL INTELLIGENCE/France/Paris",
          "SUPPLY CHAIN, LOGISTICS, & DELIVERY/United States/Chicago",
          "SUPPLY CHAIN, LOGISTICS, & DELIVERY/United States/San Francisco",
          "INTERNET SOFTWARE & SERVICES/United States/San Francisco",
          "FINTECH/United States/El Segundo",
          "ARTIFICIAL INTELLIGENCE/United States/San Francisco",
          "FINTECH/United States/San Jose",
          "OTHER/United States/Alameda",
          "DATA MANAGEMENT & ANALYTICS/United States/New York",
          "E-COMMERCE & DIRECT-TO-CONSUMER/United States/Los Angeles",
          "INTERNET SOFTWARE & SERVICES/Vietnam/Ho Chi Minh City",
          "OTHER/United States/Santa Monica",
          "SUPPLY CHAIN, LOGISTICS, & DELIVERY/United States/Redwood City",
          "FINTECH/India/Bengaluru",
          "FINTECH/United States/New York",
          "FINTECH/Japan/Tokyo",
          "ARTIFICIAL INTELLIGENCE/China/Shenzhen",
          "MOBILE & TELECOMMUNICATIONS/Japan/Tokyo",
          "INTERNET SOFTWARE & SERVICES/United States/San Francisco",
          "INTERNET SOFTWARE & SERVICES/United States/San Mateo",
          "E-COMMERCE & DIRECT-TO-CONSUMER/India/New Delhi",
          "FINTECH/United States/San Francisco",
          "ARTIFICIAL INTELLIGENCE/United States/Palo Alto",
          "CYBERSECURITY/United States/Boston",
          "AUTO & TRANSPORTATION/South Korea/Jeju-do",
          "CYBERSECURITY/United States/New York",
          "INTERNET SOFTWARE & SERVICES/United States/Cambridge",
          "OTHER/United States/Houston",
          "HEALTH/United States/McLean",
          "HEALTH/United States/Denver",
          "E-COMMERCE & DIRECT-TO-CONSUMER/France/Paris",
          "E-COMMERCE & DIRECT-TO-CONSUMER/China/Hangzhou",
          "ARTIFICIAL INTELLIGENCE/United States/Santa Clara",
          "INTERNET SOFTWARE & SERVICES/United States/San Francisco",
          "OTHER/United States/Hawthorne",
          "ARTIFICIAL INTELLIGENCE/United States/Austin",
          "FINTECH/France/Paris",
          "OTHER/Japan/Tsuruoka",
          "E-COMMERCE & DIRECT-TO-CONSUMER/India/Gurugram",
          "INTERNET SOFTWARE & SERVICES/United States/San Jose",
          "FINTECH/United States/San Francisco",
          "FINTECH/United States/Los Angeles",
          "HEALTH/United States/New York",
          "ARTIFICIAL INTELLIGENCE/United States/San Francisco",
          "AUTO & TRANSPORTATION/China/Changzhou",
          "DATA MANAGEMENT & ANALYTICS/United States/Boston",
          "CYBERSECURITY/Israel/Netanya",
          "FINTECH/United Kingdom/London",
          "MOBILE & TELECOMMUNICATIONS/United States/Boston",
          "FINTECH/United States/New York",
          "E-COMMERCE & DIRECT-TO-CONSUMER/United States/Detroit",
          "OTHER/Israel/Herzliya",
          "INTERNET SOFTWARE & SERVICES/United States/San Francisco",
          "FINTECH/United States/San Francisco",
          "CYBERSECURITY/United States/San Francisco",
          "FINTECH/United Kingdom/London",
          "FINTECH/United States/Los Angeles",
          "SUPPLY CHAIN, LOGISTICS, & DELIVERY/India/Bengaluru",
          "FINTECH/France/Montpellier",
          "FINTECH/United States/New York",
          "CYBERSECURITY/United States/San Francisco",
          "FINTECH/China/Qingdao",
          "HARDWARE/China/Beijing",
          "ARTIFICIAL INTELLIGENCE/China/Guangzhou",
          "INTERNET SOFTWARE & SERVICES/United States/Boise",
          "INTERNET SOFTWARE & SERVICES/United States/San Francisco",
          "MOBILE & TELECOMMUNICATIONS/China/Beijing",
          "MOBILE & TELECOMMUNICATIONS/United States/Mountain View",
          "CYBERSECURITY/United States/Kirkland",
          "FINTECH/United States/Draper",
          "INTERNET SOFTWARE & SERVICES/United States/San Diego",
          "E-COMMERCE & DIRECT-TO-CONSUMER/United States/El Segundo",
          "INTERNET SOFTWARE & SERVICES/United States/San Ramon",
          "INTERNET SOFTWARE & SERVICES/United States/Bellevue",
          "HEALTH/United States/Chicago",
          "ARTIFICIAL INTELLIGENCE/Canada/Toronto",
          "INTERNET SOFTWARE & SERVICES/China/Shanghai",
          "FINTECH/United Kingdom/London",
          "E-COMMERCE & DIRECT-TO-CONSUMER/United States/Austin",
          "HEALTH/United States/New York",
          "FINTECH/United Kingdom/London",
          "INTERNET SOFTWARE & SERVICES/United States/Sunnyvale",
          "OTHER/United States/Walpole",
          "E-COMMERCE & DIRECT-TO-CONSUMER/United States/San Francisco",
          "TRAVEL/Germany/Berlin",
          "INTERNET SOFTWARE & SERVICES/United States/New York",
          "FINTECH/United States/San Mateo",
          "E-COMMERCE & DIRECT-TO-CONSUMER/United States/San Francisco",
          "CYBERSECURITY/China/Hangzhou",
          "FINTECH/South Korea/Seoul",
          "ARTIFICIAL INTELLIGENCE/United Kingdom/London",
          "FINTECH/Germany/Berlin",
          "OTHER/United States/Norfolk",
          "FINTECH/United States/San Francisco",
          "FINTECH/United States/Westerville",
          "HEALTH/United States/San Francisco",
          "CYBERSECURITY/Israel/Tel Aviv",
          "TRAVEL/Spain/Barcelona",
          "TRAVEL/Indonesia/Jakarta",
          "HOPU INVESTMENT MANAGEMENT, BOYU CAPITAL, DC THOMSON VENTURES/Singapore/Artificial intelligence",
          "CONSUMER & RETAIL/Hong Kong/Kowloon",
          "FINTECH/United States/Charlotte",
          "HEALTH/United States/New York",
          "TRAVEL/United States/Palo Alto",
          "MOBILE & TELECOMMUNICATIONS/United Kingdom/London",
          "FINTECH/United Kingdom/London",
          "HEALTH/United States/Hayward",
          "CYBERSECURITY/Canada/Vancouver",
          "FINTECH/United States/New York",
          "TRAVEL/China/Beijing",
          "E-COMMERCE & DIRECT-TO-CONSUMER/China/Shenzhen",
          "AUTO & TRANSPORTATION/China/Shanghai",
          "INTERNET SOFTWARE & SERVICES/United States/Palo Alto",
          "HARDWARE/China/Shenzhen",
          "SUPPLY CHAIN, LOGISTICS, & DELIVERY/China/Beijing",
          "FINTECH/Argentina/Buenos Aires",
          "SUPPLY CHAIN, LOGISTICS, & DELIVERY/India/Bengaluru",
          "EDTECH/India/Bengaluru",
          "ARTIFICIAL INTELLIGENCE/Brazil/Sao Paulo",
          "ARTIFICIAL INTELLIGENCE/United States/Palo Alto",
          "ARTIFICIAL INTELLIGENCE/China/Beijing",
          "HEALTH/United States/New York",
          "HEALTH/China/Shanghai",
          "FINTECH/United States/New York",
          "EDTECH/India/Mumbai",
          "FINTECH/United States/San Francisco",
          "OTHER/United States/Boulder",
          "FINTECH/India/Mumbai",
          "ARTIFICIAL INTELLIGENCE/United States/Chicago",
          "E-COMMERCE & DIRECT-TO-CONSUMER/India/Gurgaon",
          "DATA MANAGEMENT & ANALYTICS/United States/New York",
          "EDTECH/China/Beijing",
          "TRAVEL/Sweden/Stockholm",
          "INTERNET SOFTWARE & SERVICES/United States/New York",
          "INTERNET SOFTWARE & SERVICES/United States/Dublin",
          "FINTECH/United States/San Francisco",
          "ARTIFICIAL INTELLIGENCE/United States/San Jose",
          "EDTECH/India/Bengaluru",
          "E-COMMERCE & DIRECT-TO-CONSUMER/France/La Plaine Saint-Denis",
          "INTERNET SOFTWARE & SERVICES/United States/San Mateo",
          "SUPPLY CHAIN, LOGISTICS, & DELIVERY/United States/Boulder",
          "CYBERSECURITY/United States/Salt Lake City",
          "ARTIFICIAL INTELLIGENCE/United States/New York",
          "INTERNET SOFTWARE & SERVICES/United States/San Francisco",
          "ARTIFICIAL INTELLIGENCE/Estonia/Tallinn",
          "CYBERSECURITY/United States/San Mateo",
          "E-COMMERCE & DIRECT-TO-CONSUMER/France/Paris",
          "AUTO & TRANSPORTATION/United States/New York",
          "INTERNET SOFTWARE & SERVICES/United States/Brooklyn",
          "INTERNET SOFTWARE & SERVICES/United States/Los Angeles",
          "E-COMMERCE & DIRECT-TO-CONSUMER/Lithuania/Vilnius",
          "HEALTH/United States/San Francisco",
          "FINTECH/United States/New York",
          "INTERNET SOFTWARE & SERVICES/Canada/Vancouver",
          "OTHER/United Arab Emirates/Dubai",
          "OTHER/France/Paris",
          "INTERNET SOFTWARE & SERVICES/United States/Washington",
          "E-COMMERCE & DIRECT-TO-CONSUMER/United States/Carlsbad",
          "E-COMMERCE & DIRECT-TO-CONSUMER/South Korea/Seoul",
          "AUTO & TRANSPORTATION/China/Shanghai",
          "INTERNET SOFTWARE & SERVICES/China/Guangzhou",
          "MOBILE & TELECOMMUNICATIONS/China/Hangzhou",
          "INTERNET SOFTWARE & SERVICES/United States/San Francisco",
          "FINTECH/Senegal/Dakar",
          "FINTECH/Ireland/Dublin",
          "HEALTH/China/Hangzhou",
          "FINTECH/China/Changsha",
          "SEQUOIA CAPITAL CHINA, ING, ALIBABA ENTREPRENEURS FUND/Hong Kong/Fintech",
          "AUTO & TRANSPORTATION/China/Guangzhou",
          "INTERNET SOFTWARE & SERVICES/United States/San Francisco",
          "SUPPLY CHAIN, LOGISTICS, & DELIVERY/United States/Fremont",
          "CONSUMER & RETAIL/China/Luohe",
          "OTHER/China/Hunan",
          "E-COMMERCE & DIRECT-TO-CONSUMER/United States/Marina del Rey",
          "E-COMMERCE & DIRECT-TO-CONSUMER/United States/Boston",
          "OTHER/Brazil/Sao Paulo",
          "CYBERSECURITY/Israel/Tel Aviv",
          "E-COMMERCE & DIRECT-TO-CONSUMER/China/Beijing",
          "INTERNET SOFTWARE & SERVICES/United States/Mountain View",
          "INTERNET SOFTWARE & SERVICES/Ireland/Dublin",
          "INTERNET SOFTWARE & SERVICES/United States/Austin",
          "FINTECH/United States/New York",
          "INTERNET SOFTWARE & SERVICES/China/Shanghai",
          "FINTECH/Indonesia/Jakarta",
          "TRAVEL/China/Beijing",
          "FINTECH/China/Beijing",
          "E-COMMERCE & DIRECT-TO-CONSUMER/China/Shanghai",
          "MOBILE & TELECOMMUNICATIONS/China/Shanghai",
          "INTERNET SOFTWARE & SERVICES/China/Chengdu",
          "E-COMMERCE & DIRECT-TO-CONSUMER/China/Changsha",
          "E-COMMERCE & DIRECT-TO-CONSUMER/China/Shenzhen",
          "SUPPLY CHAIN, LOGISTICS, & DELIVERY/India/Pune",
          "ARTIFICIAL INTELLIGENCE/China/Shenzhen",
          "SUPPLY CHAIN, LOGISTICS, & DELIVERY/China/Shenzhen",
          "ARTIFICIAL INTELLIGENCE/China/Shanghai",
          "TRAVEL/South Korea/Seoul",
          "HEALTH/China/Guangzhou",
          "MOBILE & TELECOMMUNICATIONS/South Korea/Seoul",
          "MOBILE & TELECOMMUNICATIONS/China/Beijing",
          "SUPPLY CHAIN, LOGISTICS, & DELIVERY/China/Shanghai",
          "CONSUMER & RETAIL/China/Beijing",
          "SUPPLY CHAIN, LOGISTICS, & DELIVERY/China/Shanghai",
          "E-COMMERCE & DIRECT-TO-CONSUMER/China/Hefei",
          "INTERNET SOFTWARE & SERVICES/United States/New York",
          "MOBILE & TELECOMMUNICATIONS/China/Beijing",
          "OTHER/France/Evry",
          "INTERNET SOFTWARE & SERVICES/United States/New York",
          "OTHER/United States/New York",
          "AUTO & TRANSPORTATION/China/Shanghai",
          "EDTECH/China/Beijing",
          "CONSUMER & RETAIL/China/Beijing",
          "DATA MANAGEMENT & ANALYTICS/United States/Sunnyvale",
          "SUPPLY CHAIN, LOGISTICS, & DELIVERY/China/Shanghai",
          "EDTECH/China/Suzhou",
          "FINTECH/United Kingdom/London",
          "INTERNET SOFTWARE & SERVICES/United States/Sunnyvale",
          "FINTECH/United Kingdom/London",
          "FINTECH/United States/Austin",
          "INTERNET SOFTWARE & SERVICES/United States/Bellevue",
          "FINTECH/United States/San Francisco",
          "INTERNET SOFTWARE & SERVICES/India/Bengaluru",
          "E-COMMERCE & DIRECT-TO-CONSUMER/China/Shanghai",
          "E-COMMERCE & DIRECT-TO-CONSUMER/China/Beijing",
          "INTERNET SOFTWARE & SERVICES/China/Chongqing",
          "CONSUMER & RETAIL/China/Chongqing",
          "FINTECH/United Kingdom/London",
          "SUPPLY CHAIN, LOGISTICS, & DELIVERY/United States/South San Francisco",
          "E-COMMERCE & DIRECT-TO-CONSUMER/China/Beijing",
          "HEALTH/United States/New York",
          "AUTO & TRANSPORTATION/China/Shanghai",
          "FINTECH/United Kingdom/London",
          "CONSUMER & RETAIL/United States/Mountain View",
          "EDTECH/China/Beijing",
          "E-COMMERCE & DIRECT-TO-CONSUMER/United States/Long Beach",
          "INTERNET SOFTWARE & SERVICES/India/Bengaluru",
          "MUNDI VENTURES, DOQLING CAPITAL PARTNERS, ACTIVANT CAPITAL/Singapore/Fintech",
          "FINTECH/United States/New York",
          "DATA MANAGEMENT & ANALYTICS/United States/Philadelphia",
          "E-COMMERCE & DIRECT-TO-CONSUMER/China/Shanghai",
          "CYBERSECURITY/Canada/Waterloo",
          "SUPPLY CHAIN, LOGISTICS, & DELIVERY/United States/Boston",
          "E-COMMERCE & DIRECT-TO-CONSUMER/United States/Philadelphia",
          "FINTECH/United States/New York",
          "ARTIFICIAL INTELLIGENCE/China/Shenzhen",
          "SUPPLY CHAIN, LOGISTICS, & DELIVERY/Brazil/Osasco",
          "FINTECH/United States/Long Beach",
          "EDTECH/China/Shanghai",
          "ARTIFICIAL INTELLIGENCE/United States/Dallas",
          "INTERNET SOFTWARE & SERVICES/United States/San Francisco",
          "FINTECH/Germany/Berlin",
          "FINTECH/Germany/Berlin",
          "FINTECH/Denmark",
          "CONSUMER & RETAIL/United Kingdom",
          "OTHER/United States",
          "E-COMMERCE & DIRECT-TO-CONSUMER/Australia",
          "DATA MANAGEMENT & ANALYTICS/United Kingdom",
          "INTERNET SOFTWARE & SERVICES/United States",
          "E-COMMERCE & DIRECT-TO-CONSUMER/Netherlands",
          "FINTECH/Netherlands",
          "HARDWARE/Netherlands",
          "MOBILE & TELECOMMUNICATIONS/Netherlands",
          "EDTECH/India",
          "FINTECH/United States",
          "HOPU INVESTMENT MANAGEMENT, BOYU CAPITAL, DC THOMSON VENTURES/Singapore",
          "VISION PLUS CAPITAL, GSR VENTURES, ZHENFUND/Singapore",
          "FINTECH/United States",
          "HARDWARE/United States",
          "INTERNET SOFTWARE & SERVICES/United States",
          "OTHER/United States",
          "SUPPLY CHAIN, LOGISTICS, & DELIVERY/United States",
          "ARTIFICIAL INTELLIGENCE/United States",
          "CONSUMER & RETAIL/United States",
          "DATA MANAGEMENT & ANALYTICS/United States",
          "E-COMMERCE & DIRECT-TO-CONSUMER/United States",
          "FINTECH/United States",
          "INTERNET SOFTWARE & SERVICES/United States",
          "FINTECH/India",
          "FINTECH/Thailand",
          "SUPPLY CHAIN, LOGISTICS, & DELIVERY/Thailand",
          "TRAVEL/Spain",
          "ARTIFICIAL INTELLIGENCE/China",
          "CONSUMER & RETAIL/China",
          "DATA MANAGEMENT & ANALYTICS/China",
          "E-COMMERCE & DIRECT-TO-CONSUMER/China",
          "EDTECH/China",
          "FINTECH/China",
          "HARDWARE/China",
          "HEALTH/China",
          "INTERNET SOFTWARE & SERVICES/China",
          "MOBILE & TELECOMMUNICATIONS/China",
          "SUPPLY CHAIN, LOGISTICS, & DELIVERY/China",
          "TRAVEL/China",
          "ARTIFICIAL INTELLIGENCE/United States",
          "E-COMMERCE & DIRECT-TO-CONSUMER/United States",
          "INTERNET SOFTWARE & SERVICES/United States",
          "INTERNET SOFTWARE & SERVICES/United States",
          "E-COMMERCE & DIRECT-TO-CONSUMER/United States",
          "AUTO & TRANSPORTATION/India",
          "E-COMMERCE & DIRECT-TO-CONSUMER/India",
          "EDTECH/India",
          "FINTECH/India",
          "HEALTH/India",
          "INTERNET SOFTWARE & SERVICES/India",
          "MOBILE & TELECOMMUNICATIONS/India",
          "OTHER/India",
          "SUPPLY CHAIN, LOGISTICS, & DELIVERY/India",
          "ARTIFICIAL INTELLIGENCE/United States",
          "INTERNET SOFTWARE & SERVICES/United States",
          "DATA MANAGEMENT & ANALYTICS/United States",
          "CONSUMER & RETAIL/Germany",
          "E-COMMERCE & DIRECT-TO-CONSUMER/Germany",
          "FINTECH/Germany",
          "INTERNET SOFTWARE & SERVICES/Germany",
          "OTHER/Germany",
          "SUPPLY CHAIN, LOGISTICS, & DELIVERY/Germany",
          "TRAVEL/Germany",
          "HEALTH/United States",
          "HEALTH/United States",
          "OTHER/Colombia",
          "SUPPLY CHAIN, LOGISTICS, & DELIVERY/Colombia",
          "INTERNET SOFTWARE & SERVICES/United States",
          "ARTIFICIAL INTELLIGENCE/United States",
          "CYBERSECURITY/United States",
          "DATA MANAGEMENT & ANALYTICS/United States",
          "E-COMMERCE & DIRECT-TO-CONSUMER/United States",
          "FINTECH/United States",
          "HEALTH/United States",
          "INTERNET SOFTWARE & SERVICES/United States",
          "MOBILE & TELECOMMUNICATIONS/United States",
          "SUPPLY CHAIN, LOGISTICS, & DELIVERY/United States",
          "OTHER/United States",
          "SUPPLY CHAIN, LOGISTICS, & DELIVERY/United States",
          "INTERNET SOFTWARE & SERVICES/Australia",
          "HEALTH/United States",
          "ARTIFICIAL INTELLIGENCE/United Kingdom",
          "OTHER/United Kingdom",
          "HEALTH/United States",
          "INTERNET SOFTWARE & SERVICES/United States",
          "DATA MANAGEMENT & ANALYTICS/Belgium",
          "CONSUMER & RETAIL/South Africa",
          "FINTECH/Argentina",
          "HEALTH/United States",
          "CYBERSECURITY/United States",
          "INTERNET SOFTWARE & SERVICES/Canada",
          "HEALTH/United Kingdom",
          "DATA MANAGEMENT & ANALYTICS/United States",
          "HEALTH/United States",
          "INTERNET SOFTWARE & SERVICES/United States",
          "MOBILE & TELECOMMUNICATIONS/United States",
          "OTHER/United States",
          "E-COMMERCE & DIRECT-TO-CONSUMER/Brazil",
          "E-COMMERCE & DIRECT-TO-CONSUMER/United States",
          "OTHER/United States",
          "OTHER/United States",
          "OTHER/United States",
          "TRAVEL/Hong Kong",
          "E-COMMERCE & DIRECT-TO-CONSUMER/China",
          "FINTECH/China",
          "AUTO & TRANSPORTATION/China",
          "FINTECH/United States",
          "OTHER/United States",
          "FINTECH/United States",
          "HEALTH/China",
          "INTERNET SOFTWARE & SERVICES/China",
          "SUPPLY CHAIN, LOGISTICS, & DELIVERY/China",
          "OTHER/India",
          "SUPPLY CHAIN, LOGISTICS, & DELIVERY/Hong Kong",
          "ARTIFICIAL INTELLIGENCE/United States",
          "DATA MANAGEMENT & ANALYTICS/United States",
          "E-COMMERCE & DIRECT-TO-CONSUMER/United States",
          "FINTECH/United States",
          "HEALTH/United States",
          "INTERNET SOFTWARE & SERVICES/United States",
          "OTHER/United States",
          "SUPPLY CHAIN, LOGISTICS, & DELIVERY/United States",
          "CONSUMER & RETAIL/China",
          "INTERNET SOFTWARE & SERVICES/China",
          "FINTECH/United States",
          "OTHER/United Kingdom",
          "DATA MANAGEMENT & ANALYTICS/United States",
          "INTERNET SOFTWARE & SERVICES/United States",
          "FINTECH/Denmark",
          "FINTECH/United Kingdom",
          "HARDWARE/France",
          "E-COMMERCE & DIRECT-TO-CONSUMER/United States",
          "INTERNET SOFTWARE & SERVICES/United States",
          "MOBILE & TELECOMMUNICATIONS/United States",
          "E-COMMERCE & DIRECT-TO-CONSUMER/Brazil",
          "FINTECH/Brazil",
          "FINTECH/Senegal",
          "ARTIFICIAL INTELLIGENCE/United States",
          "INTERNET SOFTWARE & SERVICES/United States",
          "SUPPLY CHAIN, LOGISTICS, & DELIVERY/United States",
          "FINTECH/United States",
          "HEALTH/United States",
          "INTERNET SOFTWARE & SERVICES/United States",
          "E-COMMERCE & DIRECT-TO-CONSUMER/United States",
          "E-COMMERCE & DIRECT-TO-CONSUMER/China",
          "FINTECH/United States",
          "OTHER/United Arab Emirates",
          "SUPPLY CHAIN, LOGISTICS, & DELIVERY/United Arab Emirates",
          "FINTECH/Ireland",
          "HEALTH/Ireland",
          "INTERNET SOFTWARE & SERVICES/Ireland",
          "INTERNET SOFTWARE & SERVICES/United States",
          "HEALTH/Germany",
          "ANDREESSEN HOROWITZ, DST GLOBAL, IDG CAPITAL/Hong Kong",
          "500 GLOBAL, RAKUTEN VENTURES, GOLDEN GATE VENTURES/Singapore",
          "JUNGLE VENTURES, ACCEL, VENTURE HIGHWAY/Singapore",
          "SINGTEL INNOV8, ALPHA JWC VENTURES, GOLDEN GATE VENTURES/Singapore",
          "CYBERSECURITY/United States",
          "E-COMMERCE & DIRECT-TO-CONSUMER/United States",
          "FINTECH/United States",
          "HEALTH/United States",
          "OTHER/United States",
          "SUPPLY CHAIN, LOGISTICS, & DELIVERY/United States",
          "OTHER/United States",
          "DATA MANAGEMENT & ANALYTICS/United States",
          "MOBILE & TELECOMMUNICATIONS/Finland",
          "OTHER/France",
          "E-COMMERCE & DIRECT-TO-CONSUMER/India",
          "SEQUOIA CAPITAL, THOMA BRAVO, SOFTBANK/Bahamas",
          "SEQUOIA CAPITAL CHINA, ING, ALIBABA ENTREPRENEURS FUND/Hong Kong",
          "TIGER GLOBAL MANAGEMENT, TIGER BROKERS, DCM VENTURES/Hong Kong",
          "DRAGONFLY CAPTIAL, QIMING VENTURE PARTNERS, DST GLOBAL/Singapore",
          "MUNDI VENTURES, DOQLING CAPITAL PARTNERS, ACTIVANT CAPITAL/Singapore",
          "VERTEX VENTURES SE ASIA, GLOBAL FOUNDERS CAPITAL, VISA VENTURES/Singapore",
          "OTHER/United States",
          "CYBERSECURITY/United States",
          "HEALTH/United States",
          "ARTIFICIAL INTELLIGENCE/United States",
          "SUPPLY CHAIN, LOGISTICS, & DELIVERY/United States",
          "FINTECH/Belgium",
          "FINTECH/Israel",
          "EDTECH/United States",
          "INTERNET SOFTWARE & SERVICES/United States",
          "OTHER/United States",
          "ARTIFICIAL INTELLIGENCE/China",
          "AUTO & TRANSPORTATION/China",
          "HEALTH/China",
          "INTERNET SOFTWARE & SERVICES/China",
          "OTHER/China",
          "E-COMMERCE & DIRECT-TO-CONSUMER/India",
          "FINTECH/India",
          "SUPPLY CHAIN, LOGISTICS, & DELIVERY/India",
          "E-COMMERCE & DIRECT-TO-CONSUMER/India",
          "FINTECH/India",
          "HEALTH/India",
          "TRAVEL/India",
          "ARTIFICIAL INTELLIGENCE/Bermuda",
          "AUTO & TRANSPORTATION/China",
          "CYBERSECURITY/China",
          "DATA MANAGEMENT & ANALYTICS/China",
          "E-COMMERCE & DIRECT-TO-CONSUMER/China",
          "FINTECH/China",
          "HARDWARE/China",
          "HEALTH/China",
          "INTERNET SOFTWARE & SERVICES/China",
          "MOBILE & TELECOMMUNICATIONS/China",
          "CYBERSECURITY/United States",
          "OTHER/United States",
          "HEALTH/United States",
          "E-COMMERCE & DIRECT-TO-CONSUMER/China",
          "INTERNET SOFTWARE & SERVICES/Finland",
          "SUPPLY CHAIN, LOGISTICS, & DELIVERY/Finland",
          "CYBERSECURITY/United States",
          "OTHER/Israel",
          "FINTECH/Vietnam",
          "INTERNET SOFTWARE & SERVICES/Vietnam",
          "FINTECH/United States",
          "MOBILE & TELECOMMUNICATIONS/United States",
          "FINTECH/United States",
          "OTHER/United States",
          "OTHER/China",
          "INTERNET SOFTWARE & SERVICES/India",
          "OTHER/United States",
          "SEQUOIA CAPITAL CHINA, SHUNWEI CAPITAL PARTNERS, QUALGRO/Singapore",
          "TEMASEK, GUGGENHEIM INVESTMENTS, QATAR INVESTMENT AUTHORITY/Singapore",
          "ARTIFICIAL INTELLIGENCE/United States",
          "INTERNET SOFTWARE & SERVICES/United States",
          "HEALTH/United States",
          "E-COMMERCE & DIRECT-TO-CONSUMER/United States",
          "E-COMMERCE & DIRECT-TO-CONSUMER/Turkey",
          "INTERNET SOFTWARE & SERVICES/Turkey",
          "MOBILE & TELECOMMUNICATIONS/Turkey",
          "E-COMMERCE & DIRECT-TO-CONSUMER/United States",
          "E-COMMERCE & DIRECT-TO-CONSUMER/India",
          "CONSUMER & RETAIL/Indonesia",
          "E-COMMERCE & DIRECT-TO-CONSUMER/Indonesia",
          "FINTECH/Indonesia",
          "SUPPLY CHAIN, LOGISTICS, & DELIVERY/Indonesia",
          "TRAVEL/Indonesia",
          "AUTO & TRANSPORTATION/South Korea",
          "FINTECH/United States",
          "ARTIFICIAL INTELLIGENCE/Israel",
          "E-COMMERCE & DIRECT-TO-CONSUMER/China",
          "CYBERSECURITY/United States",
          "EDTECH/Canada",
          "CONSUMER & RETAIL/Hong Kong",
          "E-COMMERCE & DIRECT-TO-CONSUMER/France",
          "FINTECH/Nigeria",
          "HEALTH/Switzerland",
          "FINTECH/United States",
          "FINTECH/United States",
          "INTERNET SOFTWARE & SERVICES/United States",
          "SUPPLY CHAIN, LOGISTICS, & DELIVERY/United States",
          "E-COMMERCE & DIRECT-TO-CONSUMER/Mexico",
          "OTHER/Luxembourg",
          "FINTECH/United States",
          "ARTIFICIAL INTELLIGENCE/United Kingdom",
          "AUTO & TRANSPORTATION/United Kingdom",
          "E-COMMERCE & DIRECT-TO-CONSUMER/United Kingdom",
          "FINTECH/United Kingdom",
          "HARDWARE/United Kingdom",
          "INTERNET SOFTWARE & SERVICES/United Kingdom",
          "MOBILE & TELECOMMUNICATIONS/United Kingdom",
          "OTHER/United Kingdom",
          "SUPPLY CHAIN, LOGISTICS, & DELIVERY/United Kingdom",
          "E-COMMERCE & DIRECT-TO-CONSUMER/United States",
          "FINTECH/United States",
          "ARTIFICIAL INTELLIGENCE/United States",
          "CYBERSECURITY/United States",
          "HARDWARE/United States",
          "E-COMMERCE & DIRECT-TO-CONSUMER/United States",
          "FINTECH/United States",
          "INTERNET SOFTWARE & SERVICES/United States",
          "OTHER/United States",
          "DATA MANAGEMENT & ANALYTICS/United States",
          "INTERNET SOFTWARE & SERVICES/Belgium",
          "CONSUMER & RETAIL/China",
          "DATA MANAGEMENT & ANALYTICS/Norway",
          "E-COMMERCE & DIRECT-TO-CONSUMER/United States",
          "AUTO & TRANSPORTATION/Spain",
          "INTERNET SOFTWARE & SERVICES/Spain",
          "FINTECH/India",
          "OTHER/Philippines",
          "E-COMMERCE & DIRECT-TO-CONSUMER/United States",
          "CYBERSECURITY/United States",
          "HEALTH/United States",
          "FINTECH/Australia",
          "ARTIFICIAL INTELLIGENCE/United States",
          "HEALTH/United States",
          "E-COMMERCE & DIRECT-TO-CONSUMER/Mexico",
          "FINTECH/Mexico",
          "CYBERSECURITY/United States",
          "FINTECH/United States",
          "HEALTH/United States",
          "SUPPLY CHAIN, LOGISTICS, & DELIVERY/United States",
          "MOBILE & TELECOMMUNICATIONS/South Africa",
          "FINTECH/Italy",
          "INTERNET SOFTWARE & SERVICES/Canada",
          "KUANG-CHI/Singapore",
          "FINTECH/France",
          "E-COMMERCE & DIRECT-TO-CONSUMER/Canada",
          "TRAVEL/Canada",
          "ARTIFICIAL INTELLIGENCE/United States",
          "AUTO & TRANSPORTATION/United States",
          "CONSUMER & RETAIL/United States",
          "DATA MANAGEMENT & ANALYTICS/United States",
          "FINTECH/United States",
          "HEALTH/United States",
          "INTERNET SOFTWARE & SERVICES/United States",
          "MOBILE & TELECOMMUNICATIONS/United States",
          "DATA MANAGEMENT & ANALYTICS/India",
          "E-COMMERCE & DIRECT-TO-CONSUMER/India",
          "EDTECH/India",
          "FINTECH/India",
          "INTERNET SOFTWARE & SERVICES/India",
          "AUTO & TRANSPORTATION/Germany",
          "DATA MANAGEMENT & ANALYTICS/Germany",
          "FINTECH/Germany",
          "HARDWARE/Germany",
          "INTERNET SOFTWARE & SERVICES/Germany",
          "AUTO & TRANSPORTATION/China",
          "E-COMMERCE & DIRECT-TO-CONSUMER/China",
          "INTERNET SOFTWARE & SERVICES/United States",
          "CYBERSECURITY/Israel",
          "E-COMMERCE & DIRECT-TO-CONSUMER/India",
          "FINTECH/India",
          "ARTIFICIAL INTELLIGENCE/United States",
          "AUTO & TRANSPORTATION/United States",
          "CONSUMER & RETAIL/United States",
          "CYBERSECURITY/United States",
          "DATA MANAGEMENT & ANALYTICS/United States",
          "E-COMMERCE & DIRECT-TO-CONSUMER/United States",
          "EDTECH/United States",
          "FINTECH/United States",
          "HARDWARE/United States",
          "HEALTH/United States",
          "INTERNET SOFTWARE & SERVICES/United States",
          "OTHER/United States",
          "SUPPLY CHAIN, LOGISTICS, & DELIVERY/United States",
          "FINTECH/India",
          "OTHER/United States",
          "DATA MANAGEMENT & ANALYTICS/United States",
          "DATA MANAGEMENT & ANALYTICS/United States",
          "INTERNET SOFTWARE & SERVICES/United States",
          "SUPPLY CHAIN, LOGISTICS, & DELIVERY/Brazil",
          "DATA MANAGEMENT & ANALYTICS/Norway",
          "E-COMMERCE & DIRECT-TO-CONSUMER/Norway",
          "SUPPLY CHAIN, LOGISTICS, & DELIVERY/Canada",
          "ARTIFICIAL INTELLIGENCE/United States",
          "CYBERSECURITY/United States",
          "DATA MANAGEMENT & ANALYTICS/United States",
          "E-COMMERCE & DIRECT-TO-CONSUMER/United States",
          "FINTECH/United States",
          "HARDWARE/United States",
          "INTERNET SOFTWARE & SERVICES/United States",
          "TRAVEL/United States",
          "E-COMMERCE & DIRECT-TO-CONSUMER/Brazil",
          "ARTIFICIAL INTELLIGENCE/France",
          "AUTO & TRANSPORTATION/France",
          "E-COMMERCE & DIRECT-TO-CONSUMER/France",
          "FINTECH/France",
          "HARDWARE/France",
          "HEALTH/France",
          "INTERNET SOFTWARE & SERVICES/France",
          "OTHER/France",
          "E-COMMERCE & DIRECT-TO-CONSUMER/United States",
          "CYBERSECURITY/Israel",
          "FINTECH/United Kingdom",
          "DATA MANAGEMENT & ANALYTICS/United States",
          "E-COMMERCE & DIRECT-TO-CONSUMER/United States",
          "ARTIFICIAL INTELLIGENCE/United States",
          "HARDWARE/United States",
          "EDTECH/United States",
          "CYBERSECURITY/United States",
          "DATA MANAGEMENT & ANALYTICS/United States",
          "SUPPLY CHAIN, LOGISTICS, & DELIVERY/Czech Republic",
          "DATA MANAGEMENT & ANALYTICS/Switzerland",
          "INTERNET SOFTWARE & SERVICES/United States",
          "E-COMMERCE & DIRECT-TO-CONSUMER/India",
          "SUPPLY CHAIN, LOGISTICS, & DELIVERY/India",
          "FINTECH/China",
          "INTERNET SOFTWARE & SERVICES/Israel",
          "INTERNET SOFTWARE & SERVICES/United States",
          "CYBERSECURITY/Israel",
          "ARTIFICIAL INTELLIGENCE/United States",
          "CONSUMER & RETAIL/United States",
          "DATA MANAGEMENT & ANALYTICS/United States",
          "EDTECH/United States",
          "FINTECH/United States",
          "HARDWARE/United States",
          "HEALTH/United States",
          "INTERNET SOFTWARE & SERVICES/United States",
          "MOBILE & TELECOMMUNICATIONS/United States",
          "SUPPLY CHAIN, LOGISTICS, & DELIVERY/United States",
          "INTERNET SOFTWARE & SERVICES/Australia",
          "INTERNET SOFTWARE & SERVICES/United States",
          "OTHER/France",
          "INTERNET SOFTWARE & SERVICES/United States",
          "CYBERSECURITY/United States",
          "OTHER/United States",
          "ARTIFICIAL INTELLIGENCE/United States",
          "CYBERSECURITY/United States",
          "HEALTH/United States",
          "INTERNET SOFTWARE & SERVICES/United States",
          "ARTIFICIAL INTELLIGENCE/United States",
          "CONSUMER & RETAIL/United States",
          "CYBERSECURITY/United States",
          "DATA MANAGEMENT & ANALYTICS/United States",
          "E-COMMERCE & DIRECT-TO-CONSUMER/United States",
          "EDTECH/United States",
          "FINTECH/United States",
          "HARDWARE/United States",
          "HEALTH/United States",
          "INTERNET SOFTWARE & SERVICES/United States",
          "MOBILE & TELECOMMUNICATIONS/United States",
          "OTHER/United States",
          "SUPPLY CHAIN, LOGISTICS, & DELIVERY/United States",
          "ARTIFICIAL INTELLIGENCE/United States",
          "CYBERSECURITY/United States",
          "DATA MANAGEMENT & ANALYTICS/United States",
          "FINTECH/United States",
          "INTERNET SOFTWARE & SERVICES/United States",
          "ARTIFICIAL INTELLIGENCE/United States",
          "CYBERSECURITY/United States",
          "DATA MANAGEMENT & ANALYTICS/United States",
          "FINTECH/United States",
          "HEALTH/United States",
          "INTERNET SOFTWARE & SERVICES/United States",
          "MOBILE & TELECOMMUNICATIONS/United States",
          "INTERNET SOFTWARE & SERVICES/United States",
          "INTERNET SOFTWARE & SERVICES/United States",
          "ARTIFICIAL INTELLIGENCE/United States",
          "CYBERSECURITY/United States",
          "DATA MANAGEMENT & ANALYTICS/United States",
          "INTERNET SOFTWARE & SERVICES/United States",
          "AUTO & TRANSPORTATION/United States",
          "OTHER/United States",
          "ARTIFICIAL INTELLIGENCE/Chile",
          "ARTIFICIAL INTELLIGENCE/Brazil",
          "E-COMMERCE & DIRECT-TO-CONSUMER/Brazil",
          "FINTECH/Brazil",
          "MOBILE & TELECOMMUNICATIONS/Brazil",
          "OTHER/Brazil",
          "SUPPLY CHAIN, LOGISTICS, & DELIVERY/Brazil",
          "CYBERSECURITY/Switzerland",
          "INTERNET SOFTWARE & SERVICES/United States",
          "ARTIFICIAL INTELLIGENCE/United States",
          "DATA MANAGEMENT & ANALYTICS/United States",
          "INTERNET SOFTWARE & SERVICES/United States",
          "SUPPLY CHAIN, LOGISTICS, & DELIVERY/United States",
          "E-COMMERCE & DIRECT-TO-CONSUMER/Malaysia",
          "HEALTH/South Korea",
          "CONSUMER & RETAIL/South Korea",
          "E-COMMERCE & DIRECT-TO-CONSUMER/South Korea",
          "FINTECH/South Korea",
          "MOBILE & TELECOMMUNICATIONS/South Korea",
          "OTHER/South Korea",
          "SUPPLY CHAIN, LOGISTICS, & DELIVERY/South Korea",
          "TRAVEL/South Korea",
          "ARTIFICIAL INTELLIGENCE/China",
          "AUTO & TRANSPORTATION/China",
          "CONSUMER & RETAIL/China",
          "E-COMMERCE & DIRECT-TO-CONSUMER/China",
          "EDTECH/China",
          "HARDWARE/China",
          "HEALTH/China",
          "INTERNET SOFTWARE & SERVICES/China",
          "MOBILE & TELECOMMUNICATIONS/China",
          "OTHER/China",
          "SUPPLY CHAIN, LOGISTICS, & DELIVERY/China",
          "ARTIFICIAL INTELLIGENCE/China",
          "E-COMMERCE & DIRECT-TO-CONSUMER/China",
          "HARDWARE/China",
          "OTHER/China",
          "SUPPLY CHAIN, LOGISTICS, & DELIVERY/China",
          "INTERNET SOFTWARE & SERVICES/United States",
          "E-COMMERCE & DIRECT-TO-CONSUMER/United Kingdom",
          "HARDWARE/United States",
          "INTERNET SOFTWARE & SERVICES/United States",
          "SUPPLY CHAIN, LOGISTICS, & DELIVERY/United States",
          "AUTO & TRANSPORTATION/Sweden",
          "FINTECH/Sweden",
          "HEALTH/Sweden",
          "INTERNET SOFTWARE & SERVICES/Sweden",
          "OTHER/Sweden",
          "TRAVEL/Sweden",
          "CYBERSECURITY/United States",
          "DATA MANAGEMENT & ANALYTICS/United States",
          "INTERNET SOFTWARE & SERVICES/United States",
          "B CAPITAL GROUP, MONK'S HILL VENTURES, DYNAMIC PARCEL DISTRIBUTION/Singapore",
          "INTERNET SOFTWARE & SERVICES/Australia",
          "EDTECH/China",
          "INTERNET SOFTWARE & SERVICES/Australia",
          "FINTECH/Philippines",
          "ARTIFICIAL INTELLIGENCE/Estonia",
          "AUTO & TRANSPORTATION/Estonia",
          "CYBERSECURITY/United States",
          "ARTIFICIAL INTELLIGENCE/Israel",
          "CYBERSECURITY/Israel",
          "DATA MANAGEMENT & ANALYTICS/Israel",
          "EDTECH/Israel",
          "FINTECH/Israel",
          "HARDWARE/Israel",
          "INTERNET SOFTWARE & SERVICES/Israel",
          "MOBILE & TELECOMMUNICATIONS/Israel",
          "SUPPLY CHAIN, LOGISTICS, & DELIVERY/Israel",
          "E-COMMERCE & DIRECT-TO-CONSUMER/India",
          "SUPPLY CHAIN, LOGISTICS, & DELIVERY/China",
          "HEALTH/Israel",
          "ARTIFICIAL INTELLIGENCE/Japan",
          "FINTECH/Japan",
          "MOBILE & TELECOMMUNICATIONS/Japan",
          "OTHER/Japan",
          "ARTIFICIAL INTELLIGENCE/Canada",
          "CYBERSECURITY/Canada",
          "FINTECH/Canada",
          "INTERNET SOFTWARE & SERVICES/Canada",
          "OTHER/Japan",
          "FINTECH/United States",
          "OTHER/Germany",
          "CYBERSECURITY/Canada",
          "FINTECH/Canada",
          "INTERNET SOFTWARE & SERVICES/Canada",
          "OTHER/Canada",
          "EDTECH/Austria",
          "FINTECH/Austria",
          "E-COMMERCE & DIRECT-TO-CONSUMER/Lithuania",
          "MOBILE & TELECOMMUNICATIONS/Croatia",
          "FINTECH/United States",
          "OTHER/United States",
          "HARDWARE/United States",
          "HEALTH/United States",
          "INTERNET SOFTWARE & SERVICES/United States",
          "OTHER/United States",
          "ARTIFICIAL INTELLIGENCE/United States",
          "INTERNET SOFTWARE & SERVICES/United States",
          "CYBERSECURITY/Canada",
          "INTERNET SOFTWARE & SERVICES/Canada",
          "FINTECH/United States",
          "HARDWARE/United States",
          "AUTO & TRANSPORTATION/China",
          "E-COMMERCE & DIRECT-TO-CONSUMER/China",
          "HARDWARE/China",
          "INTERNET SOFTWARE & SERVICES/United States",
          "HARDWARE/China",
          "FINTECH/Switzerland",
          "SUPPLY CHAIN, LOGISTICS, & DELIVERY/Switzerland",
          "FINTECH",
          "E-COMMERCE & DIRECT-TO-CONSUMER",
          "FINTECH",
          "INTERNET SOFTWARE & SERVICES",
          "EDTECH",
          "FINTECH",
          "SEQUOIA CAPITAL, THOMA BRAVO, SOFTBANK",
          "DATA MANAGEMENT & ANALYTICS",
          "FINTECH",
          "INTERNET SOFTWARE & SERVICES",
          "ARTIFICIAL INTELLIGENCE",
          "ARTIFICIAL INTELLIGENCE",
          "E-COMMERCE & DIRECT-TO-CONSUMER",
          "FINTECH",
          "MOBILE & TELECOMMUNICATIONS",
          "OTHER",
          "SUPPLY CHAIN, LOGISTICS, & DELIVERY",
          "ARTIFICIAL INTELLIGENCE",
          "CYBERSECURITY",
          "E-COMMERCE & DIRECT-TO-CONSUMER",
          "EDTECH",
          "FINTECH",
          "INTERNET SOFTWARE & SERVICES",
          "OTHER",
          "SUPPLY CHAIN, LOGISTICS, & DELIVERY",
          "TRAVEL",
          "ARTIFICIAL INTELLIGENCE",
          "ARTIFICIAL INTELLIGENCE",
          "AUTO & TRANSPORTATION",
          "CONSUMER & RETAIL",
          "CYBERSECURITY",
          "DATA MANAGEMENT & ANALYTICS",
          "E-COMMERCE & DIRECT-TO-CONSUMER",
          "EDTECH",
          "FINTECH",
          "HARDWARE",
          "HEALTH",
          "INTERNET SOFTWARE & SERVICES",
          "MOBILE & TELECOMMUNICATIONS",
          "OTHER",
          "SUPPLY CHAIN, LOGISTICS, & DELIVERY",
          "TRAVEL",
          "OTHER",
          "SUPPLY CHAIN, LOGISTICS, & DELIVERY",
          "MOBILE & TELECOMMUNICATIONS",
          "SUPPLY CHAIN, LOGISTICS, & DELIVERY",
          "FINTECH",
          "ARTIFICIAL INTELLIGENCE",
          "AUTO & TRANSPORTATION",
          "INTERNET SOFTWARE & SERVICES",
          "MOBILE & TELECOMMUNICATIONS",
          "SUPPLY CHAIN, LOGISTICS, & DELIVERY",
          "ARTIFICIAL INTELLIGENCE",
          "AUTO & TRANSPORTATION",
          "E-COMMERCE & DIRECT-TO-CONSUMER",
          "FINTECH",
          "HARDWARE",
          "HEALTH",
          "INTERNET SOFTWARE & SERVICES",
          "OTHER",
          "AUTO & TRANSPORTATION",
          "CONSUMER & RETAIL",
          "DATA MANAGEMENT & ANALYTICS",
          "E-COMMERCE & DIRECT-TO-CONSUMER",
          "FINTECH",
          "HARDWARE",
          "HEALTH",
          "INTERNET SOFTWARE & SERVICES",
          "OTHER",
          "SUPPLY CHAIN, LOGISTICS, & DELIVERY",
          "TRAVEL",
          "ANDREESSEN HOROWITZ, DST GLOBAL, IDG CAPITAL",
          "CONSUMER & RETAIL",
          "SEQUOIA CAPITAL CHINA, ING, ALIBABA ENTREPRENEURS FUND",
          "SUPPLY CHAIN, LOGISTICS, & DELIVERY",
          "TIGER GLOBAL MANAGEMENT, TIGER BROKERS, DCM VENTURES",
          "TRAVEL",
          "AUTO & TRANSPORTATION",
          "DATA MANAGEMENT & ANALYTICS",
          "E-COMMERCE & DIRECT-TO-CONSUMER",
          "EDTECH",
          "FINTECH",
          "HEALTH",
          "INTERNET SOFTWARE & SERVICES",
          "MOBILE & TELECOMMUNICATIONS",
          "OTHER",
          "SUPPLY CHAIN, LOGISTICS, & DELIVERY",
          "TRAVEL",
          "CONSUMER & RETAIL",
          "E-COMMERCE & DIRECT-TO-CONSUMER",
          "FINTECH",
          "SUPPLY CHAIN, LOGISTICS, & DELIVERY",
          "TRAVEL",
          "FINTECH",
          "HEALTH",
          "INTERNET SOFTWARE & SERVICES",
          "ARTIFICIAL INTELLIGENCE",
          "CYBERSECURITY",
          "DATA MANAGEMENT & ANALYTICS",
          "EDTECH",
          "FINTECH",
          "HARDWARE",
          "HEALTH",
          "INTERNET SOFTWARE & SERVICES",
          "MOBILE & TELECOMMUNICATIONS",
          "OTHER",
          "SUPPLY CHAIN, LOGISTICS, & DELIVERY",
          "FINTECH",
          "ARTIFICIAL INTELLIGENCE",
          "FINTECH",
          "MOBILE & TELECOMMUNICATIONS",
          "OTHER",
          "E-COMMERCE & DIRECT-TO-CONSUMER",
          "OTHER",
          "E-COMMERCE & DIRECT-TO-CONSUMER",
          "E-COMMERCE & DIRECT-TO-CONSUMER",
          "FINTECH",
          "E-COMMERCE & DIRECT-TO-CONSUMER",
          "FINTECH",
          "HARDWARE",
          "MOBILE & TELECOMMUNICATIONS",
          "FINTECH",
          "DATA MANAGEMENT & ANALYTICS",
          "E-COMMERCE & DIRECT-TO-CONSUMER",
          "FINTECH",
          "OTHER",
          "FINTECH",
          "500 GLOBAL, RAKUTEN VENTURES, GOLDEN GATE VENTURES",
          "B CAPITAL GROUP, MONK'S HILL VENTURES, DYNAMIC PARCEL DISTRIBUTION",
          "DRAGONFLY CAPTIAL, QIMING VENTURE PARTNERS, DST GLOBAL",
          "HOPU INVESTMENT MANAGEMENT, BOYU CAPITAL, DC THOMSON VENTURES",
          "JUNGLE VENTURES, ACCEL, VENTURE HIGHWAY",
          "KUANG-CHI",
          "MUNDI VENTURES, DOQLING CAPITAL PARTNERS, ACTIVANT CAPITAL",
          "SEQUOIA CAPITAL CHINA, SHUNWEI CAPITAL PARTNERS, QUALGRO",
          "SINGTEL INNOV8, ALPHA JWC VENTURES, GOLDEN GATE VENTURES",
          "TEMASEK, GUGGENHEIM INVESTMENTS, QATAR INVESTMENT AUTHORITY",
          "VERTEX VENTURES SE ASIA, GLOBAL FOUNDERS CAPITAL, VISA VENTURES",
          "VISION PLUS CAPITAL, GSR VENTURES, ZHENFUND",
          "CONSUMER & RETAIL",
          "MOBILE & TELECOMMUNICATIONS",
          "AUTO & TRANSPORTATION",
          "CONSUMER & RETAIL",
          "E-COMMERCE & DIRECT-TO-CONSUMER",
          "FINTECH",
          "HEALTH",
          "MOBILE & TELECOMMUNICATIONS",
          "OTHER",
          "SUPPLY CHAIN, LOGISTICS, & DELIVERY",
          "TRAVEL",
          "AUTO & TRANSPORTATION",
          "INTERNET SOFTWARE & SERVICES",
          "TRAVEL",
          "AUTO & TRANSPORTATION",
          "FINTECH",
          "HEALTH",
          "INTERNET SOFTWARE & SERVICES",
          "OTHER",
          "TRAVEL",
          "CYBERSECURITY",
          "DATA MANAGEMENT & ANALYTICS",
          "FINTECH",
          "HEALTH",
          "SUPPLY CHAIN, LOGISTICS, & DELIVERY",
          "FINTECH",
          "SUPPLY CHAIN, LOGISTICS, & DELIVERY",
          "E-COMMERCE & DIRECT-TO-CONSUMER",
          "INTERNET SOFTWARE & SERVICES",
          "MOBILE & TELECOMMUNICATIONS",
          "OTHER",
          "SUPPLY CHAIN, LOGISTICS, & DELIVERY",
          "ARTIFICIAL INTELLIGENCE",
          "AUTO & TRANSPORTATION",
          "CONSUMER & RETAIL",
          "DATA MANAGEMENT & ANALYTICS",
          "E-COMMERCE & DIRECT-TO-CONSUMER",
          "FINTECH",
          "HARDWARE",
          "HEALTH",
          "INTERNET SOFTWARE & SERVICES",
          "MOBILE & TELECOMMUNICATIONS",
          "OTHER",
          "SUPPLY CHAIN, LOGISTICS, & DELIVERY",
          "ARTIFICIAL INTELLIGENCE",
          "AUTO & TRANSPORTATION",
          "CONSUMER & RETAIL",
          "CYBERSECURITY",
          "DATA MANAGEMENT & ANALYTICS",
          "E-COMMERCE & DIRECT-TO-CONSUMER",
          "EDTECH",
          "FINTECH",
          "HARDWARE",
          "HEALTH",
          "INTERNET SOFTWARE & SERVICES",
          "MOBILE & TELECOMMUNICATIONS",
          "OTHER",
          "SUPPLY CHAIN, LOGISTICS, & DELIVERY",
          "TRAVEL",
          "FINTECH",
          "INTERNET SOFTWARE & SERVICES",
          "",
          "",
          "",
          "",
          "",
          "",
          "",
          "",
          "",
          "",
          "",
          "",
          "",
          "",
          "",
          "",
          "",
          "",
          "",
          "",
          "",
          "",
          "",
          "",
          "",
          "",
          "",
          "",
          "",
          "",
          ""
         ],
         "root": {
          "color": "#cccccc"
         },
         "type": "treemap",
         "values": [
          1.5,
          1,
          6.8,
          2,
          1.08,
          1,
          5.2,
          2.4,
          1.78,
          1.6,
          2.19,
          1.1,
          2.5,
          3,
          1.2,
          2.17,
          2,
          1.6,
          3,
          1.2,
          1,
          1.2,
          1.5,
          1,
          11.7,
          5.5,
          2,
          1,
          2,
          1.68,
          1.2,
          10.2,
          1.9,
          1.45,
          2.25,
          1.35,
          1,
          1.31,
          3,
          1,
          1,
          3,
          1.5,
          4.6,
          2.26,
          1,
          2,
          1.1,
          3.6,
          3,
          2,
          1.04,
          1.73,
          1,
          4.3,
          7.25,
          1.05,
          3.75,
          1.5,
          1,
          1,
          1.4,
          1.35,
          1.5,
          1.32,
          5.99,
          1,
          2.5,
          4,
          6.8,
          1.8,
          2,
          2,
          1.4,
          1,
          1,
          1.2,
          1,
          3,
          21,
          2.5,
          5.7,
          1.55,
          1,
          1,
          2,
          6.1,
          1,
          1,
          6,
          4.7,
          1,
          1.3,
          1.1,
          2.85,
          1.25,
          1.2,
          12,
          2.32,
          1,
          4.11,
          2.4,
          12,
          2.2,
          2,
          2,
          6.1,
          1,
          1.01,
          3.25,
          3,
          5.2,
          3.2,
          2.2,
          1,
          1,
          11,
          8.4,
          1,
          1.48,
          2.35,
          2.3,
          4,
          1.24,
          12.3,
          1,
          4,
          1.5,
          2,
          140,
          1,
          5.05,
          1,
          1.85,
          1,
          3,
          4.01,
          1.4,
          1,
          3,
          2,
          1.5,
          1,
          40,
          1.6,
          1,
          1.25,
          1.2,
          2.4,
          3,
          1,
          7.83,
          1.1,
          1,
          3.3,
          1.7,
          1,
          7.4,
          1.52,
          2.5,
          1.3,
          3.2,
          1,
          11,
          3.5,
          4.8,
          4,
          2.41,
          4.2,
          1.5,
          3.5,
          40,
          4.6,
          9,
          25,
          1,
          4.73,
          2,
          1,
          1,
          3,
          1.7,
          5.7,
          1,
          2.6,
          1,
          2,
          1,
          2,
          4,
          1.6,
          2,
          1.15,
          2.15,
          2,
          3.32,
          4,
          3.5,
          5,
          1.4,
          1.5,
          3.7,
          1.1,
          1.5,
          1.9,
          1.3,
          1.5,
          5.25,
          4.6,
          3.5,
          3.2,
          2.8,
          3,
          1,
          2.75,
          1.45,
          1.2,
          3.6,
          4.8,
          1.5,
          1.5,
          2.2,
          2.44,
          15,
          1.5,
          3.24,
          1.1,
          3.1,
          1.2,
          7.6,
          1,
          6.3,
          38,
          4.6,
          4.1,
          1.7,
          5.5,
          1.35,
          1.4,
          1.4,
          3,
          1.4,
          2,
          1.05,
          1,
          1.5,
          12.6,
          2.2,
          1.8,
          1,
          3.5,
          10,
          7,
          1.7,
          1.3,
          2,
          1.14,
          1.3,
          1.7,
          1,
          2.75,
          8,
          2,
          1,
          2.85,
          2,
          1,
          1,
          3.75,
          1,
          1,
          3.31,
          1.85,
          1.23,
          2,
          5.78,
          1.1,
          1,
          2.1,
          1.44,
          1.5,
          1.15,
          1,
          1.24,
          1.1,
          1.4,
          42,
          1.4,
          1.35,
          3.2,
          1,
          2.7,
          2,
          1.3,
          1,
          2.4,
          2,
          1,
          1.6,
          32,
          1,
          1.5,
          1,
          1.2,
          12.4,
          3.75,
          27,
          4,
          1,
          1.95,
          1,
          1,
          10,
          1.4,
          8,
          1.4,
          1.1,
          2.1,
          1,
          1.4,
          5.6,
          1,
          1,
          8,
          2.85,
          1.32,
          1.25,
          3,
          1.2,
          1.3,
          3.5,
          3,
          2,
          1,
          3,
          1.2,
          1,
          1,
          1.8,
          1.1,
          1.1,
          2.2,
          1,
          3.7,
          1.32,
          1.22,
          1.1,
          1,
          1,
          1.2,
          7.1,
          1.1,
          7.5,
          1.5,
          11.1,
          1.1,
          1,
          4.2,
          1.2,
          2.1,
          3.5,
          7.25,
          12,
          3.1,
          1.7,
          3,
          13,
          2.77,
          2.3,
          4,
          1,
          1.32,
          3,
          1.2,
          1.15,
          3.75,
          2,
          1.4,
          10,
          2.2,
          1.45,
          1.7,
          1,
          9.28,
          1,
          1,
          3.5,
          1,
          1.15,
          1.7,
          1.7,
          1,
          1.3,
          1.2,
          5,
          2.18,
          1,
          1.65,
          3.1,
          3.5,
          6.2,
          2,
          1.4,
          1.6,
          1.1,
          1.25,
          7.75,
          5,
          5,
          1,
          1,
          4,
          5,
          3.95,
          1,
          2.19,
          2,
          1,
          1.28,
          1,
          3.5,
          1,
          1.5,
          1.17,
          2,
          1,
          5,
          1.5,
          2.75,
          1.55,
          1.5,
          4,
          2,
          1,
          1,
          1.3,
          1.9,
          1.2,
          1.25,
          3.5,
          1.6,
          1,
          2.5,
          1,
          3.2,
          1.22,
          1.05,
          39,
          3.8,
          1,
          1.28,
          1,
          3,
          1,
          3.2,
          2,
          1.1,
          20,
          1.5,
          12,
          1,
          1.05,
          2.35,
          1.2,
          1,
          1.1,
          1.45,
          2.62,
          1.62,
          1.43,
          1.5,
          3,
          2,
          2,
          1.1,
          2,
          8.7,
          1,
          2,
          2.3,
          1,
          1,
          45.6,
          9.2,
          1.35,
          1,
          3.3,
          1.3,
          1.4,
          1,
          1.4,
          2.92,
          1,
          1.25,
          2,
          3.3,
          1.19,
          1.1,
          2,
          8.3,
          10,
          1,
          3,
          3,
          1.01,
          1.5,
          2.5,
          1,
          1,
          5.77,
          1,
          1.15,
          1.8,
          1,
          1,
          1,
          1.2,
          1.3,
          1,
          2.9,
          2,
          1,
          1.53,
          3,
          1.3,
          1,
          1.18,
          1.5,
          1,
          5.85,
          1.45,
          4,
          1.5,
          2,
          2.2,
          1.9,
          1,
          2,
          2,
          1,
          1.07,
          5.5,
          1,
          1.3,
          2.6,
          1.25,
          2.75,
          1,
          1.5,
          1.05,
          1,
          2.1,
          1,
          3.92,
          1,
          4.9,
          2.8,
          4.58,
          4,
          1,
          1.2,
          1.6,
          3.8,
          1,
          4.25,
          1,
          1.2,
          1.19,
          1,
          3.5,
          17.5,
          2,
          1.05,
          2.27,
          1,
          2.45,
          1,
          1,
          1.17,
          2,
          1,
          1.5,
          2.6,
          1,
          6.5,
          1,
          4.5,
          5,
          3.4,
          1,
          1.33,
          2.1,
          1,
          1.5,
          1,
          1.2,
          2,
          1.25,
          9.23,
          1,
          6.5,
          1,
          2.15,
          1.38,
          2,
          7.5,
          1,
          1,
          1,
          1.23,
          4,
          1.5,
          1.1,
          2.7,
          9,
          1,
          1,
          1,
          3.7,
          9.08,
          1.5,
          10,
          2.2,
          1,
          8.6,
          3.1,
          1.08,
          2,
          1,
          1.1,
          1.28,
          9.6,
          5,
          1.2,
          2.3,
          5,
          1.2,
          7.5,
          5,
          1.5,
          4,
          1,
          1,
          5.1,
          2,
          2.92,
          13.3,
          1,
          1.8,
          1.03,
          1,
          1,
          1.8,
          1,
          3.52,
          9.5,
          4.4,
          3,
          1.45,
          2.9,
          1,
          3.35,
          1.7,
          1,
          1,
          1.5,
          2,
          1,
          1,
          1.4,
          1.4,
          3.7,
          1.5,
          1,
          1,
          4,
          2.25,
          2.4,
          2.1,
          1,
          2.6,
          1,
          1.1,
          1.5,
          6.3,
          1,
          1.2,
          1.1,
          1.4,
          1,
          1.2,
          6,
          1.2,
          2,
          1,
          13.4,
          1,
          4.7,
          2.6,
          3,
          4,
          1,
          2.4,
          5.3,
          5.6,
          2,
          1.2,
          1,
          1.4,
          1.7,
          2.62,
          1.59,
          3.15,
          1.2,
          1.1,
          5,
          1,
          1,
          5.1,
          1,
          1.2,
          2,
          1,
          5.7,
          1.33,
          4,
          1.07,
          8,
          5.25,
          8.75,
          1,
          7.5,
          2.1,
          1.4,
          1.15,
          3.5,
          1,
          2,
          3.7,
          2.2,
          3.6,
          4.2,
          1,
          1.7,
          1,
          1.85,
          33,
          1,
          1.1,
          15,
          6.5,
          1.07,
          7,
          1.2,
          1.95,
          1,
          1.25,
          6,
          1.07,
          4,
          15,
          1,
          1,
          4.15,
          1.13,
          1.16,
          2,
          1.6,
          1.4,
          1,
          5,
          1.2,
          1.4,
          1,
          7.3,
          1,
          3.3,
          1.2,
          3,
          1,
          1.05,
          1.1,
          1,
          9.5,
          3.7,
          1,
          1,
          1,
          1,
          2.5,
          1,
          1,
          1.34,
          3.3,
          1.1,
          3.2,
          3,
          2.3,
          1,
          1,
          1,
          1.6,
          1.2,
          2,
          1.5,
          1,
          1,
          1.5,
          1,
          8.6,
          1,
          4.5,
          1,
          1.5,
          2.5,
          1.42,
          4.3,
          3,
          2.1,
          2.62,
          100.3,
          1.4,
          1.5,
          1.22,
          1.75,
          1,
          3.15,
          1.7,
          2,
          1,
          2.41,
          3.35,
          2,
          1.95,
          1.29,
          1.4,
          3.8,
          1.5,
          1.5,
          95,
          1,
          1,
          1.1,
          10.7,
          1,
          1.4,
          2.5,
          1.12,
          1,
          1.3,
          1.25,
          10,
          1.3,
          1.1,
          9,
          1.5,
          1.2,
          1,
          3.5,
          1.5,
          8.1,
          1,
          1,
          1.1,
          1,
          1,
          1,
          4.2,
          10,
          3.2,
          2,
          1,
          8.3,
          1.6,
          1.32,
          7.4,
          1,
          5.3,
          1.63,
          2.7,
          3,
          1.62,
          2.74,
          1.3,
          3,
          1.3,
          2,
          1,
          1,
          7.25,
          1.4,
          1,
          1.6,
          1.75,
          2.4,
          1.5,
          2,
          1.16,
          1.1,
          4.58,
          1.08,
          2.45,
          3.1,
          3.44,
          1,
          2.5,
          1.31,
          1.7,
          5,
          2,
          1.2,
          6.28,
          1.5,
          3.4,
          2.3,
          2.1,
          3.7,
          4.5,
          1,
          1,
          1,
          2.5,
          1.2,
          1,
          1.38,
          1,
          1.5,
          1.15,
          2,
          2.5,
          1.5,
          1.6,
          1.7,
          3.3,
          5.7,
          1.4,
          4.53,
          2,
          1,
          1,
          2.5,
          2.31,
          1,
          4,
          2.34,
          5,
          1.27,
          1,
          1,
          1.7,
          1.6,
          7,
          1,
          1,
          4.4,
          2.1,
          4.1,
          10.88,
          1.55,
          1.5,
          3.6,
          3,
          6,
          1,
          5.7,
          1.2,
          2.9,
          1,
          1,
          1,
          1.5,
          1,
          20,
          1.52,
          2,
          8,
          2,
          1.2,
          2,
          1,
          2.17,
          1,
          1.35,
          4,
          1.4,
          1.2,
          1.5,
          1.17,
          1.49,
          1,
          3,
          1,
          1.4,
          1.3,
          3.35,
          15.5,
          15,
          1.3,
          1.5,
          1,
          5,
          4,
          1.1,
          1.7,
          1.5,
          1.45,
          2.5,
          1,
          1,
          1.61,
          1,
          2,
          2.8,
          6.6,
          1.8,
          11.4,
          1,
          2.25,
          3,
          1,
          1.1,
          1,
          1.5,
          4.2,
          1.9,
          1.1,
          1.6,
          15,
          6,
          1,
          1,
          1.3,
          1,
          2.7,
          10,
          1.65,
          1.65,
          1,
          1.24,
          3.3,
          1,
          1.5,
          1.4,
          1,
          14,
          1,
          3.8,
          1.1,
          1,
          1.3,
          2,
          2.3,
          3.5,
          9.9,
          1.07,
          1.13,
          1.4,
          1,
          1,
          2.3,
          1.7,
          2.9,
          1.9,
          1.5,
          1,
          1.3,
          156.7,
          23.28,
          1.62,
          34.07,
          29.33,
          4.83,
          18.73,
          2.05,
          6.33,
          15.45,
          4.28,
          5,
          5,
          1.5,
          4.2,
          1,
          3.75,
          12.5,
          3.9,
          25.44,
          20.11,
          1.5,
          19.75,
          1,
          1,
          14.799999999999999,
          1,
          1.3,
          1,
          1,
          7.95,
          17.83,
          4.1,
          1,
          2.3,
          4.1,
          1.9,
          1,
          1.15,
          5.25,
          1.25,
          9.8,
          13.44,
          3.35,
          3.6,
          4.85,
          6,
          22.9,
          1.29,
          1.6,
          1.5,
          1.5,
          1,
          1,
          2.77,
          1.28,
          5.7,
          5.7,
          5.25,
          1.59,
          2.45,
          10.45,
          2.5,
          1.6,
          3,
          1.5,
          2.4299999999999997,
          1,
          1.5,
          1.2,
          5.1,
          4,
          3.7,
          42,
          1.1,
          1.35,
          8,
          1,
          3.5700000000000003,
          1,
          1,
          2.85,
          4.92,
          2,
          1.45,
          1.4,
          10,
          4.3,
          1.2,
          1,
          3.45,
          8.1,
          9.7,
          1,
          3.62,
          1,
          1.61,
          1.5,
          2.19,
          1,
          4,
          4.7,
          1.07,
          2,
          3.7,
          1,
          3.3,
          1.5,
          1,
          1.7,
          2.7,
          2,
          2,
          2.2,
          3.12,
          3.75,
          3.8,
          3,
          1.5,
          3.5,
          1,
          1.6,
          1,
          6.45,
          1,
          3.52,
          1,
          1.1,
          2.6,
          1,
          4.3,
          2.2,
          1,
          4,
          2.4,
          1.3,
          1,
          3.35,
          1,
          1,
          2.5,
          32,
          1,
          3,
          1.05,
          1,
          1,
          1,
          2.4,
          1.31,
          5.3,
          4.1,
          1.4,
          2,
          3,
          9.5,
          2,
          4.62,
          4.4,
          1.35,
          1.27,
          1,
          11.47,
          2.4,
          5.08,
          1.75,
          1,
          1.4,
          9.6,
          1.6,
          2.6100000000000003,
          1.32,
          1.5,
          5.5,
          3.41,
          1,
          8,
          2,
          1,
          1.7,
          101.64999999999999,
          1.6,
          1.49,
          2,
          5.7,
          1,
          1.5,
          2.27,
          3,
          3.5,
          5.99,
          3.1,
          2.5,
          1.55,
          1,
          4.2,
          1,
          1,
          4.6,
          2,
          7.83,
          1.1,
          7.5,
          1.22,
          2.75,
          27,
          1.2,
          1,
          2,
          4.9,
          20,
          3,
          1,
          3,
          2.83,
          1.52,
          9,
          3,
          2,
          1.38,
          2,
          1,
          1,
          1.9,
          5.25,
          1.25,
          8.7,
          2,
          1,
          2,
          1.5,
          1.33,
          126.4,
          11.1,
          7.75,
          1.4,
          7,
          1.7,
          1,
          1.3,
          1,
          1,
          4,
          3.2,
          9.35,
          1.4,
          6.1,
          2.62,
          2.3,
          10.88,
          1.5,
          1,
          1.4,
          2.35,
          1.1,
          1,
          1.5,
          1.5,
          2.5,
          5.5,
          1,
          1,
          1.2,
          6.5,
          2,
          5.4,
          1.4,
          1,
          1,
          1,
          4,
          3.5,
          1,
          4.15,
          5,
          8.2,
          8.6,
          2.25,
          2,
          3.52,
          1.5,
          10.1,
          1.1,
          1,
          1.2,
          4.4,
          9.9,
          8,
          3,
          11,
          1.4,
          1,
          6.3,
          2.5,
          1,
          1.5,
          2,
          2.1,
          2.85,
          10.7,
          3.3,
          3.9,
          14.05,
          10.8,
          18.5,
          3.75,
          87.35,
          1.8,
          27.12,
          32.48,
          3.5999999999999996,
          2.3,
          6,
          1.63,
          1.5,
          5.6,
          5,
          1,
          1,
          2.2,
          1,
          10.75,
          2.4,
          10,
          4,
          4,
          3.15,
          7.12,
          7.25,
          1,
          2,
          2,
          20.06,
          9.18,
          1.5,
          2.1399999999999997,
          4.199999999999999,
          2.31,
          2,
          1,
          3,
          4.2,
          15,
          7.25,
          2,
          1.4,
          1.8,
          2,
          1.2,
          1.1,
          1.2,
          3.5,
          2.7,
          1.12,
          1,
          2.6,
          1,
          1.5,
          4,
          1.7,
          3.6,
          1.1,
          2.4,
          1.3,
          1.2,
          4,
          1,
          1.5,
          12,
          1.1,
          3.2,
          1.15,
          4,
          1,
          1,
          12,
          8.2,
          33.52,
          17.8,
          13.6,
          39.05,
          8.42,
          6.75,
          261.85,
          1.05,
          28.44,
          186.7,
          17.4,
          2.8,
          52.3,
          8,
          8.3,
          4.85,
          1.34,
          1,
          1,
          1.6,
          2.15,
          13.200000000000001,
          1,
          2,
          1.05,
          3.5,
          1.5,
          2.1,
          7.5,
          2,
          6.1,
          1.2,
          2.3,
          2.5,
          1,
          6,
          13.379999999999999,
          1,
          3,
          3,
          2.5,
          5.2,
          1,
          1.2,
          12.5,
          2.75,
          1.7,
          1.04,
          1.19,
          5.87,
          8.4,
          4,
          1.32,
          3.3,
          1,
          7.7,
          35.97,
          3,
          25.4,
          3.5,
          6.21,
          5,
          4.55,
          5.71,
          1.3,
          5.95,
          5.2,
          20,
          29.03,
          12.52,
          2.4,
          1.25,
          1.45,
          2,
          3,
          2.8,
          1.44,
          45.6,
          2,
          1.4,
          9.08,
          1,
          2.75,
          6.9,
          10.8,
          1,
          40,
          1,
          1.6,
          2,
          1.5,
          8.4,
          1,
          1,
          11.24,
          1.4,
          1,
          2,
          1.5,
          1.65,
          5,
          1,
          2.5,
          1,
          1.3,
          2,
          2.6,
          2,
          1,
          2.2,
          6.8,
          3,
          1.4,
          1.22,
          1.15,
          2.2,
          1.75,
          10.8,
          1,
          1.23,
          3.5,
          4.11,
          4.53,
          1,
          3.5,
          10,
          1.6,
          12.6,
          1,
          1.3,
          1.15,
          1,
          1.1,
          1,
          3,
          1,
          3.31,
          1.1,
          1,
          1.5,
          4.58,
          1,
          1,
          2.45,
          1,
          5.5,
          44.1,
          3.5,
          4.11,
          32,
          5.25,
          1.4,
          2.3,
          1.6,
          1,
          13.6,
          14.379999999999999,
          1,
          3,
          4,
          2.2,
          9.65,
          4.15,
          3,
          13.8,
          9,
          1.23,
          1,
          5,
          2.5,
          174.22,
          52.36,
          38.160000000000004,
          1.32,
          3.12,
          101.08,
          33.83,
          10.36,
          60.55,
          21.32,
          17.76,
          22.16,
          16.37,
          15.08,
          5,
          1.15,
          5.25,
          1,
          1.2,
          5.7,
          1.5,
          8.4,
          2,
          1,
          5.7,
          2,
          2,
          21.44,
          10.18,
          3.5,
          2.1399999999999997,
          4.199999999999999,
          4.41,
          3,
          1,
          11,
          7.95,
          19.23,
          1,
          3.52,
          10.4,
          3.2,
          2.3,
          4.1,
          1,
          2,
          1,
          10,
          3,
          1.35,
          12.5,
          1,
          30.12,
          30.94,
          45.26,
          2.9,
          28.75,
          1,
          2.4,
          22.58,
          9.6,
          1,
          2,
          4.9,
          20,
          3,
          1.6,
          1,
          6.45,
          3.83,
          15.24,
          1.4,
          1,
          4,
          1.5,
          1.3,
          2.65,
          5,
          1.5,
          1,
          1,
          2,
          2.6,
          2,
          2.2199999999999998,
          4.53,
          2,
          1.7,
          9.899999999999999,
          6.5,
          1,
          14,
          1,
          3.8,
          2,
          2.5,
          2.2,
          2,
          1,
          1.7,
          1.1,
          1,
          1.05,
          1.3,
          2.6,
          3.5,
          1,
          1,
          1,
          1,
          1,
          2,
          1.59,
          1,
          1,
          1.19,
          5.87,
          8.4,
          1.04,
          4,
          1.32,
          3.3,
          1,
          1.4,
          2.35,
          1.3,
          1.44,
          45.6,
          2,
          1.4,
          9.08,
          1,
          2.5,
          1.1,
          1,
          1,
          1,
          1.5,
          1,
          7.5,
          1.22,
          2.75,
          3.5,
          1,
          4.77,
          1.5,
          1.24,
          1.5,
          2.7800000000000002,
          130.47,
          11.1,
          3,
          7.75,
          1.4,
          10.47,
          1.7,
          122.27,
          13.1,
          28.95,
          93.99,
          108.97,
          108.57000000000001,
          18.5,
          432.91,
          22.5,
          143.3,
          412.8,
          35.63,
          202.35,
          78.65,
          7.25,
          2.27,
          3,
          1.1,
          1,
          317.89,
          96.7,
          1,
          75.13,
          122.7,
          135.84,
          1.05,
          325.39,
          90.77,
          794.82,
          101.15,
          182.52,
          1.3,
          556.13,
          2.6,
          3.5,
          81.74,
          1,
          265.2,
          1,
          1,
          32,
          1,
          174.76,
          1,
          3,
          38.6,
          1,
          2
         ]
        }
       ],
       "layout": {
        "legend": {
         "tracegroupgap": 0
        },
        "template": {
         "data": {
          "bar": [
           {
            "error_x": {
             "color": "#2a3f5f"
            },
            "error_y": {
             "color": "#2a3f5f"
            },
            "marker": {
             "line": {
              "color": "#E5ECF6",
              "width": 0.5
             },
             "pattern": {
              "fillmode": "overlay",
              "size": 10,
              "solidity": 0.2
             }
            },
            "type": "bar"
           }
          ],
          "barpolar": [
           {
            "marker": {
             "line": {
              "color": "#E5ECF6",
              "width": 0.5
             },
             "pattern": {
              "fillmode": "overlay",
              "size": 10,
              "solidity": 0.2
             }
            },
            "type": "barpolar"
           }
          ],
          "carpet": [
           {
            "aaxis": {
             "endlinecolor": "#2a3f5f",
             "gridcolor": "white",
             "linecolor": "white",
             "minorgridcolor": "white",
             "startlinecolor": "#2a3f5f"
            },
            "baxis": {
             "endlinecolor": "#2a3f5f",
             "gridcolor": "white",
             "linecolor": "white",
             "minorgridcolor": "white",
             "startlinecolor": "#2a3f5f"
            },
            "type": "carpet"
           }
          ],
          "choropleth": [
           {
            "colorbar": {
             "outlinewidth": 0,
             "ticks": ""
            },
            "type": "choropleth"
           }
          ],
          "contour": [
           {
            "colorbar": {
             "outlinewidth": 0,
             "ticks": ""
            },
            "colorscale": [
             [
              0,
              "#0d0887"
             ],
             [
              0.1111111111111111,
              "#46039f"
             ],
             [
              0.2222222222222222,
              "#7201a8"
             ],
             [
              0.3333333333333333,
              "#9c179e"
             ],
             [
              0.4444444444444444,
              "#bd3786"
             ],
             [
              0.5555555555555556,
              "#d8576b"
             ],
             [
              0.6666666666666666,
              "#ed7953"
             ],
             [
              0.7777777777777778,
              "#fb9f3a"
             ],
             [
              0.8888888888888888,
              "#fdca26"
             ],
             [
              1,
              "#f0f921"
             ]
            ],
            "type": "contour"
           }
          ],
          "contourcarpet": [
           {
            "colorbar": {
             "outlinewidth": 0,
             "ticks": ""
            },
            "type": "contourcarpet"
           }
          ],
          "heatmap": [
           {
            "colorbar": {
             "outlinewidth": 0,
             "ticks": ""
            },
            "colorscale": [
             [
              0,
              "#0d0887"
             ],
             [
              0.1111111111111111,
              "#46039f"
             ],
             [
              0.2222222222222222,
              "#7201a8"
             ],
             [
              0.3333333333333333,
              "#9c179e"
             ],
             [
              0.4444444444444444,
              "#bd3786"
             ],
             [
              0.5555555555555556,
              "#d8576b"
             ],
             [
              0.6666666666666666,
              "#ed7953"
             ],
             [
              0.7777777777777778,
              "#fb9f3a"
             ],
             [
              0.8888888888888888,
              "#fdca26"
             ],
             [
              1,
              "#f0f921"
             ]
            ],
            "type": "heatmap"
           }
          ],
          "heatmapgl": [
           {
            "colorbar": {
             "outlinewidth": 0,
             "ticks": ""
            },
            "colorscale": [
             [
              0,
              "#0d0887"
             ],
             [
              0.1111111111111111,
              "#46039f"
             ],
             [
              0.2222222222222222,
              "#7201a8"
             ],
             [
              0.3333333333333333,
              "#9c179e"
             ],
             [
              0.4444444444444444,
              "#bd3786"
             ],
             [
              0.5555555555555556,
              "#d8576b"
             ],
             [
              0.6666666666666666,
              "#ed7953"
             ],
             [
              0.7777777777777778,
              "#fb9f3a"
             ],
             [
              0.8888888888888888,
              "#fdca26"
             ],
             [
              1,
              "#f0f921"
             ]
            ],
            "type": "heatmapgl"
           }
          ],
          "histogram": [
           {
            "marker": {
             "pattern": {
              "fillmode": "overlay",
              "size": 10,
              "solidity": 0.2
             }
            },
            "type": "histogram"
           }
          ],
          "histogram2d": [
           {
            "colorbar": {
             "outlinewidth": 0,
             "ticks": ""
            },
            "colorscale": [
             [
              0,
              "#0d0887"
             ],
             [
              0.1111111111111111,
              "#46039f"
             ],
             [
              0.2222222222222222,
              "#7201a8"
             ],
             [
              0.3333333333333333,
              "#9c179e"
             ],
             [
              0.4444444444444444,
              "#bd3786"
             ],
             [
              0.5555555555555556,
              "#d8576b"
             ],
             [
              0.6666666666666666,
              "#ed7953"
             ],
             [
              0.7777777777777778,
              "#fb9f3a"
             ],
             [
              0.8888888888888888,
              "#fdca26"
             ],
             [
              1,
              "#f0f921"
             ]
            ],
            "type": "histogram2d"
           }
          ],
          "histogram2dcontour": [
           {
            "colorbar": {
             "outlinewidth": 0,
             "ticks": ""
            },
            "colorscale": [
             [
              0,
              "#0d0887"
             ],
             [
              0.1111111111111111,
              "#46039f"
             ],
             [
              0.2222222222222222,
              "#7201a8"
             ],
             [
              0.3333333333333333,
              "#9c179e"
             ],
             [
              0.4444444444444444,
              "#bd3786"
             ],
             [
              0.5555555555555556,
              "#d8576b"
             ],
             [
              0.6666666666666666,
              "#ed7953"
             ],
             [
              0.7777777777777778,
              "#fb9f3a"
             ],
             [
              0.8888888888888888,
              "#fdca26"
             ],
             [
              1,
              "#f0f921"
             ]
            ],
            "type": "histogram2dcontour"
           }
          ],
          "mesh3d": [
           {
            "colorbar": {
             "outlinewidth": 0,
             "ticks": ""
            },
            "type": "mesh3d"
           }
          ],
          "parcoords": [
           {
            "line": {
             "colorbar": {
              "outlinewidth": 0,
              "ticks": ""
             }
            },
            "type": "parcoords"
           }
          ],
          "pie": [
           {
            "automargin": true,
            "type": "pie"
           }
          ],
          "scatter": [
           {
            "fillpattern": {
             "fillmode": "overlay",
             "size": 10,
             "solidity": 0.2
            },
            "type": "scatter"
           }
          ],
          "scatter3d": [
           {
            "line": {
             "colorbar": {
              "outlinewidth": 0,
              "ticks": ""
             }
            },
            "marker": {
             "colorbar": {
              "outlinewidth": 0,
              "ticks": ""
             }
            },
            "type": "scatter3d"
           }
          ],
          "scattercarpet": [
           {
            "marker": {
             "colorbar": {
              "outlinewidth": 0,
              "ticks": ""
             }
            },
            "type": "scattercarpet"
           }
          ],
          "scattergeo": [
           {
            "marker": {
             "colorbar": {
              "outlinewidth": 0,
              "ticks": ""
             }
            },
            "type": "scattergeo"
           }
          ],
          "scattergl": [
           {
            "marker": {
             "colorbar": {
              "outlinewidth": 0,
              "ticks": ""
             }
            },
            "type": "scattergl"
           }
          ],
          "scattermapbox": [
           {
            "marker": {
             "colorbar": {
              "outlinewidth": 0,
              "ticks": ""
             }
            },
            "type": "scattermapbox"
           }
          ],
          "scatterpolar": [
           {
            "marker": {
             "colorbar": {
              "outlinewidth": 0,
              "ticks": ""
             }
            },
            "type": "scatterpolar"
           }
          ],
          "scatterpolargl": [
           {
            "marker": {
             "colorbar": {
              "outlinewidth": 0,
              "ticks": ""
             }
            },
            "type": "scatterpolargl"
           }
          ],
          "scatterternary": [
           {
            "marker": {
             "colorbar": {
              "outlinewidth": 0,
              "ticks": ""
             }
            },
            "type": "scatterternary"
           }
          ],
          "surface": [
           {
            "colorbar": {
             "outlinewidth": 0,
             "ticks": ""
            },
            "colorscale": [
             [
              0,
              "#0d0887"
             ],
             [
              0.1111111111111111,
              "#46039f"
             ],
             [
              0.2222222222222222,
              "#7201a8"
             ],
             [
              0.3333333333333333,
              "#9c179e"
             ],
             [
              0.4444444444444444,
              "#bd3786"
             ],
             [
              0.5555555555555556,
              "#d8576b"
             ],
             [
              0.6666666666666666,
              "#ed7953"
             ],
             [
              0.7777777777777778,
              "#fb9f3a"
             ],
             [
              0.8888888888888888,
              "#fdca26"
             ],
             [
              1,
              "#f0f921"
             ]
            ],
            "type": "surface"
           }
          ],
          "table": [
           {
            "cells": {
             "fill": {
              "color": "#EBF0F8"
             },
             "line": {
              "color": "white"
             }
            },
            "header": {
             "fill": {
              "color": "#C8D4E3"
             },
             "line": {
              "color": "white"
             }
            },
            "type": "table"
           }
          ]
         },
         "layout": {
          "annotationdefaults": {
           "arrowcolor": "#2a3f5f",
           "arrowhead": 0,
           "arrowwidth": 1
          },
          "autotypenumbers": "strict",
          "coloraxis": {
           "colorbar": {
            "outlinewidth": 0,
            "ticks": ""
           }
          },
          "colorscale": {
           "diverging": [
            [
             0,
             "#8e0152"
            ],
            [
             0.1,
             "#c51b7d"
            ],
            [
             0.2,
             "#de77ae"
            ],
            [
             0.3,
             "#f1b6da"
            ],
            [
             0.4,
             "#fde0ef"
            ],
            [
             0.5,
             "#f7f7f7"
            ],
            [
             0.6,
             "#e6f5d0"
            ],
            [
             0.7,
             "#b8e186"
            ],
            [
             0.8,
             "#7fbc41"
            ],
            [
             0.9,
             "#4d9221"
            ],
            [
             1,
             "#276419"
            ]
           ],
           "sequential": [
            [
             0,
             "#0d0887"
            ],
            [
             0.1111111111111111,
             "#46039f"
            ],
            [
             0.2222222222222222,
             "#7201a8"
            ],
            [
             0.3333333333333333,
             "#9c179e"
            ],
            [
             0.4444444444444444,
             "#bd3786"
            ],
            [
             0.5555555555555556,
             "#d8576b"
            ],
            [
             0.6666666666666666,
             "#ed7953"
            ],
            [
             0.7777777777777778,
             "#fb9f3a"
            ],
            [
             0.8888888888888888,
             "#fdca26"
            ],
            [
             1,
             "#f0f921"
            ]
           ],
           "sequentialminus": [
            [
             0,
             "#0d0887"
            ],
            [
             0.1111111111111111,
             "#46039f"
            ],
            [
             0.2222222222222222,
             "#7201a8"
            ],
            [
             0.3333333333333333,
             "#9c179e"
            ],
            [
             0.4444444444444444,
             "#bd3786"
            ],
            [
             0.5555555555555556,
             "#d8576b"
            ],
            [
             0.6666666666666666,
             "#ed7953"
            ],
            [
             0.7777777777777778,
             "#fb9f3a"
            ],
            [
             0.8888888888888888,
             "#fdca26"
            ],
            [
             1,
             "#f0f921"
            ]
           ]
          },
          "colorway": [
           "#636efa",
           "#EF553B",
           "#00cc96",
           "#ab63fa",
           "#FFA15A",
           "#19d3f3",
           "#FF6692",
           "#B6E880",
           "#FF97FF",
           "#FECB52"
          ],
          "font": {
           "color": "#2a3f5f"
          },
          "geo": {
           "bgcolor": "white",
           "lakecolor": "white",
           "landcolor": "#E5ECF6",
           "showlakes": true,
           "showland": true,
           "subunitcolor": "white"
          },
          "hoverlabel": {
           "align": "left"
          },
          "hovermode": "closest",
          "mapbox": {
           "style": "light"
          },
          "paper_bgcolor": "white",
          "plot_bgcolor": "#E5ECF6",
          "polar": {
           "angularaxis": {
            "gridcolor": "white",
            "linecolor": "white",
            "ticks": ""
           },
           "bgcolor": "#E5ECF6",
           "radialaxis": {
            "gridcolor": "white",
            "linecolor": "white",
            "ticks": ""
           }
          },
          "scene": {
           "xaxis": {
            "backgroundcolor": "#E5ECF6",
            "gridcolor": "white",
            "gridwidth": 2,
            "linecolor": "white",
            "showbackground": true,
            "ticks": "",
            "zerolinecolor": "white"
           },
           "yaxis": {
            "backgroundcolor": "#E5ECF6",
            "gridcolor": "white",
            "gridwidth": 2,
            "linecolor": "white",
            "showbackground": true,
            "ticks": "",
            "zerolinecolor": "white"
           },
           "zaxis": {
            "backgroundcolor": "#E5ECF6",
            "gridcolor": "white",
            "gridwidth": 2,
            "linecolor": "white",
            "showbackground": true,
            "ticks": "",
            "zerolinecolor": "white"
           }
          },
          "shapedefaults": {
           "line": {
            "color": "#2a3f5f"
           }
          },
          "ternary": {
           "aaxis": {
            "gridcolor": "white",
            "linecolor": "white",
            "ticks": ""
           },
           "baxis": {
            "gridcolor": "white",
            "linecolor": "white",
            "ticks": ""
           },
           "bgcolor": "#E5ECF6",
           "caxis": {
            "gridcolor": "white",
            "linecolor": "white",
            "ticks": ""
           }
          },
          "title": {
           "x": 0.05
          },
          "xaxis": {
           "automargin": true,
           "gridcolor": "white",
           "linecolor": "white",
           "ticks": "",
           "title": {
            "standoff": 15
           },
           "zerolinecolor": "white",
           "zerolinewidth": 2
          },
          "yaxis": {
           "automargin": true,
           "gridcolor": "white",
           "linecolor": "white",
           "ticks": "",
           "title": {
            "standoff": 15
           },
           "zerolinecolor": "white",
           "zerolinewidth": 2
          }
         }
        },
        "title": {
         "text": "Valuation based on industry, country, and city"
        },
        "treemapcolorway": [
         "rgb(102, 197, 204)",
         "rgb(246, 207, 113)",
         "rgb(248, 156, 116)",
         "rgb(220, 176, 242)",
         "rgb(135, 197, 95)",
         "rgb(158, 185, 243)",
         "rgb(254, 136, 177)",
         "rgb(201, 219, 116)",
         "rgb(139, 224, 164)",
         "rgb(180, 151, 231)",
         "rgb(179, 179, 179)"
        ]
       }
      },
      "text/html": [
       "<div>                            <div id=\"57fcac09-cfd5-4341-9ebf-d409e4d00134\" class=\"plotly-graph-div\" style=\"height:525px; width:100%;\"></div>            <script type=\"text/javascript\">                require([\"plotly\"], function(Plotly) {                    window.PLOTLYENV=window.PLOTLYENV || {};                                    if (document.getElementById(\"57fcac09-cfd5-4341-9ebf-d409e4d00134\")) {                    Plotly.newPlot(                        \"57fcac09-cfd5-4341-9ebf-d409e4d00134\",                        [{\"branchvalues\":\"total\",\"domain\":{\"x\":[0.0,1.0],\"y\":[0.0,1.0]},\"hovertemplate\":\"labels=%{label}<br>Valuation ($B)=%{value}<br>parent=%{parent}<br>id=%{id}<extra></extra>\",\"ids\":[\"INTERNET SOFTWARE & SERVICES/United States/Zephyr Cove/1047 Games\",\"HARDWARE/China/Hangzhou/1KMXC\",\"CYBERSECURITY/Canada/Toronto/1Password\",\"ARTIFICIAL INTELLIGENCE/China/Beijing/4Paradigm\",\"SUPPLY CHAIN, LOGISTICS, & DELIVERY/China/Shanghai/56PINGTAI\",\"INTERNET SOFTWARE & SERVICES/China/Beijing/58 Daojia\",\"ARTIFICIAL INTELLIGENCE/United States/San Francisco/6Sense\",\"OTHER/United States/El Segundo/ABL Space Systems\",\"AUTO & TRANSPORTATION/China/Shanghai/AIWAYS\",\"ARTIFICIAL INTELLIGENCE/United States/New York/ASAPP\",\"OTHER/United Kingdom/Colchester/Accelerant\",\"FINTECH/India/Bengaluru/Acko General Insurance\",\"CYBERSECURITY/Switzerland/Schaffhausen/Acronis\",\"INTERNET SOFTWARE & SERVICES/United States/Chicago/ActiveCampaign\",\"ARTIFICIAL INTELLIGENCE/Canada/Toronto/Ada Support\",\"FINTECH/United States/Mountain View/Addepar\",\"VISION PLUS CAPITAL, GSR VENTURES, ZHENFUND/Singapore/Artificial intelligence/Advance Intelligence Group\",\"ARTIFICIAL INTELLIGENCE/Bermuda/Hamilton/Afiniti\",\"EDTECH/United States/Glendale/Age of Learning\",\"FINTECH/United States/Denver/AgentSync\",\"HARDWARE/Germany/Munich/Agile Robots\",\"ARTIFICIAL INTELLIGENCE/China/Beijing/Aibee\",\"INTERNET SOFTWARE & SERVICES/United States/San Francisco/Airbyte\",\"INTERNET SOFTWARE & SERVICES/United States/New York/Aircall\",\"INTERNET SOFTWARE & SERVICES/United States/San Francisco/Airtable\",\"FINTECH/Australia/Melbourne/Airwallex\",\"INTERNET SOFTWARE & SERVICES/Finland/Helsinki/Aiven\",\"FINTECH/Indonesia/Jakarta/Ajaib\",\"E-COMMERCE & DIRECT-TO-CONSUMER/Indonesia/Jakarta/Akulaku\",\"FINTECH/France/Paris/Alan\",\"INTERNET SOFTWARE & SERVICES/United States/Redwood City/Alation\",\"FINTECH/United States/San Francisco/Alchemy\",\"HEALTH/United States/Bethesda/Aledade\",\"CYBERSECURITY/United States/San Francisco/Aleo\",\"INTERNET SOFTWARE & SERVICES/United States/San Francisco/Algolia\",\"FINTECH/United States/New York/Alloy\",\"HEALTH/United States/San Francisco/Alto Pharmacy\",\"HEALTH/United States/Framingham/Alzheon\",\"TIGER GLOBAL MANAGEMENT, TIGER BROKERS, DCM VENTURES/Hong Kong/Fintech/Amber Group\",\"FINTECH/United States/Chicago/Amount\",\"ARTIFICIAL INTELLIGENCE/United States/Seattle/Amperity\",\"FINTECH/United States/San Francisco/Anchorage Digital\",\"INTERNET SOFTWARE & SERVICES/United States/New York/Andela\",\"ARTIFICIAL INTELLIGENCE/United States/Irvine/Anduril\",\"E-COMMERCE & DIRECT-TO-CONSUMER/France/Paris/Ankorstore\",\"ARTIFICIAL INTELLIGENCE/United States/Berkeley/Anyscale\",\"OTHER/United States/Goleta/Apeel Sciences\",\"E-COMMERCE & DIRECT-TO-CONSUMER/United States/San Francisco/AppDirect\",\"DATA MANAGEMENT & ANALYTICS/United States/Sunnyvale/Applied Intuition\",\"EDTECH/Canada/Kitchener/ApplyBoard\",\"MOBILE & TELECOMMUNICATIONS/United States/San Francisco/AppsFlyer\",\"HEALTH/South Korea/Seongnam-Si/Aprogen\",\"MOBILE & TELECOMMUNICATIONS/China/Beijing/Apus Group\",\"CYBERSECURITY/Israel/Ramat Gan/Aqua Security\",\"CYBERSECURITY/United States/Eden Prairie/Arctic Wolf Networks\",\"ARTIFICIAL INTELLIGENCE/United States/Pittsburgh/Argo AI\",\"HEALTH/China/Beijing/Arrail Dental\",\"EDTECH/United States/New York/Articulate\",\"FINTECH/Thailand/Bangkok/Ascend Money\",\"INTERNET SOFTWARE & SERVICES/United States/Culver City/Assembly\",\"SUPPLY CHAIN, LOGISTICS, & DELIVERY/Canada/Ottawa/Assent Compliance\",\"MOBILE & TELECOMMUNICATIONS/United States/San Francisco/Astranis Space Technologies\",\"FINTECH/United States/Mountain View/At-Bay\",\"HEALTH/United States/Mountain View/Athelas\",\"HEALTH/United States/New York/Athletic Greens\",\"MOBILE & TELECOMMUNICATIONS/United States/Hoboken/Attentive\",\"ARTIFICIAL INTELLIGENCE/United States/New York/Augury\",\"CYBERSECURITY/United States/Burlington/Aura\",\"INTERNET SOFTWARE & SERVICES/United States/San Francisco/Aurora Solar\",\"ARTIFICIAL INTELLIGENCE/United States/San Jose/Automation Anywhere\",\"INTERNET SOFTWARE & SERVICES/United States/San Francisco/Automattic\",\"ARTIFICIAL INTELLIGENCE/United States/Chicago/Avant\",\"INTERNET SOFTWARE & SERVICES/United States/Santa Clara/Aviatrix\",\"E-COMMERCE & DIRECT-TO-CONSUMER/United States/New York/Away\",\"INTERNET SOFTWARE & SERVICES/Canada/Waterloo/Axelar\",\"OTHER/United States/Houston/Axiom Space\",\"CYBERSECURITY/United States/New York/Axonius\",\"DATA MANAGEMENT & ANALYTICS/United States/Berkeley Heights/Axtria\",\"FINTECH/United Kingdom/Peterborough/BGL Group\",\"EDTECH/India/Bengaluru/BYJU's\",\"AUTO & TRANSPORTATION/China/Nanjing/BYTON\",\"E-COMMERCE & DIRECT-TO-CONSUMER/France/Paris/Back Market\",\"FINTECH/China/Beijing/Baiwang\",\"AUTO & TRANSPORTATION/China/Shanghai/Banma Network Technologies\",\"E-COMMERCE & DIRECT-TO-CONSUMER/China/Hangzhou/BeiBei\",\"INTERNET SOFTWARE & SERVICES/China/Beijing/Beisen\",\"INTERNET SOFTWARE & SERVICES/United States/San Francisco/Benchling\",\"ARTIFICIAL INTELLIGENCE/United Kingdom/London/BenevolentAI\",\"E-COMMERCE & DIRECT-TO-CONSUMER/Germany/Berlin/Berlin Brands Group\",\"FINTECH/United States/New York/Better.com\",\"INTERNET SOFTWARE & SERVICES/United States/San Francisco/BetterUp\",\"ARTIFICIAL INTELLIGENCE/Chile/Santiago/Betterfly\",\"FINTECH/United States/New York/Betterment\",\"CYBERSECURITY/United States/New York/Beyond Identity\",\"FINTECH/India/New Delhi/BharatPe\",\"CYBERSECURITY/United States/New York/BigID\",\"ARTIFICIAL INTELLIGENCE/United States/Mountain View/BigPanda\",\"HEALTH/United States/San Diego/Biosplice Therapeutics\",\"HARDWARE/China/Shanghai/Biren Technology\",\"HARDWARE/Netherlands/Amsterdam/BitFury\",\"FINTECH/Austria/Vienna/BitPanda\",\"CYBERSECURITY/United States/Boston/BitSight Technologies\",\"HARDWARE/China/Beijing/Bitmain Technologies\",\"FINTECH/Mexico/Mexico City/Bitso\",\"AUTO & TRANSPORTATION/France/Paris/BlaBlaCar\",\"ARTIFICIAL INTELLIGENCE/China/Shanghai/Black Sesame Technologies\",\"OTHER/United States/Los Angeles/Black Unicorn Factory\",\"SUPPLY CHAIN, LOGISTICS, & DELIVERY/India/Bengaluru/BlackBuck\",\"SUPPLY CHAIN, LOGISTICS, & DELIVERY/India/Gurgaon/Blinkit\",\"FINTECH/United States/Los Angeles/BlockDaemon\",\"FINTECH/United States/Jersey City/BlockFi\",\"FINTECH/United Kingdom/London/Blockchain.com\",\"FINTECH/Canada/Vancouver/Blockstream\",\"ARTIFICIAL INTELLIGENCE/United States/Mountain View/BloomReach\",\"CYBERSECURITY/United States/New York/BlueVoyant\",\"ARTIFICIAL INTELLIGENCE/United States/New York/Bluecore\",\"FINTECH/United States/San Francisco/Bolt\",\"AUTO & TRANSPORTATION/Estonia/Tallinn/Bolt\",\"OTHER/United States/Englewood/Boom Supersonic\",\"AUTO & TRANSPORTATION/China/Shanghai/Bordrin Motors\",\"FINTECH/United Kingdom/London/Bought By Many\",\"OTHER/United States/New York/Bowery Farming\",\"MOBILE & TELECOMMUNICATIONS/United States/Redwood City/Branch\",\"CONSUMER & RETAIL/United Kingdom/Aberdeen/BrewDog\",\"FINTECH/United States/San Francisco/Brex\",\"SUPPLY CHAIN, LOGISTICS, & DELIVERY/Israel/Tel Aviv/Bringg\",\"INTERNET SOFTWARE & SERVICES/Ireland/Dublin/BrowserStack\",\"INTERNET SOFTWARE & SERVICES/United States/Nashville/Built\",\"FINTECH/Netherlands/Amsterdam/Bunq\",\"ARTIFICIAL INTELLIGENCE/China/Beijing/Bytedance\",\"FINTECH/United States/Leawood/C2FO\",\"FINTECH/Brazil/Sao Paulo/C6 Bank\",\"FINTECH/United States/New York/CAIS\",\"FINTECH/United States/Boston/CFGI\",\"CYBERSECURITY/United States/New York/CHEQ\",\"HEALTH/United Kingdom/Cambridge/CMR Surgical\",\"FINTECH/India/Bengaluru/CRED\",\"AUTO & TRANSPORTATION/Spain/Madrid/Cabify\",\"HEALTH/United States/New York/Cadence\",\"INTERNET SOFTWARE & SERVICES/United States/Atlanta/Calendly\",\"CONSUMER & RETAIL/United States/San Francisco/Calm\",\"MOBILE & TELECOMMUNICATIONS/United States/Cambridge/Cambridge Mobile Telematics\",\"INTERNET SOFTWARE & SERVICES/United States/Chicago/Cameo\",\"INTERNET SOFTWARE & SERVICES/Australia/Surry Hills/Canva\",\"AUTO & TRANSPORTATION/China/Hangzhou/Cao Cao Mobility\",\"HEALTH/United States/New York/Capsule\",\"FINTECH/United States/San Francisco/CaptivateIQ\",\"E-COMMERCE & DIRECT-TO-CONSUMER/India/Jaipur/CarDekho\",\"HARDWARE/United States/Redwood City/Carbon\",\"HEALTH/United States/San Francisco/Carbon Health\",\"SUPPLY CHAIN, LOGISTICS, & DELIVERY/Brazil/Sao Paulo/CargoX\",\"HEALTH/United States/Irving/Caris Life Sciences\",\"500 GLOBAL, RAKUTEN VENTURES, GOLDEN GATE VENTURES/Singapore/E-commerce & direct-to-consumer/Carousell\",\"SINGTEL INNOV8, ALPHA JWC VENTURES, GOLDEN GATE VENTURES/Singapore/E-commerce & direct-to-consumer/Carro\",\"E-COMMERCE & DIRECT-TO-CONSUMER/India/Gurgaon/Cars24\",\"E-COMMERCE & DIRECT-TO-CONSUMER/Malaysia/Selangor/Carsome\",\"FINTECH/United States/Lincoln/Carson Group\",\"FINTECH/United States/San Francisco/Carta\",\"E-COMMERCE & DIRECT-TO-CONSUMER/China/Jiangsu/Carzone\",\"CYBERSECURITY/Israel/Tel Aviv/Cato Networks\",\"OTHER/United States/Washington/Cava Group\",\"FINTECH/United States/New York/Cedar\",\"MOBILE & TELECOMMUNICATIONS/South Africa/Midrand/Cell C\",\"DATA MANAGEMENT & ANALYTICS/Germany/Munich/Celonis\",\"FINTECH/United States/Hoboken/Celsius Network\",\"HEALTH/United States/San Francisco/Cerebral\",\"HARDWARE/United States/Los Altos/Cerebras Systems\",\"FINTECH/China/Hangzhou/Cgtz\",\"FINTECH/United States/New York/Chainalysis\",\"EDTECH/China/Shanghai/Changingedu\",\"FINTECH/United States/Walnut/ChargeBee Technologies\",\"FINTECH/United Kingdom/London/Checkout.com\",\"INTERNET SOFTWARE & SERVICES/United States/San Francisco/Checkr\",\"E-COMMERCE & DIRECT-TO-CONSUMER/China/Beijing/Chehaoduo\",\"FINTECH/United States/San Francisco/Chime\",\"HARDWARE/China/Wuxi/China Cloud\",\"HARDWARE/China/Beijing/Chipone\",\"FINTECH/United States/San Francisco/Chipper Cash\",\"DATA MANAGEMENT & ANALYTICS/United States/New York/Chronosphere\",\"ANDREESSEN HOROWITZ, DST GLOBAL, IDG CAPITAL/Hong Kong/E-commerce & direct-to-consumer/Cider\",\"FINTECH/United States/Boston/Circle\",\"INTERNET SOFTWARE & SERVICES/United States/San Francisco/CircleCI\",\"HEALTH/United States/Brooklyn/Cityblock Health\",\"FINTECH/Mexico/Mexico City/Clara\",\"INTERNET SOFTWARE & SERVICES/United States/Sunnyvale/Clari\",\"CYBERSECURITY/United States/New York/Claroty\",\"FINTECH/Canada/Toronto/Clearco\",\"FINTECH/United States/Chicago/Clearcover\",\"DATA MANAGEMENT & ANALYTICS/United States/Portola Valley/ClickHouse\",\"INTERNET SOFTWARE & SERVICES/United States/San Diego/ClickUp\",\"INTERNET SOFTWARE & SERVICES/Canada/Burnaby/Clio\",\"FINTECH/Mexico/Mexico City/Clip\",\"DATA MANAGEMENT & ANALYTICS/United States/San Jose/CloudBees\",\"FINTECH/Brazil/Sao Paulo/CloudWalk\",\"INTERNET SOFTWARE & SERVICES/United States/Santa Clara/Cloudinary\",\"ARTIFICIAL INTELLIGENCE/China/Guangzhou/Cloudwalk\",\"MOBILE & TELECOMMUNICATIONS/United States/San Francisco/Clubhouse\",\"CYBERSECURITY/United States/San Francisco/Coalition\",\"DATA MANAGEMENT & ANALYTICS/United States/New York/Cockroach Labs\",\"INTERNET SOFTWARE & SERVICES/United States/Mountain View/Coda\",\"DATA MANAGEMENT & ANALYTICS/Norway/Lysaker/Cognite\",\"DATA MANAGEMENT & ANALYTICS/United States/San Jose/Cohesity\",\"FINTECH/India/Maharashtra/CoinDCX\",\"FINTECH/United States/San Francisco/CoinList\",\"FINTECH/India/Bangalore/CoinSwitch Kuber\",\"FINTECH/United States/San Francisco/CoinTracker\",\"FINTECH/United States/San Francisco/Collective Health\",\"DATA MANAGEMENT & ANALYTICS/Belgium/Brussels/Collibra\",\"HEALTH/United States/Burlingame/Color\",\"INTERNET SOFTWARE & SERVICES/United States/San Francisco/Commure\",\"FINTECH/United States/New York/ConsenSys\",\"INTERNET SOFTWARE & SERVICES/France/Paris/ContentSquare\",\"INTERNET SOFTWARE & SERVICES/Germany/Berlin/Contentful\",\"CYBERSECURITY/United States/Los Altos/Contrast Security\",\"SUPPLY CHAIN, LOGISTICS, & DELIVERY/United States/Seattle/Convoy\",\"HARDWARE/China/Shenzhen/Coocaa\",\"DATA MANAGEMENT & ANALYTICS/United States/Chicago/Copado\",\"EDTECH/United States/Redwood City/Course Hero\",\"FINTECH/Brazil/Sao Paulo/Creditas\",\"INTERNET SOFTWARE & SERVICES/Australia/Richmond/Culture Amp\",\"HEALTH/India/Bengaluru/CureFit\",\"FINTECH/United States/New York/Current\",\"CYBERSECURITY/United States/Boston/Cybereason\",\"HARDWARE/China/Shenzhen/DJI Innovations\",\"DATA MANAGEMENT & ANALYTICS/China/Hangzhou/DT Dream\",\"OTHER/China/Shenzhen/Dadi Cinema\",\"E-COMMERCE & DIRECT-TO-CONSUMER/United States/New York/Daily Harvest\",\"INTERNET SOFTWARE & SERVICES/India/Bengaluru/DailyHunt\",\"FINTECH/United States/New York/DailyPay\",\"FINTECH/Canada/Vancouver/Dapper Labs\",\"INTERNET SOFTWARE & SERVICES/India/Hyderabad/Darwinbox\",\"ARTIFICIAL INTELLIGENCE/United States/Boston/DataRobot\",\"DATA MANAGEMENT & ANALYTICS/United States/San Francisco/Databricks\",\"INTERNET SOFTWARE & SERVICES/United States/New York/Dataiku\",\"ARTIFICIAL INTELLIGENCE/United States/New York/Dataminr\",\"E-COMMERCE & DIRECT-TO-CONSUMER/India/Bengaluru/DealShare\",\"FINTECH/United States/San Francisco/Deel\",\"ARTIFICIAL INTELLIGENCE/China/Shanghai/DeepBlue Technology\",\"INTERNET SOFTWARE & SERVICES/France/Paris/Deezer\",\"EDTECH/United States/Pleasanton/Degreed\",\"SUPPLY CHAIN, LOGISTICS, & DELIVERY/India/Gurgaon/Delhivery\",\"FINTECH/Belgium/Ghent/Deliverect\",\"SUPPLY CHAIN, LOGISTICS, & DELIVERY/United States/San Francisco/Deliverr\",\"HARDWARE/United States/San Francisco/Density\",\"HEALTH/France/Paris/Dental Monitoring\",\"DATA MANAGEMENT & ANALYTICS/United States/Cambridge/Devo\",\"HEALTH/United States/Waltham/Devoted Health\",\"INTERNET SOFTWARE & SERVICES/United States/San Francisco/Dialpad\",\"OTHER/United States/San Francisco/Diamond Foundry\",\"E-COMMERCE & DIRECT-TO-CONSUMER/China/Shanghai/DianRong\",\"FINTECH/India/Bengaluru/Digit Insurance\",\"FINTECH/United States/New York/Digital Currency Group\",\"INTERNET SOFTWARE & SERVICES/United States/San Francisco/Discord\",\"HEALTH/United States/Denver/DispatchHealth\",\"INTERNET SOFTWARE & SERVICES/United States/New York/DistroKid\",\"FINTECH/United States/San Francisco/Divvy Homes\",\"HEALTH/France/Paris/Doctolib\",\"INTERNET SOFTWARE & SERVICES/United States/Berkeley/Domestika\",\"CYBERSECURITY/United States/Hanover/Dragos\",\"CYBERSECURITY/United States/San Diego/Drata\",\"MOBILE & TELECOMMUNICATIONS/Turkey/Istanbul/Dream Games\",\"INTERNET SOFTWARE & SERVICES/India/Mumbai/Dream11\",\"DATA MANAGEMENT & ANALYTICS/United States/Santa Clara/Dremio\",\"INTERNET SOFTWARE & SERVICES/Israel/Ra'anana/DriveNets\",\"FINTECH/United States/Chatham/DriveWealth\",\"DATA MANAGEMENT & ANALYTICS/United States/Sunnyvale/Druva\",\"FINTECH/South Korea/Seoul/Dunamu\",\"DATA MANAGEMENT & ANALYTICS/Norway/Oslo/Dune Analytics\",\"E-COMMERCE & DIRECT-TO-CONSUMER/United States/Bend/Dutchie\",\"HEALTH/China/Hangzhou/Dxy.cn\",\"FINTECH/Brazil/Curitiba/EBANX\",\"AUTO & TRANSPORTATION/China/Wuhan/ECARX\",\"AUTO & TRANSPORTATION/China/Shanghai/ENOVATE\",\"HEALTH/United States/Cambridge/EQRx\",\"FINTECH/Israel/Giv'atayim/Earnix\",\"CONSUMER & RETAIL/China/Beijing/Easyhome\",\"CONSUMER & RETAIL/United States/San Francisco/Eat Just\",\"HARDWARE/China/Shenzhen/EcoFlow\",\"INTERNET SOFTWARE & SERVICES/United States/Santa Clara/Eightfold.ai\",\"AUTO & TRANSPORTATION/Sweden/Stockholm/Einride\",\"SUPPLY CHAIN, LOGISTICS, & DELIVERY/India/Pune/ElasticRun\",\"HEALTH/United States/San Francisco/Elemy\",\"OTHER/United Arab Emirates/Dubai/Emerging Markets Property Group\",\"HARDWARE/China/Shanghai/Enflame\",\"INTERNET SOFTWARE & SERVICES/Germany/Berlin/Enpal\",\"INTERNET SOFTWARE & SERVICES/United States/San Francisco/Envoy\",\"OTHER/United States/Cary/Epic Games\",\"INTERNET SOFTWARE & SERVICES/Sweden/Stockholm/Epidemic Sound\",\"OTHER/United States/Hawthorne/Epirus\",\"EDTECH/India/Mumbai/Eruditus Executive Education\",\"FINTECH/United States/New York/Esusu\",\"FINTECH/United States/San Francisco/Ethos\",\"INTERNET SOFTWARE & SERVICES/United States/Oakland/Everlaw\",\"E-COMMERCE & DIRECT-TO-CONSUMER/United States/Austin/Everly Health\",\"HEALTH/United States/San Mateo/Evidation\",\"CYBERSECURITY/United States/Foster City/Exabeam\",\"HARDWARE/France/Croix/Exotec\",\"CYBERSECURITY/United States/Herndon/Expel\",\"FINTECH/United States/San Francisco/Extend\",\"SEQUOIA CAPITAL, THOMA BRAVO, SOFTBANK/Bahamas/Fintech/FTX\",\"MOBILE & TELECOMMUNICATIONS/China/Beijing/FXiaoKe\",\"E-COMMERCE & DIRECT-TO-CONSUMER/United States/Bellevue/Fabric\",\"SUPPLY CHAIN, LOGISTICS, & DELIVERY/United States/New York/Fabric\",\"AUTO & TRANSPORTATION/United States/Santa Monica/Fair\",\"ARTIFICIAL INTELLIGENCE/United States/San Francisco/Faire\",\"FINTECH/United States/San Mateo/FalconX\",\"E-COMMERCE & DIRECT-TO-CONSUMER/United States/Jacksonville/Fanatics\",\"OTHER/United States/San Carlos/Farmers Business Network\",\"ARTIFICIAL INTELLIGENCE/United States/San Mateo/Feedzai\",\"EDTECH/China/Beijing/Fenbi Education\",\"E-COMMERCE & DIRECT-TO-CONSUMER/United States/Madison/Fetch Rewards\",\"INTERNET SOFTWARE & SERVICES/United States/New York/Fever Labs\",\"INTERNET SOFTWARE & SERVICES/United States/San Francisco/Figma\",\"INTERNET SOFTWARE & SERVICES/Canada/Toronto/Figment\",\"FINTECH/United States/New York/Fireblocks\",\"DATA MANAGEMENT & ANALYTICS/Israel/Tel Aviv/Firebolt\",\"OTHER/United States/Cedar Park/Firefly Aerospace\",\"E-COMMERCE & DIRECT-TO-CONSUMER/India/Pune/FirstCry\",\"HEALTH/China/Chengdu/Fiture\",\"OTHER/India/Chennai/Five Star Business Finance\",\"DATA MANAGEMENT & ANALYTICS/United States/Oakland/FiveTran\",\"SUPPLY CHAIN, LOGISTICS, & DELIVERY/Thailand/Bangkok/Flash Express\",\"SUPPLY CHAIN, LOGISTICS, & DELIVERY/China/Beijing/FlashEx\",\"SUPPLY CHAIN, LOGISTICS, & DELIVERY/United States/San Francisco/Flexport\",\"E-COMMERCE & DIRECT-TO-CONSUMER/Germany/Berlin/Flink\",\"INTERNET SOFTWARE & SERVICES/United States/Palo Alto/Flipboard\",\"INTERNET SOFTWARE & SERVICES/Ireland/Dublin/Flipdish\",\"AUTO & TRANSPORTATION/Germany/Munich/FlixMobility\",\"FINTECH/United States/Los Angeles/FloQast\",\"SUPPLY CHAIN, LOGISTICS, & DELIVERY/United States/Encinitas/Flock Freight\",\"HARDWARE/United States/Atlanta/Flock Safety\",\"FINTECH/United States/San Francisco/Flutterwave\",\"HARDWARE/United States/Somerville/Formlabs\",\"FINTECH/United States/San Francisco/Forte Labs\",\"CYBERSECURITY/United States/New York/Forter\",\"SUPPLY CHAIN, LOGISTICS, & DELIVERY/Germany/Berlin/Forto\",\"DATA MANAGEMENT & ANALYTICS/India/Mumbai/Fractal Analytics\",\"FINTECH/Canada/Toronto/Freshbooks\",\"INTERNET SOFTWARE & SERVICES/United States/Atlanta/FullStory\",\"FINTECH/United States/San Francisco/Fundbox\",\"INTERNET SOFTWARE & SERVICES/United States/Chicago/G2\",\"SUPPLY CHAIN, LOGISTICS, & DELIVERY/China/Beijing/G7 Networks\",\"INTERNET SOFTWARE & SERVICES/Australia/Brisbane/GO1\",\"E-COMMERCE & DIRECT-TO-CONSUMER/United States/Culver City/GOAT\",\"OTHER/South Korea/Seoul/GPclub\",\"MOBILE & TELECOMMUNICATIONS/China/Beijing/GalaxySpace\",\"HARDWARE/China/Shanghai/Gaussian Robotics\",\"HARDWARE/China/Beijing/Geek+\",\"E-COMMERCE & DIRECT-TO-CONSUMER/Norway/Oslo/Gelato\",\"INTERNET SOFTWARE & SERVICES/United States/San Francisco/Gem\",\"FINTECH/United States/New York/Gemini\",\"TRAVEL/Germany/Berlin/GetYourGuide\",\"E-COMMERCE & DIRECT-TO-CONSUMER/Turkey/Istanbul/Getir\",\"AUTO & TRANSPORTATION/United Kingdom/London/Gett\",\"HARDWARE/United Kingdom/London/Global Switch\",\"E-COMMERCE & DIRECT-TO-CONSUMER/India/New Delhi/GlobalBees\",\"ARTIFICIAL INTELLIGENCE/United States/Menlo Park/Globality\",\"INTERNET SOFTWARE & SERVICES/United States/Boston/Globalization Partners\",\"CONSUMER & RETAIL/United States/New York/Glossier\",\"FINTECH/United Kingdom/London/GoCardless\",\"EDTECH/Austria/Vienna/GoStudent\",\"ARTIFICIAL INTELLIGENCE/United States/Palo Alto/Gong\",\"INTERNET SOFTWARE & SERVICES/United States/Roseville/GoodLeap\",\"E-COMMERCE & DIRECT-TO-CONSUMER/Germany/Berlin/Gorillas\",\"SUPPLY CHAIN, LOGISTICS, & DELIVERY/United Kingdom/London/Gousto\",\"INTERNET SOFTWARE & SERVICES/United States/New York/Grafana Labs\",\"INTERNET SOFTWARE & SERVICES/United States/San Francisco/Grammarly\",\"ARTIFICIAL INTELLIGENCE/United Kingdom/Bristol/Graphcore\",\"FINTECH/United States/Atlanta/Greenlight\",\"FINTECH/United Kingdom/London/Greensill\",\"ARTIFICIAL INTELLIGENCE/United States/Mountain View/Groq\",\"E-COMMERCE & DIRECT-TO-CONSUMER/United States/San Francisco/Grove Collaborative\",\"FINTECH/India/Bengaluru/Groww\",\"E-COMMERCE & DIRECT-TO-CONSUMER/United States/San Francisco/GrubMarket\",\"FINTECH/United States/San Mateo/Guideline\",\"INTERNET SOFTWARE & SERVICES/United States/Denver/Guild Education\",\"CONSUMER & RETAIL/China/Shanghai/Guoquan Shihui\",\"INTERNET SOFTWARE & SERVICES/United States/San Francisco/GupShup\",\"FINTECH/United States/San Francisco/Gusto\",\"INTERNET SOFTWARE & SERVICES/United States/New York/Gympass\",\"E-COMMERCE & DIRECT-TO-CONSUMER/United Kingdom/Solihull/Gymshark\",\"ARTIFICIAL INTELLIGENCE/United States/Mountain View/H2O.ai\",\"CONSUMER & RETAIL/China/Shanghai/HAYDON\",\"OTHER/China/Shenzhen/HEYTEA\",\"MOBILE & TELECOMMUNICATIONS/Finland/Espoo/HMD Global\",\"ARTIFICIAL INTELLIGENCE/Israel/Tel Aviv/Hailo\",\"INTERNET SOFTWARE & SERVICES/United States/San Francisco/Handshake\",\"ARTIFICIAL INTELLIGENCE/China/Beijing/Haomao.AI\",\"FINTECH/United States/Tustin/Happy Money\",\"ARTIFICIAL INTELLIGENCE/United States/San Francisco/Harness\",\"CONSUMER & RETAIL/United States/New York/Harry's\",\"INTERNET SOFTWARE & SERVICES/India/Bengaluru/Hasura\",\"HEALTH/United States/Redwood City/HeartFlow\",\"INTERNET SOFTWARE & SERVICES/United States/San Francisco/Helium Systems\",\"AUTO & TRANSPORTATION/China/Shanghai/Hello TransTech\",\"ARTIFICIAL INTELLIGENCE/China/Shanghai/Hesai Tech\",\"E-COMMERCE & DIRECT-TO-CONSUMER/United States/Chicago/Heyday\",\"INTERNET SOFTWARE & SERVICES/Israel/Tel Aviv/Hibob\",\"FINTECH/United States/Houston/HighRadius\",\"INTERNET SOFTWARE & SERVICES/United States/Seattle/Highspot\",\"HEALTH/United States/San Francisco/Hinge Health\",\"ARTIFICIAL INTELLIGENCE/United States/San Francisco/Hive\",\"SUPPLY CHAIN, LOGISTICS, & DELIVERY/China/Shenzhen/Hive Box\",\"FINTECH/United States/San Francisco/HomeLight\",\"INTERNET SOFTWARE & SERVICES/United States/San Francisco/HoneyBook\",\"INTERNET SOFTWARE & SERVICES/United States/San Francisco/Honor Technology\",\"INTERNET SOFTWARE & SERVICES/United Kingdom/London/Hopin\",\"TRAVEL/Canada/Montreal/Hopper\",\"ARTIFICIAL INTELLIGENCE/China/Beijing/Horizon Robotics\",\"E-COMMERCE & DIRECT-TO-CONSUMER/China/Nanjing/Hosjoy\",\"E-COMMERCE & DIRECT-TO-CONSUMER/Netherlands/Amsterdam/Hotmart\",\"E-COMMERCE & DIRECT-TO-CONSUMER/United States/Palo Alto/Houzz\",\"OTHER/United Kingdom/London/Howden Group Holdings\",\"AUTO & TRANSPORTATION/China/Shanghai/Hozon Auto\",\"EDTECH/China/Shanghai/HuJiang\",\"MOBILE & TELECOMMUNICATIONS/China/Shanghai/Huaqin Telecom Technology\",\"E-COMMERCE & DIRECT-TO-CONSUMER/China/Beijing/HuiMin\",\"EDTECH/China/Beijing/Huike Group\",\"FINTECH/China/Beijing/Huisuanzhang\",\"FINTECH/United States/San Francisco/Human Interest\",\"KUANG-CHI/Singapore/Mobile & telecommunications/HyalRoute\",\"FINTECH/China/Hangzhou/Hyperchain\",\"CYBERSECURITY/United States/McLean/ID.me\",\"INTERNET SOFTWARE & SERVICES/United States/San Francisco/IRL\",\"SUPPLY CHAIN, LOGISTICS, & DELIVERY/United States/Dallas/ISN\",\"FINTECH/United States/Denver/Ibotta\",\"ARTIFICIAL INTELLIGENCE/United States/Bellevue/Icertis\",\"E-COMMERCE & DIRECT-TO-CONSUMER/United States/New York/Il Makiage\",\"CYBERSECURITY/United States/Sunnyvale/Illumio\",\"HARDWARE/China/Shanghai/Iluvatar CoreX\",\"INTERNET SOFTWARE & SERVICES/United States/Santa Barbara/Impact\",\"CONSUMER & RETAIL/United States/Redwood City/Impossible Foods\",\"OTHER/United Kingdom/London/Improbable\",\"OTHER/Germany/Berlin/InFarm\",\"MOBILE & TELECOMMUNICATIONS/India/Bengaluru/InMobi\",\"HEALTH/Israel/Tirat Carmel/InSightec\",\"INTERNET SOFTWARE & SERVICES/United States/New York/InVision\",\"OTHER/United States/Cambridge/Inari\",\"CYBERSECURITY/United States/San Francisco/Incode Technologies\",\"ARTIFICIAL INTELLIGENCE/United States/Boston/Indigo Ag\",\"HARDWARE/United States/Waltham/Infinidat\",\"MOBILE & TELECOMMUNICATIONS/Croatia/Vodnjan/Infobip\",\"E-COMMERCE & DIRECT-TO-CONSUMER/India/Thane/Infra.Market\",\"FINTECH/United States/New York/Injective Protocol\",\"HEALTH/United States/San Francisco/Innovaccer\",\"INTERNET SOFTWARE & SERVICES/Turkey/Istanbul/Insider\",\"DATA MANAGEMENT & ANALYTICS/United States/San Francisco/Instabase\",\"SUPPLY CHAIN, LOGISTICS, & DELIVERY/United States/San Francisco/Instacart\",\"HEALTH/United States/Boston/Intarcia Therapeutics\",\"ARTIFICIAL INTELLIGENCE/China/Shenzhen/Intellifusion\",\"INTERNET SOFTWARE & SERVICES/United States/San Francisco/Intercom\",\"FINTECH/United States/Arlington/Interos\",\"FINTECH/United States/San Francisco/Inxeption\",\"DATA MANAGEMENT & ANALYTICS/United States/Austin/Iodine Software\",\"INTERNET SOFTWARE & SERVICES/United States/Sacramento/Ironclad\",\"INTERNET SOFTWARE & SERVICES/United States/San Francisco/Iterable\",\"FINTECH/United States/Redwood City/Ivalua\",\"SUPPLY CHAIN, LOGISTICS, & DELIVERY/Indonesia/Jakarta/J&T Express\",\"E-COMMERCE & DIRECT-TO-CONSUMER/China/Hangzhou/JOLLY Information Technology\",\"CONSUMER & RETAIL/United States/San Francisco/JUUL Labs\",\"FINTECH/China/Beijing/JimuBox\",\"E-COMMERCE & DIRECT-TO-CONSUMER/China/Beijing/Jiuxian\",\"INTERNET SOFTWARE & SERVICES/Spain/Madrid/Jobandtalent\",\"E-COMMERCE & DIRECT-TO-CONSUMER/United States/New York/Jokr\",\"EDTECH/Israel/Tel Aviv/JoyTunes\",\"E-COMMERCE & DIRECT-TO-CONSUMER/China/Wuhan/Juanpi\",\"SUPPLY CHAIN, LOGISTICS, & DELIVERY/China/Chengdu/Juma Peisong\",\"DATA MANAGEMENT & ANALYTICS/United States/Louisville/JumpCloud\",\"DATA MANAGEMENT & ANALYTICS/China/Beijing/Jusfoun Big Data\",\"INTERNET SOFTWARE & SERVICES/United States/New York/Justworks\",\"HEALTH/United States/New York/K Health\",\"E-COMMERCE & DIRECT-TO-CONSUMER/China/Dongguan/KK Group\",\"HEALTH/Sweden/Stockholm/KRY\",\"INTERNET SOFTWARE & SERVICES/United States/Irvine/Kajabi\",\"INTERNET SOFTWARE & SERVICES/United States/Seattle/Karat\",\"CYBERSECURITY/United States/Miami/Kaseya\",\"E-COMMERCE & DIRECT-TO-CONSUMER/Mexico/Lerma de Villada/Kavak\",\"SUPPLY CHAIN, LOGISTICS, & DELIVERY/China/Shanghai/Keenon Robotics\",\"MOBILE & TELECOMMUNICATIONS/China/Beijing/Keep\",\"SUPPLY CHAIN, LOGISTICS, & DELIVERY/United States/San Francisco/KeepTruckin\",\"CONSUMER & RETAIL/United States/Austin/Kendra Scott\",\"SUPPLY CHAIN, LOGISTICS, & DELIVERY/United Arab Emirates/Dubai/Kitopi\",\"FINTECH/Sweden/Stockholm/Klarna\",\"INTERNET SOFTWARE & SERVICES/United States/Boston/Klaviyo\",\"TRAVEL/Hong Kong/Central/Klook\",\"EDTECH/China/Beijing/KnowBox\",\"HEALTH/United States/San Francisco/Komodo Health\",\"FINTECH/Mexico/Mexico City/Konfio\",\"INTERNET SOFTWARE & SERVICES/United States/San Francisco/Kong\",\"CONSUMER & RETAIL/Indonesia/Jakarta/Kopi Kenangan\",\"E-COMMERCE & DIRECT-TO-CONSUMER/China/Beijing/Koudai\",\"FINTECH/United States/San Francisco/Kraken\",\"SUPPLY CHAIN, LOGISTICS, & DELIVERY/China/Tianjin/Kuaigou Dache\",\"INTERNET SOFTWARE & SERVICES/China/Beijing/Kuaikan Manhua\",\"INTERNET SOFTWARE & SERVICES/China/Hangzhou/Kujiale\",\"SUPPLY CHAIN, LOGISTICS, & DELIVERY/South Korea/Seoul/Kurly\",\"CONSUMER & RETAIL/South Korea/Seoul/L&P Cosmetic\",\"EDTECH/India/Andheri/LEAD School\",\"INTERNET SOFTWARE & SERVICES/United States/Dallas/LTK\",\"CYBERSECURITY/United States/San Jose/Lacework\",\"SUPPLY CHAIN, LOGISTICS, & DELIVERY/Hong Kong/Cheung Sha Wan/Lalamove\",\"E-COMMERCE & DIRECT-TO-CONSUMER/China/Shenzhen/Lamabang\",\"INTERNET SOFTWARE & SERVICES/United States/San Francisco/Lattice\",\"INTERNET SOFTWARE & SERVICES/United States/Oakland/LaunchDarkly\",\"AUTO & TRANSPORTATION/China/Hangzhou/Leap Motor\",\"HARDWARE/France/Paris/Ledger\",\"E-COMMERCE & DIRECT-TO-CONSUMER/India/Faridabad/Lenskart\",\"INTERNET SOFTWARE & SERVICES/United States/Scottsdale/Lessen\",\"HEALTH/Ireland/Dublin/LetsGetChecked\",\"E-COMMERCE & DIRECT-TO-CONSUMER/China/Beijing/Lianjia\",\"E-COMMERCE & DIRECT-TO-CONSUMER/India/Bengaluru/Licious\",\"OTHER/Colombia/Bogota/LifeMiles\",\"ARTIFICIAL INTELLIGENCE/Israel/Jerusalem/Lightricks\",\"HEALTH/China/Beijing/LinkDoc Technology\",\"MOBILE & TELECOMMUNICATIONS/China/Shanghai/LinkSure Network\",\"FINTECH/Japan/Tokyo/Liquid\",\"E-COMMERCE & DIRECT-TO-CONSUMER/India/Bengaluru/LivSpace\",\"SUPPLY CHAIN, LOGISTICS, & DELIVERY/United States/New York/Loadsmart\",\"HARDWARE/United States/Wilmington/Locus Robotics\",\"E-COMMERCE & DIRECT-TO-CONSUMER/Brazil/Sao Paulo/Loft\",\"SUPPLY CHAIN, LOGISTICS, & DELIVERY/Brazil/Sao Paulo/Loggi\",\"CYBERSECURITY/United States/San Francisco/Lookout\",\"INTERNET SOFTWARE & SERVICES/United States/San Francisco/Loom\",\"INTERNET SOFTWARE & SERVICES/United States/South Jordan/Lucid Software\",\"FINTECH/United States/New York/Lukka\",\"FINTECH/Denmark/Aarhus/Lunar\",\"EDTECH/China/Beijing/Luoji Siwei\",\"INTERNET SOFTWARE & SERVICES/United States/New York/Lusha\",\"FINTECH/France/Paris/Lydia\",\"HEALTH/United States/Burlingame/Lyra Health\",\"FINTECH/United States/Chicago/M1 Finance\",\"ARTIFICIAL INTELLIGENCE/China/Beijing/MEGVII\",\"ARTIFICIAL INTELLIGENCE/United States/Redwood City/MOLOCO\",\"INTERNET SOFTWARE & SERVICES/United States/San Francisco/MURAL\",\"E-COMMERCE & DIRECT-TO-CONSUMER/South Korea/Seoul/MUSINSA\",\"FINTECH/United States/Lehi/MX Technologies\",\"E-COMMERCE & DIRECT-TO-CONSUMER/Brazil/Parana/MadeiraMadeira\",\"TRAVEL/China/Beijing/Mafengwo\",\"HARDWARE/United States/Plantation/Magic Leap\",\"MOBILE & TELECOMMUNICATIONS/China/Beijing/Maimai\",\"E-COMMERCE & DIRECT-TO-CONSUMER/India/Gurgaon/Mamaearth\",\"FINTECH/Netherlands/Amsterdam/Mambu\",\"HEALTH/United States/Brisbane/Mammoth Biosciences\",\"OTHER/China/Shanghai/Manner\",\"E-COMMERCE & DIRECT-TO-CONSUMER/France/Paris/ManoMano\",\"FINTECH/United Kingdom/London/Marshmallow\",\"EDTECH/United States/San Francisco/MasterClass\",\"FINTECH/United States/New York/Masterworks\",\"DATA MANAGEMENT & ANALYTICS/United Kingdom/Altrincham/Matillion\",\"DRAGONFLY CAPTIAL, QIMING VENTURE PARTNERS, DST GLOBAL/Singapore/Fintech/Matrixport\",\"HEALTH/United States/New York/Maven Clinic\",\"INTERNET SOFTWARE & SERVICES/United States/Palo Alto/Medable\",\"INTERNET SOFTWARE & SERVICES/United States/New York/MediaMath\",\"HEALTH/China/Chengdu/Medlinker\",\"ARTIFICIAL INTELLIGENCE/France/Paris/Meero\",\"INTERNET SOFTWARE & SERVICES/India/Bengaluru/Meesho\",\"MOBILE & TELECOMMUNICATIONS/China/Beijing/Meicai\",\"HARDWARE/China/Zhuhai/Meizu Technology\",\"FINTECH/United States/New York/Melio\",\"OTHER/India/Bengaluru/Mensa Brands\",\"E-COMMERCE & DIRECT-TO-CONSUMER/Mexico/Mexico City/Merama\",\"FINTECH/United States/San Francisco/Mercury\",\"MOBILE & TELECOMMUNICATIONS/Netherlands/Amsterdam/MessageBird\",\"E-COMMERCE & DIRECT-TO-CONSUMER/China/Beijing/Mia.com\",\"E-COMMERCE & DIRECT-TO-CONSUMER/China/Beijing/Miaoshou Doctor\",\"HEALTH/Switzerland/Lausanne/MindMaze\",\"INTERNET SOFTWARE & SERVICES/United States/San Francisco/MindTickle\",\"ARTIFICIAL INTELLIGENCE/China/Beijing/Mininglamp Technology\",\"DATA MANAGEMENT & ANALYTICS/United States/Palo Alto/Minio\",\"E-COMMERCE & DIRECT-TO-CONSUMER/France/Paris/Mirakl\",\"INTERNET SOFTWARE & SERVICES/United States/San Francisco/Miro\",\"E-COMMERCE & DIRECT-TO-CONSUMER/United States/Pennsauken/Misfits Market\",\"INTERNET SOFTWARE & SERVICES/United States/San Francisco/Mixpanel\",\"FINTECH/Vietnam/Ho Chi Minh City/MoMo\",\"FINTECH/India/Gurugram/MobiKwik\",\"INTERNET SOFTWARE & SERVICES/India/Bengaluru/Mobile Premier League\",\"FINTECH/United States/San Francisco/MobileCoin\",\"CONSUMER & RETAIL/China/Beijing/Mobvoi\",\"HEALTH/United States/San Francisco/Modern Health\",\"FINTECH/United States/San Francisco/Modern Treasury\",\"HEALTH/United States/Boca Raton/Modernizing Medicine\",\"E-COMMERCE & DIRECT-TO-CONSUMER/China/Shanghai/Mofang Living\",\"JUNGLE VENTURES, ACCEL, VENTURE HIGHWAY/Singapore/E-commerce & direct-to-consumer/Moglix\",\"INTERNET SOFTWARE & SERVICES/China/Beijing/Moka\",\"FINTECH/Netherlands/Amsterdam/Mollie\",\"ARTIFICIAL INTELLIGENCE/China/Beijing/Momenta\",\"FINTECH/United Kingdom/London/Monzo\",\"MOBILE & TELECOMMUNICATIONS/Israel/Tel Aviv/Moon Active\",\"FINTECH/United States/Miami/MoonPay\",\"INTERNET SOFTWARE & SERVICES/United States/Washington DC/Morning Consult\",\"E-COMMERCE & DIRECT-TO-CONSUMER/United Kingdom/London/Motorway\",\"ARTIFICIAL INTELLIGENCE/United States/Mountain View/Moveworks\",\"MOBILE & TELECOMMUNICATIONS/Brazil/Sao Paulo/Movile\",\"DATA MANAGEMENT & ANALYTICS/United States/Northbrook/Mu Sigma\",\"INTERNET SOFTWARE & SERVICES/United States/San Francisco/Mux\",\"E-COMMERCE & DIRECT-TO-CONSUMER/India/Mumbai/MyGlamm\",\"FINTECH/Philippines/Taguig City/Mynt\",\"INTERNET SOFTWARE & SERVICES/United States/Sherman Oaks/Mythical Games\",\"FINTECH/Germany/Berlin/N26\",\"VERTEX VENTURES SE ASIA, GLOBAL FOUNDERS CAPITAL, VISA VENTURES/Singapore/Fintech/NIUM\",\"FINTECH/India/Mumbai/National Stock Exchange of India\",\"OTHER/United States/Chicago/Nature's Fynd\",\"DATA MANAGEMENT & ANALYTICS/United States/San Mateo/Neo4j\",\"FINTECH/Brazil/Sao Paulo/Neon\",\"INTERNET SOFTWARE & SERVICES/United States/San Francisco/Netlify\",\"CYBERSECURITY/United States/Santa Clara/Netskope\",\"E-COMMERCE & DIRECT-TO-CONSUMER/China/Beijing/Newlink Group\",\"INTERNET SOFTWARE & SERVICES/United States/Mountain View/News Break\",\"INTERNET SOFTWARE & SERVICES/United States/New York/Newsela\",\"OTHER/Canada/Vancouver/Nexii\",\"FINTECH/United States/Palo Alto/Next Insurance\",\"HARDWARE/Israel/Tel Aviv/Next Silicon\",\"DATA MANAGEMENT & ANALYTICS/Switzerland/Prilly/Nexthink\",\"INTERNET SOFTWARE & SERVICES/United States/Scottsdale/Nextiva\",\"MOBILE & TELECOMMUNICATIONS/United States/San Francisco/Niantic\",\"B CAPITAL GROUP, MONK'S HILL VENTURES, DYNAMIC PARCEL DISTRIBUTION/Singapore/Supply chain, logistics, & delivery/Ninja Van\",\"INTERNET SOFTWARE & SERVICES/India/Bengaluru/NoBroker\",\"CYBERSECURITY/United States/Palo Alto/Noname Security\",\"HEALTH/United States/New York/Noom\",\"OTHER/Sweden/Stockholm/Northvolt\",\"ARTIFICIAL INTELLIGENCE/Chile/Santiago/NotCo\",\"INTERNET SOFTWARE & SERVICES/United States/San Francisco/Notion Labs\",\"OTHER/Germany/Unterfoehring/NuCom Group\",\"FINTECH/Switzerland/Zurich/Numbrs\",\"AUTO & TRANSPORTATION/United States/Mountain View/Nuro\",\"E-COMMERCE & DIRECT-TO-CONSUMER/Brazil/Sao Paulo/Nuvemshop\",\"INTERNET SOFTWARE & SERVICES/China/Beijing/Nxin\",\"OTHER/Luxembourg/Leudelange/OCSiAl\",\"TEMASEK, GUGGENHEIM INVESTMENTS, QATAR INVESTMENT AUTHORITY/Singapore/Internet software & services/ONE\",\"OTHER/France/Roubaix/OVH\",\"OTHER/United Kingdom/Bristol/OVO Energy\",\"TRAVEL/India/Gurugram/OYO Rooms\",\"FINTECH/United Kingdom/London/OakNorth Bank\",\"E-COMMERCE & DIRECT-TO-CONSUMER/Norway/Oslo/Oda\",\"INTERNET SOFTWARE & SERVICES/Belgium/Louvain-la-Neuve/Odoo\",\"E-COMMERCE & DIRECT-TO-CONSUMER/India/Gurgaon/OfBusiness\",\"INTERNET SOFTWARE & SERVICES/United States/Princeton/Offchain Labs\",\"AUTO & TRANSPORTATION/India/Bengaluru/Ola Cabs\",\"AUTO & TRANSPORTATION/India/Bengaluru/Ola Electric Mobility\",\"E-COMMERCE & DIRECT-TO-CONSUMER/Brazil/Curitiba/Olist\",\"INTERNET SOFTWARE & SERVICES/United States/Columbus/Olive\",\"HEALTH/United States/San Francisco/Omada Health\",\"TRAVEL/Germany/Berlin/Omio\",\"INTERNET SOFTWARE & SERVICES/United States/Atlanta/OneTrust\",\"FINTECH/Nigeria/Lagos/Opay\",\"ARTIFICIAL INTELLIGENCE/United States/San Francisco/OpenAI\",\"E-COMMERCE & DIRECT-TO-CONSUMER/United States/New York/OpenSea\",\"INTERNET SOFTWARE & SERVICES/United States/New York/OpenWeb\",\"HARDWARE/United States/New York/Opentrons\",\"ARTIFICIAL INTELLIGENCE/Israel/Jerusalem/OrCam Technologies\",\"HARDWARE/China/Shenzhen/Orbbec Technology\",\"HEALTH/United States/Menlo Park/Orca Bio\",\"CYBERSECURITY/United States/Portland/Orca Security\",\"FINTECH/United States/New York/Orchard\",\"HEALTH/Germany/Duderstadt/Otto Bock HealthCare\",\"INTERNET SOFTWARE & SERVICES/United States/Boston/OutSystems\",\"INTERNET SOFTWARE & SERVICES/United States/Seattle/Outreach\",\"EDTECH/United States/San Francisco/Outschool\",\"INTERNET SOFTWARE & SERVICES/China/Shanghai/Ouyeel\",\"FINTECH/Indonesia/Jakarta/Ovo\",\"ARTIFICIAL INTELLIGENCE/United States/New York/Owkin\",\"DATA MANAGEMENT & ANALYTICS/United States/Englewood Cliffs/OwnBackup\",\"CONSUMER & RETAIL/United States/San Francisco/PAX\",\"INTERNET SOFTWARE & SERVICES/United States/Bellingham/PLACE\",\"FINTECH/United Kingdom/London/PPRO\",\"FINTECH/United States/Cincinnati/Pacaso\",\"FINTECH/Israel/Tel Aviv/Pagaya\",\"INTERNET SOFTWARE & SERVICES/United States/San Francisco/PandaDoc\",\"INTERNET SOFTWARE & SERVICES/United States/San Francisco/Pantheon Systems\",\"CYBERSECURITY/United States/San Francisco/Panther Labs\",\"HEALTH/United States/Miami/Papa\",\"INTERNET SOFTWARE & SERVICES/United States/New York/Papaya Global\",\"INTERNET SOFTWARE & SERVICES/United States/Scottsdale/Paradox\",\"CONSUMER & RETAIL/United States/New York/Pat McGrath Labs\",\"SEQUOIA CAPITAL CHINA, SHUNWEI CAPITAL PARTNERS, QUALGRO/Singapore/Internet software & services/PatSnap\",\"INTERNET SOFTWARE & SERVICES/United States/San Francisco/Patreon\",\"INTERNET SOFTWARE & SERVICES/United States/Lehi/Pattern\",\"FINTECH/United States/New York/Paxos\",\"FINTECH/United Kingdom/London/PayFit\",\"FINTECH/United Kingdom/London/Payhawk\",\"INTERNET SOFTWARE & SERVICES/United States/Raleigh/Pendo\",\"CYBERSECURITY/Israel/Petah Tikva/Pentera\",\"INTERNET SOFTWARE & SERVICES/United States/San Francisco/People.ai\",\"CYBERSECURITY/United States/San Francisco/Persona\",\"INTERNET SOFTWARE & SERVICES/Germany/Munich/Personio\",\"E-COMMERCE & DIRECT-TO-CONSUMER/Australia/Alexandria/Pet Circle\",\"FINTECH/United States/San Francisco/Phantom\",\"E-COMMERCE & DIRECT-TO-CONSUMER/United States/Islandia/Pharmapacks\",\"INTERNET SOFTWARE & SERVICES/United States/Ambler/Phenom People\",\"MOBILE & TELECOMMUNICATIONS/United States/San Francisco/PicsArt\",\"FINTECH/United States/San Francisco/Pilot.com\",\"FINTECH/India/Noida/Pine Labs\",\"EDTECH/China/Beijing/Pipa Coding\",\"FINTECH/United States/Miami/Pipe\",\"ARTIFICIAL INTELLIGENCE/United States/Los Altos/Placer.ai\",\"FINTECH/United States/San Francisco/Plaid\",\"OTHER/Japan/Tokyo/Playco\",\"FINTECH/Denmark/Copenhagen/Pleo\",\"INTERNET SOFTWARE & SERVICES/United States/Palo Alto/Plume\",\"INTERNET SOFTWARE & SERVICES/United States/Lehi/Podium\",\"INTERNET SOFTWARE & SERVICES/Canada/Mississauga/PointClickCare\",\"MOBILE & TELECOMMUNICATIONS/China/Shanghai/Poizon\",\"FINTECH/India/Gurgaon/PolicyBazaar\",\"ARTIFICIAL INTELLIGENCE/United States/Fremont/Pony.ai\",\"INTERNET SOFTWARE & SERVICES/United States/San Francisco/Postman\",\"ARTIFICIAL INTELLIGENCE/Japan/Tokyo/Preferred Networks\",\"HEALTH/United States/Cambridge/Prime Medicine\",\"OTHER/United States/Charlotte/Printful\",\"HEALTH/India/Gurugram/Pristyn Care\",\"INTERNET SOFTWARE & SERVICES/United States/San Francisco/Productboard\",\"SUPPLY CHAIN, LOGISTICS, & DELIVERY/United States/Chicago/Project44\",\"CONSUMER & RETAIL/South Africa/Bryanston/Promasidor Holdings\",\"HARDWARE/United States/Palo Alto/PsiQuantum\",\"FINTECH/United States/New York/Public\",\"INTERNET SOFTWARE & SERVICES/China/Shanghai/Qingting FM\",\"FINTECH/France/Paris/Qonto\",\"FINTECH/United States/San Francisco/Qualia\",\"DATA MANAGEMENT & ANALYTICS/United States/Colorado Springs/Quantum Metric\",\"E-COMMERCE & DIRECT-TO-CONSUMER/Brazil/Campinas/QuintoAndar\",\"EDTECH/United States/San Francisco/Quizlet\",\"DATA MANAGEMENT & ANALYTICS/United States/Seattle/Qumulo\",\"INTERNET SOFTWARE & SERVICES/United States/Mountain View/Quora\",\"SUPPLY CHAIN, LOGISTICS, & DELIVERY/United States/Miami/REEF Technology\",\"SUPPLY CHAIN, LOGISTICS, & DELIVERY/Finland/Helsinki/RELEX Solutions\",\"E-COMMERCE & DIRECT-TO-CONSUMER/South Korea/Seoul/RIDI\",\"HEALTH/United States/El Segundo/Radiology Partners\",\"FINTECH/United Kingdom/Crewe/Radius Payment Solutions\",\"FINTECH/United States/New York/Ramp\",\"SUPPLY CHAIN, LOGISTICS, & DELIVERY/Colombia/Bogota/Rappi\",\"FINTECH/United Kingdom/London/Rapyd\",\"CONSUMER & RETAIL/Germany/Berlin/Razor\",\"FINTECH/India/Bengaluru/Razorpay\",\"FINTECH/United States/Los Angeles/ReCharge\",\"E-COMMERCE & DIRECT-TO-CONSUMER/India/Pune/Rebel Foods\",\"ARTIFICIAL INTELLIGENCE/United States/Washington DC/Rebellion Defense\",\"INTERNET SOFTWARE & SERVICES/United States/Seattle/Rec Room\",\"OTHER/United States/Fort Mill/Red Ventures\",\"DATA MANAGEMENT & ANALYTICS/United States/Mountain View/Redis Labs\",\"OTHER/United States/Carson City/Redwood Materials\",\"HEALTH/United States/Boston/Reify Health\",\"INTERNET SOFTWARE & SERVICES/United States/Chicago/Relativity\",\"OTHER/United States/Inglewood/Relativity Space\",\"CYBERSECURITY/United States/Tampa/ReliaQuest\",\"DATA MANAGEMENT & ANALYTICS/United States/Redwood City/Reltio\",\"FINTECH/United States/San Francisco/Remote\",\"INTERNET SOFTWARE & SERVICES/United States/San Francisco/Retool\",\"FINTECH/United Kingdom/London/Revolut\",\"OTHER/Philippines/Manila/Revolution Precrafted\",\"HEALTH/United States/New York/Rightway\",\"FINTECH/United States/San Francisco/Ripple\",\"INTERNET SOFTWARE & SERVICES/United States/San Francisco/Rippling\",\"SUPPLY CHAIN, LOGISTICS, & DELIVERY/India/Gurgaon/Rivigo\",\"HEALTH/United States/New York/Ro\",\"SUPPLY CHAIN, LOGISTICS, & DELIVERY/Czech Republic/Prague/Rohlik\",\"INTERNET SOFTWARE & SERVICES/United States/New York/Rokt\",\"CONSUMER & RETAIL/United States/San Francisco/Rothy's\",\"SUPPLY CHAIN, LOGISTICS, & DELIVERY/United States/Lehi/Route\",\"HARDWARE/China/Shenzhen/Royole Corporation\",\"OTHER/United States/Atlanta/Rubicon\",\"DATA MANAGEMENT & ANALYTICS/United States/Palo Alto/Rubrik\",\"E-COMMERCE & DIRECT-TO-CONSUMER/China/Shenzhen/SHEIN\",\"OTHER/China/Guiyang/SITECH DEV\",\"INTERNET SOFTWARE & SERVICES/United States/Chicago/SMS Assist\",\"E-COMMERCE & DIRECT-TO-CONSUMER/Canada/Montreal/SSENSE\",\"SUPPLY CHAIN, LOGISTICS, & DELIVERY/United States/Atlanta/STORD\",\"AUTO & TRANSPORTATION/China/Changzhou/SVOLT\",\"HEALTH/United States/New York/SWORD Health\",\"INTERNET SOFTWARE & SERVICES/Australia/Sydney/SafetyCulture\",\"CYBERSECURITY/United States/Palo Alto/Salt Security\",\"FINTECH/United Kingdom/London/SaltPay\",\"DATA MANAGEMENT & ANALYTICS/United States/Palo Alto/SambaNova Systems\",\"E-COMMERCE & DIRECT-TO-CONSUMER/United States/El Segundo/Savage X Fenty\",\"FINTECH/Germany/Munich/Scalable Capital\",\"FINTECH/Italy/Milan/Scalapay\",\"ARTIFICIAL INTELLIGENCE/United States/San Francisco/Scale AI\",\"SUPPLY CHAIN, LOGISTICS, & DELIVERY/Switzerland/Zurich/Scandit\",\"MOBILE & TELECOMMUNICATIONS/United States/Culver City/Scopely\",\"INTERNET SOFTWARE & SERVICES/United States/Bellevue/SeekOut\",\"INTERNET SOFTWARE & SERVICES/United States/San Diego/Seismic\",\"E-COMMERCE & DIRECT-TO-CONSUMER/Germany/Berlin/SellerX\",\"MOBILE & TELECOMMUNICATIONS/United States/San Mateo/Sendbird\",\"SUPPLY CHAIN, LOGISTICS, & DELIVERY/Germany/Berlin/Sennder\",\"OTHER/United States/San Francisco/Sentry\",\"INTERNET SOFTWARE & SERVICES/United States/Glendale/ServiceTitan\",\"INTERNET SOFTWARE & SERVICES/India/Bengaluru/ShareChat\",\"ARTIFICIAL INTELLIGENCE/United States/San Diego/Shield AI\",\"ARTIFICIAL INTELLIGENCE/France/Paris/Shift Technology\",\"SUPPLY CHAIN, LOGISTICS, & DELIVERY/United States/Chicago/ShipBob\",\"SUPPLY CHAIN, LOGISTICS, & DELIVERY/United States/San Francisco/Shippo\",\"INTERNET SOFTWARE & SERVICES/United States/San Francisco/Side\",\"FINTECH/United States/El Segundo/Sidecar Health\",\"ARTIFICIAL INTELLIGENCE/United States/San Francisco/Sift\",\"FINTECH/United States/San Jose/Signifyd\",\"OTHER/United States/Alameda/Sila Nanotechnologies\",\"DATA MANAGEMENT & ANALYTICS/United States/New York/Sisense\",\"E-COMMERCE & DIRECT-TO-CONSUMER/United States/Los Angeles/Skims\",\"INTERNET SOFTWARE & SERVICES/Vietnam/Ho Chi Minh City/Sky Mavis\",\"OTHER/United States/Santa Monica/Skydance Media\",\"SUPPLY CHAIN, LOGISTICS, & DELIVERY/United States/Redwood City/Skydio\",\"FINTECH/India/Bengaluru/Slice\",\"FINTECH/United States/New York/SmartAsset\",\"FINTECH/Japan/Tokyo/SmartHR\",\"ARTIFICIAL INTELLIGENCE/China/Shenzhen/SmartMore\",\"MOBILE & TELECOMMUNICATIONS/Japan/Tokyo/SmartNews\",\"INTERNET SOFTWARE & SERVICES/United States/San Francisco/SmartRecruiters\",\"INTERNET SOFTWARE & SERVICES/United States/San Mateo/SnapLogic\",\"E-COMMERCE & DIRECT-TO-CONSUMER/India/New Delhi/Snapdeal\",\"FINTECH/United States/San Francisco/Snapdocs\",\"ARTIFICIAL INTELLIGENCE/United States/Palo Alto/Snorkel AI\",\"CYBERSECURITY/United States/Boston/Snyk\",\"AUTO & TRANSPORTATION/South Korea/Jeju-do/Socar\",\"CYBERSECURITY/United States/New York/Socure\",\"INTERNET SOFTWARE & SERVICES/United States/Cambridge/Solo.io\",\"OTHER/United States/Houston/Solugen\",\"HEALTH/United States/McLean/Somatus\",\"HEALTH/United States/Denver/SonderMind\",\"E-COMMERCE & DIRECT-TO-CONSUMER/France/Paris/Sorare\",\"E-COMMERCE & DIRECT-TO-CONSUMER/China/Hangzhou/SouChe Holdings\",\"ARTIFICIAL INTELLIGENCE/United States/Santa Clara/SoundHound\",\"INTERNET SOFTWARE & SERVICES/United States/San Francisco/Sourcegraph\",\"OTHER/United States/Hawthorne/SpaceX\",\"ARTIFICIAL INTELLIGENCE/United States/Austin/SparkCognition\",\"FINTECH/France/Paris/Spendesk\",\"OTHER/Japan/Tsuruoka/Spiber\",\"E-COMMERCE & DIRECT-TO-CONSUMER/India/Gurugram/Spinny\",\"INTERNET SOFTWARE & SERVICES/United States/San Jose/Splashtop\",\"FINTECH/United States/San Francisco/SpotOn\",\"FINTECH/United States/Los Angeles/Spotter\",\"HEALTH/United States/New York/Spring Health\",\"ARTIFICIAL INTELLIGENCE/United States/San Francisco/Standard\",\"AUTO & TRANSPORTATION/China/Changzhou/Star Charge\",\"DATA MANAGEMENT & ANALYTICS/United States/Boston/Starburst\",\"CYBERSECURITY/Israel/Netanya/StarkWare\",\"FINTECH/United Kingdom/London/Starling Bank\",\"MOBILE & TELECOMMUNICATIONS/United States/Boston/Starry\",\"FINTECH/United States/New York/Stash\",\"E-COMMERCE & DIRECT-TO-CONSUMER/United States/Detroit/StockX\",\"OTHER/Israel/Herzliya/StoreDot\",\"INTERNET SOFTWARE & SERVICES/United States/San Francisco/Strava\",\"FINTECH/United States/San Francisco/Stripe\",\"CYBERSECURITY/United States/San Francisco/Stytch\",\"FINTECH/United Kingdom/London/SumUp\",\"FINTECH/United States/Los Angeles/Sunbit\",\"SUPPLY CHAIN, LOGISTICS, & DELIVERY/India/Bengaluru/Swiggy\",\"FINTECH/France/Montpellier/Swile\",\"FINTECH/United States/New York/Symphony\",\"CYBERSECURITY/United States/San Francisco/Sysdig\",\"FINTECH/China/Qingdao/TELD\",\"HARDWARE/China/Beijing/TERMINUS Technology\",\"ARTIFICIAL INTELLIGENCE/China/Guangzhou/TUNGEE\",\"INTERNET SOFTWARE & SERVICES/United States/Boise/Tackle.io\",\"INTERNET SOFTWARE & SERVICES/United States/San Francisco/Talkdesk\",\"MOBILE & TELECOMMUNICATIONS/China/Beijing/TalkingData\",\"MOBILE & TELECOMMUNICATIONS/United States/Mountain View/TangoMe\",\"CYBERSECURITY/United States/Kirkland/Tanium\",\"FINTECH/United States/Draper/TaxBit\",\"INTERNET SOFTWARE & SERVICES/United States/San Diego/Tealium\",\"E-COMMERCE & DIRECT-TO-CONSUMER/United States/El Segundo/TechStyle Fashion Group\",\"INTERNET SOFTWARE & SERVICES/United States/San Ramon/Tekion\",\"INTERNET SOFTWARE & SERVICES/United States/Bellevue/Temporal\",\"HEALTH/United States/Chicago/Tempus\",\"ARTIFICIAL INTELLIGENCE/Canada/Toronto/TensTorrent\",\"INTERNET SOFTWARE & SERVICES/China/Shanghai/Tezign\",\"FINTECH/United Kingdom/London/The Bank of London\",\"E-COMMERCE & DIRECT-TO-CONSUMER/United States/Austin/The Zebra\",\"HEALTH/United States/New York/Thirty Madison\",\"FINTECH/United Kingdom/London/Thought Machine\",\"INTERNET SOFTWARE & SERVICES/United States/Sunnyvale/ThoughtSpot\",\"OTHER/United States/Walpole/Thrasio\",\"E-COMMERCE & DIRECT-TO-CONSUMER/United States/San Francisco/Thumbtack\",\"TRAVEL/Germany/Berlin/Tier\",\"INTERNET SOFTWARE & SERVICES/United States/New York/Timescale\",\"FINTECH/United States/San Mateo/Tipalti\",\"E-COMMERCE & DIRECT-TO-CONSUMER/United States/San Francisco/Tonal\",\"CYBERSECURITY/China/Hangzhou/Tongdun Technology\",\"FINTECH/South Korea/Seoul/Toss\",\"ARTIFICIAL INTELLIGENCE/United Kingdom/London/Tractable\",\"FINTECH/Germany/Berlin/Trade Republic\",\"OTHER/United States/Norfolk/Trader Interactive\",\"FINTECH/United States/San Francisco/Tradeshift\",\"FINTECH/United States/Westerville/TradingView\",\"HEALTH/United States/San Francisco/Transcarent\",\"CYBERSECURITY/Israel/Tel Aviv/Transmit Security\",\"TRAVEL/Spain/Barcelona/TravelPerk\",\"TRAVEL/Indonesia/Jakarta/Traveloka\",\"HOPU INVESTMENT MANAGEMENT, BOYU CAPITAL, DC THOMSON VENTURES/Singapore/Artificial intelligence/Trax\",\"CONSUMER & RETAIL/Hong Kong/Kowloon/Trendy Group International\",\"FINTECH/United States/Charlotte/Tresata\",\"HEALTH/United States/New York/TrialSpark\",\"TRAVEL/United States/Palo Alto/TripActions\",\"MOBILE & TELECOMMUNICATIONS/United Kingdom/London/Tripledot Studios\",\"FINTECH/United Kingdom/London/TrueLayer\",\"HEALTH/United States/Hayward/Truepill\",\"CYBERSECURITY/Canada/Vancouver/Trulioo\",\"FINTECH/United States/New York/Trumid\",\"TRAVEL/China/Beijing/TuJia\",\"E-COMMERCE & DIRECT-TO-CONSUMER/China/Shenzhen/Tubatu.com\",\"AUTO & TRANSPORTATION/China/Shanghai/Tuhu\",\"INTERNET SOFTWARE & SERVICES/United States/Palo Alto/Turing\",\"HARDWARE/China/Shenzhen/UBTECH Robotics\",\"SUPPLY CHAIN, LOGISTICS, & DELIVERY/China/Beijing/UISEE Technology\",\"FINTECH/Argentina/Buenos Aires/Uala\",\"SUPPLY CHAIN, LOGISTICS, & DELIVERY/India/Bengaluru/Udaan\",\"EDTECH/India/Bengaluru/Unacademy\",\"ARTIFICIAL INTELLIGENCE/Brazil/Sao Paulo/Unico\",\"ARTIFICIAL INTELLIGENCE/United States/Palo Alto/Uniphore\",\"ARTIFICIAL INTELLIGENCE/China/Beijing/Unisound\",\"HEALTH/United States/New York/Unite Us\",\"HEALTH/China/Shanghai/United Imaging Healthcare\",\"FINTECH/United States/New York/Unqork\",\"EDTECH/India/Mumbai/UpGrad\",\"FINTECH/United States/San Francisco/Upgrade\",\"OTHER/United States/Boulder/Uplight\",\"FINTECH/India/Mumbai/Upstox\",\"ARTIFICIAL INTELLIGENCE/United States/Chicago/Uptake\",\"E-COMMERCE & DIRECT-TO-CONSUMER/India/Gurgaon/Urban Company\",\"DATA MANAGEMENT & ANALYTICS/United States/New York/VAST Data\",\"EDTECH/China/Beijing/VIPKid\",\"TRAVEL/Sweden/Stockholm/VOI\",\"INTERNET SOFTWARE & SERVICES/United States/New York/VTS\",\"INTERNET SOFTWARE & SERVICES/United States/Dublin/Vagaro\",\"FINTECH/United States/San Francisco/Varo Bank\",\"ARTIFICIAL INTELLIGENCE/United States/San Jose/Vectra Networks\",\"EDTECH/India/Bengaluru/Vedantu\",\"E-COMMERCE & DIRECT-TO-CONSUMER/France/La Plaine Saint-Denis/Veepee\",\"INTERNET SOFTWARE & SERVICES/United States/San Mateo/Veev\",\"SUPPLY CHAIN, LOGISTICS, & DELIVERY/United States/Boulder/Veho\",\"CYBERSECURITY/United States/Salt Lake City/Venafi\",\"ARTIFICIAL INTELLIGENCE/United States/New York/VerbIT\",\"INTERNET SOFTWARE & SERVICES/United States/San Francisco/Vercel\",\"ARTIFICIAL INTELLIGENCE/Estonia/Tallinn/Veriff\",\"CYBERSECURITY/United States/San Mateo/Verkada\",\"E-COMMERCE & DIRECT-TO-CONSUMER/France/Paris/Vestiaire Collective\",\"AUTO & TRANSPORTATION/United States/New York/Via\",\"INTERNET SOFTWARE & SERVICES/United States/Brooklyn/Vice Media\",\"INTERNET SOFTWARE & SERVICES/United States/Los Angeles/VideoAmp\",\"E-COMMERCE & DIRECT-TO-CONSUMER/Lithuania/Vilnius/Vinted\",\"HEALTH/United States/San Francisco/Virta Health\",\"FINTECH/United States/New York/Vise\",\"INTERNET SOFTWARE & SERVICES/Canada/Vancouver/Visier\",\"OTHER/United Arab Emirates/Dubai/Vista Global\",\"OTHER/France/Paris/Voodoo\",\"INTERNET SOFTWARE & SERVICES/United States/Washington/Vox Media\",\"E-COMMERCE & DIRECT-TO-CONSUMER/United States/Carlsbad/Vuori\",\"E-COMMERCE & DIRECT-TO-CONSUMER/South Korea/Seoul/WEMAKEPRICE\",\"AUTO & TRANSPORTATION/China/Shanghai/WM Motor\",\"INTERNET SOFTWARE & SERVICES/China/Guangzhou/WTOIP\",\"MOBILE & TELECOMMUNICATIONS/China/Hangzhou/Wacai\",\"INTERNET SOFTWARE & SERVICES/United States/San Francisco/Watershed\",\"FINTECH/Senegal/Dakar/Wave\",\"FINTECH/Ireland/Dublin/Wayflyer\",\"HEALTH/China/Hangzhou/We Doctor\",\"FINTECH/China/Changsha/WeBull\",\"SEQUOIA CAPITAL CHINA, ING, ALIBABA ENTREPRENEURS FUND/Hong Kong/Fintech/WeLab\",\"AUTO & TRANSPORTATION/China/Guangzhou/WeRide\",\"INTERNET SOFTWARE & SERVICES/United States/San Francisco/Webflow\",\"SUPPLY CHAIN, LOGISTICS, & DELIVERY/United States/Fremont/Weee!\",\"CONSUMER & RETAIL/China/Luohe/Weilong\",\"OTHER/China/Hunan/Wenheyou\",\"E-COMMERCE & DIRECT-TO-CONSUMER/United States/Marina del Rey/Whatnot\",\"E-COMMERCE & DIRECT-TO-CONSUMER/United States/Boston/Whoop\",\"OTHER/Brazil/Sao Paulo/Wildlife Studios\",\"CYBERSECURITY/Israel/Tel Aviv/Wiz\",\"E-COMMERCE & DIRECT-TO-CONSUMER/China/Beijing/Womai\",\"INTERNET SOFTWARE & SERVICES/United States/Mountain View/Workato\",\"INTERNET SOFTWARE & SERVICES/Ireland/Dublin/Workhuman\",\"INTERNET SOFTWARE & SERVICES/United States/Austin/Workrise\",\"FINTECH/United States/New York/Wrapbook\",\"INTERNET SOFTWARE & SERVICES/China/Shanghai/XForcePlus\",\"FINTECH/Indonesia/Jakarta/Xendit\",\"TRAVEL/China/Beijing/XiaoZhu\",\"FINTECH/China/Beijing/Xiaobing\",\"E-COMMERCE & DIRECT-TO-CONSUMER/China/Shanghai/Xiaohongshu\",\"MOBILE & TELECOMMUNICATIONS/China/Shanghai/Ximalaya FM\",\"INTERNET SOFTWARE & SERVICES/China/Chengdu/Xinchao Media\",\"E-COMMERCE & DIRECT-TO-CONSUMER/China/Changsha/Xingsheng Selected\",\"E-COMMERCE & DIRECT-TO-CONSUMER/China/Shenzhen/Xingyun Group\",\"SUPPLY CHAIN, LOGISTICS, & DELIVERY/India/Pune/Xpressbees\",\"ARTIFICIAL INTELLIGENCE/China/Shenzhen/XtalPi\",\"SUPPLY CHAIN, LOGISTICS, & DELIVERY/China/Shenzhen/YH Global\",\"ARTIFICIAL INTELLIGENCE/China/Shanghai/YITU Technology\",\"TRAVEL/South Korea/Seoul/Yanolja\",\"HEALTH/China/Guangzhou/Yaoshibang\",\"MOBILE & TELECOMMUNICATIONS/South Korea/Seoul/Yello Mobile\",\"MOBILE & TELECOMMUNICATIONS/China/Beijing/Yidian Zixun\",\"SUPPLY CHAIN, LOGISTICS, & DELIVERY/China/Shanghai/Yiguo\",\"CONSUMER & RETAIL/China/Beijing/Yijiupi\",\"SUPPLY CHAIN, LOGISTICS, & DELIVERY/China/Shanghai/Yimidida\",\"E-COMMERCE & DIRECT-TO-CONSUMER/China/Hefei/Yipin Shengxian\",\"INTERNET SOFTWARE & SERVICES/United States/New York/YipitData\",\"MOBILE & TELECOMMUNICATIONS/China/Beijing/Yixia\",\"OTHER/France/Evry/Ynsect\",\"INTERNET SOFTWARE & SERVICES/United States/New York/Yotpo\",\"OTHER/United States/New York/You & Mr Jones\",\"AUTO & TRANSPORTATION/China/Shanghai/Youxia Motors\",\"EDTECH/China/Beijing/Yuanfudao\",\"CONSUMER & RETAIL/China/Beijing/Yuanqi Senlin\",\"DATA MANAGEMENT & ANALYTICS/United States/Sunnyvale/YugaByte\",\"SUPPLY CHAIN, LOGISTICS, & DELIVERY/China/Shanghai/YunQuNa\",\"EDTECH/China/Suzhou/Yunxuetang\",\"FINTECH/United Kingdom/London/ZEPZ\",\"INTERNET SOFTWARE & SERVICES/United States/Sunnyvale/Zapier\",\"FINTECH/United Kingdom/London/Zego\",\"FINTECH/United States/Austin/ZenBusiness\",\"INTERNET SOFTWARE & SERVICES/United States/Bellevue/Zenoti\",\"FINTECH/United States/San Francisco/Zeta\",\"INTERNET SOFTWARE & SERVICES/India/Bengaluru/Zetwerk\",\"E-COMMERCE & DIRECT-TO-CONSUMER/China/Shanghai/Zhaogang\",\"E-COMMERCE & DIRECT-TO-CONSUMER/China/Beijing/Zhuan Zhuan\",\"INTERNET SOFTWARE & SERVICES/China/Chongqing/Zhubajie\",\"CONSUMER & RETAIL/China/Chongqing/Zihaiguo\",\"FINTECH/United Kingdom/London/Zilch\",\"SUPPLY CHAIN, LOGISTICS, & DELIVERY/United States/South San Francisco/Zipline\",\"E-COMMERCE & DIRECT-TO-CONSUMER/China/Beijing/Ziroom\",\"HEALTH/United States/New York/ZocDoc\",\"AUTO & TRANSPORTATION/China/Shanghai/ZongMu Technology\",\"FINTECH/United Kingdom/London/Zopa\",\"CONSUMER & RETAIL/United States/Mountain View/Zume\",\"EDTECH/China/Beijing/Zuoyebang\",\"E-COMMERCE & DIRECT-TO-CONSUMER/United States/Long Beach/Zwift\",\"INTERNET SOFTWARE & SERVICES/India/Bengaluru/apna\",\"MUNDI VENTURES, DOQLING CAPITAL PARTNERS, ACTIVANT CAPITAL/Singapore/Fintech/bolttech\",\"FINTECH/United States/New York/candy.com\",\"DATA MANAGEMENT & ANALYTICS/United States/Philadelphia/dbt Labs\",\"E-COMMERCE & DIRECT-TO-CONSUMER/China/Shanghai/eDaili\",\"CYBERSECURITY/Canada/Waterloo/eSentire\",\"SUPPLY CHAIN, LOGISTICS, & DELIVERY/United States/Boston/ezCater\",\"E-COMMERCE & DIRECT-TO-CONSUMER/United States/Philadelphia/goPuff\",\"FINTECH/United States/New York/iCapital Network\",\"ARTIFICIAL INTELLIGENCE/China/Shenzhen/iCarbonX\",\"SUPPLY CHAIN, LOGISTICS, & DELIVERY/Brazil/Osasco/iFood\",\"FINTECH/United States/Long Beach/iTrustCapital\",\"EDTECH/China/Shanghai/iTutorGroup\",\"ARTIFICIAL INTELLIGENCE/United States/Dallas/o9 Solutions\",\"INTERNET SOFTWARE & SERVICES/United States/San Francisco/reddit\",\"FINTECH/Germany/Berlin/solarisBank\",\"FINTECH/Germany/Berlin/wefox\",\"FINTECH/Denmark/Aarhus\",\"CONSUMER & RETAIL/United Kingdom/Aberdeen\",\"OTHER/United States/Alameda\",\"E-COMMERCE & DIRECT-TO-CONSUMER/Australia/Alexandria\",\"DATA MANAGEMENT & ANALYTICS/United Kingdom/Altrincham\",\"INTERNET SOFTWARE & SERVICES/United States/Ambler\",\"E-COMMERCE & DIRECT-TO-CONSUMER/Netherlands/Amsterdam\",\"FINTECH/Netherlands/Amsterdam\",\"HARDWARE/Netherlands/Amsterdam\",\"MOBILE & TELECOMMUNICATIONS/Netherlands/Amsterdam\",\"EDTECH/India/Andheri\",\"FINTECH/United States/Arlington\",\"HOPU INVESTMENT MANAGEMENT, BOYU CAPITAL, DC THOMSON VENTURES/Singapore/Artificial intelligence\",\"VISION PLUS CAPITAL, GSR VENTURES, ZHENFUND/Singapore/Artificial intelligence\",\"FINTECH/United States/Atlanta\",\"HARDWARE/United States/Atlanta\",\"INTERNET SOFTWARE & SERVICES/United States/Atlanta\",\"OTHER/United States/Atlanta\",\"SUPPLY CHAIN, LOGISTICS, & DELIVERY/United States/Atlanta\",\"ARTIFICIAL INTELLIGENCE/United States/Austin\",\"CONSUMER & RETAIL/United States/Austin\",\"DATA MANAGEMENT & ANALYTICS/United States/Austin\",\"E-COMMERCE & DIRECT-TO-CONSUMER/United States/Austin\",\"FINTECH/United States/Austin\",\"INTERNET SOFTWARE & SERVICES/United States/Austin\",\"FINTECH/India/Bangalore\",\"FINTECH/Thailand/Bangkok\",\"SUPPLY CHAIN, LOGISTICS, & DELIVERY/Thailand/Bangkok\",\"TRAVEL/Spain/Barcelona\",\"ARTIFICIAL INTELLIGENCE/China/Beijing\",\"CONSUMER & RETAIL/China/Beijing\",\"DATA MANAGEMENT & ANALYTICS/China/Beijing\",\"E-COMMERCE & DIRECT-TO-CONSUMER/China/Beijing\",\"EDTECH/China/Beijing\",\"FINTECH/China/Beijing\",\"HARDWARE/China/Beijing\",\"HEALTH/China/Beijing\",\"INTERNET SOFTWARE & SERVICES/China/Beijing\",\"MOBILE & TELECOMMUNICATIONS/China/Beijing\",\"SUPPLY CHAIN, LOGISTICS, & DELIVERY/China/Beijing\",\"TRAVEL/China/Beijing\",\"ARTIFICIAL INTELLIGENCE/United States/Bellevue\",\"E-COMMERCE & DIRECT-TO-CONSUMER/United States/Bellevue\",\"INTERNET SOFTWARE & SERVICES/United States/Bellevue\",\"INTERNET SOFTWARE & SERVICES/United States/Bellingham\",\"E-COMMERCE & DIRECT-TO-CONSUMER/United States/Bend\",\"AUTO & TRANSPORTATION/India/Bengaluru\",\"E-COMMERCE & DIRECT-TO-CONSUMER/India/Bengaluru\",\"EDTECH/India/Bengaluru\",\"FINTECH/India/Bengaluru\",\"HEALTH/India/Bengaluru\",\"INTERNET SOFTWARE & SERVICES/India/Bengaluru\",\"MOBILE & TELECOMMUNICATIONS/India/Bengaluru\",\"OTHER/India/Bengaluru\",\"SUPPLY CHAIN, LOGISTICS, & DELIVERY/India/Bengaluru\",\"ARTIFICIAL INTELLIGENCE/United States/Berkeley\",\"INTERNET SOFTWARE & SERVICES/United States/Berkeley\",\"DATA MANAGEMENT & ANALYTICS/United States/Berkeley Heights\",\"CONSUMER & RETAIL/Germany/Berlin\",\"E-COMMERCE & DIRECT-TO-CONSUMER/Germany/Berlin\",\"FINTECH/Germany/Berlin\",\"INTERNET SOFTWARE & SERVICES/Germany/Berlin\",\"OTHER/Germany/Berlin\",\"SUPPLY CHAIN, LOGISTICS, & DELIVERY/Germany/Berlin\",\"TRAVEL/Germany/Berlin\",\"HEALTH/United States/Bethesda\",\"HEALTH/United States/Boca Raton\",\"OTHER/Colombia/Bogota\",\"SUPPLY CHAIN, LOGISTICS, & DELIVERY/Colombia/Bogota\",\"INTERNET SOFTWARE & SERVICES/United States/Boise\",\"ARTIFICIAL INTELLIGENCE/United States/Boston\",\"CYBERSECURITY/United States/Boston\",\"DATA MANAGEMENT & ANALYTICS/United States/Boston\",\"E-COMMERCE & DIRECT-TO-CONSUMER/United States/Boston\",\"FINTECH/United States/Boston\",\"HEALTH/United States/Boston\",\"INTERNET SOFTWARE & SERVICES/United States/Boston\",\"MOBILE & TELECOMMUNICATIONS/United States/Boston\",\"SUPPLY CHAIN, LOGISTICS, & DELIVERY/United States/Boston\",\"OTHER/United States/Boulder\",\"SUPPLY CHAIN, LOGISTICS, & DELIVERY/United States/Boulder\",\"INTERNET SOFTWARE & SERVICES/Australia/Brisbane\",\"HEALTH/United States/Brisbane\",\"ARTIFICIAL INTELLIGENCE/United Kingdom/Bristol\",\"OTHER/United Kingdom/Bristol\",\"HEALTH/United States/Brooklyn\",\"INTERNET SOFTWARE & SERVICES/United States/Brooklyn\",\"DATA MANAGEMENT & ANALYTICS/Belgium/Brussels\",\"CONSUMER & RETAIL/South Africa/Bryanston\",\"FINTECH/Argentina/Buenos Aires\",\"HEALTH/United States/Burlingame\",\"CYBERSECURITY/United States/Burlington\",\"INTERNET SOFTWARE & SERVICES/Canada/Burnaby\",\"HEALTH/United Kingdom/Cambridge\",\"DATA MANAGEMENT & ANALYTICS/United States/Cambridge\",\"HEALTH/United States/Cambridge\",\"INTERNET SOFTWARE & SERVICES/United States/Cambridge\",\"MOBILE & TELECOMMUNICATIONS/United States/Cambridge\",\"OTHER/United States/Cambridge\",\"E-COMMERCE & DIRECT-TO-CONSUMER/Brazil/Campinas\",\"E-COMMERCE & DIRECT-TO-CONSUMER/United States/Carlsbad\",\"OTHER/United States/Carson City\",\"OTHER/United States/Cary\",\"OTHER/United States/Cedar Park\",\"TRAVEL/Hong Kong/Central\",\"E-COMMERCE & DIRECT-TO-CONSUMER/China/Changsha\",\"FINTECH/China/Changsha\",\"AUTO & TRANSPORTATION/China/Changzhou\",\"FINTECH/United States/Charlotte\",\"OTHER/United States/Charlotte\",\"FINTECH/United States/Chatham\",\"HEALTH/China/Chengdu\",\"INTERNET SOFTWARE & SERVICES/China/Chengdu\",\"SUPPLY CHAIN, LOGISTICS, & DELIVERY/China/Chengdu\",\"OTHER/India/Chennai\",\"SUPPLY CHAIN, LOGISTICS, & DELIVERY/Hong Kong/Cheung Sha Wan\",\"ARTIFICIAL INTELLIGENCE/United States/Chicago\",\"DATA MANAGEMENT & ANALYTICS/United States/Chicago\",\"E-COMMERCE & DIRECT-TO-CONSUMER/United States/Chicago\",\"FINTECH/United States/Chicago\",\"HEALTH/United States/Chicago\",\"INTERNET SOFTWARE & SERVICES/United States/Chicago\",\"OTHER/United States/Chicago\",\"SUPPLY CHAIN, LOGISTICS, & DELIVERY/United States/Chicago\",\"CONSUMER & RETAIL/China/Chongqing\",\"INTERNET SOFTWARE & SERVICES/China/Chongqing\",\"FINTECH/United States/Cincinnati\",\"OTHER/United Kingdom/Colchester\",\"DATA MANAGEMENT & ANALYTICS/United States/Colorado Springs\",\"INTERNET SOFTWARE & SERVICES/United States/Columbus\",\"FINTECH/Denmark/Copenhagen\",\"FINTECH/United Kingdom/Crewe\",\"HARDWARE/France/Croix\",\"E-COMMERCE & DIRECT-TO-CONSUMER/United States/Culver City\",\"INTERNET SOFTWARE & SERVICES/United States/Culver City\",\"MOBILE & TELECOMMUNICATIONS/United States/Culver City\",\"E-COMMERCE & DIRECT-TO-CONSUMER/Brazil/Curitiba\",\"FINTECH/Brazil/Curitiba\",\"FINTECH/Senegal/Dakar\",\"ARTIFICIAL INTELLIGENCE/United States/Dallas\",\"INTERNET SOFTWARE & SERVICES/United States/Dallas\",\"SUPPLY CHAIN, LOGISTICS, & DELIVERY/United States/Dallas\",\"FINTECH/United States/Denver\",\"HEALTH/United States/Denver\",\"INTERNET SOFTWARE & SERVICES/United States/Denver\",\"E-COMMERCE & DIRECT-TO-CONSUMER/United States/Detroit\",\"E-COMMERCE & DIRECT-TO-CONSUMER/China/Dongguan\",\"FINTECH/United States/Draper\",\"OTHER/United Arab Emirates/Dubai\",\"SUPPLY CHAIN, LOGISTICS, & DELIVERY/United Arab Emirates/Dubai\",\"FINTECH/Ireland/Dublin\",\"HEALTH/Ireland/Dublin\",\"INTERNET SOFTWARE & SERVICES/Ireland/Dublin\",\"INTERNET SOFTWARE & SERVICES/United States/Dublin\",\"HEALTH/Germany/Duderstadt\",\"ANDREESSEN HOROWITZ, DST GLOBAL, IDG CAPITAL/Hong Kong/E-commerce & direct-to-consumer\",\"500 GLOBAL, RAKUTEN VENTURES, GOLDEN GATE VENTURES/Singapore/E-commerce & direct-to-consumer\",\"JUNGLE VENTURES, ACCEL, VENTURE HIGHWAY/Singapore/E-commerce & direct-to-consumer\",\"SINGTEL INNOV8, ALPHA JWC VENTURES, GOLDEN GATE VENTURES/Singapore/E-commerce & direct-to-consumer\",\"CYBERSECURITY/United States/Eden Prairie\",\"E-COMMERCE & DIRECT-TO-CONSUMER/United States/El Segundo\",\"FINTECH/United States/El Segundo\",\"HEALTH/United States/El Segundo\",\"OTHER/United States/El Segundo\",\"SUPPLY CHAIN, LOGISTICS, & DELIVERY/United States/Encinitas\",\"OTHER/United States/Englewood\",\"DATA MANAGEMENT & ANALYTICS/United States/Englewood Cliffs\",\"MOBILE & TELECOMMUNICATIONS/Finland/Espoo\",\"OTHER/France/Evry\",\"E-COMMERCE & DIRECT-TO-CONSUMER/India/Faridabad\",\"SEQUOIA CAPITAL, THOMA BRAVO, SOFTBANK/Bahamas/Fintech\",\"SEQUOIA CAPITAL CHINA, ING, ALIBABA ENTREPRENEURS FUND/Hong Kong/Fintech\",\"TIGER GLOBAL MANAGEMENT, TIGER BROKERS, DCM VENTURES/Hong Kong/Fintech\",\"DRAGONFLY CAPTIAL, QIMING VENTURE PARTNERS, DST GLOBAL/Singapore/Fintech\",\"MUNDI VENTURES, DOQLING CAPITAL PARTNERS, ACTIVANT CAPITAL/Singapore/Fintech\",\"VERTEX VENTURES SE ASIA, GLOBAL FOUNDERS CAPITAL, VISA VENTURES/Singapore/Fintech\",\"OTHER/United States/Fort Mill\",\"CYBERSECURITY/United States/Foster City\",\"HEALTH/United States/Framingham\",\"ARTIFICIAL INTELLIGENCE/United States/Fremont\",\"SUPPLY CHAIN, LOGISTICS, & DELIVERY/United States/Fremont\",\"FINTECH/Belgium/Ghent\",\"FINTECH/Israel/Giv'atayim\",\"EDTECH/United States/Glendale\",\"INTERNET SOFTWARE & SERVICES/United States/Glendale\",\"OTHER/United States/Goleta\",\"ARTIFICIAL INTELLIGENCE/China/Guangzhou\",\"AUTO & TRANSPORTATION/China/Guangzhou\",\"HEALTH/China/Guangzhou\",\"INTERNET SOFTWARE & SERVICES/China/Guangzhou\",\"OTHER/China/Guiyang\",\"E-COMMERCE & DIRECT-TO-CONSUMER/India/Gurgaon\",\"FINTECH/India/Gurgaon\",\"SUPPLY CHAIN, LOGISTICS, & DELIVERY/India/Gurgaon\",\"E-COMMERCE & DIRECT-TO-CONSUMER/India/Gurugram\",\"FINTECH/India/Gurugram\",\"HEALTH/India/Gurugram\",\"TRAVEL/India/Gurugram\",\"ARTIFICIAL INTELLIGENCE/Bermuda/Hamilton\",\"AUTO & TRANSPORTATION/China/Hangzhou\",\"CYBERSECURITY/China/Hangzhou\",\"DATA MANAGEMENT & ANALYTICS/China/Hangzhou\",\"E-COMMERCE & DIRECT-TO-CONSUMER/China/Hangzhou\",\"FINTECH/China/Hangzhou\",\"HARDWARE/China/Hangzhou\",\"HEALTH/China/Hangzhou\",\"INTERNET SOFTWARE & SERVICES/China/Hangzhou\",\"MOBILE & TELECOMMUNICATIONS/China/Hangzhou\",\"CYBERSECURITY/United States/Hanover\",\"OTHER/United States/Hawthorne\",\"HEALTH/United States/Hayward\",\"E-COMMERCE & DIRECT-TO-CONSUMER/China/Hefei\",\"INTERNET SOFTWARE & SERVICES/Finland/Helsinki\",\"SUPPLY CHAIN, LOGISTICS, & DELIVERY/Finland/Helsinki\",\"CYBERSECURITY/United States/Herndon\",\"OTHER/Israel/Herzliya\",\"FINTECH/Vietnam/Ho Chi Minh City\",\"INTERNET SOFTWARE & SERVICES/Vietnam/Ho Chi Minh City\",\"FINTECH/United States/Hoboken\",\"MOBILE & TELECOMMUNICATIONS/United States/Hoboken\",\"FINTECH/United States/Houston\",\"OTHER/United States/Houston\",\"OTHER/China/Hunan\",\"INTERNET SOFTWARE & SERVICES/India/Hyderabad\",\"OTHER/United States/Inglewood\",\"SEQUOIA CAPITAL CHINA, SHUNWEI CAPITAL PARTNERS, QUALGRO/Singapore/Internet software & services\",\"TEMASEK, GUGGENHEIM INVESTMENTS, QATAR INVESTMENT AUTHORITY/Singapore/Internet software & services\",\"ARTIFICIAL INTELLIGENCE/United States/Irvine\",\"INTERNET SOFTWARE & SERVICES/United States/Irvine\",\"HEALTH/United States/Irving\",\"E-COMMERCE & DIRECT-TO-CONSUMER/United States/Islandia\",\"E-COMMERCE & DIRECT-TO-CONSUMER/Turkey/Istanbul\",\"INTERNET SOFTWARE & SERVICES/Turkey/Istanbul\",\"MOBILE & TELECOMMUNICATIONS/Turkey/Istanbul\",\"E-COMMERCE & DIRECT-TO-CONSUMER/United States/Jacksonville\",\"E-COMMERCE & DIRECT-TO-CONSUMER/India/Jaipur\",\"CONSUMER & RETAIL/Indonesia/Jakarta\",\"E-COMMERCE & DIRECT-TO-CONSUMER/Indonesia/Jakarta\",\"FINTECH/Indonesia/Jakarta\",\"SUPPLY CHAIN, LOGISTICS, & DELIVERY/Indonesia/Jakarta\",\"TRAVEL/Indonesia/Jakarta\",\"AUTO & TRANSPORTATION/South Korea/Jeju-do\",\"FINTECH/United States/Jersey City\",\"ARTIFICIAL INTELLIGENCE/Israel/Jerusalem\",\"E-COMMERCE & DIRECT-TO-CONSUMER/China/Jiangsu\",\"CYBERSECURITY/United States/Kirkland\",\"EDTECH/Canada/Kitchener\",\"CONSUMER & RETAIL/Hong Kong/Kowloon\",\"E-COMMERCE & DIRECT-TO-CONSUMER/France/La Plaine Saint-Denis\",\"FINTECH/Nigeria/Lagos\",\"HEALTH/Switzerland/Lausanne\",\"FINTECH/United States/Leawood\",\"FINTECH/United States/Lehi\",\"INTERNET SOFTWARE & SERVICES/United States/Lehi\",\"SUPPLY CHAIN, LOGISTICS, & DELIVERY/United States/Lehi\",\"E-COMMERCE & DIRECT-TO-CONSUMER/Mexico/Lerma de Villada\",\"OTHER/Luxembourg/Leudelange\",\"FINTECH/United States/Lincoln\",\"ARTIFICIAL INTELLIGENCE/United Kingdom/London\",\"AUTO & TRANSPORTATION/United Kingdom/London\",\"E-COMMERCE & DIRECT-TO-CONSUMER/United Kingdom/London\",\"FINTECH/United Kingdom/London\",\"HARDWARE/United Kingdom/London\",\"INTERNET SOFTWARE & SERVICES/United Kingdom/London\",\"MOBILE & TELECOMMUNICATIONS/United Kingdom/London\",\"OTHER/United Kingdom/London\",\"SUPPLY CHAIN, LOGISTICS, & DELIVERY/United Kingdom/London\",\"E-COMMERCE & DIRECT-TO-CONSUMER/United States/Long Beach\",\"FINTECH/United States/Long Beach\",\"ARTIFICIAL INTELLIGENCE/United States/Los Altos\",\"CYBERSECURITY/United States/Los Altos\",\"HARDWARE/United States/Los Altos\",\"E-COMMERCE & DIRECT-TO-CONSUMER/United States/Los Angeles\",\"FINTECH/United States/Los Angeles\",\"INTERNET SOFTWARE & SERVICES/United States/Los Angeles\",\"OTHER/United States/Los Angeles\",\"DATA MANAGEMENT & ANALYTICS/United States/Louisville\",\"INTERNET SOFTWARE & SERVICES/Belgium/Louvain-la-Neuve\",\"CONSUMER & RETAIL/China/Luohe\",\"DATA MANAGEMENT & ANALYTICS/Norway/Lysaker\",\"E-COMMERCE & DIRECT-TO-CONSUMER/United States/Madison\",\"AUTO & TRANSPORTATION/Spain/Madrid\",\"INTERNET SOFTWARE & SERVICES/Spain/Madrid\",\"FINTECH/India/Maharashtra\",\"OTHER/Philippines/Manila\",\"E-COMMERCE & DIRECT-TO-CONSUMER/United States/Marina del Rey\",\"CYBERSECURITY/United States/McLean\",\"HEALTH/United States/McLean\",\"FINTECH/Australia/Melbourne\",\"ARTIFICIAL INTELLIGENCE/United States/Menlo Park\",\"HEALTH/United States/Menlo Park\",\"E-COMMERCE & DIRECT-TO-CONSUMER/Mexico/Mexico City\",\"FINTECH/Mexico/Mexico City\",\"CYBERSECURITY/United States/Miami\",\"FINTECH/United States/Miami\",\"HEALTH/United States/Miami\",\"SUPPLY CHAIN, LOGISTICS, & DELIVERY/United States/Miami\",\"MOBILE & TELECOMMUNICATIONS/South Africa/Midrand\",\"FINTECH/Italy/Milan\",\"INTERNET SOFTWARE & SERVICES/Canada/Mississauga\",\"KUANG-CHI/Singapore/Mobile & telecommunications\",\"FINTECH/France/Montpellier\",\"E-COMMERCE & DIRECT-TO-CONSUMER/Canada/Montreal\",\"TRAVEL/Canada/Montreal\",\"ARTIFICIAL INTELLIGENCE/United States/Mountain View\",\"AUTO & TRANSPORTATION/United States/Mountain View\",\"CONSUMER & RETAIL/United States/Mountain View\",\"DATA MANAGEMENT & ANALYTICS/United States/Mountain View\",\"FINTECH/United States/Mountain View\",\"HEALTH/United States/Mountain View\",\"INTERNET SOFTWARE & SERVICES/United States/Mountain View\",\"MOBILE & TELECOMMUNICATIONS/United States/Mountain View\",\"DATA MANAGEMENT & ANALYTICS/India/Mumbai\",\"E-COMMERCE & DIRECT-TO-CONSUMER/India/Mumbai\",\"EDTECH/India/Mumbai\",\"FINTECH/India/Mumbai\",\"INTERNET SOFTWARE & SERVICES/India/Mumbai\",\"AUTO & TRANSPORTATION/Germany/Munich\",\"DATA MANAGEMENT & ANALYTICS/Germany/Munich\",\"FINTECH/Germany/Munich\",\"HARDWARE/Germany/Munich\",\"INTERNET SOFTWARE & SERVICES/Germany/Munich\",\"AUTO & TRANSPORTATION/China/Nanjing\",\"E-COMMERCE & DIRECT-TO-CONSUMER/China/Nanjing\",\"INTERNET SOFTWARE & SERVICES/United States/Nashville\",\"CYBERSECURITY/Israel/Netanya\",\"E-COMMERCE & DIRECT-TO-CONSUMER/India/New Delhi\",\"FINTECH/India/New Delhi\",\"ARTIFICIAL INTELLIGENCE/United States/New York\",\"AUTO & TRANSPORTATION/United States/New York\",\"CONSUMER & RETAIL/United States/New York\",\"CYBERSECURITY/United States/New York\",\"DATA MANAGEMENT & ANALYTICS/United States/New York\",\"E-COMMERCE & DIRECT-TO-CONSUMER/United States/New York\",\"EDTECH/United States/New York\",\"FINTECH/United States/New York\",\"HARDWARE/United States/New York\",\"HEALTH/United States/New York\",\"INTERNET SOFTWARE & SERVICES/United States/New York\",\"OTHER/United States/New York\",\"SUPPLY CHAIN, LOGISTICS, & DELIVERY/United States/New York\",\"FINTECH/India/Noida\",\"OTHER/United States/Norfolk\",\"DATA MANAGEMENT & ANALYTICS/United States/Northbrook\",\"DATA MANAGEMENT & ANALYTICS/United States/Oakland\",\"INTERNET SOFTWARE & SERVICES/United States/Oakland\",\"SUPPLY CHAIN, LOGISTICS, & DELIVERY/Brazil/Osasco\",\"DATA MANAGEMENT & ANALYTICS/Norway/Oslo\",\"E-COMMERCE & DIRECT-TO-CONSUMER/Norway/Oslo\",\"SUPPLY CHAIN, LOGISTICS, & DELIVERY/Canada/Ottawa\",\"ARTIFICIAL INTELLIGENCE/United States/Palo Alto\",\"CYBERSECURITY/United States/Palo Alto\",\"DATA MANAGEMENT & ANALYTICS/United States/Palo Alto\",\"E-COMMERCE & DIRECT-TO-CONSUMER/United States/Palo Alto\",\"FINTECH/United States/Palo Alto\",\"HARDWARE/United States/Palo Alto\",\"INTERNET SOFTWARE & SERVICES/United States/Palo Alto\",\"TRAVEL/United States/Palo Alto\",\"E-COMMERCE & DIRECT-TO-CONSUMER/Brazil/Parana\",\"ARTIFICIAL INTELLIGENCE/France/Paris\",\"AUTO & TRANSPORTATION/France/Paris\",\"E-COMMERCE & DIRECT-TO-CONSUMER/France/Paris\",\"FINTECH/France/Paris\",\"HARDWARE/France/Paris\",\"HEALTH/France/Paris\",\"INTERNET SOFTWARE & SERVICES/France/Paris\",\"OTHER/France/Paris\",\"E-COMMERCE & DIRECT-TO-CONSUMER/United States/Pennsauken\",\"CYBERSECURITY/Israel/Petah Tikva\",\"FINTECH/United Kingdom/Peterborough\",\"DATA MANAGEMENT & ANALYTICS/United States/Philadelphia\",\"E-COMMERCE & DIRECT-TO-CONSUMER/United States/Philadelphia\",\"ARTIFICIAL INTELLIGENCE/United States/Pittsburgh\",\"HARDWARE/United States/Plantation\",\"EDTECH/United States/Pleasanton\",\"CYBERSECURITY/United States/Portland\",\"DATA MANAGEMENT & ANALYTICS/United States/Portola Valley\",\"SUPPLY CHAIN, LOGISTICS, & DELIVERY/Czech Republic/Prague\",\"DATA MANAGEMENT & ANALYTICS/Switzerland/Prilly\",\"INTERNET SOFTWARE & SERVICES/United States/Princeton\",\"E-COMMERCE & DIRECT-TO-CONSUMER/India/Pune\",\"SUPPLY CHAIN, LOGISTICS, & DELIVERY/India/Pune\",\"FINTECH/China/Qingdao\",\"INTERNET SOFTWARE & SERVICES/Israel/Ra'anana\",\"INTERNET SOFTWARE & SERVICES/United States/Raleigh\",\"CYBERSECURITY/Israel/Ramat Gan\",\"ARTIFICIAL INTELLIGENCE/United States/Redwood City\",\"CONSUMER & RETAIL/United States/Redwood City\",\"DATA MANAGEMENT & ANALYTICS/United States/Redwood City\",\"EDTECH/United States/Redwood City\",\"FINTECH/United States/Redwood City\",\"HARDWARE/United States/Redwood City\",\"HEALTH/United States/Redwood City\",\"INTERNET SOFTWARE & SERVICES/United States/Redwood City\",\"MOBILE & TELECOMMUNICATIONS/United States/Redwood City\",\"SUPPLY CHAIN, LOGISTICS, & DELIVERY/United States/Redwood City\",\"INTERNET SOFTWARE & SERVICES/Australia/Richmond\",\"INTERNET SOFTWARE & SERVICES/United States/Roseville\",\"OTHER/France/Roubaix\",\"INTERNET SOFTWARE & SERVICES/United States/Sacramento\",\"CYBERSECURITY/United States/Salt Lake City\",\"OTHER/United States/San Carlos\",\"ARTIFICIAL INTELLIGENCE/United States/San Diego\",\"CYBERSECURITY/United States/San Diego\",\"HEALTH/United States/San Diego\",\"INTERNET SOFTWARE & SERVICES/United States/San Diego\",\"ARTIFICIAL INTELLIGENCE/United States/San Francisco\",\"CONSUMER & RETAIL/United States/San Francisco\",\"CYBERSECURITY/United States/San Francisco\",\"DATA MANAGEMENT & ANALYTICS/United States/San Francisco\",\"E-COMMERCE & DIRECT-TO-CONSUMER/United States/San Francisco\",\"EDTECH/United States/San Francisco\",\"FINTECH/United States/San Francisco\",\"HARDWARE/United States/San Francisco\",\"HEALTH/United States/San Francisco\",\"INTERNET SOFTWARE & SERVICES/United States/San Francisco\",\"MOBILE & TELECOMMUNICATIONS/United States/San Francisco\",\"OTHER/United States/San Francisco\",\"SUPPLY CHAIN, LOGISTICS, & DELIVERY/United States/San Francisco\",\"ARTIFICIAL INTELLIGENCE/United States/San Jose\",\"CYBERSECURITY/United States/San Jose\",\"DATA MANAGEMENT & ANALYTICS/United States/San Jose\",\"FINTECH/United States/San Jose\",\"INTERNET SOFTWARE & SERVICES/United States/San Jose\",\"ARTIFICIAL INTELLIGENCE/United States/San Mateo\",\"CYBERSECURITY/United States/San Mateo\",\"DATA MANAGEMENT & ANALYTICS/United States/San Mateo\",\"FINTECH/United States/San Mateo\",\"HEALTH/United States/San Mateo\",\"INTERNET SOFTWARE & SERVICES/United States/San Mateo\",\"MOBILE & TELECOMMUNICATIONS/United States/San Mateo\",\"INTERNET SOFTWARE & SERVICES/United States/San Ramon\",\"INTERNET SOFTWARE & SERVICES/United States/Santa Barbara\",\"ARTIFICIAL INTELLIGENCE/United States/Santa Clara\",\"CYBERSECURITY/United States/Santa Clara\",\"DATA MANAGEMENT & ANALYTICS/United States/Santa Clara\",\"INTERNET SOFTWARE & SERVICES/United States/Santa Clara\",\"AUTO & TRANSPORTATION/United States/Santa Monica\",\"OTHER/United States/Santa Monica\",\"ARTIFICIAL INTELLIGENCE/Chile/Santiago\",\"ARTIFICIAL INTELLIGENCE/Brazil/Sao Paulo\",\"E-COMMERCE & DIRECT-TO-CONSUMER/Brazil/Sao Paulo\",\"FINTECH/Brazil/Sao Paulo\",\"MOBILE & TELECOMMUNICATIONS/Brazil/Sao Paulo\",\"OTHER/Brazil/Sao Paulo\",\"SUPPLY CHAIN, LOGISTICS, & DELIVERY/Brazil/Sao Paulo\",\"CYBERSECURITY/Switzerland/Schaffhausen\",\"INTERNET SOFTWARE & SERVICES/United States/Scottsdale\",\"ARTIFICIAL INTELLIGENCE/United States/Seattle\",\"DATA MANAGEMENT & ANALYTICS/United States/Seattle\",\"INTERNET SOFTWARE & SERVICES/United States/Seattle\",\"SUPPLY CHAIN, LOGISTICS, & DELIVERY/United States/Seattle\",\"E-COMMERCE & DIRECT-TO-CONSUMER/Malaysia/Selangor\",\"HEALTH/South Korea/Seongnam-Si\",\"CONSUMER & RETAIL/South Korea/Seoul\",\"E-COMMERCE & DIRECT-TO-CONSUMER/South Korea/Seoul\",\"FINTECH/South Korea/Seoul\",\"MOBILE & TELECOMMUNICATIONS/South Korea/Seoul\",\"OTHER/South Korea/Seoul\",\"SUPPLY CHAIN, LOGISTICS, & DELIVERY/South Korea/Seoul\",\"TRAVEL/South Korea/Seoul\",\"ARTIFICIAL INTELLIGENCE/China/Shanghai\",\"AUTO & TRANSPORTATION/China/Shanghai\",\"CONSUMER & RETAIL/China/Shanghai\",\"E-COMMERCE & DIRECT-TO-CONSUMER/China/Shanghai\",\"EDTECH/China/Shanghai\",\"HARDWARE/China/Shanghai\",\"HEALTH/China/Shanghai\",\"INTERNET SOFTWARE & SERVICES/China/Shanghai\",\"MOBILE & TELECOMMUNICATIONS/China/Shanghai\",\"OTHER/China/Shanghai\",\"SUPPLY CHAIN, LOGISTICS, & DELIVERY/China/Shanghai\",\"ARTIFICIAL INTELLIGENCE/China/Shenzhen\",\"E-COMMERCE & DIRECT-TO-CONSUMER/China/Shenzhen\",\"HARDWARE/China/Shenzhen\",\"OTHER/China/Shenzhen\",\"SUPPLY CHAIN, LOGISTICS, & DELIVERY/China/Shenzhen\",\"INTERNET SOFTWARE & SERVICES/United States/Sherman Oaks\",\"E-COMMERCE & DIRECT-TO-CONSUMER/United Kingdom/Solihull\",\"HARDWARE/United States/Somerville\",\"INTERNET SOFTWARE & SERVICES/United States/South Jordan\",\"SUPPLY CHAIN, LOGISTICS, & DELIVERY/United States/South San Francisco\",\"AUTO & TRANSPORTATION/Sweden/Stockholm\",\"FINTECH/Sweden/Stockholm\",\"HEALTH/Sweden/Stockholm\",\"INTERNET SOFTWARE & SERVICES/Sweden/Stockholm\",\"OTHER/Sweden/Stockholm\",\"TRAVEL/Sweden/Stockholm\",\"CYBERSECURITY/United States/Sunnyvale\",\"DATA MANAGEMENT & ANALYTICS/United States/Sunnyvale\",\"INTERNET SOFTWARE & SERVICES/United States/Sunnyvale\",\"B CAPITAL GROUP, MONK'S HILL VENTURES, DYNAMIC PARCEL DISTRIBUTION/Singapore/Supply chain, logistics, & delivery\",\"INTERNET SOFTWARE & SERVICES/Australia/Surry Hills\",\"EDTECH/China/Suzhou\",\"INTERNET SOFTWARE & SERVICES/Australia/Sydney\",\"FINTECH/Philippines/Taguig City\",\"ARTIFICIAL INTELLIGENCE/Estonia/Tallinn\",\"AUTO & TRANSPORTATION/Estonia/Tallinn\",\"CYBERSECURITY/United States/Tampa\",\"ARTIFICIAL INTELLIGENCE/Israel/Tel Aviv\",\"CYBERSECURITY/Israel/Tel Aviv\",\"DATA MANAGEMENT & ANALYTICS/Israel/Tel Aviv\",\"EDTECH/Israel/Tel Aviv\",\"FINTECH/Israel/Tel Aviv\",\"HARDWARE/Israel/Tel Aviv\",\"INTERNET SOFTWARE & SERVICES/Israel/Tel Aviv\",\"MOBILE & TELECOMMUNICATIONS/Israel/Tel Aviv\",\"SUPPLY CHAIN, LOGISTICS, & DELIVERY/Israel/Tel Aviv\",\"E-COMMERCE & DIRECT-TO-CONSUMER/India/Thane\",\"SUPPLY CHAIN, LOGISTICS, & DELIVERY/China/Tianjin\",\"HEALTH/Israel/Tirat Carmel\",\"ARTIFICIAL INTELLIGENCE/Japan/Tokyo\",\"FINTECH/Japan/Tokyo\",\"MOBILE & TELECOMMUNICATIONS/Japan/Tokyo\",\"OTHER/Japan/Tokyo\",\"ARTIFICIAL INTELLIGENCE/Canada/Toronto\",\"CYBERSECURITY/Canada/Toronto\",\"FINTECH/Canada/Toronto\",\"INTERNET SOFTWARE & SERVICES/Canada/Toronto\",\"OTHER/Japan/Tsuruoka\",\"FINTECH/United States/Tustin\",\"OTHER/Germany/Unterfoehring\",\"CYBERSECURITY/Canada/Vancouver\",\"FINTECH/Canada/Vancouver\",\"INTERNET SOFTWARE & SERVICES/Canada/Vancouver\",\"OTHER/Canada/Vancouver\",\"EDTECH/Austria/Vienna\",\"FINTECH/Austria/Vienna\",\"E-COMMERCE & DIRECT-TO-CONSUMER/Lithuania/Vilnius\",\"MOBILE & TELECOMMUNICATIONS/Croatia/Vodnjan\",\"FINTECH/United States/Walnut\",\"OTHER/United States/Walpole\",\"HARDWARE/United States/Waltham\",\"HEALTH/United States/Waltham\",\"INTERNET SOFTWARE & SERVICES/United States/Washington\",\"OTHER/United States/Washington\",\"ARTIFICIAL INTELLIGENCE/United States/Washington DC\",\"INTERNET SOFTWARE & SERVICES/United States/Washington DC\",\"CYBERSECURITY/Canada/Waterloo\",\"INTERNET SOFTWARE & SERVICES/Canada/Waterloo\",\"FINTECH/United States/Westerville\",\"HARDWARE/United States/Wilmington\",\"AUTO & TRANSPORTATION/China/Wuhan\",\"E-COMMERCE & DIRECT-TO-CONSUMER/China/Wuhan\",\"HARDWARE/China/Wuxi\",\"INTERNET SOFTWARE & SERVICES/United States/Zephyr Cove\",\"HARDWARE/China/Zhuhai\",\"FINTECH/Switzerland/Zurich\",\"SUPPLY CHAIN, LOGISTICS, & DELIVERY/Switzerland/Zurich\",\"FINTECH/Argentina\",\"E-COMMERCE & DIRECT-TO-CONSUMER/Australia\",\"FINTECH/Australia\",\"INTERNET SOFTWARE & SERVICES/Australia\",\"EDTECH/Austria\",\"FINTECH/Austria\",\"SEQUOIA CAPITAL, THOMA BRAVO, SOFTBANK/Bahamas\",\"DATA MANAGEMENT & ANALYTICS/Belgium\",\"FINTECH/Belgium\",\"INTERNET SOFTWARE & SERVICES/Belgium\",\"ARTIFICIAL INTELLIGENCE/Bermuda\",\"ARTIFICIAL INTELLIGENCE/Brazil\",\"E-COMMERCE & DIRECT-TO-CONSUMER/Brazil\",\"FINTECH/Brazil\",\"MOBILE & TELECOMMUNICATIONS/Brazil\",\"OTHER/Brazil\",\"SUPPLY CHAIN, LOGISTICS, & DELIVERY/Brazil\",\"ARTIFICIAL INTELLIGENCE/Canada\",\"CYBERSECURITY/Canada\",\"E-COMMERCE & DIRECT-TO-CONSUMER/Canada\",\"EDTECH/Canada\",\"FINTECH/Canada\",\"INTERNET SOFTWARE & SERVICES/Canada\",\"OTHER/Canada\",\"SUPPLY CHAIN, LOGISTICS, & DELIVERY/Canada\",\"TRAVEL/Canada\",\"ARTIFICIAL INTELLIGENCE/Chile\",\"ARTIFICIAL INTELLIGENCE/China\",\"AUTO & TRANSPORTATION/China\",\"CONSUMER & RETAIL/China\",\"CYBERSECURITY/China\",\"DATA MANAGEMENT & ANALYTICS/China\",\"E-COMMERCE & DIRECT-TO-CONSUMER/China\",\"EDTECH/China\",\"FINTECH/China\",\"HARDWARE/China\",\"HEALTH/China\",\"INTERNET SOFTWARE & SERVICES/China\",\"MOBILE & TELECOMMUNICATIONS/China\",\"OTHER/China\",\"SUPPLY CHAIN, LOGISTICS, & DELIVERY/China\",\"TRAVEL/China\",\"OTHER/Colombia\",\"SUPPLY CHAIN, LOGISTICS, & DELIVERY/Colombia\",\"MOBILE & TELECOMMUNICATIONS/Croatia\",\"SUPPLY CHAIN, LOGISTICS, & DELIVERY/Czech Republic\",\"FINTECH/Denmark\",\"ARTIFICIAL INTELLIGENCE/Estonia\",\"AUTO & TRANSPORTATION/Estonia\",\"INTERNET SOFTWARE & SERVICES/Finland\",\"MOBILE & TELECOMMUNICATIONS/Finland\",\"SUPPLY CHAIN, LOGISTICS, & DELIVERY/Finland\",\"ARTIFICIAL INTELLIGENCE/France\",\"AUTO & TRANSPORTATION/France\",\"E-COMMERCE & DIRECT-TO-CONSUMER/France\",\"FINTECH/France\",\"HARDWARE/France\",\"HEALTH/France\",\"INTERNET SOFTWARE & SERVICES/France\",\"OTHER/France\",\"AUTO & TRANSPORTATION/Germany\",\"CONSUMER & RETAIL/Germany\",\"DATA MANAGEMENT & ANALYTICS/Germany\",\"E-COMMERCE & DIRECT-TO-CONSUMER/Germany\",\"FINTECH/Germany\",\"HARDWARE/Germany\",\"HEALTH/Germany\",\"INTERNET SOFTWARE & SERVICES/Germany\",\"OTHER/Germany\",\"SUPPLY CHAIN, LOGISTICS, & DELIVERY/Germany\",\"TRAVEL/Germany\",\"ANDREESSEN HOROWITZ, DST GLOBAL, IDG CAPITAL/Hong Kong\",\"CONSUMER & RETAIL/Hong Kong\",\"SEQUOIA CAPITAL CHINA, ING, ALIBABA ENTREPRENEURS FUND/Hong Kong\",\"SUPPLY CHAIN, LOGISTICS, & DELIVERY/Hong Kong\",\"TIGER GLOBAL MANAGEMENT, TIGER BROKERS, DCM VENTURES/Hong Kong\",\"TRAVEL/Hong Kong\",\"AUTO & TRANSPORTATION/India\",\"DATA MANAGEMENT & ANALYTICS/India\",\"E-COMMERCE & DIRECT-TO-CONSUMER/India\",\"EDTECH/India\",\"FINTECH/India\",\"HEALTH/India\",\"INTERNET SOFTWARE & SERVICES/India\",\"MOBILE & TELECOMMUNICATIONS/India\",\"OTHER/India\",\"SUPPLY CHAIN, LOGISTICS, & DELIVERY/India\",\"TRAVEL/India\",\"CONSUMER & RETAIL/Indonesia\",\"E-COMMERCE & DIRECT-TO-CONSUMER/Indonesia\",\"FINTECH/Indonesia\",\"SUPPLY CHAIN, LOGISTICS, & DELIVERY/Indonesia\",\"TRAVEL/Indonesia\",\"FINTECH/Ireland\",\"HEALTH/Ireland\",\"INTERNET SOFTWARE & SERVICES/Ireland\",\"ARTIFICIAL INTELLIGENCE/Israel\",\"CYBERSECURITY/Israel\",\"DATA MANAGEMENT & ANALYTICS/Israel\",\"EDTECH/Israel\",\"FINTECH/Israel\",\"HARDWARE/Israel\",\"HEALTH/Israel\",\"INTERNET SOFTWARE & SERVICES/Israel\",\"MOBILE & TELECOMMUNICATIONS/Israel\",\"OTHER/Israel\",\"SUPPLY CHAIN, LOGISTICS, & DELIVERY/Israel\",\"FINTECH/Italy\",\"ARTIFICIAL INTELLIGENCE/Japan\",\"FINTECH/Japan\",\"MOBILE & TELECOMMUNICATIONS/Japan\",\"OTHER/Japan\",\"E-COMMERCE & DIRECT-TO-CONSUMER/Lithuania\",\"OTHER/Luxembourg\",\"E-COMMERCE & DIRECT-TO-CONSUMER/Malaysia\",\"E-COMMERCE & DIRECT-TO-CONSUMER/Mexico\",\"FINTECH/Mexico\",\"E-COMMERCE & DIRECT-TO-CONSUMER/Netherlands\",\"FINTECH/Netherlands\",\"HARDWARE/Netherlands\",\"MOBILE & TELECOMMUNICATIONS/Netherlands\",\"FINTECH/Nigeria\",\"DATA MANAGEMENT & ANALYTICS/Norway\",\"E-COMMERCE & DIRECT-TO-CONSUMER/Norway\",\"FINTECH/Philippines\",\"OTHER/Philippines\",\"FINTECH/Senegal\",\"500 GLOBAL, RAKUTEN VENTURES, GOLDEN GATE VENTURES/Singapore\",\"B CAPITAL GROUP, MONK'S HILL VENTURES, DYNAMIC PARCEL DISTRIBUTION/Singapore\",\"DRAGONFLY CAPTIAL, QIMING VENTURE PARTNERS, DST GLOBAL/Singapore\",\"HOPU INVESTMENT MANAGEMENT, BOYU CAPITAL, DC THOMSON VENTURES/Singapore\",\"JUNGLE VENTURES, ACCEL, VENTURE HIGHWAY/Singapore\",\"KUANG-CHI/Singapore\",\"MUNDI VENTURES, DOQLING CAPITAL PARTNERS, ACTIVANT CAPITAL/Singapore\",\"SEQUOIA CAPITAL CHINA, SHUNWEI CAPITAL PARTNERS, QUALGRO/Singapore\",\"SINGTEL INNOV8, ALPHA JWC VENTURES, GOLDEN GATE VENTURES/Singapore\",\"TEMASEK, GUGGENHEIM INVESTMENTS, QATAR INVESTMENT AUTHORITY/Singapore\",\"VERTEX VENTURES SE ASIA, GLOBAL FOUNDERS CAPITAL, VISA VENTURES/Singapore\",\"VISION PLUS CAPITAL, GSR VENTURES, ZHENFUND/Singapore\",\"CONSUMER & RETAIL/South Africa\",\"MOBILE & TELECOMMUNICATIONS/South Africa\",\"AUTO & TRANSPORTATION/South Korea\",\"CONSUMER & RETAIL/South Korea\",\"E-COMMERCE & DIRECT-TO-CONSUMER/South Korea\",\"FINTECH/South Korea\",\"HEALTH/South Korea\",\"MOBILE & TELECOMMUNICATIONS/South Korea\",\"OTHER/South Korea\",\"SUPPLY CHAIN, LOGISTICS, & DELIVERY/South Korea\",\"TRAVEL/South Korea\",\"AUTO & TRANSPORTATION/Spain\",\"INTERNET SOFTWARE & SERVICES/Spain\",\"TRAVEL/Spain\",\"AUTO & TRANSPORTATION/Sweden\",\"FINTECH/Sweden\",\"HEALTH/Sweden\",\"INTERNET SOFTWARE & SERVICES/Sweden\",\"OTHER/Sweden\",\"TRAVEL/Sweden\",\"CYBERSECURITY/Switzerland\",\"DATA MANAGEMENT & ANALYTICS/Switzerland\",\"FINTECH/Switzerland\",\"HEALTH/Switzerland\",\"SUPPLY CHAIN, LOGISTICS, & DELIVERY/Switzerland\",\"FINTECH/Thailand\",\"SUPPLY CHAIN, LOGISTICS, & DELIVERY/Thailand\",\"E-COMMERCE & DIRECT-TO-CONSUMER/Turkey\",\"INTERNET SOFTWARE & SERVICES/Turkey\",\"MOBILE & TELECOMMUNICATIONS/Turkey\",\"OTHER/United Arab Emirates\",\"SUPPLY CHAIN, LOGISTICS, & DELIVERY/United Arab Emirates\",\"ARTIFICIAL INTELLIGENCE/United Kingdom\",\"AUTO & TRANSPORTATION/United Kingdom\",\"CONSUMER & RETAIL/United Kingdom\",\"DATA MANAGEMENT & ANALYTICS/United Kingdom\",\"E-COMMERCE & DIRECT-TO-CONSUMER/United Kingdom\",\"FINTECH/United Kingdom\",\"HARDWARE/United Kingdom\",\"HEALTH/United Kingdom\",\"INTERNET SOFTWARE & SERVICES/United Kingdom\",\"MOBILE & TELECOMMUNICATIONS/United Kingdom\",\"OTHER/United Kingdom\",\"SUPPLY CHAIN, LOGISTICS, & DELIVERY/United Kingdom\",\"ARTIFICIAL INTELLIGENCE/United States\",\"AUTO & TRANSPORTATION/United States\",\"CONSUMER & RETAIL/United States\",\"CYBERSECURITY/United States\",\"DATA MANAGEMENT & ANALYTICS/United States\",\"E-COMMERCE & DIRECT-TO-CONSUMER/United States\",\"EDTECH/United States\",\"FINTECH/United States\",\"HARDWARE/United States\",\"HEALTH/United States\",\"INTERNET SOFTWARE & SERVICES/United States\",\"MOBILE & TELECOMMUNICATIONS/United States\",\"OTHER/United States\",\"SUPPLY CHAIN, LOGISTICS, & DELIVERY/United States\",\"TRAVEL/United States\",\"FINTECH/Vietnam\",\"INTERNET SOFTWARE & SERVICES/Vietnam\",\"500 GLOBAL, RAKUTEN VENTURES, GOLDEN GATE VENTURES\",\"ANDREESSEN HOROWITZ, DST GLOBAL, IDG CAPITAL\",\"ARTIFICIAL INTELLIGENCE\",\"AUTO & TRANSPORTATION\",\"B CAPITAL GROUP, MONK'S HILL VENTURES, DYNAMIC PARCEL DISTRIBUTION\",\"CONSUMER & RETAIL\",\"CYBERSECURITY\",\"DATA MANAGEMENT & ANALYTICS\",\"DRAGONFLY CAPTIAL, QIMING VENTURE PARTNERS, DST GLOBAL\",\"E-COMMERCE & DIRECT-TO-CONSUMER\",\"EDTECH\",\"FINTECH\",\"HARDWARE\",\"HEALTH\",\"HOPU INVESTMENT MANAGEMENT, BOYU CAPITAL, DC THOMSON VENTURES\",\"INTERNET SOFTWARE & SERVICES\",\"JUNGLE VENTURES, ACCEL, VENTURE HIGHWAY\",\"KUANG-CHI\",\"MOBILE & TELECOMMUNICATIONS\",\"MUNDI VENTURES, DOQLING CAPITAL PARTNERS, ACTIVANT CAPITAL\",\"OTHER\",\"SEQUOIA CAPITAL CHINA, ING, ALIBABA ENTREPRENEURS FUND\",\"SEQUOIA CAPITAL CHINA, SHUNWEI CAPITAL PARTNERS, QUALGRO\",\"SEQUOIA CAPITAL, THOMA BRAVO, SOFTBANK\",\"SINGTEL INNOV8, ALPHA JWC VENTURES, GOLDEN GATE VENTURES\",\"SUPPLY CHAIN, LOGISTICS, & DELIVERY\",\"TEMASEK, GUGGENHEIM INVESTMENTS, QATAR INVESTMENT AUTHORITY\",\"TIGER GLOBAL MANAGEMENT, TIGER BROKERS, DCM VENTURES\",\"TRAVEL\",\"VERTEX VENTURES SE ASIA, GLOBAL FOUNDERS CAPITAL, VISA VENTURES\",\"VISION PLUS CAPITAL, GSR VENTURES, ZHENFUND\"],\"labels\":[\"1047 Games\",\"1KMXC\",\"1Password\",\"4Paradigm\",\"56PINGTAI\",\"58 Daojia\",\"6Sense\",\"ABL Space Systems\",\"AIWAYS\",\"ASAPP\",\"Accelerant\",\"Acko General Insurance\",\"Acronis\",\"ActiveCampaign\",\"Ada Support\",\"Addepar\",\"Advance Intelligence Group\",\"Afiniti\",\"Age of Learning\",\"AgentSync\",\"Agile Robots\",\"Aibee\",\"Airbyte\",\"Aircall\",\"Airtable\",\"Airwallex\",\"Aiven\",\"Ajaib\",\"Akulaku\",\"Alan\",\"Alation\",\"Alchemy\",\"Aledade\",\"Aleo\",\"Algolia\",\"Alloy\",\"Alto Pharmacy\",\"Alzheon\",\"Amber Group\",\"Amount\",\"Amperity\",\"Anchorage Digital\",\"Andela\",\"Anduril\",\"Ankorstore\",\"Anyscale\",\"Apeel Sciences\",\"AppDirect\",\"Applied Intuition\",\"ApplyBoard\",\"AppsFlyer\",\"Aprogen\",\"Apus Group\",\"Aqua Security\",\"Arctic Wolf Networks\",\"Argo AI\",\"Arrail Dental\",\"Articulate\",\"Ascend Money\",\"Assembly\",\"Assent Compliance\",\"Astranis Space Technologies\",\"At-Bay\",\"Athelas\",\"Athletic Greens\",\"Attentive\",\"Augury\",\"Aura\",\"Aurora Solar\",\"Automation Anywhere\",\"Automattic\",\"Avant\",\"Aviatrix\",\"Away\",\"Axelar\",\"Axiom Space\",\"Axonius\",\"Axtria\",\"BGL Group\",\"BYJU's\",\"BYTON\",\"Back Market\",\"Baiwang\",\"Banma Network Technologies\",\"BeiBei\",\"Beisen\",\"Benchling\",\"BenevolentAI\",\"Berlin Brands Group\",\"Better.com\",\"BetterUp\",\"Betterfly\",\"Betterment\",\"Beyond Identity\",\"BharatPe\",\"BigID\",\"BigPanda\",\"Biosplice Therapeutics\",\"Biren Technology\",\"BitFury\",\"BitPanda\",\"BitSight Technologies\",\"Bitmain Technologies\",\"Bitso\",\"BlaBlaCar\",\"Black Sesame Technologies\",\"Black Unicorn Factory\",\"BlackBuck\",\"Blinkit\",\"BlockDaemon\",\"BlockFi\",\"Blockchain.com\",\"Blockstream\",\"BloomReach\",\"BlueVoyant\",\"Bluecore\",\"Bolt\",\"Bolt\",\"Boom Supersonic\",\"Bordrin Motors\",\"Bought By Many\",\"Bowery Farming\",\"Branch\",\"BrewDog\",\"Brex\",\"Bringg\",\"BrowserStack\",\"Built\",\"Bunq\",\"Bytedance\",\"C2FO\",\"C6 Bank\",\"CAIS\",\"CFGI\",\"CHEQ\",\"CMR Surgical\",\"CRED\",\"Cabify\",\"Cadence\",\"Calendly\",\"Calm\",\"Cambridge Mobile Telematics\",\"Cameo\",\"Canva\",\"Cao Cao Mobility\",\"Capsule\",\"CaptivateIQ\",\"CarDekho\",\"Carbon\",\"Carbon Health\",\"CargoX\",\"Caris Life Sciences\",\"Carousell\",\"Carro\",\"Cars24\",\"Carsome\",\"Carson Group\",\"Carta\",\"Carzone\",\"Cato Networks\",\"Cava Group\",\"Cedar\",\"Cell C\",\"Celonis\",\"Celsius Network\",\"Cerebral\",\"Cerebras Systems\",\"Cgtz\",\"Chainalysis\",\"Changingedu\",\"ChargeBee Technologies\",\"Checkout.com\",\"Checkr\",\"Chehaoduo\",\"Chime\",\"China Cloud\",\"Chipone\",\"Chipper Cash\",\"Chronosphere\",\"Cider\",\"Circle\",\"CircleCI\",\"Cityblock Health\",\"Clara\",\"Clari\",\"Claroty\",\"Clearco\",\"Clearcover\",\"ClickHouse\",\"ClickUp\",\"Clio\",\"Clip\",\"CloudBees\",\"CloudWalk\",\"Cloudinary\",\"Cloudwalk\",\"Clubhouse\",\"Coalition\",\"Cockroach Labs\",\"Coda\",\"Cognite\",\"Cohesity\",\"CoinDCX\",\"CoinList\",\"CoinSwitch Kuber\",\"CoinTracker\",\"Collective Health\",\"Collibra\",\"Color\",\"Commure\",\"ConsenSys\",\"ContentSquare\",\"Contentful\",\"Contrast Security\",\"Convoy\",\"Coocaa\",\"Copado\",\"Course Hero\",\"Creditas\",\"Culture Amp\",\"CureFit\",\"Current\",\"Cybereason\",\"DJI Innovations\",\"DT Dream\",\"Dadi Cinema\",\"Daily Harvest\",\"DailyHunt\",\"DailyPay\",\"Dapper Labs\",\"Darwinbox\",\"DataRobot\",\"Databricks\",\"Dataiku\",\"Dataminr\",\"DealShare\",\"Deel\",\"DeepBlue Technology\",\"Deezer\",\"Degreed\",\"Delhivery\",\"Deliverect\",\"Deliverr\",\"Density\",\"Dental Monitoring\",\"Devo\",\"Devoted Health\",\"Dialpad\",\"Diamond Foundry\",\"DianRong\",\"Digit Insurance\",\"Digital Currency Group\",\"Discord\",\"DispatchHealth\",\"DistroKid\",\"Divvy Homes\",\"Doctolib\",\"Domestika\",\"Dragos\",\"Drata\",\"Dream Games\",\"Dream11\",\"Dremio\",\"DriveNets\",\"DriveWealth\",\"Druva\",\"Dunamu\",\"Dune Analytics\",\"Dutchie\",\"Dxy.cn\",\"EBANX\",\"ECARX\",\"ENOVATE\",\"EQRx\",\"Earnix\",\"Easyhome\",\"Eat Just\",\"EcoFlow\",\"Eightfold.ai\",\"Einride\",\"ElasticRun\",\"Elemy\",\"Emerging Markets Property Group\",\"Enflame\",\"Enpal\",\"Envoy\",\"Epic Games\",\"Epidemic Sound\",\"Epirus\",\"Eruditus Executive Education\",\"Esusu\",\"Ethos\",\"Everlaw\",\"Everly Health\",\"Evidation\",\"Exabeam\",\"Exotec\",\"Expel\",\"Extend\",\"FTX\",\"FXiaoKe\",\"Fabric\",\"Fabric\",\"Fair\",\"Faire\",\"FalconX\",\"Fanatics\",\"Farmers Business Network\",\"Feedzai\",\"Fenbi Education\",\"Fetch Rewards\",\"Fever Labs\",\"Figma\",\"Figment\",\"Fireblocks\",\"Firebolt\",\"Firefly Aerospace\",\"FirstCry\",\"Fiture\",\"Five Star Business Finance\",\"FiveTran\",\"Flash Express\",\"FlashEx\",\"Flexport\",\"Flink\",\"Flipboard\",\"Flipdish\",\"FlixMobility\",\"FloQast\",\"Flock Freight\",\"Flock Safety\",\"Flutterwave\",\"Formlabs\",\"Forte Labs\",\"Forter\",\"Forto\",\"Fractal Analytics\",\"Freshbooks\",\"FullStory\",\"Fundbox\",\"G2\",\"G7 Networks\",\"GO1\",\"GOAT\",\"GPclub\",\"GalaxySpace\",\"Gaussian Robotics\",\"Geek+\",\"Gelato\",\"Gem\",\"Gemini\",\"GetYourGuide\",\"Getir\",\"Gett\",\"Global Switch\",\"GlobalBees\",\"Globality\",\"Globalization Partners\",\"Glossier\",\"GoCardless\",\"GoStudent\",\"Gong\",\"GoodLeap\",\"Gorillas\",\"Gousto\",\"Grafana Labs\",\"Grammarly\",\"Graphcore\",\"Greenlight\",\"Greensill\",\"Groq\",\"Grove Collaborative\",\"Groww\",\"GrubMarket\",\"Guideline\",\"Guild Education\",\"Guoquan Shihui\",\"GupShup\",\"Gusto\",\"Gympass\",\"Gymshark\",\"H2O.ai\",\"HAYDON\",\"HEYTEA\",\"HMD Global\",\"Hailo\",\"Handshake\",\"Haomao.AI\",\"Happy Money\",\"Harness\",\"Harry's\",\"Hasura\",\"HeartFlow\",\"Helium Systems\",\"Hello TransTech\",\"Hesai Tech\",\"Heyday\",\"Hibob\",\"HighRadius\",\"Highspot\",\"Hinge Health\",\"Hive\",\"Hive Box\",\"HomeLight\",\"HoneyBook\",\"Honor Technology\",\"Hopin\",\"Hopper\",\"Horizon Robotics\",\"Hosjoy\",\"Hotmart\",\"Houzz\",\"Howden Group Holdings\",\"Hozon Auto\",\"HuJiang\",\"Huaqin Telecom Technology\",\"HuiMin\",\"Huike Group\",\"Huisuanzhang\",\"Human Interest\",\"HyalRoute\",\"Hyperchain\",\"ID.me\",\"IRL\",\"ISN\",\"Ibotta\",\"Icertis\",\"Il Makiage\",\"Illumio\",\"Iluvatar CoreX\",\"Impact\",\"Impossible Foods\",\"Improbable\",\"InFarm\",\"InMobi\",\"InSightec\",\"InVision\",\"Inari\",\"Incode Technologies\",\"Indigo Ag\",\"Infinidat\",\"Infobip\",\"Infra.Market\",\"Injective Protocol\",\"Innovaccer\",\"Insider\",\"Instabase\",\"Instacart\",\"Intarcia Therapeutics\",\"Intellifusion\",\"Intercom\",\"Interos\",\"Inxeption\",\"Iodine Software\",\"Ironclad\",\"Iterable\",\"Ivalua\",\"J&T Express\",\"JOLLY Information Technology\",\"JUUL Labs\",\"JimuBox\",\"Jiuxian\",\"Jobandtalent\",\"Jokr\",\"JoyTunes\",\"Juanpi\",\"Juma Peisong\",\"JumpCloud\",\"Jusfoun Big Data\",\"Justworks\",\"K Health\",\"KK Group\",\"KRY\",\"Kajabi\",\"Karat\",\"Kaseya\",\"Kavak\",\"Keenon Robotics\",\"Keep\",\"KeepTruckin\",\"Kendra Scott\",\"Kitopi\",\"Klarna\",\"Klaviyo\",\"Klook\",\"KnowBox\",\"Komodo Health\",\"Konfio\",\"Kong\",\"Kopi Kenangan\",\"Koudai\",\"Kraken\",\"Kuaigou Dache\",\"Kuaikan Manhua\",\"Kujiale\",\"Kurly\",\"L&P Cosmetic\",\"LEAD School\",\"LTK\",\"Lacework\",\"Lalamove\",\"Lamabang\",\"Lattice\",\"LaunchDarkly\",\"Leap Motor\",\"Ledger\",\"Lenskart\",\"Lessen\",\"LetsGetChecked\",\"Lianjia\",\"Licious\",\"LifeMiles\",\"Lightricks\",\"LinkDoc Technology\",\"LinkSure Network\",\"Liquid\",\"LivSpace\",\"Loadsmart\",\"Locus Robotics\",\"Loft\",\"Loggi\",\"Lookout\",\"Loom\",\"Lucid Software\",\"Lukka\",\"Lunar\",\"Luoji Siwei\",\"Lusha\",\"Lydia\",\"Lyra Health\",\"M1 Finance\",\"MEGVII\",\"MOLOCO\",\"MURAL\",\"MUSINSA\",\"MX Technologies\",\"MadeiraMadeira\",\"Mafengwo\",\"Magic Leap\",\"Maimai\",\"Mamaearth\",\"Mambu\",\"Mammoth Biosciences\",\"Manner\",\"ManoMano\",\"Marshmallow\",\"MasterClass\",\"Masterworks\",\"Matillion\",\"Matrixport\",\"Maven Clinic\",\"Medable\",\"MediaMath\",\"Medlinker\",\"Meero\",\"Meesho\",\"Meicai\",\"Meizu Technology\",\"Melio\",\"Mensa Brands\",\"Merama\",\"Mercury\",\"MessageBird\",\"Mia.com\",\"Miaoshou Doctor\",\"MindMaze\",\"MindTickle\",\"Mininglamp Technology\",\"Minio\",\"Mirakl\",\"Miro\",\"Misfits Market\",\"Mixpanel\",\"MoMo\",\"MobiKwik\",\"Mobile Premier League\",\"MobileCoin\",\"Mobvoi\",\"Modern Health\",\"Modern Treasury\",\"Modernizing Medicine\",\"Mofang Living\",\"Moglix\",\"Moka\",\"Mollie\",\"Momenta\",\"Monzo\",\"Moon Active\",\"MoonPay\",\"Morning Consult\",\"Motorway\",\"Moveworks\",\"Movile\",\"Mu Sigma\",\"Mux\",\"MyGlamm\",\"Mynt\",\"Mythical Games\",\"N26\",\"NIUM\",\"National Stock Exchange of India\",\"Nature's Fynd\",\"Neo4j\",\"Neon\",\"Netlify\",\"Netskope\",\"Newlink Group\",\"News Break\",\"Newsela\",\"Nexii\",\"Next Insurance\",\"Next Silicon\",\"Nexthink\",\"Nextiva\",\"Niantic\",\"Ninja Van\",\"NoBroker\",\"Noname Security\",\"Noom\",\"Northvolt\",\"NotCo\",\"Notion Labs\",\"NuCom Group\",\"Numbrs\",\"Nuro\",\"Nuvemshop\",\"Nxin\",\"OCSiAl\",\"ONE\",\"OVH\",\"OVO Energy\",\"OYO Rooms\",\"OakNorth Bank\",\"Oda\",\"Odoo\",\"OfBusiness\",\"Offchain Labs\",\"Ola Cabs\",\"Ola Electric Mobility\",\"Olist\",\"Olive\",\"Omada Health\",\"Omio\",\"OneTrust\",\"Opay\",\"OpenAI\",\"OpenSea\",\"OpenWeb\",\"Opentrons\",\"OrCam Technologies\",\"Orbbec Technology\",\"Orca Bio\",\"Orca Security\",\"Orchard\",\"Otto Bock HealthCare\",\"OutSystems\",\"Outreach\",\"Outschool\",\"Ouyeel\",\"Ovo\",\"Owkin\",\"OwnBackup\",\"PAX\",\"PLACE\",\"PPRO\",\"Pacaso\",\"Pagaya\",\"PandaDoc\",\"Pantheon Systems\",\"Panther Labs\",\"Papa\",\"Papaya Global\",\"Paradox\",\"Pat McGrath Labs\",\"PatSnap\",\"Patreon\",\"Pattern\",\"Paxos\",\"PayFit\",\"Payhawk\",\"Pendo\",\"Pentera\",\"People.ai\",\"Persona\",\"Personio\",\"Pet Circle\",\"Phantom\",\"Pharmapacks\",\"Phenom People\",\"PicsArt\",\"Pilot.com\",\"Pine Labs\",\"Pipa Coding\",\"Pipe\",\"Placer.ai\",\"Plaid\",\"Playco\",\"Pleo\",\"Plume\",\"Podium\",\"PointClickCare\",\"Poizon\",\"PolicyBazaar\",\"Pony.ai\",\"Postman\",\"Preferred Networks\",\"Prime Medicine\",\"Printful\",\"Pristyn Care\",\"Productboard\",\"Project44\",\"Promasidor Holdings\",\"PsiQuantum\",\"Public\",\"Qingting FM\",\"Qonto\",\"Qualia\",\"Quantum Metric\",\"QuintoAndar\",\"Quizlet\",\"Qumulo\",\"Quora\",\"REEF Technology\",\"RELEX Solutions\",\"RIDI\",\"Radiology Partners\",\"Radius Payment Solutions\",\"Ramp\",\"Rappi\",\"Rapyd\",\"Razor\",\"Razorpay\",\"ReCharge\",\"Rebel Foods\",\"Rebellion Defense\",\"Rec Room\",\"Red Ventures\",\"Redis Labs\",\"Redwood Materials\",\"Reify Health\",\"Relativity\",\"Relativity Space\",\"ReliaQuest\",\"Reltio\",\"Remote\",\"Retool\",\"Revolut\",\"Revolution Precrafted\",\"Rightway\",\"Ripple\",\"Rippling\",\"Rivigo\",\"Ro\",\"Rohlik\",\"Rokt\",\"Rothy's\",\"Route\",\"Royole Corporation\",\"Rubicon\",\"Rubrik\",\"SHEIN\",\"SITECH DEV\",\"SMS Assist\",\"SSENSE\",\"STORD\",\"SVOLT\",\"SWORD Health\",\"SafetyCulture\",\"Salt Security\",\"SaltPay\",\"SambaNova Systems\",\"Savage X Fenty\",\"Scalable Capital\",\"Scalapay\",\"Scale AI\",\"Scandit\",\"Scopely\",\"SeekOut\",\"Seismic\",\"SellerX\",\"Sendbird\",\"Sennder\",\"Sentry\",\"ServiceTitan\",\"ShareChat\",\"Shield AI\",\"Shift Technology\",\"ShipBob\",\"Shippo\",\"Side\",\"Sidecar Health\",\"Sift\",\"Signifyd\",\"Sila Nanotechnologies\",\"Sisense\",\"Skims\",\"Sky Mavis\",\"Skydance Media\",\"Skydio\",\"Slice\",\"SmartAsset\",\"SmartHR\",\"SmartMore\",\"SmartNews\",\"SmartRecruiters\",\"SnapLogic\",\"Snapdeal\",\"Snapdocs\",\"Snorkel AI\",\"Snyk\",\"Socar\",\"Socure\",\"Solo.io\",\"Solugen\",\"Somatus\",\"SonderMind\",\"Sorare\",\"SouChe Holdings\",\"SoundHound\",\"Sourcegraph\",\"SpaceX\",\"SparkCognition\",\"Spendesk\",\"Spiber\",\"Spinny\",\"Splashtop\",\"SpotOn\",\"Spotter\",\"Spring Health\",\"Standard\",\"Star Charge\",\"Starburst\",\"StarkWare\",\"Starling Bank\",\"Starry\",\"Stash\",\"StockX\",\"StoreDot\",\"Strava\",\"Stripe\",\"Stytch\",\"SumUp\",\"Sunbit\",\"Swiggy\",\"Swile\",\"Symphony\",\"Sysdig\",\"TELD\",\"TERMINUS Technology\",\"TUNGEE\",\"Tackle.io\",\"Talkdesk\",\"TalkingData\",\"TangoMe\",\"Tanium\",\"TaxBit\",\"Tealium\",\"TechStyle Fashion Group\",\"Tekion\",\"Temporal\",\"Tempus\",\"TensTorrent\",\"Tezign\",\"The Bank of London\",\"The Zebra\",\"Thirty Madison\",\"Thought Machine\",\"ThoughtSpot\",\"Thrasio\",\"Thumbtack\",\"Tier\",\"Timescale\",\"Tipalti\",\"Tonal\",\"Tongdun Technology\",\"Toss\",\"Tractable\",\"Trade Republic\",\"Trader Interactive\",\"Tradeshift\",\"TradingView\",\"Transcarent\",\"Transmit Security\",\"TravelPerk\",\"Traveloka\",\"Trax\",\"Trendy Group International\",\"Tresata\",\"TrialSpark\",\"TripActions\",\"Tripledot Studios\",\"TrueLayer\",\"Truepill\",\"Trulioo\",\"Trumid\",\"TuJia\",\"Tubatu.com\",\"Tuhu\",\"Turing\",\"UBTECH Robotics\",\"UISEE Technology\",\"Uala\",\"Udaan\",\"Unacademy\",\"Unico\",\"Uniphore\",\"Unisound\",\"Unite Us\",\"United Imaging Healthcare\",\"Unqork\",\"UpGrad\",\"Upgrade\",\"Uplight\",\"Upstox\",\"Uptake\",\"Urban Company\",\"VAST Data\",\"VIPKid\",\"VOI\",\"VTS\",\"Vagaro\",\"Varo Bank\",\"Vectra Networks\",\"Vedantu\",\"Veepee\",\"Veev\",\"Veho\",\"Venafi\",\"VerbIT\",\"Vercel\",\"Veriff\",\"Verkada\",\"Vestiaire Collective\",\"Via\",\"Vice Media\",\"VideoAmp\",\"Vinted\",\"Virta Health\",\"Vise\",\"Visier\",\"Vista Global\",\"Voodoo\",\"Vox Media\",\"Vuori\",\"WEMAKEPRICE\",\"WM Motor\",\"WTOIP\",\"Wacai\",\"Watershed\",\"Wave\",\"Wayflyer\",\"We Doctor\",\"WeBull\",\"WeLab\",\"WeRide\",\"Webflow\",\"Weee!\",\"Weilong\",\"Wenheyou\",\"Whatnot\",\"Whoop\",\"Wildlife Studios\",\"Wiz\",\"Womai\",\"Workato\",\"Workhuman\",\"Workrise\",\"Wrapbook\",\"XForcePlus\",\"Xendit\",\"XiaoZhu\",\"Xiaobing\",\"Xiaohongshu\",\"Ximalaya FM\",\"Xinchao Media\",\"Xingsheng Selected\",\"Xingyun Group\",\"Xpressbees\",\"XtalPi\",\"YH Global\",\"YITU Technology\",\"Yanolja\",\"Yaoshibang\",\"Yello Mobile\",\"Yidian Zixun\",\"Yiguo\",\"Yijiupi\",\"Yimidida\",\"Yipin Shengxian\",\"YipitData\",\"Yixia\",\"Ynsect\",\"Yotpo\",\"You & Mr Jones\",\"Youxia Motors\",\"Yuanfudao\",\"Yuanqi Senlin\",\"YugaByte\",\"YunQuNa\",\"Yunxuetang\",\"ZEPZ\",\"Zapier\",\"Zego\",\"ZenBusiness\",\"Zenoti\",\"Zeta\",\"Zetwerk\",\"Zhaogang\",\"Zhuan Zhuan\",\"Zhubajie\",\"Zihaiguo\",\"Zilch\",\"Zipline\",\"Ziroom\",\"ZocDoc\",\"ZongMu Technology\",\"Zopa\",\"Zume\",\"Zuoyebang\",\"Zwift\",\"apna\",\"bolttech\",\"candy.com\",\"dbt Labs\",\"eDaili\",\"eSentire\",\"ezCater\",\"goPuff\",\"iCapital Network\",\"iCarbonX\",\"iFood\",\"iTrustCapital\",\"iTutorGroup\",\"o9 Solutions\",\"reddit\",\"solarisBank\",\"wefox\",\"Aarhus\",\"Aberdeen\",\"Alameda\",\"Alexandria\",\"Altrincham\",\"Ambler\",\"Amsterdam\",\"Amsterdam\",\"Amsterdam\",\"Amsterdam\",\"Andheri\",\"Arlington\",\"Artificial intelligence\",\"Artificial intelligence\",\"Atlanta\",\"Atlanta\",\"Atlanta\",\"Atlanta\",\"Atlanta\",\"Austin\",\"Austin\",\"Austin\",\"Austin\",\"Austin\",\"Austin\",\"Bangalore\",\"Bangkok\",\"Bangkok\",\"Barcelona\",\"Beijing\",\"Beijing\",\"Beijing\",\"Beijing\",\"Beijing\",\"Beijing\",\"Beijing\",\"Beijing\",\"Beijing\",\"Beijing\",\"Beijing\",\"Beijing\",\"Bellevue\",\"Bellevue\",\"Bellevue\",\"Bellingham\",\"Bend\",\"Bengaluru\",\"Bengaluru\",\"Bengaluru\",\"Bengaluru\",\"Bengaluru\",\"Bengaluru\",\"Bengaluru\",\"Bengaluru\",\"Bengaluru\",\"Berkeley\",\"Berkeley\",\"Berkeley Heights\",\"Berlin\",\"Berlin\",\"Berlin\",\"Berlin\",\"Berlin\",\"Berlin\",\"Berlin\",\"Bethesda\",\"Boca Raton\",\"Bogota\",\"Bogota\",\"Boise\",\"Boston\",\"Boston\",\"Boston\",\"Boston\",\"Boston\",\"Boston\",\"Boston\",\"Boston\",\"Boston\",\"Boulder\",\"Boulder\",\"Brisbane\",\"Brisbane\",\"Bristol\",\"Bristol\",\"Brooklyn\",\"Brooklyn\",\"Brussels\",\"Bryanston\",\"Buenos Aires\",\"Burlingame\",\"Burlington\",\"Burnaby\",\"Cambridge\",\"Cambridge\",\"Cambridge\",\"Cambridge\",\"Cambridge\",\"Cambridge\",\"Campinas\",\"Carlsbad\",\"Carson City\",\"Cary\",\"Cedar Park\",\"Central\",\"Changsha\",\"Changsha\",\"Changzhou\",\"Charlotte\",\"Charlotte\",\"Chatham\",\"Chengdu\",\"Chengdu\",\"Chengdu\",\"Chennai\",\"Cheung Sha Wan\",\"Chicago\",\"Chicago\",\"Chicago\",\"Chicago\",\"Chicago\",\"Chicago\",\"Chicago\",\"Chicago\",\"Chongqing\",\"Chongqing\",\"Cincinnati\",\"Colchester\",\"Colorado Springs\",\"Columbus\",\"Copenhagen\",\"Crewe\",\"Croix\",\"Culver City\",\"Culver City\",\"Culver City\",\"Curitiba\",\"Curitiba\",\"Dakar\",\"Dallas\",\"Dallas\",\"Dallas\",\"Denver\",\"Denver\",\"Denver\",\"Detroit\",\"Dongguan\",\"Draper\",\"Dubai\",\"Dubai\",\"Dublin\",\"Dublin\",\"Dublin\",\"Dublin\",\"Duderstadt\",\"E-commerce & direct-to-consumer\",\"E-commerce & direct-to-consumer\",\"E-commerce & direct-to-consumer\",\"E-commerce & direct-to-consumer\",\"Eden Prairie\",\"El Segundo\",\"El Segundo\",\"El Segundo\",\"El Segundo\",\"Encinitas\",\"Englewood\",\"Englewood Cliffs\",\"Espoo\",\"Evry\",\"Faridabad\",\"Fintech\",\"Fintech\",\"Fintech\",\"Fintech\",\"Fintech\",\"Fintech\",\"Fort Mill\",\"Foster City\",\"Framingham\",\"Fremont\",\"Fremont\",\"Ghent\",\"Giv'atayim\",\"Glendale\",\"Glendale\",\"Goleta\",\"Guangzhou\",\"Guangzhou\",\"Guangzhou\",\"Guangzhou\",\"Guiyang\",\"Gurgaon\",\"Gurgaon\",\"Gurgaon\",\"Gurugram\",\"Gurugram\",\"Gurugram\",\"Gurugram\",\"Hamilton\",\"Hangzhou\",\"Hangzhou\",\"Hangzhou\",\"Hangzhou\",\"Hangzhou\",\"Hangzhou\",\"Hangzhou\",\"Hangzhou\",\"Hangzhou\",\"Hanover\",\"Hawthorne\",\"Hayward\",\"Hefei\",\"Helsinki\",\"Helsinki\",\"Herndon\",\"Herzliya\",\"Ho Chi Minh City\",\"Ho Chi Minh City\",\"Hoboken\",\"Hoboken\",\"Houston\",\"Houston\",\"Hunan\",\"Hyderabad\",\"Inglewood\",\"Internet software & services\",\"Internet software & services\",\"Irvine\",\"Irvine\",\"Irving\",\"Islandia\",\"Istanbul\",\"Istanbul\",\"Istanbul\",\"Jacksonville\",\"Jaipur\",\"Jakarta\",\"Jakarta\",\"Jakarta\",\"Jakarta\",\"Jakarta\",\"Jeju-do\",\"Jersey City\",\"Jerusalem\",\"Jiangsu\",\"Kirkland\",\"Kitchener\",\"Kowloon\",\"La Plaine Saint-Denis\",\"Lagos\",\"Lausanne\",\"Leawood\",\"Lehi\",\"Lehi\",\"Lehi\",\"Lerma de Villada\",\"Leudelange\",\"Lincoln\",\"London\",\"London\",\"London\",\"London\",\"London\",\"London\",\"London\",\"London\",\"London\",\"Long Beach\",\"Long Beach\",\"Los Altos\",\"Los Altos\",\"Los Altos\",\"Los Angeles\",\"Los Angeles\",\"Los Angeles\",\"Los Angeles\",\"Louisville\",\"Louvain-la-Neuve\",\"Luohe\",\"Lysaker\",\"Madison\",\"Madrid\",\"Madrid\",\"Maharashtra\",\"Manila\",\"Marina del Rey\",\"McLean\",\"McLean\",\"Melbourne\",\"Menlo Park\",\"Menlo Park\",\"Mexico City\",\"Mexico City\",\"Miami\",\"Miami\",\"Miami\",\"Miami\",\"Midrand\",\"Milan\",\"Mississauga\",\"Mobile & telecommunications\",\"Montpellier\",\"Montreal\",\"Montreal\",\"Mountain View\",\"Mountain View\",\"Mountain View\",\"Mountain View\",\"Mountain View\",\"Mountain View\",\"Mountain View\",\"Mountain View\",\"Mumbai\",\"Mumbai\",\"Mumbai\",\"Mumbai\",\"Mumbai\",\"Munich\",\"Munich\",\"Munich\",\"Munich\",\"Munich\",\"Nanjing\",\"Nanjing\",\"Nashville\",\"Netanya\",\"New Delhi\",\"New Delhi\",\"New York\",\"New York\",\"New York\",\"New York\",\"New York\",\"New York\",\"New York\",\"New York\",\"New York\",\"New York\",\"New York\",\"New York\",\"New York\",\"Noida\",\"Norfolk\",\"Northbrook\",\"Oakland\",\"Oakland\",\"Osasco\",\"Oslo\",\"Oslo\",\"Ottawa\",\"Palo Alto\",\"Palo Alto\",\"Palo Alto\",\"Palo Alto\",\"Palo Alto\",\"Palo Alto\",\"Palo Alto\",\"Palo Alto\",\"Parana\",\"Paris\",\"Paris\",\"Paris\",\"Paris\",\"Paris\",\"Paris\",\"Paris\",\"Paris\",\"Pennsauken\",\"Petah Tikva\",\"Peterborough\",\"Philadelphia\",\"Philadelphia\",\"Pittsburgh\",\"Plantation\",\"Pleasanton\",\"Portland\",\"Portola Valley\",\"Prague\",\"Prilly\",\"Princeton\",\"Pune\",\"Pune\",\"Qingdao\",\"Ra'anana\",\"Raleigh\",\"Ramat Gan\",\"Redwood City\",\"Redwood City\",\"Redwood City\",\"Redwood City\",\"Redwood City\",\"Redwood City\",\"Redwood City\",\"Redwood City\",\"Redwood City\",\"Redwood City\",\"Richmond\",\"Roseville\",\"Roubaix\",\"Sacramento\",\"Salt Lake City\",\"San Carlos\",\"San Diego\",\"San Diego\",\"San Diego\",\"San Diego\",\"San Francisco\",\"San Francisco\",\"San Francisco\",\"San Francisco\",\"San Francisco\",\"San Francisco\",\"San Francisco\",\"San Francisco\",\"San Francisco\",\"San Francisco\",\"San Francisco\",\"San Francisco\",\"San Francisco\",\"San Jose\",\"San Jose\",\"San Jose\",\"San Jose\",\"San Jose\",\"San Mateo\",\"San Mateo\",\"San Mateo\",\"San Mateo\",\"San Mateo\",\"San Mateo\",\"San Mateo\",\"San Ramon\",\"Santa Barbara\",\"Santa Clara\",\"Santa Clara\",\"Santa Clara\",\"Santa Clara\",\"Santa Monica\",\"Santa Monica\",\"Santiago\",\"Sao Paulo\",\"Sao Paulo\",\"Sao Paulo\",\"Sao Paulo\",\"Sao Paulo\",\"Sao Paulo\",\"Schaffhausen\",\"Scottsdale\",\"Seattle\",\"Seattle\",\"Seattle\",\"Seattle\",\"Selangor\",\"Seongnam-Si\",\"Seoul\",\"Seoul\",\"Seoul\",\"Seoul\",\"Seoul\",\"Seoul\",\"Seoul\",\"Shanghai\",\"Shanghai\",\"Shanghai\",\"Shanghai\",\"Shanghai\",\"Shanghai\",\"Shanghai\",\"Shanghai\",\"Shanghai\",\"Shanghai\",\"Shanghai\",\"Shenzhen\",\"Shenzhen\",\"Shenzhen\",\"Shenzhen\",\"Shenzhen\",\"Sherman Oaks\",\"Solihull\",\"Somerville\",\"South Jordan\",\"South San Francisco\",\"Stockholm\",\"Stockholm\",\"Stockholm\",\"Stockholm\",\"Stockholm\",\"Stockholm\",\"Sunnyvale\",\"Sunnyvale\",\"Sunnyvale\",\"Supply chain, logistics, & delivery\",\"Surry Hills\",\"Suzhou\",\"Sydney\",\"Taguig City\",\"Tallinn\",\"Tallinn\",\"Tampa\",\"Tel Aviv\",\"Tel Aviv\",\"Tel Aviv\",\"Tel Aviv\",\"Tel Aviv\",\"Tel Aviv\",\"Tel Aviv\",\"Tel Aviv\",\"Tel Aviv\",\"Thane\",\"Tianjin\",\"Tirat Carmel\",\"Tokyo\",\"Tokyo\",\"Tokyo\",\"Tokyo\",\"Toronto\",\"Toronto\",\"Toronto\",\"Toronto\",\"Tsuruoka\",\"Tustin\",\"Unterfoehring\",\"Vancouver\",\"Vancouver\",\"Vancouver\",\"Vancouver\",\"Vienna\",\"Vienna\",\"Vilnius\",\"Vodnjan\",\"Walnut\",\"Walpole\",\"Waltham\",\"Waltham\",\"Washington\",\"Washington\",\"Washington DC\",\"Washington DC\",\"Waterloo\",\"Waterloo\",\"Westerville\",\"Wilmington\",\"Wuhan\",\"Wuhan\",\"Wuxi\",\"Zephyr Cove\",\"Zhuhai\",\"Zurich\",\"Zurich\",\"Argentina\",\"Australia\",\"Australia\",\"Australia\",\"Austria\",\"Austria\",\"Bahamas\",\"Belgium\",\"Belgium\",\"Belgium\",\"Bermuda\",\"Brazil\",\"Brazil\",\"Brazil\",\"Brazil\",\"Brazil\",\"Brazil\",\"Canada\",\"Canada\",\"Canada\",\"Canada\",\"Canada\",\"Canada\",\"Canada\",\"Canada\",\"Canada\",\"Chile\",\"China\",\"China\",\"China\",\"China\",\"China\",\"China\",\"China\",\"China\",\"China\",\"China\",\"China\",\"China\",\"China\",\"China\",\"China\",\"Colombia\",\"Colombia\",\"Croatia\",\"Czech Republic\",\"Denmark\",\"Estonia\",\"Estonia\",\"Finland\",\"Finland\",\"Finland\",\"France\",\"France\",\"France\",\"France\",\"France\",\"France\",\"France\",\"France\",\"Germany\",\"Germany\",\"Germany\",\"Germany\",\"Germany\",\"Germany\",\"Germany\",\"Germany\",\"Germany\",\"Germany\",\"Germany\",\"Hong Kong\",\"Hong Kong\",\"Hong Kong\",\"Hong Kong\",\"Hong Kong\",\"Hong Kong\",\"India\",\"India\",\"India\",\"India\",\"India\",\"India\",\"India\",\"India\",\"India\",\"India\",\"India\",\"Indonesia\",\"Indonesia\",\"Indonesia\",\"Indonesia\",\"Indonesia\",\"Ireland\",\"Ireland\",\"Ireland\",\"Israel\",\"Israel\",\"Israel\",\"Israel\",\"Israel\",\"Israel\",\"Israel\",\"Israel\",\"Israel\",\"Israel\",\"Israel\",\"Italy\",\"Japan\",\"Japan\",\"Japan\",\"Japan\",\"Lithuania\",\"Luxembourg\",\"Malaysia\",\"Mexico\",\"Mexico\",\"Netherlands\",\"Netherlands\",\"Netherlands\",\"Netherlands\",\"Nigeria\",\"Norway\",\"Norway\",\"Philippines\",\"Philippines\",\"Senegal\",\"Singapore\",\"Singapore\",\"Singapore\",\"Singapore\",\"Singapore\",\"Singapore\",\"Singapore\",\"Singapore\",\"Singapore\",\"Singapore\",\"Singapore\",\"Singapore\",\"South Africa\",\"South Africa\",\"South Korea\",\"South Korea\",\"South Korea\",\"South Korea\",\"South Korea\",\"South Korea\",\"South Korea\",\"South Korea\",\"South Korea\",\"Spain\",\"Spain\",\"Spain\",\"Sweden\",\"Sweden\",\"Sweden\",\"Sweden\",\"Sweden\",\"Sweden\",\"Switzerland\",\"Switzerland\",\"Switzerland\",\"Switzerland\",\"Switzerland\",\"Thailand\",\"Thailand\",\"Turkey\",\"Turkey\",\"Turkey\",\"United Arab Emirates\",\"United Arab Emirates\",\"United Kingdom\",\"United Kingdom\",\"United Kingdom\",\"United Kingdom\",\"United Kingdom\",\"United Kingdom\",\"United Kingdom\",\"United Kingdom\",\"United Kingdom\",\"United Kingdom\",\"United Kingdom\",\"United Kingdom\",\"United States\",\"United States\",\"United States\",\"United States\",\"United States\",\"United States\",\"United States\",\"United States\",\"United States\",\"United States\",\"United States\",\"United States\",\"United States\",\"United States\",\"United States\",\"Vietnam\",\"Vietnam\",\"500 GLOBAL, RAKUTEN VENTURES, GOLDEN GATE VENTURES\",\"ANDREESSEN HOROWITZ, DST GLOBAL, IDG CAPITAL\",\"ARTIFICIAL INTELLIGENCE\",\"AUTO & TRANSPORTATION\",\"B CAPITAL GROUP, MONK'S HILL VENTURES, DYNAMIC PARCEL DISTRIBUTION\",\"CONSUMER & RETAIL\",\"CYBERSECURITY\",\"DATA MANAGEMENT & ANALYTICS\",\"DRAGONFLY CAPTIAL, QIMING VENTURE PARTNERS, DST GLOBAL\",\"E-COMMERCE & DIRECT-TO-CONSUMER\",\"EDTECH\",\"FINTECH\",\"HARDWARE\",\"HEALTH\",\"HOPU INVESTMENT MANAGEMENT, BOYU CAPITAL, DC THOMSON VENTURES\",\"INTERNET SOFTWARE & SERVICES\",\"JUNGLE VENTURES, ACCEL, VENTURE HIGHWAY\",\"KUANG-CHI\",\"MOBILE & TELECOMMUNICATIONS\",\"MUNDI VENTURES, DOQLING CAPITAL PARTNERS, ACTIVANT CAPITAL\",\"OTHER\",\"SEQUOIA CAPITAL CHINA, ING, ALIBABA ENTREPRENEURS FUND\",\"SEQUOIA CAPITAL CHINA, SHUNWEI CAPITAL PARTNERS, QUALGRO\",\"SEQUOIA CAPITAL, THOMA BRAVO, SOFTBANK\",\"SINGTEL INNOV8, ALPHA JWC VENTURES, GOLDEN GATE VENTURES\",\"SUPPLY CHAIN, LOGISTICS, & DELIVERY\",\"TEMASEK, GUGGENHEIM INVESTMENTS, QATAR INVESTMENT AUTHORITY\",\"TIGER GLOBAL MANAGEMENT, TIGER BROKERS, DCM VENTURES\",\"TRAVEL\",\"VERTEX VENTURES SE ASIA, GLOBAL FOUNDERS CAPITAL, VISA VENTURES\",\"VISION PLUS CAPITAL, GSR VENTURES, ZHENFUND\"],\"name\":\"\",\"parents\":[\"INTERNET SOFTWARE & SERVICES/United States/Zephyr Cove\",\"HARDWARE/China/Hangzhou\",\"CYBERSECURITY/Canada/Toronto\",\"ARTIFICIAL INTELLIGENCE/China/Beijing\",\"SUPPLY CHAIN, LOGISTICS, & DELIVERY/China/Shanghai\",\"INTERNET SOFTWARE & SERVICES/China/Beijing\",\"ARTIFICIAL INTELLIGENCE/United States/San Francisco\",\"OTHER/United States/El Segundo\",\"AUTO & TRANSPORTATION/China/Shanghai\",\"ARTIFICIAL INTELLIGENCE/United States/New York\",\"OTHER/United Kingdom/Colchester\",\"FINTECH/India/Bengaluru\",\"CYBERSECURITY/Switzerland/Schaffhausen\",\"INTERNET SOFTWARE & SERVICES/United States/Chicago\",\"ARTIFICIAL INTELLIGENCE/Canada/Toronto\",\"FINTECH/United States/Mountain View\",\"VISION PLUS CAPITAL, GSR VENTURES, ZHENFUND/Singapore/Artificial intelligence\",\"ARTIFICIAL INTELLIGENCE/Bermuda/Hamilton\",\"EDTECH/United States/Glendale\",\"FINTECH/United States/Denver\",\"HARDWARE/Germany/Munich\",\"ARTIFICIAL INTELLIGENCE/China/Beijing\",\"INTERNET SOFTWARE & SERVICES/United States/San Francisco\",\"INTERNET SOFTWARE & SERVICES/United States/New York\",\"INTERNET SOFTWARE & SERVICES/United States/San Francisco\",\"FINTECH/Australia/Melbourne\",\"INTERNET SOFTWARE & SERVICES/Finland/Helsinki\",\"FINTECH/Indonesia/Jakarta\",\"E-COMMERCE & DIRECT-TO-CONSUMER/Indonesia/Jakarta\",\"FINTECH/France/Paris\",\"INTERNET SOFTWARE & SERVICES/United States/Redwood City\",\"FINTECH/United States/San Francisco\",\"HEALTH/United States/Bethesda\",\"CYBERSECURITY/United States/San Francisco\",\"INTERNET SOFTWARE & SERVICES/United States/San Francisco\",\"FINTECH/United States/New York\",\"HEALTH/United States/San Francisco\",\"HEALTH/United States/Framingham\",\"TIGER GLOBAL MANAGEMENT, TIGER BROKERS, DCM VENTURES/Hong Kong/Fintech\",\"FINTECH/United States/Chicago\",\"ARTIFICIAL INTELLIGENCE/United States/Seattle\",\"FINTECH/United States/San Francisco\",\"INTERNET SOFTWARE & SERVICES/United States/New York\",\"ARTIFICIAL INTELLIGENCE/United States/Irvine\",\"E-COMMERCE & DIRECT-TO-CONSUMER/France/Paris\",\"ARTIFICIAL INTELLIGENCE/United States/Berkeley\",\"OTHER/United States/Goleta\",\"E-COMMERCE & DIRECT-TO-CONSUMER/United States/San Francisco\",\"DATA MANAGEMENT & ANALYTICS/United States/Sunnyvale\",\"EDTECH/Canada/Kitchener\",\"MOBILE & TELECOMMUNICATIONS/United States/San Francisco\",\"HEALTH/South Korea/Seongnam-Si\",\"MOBILE & TELECOMMUNICATIONS/China/Beijing\",\"CYBERSECURITY/Israel/Ramat Gan\",\"CYBERSECURITY/United States/Eden Prairie\",\"ARTIFICIAL INTELLIGENCE/United States/Pittsburgh\",\"HEALTH/China/Beijing\",\"EDTECH/United States/New York\",\"FINTECH/Thailand/Bangkok\",\"INTERNET SOFTWARE & SERVICES/United States/Culver City\",\"SUPPLY CHAIN, LOGISTICS, & DELIVERY/Canada/Ottawa\",\"MOBILE & TELECOMMUNICATIONS/United States/San Francisco\",\"FINTECH/United States/Mountain View\",\"HEALTH/United States/Mountain View\",\"HEALTH/United States/New York\",\"MOBILE & TELECOMMUNICATIONS/United States/Hoboken\",\"ARTIFICIAL INTELLIGENCE/United States/New York\",\"CYBERSECURITY/United States/Burlington\",\"INTERNET SOFTWARE & SERVICES/United States/San Francisco\",\"ARTIFICIAL INTELLIGENCE/United States/San Jose\",\"INTERNET SOFTWARE & SERVICES/United States/San Francisco\",\"ARTIFICIAL INTELLIGENCE/United States/Chicago\",\"INTERNET SOFTWARE & SERVICES/United States/Santa Clara\",\"E-COMMERCE & DIRECT-TO-CONSUMER/United States/New York\",\"INTERNET SOFTWARE & SERVICES/Canada/Waterloo\",\"OTHER/United States/Houston\",\"CYBERSECURITY/United States/New York\",\"DATA MANAGEMENT & ANALYTICS/United States/Berkeley Heights\",\"FINTECH/United Kingdom/Peterborough\",\"EDTECH/India/Bengaluru\",\"AUTO & TRANSPORTATION/China/Nanjing\",\"E-COMMERCE & DIRECT-TO-CONSUMER/France/Paris\",\"FINTECH/China/Beijing\",\"AUTO & TRANSPORTATION/China/Shanghai\",\"E-COMMERCE & DIRECT-TO-CONSUMER/China/Hangzhou\",\"INTERNET SOFTWARE & SERVICES/China/Beijing\",\"INTERNET SOFTWARE & SERVICES/United States/San Francisco\",\"ARTIFICIAL INTELLIGENCE/United Kingdom/London\",\"E-COMMERCE & DIRECT-TO-CONSUMER/Germany/Berlin\",\"FINTECH/United States/New York\",\"INTERNET SOFTWARE & SERVICES/United States/San Francisco\",\"ARTIFICIAL INTELLIGENCE/Chile/Santiago\",\"FINTECH/United States/New York\",\"CYBERSECURITY/United States/New York\",\"FINTECH/India/New Delhi\",\"CYBERSECURITY/United States/New York\",\"ARTIFICIAL INTELLIGENCE/United States/Mountain View\",\"HEALTH/United States/San Diego\",\"HARDWARE/China/Shanghai\",\"HARDWARE/Netherlands/Amsterdam\",\"FINTECH/Austria/Vienna\",\"CYBERSECURITY/United States/Boston\",\"HARDWARE/China/Beijing\",\"FINTECH/Mexico/Mexico City\",\"AUTO & TRANSPORTATION/France/Paris\",\"ARTIFICIAL INTELLIGENCE/China/Shanghai\",\"OTHER/United States/Los Angeles\",\"SUPPLY CHAIN, LOGISTICS, & DELIVERY/India/Bengaluru\",\"SUPPLY CHAIN, LOGISTICS, & DELIVERY/India/Gurgaon\",\"FINTECH/United States/Los Angeles\",\"FINTECH/United States/Jersey City\",\"FINTECH/United Kingdom/London\",\"FINTECH/Canada/Vancouver\",\"ARTIFICIAL INTELLIGENCE/United States/Mountain View\",\"CYBERSECURITY/United States/New York\",\"ARTIFICIAL INTELLIGENCE/United States/New York\",\"FINTECH/United States/San Francisco\",\"AUTO & TRANSPORTATION/Estonia/Tallinn\",\"OTHER/United States/Englewood\",\"AUTO & TRANSPORTATION/China/Shanghai\",\"FINTECH/United Kingdom/London\",\"OTHER/United States/New York\",\"MOBILE & TELECOMMUNICATIONS/United States/Redwood City\",\"CONSUMER & RETAIL/United Kingdom/Aberdeen\",\"FINTECH/United States/San Francisco\",\"SUPPLY CHAIN, LOGISTICS, & DELIVERY/Israel/Tel Aviv\",\"INTERNET SOFTWARE & SERVICES/Ireland/Dublin\",\"INTERNET SOFTWARE & SERVICES/United States/Nashville\",\"FINTECH/Netherlands/Amsterdam\",\"ARTIFICIAL INTELLIGENCE/China/Beijing\",\"FINTECH/United States/Leawood\",\"FINTECH/Brazil/Sao Paulo\",\"FINTECH/United States/New York\",\"FINTECH/United States/Boston\",\"CYBERSECURITY/United States/New York\",\"HEALTH/United Kingdom/Cambridge\",\"FINTECH/India/Bengaluru\",\"AUTO & TRANSPORTATION/Spain/Madrid\",\"HEALTH/United States/New York\",\"INTERNET SOFTWARE & SERVICES/United States/Atlanta\",\"CONSUMER & RETAIL/United States/San Francisco\",\"MOBILE & TELECOMMUNICATIONS/United States/Cambridge\",\"INTERNET SOFTWARE & SERVICES/United States/Chicago\",\"INTERNET SOFTWARE & SERVICES/Australia/Surry Hills\",\"AUTO & TRANSPORTATION/China/Hangzhou\",\"HEALTH/United States/New York\",\"FINTECH/United States/San Francisco\",\"E-COMMERCE & DIRECT-TO-CONSUMER/India/Jaipur\",\"HARDWARE/United States/Redwood City\",\"HEALTH/United States/San Francisco\",\"SUPPLY CHAIN, LOGISTICS, & DELIVERY/Brazil/Sao Paulo\",\"HEALTH/United States/Irving\",\"500 GLOBAL, RAKUTEN VENTURES, GOLDEN GATE VENTURES/Singapore/E-commerce & direct-to-consumer\",\"SINGTEL INNOV8, ALPHA JWC VENTURES, GOLDEN GATE VENTURES/Singapore/E-commerce & direct-to-consumer\",\"E-COMMERCE & DIRECT-TO-CONSUMER/India/Gurgaon\",\"E-COMMERCE & DIRECT-TO-CONSUMER/Malaysia/Selangor\",\"FINTECH/United States/Lincoln\",\"FINTECH/United States/San Francisco\",\"E-COMMERCE & DIRECT-TO-CONSUMER/China/Jiangsu\",\"CYBERSECURITY/Israel/Tel Aviv\",\"OTHER/United States/Washington\",\"FINTECH/United States/New York\",\"MOBILE & TELECOMMUNICATIONS/South Africa/Midrand\",\"DATA MANAGEMENT & ANALYTICS/Germany/Munich\",\"FINTECH/United States/Hoboken\",\"HEALTH/United States/San Francisco\",\"HARDWARE/United States/Los Altos\",\"FINTECH/China/Hangzhou\",\"FINTECH/United States/New York\",\"EDTECH/China/Shanghai\",\"FINTECH/United States/Walnut\",\"FINTECH/United Kingdom/London\",\"INTERNET SOFTWARE & SERVICES/United States/San Francisco\",\"E-COMMERCE & DIRECT-TO-CONSUMER/China/Beijing\",\"FINTECH/United States/San Francisco\",\"HARDWARE/China/Wuxi\",\"HARDWARE/China/Beijing\",\"FINTECH/United States/San Francisco\",\"DATA MANAGEMENT & ANALYTICS/United States/New York\",\"ANDREESSEN HOROWITZ, DST GLOBAL, IDG CAPITAL/Hong Kong/E-commerce & direct-to-consumer\",\"FINTECH/United States/Boston\",\"INTERNET SOFTWARE & SERVICES/United States/San Francisco\",\"HEALTH/United States/Brooklyn\",\"FINTECH/Mexico/Mexico City\",\"INTERNET SOFTWARE & SERVICES/United States/Sunnyvale\",\"CYBERSECURITY/United States/New York\",\"FINTECH/Canada/Toronto\",\"FINTECH/United States/Chicago\",\"DATA MANAGEMENT & ANALYTICS/United States/Portola Valley\",\"INTERNET SOFTWARE & SERVICES/United States/San Diego\",\"INTERNET SOFTWARE & SERVICES/Canada/Burnaby\",\"FINTECH/Mexico/Mexico City\",\"DATA MANAGEMENT & ANALYTICS/United States/San Jose\",\"FINTECH/Brazil/Sao Paulo\",\"INTERNET SOFTWARE & SERVICES/United States/Santa Clara\",\"ARTIFICIAL INTELLIGENCE/China/Guangzhou\",\"MOBILE & TELECOMMUNICATIONS/United States/San Francisco\",\"CYBERSECURITY/United States/San Francisco\",\"DATA MANAGEMENT & ANALYTICS/United States/New York\",\"INTERNET SOFTWARE & SERVICES/United States/Mountain View\",\"DATA MANAGEMENT & ANALYTICS/Norway/Lysaker\",\"DATA MANAGEMENT & ANALYTICS/United States/San Jose\",\"FINTECH/India/Maharashtra\",\"FINTECH/United States/San Francisco\",\"FINTECH/India/Bangalore\",\"FINTECH/United States/San Francisco\",\"FINTECH/United States/San Francisco\",\"DATA MANAGEMENT & ANALYTICS/Belgium/Brussels\",\"HEALTH/United States/Burlingame\",\"INTERNET SOFTWARE & SERVICES/United States/San Francisco\",\"FINTECH/United States/New York\",\"INTERNET SOFTWARE & SERVICES/France/Paris\",\"INTERNET SOFTWARE & SERVICES/Germany/Berlin\",\"CYBERSECURITY/United States/Los Altos\",\"SUPPLY CHAIN, LOGISTICS, & DELIVERY/United States/Seattle\",\"HARDWARE/China/Shenzhen\",\"DATA MANAGEMENT & ANALYTICS/United States/Chicago\",\"EDTECH/United States/Redwood City\",\"FINTECH/Brazil/Sao Paulo\",\"INTERNET SOFTWARE & SERVICES/Australia/Richmond\",\"HEALTH/India/Bengaluru\",\"FINTECH/United States/New York\",\"CYBERSECURITY/United States/Boston\",\"HARDWARE/China/Shenzhen\",\"DATA MANAGEMENT & ANALYTICS/China/Hangzhou\",\"OTHER/China/Shenzhen\",\"E-COMMERCE & DIRECT-TO-CONSUMER/United States/New York\",\"INTERNET SOFTWARE & SERVICES/India/Bengaluru\",\"FINTECH/United States/New York\",\"FINTECH/Canada/Vancouver\",\"INTERNET SOFTWARE & SERVICES/India/Hyderabad\",\"ARTIFICIAL INTELLIGENCE/United States/Boston\",\"DATA MANAGEMENT & ANALYTICS/United States/San Francisco\",\"INTERNET SOFTWARE & SERVICES/United States/New York\",\"ARTIFICIAL INTELLIGENCE/United States/New York\",\"E-COMMERCE & DIRECT-TO-CONSUMER/India/Bengaluru\",\"FINTECH/United States/San Francisco\",\"ARTIFICIAL INTELLIGENCE/China/Shanghai\",\"INTERNET SOFTWARE & SERVICES/France/Paris\",\"EDTECH/United States/Pleasanton\",\"SUPPLY CHAIN, LOGISTICS, & DELIVERY/India/Gurgaon\",\"FINTECH/Belgium/Ghent\",\"SUPPLY CHAIN, LOGISTICS, & DELIVERY/United States/San Francisco\",\"HARDWARE/United States/San Francisco\",\"HEALTH/France/Paris\",\"DATA MANAGEMENT & ANALYTICS/United States/Cambridge\",\"HEALTH/United States/Waltham\",\"INTERNET SOFTWARE & SERVICES/United States/San Francisco\",\"OTHER/United States/San Francisco\",\"E-COMMERCE & DIRECT-TO-CONSUMER/China/Shanghai\",\"FINTECH/India/Bengaluru\",\"FINTECH/United States/New York\",\"INTERNET SOFTWARE & SERVICES/United States/San Francisco\",\"HEALTH/United States/Denver\",\"INTERNET SOFTWARE & SERVICES/United States/New York\",\"FINTECH/United States/San Francisco\",\"HEALTH/France/Paris\",\"INTERNET SOFTWARE & SERVICES/United States/Berkeley\",\"CYBERSECURITY/United States/Hanover\",\"CYBERSECURITY/United States/San Diego\",\"MOBILE & TELECOMMUNICATIONS/Turkey/Istanbul\",\"INTERNET SOFTWARE & SERVICES/India/Mumbai\",\"DATA MANAGEMENT & ANALYTICS/United States/Santa Clara\",\"INTERNET SOFTWARE & SERVICES/Israel/Ra'anana\",\"FINTECH/United States/Chatham\",\"DATA MANAGEMENT & ANALYTICS/United States/Sunnyvale\",\"FINTECH/South Korea/Seoul\",\"DATA MANAGEMENT & ANALYTICS/Norway/Oslo\",\"E-COMMERCE & DIRECT-TO-CONSUMER/United States/Bend\",\"HEALTH/China/Hangzhou\",\"FINTECH/Brazil/Curitiba\",\"AUTO & TRANSPORTATION/China/Wuhan\",\"AUTO & TRANSPORTATION/China/Shanghai\",\"HEALTH/United States/Cambridge\",\"FINTECH/Israel/Giv'atayim\",\"CONSUMER & RETAIL/China/Beijing\",\"CONSUMER & RETAIL/United States/San Francisco\",\"HARDWARE/China/Shenzhen\",\"INTERNET SOFTWARE & SERVICES/United States/Santa Clara\",\"AUTO & TRANSPORTATION/Sweden/Stockholm\",\"SUPPLY CHAIN, LOGISTICS, & DELIVERY/India/Pune\",\"HEALTH/United States/San Francisco\",\"OTHER/United Arab Emirates/Dubai\",\"HARDWARE/China/Shanghai\",\"INTERNET SOFTWARE & SERVICES/Germany/Berlin\",\"INTERNET SOFTWARE & SERVICES/United States/San Francisco\",\"OTHER/United States/Cary\",\"INTERNET SOFTWARE & SERVICES/Sweden/Stockholm\",\"OTHER/United States/Hawthorne\",\"EDTECH/India/Mumbai\",\"FINTECH/United States/New York\",\"FINTECH/United States/San Francisco\",\"INTERNET SOFTWARE & SERVICES/United States/Oakland\",\"E-COMMERCE & DIRECT-TO-CONSUMER/United States/Austin\",\"HEALTH/United States/San Mateo\",\"CYBERSECURITY/United States/Foster City\",\"HARDWARE/France/Croix\",\"CYBERSECURITY/United States/Herndon\",\"FINTECH/United States/San Francisco\",\"SEQUOIA CAPITAL, THOMA BRAVO, SOFTBANK/Bahamas/Fintech\",\"MOBILE & TELECOMMUNICATIONS/China/Beijing\",\"E-COMMERCE & DIRECT-TO-CONSUMER/United States/Bellevue\",\"SUPPLY CHAIN, LOGISTICS, & DELIVERY/United States/New York\",\"AUTO & TRANSPORTATION/United States/Santa Monica\",\"ARTIFICIAL INTELLIGENCE/United States/San Francisco\",\"FINTECH/United States/San Mateo\",\"E-COMMERCE & DIRECT-TO-CONSUMER/United States/Jacksonville\",\"OTHER/United States/San Carlos\",\"ARTIFICIAL INTELLIGENCE/United States/San Mateo\",\"EDTECH/China/Beijing\",\"E-COMMERCE & DIRECT-TO-CONSUMER/United States/Madison\",\"INTERNET SOFTWARE & SERVICES/United States/New York\",\"INTERNET SOFTWARE & SERVICES/United States/San Francisco\",\"INTERNET SOFTWARE & SERVICES/Canada/Toronto\",\"FINTECH/United States/New York\",\"DATA MANAGEMENT & ANALYTICS/Israel/Tel Aviv\",\"OTHER/United States/Cedar Park\",\"E-COMMERCE & DIRECT-TO-CONSUMER/India/Pune\",\"HEALTH/China/Chengdu\",\"OTHER/India/Chennai\",\"DATA MANAGEMENT & ANALYTICS/United States/Oakland\",\"SUPPLY CHAIN, LOGISTICS, & DELIVERY/Thailand/Bangkok\",\"SUPPLY CHAIN, LOGISTICS, & DELIVERY/China/Beijing\",\"SUPPLY CHAIN, LOGISTICS, & DELIVERY/United States/San Francisco\",\"E-COMMERCE & DIRECT-TO-CONSUMER/Germany/Berlin\",\"INTERNET SOFTWARE & SERVICES/United States/Palo Alto\",\"INTERNET SOFTWARE & SERVICES/Ireland/Dublin\",\"AUTO & TRANSPORTATION/Germany/Munich\",\"FINTECH/United States/Los Angeles\",\"SUPPLY CHAIN, LOGISTICS, & DELIVERY/United States/Encinitas\",\"HARDWARE/United States/Atlanta\",\"FINTECH/United States/San Francisco\",\"HARDWARE/United States/Somerville\",\"FINTECH/United States/San Francisco\",\"CYBERSECURITY/United States/New York\",\"SUPPLY CHAIN, LOGISTICS, & DELIVERY/Germany/Berlin\",\"DATA MANAGEMENT & ANALYTICS/India/Mumbai\",\"FINTECH/Canada/Toronto\",\"INTERNET SOFTWARE & SERVICES/United States/Atlanta\",\"FINTECH/United States/San Francisco\",\"INTERNET SOFTWARE & SERVICES/United States/Chicago\",\"SUPPLY CHAIN, LOGISTICS, & DELIVERY/China/Beijing\",\"INTERNET SOFTWARE & SERVICES/Australia/Brisbane\",\"E-COMMERCE & DIRECT-TO-CONSUMER/United States/Culver City\",\"OTHER/South Korea/Seoul\",\"MOBILE & TELECOMMUNICATIONS/China/Beijing\",\"HARDWARE/China/Shanghai\",\"HARDWARE/China/Beijing\",\"E-COMMERCE & DIRECT-TO-CONSUMER/Norway/Oslo\",\"INTERNET SOFTWARE & SERVICES/United States/San Francisco\",\"FINTECH/United States/New York\",\"TRAVEL/Germany/Berlin\",\"E-COMMERCE & DIRECT-TO-CONSUMER/Turkey/Istanbul\",\"AUTO & TRANSPORTATION/United Kingdom/London\",\"HARDWARE/United Kingdom/London\",\"E-COMMERCE & DIRECT-TO-CONSUMER/India/New Delhi\",\"ARTIFICIAL INTELLIGENCE/United States/Menlo Park\",\"INTERNET SOFTWARE & SERVICES/United States/Boston\",\"CONSUMER & RETAIL/United States/New York\",\"FINTECH/United Kingdom/London\",\"EDTECH/Austria/Vienna\",\"ARTIFICIAL INTELLIGENCE/United States/Palo Alto\",\"INTERNET SOFTWARE & SERVICES/United States/Roseville\",\"E-COMMERCE & DIRECT-TO-CONSUMER/Germany/Berlin\",\"SUPPLY CHAIN, LOGISTICS, & DELIVERY/United Kingdom/London\",\"INTERNET SOFTWARE & SERVICES/United States/New York\",\"INTERNET SOFTWARE & SERVICES/United States/San Francisco\",\"ARTIFICIAL INTELLIGENCE/United Kingdom/Bristol\",\"FINTECH/United States/Atlanta\",\"FINTECH/United Kingdom/London\",\"ARTIFICIAL INTELLIGENCE/United States/Mountain View\",\"E-COMMERCE & DIRECT-TO-CONSUMER/United States/San Francisco\",\"FINTECH/India/Bengaluru\",\"E-COMMERCE & DIRECT-TO-CONSUMER/United States/San Francisco\",\"FINTECH/United States/San Mateo\",\"INTERNET SOFTWARE & SERVICES/United States/Denver\",\"CONSUMER & RETAIL/China/Shanghai\",\"INTERNET SOFTWARE & SERVICES/United States/San Francisco\",\"FINTECH/United States/San Francisco\",\"INTERNET SOFTWARE & SERVICES/United States/New York\",\"E-COMMERCE & DIRECT-TO-CONSUMER/United Kingdom/Solihull\",\"ARTIFICIAL INTELLIGENCE/United States/Mountain View\",\"CONSUMER & RETAIL/China/Shanghai\",\"OTHER/China/Shenzhen\",\"MOBILE & TELECOMMUNICATIONS/Finland/Espoo\",\"ARTIFICIAL INTELLIGENCE/Israel/Tel Aviv\",\"INTERNET SOFTWARE & SERVICES/United States/San Francisco\",\"ARTIFICIAL INTELLIGENCE/China/Beijing\",\"FINTECH/United States/Tustin\",\"ARTIFICIAL INTELLIGENCE/United States/San Francisco\",\"CONSUMER & RETAIL/United States/New York\",\"INTERNET SOFTWARE & SERVICES/India/Bengaluru\",\"HEALTH/United States/Redwood City\",\"INTERNET SOFTWARE & SERVICES/United States/San Francisco\",\"AUTO & TRANSPORTATION/China/Shanghai\",\"ARTIFICIAL INTELLIGENCE/China/Shanghai\",\"E-COMMERCE & DIRECT-TO-CONSUMER/United States/Chicago\",\"INTERNET SOFTWARE & SERVICES/Israel/Tel Aviv\",\"FINTECH/United States/Houston\",\"INTERNET SOFTWARE & SERVICES/United States/Seattle\",\"HEALTH/United States/San Francisco\",\"ARTIFICIAL INTELLIGENCE/United States/San Francisco\",\"SUPPLY CHAIN, LOGISTICS, & DELIVERY/China/Shenzhen\",\"FINTECH/United States/San Francisco\",\"INTERNET SOFTWARE & SERVICES/United States/San Francisco\",\"INTERNET SOFTWARE & SERVICES/United States/San Francisco\",\"INTERNET SOFTWARE & SERVICES/United Kingdom/London\",\"TRAVEL/Canada/Montreal\",\"ARTIFICIAL INTELLIGENCE/China/Beijing\",\"E-COMMERCE & DIRECT-TO-CONSUMER/China/Nanjing\",\"E-COMMERCE & DIRECT-TO-CONSUMER/Netherlands/Amsterdam\",\"E-COMMERCE & DIRECT-TO-CONSUMER/United States/Palo Alto\",\"OTHER/United Kingdom/London\",\"AUTO & TRANSPORTATION/China/Shanghai\",\"EDTECH/China/Shanghai\",\"MOBILE & TELECOMMUNICATIONS/China/Shanghai\",\"E-COMMERCE & DIRECT-TO-CONSUMER/China/Beijing\",\"EDTECH/China/Beijing\",\"FINTECH/China/Beijing\",\"FINTECH/United States/San Francisco\",\"KUANG-CHI/Singapore/Mobile & telecommunications\",\"FINTECH/China/Hangzhou\",\"CYBERSECURITY/United States/McLean\",\"INTERNET SOFTWARE & SERVICES/United States/San Francisco\",\"SUPPLY CHAIN, LOGISTICS, & DELIVERY/United States/Dallas\",\"FINTECH/United States/Denver\",\"ARTIFICIAL INTELLIGENCE/United States/Bellevue\",\"E-COMMERCE & DIRECT-TO-CONSUMER/United States/New York\",\"CYBERSECURITY/United States/Sunnyvale\",\"HARDWARE/China/Shanghai\",\"INTERNET SOFTWARE & SERVICES/United States/Santa Barbara\",\"CONSUMER & RETAIL/United States/Redwood City\",\"OTHER/United Kingdom/London\",\"OTHER/Germany/Berlin\",\"MOBILE & TELECOMMUNICATIONS/India/Bengaluru\",\"HEALTH/Israel/Tirat Carmel\",\"INTERNET SOFTWARE & SERVICES/United States/New York\",\"OTHER/United States/Cambridge\",\"CYBERSECURITY/United States/San Francisco\",\"ARTIFICIAL INTELLIGENCE/United States/Boston\",\"HARDWARE/United States/Waltham\",\"MOBILE & TELECOMMUNICATIONS/Croatia/Vodnjan\",\"E-COMMERCE & DIRECT-TO-CONSUMER/India/Thane\",\"FINTECH/United States/New York\",\"HEALTH/United States/San Francisco\",\"INTERNET SOFTWARE & SERVICES/Turkey/Istanbul\",\"DATA MANAGEMENT & ANALYTICS/United States/San Francisco\",\"SUPPLY CHAIN, LOGISTICS, & DELIVERY/United States/San Francisco\",\"HEALTH/United States/Boston\",\"ARTIFICIAL INTELLIGENCE/China/Shenzhen\",\"INTERNET SOFTWARE & SERVICES/United States/San Francisco\",\"FINTECH/United States/Arlington\",\"FINTECH/United States/San Francisco\",\"DATA MANAGEMENT & ANALYTICS/United States/Austin\",\"INTERNET SOFTWARE & SERVICES/United States/Sacramento\",\"INTERNET SOFTWARE & SERVICES/United States/San Francisco\",\"FINTECH/United States/Redwood City\",\"SUPPLY CHAIN, LOGISTICS, & DELIVERY/Indonesia/Jakarta\",\"E-COMMERCE & DIRECT-TO-CONSUMER/China/Hangzhou\",\"CONSUMER & RETAIL/United States/San Francisco\",\"FINTECH/China/Beijing\",\"E-COMMERCE & DIRECT-TO-CONSUMER/China/Beijing\",\"INTERNET SOFTWARE & SERVICES/Spain/Madrid\",\"E-COMMERCE & DIRECT-TO-CONSUMER/United States/New York\",\"EDTECH/Israel/Tel Aviv\",\"E-COMMERCE & DIRECT-TO-CONSUMER/China/Wuhan\",\"SUPPLY CHAIN, LOGISTICS, & DELIVERY/China/Chengdu\",\"DATA MANAGEMENT & ANALYTICS/United States/Louisville\",\"DATA MANAGEMENT & ANALYTICS/China/Beijing\",\"INTERNET SOFTWARE & SERVICES/United States/New York\",\"HEALTH/United States/New York\",\"E-COMMERCE & DIRECT-TO-CONSUMER/China/Dongguan\",\"HEALTH/Sweden/Stockholm\",\"INTERNET SOFTWARE & SERVICES/United States/Irvine\",\"INTERNET SOFTWARE & SERVICES/United States/Seattle\",\"CYBERSECURITY/United States/Miami\",\"E-COMMERCE & DIRECT-TO-CONSUMER/Mexico/Lerma de Villada\",\"SUPPLY CHAIN, LOGISTICS, & DELIVERY/China/Shanghai\",\"MOBILE & TELECOMMUNICATIONS/China/Beijing\",\"SUPPLY CHAIN, LOGISTICS, & DELIVERY/United States/San Francisco\",\"CONSUMER & RETAIL/United States/Austin\",\"SUPPLY CHAIN, LOGISTICS, & DELIVERY/United Arab Emirates/Dubai\",\"FINTECH/Sweden/Stockholm\",\"INTERNET SOFTWARE & SERVICES/United States/Boston\",\"TRAVEL/Hong Kong/Central\",\"EDTECH/China/Beijing\",\"HEALTH/United States/San Francisco\",\"FINTECH/Mexico/Mexico City\",\"INTERNET SOFTWARE & SERVICES/United States/San Francisco\",\"CONSUMER & RETAIL/Indonesia/Jakarta\",\"E-COMMERCE & DIRECT-TO-CONSUMER/China/Beijing\",\"FINTECH/United States/San Francisco\",\"SUPPLY CHAIN, LOGISTICS, & DELIVERY/China/Tianjin\",\"INTERNET SOFTWARE & SERVICES/China/Beijing\",\"INTERNET SOFTWARE & SERVICES/China/Hangzhou\",\"SUPPLY CHAIN, LOGISTICS, & DELIVERY/South Korea/Seoul\",\"CONSUMER & RETAIL/South Korea/Seoul\",\"EDTECH/India/Andheri\",\"INTERNET SOFTWARE & SERVICES/United States/Dallas\",\"CYBERSECURITY/United States/San Jose\",\"SUPPLY CHAIN, LOGISTICS, & DELIVERY/Hong Kong/Cheung Sha Wan\",\"E-COMMERCE & DIRECT-TO-CONSUMER/China/Shenzhen\",\"INTERNET SOFTWARE & SERVICES/United States/San Francisco\",\"INTERNET SOFTWARE & SERVICES/United States/Oakland\",\"AUTO & TRANSPORTATION/China/Hangzhou\",\"HARDWARE/France/Paris\",\"E-COMMERCE & DIRECT-TO-CONSUMER/India/Faridabad\",\"INTERNET SOFTWARE & SERVICES/United States/Scottsdale\",\"HEALTH/Ireland/Dublin\",\"E-COMMERCE & DIRECT-TO-CONSUMER/China/Beijing\",\"E-COMMERCE & DIRECT-TO-CONSUMER/India/Bengaluru\",\"OTHER/Colombia/Bogota\",\"ARTIFICIAL INTELLIGENCE/Israel/Jerusalem\",\"HEALTH/China/Beijing\",\"MOBILE & TELECOMMUNICATIONS/China/Shanghai\",\"FINTECH/Japan/Tokyo\",\"E-COMMERCE & DIRECT-TO-CONSUMER/India/Bengaluru\",\"SUPPLY CHAIN, LOGISTICS, & DELIVERY/United States/New York\",\"HARDWARE/United States/Wilmington\",\"E-COMMERCE & DIRECT-TO-CONSUMER/Brazil/Sao Paulo\",\"SUPPLY CHAIN, LOGISTICS, & DELIVERY/Brazil/Sao Paulo\",\"CYBERSECURITY/United States/San Francisco\",\"INTERNET SOFTWARE & SERVICES/United States/San Francisco\",\"INTERNET SOFTWARE & SERVICES/United States/South Jordan\",\"FINTECH/United States/New York\",\"FINTECH/Denmark/Aarhus\",\"EDTECH/China/Beijing\",\"INTERNET SOFTWARE & SERVICES/United States/New York\",\"FINTECH/France/Paris\",\"HEALTH/United States/Burlingame\",\"FINTECH/United States/Chicago\",\"ARTIFICIAL INTELLIGENCE/China/Beijing\",\"ARTIFICIAL INTELLIGENCE/United States/Redwood City\",\"INTERNET SOFTWARE & SERVICES/United States/San Francisco\",\"E-COMMERCE & DIRECT-TO-CONSUMER/South Korea/Seoul\",\"FINTECH/United States/Lehi\",\"E-COMMERCE & DIRECT-TO-CONSUMER/Brazil/Parana\",\"TRAVEL/China/Beijing\",\"HARDWARE/United States/Plantation\",\"MOBILE & TELECOMMUNICATIONS/China/Beijing\",\"E-COMMERCE & DIRECT-TO-CONSUMER/India/Gurgaon\",\"FINTECH/Netherlands/Amsterdam\",\"HEALTH/United States/Brisbane\",\"OTHER/China/Shanghai\",\"E-COMMERCE & DIRECT-TO-CONSUMER/France/Paris\",\"FINTECH/United Kingdom/London\",\"EDTECH/United States/San Francisco\",\"FINTECH/United States/New York\",\"DATA MANAGEMENT & ANALYTICS/United Kingdom/Altrincham\",\"DRAGONFLY CAPTIAL, QIMING VENTURE PARTNERS, DST GLOBAL/Singapore/Fintech\",\"HEALTH/United States/New York\",\"INTERNET SOFTWARE & SERVICES/United States/Palo Alto\",\"INTERNET SOFTWARE & SERVICES/United States/New York\",\"HEALTH/China/Chengdu\",\"ARTIFICIAL INTELLIGENCE/France/Paris\",\"INTERNET SOFTWARE & SERVICES/India/Bengaluru\",\"MOBILE & TELECOMMUNICATIONS/China/Beijing\",\"HARDWARE/China/Zhuhai\",\"FINTECH/United States/New York\",\"OTHER/India/Bengaluru\",\"E-COMMERCE & DIRECT-TO-CONSUMER/Mexico/Mexico City\",\"FINTECH/United States/San Francisco\",\"MOBILE & TELECOMMUNICATIONS/Netherlands/Amsterdam\",\"E-COMMERCE & DIRECT-TO-CONSUMER/China/Beijing\",\"E-COMMERCE & DIRECT-TO-CONSUMER/China/Beijing\",\"HEALTH/Switzerland/Lausanne\",\"INTERNET SOFTWARE & SERVICES/United States/San Francisco\",\"ARTIFICIAL INTELLIGENCE/China/Beijing\",\"DATA MANAGEMENT & ANALYTICS/United States/Palo Alto\",\"E-COMMERCE & DIRECT-TO-CONSUMER/France/Paris\",\"INTERNET SOFTWARE & SERVICES/United States/San Francisco\",\"E-COMMERCE & DIRECT-TO-CONSUMER/United States/Pennsauken\",\"INTERNET SOFTWARE & SERVICES/United States/San Francisco\",\"FINTECH/Vietnam/Ho Chi Minh City\",\"FINTECH/India/Gurugram\",\"INTERNET SOFTWARE & SERVICES/India/Bengaluru\",\"FINTECH/United States/San Francisco\",\"CONSUMER & RETAIL/China/Beijing\",\"HEALTH/United States/San Francisco\",\"FINTECH/United States/San Francisco\",\"HEALTH/United States/Boca Raton\",\"E-COMMERCE & DIRECT-TO-CONSUMER/China/Shanghai\",\"JUNGLE VENTURES, ACCEL, VENTURE HIGHWAY/Singapore/E-commerce & direct-to-consumer\",\"INTERNET SOFTWARE & SERVICES/China/Beijing\",\"FINTECH/Netherlands/Amsterdam\",\"ARTIFICIAL INTELLIGENCE/China/Beijing\",\"FINTECH/United Kingdom/London\",\"MOBILE & TELECOMMUNICATIONS/Israel/Tel Aviv\",\"FINTECH/United States/Miami\",\"INTERNET SOFTWARE & SERVICES/United States/Washington DC\",\"E-COMMERCE & DIRECT-TO-CONSUMER/United Kingdom/London\",\"ARTIFICIAL INTELLIGENCE/United States/Mountain View\",\"MOBILE & TELECOMMUNICATIONS/Brazil/Sao Paulo\",\"DATA MANAGEMENT & ANALYTICS/United States/Northbrook\",\"INTERNET SOFTWARE & SERVICES/United States/San Francisco\",\"E-COMMERCE & DIRECT-TO-CONSUMER/India/Mumbai\",\"FINTECH/Philippines/Taguig City\",\"INTERNET SOFTWARE & SERVICES/United States/Sherman Oaks\",\"FINTECH/Germany/Berlin\",\"VERTEX VENTURES SE ASIA, GLOBAL FOUNDERS CAPITAL, VISA VENTURES/Singapore/Fintech\",\"FINTECH/India/Mumbai\",\"OTHER/United States/Chicago\",\"DATA MANAGEMENT & ANALYTICS/United States/San Mateo\",\"FINTECH/Brazil/Sao Paulo\",\"INTERNET SOFTWARE & SERVICES/United States/San Francisco\",\"CYBERSECURITY/United States/Santa Clara\",\"E-COMMERCE & DIRECT-TO-CONSUMER/China/Beijing\",\"INTERNET SOFTWARE & SERVICES/United States/Mountain View\",\"INTERNET SOFTWARE & SERVICES/United States/New York\",\"OTHER/Canada/Vancouver\",\"FINTECH/United States/Palo Alto\",\"HARDWARE/Israel/Tel Aviv\",\"DATA MANAGEMENT & ANALYTICS/Switzerland/Prilly\",\"INTERNET SOFTWARE & SERVICES/United States/Scottsdale\",\"MOBILE & TELECOMMUNICATIONS/United States/San Francisco\",\"B CAPITAL GROUP, MONK'S HILL VENTURES, DYNAMIC PARCEL DISTRIBUTION/Singapore/Supply chain, logistics, & delivery\",\"INTERNET SOFTWARE & SERVICES/India/Bengaluru\",\"CYBERSECURITY/United States/Palo Alto\",\"HEALTH/United States/New York\",\"OTHER/Sweden/Stockholm\",\"ARTIFICIAL INTELLIGENCE/Chile/Santiago\",\"INTERNET SOFTWARE & SERVICES/United States/San Francisco\",\"OTHER/Germany/Unterfoehring\",\"FINTECH/Switzerland/Zurich\",\"AUTO & TRANSPORTATION/United States/Mountain View\",\"E-COMMERCE & DIRECT-TO-CONSUMER/Brazil/Sao Paulo\",\"INTERNET SOFTWARE & SERVICES/China/Beijing\",\"OTHER/Luxembourg/Leudelange\",\"TEMASEK, GUGGENHEIM INVESTMENTS, QATAR INVESTMENT AUTHORITY/Singapore/Internet software & services\",\"OTHER/France/Roubaix\",\"OTHER/United Kingdom/Bristol\",\"TRAVEL/India/Gurugram\",\"FINTECH/United Kingdom/London\",\"E-COMMERCE & DIRECT-TO-CONSUMER/Norway/Oslo\",\"INTERNET SOFTWARE & SERVICES/Belgium/Louvain-la-Neuve\",\"E-COMMERCE & DIRECT-TO-CONSUMER/India/Gurgaon\",\"INTERNET SOFTWARE & SERVICES/United States/Princeton\",\"AUTO & TRANSPORTATION/India/Bengaluru\",\"AUTO & TRANSPORTATION/India/Bengaluru\",\"E-COMMERCE & DIRECT-TO-CONSUMER/Brazil/Curitiba\",\"INTERNET SOFTWARE & SERVICES/United States/Columbus\",\"HEALTH/United States/San Francisco\",\"TRAVEL/Germany/Berlin\",\"INTERNET SOFTWARE & SERVICES/United States/Atlanta\",\"FINTECH/Nigeria/Lagos\",\"ARTIFICIAL INTELLIGENCE/United States/San Francisco\",\"E-COMMERCE & DIRECT-TO-CONSUMER/United States/New York\",\"INTERNET SOFTWARE & SERVICES/United States/New York\",\"HARDWARE/United States/New York\",\"ARTIFICIAL INTELLIGENCE/Israel/Jerusalem\",\"HARDWARE/China/Shenzhen\",\"HEALTH/United States/Menlo Park\",\"CYBERSECURITY/United States/Portland\",\"FINTECH/United States/New York\",\"HEALTH/Germany/Duderstadt\",\"INTERNET SOFTWARE & SERVICES/United States/Boston\",\"INTERNET SOFTWARE & SERVICES/United States/Seattle\",\"EDTECH/United States/San Francisco\",\"INTERNET SOFTWARE & SERVICES/China/Shanghai\",\"FINTECH/Indonesia/Jakarta\",\"ARTIFICIAL INTELLIGENCE/United States/New York\",\"DATA MANAGEMENT & ANALYTICS/United States/Englewood Cliffs\",\"CONSUMER & RETAIL/United States/San Francisco\",\"INTERNET SOFTWARE & SERVICES/United States/Bellingham\",\"FINTECH/United Kingdom/London\",\"FINTECH/United States/Cincinnati\",\"FINTECH/Israel/Tel Aviv\",\"INTERNET SOFTWARE & SERVICES/United States/San Francisco\",\"INTERNET SOFTWARE & SERVICES/United States/San Francisco\",\"CYBERSECURITY/United States/San Francisco\",\"HEALTH/United States/Miami\",\"INTERNET SOFTWARE & SERVICES/United States/New York\",\"INTERNET SOFTWARE & SERVICES/United States/Scottsdale\",\"CONSUMER & RETAIL/United States/New York\",\"SEQUOIA CAPITAL CHINA, SHUNWEI CAPITAL PARTNERS, QUALGRO/Singapore/Internet software & services\",\"INTERNET SOFTWARE & SERVICES/United States/San Francisco\",\"INTERNET SOFTWARE & SERVICES/United States/Lehi\",\"FINTECH/United States/New York\",\"FINTECH/United Kingdom/London\",\"FINTECH/United Kingdom/London\",\"INTERNET SOFTWARE & SERVICES/United States/Raleigh\",\"CYBERSECURITY/Israel/Petah Tikva\",\"INTERNET SOFTWARE & SERVICES/United States/San Francisco\",\"CYBERSECURITY/United States/San Francisco\",\"INTERNET SOFTWARE & SERVICES/Germany/Munich\",\"E-COMMERCE & DIRECT-TO-CONSUMER/Australia/Alexandria\",\"FINTECH/United States/San Francisco\",\"E-COMMERCE & DIRECT-TO-CONSUMER/United States/Islandia\",\"INTERNET SOFTWARE & SERVICES/United States/Ambler\",\"MOBILE & TELECOMMUNICATIONS/United States/San Francisco\",\"FINTECH/United States/San Francisco\",\"FINTECH/India/Noida\",\"EDTECH/China/Beijing\",\"FINTECH/United States/Miami\",\"ARTIFICIAL INTELLIGENCE/United States/Los Altos\",\"FINTECH/United States/San Francisco\",\"OTHER/Japan/Tokyo\",\"FINTECH/Denmark/Copenhagen\",\"INTERNET SOFTWARE & SERVICES/United States/Palo Alto\",\"INTERNET SOFTWARE & SERVICES/United States/Lehi\",\"INTERNET SOFTWARE & SERVICES/Canada/Mississauga\",\"MOBILE & TELECOMMUNICATIONS/China/Shanghai\",\"FINTECH/India/Gurgaon\",\"ARTIFICIAL INTELLIGENCE/United States/Fremont\",\"INTERNET SOFTWARE & SERVICES/United States/San Francisco\",\"ARTIFICIAL INTELLIGENCE/Japan/Tokyo\",\"HEALTH/United States/Cambridge\",\"OTHER/United States/Charlotte\",\"HEALTH/India/Gurugram\",\"INTERNET SOFTWARE & SERVICES/United States/San Francisco\",\"SUPPLY CHAIN, LOGISTICS, & DELIVERY/United States/Chicago\",\"CONSUMER & RETAIL/South Africa/Bryanston\",\"HARDWARE/United States/Palo Alto\",\"FINTECH/United States/New York\",\"INTERNET SOFTWARE & SERVICES/China/Shanghai\",\"FINTECH/France/Paris\",\"FINTECH/United States/San Francisco\",\"DATA MANAGEMENT & ANALYTICS/United States/Colorado Springs\",\"E-COMMERCE & DIRECT-TO-CONSUMER/Brazil/Campinas\",\"EDTECH/United States/San Francisco\",\"DATA MANAGEMENT & ANALYTICS/United States/Seattle\",\"INTERNET SOFTWARE & SERVICES/United States/Mountain View\",\"SUPPLY CHAIN, LOGISTICS, & DELIVERY/United States/Miami\",\"SUPPLY CHAIN, LOGISTICS, & DELIVERY/Finland/Helsinki\",\"E-COMMERCE & DIRECT-TO-CONSUMER/South Korea/Seoul\",\"HEALTH/United States/El Segundo\",\"FINTECH/United Kingdom/Crewe\",\"FINTECH/United States/New York\",\"SUPPLY CHAIN, LOGISTICS, & DELIVERY/Colombia/Bogota\",\"FINTECH/United Kingdom/London\",\"CONSUMER & RETAIL/Germany/Berlin\",\"FINTECH/India/Bengaluru\",\"FINTECH/United States/Los Angeles\",\"E-COMMERCE & DIRECT-TO-CONSUMER/India/Pune\",\"ARTIFICIAL INTELLIGENCE/United States/Washington DC\",\"INTERNET SOFTWARE & SERVICES/United States/Seattle\",\"OTHER/United States/Fort Mill\",\"DATA MANAGEMENT & ANALYTICS/United States/Mountain View\",\"OTHER/United States/Carson City\",\"HEALTH/United States/Boston\",\"INTERNET SOFTWARE & SERVICES/United States/Chicago\",\"OTHER/United States/Inglewood\",\"CYBERSECURITY/United States/Tampa\",\"DATA MANAGEMENT & ANALYTICS/United States/Redwood City\",\"FINTECH/United States/San Francisco\",\"INTERNET SOFTWARE & SERVICES/United States/San Francisco\",\"FINTECH/United Kingdom/London\",\"OTHER/Philippines/Manila\",\"HEALTH/United States/New York\",\"FINTECH/United States/San Francisco\",\"INTERNET SOFTWARE & SERVICES/United States/San Francisco\",\"SUPPLY CHAIN, LOGISTICS, & DELIVERY/India/Gurgaon\",\"HEALTH/United States/New York\",\"SUPPLY CHAIN, LOGISTICS, & DELIVERY/Czech Republic/Prague\",\"INTERNET SOFTWARE & SERVICES/United States/New York\",\"CONSUMER & RETAIL/United States/San Francisco\",\"SUPPLY CHAIN, LOGISTICS, & DELIVERY/United States/Lehi\",\"HARDWARE/China/Shenzhen\",\"OTHER/United States/Atlanta\",\"DATA MANAGEMENT & ANALYTICS/United States/Palo Alto\",\"E-COMMERCE & DIRECT-TO-CONSUMER/China/Shenzhen\",\"OTHER/China/Guiyang\",\"INTERNET SOFTWARE & SERVICES/United States/Chicago\",\"E-COMMERCE & DIRECT-TO-CONSUMER/Canada/Montreal\",\"SUPPLY CHAIN, LOGISTICS, & DELIVERY/United States/Atlanta\",\"AUTO & TRANSPORTATION/China/Changzhou\",\"HEALTH/United States/New York\",\"INTERNET SOFTWARE & SERVICES/Australia/Sydney\",\"CYBERSECURITY/United States/Palo Alto\",\"FINTECH/United Kingdom/London\",\"DATA MANAGEMENT & ANALYTICS/United States/Palo Alto\",\"E-COMMERCE & DIRECT-TO-CONSUMER/United States/El Segundo\",\"FINTECH/Germany/Munich\",\"FINTECH/Italy/Milan\",\"ARTIFICIAL INTELLIGENCE/United States/San Francisco\",\"SUPPLY CHAIN, LOGISTICS, & DELIVERY/Switzerland/Zurich\",\"MOBILE & TELECOMMUNICATIONS/United States/Culver City\",\"INTERNET SOFTWARE & SERVICES/United States/Bellevue\",\"INTERNET SOFTWARE & SERVICES/United States/San Diego\",\"E-COMMERCE & DIRECT-TO-CONSUMER/Germany/Berlin\",\"MOBILE & TELECOMMUNICATIONS/United States/San Mateo\",\"SUPPLY CHAIN, LOGISTICS, & DELIVERY/Germany/Berlin\",\"OTHER/United States/San Francisco\",\"INTERNET SOFTWARE & SERVICES/United States/Glendale\",\"INTERNET SOFTWARE & SERVICES/India/Bengaluru\",\"ARTIFICIAL INTELLIGENCE/United States/San Diego\",\"ARTIFICIAL INTELLIGENCE/France/Paris\",\"SUPPLY CHAIN, LOGISTICS, & DELIVERY/United States/Chicago\",\"SUPPLY CHAIN, LOGISTICS, & DELIVERY/United States/San Francisco\",\"INTERNET SOFTWARE & SERVICES/United States/San Francisco\",\"FINTECH/United States/El Segundo\",\"ARTIFICIAL INTELLIGENCE/United States/San Francisco\",\"FINTECH/United States/San Jose\",\"OTHER/United States/Alameda\",\"DATA MANAGEMENT & ANALYTICS/United States/New York\",\"E-COMMERCE & DIRECT-TO-CONSUMER/United States/Los Angeles\",\"INTERNET SOFTWARE & SERVICES/Vietnam/Ho Chi Minh City\",\"OTHER/United States/Santa Monica\",\"SUPPLY CHAIN, LOGISTICS, & DELIVERY/United States/Redwood City\",\"FINTECH/India/Bengaluru\",\"FINTECH/United States/New York\",\"FINTECH/Japan/Tokyo\",\"ARTIFICIAL INTELLIGENCE/China/Shenzhen\",\"MOBILE & TELECOMMUNICATIONS/Japan/Tokyo\",\"INTERNET SOFTWARE & SERVICES/United States/San Francisco\",\"INTERNET SOFTWARE & SERVICES/United States/San Mateo\",\"E-COMMERCE & DIRECT-TO-CONSUMER/India/New Delhi\",\"FINTECH/United States/San Francisco\",\"ARTIFICIAL INTELLIGENCE/United States/Palo Alto\",\"CYBERSECURITY/United States/Boston\",\"AUTO & TRANSPORTATION/South Korea/Jeju-do\",\"CYBERSECURITY/United States/New York\",\"INTERNET SOFTWARE & SERVICES/United States/Cambridge\",\"OTHER/United States/Houston\",\"HEALTH/United States/McLean\",\"HEALTH/United States/Denver\",\"E-COMMERCE & DIRECT-TO-CONSUMER/France/Paris\",\"E-COMMERCE & DIRECT-TO-CONSUMER/China/Hangzhou\",\"ARTIFICIAL INTELLIGENCE/United States/Santa Clara\",\"INTERNET SOFTWARE & SERVICES/United States/San Francisco\",\"OTHER/United States/Hawthorne\",\"ARTIFICIAL INTELLIGENCE/United States/Austin\",\"FINTECH/France/Paris\",\"OTHER/Japan/Tsuruoka\",\"E-COMMERCE & DIRECT-TO-CONSUMER/India/Gurugram\",\"INTERNET SOFTWARE & SERVICES/United States/San Jose\",\"FINTECH/United States/San Francisco\",\"FINTECH/United States/Los Angeles\",\"HEALTH/United States/New York\",\"ARTIFICIAL INTELLIGENCE/United States/San Francisco\",\"AUTO & TRANSPORTATION/China/Changzhou\",\"DATA MANAGEMENT & ANALYTICS/United States/Boston\",\"CYBERSECURITY/Israel/Netanya\",\"FINTECH/United Kingdom/London\",\"MOBILE & TELECOMMUNICATIONS/United States/Boston\",\"FINTECH/United States/New York\",\"E-COMMERCE & DIRECT-TO-CONSUMER/United States/Detroit\",\"OTHER/Israel/Herzliya\",\"INTERNET SOFTWARE & SERVICES/United States/San Francisco\",\"FINTECH/United States/San Francisco\",\"CYBERSECURITY/United States/San Francisco\",\"FINTECH/United Kingdom/London\",\"FINTECH/United States/Los Angeles\",\"SUPPLY CHAIN, LOGISTICS, & DELIVERY/India/Bengaluru\",\"FINTECH/France/Montpellier\",\"FINTECH/United States/New York\",\"CYBERSECURITY/United States/San Francisco\",\"FINTECH/China/Qingdao\",\"HARDWARE/China/Beijing\",\"ARTIFICIAL INTELLIGENCE/China/Guangzhou\",\"INTERNET SOFTWARE & SERVICES/United States/Boise\",\"INTERNET SOFTWARE & SERVICES/United States/San Francisco\",\"MOBILE & TELECOMMUNICATIONS/China/Beijing\",\"MOBILE & TELECOMMUNICATIONS/United States/Mountain View\",\"CYBERSECURITY/United States/Kirkland\",\"FINTECH/United States/Draper\",\"INTERNET SOFTWARE & SERVICES/United States/San Diego\",\"E-COMMERCE & DIRECT-TO-CONSUMER/United States/El Segundo\",\"INTERNET SOFTWARE & SERVICES/United States/San Ramon\",\"INTERNET SOFTWARE & SERVICES/United States/Bellevue\",\"HEALTH/United States/Chicago\",\"ARTIFICIAL INTELLIGENCE/Canada/Toronto\",\"INTERNET SOFTWARE & SERVICES/China/Shanghai\",\"FINTECH/United Kingdom/London\",\"E-COMMERCE & DIRECT-TO-CONSUMER/United States/Austin\",\"HEALTH/United States/New York\",\"FINTECH/United Kingdom/London\",\"INTERNET SOFTWARE & SERVICES/United States/Sunnyvale\",\"OTHER/United States/Walpole\",\"E-COMMERCE & DIRECT-TO-CONSUMER/United States/San Francisco\",\"TRAVEL/Germany/Berlin\",\"INTERNET SOFTWARE & SERVICES/United States/New York\",\"FINTECH/United States/San Mateo\",\"E-COMMERCE & DIRECT-TO-CONSUMER/United States/San Francisco\",\"CYBERSECURITY/China/Hangzhou\",\"FINTECH/South Korea/Seoul\",\"ARTIFICIAL INTELLIGENCE/United Kingdom/London\",\"FINTECH/Germany/Berlin\",\"OTHER/United States/Norfolk\",\"FINTECH/United States/San Francisco\",\"FINTECH/United States/Westerville\",\"HEALTH/United States/San Francisco\",\"CYBERSECURITY/Israel/Tel Aviv\",\"TRAVEL/Spain/Barcelona\",\"TRAVEL/Indonesia/Jakarta\",\"HOPU INVESTMENT MANAGEMENT, BOYU CAPITAL, DC THOMSON VENTURES/Singapore/Artificial intelligence\",\"CONSUMER & RETAIL/Hong Kong/Kowloon\",\"FINTECH/United States/Charlotte\",\"HEALTH/United States/New York\",\"TRAVEL/United States/Palo Alto\",\"MOBILE & TELECOMMUNICATIONS/United Kingdom/London\",\"FINTECH/United Kingdom/London\",\"HEALTH/United States/Hayward\",\"CYBERSECURITY/Canada/Vancouver\",\"FINTECH/United States/New York\",\"TRAVEL/China/Beijing\",\"E-COMMERCE & DIRECT-TO-CONSUMER/China/Shenzhen\",\"AUTO & TRANSPORTATION/China/Shanghai\",\"INTERNET SOFTWARE & SERVICES/United States/Palo Alto\",\"HARDWARE/China/Shenzhen\",\"SUPPLY CHAIN, LOGISTICS, & DELIVERY/China/Beijing\",\"FINTECH/Argentina/Buenos Aires\",\"SUPPLY CHAIN, LOGISTICS, & DELIVERY/India/Bengaluru\",\"EDTECH/India/Bengaluru\",\"ARTIFICIAL INTELLIGENCE/Brazil/Sao Paulo\",\"ARTIFICIAL INTELLIGENCE/United States/Palo Alto\",\"ARTIFICIAL INTELLIGENCE/China/Beijing\",\"HEALTH/United States/New York\",\"HEALTH/China/Shanghai\",\"FINTECH/United States/New York\",\"EDTECH/India/Mumbai\",\"FINTECH/United States/San Francisco\",\"OTHER/United States/Boulder\",\"FINTECH/India/Mumbai\",\"ARTIFICIAL INTELLIGENCE/United States/Chicago\",\"E-COMMERCE & DIRECT-TO-CONSUMER/India/Gurgaon\",\"DATA MANAGEMENT & ANALYTICS/United States/New York\",\"EDTECH/China/Beijing\",\"TRAVEL/Sweden/Stockholm\",\"INTERNET SOFTWARE & SERVICES/United States/New York\",\"INTERNET SOFTWARE & SERVICES/United States/Dublin\",\"FINTECH/United States/San Francisco\",\"ARTIFICIAL INTELLIGENCE/United States/San Jose\",\"EDTECH/India/Bengaluru\",\"E-COMMERCE & DIRECT-TO-CONSUMER/France/La Plaine Saint-Denis\",\"INTERNET SOFTWARE & SERVICES/United States/San Mateo\",\"SUPPLY CHAIN, LOGISTICS, & DELIVERY/United States/Boulder\",\"CYBERSECURITY/United States/Salt Lake City\",\"ARTIFICIAL INTELLIGENCE/United States/New York\",\"INTERNET SOFTWARE & SERVICES/United States/San Francisco\",\"ARTIFICIAL INTELLIGENCE/Estonia/Tallinn\",\"CYBERSECURITY/United States/San Mateo\",\"E-COMMERCE & DIRECT-TO-CONSUMER/France/Paris\",\"AUTO & TRANSPORTATION/United States/New York\",\"INTERNET SOFTWARE & SERVICES/United States/Brooklyn\",\"INTERNET SOFTWARE & SERVICES/United States/Los Angeles\",\"E-COMMERCE & DIRECT-TO-CONSUMER/Lithuania/Vilnius\",\"HEALTH/United States/San Francisco\",\"FINTECH/United States/New York\",\"INTERNET SOFTWARE & SERVICES/Canada/Vancouver\",\"OTHER/United Arab Emirates/Dubai\",\"OTHER/France/Paris\",\"INTERNET SOFTWARE & SERVICES/United States/Washington\",\"E-COMMERCE & DIRECT-TO-CONSUMER/United States/Carlsbad\",\"E-COMMERCE & DIRECT-TO-CONSUMER/South Korea/Seoul\",\"AUTO & TRANSPORTATION/China/Shanghai\",\"INTERNET SOFTWARE & SERVICES/China/Guangzhou\",\"MOBILE & TELECOMMUNICATIONS/China/Hangzhou\",\"INTERNET SOFTWARE & SERVICES/United States/San Francisco\",\"FINTECH/Senegal/Dakar\",\"FINTECH/Ireland/Dublin\",\"HEALTH/China/Hangzhou\",\"FINTECH/China/Changsha\",\"SEQUOIA CAPITAL CHINA, ING, ALIBABA ENTREPRENEURS FUND/Hong Kong/Fintech\",\"AUTO & TRANSPORTATION/China/Guangzhou\",\"INTERNET SOFTWARE & SERVICES/United States/San Francisco\",\"SUPPLY CHAIN, LOGISTICS, & DELIVERY/United States/Fremont\",\"CONSUMER & RETAIL/China/Luohe\",\"OTHER/China/Hunan\",\"E-COMMERCE & DIRECT-TO-CONSUMER/United States/Marina del Rey\",\"E-COMMERCE & DIRECT-TO-CONSUMER/United States/Boston\",\"OTHER/Brazil/Sao Paulo\",\"CYBERSECURITY/Israel/Tel Aviv\",\"E-COMMERCE & DIRECT-TO-CONSUMER/China/Beijing\",\"INTERNET SOFTWARE & SERVICES/United States/Mountain View\",\"INTERNET SOFTWARE & SERVICES/Ireland/Dublin\",\"INTERNET SOFTWARE & SERVICES/United States/Austin\",\"FINTECH/United States/New York\",\"INTERNET SOFTWARE & SERVICES/China/Shanghai\",\"FINTECH/Indonesia/Jakarta\",\"TRAVEL/China/Beijing\",\"FINTECH/China/Beijing\",\"E-COMMERCE & DIRECT-TO-CONSUMER/China/Shanghai\",\"MOBILE & TELECOMMUNICATIONS/China/Shanghai\",\"INTERNET SOFTWARE & SERVICES/China/Chengdu\",\"E-COMMERCE & DIRECT-TO-CONSUMER/China/Changsha\",\"E-COMMERCE & DIRECT-TO-CONSUMER/China/Shenzhen\",\"SUPPLY CHAIN, LOGISTICS, & DELIVERY/India/Pune\",\"ARTIFICIAL INTELLIGENCE/China/Shenzhen\",\"SUPPLY CHAIN, LOGISTICS, & DELIVERY/China/Shenzhen\",\"ARTIFICIAL INTELLIGENCE/China/Shanghai\",\"TRAVEL/South Korea/Seoul\",\"HEALTH/China/Guangzhou\",\"MOBILE & TELECOMMUNICATIONS/South Korea/Seoul\",\"MOBILE & TELECOMMUNICATIONS/China/Beijing\",\"SUPPLY CHAIN, LOGISTICS, & DELIVERY/China/Shanghai\",\"CONSUMER & RETAIL/China/Beijing\",\"SUPPLY CHAIN, LOGISTICS, & DELIVERY/China/Shanghai\",\"E-COMMERCE & DIRECT-TO-CONSUMER/China/Hefei\",\"INTERNET SOFTWARE & SERVICES/United States/New York\",\"MOBILE & TELECOMMUNICATIONS/China/Beijing\",\"OTHER/France/Evry\",\"INTERNET SOFTWARE & SERVICES/United States/New York\",\"OTHER/United States/New York\",\"AUTO & TRANSPORTATION/China/Shanghai\",\"EDTECH/China/Beijing\",\"CONSUMER & RETAIL/China/Beijing\",\"DATA MANAGEMENT & ANALYTICS/United States/Sunnyvale\",\"SUPPLY CHAIN, LOGISTICS, & DELIVERY/China/Shanghai\",\"EDTECH/China/Suzhou\",\"FINTECH/United Kingdom/London\",\"INTERNET SOFTWARE & SERVICES/United States/Sunnyvale\",\"FINTECH/United Kingdom/London\",\"FINTECH/United States/Austin\",\"INTERNET SOFTWARE & SERVICES/United States/Bellevue\",\"FINTECH/United States/San Francisco\",\"INTERNET SOFTWARE & SERVICES/India/Bengaluru\",\"E-COMMERCE & DIRECT-TO-CONSUMER/China/Shanghai\",\"E-COMMERCE & DIRECT-TO-CONSUMER/China/Beijing\",\"INTERNET SOFTWARE & SERVICES/China/Chongqing\",\"CONSUMER & RETAIL/China/Chongqing\",\"FINTECH/United Kingdom/London\",\"SUPPLY CHAIN, LOGISTICS, & DELIVERY/United States/South San Francisco\",\"E-COMMERCE & DIRECT-TO-CONSUMER/China/Beijing\",\"HEALTH/United States/New York\",\"AUTO & TRANSPORTATION/China/Shanghai\",\"FINTECH/United Kingdom/London\",\"CONSUMER & RETAIL/United States/Mountain View\",\"EDTECH/China/Beijing\",\"E-COMMERCE & DIRECT-TO-CONSUMER/United States/Long Beach\",\"INTERNET SOFTWARE & SERVICES/India/Bengaluru\",\"MUNDI VENTURES, DOQLING CAPITAL PARTNERS, ACTIVANT CAPITAL/Singapore/Fintech\",\"FINTECH/United States/New York\",\"DATA MANAGEMENT & ANALYTICS/United States/Philadelphia\",\"E-COMMERCE & DIRECT-TO-CONSUMER/China/Shanghai\",\"CYBERSECURITY/Canada/Waterloo\",\"SUPPLY CHAIN, LOGISTICS, & DELIVERY/United States/Boston\",\"E-COMMERCE & DIRECT-TO-CONSUMER/United States/Philadelphia\",\"FINTECH/United States/New York\",\"ARTIFICIAL INTELLIGENCE/China/Shenzhen\",\"SUPPLY CHAIN, LOGISTICS, & DELIVERY/Brazil/Osasco\",\"FINTECH/United States/Long Beach\",\"EDTECH/China/Shanghai\",\"ARTIFICIAL INTELLIGENCE/United States/Dallas\",\"INTERNET SOFTWARE & SERVICES/United States/San Francisco\",\"FINTECH/Germany/Berlin\",\"FINTECH/Germany/Berlin\",\"FINTECH/Denmark\",\"CONSUMER & RETAIL/United Kingdom\",\"OTHER/United States\",\"E-COMMERCE & DIRECT-TO-CONSUMER/Australia\",\"DATA MANAGEMENT & ANALYTICS/United Kingdom\",\"INTERNET SOFTWARE & SERVICES/United States\",\"E-COMMERCE & DIRECT-TO-CONSUMER/Netherlands\",\"FINTECH/Netherlands\",\"HARDWARE/Netherlands\",\"MOBILE & TELECOMMUNICATIONS/Netherlands\",\"EDTECH/India\",\"FINTECH/United States\",\"HOPU INVESTMENT MANAGEMENT, BOYU CAPITAL, DC THOMSON VENTURES/Singapore\",\"VISION PLUS CAPITAL, GSR VENTURES, ZHENFUND/Singapore\",\"FINTECH/United States\",\"HARDWARE/United States\",\"INTERNET SOFTWARE & SERVICES/United States\",\"OTHER/United States\",\"SUPPLY CHAIN, LOGISTICS, & DELIVERY/United States\",\"ARTIFICIAL INTELLIGENCE/United States\",\"CONSUMER & RETAIL/United States\",\"DATA MANAGEMENT & ANALYTICS/United States\",\"E-COMMERCE & DIRECT-TO-CONSUMER/United States\",\"FINTECH/United States\",\"INTERNET SOFTWARE & SERVICES/United States\",\"FINTECH/India\",\"FINTECH/Thailand\",\"SUPPLY CHAIN, LOGISTICS, & DELIVERY/Thailand\",\"TRAVEL/Spain\",\"ARTIFICIAL INTELLIGENCE/China\",\"CONSUMER & RETAIL/China\",\"DATA MANAGEMENT & ANALYTICS/China\",\"E-COMMERCE & DIRECT-TO-CONSUMER/China\",\"EDTECH/China\",\"FINTECH/China\",\"HARDWARE/China\",\"HEALTH/China\",\"INTERNET SOFTWARE & SERVICES/China\",\"MOBILE & TELECOMMUNICATIONS/China\",\"SUPPLY CHAIN, LOGISTICS, & DELIVERY/China\",\"TRAVEL/China\",\"ARTIFICIAL INTELLIGENCE/United States\",\"E-COMMERCE & DIRECT-TO-CONSUMER/United States\",\"INTERNET SOFTWARE & SERVICES/United States\",\"INTERNET SOFTWARE & SERVICES/United States\",\"E-COMMERCE & DIRECT-TO-CONSUMER/United States\",\"AUTO & TRANSPORTATION/India\",\"E-COMMERCE & DIRECT-TO-CONSUMER/India\",\"EDTECH/India\",\"FINTECH/India\",\"HEALTH/India\",\"INTERNET SOFTWARE & SERVICES/India\",\"MOBILE & TELECOMMUNICATIONS/India\",\"OTHER/India\",\"SUPPLY CHAIN, LOGISTICS, & DELIVERY/India\",\"ARTIFICIAL INTELLIGENCE/United States\",\"INTERNET SOFTWARE & SERVICES/United States\",\"DATA MANAGEMENT & ANALYTICS/United States\",\"CONSUMER & RETAIL/Germany\",\"E-COMMERCE & DIRECT-TO-CONSUMER/Germany\",\"FINTECH/Germany\",\"INTERNET SOFTWARE & SERVICES/Germany\",\"OTHER/Germany\",\"SUPPLY CHAIN, LOGISTICS, & DELIVERY/Germany\",\"TRAVEL/Germany\",\"HEALTH/United States\",\"HEALTH/United States\",\"OTHER/Colombia\",\"SUPPLY CHAIN, LOGISTICS, & DELIVERY/Colombia\",\"INTERNET SOFTWARE & SERVICES/United States\",\"ARTIFICIAL INTELLIGENCE/United States\",\"CYBERSECURITY/United States\",\"DATA MANAGEMENT & ANALYTICS/United States\",\"E-COMMERCE & DIRECT-TO-CONSUMER/United States\",\"FINTECH/United States\",\"HEALTH/United States\",\"INTERNET SOFTWARE & SERVICES/United States\",\"MOBILE & TELECOMMUNICATIONS/United States\",\"SUPPLY CHAIN, LOGISTICS, & DELIVERY/United States\",\"OTHER/United States\",\"SUPPLY CHAIN, LOGISTICS, & DELIVERY/United States\",\"INTERNET SOFTWARE & SERVICES/Australia\",\"HEALTH/United States\",\"ARTIFICIAL INTELLIGENCE/United Kingdom\",\"OTHER/United Kingdom\",\"HEALTH/United States\",\"INTERNET SOFTWARE & SERVICES/United States\",\"DATA MANAGEMENT & ANALYTICS/Belgium\",\"CONSUMER & RETAIL/South Africa\",\"FINTECH/Argentina\",\"HEALTH/United States\",\"CYBERSECURITY/United States\",\"INTERNET SOFTWARE & SERVICES/Canada\",\"HEALTH/United Kingdom\",\"DATA MANAGEMENT & ANALYTICS/United States\",\"HEALTH/United States\",\"INTERNET SOFTWARE & SERVICES/United States\",\"MOBILE & TELECOMMUNICATIONS/United States\",\"OTHER/United States\",\"E-COMMERCE & DIRECT-TO-CONSUMER/Brazil\",\"E-COMMERCE & DIRECT-TO-CONSUMER/United States\",\"OTHER/United States\",\"OTHER/United States\",\"OTHER/United States\",\"TRAVEL/Hong Kong\",\"E-COMMERCE & DIRECT-TO-CONSUMER/China\",\"FINTECH/China\",\"AUTO & TRANSPORTATION/China\",\"FINTECH/United States\",\"OTHER/United States\",\"FINTECH/United States\",\"HEALTH/China\",\"INTERNET SOFTWARE & SERVICES/China\",\"SUPPLY CHAIN, LOGISTICS, & DELIVERY/China\",\"OTHER/India\",\"SUPPLY CHAIN, LOGISTICS, & DELIVERY/Hong Kong\",\"ARTIFICIAL INTELLIGENCE/United States\",\"DATA MANAGEMENT & ANALYTICS/United States\",\"E-COMMERCE & DIRECT-TO-CONSUMER/United States\",\"FINTECH/United States\",\"HEALTH/United States\",\"INTERNET SOFTWARE & SERVICES/United States\",\"OTHER/United States\",\"SUPPLY CHAIN, LOGISTICS, & DELIVERY/United States\",\"CONSUMER & RETAIL/China\",\"INTERNET SOFTWARE & SERVICES/China\",\"FINTECH/United States\",\"OTHER/United Kingdom\",\"DATA MANAGEMENT & ANALYTICS/United States\",\"INTERNET SOFTWARE & SERVICES/United States\",\"FINTECH/Denmark\",\"FINTECH/United Kingdom\",\"HARDWARE/France\",\"E-COMMERCE & DIRECT-TO-CONSUMER/United States\",\"INTERNET SOFTWARE & SERVICES/United States\",\"MOBILE & TELECOMMUNICATIONS/United States\",\"E-COMMERCE & DIRECT-TO-CONSUMER/Brazil\",\"FINTECH/Brazil\",\"FINTECH/Senegal\",\"ARTIFICIAL INTELLIGENCE/United States\",\"INTERNET SOFTWARE & SERVICES/United States\",\"SUPPLY CHAIN, LOGISTICS, & DELIVERY/United States\",\"FINTECH/United States\",\"HEALTH/United States\",\"INTERNET SOFTWARE & SERVICES/United States\",\"E-COMMERCE & DIRECT-TO-CONSUMER/United States\",\"E-COMMERCE & DIRECT-TO-CONSUMER/China\",\"FINTECH/United States\",\"OTHER/United Arab Emirates\",\"SUPPLY CHAIN, LOGISTICS, & DELIVERY/United Arab Emirates\",\"FINTECH/Ireland\",\"HEALTH/Ireland\",\"INTERNET SOFTWARE & SERVICES/Ireland\",\"INTERNET SOFTWARE & SERVICES/United States\",\"HEALTH/Germany\",\"ANDREESSEN HOROWITZ, DST GLOBAL, IDG CAPITAL/Hong Kong\",\"500 GLOBAL, RAKUTEN VENTURES, GOLDEN GATE VENTURES/Singapore\",\"JUNGLE VENTURES, ACCEL, VENTURE HIGHWAY/Singapore\",\"SINGTEL INNOV8, ALPHA JWC VENTURES, GOLDEN GATE VENTURES/Singapore\",\"CYBERSECURITY/United States\",\"E-COMMERCE & DIRECT-TO-CONSUMER/United States\",\"FINTECH/United States\",\"HEALTH/United States\",\"OTHER/United States\",\"SUPPLY CHAIN, LOGISTICS, & DELIVERY/United States\",\"OTHER/United States\",\"DATA MANAGEMENT & ANALYTICS/United States\",\"MOBILE & TELECOMMUNICATIONS/Finland\",\"OTHER/France\",\"E-COMMERCE & DIRECT-TO-CONSUMER/India\",\"SEQUOIA CAPITAL, THOMA BRAVO, SOFTBANK/Bahamas\",\"SEQUOIA CAPITAL CHINA, ING, ALIBABA ENTREPRENEURS FUND/Hong Kong\",\"TIGER GLOBAL MANAGEMENT, TIGER BROKERS, DCM VENTURES/Hong Kong\",\"DRAGONFLY CAPTIAL, QIMING VENTURE PARTNERS, DST GLOBAL/Singapore\",\"MUNDI VENTURES, DOQLING CAPITAL PARTNERS, ACTIVANT CAPITAL/Singapore\",\"VERTEX VENTURES SE ASIA, GLOBAL FOUNDERS CAPITAL, VISA VENTURES/Singapore\",\"OTHER/United States\",\"CYBERSECURITY/United States\",\"HEALTH/United States\",\"ARTIFICIAL INTELLIGENCE/United States\",\"SUPPLY CHAIN, LOGISTICS, & DELIVERY/United States\",\"FINTECH/Belgium\",\"FINTECH/Israel\",\"EDTECH/United States\",\"INTERNET SOFTWARE & SERVICES/United States\",\"OTHER/United States\",\"ARTIFICIAL INTELLIGENCE/China\",\"AUTO & TRANSPORTATION/China\",\"HEALTH/China\",\"INTERNET SOFTWARE & SERVICES/China\",\"OTHER/China\",\"E-COMMERCE & DIRECT-TO-CONSUMER/India\",\"FINTECH/India\",\"SUPPLY CHAIN, LOGISTICS, & DELIVERY/India\",\"E-COMMERCE & DIRECT-TO-CONSUMER/India\",\"FINTECH/India\",\"HEALTH/India\",\"TRAVEL/India\",\"ARTIFICIAL INTELLIGENCE/Bermuda\",\"AUTO & TRANSPORTATION/China\",\"CYBERSECURITY/China\",\"DATA MANAGEMENT & ANALYTICS/China\",\"E-COMMERCE & DIRECT-TO-CONSUMER/China\",\"FINTECH/China\",\"HARDWARE/China\",\"HEALTH/China\",\"INTERNET SOFTWARE & SERVICES/China\",\"MOBILE & TELECOMMUNICATIONS/China\",\"CYBERSECURITY/United States\",\"OTHER/United States\",\"HEALTH/United States\",\"E-COMMERCE & DIRECT-TO-CONSUMER/China\",\"INTERNET SOFTWARE & SERVICES/Finland\",\"SUPPLY CHAIN, LOGISTICS, & DELIVERY/Finland\",\"CYBERSECURITY/United States\",\"OTHER/Israel\",\"FINTECH/Vietnam\",\"INTERNET SOFTWARE & SERVICES/Vietnam\",\"FINTECH/United States\",\"MOBILE & TELECOMMUNICATIONS/United States\",\"FINTECH/United States\",\"OTHER/United States\",\"OTHER/China\",\"INTERNET SOFTWARE & SERVICES/India\",\"OTHER/United States\",\"SEQUOIA CAPITAL CHINA, SHUNWEI CAPITAL PARTNERS, QUALGRO/Singapore\",\"TEMASEK, GUGGENHEIM INVESTMENTS, QATAR INVESTMENT AUTHORITY/Singapore\",\"ARTIFICIAL INTELLIGENCE/United States\",\"INTERNET SOFTWARE & SERVICES/United States\",\"HEALTH/United States\",\"E-COMMERCE & DIRECT-TO-CONSUMER/United States\",\"E-COMMERCE & DIRECT-TO-CONSUMER/Turkey\",\"INTERNET SOFTWARE & SERVICES/Turkey\",\"MOBILE & TELECOMMUNICATIONS/Turkey\",\"E-COMMERCE & DIRECT-TO-CONSUMER/United States\",\"E-COMMERCE & DIRECT-TO-CONSUMER/India\",\"CONSUMER & RETAIL/Indonesia\",\"E-COMMERCE & DIRECT-TO-CONSUMER/Indonesia\",\"FINTECH/Indonesia\",\"SUPPLY CHAIN, LOGISTICS, & DELIVERY/Indonesia\",\"TRAVEL/Indonesia\",\"AUTO & TRANSPORTATION/South Korea\",\"FINTECH/United States\",\"ARTIFICIAL INTELLIGENCE/Israel\",\"E-COMMERCE & DIRECT-TO-CONSUMER/China\",\"CYBERSECURITY/United States\",\"EDTECH/Canada\",\"CONSUMER & RETAIL/Hong Kong\",\"E-COMMERCE & DIRECT-TO-CONSUMER/France\",\"FINTECH/Nigeria\",\"HEALTH/Switzerland\",\"FINTECH/United States\",\"FINTECH/United States\",\"INTERNET SOFTWARE & SERVICES/United States\",\"SUPPLY CHAIN, LOGISTICS, & DELIVERY/United States\",\"E-COMMERCE & DIRECT-TO-CONSUMER/Mexico\",\"OTHER/Luxembourg\",\"FINTECH/United States\",\"ARTIFICIAL INTELLIGENCE/United Kingdom\",\"AUTO & TRANSPORTATION/United Kingdom\",\"E-COMMERCE & DIRECT-TO-CONSUMER/United Kingdom\",\"FINTECH/United Kingdom\",\"HARDWARE/United Kingdom\",\"INTERNET SOFTWARE & SERVICES/United Kingdom\",\"MOBILE & TELECOMMUNICATIONS/United Kingdom\",\"OTHER/United Kingdom\",\"SUPPLY CHAIN, LOGISTICS, & DELIVERY/United Kingdom\",\"E-COMMERCE & DIRECT-TO-CONSUMER/United States\",\"FINTECH/United States\",\"ARTIFICIAL INTELLIGENCE/United States\",\"CYBERSECURITY/United States\",\"HARDWARE/United States\",\"E-COMMERCE & DIRECT-TO-CONSUMER/United States\",\"FINTECH/United States\",\"INTERNET SOFTWARE & SERVICES/United States\",\"OTHER/United States\",\"DATA MANAGEMENT & ANALYTICS/United States\",\"INTERNET SOFTWARE & SERVICES/Belgium\",\"CONSUMER & RETAIL/China\",\"DATA MANAGEMENT & ANALYTICS/Norway\",\"E-COMMERCE & DIRECT-TO-CONSUMER/United States\",\"AUTO & TRANSPORTATION/Spain\",\"INTERNET SOFTWARE & SERVICES/Spain\",\"FINTECH/India\",\"OTHER/Philippines\",\"E-COMMERCE & DIRECT-TO-CONSUMER/United States\",\"CYBERSECURITY/United States\",\"HEALTH/United States\",\"FINTECH/Australia\",\"ARTIFICIAL INTELLIGENCE/United States\",\"HEALTH/United States\",\"E-COMMERCE & DIRECT-TO-CONSUMER/Mexico\",\"FINTECH/Mexico\",\"CYBERSECURITY/United States\",\"FINTECH/United States\",\"HEALTH/United States\",\"SUPPLY CHAIN, LOGISTICS, & DELIVERY/United States\",\"MOBILE & TELECOMMUNICATIONS/South Africa\",\"FINTECH/Italy\",\"INTERNET SOFTWARE & SERVICES/Canada\",\"KUANG-CHI/Singapore\",\"FINTECH/France\",\"E-COMMERCE & DIRECT-TO-CONSUMER/Canada\",\"TRAVEL/Canada\",\"ARTIFICIAL INTELLIGENCE/United States\",\"AUTO & TRANSPORTATION/United States\",\"CONSUMER & RETAIL/United States\",\"DATA MANAGEMENT & ANALYTICS/United States\",\"FINTECH/United States\",\"HEALTH/United States\",\"INTERNET SOFTWARE & SERVICES/United States\",\"MOBILE & TELECOMMUNICATIONS/United States\",\"DATA MANAGEMENT & ANALYTICS/India\",\"E-COMMERCE & DIRECT-TO-CONSUMER/India\",\"EDTECH/India\",\"FINTECH/India\",\"INTERNET SOFTWARE & SERVICES/India\",\"AUTO & TRANSPORTATION/Germany\",\"DATA MANAGEMENT & ANALYTICS/Germany\",\"FINTECH/Germany\",\"HARDWARE/Germany\",\"INTERNET SOFTWARE & SERVICES/Germany\",\"AUTO & TRANSPORTATION/China\",\"E-COMMERCE & DIRECT-TO-CONSUMER/China\",\"INTERNET SOFTWARE & SERVICES/United States\",\"CYBERSECURITY/Israel\",\"E-COMMERCE & DIRECT-TO-CONSUMER/India\",\"FINTECH/India\",\"ARTIFICIAL INTELLIGENCE/United States\",\"AUTO & TRANSPORTATION/United States\",\"CONSUMER & RETAIL/United States\",\"CYBERSECURITY/United States\",\"DATA MANAGEMENT & ANALYTICS/United States\",\"E-COMMERCE & DIRECT-TO-CONSUMER/United States\",\"EDTECH/United States\",\"FINTECH/United States\",\"HARDWARE/United States\",\"HEALTH/United States\",\"INTERNET SOFTWARE & SERVICES/United States\",\"OTHER/United States\",\"SUPPLY CHAIN, LOGISTICS, & DELIVERY/United States\",\"FINTECH/India\",\"OTHER/United States\",\"DATA MANAGEMENT & ANALYTICS/United States\",\"DATA MANAGEMENT & ANALYTICS/United States\",\"INTERNET SOFTWARE & SERVICES/United States\",\"SUPPLY CHAIN, LOGISTICS, & DELIVERY/Brazil\",\"DATA MANAGEMENT & ANALYTICS/Norway\",\"E-COMMERCE & DIRECT-TO-CONSUMER/Norway\",\"SUPPLY CHAIN, LOGISTICS, & DELIVERY/Canada\",\"ARTIFICIAL INTELLIGENCE/United States\",\"CYBERSECURITY/United States\",\"DATA MANAGEMENT & ANALYTICS/United States\",\"E-COMMERCE & DIRECT-TO-CONSUMER/United States\",\"FINTECH/United States\",\"HARDWARE/United States\",\"INTERNET SOFTWARE & SERVICES/United States\",\"TRAVEL/United States\",\"E-COMMERCE & DIRECT-TO-CONSUMER/Brazil\",\"ARTIFICIAL INTELLIGENCE/France\",\"AUTO & TRANSPORTATION/France\",\"E-COMMERCE & DIRECT-TO-CONSUMER/France\",\"FINTECH/France\",\"HARDWARE/France\",\"HEALTH/France\",\"INTERNET SOFTWARE & SERVICES/France\",\"OTHER/France\",\"E-COMMERCE & DIRECT-TO-CONSUMER/United States\",\"CYBERSECURITY/Israel\",\"FINTECH/United Kingdom\",\"DATA MANAGEMENT & ANALYTICS/United States\",\"E-COMMERCE & DIRECT-TO-CONSUMER/United States\",\"ARTIFICIAL INTELLIGENCE/United States\",\"HARDWARE/United States\",\"EDTECH/United States\",\"CYBERSECURITY/United States\",\"DATA MANAGEMENT & ANALYTICS/United States\",\"SUPPLY CHAIN, LOGISTICS, & DELIVERY/Czech Republic\",\"DATA MANAGEMENT & ANALYTICS/Switzerland\",\"INTERNET SOFTWARE & SERVICES/United States\",\"E-COMMERCE & DIRECT-TO-CONSUMER/India\",\"SUPPLY CHAIN, LOGISTICS, & DELIVERY/India\",\"FINTECH/China\",\"INTERNET SOFTWARE & SERVICES/Israel\",\"INTERNET SOFTWARE & SERVICES/United States\",\"CYBERSECURITY/Israel\",\"ARTIFICIAL INTELLIGENCE/United States\",\"CONSUMER & RETAIL/United States\",\"DATA MANAGEMENT & ANALYTICS/United States\",\"EDTECH/United States\",\"FINTECH/United States\",\"HARDWARE/United States\",\"HEALTH/United States\",\"INTERNET SOFTWARE & SERVICES/United States\",\"MOBILE & TELECOMMUNICATIONS/United States\",\"SUPPLY CHAIN, LOGISTICS, & DELIVERY/United States\",\"INTERNET SOFTWARE & SERVICES/Australia\",\"INTERNET SOFTWARE & SERVICES/United States\",\"OTHER/France\",\"INTERNET SOFTWARE & SERVICES/United States\",\"CYBERSECURITY/United States\",\"OTHER/United States\",\"ARTIFICIAL INTELLIGENCE/United States\",\"CYBERSECURITY/United States\",\"HEALTH/United States\",\"INTERNET SOFTWARE & SERVICES/United States\",\"ARTIFICIAL INTELLIGENCE/United States\",\"CONSUMER & RETAIL/United States\",\"CYBERSECURITY/United States\",\"DATA MANAGEMENT & ANALYTICS/United States\",\"E-COMMERCE & DIRECT-TO-CONSUMER/United States\",\"EDTECH/United States\",\"FINTECH/United States\",\"HARDWARE/United States\",\"HEALTH/United States\",\"INTERNET SOFTWARE & SERVICES/United States\",\"MOBILE & TELECOMMUNICATIONS/United States\",\"OTHER/United States\",\"SUPPLY CHAIN, LOGISTICS, & DELIVERY/United States\",\"ARTIFICIAL INTELLIGENCE/United States\",\"CYBERSECURITY/United States\",\"DATA MANAGEMENT & ANALYTICS/United States\",\"FINTECH/United States\",\"INTERNET SOFTWARE & SERVICES/United States\",\"ARTIFICIAL INTELLIGENCE/United States\",\"CYBERSECURITY/United States\",\"DATA MANAGEMENT & ANALYTICS/United States\",\"FINTECH/United States\",\"HEALTH/United States\",\"INTERNET SOFTWARE & SERVICES/United States\",\"MOBILE & TELECOMMUNICATIONS/United States\",\"INTERNET SOFTWARE & SERVICES/United States\",\"INTERNET SOFTWARE & SERVICES/United States\",\"ARTIFICIAL INTELLIGENCE/United States\",\"CYBERSECURITY/United States\",\"DATA MANAGEMENT & ANALYTICS/United States\",\"INTERNET SOFTWARE & SERVICES/United States\",\"AUTO & TRANSPORTATION/United States\",\"OTHER/United States\",\"ARTIFICIAL INTELLIGENCE/Chile\",\"ARTIFICIAL INTELLIGENCE/Brazil\",\"E-COMMERCE & DIRECT-TO-CONSUMER/Brazil\",\"FINTECH/Brazil\",\"MOBILE & TELECOMMUNICATIONS/Brazil\",\"OTHER/Brazil\",\"SUPPLY CHAIN, LOGISTICS, & DELIVERY/Brazil\",\"CYBERSECURITY/Switzerland\",\"INTERNET SOFTWARE & SERVICES/United States\",\"ARTIFICIAL INTELLIGENCE/United States\",\"DATA MANAGEMENT & ANALYTICS/United States\",\"INTERNET SOFTWARE & SERVICES/United States\",\"SUPPLY CHAIN, LOGISTICS, & DELIVERY/United States\",\"E-COMMERCE & DIRECT-TO-CONSUMER/Malaysia\",\"HEALTH/South Korea\",\"CONSUMER & RETAIL/South Korea\",\"E-COMMERCE & DIRECT-TO-CONSUMER/South Korea\",\"FINTECH/South Korea\",\"MOBILE & TELECOMMUNICATIONS/South Korea\",\"OTHER/South Korea\",\"SUPPLY CHAIN, LOGISTICS, & DELIVERY/South Korea\",\"TRAVEL/South Korea\",\"ARTIFICIAL INTELLIGENCE/China\",\"AUTO & TRANSPORTATION/China\",\"CONSUMER & RETAIL/China\",\"E-COMMERCE & DIRECT-TO-CONSUMER/China\",\"EDTECH/China\",\"HARDWARE/China\",\"HEALTH/China\",\"INTERNET SOFTWARE & SERVICES/China\",\"MOBILE & TELECOMMUNICATIONS/China\",\"OTHER/China\",\"SUPPLY CHAIN, LOGISTICS, & DELIVERY/China\",\"ARTIFICIAL INTELLIGENCE/China\",\"E-COMMERCE & DIRECT-TO-CONSUMER/China\",\"HARDWARE/China\",\"OTHER/China\",\"SUPPLY CHAIN, LOGISTICS, & DELIVERY/China\",\"INTERNET SOFTWARE & SERVICES/United States\",\"E-COMMERCE & DIRECT-TO-CONSUMER/United Kingdom\",\"HARDWARE/United States\",\"INTERNET SOFTWARE & SERVICES/United States\",\"SUPPLY CHAIN, LOGISTICS, & DELIVERY/United States\",\"AUTO & TRANSPORTATION/Sweden\",\"FINTECH/Sweden\",\"HEALTH/Sweden\",\"INTERNET SOFTWARE & SERVICES/Sweden\",\"OTHER/Sweden\",\"TRAVEL/Sweden\",\"CYBERSECURITY/United States\",\"DATA MANAGEMENT & ANALYTICS/United States\",\"INTERNET SOFTWARE & SERVICES/United States\",\"B CAPITAL GROUP, MONK'S HILL VENTURES, DYNAMIC PARCEL DISTRIBUTION/Singapore\",\"INTERNET SOFTWARE & SERVICES/Australia\",\"EDTECH/China\",\"INTERNET SOFTWARE & SERVICES/Australia\",\"FINTECH/Philippines\",\"ARTIFICIAL INTELLIGENCE/Estonia\",\"AUTO & TRANSPORTATION/Estonia\",\"CYBERSECURITY/United States\",\"ARTIFICIAL INTELLIGENCE/Israel\",\"CYBERSECURITY/Israel\",\"DATA MANAGEMENT & ANALYTICS/Israel\",\"EDTECH/Israel\",\"FINTECH/Israel\",\"HARDWARE/Israel\",\"INTERNET SOFTWARE & SERVICES/Israel\",\"MOBILE & TELECOMMUNICATIONS/Israel\",\"SUPPLY CHAIN, LOGISTICS, & DELIVERY/Israel\",\"E-COMMERCE & DIRECT-TO-CONSUMER/India\",\"SUPPLY CHAIN, LOGISTICS, & DELIVERY/China\",\"HEALTH/Israel\",\"ARTIFICIAL INTELLIGENCE/Japan\",\"FINTECH/Japan\",\"MOBILE & TELECOMMUNICATIONS/Japan\",\"OTHER/Japan\",\"ARTIFICIAL INTELLIGENCE/Canada\",\"CYBERSECURITY/Canada\",\"FINTECH/Canada\",\"INTERNET SOFTWARE & SERVICES/Canada\",\"OTHER/Japan\",\"FINTECH/United States\",\"OTHER/Germany\",\"CYBERSECURITY/Canada\",\"FINTECH/Canada\",\"INTERNET SOFTWARE & SERVICES/Canada\",\"OTHER/Canada\",\"EDTECH/Austria\",\"FINTECH/Austria\",\"E-COMMERCE & DIRECT-TO-CONSUMER/Lithuania\",\"MOBILE & TELECOMMUNICATIONS/Croatia\",\"FINTECH/United States\",\"OTHER/United States\",\"HARDWARE/United States\",\"HEALTH/United States\",\"INTERNET SOFTWARE & SERVICES/United States\",\"OTHER/United States\",\"ARTIFICIAL INTELLIGENCE/United States\",\"INTERNET SOFTWARE & SERVICES/United States\",\"CYBERSECURITY/Canada\",\"INTERNET SOFTWARE & SERVICES/Canada\",\"FINTECH/United States\",\"HARDWARE/United States\",\"AUTO & TRANSPORTATION/China\",\"E-COMMERCE & DIRECT-TO-CONSUMER/China\",\"HARDWARE/China\",\"INTERNET SOFTWARE & SERVICES/United States\",\"HARDWARE/China\",\"FINTECH/Switzerland\",\"SUPPLY CHAIN, LOGISTICS, & DELIVERY/Switzerland\",\"FINTECH\",\"E-COMMERCE & DIRECT-TO-CONSUMER\",\"FINTECH\",\"INTERNET SOFTWARE & SERVICES\",\"EDTECH\",\"FINTECH\",\"SEQUOIA CAPITAL, THOMA BRAVO, SOFTBANK\",\"DATA MANAGEMENT & ANALYTICS\",\"FINTECH\",\"INTERNET SOFTWARE & SERVICES\",\"ARTIFICIAL INTELLIGENCE\",\"ARTIFICIAL INTELLIGENCE\",\"E-COMMERCE & DIRECT-TO-CONSUMER\",\"FINTECH\",\"MOBILE & TELECOMMUNICATIONS\",\"OTHER\",\"SUPPLY CHAIN, LOGISTICS, & DELIVERY\",\"ARTIFICIAL INTELLIGENCE\",\"CYBERSECURITY\",\"E-COMMERCE & DIRECT-TO-CONSUMER\",\"EDTECH\",\"FINTECH\",\"INTERNET SOFTWARE & SERVICES\",\"OTHER\",\"SUPPLY CHAIN, LOGISTICS, & DELIVERY\",\"TRAVEL\",\"ARTIFICIAL INTELLIGENCE\",\"ARTIFICIAL INTELLIGENCE\",\"AUTO & TRANSPORTATION\",\"CONSUMER & RETAIL\",\"CYBERSECURITY\",\"DATA MANAGEMENT & ANALYTICS\",\"E-COMMERCE & DIRECT-TO-CONSUMER\",\"EDTECH\",\"FINTECH\",\"HARDWARE\",\"HEALTH\",\"INTERNET SOFTWARE & SERVICES\",\"MOBILE & TELECOMMUNICATIONS\",\"OTHER\",\"SUPPLY CHAIN, LOGISTICS, & DELIVERY\",\"TRAVEL\",\"OTHER\",\"SUPPLY CHAIN, LOGISTICS, & DELIVERY\",\"MOBILE & TELECOMMUNICATIONS\",\"SUPPLY CHAIN, LOGISTICS, & DELIVERY\",\"FINTECH\",\"ARTIFICIAL INTELLIGENCE\",\"AUTO & TRANSPORTATION\",\"INTERNET SOFTWARE & SERVICES\",\"MOBILE & TELECOMMUNICATIONS\",\"SUPPLY CHAIN, LOGISTICS, & DELIVERY\",\"ARTIFICIAL INTELLIGENCE\",\"AUTO & TRANSPORTATION\",\"E-COMMERCE & DIRECT-TO-CONSUMER\",\"FINTECH\",\"HARDWARE\",\"HEALTH\",\"INTERNET SOFTWARE & SERVICES\",\"OTHER\",\"AUTO & TRANSPORTATION\",\"CONSUMER & RETAIL\",\"DATA MANAGEMENT & ANALYTICS\",\"E-COMMERCE & DIRECT-TO-CONSUMER\",\"FINTECH\",\"HARDWARE\",\"HEALTH\",\"INTERNET SOFTWARE & SERVICES\",\"OTHER\",\"SUPPLY CHAIN, LOGISTICS, & DELIVERY\",\"TRAVEL\",\"ANDREESSEN HOROWITZ, DST GLOBAL, IDG CAPITAL\",\"CONSUMER & RETAIL\",\"SEQUOIA CAPITAL CHINA, ING, ALIBABA ENTREPRENEURS FUND\",\"SUPPLY CHAIN, LOGISTICS, & DELIVERY\",\"TIGER GLOBAL MANAGEMENT, TIGER BROKERS, DCM VENTURES\",\"TRAVEL\",\"AUTO & TRANSPORTATION\",\"DATA MANAGEMENT & ANALYTICS\",\"E-COMMERCE & DIRECT-TO-CONSUMER\",\"EDTECH\",\"FINTECH\",\"HEALTH\",\"INTERNET SOFTWARE & SERVICES\",\"MOBILE & TELECOMMUNICATIONS\",\"OTHER\",\"SUPPLY CHAIN, LOGISTICS, & DELIVERY\",\"TRAVEL\",\"CONSUMER & RETAIL\",\"E-COMMERCE & DIRECT-TO-CONSUMER\",\"FINTECH\",\"SUPPLY CHAIN, LOGISTICS, & DELIVERY\",\"TRAVEL\",\"FINTECH\",\"HEALTH\",\"INTERNET SOFTWARE & SERVICES\",\"ARTIFICIAL INTELLIGENCE\",\"CYBERSECURITY\",\"DATA MANAGEMENT & ANALYTICS\",\"EDTECH\",\"FINTECH\",\"HARDWARE\",\"HEALTH\",\"INTERNET SOFTWARE & SERVICES\",\"MOBILE & TELECOMMUNICATIONS\",\"OTHER\",\"SUPPLY CHAIN, LOGISTICS, & DELIVERY\",\"FINTECH\",\"ARTIFICIAL INTELLIGENCE\",\"FINTECH\",\"MOBILE & TELECOMMUNICATIONS\",\"OTHER\",\"E-COMMERCE & DIRECT-TO-CONSUMER\",\"OTHER\",\"E-COMMERCE & DIRECT-TO-CONSUMER\",\"E-COMMERCE & DIRECT-TO-CONSUMER\",\"FINTECH\",\"E-COMMERCE & DIRECT-TO-CONSUMER\",\"FINTECH\",\"HARDWARE\",\"MOBILE & TELECOMMUNICATIONS\",\"FINTECH\",\"DATA MANAGEMENT & ANALYTICS\",\"E-COMMERCE & DIRECT-TO-CONSUMER\",\"FINTECH\",\"OTHER\",\"FINTECH\",\"500 GLOBAL, RAKUTEN VENTURES, GOLDEN GATE VENTURES\",\"B CAPITAL GROUP, MONK'S HILL VENTURES, DYNAMIC PARCEL DISTRIBUTION\",\"DRAGONFLY CAPTIAL, QIMING VENTURE PARTNERS, DST GLOBAL\",\"HOPU INVESTMENT MANAGEMENT, BOYU CAPITAL, DC THOMSON VENTURES\",\"JUNGLE VENTURES, ACCEL, VENTURE HIGHWAY\",\"KUANG-CHI\",\"MUNDI VENTURES, DOQLING CAPITAL PARTNERS, ACTIVANT CAPITAL\",\"SEQUOIA CAPITAL CHINA, SHUNWEI CAPITAL PARTNERS, QUALGRO\",\"SINGTEL INNOV8, ALPHA JWC VENTURES, GOLDEN GATE VENTURES\",\"TEMASEK, GUGGENHEIM INVESTMENTS, QATAR INVESTMENT AUTHORITY\",\"VERTEX VENTURES SE ASIA, GLOBAL FOUNDERS CAPITAL, VISA VENTURES\",\"VISION PLUS CAPITAL, GSR VENTURES, ZHENFUND\",\"CONSUMER & RETAIL\",\"MOBILE & TELECOMMUNICATIONS\",\"AUTO & TRANSPORTATION\",\"CONSUMER & RETAIL\",\"E-COMMERCE & DIRECT-TO-CONSUMER\",\"FINTECH\",\"HEALTH\",\"MOBILE & TELECOMMUNICATIONS\",\"OTHER\",\"SUPPLY CHAIN, LOGISTICS, & DELIVERY\",\"TRAVEL\",\"AUTO & TRANSPORTATION\",\"INTERNET SOFTWARE & SERVICES\",\"TRAVEL\",\"AUTO & TRANSPORTATION\",\"FINTECH\",\"HEALTH\",\"INTERNET SOFTWARE & SERVICES\",\"OTHER\",\"TRAVEL\",\"CYBERSECURITY\",\"DATA MANAGEMENT & ANALYTICS\",\"FINTECH\",\"HEALTH\",\"SUPPLY CHAIN, LOGISTICS, & DELIVERY\",\"FINTECH\",\"SUPPLY CHAIN, LOGISTICS, & DELIVERY\",\"E-COMMERCE & DIRECT-TO-CONSUMER\",\"INTERNET SOFTWARE & SERVICES\",\"MOBILE & TELECOMMUNICATIONS\",\"OTHER\",\"SUPPLY CHAIN, LOGISTICS, & DELIVERY\",\"ARTIFICIAL INTELLIGENCE\",\"AUTO & TRANSPORTATION\",\"CONSUMER & RETAIL\",\"DATA MANAGEMENT & ANALYTICS\",\"E-COMMERCE & DIRECT-TO-CONSUMER\",\"FINTECH\",\"HARDWARE\",\"HEALTH\",\"INTERNET SOFTWARE & SERVICES\",\"MOBILE & TELECOMMUNICATIONS\",\"OTHER\",\"SUPPLY CHAIN, LOGISTICS, & DELIVERY\",\"ARTIFICIAL INTELLIGENCE\",\"AUTO & TRANSPORTATION\",\"CONSUMER & RETAIL\",\"CYBERSECURITY\",\"DATA MANAGEMENT & ANALYTICS\",\"E-COMMERCE & DIRECT-TO-CONSUMER\",\"EDTECH\",\"FINTECH\",\"HARDWARE\",\"HEALTH\",\"INTERNET SOFTWARE & SERVICES\",\"MOBILE & TELECOMMUNICATIONS\",\"OTHER\",\"SUPPLY CHAIN, LOGISTICS, & DELIVERY\",\"TRAVEL\",\"FINTECH\",\"INTERNET SOFTWARE & SERVICES\",\"\",\"\",\"\",\"\",\"\",\"\",\"\",\"\",\"\",\"\",\"\",\"\",\"\",\"\",\"\",\"\",\"\",\"\",\"\",\"\",\"\",\"\",\"\",\"\",\"\",\"\",\"\",\"\",\"\",\"\",\"\"],\"root\":{\"color\":\"#cccccc\"},\"values\":[1.5,1.0,6.8,2.0,1.08,1.0,5.2,2.4,1.78,1.6,2.19,1.1,2.5,3.0,1.2,2.17,2.0,1.6,3.0,1.2,1.0,1.2,1.5,1.0,11.7,5.5,2.0,1.0,2.0,1.68,1.2,10.2,1.9,1.45,2.25,1.35,1.0,1.31,3.0,1.0,1.0,3.0,1.5,4.6,2.26,1.0,2.0,1.1,3.6,3.0,2.0,1.04,1.73,1.0,4.3,7.25,1.05,3.75,1.5,1.0,1.0,1.4,1.35,1.5,1.32,5.99,1.0,2.5,4.0,6.8,1.8,2.0,2.0,1.4,1.0,1.0,1.2,1.0,3.0,21.0,2.5,5.7,1.55,1.0,1.0,2.0,6.1,1.0,1.0,6.0,4.7,1.0,1.3,1.1,2.85,1.25,1.2,12.0,2.32,1.0,4.11,2.4,12.0,2.2,2.0,2.0,6.1,1.0,1.01,3.25,3.0,5.2,3.2,2.2,1.0,1.0,11.0,8.4,1.0,1.48,2.35,2.3,4.0,1.24,12.3,1.0,4.0,1.5,2.0,140.0,1.0,5.05,1.0,1.85,1.0,3.0,4.01,1.4,1.0,3.0,2.0,1.5,1.0,40.0,1.6,1.0,1.25,1.2,2.4,3.0,1.0,7.83,1.1,1.0,3.3,1.7,1.0,7.4,1.52,2.5,1.3,3.2,1.0,11.0,3.5,4.8,4.0,2.41,4.2,1.5,3.5,40.0,4.6,9.0,25.0,1.0,4.73,2.0,1.0,1.0,3.0,1.7,5.7,1.0,2.6,1.0,2.0,1.0,2.0,4.0,1.6,2.0,1.15,2.15,2.0,3.32,4.0,3.5,5.0,1.4,1.5,3.7,1.1,1.5,1.9,1.3,1.5,5.25,4.6,3.5,3.2,2.8,3.0,1.0,2.75,1.45,1.2,3.6,4.8,1.5,1.5,2.2,2.44,15.0,1.5,3.24,1.1,3.1,1.2,7.6,1.0,6.3,38.0,4.6,4.1,1.7,5.5,1.35,1.4,1.4,3.0,1.4,2.0,1.05,1.0,1.5,12.6,2.2,1.8,1.0,3.5,10.0,7.0,1.7,1.3,2.0,1.14,1.3,1.7,1.0,2.75,8.0,2.0,1.0,2.85,2.0,1.0,1.0,3.75,1.0,1.0,3.31,1.85,1.23,2.0,5.78,1.1,1.0,2.1,1.44,1.5,1.15,1.0,1.24,1.1,1.4,42.0,1.4,1.35,3.2,1.0,2.7,2.0,1.3,1.0,2.4,2.0,1.0,1.6,32.0,1.0,1.5,1.0,1.2,12.4,3.75,27.0,4.0,1.0,1.95,1.0,1.0,10.0,1.4,8.0,1.4,1.1,2.1,1.0,1.4,5.6,1.0,1.0,8.0,2.85,1.32,1.25,3.0,1.2,1.3,3.5,3.0,2.0,1.0,3.0,1.2,1.0,1.0,1.8,1.1,1.1,2.2,1.0,3.7,1.32,1.22,1.1,1.0,1.0,1.2,7.1,1.1,7.5,1.5,11.1,1.1,1.0,4.2,1.2,2.1,3.5,7.25,12.0,3.1,1.7,3.0,13.0,2.77,2.3,4.0,1.0,1.32,3.0,1.2,1.15,3.75,2.0,1.4,10.0,2.2,1.45,1.7,1.0,9.28,1.0,1.0,3.5,1.0,1.15,1.7,1.7,1.0,1.3,1.2,5.0,2.18,1.0,1.65,3.1,3.5,6.2,2.0,1.4,1.6,1.1,1.25,7.75,5.0,5.0,1.0,1.0,4.0,5.0,3.95,1.0,2.19,2.0,1.0,1.28,1.0,3.5,1.0,1.5,1.17,2.0,1.0,5.0,1.5,2.75,1.55,1.5,4.0,2.0,1.0,1.0,1.3,1.9,1.2,1.25,3.5,1.6,1.0,2.5,1.0,3.2,1.22,1.05,39.0,3.8,1.0,1.28,1.0,3.0,1.0,3.2,2.0,1.1,20.0,1.5,12.0,1.0,1.05,2.35,1.2,1.0,1.1,1.45,2.62,1.62,1.43,1.5,3.0,2.0,2.0,1.1,2.0,8.7,1.0,2.0,2.3,1.0,1.0,45.6,9.2,1.35,1.0,3.3,1.3,1.4,1.0,1.4,2.92,1.0,1.25,2.0,3.3,1.19,1.1,2.0,8.3,10.0,1.0,3.0,3.0,1.01,1.5,2.5,1.0,1.0,5.77,1.0,1.15,1.8,1.0,1.0,1.0,1.2,1.3,1.0,2.9,2.0,1.0,1.53,3.0,1.3,1.0,1.18,1.5,1.0,5.85,1.45,4.0,1.5,2.0,2.2,1.9,1.0,2.0,2.0,1.0,1.07,5.5,1.0,1.3,2.6,1.25,2.75,1.0,1.5,1.05,1.0,2.1,1.0,3.92,1.0,4.9,2.8,4.58,4.0,1.0,1.2,1.6,3.8,1.0,4.25,1.0,1.2,1.19,1.0,3.5,17.5,2.0,1.05,2.27,1.0,2.45,1.0,1.0,1.17,2.0,1.0,1.5,2.6,1.0,6.5,1.0,4.5,5.0,3.4,1.0,1.33,2.1,1.0,1.5,1.0,1.2,2.0,1.25,9.23,1.0,6.5,1.0,2.15,1.38,2.0,7.5,1.0,1.0,1.0,1.23,4.0,1.5,1.1,2.7,9.0,1.0,1.0,1.0,3.7,9.08,1.5,10.0,2.2,1.0,8.6,3.1,1.08,2.0,1.0,1.1,1.28,9.6,5.0,1.2,2.3,5.0,1.2,7.5,5.0,1.5,4.0,1.0,1.0,5.1,2.0,2.92,13.3,1.0,1.8,1.03,1.0,1.0,1.8,1.0,3.52,9.5,4.4,3.0,1.45,2.9,1.0,3.35,1.7,1.0,1.0,1.5,2.0,1.0,1.0,1.4,1.4,3.7,1.5,1.0,1.0,4.0,2.25,2.4,2.1,1.0,2.6,1.0,1.1,1.5,6.3,1.0,1.2,1.1,1.4,1.0,1.2,6.0,1.2,2.0,1.0,13.4,1.0,4.7,2.6,3.0,4.0,1.0,2.4,5.3,5.6,2.0,1.2,1.0,1.4,1.7,2.62,1.59,3.15,1.2,1.1,5.0,1.0,1.0,5.1,1.0,1.2,2.0,1.0,5.7,1.33,4.0,1.07,8.0,5.25,8.75,1.0,7.5,2.1,1.4,1.15,3.5,1.0,2.0,3.7,2.2,3.6,4.2,1.0,1.7,1.0,1.85,33.0,1.0,1.1,15.0,6.5,1.07,7.0,1.2,1.95,1.0,1.25,6.0,1.07,4.0,15.0,1.0,1.0,4.15,1.13,1.16,2.0,1.6,1.4,1.0,5.0,1.2,1.4,1.0,7.3,1.0,3.3,1.2,3.0,1.0,1.05,1.1,1.0,9.5,3.7,1.0,1.0,1.0,1.0,2.5,1.0,1.0,1.34,3.3,1.1,3.2,3.0,2.3,1.0,1.0,1.0,1.6,1.2,2.0,1.5,1.0,1.0,1.5,1.0,8.6,1.0,4.5,1.0,1.5,2.5,1.42,4.3,3.0,2.1,2.62,100.3,1.4,1.5,1.22,1.75,1.0,3.15,1.7,2.0,1.0,2.41,3.35,2.0,1.95,1.29,1.4,3.8,1.5,1.5,95.0,1.0,1.0,1.1,10.7,1.0,1.4,2.5,1.12,1.0,1.3,1.25,10.0,1.3,1.1,9.0,1.5,1.2,1.0,3.5,1.5,8.1,1.0,1.0,1.1,1.0,1.0,1.0,4.2,10.0,3.2,2.0,1.0,8.3,1.6,1.32,7.4,1.0,5.3,1.63,2.7,3.0,1.62,2.74,1.3,3.0,1.3,2.0,1.0,1.0,7.25,1.4,1.0,1.6,1.75,2.4,1.5,2.0,1.16,1.1,4.58,1.08,2.45,3.1,3.44,1.0,2.5,1.31,1.7,5.0,2.0,1.2,6.28,1.5,3.4,2.3,2.1,3.7,4.5,1.0,1.0,1.0,2.5,1.2,1.0,1.38,1.0,1.5,1.15,2.0,2.5,1.5,1.6,1.7,3.3,5.7,1.4,4.53,2.0,1.0,1.0,2.5,2.31,1.0,4.0,2.34,5.0,1.27,1.0,1.0,1.7,1.6,7.0,1.0,1.0,4.4,2.1,4.1,10.88,1.55,1.5,3.6,3.0,6.0,1.0,5.7,1.2,2.9,1.0,1.0,1.0,1.5,1.0,20.0,1.52,2.0,8.0,2.0,1.2,2.0,1.0,2.17,1.0,1.35,4.0,1.4,1.2,1.5,1.17,1.49,1.0,3.0,1.0,1.4,1.3,3.35,15.5,15.0,1.3,1.5,1.0,5.0,4.0,1.1,1.7,1.5,1.45,2.5,1.0,1.0,1.61,1.0,2.0,2.8,6.6,1.8,11.4,1.0,2.25,3.0,1.0,1.1,1.0,1.5,4.2,1.9,1.1,1.6,15.0,6.0,1.0,1.0,1.3,1.0,2.7,10.0,1.65,1.65,1.0,1.24,3.3,1.0,1.5,1.4,1.0,14.0,1.0,3.8,1.1,1.0,1.3,2.0,2.3,3.5,9.9,1.07,1.13,1.4,1.0,1.0,2.3,1.7,2.9,1.9,1.5,1.0,1.3,156.7,23.28,1.62,34.07,29.33,4.83,18.73,2.05,6.33,15.45,4.28,5.0,5.0,1.5,4.2,1.0,3.75,12.5,3.9,25.44,20.11,1.5,19.75,1.0,1.0,14.799999999999999,1.0,1.3,1.0,1.0,7.95,17.83,4.1,1.0,2.3,4.1,1.9,1.0,1.15,5.25,1.25,9.8,13.44,3.35,3.6,4.85,6.0,22.9,1.29,1.6,1.5,1.5,1.0,1.0,2.77,1.28,5.7,5.7,5.25,1.59,2.45,10.45,2.5,1.6,3.0,1.5,2.4299999999999997,1.0,1.5,1.2,5.1,4.0,3.7,42.0,1.1,1.35,8.0,1.0,3.5700000000000003,1.0,1.0,2.85,4.92,2.0,1.45,1.4,10.0,4.3,1.2,1.0,3.45,8.1,9.7,1.0,3.62,1.0,1.61,1.5,2.19,1.0,4.0,4.7,1.07,2.0,3.7,1.0,3.3,1.5,1.0,1.7,2.7,2.0,2.0,2.2,3.12,3.75,3.8,3.0,1.5,3.5,1.0,1.6,1.0,6.45,1.0,3.52,1.0,1.1,2.6,1.0,4.3,2.2,1.0,4.0,2.4,1.3,1.0,3.35,1.0,1.0,2.5,32.0,1.0,3.0,1.05,1.0,1.0,1.0,2.4,1.31,5.3,4.1,1.4,2.0,3.0,9.5,2.0,4.62,4.4,1.35,1.27,1.0,11.47,2.4,5.08,1.75,1.0,1.4,9.6,1.6,2.6100000000000003,1.32,1.5,5.5,3.41,1.0,8.0,2.0,1.0,1.7,101.64999999999999,1.6,1.49,2.0,5.7,1.0,1.5,2.27,3.0,3.5,5.99,3.1,2.5,1.55,1.0,4.2,1.0,1.0,4.6,2.0,7.83,1.1,7.5,1.22,2.75,27.0,1.2,1.0,2.0,4.9,20.0,3.0,1.0,3.0,2.83,1.52,9.0,3.0,2.0,1.38,2.0,1.0,1.0,1.9,5.25,1.25,8.7,2.0,1.0,2.0,1.5,1.33,126.4,11.1,7.75,1.4,7.0,1.7,1.0,1.3,1.0,1.0,4.0,3.2,9.35,1.4,6.1,2.62,2.3,10.88,1.5,1.0,1.4,2.35,1.1,1.0,1.5,1.5,2.5,5.5,1.0,1.0,1.2,6.5,2.0,5.4,1.4,1.0,1.0,1.0,4.0,3.5,1.0,4.15,5.0,8.2,8.6,2.25,2.0,3.52,1.5,10.1,1.1,1.0,1.2,4.4,9.9,8.0,3.0,11.0,1.4,1.0,6.3,2.5,1.0,1.5,2.0,2.1,2.85,10.7,3.3,3.9,14.05,10.8,18.5,3.75,87.35,1.8,27.12,32.48,3.5999999999999996,2.3,6.0,1.63,1.5,5.6,5.0,1.0,1.0,2.2,1.0,10.75,2.4,10.0,4.0,4.0,3.15,7.12,7.25,1.0,2.0,2.0,20.06,9.18,1.5,2.1399999999999997,4.199999999999999,2.31,2.0,1.0,3.0,4.2,15.0,7.25,2.0,1.4,1.8,2.0,1.2,1.1,1.2,3.5,2.7,1.12,1.0,2.6,1.0,1.5,4.0,1.7,3.6,1.1,2.4,1.3,1.2,4.0,1.0,1.5,12.0,1.1,3.2,1.15,4.0,1.0,1.0,12.0,8.2,33.52,17.8,13.6,39.05,8.42,6.75,261.85,1.05,28.44,186.7,17.4,2.8,52.3,8.0,8.3,4.85,1.34,1.0,1.0,1.6,2.15,13.200000000000001,1.0,2.0,1.05,3.5,1.5,2.1,7.5,2.0,6.1,1.2,2.3,2.5,1.0,6.0,13.379999999999999,1.0,3.0,3.0,2.5,5.2,1.0,1.2,12.5,2.75,1.7,1.04,1.19,5.87,8.4,4.0,1.32,3.3,1.0,7.7,35.97,3.0,25.4,3.5,6.21,5.0,4.55,5.71,1.3,5.95,5.2,20.0,29.03,12.52,2.4,1.25,1.45,2.0,3.0,2.8,1.44,45.6,2.0,1.4,9.08,1.0,2.75,6.9,10.8,1.0,40.0,1.0,1.6,2.0,1.5,8.4,1.0,1.0,11.24,1.4,1.0,2.0,1.5,1.65,5.0,1.0,2.5,1.0,1.3,2.0,2.6,2.0,1.0,2.2,6.8,3.0,1.4,1.22,1.15,2.2,1.75,10.8,1.0,1.23,3.5,4.11,4.53,1.0,3.5,10.0,1.6,12.6,1.0,1.3,1.15,1.0,1.1,1.0,3.0,1.0,3.31,1.1,1.0,1.5,4.58,1.0,1.0,2.45,1.0,5.5,44.1,3.5,4.11,32.0,5.25,1.4,2.3,1.6,1.0,13.6,14.379999999999999,1.0,3.0,4.0,2.2,9.65,4.15,3.0,13.8,9.0,1.23,1.0,5.0,2.5,174.22,52.36,38.160000000000004,1.32,3.12,101.08,33.83,10.36,60.55,21.32,17.76,22.16,16.37,15.08,5.0,1.15,5.25,1.0,1.2,5.7,1.5,8.4,2.0,1.0,5.7,2.0,2.0,21.44,10.18,3.5,2.1399999999999997,4.199999999999999,4.41,3.0,1.0,11.0,7.95,19.23,1.0,3.52,10.4,3.2,2.3,4.1,1.0,2.0,1.0,10.0,3.0,1.35,12.5,1.0,30.12,30.94,45.26,2.9,28.75,1.0,2.4,22.58,9.6,1.0,2.0,4.9,20.0,3.0,1.6,1.0,6.45,3.83,15.24,1.4,1.0,4.0,1.5,1.3,2.65,5.0,1.5,1.0,1.0,2.0,2.6,2.0,2.2199999999999998,4.53,2.0,1.7,9.899999999999999,6.5,1.0,14.0,1.0,3.8,2.0,2.5,2.2,2.0,1.0,1.7,1.1,1.0,1.05,1.3,2.6,3.5,1.0,1.0,1.0,1.0,1.0,2.0,1.59,1.0,1.0,1.19,5.87,8.4,1.04,4.0,1.32,3.3,1.0,1.4,2.35,1.3,1.44,45.6,2.0,1.4,9.08,1.0,2.5,1.1,1.0,1.0,1.0,1.5,1.0,7.5,1.22,2.75,3.5,1.0,4.77,1.5,1.24,1.5,2.7800000000000002,130.47,11.1,3.0,7.75,1.4,10.47,1.7,122.27,13.1,28.95,93.99,108.97,108.57000000000001,18.5,432.91,22.5,143.3,412.8,35.63,202.35,78.65,7.25,2.27,3.0,1.1,1.0,317.89,96.7,1.0,75.13,122.7,135.84,1.05,325.39,90.77,794.82,101.15,182.52,1.3,556.13,2.6,3.5,81.74,1.0,265.2,1.0,1.0,32.0,1.0,174.76,1.0,3.0,38.6,1.0,2.0],\"type\":\"treemap\"}],                        {\"legend\":{\"tracegroupgap\":0},\"template\":{\"data\":{\"barpolar\":[{\"marker\":{\"line\":{\"color\":\"#E5ECF6\",\"width\":0.5},\"pattern\":{\"fillmode\":\"overlay\",\"size\":10,\"solidity\":0.2}},\"type\":\"barpolar\"}],\"bar\":[{\"error_x\":{\"color\":\"#2a3f5f\"},\"error_y\":{\"color\":\"#2a3f5f\"},\"marker\":{\"line\":{\"color\":\"#E5ECF6\",\"width\":0.5},\"pattern\":{\"fillmode\":\"overlay\",\"size\":10,\"solidity\":0.2}},\"type\":\"bar\"}],\"carpet\":[{\"aaxis\":{\"endlinecolor\":\"#2a3f5f\",\"gridcolor\":\"white\",\"linecolor\":\"white\",\"minorgridcolor\":\"white\",\"startlinecolor\":\"#2a3f5f\"},\"baxis\":{\"endlinecolor\":\"#2a3f5f\",\"gridcolor\":\"white\",\"linecolor\":\"white\",\"minorgridcolor\":\"white\",\"startlinecolor\":\"#2a3f5f\"},\"type\":\"carpet\"}],\"choropleth\":[{\"colorbar\":{\"outlinewidth\":0,\"ticks\":\"\"},\"type\":\"choropleth\"}],\"contourcarpet\":[{\"colorbar\":{\"outlinewidth\":0,\"ticks\":\"\"},\"type\":\"contourcarpet\"}],\"contour\":[{\"colorbar\":{\"outlinewidth\":0,\"ticks\":\"\"},\"colorscale\":[[0.0,\"#0d0887\"],[0.1111111111111111,\"#46039f\"],[0.2222222222222222,\"#7201a8\"],[0.3333333333333333,\"#9c179e\"],[0.4444444444444444,\"#bd3786\"],[0.5555555555555556,\"#d8576b\"],[0.6666666666666666,\"#ed7953\"],[0.7777777777777778,\"#fb9f3a\"],[0.8888888888888888,\"#fdca26\"],[1.0,\"#f0f921\"]],\"type\":\"contour\"}],\"heatmapgl\":[{\"colorbar\":{\"outlinewidth\":0,\"ticks\":\"\"},\"colorscale\":[[0.0,\"#0d0887\"],[0.1111111111111111,\"#46039f\"],[0.2222222222222222,\"#7201a8\"],[0.3333333333333333,\"#9c179e\"],[0.4444444444444444,\"#bd3786\"],[0.5555555555555556,\"#d8576b\"],[0.6666666666666666,\"#ed7953\"],[0.7777777777777778,\"#fb9f3a\"],[0.8888888888888888,\"#fdca26\"],[1.0,\"#f0f921\"]],\"type\":\"heatmapgl\"}],\"heatmap\":[{\"colorbar\":{\"outlinewidth\":0,\"ticks\":\"\"},\"colorscale\":[[0.0,\"#0d0887\"],[0.1111111111111111,\"#46039f\"],[0.2222222222222222,\"#7201a8\"],[0.3333333333333333,\"#9c179e\"],[0.4444444444444444,\"#bd3786\"],[0.5555555555555556,\"#d8576b\"],[0.6666666666666666,\"#ed7953\"],[0.7777777777777778,\"#fb9f3a\"],[0.8888888888888888,\"#fdca26\"],[1.0,\"#f0f921\"]],\"type\":\"heatmap\"}],\"histogram2dcontour\":[{\"colorbar\":{\"outlinewidth\":0,\"ticks\":\"\"},\"colorscale\":[[0.0,\"#0d0887\"],[0.1111111111111111,\"#46039f\"],[0.2222222222222222,\"#7201a8\"],[0.3333333333333333,\"#9c179e\"],[0.4444444444444444,\"#bd3786\"],[0.5555555555555556,\"#d8576b\"],[0.6666666666666666,\"#ed7953\"],[0.7777777777777778,\"#fb9f3a\"],[0.8888888888888888,\"#fdca26\"],[1.0,\"#f0f921\"]],\"type\":\"histogram2dcontour\"}],\"histogram2d\":[{\"colorbar\":{\"outlinewidth\":0,\"ticks\":\"\"},\"colorscale\":[[0.0,\"#0d0887\"],[0.1111111111111111,\"#46039f\"],[0.2222222222222222,\"#7201a8\"],[0.3333333333333333,\"#9c179e\"],[0.4444444444444444,\"#bd3786\"],[0.5555555555555556,\"#d8576b\"],[0.6666666666666666,\"#ed7953\"],[0.7777777777777778,\"#fb9f3a\"],[0.8888888888888888,\"#fdca26\"],[1.0,\"#f0f921\"]],\"type\":\"histogram2d\"}],\"histogram\":[{\"marker\":{\"pattern\":{\"fillmode\":\"overlay\",\"size\":10,\"solidity\":0.2}},\"type\":\"histogram\"}],\"mesh3d\":[{\"colorbar\":{\"outlinewidth\":0,\"ticks\":\"\"},\"type\":\"mesh3d\"}],\"parcoords\":[{\"line\":{\"colorbar\":{\"outlinewidth\":0,\"ticks\":\"\"}},\"type\":\"parcoords\"}],\"pie\":[{\"automargin\":true,\"type\":\"pie\"}],\"scatter3d\":[{\"line\":{\"colorbar\":{\"outlinewidth\":0,\"ticks\":\"\"}},\"marker\":{\"colorbar\":{\"outlinewidth\":0,\"ticks\":\"\"}},\"type\":\"scatter3d\"}],\"scattercarpet\":[{\"marker\":{\"colorbar\":{\"outlinewidth\":0,\"ticks\":\"\"}},\"type\":\"scattercarpet\"}],\"scattergeo\":[{\"marker\":{\"colorbar\":{\"outlinewidth\":0,\"ticks\":\"\"}},\"type\":\"scattergeo\"}],\"scattergl\":[{\"marker\":{\"colorbar\":{\"outlinewidth\":0,\"ticks\":\"\"}},\"type\":\"scattergl\"}],\"scattermapbox\":[{\"marker\":{\"colorbar\":{\"outlinewidth\":0,\"ticks\":\"\"}},\"type\":\"scattermapbox\"}],\"scatterpolargl\":[{\"marker\":{\"colorbar\":{\"outlinewidth\":0,\"ticks\":\"\"}},\"type\":\"scatterpolargl\"}],\"scatterpolar\":[{\"marker\":{\"colorbar\":{\"outlinewidth\":0,\"ticks\":\"\"}},\"type\":\"scatterpolar\"}],\"scatter\":[{\"fillpattern\":{\"fillmode\":\"overlay\",\"size\":10,\"solidity\":0.2},\"type\":\"scatter\"}],\"scatterternary\":[{\"marker\":{\"colorbar\":{\"outlinewidth\":0,\"ticks\":\"\"}},\"type\":\"scatterternary\"}],\"surface\":[{\"colorbar\":{\"outlinewidth\":0,\"ticks\":\"\"},\"colorscale\":[[0.0,\"#0d0887\"],[0.1111111111111111,\"#46039f\"],[0.2222222222222222,\"#7201a8\"],[0.3333333333333333,\"#9c179e\"],[0.4444444444444444,\"#bd3786\"],[0.5555555555555556,\"#d8576b\"],[0.6666666666666666,\"#ed7953\"],[0.7777777777777778,\"#fb9f3a\"],[0.8888888888888888,\"#fdca26\"],[1.0,\"#f0f921\"]],\"type\":\"surface\"}],\"table\":[{\"cells\":{\"fill\":{\"color\":\"#EBF0F8\"},\"line\":{\"color\":\"white\"}},\"header\":{\"fill\":{\"color\":\"#C8D4E3\"},\"line\":{\"color\":\"white\"}},\"type\":\"table\"}]},\"layout\":{\"annotationdefaults\":{\"arrowcolor\":\"#2a3f5f\",\"arrowhead\":0,\"arrowwidth\":1},\"autotypenumbers\":\"strict\",\"coloraxis\":{\"colorbar\":{\"outlinewidth\":0,\"ticks\":\"\"}},\"colorscale\":{\"diverging\":[[0,\"#8e0152\"],[0.1,\"#c51b7d\"],[0.2,\"#de77ae\"],[0.3,\"#f1b6da\"],[0.4,\"#fde0ef\"],[0.5,\"#f7f7f7\"],[0.6,\"#e6f5d0\"],[0.7,\"#b8e186\"],[0.8,\"#7fbc41\"],[0.9,\"#4d9221\"],[1,\"#276419\"]],\"sequential\":[[0.0,\"#0d0887\"],[0.1111111111111111,\"#46039f\"],[0.2222222222222222,\"#7201a8\"],[0.3333333333333333,\"#9c179e\"],[0.4444444444444444,\"#bd3786\"],[0.5555555555555556,\"#d8576b\"],[0.6666666666666666,\"#ed7953\"],[0.7777777777777778,\"#fb9f3a\"],[0.8888888888888888,\"#fdca26\"],[1.0,\"#f0f921\"]],\"sequentialminus\":[[0.0,\"#0d0887\"],[0.1111111111111111,\"#46039f\"],[0.2222222222222222,\"#7201a8\"],[0.3333333333333333,\"#9c179e\"],[0.4444444444444444,\"#bd3786\"],[0.5555555555555556,\"#d8576b\"],[0.6666666666666666,\"#ed7953\"],[0.7777777777777778,\"#fb9f3a\"],[0.8888888888888888,\"#fdca26\"],[1.0,\"#f0f921\"]]},\"colorway\":[\"#636efa\",\"#EF553B\",\"#00cc96\",\"#ab63fa\",\"#FFA15A\",\"#19d3f3\",\"#FF6692\",\"#B6E880\",\"#FF97FF\",\"#FECB52\"],\"font\":{\"color\":\"#2a3f5f\"},\"geo\":{\"bgcolor\":\"white\",\"lakecolor\":\"white\",\"landcolor\":\"#E5ECF6\",\"showlakes\":true,\"showland\":true,\"subunitcolor\":\"white\"},\"hoverlabel\":{\"align\":\"left\"},\"hovermode\":\"closest\",\"mapbox\":{\"style\":\"light\"},\"paper_bgcolor\":\"white\",\"plot_bgcolor\":\"#E5ECF6\",\"polar\":{\"angularaxis\":{\"gridcolor\":\"white\",\"linecolor\":\"white\",\"ticks\":\"\"},\"bgcolor\":\"#E5ECF6\",\"radialaxis\":{\"gridcolor\":\"white\",\"linecolor\":\"white\",\"ticks\":\"\"}},\"scene\":{\"xaxis\":{\"backgroundcolor\":\"#E5ECF6\",\"gridcolor\":\"white\",\"gridwidth\":2,\"linecolor\":\"white\",\"showbackground\":true,\"ticks\":\"\",\"zerolinecolor\":\"white\"},\"yaxis\":{\"backgroundcolor\":\"#E5ECF6\",\"gridcolor\":\"white\",\"gridwidth\":2,\"linecolor\":\"white\",\"showbackground\":true,\"ticks\":\"\",\"zerolinecolor\":\"white\"},\"zaxis\":{\"backgroundcolor\":\"#E5ECF6\",\"gridcolor\":\"white\",\"gridwidth\":2,\"linecolor\":\"white\",\"showbackground\":true,\"ticks\":\"\",\"zerolinecolor\":\"white\"}},\"shapedefaults\":{\"line\":{\"color\":\"#2a3f5f\"}},\"ternary\":{\"aaxis\":{\"gridcolor\":\"white\",\"linecolor\":\"white\",\"ticks\":\"\"},\"baxis\":{\"gridcolor\":\"white\",\"linecolor\":\"white\",\"ticks\":\"\"},\"bgcolor\":\"#E5ECF6\",\"caxis\":{\"gridcolor\":\"white\",\"linecolor\":\"white\",\"ticks\":\"\"}},\"title\":{\"x\":0.05},\"xaxis\":{\"automargin\":true,\"gridcolor\":\"white\",\"linecolor\":\"white\",\"ticks\":\"\",\"title\":{\"standoff\":15},\"zerolinecolor\":\"white\",\"zerolinewidth\":2},\"yaxis\":{\"automargin\":true,\"gridcolor\":\"white\",\"linecolor\":\"white\",\"ticks\":\"\",\"title\":{\"standoff\":15},\"zerolinecolor\":\"white\",\"zerolinewidth\":2}}},\"title\":{\"text\":\"Valuation based on industry, country, and city\"},\"treemapcolorway\":[\"rgb(102, 197, 204)\",\"rgb(246, 207, 113)\",\"rgb(248, 156, 116)\",\"rgb(220, 176, 242)\",\"rgb(135, 197, 95)\",\"rgb(158, 185, 243)\",\"rgb(254, 136, 177)\",\"rgb(201, 219, 116)\",\"rgb(139, 224, 164)\",\"rgb(180, 151, 231)\",\"rgb(179, 179, 179)\"]},                        {\"responsive\": true}                    ).then(function(){\n",
       "                            \n",
       "var gd = document.getElementById('57fcac09-cfd5-4341-9ebf-d409e4d00134');\n",
       "var x = new MutationObserver(function (mutations, observer) {{\n",
       "        var display = window.getComputedStyle(gd).display;\n",
       "        if (!display || display === 'none') {{\n",
       "            console.log([gd, 'removed!']);\n",
       "            Plotly.purge(gd);\n",
       "            observer.disconnect();\n",
       "        }}\n",
       "}});\n",
       "\n",
       "// Listen for the removal of the full notebook cells\n",
       "var notebookContainer = gd.closest('#notebook-container');\n",
       "if (notebookContainer) {{\n",
       "    x.observe(notebookContainer, {childList: true});\n",
       "}}\n",
       "\n",
       "// Listen for the clearing of the current output cell\n",
       "var outputEl = gd.closest('.output');\n",
       "if (outputEl) {{\n",
       "    x.observe(outputEl, {childList: true});\n",
       "}}\n",
       "\n",
       "                        })                };                });            </script>        </div>"
      ]
     },
     "metadata": {},
     "output_type": "display_data"
    }
   ],
   "source": [
    "tree_df = df.copy()\n",
    "tree_df[\"Country\"] = tree_df[\"Country\"].astype(object)\n",
    "tree_df[\"City\"] = tree_df[\"City\"].astype(object)\n",
    "tree_df[\"Industry\"] = tree_df[\"Industry\"].astype(object)\n",
    "\n",
    "fig = px.treemap(tree_df,path=[\"Industry\",\"Country\", \"City\",\"Company\"],\n",
    "            values=\"Valuation ($B)\",\n",
    "            title=\"Valuation based on industry, country, and city\",\n",
    "            color_discrete_sequence=px.colors.qualitative.Pastel)\n",
    "fig.update_traces(root_color=\"#cccccc\")\n",
    "iplot(fig)"
   ]
  },
  {
   "cell_type": "markdown",
   "id": "8a78a9a3",
   "metadata": {
    "papermill": {
     "duration": 0.117608,
     "end_time": "2022-05-11T01:23:26.123912",
     "exception": false,
     "start_time": "2022-05-11T01:23:26.006304",
     "status": "completed"
    },
    "tags": []
   },
   "source": [
    "<p style=\"font-size:1.25rem\">\n",
    "    The valuation based on industry, country, and city treemap shows that the most valuation is fintech or financial technology industry, internet software industry, and E-commerce industry respectively. The United States has the most valuation in the top 3 industries while China has the most valuation in artificial intelligence, hardware and transportation.\n",
    "</p>"
   ]
  },
  {
   "cell_type": "markdown",
   "id": "cfed9d28",
   "metadata": {
    "papermill": {
     "duration": 0.117514,
     "end_time": "2022-05-11T01:23:26.361961",
     "exception": false,
     "start_time": "2022-05-11T01:23:26.244447",
     "status": "completed"
    },
    "tags": []
   },
   "source": [
    "## Number of companies reached unicorn in each year based on industry"
   ]
  },
  {
   "cell_type": "code",
   "execution_count": 29,
   "id": "fefa2df2",
   "metadata": {
    "execution": {
     "iopub.execute_input": "2022-05-11T01:23:26.601301Z",
     "iopub.status.busy": "2022-05-11T01:23:26.600913Z",
     "iopub.status.idle": "2022-05-11T01:23:26.899339Z",
     "shell.execute_reply": "2022-05-11T01:23:26.898122Z"
    },
    "papermill": {
     "duration": 0.425609,
     "end_time": "2022-05-11T01:23:26.905487",
     "exception": false,
     "start_time": "2022-05-11T01:23:26.479878",
     "status": "completed"
    },
    "tags": []
   },
   "outputs": [
    {
     "data": {
      "application/vnd.plotly.v1+json": {
       "config": {
        "linkText": "Export to plot.ly",
        "plotlyServerURL": "https://plot.ly",
        "showLink": false
       },
       "data": [
        {
         "hovertemplate": "Industry=500 GLOBAL, RAKUTEN VENTURES, GOLDEN GATE VENTURES<br>Year Joined=%{x}<br>Company=%{y}<extra></extra>",
         "legendgroup": "500 GLOBAL, RAKUTEN VENTURES, GOLDEN GATE VENTURES",
         "line": {
          "color": "rgb(102, 197, 204)",
          "dash": "solid"
         },
         "marker": {
          "symbol": "circle"
         },
         "mode": "lines",
         "name": "500 GLOBAL, RAKUTEN VENTURES, GOLDEN GATE VENTURES",
         "orientation": "v",
         "showlegend": true,
         "type": "scatter",
         "x": [
          2007,
          2011,
          2012,
          2013,
          2014,
          2015,
          2016,
          2017,
          2018,
          2019,
          2020,
          2021,
          2022
         ],
         "xaxis": "x",
         "y": [
          0,
          0,
          0,
          0,
          0,
          0,
          0,
          0,
          0,
          0,
          0,
          1,
          0
         ],
         "yaxis": "y"
        },
        {
         "hovertemplate": "Industry=ANDREESSEN HOROWITZ, DST GLOBAL, IDG CAPITAL<br>Year Joined=%{x}<br>Company=%{y}<extra></extra>",
         "legendgroup": "ANDREESSEN HOROWITZ, DST GLOBAL, IDG CAPITAL",
         "line": {
          "color": "rgb(246, 207, 113)",
          "dash": "solid"
         },
         "marker": {
          "symbol": "circle"
         },
         "mode": "lines",
         "name": "ANDREESSEN HOROWITZ, DST GLOBAL, IDG CAPITAL",
         "orientation": "v",
         "showlegend": true,
         "type": "scatter",
         "x": [
          2007,
          2011,
          2012,
          2013,
          2014,
          2015,
          2016,
          2017,
          2018,
          2019,
          2020,
          2021,
          2022
         ],
         "xaxis": "x",
         "y": [
          0,
          0,
          0,
          0,
          0,
          0,
          0,
          0,
          0,
          0,
          0,
          1,
          0
         ],
         "yaxis": "y"
        },
        {
         "hovertemplate": "Industry=ARTIFICIAL INTELLIGENCE<br>Year Joined=%{x}<br>Company=%{y}<extra></extra>",
         "legendgroup": "ARTIFICIAL INTELLIGENCE",
         "line": {
          "color": "rgb(248, 156, 116)",
          "dash": "solid"
         },
         "marker": {
          "symbol": "circle"
         },
         "mode": "lines",
         "name": "ARTIFICIAL INTELLIGENCE",
         "orientation": "v",
         "showlegend": true,
         "type": "scatter",
         "x": [
          2007,
          2011,
          2012,
          2013,
          2014,
          2015,
          2016,
          2017,
          2018,
          2019,
          2020,
          2021,
          2022
         ],
         "xaxis": "x",
         "y": [
          0,
          0,
          1,
          0,
          0,
          2,
          1,
          4,
          13,
          13,
          3,
          34,
          7
         ],
         "yaxis": "y"
        },
        {
         "hovertemplate": "Industry=AUTO & TRANSPORTATION<br>Year Joined=%{x}<br>Company=%{y}<extra></extra>",
         "legendgroup": "AUTO & TRANSPORTATION",
         "line": {
          "color": "rgb(220, 176, 242)",
          "dash": "solid"
         },
         "marker": {
          "symbol": "circle"
         },
         "mode": "lines",
         "name": "AUTO & TRANSPORTATION",
         "orientation": "v",
         "showlegend": true,
         "type": "scatter",
         "x": [
          2007,
          2011,
          2012,
          2013,
          2014,
          2015,
          2016,
          2017,
          2018,
          2019,
          2020,
          2021,
          2022
         ],
         "xaxis": "x",
         "y": [
          0,
          0,
          0,
          0,
          1,
          1,
          1,
          0,
          11,
          6,
          5,
          4,
          0
         ],
         "yaxis": "y"
        },
        {
         "hovertemplate": "Industry=B CAPITAL GROUP, MONK'S HILL VENTURES, DYNAMIC PARCEL DISTRIBUTION<br>Year Joined=%{x}<br>Company=%{y}<extra></extra>",
         "legendgroup": "B CAPITAL GROUP, MONK'S HILL VENTURES, DYNAMIC PARCEL DISTRIBUTION",
         "line": {
          "color": "rgb(135, 197, 95)",
          "dash": "solid"
         },
         "marker": {
          "symbol": "circle"
         },
         "mode": "lines",
         "name": "B CAPITAL GROUP, MONK'S HILL VENTURES, DYNAMIC PARCEL DISTRIBUTION",
         "orientation": "v",
         "showlegend": true,
         "type": "scatter",
         "x": [
          2007,
          2011,
          2012,
          2013,
          2014,
          2015,
          2016,
          2017,
          2018,
          2019,
          2020,
          2021,
          2022
         ],
         "xaxis": "x",
         "y": [
          0,
          0,
          0,
          0,
          0,
          0,
          0,
          0,
          0,
          0,
          0,
          1,
          0
         ],
         "yaxis": "y"
        },
        {
         "hovertemplate": "Industry=CONSUMER & RETAIL<br>Year Joined=%{x}<br>Company=%{y}<extra></extra>",
         "legendgroup": "CONSUMER & RETAIL",
         "line": {
          "color": "rgb(158, 185, 243)",
          "dash": "solid"
         },
         "marker": {
          "symbol": "circle"
         },
         "mode": "lines",
         "name": "CONSUMER & RETAIL",
         "orientation": "v",
         "showlegend": true,
         "type": "scatter",
         "x": [
          2007,
          2011,
          2012,
          2013,
          2014,
          2015,
          2016,
          2017,
          2018,
          2019,
          2020,
          2021,
          2022
         ],
         "xaxis": "x",
         "y": [
          0,
          0,
          1,
          0,
          0,
          0,
          3,
          4,
          6,
          3,
          1,
          7,
          0
         ],
         "yaxis": "y"
        },
        {
         "hovertemplate": "Industry=CYBERSECURITY<br>Year Joined=%{x}<br>Company=%{y}<extra></extra>",
         "legendgroup": "CYBERSECURITY",
         "line": {
          "color": "rgb(254, 136, 177)",
          "dash": "solid"
         },
         "marker": {
          "symbol": "circle"
         },
         "mode": "lines",
         "name": "CYBERSECURITY",
         "orientation": "v",
         "showlegend": true,
         "type": "scatter",
         "x": [
          2007,
          2011,
          2012,
          2013,
          2014,
          2015,
          2016,
          2017,
          2018,
          2019,
          2020,
          2021,
          2022
         ],
         "xaxis": "x",
         "y": [
          0,
          0,
          0,
          1,
          0,
          2,
          0,
          0,
          1,
          4,
          7,
          27,
          7
         ],
         "yaxis": "y"
        },
        {
         "hovertemplate": "Industry=DATA MANAGEMENT & ANALYTICS<br>Year Joined=%{x}<br>Company=%{y}<extra></extra>",
         "legendgroup": "DATA MANAGEMENT & ANALYTICS",
         "line": {
          "color": "rgb(201, 219, 116)",
          "dash": "solid"
         },
         "marker": {
          "symbol": "circle"
         },
         "mode": "lines",
         "name": "DATA MANAGEMENT & ANALYTICS",
         "orientation": "v",
         "showlegend": true,
         "type": "scatter",
         "x": [
          2007,
          2011,
          2012,
          2013,
          2014,
          2015,
          2016,
          2017,
          2018,
          2019,
          2020,
          2021,
          2022
         ],
         "xaxis": "x",
         "y": [
          0,
          0,
          0,
          1,
          0,
          0,
          0,
          2,
          3,
          4,
          6,
          21,
          4
         ],
         "yaxis": "y"
        },
        {
         "hovertemplate": "Industry=DRAGONFLY CAPTIAL, QIMING VENTURE PARTNERS, DST GLOBAL<br>Year Joined=%{x}<br>Company=%{y}<extra></extra>",
         "legendgroup": "DRAGONFLY CAPTIAL, QIMING VENTURE PARTNERS, DST GLOBAL",
         "line": {
          "color": "rgb(139, 224, 164)",
          "dash": "solid"
         },
         "marker": {
          "symbol": "circle"
         },
         "mode": "lines",
         "name": "DRAGONFLY CAPTIAL, QIMING VENTURE PARTNERS, DST GLOBAL",
         "orientation": "v",
         "showlegend": true,
         "type": "scatter",
         "x": [
          2007,
          2011,
          2012,
          2013,
          2014,
          2015,
          2016,
          2017,
          2018,
          2019,
          2020,
          2021,
          2022
         ],
         "xaxis": "x",
         "y": [
          0,
          0,
          0,
          0,
          0,
          0,
          0,
          0,
          0,
          0,
          0,
          1,
          0
         ],
         "yaxis": "y"
        },
        {
         "hovertemplate": "Industry=E-COMMERCE & DIRECT-TO-CONSUMER<br>Year Joined=%{x}<br>Company=%{y}<extra></extra>",
         "legendgroup": "E-COMMERCE & DIRECT-TO-CONSUMER",
         "line": {
          "color": "rgb(180, 151, 231)",
          "dash": "solid"
         },
         "marker": {
          "symbol": "circle"
         },
         "mode": "lines",
         "name": "E-COMMERCE & DIRECT-TO-CONSUMER",
         "orientation": "v",
         "showlegend": true,
         "type": "scatter",
         "x": [
          2007,
          2011,
          2012,
          2013,
          2014,
          2015,
          2016,
          2017,
          2018,
          2019,
          2020,
          2021,
          2022
         ],
         "xaxis": "x",
         "y": [
          1,
          0,
          1,
          0,
          4,
          9,
          6,
          4,
          4,
          12,
          16,
          43,
          7
         ],
         "yaxis": "y"
        },
        {
         "hovertemplate": "Industry=EDTECH<br>Year Joined=%{x}<br>Company=%{y}<extra></extra>",
         "legendgroup": "EDTECH",
         "line": {
          "color": "rgb(179, 179, 179)",
          "dash": "solid"
         },
         "marker": {
          "symbol": "circle"
         },
         "mode": "lines",
         "name": "EDTECH",
         "orientation": "v",
         "showlegend": true,
         "type": "scatter",
         "x": [
          2007,
          2011,
          2012,
          2013,
          2014,
          2015,
          2016,
          2017,
          2018,
          2019,
          2020,
          2021,
          2022
         ],
         "xaxis": "x",
         "y": [
          0,
          0,
          0,
          0,
          0,
          2,
          2,
          4,
          2,
          1,
          4,
          12,
          1
         ],
         "yaxis": "y"
        },
        {
         "hovertemplate": "Industry=FINTECH<br>Year Joined=%{x}<br>Company=%{y}<extra></extra>",
         "legendgroup": "FINTECH",
         "line": {
          "color": "rgb(102, 197, 204)",
          "dash": "solid"
         },
         "marker": {
          "symbol": "circle"
         },
         "mode": "lines",
         "name": "FINTECH",
         "orientation": "v",
         "showlegend": true,
         "type": "scatter",
         "x": [
          2007,
          2011,
          2012,
          2013,
          2014,
          2015,
          2016,
          2017,
          2018,
          2019,
          2020,
          2021,
          2022
         ],
         "xaxis": "x",
         "y": [
          0,
          1,
          0,
          0,
          1,
          2,
          0,
          5,
          10,
          22,
          15,
          131,
          19
         ],
         "yaxis": "y"
        },
        {
         "hovertemplate": "Industry=HARDWARE<br>Year Joined=%{x}<br>Company=%{y}<extra></extra>",
         "legendgroup": "HARDWARE",
         "line": {
          "color": "rgb(246, 207, 113)",
          "dash": "solid"
         },
         "marker": {
          "symbol": "circle"
         },
         "mode": "lines",
         "name": "HARDWARE",
         "orientation": "v",
         "showlegend": true,
         "type": "scatter",
         "x": [
          2007,
          2011,
          2012,
          2013,
          2014,
          2015,
          2016,
          2017,
          2018,
          2019,
          2020,
          2021,
          2022
         ],
         "xaxis": "x",
         "y": [
          0,
          0,
          0,
          0,
          2,
          4,
          2,
          0,
          9,
          0,
          1,
          14,
          1
         ],
         "yaxis": "y"
        },
        {
         "hovertemplate": "Industry=HEALTH<br>Year Joined=%{x}<br>Company=%{y}<extra></extra>",
         "legendgroup": "HEALTH",
         "line": {
          "color": "rgb(248, 156, 116)",
          "dash": "solid"
         },
         "marker": {
          "symbol": "circle"
         },
         "mode": "lines",
         "name": "HEALTH",
         "orientation": "v",
         "showlegend": true,
         "type": "scatter",
         "x": [
          2007,
          2011,
          2012,
          2013,
          2014,
          2015,
          2016,
          2017,
          2018,
          2019,
          2020,
          2021,
          2022
         ],
         "xaxis": "x",
         "y": [
          0,
          0,
          0,
          0,
          1,
          2,
          1,
          4,
          6,
          4,
          9,
          37,
          5
         ],
         "yaxis": "y"
        },
        {
         "hovertemplate": "Industry=HOPU INVESTMENT MANAGEMENT, BOYU CAPITAL, DC THOMSON VENTURES<br>Year Joined=%{x}<br>Company=%{y}<extra></extra>",
         "legendgroup": "HOPU INVESTMENT MANAGEMENT, BOYU CAPITAL, DC THOMSON VENTURES",
         "line": {
          "color": "rgb(220, 176, 242)",
          "dash": "solid"
         },
         "marker": {
          "symbol": "circle"
         },
         "mode": "lines",
         "name": "HOPU INVESTMENT MANAGEMENT, BOYU CAPITAL, DC THOMSON VENTURES",
         "orientation": "v",
         "showlegend": true,
         "type": "scatter",
         "x": [
          2007,
          2011,
          2012,
          2013,
          2014,
          2015,
          2016,
          2017,
          2018,
          2019,
          2020,
          2021,
          2022
         ],
         "xaxis": "x",
         "y": [
          0,
          0,
          0,
          0,
          0,
          0,
          0,
          0,
          0,
          1,
          0,
          0,
          0
         ],
         "yaxis": "y"
        },
        {
         "hovertemplate": "Industry=INTERNET SOFTWARE & SERVICES<br>Year Joined=%{x}<br>Company=%{y}<extra></extra>",
         "legendgroup": "INTERNET SOFTWARE & SERVICES",
         "line": {
          "color": "rgb(135, 197, 95)",
          "dash": "solid"
         },
         "marker": {
          "symbol": "circle"
         },
         "mode": "lines",
         "name": "INTERNET SOFTWARE & SERVICES",
         "orientation": "v",
         "showlegend": true,
         "type": "scatter",
         "x": [
          2007,
          2011,
          2012,
          2013,
          2014,
          2015,
          2016,
          2017,
          2018,
          2019,
          2020,
          2021,
          2022
         ],
         "xaxis": "x",
         "y": [
          0,
          1,
          0,
          1,
          0,
          4,
          1,
          4,
          14,
          13,
          19,
          116,
          19
         ],
         "yaxis": "y"
        },
        {
         "hovertemplate": "Industry=JUNGLE VENTURES, ACCEL, VENTURE HIGHWAY<br>Year Joined=%{x}<br>Company=%{y}<extra></extra>",
         "legendgroup": "JUNGLE VENTURES, ACCEL, VENTURE HIGHWAY",
         "line": {
          "color": "rgb(158, 185, 243)",
          "dash": "solid"
         },
         "marker": {
          "symbol": "circle"
         },
         "mode": "lines",
         "name": "JUNGLE VENTURES, ACCEL, VENTURE HIGHWAY",
         "orientation": "v",
         "showlegend": true,
         "type": "scatter",
         "x": [
          2007,
          2011,
          2012,
          2013,
          2014,
          2015,
          2016,
          2017,
          2018,
          2019,
          2020,
          2021,
          2022
         ],
         "xaxis": "x",
         "y": [
          0,
          0,
          0,
          0,
          0,
          0,
          0,
          0,
          0,
          0,
          0,
          1,
          0
         ],
         "yaxis": "y"
        },
        {
         "hovertemplate": "Industry=KUANG-CHI<br>Year Joined=%{x}<br>Company=%{y}<extra></extra>",
         "legendgroup": "KUANG-CHI",
         "line": {
          "color": "rgb(254, 136, 177)",
          "dash": "solid"
         },
         "marker": {
          "symbol": "circle"
         },
         "mode": "lines",
         "name": "KUANG-CHI",
         "orientation": "v",
         "showlegend": true,
         "type": "scatter",
         "x": [
          2007,
          2011,
          2012,
          2013,
          2014,
          2015,
          2016,
          2017,
          2018,
          2019,
          2020,
          2021,
          2022
         ],
         "xaxis": "x",
         "y": [
          0,
          0,
          0,
          0,
          0,
          0,
          0,
          0,
          0,
          0,
          1,
          0,
          0
         ],
         "yaxis": "y"
        },
        {
         "hovertemplate": "Industry=MOBILE & TELECOMMUNICATIONS<br>Year Joined=%{x}<br>Company=%{y}<extra></extra>",
         "legendgroup": "MOBILE & TELECOMMUNICATIONS",
         "line": {
          "color": "rgb(201, 219, 116)",
          "dash": "solid"
         },
         "marker": {
          "symbol": "circle"
         },
         "mode": "lines",
         "name": "MOBILE & TELECOMMUNICATIONS",
         "orientation": "v",
         "showlegend": true,
         "type": "scatter",
         "x": [
          2007,
          2011,
          2012,
          2013,
          2014,
          2015,
          2016,
          2017,
          2018,
          2019,
          2020,
          2021,
          2022
         ],
         "xaxis": "x",
         "y": [
          0,
          0,
          0,
          0,
          3,
          4,
          1,
          5,
          6,
          4,
          7,
          6,
          1
         ],
         "yaxis": "y"
        },
        {
         "hovertemplate": "Industry=MUNDI VENTURES, DOQLING CAPITAL PARTNERS, ACTIVANT CAPITAL<br>Year Joined=%{x}<br>Company=%{y}<extra></extra>",
         "legendgroup": "MUNDI VENTURES, DOQLING CAPITAL PARTNERS, ACTIVANT CAPITAL",
         "line": {
          "color": "rgb(139, 224, 164)",
          "dash": "solid"
         },
         "marker": {
          "symbol": "circle"
         },
         "mode": "lines",
         "name": "MUNDI VENTURES, DOQLING CAPITAL PARTNERS, ACTIVANT CAPITAL",
         "orientation": "v",
         "showlegend": true,
         "type": "scatter",
         "x": [
          2007,
          2011,
          2012,
          2013,
          2014,
          2015,
          2016,
          2017,
          2018,
          2019,
          2020,
          2021,
          2022
         ],
         "xaxis": "x",
         "y": [
          0,
          0,
          0,
          0,
          0,
          0,
          0,
          0,
          0,
          0,
          0,
          1,
          0
         ],
         "yaxis": "y"
        },
        {
         "hovertemplate": "Industry=OTHER<br>Year Joined=%{x}<br>Company=%{y}<extra></extra>",
         "legendgroup": "OTHER",
         "line": {
          "color": "rgb(180, 151, 231)",
          "dash": "solid"
         },
         "marker": {
          "symbol": "circle"
         },
         "mode": "lines",
         "name": "OTHER",
         "orientation": "v",
         "showlegend": true,
         "type": "scatter",
         "x": [
          2007,
          2011,
          2012,
          2013,
          2014,
          2015,
          2016,
          2017,
          2018,
          2019,
          2020,
          2021,
          2022
         ],
         "xaxis": "x",
         "y": [
          0,
          0,
          1,
          0,
          0,
          2,
          2,
          4,
          3,
          9,
          11,
          21,
          3
         ],
         "yaxis": "y"
        },
        {
         "hovertemplate": "Industry=SEQUOIA CAPITAL CHINA, ING, ALIBABA ENTREPRENEURS FUND<br>Year Joined=%{x}<br>Company=%{y}<extra></extra>",
         "legendgroup": "SEQUOIA CAPITAL CHINA, ING, ALIBABA ENTREPRENEURS FUND",
         "line": {
          "color": "rgb(179, 179, 179)",
          "dash": "solid"
         },
         "marker": {
          "symbol": "circle"
         },
         "mode": "lines",
         "name": "SEQUOIA CAPITAL CHINA, ING, ALIBABA ENTREPRENEURS FUND",
         "orientation": "v",
         "showlegend": true,
         "type": "scatter",
         "x": [
          2007,
          2011,
          2012,
          2013,
          2014,
          2015,
          2016,
          2017,
          2018,
          2019,
          2020,
          2021,
          2022
         ],
         "xaxis": "x",
         "y": [
          0,
          0,
          0,
          0,
          0,
          0,
          0,
          1,
          0,
          0,
          0,
          0,
          0
         ],
         "yaxis": "y"
        },
        {
         "hovertemplate": "Industry=SEQUOIA CAPITAL CHINA, SHUNWEI CAPITAL PARTNERS, QUALGRO<br>Year Joined=%{x}<br>Company=%{y}<extra></extra>",
         "legendgroup": "SEQUOIA CAPITAL CHINA, SHUNWEI CAPITAL PARTNERS, QUALGRO",
         "line": {
          "color": "rgb(102, 197, 204)",
          "dash": "solid"
         },
         "marker": {
          "symbol": "circle"
         },
         "mode": "lines",
         "name": "SEQUOIA CAPITAL CHINA, SHUNWEI CAPITAL PARTNERS, QUALGRO",
         "orientation": "v",
         "showlegend": true,
         "type": "scatter",
         "x": [
          2007,
          2011,
          2012,
          2013,
          2014,
          2015,
          2016,
          2017,
          2018,
          2019,
          2020,
          2021,
          2022
         ],
         "xaxis": "x",
         "y": [
          0,
          0,
          0,
          0,
          0,
          0,
          0,
          0,
          0,
          0,
          0,
          1,
          0
         ],
         "yaxis": "y"
        },
        {
         "hovertemplate": "Industry=SEQUOIA CAPITAL, THOMA BRAVO, SOFTBANK<br>Year Joined=%{x}<br>Company=%{y}<extra></extra>",
         "legendgroup": "SEQUOIA CAPITAL, THOMA BRAVO, SOFTBANK",
         "line": {
          "color": "rgb(246, 207, 113)",
          "dash": "solid"
         },
         "marker": {
          "symbol": "circle"
         },
         "mode": "lines",
         "name": "SEQUOIA CAPITAL, THOMA BRAVO, SOFTBANK",
         "orientation": "v",
         "showlegend": true,
         "type": "scatter",
         "x": [
          2007,
          2011,
          2012,
          2013,
          2014,
          2015,
          2016,
          2017,
          2018,
          2019,
          2020,
          2021,
          2022
         ],
         "xaxis": "x",
         "y": [
          0,
          0,
          0,
          0,
          0,
          0,
          0,
          0,
          0,
          0,
          0,
          1,
          0
         ],
         "yaxis": "y"
        },
        {
         "hovertemplate": "Industry=SINGTEL INNOV8, ALPHA JWC VENTURES, GOLDEN GATE VENTURES<br>Year Joined=%{x}<br>Company=%{y}<extra></extra>",
         "legendgroup": "SINGTEL INNOV8, ALPHA JWC VENTURES, GOLDEN GATE VENTURES",
         "line": {
          "color": "rgb(248, 156, 116)",
          "dash": "solid"
         },
         "marker": {
          "symbol": "circle"
         },
         "mode": "lines",
         "name": "SINGTEL INNOV8, ALPHA JWC VENTURES, GOLDEN GATE VENTURES",
         "orientation": "v",
         "showlegend": true,
         "type": "scatter",
         "x": [
          2007,
          2011,
          2012,
          2013,
          2014,
          2015,
          2016,
          2017,
          2018,
          2019,
          2020,
          2021,
          2022
         ],
         "xaxis": "x",
         "y": [
          0,
          0,
          0,
          0,
          0,
          0,
          0,
          0,
          0,
          0,
          0,
          1,
          0
         ],
         "yaxis": "y"
        },
        {
         "hovertemplate": "Industry=SUPPLY CHAIN, LOGISTICS, & DELIVERY<br>Year Joined=%{x}<br>Company=%{y}<extra></extra>",
         "legendgroup": "SUPPLY CHAIN, LOGISTICS, & DELIVERY",
         "line": {
          "color": "rgb(220, 176, 242)",
          "dash": "solid"
         },
         "marker": {
          "symbol": "circle"
         },
         "mode": "lines",
         "name": "SUPPLY CHAIN, LOGISTICS, & DELIVERY",
         "orientation": "v",
         "showlegend": true,
         "type": "scatter",
         "x": [
          2007,
          2011,
          2012,
          2013,
          2014,
          2015,
          2016,
          2017,
          2018,
          2019,
          2020,
          2021,
          2022
         ],
         "xaxis": "x",
         "y": [
          0,
          0,
          0,
          0,
          1,
          0,
          1,
          1,
          11,
          8,
          2,
          25,
          8
         ],
         "yaxis": "y"
        },
        {
         "hovertemplate": "Industry=TEMASEK, GUGGENHEIM INVESTMENTS, QATAR INVESTMENT AUTHORITY<br>Year Joined=%{x}<br>Company=%{y}<extra></extra>",
         "legendgroup": "TEMASEK, GUGGENHEIM INVESTMENTS, QATAR INVESTMENT AUTHORITY",
         "line": {
          "color": "rgb(135, 197, 95)",
          "dash": "solid"
         },
         "marker": {
          "symbol": "circle"
         },
         "mode": "lines",
         "name": "TEMASEK, GUGGENHEIM INVESTMENTS, QATAR INVESTMENT AUTHORITY",
         "orientation": "v",
         "showlegend": true,
         "type": "scatter",
         "x": [
          2007,
          2011,
          2012,
          2013,
          2014,
          2015,
          2016,
          2017,
          2018,
          2019,
          2020,
          2021,
          2022
         ],
         "xaxis": "x",
         "y": [
          0,
          0,
          0,
          0,
          0,
          0,
          0,
          0,
          0,
          0,
          0,
          1,
          0
         ],
         "yaxis": "y"
        },
        {
         "hovertemplate": "Industry=TIGER GLOBAL MANAGEMENT, TIGER BROKERS, DCM VENTURES<br>Year Joined=%{x}<br>Company=%{y}<extra></extra>",
         "legendgroup": "TIGER GLOBAL MANAGEMENT, TIGER BROKERS, DCM VENTURES",
         "line": {
          "color": "rgb(158, 185, 243)",
          "dash": "solid"
         },
         "marker": {
          "symbol": "circle"
         },
         "mode": "lines",
         "name": "TIGER GLOBAL MANAGEMENT, TIGER BROKERS, DCM VENTURES",
         "orientation": "v",
         "showlegend": true,
         "type": "scatter",
         "x": [
          2007,
          2011,
          2012,
          2013,
          2014,
          2015,
          2016,
          2017,
          2018,
          2019,
          2020,
          2021,
          2022
         ],
         "xaxis": "x",
         "y": [
          0,
          0,
          0,
          0,
          0,
          0,
          0,
          0,
          0,
          0,
          0,
          1,
          0
         ],
         "yaxis": "y"
        },
        {
         "hovertemplate": "Industry=TRAVEL<br>Year Joined=%{x}<br>Company=%{y}<extra></extra>",
         "legendgroup": "TRAVEL",
         "line": {
          "color": "rgb(254, 136, 177)",
          "dash": "solid"
         },
         "marker": {
          "symbol": "circle"
         },
         "mode": "lines",
         "name": "TRAVEL",
         "orientation": "v",
         "showlegend": true,
         "type": "scatter",
         "x": [
          2007,
          2011,
          2012,
          2013,
          2014,
          2015,
          2016,
          2017,
          2018,
          2019,
          2020,
          2021,
          2022
         ],
         "xaxis": "x",
         "y": [
          0,
          0,
          0,
          0,
          0,
          1,
          0,
          2,
          4,
          3,
          0,
          3,
          1
         ],
         "yaxis": "y"
        },
        {
         "hovertemplate": "Industry=VERTEX VENTURES SE ASIA, GLOBAL FOUNDERS CAPITAL, VISA VENTURES<br>Year Joined=%{x}<br>Company=%{y}<extra></extra>",
         "legendgroup": "VERTEX VENTURES SE ASIA, GLOBAL FOUNDERS CAPITAL, VISA VENTURES",
         "line": {
          "color": "rgb(201, 219, 116)",
          "dash": "solid"
         },
         "marker": {
          "symbol": "circle"
         },
         "mode": "lines",
         "name": "VERTEX VENTURES SE ASIA, GLOBAL FOUNDERS CAPITAL, VISA VENTURES",
         "orientation": "v",
         "showlegend": true,
         "type": "scatter",
         "x": [
          2007,
          2011,
          2012,
          2013,
          2014,
          2015,
          2016,
          2017,
          2018,
          2019,
          2020,
          2021,
          2022
         ],
         "xaxis": "x",
         "y": [
          0,
          0,
          0,
          0,
          0,
          0,
          0,
          0,
          0,
          0,
          0,
          1,
          0
         ],
         "yaxis": "y"
        },
        {
         "hovertemplate": "Industry=VISION PLUS CAPITAL, GSR VENTURES, ZHENFUND<br>Year Joined=%{x}<br>Company=%{y}<extra></extra>",
         "legendgroup": "VISION PLUS CAPITAL, GSR VENTURES, ZHENFUND",
         "line": {
          "color": "rgb(139, 224, 164)",
          "dash": "solid"
         },
         "marker": {
          "symbol": "circle"
         },
         "mode": "lines",
         "name": "VISION PLUS CAPITAL, GSR VENTURES, ZHENFUND",
         "orientation": "v",
         "showlegend": true,
         "type": "scatter",
         "x": [
          2007,
          2011,
          2012,
          2013,
          2014,
          2015,
          2016,
          2017,
          2018,
          2019,
          2020,
          2021,
          2022
         ],
         "xaxis": "x",
         "y": [
          0,
          0,
          0,
          0,
          0,
          0,
          0,
          0,
          0,
          0,
          0,
          1,
          0
         ],
         "yaxis": "y"
        }
       ],
       "layout": {
        "legend": {
         "title": {
          "text": "Industry"
         },
         "tracegroupgap": 0
        },
        "template": {
         "data": {
          "bar": [
           {
            "error_x": {
             "color": "#2a3f5f"
            },
            "error_y": {
             "color": "#2a3f5f"
            },
            "marker": {
             "line": {
              "color": "#E5ECF6",
              "width": 0.5
             },
             "pattern": {
              "fillmode": "overlay",
              "size": 10,
              "solidity": 0.2
             }
            },
            "type": "bar"
           }
          ],
          "barpolar": [
           {
            "marker": {
             "line": {
              "color": "#E5ECF6",
              "width": 0.5
             },
             "pattern": {
              "fillmode": "overlay",
              "size": 10,
              "solidity": 0.2
             }
            },
            "type": "barpolar"
           }
          ],
          "carpet": [
           {
            "aaxis": {
             "endlinecolor": "#2a3f5f",
             "gridcolor": "white",
             "linecolor": "white",
             "minorgridcolor": "white",
             "startlinecolor": "#2a3f5f"
            },
            "baxis": {
             "endlinecolor": "#2a3f5f",
             "gridcolor": "white",
             "linecolor": "white",
             "minorgridcolor": "white",
             "startlinecolor": "#2a3f5f"
            },
            "type": "carpet"
           }
          ],
          "choropleth": [
           {
            "colorbar": {
             "outlinewidth": 0,
             "ticks": ""
            },
            "type": "choropleth"
           }
          ],
          "contour": [
           {
            "colorbar": {
             "outlinewidth": 0,
             "ticks": ""
            },
            "colorscale": [
             [
              0,
              "#0d0887"
             ],
             [
              0.1111111111111111,
              "#46039f"
             ],
             [
              0.2222222222222222,
              "#7201a8"
             ],
             [
              0.3333333333333333,
              "#9c179e"
             ],
             [
              0.4444444444444444,
              "#bd3786"
             ],
             [
              0.5555555555555556,
              "#d8576b"
             ],
             [
              0.6666666666666666,
              "#ed7953"
             ],
             [
              0.7777777777777778,
              "#fb9f3a"
             ],
             [
              0.8888888888888888,
              "#fdca26"
             ],
             [
              1,
              "#f0f921"
             ]
            ],
            "type": "contour"
           }
          ],
          "contourcarpet": [
           {
            "colorbar": {
             "outlinewidth": 0,
             "ticks": ""
            },
            "type": "contourcarpet"
           }
          ],
          "heatmap": [
           {
            "colorbar": {
             "outlinewidth": 0,
             "ticks": ""
            },
            "colorscale": [
             [
              0,
              "#0d0887"
             ],
             [
              0.1111111111111111,
              "#46039f"
             ],
             [
              0.2222222222222222,
              "#7201a8"
             ],
             [
              0.3333333333333333,
              "#9c179e"
             ],
             [
              0.4444444444444444,
              "#bd3786"
             ],
             [
              0.5555555555555556,
              "#d8576b"
             ],
             [
              0.6666666666666666,
              "#ed7953"
             ],
             [
              0.7777777777777778,
              "#fb9f3a"
             ],
             [
              0.8888888888888888,
              "#fdca26"
             ],
             [
              1,
              "#f0f921"
             ]
            ],
            "type": "heatmap"
           }
          ],
          "heatmapgl": [
           {
            "colorbar": {
             "outlinewidth": 0,
             "ticks": ""
            },
            "colorscale": [
             [
              0,
              "#0d0887"
             ],
             [
              0.1111111111111111,
              "#46039f"
             ],
             [
              0.2222222222222222,
              "#7201a8"
             ],
             [
              0.3333333333333333,
              "#9c179e"
             ],
             [
              0.4444444444444444,
              "#bd3786"
             ],
             [
              0.5555555555555556,
              "#d8576b"
             ],
             [
              0.6666666666666666,
              "#ed7953"
             ],
             [
              0.7777777777777778,
              "#fb9f3a"
             ],
             [
              0.8888888888888888,
              "#fdca26"
             ],
             [
              1,
              "#f0f921"
             ]
            ],
            "type": "heatmapgl"
           }
          ],
          "histogram": [
           {
            "marker": {
             "pattern": {
              "fillmode": "overlay",
              "size": 10,
              "solidity": 0.2
             }
            },
            "type": "histogram"
           }
          ],
          "histogram2d": [
           {
            "colorbar": {
             "outlinewidth": 0,
             "ticks": ""
            },
            "colorscale": [
             [
              0,
              "#0d0887"
             ],
             [
              0.1111111111111111,
              "#46039f"
             ],
             [
              0.2222222222222222,
              "#7201a8"
             ],
             [
              0.3333333333333333,
              "#9c179e"
             ],
             [
              0.4444444444444444,
              "#bd3786"
             ],
             [
              0.5555555555555556,
              "#d8576b"
             ],
             [
              0.6666666666666666,
              "#ed7953"
             ],
             [
              0.7777777777777778,
              "#fb9f3a"
             ],
             [
              0.8888888888888888,
              "#fdca26"
             ],
             [
              1,
              "#f0f921"
             ]
            ],
            "type": "histogram2d"
           }
          ],
          "histogram2dcontour": [
           {
            "colorbar": {
             "outlinewidth": 0,
             "ticks": ""
            },
            "colorscale": [
             [
              0,
              "#0d0887"
             ],
             [
              0.1111111111111111,
              "#46039f"
             ],
             [
              0.2222222222222222,
              "#7201a8"
             ],
             [
              0.3333333333333333,
              "#9c179e"
             ],
             [
              0.4444444444444444,
              "#bd3786"
             ],
             [
              0.5555555555555556,
              "#d8576b"
             ],
             [
              0.6666666666666666,
              "#ed7953"
             ],
             [
              0.7777777777777778,
              "#fb9f3a"
             ],
             [
              0.8888888888888888,
              "#fdca26"
             ],
             [
              1,
              "#f0f921"
             ]
            ],
            "type": "histogram2dcontour"
           }
          ],
          "mesh3d": [
           {
            "colorbar": {
             "outlinewidth": 0,
             "ticks": ""
            },
            "type": "mesh3d"
           }
          ],
          "parcoords": [
           {
            "line": {
             "colorbar": {
              "outlinewidth": 0,
              "ticks": ""
             }
            },
            "type": "parcoords"
           }
          ],
          "pie": [
           {
            "automargin": true,
            "type": "pie"
           }
          ],
          "scatter": [
           {
            "fillpattern": {
             "fillmode": "overlay",
             "size": 10,
             "solidity": 0.2
            },
            "type": "scatter"
           }
          ],
          "scatter3d": [
           {
            "line": {
             "colorbar": {
              "outlinewidth": 0,
              "ticks": ""
             }
            },
            "marker": {
             "colorbar": {
              "outlinewidth": 0,
              "ticks": ""
             }
            },
            "type": "scatter3d"
           }
          ],
          "scattercarpet": [
           {
            "marker": {
             "colorbar": {
              "outlinewidth": 0,
              "ticks": ""
             }
            },
            "type": "scattercarpet"
           }
          ],
          "scattergeo": [
           {
            "marker": {
             "colorbar": {
              "outlinewidth": 0,
              "ticks": ""
             }
            },
            "type": "scattergeo"
           }
          ],
          "scattergl": [
           {
            "marker": {
             "colorbar": {
              "outlinewidth": 0,
              "ticks": ""
             }
            },
            "type": "scattergl"
           }
          ],
          "scattermapbox": [
           {
            "marker": {
             "colorbar": {
              "outlinewidth": 0,
              "ticks": ""
             }
            },
            "type": "scattermapbox"
           }
          ],
          "scatterpolar": [
           {
            "marker": {
             "colorbar": {
              "outlinewidth": 0,
              "ticks": ""
             }
            },
            "type": "scatterpolar"
           }
          ],
          "scatterpolargl": [
           {
            "marker": {
             "colorbar": {
              "outlinewidth": 0,
              "ticks": ""
             }
            },
            "type": "scatterpolargl"
           }
          ],
          "scatterternary": [
           {
            "marker": {
             "colorbar": {
              "outlinewidth": 0,
              "ticks": ""
             }
            },
            "type": "scatterternary"
           }
          ],
          "surface": [
           {
            "colorbar": {
             "outlinewidth": 0,
             "ticks": ""
            },
            "colorscale": [
             [
              0,
              "#0d0887"
             ],
             [
              0.1111111111111111,
              "#46039f"
             ],
             [
              0.2222222222222222,
              "#7201a8"
             ],
             [
              0.3333333333333333,
              "#9c179e"
             ],
             [
              0.4444444444444444,
              "#bd3786"
             ],
             [
              0.5555555555555556,
              "#d8576b"
             ],
             [
              0.6666666666666666,
              "#ed7953"
             ],
             [
              0.7777777777777778,
              "#fb9f3a"
             ],
             [
              0.8888888888888888,
              "#fdca26"
             ],
             [
              1,
              "#f0f921"
             ]
            ],
            "type": "surface"
           }
          ],
          "table": [
           {
            "cells": {
             "fill": {
              "color": "#EBF0F8"
             },
             "line": {
              "color": "white"
             }
            },
            "header": {
             "fill": {
              "color": "#C8D4E3"
             },
             "line": {
              "color": "white"
             }
            },
            "type": "table"
           }
          ]
         },
         "layout": {
          "annotationdefaults": {
           "arrowcolor": "#2a3f5f",
           "arrowhead": 0,
           "arrowwidth": 1
          },
          "autotypenumbers": "strict",
          "coloraxis": {
           "colorbar": {
            "outlinewidth": 0,
            "ticks": ""
           }
          },
          "colorscale": {
           "diverging": [
            [
             0,
             "#8e0152"
            ],
            [
             0.1,
             "#c51b7d"
            ],
            [
             0.2,
             "#de77ae"
            ],
            [
             0.3,
             "#f1b6da"
            ],
            [
             0.4,
             "#fde0ef"
            ],
            [
             0.5,
             "#f7f7f7"
            ],
            [
             0.6,
             "#e6f5d0"
            ],
            [
             0.7,
             "#b8e186"
            ],
            [
             0.8,
             "#7fbc41"
            ],
            [
             0.9,
             "#4d9221"
            ],
            [
             1,
             "#276419"
            ]
           ],
           "sequential": [
            [
             0,
             "#0d0887"
            ],
            [
             0.1111111111111111,
             "#46039f"
            ],
            [
             0.2222222222222222,
             "#7201a8"
            ],
            [
             0.3333333333333333,
             "#9c179e"
            ],
            [
             0.4444444444444444,
             "#bd3786"
            ],
            [
             0.5555555555555556,
             "#d8576b"
            ],
            [
             0.6666666666666666,
             "#ed7953"
            ],
            [
             0.7777777777777778,
             "#fb9f3a"
            ],
            [
             0.8888888888888888,
             "#fdca26"
            ],
            [
             1,
             "#f0f921"
            ]
           ],
           "sequentialminus": [
            [
             0,
             "#0d0887"
            ],
            [
             0.1111111111111111,
             "#46039f"
            ],
            [
             0.2222222222222222,
             "#7201a8"
            ],
            [
             0.3333333333333333,
             "#9c179e"
            ],
            [
             0.4444444444444444,
             "#bd3786"
            ],
            [
             0.5555555555555556,
             "#d8576b"
            ],
            [
             0.6666666666666666,
             "#ed7953"
            ],
            [
             0.7777777777777778,
             "#fb9f3a"
            ],
            [
             0.8888888888888888,
             "#fdca26"
            ],
            [
             1,
             "#f0f921"
            ]
           ]
          },
          "colorway": [
           "#636efa",
           "#EF553B",
           "#00cc96",
           "#ab63fa",
           "#FFA15A",
           "#19d3f3",
           "#FF6692",
           "#B6E880",
           "#FF97FF",
           "#FECB52"
          ],
          "font": {
           "color": "#2a3f5f"
          },
          "geo": {
           "bgcolor": "white",
           "lakecolor": "white",
           "landcolor": "#E5ECF6",
           "showlakes": true,
           "showland": true,
           "subunitcolor": "white"
          },
          "hoverlabel": {
           "align": "left"
          },
          "hovermode": "closest",
          "mapbox": {
           "style": "light"
          },
          "paper_bgcolor": "white",
          "plot_bgcolor": "#E5ECF6",
          "polar": {
           "angularaxis": {
            "gridcolor": "white",
            "linecolor": "white",
            "ticks": ""
           },
           "bgcolor": "#E5ECF6",
           "radialaxis": {
            "gridcolor": "white",
            "linecolor": "white",
            "ticks": ""
           }
          },
          "scene": {
           "xaxis": {
            "backgroundcolor": "#E5ECF6",
            "gridcolor": "white",
            "gridwidth": 2,
            "linecolor": "white",
            "showbackground": true,
            "ticks": "",
            "zerolinecolor": "white"
           },
           "yaxis": {
            "backgroundcolor": "#E5ECF6",
            "gridcolor": "white",
            "gridwidth": 2,
            "linecolor": "white",
            "showbackground": true,
            "ticks": "",
            "zerolinecolor": "white"
           },
           "zaxis": {
            "backgroundcolor": "#E5ECF6",
            "gridcolor": "white",
            "gridwidth": 2,
            "linecolor": "white",
            "showbackground": true,
            "ticks": "",
            "zerolinecolor": "white"
           }
          },
          "shapedefaults": {
           "line": {
            "color": "#2a3f5f"
           }
          },
          "ternary": {
           "aaxis": {
            "gridcolor": "white",
            "linecolor": "white",
            "ticks": ""
           },
           "baxis": {
            "gridcolor": "white",
            "linecolor": "white",
            "ticks": ""
           },
           "bgcolor": "#E5ECF6",
           "caxis": {
            "gridcolor": "white",
            "linecolor": "white",
            "ticks": ""
           }
          },
          "title": {
           "x": 0.05
          },
          "xaxis": {
           "automargin": true,
           "gridcolor": "white",
           "linecolor": "white",
           "ticks": "",
           "title": {
            "standoff": 15
           },
           "zerolinecolor": "white",
           "zerolinewidth": 2
          },
          "yaxis": {
           "automargin": true,
           "gridcolor": "white",
           "linecolor": "white",
           "ticks": "",
           "title": {
            "standoff": 15
           },
           "zerolinecolor": "white",
           "zerolinewidth": 2
          }
         }
        },
        "title": {
         "text": "Number of companies reached unicorn in each year based on industry"
        },
        "xaxis": {
         "anchor": "y",
         "domain": [
          0,
          1
         ],
         "title": {
          "text": "Year Joined"
         }
        },
        "yaxis": {
         "anchor": "x",
         "domain": [
          0,
          1
         ],
         "title": {
          "text": "Company"
         }
        }
       }
      },
      "text/html": [
       "<div>                            <div id=\"09294a3c-c873-4e79-8934-3918636e186f\" class=\"plotly-graph-div\" style=\"height:525px; width:100%;\"></div>            <script type=\"text/javascript\">                require([\"plotly\"], function(Plotly) {                    window.PLOTLYENV=window.PLOTLYENV || {};                                    if (document.getElementById(\"09294a3c-c873-4e79-8934-3918636e186f\")) {                    Plotly.newPlot(                        \"09294a3c-c873-4e79-8934-3918636e186f\",                        [{\"hovertemplate\":\"Industry=500 GLOBAL, RAKUTEN VENTURES, GOLDEN GATE VENTURES<br>Year Joined=%{x}<br>Company=%{y}<extra></extra>\",\"legendgroup\":\"500 GLOBAL, RAKUTEN VENTURES, GOLDEN GATE VENTURES\",\"line\":{\"color\":\"rgb(102, 197, 204)\",\"dash\":\"solid\"},\"marker\":{\"symbol\":\"circle\"},\"mode\":\"lines\",\"name\":\"500 GLOBAL, RAKUTEN VENTURES, GOLDEN GATE VENTURES\",\"orientation\":\"v\",\"showlegend\":true,\"x\":[2007,2011,2012,2013,2014,2015,2016,2017,2018,2019,2020,2021,2022],\"xaxis\":\"x\",\"y\":[0,0,0,0,0,0,0,0,0,0,0,1,0],\"yaxis\":\"y\",\"type\":\"scatter\"},{\"hovertemplate\":\"Industry=ANDREESSEN HOROWITZ, DST GLOBAL, IDG CAPITAL<br>Year Joined=%{x}<br>Company=%{y}<extra></extra>\",\"legendgroup\":\"ANDREESSEN HOROWITZ, DST GLOBAL, IDG CAPITAL\",\"line\":{\"color\":\"rgb(246, 207, 113)\",\"dash\":\"solid\"},\"marker\":{\"symbol\":\"circle\"},\"mode\":\"lines\",\"name\":\"ANDREESSEN HOROWITZ, DST GLOBAL, IDG CAPITAL\",\"orientation\":\"v\",\"showlegend\":true,\"x\":[2007,2011,2012,2013,2014,2015,2016,2017,2018,2019,2020,2021,2022],\"xaxis\":\"x\",\"y\":[0,0,0,0,0,0,0,0,0,0,0,1,0],\"yaxis\":\"y\",\"type\":\"scatter\"},{\"hovertemplate\":\"Industry=ARTIFICIAL INTELLIGENCE<br>Year Joined=%{x}<br>Company=%{y}<extra></extra>\",\"legendgroup\":\"ARTIFICIAL INTELLIGENCE\",\"line\":{\"color\":\"rgb(248, 156, 116)\",\"dash\":\"solid\"},\"marker\":{\"symbol\":\"circle\"},\"mode\":\"lines\",\"name\":\"ARTIFICIAL INTELLIGENCE\",\"orientation\":\"v\",\"showlegend\":true,\"x\":[2007,2011,2012,2013,2014,2015,2016,2017,2018,2019,2020,2021,2022],\"xaxis\":\"x\",\"y\":[0,0,1,0,0,2,1,4,13,13,3,34,7],\"yaxis\":\"y\",\"type\":\"scatter\"},{\"hovertemplate\":\"Industry=AUTO & TRANSPORTATION<br>Year Joined=%{x}<br>Company=%{y}<extra></extra>\",\"legendgroup\":\"AUTO & TRANSPORTATION\",\"line\":{\"color\":\"rgb(220, 176, 242)\",\"dash\":\"solid\"},\"marker\":{\"symbol\":\"circle\"},\"mode\":\"lines\",\"name\":\"AUTO & TRANSPORTATION\",\"orientation\":\"v\",\"showlegend\":true,\"x\":[2007,2011,2012,2013,2014,2015,2016,2017,2018,2019,2020,2021,2022],\"xaxis\":\"x\",\"y\":[0,0,0,0,1,1,1,0,11,6,5,4,0],\"yaxis\":\"y\",\"type\":\"scatter\"},{\"hovertemplate\":\"Industry=B CAPITAL GROUP, MONK'S HILL VENTURES, DYNAMIC PARCEL DISTRIBUTION<br>Year Joined=%{x}<br>Company=%{y}<extra></extra>\",\"legendgroup\":\"B CAPITAL GROUP, MONK'S HILL VENTURES, DYNAMIC PARCEL DISTRIBUTION\",\"line\":{\"color\":\"rgb(135, 197, 95)\",\"dash\":\"solid\"},\"marker\":{\"symbol\":\"circle\"},\"mode\":\"lines\",\"name\":\"B CAPITAL GROUP, MONK'S HILL VENTURES, DYNAMIC PARCEL DISTRIBUTION\",\"orientation\":\"v\",\"showlegend\":true,\"x\":[2007,2011,2012,2013,2014,2015,2016,2017,2018,2019,2020,2021,2022],\"xaxis\":\"x\",\"y\":[0,0,0,0,0,0,0,0,0,0,0,1,0],\"yaxis\":\"y\",\"type\":\"scatter\"},{\"hovertemplate\":\"Industry=CONSUMER & RETAIL<br>Year Joined=%{x}<br>Company=%{y}<extra></extra>\",\"legendgroup\":\"CONSUMER & RETAIL\",\"line\":{\"color\":\"rgb(158, 185, 243)\",\"dash\":\"solid\"},\"marker\":{\"symbol\":\"circle\"},\"mode\":\"lines\",\"name\":\"CONSUMER & RETAIL\",\"orientation\":\"v\",\"showlegend\":true,\"x\":[2007,2011,2012,2013,2014,2015,2016,2017,2018,2019,2020,2021,2022],\"xaxis\":\"x\",\"y\":[0,0,1,0,0,0,3,4,6,3,1,7,0],\"yaxis\":\"y\",\"type\":\"scatter\"},{\"hovertemplate\":\"Industry=CYBERSECURITY<br>Year Joined=%{x}<br>Company=%{y}<extra></extra>\",\"legendgroup\":\"CYBERSECURITY\",\"line\":{\"color\":\"rgb(254, 136, 177)\",\"dash\":\"solid\"},\"marker\":{\"symbol\":\"circle\"},\"mode\":\"lines\",\"name\":\"CYBERSECURITY\",\"orientation\":\"v\",\"showlegend\":true,\"x\":[2007,2011,2012,2013,2014,2015,2016,2017,2018,2019,2020,2021,2022],\"xaxis\":\"x\",\"y\":[0,0,0,1,0,2,0,0,1,4,7,27,7],\"yaxis\":\"y\",\"type\":\"scatter\"},{\"hovertemplate\":\"Industry=DATA MANAGEMENT & ANALYTICS<br>Year Joined=%{x}<br>Company=%{y}<extra></extra>\",\"legendgroup\":\"DATA MANAGEMENT & ANALYTICS\",\"line\":{\"color\":\"rgb(201, 219, 116)\",\"dash\":\"solid\"},\"marker\":{\"symbol\":\"circle\"},\"mode\":\"lines\",\"name\":\"DATA MANAGEMENT & ANALYTICS\",\"orientation\":\"v\",\"showlegend\":true,\"x\":[2007,2011,2012,2013,2014,2015,2016,2017,2018,2019,2020,2021,2022],\"xaxis\":\"x\",\"y\":[0,0,0,1,0,0,0,2,3,4,6,21,4],\"yaxis\":\"y\",\"type\":\"scatter\"},{\"hovertemplate\":\"Industry=DRAGONFLY CAPTIAL, QIMING VENTURE PARTNERS, DST GLOBAL<br>Year Joined=%{x}<br>Company=%{y}<extra></extra>\",\"legendgroup\":\"DRAGONFLY CAPTIAL, QIMING VENTURE PARTNERS, DST GLOBAL\",\"line\":{\"color\":\"rgb(139, 224, 164)\",\"dash\":\"solid\"},\"marker\":{\"symbol\":\"circle\"},\"mode\":\"lines\",\"name\":\"DRAGONFLY CAPTIAL, QIMING VENTURE PARTNERS, DST GLOBAL\",\"orientation\":\"v\",\"showlegend\":true,\"x\":[2007,2011,2012,2013,2014,2015,2016,2017,2018,2019,2020,2021,2022],\"xaxis\":\"x\",\"y\":[0,0,0,0,0,0,0,0,0,0,0,1,0],\"yaxis\":\"y\",\"type\":\"scatter\"},{\"hovertemplate\":\"Industry=E-COMMERCE & DIRECT-TO-CONSUMER<br>Year Joined=%{x}<br>Company=%{y}<extra></extra>\",\"legendgroup\":\"E-COMMERCE & DIRECT-TO-CONSUMER\",\"line\":{\"color\":\"rgb(180, 151, 231)\",\"dash\":\"solid\"},\"marker\":{\"symbol\":\"circle\"},\"mode\":\"lines\",\"name\":\"E-COMMERCE & DIRECT-TO-CONSUMER\",\"orientation\":\"v\",\"showlegend\":true,\"x\":[2007,2011,2012,2013,2014,2015,2016,2017,2018,2019,2020,2021,2022],\"xaxis\":\"x\",\"y\":[1,0,1,0,4,9,6,4,4,12,16,43,7],\"yaxis\":\"y\",\"type\":\"scatter\"},{\"hovertemplate\":\"Industry=EDTECH<br>Year Joined=%{x}<br>Company=%{y}<extra></extra>\",\"legendgroup\":\"EDTECH\",\"line\":{\"color\":\"rgb(179, 179, 179)\",\"dash\":\"solid\"},\"marker\":{\"symbol\":\"circle\"},\"mode\":\"lines\",\"name\":\"EDTECH\",\"orientation\":\"v\",\"showlegend\":true,\"x\":[2007,2011,2012,2013,2014,2015,2016,2017,2018,2019,2020,2021,2022],\"xaxis\":\"x\",\"y\":[0,0,0,0,0,2,2,4,2,1,4,12,1],\"yaxis\":\"y\",\"type\":\"scatter\"},{\"hovertemplate\":\"Industry=FINTECH<br>Year Joined=%{x}<br>Company=%{y}<extra></extra>\",\"legendgroup\":\"FINTECH\",\"line\":{\"color\":\"rgb(102, 197, 204)\",\"dash\":\"solid\"},\"marker\":{\"symbol\":\"circle\"},\"mode\":\"lines\",\"name\":\"FINTECH\",\"orientation\":\"v\",\"showlegend\":true,\"x\":[2007,2011,2012,2013,2014,2015,2016,2017,2018,2019,2020,2021,2022],\"xaxis\":\"x\",\"y\":[0,1,0,0,1,2,0,5,10,22,15,131,19],\"yaxis\":\"y\",\"type\":\"scatter\"},{\"hovertemplate\":\"Industry=HARDWARE<br>Year Joined=%{x}<br>Company=%{y}<extra></extra>\",\"legendgroup\":\"HARDWARE\",\"line\":{\"color\":\"rgb(246, 207, 113)\",\"dash\":\"solid\"},\"marker\":{\"symbol\":\"circle\"},\"mode\":\"lines\",\"name\":\"HARDWARE\",\"orientation\":\"v\",\"showlegend\":true,\"x\":[2007,2011,2012,2013,2014,2015,2016,2017,2018,2019,2020,2021,2022],\"xaxis\":\"x\",\"y\":[0,0,0,0,2,4,2,0,9,0,1,14,1],\"yaxis\":\"y\",\"type\":\"scatter\"},{\"hovertemplate\":\"Industry=HEALTH<br>Year Joined=%{x}<br>Company=%{y}<extra></extra>\",\"legendgroup\":\"HEALTH\",\"line\":{\"color\":\"rgb(248, 156, 116)\",\"dash\":\"solid\"},\"marker\":{\"symbol\":\"circle\"},\"mode\":\"lines\",\"name\":\"HEALTH\",\"orientation\":\"v\",\"showlegend\":true,\"x\":[2007,2011,2012,2013,2014,2015,2016,2017,2018,2019,2020,2021,2022],\"xaxis\":\"x\",\"y\":[0,0,0,0,1,2,1,4,6,4,9,37,5],\"yaxis\":\"y\",\"type\":\"scatter\"},{\"hovertemplate\":\"Industry=HOPU INVESTMENT MANAGEMENT, BOYU CAPITAL, DC THOMSON VENTURES<br>Year Joined=%{x}<br>Company=%{y}<extra></extra>\",\"legendgroup\":\"HOPU INVESTMENT MANAGEMENT, BOYU CAPITAL, DC THOMSON VENTURES\",\"line\":{\"color\":\"rgb(220, 176, 242)\",\"dash\":\"solid\"},\"marker\":{\"symbol\":\"circle\"},\"mode\":\"lines\",\"name\":\"HOPU INVESTMENT MANAGEMENT, BOYU CAPITAL, DC THOMSON VENTURES\",\"orientation\":\"v\",\"showlegend\":true,\"x\":[2007,2011,2012,2013,2014,2015,2016,2017,2018,2019,2020,2021,2022],\"xaxis\":\"x\",\"y\":[0,0,0,0,0,0,0,0,0,1,0,0,0],\"yaxis\":\"y\",\"type\":\"scatter\"},{\"hovertemplate\":\"Industry=INTERNET SOFTWARE & SERVICES<br>Year Joined=%{x}<br>Company=%{y}<extra></extra>\",\"legendgroup\":\"INTERNET SOFTWARE & SERVICES\",\"line\":{\"color\":\"rgb(135, 197, 95)\",\"dash\":\"solid\"},\"marker\":{\"symbol\":\"circle\"},\"mode\":\"lines\",\"name\":\"INTERNET SOFTWARE & SERVICES\",\"orientation\":\"v\",\"showlegend\":true,\"x\":[2007,2011,2012,2013,2014,2015,2016,2017,2018,2019,2020,2021,2022],\"xaxis\":\"x\",\"y\":[0,1,0,1,0,4,1,4,14,13,19,116,19],\"yaxis\":\"y\",\"type\":\"scatter\"},{\"hovertemplate\":\"Industry=JUNGLE VENTURES, ACCEL, VENTURE HIGHWAY<br>Year Joined=%{x}<br>Company=%{y}<extra></extra>\",\"legendgroup\":\"JUNGLE VENTURES, ACCEL, VENTURE HIGHWAY\",\"line\":{\"color\":\"rgb(158, 185, 243)\",\"dash\":\"solid\"},\"marker\":{\"symbol\":\"circle\"},\"mode\":\"lines\",\"name\":\"JUNGLE VENTURES, ACCEL, VENTURE HIGHWAY\",\"orientation\":\"v\",\"showlegend\":true,\"x\":[2007,2011,2012,2013,2014,2015,2016,2017,2018,2019,2020,2021,2022],\"xaxis\":\"x\",\"y\":[0,0,0,0,0,0,0,0,0,0,0,1,0],\"yaxis\":\"y\",\"type\":\"scatter\"},{\"hovertemplate\":\"Industry=KUANG-CHI<br>Year Joined=%{x}<br>Company=%{y}<extra></extra>\",\"legendgroup\":\"KUANG-CHI\",\"line\":{\"color\":\"rgb(254, 136, 177)\",\"dash\":\"solid\"},\"marker\":{\"symbol\":\"circle\"},\"mode\":\"lines\",\"name\":\"KUANG-CHI\",\"orientation\":\"v\",\"showlegend\":true,\"x\":[2007,2011,2012,2013,2014,2015,2016,2017,2018,2019,2020,2021,2022],\"xaxis\":\"x\",\"y\":[0,0,0,0,0,0,0,0,0,0,1,0,0],\"yaxis\":\"y\",\"type\":\"scatter\"},{\"hovertemplate\":\"Industry=MOBILE & TELECOMMUNICATIONS<br>Year Joined=%{x}<br>Company=%{y}<extra></extra>\",\"legendgroup\":\"MOBILE & TELECOMMUNICATIONS\",\"line\":{\"color\":\"rgb(201, 219, 116)\",\"dash\":\"solid\"},\"marker\":{\"symbol\":\"circle\"},\"mode\":\"lines\",\"name\":\"MOBILE & TELECOMMUNICATIONS\",\"orientation\":\"v\",\"showlegend\":true,\"x\":[2007,2011,2012,2013,2014,2015,2016,2017,2018,2019,2020,2021,2022],\"xaxis\":\"x\",\"y\":[0,0,0,0,3,4,1,5,6,4,7,6,1],\"yaxis\":\"y\",\"type\":\"scatter\"},{\"hovertemplate\":\"Industry=MUNDI VENTURES, DOQLING CAPITAL PARTNERS, ACTIVANT CAPITAL<br>Year Joined=%{x}<br>Company=%{y}<extra></extra>\",\"legendgroup\":\"MUNDI VENTURES, DOQLING CAPITAL PARTNERS, ACTIVANT CAPITAL\",\"line\":{\"color\":\"rgb(139, 224, 164)\",\"dash\":\"solid\"},\"marker\":{\"symbol\":\"circle\"},\"mode\":\"lines\",\"name\":\"MUNDI VENTURES, DOQLING CAPITAL PARTNERS, ACTIVANT CAPITAL\",\"orientation\":\"v\",\"showlegend\":true,\"x\":[2007,2011,2012,2013,2014,2015,2016,2017,2018,2019,2020,2021,2022],\"xaxis\":\"x\",\"y\":[0,0,0,0,0,0,0,0,0,0,0,1,0],\"yaxis\":\"y\",\"type\":\"scatter\"},{\"hovertemplate\":\"Industry=OTHER<br>Year Joined=%{x}<br>Company=%{y}<extra></extra>\",\"legendgroup\":\"OTHER\",\"line\":{\"color\":\"rgb(180, 151, 231)\",\"dash\":\"solid\"},\"marker\":{\"symbol\":\"circle\"},\"mode\":\"lines\",\"name\":\"OTHER\",\"orientation\":\"v\",\"showlegend\":true,\"x\":[2007,2011,2012,2013,2014,2015,2016,2017,2018,2019,2020,2021,2022],\"xaxis\":\"x\",\"y\":[0,0,1,0,0,2,2,4,3,9,11,21,3],\"yaxis\":\"y\",\"type\":\"scatter\"},{\"hovertemplate\":\"Industry=SEQUOIA CAPITAL CHINA, ING, ALIBABA ENTREPRENEURS FUND<br>Year Joined=%{x}<br>Company=%{y}<extra></extra>\",\"legendgroup\":\"SEQUOIA CAPITAL CHINA, ING, ALIBABA ENTREPRENEURS FUND\",\"line\":{\"color\":\"rgb(179, 179, 179)\",\"dash\":\"solid\"},\"marker\":{\"symbol\":\"circle\"},\"mode\":\"lines\",\"name\":\"SEQUOIA CAPITAL CHINA, ING, ALIBABA ENTREPRENEURS FUND\",\"orientation\":\"v\",\"showlegend\":true,\"x\":[2007,2011,2012,2013,2014,2015,2016,2017,2018,2019,2020,2021,2022],\"xaxis\":\"x\",\"y\":[0,0,0,0,0,0,0,1,0,0,0,0,0],\"yaxis\":\"y\",\"type\":\"scatter\"},{\"hovertemplate\":\"Industry=SEQUOIA CAPITAL CHINA, SHUNWEI CAPITAL PARTNERS, QUALGRO<br>Year Joined=%{x}<br>Company=%{y}<extra></extra>\",\"legendgroup\":\"SEQUOIA CAPITAL CHINA, SHUNWEI CAPITAL PARTNERS, QUALGRO\",\"line\":{\"color\":\"rgb(102, 197, 204)\",\"dash\":\"solid\"},\"marker\":{\"symbol\":\"circle\"},\"mode\":\"lines\",\"name\":\"SEQUOIA CAPITAL CHINA, SHUNWEI CAPITAL PARTNERS, QUALGRO\",\"orientation\":\"v\",\"showlegend\":true,\"x\":[2007,2011,2012,2013,2014,2015,2016,2017,2018,2019,2020,2021,2022],\"xaxis\":\"x\",\"y\":[0,0,0,0,0,0,0,0,0,0,0,1,0],\"yaxis\":\"y\",\"type\":\"scatter\"},{\"hovertemplate\":\"Industry=SEQUOIA CAPITAL, THOMA BRAVO, SOFTBANK<br>Year Joined=%{x}<br>Company=%{y}<extra></extra>\",\"legendgroup\":\"SEQUOIA CAPITAL, THOMA BRAVO, SOFTBANK\",\"line\":{\"color\":\"rgb(246, 207, 113)\",\"dash\":\"solid\"},\"marker\":{\"symbol\":\"circle\"},\"mode\":\"lines\",\"name\":\"SEQUOIA CAPITAL, THOMA BRAVO, SOFTBANK\",\"orientation\":\"v\",\"showlegend\":true,\"x\":[2007,2011,2012,2013,2014,2015,2016,2017,2018,2019,2020,2021,2022],\"xaxis\":\"x\",\"y\":[0,0,0,0,0,0,0,0,0,0,0,1,0],\"yaxis\":\"y\",\"type\":\"scatter\"},{\"hovertemplate\":\"Industry=SINGTEL INNOV8, ALPHA JWC VENTURES, GOLDEN GATE VENTURES<br>Year Joined=%{x}<br>Company=%{y}<extra></extra>\",\"legendgroup\":\"SINGTEL INNOV8, ALPHA JWC VENTURES, GOLDEN GATE VENTURES\",\"line\":{\"color\":\"rgb(248, 156, 116)\",\"dash\":\"solid\"},\"marker\":{\"symbol\":\"circle\"},\"mode\":\"lines\",\"name\":\"SINGTEL INNOV8, ALPHA JWC VENTURES, GOLDEN GATE VENTURES\",\"orientation\":\"v\",\"showlegend\":true,\"x\":[2007,2011,2012,2013,2014,2015,2016,2017,2018,2019,2020,2021,2022],\"xaxis\":\"x\",\"y\":[0,0,0,0,0,0,0,0,0,0,0,1,0],\"yaxis\":\"y\",\"type\":\"scatter\"},{\"hovertemplate\":\"Industry=SUPPLY CHAIN, LOGISTICS, & DELIVERY<br>Year Joined=%{x}<br>Company=%{y}<extra></extra>\",\"legendgroup\":\"SUPPLY CHAIN, LOGISTICS, & DELIVERY\",\"line\":{\"color\":\"rgb(220, 176, 242)\",\"dash\":\"solid\"},\"marker\":{\"symbol\":\"circle\"},\"mode\":\"lines\",\"name\":\"SUPPLY CHAIN, LOGISTICS, & DELIVERY\",\"orientation\":\"v\",\"showlegend\":true,\"x\":[2007,2011,2012,2013,2014,2015,2016,2017,2018,2019,2020,2021,2022],\"xaxis\":\"x\",\"y\":[0,0,0,0,1,0,1,1,11,8,2,25,8],\"yaxis\":\"y\",\"type\":\"scatter\"},{\"hovertemplate\":\"Industry=TEMASEK, GUGGENHEIM INVESTMENTS, QATAR INVESTMENT AUTHORITY<br>Year Joined=%{x}<br>Company=%{y}<extra></extra>\",\"legendgroup\":\"TEMASEK, GUGGENHEIM INVESTMENTS, QATAR INVESTMENT AUTHORITY\",\"line\":{\"color\":\"rgb(135, 197, 95)\",\"dash\":\"solid\"},\"marker\":{\"symbol\":\"circle\"},\"mode\":\"lines\",\"name\":\"TEMASEK, GUGGENHEIM INVESTMENTS, QATAR INVESTMENT AUTHORITY\",\"orientation\":\"v\",\"showlegend\":true,\"x\":[2007,2011,2012,2013,2014,2015,2016,2017,2018,2019,2020,2021,2022],\"xaxis\":\"x\",\"y\":[0,0,0,0,0,0,0,0,0,0,0,1,0],\"yaxis\":\"y\",\"type\":\"scatter\"},{\"hovertemplate\":\"Industry=TIGER GLOBAL MANAGEMENT, TIGER BROKERS, DCM VENTURES<br>Year Joined=%{x}<br>Company=%{y}<extra></extra>\",\"legendgroup\":\"TIGER GLOBAL MANAGEMENT, TIGER BROKERS, DCM VENTURES\",\"line\":{\"color\":\"rgb(158, 185, 243)\",\"dash\":\"solid\"},\"marker\":{\"symbol\":\"circle\"},\"mode\":\"lines\",\"name\":\"TIGER GLOBAL MANAGEMENT, TIGER BROKERS, DCM VENTURES\",\"orientation\":\"v\",\"showlegend\":true,\"x\":[2007,2011,2012,2013,2014,2015,2016,2017,2018,2019,2020,2021,2022],\"xaxis\":\"x\",\"y\":[0,0,0,0,0,0,0,0,0,0,0,1,0],\"yaxis\":\"y\",\"type\":\"scatter\"},{\"hovertemplate\":\"Industry=TRAVEL<br>Year Joined=%{x}<br>Company=%{y}<extra></extra>\",\"legendgroup\":\"TRAVEL\",\"line\":{\"color\":\"rgb(254, 136, 177)\",\"dash\":\"solid\"},\"marker\":{\"symbol\":\"circle\"},\"mode\":\"lines\",\"name\":\"TRAVEL\",\"orientation\":\"v\",\"showlegend\":true,\"x\":[2007,2011,2012,2013,2014,2015,2016,2017,2018,2019,2020,2021,2022],\"xaxis\":\"x\",\"y\":[0,0,0,0,0,1,0,2,4,3,0,3,1],\"yaxis\":\"y\",\"type\":\"scatter\"},{\"hovertemplate\":\"Industry=VERTEX VENTURES SE ASIA, GLOBAL FOUNDERS CAPITAL, VISA VENTURES<br>Year Joined=%{x}<br>Company=%{y}<extra></extra>\",\"legendgroup\":\"VERTEX VENTURES SE ASIA, GLOBAL FOUNDERS CAPITAL, VISA VENTURES\",\"line\":{\"color\":\"rgb(201, 219, 116)\",\"dash\":\"solid\"},\"marker\":{\"symbol\":\"circle\"},\"mode\":\"lines\",\"name\":\"VERTEX VENTURES SE ASIA, GLOBAL FOUNDERS CAPITAL, VISA VENTURES\",\"orientation\":\"v\",\"showlegend\":true,\"x\":[2007,2011,2012,2013,2014,2015,2016,2017,2018,2019,2020,2021,2022],\"xaxis\":\"x\",\"y\":[0,0,0,0,0,0,0,0,0,0,0,1,0],\"yaxis\":\"y\",\"type\":\"scatter\"},{\"hovertemplate\":\"Industry=VISION PLUS CAPITAL, GSR VENTURES, ZHENFUND<br>Year Joined=%{x}<br>Company=%{y}<extra></extra>\",\"legendgroup\":\"VISION PLUS CAPITAL, GSR VENTURES, ZHENFUND\",\"line\":{\"color\":\"rgb(139, 224, 164)\",\"dash\":\"solid\"},\"marker\":{\"symbol\":\"circle\"},\"mode\":\"lines\",\"name\":\"VISION PLUS CAPITAL, GSR VENTURES, ZHENFUND\",\"orientation\":\"v\",\"showlegend\":true,\"x\":[2007,2011,2012,2013,2014,2015,2016,2017,2018,2019,2020,2021,2022],\"xaxis\":\"x\",\"y\":[0,0,0,0,0,0,0,0,0,0,0,1,0],\"yaxis\":\"y\",\"type\":\"scatter\"}],                        {\"legend\":{\"title\":{\"text\":\"Industry\"},\"tracegroupgap\":0},\"template\":{\"data\":{\"barpolar\":[{\"marker\":{\"line\":{\"color\":\"#E5ECF6\",\"width\":0.5},\"pattern\":{\"fillmode\":\"overlay\",\"size\":10,\"solidity\":0.2}},\"type\":\"barpolar\"}],\"bar\":[{\"error_x\":{\"color\":\"#2a3f5f\"},\"error_y\":{\"color\":\"#2a3f5f\"},\"marker\":{\"line\":{\"color\":\"#E5ECF6\",\"width\":0.5},\"pattern\":{\"fillmode\":\"overlay\",\"size\":10,\"solidity\":0.2}},\"type\":\"bar\"}],\"carpet\":[{\"aaxis\":{\"endlinecolor\":\"#2a3f5f\",\"gridcolor\":\"white\",\"linecolor\":\"white\",\"minorgridcolor\":\"white\",\"startlinecolor\":\"#2a3f5f\"},\"baxis\":{\"endlinecolor\":\"#2a3f5f\",\"gridcolor\":\"white\",\"linecolor\":\"white\",\"minorgridcolor\":\"white\",\"startlinecolor\":\"#2a3f5f\"},\"type\":\"carpet\"}],\"choropleth\":[{\"colorbar\":{\"outlinewidth\":0,\"ticks\":\"\"},\"type\":\"choropleth\"}],\"contourcarpet\":[{\"colorbar\":{\"outlinewidth\":0,\"ticks\":\"\"},\"type\":\"contourcarpet\"}],\"contour\":[{\"colorbar\":{\"outlinewidth\":0,\"ticks\":\"\"},\"colorscale\":[[0.0,\"#0d0887\"],[0.1111111111111111,\"#46039f\"],[0.2222222222222222,\"#7201a8\"],[0.3333333333333333,\"#9c179e\"],[0.4444444444444444,\"#bd3786\"],[0.5555555555555556,\"#d8576b\"],[0.6666666666666666,\"#ed7953\"],[0.7777777777777778,\"#fb9f3a\"],[0.8888888888888888,\"#fdca26\"],[1.0,\"#f0f921\"]],\"type\":\"contour\"}],\"heatmapgl\":[{\"colorbar\":{\"outlinewidth\":0,\"ticks\":\"\"},\"colorscale\":[[0.0,\"#0d0887\"],[0.1111111111111111,\"#46039f\"],[0.2222222222222222,\"#7201a8\"],[0.3333333333333333,\"#9c179e\"],[0.4444444444444444,\"#bd3786\"],[0.5555555555555556,\"#d8576b\"],[0.6666666666666666,\"#ed7953\"],[0.7777777777777778,\"#fb9f3a\"],[0.8888888888888888,\"#fdca26\"],[1.0,\"#f0f921\"]],\"type\":\"heatmapgl\"}],\"heatmap\":[{\"colorbar\":{\"outlinewidth\":0,\"ticks\":\"\"},\"colorscale\":[[0.0,\"#0d0887\"],[0.1111111111111111,\"#46039f\"],[0.2222222222222222,\"#7201a8\"],[0.3333333333333333,\"#9c179e\"],[0.4444444444444444,\"#bd3786\"],[0.5555555555555556,\"#d8576b\"],[0.6666666666666666,\"#ed7953\"],[0.7777777777777778,\"#fb9f3a\"],[0.8888888888888888,\"#fdca26\"],[1.0,\"#f0f921\"]],\"type\":\"heatmap\"}],\"histogram2dcontour\":[{\"colorbar\":{\"outlinewidth\":0,\"ticks\":\"\"},\"colorscale\":[[0.0,\"#0d0887\"],[0.1111111111111111,\"#46039f\"],[0.2222222222222222,\"#7201a8\"],[0.3333333333333333,\"#9c179e\"],[0.4444444444444444,\"#bd3786\"],[0.5555555555555556,\"#d8576b\"],[0.6666666666666666,\"#ed7953\"],[0.7777777777777778,\"#fb9f3a\"],[0.8888888888888888,\"#fdca26\"],[1.0,\"#f0f921\"]],\"type\":\"histogram2dcontour\"}],\"histogram2d\":[{\"colorbar\":{\"outlinewidth\":0,\"ticks\":\"\"},\"colorscale\":[[0.0,\"#0d0887\"],[0.1111111111111111,\"#46039f\"],[0.2222222222222222,\"#7201a8\"],[0.3333333333333333,\"#9c179e\"],[0.4444444444444444,\"#bd3786\"],[0.5555555555555556,\"#d8576b\"],[0.6666666666666666,\"#ed7953\"],[0.7777777777777778,\"#fb9f3a\"],[0.8888888888888888,\"#fdca26\"],[1.0,\"#f0f921\"]],\"type\":\"histogram2d\"}],\"histogram\":[{\"marker\":{\"pattern\":{\"fillmode\":\"overlay\",\"size\":10,\"solidity\":0.2}},\"type\":\"histogram\"}],\"mesh3d\":[{\"colorbar\":{\"outlinewidth\":0,\"ticks\":\"\"},\"type\":\"mesh3d\"}],\"parcoords\":[{\"line\":{\"colorbar\":{\"outlinewidth\":0,\"ticks\":\"\"}},\"type\":\"parcoords\"}],\"pie\":[{\"automargin\":true,\"type\":\"pie\"}],\"scatter3d\":[{\"line\":{\"colorbar\":{\"outlinewidth\":0,\"ticks\":\"\"}},\"marker\":{\"colorbar\":{\"outlinewidth\":0,\"ticks\":\"\"}},\"type\":\"scatter3d\"}],\"scattercarpet\":[{\"marker\":{\"colorbar\":{\"outlinewidth\":0,\"ticks\":\"\"}},\"type\":\"scattercarpet\"}],\"scattergeo\":[{\"marker\":{\"colorbar\":{\"outlinewidth\":0,\"ticks\":\"\"}},\"type\":\"scattergeo\"}],\"scattergl\":[{\"marker\":{\"colorbar\":{\"outlinewidth\":0,\"ticks\":\"\"}},\"type\":\"scattergl\"}],\"scattermapbox\":[{\"marker\":{\"colorbar\":{\"outlinewidth\":0,\"ticks\":\"\"}},\"type\":\"scattermapbox\"}],\"scatterpolargl\":[{\"marker\":{\"colorbar\":{\"outlinewidth\":0,\"ticks\":\"\"}},\"type\":\"scatterpolargl\"}],\"scatterpolar\":[{\"marker\":{\"colorbar\":{\"outlinewidth\":0,\"ticks\":\"\"}},\"type\":\"scatterpolar\"}],\"scatter\":[{\"fillpattern\":{\"fillmode\":\"overlay\",\"size\":10,\"solidity\":0.2},\"type\":\"scatter\"}],\"scatterternary\":[{\"marker\":{\"colorbar\":{\"outlinewidth\":0,\"ticks\":\"\"}},\"type\":\"scatterternary\"}],\"surface\":[{\"colorbar\":{\"outlinewidth\":0,\"ticks\":\"\"},\"colorscale\":[[0.0,\"#0d0887\"],[0.1111111111111111,\"#46039f\"],[0.2222222222222222,\"#7201a8\"],[0.3333333333333333,\"#9c179e\"],[0.4444444444444444,\"#bd3786\"],[0.5555555555555556,\"#d8576b\"],[0.6666666666666666,\"#ed7953\"],[0.7777777777777778,\"#fb9f3a\"],[0.8888888888888888,\"#fdca26\"],[1.0,\"#f0f921\"]],\"type\":\"surface\"}],\"table\":[{\"cells\":{\"fill\":{\"color\":\"#EBF0F8\"},\"line\":{\"color\":\"white\"}},\"header\":{\"fill\":{\"color\":\"#C8D4E3\"},\"line\":{\"color\":\"white\"}},\"type\":\"table\"}]},\"layout\":{\"annotationdefaults\":{\"arrowcolor\":\"#2a3f5f\",\"arrowhead\":0,\"arrowwidth\":1},\"autotypenumbers\":\"strict\",\"coloraxis\":{\"colorbar\":{\"outlinewidth\":0,\"ticks\":\"\"}},\"colorscale\":{\"diverging\":[[0,\"#8e0152\"],[0.1,\"#c51b7d\"],[0.2,\"#de77ae\"],[0.3,\"#f1b6da\"],[0.4,\"#fde0ef\"],[0.5,\"#f7f7f7\"],[0.6,\"#e6f5d0\"],[0.7,\"#b8e186\"],[0.8,\"#7fbc41\"],[0.9,\"#4d9221\"],[1,\"#276419\"]],\"sequential\":[[0.0,\"#0d0887\"],[0.1111111111111111,\"#46039f\"],[0.2222222222222222,\"#7201a8\"],[0.3333333333333333,\"#9c179e\"],[0.4444444444444444,\"#bd3786\"],[0.5555555555555556,\"#d8576b\"],[0.6666666666666666,\"#ed7953\"],[0.7777777777777778,\"#fb9f3a\"],[0.8888888888888888,\"#fdca26\"],[1.0,\"#f0f921\"]],\"sequentialminus\":[[0.0,\"#0d0887\"],[0.1111111111111111,\"#46039f\"],[0.2222222222222222,\"#7201a8\"],[0.3333333333333333,\"#9c179e\"],[0.4444444444444444,\"#bd3786\"],[0.5555555555555556,\"#d8576b\"],[0.6666666666666666,\"#ed7953\"],[0.7777777777777778,\"#fb9f3a\"],[0.8888888888888888,\"#fdca26\"],[1.0,\"#f0f921\"]]},\"colorway\":[\"#636efa\",\"#EF553B\",\"#00cc96\",\"#ab63fa\",\"#FFA15A\",\"#19d3f3\",\"#FF6692\",\"#B6E880\",\"#FF97FF\",\"#FECB52\"],\"font\":{\"color\":\"#2a3f5f\"},\"geo\":{\"bgcolor\":\"white\",\"lakecolor\":\"white\",\"landcolor\":\"#E5ECF6\",\"showlakes\":true,\"showland\":true,\"subunitcolor\":\"white\"},\"hoverlabel\":{\"align\":\"left\"},\"hovermode\":\"closest\",\"mapbox\":{\"style\":\"light\"},\"paper_bgcolor\":\"white\",\"plot_bgcolor\":\"#E5ECF6\",\"polar\":{\"angularaxis\":{\"gridcolor\":\"white\",\"linecolor\":\"white\",\"ticks\":\"\"},\"bgcolor\":\"#E5ECF6\",\"radialaxis\":{\"gridcolor\":\"white\",\"linecolor\":\"white\",\"ticks\":\"\"}},\"scene\":{\"xaxis\":{\"backgroundcolor\":\"#E5ECF6\",\"gridcolor\":\"white\",\"gridwidth\":2,\"linecolor\":\"white\",\"showbackground\":true,\"ticks\":\"\",\"zerolinecolor\":\"white\"},\"yaxis\":{\"backgroundcolor\":\"#E5ECF6\",\"gridcolor\":\"white\",\"gridwidth\":2,\"linecolor\":\"white\",\"showbackground\":true,\"ticks\":\"\",\"zerolinecolor\":\"white\"},\"zaxis\":{\"backgroundcolor\":\"#E5ECF6\",\"gridcolor\":\"white\",\"gridwidth\":2,\"linecolor\":\"white\",\"showbackground\":true,\"ticks\":\"\",\"zerolinecolor\":\"white\"}},\"shapedefaults\":{\"line\":{\"color\":\"#2a3f5f\"}},\"ternary\":{\"aaxis\":{\"gridcolor\":\"white\",\"linecolor\":\"white\",\"ticks\":\"\"},\"baxis\":{\"gridcolor\":\"white\",\"linecolor\":\"white\",\"ticks\":\"\"},\"bgcolor\":\"#E5ECF6\",\"caxis\":{\"gridcolor\":\"white\",\"linecolor\":\"white\",\"ticks\":\"\"}},\"title\":{\"x\":0.05},\"xaxis\":{\"automargin\":true,\"gridcolor\":\"white\",\"linecolor\":\"white\",\"ticks\":\"\",\"title\":{\"standoff\":15},\"zerolinecolor\":\"white\",\"zerolinewidth\":2},\"yaxis\":{\"automargin\":true,\"gridcolor\":\"white\",\"linecolor\":\"white\",\"ticks\":\"\",\"title\":{\"standoff\":15},\"zerolinecolor\":\"white\",\"zerolinewidth\":2}}},\"title\":{\"text\":\"Number of companies reached unicorn in each year based on industry\"},\"xaxis\":{\"anchor\":\"y\",\"domain\":[0.0,1.0],\"title\":{\"text\":\"Year Joined\"}},\"yaxis\":{\"anchor\":\"x\",\"domain\":[0.0,1.0],\"title\":{\"text\":\"Company\"}}},                        {\"responsive\": true}                    ).then(function(){\n",
       "                            \n",
       "var gd = document.getElementById('09294a3c-c873-4e79-8934-3918636e186f');\n",
       "var x = new MutationObserver(function (mutations, observer) {{\n",
       "        var display = window.getComputedStyle(gd).display;\n",
       "        if (!display || display === 'none') {{\n",
       "            console.log([gd, 'removed!']);\n",
       "            Plotly.purge(gd);\n",
       "            observer.disconnect();\n",
       "        }}\n",
       "}});\n",
       "\n",
       "// Listen for the removal of the full notebook cells\n",
       "var notebookContainer = gd.closest('#notebook-container');\n",
       "if (notebookContainer) {{\n",
       "    x.observe(notebookContainer, {childList: true});\n",
       "}}\n",
       "\n",
       "// Listen for the clearing of the current output cell\n",
       "var outputEl = gd.closest('.output');\n",
       "if (outputEl) {{\n",
       "    x.observe(outputEl, {childList: true});\n",
       "}}\n",
       "\n",
       "                        })                };                });            </script>        </div>"
      ]
     },
     "metadata": {},
     "output_type": "display_data"
    }
   ],
   "source": [
    "industry_year = df.groupby(['Year Joined', 'Industry']).count()\n",
    "industry_year = industry_year.reset_index()\n",
    "fig = px.line(\n",
    "    industry_year,\n",
    "    x=\"Year Joined\",\n",
    "    y=\"Company\",\n",
    "    title='Number of companies reached unicorn in each year based on industry',\n",
    "    color=\"Industry\",\n",
    "    color_discrete_sequence=px.colors.qualitative.Pastel\n",
    ")\n",
    "iplot(fig)"
   ]
  },
  {
   "cell_type": "markdown",
   "id": "07b21533",
   "metadata": {
    "papermill": {
     "duration": 0.132581,
     "end_time": "2022-05-11T01:23:27.173967",
     "exception": false,
     "start_time": "2022-05-11T01:23:27.041386",
     "status": "completed"
    },
    "tags": []
   },
   "source": [
    "<p style=\"font-size:1.25rem\">\n",
    "    The number of companies reaching a unicorn company each year based on the industry graph shows that in 2021 most industries have an increase of unicorn companies suddenly. The fintech or financial technology industry and internet industry are two industries that have a lot of companies reached unicorns.\n",
    "</p>"
   ]
  },
  {
   "cell_type": "markdown",
   "id": "eab505e8",
   "metadata": {
    "papermill": {
     "duration": 0.133187,
     "end_time": "2022-05-11T01:23:27.443370",
     "exception": false,
     "start_time": "2022-05-11T01:23:27.310183",
     "status": "completed"
    },
    "tags": []
   },
   "source": [
    "## Geographic map of unicorns companies count in the world"
   ]
  },
  {
   "cell_type": "code",
   "execution_count": 30,
   "id": "30cc88d9",
   "metadata": {
    "execution": {
     "iopub.execute_input": "2022-05-11T01:23:27.710789Z",
     "iopub.status.busy": "2022-05-11T01:23:27.710100Z",
     "iopub.status.idle": "2022-05-11T01:23:27.935743Z",
     "shell.execute_reply": "2022-05-11T01:23:27.934874Z"
    },
    "papermill": {
     "duration": 0.363002,
     "end_time": "2022-05-11T01:23:27.938338",
     "exception": false,
     "start_time": "2022-05-11T01:23:27.575336",
     "status": "completed"
    },
    "tags": []
   },
   "outputs": [
    {
     "data": {
      "text/html": [
       "\n",
       "<div id=\"altair-viz-6e92eeaa580743aca70d4652557ffdd5\"></div>\n",
       "<script type=\"text/javascript\">\n",
       "  var VEGA_DEBUG = (typeof VEGA_DEBUG == \"undefined\") ? {} : VEGA_DEBUG;\n",
       "  (function(spec, embedOpt){\n",
       "    let outputDiv = document.currentScript.previousElementSibling;\n",
       "    if (outputDiv.id !== \"altair-viz-6e92eeaa580743aca70d4652557ffdd5\") {\n",
       "      outputDiv = document.getElementById(\"altair-viz-6e92eeaa580743aca70d4652557ffdd5\");\n",
       "    }\n",
       "    const paths = {\n",
       "      \"vega\": \"https://cdn.jsdelivr.net/npm//vega@5?noext\",\n",
       "      \"vega-lib\": \"https://cdn.jsdelivr.net/npm//vega-lib?noext\",\n",
       "      \"vega-lite\": \"https://cdn.jsdelivr.net/npm//vega-lite@4.17.0?noext\",\n",
       "      \"vega-embed\": \"https://cdn.jsdelivr.net/npm//vega-embed@6?noext\",\n",
       "    };\n",
       "\n",
       "    function maybeLoadScript(lib, version) {\n",
       "      var key = `${lib.replace(\"-\", \"\")}_version`;\n",
       "      return (VEGA_DEBUG[key] == version) ?\n",
       "        Promise.resolve(paths[lib]) :\n",
       "        new Promise(function(resolve, reject) {\n",
       "          var s = document.createElement('script');\n",
       "          document.getElementsByTagName(\"head\")[0].appendChild(s);\n",
       "          s.async = true;\n",
       "          s.onload = () => {\n",
       "            VEGA_DEBUG[key] = version;\n",
       "            return resolve(paths[lib]);\n",
       "          };\n",
       "          s.onerror = () => reject(`Error loading script: ${paths[lib]}`);\n",
       "          s.src = paths[lib];\n",
       "        });\n",
       "    }\n",
       "\n",
       "    function showError(err) {\n",
       "      outputDiv.innerHTML = `<div class=\"error\" style=\"color:red;\">${err}</div>`;\n",
       "      throw err;\n",
       "    }\n",
       "\n",
       "    function displayChart(vegaEmbed) {\n",
       "      vegaEmbed(outputDiv, spec, embedOpt)\n",
       "        .catch(err => showError(`Javascript Error: ${err.message}<br>This usually means there's a typo in your chart specification. See the javascript console for the full traceback.`));\n",
       "    }\n",
       "\n",
       "    if(typeof define === \"function\" && define.amd) {\n",
       "      requirejs.config({paths});\n",
       "      require([\"vega-embed\"], displayChart, err => showError(`Error loading script: ${err.message}`));\n",
       "    } else {\n",
       "      maybeLoadScript(\"vega\", \"5\")\n",
       "        .then(() => maybeLoadScript(\"vega-lite\", \"4.17.0\"))\n",
       "        .then(() => maybeLoadScript(\"vega-embed\", \"6\"))\n",
       "        .catch(showError)\n",
       "        .then(() => displayChart(vegaEmbed));\n",
       "    }\n",
       "  })({\"config\": {\"view\": {\"continuousWidth\": 400, \"continuousHeight\": 300}}, \"layer\": [{\"data\": {\"url\": \"https://cdn.jsdelivr.net/npm/vega-datasets@v1.29.0/data/world-110m.json\", \"format\": {\"feature\": \"countries\", \"type\": \"topojson\"}}, \"mark\": {\"type\": \"geoshape\", \"fill\": \"#eee\"}, \"height\": 300, \"projection\": {\"type\": \"equirectangular\"}, \"title\": \"Geographic map of unicorns companies count in the world\", \"width\": 500}, {\"data\": {\"name\": \"data-2348da5e9c070d0967be519a00b3fdd8\"}, \"mark\": \"geoshape\", \"encoding\": {\"color\": {\"field\": \"Company\", \"scale\": {\"range\": [\"#e6f5c9\", \"#c5e8c3\", \"#b1e1bb\", \"#69c2ca\", \"#51b2cd\", \"#3c9fc7\"]}, \"title\": \"Companies Count\", \"type\": \"quantitative\"}, \"tooltip\": {\"field\": \"tooltip\", \"type\": \"nominal\"}}, \"transform\": [{\"lookup\": \"id\", \"from\": {\"data\": {\"url\": \"https://cdn.jsdelivr.net/npm/vega-datasets@v1.29.0/data/world-110m.json\", \"format\": {\"feature\": \"countries\", \"type\": \"topojson\"}}, \"key\": \"id\", \"fields\": [\"type\", \"properties\", \"geometry\"]}}]}], \"$schema\": \"https://vega.github.io/schema/vega-lite/v4.17.0.json\", \"datasets\": {\"data-2348da5e9c070d0967be519a00b3fdd8\": [{\"Country\": \"Argentina\", \"Company\": 1, \"Valuation ($B)\": 1, \"Date Joined\": 1, \"City\": 1, \"Industry\": 1, \"Select Inverstors\": 1, \"Founded Year\": 1, \"Total Raised\": 1, \"Investors Count\": 1, \"Year Joined\": 1, \"Year to Unicorn\": 1, \"id\": 32, \"tooltip\": \"Argentina: 1\"}, {\"Country\": \"Australia\", \"Company\": 6, \"Valuation ($B)\": 6, \"Date Joined\": 6, \"City\": 6, \"Industry\": 6, \"Select Inverstors\": 6, \"Founded Year\": 6, \"Total Raised\": 6, \"Investors Count\": 6, \"Year Joined\": 6, \"Year to Unicorn\": 6, \"id\": 36, \"tooltip\": \"Australia: 6\"}, {\"Country\": \"Austria\", \"Company\": 2, \"Valuation ($B)\": 2, \"Date Joined\": 2, \"City\": 2, \"Industry\": 2, \"Select Inverstors\": 2, \"Founded Year\": 2, \"Total Raised\": 2, \"Investors Count\": 2, \"Year Joined\": 2, \"Year to Unicorn\": 2, \"id\": 40, \"tooltip\": \"Austria: 2\"}, {\"Country\": \"Bahamas\", \"Company\": 1, \"Valuation ($B)\": 1, \"Date Joined\": 1, \"City\": 1, \"Industry\": 1, \"Select Inverstors\": 1, \"Founded Year\": 1, \"Total Raised\": 1, \"Investors Count\": 1, \"Year Joined\": 1, \"Year to Unicorn\": 1, \"id\": 44, \"tooltip\": \"Bahamas: 1\"}, {\"Country\": \"Belgium\", \"Company\": 3, \"Valuation ($B)\": 3, \"Date Joined\": 3, \"City\": 3, \"Industry\": 3, \"Select Inverstors\": 3, \"Founded Year\": 3, \"Total Raised\": 3, \"Investors Count\": 3, \"Year Joined\": 3, \"Year to Unicorn\": 3, \"id\": 56, \"tooltip\": \"Belgium: 3\"}, {\"Country\": \"Bermuda\", \"Company\": 1, \"Valuation ($B)\": 1, \"Date Joined\": 1, \"City\": 1, \"Industry\": 1, \"Select Inverstors\": 1, \"Founded Year\": 1, \"Total Raised\": 1, \"Investors Count\": 1, \"Year Joined\": 1, \"Year to Unicorn\": 1, \"id\": 60, \"tooltip\": \"Bermuda: 1\"}, {\"Country\": \"Brazil\", \"Company\": 16, \"Valuation ($B)\": 16, \"Date Joined\": 16, \"City\": 16, \"Industry\": 16, \"Select Inverstors\": 16, \"Founded Year\": 16, \"Total Raised\": 16, \"Investors Count\": 16, \"Year Joined\": 16, \"Year to Unicorn\": 16, \"id\": 76, \"tooltip\": \"Brazil: 16\"}, {\"Country\": \"Canada\", \"Company\": 19, \"Valuation ($B)\": 19, \"Date Joined\": 19, \"City\": 19, \"Industry\": 19, \"Select Inverstors\": 19, \"Founded Year\": 19, \"Total Raised\": 19, \"Investors Count\": 19, \"Year Joined\": 19, \"Year to Unicorn\": 19, \"id\": 124, \"tooltip\": \"Canada: 19\"}, {\"Country\": \"Chile\", \"Company\": 2, \"Valuation ($B)\": 2, \"Date Joined\": 2, \"City\": 2, \"Industry\": 2, \"Select Inverstors\": 2, \"Founded Year\": 2, \"Total Raised\": 2, \"Investors Count\": 2, \"Year Joined\": 2, \"Year to Unicorn\": 2, \"id\": 152, \"tooltip\": \"Chile: 2\"}, {\"Country\": \"China\", \"Company\": 168, \"Valuation ($B)\": 168, \"Date Joined\": 168, \"City\": 168, \"Industry\": 168, \"Select Inverstors\": 168, \"Founded Year\": 168, \"Total Raised\": 168, \"Investors Count\": 168, \"Year Joined\": 168, \"Year to Unicorn\": 168, \"id\": 156, \"tooltip\": \"China: 168\"}, {\"Country\": \"Colombia\", \"Company\": 2, \"Valuation ($B)\": 2, \"Date Joined\": 2, \"City\": 2, \"Industry\": 2, \"Select Inverstors\": 2, \"Founded Year\": 2, \"Total Raised\": 2, \"Investors Count\": 2, \"Year Joined\": 2, \"Year to Unicorn\": 2, \"id\": 170, \"tooltip\": \"Colombia: 2\"}, {\"Country\": \"Croatia\", \"Company\": 1, \"Valuation ($B)\": 1, \"Date Joined\": 1, \"City\": 1, \"Industry\": 1, \"Select Inverstors\": 1, \"Founded Year\": 1, \"Total Raised\": 1, \"Investors Count\": 1, \"Year Joined\": 1, \"Year to Unicorn\": 1, \"id\": 191, \"tooltip\": \"Croatia: 1\"}, {\"Country\": \"Czech Republic\", \"Company\": 1, \"Valuation ($B)\": 1, \"Date Joined\": 1, \"City\": 1, \"Industry\": 1, \"Select Inverstors\": 1, \"Founded Year\": 1, \"Total Raised\": 1, \"Investors Count\": 1, \"Year Joined\": 1, \"Year to Unicorn\": 1, \"id\": 203, \"tooltip\": \"Czech Republic: 1\"}, {\"Country\": \"Denmark\", \"Company\": 2, \"Valuation ($B)\": 2, \"Date Joined\": 2, \"City\": 2, \"Industry\": 2, \"Select Inverstors\": 2, \"Founded Year\": 2, \"Total Raised\": 2, \"Investors Count\": 2, \"Year Joined\": 2, \"Year to Unicorn\": 2, \"id\": 208, \"tooltip\": \"Denmark: 2\"}, {\"Country\": \"Estonia\", \"Company\": 2, \"Valuation ($B)\": 2, \"Date Joined\": 2, \"City\": 2, \"Industry\": 2, \"Select Inverstors\": 2, \"Founded Year\": 2, \"Total Raised\": 2, \"Investors Count\": 2, \"Year Joined\": 2, \"Year to Unicorn\": 2, \"id\": 233, \"tooltip\": \"Estonia: 2\"}, {\"Country\": \"Finland\", \"Company\": 3, \"Valuation ($B)\": 3, \"Date Joined\": 3, \"City\": 3, \"Industry\": 3, \"Select Inverstors\": 3, \"Founded Year\": 3, \"Total Raised\": 3, \"Investors Count\": 3, \"Year Joined\": 3, \"Year to Unicorn\": 3, \"id\": 246, \"tooltip\": \"Finland: 3\"}, {\"Country\": \"France\", \"Company\": 24, \"Valuation ($B)\": 24, \"Date Joined\": 24, \"City\": 24, \"Industry\": 24, \"Select Inverstors\": 24, \"Founded Year\": 24, \"Total Raised\": 24, \"Investors Count\": 24, \"Year Joined\": 24, \"Year to Unicorn\": 24, \"id\": 250, \"tooltip\": \"France: 24\"}, {\"Country\": \"Germany\", \"Company\": 24, \"Valuation ($B)\": 24, \"Date Joined\": 24, \"City\": 24, \"Industry\": 24, \"Select Inverstors\": 24, \"Founded Year\": 24, \"Total Raised\": 24, \"Investors Count\": 24, \"Year Joined\": 24, \"Year to Unicorn\": 24, \"id\": 276, \"tooltip\": \"Germany: 24\"}, {\"Country\": \"Hong Kong\", \"Company\": 6, \"Valuation ($B)\": 6, \"Date Joined\": 6, \"City\": 6, \"Industry\": 6, \"Select Inverstors\": 6, \"Founded Year\": 6, \"Total Raised\": 6, \"Investors Count\": 6, \"Year Joined\": 6, \"Year to Unicorn\": 6, \"id\": 344, \"tooltip\": \"Hong Kong: 6\"}, {\"Country\": \"India\", \"Company\": 63, \"Valuation ($B)\": 63, \"Date Joined\": 63, \"City\": 63, \"Industry\": 63, \"Select Inverstors\": 63, \"Founded Year\": 63, \"Total Raised\": 63, \"Investors Count\": 63, \"Year Joined\": 63, \"Year to Unicorn\": 63, \"id\": 356, \"tooltip\": \"India: 63\"}, {\"Country\": \"Indonesia\", \"Company\": 7, \"Valuation ($B)\": 7, \"Date Joined\": 7, \"City\": 7, \"Industry\": 7, \"Select Inverstors\": 7, \"Founded Year\": 7, \"Total Raised\": 7, \"Investors Count\": 7, \"Year Joined\": 7, \"Year to Unicorn\": 7, \"id\": 360, \"tooltip\": \"Indonesia: 7\"}, {\"Country\": \"Ireland\", \"Company\": 5, \"Valuation ($B)\": 5, \"Date Joined\": 5, \"City\": 5, \"Industry\": 5, \"Select Inverstors\": 5, \"Founded Year\": 5, \"Total Raised\": 5, \"Investors Count\": 5, \"Year Joined\": 5, \"Year to Unicorn\": 5, \"id\": 372, \"tooltip\": \"Ireland: 5\"}, {\"Country\": \"Israel\", \"Company\": 20, \"Valuation ($B)\": 20, \"Date Joined\": 20, \"City\": 20, \"Industry\": 20, \"Select Inverstors\": 20, \"Founded Year\": 20, \"Total Raised\": 20, \"Investors Count\": 20, \"Year Joined\": 20, \"Year to Unicorn\": 20, \"id\": 376, \"tooltip\": \"Israel: 20\"}, {\"Country\": \"Italy\", \"Company\": 1, \"Valuation ($B)\": 1, \"Date Joined\": 1, \"City\": 1, \"Industry\": 1, \"Select Inverstors\": 1, \"Founded Year\": 1, \"Total Raised\": 1, \"Investors Count\": 1, \"Year Joined\": 1, \"Year to Unicorn\": 1, \"id\": 380, \"tooltip\": \"Italy: 1\"}, {\"Country\": \"Japan\", \"Company\": 6, \"Valuation ($B)\": 6, \"Date Joined\": 6, \"City\": 6, \"Industry\": 6, \"Select Inverstors\": 6, \"Founded Year\": 6, \"Total Raised\": 6, \"Investors Count\": 6, \"Year Joined\": 6, \"Year to Unicorn\": 6, \"id\": 392, \"tooltip\": \"Japan: 6\"}, {\"Country\": \"Lithuania\", \"Company\": 1, \"Valuation ($B)\": 1, \"Date Joined\": 1, \"City\": 1, \"Industry\": 1, \"Select Inverstors\": 1, \"Founded Year\": 1, \"Total Raised\": 1, \"Investors Count\": 1, \"Year Joined\": 1, \"Year to Unicorn\": 1, \"id\": 440, \"tooltip\": \"Lithuania: 1\"}, {\"Country\": \"Luxembourg\", \"Company\": 1, \"Valuation ($B)\": 1, \"Date Joined\": 1, \"City\": 1, \"Industry\": 1, \"Select Inverstors\": 1, \"Founded Year\": 1, \"Total Raised\": 1, \"Investors Count\": 1, \"Year Joined\": 1, \"Year to Unicorn\": 1, \"id\": 442, \"tooltip\": \"Luxembourg: 1\"}, {\"Country\": \"Malaysia\", \"Company\": 1, \"Valuation ($B)\": 1, \"Date Joined\": 1, \"City\": 1, \"Industry\": 1, \"Select Inverstors\": 1, \"Founded Year\": 1, \"Total Raised\": 1, \"Investors Count\": 1, \"Year Joined\": 1, \"Year to Unicorn\": 1, \"id\": 458, \"tooltip\": \"Malaysia: 1\"}, {\"Country\": \"Mexico\", \"Company\": 6, \"Valuation ($B)\": 6, \"Date Joined\": 6, \"City\": 6, \"Industry\": 6, \"Select Inverstors\": 6, \"Founded Year\": 6, \"Total Raised\": 6, \"Investors Count\": 6, \"Year Joined\": 6, \"Year to Unicorn\": 6, \"id\": 484, \"tooltip\": \"Mexico: 6\"}, {\"Country\": \"Netherlands\", \"Company\": 6, \"Valuation ($B)\": 6, \"Date Joined\": 6, \"City\": 6, \"Industry\": 6, \"Select Inverstors\": 6, \"Founded Year\": 6, \"Total Raised\": 6, \"Investors Count\": 6, \"Year Joined\": 6, \"Year to Unicorn\": 6, \"id\": 528, \"tooltip\": \"Netherlands: 6\"}, {\"Country\": \"Nigeria\", \"Company\": 1, \"Valuation ($B)\": 1, \"Date Joined\": 1, \"City\": 1, \"Industry\": 1, \"Select Inverstors\": 1, \"Founded Year\": 1, \"Total Raised\": 1, \"Investors Count\": 1, \"Year Joined\": 1, \"Year to Unicorn\": 1, \"id\": 566, \"tooltip\": \"Nigeria: 1\"}, {\"Country\": \"Norway\", \"Company\": 4, \"Valuation ($B)\": 4, \"Date Joined\": 4, \"City\": 4, \"Industry\": 4, \"Select Inverstors\": 4, \"Founded Year\": 4, \"Total Raised\": 4, \"Investors Count\": 4, \"Year Joined\": 4, \"Year to Unicorn\": 4, \"id\": 578, \"tooltip\": \"Norway: 4\"}, {\"Country\": \"Philippines\", \"Company\": 2, \"Valuation ($B)\": 2, \"Date Joined\": 2, \"City\": 2, \"Industry\": 2, \"Select Inverstors\": 2, \"Founded Year\": 2, \"Total Raised\": 2, \"Investors Count\": 2, \"Year Joined\": 2, \"Year to Unicorn\": 2, \"id\": 608, \"tooltip\": \"Philippines: 2\"}, {\"Country\": \"Senegal\", \"Company\": 1, \"Valuation ($B)\": 1, \"Date Joined\": 1, \"City\": 1, \"Industry\": 1, \"Select Inverstors\": 1, \"Founded Year\": 1, \"Total Raised\": 1, \"Investors Count\": 1, \"Year Joined\": 1, \"Year to Unicorn\": 1, \"id\": 686, \"tooltip\": \"Senegal: 1\"}, {\"Country\": \"Singapore\", \"Company\": 12, \"Valuation ($B)\": 12, \"Date Joined\": 12, \"City\": 12, \"Industry\": 12, \"Select Inverstors\": 12, \"Founded Year\": 12, \"Total Raised\": 12, \"Investors Count\": 12, \"Year Joined\": 12, \"Year to Unicorn\": 12, \"id\": 702, \"tooltip\": \"Singapore: 12\"}, {\"Country\": \"South Africa\", \"Company\": 2, \"Valuation ($B)\": 2, \"Date Joined\": 2, \"City\": 2, \"Industry\": 2, \"Select Inverstors\": 2, \"Founded Year\": 2, \"Total Raised\": 2, \"Investors Count\": 2, \"Year Joined\": 2, \"Year to Unicorn\": 2, \"id\": 710, \"tooltip\": \"South Africa: 2\"}, {\"Country\": \"South Korea\", \"Company\": 12, \"Valuation ($B)\": 12, \"Date Joined\": 12, \"City\": 12, \"Industry\": 12, \"Select Inverstors\": 12, \"Founded Year\": 12, \"Total Raised\": 12, \"Investors Count\": 12, \"Year Joined\": 12, \"Year to Unicorn\": 12, \"id\": 410, \"tooltip\": \"South Korea: 12\"}, {\"Country\": \"Spain\", \"Company\": 3, \"Valuation ($B)\": 3, \"Date Joined\": 3, \"City\": 3, \"Industry\": 3, \"Select Inverstors\": 3, \"Founded Year\": 3, \"Total Raised\": 3, \"Investors Count\": 3, \"Year Joined\": 3, \"Year to Unicorn\": 3, \"id\": 724, \"tooltip\": \"Spain: 3\"}, {\"Country\": \"Sweden\", \"Company\": 6, \"Valuation ($B)\": 6, \"Date Joined\": 6, \"City\": 6, \"Industry\": 6, \"Select Inverstors\": 6, \"Founded Year\": 6, \"Total Raised\": 6, \"Investors Count\": 6, \"Year Joined\": 6, \"Year to Unicorn\": 6, \"id\": 752, \"tooltip\": \"Sweden: 6\"}, {\"Country\": \"Switzerland\", \"Company\": 5, \"Valuation ($B)\": 5, \"Date Joined\": 5, \"City\": 5, \"Industry\": 5, \"Select Inverstors\": 5, \"Founded Year\": 5, \"Total Raised\": 5, \"Investors Count\": 5, \"Year Joined\": 5, \"Year to Unicorn\": 5, \"id\": 756, \"tooltip\": \"Switzerland: 5\"}, {\"Country\": \"Thailand\", \"Company\": 2, \"Valuation ($B)\": 2, \"Date Joined\": 2, \"City\": 2, \"Industry\": 2, \"Select Inverstors\": 2, \"Founded Year\": 2, \"Total Raised\": 2, \"Investors Count\": 2, \"Year Joined\": 2, \"Year to Unicorn\": 2, \"id\": 764, \"tooltip\": \"Thailand: 2\"}, {\"Country\": \"Turkey\", \"Company\": 3, \"Valuation ($B)\": 3, \"Date Joined\": 3, \"City\": 3, \"Industry\": 3, \"Select Inverstors\": 3, \"Founded Year\": 3, \"Total Raised\": 3, \"Investors Count\": 3, \"Year Joined\": 3, \"Year to Unicorn\": 3, \"id\": 792, \"tooltip\": \"Turkey: 3\"}, {\"Country\": \"United Arab Emirates\", \"Company\": 3, \"Valuation ($B)\": 3, \"Date Joined\": 3, \"City\": 3, \"Industry\": 3, \"Select Inverstors\": 3, \"Founded Year\": 3, \"Total Raised\": 3, \"Investors Count\": 3, \"Year Joined\": 3, \"Year to Unicorn\": 3, \"id\": 784, \"tooltip\": \"United Arab Emirates: 3\"}, {\"Country\": \"United Kingdom\", \"Company\": 42, \"Valuation ($B)\": 42, \"Date Joined\": 42, \"City\": 42, \"Industry\": 42, \"Select Inverstors\": 42, \"Founded Year\": 42, \"Total Raised\": 42, \"Investors Count\": 42, \"Year Joined\": 42, \"Year to Unicorn\": 42, \"id\": 826, \"tooltip\": \"United Kingdom: 42\"}, {\"Country\": \"United States\", \"Company\": 536, \"Valuation ($B)\": 536, \"Date Joined\": 536, \"City\": 536, \"Industry\": 536, \"Select Inverstors\": 536, \"Founded Year\": 536, \"Total Raised\": 536, \"Investors Count\": 536, \"Year Joined\": 536, \"Year to Unicorn\": 536, \"id\": 840, \"tooltip\": \"United States: 536\"}, {\"Country\": \"Vietnam\", \"Company\": 2, \"Valuation ($B)\": 2, \"Date Joined\": 2, \"City\": 2, \"Industry\": 2, \"Select Inverstors\": 2, \"Founded Year\": 2, \"Total Raised\": 2, \"Investors Count\": 2, \"Year Joined\": 2, \"Year to Unicorn\": 2, \"id\": 704, \"tooltip\": \"Vietnam: 2\"}]}}, {\"mode\": \"vega-lite\"});\n",
       "</script>"
      ],
      "text/plain": [
       "alt.LayerChart(...)"
      ]
     },
     "execution_count": 30,
     "metadata": {},
     "output_type": "execute_result"
    }
   ],
   "source": [
    "# Import Countries Information\n",
    "countries_info = json.load(open('../input/worldmapdata/all_countries.json'))\n",
    "\n",
    "# Create dataframe of country count\n",
    "data = groupby_country.count().reset_index()\n",
    "# Create new column by mapping country name with country numeric code\n",
    "data['id'] = data['Country'].map(lambda x: int(list(filter(lambda country: country['name'] == x or country['nativeName'] == x, countries_info))[0][\"numericCode\"]))\n",
    "# Create tooltip show country name and unicorn companies count\n",
    "data['tooltip'] = data['Country'].astype(str) + ': ' + data['Company'].astype(str)\n",
    "\n",
    "countries = alt.topo_feature(\"https://cdn.jsdelivr.net/npm/vega-datasets@v1.29.0/data/world-110m.json\", 'countries')\n",
    "\n",
    "background = alt.Chart(countries).mark_geoshape(fill='#eee').project('equirectangular').properties(\n",
    "    width=500,\n",
    "    height=300,\n",
    "    title='Geographic map of unicorns companies count in the world'\n",
    ")\n",
    "\n",
    "data_display = alt.Chart(data).mark_geoshape().encode(\n",
    "    color=alt.Color('Company:Q',\n",
    "                    title=\"Companies Count\",\n",
    "                    scale=alt.Scale(range=['#e6f5c9','#c5e8c3','#b1e1bb','#69c2ca','#51b2cd','#3c9fc7'])),\n",
    "    tooltip='tooltip').transform_lookup(lookup='id', from_=alt.LookupData(countries, key='id',fields=[\"type\", \"properties\", \"geometry\"])\n",
    ")\n",
    "\n",
    "background + data_display"
   ]
  },
  {
   "cell_type": "markdown",
   "id": "4c5512ab",
   "metadata": {
    "papermill": {
     "duration": 0.140958,
     "end_time": "2022-05-11T01:23:28.222095",
     "exception": false,
     "start_time": "2022-05-11T01:23:28.081137",
     "status": "completed"
    },
    "tags": []
   },
   "source": [
    "<p style=\"font-size:1.25rem\">\n",
    "    Most unicorn companies are located in the United States, followed by China. \n",
    "</p>"
   ]
  }
 ],
 "metadata": {
  "kernelspec": {
   "display_name": "Python 3",
   "language": "python",
   "name": "python3"
  },
  "language_info": {
   "codemirror_mode": {
    "name": "ipython",
    "version": 3
   },
   "file_extension": ".py",
   "mimetype": "text/x-python",
   "name": "python",
   "nbconvert_exporter": "python",
   "pygments_lexer": "ipython3",
   "version": "3.7.12"
  },
  "papermill": {
   "default_parameters": {},
   "duration": 31.467912,
   "end_time": "2022-05-11T01:23:29.682699",
   "environment_variables": {},
   "exception": null,
   "input_path": "__notebook__.ipynb",
   "output_path": "__notebook__.ipynb",
   "parameters": {},
   "start_time": "2022-05-11T01:22:58.214787",
   "version": "2.3.4"
  }
 },
 "nbformat": 4,
 "nbformat_minor": 5
}

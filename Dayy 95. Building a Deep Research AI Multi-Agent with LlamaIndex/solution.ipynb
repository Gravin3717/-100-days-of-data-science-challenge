{
  "cells": [
    {
      "cell_type": "markdown",
      "metadata": {
        "id": "OfNzCgHl08Sc"
      },
      "source": [
        "# LlamaIndex Deep Research Project\n",
        "\n",
        "Welcome to LlamaIndex! In this notebook we'll be walking step-by-step through building agentic workflows, culminating in building a Deep Research workflow.\n",
        "\n",
        "This notebook has 4 main sections:\n",
        "\n",
        "* Using AgentWorkflow\n",
        "* Building a multi-agent system with AgentWorkflow\n",
        "* Building agentic Workflows\n",
        "* Building a multi-agent system with Workflows\n",
        "\n",
        "In LlamaIndex, `Workflow`s are the building blocks of putting together an agent or a multi-agent system. To get you up and running quickly, we have a pre-built Workflow called the `AgentWorkflow` that handles a lot of common agent use cases and allows you to focus on the specifics of your implementation. Later, we drop down one level to Workflows themselves and show how to build one from scratch.\n",
        "\n",
        "To start off, we'll create an AgentWorkflow with a single agent, and use that to cover the basic functionality of the `AgentWorkflow` class."
      ]
    },
    {
      "cell_type": "code",
      "execution_count": 1,
      "metadata": {
        "colab": {
          "base_uri": "https://localhost:8080/"
        },
        "collapsed": true,
        "id": "lUPsTREU08Sd",
        "outputId": "484105a7-06aa-4dbf-e551-911214feb38f"
      },
      "outputs": [
        {
          "output_type": "stream",
          "name": "stdout",
          "text": [
            "Collecting llama-index\n",
            "  Downloading llama_index-0.12.36-py3-none-any.whl.metadata (12 kB)\n",
            "Collecting llama-index-agent-openai<0.5,>=0.4.0 (from llama-index)\n",
            "  Downloading llama_index_agent_openai-0.4.7-py3-none-any.whl.metadata (438 bytes)\n",
            "Collecting llama-index-cli<0.5,>=0.4.1 (from llama-index)\n",
            "  Downloading llama_index_cli-0.4.1-py3-none-any.whl.metadata (1.5 kB)\n",
            "Collecting llama-index-core<0.13,>=0.12.36 (from llama-index)\n",
            "  Downloading llama_index_core-0.12.36-py3-none-any.whl.metadata (2.4 kB)\n",
            "Collecting llama-index-embeddings-openai<0.4,>=0.3.0 (from llama-index)\n",
            "  Downloading llama_index_embeddings_openai-0.3.1-py3-none-any.whl.metadata (684 bytes)\n",
            "Collecting llama-index-indices-managed-llama-cloud>=0.4.0 (from llama-index)\n",
            "  Downloading llama_index_indices_managed_llama_cloud-0.6.11-py3-none-any.whl.metadata (3.6 kB)\n",
            "Collecting llama-index-llms-openai<0.4,>=0.3.0 (from llama-index)\n",
            "  Downloading llama_index_llms_openai-0.3.40-py3-none-any.whl.metadata (3.0 kB)\n",
            "Collecting llama-index-multi-modal-llms-openai<0.5,>=0.4.0 (from llama-index)\n",
            "  Downloading llama_index_multi_modal_llms_openai-0.4.3-py3-none-any.whl.metadata (726 bytes)\n",
            "Collecting llama-index-program-openai<0.4,>=0.3.0 (from llama-index)\n",
            "  Downloading llama_index_program_openai-0.3.1-py3-none-any.whl.metadata (764 bytes)\n",
            "Collecting llama-index-question-gen-openai<0.4,>=0.3.0 (from llama-index)\n",
            "  Downloading llama_index_question_gen_openai-0.3.0-py3-none-any.whl.metadata (783 bytes)\n",
            "Collecting llama-index-readers-file<0.5,>=0.4.0 (from llama-index)\n",
            "  Downloading llama_index_readers_file-0.4.7-py3-none-any.whl.metadata (5.4 kB)\n",
            "Collecting llama-index-readers-llama-parse>=0.4.0 (from llama-index)\n",
            "  Downloading llama_index_readers_llama_parse-0.4.0-py3-none-any.whl.metadata (3.6 kB)\n",
            "Requirement already satisfied: nltk>3.8.1 in /usr/local/lib/python3.11/dist-packages (from llama-index) (3.9.1)\n",
            "Requirement already satisfied: openai>=1.14.0 in /usr/local/lib/python3.11/dist-packages (from llama-index-agent-openai<0.5,>=0.4.0->llama-index) (1.78.1)\n",
            "Requirement already satisfied: aiohttp<4,>=3.8.6 in /usr/local/lib/python3.11/dist-packages (from llama-index-core<0.13,>=0.12.36->llama-index) (3.11.15)\n",
            "Collecting aiosqlite (from llama-index-core<0.13,>=0.12.36->llama-index)\n",
            "  Downloading aiosqlite-0.21.0-py3-none-any.whl.metadata (4.3 kB)\n",
            "Collecting banks<3,>=2.0.0 (from llama-index-core<0.13,>=0.12.36->llama-index)\n",
            "  Downloading banks-2.1.2-py3-none-any.whl.metadata (12 kB)\n",
            "Collecting dataclasses-json (from llama-index-core<0.13,>=0.12.36->llama-index)\n",
            "  Downloading dataclasses_json-0.6.7-py3-none-any.whl.metadata (25 kB)\n",
            "Collecting deprecated>=1.2.9.3 (from llama-index-core<0.13,>=0.12.36->llama-index)\n",
            "  Downloading Deprecated-1.2.18-py2.py3-none-any.whl.metadata (5.7 kB)\n",
            "Collecting dirtyjson<2,>=1.0.8 (from llama-index-core<0.13,>=0.12.36->llama-index)\n",
            "  Downloading dirtyjson-1.0.8-py3-none-any.whl.metadata (11 kB)\n",
            "Collecting filetype<2,>=1.2.0 (from llama-index-core<0.13,>=0.12.36->llama-index)\n",
            "  Downloading filetype-1.2.0-py2.py3-none-any.whl.metadata (6.5 kB)\n",
            "Requirement already satisfied: fsspec>=2023.5.0 in /usr/local/lib/python3.11/dist-packages (from llama-index-core<0.13,>=0.12.36->llama-index) (2025.3.2)\n",
            "Requirement already satisfied: httpx in /usr/local/lib/python3.11/dist-packages (from llama-index-core<0.13,>=0.12.36->llama-index) (0.28.1)\n",
            "Requirement already satisfied: nest-asyncio<2,>=1.5.8 in /usr/local/lib/python3.11/dist-packages (from llama-index-core<0.13,>=0.12.36->llama-index) (1.6.0)\n",
            "Requirement already satisfied: networkx>=3.0 in /usr/local/lib/python3.11/dist-packages (from llama-index-core<0.13,>=0.12.36->llama-index) (3.4.2)\n",
            "Requirement already satisfied: numpy in /usr/local/lib/python3.11/dist-packages (from llama-index-core<0.13,>=0.12.36->llama-index) (2.0.2)\n",
            "Requirement already satisfied: pillow>=9.0.0 in /usr/local/lib/python3.11/dist-packages (from llama-index-core<0.13,>=0.12.36->llama-index) (11.2.1)\n",
            "Requirement already satisfied: pydantic>=2.8.0 in /usr/local/lib/python3.11/dist-packages (from llama-index-core<0.13,>=0.12.36->llama-index) (2.11.4)\n",
            "Requirement already satisfied: pyyaml>=6.0.1 in /usr/local/lib/python3.11/dist-packages (from llama-index-core<0.13,>=0.12.36->llama-index) (6.0.2)\n",
            "Requirement already satisfied: requests>=2.31.0 in /usr/local/lib/python3.11/dist-packages (from llama-index-core<0.13,>=0.12.36->llama-index) (2.32.3)\n",
            "Requirement already satisfied: sqlalchemy>=1.4.49 in /usr/local/lib/python3.11/dist-packages (from sqlalchemy[asyncio]>=1.4.49->llama-index-core<0.13,>=0.12.36->llama-index) (2.0.40)\n",
            "Requirement already satisfied: tenacity!=8.4.0,<10.0.0,>=8.2.0 in /usr/local/lib/python3.11/dist-packages (from llama-index-core<0.13,>=0.12.36->llama-index) (9.1.2)\n",
            "Requirement already satisfied: tiktoken>=0.7.0 in /usr/local/lib/python3.11/dist-packages (from llama-index-core<0.13,>=0.12.36->llama-index) (0.9.0)\n",
            "Requirement already satisfied: tqdm<5,>=4.66.1 in /usr/local/lib/python3.11/dist-packages (from llama-index-core<0.13,>=0.12.36->llama-index) (4.67.1)\n",
            "Requirement already satisfied: typing-extensions>=4.5.0 in /usr/local/lib/python3.11/dist-packages (from llama-index-core<0.13,>=0.12.36->llama-index) (4.13.2)\n",
            "Collecting typing-inspect>=0.8.0 (from llama-index-core<0.13,>=0.12.36->llama-index)\n",
            "  Downloading typing_inspect-0.9.0-py3-none-any.whl.metadata (1.5 kB)\n",
            "Requirement already satisfied: wrapt in /usr/local/lib/python3.11/dist-packages (from llama-index-core<0.13,>=0.12.36->llama-index) (1.17.2)\n",
            "Collecting llama-cloud<0.2.0,>=0.1.13 (from llama-index-indices-managed-llama-cloud>=0.4.0->llama-index)\n",
            "  Downloading llama_cloud-0.1.21-py3-none-any.whl.metadata (1.2 kB)\n",
            "Requirement already satisfied: beautifulsoup4<5.0.0,>=4.12.3 in /usr/local/lib/python3.11/dist-packages (from llama-index-readers-file<0.5,>=0.4.0->llama-index) (4.13.4)\n",
            "Requirement already satisfied: pandas in /usr/local/lib/python3.11/dist-packages (from llama-index-readers-file<0.5,>=0.4.0->llama-index) (2.2.2)\n",
            "Collecting pypdf<6.0.0,>=5.1.0 (from llama-index-readers-file<0.5,>=0.4.0->llama-index)\n",
            "  Downloading pypdf-5.5.0-py3-none-any.whl.metadata (7.2 kB)\n",
            "Collecting striprtf<0.0.27,>=0.0.26 (from llama-index-readers-file<0.5,>=0.4.0->llama-index)\n",
            "  Downloading striprtf-0.0.26-py3-none-any.whl.metadata (2.1 kB)\n",
            "Collecting llama-parse>=0.5.0 (from llama-index-readers-llama-parse>=0.4.0->llama-index)\n",
            "  Downloading llama_parse-0.6.22-py3-none-any.whl.metadata (6.9 kB)\n",
            "Requirement already satisfied: click in /usr/local/lib/python3.11/dist-packages (from nltk>3.8.1->llama-index) (8.2.0)\n",
            "Requirement already satisfied: joblib in /usr/local/lib/python3.11/dist-packages (from nltk>3.8.1->llama-index) (1.5.0)\n",
            "Requirement already satisfied: regex>=2021.8.3 in /usr/local/lib/python3.11/dist-packages (from nltk>3.8.1->llama-index) (2024.11.6)\n",
            "Requirement already satisfied: aiohappyeyeballs>=2.3.0 in /usr/local/lib/python3.11/dist-packages (from aiohttp<4,>=3.8.6->llama-index-core<0.13,>=0.12.36->llama-index) (2.6.1)\n",
            "Requirement already satisfied: aiosignal>=1.1.2 in /usr/local/lib/python3.11/dist-packages (from aiohttp<4,>=3.8.6->llama-index-core<0.13,>=0.12.36->llama-index) (1.3.2)\n",
            "Requirement already satisfied: attrs>=17.3.0 in /usr/local/lib/python3.11/dist-packages (from aiohttp<4,>=3.8.6->llama-index-core<0.13,>=0.12.36->llama-index) (25.3.0)\n",
            "Requirement already satisfied: frozenlist>=1.1.1 in /usr/local/lib/python3.11/dist-packages (from aiohttp<4,>=3.8.6->llama-index-core<0.13,>=0.12.36->llama-index) (1.6.0)\n",
            "Requirement already satisfied: multidict<7.0,>=4.5 in /usr/local/lib/python3.11/dist-packages (from aiohttp<4,>=3.8.6->llama-index-core<0.13,>=0.12.36->llama-index) (6.4.3)\n",
            "Requirement already satisfied: propcache>=0.2.0 in /usr/local/lib/python3.11/dist-packages (from aiohttp<4,>=3.8.6->llama-index-core<0.13,>=0.12.36->llama-index) (0.3.1)\n",
            "Requirement already satisfied: yarl<2.0,>=1.17.0 in /usr/local/lib/python3.11/dist-packages (from aiohttp<4,>=3.8.6->llama-index-core<0.13,>=0.12.36->llama-index) (1.20.0)\n",
            "Collecting griffe (from banks<3,>=2.0.0->llama-index-core<0.13,>=0.12.36->llama-index)\n",
            "  Downloading griffe-1.7.3-py3-none-any.whl.metadata (5.0 kB)\n",
            "Requirement already satisfied: jinja2 in /usr/local/lib/python3.11/dist-packages (from banks<3,>=2.0.0->llama-index-core<0.13,>=0.12.36->llama-index) (3.1.6)\n",
            "Requirement already satisfied: platformdirs in /usr/local/lib/python3.11/dist-packages (from banks<3,>=2.0.0->llama-index-core<0.13,>=0.12.36->llama-index) (4.3.8)\n",
            "Requirement already satisfied: soupsieve>1.2 in /usr/local/lib/python3.11/dist-packages (from beautifulsoup4<5.0.0,>=4.12.3->llama-index-readers-file<0.5,>=0.4.0->llama-index) (2.7)\n",
            "Requirement already satisfied: certifi>=2024.7.4 in /usr/local/lib/python3.11/dist-packages (from llama-cloud<0.2.0,>=0.1.13->llama-index-indices-managed-llama-cloud>=0.4.0->llama-index) (2025.4.26)\n",
            "Requirement already satisfied: anyio in /usr/local/lib/python3.11/dist-packages (from httpx->llama-index-core<0.13,>=0.12.36->llama-index) (4.9.0)\n",
            "Requirement already satisfied: httpcore==1.* in /usr/local/lib/python3.11/dist-packages (from httpx->llama-index-core<0.13,>=0.12.36->llama-index) (1.0.9)\n",
            "Requirement already satisfied: idna in /usr/local/lib/python3.11/dist-packages (from httpx->llama-index-core<0.13,>=0.12.36->llama-index) (3.10)\n",
            "Requirement already satisfied: h11>=0.16 in /usr/local/lib/python3.11/dist-packages (from httpcore==1.*->httpx->llama-index-core<0.13,>=0.12.36->llama-index) (0.16.0)\n",
            "Collecting llama-cloud-services>=0.6.22 (from llama-parse>=0.5.0->llama-index-readers-llama-parse>=0.4.0->llama-index)\n",
            "  Downloading llama_cloud_services-0.6.22-py3-none-any.whl.metadata (3.4 kB)\n",
            "Requirement already satisfied: distro<2,>=1.7.0 in /usr/local/lib/python3.11/dist-packages (from openai>=1.14.0->llama-index-agent-openai<0.5,>=0.4.0->llama-index) (1.9.0)\n",
            "Requirement already satisfied: jiter<1,>=0.4.0 in /usr/local/lib/python3.11/dist-packages (from openai>=1.14.0->llama-index-agent-openai<0.5,>=0.4.0->llama-index) (0.9.0)\n",
            "Requirement already satisfied: sniffio in /usr/local/lib/python3.11/dist-packages (from openai>=1.14.0->llama-index-agent-openai<0.5,>=0.4.0->llama-index) (1.3.1)\n",
            "Requirement already satisfied: annotated-types>=0.6.0 in /usr/local/lib/python3.11/dist-packages (from pydantic>=2.8.0->llama-index-core<0.13,>=0.12.36->llama-index) (0.7.0)\n",
            "Requirement already satisfied: pydantic-core==2.33.2 in /usr/local/lib/python3.11/dist-packages (from pydantic>=2.8.0->llama-index-core<0.13,>=0.12.36->llama-index) (2.33.2)\n",
            "Requirement already satisfied: typing-inspection>=0.4.0 in /usr/local/lib/python3.11/dist-packages (from pydantic>=2.8.0->llama-index-core<0.13,>=0.12.36->llama-index) (0.4.0)\n",
            "Requirement already satisfied: charset-normalizer<4,>=2 in /usr/local/lib/python3.11/dist-packages (from requests>=2.31.0->llama-index-core<0.13,>=0.12.36->llama-index) (3.4.2)\n",
            "Requirement already satisfied: urllib3<3,>=1.21.1 in /usr/local/lib/python3.11/dist-packages (from requests>=2.31.0->llama-index-core<0.13,>=0.12.36->llama-index) (2.4.0)\n",
            "Requirement already satisfied: greenlet>=1 in /usr/local/lib/python3.11/dist-packages (from sqlalchemy>=1.4.49->sqlalchemy[asyncio]>=1.4.49->llama-index-core<0.13,>=0.12.36->llama-index) (3.2.2)\n",
            "Collecting mypy-extensions>=0.3.0 (from typing-inspect>=0.8.0->llama-index-core<0.13,>=0.12.36->llama-index)\n",
            "  Downloading mypy_extensions-1.1.0-py3-none-any.whl.metadata (1.1 kB)\n",
            "Collecting marshmallow<4.0.0,>=3.18.0 (from dataclasses-json->llama-index-core<0.13,>=0.12.36->llama-index)\n",
            "  Downloading marshmallow-3.26.1-py3-none-any.whl.metadata (7.3 kB)\n",
            "Requirement already satisfied: python-dateutil>=2.8.2 in /usr/local/lib/python3.11/dist-packages (from pandas->llama-index-readers-file<0.5,>=0.4.0->llama-index) (2.9.0.post0)\n",
            "Requirement already satisfied: pytz>=2020.1 in /usr/local/lib/python3.11/dist-packages (from pandas->llama-index-readers-file<0.5,>=0.4.0->llama-index) (2025.2)\n",
            "Requirement already satisfied: tzdata>=2022.7 in /usr/local/lib/python3.11/dist-packages (from pandas->llama-index-readers-file<0.5,>=0.4.0->llama-index) (2025.2)\n",
            "Collecting llama-cloud<0.2.0,>=0.1.13 (from llama-index-indices-managed-llama-cloud>=0.4.0->llama-index)\n",
            "  Downloading llama_cloud-0.1.19-py3-none-any.whl.metadata (902 bytes)\n",
            "Collecting python-dotenv<2.0.0,>=1.0.1 (from llama-cloud-services>=0.6.22->llama-parse>=0.5.0->llama-index-readers-llama-parse>=0.4.0->llama-index)\n",
            "  Downloading python_dotenv-1.1.0-py3-none-any.whl.metadata (24 kB)\n",
            "Requirement already satisfied: packaging>=17.0 in /usr/local/lib/python3.11/dist-packages (from marshmallow<4.0.0,>=3.18.0->dataclasses-json->llama-index-core<0.13,>=0.12.36->llama-index) (24.2)\n",
            "Requirement already satisfied: six>=1.5 in /usr/local/lib/python3.11/dist-packages (from python-dateutil>=2.8.2->pandas->llama-index-readers-file<0.5,>=0.4.0->llama-index) (1.17.0)\n",
            "Collecting colorama>=0.4 (from griffe->banks<3,>=2.0.0->llama-index-core<0.13,>=0.12.36->llama-index)\n",
            "  Downloading colorama-0.4.6-py2.py3-none-any.whl.metadata (17 kB)\n",
            "Requirement already satisfied: MarkupSafe>=2.0 in /usr/local/lib/python3.11/dist-packages (from jinja2->banks<3,>=2.0.0->llama-index-core<0.13,>=0.12.36->llama-index) (3.0.2)\n",
            "Downloading llama_index-0.12.36-py3-none-any.whl (7.0 kB)\n",
            "Downloading llama_index_agent_openai-0.4.7-py3-none-any.whl (14 kB)\n",
            "Downloading llama_index_cli-0.4.1-py3-none-any.whl (28 kB)\n",
            "Downloading llama_index_core-0.12.36-py3-none-any.whl (7.7 MB)\n",
            "\u001b[2K   \u001b[90m━━━━━━━━━━━━━━━━━━━━━━━━━━━━━━━━━━━━━━━━\u001b[0m \u001b[32m7.7/7.7 MB\u001b[0m \u001b[31m51.7 MB/s\u001b[0m eta \u001b[36m0:00:00\u001b[0m\n",
            "\u001b[?25hDownloading llama_index_embeddings_openai-0.3.1-py3-none-any.whl (6.2 kB)\n",
            "Downloading llama_index_indices_managed_llama_cloud-0.6.11-py3-none-any.whl (14 kB)\n",
            "Downloading llama_index_llms_openai-0.3.40-py3-none-any.whl (23 kB)\n",
            "Downloading llama_index_multi_modal_llms_openai-0.4.3-py3-none-any.whl (5.9 kB)\n",
            "Downloading llama_index_program_openai-0.3.1-py3-none-any.whl (5.3 kB)\n",
            "Downloading llama_index_question_gen_openai-0.3.0-py3-none-any.whl (2.9 kB)\n",
            "Downloading llama_index_readers_file-0.4.7-py3-none-any.whl (40 kB)\n",
            "\u001b[2K   \u001b[90m━━━━━━━━━━━━━━━━━━━━━━━━━━━━━━━━━━━━━━━━\u001b[0m \u001b[32m40.8/40.8 kB\u001b[0m \u001b[31m2.4 MB/s\u001b[0m eta \u001b[36m0:00:00\u001b[0m\n",
            "\u001b[?25hDownloading llama_index_readers_llama_parse-0.4.0-py3-none-any.whl (2.5 kB)\n",
            "Downloading banks-2.1.2-py3-none-any.whl (28 kB)\n",
            "Downloading Deprecated-1.2.18-py2.py3-none-any.whl (10.0 kB)\n",
            "Downloading dirtyjson-1.0.8-py3-none-any.whl (25 kB)\n",
            "Downloading filetype-1.2.0-py2.py3-none-any.whl (19 kB)\n",
            "Downloading llama_parse-0.6.22-py3-none-any.whl (4.9 kB)\n",
            "Downloading pypdf-5.5.0-py3-none-any.whl (303 kB)\n",
            "\u001b[2K   \u001b[90m━━━━━━━━━━━━━━━━━━━━━━━━━━━━━━━━━━━━━━━━\u001b[0m \u001b[32m303.4/303.4 kB\u001b[0m \u001b[31m17.6 MB/s\u001b[0m eta \u001b[36m0:00:00\u001b[0m\n",
            "\u001b[?25hDownloading striprtf-0.0.26-py3-none-any.whl (6.9 kB)\n",
            "Downloading typing_inspect-0.9.0-py3-none-any.whl (8.8 kB)\n",
            "Downloading aiosqlite-0.21.0-py3-none-any.whl (15 kB)\n",
            "Downloading dataclasses_json-0.6.7-py3-none-any.whl (28 kB)\n",
            "Downloading llama_cloud_services-0.6.22-py3-none-any.whl (37 kB)\n",
            "Downloading llama_cloud-0.1.19-py3-none-any.whl (263 kB)\n",
            "\u001b[2K   \u001b[90m━━━━━━━━━━━━━━━━━━━━━━━━━━━━━━━━━━━━━━━━\u001b[0m \u001b[32m263.6/263.6 kB\u001b[0m \u001b[31m11.4 MB/s\u001b[0m eta \u001b[36m0:00:00\u001b[0m\n",
            "\u001b[?25hDownloading marshmallow-3.26.1-py3-none-any.whl (50 kB)\n",
            "\u001b[2K   \u001b[90m━━━━━━━━━━━━━━━━━━━━━━━━━━━━━━━━━━━━━━━━\u001b[0m \u001b[32m50.9/50.9 kB\u001b[0m \u001b[31m2.5 MB/s\u001b[0m eta \u001b[36m0:00:00\u001b[0m\n",
            "\u001b[?25hDownloading mypy_extensions-1.1.0-py3-none-any.whl (5.0 kB)\n",
            "Downloading griffe-1.7.3-py3-none-any.whl (129 kB)\n",
            "\u001b[2K   \u001b[90m━━━━━━━━━━━━━━━━━━━━━━━━━━━━━━━━━━━━━━━━\u001b[0m \u001b[32m129.3/129.3 kB\u001b[0m \u001b[31m5.4 MB/s\u001b[0m eta \u001b[36m0:00:00\u001b[0m\n",
            "\u001b[?25hDownloading colorama-0.4.6-py2.py3-none-any.whl (25 kB)\n",
            "Downloading python_dotenv-1.1.0-py3-none-any.whl (20 kB)\n",
            "Installing collected packages: striprtf, filetype, dirtyjson, python-dotenv, pypdf, mypy-extensions, marshmallow, deprecated, colorama, aiosqlite, typing-inspect, griffe, llama-cloud, dataclasses-json, banks, llama-index-core, llama-index-readers-file, llama-index-llms-openai, llama-index-indices-managed-llama-cloud, llama-index-embeddings-openai, llama-cloud-services, llama-parse, llama-index-multi-modal-llms-openai, llama-index-cli, llama-index-agent-openai, llama-index-readers-llama-parse, llama-index-program-openai, llama-index-question-gen-openai, llama-index\n",
            "Successfully installed aiosqlite-0.21.0 banks-2.1.2 colorama-0.4.6 dataclasses-json-0.6.7 deprecated-1.2.18 dirtyjson-1.0.8 filetype-1.2.0 griffe-1.7.3 llama-cloud-0.1.19 llama-cloud-services-0.6.22 llama-index-0.12.36 llama-index-agent-openai-0.4.7 llama-index-cli-0.4.1 llama-index-core-0.12.36 llama-index-embeddings-openai-0.3.1 llama-index-indices-managed-llama-cloud-0.6.11 llama-index-llms-openai-0.3.40 llama-index-multi-modal-llms-openai-0.4.3 llama-index-program-openai-0.3.1 llama-index-question-gen-openai-0.3.0 llama-index-readers-file-0.4.7 llama-index-readers-llama-parse-0.4.0 llama-parse-0.6.22 marshmallow-3.26.1 mypy-extensions-1.1.0 pypdf-5.5.0 python-dotenv-1.1.0 striprtf-0.0.26 typing-inspect-0.9.0\n"
          ]
        }
      ],
      "source": [
        "%pip install llama-index"
      ]
    },
    {
      "cell_type": "markdown",
      "metadata": {
        "id": "Q1RIgw5E08Se"
      },
      "source": [
        "## Getting an LLM\n",
        "\n",
        "The engine of any agent is the LLM that does the reasoning and text processing. To get started, we'll need access to an LLM.\n",
        "\n",
        "In this example, we'll be using `OpenAI` as our LLM. LlamaIndex supports more than 80 different LLM providers, supporting over 400 different LLM models including fully local and open-source options. Check out the [examples documentation](https://docs.llamaindex.ai/en/stable/examples/llm/openai/) or [LlamaHub](https://llamahub.ai/?tab=llms) for a list of all supported LLM providers and how to install and use each model.\n",
        "\n",
        "To use OpenAI, first we need an API key:"
      ]
    },
    {
      "cell_type": "code",
      "source": [
        "from google.colab import userdata\n",
        "api_key = userdata.get('openai-key')"
      ],
      "metadata": {
        "id": "iVhR41i7Kxt1"
      },
      "execution_count": 2,
      "outputs": []
    },
    {
      "cell_type": "markdown",
      "source": [
        "With our API key in hand, instantiating an LLM is one line:"
      ],
      "metadata": {
        "id": "QBxfugByQuee"
      }
    },
    {
      "cell_type": "code",
      "execution_count": 3,
      "metadata": {
        "id": "irp_33Cg08Sf"
      },
      "outputs": [],
      "source": [
        "from llama_index.llms.openai import OpenAI\n",
        "\n",
        "llm = OpenAI(model=\"gpt-4.1-mini\", api_key=api_key)"
      ]
    },
    {
      "cell_type": "markdown",
      "source": [
        "We can ask our LLM questions directly without an agent, just to check it's working:"
      ],
      "metadata": {
        "id": "OV2vegOTQLWA"
      }
    },
    {
      "cell_type": "code",
      "source": [
        "response = llm.complete(\"What is the capital of South Dakota?\")\n",
        "print(response)"
      ],
      "metadata": {
        "colab": {
          "base_uri": "https://localhost:8080/"
        },
        "id": "w9HhdOm0QMzF",
        "outputId": "5d5067a4-3c34-4fb9-b694-becea7495cc0"
      },
      "execution_count": 4,
      "outputs": [
        {
          "output_type": "stream",
          "name": "stdout",
          "text": [
            "The capital of South Dakota is Pierre.\n"
          ]
        }
      ]
    },
    {
      "cell_type": "markdown",
      "metadata": {
        "id": "2mBg-8KE08Sf"
      },
      "source": [
        "## Building a tool\n",
        "\n",
        "A core feature of agents is that they can use tools to find out more about the state of the world, or take action in response to instructions, without you needing to be explicit about how and when they do that.\n",
        "\n",
        "In this example, we'll give our agent the ability to search the web for information by creating a tool that does that. We'll use a service called Tavily, which is specifically designed to provide this kind of tool to agents. You can get a free API key from [Tavily](https://tavily.com/)."
      ]
    },
    {
      "cell_type": "code",
      "execution_count": 5,
      "metadata": {
        "colab": {
          "base_uri": "https://localhost:8080/"
        },
        "collapsed": true,
        "id": "nbiDQ4v408Sf",
        "outputId": "a353f568-d6b3-47f9-a129-8a0b0de659ff"
      },
      "outputs": [
        {
          "output_type": "stream",
          "name": "stdout",
          "text": [
            "Collecting tavily-python\n",
            "  Downloading tavily_python-0.7.2-py3-none-any.whl.metadata (7.0 kB)\n",
            "Requirement already satisfied: requests in /usr/local/lib/python3.11/dist-packages (from tavily-python) (2.32.3)\n",
            "Requirement already satisfied: tiktoken>=0.5.1 in /usr/local/lib/python3.11/dist-packages (from tavily-python) (0.9.0)\n",
            "Requirement already satisfied: httpx in /usr/local/lib/python3.11/dist-packages (from tavily-python) (0.28.1)\n",
            "Requirement already satisfied: regex>=2022.1.18 in /usr/local/lib/python3.11/dist-packages (from tiktoken>=0.5.1->tavily-python) (2024.11.6)\n",
            "Requirement already satisfied: charset-normalizer<4,>=2 in /usr/local/lib/python3.11/dist-packages (from requests->tavily-python) (3.4.2)\n",
            "Requirement already satisfied: idna<4,>=2.5 in /usr/local/lib/python3.11/dist-packages (from requests->tavily-python) (3.10)\n",
            "Requirement already satisfied: urllib3<3,>=1.21.1 in /usr/local/lib/python3.11/dist-packages (from requests->tavily-python) (2.4.0)\n",
            "Requirement already satisfied: certifi>=2017.4.17 in /usr/local/lib/python3.11/dist-packages (from requests->tavily-python) (2025.4.26)\n",
            "Requirement already satisfied: anyio in /usr/local/lib/python3.11/dist-packages (from httpx->tavily-python) (4.9.0)\n",
            "Requirement already satisfied: httpcore==1.* in /usr/local/lib/python3.11/dist-packages (from httpx->tavily-python) (1.0.9)\n",
            "Requirement already satisfied: h11>=0.16 in /usr/local/lib/python3.11/dist-packages (from httpcore==1.*->httpx->tavily-python) (0.16.0)\n",
            "Requirement already satisfied: sniffio>=1.1 in /usr/local/lib/python3.11/dist-packages (from anyio->httpx->tavily-python) (1.3.1)\n",
            "Requirement already satisfied: typing_extensions>=4.5 in /usr/local/lib/python3.11/dist-packages (from anyio->httpx->tavily-python) (4.13.2)\n",
            "Downloading tavily_python-0.7.2-py3-none-any.whl (14 kB)\n",
            "Installing collected packages: tavily-python\n",
            "Successfully installed tavily-python-0.7.2\n"
          ]
        }
      ],
      "source": [
        "%pip install tavily-python"
      ]
    },
    {
      "cell_type": "code",
      "source": [
        "from google.colab import userdata\n",
        "tavily_api_key = userdata.get('tavily-key')"
      ],
      "metadata": {
        "id": "VjJrdlbyMwQF"
      },
      "execution_count": 6,
      "outputs": []
    },
    {
      "cell_type": "markdown",
      "source": [
        "Tools in LlamaIndex are just regular Python functions, so they can do anything a regular function can.\n",
        "\n",
        "When creating a tool, its very important to:\n",
        "- give the tool a distinctive name, and a clear description using docstrings. The LLM uses the name and description to understand what the tool does.\n",
        "- annotate the types. This helps the LLM understand the expected input and output types.\n",
        "- use async when possible, since this will make the workflow more efficient."
      ],
      "metadata": {
        "id": "fYBsSargR3wJ"
      }
    },
    {
      "cell_type": "code",
      "execution_count": 7,
      "metadata": {
        "id": "r_HHImFu08Sf"
      },
      "outputs": [],
      "source": [
        "from tavily import AsyncTavilyClient\n",
        "\n",
        "# note the type annotations for the incoming query and the return string\n",
        "async def search_web(query: str) -> str:\n",
        "    \"\"\"Useful for using the web to answer questions.\"\"\"\n",
        "    client = AsyncTavilyClient(api_key=tavily_api_key)\n",
        "    return str(await client.search(query))"
      ]
    },
    {
      "cell_type": "markdown",
      "metadata": {
        "id": "g3vgV9SR08Sf"
      },
      "source": [
        "## Instantiating an AgentWorkflow\n",
        "\n",
        "With the tool and and LLM defined, we can create an `AgentWorkflow` that uses the tool. AgentWorkflow has a special helper method for creating a single agent from a set of tools, so we'll use that.\n",
        "\n",
        "We give it a system prompt that defines what the agent does. It's a good idea to tell the agent what kinds of things its tools will allow it to do."
      ]
    },
    {
      "cell_type": "code",
      "execution_count": 8,
      "metadata": {
        "id": "_mTPFx3C08Sg"
      },
      "outputs": [],
      "source": [
        "from llama_index.core.agent.workflow import AgentWorkflow\n",
        "\n",
        "workflow = AgentWorkflow.from_tools_or_functions(\n",
        "    [search_web],\n",
        "    llm=llm,\n",
        "    system_prompt=\"You are a helpful assistant that answers questions. If you don't know the answer, you can search the web for information.\",\n",
        ")"
      ]
    },
    {
      "cell_type": "markdown",
      "metadata": {
        "id": "NZGQYXnN08Sg"
      },
      "source": [
        "## Running the Agent\n",
        "\n",
        "Now that our agent is created, we can run it! An AgentWorkflow expects to start with a question or prompt in the `user_msg`, which it passes to the agent."
      ]
    },
    {
      "cell_type": "code",
      "execution_count": 9,
      "metadata": {
        "colab": {
          "base_uri": "https://localhost:8080/"
        },
        "id": "BTFMz3Vo08Sg",
        "outputId": "b974b96b-4d64-4750-9bc5-e761478422cd"
      },
      "outputs": [
        {
          "output_type": "stream",
          "name": "stdout",
          "text": [
            "The current weather in San Francisco is partly cloudy with a temperature of about 8.9°C (48.0°F). The wind is blowing from the north-northwest at 2.2 mph (3.6 kph), and the humidity is at 93%. There is no precipitation at the moment.\n"
          ]
        }
      ],
      "source": [
        "response = await workflow.run(user_msg=\"What is the weather in San Francisco?\")\n",
        "print(str(response))"
      ]
    },
    {
      "cell_type": "markdown",
      "metadata": {
        "id": "UGn4oNU708Sh"
      },
      "source": [
        "## Maintaining State\n",
        "\n",
        "By default, the `AgentWorkflow` is stateless between runs. This means that the agent will not have any memory of previous runs.\n",
        "\n",
        "To maintain state, we need to keep track of the previous state. In LlamaIndex, Workflows have a `Context` that can be used to maintain state within and between runs. Since the `AgentWorkflow` is just a pre-built `Workflow`, we can also use it now.\n",
        "\n",
        "To maintain state between runs, we'll create a new `Context` called `ctx`. We pass in our `workflow` to properly configure this Context object for the workflow that will use it.\n",
        "\n",
        "With our configured Context, we can pass it to our first run."
      ]
    },
    {
      "cell_type": "code",
      "execution_count": 10,
      "metadata": {
        "colab": {
          "base_uri": "https://localhost:8080/"
        },
        "id": "ko32K2M508Sh",
        "outputId": "ed20dcce-afd8-4b4c-e55f-5002d9fed742"
      },
      "outputs": [
        {
          "output_type": "stream",
          "name": "stdout",
          "text": [
            "Nice to meet you too, Vatsal! How can I assist you today?\n"
          ]
        }
      ],
      "source": [
        "from llama_index.core.workflow import Context\n",
        "\n",
        "# configure a context to work with our workflow\n",
        "ctx = Context(workflow)\n",
        "\n",
        "response = await workflow.run(\n",
        "    user_msg=\"My name is Vatsal, nice to meet you!\", ctx=ctx # give the configured context to the workflow\n",
        ")\n",
        "print(str(response))"
      ]
    },
    {
      "cell_type": "markdown",
      "source": [
        "Now we can pass the same context to a second run, and it will remember what happened before:"
      ],
      "metadata": {
        "id": "k6Xld5j1UkkW"
      }
    },
    {
      "cell_type": "code",
      "execution_count": 11,
      "metadata": {
        "colab": {
          "base_uri": "https://localhost:8080/"
        },
        "id": "vB3jBGsk08Sh",
        "outputId": "ea29698d-8069-45a3-9a39-5157f10e8e37"
      },
      "outputs": [
        {
          "output_type": "stream",
          "name": "stdout",
          "text": [
            "Your name is Vatsal. How can I help you further?\n"
          ]
        }
      ],
      "source": [
        "# run the workflow again with the same context\n",
        "response = await workflow.run(user_msg=\"What is my name?\", ctx=ctx)\n",
        "print(str(response))"
      ]
    },
    {
      "cell_type": "markdown",
      "source": [
        "It's possible to maintain state over longer periods than a single run by serializing it to disk and deserializing it later when needed; check out [this tutorial](https://docs.llamaindex.ai/en/stable/understanding/agent/state/) for more."
      ],
      "metadata": {
        "id": "Wzl7EtVdNHb8"
      }
    },
    {
      "cell_type": "markdown",
      "source": [
        "## Accessing Context from within tools\n",
        "\n",
        "Tools can also be defined that have access to the workflow context. This means you can set and retrieve variables from the context and use them in the tool or between tools.\n",
        "\n",
        "`AgentWorkflow` uses a context variable called `state` that gets passed to every agent. You can rely on information in `state` being available without explicitly having to pass it in.\n",
        "\n",
        "**Note:** To access the `Context`, the Context parameter should be the first parameter of the tool."
      ],
      "metadata": {
        "id": "K1gqNRe4Oktd"
      }
    },
    {
      "cell_type": "code",
      "execution_count": 12,
      "metadata": {
        "colab": {
          "base_uri": "https://localhost:8080/"
        },
        "id": "Ya-VYQ9I08Sh",
        "outputId": "9e670bbc-01c7-4766-f7c1-ef7d8c08b5d8"
      },
      "outputs": [
        {
          "output_type": "stream",
          "name": "stdout",
          "text": [
            "Your name has been set to Vatsal. How can I assist you further?\n",
            "Name as stored in state:  Vatsal\n"
          ]
        }
      ],
      "source": [
        "from llama_index.core.workflow import Context\n",
        "\n",
        "# we've set the first parameter to be of type Context\n",
        "async def set_name(ctx: Context, name: str) -> str:\n",
        "    state = await ctx.get(\"state\")\n",
        "    state[\"name\"] = name\n",
        "    await ctx.set(\"state\", state)\n",
        "    return f\"Name set to {name}\"\n",
        "\n",
        "\n",
        "stateful_workflow = AgentWorkflow.from_tools_or_functions(\n",
        "    [set_name],\n",
        "    llm=llm,\n",
        "    system_prompt=\"You are a helpful assistant that can set a name.\",\n",
        "    initial_state={\"name\": \"unset\"},\n",
        ")\n",
        "\n",
        "stateful_workflow_context = Context(stateful_workflow)\n",
        "\n",
        "# this workflow will save data to the `state` variable in the context\n",
        "response = await stateful_workflow.run(user_msg=\"My name is Vatsal\", ctx=stateful_workflow_context)\n",
        "print(str(response))\n",
        "\n",
        "# we can retrieve the value of `state` from the context directly\n",
        "state = await stateful_workflow_context.get(\"state\")\n",
        "print(\"Name as stored in state: \",state[\"name\"])"
      ]
    },
    {
      "cell_type": "markdown",
      "metadata": {
        "id": "-Oj6IbXz08Sh"
      },
      "source": [
        "## Streaming output and events\n",
        "\n",
        "In addition to returning a single string when the workflow completes, the `AgentWorkflow` also supports streaming. Since the `AgentWorkflow` is a `Workflow`, it can be streamed like any other `Workflow`. This works by using the handler that is returned from the workflow. The stream returns a variety of event types as the workflow executes, and you can select which ones to handle.\n",
        "\n",
        "* If you want to stream the LLM output, you can use the `AgentStream` events, which contain a `delta` of the new output each time\n",
        "* `AgentInput` events will tell you which agent is running (our current workflow just has one agent)\n",
        "* `AgentOutput` events will tell you what the agents returned, including which tools they called\n",
        "* `ToolCall` and `ToolCallResults` will track tools as they are called and their outputs\n",
        "\n",
        "In this example we're only handling the `AgentStream` events, but you can see in the commented-out code how we'd handle the other kinds. You can tell our handling is working because the output will appear in chunks as you run the cell, rather than appearing all at once."
      ]
    },
    {
      "cell_type": "code",
      "execution_count": 13,
      "metadata": {
        "colab": {
          "base_uri": "https://localhost:8080/"
        },
        "id": "v1yfIe1608Sh",
        "outputId": "5f18d316-d62c-4c1d-9ead-c63f9a46bd82"
      },
      "outputs": [
        {
          "output_type": "stream",
          "name": "stdout",
          "text": [
            "The current weather in Saskatoon is partly cloudy with a temperature of 4.2°C (39.6°F). The wind is blowing from the east-southeast at 22.7 kph (14.1 mph). The humidity is at 75%, and the visibility is 24 km (14 miles). It feels like -0.3°C (31.5°F) due to the wind chill."
          ]
        }
      ],
      "source": [
        "from llama_index.core.agent.workflow import (\n",
        "    AgentInput,\n",
        "    AgentOutput,\n",
        "    ToolCall,\n",
        "    ToolCallResult,\n",
        "    AgentStream,\n",
        ")\n",
        "\n",
        "handler = workflow.run(user_msg=\"What is the weather in Saskatoon?\")\n",
        "\n",
        "async for event in handler.stream_events():\n",
        "    if isinstance(event, AgentStream):\n",
        "        print(event.delta, end=\"\", flush=True)\n",
        "        # print(event.response)  # the current full response\n",
        "        # print(event.raw)  # the raw llm api response\n",
        "        # print(event.current_agent_name)  # the current agent name\n",
        "    # elif isinstance(event, AgentInput):\n",
        "    #    print(event.input)  # the current input messages\n",
        "    #    print(event.current_agent_name)  # the current agent name\n",
        "    # elif isinstance(event, AgentOutput):\n",
        "    #    print(event.response)  # the current full response\n",
        "    #    print(event.tool_calls)  # the selected tool calls, if any\n",
        "    #    print(event.raw)  # the raw llm api response\n",
        "    # elif isinstance(event, ToolCallResult):\n",
        "    #    print(event.tool_name)  # the tool name\n",
        "    #    print(event.tool_kwargs)  # the tool kwargs\n",
        "    #    print(event.tool_output)  # the tool output\n",
        "    # elif isinstance(event, ToolCall):\n",
        "    #     print(event.tool_name)  # the tool name\n",
        "    #     print(event.tool_kwargs)  # the tool kwargs"
      ]
    },
    {
      "cell_type": "markdown",
      "source": [
        "Let's see what's happening in more detail by turning on more logging and running it again."
      ],
      "metadata": {
        "id": "ieQE1kbbPXjS"
      }
    },
    {
      "cell_type": "code",
      "source": [
        "from llama_index.core.agent.workflow import (\n",
        "    AgentInput,\n",
        "    AgentOutput,\n",
        "    ToolCall,\n",
        "    ToolCallResult,\n",
        "    AgentStream,\n",
        ")\n",
        "\n",
        "handler = workflow.run(user_msg=\"What is the weather in Saskatoon?\")\n",
        "\n",
        "async for event in handler.stream_events():\n",
        "    if isinstance(event, AgentInput):\n",
        "       print(\"Agent input: \", event.input)  # the current input messages\n",
        "       print(\"Agent name:\", event.current_agent_name)  # the current agent name\n",
        "    elif isinstance(event, AgentOutput):\n",
        "       print(\"Agent output: \", event.response)  # the current full response\n",
        "       print(\"Tool calls made: \", event.tool_calls)  # the selected tool calls, if any\n",
        "       print(\"Raw LLM response: \", event.raw)  # the raw llm api response\n",
        "    elif isinstance(event, ToolCallResult):\n",
        "       print(\"Tool called: \", event.tool_name)  # the tool name\n",
        "       print(\"Arguments to the tool: \", event.tool_kwargs)  # the tool kwargs\n",
        "       print(\"Tool output: \", event.tool_output)  # the tool output"
      ],
      "metadata": {
        "colab": {
          "base_uri": "https://localhost:8080/"
        },
        "id": "5dTsGvQ_Pb0r",
        "outputId": "085a04ff-89da-413b-c61d-0cbc3c8467cb"
      },
      "execution_count": 14,
      "outputs": [
        {
          "output_type": "stream",
          "name": "stdout",
          "text": [
            "Agent input:  [ChatMessage(role=<MessageRole.SYSTEM: 'system'>, additional_kwargs={}, blocks=[TextBlock(block_type='text', text=\"You are a helpful assistant that answers questions. If you don't know the answer, you can search the web for information.\")]), ChatMessage(role=<MessageRole.USER: 'user'>, additional_kwargs={}, blocks=[TextBlock(block_type='text', text='What is the weather in Saskatoon?')])]\n",
            "Agent name: Agent\n",
            "Agent output:  assistant: None\n",
            "Tool calls made:  [ToolSelection(tool_id='call_dxLxzZpgOTsGf824x9EMjf34', tool_name='search_web', tool_kwargs={'query': 'current weather in Saskatoon'})]\n",
            "Raw LLM response:  {'id': 'chatcmpl-BYYcIiUn6FUmjXqpXuCaNXhEhM2AG', 'choices': [{'delta': {'content': None, 'function_call': None, 'refusal': None, 'role': None, 'tool_calls': None}, 'finish_reason': 'tool_calls', 'index': 0, 'logprobs': None}], 'created': 1747575918, 'model': 'gpt-4.1-mini-2025-04-14', 'object': 'chat.completion.chunk', 'service_tier': 'default', 'system_fingerprint': 'fp_79b79be41f', 'usage': None}\n",
            "Tool called:  search_web\n",
            "Arguments to the tool:  {'query': 'current weather in Saskatoon'}\n",
            "Tool output:  {'query': 'current weather in Saskatoon', 'follow_up_questions': None, 'answer': None, 'images': [], 'results': [{'title': 'Weather in Saskatoon', 'url': 'https://www.weatherapi.com/', 'content': \"{'location': {'name': 'Saskatoon', 'region': 'Saskatchewan', 'country': 'Canada', 'lat': 52.1333, 'lon': -106.6667, 'tz_id': 'America/Regina', 'localtime_epoch': 1747575909, 'localtime': '2025-05-18 07:45'}, 'current': {'last_updated_epoch': 1747575900, 'last_updated': '2025-05-18 07:45', 'temp_c': 4.2, 'temp_f': 39.6, 'is_day': 1, 'condition': {'text': 'Partly cloudy', 'icon': '//cdn.weatherapi.com/weather/64x64/day/116.png', 'code': 1003}, 'wind_mph': 14.1, 'wind_kph': 22.7, 'wind_degree': 108, 'wind_dir': 'ESE', 'pressure_mb': 1015.0, 'pressure_in': 29.98, 'precip_mm': 0.0, 'precip_in': 0.0, 'humidity': 75, 'cloud': 50, 'feelslike_c': -0.3, 'feelslike_f': 31.5, 'windchill_c': 2.7, 'windchill_f': 36.9, 'heatindex_c': 6.4, 'heatindex_f': 43.5, 'dewpoint_c': 4.1, 'dewpoint_f': 39.3, 'vis_km': 24.0, 'vis_miles': 14.0, 'uv': 0.2, 'gust_mph': 19.6, 'gust_kph': 31.5}}\", 'score': 0.9456908, 'raw_content': None}, {'title': 'Weather in Saskatoon in May 2025 (Saskatchewan) - Detailed Weather ...', 'url': 'https://world-weather.info/forecast/canada/saskatoon/may-2025/', 'content': 'Detailed ⚡ Saskatoon Weather Forecast for May 2025 - day/night 🌡️ temperatures, precipitations - World-Weather.info. Add the current city. Search. Weather; Archive; Widgets °F. World; Canada; Saskatchewan; Weather in Saskatoon; Weather in Saskatoon in May 2025. ... 18 +59° +46° 19 +57° +48° 20', 'score': 0.9047265, 'raw_content': None}, {'title': 'Saskatoon weather in May 2025 | Saskatoon 14 day weather', 'url': 'https://www.weather25.com/north-america/canada/saskatchewan/saskatoon?page=month&month=May', 'content': 'Full weather forecast for Saskatoon in May 2025. Check the temperatures, chance of rain and more in Saskatoon during May. United States England Australia Canada °F °C. Saskatoon . Weather in May 2025 . Overview ; 14 Days ; ... May 18. 0 mm. 16', 'score': 0.86331123, 'raw_content': None}, {'title': 'Saskatoon, SK - 7 Day Forecast - Environment Canada', 'url': 'https://weather.gc.ca/city/jump_e.html?city=Saskatoon,+SK', 'content': '10:00 PM CST Thursday 15 May 2025 Observed at: Saskatoon Diefenbaker Int\\'l Airport. Past 24 hour Conditions . Weather Radar . Satellite . Lightning . ... 18 May: Sunny. High 16. Night: Cloudy periods. Low plus 4. Mon, 19 May: Cloudy. High 17. Night: Cloudy periods. Low 6. ... open the Weather shortcuts menu and click on the \"Add to shortcuts', 'score': 0.8624794, 'raw_content': None}, {'title': 'May 2025 Weather History in Saskatoon Saskatchewan, Canada', 'url': 'https://weatherspark.com/h/m/3392/2025/5/Historical-Weather-in-May-2025-in-Saskatoon-Saskatchewan-Canada', 'content': 'This report shows the past weather for Saskatoon, providing a weather history for May 2025. It features all historical weather data series we have available, including the Saskatoon temperature history for May 2025. You can drill down from year to month and even day level reports by clicking on the graphs.', 'score': 0.6803909, 'raw_content': None}], 'response_time': 2.39}\n",
            "Agent input:  [ChatMessage(role=<MessageRole.SYSTEM: 'system'>, additional_kwargs={}, blocks=[TextBlock(block_type='text', text=\"You are a helpful assistant that answers questions. If you don't know the answer, you can search the web for information.\")]), ChatMessage(role=<MessageRole.USER: 'user'>, additional_kwargs={}, blocks=[TextBlock(block_type='text', text='What is the weather in Saskatoon?')]), ChatMessage(role=<MessageRole.ASSISTANT: 'assistant'>, additional_kwargs={'tool_calls': [ChoiceDeltaToolCall(index=0, id='call_dxLxzZpgOTsGf824x9EMjf34', function=ChoiceDeltaToolCallFunction(arguments='{\"query\":\"current weather in Saskatoon\"}', name='search_web'), type='function')]}, blocks=[TextBlock(block_type='text', text='')]), ChatMessage(role=<MessageRole.TOOL: 'tool'>, additional_kwargs={'tool_call_id': 'call_dxLxzZpgOTsGf824x9EMjf34'}, blocks=[TextBlock(block_type='text', text='{\\'query\\': \\'current weather in Saskatoon\\', \\'follow_up_questions\\': None, \\'answer\\': None, \\'images\\': [], \\'results\\': [{\\'title\\': \\'Weather in Saskatoon\\', \\'url\\': \\'https://www.weatherapi.com/\\', \\'content\\': \"{\\'location\\': {\\'name\\': \\'Saskatoon\\', \\'region\\': \\'Saskatchewan\\', \\'country\\': \\'Canada\\', \\'lat\\': 52.1333, \\'lon\\': -106.6667, \\'tz_id\\': \\'America/Regina\\', \\'localtime_epoch\\': 1747575909, \\'localtime\\': \\'2025-05-18 07:45\\'}, \\'current\\': {\\'last_updated_epoch\\': 1747575900, \\'last_updated\\': \\'2025-05-18 07:45\\', \\'temp_c\\': 4.2, \\'temp_f\\': 39.6, \\'is_day\\': 1, \\'condition\\': {\\'text\\': \\'Partly cloudy\\', \\'icon\\': \\'//cdn.weatherapi.com/weather/64x64/day/116.png\\', \\'code\\': 1003}, \\'wind_mph\\': 14.1, \\'wind_kph\\': 22.7, \\'wind_degree\\': 108, \\'wind_dir\\': \\'ESE\\', \\'pressure_mb\\': 1015.0, \\'pressure_in\\': 29.98, \\'precip_mm\\': 0.0, \\'precip_in\\': 0.0, \\'humidity\\': 75, \\'cloud\\': 50, \\'feelslike_c\\': -0.3, \\'feelslike_f\\': 31.5, \\'windchill_c\\': 2.7, \\'windchill_f\\': 36.9, \\'heatindex_c\\': 6.4, \\'heatindex_f\\': 43.5, \\'dewpoint_c\\': 4.1, \\'dewpoint_f\\': 39.3, \\'vis_km\\': 24.0, \\'vis_miles\\': 14.0, \\'uv\\': 0.2, \\'gust_mph\\': 19.6, \\'gust_kph\\': 31.5}}\", \\'score\\': 0.9456908, \\'raw_content\\': None}, {\\'title\\': \\'Weather in Saskatoon in May 2025 (Saskatchewan) - Detailed Weather ...\\', \\'url\\': \\'https://world-weather.info/forecast/canada/saskatoon/may-2025/\\', \\'content\\': \\'Detailed ⚡ Saskatoon Weather Forecast for May 2025 - day/night 🌡️ temperatures, precipitations - World-Weather.info. Add the current city. Search. Weather; Archive; Widgets °F. World; Canada; Saskatchewan; Weather in Saskatoon; Weather in Saskatoon in May 2025. ... 18 +59° +46° 19 +57° +48° 20\\', \\'score\\': 0.9047265, \\'raw_content\\': None}, {\\'title\\': \\'Saskatoon weather in May 2025 | Saskatoon 14 day weather\\', \\'url\\': \\'https://www.weather25.com/north-america/canada/saskatchewan/saskatoon?page=month&month=May\\', \\'content\\': \\'Full weather forecast for Saskatoon in May 2025. Check the temperatures, chance of rain and more in Saskatoon during May. United States England Australia Canada °F °C. Saskatoon . Weather in May 2025 . Overview ; 14 Days ; ... May 18. 0 mm. 16\\', \\'score\\': 0.86331123, \\'raw_content\\': None}, {\\'title\\': \\'Saskatoon, SK - 7 Day Forecast - Environment Canada\\', \\'url\\': \\'https://weather.gc.ca/city/jump_e.html?city=Saskatoon,+SK\\', \\'content\\': \\'10:00 PM CST Thursday 15 May 2025 Observed at: Saskatoon Diefenbaker Int\\\\\\'l Airport. Past 24 hour Conditions . Weather Radar . Satellite . Lightning . ... 18 May: Sunny. High 16. Night: Cloudy periods. Low plus 4. Mon, 19 May: Cloudy. High 17. Night: Cloudy periods. Low 6. ... open the Weather shortcuts menu and click on the \"Add to shortcuts\\', \\'score\\': 0.8624794, \\'raw_content\\': None}, {\\'title\\': \\'May 2025 Weather History in Saskatoon Saskatchewan, Canada\\', \\'url\\': \\'https://weatherspark.com/h/m/3392/2025/5/Historical-Weather-in-May-2025-in-Saskatoon-Saskatchewan-Canada\\', \\'content\\': \\'This report shows the past weather for Saskatoon, providing a weather history for May 2025. It features all historical weather data series we have available, including the Saskatoon temperature history for May 2025. You can drill down from year to month and even day level reports by clicking on the graphs.\\', \\'score\\': 0.6803909, \\'raw_content\\': None}], \\'response_time\\': 2.39}')])]\n",
            "Agent name: Agent\n",
            "Agent output:  assistant: The current weather in Saskatoon is partly cloudy with a temperature of 4.2°C (39.6°F). The wind is blowing from the east-southeast at 14.1 mph (22.7 kph). The humidity is at 75%, and the visibility is 24 km (14 miles). It feels like -0.3°C (31.5°F) outside.\n",
            "Tool calls made:  []\n",
            "Raw LLM response:  {'id': 'chatcmpl-BYYcMHvnPZrRnSKhWFczmrXugtDNH', 'choices': [{'delta': {'content': None, 'function_call': None, 'refusal': None, 'role': None, 'tool_calls': None}, 'finish_reason': 'stop', 'index': 0, 'logprobs': None}], 'created': 1747575922, 'model': 'gpt-4.1-mini-2025-04-14', 'object': 'chat.completion.chunk', 'service_tier': 'default', 'system_fingerprint': 'fp_79b79be41f', 'usage': None}\n"
          ]
        }
      ]
    },
    {
      "cell_type": "markdown",
      "source": [
        "You can see the agent accepting input, picking the web search tool, calling it with appropriate arguments, and returning the output."
      ],
      "metadata": {
        "id": "ROSqJW2wQRdm"
      }
    },
    {
      "cell_type": "markdown",
      "metadata": {
        "id": "2-4RZwpr08Sh"
      },
      "source": [
        "## Human in the Loop\n",
        "\n",
        "Tools can also be defined that involve a human in the loop. This is useful for tasks that require human input, such as confirming an important action before the agent takes it, or providing feedback on an agent's work from an expert human.\n",
        "\n",
        "As we'll see in the next section, the way `Workflow`s work under the hood of `AgentWorkflow` is by running `step`s which both emit and receive events. Here's a diagram of the steps (in blue) that makes up an AgentWorkflow and the events (in green) that pass data between them. You'll recognize these events, they're the same ones we were handling in the output stream earlier."
      ]
    },
    {
      "cell_type": "markdown",
      "source": [
        "<img width=\"500\" src=\"data:image/jpeg;base64,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\">"
      ],
      "metadata": {
        "id": "hFEHh8AZcYN8"
      }
    },
    {
      "cell_type": "markdown",
      "source": [
        " To get a human in the loop, we'll get our tool to emit a specific kind of event that isn't received by any other step in the workflow. We'll then tell our tool to wait until it receives a specific kind of \"reply\" event.\n",
        "\n",
        "To do this, we use the built-in `InputRequiredEvent` and `HumanResponseEvent` events to use for this purpose. These events expect human input in the form of a simple string. If you want to capture more nuanced forms of human input, you can subclass these events to match the needs of your application."
      ],
      "metadata": {
        "id": "St0f_kgScXFG"
      }
    },
    {
      "cell_type": "code",
      "execution_count": 15,
      "metadata": {
        "id": "yJmt0ppQ08Si"
      },
      "outputs": [],
      "source": [
        "from llama_index.core.workflow import (\n",
        "    Context,\n",
        "    InputRequiredEvent,\n",
        "    HumanResponseEvent,\n",
        ")\n",
        "\n",
        "# a tool that performs a dangerous task\n",
        "async def dangerous_task(ctx: Context) -> str:\n",
        "    \"\"\"A dangerous task that requires human confirmation.\"\"\"\n",
        "\n",
        "    # emits an InputRequiredEvent,\n",
        "    # then waits until we see a HumanResponseEvent\n",
        "    response = await ctx.wait_for_event(\n",
        "        HumanResponseEvent,\n",
        "        waiter_event=InputRequiredEvent(\n",
        "            prefix=\"Are you sure you want to proceed? \",\n",
        "            user_name=\"Laurie\",\n",
        "        ),\n",
        "        requirements={\"user_name\": \"Laurie\"}\n",
        "    )\n",
        "\n",
        "    # act on the input from the event\n",
        "    if response.response.strip().lower() == \"yes\":\n",
        "        return \"Dangerous task completed successfully.\"\n",
        "    else:\n",
        "        return \"Dangerous task aborted.\"\n",
        "\n",
        "\n",
        "workflow = AgentWorkflow.from_tools_or_functions(\n",
        "    [dangerous_task],\n",
        "    llm=llm,\n",
        "    system_prompt=\"You are a helpful assistant that can perform dangerous tasks.\",\n",
        ")"
      ]
    },
    {
      "cell_type": "markdown",
      "source": [
        "To capture the event, we use the same streaming interface we used earlier and look for an `InputRequiredEvent`. Then we can use `input` to capture a response from the user, and send it back using the `send_event` method."
      ],
      "metadata": {
        "id": "8YMO88S5Ycuy"
      }
    },
    {
      "cell_type": "code",
      "execution_count": 16,
      "metadata": {
        "colab": {
          "base_uri": "https://localhost:8080/"
        },
        "id": "7ArX48Sw08Si",
        "outputId": "d120c0f4-a8f4-4a7c-ad67-8fc0fad7ac38"
      },
      "outputs": [
        {
          "output_type": "stream",
          "name": "stdout",
          "text": [
            "Are you sure you want to proceed? no\n",
            "The dangerous task has been aborted. If you want to proceed with it, please confirm again.\n"
          ]
        }
      ],
      "source": [
        "handler = workflow.run(user_msg=\"I want to proceed with the dangerous task.\")\n",
        "\n",
        "async for event in handler.stream_events():\n",
        "    # capture InputRequiredEvent\n",
        "    if isinstance(event, InputRequiredEvent):\n",
        "        # capture keyboard input\n",
        "        response = input(event.prefix)\n",
        "        # send our response back\n",
        "        handler.ctx.send_event(\n",
        "            HumanResponseEvent(\n",
        "                response=response,\n",
        "                user_name=event.user_name,\n",
        "            )\n",
        "        )\n",
        "\n",
        "response = await handler\n",
        "print(str(response))"
      ]
    },
    {
      "cell_type": "markdown",
      "source": [
        "## Congratulations!\n",
        "\n",
        "You've created your first agent. But `AgentWorkflow`s can do more than single agents; they can also create teams of agents that work together, a very flexible and powerful pattern. Let's see how that works by creating a system that can generate a report on a given topic."
      ],
      "metadata": {
        "id": "FiSJ0GxDabsb"
      }
    },
    {
      "cell_type": "markdown",
      "source": [
        "# Multi-agent System with AgentWorkflow\n",
        "\n",
        "Our system will have three agents:\n",
        "\n",
        "1. A `ResearchAgent` that will search the web for information on the given topic.\n",
        "2. A `WriteAgent` that will write the report using the information found by the `ResearchAgent`.\n",
        "3. A `ReviewAgent` that will review the report and provide feedback.\n",
        "\n",
        "We will use the `AgentWorkflow` class to create a multi-agent system that will execute these agents in order.\n",
        "\n",
        "There are a lot of ways we could go about building a system to perform this task. In this example, we will use a few tools to help with the research and writing processes.\n",
        "\n",
        "1. A `web_search` tool to search the web for information on the given topic.\n",
        "2. A `record_notes` tool which will save research found on the web to the state so that the other tools can use it.\n",
        "3. A `write_report` tool to write the report using the information found by the `ResearchAgent`\n",
        "4. A `review_report` tool to review the report and provide feedback.\n",
        "\n",
        "Utilizing the `Context` class, we can pass state between agents, and each agent will have access to the current state of the system.\n"
      ],
      "metadata": {
        "id": "FfaqqT4JayH2"
      }
    },
    {
      "cell_type": "markdown",
      "source": [
        "We'll use the same Tavily tool we used in our basic agent to help us again."
      ],
      "metadata": {
        "id": "PkdbK0q2a_9M"
      }
    },
    {
      "cell_type": "code",
      "source": [
        "async def search_web(query: str) -> str:\n",
        "    \"\"\"Useful for using the web to answer questions.\"\"\"\n",
        "    client = AsyncTavilyClient(api_key=tavily_api_key)\n",
        "    return str(await client.search(query))\n",
        "\n",
        "async def record_notes(ctx: Context, notes: str, notes_title: str) -> str:\n",
        "    \"\"\"Useful for recording notes on a given topic.\"\"\"\n",
        "    current_state = await ctx.get(\"state\")\n",
        "    if \"research_notes\" not in current_state:\n",
        "        current_state[\"research_notes\"] = {}\n",
        "    current_state[\"research_notes\"][notes_title] = notes\n",
        "    await ctx.set(\"state\", current_state)\n",
        "    return \"Notes recorded.\"\n",
        "\n",
        "async def write_report(ctx: Context, report_content: str) -> str:\n",
        "    \"\"\"Useful for writing a report on a given topic.\"\"\"\n",
        "    current_state = await ctx.get(\"state\")\n",
        "    current_state[\"report_content\"] = report_content\n",
        "    await ctx.set(\"state\", current_state)\n",
        "    return \"Report written.\"\n",
        "\n",
        "\n",
        "async def review_report(ctx: Context, review: str) -> str:\n",
        "    \"\"\"Useful for reviewing a report and providing feedback.\"\"\"\n",
        "    current_state = await ctx.get(\"state\")\n",
        "    current_state[\"review\"] = review\n",
        "    await ctx.set(\"state\", current_state)\n",
        "    return \"Report reviewed.\""
      ],
      "metadata": {
        "id": "2FSdTHAcbDxo"
      },
      "execution_count": 17,
      "outputs": []
    },
    {
      "cell_type": "markdown",
      "source": [
        "With our tools defined, we can now create our agents.\n",
        "\n",
        "If the LLM you are using supports tool calling (most big models do), you can use the `FunctionAgent` class, which is a little more efficient. Otherwise, you can use the `ReActAgent` class.\n",
        "\n",
        "Here, the name and description of each agent is used so that the system knows what each agent is responsible for and when to hand off control to the next agent.\n",
        "\n",
        "Like our single-agent system did before, each agent takes a `system_prompt` that tells it what it should do, and suggests how to work with the other agents.\n",
        "\n",
        "You can also optionally help your multi-agent system constrain itself by listing which other agents an agent can talk to using `can_handoff_to` (otherwise it will just try to figure this out on its own)."
      ],
      "metadata": {
        "id": "NysBWF0TdrLe"
      }
    },
    {
      "cell_type": "code",
      "source": [
        "from llama_index.core.agent.workflow import FunctionAgent, ReActAgent\n",
        "\n",
        "research_agent = FunctionAgent(\n",
        "    name=\"ResearchAgent\",\n",
        "    description=\"Useful for searching the web for information on a given topic and recording notes on the topic.\",\n",
        "    system_prompt=(\n",
        "        \"You are the ResearchAgent that can search the web for information on a given topic and record notes on the topic. \"\n",
        "        \"Once notes are recorded and you are satisfied, you should hand off control to the WriteAgent to write a report on the topic.\"\n",
        "    ),\n",
        "    llm=llm,\n",
        "    tools=[search_web, record_notes],\n",
        "    can_handoff_to=[\"WriteAgent\"],\n",
        ")\n",
        "\n",
        "write_agent = FunctionAgent(\n",
        "    name=\"WriteAgent\",\n",
        "    description=\"Useful for writing a report on a given topic.\",\n",
        "    system_prompt=(\n",
        "        \"You are the WriteAgent that can write a report on a given topic. \"\n",
        "        \"Your report should be in a markdown format. The content should be grounded in the research notes. \"\n",
        "        \"Once the report is written, you should get feedback at least once from the ReviewAgent.\"\n",
        "    ),\n",
        "    llm=llm,\n",
        "    tools=[write_report],\n",
        "    can_handoff_to=[\"ReviewAgent\", \"ResearchAgent\"],\n",
        ")\n",
        "\n",
        "review_agent = FunctionAgent(\n",
        "    name=\"ReviewAgent\",\n",
        "    description=\"Useful for reviewing a report and providing feedback.\",\n",
        "    system_prompt=(\n",
        "        \"You are the ReviewAgent that can review a report and provide feedback. \"\n",
        "        \"Your feedback should either approve the current report or request changes for the WriteAgent to implement.\"\n",
        "    ),\n",
        "    llm=llm,\n",
        "    tools=[review_report],\n",
        "    can_handoff_to=[\"ResearchAgent\",\"WriteAgent\"],\n",
        ")"
      ],
      "metadata": {
        "id": "nyYmO25nduSq"
      },
      "execution_count": 18,
      "outputs": []
    },
    {
      "cell_type": "markdown",
      "source": [
        "## Running the Workflow\n",
        "\n",
        "With our agents defined, we can create our `AgentWorkflow` and run it. Since this is a multi-agent system, instantiating it looks a little different. Instead of using the `from_tools_or_functions` helper, we instantiate it directly. It takes these arguments:\n",
        "* an array of agents\n",
        "* the name of the agent that it should start with (this will receive the initial `user_msg`)\n",
        "* an `initial_state` which populates the context variable `state` we mentioned earlier"
      ],
      "metadata": {
        "id": "1Pt0RUhodxQP"
      }
    },
    {
      "cell_type": "code",
      "source": [
        "from llama_index.core.agent.workflow import AgentWorkflow\n",
        "\n",
        "agent_workflow = AgentWorkflow(\n",
        "    agents=[research_agent, write_agent, review_agent],\n",
        "    root_agent=research_agent.name,\n",
        "    initial_state={\n",
        "        \"research_notes\": {},\n",
        "        \"report_content\": \"Not written yet.\",\n",
        "        \"review\": \"Review required.\",\n",
        "    },\n",
        ")"
      ],
      "metadata": {
        "id": "KiOguLyydzl3"
      },
      "execution_count": 19,
      "outputs": []
    },
    {
      "cell_type": "markdown",
      "source": [
        "As the workflow is running, we will stream the events to get an idea of what is happening under the hood. We've added some decoration to the output to make this a little easier to read."
      ],
      "metadata": {
        "id": "YoaXPKSCd3jw"
      }
    },
    {
      "cell_type": "code",
      "source": [
        "from llama_index.core.agent.workflow import (\n",
        "    AgentInput,\n",
        "    AgentOutput,\n",
        "    ToolCall,\n",
        "    ToolCallResult,\n",
        "    AgentStream,\n",
        ")\n",
        "\n",
        "handler = agent_workflow.run(\n",
        "    user_msg=\"\"\"Write me a report on the history of the web.\n",
        "      Briefly describe the history of the world wide web, including\n",
        "      the development of the internet and the development of the web,\n",
        "      including 21st century developments\"\"\"\n",
        ")\n",
        "\n",
        "current_agent = None\n",
        "current_tool_calls = \"\"\n",
        "async for event in handler.stream_events():\n",
        "    if (\n",
        "        hasattr(event, \"current_agent_name\")\n",
        "        and event.current_agent_name != current_agent\n",
        "    ):\n",
        "        current_agent = event.current_agent_name\n",
        "        print(f\"\\n{'='*50}\")\n",
        "        print(f\"🤖 Agent: {current_agent}\")\n",
        "        print(f\"{'='*50}\\n\")\n",
        "    elif isinstance(event, AgentOutput):\n",
        "        if event.response.content:\n",
        "            print(\"📤 Output:\", event.response.content)\n",
        "        if event.tool_calls:\n",
        "            print(\n",
        "                \"🛠️  Planning to use tools:\",\n",
        "                [call.tool_name for call in event.tool_calls],\n",
        "            )\n",
        "    elif isinstance(event, ToolCallResult):\n",
        "        print(f\"🔧 Tool Result ({event.tool_name}):\")\n",
        "        print(f\"  Arguments: {event.tool_kwargs}\")\n",
        "        print(f\"  Output: {event.tool_output}\")\n",
        "    elif isinstance(event, ToolCall):\n",
        "        print(f\"🔨 Calling Tool: {event.tool_name}\")\n",
        "        print(f\"  With arguments: {event.tool_kwargs}\")"
      ],
      "metadata": {
        "colab": {
          "base_uri": "https://localhost:8080/"
        },
        "id": "N0bahrGzd5_1",
        "outputId": "c543eea3-a860-48e4-8610-2fb6e1a6e6af"
      },
      "execution_count": 20,
      "outputs": [
        {
          "output_type": "stream",
          "name": "stdout",
          "text": [
            "\n",
            "==================================================\n",
            "🤖 Agent: ResearchAgent\n",
            "==================================================\n",
            "\n",
            "🛠️  Planning to use tools: ['search_web']\n",
            "🔨 Calling Tool: search_web\n",
            "  With arguments: {'query': 'history of the world wide web including development of the internet and 21st century developments'}\n",
            "🔧 Tool Result (search_web):\n",
            "  Arguments: {'query': 'history of the world wide web including development of the internet and 21st century developments'}\n",
            "  Output: {'query': 'history of the world wide web including development of the internet and 21st century developments', 'follow_up_questions': None, 'answer': None, 'images': [], 'results': [{'title': 'History of the Internet and World Wide Web (WWW)', 'url': 'https://www.encyclopedia.com/economics/encyclopedias-almanacs-transcripts-and-maps/history-internet-and-world-wide-web-www', 'content': 'Perhaps the invention that most facilitated the growth of the Internet as a global information-sharing system is the World Wide Web. Unlike the Internet, however, the early design and development of the World Wide Web was primarily the doing of just one person: Tim Berners-Lee. Working as a contract programmer at the Geneva, Switzerland-based Centre Europen de Recherche Nucleaire (European Laboratory for Particle Physics, or CERN), Berners-Lee repeatedly proposed to develop a global interactive interface for use on the Internet so as to turn the fragmented and relatively exclusive Internet into a popular and seamless whole. SEE ALSO: ARPAnet; Berners-Lee, Tim; BITNET; Communications Protocol; Internet; Internet Society (ISOC); Local Area Network (LAN); Three Protocols, The; URL (Uniform Resource Locator); World Wide Web (WWW); World Wide Web Consortium (W3C)', 'score': 0.5271467, 'raw_content': None}, {'title': 'Rise of the Internet and the World Wide Web | EBSCO', 'url': 'https://www.ebsco.com/research-starters/history/rise-internet-and-world-wide-web', 'content': 'Rise of the Internet and the World Wide Web | EBSCO Research Starters The rise of the Internet and the World Wide Web marks a significant transformation in global communication and information exchange. The World Wide Web, introduced by Tim Berners-Lee in 1990, provided a more accessible interface, enabling users to navigate information through hypertext links. The Internet is a loose collection of interconnecting commercial and noncommercial computer networks, including online information services, that use standard protocols (or rules) to exchange information. The World Wide Web, or Web, is a user-friendly “front end” to the information already on the Internet. He developed the standards for addressing, linking language, and transferring multimedia documents on the Web. This software provided a protocol for requesting readable information (including text, graphics, figures, and databases) stored on remote computer systems, using networks.', 'score': 0.4549328, 'raw_content': None}, {'title': 'Development of the Internet and the World Wide Web', 'url': 'https://nap.nationalacademies.org/read/6323/chapter/9', 'content': 'The recent growth of the Internet and the World Wide Web makes it appear that the world is witnessing the arrival of a completely new technology. In fact, the Web—now considered to be a major driver of the way society accesses and views information—is the result of numerous projects in computer networking, mostly funded by the federal', 'score': 0.4154922, 'raw_content': None}, {'title': 'History of the World Wide Web - Wikipedia', 'url': 'https://en.wikipedia.org/wiki/History_of_the_World_Wide_Web', 'content': \"In response, on 30 April 1993, CERN announced that the World Wide Web would be free to anyone, with no fees due, and released their code into the public domain.[37] This made it possible to develop servers and clients independently and to add extensions without licensing restrictions.[citation needed] Coming two months after the announcement that the server implementation of the Gopher protocol was no longer free to use, this spurred the development of various browsers which precipitated a rapid shift away from Gopher.[38] By releasing Berners-Lee's invention for public use, CERN encouraged and enabled its widespread use.[39]\", 'score': 0.4066976, 'raw_content': None}, {'title': 'PDF', 'url': 'https://ijstr.org/final-print/sep2019/Development-History-Of-The-World-Wide-Web.pdf', 'content': 'Web 2.0 Started in 2003 by Dale Dougherty Read and Write user can post and write on sits JavaScript and XML, DOM, REST, XML and CSS Most popular web and it is allow user more features Web 3.0 started in 2014 Executable more features allows the user execute some application LLC, CEO HTML5, CSS JavaScript Very rich feature for user but not standardized all levels Semantic Web Started in 2015 Very intelligence easy for user RDF,RDFS, OWL and SPARQL More intelligent for search about information but complex for developer 4 CONCLUSION Through the history of web developments, we noticed that the web is growing form the basic web that just has very few tools and control into huge intelligence database of information.', 'score': 0.38929167, 'raw_content': None}], 'response_time': 2.09}\n",
            "🛠️  Planning to use tools: ['record_notes', 'record_notes']\n",
            "🔨 Calling Tool: record_notes\n",
            "  With arguments: {'notes': 'The World Wide Web was primarily developed by Tim Berners-Lee in 1990 while working at CERN. He proposed a global interactive interface for the Internet to make it more accessible and seamless. The Web introduced standards for addressing, linking language, and transferring multimedia documents, enabling users to navigate information through hypertext links.\\n\\nThe Internet itself is a collection of interconnected computer networks using standard protocols to exchange information. The Web acts as a user-friendly front end to the information on the Internet.\\n\\nIn 1993, CERN released the World Wide Web code into the public domain, allowing free use and development of servers and clients without licensing restrictions. This spurred rapid growth and the development of various web browsers.\\n\\nIn the 21st century, the Web evolved through stages such as Web 2.0 starting in 2003, which introduced interactive features allowing users to post and write content, using technologies like JavaScript, XML, DOM, REST, and CSS.\\n\\nWeb 3.0 began around 2014, focusing on richer features and more executable applications, though not fully standardized. Semantic Web developments started around 2015, aiming to create more intelligent and user-friendly search capabilities using technologies like RDF, RDFS, OWL, and SPARQL.\\n\\nOverall, the Web has grown from a basic tool to a complex, intelligent database of information, significantly transforming global communication and information exchange.', 'notes_title': 'History of the World Wide Web and Internet Development'}\n",
            "🔧 Tool Result (record_notes):\n",
            "  Arguments: {'notes': 'The World Wide Web was primarily developed by Tim Berners-Lee in 1990 while working at CERN. He proposed a global interactive interface for the Internet to make it more accessible and seamless. The Web introduced standards for addressing, linking language, and transferring multimedia documents, enabling users to navigate information through hypertext links.\\n\\nThe Internet itself is a collection of interconnected computer networks using standard protocols to exchange information. The Web acts as a user-friendly front end to the information on the Internet.\\n\\nIn 1993, CERN released the World Wide Web code into the public domain, allowing free use and development of servers and clients without licensing restrictions. This spurred rapid growth and the development of various web browsers.\\n\\nIn the 21st century, the Web evolved through stages such as Web 2.0 starting in 2003, which introduced interactive features allowing users to post and write content, using technologies like JavaScript, XML, DOM, REST, and CSS.\\n\\nWeb 3.0 began around 2014, focusing on richer features and more executable applications, though not fully standardized. Semantic Web developments started around 2015, aiming to create more intelligent and user-friendly search capabilities using technologies like RDF, RDFS, OWL, and SPARQL.\\n\\nOverall, the Web has grown from a basic tool to a complex, intelligent database of information, significantly transforming global communication and information exchange.', 'notes_title': 'History of the World Wide Web and Internet Development'}\n",
            "  Output: Notes recorded.\n",
            "🔨 Calling Tool: record_notes\n",
            "  With arguments: {'notes': \"The Internet originated from research projects funded by the U.S. federal government, including ARPANET, which was the first operational packet-switching network and the precursor to the Internet.\\n\\nTim Berners-Lee's invention of the World Wide Web provided a more accessible interface to the Internet, facilitating the growth of the Internet as a global information-sharing system.\\n\\nThe release of the Web by CERN in 1993 as free and open software encouraged widespread adoption and innovation.\\n\\nThe transition from early web protocols like Gopher to the Web was accelerated by the free availability of the Web's code.\\n\\nThe 21st century has seen significant developments including the rise of Web 2.0 with interactive and social web features, and the emergence of Web 3.0 and the Semantic Web, which focus on richer user experiences and intelligent data processing.\", 'notes_title': 'Development and Evolution of the Internet and World Wide Web'}\n",
            "🔧 Tool Result (record_notes):\n",
            "  Arguments: {'notes': \"The Internet originated from research projects funded by the U.S. federal government, including ARPANET, which was the first operational packet-switching network and the precursor to the Internet.\\n\\nTim Berners-Lee's invention of the World Wide Web provided a more accessible interface to the Internet, facilitating the growth of the Internet as a global information-sharing system.\\n\\nThe release of the Web by CERN in 1993 as free and open software encouraged widespread adoption and innovation.\\n\\nThe transition from early web protocols like Gopher to the Web was accelerated by the free availability of the Web's code.\\n\\nThe 21st century has seen significant developments including the rise of Web 2.0 with interactive and social web features, and the emergence of Web 3.0 and the Semantic Web, which focus on richer user experiences and intelligent data processing.\", 'notes_title': 'Development and Evolution of the Internet and World Wide Web'}\n",
            "  Output: Notes recorded.\n",
            "🛠️  Planning to use tools: ['handoff']\n",
            "🔨 Calling Tool: handoff\n",
            "  With arguments: {'to_agent': 'WriteAgent', 'reason': 'Research on the history of the web and internet development is complete. Ready to write the report.'}\n",
            "🔧 Tool Result (handoff):\n",
            "  Arguments: {'to_agent': 'WriteAgent', 'reason': 'Research on the history of the web and internet development is complete. Ready to write the report.'}\n",
            "  Output: Agent WriteAgent is now handling the request due to the following reason: Research on the history of the web and internet development is complete. Ready to write the report..\n",
            "Please continue with the current request.\n",
            "\n",
            "==================================================\n",
            "🤖 Agent: WriteAgent\n",
            "==================================================\n",
            "\n",
            "🛠️  Planning to use tools: ['write_report']\n",
            "🔨 Calling Tool: write_report\n",
            "  With arguments: {'report_content': '# History of the World Wide Web\\n\\nThe history of the World Wide Web is closely intertwined with the development of the Internet, both of which have profoundly transformed global communication and information exchange.\\n\\n## Development of the Internet\\n\\nThe Internet originated from research projects funded by the U.S. federal government, notably ARPANET, which was the first operational packet-switching network and served as the precursor to the modern Internet. The Internet is essentially a vast collection of interconnected computer networks that use standard protocols to exchange information.\\n\\n## Invention of the World Wide Web\\n\\nThe World Wide Web was primarily developed by Tim Berners-Lee in 1990 while he was working at CERN, the European Laboratory for Particle Physics. Berners-Lee proposed a global interactive interface for the Internet to make it more accessible and seamless. He developed the standards for addressing, linking language (HTML), and transferring multimedia documents, enabling users to navigate information through hypertext links.\\n\\nIn 1993, CERN released the World Wide Web code into the public domain, allowing free use and development of servers and clients without licensing restrictions. This pivotal move spurred rapid growth and the development of various web browsers, accelerating the adoption of the Web over earlier protocols like Gopher.\\n\\n## 21st Century Developments\\n\\nThe 21st century has seen significant evolution of the Web:\\n\\n- **Web 2.0 (starting around 2003):** Marked by interactive and social web features, Web 2.0 allowed users to post, write, and interact with content. Technologies such as JavaScript, XML, DOM, REST, and CSS played key roles in enabling these capabilities.\\n\\n- **Web 3.0 (emerging around 2014):** Focused on richer user experiences and more executable applications, Web 3.0 introduced advanced features though it is not yet fully standardized.\\n\\n- **Semantic Web (starting around 2015):** Aimed at creating more intelligent and user-friendly search capabilities, the Semantic Web uses technologies like RDF, RDFS, OWL, and SPARQL to enable machines to understand and process web content more effectively.\\n\\n## Conclusion\\n\\nFrom its origins as a basic tool to access information on interconnected networks, the World Wide Web has grown into a complex, intelligent database of information. It continues to drive the way society accesses, shares, and interacts with information globally, shaping the modern digital landscape.'}\n",
            "🔧 Tool Result (write_report):\n",
            "  Arguments: {'report_content': '# History of the World Wide Web\\n\\nThe history of the World Wide Web is closely intertwined with the development of the Internet, both of which have profoundly transformed global communication and information exchange.\\n\\n## Development of the Internet\\n\\nThe Internet originated from research projects funded by the U.S. federal government, notably ARPANET, which was the first operational packet-switching network and served as the precursor to the modern Internet. The Internet is essentially a vast collection of interconnected computer networks that use standard protocols to exchange information.\\n\\n## Invention of the World Wide Web\\n\\nThe World Wide Web was primarily developed by Tim Berners-Lee in 1990 while he was working at CERN, the European Laboratory for Particle Physics. Berners-Lee proposed a global interactive interface for the Internet to make it more accessible and seamless. He developed the standards for addressing, linking language (HTML), and transferring multimedia documents, enabling users to navigate information through hypertext links.\\n\\nIn 1993, CERN released the World Wide Web code into the public domain, allowing free use and development of servers and clients without licensing restrictions. This pivotal move spurred rapid growth and the development of various web browsers, accelerating the adoption of the Web over earlier protocols like Gopher.\\n\\n## 21st Century Developments\\n\\nThe 21st century has seen significant evolution of the Web:\\n\\n- **Web 2.0 (starting around 2003):** Marked by interactive and social web features, Web 2.0 allowed users to post, write, and interact with content. Technologies such as JavaScript, XML, DOM, REST, and CSS played key roles in enabling these capabilities.\\n\\n- **Web 3.0 (emerging around 2014):** Focused on richer user experiences and more executable applications, Web 3.0 introduced advanced features though it is not yet fully standardized.\\n\\n- **Semantic Web (starting around 2015):** Aimed at creating more intelligent and user-friendly search capabilities, the Semantic Web uses technologies like RDF, RDFS, OWL, and SPARQL to enable machines to understand and process web content more effectively.\\n\\n## Conclusion\\n\\nFrom its origins as a basic tool to access information on interconnected networks, the World Wide Web has grown into a complex, intelligent database of information. It continues to drive the way society accesses, shares, and interacts with information globally, shaping the modern digital landscape.'}\n",
            "  Output: Report written.\n",
            "🛠️  Planning to use tools: ['handoff']\n",
            "🔨 Calling Tool: handoff\n",
            "  With arguments: {'to_agent': 'ReviewAgent', 'reason': 'The report on the history of the web has been written and needs review.'}\n",
            "🔧 Tool Result (handoff):\n",
            "  Arguments: {'to_agent': 'ReviewAgent', 'reason': 'The report on the history of the web has been written and needs review.'}\n",
            "  Output: Agent ReviewAgent is now handling the request due to the following reason: The report on the history of the web has been written and needs review..\n",
            "Please continue with the current request.\n",
            "\n",
            "==================================================\n",
            "🤖 Agent: ReviewAgent\n",
            "==================================================\n",
            "\n",
            "🛠️  Planning to use tools: ['review_report']\n",
            "🔨 Calling Tool: review_report\n",
            "  With arguments: {'review': \"The report provides a clear and concise overview of the history of the World Wide Web, including the development of the Internet and key 21st century developments. It accurately covers the origins of the Internet with ARPANET, the invention of the Web by Tim Berners-Lee at CERN, and the significance of releasing the Web code into the public domain in 1993. The report also effectively summarizes the evolution of the Web through Web 2.0, Web 3.0, and the Semantic Web, highlighting important technologies and their impact.\\n\\nThe structure is logical, starting with the Internet's background, moving to the Web's invention, and concluding with modern developments. The language is clear and accessible, suitable for a general audience.\\n\\nOverall, the report meets the requirements and provides a well-rounded summary of the topic. No major changes are necessary.\"}\n",
            "🔧 Tool Result (review_report):\n",
            "  Arguments: {'review': \"The report provides a clear and concise overview of the history of the World Wide Web, including the development of the Internet and key 21st century developments. It accurately covers the origins of the Internet with ARPANET, the invention of the Web by Tim Berners-Lee at CERN, and the significance of releasing the Web code into the public domain in 1993. The report also effectively summarizes the evolution of the Web through Web 2.0, Web 3.0, and the Semantic Web, highlighting important technologies and their impact.\\n\\nThe structure is logical, starting with the Internet's background, moving to the Web's invention, and concluding with modern developments. The language is clear and accessible, suitable for a general audience.\\n\\nOverall, the report meets the requirements and provides a well-rounded summary of the topic. No major changes are necessary.\"}\n",
            "  Output: Report reviewed.\n",
            "📤 Output: The report on the history of the web is well-written, clear, and comprehensive. It covers the development of the Internet and the World Wide Web, including key milestones such as Tim Berners-Lee's invention, the public release of the Web code, and significant 21st century developments like Web 2.0, Web 3.0, and the Semantic Web. The structure and language are appropriate for a general audience. No changes are needed. The report is approved.\n"
          ]
        }
      ]
    },
    {
      "cell_type": "markdown",
      "source": [
        "Now we can see the final output:"
      ],
      "metadata": {
        "id": "h1JccN5cebfc"
      }
    },
    {
      "cell_type": "code",
      "source": [
        "state = await handler.ctx.get(\"state\")\n",
        "print(state[\"report_content\"])"
      ],
      "metadata": {
        "colab": {
          "base_uri": "https://localhost:8080/"
        },
        "id": "DTevKuAYedci",
        "outputId": "fad651e3-d374-4d74-e637-8b93eeee516b"
      },
      "execution_count": 21,
      "outputs": [
        {
          "output_type": "stream",
          "name": "stdout",
          "text": [
            "# History of the World Wide Web\n",
            "\n",
            "The history of the World Wide Web is closely intertwined with the development of the Internet, both of which have profoundly transformed global communication and information exchange.\n",
            "\n",
            "## Development of the Internet\n",
            "\n",
            "The Internet originated from research projects funded by the U.S. federal government, notably ARPANET, which was the first operational packet-switching network and served as the precursor to the modern Internet. The Internet is essentially a vast collection of interconnected computer networks that use standard protocols to exchange information.\n",
            "\n",
            "## Invention of the World Wide Web\n",
            "\n",
            "The World Wide Web was primarily developed by Tim Berners-Lee in 1990 while he was working at CERN, the European Laboratory for Particle Physics. Berners-Lee proposed a global interactive interface for the Internet to make it more accessible and seamless. He developed the standards for addressing, linking language (HTML), and transferring multimedia documents, enabling users to navigate information through hypertext links.\n",
            "\n",
            "In 1993, CERN released the World Wide Web code into the public domain, allowing free use and development of servers and clients without licensing restrictions. This pivotal move spurred rapid growth and the development of various web browsers, accelerating the adoption of the Web over earlier protocols like Gopher.\n",
            "\n",
            "## 21st Century Developments\n",
            "\n",
            "The 21st century has seen significant evolution of the Web:\n",
            "\n",
            "- **Web 2.0 (starting around 2003):** Marked by interactive and social web features, Web 2.0 allowed users to post, write, and interact with content. Technologies such as JavaScript, XML, DOM, REST, and CSS played key roles in enabling these capabilities.\n",
            "\n",
            "- **Web 3.0 (emerging around 2014):** Focused on richer user experiences and more executable applications, Web 3.0 introduced advanced features though it is not yet fully standardized.\n",
            "\n",
            "- **Semantic Web (starting around 2015):** Aimed at creating more intelligent and user-friendly search capabilities, the Semantic Web uses technologies like RDF, RDFS, OWL, and SPARQL to enable machines to understand and process web content more effectively.\n",
            "\n",
            "## Conclusion\n",
            "\n",
            "From its origins as a basic tool to access information on interconnected networks, the World Wide Web has grown into a complex, intelligent database of information. It continues to drive the way society accesses, shares, and interacts with information globally, shaping the modern digital landscape.\n"
          ]
        }
      ]
    },
    {
      "cell_type": "markdown",
      "source": [
        "And also what the reviewer agent thought. The reviewer agent could have decided to hand back control to the `WriteAgent` to try again, but in this case it did not."
      ],
      "metadata": {
        "id": "KBJA5pJ9ZeBt"
      }
    },
    {
      "cell_type": "code",
      "source": [
        "print(state[\"review\"])"
      ],
      "metadata": {
        "colab": {
          "base_uri": "https://localhost:8080/"
        },
        "id": "izgsc1MkWmOO",
        "outputId": "e202de63-301b-48f7-fcf7-41d847c8b7ef"
      },
      "execution_count": 22,
      "outputs": [
        {
          "output_type": "stream",
          "name": "stdout",
          "text": [
            "The report provides a clear and concise overview of the history of the World Wide Web, including the development of the Internet and key 21st century developments. It accurately covers the origins of the Internet with ARPANET, the invention of the Web by Tim Berners-Lee at CERN, and the significance of releasing the Web code into the public domain in 1993. The report also effectively summarizes the evolution of the Web through Web 2.0, Web 3.0, and the Semantic Web, highlighting important technologies and their impact.\n",
            "\n",
            "The structure is logical, starting with the Internet's background, moving to the Web's invention, and concluding with modern developments. The language is clear and accessible, suitable for a general audience.\n",
            "\n",
            "Overall, the report meets the requirements and provides a well-rounded summary of the topic. No major changes are necessary.\n"
          ]
        }
      ]
    },
    {
      "cell_type": "markdown",
      "source": [
        "## Congratulations again!\n",
        "\n",
        "You've successfully put together a multi-agent system using `AgentWorkflow`. `AgentWorkflow` is designed to be a simple jumping-off point for putting together a team of agents to solve a problem. But LlamaIndex can do even more!"
      ],
      "metadata": {
        "id": "nIJWflLAg6zr"
      }
    },
    {
      "cell_type": "markdown",
      "source": [
        "# Building agentic workflows from scratch\n",
        "\n",
        "As mentioned, `AgentWorkflow` is a pre-built `Workflow`, so you've already encountered many of the concepts you need to build a workflow from scratch.\n",
        "\n",
        "You can easily build your own workflows directly to create multi-agent systems that are customized to your needs. There's a number of reasons you might want to branch out from AgentWorkflow to rolling your own workflow:\n",
        "\n",
        "* **Fine-grained flow control**: Workflows allow looping, branching, parallel calls and map-reduce behavior. Workflows allow you to precisely specify how data gets passed around your system.\n",
        "\n",
        "* **Structured inputs and outputs**: If you want your inputs and outputs to be richer than simple strings, or to kick off with more than just a `user_msg`, workflows allow you to do that.\n",
        "\n",
        "* **Multimodality**: LlamaIndex can handle more than just text! You can handle images, audio and video as well.\n",
        "\n",
        "* **Query planning**: a custom workflow can execute complex planning of how to run based on its inputs, rather than immediately jumping into a team.\n",
        "\n",
        "* **Reflection**: A powerful technique for agents is their ability to examine their own output and decide whether it's sufficient, or if they need to try again. Using looping, you can implement this pattern.\n"
      ],
      "metadata": {
        "id": "fe0jHDkRkdut"
      }
    },
    {
      "cell_type": "markdown",
      "source": [
        "## Creating a new workflow\n",
        "\n",
        "Under the hood, Workflows are regular Python classes. They are defined as a series of `steps`, each of which receives certain classes of events and emits certain classes of events.\n",
        "\n",
        "Here's the most basic form of a workflow, with a single step:"
      ],
      "metadata": {
        "id": "BdivtbxHmxjL"
      }
    },
    {
      "cell_type": "code",
      "source": [
        "from llama_index.core.workflow import (\n",
        "    StartEvent,\n",
        "    StopEvent,\n",
        "    Workflow,\n",
        "    step,\n",
        ")\n",
        "\n",
        "class MyWorkflow(Workflow):\n",
        "    @step\n",
        "    async def my_step(self, ev: StartEvent) -> StopEvent:\n",
        "        # do something here\n",
        "        return StopEvent(result=\"Hello, world!\")"
      ],
      "metadata": {
        "id": "fMCRR_GenK1N"
      },
      "execution_count": 23,
      "outputs": []
    },
    {
      "cell_type": "markdown",
      "source": [
        "This new `MyWorkflow` class:\n",
        "* Uses the `@step` decorator to declare a function to be a step\n",
        "* Has a single step called `my_step` which accepts a `StartEvent`. `StartEvent` is a special event which is always generated when a workflow first runs.\n",
        "* `my_step` returns a `StopEvent`, which is another special event. When a `StopEvent` is emitted the workflow returns it and stops running.\n",
        "\n",
        "You instantiate it and run it just like you ran the the `AgentWorkflow`:"
      ],
      "metadata": {
        "id": "cBGDxot7nUjG"
      }
    },
    {
      "cell_type": "code",
      "source": [
        "workflow = MyWorkflow(timeout=10, verbose=False)\n",
        "result = await workflow.run()\n",
        "print(result)"
      ],
      "metadata": {
        "colab": {
          "base_uri": "https://localhost:8080/"
        },
        "id": "AlZBKZKhn3hB",
        "outputId": "40c835e7-545f-4494-8254-f1c23bdc2e15"
      },
      "execution_count": 24,
      "outputs": [
        {
          "output_type": "stream",
          "name": "stdout",
          "text": [
            "Hello, world!\n"
          ]
        }
      ]
    },
    {
      "cell_type": "markdown",
      "source": [
        "## Type annotations for steps\n",
        "\n",
        "The type annotations (e.g. `ev: StartEvent` and `-> StopEvent`) are essential to the way Workflows work. The expected types determine what event types will trigger a step. Tools like the visualizer (see later) also rely on these annotations to determine what types are generated and therefore where control flow goes next."
      ],
      "metadata": {
        "id": "cLtZoxLRoeTQ"
      }
    },
    {
      "cell_type": "markdown",
      "source": [
        "## Aside: running a workflow in regular python\n",
        "\n",
        "Workflows are async by default, so you use `await` to get the result of the `run` command. This will work fine in a notebook environment; in a vanilla python script you will need to import `asyncio` and wrap your code in an async function, like this:\n",
        "\n",
        "```\n",
        "async def main():\n",
        "    w = MyWorkflow(timeout=10, verbose=False)\n",
        "    result = await w.run()\n",
        "    print(result)\n",
        "\n",
        "\n",
        "if __name__ == \"__main__\":\n",
        "    import asyncio\n",
        "    asyncio.run(main())\n",
        "```\n",
        "\n",
        "Since we're in a notebook right now, we won't execute the above code as it won't work!"
      ],
      "metadata": {
        "id": "T6zX3DLipK2S"
      }
    },
    {
      "cell_type": "markdown",
      "source": [
        "## Visualizing a workflow\n",
        "\n",
        "A great feature of workflows is the built-in visualizer, which we will install now:\n"
      ],
      "metadata": {
        "id": "0Z0RQiJ2poca"
      }
    },
    {
      "cell_type": "code",
      "source": [
        "!pip install llama-index-utils-workflow"
      ],
      "metadata": {
        "colab": {
          "base_uri": "https://localhost:8080/"
        },
        "collapsed": true,
        "id": "WQrdF_1MpSAp",
        "outputId": "6281dca5-1e99-4d48-af8f-3fa47758bbbc"
      },
      "execution_count": 25,
      "outputs": [
        {
          "output_type": "stream",
          "name": "stdout",
          "text": [
            "Collecting llama-index-utils-workflow\n",
            "  Downloading llama_index_utils_workflow-0.3.2-py3-none-any.whl.metadata (379 bytes)\n",
            "Requirement already satisfied: llama-index-core<0.13,>=0.12.0 in /usr/local/lib/python3.11/dist-packages (from llama-index-utils-workflow) (0.12.36)\n",
            "Collecting pyvis<0.4,>=0.3.2 (from llama-index-utils-workflow)\n",
            "  Downloading pyvis-0.3.2-py3-none-any.whl.metadata (1.7 kB)\n",
            "Requirement already satisfied: aiohttp<4,>=3.8.6 in /usr/local/lib/python3.11/dist-packages (from llama-index-core<0.13,>=0.12.0->llama-index-utils-workflow) (3.11.15)\n",
            "Requirement already satisfied: aiosqlite in /usr/local/lib/python3.11/dist-packages (from llama-index-core<0.13,>=0.12.0->llama-index-utils-workflow) (0.21.0)\n",
            "Requirement already satisfied: banks<3,>=2.0.0 in /usr/local/lib/python3.11/dist-packages (from llama-index-core<0.13,>=0.12.0->llama-index-utils-workflow) (2.1.2)\n",
            "Requirement already satisfied: dataclasses-json in /usr/local/lib/python3.11/dist-packages (from llama-index-core<0.13,>=0.12.0->llama-index-utils-workflow) (0.6.7)\n",
            "Requirement already satisfied: deprecated>=1.2.9.3 in /usr/local/lib/python3.11/dist-packages (from llama-index-core<0.13,>=0.12.0->llama-index-utils-workflow) (1.2.18)\n",
            "Requirement already satisfied: dirtyjson<2,>=1.0.8 in /usr/local/lib/python3.11/dist-packages (from llama-index-core<0.13,>=0.12.0->llama-index-utils-workflow) (1.0.8)\n",
            "Requirement already satisfied: filetype<2,>=1.2.0 in /usr/local/lib/python3.11/dist-packages (from llama-index-core<0.13,>=0.12.0->llama-index-utils-workflow) (1.2.0)\n",
            "Requirement already satisfied: fsspec>=2023.5.0 in /usr/local/lib/python3.11/dist-packages (from llama-index-core<0.13,>=0.12.0->llama-index-utils-workflow) (2025.3.2)\n",
            "Requirement already satisfied: httpx in /usr/local/lib/python3.11/dist-packages (from llama-index-core<0.13,>=0.12.0->llama-index-utils-workflow) (0.28.1)\n",
            "Requirement already satisfied: nest-asyncio<2,>=1.5.8 in /usr/local/lib/python3.11/dist-packages (from llama-index-core<0.13,>=0.12.0->llama-index-utils-workflow) (1.6.0)\n",
            "Requirement already satisfied: networkx>=3.0 in /usr/local/lib/python3.11/dist-packages (from llama-index-core<0.13,>=0.12.0->llama-index-utils-workflow) (3.4.2)\n",
            "Requirement already satisfied: nltk>3.8.1 in /usr/local/lib/python3.11/dist-packages (from llama-index-core<0.13,>=0.12.0->llama-index-utils-workflow) (3.9.1)\n",
            "Requirement already satisfied: numpy in /usr/local/lib/python3.11/dist-packages (from llama-index-core<0.13,>=0.12.0->llama-index-utils-workflow) (2.0.2)\n",
            "Requirement already satisfied: pillow>=9.0.0 in /usr/local/lib/python3.11/dist-packages (from llama-index-core<0.13,>=0.12.0->llama-index-utils-workflow) (11.2.1)\n",
            "Requirement already satisfied: pydantic>=2.8.0 in /usr/local/lib/python3.11/dist-packages (from llama-index-core<0.13,>=0.12.0->llama-index-utils-workflow) (2.11.4)\n",
            "Requirement already satisfied: pyyaml>=6.0.1 in /usr/local/lib/python3.11/dist-packages (from llama-index-core<0.13,>=0.12.0->llama-index-utils-workflow) (6.0.2)\n",
            "Requirement already satisfied: requests>=2.31.0 in /usr/local/lib/python3.11/dist-packages (from llama-index-core<0.13,>=0.12.0->llama-index-utils-workflow) (2.32.3)\n",
            "Requirement already satisfied: sqlalchemy>=1.4.49 in /usr/local/lib/python3.11/dist-packages (from sqlalchemy[asyncio]>=1.4.49->llama-index-core<0.13,>=0.12.0->llama-index-utils-workflow) (2.0.40)\n",
            "Requirement already satisfied: tenacity!=8.4.0,<10.0.0,>=8.2.0 in /usr/local/lib/python3.11/dist-packages (from llama-index-core<0.13,>=0.12.0->llama-index-utils-workflow) (9.1.2)\n",
            "Requirement already satisfied: tiktoken>=0.7.0 in /usr/local/lib/python3.11/dist-packages (from llama-index-core<0.13,>=0.12.0->llama-index-utils-workflow) (0.9.0)\n",
            "Requirement already satisfied: tqdm<5,>=4.66.1 in /usr/local/lib/python3.11/dist-packages (from llama-index-core<0.13,>=0.12.0->llama-index-utils-workflow) (4.67.1)\n",
            "Requirement already satisfied: typing-extensions>=4.5.0 in /usr/local/lib/python3.11/dist-packages (from llama-index-core<0.13,>=0.12.0->llama-index-utils-workflow) (4.13.2)\n",
            "Requirement already satisfied: typing-inspect>=0.8.0 in /usr/local/lib/python3.11/dist-packages (from llama-index-core<0.13,>=0.12.0->llama-index-utils-workflow) (0.9.0)\n",
            "Requirement already satisfied: wrapt in /usr/local/lib/python3.11/dist-packages (from llama-index-core<0.13,>=0.12.0->llama-index-utils-workflow) (1.17.2)\n",
            "Requirement already satisfied: ipython>=5.3.0 in /usr/local/lib/python3.11/dist-packages (from pyvis<0.4,>=0.3.2->llama-index-utils-workflow) (7.34.0)\n",
            "Requirement already satisfied: jinja2>=2.9.6 in /usr/local/lib/python3.11/dist-packages (from pyvis<0.4,>=0.3.2->llama-index-utils-workflow) (3.1.6)\n",
            "Requirement already satisfied: jsonpickle>=1.4.1 in /usr/local/lib/python3.11/dist-packages (from pyvis<0.4,>=0.3.2->llama-index-utils-workflow) (4.0.5)\n",
            "Requirement already satisfied: aiohappyeyeballs>=2.3.0 in /usr/local/lib/python3.11/dist-packages (from aiohttp<4,>=3.8.6->llama-index-core<0.13,>=0.12.0->llama-index-utils-workflow) (2.6.1)\n",
            "Requirement already satisfied: aiosignal>=1.1.2 in /usr/local/lib/python3.11/dist-packages (from aiohttp<4,>=3.8.6->llama-index-core<0.13,>=0.12.0->llama-index-utils-workflow) (1.3.2)\n",
            "Requirement already satisfied: attrs>=17.3.0 in /usr/local/lib/python3.11/dist-packages (from aiohttp<4,>=3.8.6->llama-index-core<0.13,>=0.12.0->llama-index-utils-workflow) (25.3.0)\n",
            "Requirement already satisfied: frozenlist>=1.1.1 in /usr/local/lib/python3.11/dist-packages (from aiohttp<4,>=3.8.6->llama-index-core<0.13,>=0.12.0->llama-index-utils-workflow) (1.6.0)\n",
            "Requirement already satisfied: multidict<7.0,>=4.5 in /usr/local/lib/python3.11/dist-packages (from aiohttp<4,>=3.8.6->llama-index-core<0.13,>=0.12.0->llama-index-utils-workflow) (6.4.3)\n",
            "Requirement already satisfied: propcache>=0.2.0 in /usr/local/lib/python3.11/dist-packages (from aiohttp<4,>=3.8.6->llama-index-core<0.13,>=0.12.0->llama-index-utils-workflow) (0.3.1)\n",
            "Requirement already satisfied: yarl<2.0,>=1.17.0 in /usr/local/lib/python3.11/dist-packages (from aiohttp<4,>=3.8.6->llama-index-core<0.13,>=0.12.0->llama-index-utils-workflow) (1.20.0)\n",
            "Requirement already satisfied: griffe in /usr/local/lib/python3.11/dist-packages (from banks<3,>=2.0.0->llama-index-core<0.13,>=0.12.0->llama-index-utils-workflow) (1.7.3)\n",
            "Requirement already satisfied: platformdirs in /usr/local/lib/python3.11/dist-packages (from banks<3,>=2.0.0->llama-index-core<0.13,>=0.12.0->llama-index-utils-workflow) (4.3.8)\n",
            "Requirement already satisfied: setuptools>=18.5 in /usr/local/lib/python3.11/dist-packages (from ipython>=5.3.0->pyvis<0.4,>=0.3.2->llama-index-utils-workflow) (75.2.0)\n",
            "Collecting jedi>=0.16 (from ipython>=5.3.0->pyvis<0.4,>=0.3.2->llama-index-utils-workflow)\n",
            "  Downloading jedi-0.19.2-py2.py3-none-any.whl.metadata (22 kB)\n",
            "Requirement already satisfied: decorator in /usr/local/lib/python3.11/dist-packages (from ipython>=5.3.0->pyvis<0.4,>=0.3.2->llama-index-utils-workflow) (4.4.2)\n",
            "Requirement already satisfied: pickleshare in /usr/local/lib/python3.11/dist-packages (from ipython>=5.3.0->pyvis<0.4,>=0.3.2->llama-index-utils-workflow) (0.7.5)\n",
            "Requirement already satisfied: traitlets>=4.2 in /usr/local/lib/python3.11/dist-packages (from ipython>=5.3.0->pyvis<0.4,>=0.3.2->llama-index-utils-workflow) (5.7.1)\n",
            "Requirement already satisfied: prompt-toolkit!=3.0.0,!=3.0.1,<3.1.0,>=2.0.0 in /usr/local/lib/python3.11/dist-packages (from ipython>=5.3.0->pyvis<0.4,>=0.3.2->llama-index-utils-workflow) (3.0.51)\n",
            "Requirement already satisfied: pygments in /usr/local/lib/python3.11/dist-packages (from ipython>=5.3.0->pyvis<0.4,>=0.3.2->llama-index-utils-workflow) (2.19.1)\n",
            "Requirement already satisfied: backcall in /usr/local/lib/python3.11/dist-packages (from ipython>=5.3.0->pyvis<0.4,>=0.3.2->llama-index-utils-workflow) (0.2.0)\n",
            "Requirement already satisfied: matplotlib-inline in /usr/local/lib/python3.11/dist-packages (from ipython>=5.3.0->pyvis<0.4,>=0.3.2->llama-index-utils-workflow) (0.1.7)\n",
            "Requirement already satisfied: pexpect>4.3 in /usr/local/lib/python3.11/dist-packages (from ipython>=5.3.0->pyvis<0.4,>=0.3.2->llama-index-utils-workflow) (4.9.0)\n",
            "Requirement already satisfied: MarkupSafe>=2.0 in /usr/local/lib/python3.11/dist-packages (from jinja2>=2.9.6->pyvis<0.4,>=0.3.2->llama-index-utils-workflow) (3.0.2)\n",
            "Requirement already satisfied: click in /usr/local/lib/python3.11/dist-packages (from nltk>3.8.1->llama-index-core<0.13,>=0.12.0->llama-index-utils-workflow) (8.2.0)\n",
            "Requirement already satisfied: joblib in /usr/local/lib/python3.11/dist-packages (from nltk>3.8.1->llama-index-core<0.13,>=0.12.0->llama-index-utils-workflow) (1.5.0)\n",
            "Requirement already satisfied: regex>=2021.8.3 in /usr/local/lib/python3.11/dist-packages (from nltk>3.8.1->llama-index-core<0.13,>=0.12.0->llama-index-utils-workflow) (2024.11.6)\n",
            "Requirement already satisfied: annotated-types>=0.6.0 in /usr/local/lib/python3.11/dist-packages (from pydantic>=2.8.0->llama-index-core<0.13,>=0.12.0->llama-index-utils-workflow) (0.7.0)\n",
            "Requirement already satisfied: pydantic-core==2.33.2 in /usr/local/lib/python3.11/dist-packages (from pydantic>=2.8.0->llama-index-core<0.13,>=0.12.0->llama-index-utils-workflow) (2.33.2)\n",
            "Requirement already satisfied: typing-inspection>=0.4.0 in /usr/local/lib/python3.11/dist-packages (from pydantic>=2.8.0->llama-index-core<0.13,>=0.12.0->llama-index-utils-workflow) (0.4.0)\n",
            "Requirement already satisfied: charset-normalizer<4,>=2 in /usr/local/lib/python3.11/dist-packages (from requests>=2.31.0->llama-index-core<0.13,>=0.12.0->llama-index-utils-workflow) (3.4.2)\n",
            "Requirement already satisfied: idna<4,>=2.5 in /usr/local/lib/python3.11/dist-packages (from requests>=2.31.0->llama-index-core<0.13,>=0.12.0->llama-index-utils-workflow) (3.10)\n",
            "Requirement already satisfied: urllib3<3,>=1.21.1 in /usr/local/lib/python3.11/dist-packages (from requests>=2.31.0->llama-index-core<0.13,>=0.12.0->llama-index-utils-workflow) (2.4.0)\n",
            "Requirement already satisfied: certifi>=2017.4.17 in /usr/local/lib/python3.11/dist-packages (from requests>=2.31.0->llama-index-core<0.13,>=0.12.0->llama-index-utils-workflow) (2025.4.26)\n",
            "Requirement already satisfied: greenlet>=1 in /usr/local/lib/python3.11/dist-packages (from sqlalchemy>=1.4.49->sqlalchemy[asyncio]>=1.4.49->llama-index-core<0.13,>=0.12.0->llama-index-utils-workflow) (3.2.2)\n",
            "Requirement already satisfied: mypy-extensions>=0.3.0 in /usr/local/lib/python3.11/dist-packages (from typing-inspect>=0.8.0->llama-index-core<0.13,>=0.12.0->llama-index-utils-workflow) (1.1.0)\n",
            "Requirement already satisfied: marshmallow<4.0.0,>=3.18.0 in /usr/local/lib/python3.11/dist-packages (from dataclasses-json->llama-index-core<0.13,>=0.12.0->llama-index-utils-workflow) (3.26.1)\n",
            "Requirement already satisfied: anyio in /usr/local/lib/python3.11/dist-packages (from httpx->llama-index-core<0.13,>=0.12.0->llama-index-utils-workflow) (4.9.0)\n",
            "Requirement already satisfied: httpcore==1.* in /usr/local/lib/python3.11/dist-packages (from httpx->llama-index-core<0.13,>=0.12.0->llama-index-utils-workflow) (1.0.9)\n",
            "Requirement already satisfied: h11>=0.16 in /usr/local/lib/python3.11/dist-packages (from httpcore==1.*->httpx->llama-index-core<0.13,>=0.12.0->llama-index-utils-workflow) (0.16.0)\n",
            "Requirement already satisfied: parso<0.9.0,>=0.8.4 in /usr/local/lib/python3.11/dist-packages (from jedi>=0.16->ipython>=5.3.0->pyvis<0.4,>=0.3.2->llama-index-utils-workflow) (0.8.4)\n",
            "Requirement already satisfied: packaging>=17.0 in /usr/local/lib/python3.11/dist-packages (from marshmallow<4.0.0,>=3.18.0->dataclasses-json->llama-index-core<0.13,>=0.12.0->llama-index-utils-workflow) (24.2)\n",
            "Requirement already satisfied: ptyprocess>=0.5 in /usr/local/lib/python3.11/dist-packages (from pexpect>4.3->ipython>=5.3.0->pyvis<0.4,>=0.3.2->llama-index-utils-workflow) (0.7.0)\n",
            "Requirement already satisfied: wcwidth in /usr/local/lib/python3.11/dist-packages (from prompt-toolkit!=3.0.0,!=3.0.1,<3.1.0,>=2.0.0->ipython>=5.3.0->pyvis<0.4,>=0.3.2->llama-index-utils-workflow) (0.2.13)\n",
            "Requirement already satisfied: sniffio>=1.1 in /usr/local/lib/python3.11/dist-packages (from anyio->httpx->llama-index-core<0.13,>=0.12.0->llama-index-utils-workflow) (1.3.1)\n",
            "Requirement already satisfied: colorama>=0.4 in /usr/local/lib/python3.11/dist-packages (from griffe->banks<3,>=2.0.0->llama-index-core<0.13,>=0.12.0->llama-index-utils-workflow) (0.4.6)\n",
            "Downloading llama_index_utils_workflow-0.3.2-py3-none-any.whl (3.8 kB)\n",
            "Downloading pyvis-0.3.2-py3-none-any.whl (756 kB)\n",
            "\u001b[2K   \u001b[90m━━━━━━━━━━━━━━━━━━━━━━━━━━━━━━━━━━━━━━━━\u001b[0m \u001b[32m756.0/756.0 kB\u001b[0m \u001b[31m19.0 MB/s\u001b[0m eta \u001b[36m0:00:00\u001b[0m\n",
            "\u001b[?25hDownloading jedi-0.19.2-py2.py3-none-any.whl (1.6 MB)\n",
            "\u001b[2K   \u001b[90m━━━━━━━━━━━━━━━━━━━━━━━━━━━━━━━━━━━━━━━━\u001b[0m \u001b[32m1.6/1.6 MB\u001b[0m \u001b[31m48.7 MB/s\u001b[0m eta \u001b[36m0:00:00\u001b[0m\n",
            "\u001b[?25hInstalling collected packages: jedi, pyvis, llama-index-utils-workflow\n",
            "Successfully installed jedi-0.19.2 llama-index-utils-workflow-0.3.2 pyvis-0.3.2\n"
          ]
        }
      ]
    },
    {
      "cell_type": "markdown",
      "source": [
        "Let's visualize the simple workflow we just created:"
      ],
      "metadata": {
        "id": "vyMSD0G6ptOY"
      }
    },
    {
      "cell_type": "code",
      "source": [
        "from llama_index.utils.workflow import draw_all_possible_flows\n",
        "\n",
        "draw_all_possible_flows(MyWorkflow, filename=\"basic_workflow.html\")"
      ],
      "metadata": {
        "colab": {
          "base_uri": "https://localhost:8080/"
        },
        "collapsed": true,
        "id": "W4wGN8gwpwwu",
        "outputId": "0ba6a7e1-f40d-427d-ae0f-33d3220b2114"
      },
      "execution_count": 26,
      "outputs": [
        {
          "output_type": "stream",
          "name": "stdout",
          "text": [
            "basic_workflow.html\n"
          ]
        }
      ]
    },
    {
      "cell_type": "markdown",
      "source": [
        "This creates a file called `basic_workflow.html` in the notebook's file system. You can open up the file pane and download the file, then open it in your browser. You'll see something like this:"
      ],
      "metadata": {
        "id": "UMOGId0Vqrk7"
      }
    },
    {
      "cell_type": "markdown",
      "source": [
        "<img width=\"500\" src=\"https://seldo.com/uploads/2025/basic_flow.png\">"
      ],
      "metadata": {
        "id": "sz2rpD0Rq2H9"
      }
    },
    {
      "cell_type": "markdown",
      "source": [
        "Of course, a flow with a single step is not very useful! Let's define a multi-step workflow."
      ],
      "metadata": {
        "id": "u8eNxpb6rFcX"
      }
    },
    {
      "cell_type": "markdown",
      "source": [
        "## Custom Events\n",
        "\n",
        "Multiple steps are created by defining custom events that can be emitted by steps and trigger other steps. Let's define a simple 3-step workflow by defining two custom events, `FirstEvent` and `SecondEvent`. These classes can have any names and properties, but must inherit from `Event`:\n"
      ],
      "metadata": {
        "id": "-oc0OGSPrPBG"
      }
    },
    {
      "cell_type": "code",
      "source": [
        "from llama_index.core.workflow import Event\n",
        "\n",
        "class FirstEvent(Event):\n",
        "    first_output: str\n",
        "\n",
        "class SecondEvent(Event):\n",
        "    second_output: str"
      ],
      "metadata": {
        "id": "-1htaG19rUMs"
      },
      "execution_count": 27,
      "outputs": []
    },
    {
      "cell_type": "markdown",
      "source": [
        "## Defining the workflow\n",
        "\n",
        "Now we define the workflow itself. We do this by defining the input and output types on each step.\n",
        "\n",
        "* `step_one` takes a `StartEvent` and returns a `FirstEvent`\n",
        "* `step_two` takes a `FirstEvent` and returns a `SecondEvent`\n",
        "* `step_three` takes a `SecondEvent` and returns a `StopEvent`"
      ],
      "metadata": {
        "id": "N5e9cM7JrmgE"
      }
    },
    {
      "cell_type": "code",
      "source": [
        "class MyWorkflow(Workflow):\n",
        "    @step\n",
        "    async def step_one(self, ev: StartEvent) -> FirstEvent:\n",
        "        print(ev.first_input)\n",
        "        return FirstEvent(first_output=\"First step complete.\")\n",
        "\n",
        "    @step\n",
        "    async def step_two(self, ev: FirstEvent) -> SecondEvent:\n",
        "        print(ev.first_output)\n",
        "        return SecondEvent(second_output=\"Second step complete.\")\n",
        "\n",
        "    @step\n",
        "    async def step_three(self, ev: SecondEvent) -> StopEvent:\n",
        "        print(ev.second_output)\n",
        "        return StopEvent(result=\"Workflow complete.\")\n",
        "\n",
        "\n",
        "w = MyWorkflow(timeout=10, verbose=False)\n",
        "result = await w.run(first_input=\"Start the workflow.\")\n",
        "print(result)"
      ],
      "metadata": {
        "colab": {
          "base_uri": "https://localhost:8080/"
        },
        "id": "qFXi7VfArpQQ",
        "outputId": "8e45b112-4754-4909-9c14-e416e42470e6"
      },
      "execution_count": 28,
      "outputs": [
        {
          "output_type": "stream",
          "name": "stdout",
          "text": [
            "Start the workflow.\n",
            "First step complete.\n",
            "Second step complete.\n",
            "Workflow complete.\n"
          ]
        }
      ]
    },
    {
      "cell_type": "markdown",
      "source": [
        "If we run this through the visualizer, we'll get something like this:\n",
        "\n",
        "<img width=\"500\" src=\"https://seldo.com/uploads/2025/multi_step.png\">"
      ],
      "metadata": {
        "id": "Olt56qZ6shXN"
      }
    },
    {
      "cell_type": "markdown",
      "source": [
        "## Looping\n",
        "\n",
        "However, there's not much point to a workflow if it just runs straight through! A key feature of Workflows is their enablement of branching and looping logic, more simply and flexibly than graph-based approaches. To enable looping, we'll create a new `LoopEvent` (LoopEvent is not special, any event can be used to loop)."
      ],
      "metadata": {
        "id": "JdGptrFTsyBt"
      }
    },
    {
      "cell_type": "code",
      "source": [
        "class LoopEvent(Event):\n",
        "    first_input: str"
      ],
      "metadata": {
        "id": "qBQsGdmls_S3"
      },
      "execution_count": 29,
      "outputs": []
    },
    {
      "cell_type": "markdown",
      "source": [
        "Now we'll edit our `step_two` to make a random decision about whether to execute serially or loop back:"
      ],
      "metadata": {
        "id": "AMuN-XnFtEMY"
      }
    },
    {
      "cell_type": "code",
      "source": [
        "import random\n",
        "\n",
        "class MyWorkflow(Workflow):\n",
        "\n",
        "    # step_one will trigger on a StartEvent or a LoopEvent\n",
        "    @step\n",
        "    async def step_one(self, ev: StartEvent | LoopEvent) -> FirstEvent:\n",
        "        print(ev.first_input)\n",
        "        return FirstEvent(first_output=\"First step complete\")\n",
        "\n",
        "    # step two returns either a SecondEvent or a LoopEvent\n",
        "    @step\n",
        "    async def step_two(self, ev: FirstEvent) -> SecondEvent | LoopEvent:\n",
        "        print(ev.first_output)\n",
        "        if random.randint(0, 1) == 0:\n",
        "            print(\"Bad thing happened\")\n",
        "            return LoopEvent(first_input=\"Back to step one.\")\n",
        "        else:\n",
        "            print(\"Good thing happened\")\n",
        "            return SecondEvent(second_output=\"Second step complete.\")\n",
        "\n",
        "    @step\n",
        "    async def step_three(self, ev: SecondEvent) -> StopEvent:\n",
        "        print(ev.second_output)\n",
        "        return StopEvent(result=\"Workflow complete.\")\n",
        "\n",
        "\n",
        "w = MyWorkflow(timeout=10, verbose=False)\n",
        "result = await w.run(first_input=\"Start the workflow.\")\n",
        "print(result)"
      ],
      "metadata": {
        "colab": {
          "base_uri": "https://localhost:8080/"
        },
        "id": "azvvRewntJ40",
        "outputId": "d0d0fc28-6241-4fe8-d436-446007fe9cb8"
      },
      "execution_count": 30,
      "outputs": [
        {
          "output_type": "stream",
          "name": "stdout",
          "text": [
            "Start the workflow.\n",
            "First step complete\n",
            "Good thing happened\n",
            "Second step complete.\n",
            "Workflow complete.\n"
          ]
        }
      ]
    },
    {
      "cell_type": "markdown",
      "source": [
        "Note the new type annotations on `step_one`: we now accept either a `StartEvent` or a `LoopEvent` to trigger the step. In step two, we emit either a `SecondEvent` or a `LoopEvent`.\n",
        "\n",
        "In this run, the \"bad\" outcome happened once, repeating step one, then the \"good\" outcome happened, allowing the workflow to complete.\n",
        "\n",
        "Our new, looping workflow visualizes like this:"
      ],
      "metadata": {
        "id": "erF6mq780tKI"
      }
    },
    {
      "cell_type": "markdown",
      "source": [
        "<img width=\"600\" src=\"https://seldo.com/uploads/2025/Screenshot%202025-05-04%20at%203.41.03%E2%80%AFPM.png\">"
      ],
      "metadata": {
        "id": "2KPKGiqC0NVP"
      }
    },
    {
      "cell_type": "markdown",
      "source": [
        "## Branching\n",
        "\n",
        "The same constructs that allow us to loop allow us to create branches. Here's a workflow that executes two different branches depending on an early decision:"
      ],
      "metadata": {
        "id": "hWqX10_zTewZ"
      }
    },
    {
      "cell_type": "code",
      "source": [
        "class BranchA1Event(Event):\n",
        "    payload: str\n",
        "\n",
        "\n",
        "class BranchA2Event(Event):\n",
        "    payload: str\n",
        "\n",
        "\n",
        "class BranchB1Event(Event):\n",
        "    payload: str\n",
        "\n",
        "\n",
        "class BranchB2Event(Event):\n",
        "    payload: str\n",
        "\n",
        "\n",
        "class BranchWorkflow(Workflow):\n",
        "    @step\n",
        "    async def start(self, ev: StartEvent) -> BranchA1Event | BranchB1Event:\n",
        "        if random.randint(0, 1) == 0:\n",
        "            print(\"Go to branch A\")\n",
        "            return BranchA1Event(payload=\"Branch A\")\n",
        "        else:\n",
        "            print(\"Go to branch B\")\n",
        "            return BranchB1Event(payload=\"Branch B\")\n",
        "\n",
        "    @step\n",
        "    async def step_a1(self, ev: BranchA1Event) -> BranchA2Event:\n",
        "        print(ev.payload)\n",
        "        return BranchA2Event(payload=ev.payload)\n",
        "\n",
        "    @step\n",
        "    async def step_b1(self, ev: BranchB1Event) -> BranchB2Event:\n",
        "        print(ev.payload)\n",
        "        return BranchB2Event(payload=ev.payload)\n",
        "\n",
        "    @step\n",
        "    async def step_a2(self, ev: BranchA2Event) -> StopEvent:\n",
        "        print(ev.payload)\n",
        "        return StopEvent(result=\"Branch A complete.\")\n",
        "\n",
        "    @step\n",
        "    async def step_b2(self, ev: BranchB2Event) -> StopEvent:\n",
        "        print(ev.payload)\n",
        "        return StopEvent(result=\"Branch B complete.\")"
      ],
      "metadata": {
        "id": "DF5-IyrlTrV1"
      },
      "execution_count": 31,
      "outputs": []
    },
    {
      "cell_type": "markdown",
      "source": [
        "It visualizes like this:"
      ],
      "metadata": {
        "id": "xePaVRapTtk1"
      }
    },
    {
      "cell_type": "markdown",
      "source": [
        "<img width=\"700\" src=\"https://seldo.com/uploads/2025/branching.png\">"
      ],
      "metadata": {
        "id": "MJSTw10lTxHd"
      }
    },
    {
      "cell_type": "markdown",
      "source": [
        "## Concurrent execution\n",
        "\n",
        "The final form of flow control you can implement in workflows is concurrent execution. This allows you to efficiently run long-running tasks in parallel, and gather them together when they are needed. This can also let you perform map-reduce style tasks."
      ],
      "metadata": {
        "id": "SQjp_nLJVXUK"
      }
    },
    {
      "cell_type": "markdown",
      "source": [
        "To do this, we'll be using the `Context` object that we already encountered when working with `AgentWorkflow`. The `Context` is available to every step in a workflow: to access it, declare it as an argument to your step and it will be automatically populated.\n",
        "\n",
        "In this example, we use a new method, `Context.send_event` rather than returning an event. This allows us to emit multiple events in parallel rather than returning just one as we have previously."
      ],
      "metadata": {
        "id": "DRNmuEiHXwB6"
      }
    },
    {
      "cell_type": "code",
      "source": [
        "import asyncio\n",
        "\n",
        "class StepTwoEvent(Event):\n",
        "    query: str\n",
        "\n",
        "class ParallelFlow(Workflow):\n",
        "    @step\n",
        "    async def start(self, ctx: Context, ev: StartEvent) -> StepTwoEvent:\n",
        "        ctx.send_event(StepTwoEvent(query=\"Query 1\"))\n",
        "        ctx.send_event(StepTwoEvent(query=\"Query 2\"))\n",
        "        ctx.send_event(StepTwoEvent(query=\"Query 3\"))\n",
        "\n",
        "    @step(num_workers=4)\n",
        "    async def step_two(self, ctx: Context, ev: StepTwoEvent) -> StopEvent:\n",
        "        print(\"Running slow query \", ev.query)\n",
        "        await asyncio.sleep(random.randint(1, 5))\n",
        "\n",
        "        return StopEvent(result=ev.query)"
      ],
      "metadata": {
        "id": "shy7HdqWVwb6"
      },
      "execution_count": 32,
      "outputs": []
    },
    {
      "cell_type": "code",
      "source": [
        "w = ParallelFlow(timeout=10, verbose=False)\n",
        "result = await w.run(message=\"Start the workflow.\")\n",
        "print(result)"
      ],
      "metadata": {
        "colab": {
          "base_uri": "https://localhost:8080/"
        },
        "id": "vI2GTegXXRCm",
        "outputId": "8b561729-5d42-4373-aa10-cb62a1b768fb"
      },
      "execution_count": 33,
      "outputs": [
        {
          "output_type": "stream",
          "name": "stdout",
          "text": [
            "Running slow query  Query 1\n",
            "Running slow query  Query 2\n",
            "Running slow query  Query 3\n",
            "Query 3\n"
          ]
        }
      ]
    },
    {
      "cell_type": "markdown",
      "source": [
        "As you can see, it executes all 3 queries. The first one to complete emits a StopEvent, at which point the workflow halts without waiting for the other 2 events.\n",
        "\n",
        "## Collecting events\n",
        "\n",
        "But what if we do want the output of all 3 events? Another method, `Context.collect_events`, exists for that purpose:"
      ],
      "metadata": {
        "id": "pZIvbbNGX6Gr"
      }
    },
    {
      "cell_type": "code",
      "source": [
        "class StepThreeEvent(Event):\n",
        "    result: str\n",
        "\n",
        "class ConcurrentFlow(Workflow):\n",
        "    @step\n",
        "    async def start(self, ctx: Context, ev: StartEvent) -> StepTwoEvent:\n",
        "        ctx.send_event(StepTwoEvent(query=\"Query 1\"))\n",
        "        ctx.send_event(StepTwoEvent(query=\"Query 2\"))\n",
        "        ctx.send_event(StepTwoEvent(query=\"Query 3\"))\n",
        "\n",
        "    @step(num_workers=4)\n",
        "    async def step_two(self, ctx: Context, ev: StepTwoEvent) -> StepThreeEvent:\n",
        "        print(\"Running query \", ev.query)\n",
        "        await asyncio.sleep(random.randint(1, 5))\n",
        "        return StepThreeEvent(result=ev.query)\n",
        "\n",
        "    @step\n",
        "    async def step_three(self, ctx: Context, ev: StepThreeEvent) -> StopEvent:\n",
        "        # wait until we receive 3 events\n",
        "        result = ctx.collect_events(ev, [StepThreeEvent] * 3)\n",
        "        if result is None:\n",
        "            print(\"Not all events received yet.\")\n",
        "            return None\n",
        "\n",
        "        # do something with all 3 results together\n",
        "        print(result)\n",
        "        return StopEvent(result=\"Done\")"
      ],
      "metadata": {
        "id": "31jPpE3ZYcMr"
      },
      "execution_count": 34,
      "outputs": []
    },
    {
      "cell_type": "code",
      "source": [
        "w = ConcurrentFlow(timeout=10, verbose=False)\n",
        "result = await w.run(message=\"Start the workflow.\")\n",
        "print(result)"
      ],
      "metadata": {
        "colab": {
          "base_uri": "https://localhost:8080/"
        },
        "id": "NS_TmHrsYkT6",
        "outputId": "5d5d61b6-4f7f-4140-87be-ab5a41cd5af4"
      },
      "execution_count": 35,
      "outputs": [
        {
          "output_type": "stream",
          "name": "stdout",
          "text": [
            "Running query  Query 1\n",
            "Running query  Query 2\n",
            "Running query  Query 3\n",
            "Not all events received yet.\n",
            "Not all events received yet.\n",
            "[StepThreeEvent(result='Query 1'), StepThreeEvent(result='Query 2'), StepThreeEvent(result='Query 3')]\n",
            "Done\n"
          ]
        }
      ]
    },
    {
      "cell_type": "markdown",
      "source": [
        "In the above example, we emit three `StepTwoEvent`s which trigger `step_two`, each execution of which eventually emits a `StepThreeEvent`.\n",
        "\n",
        "`step_three` gets triggered whenever a `StepThreeEvent` fires. What `collect_events` does is store the events in the context until it has collected the number and type of events specified in its second argument. In this case, we've told it to wait for 3 events.\n",
        "\n",
        "If an event fires and `collect_events` hasn't yet seen the right number of events, it returns `None`, so we tell `step_three` to do nothing in that case. When `collect_events` receives the right number of events it returns them as an array, which you can see us printing in the final output. Note that in the array they are stored in the order they returned, not the order they were emitted.\n",
        "\n",
        "To implement a map-reduce pattern, you would split your task up into as many steps as necessary, and use `Context` to store that number with `ctx.set(\"num_events\", some_number)`. Then in `step_three` you would wait for the number stored in the context using `await ctx.get(\"num_events\")`. So you don't need to know in advance exactly how many concurrent steps you're taking."
      ],
      "metadata": {
        "id": "-twFHecxYrYD"
      }
    },
    {
      "cell_type": "markdown",
      "source": [
        "## Collecting different event types\n",
        "\n",
        "We don't just have to wait for multiple events of the same kind. In this example, we'll emit 3 totally different events and collect them at the end."
      ],
      "metadata": {
        "id": "8_pBezDRbLo_"
      }
    },
    {
      "cell_type": "code",
      "source": [
        "class StepAEvent(Event):\n",
        "    query: str\n",
        "\n",
        "class StepACompleteEvent(Event):\n",
        "    result: str\n",
        "\n",
        "class StepBEvent(Event):\n",
        "    query: str\n",
        "\n",
        "class StepBCompleteEvent(Event):\n",
        "    result: str\n",
        "\n",
        "class StepCEvent(Event):\n",
        "    query: str\n",
        "\n",
        "class StepCCompleteEvent(Event):\n",
        "    result: str\n",
        "\n",
        "class ConcurrentFlow(Workflow):\n",
        "    @step\n",
        "    async def start(\n",
        "        self, ctx: Context, ev: StartEvent\n",
        "    ) -> StepAEvent | StepBEvent | StepCEvent:\n",
        "        ctx.send_event(StepAEvent(query=\"Query 1\"))\n",
        "        ctx.send_event(StepBEvent(query=\"Query 2\"))\n",
        "        ctx.send_event(StepCEvent(query=\"Query 3\"))\n",
        "\n",
        "    @step\n",
        "    async def step_a(self, ctx: Context, ev: StepAEvent) -> StepACompleteEvent:\n",
        "        print(\"Doing something A-ish\")\n",
        "        return StepACompleteEvent(result=ev.query)\n",
        "\n",
        "    @step\n",
        "    async def step_b(self, ctx: Context, ev: StepBEvent) -> StepBCompleteEvent:\n",
        "        print(\"Doing something B-ish\")\n",
        "        return StepBCompleteEvent(result=ev.query)\n",
        "\n",
        "    @step\n",
        "    async def step_c(self, ctx: Context, ev: StepCEvent) -> StepCCompleteEvent:\n",
        "        print(\"Doing something C-ish\")\n",
        "        return StepCCompleteEvent(result=ev.query)\n",
        "\n",
        "    @step\n",
        "    async def step_three(\n",
        "        self,\n",
        "        ctx: Context,\n",
        "        ev: StepACompleteEvent | StepBCompleteEvent | StepCCompleteEvent,\n",
        "    ) -> StopEvent:\n",
        "        print(\"Received event \", ev.result)\n",
        "\n",
        "        # wait until we receive 3 events\n",
        "        events = ctx.collect_events(\n",
        "            ev,\n",
        "            [StepCCompleteEvent, StepACompleteEvent, StepBCompleteEvent],\n",
        "        )\n",
        "        if (events is None):\n",
        "            return None\n",
        "\n",
        "        # do something with all 3 results together\n",
        "        print(\"All events received: \", events)\n",
        "        return StopEvent(result=\"Done\")"
      ],
      "metadata": {
        "id": "49PgTaPdbWWq"
      },
      "execution_count": 36,
      "outputs": []
    },
    {
      "cell_type": "markdown",
      "source": [
        "When we run, it will do all three things and wait for them in `step_three`."
      ],
      "metadata": {
        "id": "U5PRkhhcb2eA"
      }
    },
    {
      "cell_type": "code",
      "source": [
        "w = ConcurrentFlow(timeout=10, verbose=False)\n",
        "result = await w.run(message=\"Start the workflow.\")\n",
        "print(result)"
      ],
      "metadata": {
        "colab": {
          "base_uri": "https://localhost:8080/"
        },
        "id": "szxEmaaZbpE3",
        "outputId": "d0d95156-4e18-4099-8dbf-56572dfe2da6"
      },
      "execution_count": 37,
      "outputs": [
        {
          "output_type": "stream",
          "name": "stdout",
          "text": [
            "Doing something A-ish\n",
            "Doing something B-ish\n",
            "Doing something C-ish\n",
            "Received event  Query 1\n",
            "Received event  Query 2\n",
            "Received event  Query 3\n",
            "All events received:  [StepCCompleteEvent(result='Query 3'), StepACompleteEvent(result='Query 1'), StepBCompleteEvent(result='Query 2')]\n",
            "Done\n"
          ]
        }
      ]
    },
    {
      "cell_type": "markdown",
      "source": [
        "Note that the order of the events is significant: `collect_events` was told to expect Step C, then A, then B, and that's the order they are in the return array."
      ],
      "metadata": {
        "id": "MBCY2z5Tb0WA"
      }
    },
    {
      "cell_type": "markdown",
      "source": [
        "These changes have a pretty pleasing visualization:"
      ],
      "metadata": {
        "id": "BIfqQPhlb8uL"
      }
    },
    {
      "cell_type": "markdown",
      "source": [
        "<img width=\"700\" src=\"https://seldo.com/uploads/2025/different_events.png\">"
      ],
      "metadata": {
        "id": "C3ZOoB79cD6B"
      }
    },
    {
      "cell_type": "markdown",
      "source": [
        "## Streaming\n",
        "\n",
        "We already saw `AgentWorkflow` emit a stream of events that we could handle and filter when we run the event. Let's see how those get emitted in this example, using `Context.write_event_to_stream`:"
      ],
      "metadata": {
        "id": "fVEy_h3_dn0E"
      }
    },
    {
      "cell_type": "code",
      "source": [
        "class FirstEvent(Event):\n",
        "    first_output: str\n",
        "\n",
        "class SecondEvent(Event):\n",
        "    second_output: str\n",
        "    response: str\n",
        "\n",
        "class TextEvent(Event):\n",
        "    delta: str\n",
        "\n",
        "class ProgressEvent(Event):\n",
        "    msg: str\n",
        "\n",
        "class MyWorkflow(Workflow):\n",
        "    @step\n",
        "    async def step_one(self, ctx: Context, ev: StartEvent) -> FirstEvent:\n",
        "        ctx.write_event_to_stream(ProgressEvent(msg=\"Step one is happening\"))\n",
        "        return FirstEvent(first_output=\"First step complete.\")\n",
        "\n",
        "    @step\n",
        "    async def step_two(self, ctx: Context, ev: FirstEvent) -> SecondEvent:\n",
        "        llm = OpenAI(model=\"gpt-4.1-mini\", api_key=api_key) # the OpenAI key we set up at the beginning\n",
        "        generator = await llm.astream_complete(\n",
        "            \"Please give me the first 50 words of Moby Dick, a book in the public domain.\"\n",
        "        )\n",
        "        async for response in generator:\n",
        "            # Allow the workflow to stream this piece of response\n",
        "            ctx.write_event_to_stream(TextEvent(delta=response.delta))\n",
        "        return SecondEvent(\n",
        "            second_output=\"Second step complete, full response attached\",\n",
        "            response=str(response),\n",
        "        )\n",
        "\n",
        "    @step\n",
        "    async def step_three(self, ctx: Context, ev: SecondEvent) -> StopEvent:\n",
        "        ctx.write_event_to_stream(ProgressEvent(msg=\"Step three is happening\"))\n",
        "        return StopEvent(result=\"Workflow complete.\")"
      ],
      "metadata": {
        "id": "vb4H-W2pdy8E"
      },
      "execution_count": 38,
      "outputs": []
    },
    {
      "cell_type": "markdown",
      "source": [
        "We handle this output exactly the same way we did for `AgentWorkflow`:"
      ],
      "metadata": {
        "id": "hivrZ9s5fWn-"
      }
    },
    {
      "cell_type": "code",
      "source": [
        "workflow = MyWorkflow(timeout=30, verbose=False)\n",
        "handler = workflow.run(first_input=\"Start the workflow.\")\n",
        "\n",
        "async for ev in handler.stream_events():\n",
        "    if isinstance(ev, ProgressEvent):\n",
        "        print(\"\\n\"+ev.msg)\n",
        "    if isinstance(ev, TextEvent):\n",
        "        print(ev.delta, end=\"\")\n",
        "\n",
        "final_result = await handler\n",
        "print(\"Final result = \", final_result)"
      ],
      "metadata": {
        "colab": {
          "base_uri": "https://localhost:8080/"
        },
        "id": "VowYKxzreD1p",
        "outputId": "72389701-05df-4f3e-e39c-914988777bb5"
      },
      "execution_count": 39,
      "outputs": [
        {
          "output_type": "stream",
          "name": "stdout",
          "text": [
            "\n",
            "Step one is happening\n",
            "Certainly! Here are the first 50 words of *Moby-Dick* by Herman Melville:\n",
            "\n",
            "\"Call me Ishmael. Some years ago—never mind how long precisely—having little or no money in my purse, and nothing particular to interest me on shore, I thought I would sail about a little and see the watery part of the world. It is a way I have of driving off the spleen...\"\n",
            "Step three is happening\n",
            "Final result =  Workflow complete.\n"
          ]
        }
      ]
    },
    {
      "cell_type": "markdown",
      "source": [
        "## Congratulations yet again!\n",
        "\n",
        "You've now put together a Workflow from scratch, and learned the primitives necessary to build any workflow."
      ],
      "metadata": {
        "id": "LKubiNTj0B1p"
      }
    },
    {
      "cell_type": "markdown",
      "source": [
        "# Putting together a multi-agent system\n",
        "\n",
        "Now we've seen all the ways workflows can work, let's construct our own multi-agent system! This will be our Deep Research multi-agent system.\n",
        "\n",
        "It will have three agents:\n",
        "* `QuestionAgent` which accepts a research topic and generates a bunch of questions\n",
        "* `AnswerAgent` which answers a specific question (we'll need to call it many times)\n",
        "* `ReportAgent` which aggregates all the answers and generates a report.\n",
        "\n",
        "We'll create these as `FunctionAgent`s, the same as we did when creating agents for `AgentWorkflow`."
      ],
      "metadata": {
        "id": "elnYMephgF47"
      }
    },
    {
      "cell_type": "code",
      "source": [
        "question_agent = FunctionAgent(\n",
        "    tools=[],\n",
        "    llm=llm,\n",
        "    verbose=False,\n",
        "    system_prompt=\"\"\"You are part of a deep research system.\n",
        "      Given a research topic, you should come up with a bunch of questions\n",
        "      that a separate agent will answer in order to write a comprehensive\n",
        "      report on that topic. To make it easy to answer the questions separately,\n",
        "      you should provide the questions one per line. Don't include markdown\n",
        "      or any preamble in your response, just a list of questions.\"\"\"\n",
        ")\n",
        "answer_agent = FunctionAgent(\n",
        "    tools=[search_web],\n",
        "    llm=llm,\n",
        "    verbose=False,\n",
        "    system_prompt=\"\"\"You are part of a deep research system.\n",
        "      Given a specific question, your job is to come up with a deep answer\n",
        "      to that question, which will be combined with other answers on the topic\n",
        "      into a comprehensive report. You can search the web to get information\n",
        "      on the topic, as many times as you need.\"\"\"\n",
        ")\n",
        "report_agent = FunctionAgent(\n",
        "    tools=[],\n",
        "    llm=llm,\n",
        "    verbose=False,\n",
        "    system_prompt=\"\"\"You are part of a deep research system.\n",
        "      Given a set of answers to a set of questions, your job is to combine\n",
        "      them all into a comprehensive report on the topic.\"\"\"\n",
        ")"
      ],
      "metadata": {
        "id": "gPxFQpYQkRza"
      },
      "execution_count": 40,
      "outputs": []
    },
    {
      "cell_type": "markdown",
      "source": [
        "The Workflow we'll need to handle this task needs to do a few things:\n",
        "* Accept the topic and pass it to the QuestionAgent\n",
        "* Take all the answers from the QuestionAgent and split them up, firing off one AnswerAgent for each question\n",
        "* Aggregate all the questions and answers from the AnswerAgents\n",
        "* Generate a single report from them"
      ],
      "metadata": {
        "id": "cH5sZbd335o7"
      }
    },
    {
      "cell_type": "code",
      "source": [
        "class GenerateEvent(Event):\n",
        "    research_topic: str\n",
        "\n",
        "class QuestionEvent(Event):\n",
        "    question: str\n",
        "\n",
        "class AnswerEvent(Event):\n",
        "    question: str\n",
        "    answer: str\n",
        "\n",
        "class ProgressEvent(Event):\n",
        "    msg: str\n",
        "\n",
        "class DeepResearchWorkflow(Workflow):\n",
        "\n",
        "    @step\n",
        "    async def setup(self, ctx: Context, ev: StartEvent) -> GenerateEvent:\n",
        "        self.question_agent = ev.question_agent\n",
        "        self.answer_agent = ev.answer_agent\n",
        "        self.report_agent = ev.report_agent\n",
        "\n",
        "        ctx.write_event_to_stream(ProgressEvent(msg=\"Starting research\"))\n",
        "\n",
        "        return GenerateEvent(research_topic=ev.research_topic)\n",
        "\n",
        "    @step\n",
        "    async def generate_questions(self, ctx: Context, ev: GenerateEvent) -> QuestionEvent:\n",
        "\n",
        "        await ctx.set(\"research_topic\", ev.research_topic)\n",
        "        ctx.write_event_to_stream(ProgressEvent(msg=f\"Research topic is {ev.research_topic}\"))\n",
        "\n",
        "        result = await self.question_agent.run(user_msg=f\"\"\"Generate some questions\n",
        "          on the topic <topic>{ev.research_topic}</topic>.\"\"\")\n",
        "\n",
        "        # some basic string manipulation to get separate questions\n",
        "        lines = str(result).split(\"\\n\")\n",
        "        questions = [line.strip() for line in lines if line.strip() != \"\"]\n",
        "\n",
        "        # record how many answers we're going to need to wait for\n",
        "        await ctx.set(\"total_questions\", len(questions))\n",
        "\n",
        "        # fire off multiple Answer Agents\n",
        "        for question in questions:\n",
        "            ctx.send_event(QuestionEvent(question=question))\n",
        "\n",
        "    @step\n",
        "    async def answer_question(self, ctx: Context, ev: QuestionEvent) -> AnswerEvent:\n",
        "\n",
        "        result = await self.answer_agent.run(user_msg=f\"\"\"Research the answer to this\n",
        "          question: <question>{ev.question}</question>. You can use web\n",
        "          search to help you find information on the topic, as many times\n",
        "          as you need. Return just the answer without preamble or markdown.\"\"\")\n",
        "\n",
        "        ctx.write_event_to_stream(ProgressEvent(msg=f\"\"\"Received question {ev.question}\n",
        "            Came up with answer: {str(result)}\"\"\"))\n",
        "\n",
        "        return AnswerEvent(question=ev.question,answer=str(result))\n",
        "\n",
        "    @step\n",
        "    async def write_report(self, ctx: Context, ev: AnswerEvent) -> StopEvent:\n",
        "\n",
        "        research = ctx.collect_events(ev, [AnswerEvent] * await ctx.get(\"total_questions\"))\n",
        "        # if we haven't received all the answers yet, this will be None\n",
        "        if research is None:\n",
        "            ctx.write_event_to_stream(ProgressEvent(msg=\"Collecting answers...\"))\n",
        "            return None\n",
        "\n",
        "        ctx.write_event_to_stream(ProgressEvent(msg=\"Generating report...\"))\n",
        "\n",
        "        # aggregate the questions and answers\n",
        "        all_answers = \"\"\n",
        "        for q_and_a in research:\n",
        "            all_answers += f\"Question: {q_and_a.question}\\nAnswer: {q_and_a.answer}\\n\\n\"\n",
        "\n",
        "        # prompt the report\n",
        "        result = await self.report_agent.run(user_msg=f\"\"\"You are part of a deep research system.\n",
        "          You have been given a complex topic on which to write a report:\n",
        "          <topic>{await ctx.get(\"research_topic\")}.\n",
        "\n",
        "          Other agents have already come up with a list of questions about the\n",
        "          topic and answers to those questions. Your job is to write a clear,\n",
        "          thorough report that combines all the information from those answers.\n",
        "\n",
        "          Here are the questions and answers:\n",
        "          <questions_and_answers>{all_answers}</questions_and_answers>\"\"\")\n",
        "\n",
        "        return StopEvent(result=str(result))"
      ],
      "metadata": {
        "id": "dqzaRydrrAgk"
      },
      "execution_count": 41,
      "outputs": []
    },
    {
      "cell_type": "markdown",
      "source": [
        "Running it gets us a sequence of progress events plus our final report:"
      ],
      "metadata": {
        "id": "dLTEN0FZ4BFH"
      }
    },
    {
      "cell_type": "code",
      "source": [
        "workflow = DeepResearchWorkflow(timeout=300)\n",
        "handler = workflow.run(\n",
        "    research_topic=\"History of San Francisco\",\n",
        "    question_agent=question_agent,\n",
        "    answer_agent=answer_agent,\n",
        "    report_agent=report_agent\n",
        ")\n",
        "\n",
        "async for ev in handler.stream_events():\n",
        "    if isinstance(ev, ProgressEvent):\n",
        "        print(ev.msg)\n",
        "\n",
        "final_result = await handler\n",
        "print(\"==== The report ====\")\n",
        "print(final_result)"
      ],
      "metadata": {
        "colab": {
          "base_uri": "https://localhost:8080/"
        },
        "id": "I72M8ZqKum2I",
        "outputId": "0a4bc610-6186-48b6-e579-bc6ab956fae0"
      },
      "execution_count": 42,
      "outputs": [
        {
          "output_type": "stream",
          "name": "stdout",
          "text": [
            "Starting research\n",
            "Research topic is History of San Francisco\n",
            "Received question When and by whom was San Francisco founded?\n",
            "            Came up with answer: San Francisco was founded on March 28, 1776, by Spanish explorer Juan Bautista de Anza, who selected the site for the Presidio in San Francisco, California. The Presidio was constructed later that year and served as an important location for Spanish colonization in California.\n",
            "Collecting answers...\n",
            "Received question What are the origins of San Francisco before European settlement?\n",
            "            Came up with answer: Before European settlement, the area now known as San Francisco was inhabited by indigenous peoples, primarily the Ohlone people. The indigenous name for San Francisco was Ahwaste, meaning \"place at the bay.\" The Ohlone were part of a contiguous set of bands living from south of the Golden Gate to San José. The earliest inhabitants' exact ancestry is unclear, but they lived in the region long before European explorers arrived. The geography and fog of the area kept the great harbor hidden, delaying European settlement until the 18th century.\n",
            "Collecting answers...\n",
            "Received question Who were the indigenous peoples living in the San Francisco area prior to colonization?\n",
            "            Came up with answer: The indigenous peoples living in the San Francisco area prior to colonization were the Ramaytush Ohlone. Specifically, the group known as the Yelamu were the original inhabitants of what is now San Francisco County. The Ramaytush Ohlone lived along the San Francisco Peninsula for at least 13,500 years before European colonization in the late 18th century. They were part of a larger Ohlone group that inhabited the San Francisco Bay region, including areas south of the Golden Gate and the East Bay.\n",
            "Collecting answers...\n",
            "Received question How did the California Gold Rush impact the development of San Francisco?\n",
            "            Came up with answer: The California Gold Rush had a profound impact on the development of San Francisco. Before the Gold Rush, San Francisco was a small, sleepy port town with few permanent buildings. The discovery of gold in 1848 triggered a massive influx of prospectors, known as the \"Forty-niners,\" which caused the city's population to explode from about 1,000 to 25,000 within a year. This rapid population growth transformed San Francisco into a bustling metropolis almost overnight.\n",
            "\n",
            "The Gold Rush turned San Francisco into a hub of entrepreneurial activity, attracting a diverse population eager to capitalize on the opportunities created by the mining boom. The city quickly developed with makeshift tent-houses, hotels, stores, saloons, gambling halls, and shanties to accommodate the influx of people. This rapid urbanization laid the foundation for San Francisco's future as a major urban and economic center.\n",
            "\n",
            "Additionally, the Gold Rush accelerated California's admission into the United States as a state in 1850, further solidifying San Francisco's importance. The event also shaped the city's unique cultural identity and diversity, making it the vibrant metropolis it is today. Overall, the Gold Rush was a pivotal event that transformed San Francisco from a small settlement into a thriving, diverse, and economically significant city.\n",
            "Collecting answers...\n",
            "Received question What major events shaped San Francisco during the 19th century?\n",
            "            Came up with answer: Major events that shaped San Francisco during the 19th century include:\n",
            "\n",
            "1. The California Gold Rush (starting in 1848): The discovery of gold nuggets in the Sacramento Valley sparked a massive influx of prospectors and settlers to San Francisco. The city's population exploded from about 1,000 to 25,000 between 1848 and 1849. This event transformed San Francisco from a quiet port town into a bustling, diverse metropolis and set it on the path to becoming a major city.\n",
            "\n",
            "2. Rapid urban growth and development: The Gold Rush led to rapid population growth and urban development in San Francisco throughout the 19th century, with the city evolving culturally and economically.\n",
            "\n",
            "3. The establishment of San Francisco as a key port and commercial hub: The city's strategic location and booming population made it a vital center for trade and commerce on the West Coast.\n",
            "\n",
            "These events collectively contributed to San Francisco's dynamic growth and cultural evolution during the 19th century.\n",
            "Collecting answers...\n",
            "Received question What role did San Francisco play during World War II?\n",
            "            Came up with answer: During World War II, San Francisco played a crucial role as part of America's \"Arsenal of Democracy.\" The San Francisco Bay Area became a major hub for shipbuilding, serving as the arsenal's shipyard and a key pipeline to the Pacific theater. The area was heavily fortified with coastal defenses, including batteries at Fort Point and other locations, which formed the backbone of the region's military defense. San Francisco and its surrounding areas also hosted military facilities, shipyards, and served as a major seaport and manufacturing center. Additionally, the region was involved in the internment process of Japanese Americans, with assembly centers like the one at Tanforan race track in nearby San Bruno. Overall, San Francisco was a vital military, industrial, and logistical center during the war.\n",
            "Collecting answers...\n",
            "Received question How did the 1906 earthquake and fire affect San Francisco’s infrastructure and population?\n",
            "            Came up with answer: The 1906 earthquake and fire had a devastating impact on San Francisco’s infrastructure and population. The earthquake caused widespread destruction, particularly because the city was largely built of wood, which contributed to the extensive damage. The subsequent fire destroyed much of the city, including homes, businesses, and critical infrastructure such as the gas works, which rendered facilities like the San Francisco Mint nonfunctional despite the building itself remaining standing.\n",
            "\n",
            "The disaster displaced a large portion of the population, forcing many into refugee camps and temporary shelters. The destruction also cleared large areas of the city, which later allowed for redevelopment and changes in land use patterns. This redevelopment led to higher residential density in the areas that were razed by the fire. The rapid reconstruction introduced new technologies, architectural styles, and innovations, significantly transforming the city’s structural landscape.\n",
            "\n",
            "Overall, the earthquake and fire not only caused immediate physical and human losses but also reshaped San Francisco’s urban development and population distribution in the long term.\n",
            "Collecting answers...\n",
            "Received question How did immigration influence the cultural and demographic makeup of San Francisco?\n",
            "            Came up with answer: Immigration has profoundly influenced the cultural and demographic makeup of San Francisco. The city experienced rapid population growth starting in the mid-19th century, especially during and after the Gold Rush of 1849, which attracted a diverse influx of immigrants. Jewish immigrants from Europe arrived even before the gold seekers, contributing significantly to the city's culture. The Asian population, particularly Chinese immigrants, established vibrant communities such as Chinatown, which became a cultural and commercial hub. Japanese immigrants also formed a community centered around Japantown, although it was disrupted during World War II by Executive Order 9066.\n",
            "\n",
            "Over time, San Francisco evolved into a \"majority-minority city,\" where people of color constitute a majority of the population. The city's ethnic composition has continued to change, with significant increases in the Asian population in recent decades, alongside Hispanic, Black, and white populations. Immigration has shaped neighborhoods, cultural institutions, and the social fabric of the city, making San Francisco one of the most ethnically diverse urban centers in the United States. The ongoing demographic shifts reflect both historical immigration patterns and contemporary migration trends, contributing to the city's dynamic cultural identity.\n",
            "Collecting answers...\n",
            "Received question What are some key social and political movements that originated in San Francisco?\n",
            "            Came up with answer: Some key social and political movements that originated in San Francisco include:\n",
            "\n",
            "1. The LGBTQ+ Rights Movement: San Francisco has been a pivotal city in the advancement of LGBTQ+ rights and activism. The city is known for its vibrant LGBTQ+ community and organizations such as the San Francisco Gay Men's Chorus, which have played significant roles in fostering community connections and advocating for equality.\n",
            "\n",
            "2. Progressive Reform Movement: Between 1956 and 2001, San Francisco saw a strong progressive reform movement that gained momentum especially after 1975. This movement focused on social justice, labor rights, and local development projects.\n",
            "\n",
            "3. Anti-Vietnam War Protests: In the late 1960s and 1970s, San Francisco was a center for protests against the Vietnam War, including the historic October 1967 protests against the U.S. draft.\n",
            "\n",
            "4. Labor Movements: San Francisco has a history of labor activism, including strikes and rank-and-file activism within local labor unions.\n",
            "\n",
            "5. Civil Rights and Ethnic Identity Movements: The city has been a hub for various civil rights movements, including those advocating for racial and ethnic minority rights.\n",
            "\n",
            "6. The Abundance Movement: A more recent political movement rooted in San Francisco's progressive culture, focusing on ideas of abundance and leftist political ideals.\n",
            "\n",
            "These movements have shaped the cultural, racial, ethnic, and political identities of San Francisco and have had a lasting impact on the city's social and political landscape.\n",
            "Collecting answers...\n",
            "Received question What are the historical landmarks and districts significant to San Francisco’s history?\n",
            "            Came up with answer: San Francisco is home to numerous historical landmarks and districts significant to its rich history:\n",
            "\n",
            "Historical Landmarks:\n",
            "1. Fort Point - A historic fort located at the southern side of the Golden Gate Bridge, offering views of the bridge and San Francisco Bay.\n",
            "2. Conservatory of Flowers - The oldest building in Golden Gate Park, dating back to 1879, showcasing Victorian architecture.\n",
            "3. Golden Gate Bridge - An iconic suspension bridge opened in 1937, symbolizing San Francisco.\n",
            "4. Alcatraz Island - Famous former federal prison located on an island in San Francisco Bay.\n",
            "5. San Francisco Museum of Modern Art - A major cultural landmark.\n",
            "6. Ghirardelli Square - A historic chocolate factory turned shopping and dining complex.\n",
            "7. Coit Tower - A tower offering panoramic views of the city and known for its murals.\n",
            "8. Cable Cars - Historic streetcars that are a symbol of San Francisco's transportation history.\n",
            "9. Mission Dolores Park - A historic park representing the city's vibrant community spirit.\n",
            "\n",
            "Historical Districts:\n",
            "1. Jackson Square Historic District - Located in the Financial District, featuring many pre-1870s buildings.\n",
            "2. Dogpatch Historic District - Known for its industrial workers' housing, bounded by Mariposa, Tubbs, 3rd, and Indiana Streets.\n",
            "3. San Francisco Civic Center Historic District - A National Historic Landmark roughly bounded by Golden Gate Ave., 7th, Franklin, Hayes, and Market Streets.\n",
            "4. Pacific Heights - Contains many historic homes and buildings, including notable houses like the Atherton House and Tobin House.\n",
            "\n",
            "These landmarks and districts reflect San Francisco's architectural, cultural, and historical heritage, spanning from the Gold Rush era through the 20th century.\n",
            "Collecting answers...\n",
            "Received question How did the tech boom of the late 20th and early 21st centuries transform San Francisco?\n",
            "            Came up with answer: The tech boom of the late 20th and early 21st centuries profoundly transformed San Francisco and the surrounding Bay Area. Originally a region of rural farmland and small townships, including the area known as Silicon Valley, it evolved into a global center of high technology and innovation. The rise of pioneering tech firms such as Hewlett-Packard, Intel, Apple, Oracle, Cisco, and Sun Microsystems established the local economy as a tech powerhouse.\n",
            "\n",
            "This transformation led to significant economic growth and urban development in San Francisco. The influx of tech companies and workers spurred real estate development and gentrification, reshaping neighborhoods and increasing property values. The tech boom also brought challenges, including housing affordability issues and changes in the city's social fabric.\n",
            "\n",
            "Overall, the tech boom turned San Francisco from a historic urban center into a vibrant hub of technology, entrepreneurship, and innovation, influencing its economy, culture, and urban landscape.\n",
            "Collecting answers...\n",
            "Received question How has San Francisco’s economy evolved from its founding to the present day?\n",
            "            Came up with answer: San Francisco's economy has evolved significantly from its founding to the present day, shaped by various historical events and economic shifts:\n",
            "\n",
            "1. Indigenous and Early Settlement Period: Originally inhabited by the Ohlone people, the area now known as San Francisco was called Ahwaste, meaning \"place at the bay.\" The indigenous economy was based on fishing, hunting, and gathering.\n",
            "\n",
            "2. Spanish and Mexican Era: In the late 18th century, Spanish colonization introduced missions and presidios, with an economy focused on agriculture, ranching, and trade.\n",
            "\n",
            "3. Gold Rush Boom (1848-1850s): The discovery of gold in 1848 triggered a massive population influx, growing from about 1,000 to 25,000 residents by 1849. San Francisco rapidly became a commercial hub for miners, merchants, and sailors, with booming trade, shipping, and services supporting the Gold Rush economy.\n",
            "\n",
            "4. Late 19th Century Industrialization: The completion of the transcontinental railroad in 1869 connected San Francisco to the rest of the U.S., facilitating rapid movement of goods and people. Manufacturing and industrial activities expanded, particularly south of Market Street and Mission Bay, with working-class neighborhoods developing nearby.\n",
            "\n",
            "5. Early 20th Century and World War II: San Francisco became a crucial port and military hub during World War II, with military installations like the Presidio and Fort Mason. The economy was bolstered by wartime production and shipping.\n",
            "\n",
            "6. Postwar Period and Suburbanization: After WWII, suburbanization led to population shifts to surrounding areas, but San Francisco remained a cultural and economic center. The city became known for its progressive culture and as a center for music and social movements in the 1960s.\n",
            "\n",
            "7. Late 20th Century Tech and Finance Growth: San Francisco's proximity to Silicon Valley fostered growth in technology and finance sectors. The city became a major financial center and a hub for tech startups, although it faced economic challenges such as the dot-com bubble burst in the early 2000s.\n",
            "\n",
            "8. 21st Century and Present Day: San Francisco's economy is now driven by technology, finance, tourism, and services. It is one of the wealthiest U.S. cities by median household income, with a strong tech workforce and record-breaking tourism levels. The city continues to recover and adapt following economic disruptions like the dot-com crash and the COVID-19 pandemic.\n",
            "\n",
            "Overall, San Francisco's economy evolved from indigenous subsistence to a Gold Rush boomtown, then to an industrial and military port city, and finally into a global center for technology, finance, and culture.\n",
            "Collecting answers...\n",
            "Received question How has San Francisco’s history influenced its current identity and culture?\n",
            "            Came up with answer: San Francisco's history has profoundly shaped its current identity and culture through several key influences. Originally inhabited by the Ohlone people, the city experienced Spanish colonization and later became part of Mexico before being claimed by the U.S. during the Mexican-American War. The Gold Rush era brought a massive influx of diverse populations, establishing San Francisco as a booming, multicultural hub. This diversity is reflected today in its vibrant arts, music, cuisine, festivals, and architecture, with strong influences from Mexican culture due to its Hispanic population and historical ties to Spanish America.\n",
            "\n",
            "The city’s legacy of social activism and artistic freedom was notably shaped by the Beat Generation, which transformed San Francisco into a beacon of intellectual curiosity and rebellion. Additionally, San Francisco's history of technological innovation and cultural richness continues to influence its identity as a global metropolis known for diversity, eccentricity, and constant reinvention. These historical layers contribute to a unique cultural landscape that embraces both its indigenous roots and its role as a center for progressive movements and innovation.\n",
            "Collecting answers...\n",
            "Received question What challenges has San Francisco faced in terms of urban development and housing?\n",
            "            Came up with answer: San Francisco has faced significant challenges in urban development and housing, including a severe housing shortage that requires the city to add over 10,000 housing units annually, including nearly 6,000 affordable homes, to meet demand through 2031. The city has experienced costly and excessive delays in housing approvals due to discretionary decision-making and restrictive zoning policies. Many of these zoning regulations were originally designed to preserve affluent, predominantly white neighborhoods, which now hinder the construction of enough new homes to meet state-mandated targets. Additionally, federal housing grants are at risk due to funding cuts, and despite efforts at rezoning and permitting reform, convincing voters and stakeholders to support these changes has been challenging. If San Francisco does not update its zoning rules by January 2026, it risks losing state certification of its Housing Element, which is crucial for addressing the housing crisis.\n",
            "Collecting answers...\n",
            "Received question What notable figures have contributed to the history and development of San Francisco?\n",
            "            Came up with answer: Notable figures who have contributed to the history and development of San Francisco include:\n",
            "\n",
            "1. Captain Juan Bautista de Ayala - The first navigator to enter the San Francisco port in 1775, playing a key role in the early exploration and founding of the area.\n",
            "\n",
            "2. Captain Juan Bautista de Anza - Led the land expedition that helped establish the presidio and mission sites in San Francisco in 1776, foundational to the city's early settlement.\n",
            "\n",
            "3. Indigenous Ohlone people - The original inhabitants of the San Francisco area, whose culture and presence predate European colonization.\n",
            "\n",
            "4. Key figures during the 19th century Gold Rush era - While specific names are less highlighted, the influx of settlers and entrepreneurs during the Gold Rush dramatically shaped San Francisco's rapid growth and economic development.\n",
            "\n",
            "5. Various cultural and political leaders through the 19th and 20th centuries who contributed to rebuilding the city after the 1906 earthquake and fire, and to its rise as a center of commerce, culture, and technology.\n",
            "\n",
            "6. Prominent individuals born or raised in San Francisco who have influenced its cultural and social landscape, including artists, actors, musicians, and activists, though specific names vary widely.\n",
            "\n",
            "These figures collectively represent the explorers, indigenous peoples, settlers, and cultural icons who have shaped San Francisco's history from its founding through its development into a major American city.\n",
            "Generating report...\n",
            "==== The report ====\n",
            "**Comprehensive Report on the History of San Francisco**\n",
            "\n",
            "---\n",
            "\n",
            "### Introduction\n",
            "\n",
            "San Francisco, a city renowned for its cultural diversity, technological innovation, and rich historical tapestry, has evolved dramatically from its indigenous roots to become a global metropolis. This report traces the city’s history from its earliest inhabitants through pivotal events, social movements, economic transformations, and urban challenges that have shaped its unique identity.\n",
            "\n",
            "---\n",
            "\n",
            "### Early History and Indigenous Origins\n",
            "\n",
            "Long before European explorers arrived, the area now known as San Francisco was inhabited for at least 13,500 years by the Ramaytush Ohlone people, specifically the Yelamu group. The indigenous name for the region was *Ahwaste*, meaning \"place at the bay.\" The Ohlone lived in a network of bands along the San Francisco Peninsula and the greater Bay Area, sustaining themselves through fishing, hunting, and gathering. The region’s geography, including its fog and hidden harbor, delayed European discovery and settlement.\n",
            "\n",
            "---\n",
            "\n",
            "### European Exploration and Founding\n",
            "\n",
            "San Francisco’s recorded history began with Spanish exploration. In 1775, Captain Juan Bautista de Ayala became the first navigator to enter the San Francisco port. The city was officially founded on March 28, 1776, by Spanish explorer Juan Bautista de Anza, who selected the site for the Presidio, a military fortification that played a crucial role in Spanish colonization efforts in California. The Presidio’s construction marked the beginning of European settlement in the area, which was then part of New Spain and later Mexico.\n",
            "\n",
            "---\n",
            "\n",
            "### 19th Century: Gold Rush and Urban Growth\n",
            "\n",
            "The discovery of gold in 1848 near the Sacramento Valley triggered the California Gold Rush, a transformative event for San Francisco. The city’s population exploded from approximately 1,000 to 25,000 within a year as prospectors, known as \"Forty-niners,\" and entrepreneurs flooded the area. This rapid influx turned San Francisco from a modest port town into a bustling, diverse metropolis almost overnight.\n",
            "\n",
            "The Gold Rush catalyzed the city’s development as a commercial and shipping hub on the West Coast. Makeshift housing, saloons, gambling halls, and businesses sprang up to accommodate the booming population. The city’s strategic location and economic vitality helped accelerate California’s admission to the United States as a state in 1850.\n",
            "\n",
            "Throughout the 19th century, San Francisco continued to grow rapidly. The completion of the transcontinental railroad in 1869 connected the city to the rest of the country, facilitating trade and migration. Industrialization expanded, particularly in areas south of Market Street and Mission Bay, fostering working-class neighborhoods and a diversified economy.\n",
            "\n",
            "---\n",
            "\n",
            "### The 1906 Earthquake and Fire\n",
            "\n",
            "One of the most defining moments in San Francisco’s history was the catastrophic earthquake and subsequent fire of 1906. The earthquake caused widespread destruction, exacerbated by the city’s predominantly wooden architecture. The fires that followed destroyed much of the urban infrastructure, including homes, businesses, and critical facilities like the gas works, which incapacitated services such as the San Francisco Mint.\n",
            "\n",
            "The disaster displaced a large portion of the population, forcing many into refugee camps and temporary shelters. However, the destruction also cleared the way for urban redevelopment. Reconstruction efforts introduced new building technologies, architectural styles, and higher residential densities in razed areas, fundamentally reshaping the city’s physical and social landscape.\n",
            "\n",
            "---\n",
            "\n",
            "### Immigration and Cultural Diversity\n",
            "\n",
            "San Francisco’s cultural and demographic makeup has been profoundly influenced by waves of immigration. The Gold Rush attracted not only Americans but also immigrants from Europe, Asia, and Latin America. Jewish immigrants arrived early, contributing to the city’s cultural fabric. Chinese immigrants established Chinatown, one of the oldest and most vibrant ethnic enclaves in the United States. Japanese immigrants formed a community centered around Japantown, though this was disrupted during World War II due to internment policies.\n",
            "\n",
            "Over time, San Francisco evolved into a \"majority-minority city,\" with people of color constituting the majority of the population. The city’s neighborhoods, cultural institutions, and social dynamics reflect this rich ethnic diversity, which continues to evolve with ongoing immigration and demographic shifts.\n",
            "\n",
            "---\n",
            "\n",
            "### Social and Political Movements\n",
            "\n",
            "San Francisco has been a crucible for numerous social and political movements that have shaped both local and national discourse:\n",
            "\n",
            "- **LGBTQ+ Rights Movement:** The city is a historic center for LGBTQ+ activism, home to vibrant communities and organizations advocating for equality and social justice.\n",
            "  \n",
            "- **Progressive Reform Movement:** From the mid-20th century onward, San Francisco saw strong progressive activism focused on labor rights, social justice, and urban development.\n",
            "  \n",
            "- **Anti-Vietnam War Protests:** The city was a hub for anti-war demonstrations in the 1960s and 1970s, including significant protests against the U.S. draft.\n",
            "  \n",
            "- **Labor Movements:** San Francisco has a rich history of labor activism, including strikes and grassroots union organizing.\n",
            "  \n",
            "- **Civil Rights and Ethnic Identity Movements:** The city has been a focal point for movements advocating racial and ethnic minority rights.\n",
            "  \n",
            "- **The Abundance Movement:** A more recent political movement rooted in San Francisco’s progressive culture, emphasizing leftist ideals and visions of societal abundance.\n",
            "\n",
            "These movements have deeply influenced the city’s cultural, racial, ethnic, and political identities.\n",
            "\n",
            "---\n",
            "\n",
            "### San Francisco During World War II\n",
            "\n",
            "During World War II, San Francisco emerged as a critical military and industrial hub. The Bay Area became a major shipbuilding center, part of the nation’s \"Arsenal of Democracy,\" supplying vessels and materials to the Pacific theater. Coastal defenses, including Fort Point, were fortified to protect the region. The city also hosted military facilities and served as a key seaport.\n",
            "\n",
            "However, the war period also saw darker chapters, such as the internment of Japanese Americans, with assembly centers like the one at Tanforan race track in nearby San Bruno. The war effort accelerated industrial growth and urban development, setting the stage for postwar economic changes.\n",
            "\n",
            "---\n",
            "\n",
            "### Postwar Era and the Tech Boom\n",
            "\n",
            "Following World War II, San Francisco experienced suburbanization trends but remained a cultural and economic center. The 1960s brought a flourishing of artistic and social movements, including the Beat Generation and countercultural revolutions.\n",
            "\n",
            "The late 20th and early 21st centuries saw the rise of the tech boom, transforming San Francisco and the surrounding Bay Area into a global technology powerhouse. Silicon Valley, once rural farmland, became home to pioneering companies such as Hewlett-Packard, Intel, Apple, Oracle, Cisco, and Sun Microsystems. This economic shift spurred urban development, gentrification, and increased property values, while also presenting challenges like housing affordability and social displacement.\n",
            "\n",
            "---\n",
            "\n",
            "### Economic Evolution\n",
            "\n",
            "San Francisco’s economy has undergone several major transformations:\n",
            "\n",
            "- **Indigenous Economy:** Based on subsistence fishing, hunting, and gathering.\n",
            "  \n",
            "- **Spanish and Mexican Period:** Focused on agriculture, ranching, and trade.\n",
            "  \n",
            "- **Gold Rush Era:** Rapid growth as a commercial and shipping hub supporting mining activities.\n",
            "  \n",
            "- **Industrialization:** Expansion of manufacturing and port activities in the late 19th and early 20th centuries.\n",
            "  \n",
            "- **World War II:** Military production and shipping bolstered the economy.\n",
            "  \n",
            "- **Postwar Period:** Cultural and economic diversification.\n",
            "  \n",
            "- **Tech and Finance Growth:** Emergence as a center for technology, finance, and innovation.\n",
            "  \n",
            "- **Present Day:** A wealthy, diverse economy driven by technology, finance, tourism, and services.\n",
            "\n",
            "---\n",
            "\n",
            "### Urban Development and Housing Challenges\n",
            "\n",
            "San Francisco faces ongoing challenges related to urban development and housing. The city must add over 10,000 housing units annually, including nearly 6,000 affordable homes, to meet demand through 2031. However, restrictive zoning policies, originally designed to preserve affluent neighborhoods, and discretionary approval processes have slowed housing development. Funding cuts to federal housing grants and political resistance to rezoning efforts further complicate solutions.\n",
            "\n",
            "Failure to update zoning regulations by January 2026 risks losing state certification of the city’s Housing Element, which is critical for addressing the housing crisis. These challenges highlight the tension between preserving neighborhood character and accommodating growth in a rapidly evolving city.\n",
            "\n",
            "---\n",
            "\n",
            "### Historical Landmarks and Districts\n",
            "\n",
            "San Francisco’s rich history is preserved in numerous landmarks and historic districts:\n",
            "\n",
            "- **Landmarks:**\n",
            "  - *Fort Point*: Historic military fort beneath the Golden Gate Bridge.\n",
            "  - *Conservatory of Flowers*: Victorian-era greenhouse in Golden Gate Park.\n",
            "  - *Golden Gate Bridge*: Iconic suspension bridge opened in 1937.\n",
            "  - *Alcatraz Island*: Former federal prison on an island in the bay.\n",
            "  - *Ghirardelli Square*: Historic chocolate factory turned commercial complex.\n",
            "  - *Coit Tower*: Offers panoramic city views and houses murals.\n",
            "  - *Cable Cars*: Historic streetcars symbolizing the city’s transportation heritage.\n",
            "  - *Mission Dolores Park*: A vibrant community park with historical significance.\n",
            "\n",
            "- **Historic Districts:**\n",
            "  - *Jackson Square Historic District*: Financial District area with pre-1870s buildings.\n",
            "  - *Dogpatch Historic District*: Industrial workers’ housing neighborhood.\n",
            "  - *San Francisco Civic Center Historic District*: National Historic Landmark area.\n",
            "  - *Pacific Heights*: Residential district with notable historic homes.\n",
            "\n",
            "These sites reflect San Francisco’s architectural, cultural, and social evolution.\n",
            "\n",
            "---\n",
            "\n",
            "### Influential Figures\n",
            "\n",
            "Key individuals who have shaped San Francisco’s history include:\n",
            "\n",
            "- **Captain Juan Bautista de Ayala:** First navigator to enter San Francisco Bay.\n",
            "- **Captain Juan Bautista de Anza:** Founder of the Presidio and early settlement leader.\n",
            "- **The Ohlone People:** Indigenous inhabitants whose culture predates European colonization.\n",
            "- **Gold Rush Era Settlers and Entrepreneurs:** Though less individually named, their collective impact was transformative.\n",
            "- **Cultural and Political Leaders:** Various figures who led reconstruction after the 1906 disaster and fostered the city’s growth.\n",
            "- **Artists, Activists, and Innovators:** Numerous individuals born or raised in San Francisco who have influenced its cultural and social landscape.\n",
            "\n",
            "---\n",
            "\n",
            "### Influence on Current Identity and Culture\n",
            "\n",
            "San Francisco’s layered history—from indigenous roots and Spanish colonization to Gold Rush diversity and progressive activism—has forged a city known for its multiculturalism, artistic vibrancy, and social innovation. The city embraces its heritage through festivals, cuisine, architecture, and community institutions, reflecting Mexican, Asian, European, and indigenous influences.\n",
            "\n",
            "The legacy of social movements, including LGBTQ+ rights and civil rights activism, alongside its role as a tech and cultural hub, contributes to San Francisco’s reputation as a city of eccentricity, inclusivity, and constant reinvention.\n",
            "\n",
            "---\n",
            "\n",
            "### Conclusion\n",
            "\n",
            "San Francisco’s history is a complex narrative of indigenous heritage, colonial ambitions, rapid economic booms, devastating disasters, and dynamic social change. From its founding in 1776 through the Gold Rush, world wars, social movements, and the tech revolution, the city has continually transformed while maintaining a distinctive cultural identity. Today, San Francisco stands as a testament to resilience, diversity, and innovation, facing modern challenges with the same spirit that has defined its past.\n",
            "\n",
            "---\n",
            "\n",
            "**End of Report**\n"
          ]
        }
      ]
    },
    {
      "cell_type": "markdown",
      "source": [
        "## Reflection\n",
        "\n",
        "We now have a deep research agent! It comprehensively researches a topic for us before providing a detailed answer. But we can do better!\n",
        "\n",
        "LLMs are capable of self-reflection: they can read their own work, critique it, and provide feedback, allowing them to take a second try when they fall short.\n",
        "\n",
        "Let's add reflection to our deep research agent! This will involve several changes:\n",
        "\n",
        "* In `research` we'll store the research into the context, since we might need to use it multiple times\n",
        "* We'll tell `write` that it can be triggered by a `RewriteEvent` in addition to a `WriteEvent`\n",
        "* If it's a `RewriteEvent` we'll add the review as feedback to the prompt\n",
        "* `review` will be changed to optionally emit a `RewriteEvent`\n",
        "* We'll get the LLM to decide if the review returned by the agent is a \"bad\" or \"good\" review"
      ],
      "metadata": {
        "id": "fekeyr5x4E1A"
      }
    },
    {
      "cell_type": "code",
      "source": [
        "class FeedbackEvent(Event):\n",
        "    feedback: str\n",
        "\n",
        "class ReviewEvent(Event):\n",
        "    report: str\n",
        "\n",
        "review_agent = FunctionAgent(\n",
        "    tools=[],\n",
        "    llm=llm,\n",
        "    verbose=False,\n",
        "    system_prompt=\"\"\"You are part of a deep research system.\n",
        "      Your job is to review a report that's been written and suggest\n",
        "      questions that could have been asked to produce a more comprehensive\n",
        "      report than the current version, or to decide that the current\n",
        "      report is comprehensive enough.\"\"\"\n",
        ")\n",
        "\n",
        "class DeepResearchWithReflectionWorkflow(Workflow):\n",
        "\n",
        "    @step\n",
        "    async def setup(self, ctx: Context, ev: StartEvent) -> GenerateEvent:\n",
        "        self.question_agent = ev.question_agent\n",
        "        self.answer_agent = ev.answer_agent\n",
        "        self.report_agent = ev.report_agent\n",
        "        self.review_agent = ev.review_agent\n",
        "        self.review_cycles = 0\n",
        "\n",
        "        ctx.write_event_to_stream(ProgressEvent(msg=\"Starting research\"))\n",
        "\n",
        "        return GenerateEvent(research_topic=ev.research_topic)\n",
        "\n",
        "    @step\n",
        "    async def generate_questions(self, ctx: Context, ev: GenerateEvent | FeedbackEvent) -> QuestionEvent:\n",
        "\n",
        "        await ctx.set(\"research_topic\", ev.research_topic)\n",
        "        ctx.write_event_to_stream(ProgressEvent(msg=f\"Research topic is {ev.research_topic}\"))\n",
        "\n",
        "        prompt = f\"\"\"Generate some questions on the topic <topic>{ev.research_topic}</topic>.\"\"\"\n",
        "\n",
        "        if isinstance(ev, FeedbackEvent):\n",
        "            ctx.write_event_to_stream(ProgressEvent(msg=f\"Got feedback: {ev.feedback}\"))\n",
        "            prompt += f\"\"\"You have previously researched this topic and\n",
        "                got the following feedback, consisting of additional questions\n",
        "                you might want to ask: <feedback>{ev.feedback}</feedback>.\n",
        "                Keep this in mind when formulating your questions.\"\"\"\n",
        "\n",
        "        result = await self.question_agent.run(user_msg=prompt)\n",
        "\n",
        "        # some basic string manipulation to get separate questions\n",
        "        lines = str(result).split(\"\\n\")\n",
        "        questions = [line.strip() for line in lines if line.strip() != \"\"]\n",
        "\n",
        "        # record how many answers we're going to need to wait for\n",
        "        await ctx.set(\"total_questions\", len(questions))\n",
        "\n",
        "        # fire off multiple Answer Agents\n",
        "        for question in questions:\n",
        "            ctx.send_event(QuestionEvent(question=question))\n",
        "\n",
        "    @step\n",
        "    async def answer_question(self, ctx: Context, ev: QuestionEvent) -> AnswerEvent:\n",
        "\n",
        "        result = await self.answer_agent.run(user_msg=f\"\"\"Research the answer to this\n",
        "          question: <question>{ev.question}</question>. You can use web\n",
        "          search to help you find information on the topic, as many times\n",
        "          as you need. Return just the answer without preamble or markdown.\"\"\")\n",
        "\n",
        "        ctx.write_event_to_stream(ProgressEvent(msg=f\"\"\"Received question {ev.question}\n",
        "            Came up with answer: {str(result)}\"\"\"))\n",
        "\n",
        "        return AnswerEvent(question=ev.question,answer=str(result))\n",
        "\n",
        "    @step\n",
        "    async def write_report(self, ctx: Context, ev: AnswerEvent) -> ReviewEvent:\n",
        "\n",
        "        research = ctx.collect_events(ev, [AnswerEvent] * await ctx.get(\"total_questions\"))\n",
        "        # if we haven't received all the answers yet, this will be None\n",
        "        if research is None:\n",
        "            ctx.write_event_to_stream(ProgressEvent(msg=\"Collecting answers...\"))\n",
        "            return None\n",
        "\n",
        "        ctx.write_event_to_stream(ProgressEvent(msg=\"Generating report...\"))\n",
        "\n",
        "        # aggregate the questions and answers\n",
        "        all_answers = \"\"\n",
        "        for q_and_a in research:\n",
        "            all_answers += f\"Question: {q_and_a.question}\\nAnswer: {q_and_a.answer}\\n\\n\"\n",
        "\n",
        "        # prompt the report\n",
        "        result = await self.report_agent.run(user_msg=f\"\"\"You are part of a deep research system.\n",
        "          You have been given a complex topic on which to write a report:\n",
        "          <topic>{await ctx.get(\"research_topic\")}.\n",
        "\n",
        "          Other agents have already come up with a list of questions about the\n",
        "          topic and answers to those questions. Your job is to write a clear,\n",
        "          thorough report that combines all the information from those answers.\n",
        "\n",
        "          Here are the questions and answers:\n",
        "          <questions_and_answers>{all_answers}</questions_and_answers>\"\"\")\n",
        "\n",
        "        return ReviewEvent(report=str(result))\n",
        "\n",
        "    @step\n",
        "    async def review(self, ctx: Context, ev: ReviewEvent) -> StopEvent | FeedbackEvent:\n",
        "\n",
        "        result = await self.review_agent.run(user_msg=f\"\"\"You are part of a deep research system.\n",
        "          You have just written a report about the topic {await ctx.get(\"research_topic\")}.\n",
        "          Here is the report: <report>{ev.report}</report>\n",
        "          Decide whether this report is sufficiently comprehensive.\n",
        "          If it is, respond with just the string \"ACCEPTABLE\" and nothing else.\n",
        "          If it needs more research, suggest some additional questions that could\n",
        "          have been asked.\"\"\")\n",
        "\n",
        "        self.review_cycles += 1\n",
        "\n",
        "        # either it's okay or we've already gone through 3 cycles\n",
        "        if str(result) == \"ACCEPTABLE\" or self.review_cycles >= 3:\n",
        "            return StopEvent(result=ev.report)\n",
        "        else:\n",
        "            ctx.write_event_to_stream(ProgressEvent(msg=\"Sending feedback\"))\n",
        "            return FeedbackEvent(\n",
        "                research_topic=await ctx.get(\"research_topic\"),\n",
        "                feedback=str(result)\n",
        "            )"
      ],
      "metadata": {
        "id": "lrX1sk7-4PDn"
      },
      "execution_count": 43,
      "outputs": []
    },
    {
      "cell_type": "code",
      "source": [
        "workflow = DeepResearchWithReflectionWorkflow(timeout=500)\n",
        "handler = workflow.run(\n",
        "    research_topic=\"History of San Francisco\",\n",
        "    question_agent=question_agent,\n",
        "    answer_agent=answer_agent,\n",
        "    report_agent=report_agent,\n",
        "    review_agent=review_agent\n",
        ")\n",
        "\n",
        "async for ev in handler.stream_events():\n",
        "    if isinstance(ev, ProgressEvent):\n",
        "        print(ev.msg)\n",
        "\n",
        "final_result = await handler\n",
        "print(\"==== The report ====\")\n",
        "print(final_result)"
      ],
      "metadata": {
        "colab": {
          "base_uri": "https://localhost:8080/"
        },
        "id": "vaf3OwQG6Nzy",
        "outputId": "5d096c65-805e-472f-c83f-0994b0120026"
      },
      "execution_count": 46,
      "outputs": [
        {
          "output_type": "stream",
          "name": "stdout",
          "text": [
            "Starting research\n",
            "Research topic is History of San Francisco\n",
            "Received question What are the origins of San Francisco before European settlement?\n",
            "            Came up with answer: Before European settlement, the area now known as San Francisco was inhabited by indigenous peoples, primarily the Ohlone cultural group. The indigenous name for San Francisco was Ahwaste, meaning \"place at the bay.\" The Ohlone people lived in a contiguous set of bands from south of the Golden Gate to San José, and their territory did not correspond to the later city or county boundaries. The earliest inhabitants' exact origins are unclear, but they were part of a long-standing indigenous presence in the region prior to European arrival.\n",
            "Collecting answers...\n",
            "Received question When and by whom was San Francisco first established as a settlement?\n",
            "            Came up with answer: San Francisco was first established as a settlement in 1776 by Spanish colonists who founded a presidio and a mission at the site.\n",
            "Collecting answers...\n",
            "Received question Who were the indigenous peoples inhabiting the San Francisco area prior to colonization?\n",
            "            Came up with answer: The indigenous peoples inhabiting the San Francisco area prior to colonization were primarily the Ramaytush Ohlone. Specifically, the group known as the Yelamu, a tribe of the Ramaytush Ohlone, lived in what is now San Francisco County. These peoples had lived along the San Francisco Peninsula for at least 13,500 years and were stewards of the land before the arrival of Euro-Americans in the late 18th and early 19th centuries. They relied on the coastal waters and marshes for food and resources and had rich maritime traditions.\n",
            "Collecting answers...\n",
            "Received question How did the California Gold Rush impact the growth and development of San Francisco?\n",
            "            Came up with answer: The California Gold Rush had a profound impact on the growth and development of San Francisco. Before the Gold Rush, San Francisco was a small, sleepy port town with few permanent buildings. The discovery of gold in 1848 triggered a massive influx of prospectors, known as the \"Forty-niners,\" which caused the city's population to explode from a few hundred to around 25,000 by 1849. This rapid population growth transformed San Francisco into a booming metropolis almost overnight.\n",
            "\n",
            "The Gold Rush turned San Francisco into a hub of entrepreneurial activity, attracting a diverse population eager to capitalize on the opportunities created by the mining boom. The city quickly developed with makeshift tent houses, hotels, stores, saloons, gambling halls, and shanties to accommodate the influx of people. The demand for goods and services fueled economic growth and urban development.\n",
            "\n",
            "Additionally, the Gold Rush accelerated California's admission into the United States as a state in 1850, further solidifying San Francisco's importance as a major urban center. The event left an indelible mark on the city's culture and identity, shaping it into a thriving metropolis and a key gateway to the American West.\n",
            "Collecting answers...\n",
            "Received question What major events shaped San Francisco during the 19th century?\n",
            "            Came up with answer: Major events that shaped San Francisco during the 19th century include:\n",
            "\n",
            "1. The California Gold Rush (starting in 1848): The discovery of gold nuggets in the Sacramento Valley sparked a massive influx of prospectors and settlers to San Francisco. The city's population exploded from about 1,000 to 25,000 between 1848 and 1849. This event transformed San Francisco from a quiet port town into a bustling, diverse metropolis and set it on the path to becoming a major city.\n",
            "\n",
            "2. Rapid urban growth and development: The Gold Rush led to rapid population growth and the development of infrastructure, streets, and landmarks in San Francisco throughout the 19th century.\n",
            "\n",
            "3. Cultural transformation: The Gold Rush and subsequent immigration created a unique and diverse cultural identity for San Francisco, contributing to its dynamic growth and evolution during the century.\n",
            "\n",
            "These events collectively shaped San Francisco's emergence as a vibrant, economically significant, and culturally diverse city by the end of the 19th century.\n",
            "Collecting answers...\n",
            "Received question How did the 1906 earthquake and subsequent fire affect the city’s infrastructure and population?\n",
            "            Came up with answer: The 1906 earthquake and subsequent fire had a devastating impact on San Francisco's infrastructure and population. The earthquake caused massive destruction to the city's buildings, many of which were made of wood, leading to widespread structural damage. The fires that followed the earthquake further ravaged the city, destroying large areas and exacerbating the damage to infrastructure.\n",
            "\n",
            "The disaster led to a significant loss of life and displacement of residents, with many people forced to evacuate and live in refugee camps. The destruction also removed many existing structures, which later allowed for large-scale redevelopment initiatives in the city. This redevelopment included projects like the Mission Bay project, which transformed old railway yards into residential, commercial, and mixed-use areas, resulting in higher residential density in the razed parts of the city.\n",
            "\n",
            "Overall, the 1906 earthquake and fire not only caused immediate catastrophic damage to San Francisco's infrastructure and population but also shaped the city's long-term urban development and land-use patterns.\n",
            "Collecting answers...\n",
            "Received question What role did San Francisco play during World War II?\n",
            "            Came up with answer: During World War II, San Francisco played a crucial role as part of America's \"Arsenal of Democracy.\" The San Francisco Bay Area became a major center for shipbuilding, serving as a shipyard and a coastal fortress. It was a key pipeline to the Pacific theater, with its coastal defenses forming the backbone of the region's military strength. Fort McDowell on Angel Island and other military installations in the area were used for various purposes including as ports of embarkation, detention centers, and military camps. The city and its surrounding areas also supported the war effort through manufacturing and served as a major seaport. Additionally, San Francisco was involved in the internment process of Japanese Americans, with facilities like the Tanforan Assembly Center used to detain internees before they were sent to permanent camps inland. Overall, San Francisco was a vital hub for military operations, shipbuilding, and coastal defense during World War II.\n",
            "Collecting answers...\n",
            "Received question How did immigration influence the cultural and demographic makeup of San Francisco throughout its history?\n",
            "            Came up with answer: Immigration has profoundly influenced the cultural and demographic makeup of San Francisco throughout its history. From its early days, San Francisco served as a gateway for immigrants from diverse nationalities, including British, Irish, German, French, Italian, Peruvian, Mexican, Swedish, Canadian, Chinese, Russian, and Greek, among others. For example, the North Beach district became a vibrant immigrant enclave, especially known for its strong Italian and Mexican communities by the late 19th century.\n",
            "\n",
            "Jewish immigrants from Europe arrived even before the 1849 Gold Rush, contributing significantly to the city's culture. The Chinese community established Chinatown, one of the oldest and most prominent in the United States. The Japanese community, centered in Japantown, was a notable presence until World War II, when Executive Order 9066 led to their forced relocation.\n",
            "\n",
            "Throughout its history, San Francisco's immigrant populations have shaped its neighborhoods, cultural institutions, religious establishments, and economic life, making the city a mosaic of ethnicities and cultures. This diversity has been a defining characteristic of San Francisco, influencing its social fabric, cuisine, festivals, and community life. The city's demographic profile continues to evolve with ongoing immigration, reflecting a broad spectrum of global cultures.\n",
            "Collecting answers...\n",
            "Received question How has San Francisco’s economy evolved from its founding to the present day?\n",
            "            Came up with answer: San Francisco's economy has evolved significantly from its founding to the present day. Initially, the area was inhabited by indigenous peoples, with the Ohlone population living in the region before Spanish colonization. The city's modern economic history began in earnest during the California Gold Rush starting in 1848, which caused a population boom from about 1,000 to 25,000 people by 1849. This rapid growth established San Francisco as a key commercial hub, attracting miners, merchants, businessmen, and sailors.\n",
            "\n",
            "In the late 19th century, the completion of the transcontinental railroad in 1869 connected San Francisco to the rest of the United States, facilitating the rapid movement of goods and people and further boosting its commercial importance. Industrialization expanded with manufacturing centers developing south of Market Street and beyond the city limits, supporting a growing working-class population.\n",
            "\n",
            "During the 20th century, San Francisco played a crucial role in World War II due to its strategic port and economy. Post-war, the city continued to grow as a financial and cultural center of the western United States. In recent decades, San Francisco has become a global technology and innovation hub, with a strong presence of tech companies and startups, contributing to its reputation as a leading city in technological advancements and progressive culture.\n",
            "\n",
            "Overall, San Francisco's economy evolved from indigenous lands to a Gold Rush boomtown, then to an industrial and port city, and finally into a modern global metropolis known for finance, technology, and culture.\n",
            "Collecting answers...\n",
            "Received question What are some key social and political movements that originated or were prominent in San Francisco?\n",
            "            Came up with answer: Some key social and political movements that originated or were prominent in San Francisco include:\n",
            "\n",
            "1. The LGBTQ+ Rights Movement: San Francisco has been a pivotal city in the advancement of LGBTQ+ rights and activism. The city is known for its vibrant LGBTQ+ community and organizations such as the San Francisco Gay Men's Chorus, which have played a significant role in fostering community connections and advocating for equality.\n",
            "\n",
            "2. Progressive Reform Movement: From the mid-20th century onward, San Francisco saw a strong progressive reform movement focused on social justice, housing, labor rights, and anti-war activism. This movement gained momentum especially after the 1960s and 1970s, including protests against the Vietnam War and local labor strikes.\n",
            "\n",
            "3. Civil Rights and Ethnic Identity Movements: Various racial and ethnic groups in San Francisco have organized movements to assert their cultural identities and fight for civil rights, contributing to the city's diverse social fabric.\n",
            "\n",
            "4. Anti-War and Draft Resistance Protests: In the late 1960s, San Francisco was a center for protests against the Vietnam War and the military draft, reflecting its role as a hub for political activism.\n",
            "\n",
            "5. Labor Movements: San Francisco has a history of labor activism, including strikes and efforts to improve workers' rights and conditions.\n",
            "\n",
            "Politically, San Francisco is known for its strong liberal and progressive stance, with a predominantly Democratic voter base. Key political issues in the city include affordable housing, homelessness, transportation infrastructure, public safety, and environmental sustainability. The city has a tradition of political activism and engagement, often positioning itself in opposition to conservative policies at the national level.\n",
            "Collecting answers...\n",
            "Received question What are the historical landmarks and districts that reflect San Francisco’s past?\n",
            "            Came up with answer: San Francisco's historical landmarks and districts that reflect its past include a wide range of designated landmarks and landmark districts protected under the San Francisco Planning Code. Notable historic districts and landmarks include:\n",
            "\n",
            "- The San Francisco Designated Landmarks, which number over 260, encompassing buildings, structures, and sites of historical and cultural significance.\n",
            "- Landmark Districts, which are neighborhoods or areas recognized for their historical value, with 12 designated districts.\n",
            "- Specific historic places listed on the National Register of Historic Places, such as the Atherton House in Lower Pacific Heights, the Hobart Building in the Financial District, and various historic residences and storefronts in neighborhoods like Haight-Ashbury.\n",
            "- Historic districts recognized by the city and eligible for state and national registers, reflecting the architectural and cultural heritage of San Francisco neighborhoods.\n",
            "\n",
            "These landmarks and districts collectively showcase the city's rich history, from its early development through the Gold Rush era, Victorian architecture, to its evolution as a major urban center. The city actively preserves these sites to maintain the historical character and cultural legacy of San Francisco.\n",
            "Collecting answers...\n",
            "Received question How did the tech boom in the late 20th and early 21st centuries transform San Francisco?\n",
            "            Came up with answer: The tech boom in the late 20th and early 21st centuries transformed San Francisco primarily through rapid economic growth centered around Silicon Valley, which is part of the Bay Area. This boom turned the region into the country's most prestigious tech hub, attracting major tech companies like Google, Facebook, and Apple. The influx of tech companies and workers led to significant gentrification, driving up housing costs and evictions by over 100%, which displaced many long-term residents and altered the city's demographic and cultural landscape. The city, once known for its gold rush history, became synonymous with technology and innovation, reshaping its economy, real estate market, and social fabric. The tech boom also spurred intense competition in real estate, with neighborhoods transforming rapidly due to new investments and development driven by the tech industry's growth.\n",
            "Collecting answers...\n",
            "Received question How has San Francisco’s role as a port city influenced its historical development?\n",
            "            Came up with answer: San Francisco's role as a port city has been central to its historical development, shaping its economy, culture, and urban landscape. The city's waterfront, particularly the eastern edge along the San Francisco Bay, evolved significantly from the mid-19th century through the 20th century. During the Gold Rush era, San Francisco rapidly grew as a key port for goods and people arriving on the West Coast, becoming a vital economic hub. The port handled primarily break-bulk cargo for many decades, facilitating trade and commerce that fueled the city's growth.\n",
            "\n",
            "Over time, improvements in cargo handling and infrastructure transformed the port, although by the 21st century, much of the containerized shipping shifted to the Port of Oakland, which now manages the majority of Northern California's containerized goods. Despite this shift, San Francisco's port remains historically significant and has been preserved as a historic district, contributing to the city's identity and tourism. The waterfront's redevelopment has balanced historic preservation with new uses, maintaining the port's legacy as a foundational element of San Francisco's development and ongoing cultural and economic life.\n",
            "Collecting answers...\n",
            "Received question What is the history of San Francisco’s Chinatown and other ethnic neighborhoods?\n",
            "            Came up with answer: San Francisco’s Chinatown is the oldest Chinatown in North America and one of the largest Chinese enclaves outside Asia. It was established in the mid-19th century, around the early 1850s, as Chinese immigrants arrived during the California Gold Rush and to work on the Transcontinental Railroad. Grant Avenue, the main street in Chinatown, was originally San Francisco’s first street and the area was close to the original port of the city. The Chinese community faced significant discrimination and hardship but organized themselves through groups like the Chinese Six Companies, which provided social order and assistance. Over time, Chinatown became a cultural and commercial hub for Chinese Americans, preserving Chinese traditions and serving as a gateway for new immigrants.\n",
            "\n",
            "Other ethnic neighborhoods in San Francisco also have histories shaped by immigration and racial segregation. For example, Japantown emerged as a center for Japanese immigrants, while the Mission District became home to a large Latinx community, particularly after the mid-20th century. African American populations were historically concentrated in neighborhoods like Bayview-Hunters Point due to discriminatory housing policies and economic factors. These ethnic enclaves often arose both as a result of community solidarity and external pressures such as racism, segregation, and displacement. Despite challenges, these neighborhoods have contributed richly to San Francisco’s cultural diversity and identity.\n",
            "Collecting answers...\n",
            "Received question What challenges has San Francisco faced in terms of urban development and housing over its history?\n",
            "            Came up with answer: San Francisco has faced several significant challenges in urban development and housing throughout its history. The city is geographically constrained, occupying about 47 square miles on a peninsula with limited ability to expand through bay infill or annexation, which severely limits development potential. Historically, San Francisco has undergone intense periods of rebuilding, notably after the California Gold Rush, the 1906 earthquake and fire, and during the rise of the modern high-rise city in the mid-20th century.\n",
            "\n",
            "The city’s restrictive zoning policies, many of which were originally designed to preserve affluent, predominantly white neighborhoods, have limited housing construction and contributed to a persistent housing shortage. This has led to high housing costs relative to household incomes, making affordability a major issue. Efforts to address these challenges have included urban renewal projects, which sometimes resulted in displacement of communities, and more recent attempts to reform zoning laws to allow for more housing development.\n",
            "\n",
            "San Francisco’s housing crisis is compounded by its inability to expand geographically, restrictive zoning, and the legacy of policies that have contributed to economic and racial segregation. The state of California has mandated changes to San Francisco’s zoning to increase housing supply, but the city faces political and social challenges in implementing these reforms. Overall, San Francisco’s urban development and housing challenges stem from geographic constraints, historical redevelopment cycles, restrictive zoning, and socio-economic factors leading to affordability and displacement issues.\n",
            "Collecting answers...\n",
            "Received question How did San Francisco’s transportation systems develop over time?\n",
            "            Came up with answer: San Francisco’s transportation systems developed over time through several key phases. Initially, in the mid-19th century, transportation was entrepreneurial and fragmented, with horse-drawn omnibuses and rail transit services operated by private companies. The San Francisco Market Street Railroad Company began operations in 1860 using steam and horse power. Some horse car companies converted to cable car operations, and new companies built cable lines such as the California Street and Geary Street lines.\n",
            "\n",
            "By the early 20th century, the city had a complex network of cable cars, streetcars, and horse-drawn vehicles. The 1906 earthquake and fire led to significant changes, with many cable car and streetcar lines eventually replaced by buses by the mid-20th century. The San Francisco Municipal Railway (Muni) was established as a public transit system, symbolizing public ownership and political significance.\n",
            "\n",
            "In the mid-20th century, major infrastructure projects like the San Francisco-Oakland Bay Bridge (opened in 1936) and the Golden Gate Bridge (opened in 1937) enhanced regional connectivity. The Bay Area Rapid Transit (BART) system was formed in 1957, with construction starting in 1964, marking the development of rapid transit in the region.\n",
            "\n",
            "Overall, San Francisco’s transportation evolved from fragmented private horse and cable car lines to a more unified public transit system including buses, streetcars, cable cars, bridges, and rapid transit, reflecting the city’s growth and changing transportation needs over time.\n",
            "Collecting answers...\n",
            "Received question What impact did the LGBTQ+ rights movement have on the city’s history?\n",
            "            Came up with answer: The LGBTQ+ rights movement has had a profound impact on the history of cities, particularly those like San Francisco and New York City, which played pivotal roles in advancing the cause. The movement began gaining momentum with events such as the Stonewall Riots in New York City in 1969, which marked the first major uprising for LGBTQ+ rights and the start of the gay rights movement in America. This activism led to the first pride marches in cities like New York, Los Angeles, and Chicago, initially as protests demanding rights, visibility, and acceptance.\n",
            "\n",
            "In cities like San Francisco, the LGBTQ+ movement fostered strong community connections and championed representation in arts and culture, exemplified by groups such as the San Francisco Gay Men's Chorus. The movement also influenced cultural aspects beyond legal victories, shaping media, arts, language, and public attitudes. Despite setbacks like the AIDS epidemic in the 1980s, the movement's activism led to renewed coalitions and increased visibility.\n",
            "\n",
            "Overall, the LGBTQ+ rights movement transformed cities by promoting equality, influencing cultural expression, and reshaping social and political landscapes, making these cities centers of progressive change and advocacy for LGBTQ+ rights.\n",
            "Collecting answers...\n",
            "Received question How have natural disasters besides the 1906 earthquake shaped San Francisco?\n",
            "            Came up with answer: Besides the 1906 earthquake, other natural disasters have also shaped San Francisco. The Fort Tejon earthquake of 1857, estimated at magnitude 7.9 or 8.0, was a significant seismic event that affected the region and was comparable in strength to the 1906 quake. Additionally, ongoing seismic activity along the San Andreas Fault has influenced building codes and urban planning in San Francisco, leading to continuous improvements in earthquake-resistant construction. Fires following earthquakes have historically caused extensive damage, prompting the city to prioritize fire safety measures. These natural disasters have collectively influenced San Francisco's development, infrastructure, and approach to disaster preparedness, shaping the city's modern form and resilience.\n",
            "Collecting answers...\n",
            "Received question How has San Francisco’s cultural scene evolved throughout its history?\n",
            "            Came up with answer: San Francisco’s cultural scene has evolved significantly throughout its history, reflecting the city’s diverse population, progressive attitudes, and dynamic social movements. Initially, the area was home to indigenous peoples before Spanish colonization introduced European influences. The Gold Rush era in the mid-19th century brought rapid growth and a mix of cultures, establishing San Francisco as a major economic and cultural hub.\n",
            "\n",
            "In the 1950s, San Francisco became a center for the Beat Generation, with figures like Allen Ginsberg shaping its artistic legacy. The 1960s saw the city at the heart of the counterculture movement, including the rise of psychedelic music and the hippie movement, with bands like the Grateful Dead emerging from the scene.\n",
            "\n",
            "Throughout the late 20th century and into the 21st, San Francisco’s cultural scene has continued to evolve, influenced by its role as a birthplace of technological innovation and its commitment to environmental stewardship. The city has seen a cultural renaissance with new museums, art fairs, and a vibrant arts community that integrates technology and creativity. This ongoing evolution reflects San Francisco’s identity as a city of contrasts and continuities, where history meets innovation and diversity drives creativity.\n",
            "Collecting answers...\n",
            "Received question What historical figures are most associated with San Francisco’s development?\n",
            "            Came up with answer: Key historical figures most associated with San Francisco’s development include:\n",
            "\n",
            "1. Captain Juan Bautista de Ayala - The first navigator to enter San Francisco Bay in 1775, he played a key role in the early Spanish exploration and establishment of the area.\n",
            "\n",
            "2. Captain Juan Bautista Anza - Led the land expedition that helped establish the Presidio and Mission San Francisco in 1776, foundational to the city's early settlement.\n",
            "\n",
            "3. Father Junípero Serra - A Franciscan missionary who founded the Mission San Francisco de Asís (Mission Dolores) in 1776, critical in the Spanish colonization and cultural development of the area.\n",
            "\n",
            "4. James Rolph Jr. - Mayor of San Francisco in the early 20th century who oversaw rebuilding efforts after the 1906 earthquake and fire, contributing to the city's recovery and growth.\n",
            "\n",
            "5. Leland Stanford - A key figure in the completion of the Transcontinental Railroad in 1869, which connected San Francisco to the rest of the United States and boosted its commercial importance.\n",
            "\n",
            "These figures, among others, were instrumental in San Francisco’s founding, early settlement, recovery from disasters, and emergence as a major economic and cultural hub.\n",
            "Generating report...\n",
            "Sending feedback\n",
            "Research topic is History of San Francisco\n",
            "Got feedback: - How did San Francisco’s role in the transpacific trade and immigration influence its economic and cultural development in the 19th and early 20th centuries?  \n",
            "- What were the specific impacts of Prohibition and organized crime on San Francisco’s social and political landscape?  \n",
            "- How did San Francisco’s educational institutions and universities contribute to its cultural and technological growth?  \n",
            "- What is the history and impact of environmental movements and policies in San Francisco?  \n",
            "- How have indigenous communities in the San Francisco area preserved their culture and rights in the modern era?  \n",
            "- What role did San Francisco play in the development of American art, music, and film beyond the Beat Generation and 1960s counterculture?  \n",
            "- How have immigration policies and national events (e.g., Chinese Exclusion Act, Japanese internment) specifically affected San Francisco’s ethnic communities over time?  \n",
            "- What are the detailed histories of labor movements and unions in San Francisco, including key strikes and labor leaders?  \n",
            "- How has San Francisco’s LGBTQ+ community evolved in the 21st century, including challenges and achievements?  \n",
            "- What are the historical and contemporary roles of women and minority groups in shaping San Francisco’s political and social movements?\n",
            "Received question How did the California Gold Rush impact the demographic and economic development of San Francisco?\n",
            "            Came up with answer: The California Gold Rush had a profound impact on the demographic and economic development of San Francisco. The city's population exploded from about 1,000 in 1848 to around 25,000 by 1849 as prospectors and entrepreneurs flocked to the area. This rapid influx transformed San Francisco from a quiet port town into a bustling, diverse metropolis. The Gold Rush attracted a remarkably diverse population, creating a unique cultural identity for the city. Economically, San Francisco became a hub of entrepreneurial activity, supplying goods and services to miners and capitalizing on the rapid growth. The demand generated by the Gold Rush accelerated the city's expansion and helped establish it as a major economic center. Additionally, the Gold Rush expedited California's admission into the United States as a state in 1850, further integrating San Francisco into the national economy. Overall, the Gold Rush set San Francisco on the path to becoming the major city it is today.\n",
            "Collecting answers...\n",
            "Received question How did immigration waves, including Chinese, Japanese, and other groups, influence the social fabric of San Francisco?\n",
            "            Came up with answer: Immigration waves, including Chinese, Japanese, and other groups, profoundly influenced the social fabric of San Francisco by shaping its cultural, economic, and community landscape.\n",
            "\n",
            "Chinese immigrants were among the earliest and most significant groups to arrive in San Francisco, primarily during the mid-19th century. They initially worked in railroad construction, mining, and agriculture. Despite facing severe discrimination and legal barriers such as the Chinese Exclusion Act of 1882, which halted further Chinese immigration, the Chinese community established a vibrant and enduring presence. San Francisco's Chinatown became the oldest and one of the largest Chinese communities in North America, serving as a cultural and economic hub. Over time, Chinatown's financial success contributed to greater racial tolerance and acceptance of Chinese Americans. The community also expanded beyond Chinatown into neighborhoods like the Richmond and Sunset Districts, reflecting growing diversity within Chinese immigrants themselves.\n",
            "\n",
            "Japanese immigrants also made significant contributions to San Francisco's social fabric. The original Japantown, or Nihonjin-Machi, was located south of Market Street and became a thriving cultural and economic center for Japanese Americans. This community supported important institutions such as the Japanese Association of America, Buddhist churches, Japanese-language schools, and businesses catering to both Japanese and broader American populations. The Japanese community's presence helped enrich the city's cultural diversity and fostered a sense of identity and solidarity among its members.\n",
            "\n",
            "Other immigrant groups similarly contributed to San Francisco's multicultural environment. Immigrants from Latin America, Europe, and other parts of Asia have added to the city's social complexity, creating a mosaic of languages, traditions, and social networks. These groups have often formed organizations and alliances to support each other, advocate for immigrant rights, and provide essential services such as legal aid, housing support, and education. Labor unions and immigrant organizations have collaborated on campaigns to improve working conditions and social inclusion for immigrants.\n",
            "\n",
            "Overall, the waves of immigration to San Francisco have created a dynamic and diverse social fabric characterized by ethnic enclaves, cultural institutions, economic contributions, and ongoing struggles for acceptance and equality. These immigrant communities have shaped the city's identity as a multicultural metropolis and continue to influence its social and cultural development.\n",
            "Collecting answers...\n",
            "Received question What were the origins and early history of San Francisco before European settlement?\n",
            "            Came up with answer: Before European settlement, the area now known as San Francisco was inhabited by indigenous peoples, primarily the Ohlone people. The indigenous name for the region was Ahwaste, meaning \"place at the bay.\" The Ohlone were part of a larger cultural group that lived in a contiguous set of bands stretching from south of the Golden Gate to San José. These native peoples lived in the region for thousands of years, relying on the rich natural resources of the bay and surrounding lands for sustenance. Their society was organized around hunting, gathering, and fishing, and they had a deep spiritual connection to the land. The boundaries recognized by later American settlers did not correspond to the indigenous territories, which were defined by natural landmarks and cultural ties rather than political borders. This early history reflects a long-standing human presence and cultural development in the San Francisco area prior to European arrival.\n",
            "Collecting answers...\n",
            "Received question In what ways did San Francisco’s role in transpacific trade shape its economy and cultural diversity in the 19th and early 20th centuries?\n",
            "            Came up with answer: San Francisco's role in transpacific trade during the 19th and early 20th centuries significantly shaped its economy and cultural diversity. As a major port on the Pacific Coast, San Francisco became a critical hub for commerce between the United States and Asia, particularly China and Japan. The city's economy benefited from its position as a gateway for goods such as gold, quicksilver (mercury), and other commodities, which were exported globally. San Francisco's merchants and banks played a central role in financing foreign trade on the Pacific Coast, establishing correspondent relations with major financial centers like London, Paris, Berlin, Tokyo, and Hong Kong.\n",
            "\n",
            "Culturally, the transpacific trade fostered the growth of vibrant immigrant communities, especially Chinese and Japanese populations. San Francisco's Chinatown became the largest and most dynamic Chinese community in America, serving as a key port of entry and departure for Chinese immigrants traveling between the Old World and the New. Similarly, the Japanese community established a strong presence, contributing to the city's multicultural fabric. These immigrant groups brought their cultural traditions, social structures, and economic activities, enriching San Francisco's diversity.\n",
            "\n",
            "The city's connection to Asia through trade also influenced its social and cultural institutions, including the establishment of cultural centers and trade organizations that reflected the transpacific ties. Overall, San Francisco's economy thrived as a commercial and financial center linked to the Pacific Rim, while its cultural landscape was deeply shaped by the continuous flow of people, goods, and ideas across the Pacific Ocean.\n",
            "Collecting answers...\n",
            "Received question What were the effects of the Chinese Exclusion Act and Japanese internment on San Francisco’s ethnic communities?\n",
            "            Came up with answer: The Chinese Exclusion Act had profound effects on San Francisco’s Chinese community. It severely restricted Chinese immigration, leading to a decline in the Chinese population growth and isolating the community. The Act institutionalized racial discrimination, limiting Chinese immigrants' ability to bring family members to the U.S., which disrupted family structures and community cohesion. Economically, Chinese laborers faced exclusion from many jobs and industries, reinforcing segregation and economic marginalization. Despite these challenges, San Francisco’s Chinatown became a cultural and economic hub, fostering a sense of identity and resilience among Chinese Americans, though they continued to face social and legal discrimination.\n",
            "\n",
            "The Japanese internment during World War II had devastating effects on San Francisco’s Japanese community. Following the attack on Pearl Harbor, Japanese Americans were forcibly removed from their homes and sent to internment camps, disrupting their lives, businesses, and communities. San Francisco’s Japantown was particularly impacted, with many residents losing property and livelihoods. The internment fractured the community, damaged cultural institutions, and caused long-term economic and psychological harm. Despite these hardships, the Japanese American community demonstrated resilience, rebuilding their lives and cultural presence in San Francisco after the war, though the scars of internment persisted for generations.\n",
            "Collecting answers...\n",
            "Received question How did Prohibition and organized crime affect San Francisco’s social, political, and economic landscape during the early 20th century?\n",
            "            Came up with answer: During the early 20th century, Prohibition significantly affected San Francisco's social, political, and economic landscape by fostering a rise in organized crime and vice-related activities. The ban on alcohol sales under the Volstead Act led to the proliferation of illegal bootlegging operations and speakeasies in the city. Organized crime groups capitalized on the demand for illicit liquor, generating substantial profits that allowed them to expand their influence.\n",
            "\n",
            "Socially, this period saw an increase in crime and vice, including gambling and narcotics, which challenged law enforcement and public order. Politically, corruption became a major issue as organized crime syndicates often bribed officials and police to protect their operations, undermining public trust in government institutions. Economically, while legitimate businesses related to alcohol suffered, the underground economy thrived, with bootleggers and crime families accumulating wealth and power.\n",
            "\n",
            "San Francisco's experience mirrored national trends where Prohibition taught organized crime syndicates to cooperate on a larger scale, extending their reach and impact well beyond the repeal of Prohibition. The era left a lasting legacy on the city's political and social fabric, highlighting the complexities and unintended consequences of the alcohol ban.\n",
            "Collecting answers...\n",
            "Received question What is the history of labor movements and unions in San Francisco, including significant strikes and influential labor leaders?\n",
            "            Came up with answer: The history of labor movements and unions in San Francisco is rich and significant, marked by early organizing efforts, powerful unions, major strikes, and influential labor leaders.\n",
            "\n",
            "Labor organizing in San Francisco began in the mid-19th century during the Gold Rush era. By 1853, growing worker organizations pressured the California legislature to pass a progressive labor law limiting work hours to ten per day. Early unions formed among printers, sailors, musicians, cigar makers, dockworkers, painters, and others.\n",
            "\n",
            "In the late 19th and early 20th centuries, the San Francisco Building Trades Council (BTC) became one of the most powerful labor organizations in the country, dominating the construction industry from about 1896 to 1921. The BTC required all workers in the industry to carry union working cards, which served as both proof of membership and a passport to employment, solidifying union control.\n",
            "\n",
            "One of the most significant events in San Francisco labor history was the 1934 West Coast Waterfront Strike, which involved longshoremen and other maritime workers. This strike was pivotal in establishing the International Longshore and Warehouse Union (ILWU) and had lasting impacts on national labor policy. The strike was marked by violent confrontations, including \"Bloody Thursday,\" when police clashed with strikers.\n",
            "\n",
            "Influential labor leaders in San Francisco's history include those who led the Building Trades Council and the ILWU during critical periods. These leaders helped organize workers, negotiate contracts, and fight for labor rights in a city that was a major hub for maritime and construction industries.\n",
            "\n",
            "Overall, San Francisco's labor movement history is characterized by early progressive labor laws, strong union organizations like the BTC and ILWU, major strikes such as the 1934 waterfront strike, and leaders who shaped labor rights locally and nationally.\n",
            "Collecting answers...\n",
            "Received question How have San Francisco’s educational institutions and universities contributed to its cultural, scientific, and technological advancements?\n",
            "            Came up with answer: San Francisco's educational institutions and universities have significantly contributed to the city's cultural, scientific, and technological advancements in several ways:\n",
            "\n",
            "Cultural Contributions:\n",
            "- The San Francisco Unified School District and City College of San Francisco serve a large and diverse student population, including many young people of color, contributing to the city's rich social and cultural fabric.\n",
            "- The San Francisco Public Library system, with its extensive branches and digital collections, supports education, cultural preservation, and community engagement by providing access to historical and cultural resources.\n",
            "- Programs like the San Francisco Cultural Districts initiative work with educational and community groups to preserve and promote the unique cultural heritage of various neighborhoods, fostering cultural sustainability and community empowerment.\n",
            "\n",
            "Scientific Contributions:\n",
            "- The University of California, San Francisco (UCSF) is a major hub for scientific research, particularly in life sciences, biotechnology, and medical research. UCSF has pioneered significant medical advancements, including establishing specialized care units for AIDS patients.\n",
            "- San Francisco's proximity to leading research institutions fosters collaboration and innovation in scientific fields, making the city a center for life science advancements and biotech innovation.\n",
            "\n",
            "Technological Contributions:\n",
            "- San Francisco benefits from its proximity to world-renowned educational institutions such as Stanford University, UC Berkeley, and the University of San Francisco, which produce highly skilled graduates who drive the tech industry.\n",
            "- These universities have played a key role in shaping Silicon Valley's evolution by adapting to new demands and fostering entrepreneurship and innovation.\n",
            "- The city's innovation ecosystem is supported by government initiatives, public-private partnerships, and a culture of diversity and openness, making it a global technology hub, especially in areas like data science, artificial intelligence, and software development.\n",
            "- Major tech companies headquartered in the Bay Area, including OpenAI, Google, Apple, and Facebook, benefit from the talent and research coming out of these educational institutions.\n",
            "\n",
            "Overall, San Francisco's educational institutions and universities are integral to the city's identity as a vibrant cultural center, a leader in scientific research, and a powerhouse of technological innovation.\n",
            "Collecting answers...\n",
            "Received question What role did San Francisco play in the development of American art, music, and film beyond the Beat Generation and 1960s counterculture?\n",
            "            Came up with answer: Beyond the Beat Generation and the 1960s counterculture, San Francisco played a significant and multifaceted role in the development of American art, music, and film.\n",
            "\n",
            "In art, San Francisco nurtured influential movements and artists beyond the Beat era. The city was home to the Bay Area Figurative Movement, which included artists like Richard Diebenkorn and Viola Frey, who elevated ceramics to fine art. The city also supported the diffusion of the Chicano Art Movement through institutions like the Mission Cultural Center for Latino Arts. San Francisco's art scene remained vibrant and diverse, fostering creative expression that extended well beyond the 1960s.\n",
            "\n",
            "In music, while the 1960s counterculture and the \"San Francisco Sound\" of psychedelic rock are well-known, the city's influence continued beyond that period. San Francisco was a hub for musical innovation, with roots in the folk revival and Beat literary movement. The city hosted free concerts and political art events organized by groups like the San Francisco Diggers, which helped sustain a culture of musical experimentation and social activism. The legacy of these movements influenced later genres and artists, making San Francisco a lasting symbol of musical creativity and cultural revolution.\n",
            "\n",
            "Regarding film, San Francisco's contribution extended beyond the Beat Generation and 1960s counterculture through its enduring culture of dissent and bohemian communities. While the close collaboration of Beat writers and artists in film diminished by the mid-1950s, the city's spirit of social and cultural critique persisted. San Francisco became a site for documenting and reflecting on social change, with numerous photographic and film archives capturing the evolving cultural landscape. The city's unique atmosphere and history have continued to inspire filmmakers and artists exploring themes of social justice, identity, and transformation.\n",
            "\n",
            "Overall, San Francisco's role in American art, music, and film after the Beat Generation and 1960s counterculture is characterized by its ongoing support for innovative artistic movements, its nurturing of diverse cultural expressions, and its status as a symbol of social change and creative freedom.\n",
            "Collecting answers...\n",
            "Received question How have indigenous communities in the San Francisco area preserved their culture, rights, and presence in the modern era?\n",
            "            Came up with answer: Indigenous communities in the San Francisco area have preserved their culture, rights, and presence in the modern era through a combination of activism, cultural revitalization, and community organization. Despite being a small percentage of the city's population, Indigenous people have worked to increase visibility and representation. Key efforts include the establishment of the American Indian Cultural District in 2020, which aims to indigenize San Francisco by honoring and celebrating American Indian culture through various projects.\n",
            "\n",
            "Historically significant activism includes the 1969 occupation of Alcatraz Island by Native American activists (\"Indians of All Tribes\"), which was a pivotal protest to reclaim land rights and highlight the government's mistreatment of Native people. This event helped spark ongoing movements for Indigenous rights and land reclamation in the Bay Area.\n",
            "\n",
            "Local Indigenous leaders and organizations continue to advocate for recognition, cultural preservation, and health and well-being of Native communities. The American Indian Center of San Francisco, founded in 1968, serves as a trusted community space promoting culture and well-being through programming and events. Additionally, Indigenous groups like the Muwekma Ohlone Tribe work to reclaim their heritage and assert their presence in the region.\n",
            "\n",
            "Cultural preservation efforts also include honoring traditional narratives, language, and ceremonies, as well as educating the broader public about Indigenous history and contemporary contributions. The \"land-back\" movement, led by figures such as Corrina Gould, focuses on reclaiming Indigenous lands and rights, reflecting decades of activism and education.\n",
            "\n",
            "Overall, Indigenous communities in San Francisco maintain their cultural identity and rights through activism, cultural districts, community centers, public education, and land reclamation efforts, ensuring their continued presence and influence in the modern era.\n",
            "Collecting answers...\n",
            "Received question What is the history and impact of environmental movements and policies in San Francisco?\n",
            "            Came up with answer: The history of environmental movements in San Francisco is rich and deeply intertwined with social justice and urban sustainability efforts. Activism in the Bay Area dates back over a century, with early efforts focused on preserving natural spaces following the 1906 earthquake and fire, and mid-20th century fights for state regulations to protect the San Francisco Bay shoreline. More recent movements have emphasized environmental justice, particularly addressing the disproportionate impact of environmental hazards on Black, Indigenous, and people of color (BIPOC) communities. Grassroots organizations and local activists have played a crucial role in advocating for climate and social justice, highlighting themes such as displacement, environmental impacts, and community resilience.\n",
            "\n",
            "San Francisco has also been a leader in environmental policies, setting global standards for urban sustainability. Key policies include zero waste initiatives, renewable energy goals, green building standards, and sustainable transportation plans. The city’s Department of the Environment, established in the mid-1990s, coordinates programs on climate action, clean air transportation, environmental justice, green jobs, toxic reduction, and urban forestry. Notably, San Francisco pioneered one of the first large-scale composting programs and has achieved high participation rates in food waste composting.\n",
            "\n",
            "Legislative milestones include the phasing out of natural gas in new and renovated municipal buildings to reduce greenhouse gas emissions, and mandates requiring large commercial buildings to use greenhouse-gas-free electricity by 2030. These policies reflect San Francisco’s commitment to reducing its carbon footprint and fostering sustainable urban living.\n",
            "\n",
            "Overall, the environmental movements and policies in San Francisco have had a significant impact by promoting sustainability, environmental justice, and community engagement, positioning the city as a model for urban environmental leadership.\n",
            "Collecting answers...\n",
            "Received question How has San Francisco’s LGBTQ+ community evolved in the 21st century, and what challenges and achievements have marked this evolution?\n",
            "            Came up with answer: San Francisco’s LGBTQ+ community in the 21st century has evolved significantly, marked by both notable achievements and ongoing challenges. The city remains one of the largest and most prominent LGBTQ+ communities in the United States, continuing its historic role as a center for LGBTQ+ rights and activism.\n",
            "\n",
            "Achievements:\n",
            "- San Francisco has been a pioneer in LGBTQ+ political representation and rights, exemplified by figures like Harvey Milk, one of the first openly gay elected officials in the U.S., whose legacy continues to inspire activism.\n",
            "- The city played a pivotal role in advancing marriage equality, with local leadership such as Mayor Gavin Newsom famously directing the city to issue marriage licenses to same-sex couples in 2004, a landmark moment that influenced national progress.\n",
            "- The LGBTQ+ community in San Francisco has fostered vibrant cultural expressions, including the rise of queer performing arts and the San Francisco Gay Men's Chorus, which have strengthened community bonds and visibility.\n",
            "- San Francisco continues to be a hub for LGBTQ+ activism, with numerous organizations and events advocating for equality and social justice.\n",
            "\n",
            "Challenges:\n",
            "- The community faces challenges related to gentrification and the rising cost of living, which have led to a decline in the number of queer-identifying residents in historically LGBTQ+ neighborhoods due to diminishing affordable housing.\n",
            "- Despite progress, discrimination and social prejudices persist, requiring ongoing advocacy and support.\n",
            "- The community also grapples with health disparities, homelessness, and the need for inclusive services, particularly for transgender individuals and LGBTQ+ people of color.\n",
            "\n",
            "Overall, San Francisco’s LGBTQ+ community in the 21st century reflects a dynamic blend of historic legacy, cultural richness, political activism, and resilience in the face of socio-economic challenges.\n",
            "Collecting answers...\n",
            "Received question How did major events such as the 1906 earthquake and World War II influence the city’s development and identity?\n",
            "            Came up with answer: The 1906 earthquake had a profound and lasting impact on the city's development and identity, particularly in San Francisco. The disaster led to a complete rethinking of urban planning, building codes, and seismic engineering, prompting significant changes in how the city approached its growth and infrastructure. The rapid reconstruction after the earthquake introduced new innovations, technologies, and architectural styles, transforming the city's structural landscape. The event also spurred advancements in seismology and disaster preparedness, including the development of early warning systems and enhanced building regulations. Additionally, the earthquake and subsequent fire removed barriers to redevelopment in certain areas, leading to higher residential density and reshaped neighborhoods.\n",
            "\n",
            "World War II similarly influenced city development and identity on a broad scale. The war caused widespread destruction of urban environments due to bombings targeting transport hubs, electrical grids, and industrial districts. This destruction necessitated extensive post-war reconstruction efforts, which often involved strategic urban planning and modernization while sometimes preserving historical character. The war also reshaped national and city identities by emphasizing shared values, sacrifices, and collective memories. The mobilization of human and natural resources during the war transformed urban environments and left legacies that influenced city development and identity for decades after the conflict ended.\n",
            "Collecting answers...\n",
            "Received question What roles have women and minority groups historically played in shaping San Francisco’s political and social movements?\n",
            "            Came up with answer: Women and minority groups have played pivotal roles in shaping San Francisco’s political and social movements throughout history. \n",
            "\n",
            "In the realm of civil rights, African American activists, including those affiliated with the Black Panther Party, were central to challenging racial injustice and police brutality in the Bay Area during the 1960s and 1970s. Women within these movements often took leadership roles and were instrumental in community organizing and advocacy.\n",
            "\n",
            "Women’s liberation in San Francisco was marked by the emergence of feminist and lesbian-feminist spaces, particularly in the Mission District during the 1970s. These spaces, including woman-owned cafes, bookstores, and clubs, became cultural hubs and centers for activism. The Women's Building in San Francisco stands as a historic landmark symbolizing the feminist movement’s impact on the city.\n",
            "\n",
            "The LGBTQ+ community, with San Francisco as a national epicenter, has been at the forefront of social and political activism. From early struggles against police harassment in the 1950s and 1960s to the rise of pride movements and legal battles for marriage equality, LGBTQ+ activists, including many women and minority individuals, have shaped the city’s progressive political landscape. The San Francisco Gay Men’s Chorus and other cultural organizations have also played a role in fostering community and advocacy.\n",
            "\n",
            "Overall, women and minority groups in San Francisco have been integral to the city’s legacy of activism, contributing to civil rights, feminist, and LGBTQ+ movements that have influenced broader social change locally and nationally.\n",
            "Collecting answers...\n",
            "Received question How has San Francisco’s economy transitioned from its early industries to its current status as a tech and innovation hub?\n",
            "            Came up with answer: San Francisco's economy has transitioned significantly from its early industries to its current status as a tech and innovation hub through a combination of historical, geographical, and cultural factors. Initially, San Francisco was a bustling port city with an economy centered around shipping, trade, and manufacturing. Over time, the rise of Silicon Valley, located just south of San Francisco, played a crucial role in transforming the city into a global technology epicenter. The proximity to Silicon Valley allowed San Francisco to benefit from the tech boom, attracting startups, entrepreneurs, and venture capital.\n",
            "\n",
            "Key factors contributing to this transition include San Francisco's strategic location, its diverse and open-minded culture, and the presence of top-tier educational institutions that foster innovation and talent development. The city's cultural diversity and entrepreneurial spirit have created an environment conducive to technological innovation and growth.\n",
            "\n",
            "Despite its success as a tech hub, San Francisco faces challenges such as housing affordability, gentrification, and socio-economic disparities, which it continues to address while striving for sustainable growth. The tech boom has also influenced other sectors, with significant job growth not only in tech but also in construction, manufacturing, health, education, and the arts, reflecting a diversified economic base.\n",
            "Collecting answers...\n",
            "Received question What is the history of San Francisco’s public transportation systems and their impact on urban growth?\n",
            "            Came up with answer: San Francisco's public transportation history began in the mid-19th century with horse-drawn omnibuses and rail transit services. The San Francisco Market Street Railroad Company started operations in 1860 using steam and horse power. Over time, horse car companies converted to cable car operations, and new lines like the California Street and Geary Street cable car lines were established, creating a complex network.\n",
            "\n",
            "In 1900, San Francisco's city charter authorized public ownership of utilities, including transportation. This led to the establishment of the San Francisco Municipal Railway (Muni) in 1911, believed to be the first publicly owned transit system in the U.S. The system evolved from cable cars and streetcars to buses, especially after the 1906 earthquake and fire, which destroyed much of the city's infrastructure.\n",
            "\n",
            "The Bay Area Rapid Transit (BART) system was formed in 1957, with construction starting in 1964, further expanding regional transit. The opening of the San Francisco-Oakland Bay Bridge and the Golden Gate Bridge in the 1930s also influenced urban growth by improving regional connectivity.\n",
            "\n",
            "San Francisco's public transportation systems have significantly impacted urban growth by shaping the city's development patterns, enabling suburban expansion, and supporting dense urban neighborhoods. The transit network facilitated access to different parts of the city and the Bay Area, influencing residential and commercial growth and contributing to San Francisco's unique urban form.\n",
            "Collecting answers...\n",
            "Received question What are the key historical developments in San Francisco’s urban planning and architecture?\n",
            "            Came up with answer: Key historical developments in San Francisco’s urban planning and architecture include:\n",
            "\n",
            "1. Early Settlement Era (1848-1906): The Gold Rush (1848-1852) triggered rapid growth and urban change, bringing tens of thousands of people and new architectural styles. Early architecture included Mission-inspired and vernacular designs evolving into classicism and ornamentation.\n",
            "\n",
            "2. Post-1906 Earthquake Rebuilding: After the devastating 1906 earthquake and fire, San Francisco underwent massive rebuilding efforts, shaping its urban form and architectural character.\n",
            "\n",
            "3. Establishment of Planning Commission (1912-1917): In 1912, San Francisco voters approved an amendment allowing the Board of Supervisors to create a Planning Commission. The California State City Planning Enabling Act passed in 1915, and San Francisco’s first Planning Commission was appointed in 1917, marking the beginning of formal urban planning in the city.\n",
            "\n",
            "4. Development of Neighborhoods: Various neighborhoods developed distinct architectural styles, such as Victorian homes, Mediterranean Revival style residences west of Twin Peaks post-1920, and diverse neighborhood styles reflecting the city’s cultural mix.\n",
            "\n",
            "5. Mid-20th Century Modern Architecture (1935-1970): San Francisco saw the rise of modern architecture and landscape design, reflecting innovation and new design philosophies.\n",
            "\n",
            "6. Transportation Infrastructure: The revival of the Golden Gate Ferry service in 1970 and the construction of the Bay Area Rapid Transit (BART) system in 1972 improved connectivity and influenced urban development patterns.\n",
            "\n",
            "7. Historic Preservation Efforts: Since the late 20th century, San Francisco has developed mechanisms for historic preservation, including surveys, creation of historic districts, and review processes to protect architectural heritage.\n",
            "\n",
            "8. Green Space Planning: The establishment of the Golden Gate National Recreation Area, one of the largest urban national parks, has been a significant urban planning achievement, preserving natural landscapes and coastline near the city.\n",
            "\n",
            "These developments reflect San Francisco’s evolution from a Gold Rush boomtown to a modern city with a rich architectural heritage and a commitment to sustainable urban planning.\n",
            "Collecting answers...\n",
            "Received question How have national policies and events influenced San Francisco’s demographic and cultural changes over time?\n",
            "            Came up with answer: National policies and events have significantly influenced San Francisco’s demographic and cultural changes over time. Historically, San Francisco’s population and cultural landscape have been shaped by major national developments such as the Gold Rush, the completion of the transcontinental railroad in 1869, and waves of immigration. The Gold Rush attracted a diverse influx of people, including large numbers of Chinese immigrants, which established early ethnic enclaves like Chinatown. The railroad connected San Francisco to the rest of the country, facilitating commerce and migration.\n",
            "\n",
            "Throughout the 20th century, national policies on immigration, civil rights, and urban development impacted the city’s demographics. For example, restrictive immigration laws in the early 1900s limited some groups but later reforms in the 1960s and beyond allowed more diverse immigration, contributing to San Francisco’s minority-majority population today. The city’s racial makeup has shifted dramatically; non-Hispanic whites comprised over 90% of the population in 1940 but less than 40% by 2020, with significant Asian, Hispanic, and African American communities.\n",
            "\n",
            "Culturally, San Francisco has been a hub for progressive movements influenced by national events, including the civil rights movement, LGBTQ+ rights, and counterculture movements like the 1960s Summer of Love. The city’s cultural districts and community programs reflect ongoing efforts to support historically marginalized groups, shaped by both local initiatives and national social justice trends.\n",
            "\n",
            "More recently, national immigration trends and policies continue to affect population growth and diversity, with immigrants driving recent increases in the Bay Area population despite pandemic-related losses. San Francisco’s cultural identity remains deeply tied to its history as a gateway for immigrants and a center for social and political activism influenced by broader national currents.\n",
            "Collecting answers...\n",
            "Received question What are the significant historical landmarks and neighborhoods in San Francisco, and what stories do they tell about the city’s past?\n",
            "            Came up with answer: San Francisco is home to numerous significant historical landmarks and neighborhoods, each telling unique stories about the city's past:\n",
            "\n",
            "1. Golden Gate Bridge: An iconic symbol of San Francisco, representing engineering marvel and the city's connection to the wider world.\n",
            "\n",
            "2. Fort Point: A historic military fortification located beneath the Golden Gate Bridge, telling stories of the city's military history and defense.\n",
            "\n",
            "3. Painted Ladies: Famous Victorian houses that showcase San Francisco's architectural heritage and the city's development during the late 19th century.\n",
            "\n",
            "4. Conservatory of Flowers: The oldest building in Golden Gate Park, dating back to 1879, exemplifying Victorian architecture and the city's commitment to public green spaces.\n",
            "\n",
            "5. Coit Tower: A symbol of San Francisco's vibrant culture and artistic expression, offering panoramic views and murals depicting the city's history.\n",
            "\n",
            "6. Mission Dolores Park and the Mission District: Reflecting the city's early Spanish colonial history and its evolution into a diverse, vibrant community.\n",
            "\n",
            "7. Historic neighborhoods like Pacific Heights and the Financial District: Featuring historic homes and buildings that tell stories of San Francisco's growth, wealth, and architectural trends.\n",
            "\n",
            "8. The city's famous cable cars: Representing San Francisco's long history of transportation and its enduring charm.\n",
            "\n",
            "These landmarks and neighborhoods collectively narrate San Francisco's journey from a military outpost and colonial settlement to a culturally rich, architecturally diverse, and historically significant metropolis. They highlight themes of innovation, cultural diversity, artistic expression, and community resilience.\n",
            "Collecting answers...\n",
            "Received question How has San Francisco balanced growth and modernization with the preservation of its historical and cultural heritage?\n",
            "            Came up with answer: San Francisco has balanced growth and modernization with the preservation of its historical and cultural heritage through a multifaceted approach involving policy, community collaboration, and targeted initiatives. The city has implemented the Heritage Conservation Element within its General Plan, which outlines comprehensive objectives and policies aimed at preserving and enhancing historic resources. This includes strengthening local preservation standards, incentivizing property owners, and fostering community involvement to ensure that development respects the city's historic fabric.\n",
            "\n",
            "San Francisco also integrates historic preservation into land use planning by conducting historic resource surveys, creating historic districts, and reviewing proposed changes to historical resources through advisory committees like the Historic Preservation Commission’s Architectural Review Committee. These mechanisms help ensure that new developments comply with design guidelines that honor the city's architectural heritage.\n",
            "\n",
            "Culturally, the city has established several cultural heritage districts that protect the social and cultural fabric of historic neighborhoods, mitigating the effects of gentrification. Examples include SOMA Pilipinas (Filipino Cultural Heritage District), Calle 24 (Latino Cultural District), the Compton Transgender Cultural District, Japantown Cultural Heritage District, and the LGBTQ and Leather Cultural District. These districts are supported by city departments and community groups working together to develop strategic plans for cultural stabilization, housing, and economic sustainability.\n",
            "\n",
            "Additionally, San Francisco's preservation efforts are increasingly inclusive, addressing social and racial equity within historic preservation to ensure diverse community perspectives are represented and valued. This holistic approach allows San Francisco to grow and modernize while maintaining its unique historical and cultural identity.\n",
            "Generating report...\n",
            "Sending feedback\n",
            "Research topic is History of San Francisco\n",
            "Got feedback: - How did San Francisco’s role in the transcontinental railroad construction specifically impact its economic and demographic development?  \n",
            "- What were the experiences and contributions of other minority groups in San Francisco’s history, such as Filipino, South Asian, or Middle Eastern communities?  \n",
            "- How did San Francisco’s political landscape evolve over time, including key political figures, movements, and governance changes?  \n",
            "- What was the impact of the 1989 Loma Prieta earthquake on the city’s infrastructure, economy, and community resilience?  \n",
            "- How have housing policies and urban renewal projects historically affected different neighborhoods and populations in San Francisco?  \n",
            "- What role did San Francisco play in the civil rights movement beyond the Black Panther Party, including other social justice initiatives?  \n",
            "- How has San Francisco’s culinary culture evolved, reflecting its diverse immigrant populations and economic changes?  \n",
            "- What are the historical developments in San Francisco’s public health and medical infrastructure beyond UCSF?  \n",
            "- How did San Francisco’s maritime industry influence its growth and cultural identity throughout history?  \n",
            "- What has been the history and impact of education reform and access in San Francisco’s public school system?\n",
            "Received question What were the origins and early settlement patterns of San Francisco before and during the Spanish colonial period?\n",
            "            Came up with answer: Before and during the Spanish colonial period, the area now known as San Francisco was originally inhabited by indigenous peoples, specifically the Ohlone cultural group. The indigenous name for the area was Ahwaste, meaning \"place at the bay.\" The Ohlone people lived in a contiguous set of bands from south of the Golden Gate to San José, without recognizing the later imposed city or county boundaries.\n",
            "\n",
            "The Spanish colonial period began in the late 18th century. In 1776, the Spanish established a military presence with the founding of the Presidio of San Francisco and the Mission San Francisco de Asís (Mission Dolores). This was part of a broader Spanish effort to colonize and convert indigenous populations in California. The settlers included a mix of soldiers, Franciscan priests, and colonists, many of whom were Mestizaje—people of mixed indigenous and Spanish ancestry from Mexico.\n",
            "\n",
            "Early settlement patterns during this period were centered around the Presidio and the Mission, which served as the focal points for Spanish control, religious conversion, and agricultural development. The settlement was initially small and primarily served military and missionary purposes rather than commercial or urban development. The Spanish also used the area as a strategic point to secure their claim to the San Francisco Bay and to facilitate trade and communication along the California coast.\n",
            "\n",
            "Thus, the origins and early settlement of San Francisco were deeply rooted in its indigenous heritage and shaped significantly by Spanish colonial military and missionary activities starting in the late 18th century.\n",
            "Collecting answers...\n",
            "Received question How did the California Gold Rush transform San Francisco’s economy, population, and urban landscape in the mid-19th century?\n",
            "            Came up with answer: The California Gold Rush transformed San Francisco’s economy, population, and urban landscape dramatically in the mid-19th century. Before the Gold Rush, San Francisco was a small, sleepy port town with few permanent buildings. The discovery of gold in 1848 triggered a massive influx of prospectors, known as the \"Forty-niners,\" which caused the city's population to explode from about 1,000 to 25,000 by 1849.\n",
            "\n",
            "Economically, the Gold Rush turned San Francisco into a booming hub of entrepreneurial activity. The city became the primary supply and service center for miners heading to the goldfields, leading to rapid growth in businesses such as hotels, stores, saloons, gambling halls, and other enterprises catering to the needs of the influx of people. This economic boom laid the foundation for San Francisco’s development into a major urban center.\n",
            "\n",
            "The population growth was not only rapid but also diverse, as people from various parts of the United States and the world arrived seeking fortune and opportunity. This diversity contributed to the unique cultural identity of San Francisco.\n",
            "\n",
            "Urbanistically, the city transformed almost overnight from a small settlement into a bustling metropolis filled with makeshift tent-houses and quickly constructed buildings. The demand for housing and infrastructure led to rapid urban development, shaping the city’s landscape into a dense, vibrant urban area.\n",
            "\n",
            "Overall, the Gold Rush accelerated San Francisco’s growth, making it a key economic and cultural center in California and the western United States, and it played a significant role in California’s admission to the Union as a state in 1850.\n",
            "Collecting answers...\n",
            "Received question In what ways did San Francisco’s role in the transcontinental railroad construction impact its economic growth and demographic changes?\n",
            "            Came up with answer: San Francisco's role in the construction of the transcontinental railroad significantly impacted its economic growth and demographic changes. The completion of the railroad in 1869 connected San Francisco to the eastern United States, drastically reducing travel time from months to just about seven days. This connection transformed San Francisco into a major hub for trade and commerce, linking the city to national and international markets, including Asia.\n",
            "\n",
            "Economically, the railroad boosted trade, commerce, and industry in San Francisco, creating numerous jobs and fostering the growth of related industries such as shipping, manufacturing, and retail. The city became a critical gateway for goods and passengers moving between the East Coast and the Pacific, accelerating urbanization and economic development.\n",
            "\n",
            "Demographically, the railroad facilitated a significant influx of people to San Francisco, including immigrants and workers drawn by new economic opportunities. This population growth contributed to the city's expansion and diversification. The railroad also played a role in shaping migration patterns and settlement in the broader region, influencing the demographic landscape of California and the American West.\n",
            "\n",
            "Overall, San Francisco's involvement in the transcontinental railroad construction laid the groundwork for its emergence as a major economic and cultural center on the West Coast, driving both its economic prosperity and demographic transformation in the late 19th century.\n",
            "Collecting answers...\n",
            "Received question What were the key contributions and experiences of Filipino, South Asian, and Middle Eastern communities in San Francisco’s history?\n",
            "            Came up with answer: Filipino Community:\n",
            "The Filipino community in San Francisco has a history dating back to the early 20th century, with early immigrants arriving for work opportunities. A significant part of their history is centered around Manilatown, a neighborhood that existed from the 1920s to the 1950s, which was home to many Filipino Americans. The International Hotel (I-Hotel) in Manilatown was a key residence for many low-income and elderly Filipino Americans. Filipino contributions include a strong presence in labor, particularly in farm and cannery work, and a rich cultural legacy including food and social activism. The community also includes many Filipino World War II veterans who immigrated to San Francisco and contributed to the city's diversity and history.\n",
            "\n",
            "South Asian Community:\n",
            "South Asian Americans have played a vital role in shaping San Francisco's social and cultural landscape. They have been involved in social movements and activism, inspired by historical groups like the Ghadar Party. Organizations such as the Alliance of South Asians Taking Action (ASATA), founded in 1999, highlight their engagement in social justice issues, including labor exploitation and gender-based violence. South Asians have contributed to the city's growth not only economically but also as part of broader American social movements, helping to shape San Francisco into a hub of diversity and progressive activism.\n",
            "\n",
            "Middle Eastern Community:\n",
            "The Middle Eastern community began arriving in the San Francisco Bay Area primarily in the early 1960s, driven by immigration and political displacement. Arab Americans, a significant part of this community, have contributed culturally and socially to the city and California at large. Their presence is recognized through events like Arab American Heritage Month, which celebrates their rich history and influence. The community has worked to build bridges of understanding within the diverse cultural tapestry of the Bay Area, contributing to the arts, social activism, and community building.\n",
            "\n",
            "In summary, Filipino, South Asian, and Middle Eastern communities have each contributed uniquely to San Francisco's history through labor, cultural enrichment, social activism, and community resilience, shaping the city's identity as a diverse and dynamic metropolis.\n",
            "Collecting answers...\n",
            "Received question How did the 1989 Loma Prieta earthquake affect San Francisco’s infrastructure, economy, and community resilience?\n",
            "            Came up with answer: The 1989 Loma Prieta earthquake had significant impacts on San Francisco's infrastructure, economy, and community resilience:\n",
            "\n",
            "Infrastructure: The earthquake caused substantial structural damage in key areas of the San Francisco Bay Area, exposing critical weaknesses in infrastructure such as freeways and public utilities. Notably, the Embarcadero Freeway was torn down after the quake due to damage. The event highlighted the urgent need for seismic improvements, leading to over $20 billion invested in seismic upgrades and infrastructure resilience in the years following the quake. Efforts included upgrading aging infrastructure like sewer systems and retrofitting buildings to better withstand future earthquakes.\n",
            "\n",
            "Economy: While the earthquake caused extensive structural losses, especially in areas like Santa Cruz County, the overall regional economy experienced minimal long-term negative effects. The quake did disrupt economic activity temporarily, but the Bay Area's economy proved resilient. The event underscored the importance of disaster preparedness and mitigation investments to reduce economic losses from future earthquakes.\n",
            "\n",
            "Community Resilience: The Loma Prieta earthquake was a pivotal event for emergency response and community resilience in San Francisco. It highlighted the need for effective emergency planning, coordination between government agencies and communities, and long-term investments in rebuilding and preparedness. The response involved innovative efforts such as the deployment of Urban Search and Rescue units. Lessons learned from the quake have informed ongoing improvements in disaster response strategies, aiming to create a more resilient city with strengthened buildings and lifelines to facilitate quicker recovery after future seismic events.\n",
            "\n",
            "Overall, the 1989 Loma Prieta earthquake served as a catalyst for major advancements in San Francisco's infrastructure safety, economic preparedness, and community resilience, shaping the city's approach to earthquake risk management for decades.\n",
            "Collecting answers...\n",
            "Received question What have been the major housing policies and urban renewal projects in San Francisco, and how have they impacted different neighborhoods and populations?\n",
            "            Came up with answer: Major housing policies and urban renewal projects in San Francisco have had significant and varied impacts on different neighborhoods and populations over the decades.\n",
            "\n",
            "Historically, San Francisco's housing policies have included efforts to provide affordable housing, counteract displacement, and promote economic inclusion. From 1978 to 2012, the city implemented revenue strategies that funded preservation, rehabilitation, and development of affordable housing, with nearly $2 billion invested from city, state, and federal sources. The 2022 Housing Element Update emphasizes housing as a right, focusing on affordability for low-income households and communities of color, and aims to open small and mid-rise multifamily buildings across neighborhoods while connecting housing to services like transportation and education.\n",
            "\n",
            "Urban renewal projects, particularly those starting in the mid-20th century, had profound impacts on neighborhoods such as the Western Addition, Japantown, and the Fillmore District. These projects, often justified as addressing \"urban blight,\" led to the demolition of thousands of homes primarily in Black, Japanese, and Filipino communities, causing widespread displacement. For example, the Fillmore District, once a vibrant cultural hub, was decimated by urban renewal, resulting in loss of housing and cultural institutions like jazz venues. The displacement affected as many as 20,000 residents, mostly Black, with some Japanese and Filipino families also impacted.\n",
            "\n",
            "The consequences of these policies and projects have included increased housing costs, racial and economic segregation, and displacement of low-income and minority populations. While some neighborhoods with high concentrations of low-income communities of color have seen investments in housing and infrastructure, these benefits have often been limited, and displacement pressures remain significant. San Francisco's restrictive zoning policies historically preserved affluent, predominantly white neighborhoods, contributing to ongoing challenges in meeting housing demand and equity goals.\n",
            "\n",
            "Recent efforts, including Mayor London Breed's Housing for All Executive Directive and the 2023 Housing Stimulus and Fee Reform Plan, aim to remove barriers to housing construction, reform zoning, and increase affordable housing feasibility. Additionally, programs have been introduced to prioritize affordable housing for those displaced by past urban renewal efforts and their descendants.\n",
            "\n",
            "In summary, San Francisco's major housing policies and urban renewal projects have shaped the city's demographic and physical landscape, often exacerbating inequalities and displacement in minority neighborhoods, while current policies seek to address these historic injustices and promote more inclusive housing development.\n",
            "Collecting answers...\n",
            "Received question How did San Francisco’s political landscape evolve from its founding through the 20th century, including major political figures and movements?\n",
            "            Came up with answer: San Francisco's political landscape evolved significantly from its founding through the 20th century, shaped by its unique geographic location, rapid economic growth, social movements, and influential political figures.\n",
            "\n",
            "Founding and Early Period:\n",
            "Originally inhabited by the Ohlone people, the area now known as San Francisco was named \"Ahwaste,\" meaning \"place at the bay.\" It was colonized by the Spanish in the late 18th century and later became part of Mexico before being taken over by the United States in 1846. The city's political structure began to form during this period, influenced by Spanish and Mexican governance systems.\n",
            "\n",
            "Gold Rush and Rapid Growth (Mid-19th Century):\n",
            "The discovery of gold in 1848 transformed San Francisco into a booming metropolis almost overnight. The influx of wealth and population led to rapid urban development but also to political corruption and social strife. The city became a hub for commerce and immigration, including a significant Chinese population, which faced intense anti-Chinese sentiment and political agitation, notably from the Workingmen's Party in the 1870s.\n",
            "\n",
            "Turn of the 20th Century - Reform Movements:\n",
            "By the early 1900s, San Francisco's politics were marked by \"bald graft\" and \"bare-knuckled\" tactics, leading to widespread corruption. This period saw reform movements aimed at combating corruption and addressing social issues such as labor rights and vice. The 1906 earthquake and fire devastated the city but also provided an opportunity for rebuilding and modernization.\n",
            "\n",
            "Major Political Figures:\n",
            "- James Rolph Jr. (Mayor 1912-1931): Known for his long tenure and influence over city development.\n",
            "- Willie Brown (Mayor 1996-2004): A dominant figure in late 20th-century politics, Brown was influential in state and city politics.\n",
            "- Harvey Milk (Elected 1977): One of the first openly gay elected officials in the U.S., Milk was a pivotal figure in LGBTQ+ political activism.\n",
            "- Ed Lee (Mayor 2011-2017): The city's first Asian American mayor, reflecting the city's diverse population.\n",
            "\n",
            "Political Movements:\n",
            "- Anti-Chinese Movements (Late 19th Century): Fueled by economic competition and racism, these movements sought to limit Chinese immigration and rights.\n",
            "- Labor and Progressive Movements (Early 20th Century): Advocated for workers' rights, social reforms, and anti-corruption measures.\n",
            "- LGBTQ+ Rights Movement (1970s onward): Centered in San Francisco, this movement gained political traction with leaders like Harvey Milk.\n",
            "- Civil Rights and Social Justice Movements: Throughout the 20th century, San Francisco was a focal point for various progressive causes, including racial equality, women's rights, and environmentalism.\n",
            "\n",
            "Political Landscape in the Late 20th Century:\n",
            "San Francisco became known for its liberal and progressive politics, with a strong Democratic presence. The city has been characterized by its advocacy for social justice, environmental policies, and inclusivity. Political power often shifted among reform-minded leaders who sought to balance growth with social equity.\n",
            "\n",
            "In summary, San Francisco's political evolution from its founding through the 20th century reflects a trajectory from colonial governance and rapid economic expansion to a complex urban center marked by reform, diversity, and progressive activism. Major political figures and movements have shaped its identity as a city known for innovation in both politics and social change.\n",
            "Collecting answers...\n",
            "Received question What were the causes, effects, and recovery efforts related to the 1906 earthquake and fire in San Francisco?\n",
            "            Came up with answer: The 1906 San Francisco earthquake was caused by a rupture along the San Andreas Fault, a major geological fault line in California. The earthquake struck early on April 18, 1906, with an estimated magnitude of 7.9. The seismic event was triggered by the elastic rebound of strained faults, which caused intense shaking felt from Oregon to Los Angeles.\n",
            "\n",
            "The effects of the earthquake were catastrophic. The initial shaking caused widespread structural damage, but the greatest destruction came from the fires that broke out afterward. Many water and gas mains were ruptured, leading to leaking gas that ignited fires which rapidly spread throughout the city. The lack of water due to broken mains made firefighting efforts extremely difficult. The earthquake and subsequent fires destroyed approximately 28,000 buildings, killed more than 3,000 people, and left a large portion of San Francisco in ruins. The disaster also severely impacted nearby towns such as San Jose, Salinas, and Santa Rosa.\n",
            "\n",
            "Recovery efforts involved immediate relief and long-term reconstruction. The U.S. Army played a significant role in distributing food, medical care, and supplies to displaced residents. Refugee camps were established to house those who lost their homes. The relief efforts were coordinated with contributions from across the nation. Reconstruction focused on rebuilding the city with improved earthquake- and fire-resistant structures. Legal and financial measures were taken to facilitate the flow of funds into San Francisco for rebuilding, including changes in laws to allow deposits of government bond proceeds in local banks. The disaster also led to advances in earthquake preparedness and urban planning to mitigate future risks.\n",
            "\n",
            "In summary, the 1906 San Francisco earthquake and fire were caused by a major fault rupture, resulted in massive destruction and loss of life, and prompted extensive relief and rebuilding efforts that reshaped the city and influenced earthquake science and safety practices.\n",
            "Collecting answers...\n",
            "Received question What role did San Francisco play in the civil rights movement beyond the Black Panther Party, including other social justice initiatives and organizations?\n",
            "            Came up with answer: Beyond the Black Panther Party, San Francisco played a significant role in the civil rights movement through a variety of other social justice initiatives and organizations. The city has been home to numerous civil rights advocacy groups—over 170 in the greater San Francisco metro area—that work on issues including racial justice, housing rights, employment discrimination, and LGBTQ+ rights. The San Francisco Human Rights Commission is a key local government body that addresses discrimination and promotes human rights, offering protections such as the Fair Chance Ordinance for people with criminal histories in housing. Additionally, San Francisco has been a hub for broader social justice movements including women's liberation and LGBTQ+ rights, with institutions like the upcoming Counterculture Museum highlighting the city's central role in these transformative movements. These efforts collectively demonstrate San Francisco's broad and ongoing commitment to civil rights and social justice beyond the activities of the Black Panther Party.\n",
            "Collecting answers...\n",
            "Received question What are the significant historical developments in San Francisco’s public health and medical infrastructure beyond the University of California, San Francisco (UCSF)?\n",
            "            Came up with answer: Significant historical developments in San Francisco’s public health and medical infrastructure beyond the University of California, San Francisco (UCSF) include the establishment and growth of key hospitals and public health institutions. For example, St. Mary's Hospital, which was under construction in 1911 and remains a major medical center today, has played a crucial role in the city's healthcare landscape. Another major institution is the San Francisco General Hospital, which has a rich history documented through archives and research projects highlighting its role in public health for the city and county. These institutions, along with the broader public health movement in San Francisco during the Progressive Era, contributed to the development of scientific expertise and efficiency in addressing public health concerns, including poverty control and social reform efforts. The city's healthcare infrastructure has evolved through these hospitals and public health initiatives, making healthcare one of the largest employment sectors in San Francisco since the late 1960s.\n",
            "Collecting answers...\n",
            "Received question How did San Francisco’s maritime industry contribute to its economic growth and cultural identity throughout its history?\n",
            "            Came up with answer: San Francisco’s maritime industry significantly contributed to its economic growth and cultural identity throughout its history by serving as a vital hub for trade, transportation, and commerce, especially during and after the Gold Rush era. The city's strategic location on the Pacific Coast made it a bustling port city, facilitating the movement of goods and people, which fueled economic development. The maritime industry shaped the local culture through the diverse community of sailors, waterfront workers, and businesses that developed around the port. This maritime heritage is deeply embedded in San Francisco’s identity, reflected in its waterfront neighborhoods, historic piers, and cultural institutions like the San Francisco Maritime National Historical Park, which preserves the stories and legacy of the people and activities that defined the city’s maritime past. The waterfront's evolution, including the construction of bulkhead buildings and piers, also played a role in shaping the physical and social landscape of the city.\n",
            "Collecting answers...\n",
            "Received question How has San Francisco’s culinary culture developed over time, and how does it reflect the city’s diverse immigrant populations and economic shifts?\n",
            "            Came up with answer: San Francisco’s culinary culture has developed over time as a rich tapestry shaped by its diverse immigrant populations and significant economic shifts. The city’s culinary history dates back to the Gold Rush era in the mid-19th century, when rapid infrastructure growth and an influx of immigrants from around the world brought a variety of cultural influences to the food scene. Early establishments like Tadich Grill (opened in 1849) and French bakeries by immigrants such as Isidore Boudin set the foundation for a diverse culinary landscape.\n",
            "\n",
            "Immigrant communities have played a crucial role in shaping San Francisco’s food culture. The city is known for having more restaurants per capita than any other American city, many reflecting the cooking traditions of their home countries. For example, the Mission District became a hub for Mexican and Central American immigrants, introducing iconic foods like the Mission-style burrito alongside tacos, tortas, and pupusas. Italian immigrants contributed to seafood traditions at Fisherman’s Wharf, and Chinese immigrants influenced the city’s famous fortune cookies and dim sum culture. The ongoing presence of immigrant-run restaurants and food businesses continues to enrich the city’s culinary diversity.\n",
            "\n",
            "Economic shifts have also impacted San Francisco’s food scene. The food industry is a major economic driver, generating over $47 billion annually in the Bay Area. The city hosts a mix of artisanal producers, innovative startups, and longstanding food companies, reflecting both traditional and modern culinary trends. Economic changes, including tariffs and the COVID-19 pandemic, have influenced local food businesses, but the city’s food culture remains resilient and adaptive. The evolving economy has fostered a dynamic culinary environment that blends historical roots with contemporary innovation.\n",
            "\n",
            "In summary, San Francisco’s culinary culture is a reflection of its immigrant heritage and economic evolution. The city’s food scene is a vibrant fusion of global flavors brought by diverse communities, continuously shaped by social and economic forces, making it one of the most distinctive and celebrated culinary destinations in the United States.\n",
            "Collecting answers...\n",
            "Received question What impact did Prohibition and the subsequent cultural changes have on San Francisco’s nightlife and social scene?\n",
            "            Came up with answer: Prohibition had a significant impact on San Francisco's nightlife and social scene, transforming it in several ways. During Prohibition, which began in 1920 with the 18th Amendment, the sale and consumption of alcohol were banned nationwide. However, in San Francisco, this led to the rise of speakeasies—illegal bars where people could still drink and socialize. The city's nightlife became more clandestine and vibrant, with establishments like Cafe du Nord and Elixir operating as popular speakeasies.\n",
            "\n",
            "San Francisco's North Beach neighborhood, known for its immigrant and bohemian culture, maintained a laissez-faire attitude during Prohibition. Italian-Americans in the area often made homemade wine, and the neighborhood became a hub for nightlife despite the restrictions. The cultural changes brought by Prohibition also fostered a more rebellious and creative social atmosphere, contributing to the emergence of unique cultural scenes such as the Beat movement later on.\n",
            "\n",
            "Overall, Prohibition in San Francisco did not suppress nightlife but rather shifted it underground, making it more dynamic and diverse. The era left a lasting legacy on the city's social fabric, blending immigrant traditions, bohemian lifestyles, and a spirit of defiance against restrictive laws.\n",
            "Collecting answers...\n",
            "Received question How did immigration waves from China, Japan, and Latin America shape the social and cultural fabric of San Francisco?\n",
            "            Came up with answer: Immigration waves from China, Japan, and Latin America have profoundly shaped the social and cultural fabric of San Francisco, creating a diverse and vibrant city with rich ethnic enclaves and cultural contributions.\n",
            "\n",
            "Chinese immigration began during the California Gold Rush in the mid-19th century, with the first Chinese immigrants arriving in 1848. San Francisco became a major gateway for Chinese immigrants, who initially worked in mining, railroad construction, and agriculture. Despite facing significant discrimination, including the Chinese Exclusion Act of 1882, the Chinese community established a strong presence, particularly in Chinatown, which is the oldest and one of the largest Chinese communities in North America. Over time, Chinese immigrants revitalized Chinatown and expanded into other neighborhoods like the Richmond and Sunset Districts. Their contributions span from small businesses to significant roles in the city's economy, technology, and finance sectors. The Chinese community also brought cultural traditions, festivals, cuisine, and social organizations that remain integral to San Francisco's identity.\n",
            "\n",
            "Japanese immigration to San Francisco, while smaller in scale compared to Chinese immigration, also played a key role in shaping the city's cultural landscape. Japanese immigrants began arriving in the late 19th century, with a notable community forming in Japantown. This area became a cultural and social hub for Japanese Americans, featuring businesses, religious institutions, schools, and cultural organizations. Despite facing racism and exclusionary policies, including school segregation and anti-immigration movements, the Japanese community maintained a vibrant presence. Japantown remains one of the few historic Japantowns in the United States, preserving Japanese cultural heritage and contributing to the city's multicultural character.\n",
            "\n",
            "Latin American immigration, particularly from Mexico and other parts of Latin America, has also significantly influenced San Francisco's social and cultural fabric. Latin American immigrants have historically settled in neighborhoods like the Mission District, which became a center for Latino culture, activism, and community life. The Mission District is known for its colorful murals, cultural festivals, and vibrant street life reflecting Latin American heritage. Latinx immigrants contributed to the city's labor force, especially in agriculture, manufacturing, and service industries, and have played a crucial role in the political and social movements advocating for immigrant rights and cultural recognition. The presence of Latin American communities has enriched San Francisco's cultural diversity, adding to its culinary scene, music, art, and community traditions.\n",
            "\n",
            "Overall, the immigration waves from China, Japan, and Latin America have created a multicultural mosaic in San Francisco, each group contributing unique cultural, economic, and social elements that have shaped the city's identity as a diverse and dynamic urban center. Their neighborhoods, cultural institutions, festivals, and businesses continue to be vital parts of San Francisco's heritage and contemporary life.\n",
            "Collecting answers...\n",
            "Received question What is the history of education reform and access in San Francisco’s public school system, and how has it evolved over time?\n",
            "            Came up with answer: The history of education reform and access in San Francisco’s public school system (SFUSD) spans from its early days in 1851 through significant changes up to the present. Initially, schools were segregated by race and ethnicity, with policies such as assigning all Asian students to the Chinese School in the early 1900s. Although legally segregated schools ended by the 1950s-60s, de facto segregation and discrimination persisted, especially affecting Black, Asian, and Latinx students.\n",
            "\n",
            "From 1971 onward, SFUSD underwent desegregation efforts, including court-ordered reforms and a consent decree that lasted 22 years until 2005. These reforms aimed to address racial disparities and improve access to quality education for historically underserved communities. The district implemented a Student Assignment System from 1983 to 2000, which used racial criteria to promote diversity and allocate resources to schools in predominantly Black neighborhoods like Bayview and Hunters Point.\n",
            "\n",
            "Despite these efforts, challenges remain with unequal access to school choice and persistent segregation patterns. SFUSD continues to work on outreach and policies to increase diversity and close opportunity gaps, including targeting equitable educational opportunities from a young age to prepare students for success in academically challenging schools.\n",
            "\n",
            "Overall, the evolution of education reform in San Francisco reflects a long struggle against segregation and inequality, with ongoing efforts to create a more inclusive and equitable public school system.\n",
            "Collecting answers...\n",
            "Received question How did San Francisco’s LGBTQ+ community develop historically, and what role did the city play in the broader LGBTQ+ rights movement?\n",
            "            Came up with answer: San Francisco's LGBTQ+ community developed historically as one of the largest and most prominent in the United States, with roots tracing back to the early 20th century. The first notable gay bar, The Dash, opened in 1908, and the community began to fully form in the 1920s and 1930s, particularly in areas like North Beach. Mona's, the city's first lesbian bar, opened in 1934, featuring cross-dressing waitresses and entertainers. The U.S. Navy's \"Blue discharge\" practice during World War I, which discharged known homosexuals in port cities including San Francisco, inadvertently helped create a visible gay community.\n",
            "\n",
            "San Francisco played a pivotal role in the broader LGBTQ+ rights movement. It became a center for activism and visibility, especially from the 1960s onward. The city was home to influential figures like Harvey Milk, one of the first openly gay elected officials in the U.S., who advocated for LGBTQ+ rights and visibility. San Francisco also fostered LGBTQ+ cultural expressions, such as the San Francisco Gay Men's Chorus, which helped build community connections and promote representation in the arts.\n",
            "\n",
            "The city's history of LGBTQ+ activism includes significant milestones that contributed to the national movement for equality, making San Francisco a symbol of hope and progress in the fight for LGBTQ+ rights.\n",
            "Collecting answers...\n",
            "Received question What were the effects of World War II on San Francisco’s economy, population, and urban development?\n",
            "            Came up with answer: World War II had significant effects on San Francisco's economy, population, and urban development. The war spurred unprecedented military, technological, and industrial growth in the region, leading to massive increases in migration, population, and jobs. This growth contributed to the development of sprawling industrial, urban, and suburban areas.\n",
            "\n",
            "Economically, the war effort boosted San Francisco's industrial base, with increased production and military-related activities. The postwar period saw continued prosperity as the city adjusted to new economic realities and the Cold War environment.\n",
            "\n",
            "Population-wise, San Francisco experienced a huge increase during and after the war. The influx of workers and military personnel led to rapid population growth, which in turn created pressure on housing and infrastructure. For example, Chinatown's population grew significantly after the war, aided by changes in immigration laws.\n",
            "\n",
            "Urban development was marked by rapid expansion and modernization. The city saw the rise of international-style high-rises, reflecting a new skyline. However, the rapid population growth outpaced the development of public infrastructure, leading to challenges in urban planning. The San Francisco Bay Area Council was formed to focus on economic development and area-wide physical planning. There was also a notable increase in highways and tract housing, especially in the outlying regions rather than the city center.\n",
            "\n",
            "Additionally, urban renewal efforts, such as those under the California Community Redevelopment Act of 1945, reshaped neighborhoods, sometimes controversially, as seen in areas like the Fillmore District.\n",
            "\n",
            "In summary, World War II catalyzed San Francisco's transformation into a major industrial and urban center, driving population growth, economic expansion, and significant changes in urban form and infrastructure.\n",
            "Collecting answers...\n",
            "Received question How have environmental movements and policies influenced San Francisco’s urban planning and sustainability efforts historically?\n",
            "            Came up with answer: Environmental movements and policies have significantly influenced San Francisco's urban planning and sustainability efforts historically by shaping a more democratic and environmentally conscious approach to city development. After World War II, anti-highway and neighborhood movements in San Francisco checked the unrestrained growth of downtown, leading to more accountable and community-focused planning. This shift fostered the emergence of bicycle infrastructure, open space preservation, healthy city planning, and estuary and stream restoration projects.\n",
            "\n",
            "San Francisco integrated economic, environmental, and social factors into its urban planning, culminating in the establishment of a Sustainability Plan that serves as a policy framework for the city. The city has prioritized sustainable urban planning initiatives that emphasize green infrastructure, public transit improvements like the Bay Area Rapid Transit system, and the revival of ferry services to reduce traffic and pollution.\n",
            "\n",
            "Additionally, the creation of large urban green spaces such as the Golden Gate National Recreation Area reflects the city's commitment to preserving natural landscapes within the urban environment. These efforts collectively demonstrate how environmental activism and policy have driven San Francisco toward becoming a model of sustainable urban living, balancing urban growth with ecological well-being.\n",
            "Collecting answers...\n",
            "Received question What role did labor unions and worker movements play in shaping San Francisco’s social and economic history?\n",
            "            Came up with answer: Labor unions and worker movements played a significant role in shaping San Francisco’s social and economic history from the mid-19th century onward. During the Gold Rush era, San Francisco workers faced harsh conditions, prompting early labor organizing that led to progressive labor laws such as the 1853 California law limiting work hours to ten per day. Various trades including printers, sailors, musicians, cigar makers, dockworkers, and painters formed unions to advocate for better conditions.\n",
            "\n",
            "By the late 19th and early 20th centuries, organizations like the San Francisco Building Trades Council became some of the most powerful labor groups in the country, controlling employment in the construction industry through union membership cards. This gave unions significant leverage in negotiating wages and working conditions.\n",
            "\n",
            "Labor activism in the Bay Area, including San Francisco, has been deeply influential in the broader labor movement in the United States. From early union organizing to later movements such as the San Francisco State Strike and protests against the Vietnam War, labor and worker movements helped shape the city’s political landscape, social justice efforts, and economic policies. The region’s labor history includes notable contributions to farmworker rights led by figures like César Chavez and ongoing efforts by modern workers such as rideshare drivers seeking union representation.\n",
            "\n",
            "Overall, labor unions and worker movements have been integral to San Francisco’s development, advocating for workers’ rights, influencing legislation, and contributing to the city’s identity as a center of progressive social and economic activism.\n",
            "Collecting answers...\n",
            "Received question How has San Francisco’s role as a tech hub emerged historically, and what impacts has this had on the city’s demographics and economy?\n",
            "            Came up with answer: San Francisco's emergence as a tech hub has historical roots tied to the broader San Francisco Bay Area's development, particularly Silicon Valley. The term \"Silicon Valley\" was popularized in 1971, marking the region as a center for the burgeoning computer industry. The area's tech prominence accelerated with the invention of microprocessors in the early 1970s and the establishment of key semiconductor companies like Shockley Semiconductor in the 1950s. San Francisco itself became home to several significant technology companies during the digital revolution, contributing to the city's role in the tech industry.\n",
            "\n",
            "The tech boom has had profound impacts on San Francisco's demographics and economy. The influx of tech professionals has transformed the city's population, attracting a highly skilled workforce and increasing demand for housing and services. Economically, the tech industry has become the primary driver of San Francisco's growth, contributing significantly to job creation and shaping the local consumer landscape. The presence of major tech companies such as Google, LinkedIn, and Twitter has fueled economic expansion but also contributed to challenges like gentrification and rising real estate prices. Despite these challenges, the tech sector remains a vital part of San Francisco's economy, with continued investment and employment growth even during periods of broader economic uncertainty.\n",
            "Generating report...\n",
            "==== The report ====\n",
            "**Comprehensive Report on the History of San Francisco**\n",
            "\n",
            "San Francisco’s history is a rich tapestry woven from indigenous heritage, colonial ambitions, rapid economic booms, waves of immigration, social and political activism, and transformative urban development. This report synthesizes key aspects of San Francisco’s historical evolution, highlighting its origins, demographic shifts, economic transformations, cultural diversity, political landscape, and responses to natural and social challenges.\n",
            "\n",
            "---\n",
            "\n",
            "### 1. Origins and Early Settlement Patterns\n",
            "\n",
            "Before European contact, the San Francisco Bay Area was inhabited by the Ohlone people, who referred to the region as *Ahwaste*, meaning \"place at the bay.\" The Ohlone lived in interconnected bands extending from south of the Golden Gate to San José, with a lifestyle deeply tied to the bay’s natural resources.\n",
            "\n",
            "The Spanish colonial period began in the late 18th century, marked by the establishment of the Presidio of San Francisco and Mission San Francisco de Asís (Mission Dolores) in 1776. These institutions served military, religious, and agricultural purposes, anchoring Spanish control and efforts to convert indigenous populations. Early settlers included soldiers, Franciscan priests, and Mestizaje colonists from Mexico. Settlement was concentrated around the Presidio and Mission, focusing on strategic defense and missionary work rather than urban development.\n",
            "\n",
            "---\n",
            "\n",
            "### 2. The California Gold Rush and Urban Transformation\n",
            "\n",
            "The discovery of gold in 1848 triggered a dramatic transformation. San Francisco’s population exploded from roughly 1,000 to 25,000 by 1849, fueled by the arrival of the \"Forty-niners\" and immigrants worldwide. The city rapidly evolved from a small port town into a bustling metropolis.\n",
            "\n",
            "Economically, San Francisco became the primary supply and service center for miners, spawning businesses such as hotels, saloons, gambling halls, and retail establishments. This boom laid the foundation for its emergence as a major urban and economic center.\n",
            "\n",
            "Urbanistically, the city’s landscape shifted overnight, with makeshift housing and hastily constructed buildings filling the growing demand for shelter and infrastructure. The Gold Rush also contributed to San Francisco’s cultural diversity, as immigrants from various countries settled and shaped the city’s identity.\n",
            "\n",
            "---\n",
            "\n",
            "### 3. The Transcontinental Railroad and Economic Expansion\n",
            "\n",
            "The completion of the transcontinental railroad in 1869 connected San Francisco to the eastern United States, reducing travel time from months to about a week. This linkage transformed the city into a critical hub for trade, commerce, and immigration.\n",
            "\n",
            "The railroad spurred economic growth by facilitating the movement of goods and people, fostering industries such as shipping, manufacturing, and retail. It also attracted a diverse workforce, further expanding and diversifying the population. San Francisco’s role as a gateway to Asia and the Pacific was solidified, enhancing its strategic and economic importance.\n",
            "\n",
            "---\n",
            "\n",
            "### 4. Immigration Waves and Cultural Diversity\n",
            "\n",
            "San Francisco’s social fabric has been profoundly shaped by successive waves of immigration, particularly from China, Japan, Latin America, the Philippines, South Asia, and the Middle East.\n",
            "\n",
            "- **Chinese Immigration:** Beginning during the Gold Rush, Chinese immigrants worked in mining, railroads, and agriculture despite facing severe discrimination, including the Chinese Exclusion Act of 1882. Chinatown became a cultural and economic stronghold, with the community expanding into other neighborhoods and contributing significantly to the city’s economy and culture.\n",
            "\n",
            "- **Japanese Immigration:** Japanese immigrants established a vibrant community in Japantown, creating cultural institutions and businesses despite facing exclusionary policies and wartime internment. Japantown remains a historic and cultural landmark.\n",
            "\n",
            "- **Latin American Immigration:** Latinx communities, especially in the Mission District, have enriched San Francisco’s cultural landscape with vibrant traditions, murals, festivals, and activism. They have contributed to labor sectors and social movements advocating for immigrant rights.\n",
            "\n",
            "- **Filipino Community:** Centered historically in Manilatown and the International Hotel, Filipino Americans have contributed through labor, cultural activism, and military service, maintaining a resilient community presence.\n",
            "\n",
            "- **South Asian and Middle Eastern Communities:** These groups have engaged in social justice activism and cultural contributions, with organizations addressing labor rights, gender-based violence, and community building, enriching San Francisco’s multicultural identity.\n",
            "\n",
            "---\n",
            "\n",
            "### 5. Political Evolution and Social Movements\n",
            "\n",
            "San Francisco’s political landscape evolved from colonial governance through periods of rapid growth, corruption, reform, and progressive activism.\n",
            "\n",
            "- **19th Century:** The Gold Rush era brought political corruption and anti-Chinese agitation, notably by the Workingmen’s Party. Reform movements emerged in the early 20th century to combat graft and address labor and social issues.\n",
            "\n",
            "- **Major Political Figures:** Influential leaders include James Rolph Jr., Willie Brown, Harvey Milk (a pioneering openly gay elected official), and Ed Lee (the city’s first Asian American mayor).\n",
            "\n",
            "- **Social Movements:** San Francisco was a crucible for civil rights beyond the Black Panther Party, including women’s liberation, LGBTQ+ rights, and environmental activism. The city’s Human Rights Commission and numerous advocacy groups have advanced social justice causes.\n",
            "\n",
            "- **LGBTQ+ Rights:** San Francisco became a national center for LGBTQ+ activism, with early gay bars, cultural institutions, and leaders like Harvey Milk shaping the movement.\n",
            "\n",
            "---\n",
            "\n",
            "### 6. Natural Disasters and Urban Resilience\n",
            "\n",
            "- **1906 Earthquake and Fire:** Caused by a rupture along the San Andreas Fault, the 7.9 magnitude quake devastated San Francisco, destroying 28,000 buildings and killing over 3,000 people. The subsequent fires caused even greater destruction due to ruptured water mains. Recovery involved military-led relief, refugee camps, and rebuilding with improved seismic and fire-resistant standards, influencing urban planning and disaster preparedness.\n",
            "\n",
            "- **1989 Loma Prieta Earthquake:** This event exposed infrastructure vulnerabilities, leading to the demolition of damaged structures like the Embarcadero Freeway and investments exceeding $20 billion in seismic upgrades. The quake tested economic resilience and emergency response, prompting advances in disaster planning and community preparedness.\n",
            "\n",
            "---\n",
            "\n",
            "### 7. Housing Policies and Urban Renewal\n",
            "\n",
            "San Francisco’s housing history reflects efforts to balance growth, affordability, and social equity, often with mixed outcomes.\n",
            "\n",
            "- **Mid-20th Century Urban Renewal:** Projects targeting \"urban blight\" led to the demolition of thousands of homes in minority neighborhoods such as the Fillmore District, Japantown, and the Western Addition, displacing tens of thousands of Black, Japanese, and Filipino residents and eroding cultural hubs.\n",
            "\n",
            "- **Affordable Housing Initiatives:** From 1978 to 2012, nearly $2 billion was invested in affordable housing preservation and development. Recent policies emphasize housing as a right, aiming to increase multifamily housing and connect residents to services.\n",
            "\n",
            "- **Challenges:** Restrictive zoning and historic displacement have contributed to segregation and affordability crises. Current reforms seek to remove barriers to housing construction and prioritize those displaced by past urban renewal.\n",
            "\n",
            "---\n",
            "\n",
            "### 8. Economic and Industrial Development\n",
            "\n",
            "- **Maritime Industry:** San Francisco’s port has been central to its economy and identity, facilitating trade and immigration. The waterfront’s development, including piers and bulkhead buildings, shaped the city’s physical and social landscape. Maritime heritage is preserved in institutions like the San Francisco Maritime National Historical Park.\n",
            "\n",
            "- **World War II Impact:** The war catalyzed industrial and military growth, population surges, and urban expansion. Postwar development included high-rise construction, suburbanization, and infrastructure projects, alongside urban renewal efforts.\n",
            "\n",
            "- **Labor Movements:** From the Gold Rush onward, labor unions have been powerful forces advocating for workers’ rights, influencing legislation and social justice. The San Francisco Building Trades Council and other unions shaped employment and political activism.\n",
            "\n",
            "- **Tech Industry Emergence:** Rooted in the broader Bay Area’s Silicon Valley, San Francisco became a tech hub from the 1970s onward. The tech boom transformed demographics, driving economic growth but also contributing to gentrification and housing challenges.\n",
            "\n",
            "---\n",
            "\n",
            "### 9. Public Health and Medical Infrastructure\n",
            "\n",
            "Beyond UCSF, institutions like St. Mary’s Hospital and San Francisco General Hospital have been pillars of the city’s healthcare system. Public health initiatives during the Progressive Era advanced scientific approaches to poverty and disease control. Healthcare has grown into one of the city’s largest employment sectors since the late 1960s.\n",
            "\n",
            "---\n",
            "\n",
            "### 10. Culinary Culture\n",
            "\n",
            "San Francisco’s culinary scene reflects its immigrant diversity and economic shifts. From Gold Rush-era establishments like Tadich Grill and Boudin Bakery to vibrant ethnic enclaves such as the Mission District, the city offers a rich array of global cuisines. The food industry is a major economic driver, blending tradition with innovation and adapting to challenges like tariffs and the COVID-19 pandemic.\n",
            "\n",
            "---\n",
            "\n",
            "### 11. Prohibition and Nightlife\n",
            "\n",
            "During Prohibition (1920-1933), San Francisco’s nightlife adapted with the rise of speakeasies, especially in North Beach, which maintained a bohemian and immigrant character. The era fostered a rebellious social atmosphere that influenced later cultural movements like the Beat Generation.\n",
            "\n",
            "---\n",
            "\n",
            "### 12. Education Reform and Access\n",
            "\n",
            "San Francisco’s public schools have a complex history marked by early segregation, desegregation efforts from the 1970s onward, and ongoing challenges with equity and access. Court-ordered reforms and student assignment policies sought to address racial disparities, with continued efforts to promote diversity and educational opportunity.\n",
            "\n",
            "---\n",
            "\n",
            "### 13. Environmental Movements and Sustainability\n",
            "\n",
            "Post-World War II environmental activism curtailed unchecked urban expansion, promoting community-focused planning, open space preservation, and sustainable infrastructure. San Francisco’s Sustainability Plan integrates economic, environmental, and social goals, emphasizing green infrastructure, public transit, and natural resource conservation.\n",
            "\n",
            "---\n",
            "\n",
            "### 14. Civil Rights and Social Justice Beyond the Black Panther Party\n",
            "\n",
            "San Francisco has been a hub for diverse civil rights initiatives, including housing rights, employment discrimination, and LGBTQ+ advocacy. The city hosts numerous organizations and government bodies like the Human Rights Commission, reflecting a broad commitment to social justice.\n",
            "\n",
            "---\n",
            "\n",
            "**Conclusion**\n",
            "\n",
            "San Francisco’s history is characterized by dynamic growth, cultural diversity, social activism, and resilience in the face of natural and human challenges. From its indigenous roots and Spanish colonial origins to its role as a global tech and cultural hub, the city’s evolution reflects complex interactions among economic forces, demographic changes, political movements, and community efforts. Its rich heritage continues to shape its identity as a vibrant, diverse, and progressive metropolis.\n"
          ]
        }
      ]
    },
    {
      "cell_type": "markdown",
      "source": [
        "In this run, we did three rounds of review! You can see the full looping workflow in the visualizer:\n",
        "\n",
        "<img width=\"660\" src=\"https://seldo.com/uploads/2025/Screenshot%202025-05-04%20at%205.39.32%E2%80%AFPM.png\">"
      ],
      "metadata": {
        "id": "9jB-Zalv8SZx"
      }
    },
    {
      "cell_type": "markdown",
      "source": [
        "## One final congratulations!\n",
        "\n",
        "You've come a long way in this notebook -- from a single agent flow, to a multi-agent `AgentWorkflow` all the way through to full `Workflows`, with fine-grained flow control and self-reflection. What will you build your multi-agent system to do?"
      ],
      "metadata": {
        "id": "dJRA_zJH8v3J"
      }
    }
  ],
  "metadata": {
    "kernelspec": {
      "display_name": "llama-index-caVs7DDe-py3.10",
      "language": "python",
      "name": "python3"
    },
    "language_info": {
      "codemirror_mode": {
        "name": "ipython",
        "version": 3
      },
      "file_extension": ".py",
      "mimetype": "text/x-python",
      "name": "python",
      "nbconvert_exporter": "python",
      "pygments_lexer": "ipython3"
    },
    "colab": {
      "provenance": []
    }
  },
  "nbformat": 4,
  "nbformat_minor": 0
}
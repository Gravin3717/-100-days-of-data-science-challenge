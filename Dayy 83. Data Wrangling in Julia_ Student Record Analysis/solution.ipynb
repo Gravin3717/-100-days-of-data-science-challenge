{
  "nbformat": 4,
  "nbformat_minor": 0,
  "metadata": {
    "colab": {
      "name": "Julia_1.8.2_template.ipynb",
      "provenance": []
    },
    "kernelspec": {
      "display_name": "Julia",
      "name": "julia"
    },
    "language_info": {
      "name": "julia"
    }
  },
  "cells": [
    {
      "cell_type": "markdown",
      "source": [
        "# Using Julia for some data wrangling taks\n"
      ],
      "metadata": {
        "internals": {
          "slide_type": "subslide",
          "slide_helper": "subslide_end"
        },
        "slide_helper": "slide_end",
        "id": "Mt8xttDij-SZ"
      }
    },
    {
      "cell_type": "markdown",
      "source": [
        "`Julia` is a scripting language, like R and Python, with similarities and differences:\n"
      ],
      "metadata": {
        "id": "xVWTC93Vj-Sa"
      }
    },
    {
      "cell_type": "markdown",
      "source": [
        "  * Like R and Python, the basic syntax of `Julia` is easy enough to learn\n",
        "  * Like R and unlike Python, `Julia` has a concept of generic methods and multiple dispatch as an alternative to object-oriented approaches\n",
        "  * `Julia` has a richer type system with parametric types helpful for generic programming over concrete types.\n",
        "  * `Julia`'s multiple dispatch is said to be as easy as S3 and as powerful as S4 (Styles for R)\n",
        "  * Unlike R and Python (but not variants), `Julia` uses llvm to on-the-fly compile its methods, resulting in a tradeoff balancing compile-time latency on first use with very rapid runtime after compilation\n",
        "  * When well written, `Julia` can match speeds of C and Fortran, so it is possible to avoid the \"two-language\" problem\n",
        "  * Like R and Python, base `Julia` code is readily extended  by add-on packages; packages are easily managed by a package manager.\n",
        "  * Like `R` and `Python`, `Julia` readily interfaces with other languages  (R, Python, C are good examples)\n",
        "  * `Julia` inherits practices from: lisp, R, Python, Ruby, and Matlab (making anyone feel at home?)\n",
        "  * For numerical programming, as is often done in Matlab and Python, `Julia` has many best in class packages (e.g. `SciML`)\n",
        "  * For general purpose programming, such is often done with Python, `Julia` has a pretty rich set of packages\n",
        "  * For statistical programming, such is often done with R, `Julia` has many packages and great promise for new-package development. Unlike R, most all statistical features are in add-on packages, such as `DataFrames.jl` shown below.\n"
      ],
      "metadata": {
        "id": "n0FfxZ_ij-Sb"
      }
    },
    {
      "cell_type": "markdown",
      "source": [
        "This presentation will demonstrate a modest data wrangling task that might be familiar to R users or Pandas users.\n"
      ],
      "metadata": {
        "id": "efUDXZ8Rj-Sc"
      }
    },
    {
      "cell_type": "markdown",
      "source": [
        "## A few key Julia features\n"
      ],
      "metadata": {
        "internals": {
          "slide_type": "subslide",
          "slide_helper": "subslide_end"
        },
        "slide_helper": "slide_end",
        "id": "0BdEh1ZHj-Sc"
      }
    },
    {
      "cell_type": "markdown",
      "source": [
        "### Types\n"
      ],
      "metadata": {
        "internals": {
          "slide_type": "subslide"
        },
        "slide_helper": "slide_end",
        "id": "-xywsiYkj-Sd"
      }
    },
    {
      "cell_type": "markdown",
      "source": [
        "Julia has types (not classes) for different code values\n"
      ],
      "metadata": {
        "id": "HH6u2cRGj-Se"
      }
    },
    {
      "cell_type": "markdown",
      "source": [
        "Base number types include:\n"
      ],
      "metadata": {
        "id": "-drTN01Pj-Se"
      }
    },
    {
      "cell_type": "markdown",
      "source": [
        "  * integer, float, rational, big numbers, complex\n"
      ],
      "metadata": {
        "id": "Ds01_FY_j-Sf"
      }
    },
    {
      "outputs": [
        {
          "output_type": "execute_result",
          "data": {
            "text/plain": [
              "(1, 1.0, 1//1, 1, 1 + 0im)"
            ]
          },
          "metadata": {},
          "execution_count": 1
        }
      ],
      "cell_type": "code",
      "source": [
        "i,s,r,b,c = 1, 1.0, 1//1, big(1), 1 + 0im"
      ],
      "metadata": {
        "id": "yIOUiQgAj-Sf",
        "outputId": "a227bcab-2729-4e61-e2ea-e1b87422b04a",
        "colab": {
          "base_uri": "https://localhost:8080/",
          "height": 0
        }
      },
      "execution_count": 1
    },
    {
      "outputs": [
        {
          "output_type": "execute_result",
          "data": {
            "text/plain": [
              "(Int64, Rational{Int64}, Float64, BigInt, Complex{Int64})"
            ]
          },
          "metadata": {},
          "execution_count": 2
        }
      ],
      "cell_type": "code",
      "source": [
        "typeof(i), typeof(r), typeof(s), typeof(b), typeof(c)"
      ],
      "metadata": {
        "id": "h_9-Jq7Lj-Sg",
        "outputId": "db5ad0b1-bff5-45b6-f09c-e5f3347f7fee",
        "colab": {
          "base_uri": "https://localhost:8080/",
          "height": 0
        }
      },
      "execution_count": 2
    },
    {
      "cell_type": "markdown",
      "source": [
        "  * concrete versus abstract (Real, Integer, AbstractFloat)\n"
      ],
      "metadata": {
        "id": "1cKzViXBj-Sg"
      }
    },
    {
      "outputs": [
        {
          "output_type": "execute_result",
          "data": {
            "text/plain": [
              "(true, false, true)"
            ]
          },
          "metadata": {},
          "execution_count": 3
        }
      ],
      "cell_type": "code",
      "source": [
        "isa(i, Integer), isa(r, Integer), isa(b, Integer)"
      ],
      "metadata": {
        "id": "4n7tHnxSj-Sh",
        "outputId": "f527e0da-5e64-4437-e5e9-0ff9fa0dd6be",
        "colab": {
          "base_uri": "https://localhost:8080/",
          "height": 0
        }
      },
      "execution_count": 3
    },
    {
      "outputs": [
        {
          "output_type": "execute_result",
          "data": {
            "text/plain": [
              "(true, true)"
            ]
          },
          "metadata": {},
          "execution_count": 4
        }
      ],
      "cell_type": "code",
      "source": [
        "isa(s, Real), isa(s, AbstractFloat)"
      ],
      "metadata": {
        "id": "cgkOL2QKj-Sh",
        "outputId": "341c4cd8-f963-4589-fa80-83a33ecd34bb",
        "colab": {
          "base_uri": "https://localhost:8080/",
          "height": 0
        }
      },
      "execution_count": 4
    },
    {
      "cell_type": "markdown",
      "source": [
        "Strings and symbols play a role in names for data frames:\n"
      ],
      "metadata": {
        "id": "bqkFdVadj-Sh"
      }
    },
    {
      "outputs": [
        {
          "output_type": "execute_result",
          "data": {
            "text/plain": [
              "(\"string\", :symbol)"
            ]
          },
          "metadata": {},
          "execution_count": 5
        }
      ],
      "cell_type": "code",
      "source": [
        "\"string\", :symbol"
      ],
      "metadata": {
        "id": "caWGJiYsj-Si",
        "outputId": "6bee4393-31a2-4d25-aea7-4b44d6aef55b",
        "colab": {
          "base_uri": "https://localhost:8080/",
          "height": 0
        }
      },
      "execution_count": 5
    },
    {
      "cell_type": "markdown",
      "source": [
        "`Julia` has both `nothing` and `missing`, with `missing` playing the role of `NA` in R.\n"
      ],
      "metadata": {
        "id": "Db5iVvCej-Si"
      }
    },
    {
      "outputs": [
        {
          "output_type": "execute_result",
          "data": {
            "text/plain": [
              "(nothing, missing)"
            ]
          },
          "metadata": {},
          "execution_count": 6
        }
      ],
      "cell_type": "code",
      "source": [
        "nothing, missing"
      ],
      "metadata": {
        "id": "Zir68t8Wj-Si",
        "outputId": "89dc1444-59a3-4c79-9e2b-da06216161ef",
        "colab": {
          "base_uri": "https://localhost:8080/",
          "height": 0
        }
      },
      "execution_count": 6
    },
    {
      "cell_type": "markdown",
      "source": [
        "### Containers\n"
      ],
      "metadata": {
        "internals": {
          "slide_type": "subslide"
        },
        "slide_helper": "slide_end",
        "id": "vBDGspcNj-Sj"
      }
    },
    {
      "cell_type": "markdown",
      "source": [
        "Base `Julia` provides many basic containers for values:\n"
      ],
      "metadata": {
        "id": "zQsIpkw9j-Sj"
      }
    },
    {
      "cell_type": "markdown",
      "source": [
        "Vectors promote values to a common type\n"
      ],
      "metadata": {
        "id": "MD82jB34j-Sj"
      }
    },
    {
      "outputs": [
        {
          "output_type": "execute_result",
          "data": {
            "text/plain": [
              "3-element Vector{Float64}:\n",
              " 1.0\n",
              " 1.0\n",
              " 1.0"
            ]
          },
          "metadata": {},
          "execution_count": 7
        }
      ],
      "cell_type": "code",
      "source": [
        "[1, 1.0, 1//1]"
      ],
      "metadata": {
        "id": "-82tQG3Kj-Sj",
        "outputId": "cef94059-b58f-48ec-a90d-802687da12e5",
        "colab": {
          "base_uri": "https://localhost:8080/",
          "height": 0
        }
      },
      "execution_count": 7
    },
    {
      "cell_type": "markdown",
      "source": [
        "Tuples allow for heterogeneous containers (like a list in R)\n"
      ],
      "metadata": {
        "id": "Y4iO316cj-Sk"
      }
    },
    {
      "outputs": [
        {
          "output_type": "execute_result",
          "data": {
            "text/plain": [
              "(1, 1.0, 1//1)"
            ]
          },
          "metadata": {},
          "execution_count": 8
        }
      ],
      "cell_type": "code",
      "source": [
        "(1, 1.0, 1//1)"
      ],
      "metadata": {
        "id": "lKR2rPIUj-Sk",
        "outputId": "e0abc24c-8333-4cee-80a7-8875f717d3cf",
        "colab": {
          "base_uri": "https://localhost:8080/",
          "height": 0
        }
      },
      "execution_count": 8
    },
    {
      "cell_type": "markdown",
      "source": [
        "While in R, vectors are matrices, in `Julia` they are distinct, though both are special cases of the `Array{T, N}` type:\n"
      ],
      "metadata": {
        "id": "HIGTQNXLj-Sk"
      }
    },
    {
      "outputs": [
        {
          "output_type": "execute_result",
          "data": {
            "text/plain": [
              "3-element Vector{Int64}:\n",
              " 1\n",
              " 2\n",
              " 3"
            ]
          },
          "metadata": {},
          "execution_count": 9
        }
      ],
      "cell_type": "code",
      "source": [
        "v = [1,2,3]"
      ],
      "metadata": {
        "id": "QNA8vxWyj-Sk",
        "outputId": "b77bf57a-a2a1-4969-c75b-695f4f2a4f9e",
        "colab": {
          "base_uri": "https://localhost:8080/",
          "height": 0
        }
      },
      "execution_count": 9
    },
    {
      "outputs": [
        {
          "output_type": "execute_result",
          "data": {
            "text/plain": [
              "Vector{Int64}\u001b[90m (alias for \u001b[39m\u001b[90mArray{Int64, 1}\u001b[39m\u001b[90m)\u001b[39m"
            ]
          },
          "metadata": {},
          "execution_count": 10
        }
      ],
      "cell_type": "code",
      "source": [
        "typeof(v)"
      ],
      "metadata": {
        "id": "uzq9NEYxj-Sl",
        "outputId": "52be328b-5b40-4566-ba2e-4ace2193eebc",
        "colab": {
          "base_uri": "https://localhost:8080/",
          "height": 0
        }
      },
      "execution_count": 10
    },
    {
      "outputs": [
        {
          "output_type": "execute_result",
          "data": {
            "text/plain": [
              "2×2 Matrix{Int64}:\n",
              " 1  2\n",
              " 3  4"
            ]
          },
          "metadata": {},
          "execution_count": 11
        }
      ],
      "cell_type": "code",
      "source": [
        "M = [1 2; 3 4]"
      ],
      "metadata": {
        "id": "1hlDtX2gj-Sl",
        "outputId": "3b0ad078-ac18-41bc-c6a4-589e39de3040",
        "colab": {
          "base_uri": "https://localhost:8080/",
          "height": 0
        }
      },
      "execution_count": 11
    },
    {
      "outputs": [
        {
          "output_type": "execute_result",
          "data": {
            "text/plain": [
              "Matrix{Int64}\u001b[90m (alias for \u001b[39m\u001b[90mArray{Int64, 2}\u001b[39m\u001b[90m)\u001b[39m"
            ]
          },
          "metadata": {},
          "execution_count": 12
        }
      ],
      "cell_type": "code",
      "source": [
        "typeof(M)"
      ],
      "metadata": {
        "id": "KEvQiiDMj-Sl",
        "outputId": "3a272521-6151-435d-a6fa-1ef307007758",
        "colab": {
          "base_uri": "https://localhost:8080/",
          "height": 0
        }
      },
      "execution_count": 12
    },
    {
      "cell_type": "markdown",
      "source": [
        "The matrix `M`, as defined above, is loaded row by row. We can create a row vector, mirroring `v`, but it is an array with 2 coordinates:\n"
      ],
      "metadata": {
        "id": "p0f0cxu7j-Sl"
      }
    },
    {
      "outputs": [
        {
          "output_type": "execute_result",
          "data": {
            "text/plain": [
              "1×3 Matrix{Int64}:\n",
              " 1  2  3"
            ]
          },
          "metadata": {},
          "execution_count": 13
        }
      ],
      "cell_type": "code",
      "source": [
        "vr = [1 2 3]"
      ],
      "metadata": {
        "id": "fgW66LVdj-Sm",
        "outputId": "09d29818-51ae-4544-8e69-e31e619d0467",
        "colab": {
          "base_uri": "https://localhost:8080/",
          "height": 0
        }
      },
      "execution_count": 13
    },
    {
      "outputs": [
        {
          "output_type": "execute_result",
          "data": {
            "text/plain": [
              "Matrix{Int64}\u001b[90m (alias for \u001b[39m\u001b[90mArray{Int64, 2}\u001b[39m\u001b[90m)\u001b[39m"
            ]
          },
          "metadata": {},
          "execution_count": 14
        }
      ],
      "cell_type": "code",
      "source": [
        "typeof(vr)"
      ],
      "metadata": {
        "id": "Dl9m_DI1j-Sm",
        "outputId": "f6dfaedf-ee4a-4081-c23a-e2ba455c8e00",
        "colab": {
          "base_uri": "https://localhost:8080/",
          "height": 0
        }
      },
      "execution_count": 14
    },
    {
      "cell_type": "markdown",
      "source": [
        "Julia takes transposes seriously (i.e. `v'` is not `vr`):\n"
      ],
      "metadata": {
        "id": "93xosHtgj-Sm"
      }
    },
    {
      "outputs": [
        {
          "output_type": "execute_result",
          "data": {
            "text/plain": [
              "1×3 adjoint(::Vector{Int64}) with eltype Int64:\n",
              " 1  2  3"
            ]
          },
          "metadata": {},
          "execution_count": 15
        }
      ],
      "cell_type": "code",
      "source": [
        "v'"
      ],
      "metadata": {
        "id": "_dMB0oSZj-Sm",
        "outputId": "ff10726b-7926-4b10-be57-1fb39f7e6071",
        "colab": {
          "base_uri": "https://localhost:8080/",
          "height": 0
        }
      },
      "execution_count": 15
    },
    {
      "cell_type": "markdown",
      "source": [
        "Associative arrays are implemented by dictionaries or named tuples:\n"
      ],
      "metadata": {
        "id": "dTR42STyj-Sn"
      }
    },
    {
      "outputs": [
        {
          "output_type": "execute_result",
          "data": {
            "text/plain": [
              "1"
            ]
          },
          "metadata": {},
          "execution_count": 16
        }
      ],
      "cell_type": "code",
      "source": [
        "nt = (a=1, b=2, c=3)\n",
        "nt.a"
      ],
      "metadata": {
        "id": "2fbT6okXj-Sn",
        "outputId": "c9823a31-ae33-4e77-b6ed-86e3b355cec1",
        "colab": {
          "base_uri": "https://localhost:8080/",
          "height": 0
        }
      },
      "execution_count": 16
    },
    {
      "outputs": [
        {
          "output_type": "execute_result",
          "data": {
            "text/plain": [
              "1"
            ]
          },
          "metadata": {},
          "execution_count": 17
        }
      ],
      "cell_type": "code",
      "source": [
        "dct = Dict(\"a\"=>1, \"b\"=>2, \"c\"=>3)\n",
        "dct[\"a\"]"
      ],
      "metadata": {
        "id": "HYb5ai-Gj-Sw",
        "outputId": "f47cc870-6de4-49b3-edc1-7a50ba524489",
        "colab": {
          "base_uri": "https://localhost:8080/",
          "height": 0
        }
      },
      "execution_count": 17
    },
    {
      "cell_type": "markdown",
      "source": [
        "(The keys of a named tuple are symbols, for the dictionary they are strings above, but may be other types.)\n"
      ],
      "metadata": {
        "id": "blugyma6j-Sw"
      }
    },
    {
      "cell_type": "markdown",
      "source": [
        "In Julia it is very much possible for external packages to provide additional container types. We will use `DataFrame` and `NamedTable` in the following.\n"
      ],
      "metadata": {
        "id": "yN4XlJnGj-Sw"
      }
    },
    {
      "cell_type": "markdown",
      "source": [
        "### Functions\n"
      ],
      "metadata": {
        "internals": {
          "slide_type": "subslide"
        },
        "slide_helper": "slide_end",
        "id": "LAmeymYDj-Sw"
      }
    },
    {
      "cell_type": "markdown",
      "source": [
        "There are different ways to define a function and different types of functions. These define two methods for a generic function `f`:\n"
      ],
      "metadata": {
        "id": "HVZFoiRZj-Sx"
      }
    },
    {
      "outputs": [
        {
          "output_type": "execute_result",
          "data": {
            "text/plain": [
              "f (generic function with 1 method)"
            ]
          },
          "metadata": {},
          "execution_count": 18
        }
      ],
      "cell_type": "code",
      "source": [
        "f(x) = x^5 + x - 1"
      ],
      "metadata": {
        "id": "gVUPwneuj-Sx",
        "outputId": "d21871a6-f519-4404-c86f-a5508a221bcc",
        "colab": {
          "base_uri": "https://localhost:8080/",
          "height": 0
        }
      },
      "execution_count": 18
    },
    {
      "outputs": [
        {
          "output_type": "execute_result",
          "data": {
            "text/plain": [
              "f (generic function with 2 methods)"
            ]
          },
          "metadata": {},
          "execution_count": 19
        }
      ],
      "cell_type": "code",
      "source": [
        "function f(x, y)\n",
        "   x + 2x*y + y^2\n",
        "end"
      ],
      "metadata": {
        "id": "pEH8iO5Nj-Sx",
        "outputId": "0097f13a-35b2-4d6d-f4cb-80267cddb74d",
        "colab": {
          "base_uri": "https://localhost:8080/",
          "height": 0
        }
      },
      "execution_count": 19
    },
    {
      "cell_type": "markdown",
      "source": [
        "This defines an anonymous function which is then *assigned* to `g`:\n"
      ],
      "metadata": {
        "id": "4dIPbiUoj-Sy"
      }
    },
    {
      "outputs": [
        {
          "output_type": "execute_result",
          "data": {
            "text/plain": [
              "#1 (generic function with 1 method)"
            ]
          },
          "metadata": {},
          "execution_count": 20
        }
      ],
      "cell_type": "code",
      "source": [
        "g = x -> x^5 - x - 1"
      ],
      "metadata": {
        "id": "pL2jY2x4j-Sy",
        "outputId": "83f6fe19-4f4d-4f1b-dc17-e39e7fa38c15",
        "colab": {
          "base_uri": "https://localhost:8080/",
          "height": 0
        }
      },
      "execution_count": 20
    },
    {
      "cell_type": "markdown",
      "source": [
        "Both types of functions are called in the conventional way:\n"
      ],
      "metadata": {
        "id": "SYD6XZG_j-Sy"
      }
    },
    {
      "outputs": [
        {
          "output_type": "execute_result",
          "data": {
            "text/plain": [
              "(1, -1)"
            ]
          },
          "metadata": {},
          "execution_count": 21
        }
      ],
      "cell_type": "code",
      "source": [
        "f(1), g(1)"
      ],
      "metadata": {
        "id": "XcXPaDktj-Sy",
        "outputId": "63a27cbe-ef7d-4f2f-e230-02a93731c532",
        "colab": {
          "base_uri": "https://localhost:8080/",
          "height": 0
        }
      },
      "execution_count": 21
    },
    {
      "cell_type": "markdown",
      "source": [
        "But generic functions have dispatch determined by the signature. Here we see the number of arguments dictates which method is called:\n"
      ],
      "metadata": {
        "id": "ImmDj_BZj-Sz"
      }
    },
    {
      "outputs": [
        {
          "output_type": "execute_result",
          "data": {
            "text/plain": [
              "9"
            ]
          },
          "metadata": {},
          "execution_count": 22
        }
      ],
      "cell_type": "code",
      "source": [
        "f(1,2) # uses f(x,y) not a call to f(x), which would error"
      ],
      "metadata": {
        "id": "_dqGC6wPj-Sz",
        "outputId": "68a2a6d9-f6df-4c0e-b0b3-1afe563d94db",
        "colab": {
          "base_uri": "https://localhost:8080/",
          "height": 0
        }
      },
      "execution_count": 22
    },
    {
      "cell_type": "markdown",
      "source": [
        "Dispatch on the type of an argument is possible too, and perhaps more common. Here are default methods for `log` restricted to an initial argument of type `Number`:\n"
      ],
      "metadata": {
        "id": "xyk1Eyczj-Sz"
      }
    },
    {
      "outputs": [
        {
          "output_type": "execute_result",
          "data": {
            "text/plain": [
              "# 8 methods for generic function \"log\" from \u001b[90mBase\u001b[39m:\n",
              " [1] log(\u001b[90mx\u001b[39m::\u001b[1mBigFloat\u001b[22m)\n",
              "\u001b[90m     @\u001b[39m \u001b[90mBase.MPFR\u001b[39m \u001b[90m\u001b[4mmpfr.jl:727\u001b[24m\u001b[39m\n",
              " [2] log(\u001b[90ma\u001b[39m::\u001b[1mComplexF16\u001b[22m)\n",
              "\u001b[90m     @\u001b[39m \u001b[90mBase.Math\u001b[39m \u001b[90m\u001b[4mmath.jl:1559\u001b[24m\u001b[39m\n",
              " [3] log(::\u001b[1mIrrational\u001b[22m\u001b[0m{:ℯ})\n",
              "\u001b[90m     @\u001b[39m \u001b[90mBase.MathConstants\u001b[39m \u001b[90m\u001b[4mmathconstants.jl:143\u001b[24m\u001b[39m\n",
              " [4] log(\u001b[90mx\u001b[39m::\u001b[1mFloat64\u001b[22m)\n",
              "\u001b[90m     @\u001b[39m \u001b[90mBase.Math\u001b[39m \u001b[90mspecial/\u001b[39m\u001b[90m\u001b[4mlog.jl:267\u001b[24m\u001b[39m\n",
              " [5] log(\u001b[90mx\u001b[39m::\u001b[1mFloat32\u001b[22m)\n",
              "\u001b[90m     @\u001b[39m \u001b[90mBase.Math\u001b[39m \u001b[90mspecial/\u001b[39m\u001b[90m\u001b[4mlog.jl:264\u001b[24m\u001b[39m\n",
              " [6] log(\u001b[90ma\u001b[39m::\u001b[1mFloat16\u001b[22m)\n",
              "\u001b[90m     @\u001b[39m \u001b[90mBase.Math\u001b[39m \u001b[90m\u001b[4mmath.jl:1558\u001b[24m\u001b[39m\n",
              " [7] log(\u001b[90mz\u001b[39m::\u001b[1mComplex\u001b[22m)\n",
              "\u001b[90m     @\u001b[39m \u001b[90m\u001b[4mcomplex.jl:641\u001b[24m\u001b[39m\n",
              " [8] log(\u001b[90mx\u001b[39m::\u001b[1mReal\u001b[22m)\n",
              "\u001b[90m     @\u001b[39m \u001b[90mBase.Math\u001b[39m \u001b[90m\u001b[4mmath.jl:1575\u001b[24m\u001b[39m"
            ],
            "text/html": [
              "# 8 methods for generic function <b>log</b> from \u001b[90mBase\u001b[39m:<ul><li> log(x::<b>BigFloat</b>) in Base.MPFR at <a href=\"https://github.com/JuliaLang/julia/tree/5595d20a2877560583cd4891ce91605d10b1bb75/base/mpfr.jl#L727\" target=\"_blank\">mpfr.jl:727</a></li> <li> log(a::<b>ComplexF16</b>) in Base.Math at <a href=\"https://github.com/JuliaLang/julia/tree/5595d20a2877560583cd4891ce91605d10b1bb75/base/math.jl#L1559\" target=\"_blank\">math.jl:1559</a></li> <li> log(::<b>Irrational{:ℯ}</b>) in Base.MathConstants at <a href=\"https://github.com/JuliaLang/julia/tree/5595d20a2877560583cd4891ce91605d10b1bb75/base/mathconstants.jl#L143\" target=\"_blank\">mathconstants.jl:143</a></li> <li> log(x::<b>Float64</b>) in Base.Math at <a href=\"https://github.com/JuliaLang/julia/tree/5595d20a2877560583cd4891ce91605d10b1bb75/base/special/log.jl#L267\" target=\"_blank\">special/log.jl:267</a></li> <li> log(x::<b>Float32</b>) in Base.Math at <a href=\"https://github.com/JuliaLang/julia/tree/5595d20a2877560583cd4891ce91605d10b1bb75/base/special/log.jl#L264\" target=\"_blank\">special/log.jl:264</a></li> <li> log(a::<b>Float16</b>) in Base.Math at <a href=\"https://github.com/JuliaLang/julia/tree/5595d20a2877560583cd4891ce91605d10b1bb75/base/math.jl#L1558\" target=\"_blank\">math.jl:1558</a></li> <li> log(z::<b>Complex</b>) in Base at <a href=\"https://github.com/JuliaLang/julia/tree/5595d20a2877560583cd4891ce91605d10b1bb75/base/complex.jl#L641\" target=\"_blank\">complex.jl:641</a></li> <li> log(x::<b>Real</b>) in Base.Math at <a href=\"https://github.com/JuliaLang/julia/tree/5595d20a2877560583cd4891ce91605d10b1bb75/base/math.jl#L1575\" target=\"_blank\">math.jl:1575</a></li> </ul>"
            ]
          },
          "metadata": {},
          "execution_count": 23
        }
      ],
      "cell_type": "code",
      "source": [
        "methods(log, (Number,))"
      ],
      "metadata": {
        "id": "VKSrgBJDj-Sz",
        "outputId": "803f8255-e49c-4245-bc0c-b1a7d81340a9",
        "colab": {
          "base_uri": "https://localhost:8080/",
          "height": 185
        }
      },
      "execution_count": 23
    },
    {
      "cell_type": "markdown",
      "source": [
        "Packages and users can extend the `log` generic for other types, though it is *expected* that it be narrowed to types that they \"own.\"\n"
      ],
      "metadata": {
        "id": "j9eqvbFnj-S0"
      }
    },
    {
      "cell_type": "markdown",
      "source": [
        "---\n"
      ],
      "metadata": {
        "id": "gO52Dzhpj-S0"
      }
    },
    {
      "cell_type": "markdown",
      "source": [
        "Anonymous functions are useful with higher order programming. The above definition for `g` is just a binding of the name to the anonymous function. Bindings are dynamic:\n"
      ],
      "metadata": {
        "id": "jt-23ykCj-S1"
      }
    },
    {
      "outputs": [
        {
          "output_type": "execute_result",
          "data": {
            "text/plain": [
              "9.8"
            ]
          },
          "metadata": {},
          "execution_count": 24
        }
      ],
      "cell_type": "code",
      "source": [
        "g = 9.8"
      ],
      "metadata": {
        "id": "VifSIuB-j-S1",
        "outputId": "19795e0e-9cef-4ccd-c761-77a7484dae1b",
        "colab": {
          "base_uri": "https://localhost:8080/",
          "height": 0
        }
      },
      "execution_count": 24
    },
    {
      "cell_type": "markdown",
      "source": [
        "The generic function adds to a (global) method table. The method table can be modified, but the binding can not:\n"
      ],
      "metadata": {
        "id": "PdzWNa1oj-S1"
      }
    },
    {
      "outputs": [
        {
          "output_type": "execute_result",
          "data": {
            "text/plain": [
              "f (generic function with 3 methods)"
            ]
          },
          "metadata": {},
          "execution_count": 25
        }
      ],
      "cell_type": "code",
      "source": [
        "f(x,y,z) = x^2 + y^2 + x^2"
      ],
      "metadata": {
        "id": "qFUFnt_rj-S2",
        "outputId": "a32f9f3b-c73e-428c-ac0e-f19acbe29e05",
        "colab": {
          "base_uri": "https://localhost:8080/",
          "height": 0
        }
      },
      "execution_count": 25
    },
    {
      "outputs": [
        {
          "output_type": "error",
          "ename": "LoadError",
          "evalue": "invalid redefinition of constant Main.f",
          "traceback": [
            "invalid redefinition of constant Main.f",
            "",
            "Stacktrace:",
            " [1] top-level scope",
            "   @ In[26]:2"
          ]
        }
      ],
      "cell_type": "code",
      "source": [
        "#| error: true\n",
        "f = 42"
      ],
      "metadata": {
        "id": "gpyaqvUAj-S5",
        "outputId": "257637cd-f80b-4b4c-fd5b-001f3f5da610",
        "colab": {
          "base_uri": "https://localhost:8080/",
          "height": 128
        }
      },
      "execution_count": 26
    },
    {
      "cell_type": "markdown",
      "source": [
        "Functions may have *positional* arguments (possibly with default values) and *keyword* ararguments (with default values)\n"
      ],
      "metadata": {
        "id": "icC-xD4tj-S5"
      }
    },
    {
      "outputs": [
        {
          "output_type": "stream",
          "name": "stdout",
          "text": [
            "h(1, 2) = (1, 2, 3, 4, 5)\n",
            "h(1, 2, 4) = (1, 2, 4, 4, 5)\n",
            "h(1, 2; d = 6) = (1, 2, 3, 6, 5)\n"
          ]
        },
        {
          "output_type": "execute_result",
          "data": {
            "text/plain": [
              "(1, 2, 3, 6, 5)"
            ]
          },
          "metadata": {},
          "execution_count": 27
        }
      ],
      "cell_type": "code",
      "source": [
        "h(a, b, c=3; d=4, e::Integer=5) = (a,b,c,d,e)\n",
        "@show h(1, 2)\n",
        "@show h(1, 2, 4)\n",
        "@show h(1, 2; d=6)  # ; or , are okay when calling h; positional first"
      ],
      "metadata": {
        "id": "2ZWydfTIj-S6",
        "outputId": "bddb83be-f558-45fd-d4e0-f7ce04a46b8c",
        "colab": {
          "base_uri": "https://localhost:8080/",
          "height": 0
        }
      },
      "execution_count": 27
    },
    {
      "cell_type": "markdown",
      "source": [
        "Function application is also available through the `|>` (pipe) operator:\n"
      ],
      "metadata": {
        "id": "dPuCIcXGj-S6"
      }
    },
    {
      "outputs": [
        {
          "output_type": "execute_result",
          "data": {
            "text/plain": [
              "245"
            ]
          },
          "metadata": {},
          "execution_count": 28
        }
      ],
      "cell_type": "code",
      "source": [
        "3 |> f  # calls f(x) = x^5 - x - 1 with a value of `3`"
      ],
      "metadata": {
        "id": "0oOIc9Evj-S6",
        "outputId": "c74485a7-6371-42f9-84c2-44e785451ba1",
        "colab": {
          "base_uri": "https://localhost:8080/",
          "height": 0
        }
      },
      "execution_count": 28
    },
    {
      "cell_type": "markdown",
      "source": [
        "The definition for this operator is just\n"
      ],
      "metadata": {
        "id": "xUDGEW3Vj-S7"
      }
    },
    {
      "outputs": [
        {
          "output_type": "error",
          "ename": "LoadError",
          "evalue": "invalid method definition in Main: function Base.|> must be explicitly imported to be extended",
          "traceback": [
            "invalid method definition in Main: function Base.|> must be explicitly imported to be extended",
            "",
            "Stacktrace:",
            " [1] top-level scope",
            "   @ none:0",
            " [2] top-level scope",
            "   @ In[29]:2"
          ]
        }
      ],
      "cell_type": "code",
      "source": [
        "#| eval: false (will error, it extends a base operator...)\n",
        "|>(x, f) = f(x)"
      ],
      "metadata": {
        "id": "c4YWSAp2j-S7",
        "outputId": "5356a329-033a-4de7-b45a-25251464c669",
        "colab": {
          "base_uri": "https://localhost:8080/",
          "height": 165
        }
      },
      "execution_count": 29
    },
    {
      "cell_type": "markdown",
      "source": [
        "## The dot syntax\n"
      ],
      "metadata": {
        "internals": {
          "slide_type": "subslide",
          "slide_helper": "subslide_end"
        },
        "slide_helper": "slide_end",
        "id": "0B9CP6zIj-S7"
      }
    },
    {
      "cell_type": "markdown",
      "source": [
        "R is vectorized. Matlab is also, but needs a \"dot\" to disambiguate certain operations. Current `Julia` is not vectorized, but a \"dot\" is used to broadcast function calls over the arguments (perhaps of different sizes)\n"
      ],
      "metadata": {
        "id": "lYqASNQdj-S7"
      }
    },
    {
      "outputs": [
        {
          "output_type": "execute_result",
          "data": {
            "text/plain": [
              "3-element Vector{Int64}:\n",
              "   1\n",
              "  33\n",
              " 245"
            ]
          },
          "metadata": {},
          "execution_count": 30
        }
      ],
      "cell_type": "code",
      "source": [
        "x = [1,2,3]\n",
        "f.(x)  # [f(1), f(2), f(3)] like `map(f, x)`"
      ],
      "metadata": {
        "id": "wzMbl79kj-S8",
        "outputId": "3b0ccebe-fe62-42a3-8901-7c381fef486d",
        "colab": {
          "base_uri": "https://localhost:8080/",
          "height": 0
        }
      },
      "execution_count": 30
    },
    {
      "outputs": [
        {
          "output_type": "execute_result",
          "data": {
            "text/plain": [
              "2×2 Matrix{Tuple{Symbol, Symbol}}:\n",
              " (:a, :c)  (:a, :d)\n",
              " (:b, :c)  (:b, :d)"
            ]
          },
          "metadata": {},
          "execution_count": 31
        }
      ],
      "cell_type": "code",
      "source": [
        "a = [:a, :b]  # \"column vector\"\n",
        "b = [:c :d]   # row vector\n",
        "h(x,y) = (x,y)\n",
        "h.(a,b)"
      ],
      "metadata": {
        "id": "81ehicb5j-S8",
        "outputId": "ab5b9005-7e25-437b-afda-c759f9f1bff6",
        "colab": {
          "base_uri": "https://localhost:8080/",
          "height": 0
        }
      },
      "execution_count": 31
    },
    {
      "cell_type": "markdown",
      "source": [
        "## Iteration\n"
      ],
      "metadata": {
        "internals": {
          "slide_type": "subslide",
          "slide_helper": "subslide_end"
        },
        "slide_helper": "slide_end",
        "id": "2t0UMLKEj-S8"
      }
    },
    {
      "cell_type": "markdown",
      "source": [
        "Basic iteration can be done using a for loop:\n"
      ],
      "metadata": {
        "id": "A9w_U7Gnj-S9"
      }
    },
    {
      "outputs": [
        {
          "output_type": "execute_result",
          "data": {
            "text/plain": [
              "(3, 5)"
            ]
          },
          "metadata": {},
          "execution_count": 32
        }
      ],
      "cell_type": "code",
      "source": [
        "a, b = 1, 1\n",
        "for i in 1:3\n",
        "    a, b = b, a + b\n",
        "end\n",
        "a, b"
      ],
      "metadata": {
        "id": "-UYhvxXAj-S9",
        "outputId": "563577f4-87e3-4647-f777-c2ba586423d1",
        "colab": {
          "base_uri": "https://localhost:8080/",
          "height": 0
        }
      },
      "execution_count": 32
    },
    {
      "cell_type": "markdown",
      "source": [
        "Many objects are iterable (as the range `1:3` above). There are several *helper* functions for iteration. Among others, these examples show 3 ways to iterate over a matrix (each element, each row, each column):\n"
      ],
      "metadata": {
        "id": "TyaHVwTtj-S-"
      }
    },
    {
      "outputs": [
        {
          "output_type": "stream",
          "name": "stdout",
          "text": [
            "r = 1\n",
            "r = 3\n",
            "r = 2\n",
            "r = 4\n"
          ]
        }
      ],
      "cell_type": "code",
      "source": [
        "M = [1 2; 3 4]\n",
        "for r ∈ M # order of traversal down column then over row\n",
        "    @show r\n",
        "end"
      ],
      "metadata": {
        "id": "qL5vqyiFj-S_",
        "outputId": "bc6b00dd-9824-4679-c59e-31074d7032bf",
        "colab": {
          "base_uri": "https://localhost:8080/",
          "height": 0
        }
      },
      "execution_count": 33
    },
    {
      "outputs": [
        {
          "output_type": "stream",
          "name": "stdout",
          "text": [
            "r = [1, 2]\n",
            "r = [3, 4]\n"
          ]
        }
      ],
      "cell_type": "code",
      "source": [
        "for r ∈ eachrow(M)\n",
        "    @show r\n",
        "end"
      ],
      "metadata": {
        "id": "w7prhNi3j-TA",
        "outputId": "5756a82a-d2fc-4511-bd4f-016ccbb11783",
        "colab": {
          "base_uri": "https://localhost:8080/",
          "height": 0
        }
      },
      "execution_count": 34
    },
    {
      "outputs": [
        {
          "output_type": "stream",
          "name": "stdout",
          "text": [
            "r = [1, 3]\n",
            "r = [2, 4]\n"
          ]
        }
      ],
      "cell_type": "code",
      "source": [
        "for r ∈ eachcol(M)\n",
        "    @show r\n",
        "end"
      ],
      "metadata": {
        "id": "rHBnWfTwj-TA",
        "outputId": "8507257c-8925-4f92-f2e0-d4d1bc65539e",
        "colab": {
          "base_uri": "https://localhost:8080/",
          "height": 0
        }
      },
      "execution_count": 35
    },
    {
      "cell_type": "markdown",
      "source": [
        "Basic iteration tasks can also be achieved with a comprehension:\n"
      ],
      "metadata": {
        "id": "7lZfLi-kj-TA"
      }
    },
    {
      "outputs": [
        {
          "output_type": "execute_result",
          "data": {
            "text/plain": [
              "3-element Vector{Int64}:\n",
              "  6\n",
              "  8\n",
              " 10"
            ]
          },
          "metadata": {},
          "execution_count": 36
        }
      ],
      "cell_type": "code",
      "source": [
        "[2i + 4 for i in 1:3]"
      ],
      "metadata": {
        "id": "5QQDPFIcj-TA",
        "outputId": "cd1f5aa2-3efd-4068-9670-e239e9c673cc",
        "colab": {
          "base_uri": "https://localhost:8080/",
          "height": 0
        }
      },
      "execution_count": 36
    },
    {
      "cell_type": "markdown",
      "source": [
        "Similar to map which takes a function rather than an expression:\n"
      ],
      "metadata": {
        "id": "6TAvOkXWj-TB"
      }
    },
    {
      "outputs": [
        {
          "output_type": "execute_result",
          "data": {
            "text/plain": [
              "3-element Vector{Int64}:\n",
              "  6\n",
              "  8\n",
              " 10"
            ]
          },
          "metadata": {},
          "execution_count": 37
        }
      ],
      "cell_type": "code",
      "source": [
        "map(i -> 2i + 4, 1:3)"
      ],
      "metadata": {
        "id": "x3ON4Bd8j-TB",
        "outputId": "2878a1a5-0d04-4740-b3d5-a87483fa2595",
        "colab": {
          "base_uri": "https://localhost:8080/",
          "height": 0
        }
      },
      "execution_count": 37
    },
    {
      "cell_type": "markdown",
      "source": [
        "Base `Julia` provides many other higher order functions and add-on packages even more.\n"
      ],
      "metadata": {
        "id": "luOaA0YPj-TB"
      }
    },
    {
      "cell_type": "markdown",
      "source": [
        "## A data wrangling example using DataFrames\n"
      ],
      "metadata": {
        "internals": {
          "slide_type": "subslide",
          "slide_helper": "subslide_end"
        },
        "slide_helper": "slide_end",
        "id": "jMBcmncdj-TB"
      }
    },
    {
      "cell_type": "markdown",
      "source": [
        "Base Julia is extended by add-on packages. The built-in package manager can install them.\n"
      ],
      "metadata": {
        "id": "cEWitGA_j-TC"
      }
    },
    {
      "outputs": [
        {
          "output_type": "stream",
          "name": "stderr",
          "text": [
            "\u001b[32m\u001b[1m    Updating\u001b[22m\u001b[39m registry at `~/.julia/registries/General.toml`\n",
            "\u001b[32m\u001b[1m   Resolving\u001b[22m\u001b[39m package versions...\n",
            "\u001b[32m\u001b[1m  No Changes\u001b[22m\u001b[39m to `~/.julia/environments/v1.10/Project.toml`\n",
            "\u001b[32m\u001b[1m  No Changes\u001b[22m\u001b[39m to `~/.julia/environments/v1.10/Manifest.toml`\n"
          ]
        }
      ],
      "cell_type": "code",
      "source": [
        "#| eval: false\n",
        "using Pkg\n",
        "Pkg.add([\"CSV\", \"DataFrames\"])"
      ],
      "metadata": {
        "id": "33xeHXFUj-TC",
        "outputId": "f5726159-a6d1-4035-b4f1-7ca96670c526",
        "colab": {
          "base_uri": "https://localhost:8080/",
          "height": 0
        }
      },
      "execution_count": 38
    },
    {
      "cell_type": "markdown",
      "source": [
        "Packages are included in a session via `using` (or `import`):\n"
      ],
      "metadata": {
        "id": "pf9CajQfj-TC"
      }
    },
    {
      "outputs": [],
      "cell_type": "code",
      "source": [
        "using CSV, DataFrames"
      ],
      "metadata": {
        "id": "TshsW3csj-TC"
      },
      "execution_count": 39
    },
    {
      "cell_type": "markdown",
      "source": [
        "The background for this data is a possible college, Euphoria State. Each semester student records are stored, in this example as CSV files. These records included many things, but in particular grade for each class by student. The scenario below is there are historic grades and new enrollment data in separate files.\n"
      ],
      "metadata": {
        "id": "h7DShPPDj-TC"
      }
    },
    {
      "cell_type": "markdown",
      "source": [
        "The `CSV` provides a package for parsing structured data into a tabular format.  Generally the data is in a file, here we read it in from a multi-line string and store the data as a `DataFrame` object:\n"
      ],
      "metadata": {
        "id": "_aZXhHt8j-TC"
      }
    },
    {
      "outputs": [
        {
          "output_type": "execute_result",
          "data": {
            "text/plain": [
              "\"Column1,Term,Subject,Catalog,ID,Name,Session,Grade,Grade.In\\n1,1149,ACC,114,812315,\\\"Abernathy,Alice\\\",1,A,A\\n2,1149,MTH,123,812315,\\\"Abernathy,Alice\\\",1,C,C\\n3,1152,ENG,132,812315,\\\"Abernathy,Alice\\\",1,A,A\\n4,1152,ENG,211,812315,\\\"Abernathy,Alice\\\",1,B,B\\n5,1169,MTH,231,889995,\\\"Ball\"\u001b[93m\u001b[1m ⋯ 168 bytes ⋯ \u001b[22m\u001b[39m\",Bob\\\",1,F,F\\n10,1179,ENG,232,889995,\\\"Ballew,Bob\\\",1,A,A\\n11,1182,PSY,100,889995,\\\"Ballew,Bob\\\",1,B+,B+\\n12,1192,PSY,100,163486,\\\"Carol,Carol\\\",1,A,A\\n13,1192,MTH,123,163486,\\\"Carol,Carol\\\",1,A,A\\n14,1199,MTH,231,163486,\\\"Carol,Carol\\\",1,A,A\\n15,1202,MTH,232,163486,\\\"Carol,Carol\\\",1,W,W\\n\""
            ]
          },
          "metadata": {},
          "execution_count": 40
        }
      ],
      "cell_type": "code",
      "source": [
        "s11_data = \"\"\"\n",
        "Column1,Term,Subject,Catalog,ID,Name,Session,Grade,Grade.In\n",
        "1,1149,ACC,114,812315,\"Abernathy,Alice\",1,A,A\n",
        "2,1149,MTH,123,812315,\"Abernathy,Alice\",1,C,C\n",
        "3,1152,ENG,132,812315,\"Abernathy,Alice\",1,A,A\n",
        "4,1152,ENG,211,812315,\"Abernathy,Alice\",1,B,B\n",
        "5,1169,MTH,231,889995,\"Ballew,Bob\",1,A,A\n",
        "6,1169,MTH,229,889995,\"Ballew,Bob\",1,A,A\n",
        "7,1172,ENG,111,889995,\"Ballew,Bob\",1,B,B\n",
        "8,1172,CSC,222,889995,\"Ballew,Bob\",1,A-,A-\n",
        "9,1179,CSC,222,889995,\"Ballew,Bob\",1,F,F\n",
        "10,1179,ENG,232,889995,\"Ballew,Bob\",1,A,A\n",
        "11,1182,PSY,100,889995,\"Ballew,Bob\",1,B+,B+\n",
        "12,1192,PSY,100,163486,\"Carol,Carol\",1,A,A\n",
        "13,1192,MTH,123,163486,\"Carol,Carol\",1,A,A\n",
        "14,1199,MTH,231,163486,\"Carol,Carol\",1,A,A\n",
        "15,1202,MTH,232,163486,\"Carol,Carol\",1,W,W\n",
        "\"\"\""
      ],
      "metadata": {
        "id": "fhQj-Mp-j-TC",
        "outputId": "936f4f9a-5230-410c-c4b6-70f75688bf3c",
        "colab": {
          "base_uri": "https://localhost:8080/",
          "height": 0
        }
      },
      "execution_count": 40
    },
    {
      "outputs": [
        {
          "output_type": "execute_result",
          "data": {
            "text/plain": [
              "\u001b[1m15×9 DataFrame\n",
              "\u001b[1m Row │\u001b[1m Column1 \u001b[1m Term  \u001b[1m Subject \u001b[1m Catalog \u001b[1m ID     \u001b[1m Name            \u001b[1m Session \u001b[1m Gra ⋯\n",
              "     │\u001b[90m Int64   \u001b[90m Int64 \u001b[90m String3 \u001b[90m Int64   \u001b[90m Int64  \u001b[90m String15        \u001b[90m Int64   \u001b[90m Str ⋯\n",
              "─────┼──────────────────────────────────────────────────────────────────────────\n",
              "   1 │       1   1149  ACC          114  812315  Abernathy,Alice        1  A   ⋯\n",
              "   2 │       2   1149  MTH          123  812315  Abernathy,Alice        1  C\n",
              "   3 │       3   1152  ENG          132  812315  Abernathy,Alice        1  A\n",
              "   4 │       4   1152  ENG          211  812315  Abernathy,Alice        1  B\n",
              "   5 │       5   1169  MTH          231  889995  Ballew,Bob             1  A   ⋯\n",
              "   6 │       6   1169  MTH          229  889995  Ballew,Bob             1  A\n",
              "   7 │       7   1172  ENG          111  889995  Ballew,Bob             1  B\n",
              "   8 │       8   1172  CSC          222  889995  Ballew,Bob             1  A-\n",
              "   9 │       9   1179  CSC          222  889995  Ballew,Bob             1  F   ⋯\n",
              "  10 │      10   1179  ENG          232  889995  Ballew,Bob             1  A\n",
              "  11 │      11   1182  PSY          100  889995  Ballew,Bob             1  B+\n",
              "  12 │      12   1192  PSY          100  163486  Carol,Carol            1  A\n",
              "  13 │      13   1192  MTH          123  163486  Carol,Carol            1  A   ⋯\n",
              "  14 │      14   1199  MTH          231  163486  Carol,Carol            1  A\n",
              "  15 │      15   1202  MTH          232  163486  Carol,Carol            1  W\n",
              "\u001b[36m                                                               2 columns omitted"
            ],
            "text/html": [
              "<div><div style = \"float: left;\"><span>15×9 DataFrame</span></div><div style = \"clear: both;\"></div></div><div class = \"data-frame\" style = \"overflow-x: scroll;\"><table class = \"data-frame\" style = \"margin-bottom: 6px;\"><thead><tr class = \"header\"><th class = \"rowNumber\" style = \"font-weight: bold; text-align: right;\">Row</th><th style = \"text-align: left;\">Column1</th><th style = \"text-align: left;\">Term</th><th style = \"text-align: left;\">Subject</th><th style = \"text-align: left;\">Catalog</th><th style = \"text-align: left;\">ID</th><th style = \"text-align: left;\">Name</th><th style = \"text-align: left;\">Session</th><th style = \"text-align: left;\">Grade</th><th style = \"text-align: left;\">Grade.In</th></tr><tr class = \"subheader headerLastRow\"><th class = \"rowNumber\" style = \"font-weight: bold; text-align: right;\"></th><th title = \"Int64\" style = \"text-align: left;\">Int64</th><th title = \"Int64\" style = \"text-align: left;\">Int64</th><th title = \"String3\" style = \"text-align: left;\">String3</th><th title = \"Int64\" style = \"text-align: left;\">Int64</th><th title = \"Int64\" style = \"text-align: left;\">Int64</th><th title = \"String15\" style = \"text-align: left;\">String15</th><th title = \"Int64\" style = \"text-align: left;\">Int64</th><th title = \"String3\" style = \"text-align: left;\">String3</th><th title = \"String3\" style = \"text-align: left;\">String3</th></tr></thead><tbody><tr><td class = \"rowNumber\" style = \"font-weight: bold; text-align: right;\">1</td><td style = \"text-align: right;\">1</td><td style = \"text-align: right;\">1149</td><td style = \"text-align: left;\">ACC</td><td style = \"text-align: right;\">114</td><td style = \"text-align: right;\">812315</td><td style = \"text-align: left;\">Abernathy,Alice</td><td style = \"text-align: right;\">1</td><td style = \"text-align: left;\">A</td><td style = \"text-align: left;\">A</td></tr><tr><td class = \"rowNumber\" style = \"font-weight: bold; text-align: right;\">2</td><td style = \"text-align: right;\">2</td><td style = \"text-align: right;\">1149</td><td style = \"text-align: left;\">MTH</td><td style = \"text-align: right;\">123</td><td style = \"text-align: right;\">812315</td><td style = \"text-align: left;\">Abernathy,Alice</td><td style = \"text-align: right;\">1</td><td style = \"text-align: left;\">C</td><td style = \"text-align: left;\">C</td></tr><tr><td class = \"rowNumber\" style = \"font-weight: bold; text-align: right;\">3</td><td style = \"text-align: right;\">3</td><td style = \"text-align: right;\">1152</td><td style = \"text-align: left;\">ENG</td><td style = \"text-align: right;\">132</td><td style = \"text-align: right;\">812315</td><td style = \"text-align: left;\">Abernathy,Alice</td><td style = \"text-align: right;\">1</td><td style = \"text-align: left;\">A</td><td style = \"text-align: left;\">A</td></tr><tr><td class = \"rowNumber\" style = \"font-weight: bold; text-align: right;\">4</td><td style = \"text-align: right;\">4</td><td style = \"text-align: right;\">1152</td><td style = \"text-align: left;\">ENG</td><td style = \"text-align: right;\">211</td><td style = \"text-align: right;\">812315</td><td style = \"text-align: left;\">Abernathy,Alice</td><td style = \"text-align: right;\">1</td><td style = \"text-align: left;\">B</td><td style = \"text-align: left;\">B</td></tr><tr><td class = \"rowNumber\" style = \"font-weight: bold; text-align: right;\">5</td><td style = \"text-align: right;\">5</td><td style = \"text-align: right;\">1169</td><td style = \"text-align: left;\">MTH</td><td style = \"text-align: right;\">231</td><td style = \"text-align: right;\">889995</td><td style = \"text-align: left;\">Ballew,Bob</td><td style = \"text-align: right;\">1</td><td style = \"text-align: left;\">A</td><td style = \"text-align: left;\">A</td></tr><tr><td class = \"rowNumber\" style = \"font-weight: bold; text-align: right;\">6</td><td style = \"text-align: right;\">6</td><td style = \"text-align: right;\">1169</td><td style = \"text-align: left;\">MTH</td><td style = \"text-align: right;\">229</td><td style = \"text-align: right;\">889995</td><td style = \"text-align: left;\">Ballew,Bob</td><td style = \"text-align: right;\">1</td><td style = \"text-align: left;\">A</td><td style = \"text-align: left;\">A</td></tr><tr><td class = \"rowNumber\" style = \"font-weight: bold; text-align: right;\">7</td><td style = \"text-align: right;\">7</td><td style = \"text-align: right;\">1172</td><td style = \"text-align: left;\">ENG</td><td style = \"text-align: right;\">111</td><td style = \"text-align: right;\">889995</td><td style = \"text-align: left;\">Ballew,Bob</td><td style = \"text-align: right;\">1</td><td style = \"text-align: left;\">B</td><td style = \"text-align: left;\">B</td></tr><tr><td class = \"rowNumber\" style = \"font-weight: bold; text-align: right;\">8</td><td style = \"text-align: right;\">8</td><td style = \"text-align: right;\">1172</td><td style = \"text-align: left;\">CSC</td><td style = \"text-align: right;\">222</td><td style = \"text-align: right;\">889995</td><td style = \"text-align: left;\">Ballew,Bob</td><td style = \"text-align: right;\">1</td><td style = \"text-align: left;\">A-</td><td style = \"text-align: left;\">A-</td></tr><tr><td class = \"rowNumber\" style = \"font-weight: bold; text-align: right;\">9</td><td style = \"text-align: right;\">9</td><td style = \"text-align: right;\">1179</td><td style = \"text-align: left;\">CSC</td><td style = \"text-align: right;\">222</td><td style = \"text-align: right;\">889995</td><td style = \"text-align: left;\">Ballew,Bob</td><td style = \"text-align: right;\">1</td><td style = \"text-align: left;\">F</td><td style = \"text-align: left;\">F</td></tr><tr><td class = \"rowNumber\" style = \"font-weight: bold; text-align: right;\">10</td><td style = \"text-align: right;\">10</td><td style = \"text-align: right;\">1179</td><td style = \"text-align: left;\">ENG</td><td style = \"text-align: right;\">232</td><td style = \"text-align: right;\">889995</td><td style = \"text-align: left;\">Ballew,Bob</td><td style = \"text-align: right;\">1</td><td style = \"text-align: left;\">A</td><td style = \"text-align: left;\">A</td></tr><tr><td class = \"rowNumber\" style = \"font-weight: bold; text-align: right;\">11</td><td style = \"text-align: right;\">11</td><td style = \"text-align: right;\">1182</td><td style = \"text-align: left;\">PSY</td><td style = \"text-align: right;\">100</td><td style = \"text-align: right;\">889995</td><td style = \"text-align: left;\">Ballew,Bob</td><td style = \"text-align: right;\">1</td><td style = \"text-align: left;\">B+</td><td style = \"text-align: left;\">B+</td></tr><tr><td class = \"rowNumber\" style = \"font-weight: bold; text-align: right;\">12</td><td style = \"text-align: right;\">12</td><td style = \"text-align: right;\">1192</td><td style = \"text-align: left;\">PSY</td><td style = \"text-align: right;\">100</td><td style = \"text-align: right;\">163486</td><td style = \"text-align: left;\">Carol,Carol</td><td style = \"text-align: right;\">1</td><td style = \"text-align: left;\">A</td><td style = \"text-align: left;\">A</td></tr><tr><td class = \"rowNumber\" style = \"font-weight: bold; text-align: right;\">13</td><td style = \"text-align: right;\">13</td><td style = \"text-align: right;\">1192</td><td style = \"text-align: left;\">MTH</td><td style = \"text-align: right;\">123</td><td style = \"text-align: right;\">163486</td><td style = \"text-align: left;\">Carol,Carol</td><td style = \"text-align: right;\">1</td><td style = \"text-align: left;\">A</td><td style = \"text-align: left;\">A</td></tr><tr><td class = \"rowNumber\" style = \"font-weight: bold; text-align: right;\">14</td><td style = \"text-align: right;\">14</td><td style = \"text-align: right;\">1199</td><td style = \"text-align: left;\">MTH</td><td style = \"text-align: right;\">231</td><td style = \"text-align: right;\">163486</td><td style = \"text-align: left;\">Carol,Carol</td><td style = \"text-align: right;\">1</td><td style = \"text-align: left;\">A</td><td style = \"text-align: left;\">A</td></tr><tr><td class = \"rowNumber\" style = \"font-weight: bold; text-align: right;\">15</td><td style = \"text-align: right;\">15</td><td style = \"text-align: right;\">1202</td><td style = \"text-align: left;\">MTH</td><td style = \"text-align: right;\">232</td><td style = \"text-align: right;\">163486</td><td style = \"text-align: left;\">Carol,Carol</td><td style = \"text-align: right;\">1</td><td style = \"text-align: left;\">W</td><td style = \"text-align: left;\">W</td></tr></tbody></table></div>"
            ],
            "text/latex": "\\begin{tabular}{r|ccccccccc}\n\t& Column1 & Term & Subject & Catalog & ID & Name & Session & Grade & Grade.In\\\\\n\t\\hline\n\t& Int64 & Int64 & String3 & Int64 & Int64 & String15 & Int64 & String3 & String3\\\\\n\t\\hline\n\t1 & 1 & 1149 & ACC & 114 & 812315 & Abernathy,Alice & 1 & A & A \\\\\n\t2 & 2 & 1149 & MTH & 123 & 812315 & Abernathy,Alice & 1 & C & C \\\\\n\t3 & 3 & 1152 & ENG & 132 & 812315 & Abernathy,Alice & 1 & A & A \\\\\n\t4 & 4 & 1152 & ENG & 211 & 812315 & Abernathy,Alice & 1 & B & B \\\\\n\t5 & 5 & 1169 & MTH & 231 & 889995 & Ballew,Bob & 1 & A & A \\\\\n\t6 & 6 & 1169 & MTH & 229 & 889995 & Ballew,Bob & 1 & A & A \\\\\n\t7 & 7 & 1172 & ENG & 111 & 889995 & Ballew,Bob & 1 & B & B \\\\\n\t8 & 8 & 1172 & CSC & 222 & 889995 & Ballew,Bob & 1 & A- & A- \\\\\n\t9 & 9 & 1179 & CSC & 222 & 889995 & Ballew,Bob & 1 & F & F \\\\\n\t10 & 10 & 1179 & ENG & 232 & 889995 & Ballew,Bob & 1 & A & A \\\\\n\t11 & 11 & 1182 & PSY & 100 & 889995 & Ballew,Bob & 1 & B+ & B+ \\\\\n\t12 & 12 & 1192 & PSY & 100 & 163486 & Carol,Carol & 1 & A & A \\\\\n\t13 & 13 & 1192 & MTH & 123 & 163486 & Carol,Carol & 1 & A & A \\\\\n\t14 & 14 & 1199 & MTH & 231 & 163486 & Carol,Carol & 1 & A & A \\\\\n\t15 & 15 & 1202 & MTH & 232 & 163486 & Carol,Carol & 1 & W & W \\\\\n\\end{tabular}\n"
          },
          "metadata": {},
          "execution_count": 41
        }
      ],
      "cell_type": "code",
      "source": [
        "s11 = CSV.read(IOBuffer(s11_data), DataFrame)"
      ],
      "metadata": {
        "id": "NEShvusAj-TD",
        "outputId": "7da57910-ff49-483e-e8dd-ca1d5c8e63f6",
        "colab": {
          "base_uri": "https://localhost:8080/",
          "height": 418
        }
      },
      "execution_count": 41
    },
    {
      "cell_type": "markdown",
      "source": [
        "Some things are non-essential: `Grade.In` is technical, `Column1` an artifact of writing to a CSV file, ...\n"
      ],
      "metadata": {
        "id": "eXb3UXsoj-TD"
      }
    },
    {
      "cell_type": "markdown",
      "source": [
        "### Access patterns\n"
      ],
      "metadata": {
        "internals": {
          "slide_type": "subslide"
        },
        "slide_helper": "slide_end",
        "id": "BnS78pJEj-TD"
      }
    },
    {
      "cell_type": "markdown",
      "source": [
        "Values in DataFrames can be accessed by index, column name, etc.\n"
      ],
      "metadata": {
        "id": "ioiEBC4gj-TD"
      }
    },
    {
      "outputs": [
        {
          "output_type": "execute_result",
          "data": {
            "text/plain": [
              "(812315, 812315, 812315, \u001b[1mDataFrameRow\n",
              "\u001b[1m Row │\u001b[1m ID\n",
              "     │\u001b[90m Int64\n",
              "─────┼────────\n",
              "   2 │ 812315)"
            ]
          },
          "metadata": {},
          "execution_count": 42
        }
      ],
      "cell_type": "code",
      "source": [
        "s11[2,5], s11[2, :ID], s11[2, \"ID\"], s11[2, r\"^I\"]"
      ],
      "metadata": {
        "id": "WxGzWE2rj-TD",
        "outputId": "8b721cb8-d687-4e45-a82d-ba6ff25cd966",
        "colab": {
          "base_uri": "https://localhost:8080/",
          "height": 0
        }
      },
      "execution_count": 42
    },
    {
      "cell_type": "markdown",
      "source": [
        "The last one prints differently, as the **column selector** could *possibly* match 0-1 or more columns, so a data frame is returned. The others match just a column, so the value is returned.\n"
      ],
      "metadata": {
        "id": "YM5xmgCVj-TE"
      }
    },
    {
      "cell_type": "markdown",
      "source": [
        "---\n"
      ],
      "metadata": {
        "id": "qFebobtLj-TE"
      }
    },
    {
      "outputs": [
        {
          "output_type": "execute_result",
          "data": {
            "text/plain": [
              "1169"
            ]
          },
          "metadata": {},
          "execution_count": 43
        }
      ],
      "cell_type": "code",
      "source": [
        "# 💻 What \"Term\" is recorded in the 5th row?\n",
        "s11[5, :Term]"
      ],
      "metadata": {
        "id": "j-E_4fv3j-TE",
        "outputId": "b575ae44-4908-4439-8eff-c30c5a75d854",
        "colab": {
          "base_uri": "https://localhost:8080/",
          "height": 0
        }
      },
      "execution_count": 43
    },
    {
      "cell_type": "markdown",
      "source": [
        "---\n"
      ],
      "metadata": {
        "id": "DXD99tLwj-TE"
      }
    },
    {
      "cell_type": "markdown",
      "source": [
        "All rows (or all columns) are implied by a colon, `:`:\n"
      ],
      "metadata": {
        "id": "cb9Ko7fQj-TE"
      }
    },
    {
      "outputs": [
        {
          "output_type": "execute_result",
          "data": {
            "text/plain": [
              "([812315, 812315, 812315], [812315, 812315, 812315], [812315, 812315, 812315], [812315, 812315, 812315])"
            ]
          },
          "metadata": {},
          "execution_count": 44
        }
      ],
      "cell_type": "code",
      "source": [
        "s = first(s11, 3)  # first 3 rows\n",
        "s.ID, s[:, 5], s[:, \"ID\"], s[:, :ID]"
      ],
      "metadata": {
        "id": "9wjk4F1-j-TE",
        "outputId": "81739a4f-018e-486c-b3e1-820676afb2cd",
        "colab": {
          "base_uri": "https://localhost:8080/",
          "height": 0
        }
      },
      "execution_count": 44
    },
    {
      "cell_type": "markdown",
      "source": [
        "The use of `:` above to reference all rows has an alternative:\n"
      ],
      "metadata": {
        "id": "qeBfiuGij-TF"
      }
    },
    {
      "outputs": [
        {
          "output_type": "execute_result",
          "data": {
            "text/plain": [
              "([812315, 812315, 812315], [812315, 812315, 812315])"
            ]
          },
          "metadata": {},
          "execution_count": 45
        }
      ],
      "cell_type": "code",
      "source": [
        "s[!,5], s[!, :ID]"
      ],
      "metadata": {
        "id": "FtHPUZn2j-TF",
        "outputId": "1516c76e-efe6-4219-ae3d-24c8c61ef188",
        "colab": {
          "base_uri": "https://localhost:8080/",
          "height": 0
        }
      },
      "execution_count": 45
    },
    {
      "cell_type": "markdown",
      "source": [
        "The basic difference is that `:` makes a copy, whereas `!` makes a view. See this [blog post](https://bkamins.github.io/julialang/2022/10/28/indexing.html) for more detail.\n"
      ],
      "metadata": {
        "id": "6f-Q9f23j-TF"
      }
    },
    {
      "cell_type": "markdown",
      "source": [
        "When assigning a value in a column, the use of `s.ID` is convenient, as it replaces the current column.\n"
      ],
      "metadata": {
        "id": "FOeZc9EMj-TF"
      }
    },
    {
      "cell_type": "markdown",
      "source": [
        "## Combining data frames\n"
      ],
      "metadata": {
        "internals": {
          "slide_type": "subslide",
          "slide_helper": "subslide_end"
        },
        "slide_helper": "slide_end",
        "id": "xiu5u9JVj-TF"
      }
    },
    {
      "cell_type": "markdown",
      "source": [
        "Next we define some mock new data for the current semester\n"
      ],
      "metadata": {
        "id": "xgk5MI-kj-TF"
      }
    },
    {
      "outputs": [
        {
          "output_type": "execute_result",
          "data": {
            "text/plain": [
              "\"Term,Session,Career,Class Nbr,Section,Subject,Catalog,Component,ID,Name,Gender,Phone,Email,Grade,Grade In,Repeat,Instructor ID,Instructor Name,Day,Mtg Start,Mtg End,Add Dt,User,Grade Base\\n1229,1,UGRD,36923,D001,MTH,105,LEC,163486,\\\"Carol,Carol\\\",F,555-1212,carol.carol@euph\"\u001b[93m\u001b[1m ⋯ 481 bytes ⋯ \u001b[22m\u001b[39m\"0PM,4:20PM,,,\\n1229,1,UGRD,36923,D001,MTH,105,LEC,185109,\\\"Brock,Erin\\\",U,555-2121,Brock.erin@euphoria.edu,,,,24007235,Frank,M,4:40PM,6:10PM,,,\\n1229,1,UGRD,44332,D200,ENG,111,LEC,659056,\\\"Mallory,Yves\\\",M,555-2211,mallory.eve@euphoria.edu,,,,75544555,Mike,W,8:00AM,9:50AM,,,\\n\""
            ]
          },
          "metadata": {},
          "execution_count": 46
        }
      ],
      "cell_type": "code",
      "source": [
        "f22_data = \"\"\"\n",
        "Term,Session,Career,Class Nbr,Section,Subject,Catalog,Component,ID,Name,Gender,Phone,Email,Grade,Grade In,Repeat,Instructor ID,Instructor Name,Day,Mtg Start,Mtg End,Add Dt,User,Grade Base\n",
        "1229,1,UGRD,36923,D001,MTH,105,LEC,163486,\"Carol,Carol\",F,555-1212,carol.carol@euphoria.edu,,,,24007235,Frank,M,10:10AM,12:05PM,8/17/22,23247055,GRD\n",
        "1229,1,UGRD,36923,D001,MTH,105,LEC,163486,\"Carol,Carol\",F,555-1212,carol.carol@euphoria.edu,,,,24007235,Frank,W,10:10AM,12:05PM,8/17/22,23247055,GRD\n",
        "1229,1,UGRD,34534,D001,ENG,110,LEC,163486,\"Carol,Carol\",F,555-1212,carol.carol@euphoria.edu,,,,43993434,Faythe,W,10:10:00AM,11:00AM,8/17/22,23247055,GRD\n",
        "1229,1,UGRD,43244,D011,PSY,100,LEC,185109,\"Brock,Erin\",U,555-2121,Brock.erin@euphoria.edu,,,,5435352,Grace,Th,2:30PM,4:20PM,,,\n",
        "1229,1,UGRD,36923,D001,MTH,105,LEC,185109,\"Brock,Erin\",U,555-2121,Brock.erin@euphoria.edu,,,,24007235,Frank,M,4:40PM,6:10PM,,,\n",
        "1229,1,UGRD,44332,D200,ENG,111,LEC,659056,\"Mallory,Yves\",M,555-2211,mallory.eve@euphoria.edu,,,,75544555,Mike,W,8:00AM,9:50AM,,,\n",
        "\"\"\""
      ],
      "metadata": {
        "id": "k8wakPIWj-TF",
        "outputId": "9562f85e-50d7-4550-ad38-645beb24e8e8",
        "colab": {
          "base_uri": "https://localhost:8080/",
          "height": 0
        }
      },
      "execution_count": 46
    },
    {
      "cell_type": "markdown",
      "source": [
        "This is read in as before:\n"
      ],
      "metadata": {
        "id": "m0COzqRLj-TG"
      }
    },
    {
      "outputs": [
        {
          "output_type": "execute_result",
          "data": {
            "text/plain": [
              "\u001b[1m6×24 DataFrame\n",
              "\u001b[1m Row │\u001b[1m Term  \u001b[1m Session \u001b[1m Career  \u001b[1m Class Nbr \u001b[1m Section \u001b[1m Subject \u001b[1m Catalog \u001b[1m Componen ⋯\n",
              "     │\u001b[90m Int64 \u001b[90m Int64   \u001b[90m String7 \u001b[90m Int64     \u001b[90m String7 \u001b[90m String3 \u001b[90m Int64   \u001b[90m String3  ⋯\n",
              "─────┼──────────────────────────────────────────────────────────────────────────\n",
              "   1 │  1229        1  UGRD         36923  D001     MTH          105  LEC      ⋯\n",
              "   2 │  1229        1  UGRD         36923  D001     MTH          105  LEC\n",
              "   3 │  1229        1  UGRD         34534  D001     ENG          110  LEC\n",
              "   4 │  1229        1  UGRD         43244  D011     PSY          100  LEC\n",
              "   5 │  1229        1  UGRD         36923  D001     MTH          105  LEC      ⋯\n",
              "   6 │  1229        1  UGRD         44332  D200     ENG          111  LEC\n",
              "\u001b[36m                                                              17 columns omitted"
            ],
            "text/html": [
              "<div><div style = \"float: left;\"><span>6×24 DataFrame</span></div><div style = \"clear: both;\"></div></div><div class = \"data-frame\" style = \"overflow-x: scroll;\"><table class = \"data-frame\" style = \"margin-bottom: 6px;\"><thead><tr class = \"header\"><th class = \"rowNumber\" style = \"font-weight: bold; text-align: right;\">Row</th><th style = \"text-align: left;\">Term</th><th style = \"text-align: left;\">Session</th><th style = \"text-align: left;\">Career</th><th style = \"text-align: left;\">Class Nbr</th><th style = \"text-align: left;\">Section</th><th style = \"text-align: left;\">Subject</th><th style = \"text-align: left;\">Catalog</th><th style = \"text-align: left;\">Component</th><th style = \"text-align: left;\">ID</th><th style = \"text-align: left;\">Name</th><th style = \"text-align: left;\">Gender</th><th style = \"text-align: left;\">Phone</th><th style = \"text-align: left;\">Email</th><th style = \"text-align: left;\">Grade</th><th style = \"text-align: left;\">Grade In</th><th style = \"text-align: left;\">Repeat</th><th style = \"text-align: left;\">Instructor ID</th><th style = \"text-align: left;\">Instructor Name</th><th style = \"text-align: left;\">Day</th><th style = \"text-align: left;\">Mtg Start</th><th style = \"text-align: left;\">Mtg End</th><th style = \"text-align: left;\">Add Dt</th><th style = \"text-align: left;\">User</th><th style = \"text-align: left;\">Grade Base</th></tr><tr class = \"subheader headerLastRow\"><th class = \"rowNumber\" style = \"font-weight: bold; text-align: right;\"></th><th title = \"Int64\" style = \"text-align: left;\">Int64</th><th title = \"Int64\" style = \"text-align: left;\">Int64</th><th title = \"String7\" style = \"text-align: left;\">String7</th><th title = \"Int64\" style = \"text-align: left;\">Int64</th><th title = \"String7\" style = \"text-align: left;\">String7</th><th title = \"String3\" style = \"text-align: left;\">String3</th><th title = \"Int64\" style = \"text-align: left;\">Int64</th><th title = \"String3\" style = \"text-align: left;\">String3</th><th title = \"Int64\" style = \"text-align: left;\">Int64</th><th title = \"String15\" style = \"text-align: left;\">String15</th><th title = \"String1\" style = \"text-align: left;\">String1</th><th title = \"String15\" style = \"text-align: left;\">String15</th><th title = \"String31\" style = \"text-align: left;\">String31</th><th title = \"Missing\" style = \"text-align: left;\">Missing</th><th title = \"Missing\" style = \"text-align: left;\">Missing</th><th title = \"Missing\" style = \"text-align: left;\">Missing</th><th title = \"Int64\" style = \"text-align: left;\">Int64</th><th title = \"String7\" style = \"text-align: left;\">String7</th><th title = \"String3\" style = \"text-align: left;\">String3</th><th title = \"String15\" style = \"text-align: left;\">String15</th><th title = \"String7\" style = \"text-align: left;\">String7</th><th title = \"Union{Missing, String7}\" style = \"text-align: left;\">String7?</th><th title = \"Union{Missing, Int64}\" style = \"text-align: left;\">Int64?</th><th title = \"Union{Missing, String3}\" style = \"text-align: left;\">String3?</th></tr></thead><tbody><tr><td class = \"rowNumber\" style = \"font-weight: bold; text-align: right;\">1</td><td style = \"text-align: right;\">1229</td><td style = \"text-align: right;\">1</td><td style = \"text-align: left;\">UGRD</td><td style = \"text-align: right;\">36923</td><td style = \"text-align: left;\">D001</td><td style = \"text-align: left;\">MTH</td><td style = \"text-align: right;\">105</td><td style = \"text-align: left;\">LEC</td><td style = \"text-align: right;\">163486</td><td style = \"text-align: left;\">Carol,Carol</td><td style = \"text-align: left;\">F</td><td style = \"text-align: left;\">555-1212</td><td style = \"text-align: left;\">carol.carol@euphoria.edu</td><td style = \"font-style: italic; text-align: right;\">missing</td><td style = \"font-style: italic; text-align: right;\">missing</td><td style = \"font-style: italic; text-align: right;\">missing</td><td style = \"text-align: right;\">24007235</td><td style = \"text-align: left;\">Frank</td><td style = \"text-align: left;\">M</td><td style = \"text-align: left;\">10:10AM</td><td style = \"text-align: left;\">12:05PM</td><td style = \"text-align: left;\">8/17/22</td><td style = \"text-align: right;\">23247055</td><td style = \"text-align: left;\">GRD</td></tr><tr><td class = \"rowNumber\" style = \"font-weight: bold; text-align: right;\">2</td><td style = \"text-align: right;\">1229</td><td style = \"text-align: right;\">1</td><td style = \"text-align: left;\">UGRD</td><td style = \"text-align: right;\">36923</td><td style = \"text-align: left;\">D001</td><td style = \"text-align: left;\">MTH</td><td style = \"text-align: right;\">105</td><td style = \"text-align: left;\">LEC</td><td style = \"text-align: right;\">163486</td><td style = \"text-align: left;\">Carol,Carol</td><td style = \"text-align: left;\">F</td><td style = \"text-align: left;\">555-1212</td><td style = \"text-align: left;\">carol.carol@euphoria.edu</td><td style = \"font-style: italic; text-align: right;\">missing</td><td style = \"font-style: italic; text-align: right;\">missing</td><td style = \"font-style: italic; text-align: right;\">missing</td><td style = \"text-align: right;\">24007235</td><td style = \"text-align: left;\">Frank</td><td style = \"text-align: left;\">W</td><td style = \"text-align: left;\">10:10AM</td><td style = \"text-align: left;\">12:05PM</td><td style = \"text-align: left;\">8/17/22</td><td style = \"text-align: right;\">23247055</td><td style = \"text-align: left;\">GRD</td></tr><tr><td class = \"rowNumber\" style = \"font-weight: bold; text-align: right;\">3</td><td style = \"text-align: right;\">1229</td><td style = \"text-align: right;\">1</td><td style = \"text-align: left;\">UGRD</td><td style = \"text-align: right;\">34534</td><td style = \"text-align: left;\">D001</td><td style = \"text-align: left;\">ENG</td><td style = \"text-align: right;\">110</td><td style = \"text-align: left;\">LEC</td><td style = \"text-align: right;\">163486</td><td style = \"text-align: left;\">Carol,Carol</td><td style = \"text-align: left;\">F</td><td style = \"text-align: left;\">555-1212</td><td style = \"text-align: left;\">carol.carol@euphoria.edu</td><td style = \"font-style: italic; text-align: right;\">missing</td><td style = \"font-style: italic; text-align: right;\">missing</td><td style = \"font-style: italic; text-align: right;\">missing</td><td style = \"text-align: right;\">43993434</td><td style = \"text-align: left;\">Faythe</td><td style = \"text-align: left;\">W</td><td style = \"text-align: left;\">10:10:00AM</td><td style = \"text-align: left;\">11:00AM</td><td style = \"text-align: left;\">8/17/22</td><td style = \"text-align: right;\">23247055</td><td style = \"text-align: left;\">GRD</td></tr><tr><td class = \"rowNumber\" style = \"font-weight: bold; text-align: right;\">4</td><td style = \"text-align: right;\">1229</td><td style = \"text-align: right;\">1</td><td style = \"text-align: left;\">UGRD</td><td style = \"text-align: right;\">43244</td><td style = \"text-align: left;\">D011</td><td style = \"text-align: left;\">PSY</td><td style = \"text-align: right;\">100</td><td style = \"text-align: left;\">LEC</td><td style = \"text-align: right;\">185109</td><td style = \"text-align: left;\">Brock,Erin</td><td style = \"text-align: left;\">U</td><td style = \"text-align: left;\">555-2121</td><td style = \"text-align: left;\">Brock.erin@euphoria.edu</td><td style = \"font-style: italic; text-align: right;\">missing</td><td style = \"font-style: italic; text-align: right;\">missing</td><td style = \"font-style: italic; text-align: right;\">missing</td><td style = \"text-align: right;\">5435352</td><td style = \"text-align: left;\">Grace</td><td style = \"text-align: left;\">Th</td><td style = \"text-align: left;\">2:30PM</td><td style = \"text-align: left;\">4:20PM</td><td style = \"font-style: italic; text-align: left;\">missing</td><td style = \"font-style: italic; text-align: right;\">missing</td><td style = \"font-style: italic; text-align: left;\">missing</td></tr><tr><td class = \"rowNumber\" style = \"font-weight: bold; text-align: right;\">5</td><td style = \"text-align: right;\">1229</td><td style = \"text-align: right;\">1</td><td style = \"text-align: left;\">UGRD</td><td style = \"text-align: right;\">36923</td><td style = \"text-align: left;\">D001</td><td style = \"text-align: left;\">MTH</td><td style = \"text-align: right;\">105</td><td style = \"text-align: left;\">LEC</td><td style = \"text-align: right;\">185109</td><td style = \"text-align: left;\">Brock,Erin</td><td style = \"text-align: left;\">U</td><td style = \"text-align: left;\">555-2121</td><td style = \"text-align: left;\">Brock.erin@euphoria.edu</td><td style = \"font-style: italic; text-align: right;\">missing</td><td style = \"font-style: italic; text-align: right;\">missing</td><td style = \"font-style: italic; text-align: right;\">missing</td><td style = \"text-align: right;\">24007235</td><td style = \"text-align: left;\">Frank</td><td style = \"text-align: left;\">M</td><td style = \"text-align: left;\">4:40PM</td><td style = \"text-align: left;\">6:10PM</td><td style = \"font-style: italic; text-align: left;\">missing</td><td style = \"font-style: italic; text-align: right;\">missing</td><td style = \"font-style: italic; text-align: left;\">missing</td></tr><tr><td class = \"rowNumber\" style = \"font-weight: bold; text-align: right;\">6</td><td style = \"text-align: right;\">1229</td><td style = \"text-align: right;\">1</td><td style = \"text-align: left;\">UGRD</td><td style = \"text-align: right;\">44332</td><td style = \"text-align: left;\">D200</td><td style = \"text-align: left;\">ENG</td><td style = \"text-align: right;\">111</td><td style = \"text-align: left;\">LEC</td><td style = \"text-align: right;\">659056</td><td style = \"text-align: left;\">Mallory,Yves</td><td style = \"text-align: left;\">M</td><td style = \"text-align: left;\">555-2211</td><td style = \"text-align: left;\">mallory.eve@euphoria.edu</td><td style = \"font-style: italic; text-align: right;\">missing</td><td style = \"font-style: italic; text-align: right;\">missing</td><td style = \"font-style: italic; text-align: right;\">missing</td><td style = \"text-align: right;\">75544555</td><td style = \"text-align: left;\">Mike</td><td style = \"text-align: left;\">W</td><td style = \"text-align: left;\">8:00AM</td><td style = \"text-align: left;\">9:50AM</td><td style = \"font-style: italic; text-align: left;\">missing</td><td style = \"font-style: italic; text-align: right;\">missing</td><td style = \"font-style: italic; text-align: left;\">missing</td></tr></tbody></table></div>"
            ],
            "text/latex": "\\begin{tabular}{r|cccccccccc}\n\t& Term & Session & Career & Class Nbr & Section & Subject & Catalog & Component & ID & \\\\\n\t\\hline\n\t& Int64 & Int64 & String7 & Int64 & String7 & String3 & Int64 & String3 & Int64 & \\\\\n\t\\hline\n\t1 & 1229 & 1 & UGRD & 36923 & D001 & MTH & 105 & LEC & 163486 & $\\dots$ \\\\\n\t2 & 1229 & 1 & UGRD & 36923 & D001 & MTH & 105 & LEC & 163486 & $\\dots$ \\\\\n\t3 & 1229 & 1 & UGRD & 34534 & D001 & ENG & 110 & LEC & 163486 & $\\dots$ \\\\\n\t4 & 1229 & 1 & UGRD & 43244 & D011 & PSY & 100 & LEC & 185109 & $\\dots$ \\\\\n\t5 & 1229 & 1 & UGRD & 36923 & D001 & MTH & 105 & LEC & 185109 & $\\dots$ \\\\\n\t6 & 1229 & 1 & UGRD & 44332 & D200 & ENG & 111 & LEC & 659056 & $\\dots$ \\\\\n\\end{tabular}\n"
          },
          "metadata": {},
          "execution_count": 47
        }
      ],
      "cell_type": "code",
      "source": [
        "f22 = CSV.read(IOBuffer(f22_data), DataFrame)"
      ],
      "metadata": {
        "id": "VtXer1rbj-TG",
        "outputId": "97346552-16f8-4d9e-df46-7581370db42e",
        "colab": {
          "base_uri": "https://localhost:8080/",
          "height": 349
        }
      },
      "execution_count": 47
    },
    {
      "cell_type": "markdown",
      "source": [
        "Over time the column names evolve. The old data has a minimal set, the new has more extensive repeated data:\n"
      ],
      "metadata": {
        "id": "DgA4Upybj-TG"
      }
    },
    {
      "outputs": [
        {
          "output_type": "execute_result",
          "data": {
            "text/plain": [
              "9-element Vector{String}:\n",
              " \"Column1\"\n",
              " \"Term\"\n",
              " \"Subject\"\n",
              " \"Catalog\"\n",
              " \"ID\"\n",
              " \"Name\"\n",
              " \"Session\"\n",
              " \"Grade\"\n",
              " \"Grade.In\""
            ]
          },
          "metadata": {},
          "execution_count": 48
        }
      ],
      "cell_type": "code",
      "source": [
        "names(s11)"
      ],
      "metadata": {
        "id": "zcdawR71j-TG",
        "outputId": "46ca9252-d02c-4371-a087-7c0eb2b97112",
        "colab": {
          "base_uri": "https://localhost:8080/",
          "height": 0
        }
      },
      "execution_count": 48
    },
    {
      "outputs": [
        {
          "output_type": "execute_result",
          "data": {
            "text/plain": [
              "24-element Vector{String}:\n",
              " \"Term\"\n",
              " \"Session\"\n",
              " \"Career\"\n",
              " \"Class Nbr\"\n",
              " \"Section\"\n",
              " \"Subject\"\n",
              " \"Catalog\"\n",
              " \"Component\"\n",
              " \"ID\"\n",
              " \"Name\"\n",
              " \"Gender\"\n",
              " \"Phone\"\n",
              " \"Email\"\n",
              " \"Grade\"\n",
              " \"Grade In\"\n",
              " \"Repeat\"\n",
              " \"Instructor ID\"\n",
              " \"Instructor Name\"\n",
              " \"Day\"\n",
              " \"Mtg Start\"\n",
              " \"Mtg End\"\n",
              " \"Add Dt\"\n",
              " \"User\"\n",
              " \"Grade Base\""
            ]
          },
          "metadata": {},
          "execution_count": 49
        }
      ],
      "cell_type": "code",
      "source": [
        "names(f22)"
      ],
      "metadata": {
        "id": "sFX0h7cuj-TG",
        "outputId": "c73bfbfd-56d9-4552-e42e-85edf9278f0b",
        "colab": {
          "base_uri": "https://localhost:8080/",
          "height": 0
        }
      },
      "execution_count": 49
    },
    {
      "cell_type": "markdown",
      "source": [
        "This finds common column names using a Unicode infix operator for `intersect`:\n"
      ],
      "metadata": {
        "id": "BB---6Bpj-TG"
      }
    },
    {
      "outputs": [
        {
          "output_type": "execute_result",
          "data": {
            "text/plain": [
              "7-element Vector{String}:\n",
              " \"Term\"\n",
              " \"Session\"\n",
              " \"Subject\"\n",
              " \"Catalog\"\n",
              " \"ID\"\n",
              " \"Name\"\n",
              " \"Grade\""
            ]
          },
          "metadata": {},
          "execution_count": 50
        }
      ],
      "cell_type": "code",
      "source": [
        "nms = names(f22) ∩ names(s11)"
      ],
      "metadata": {
        "id": "9CPSvUxUj-TH",
        "outputId": "06c47397-d4e0-436e-83db-3daf304e57f2",
        "colab": {
          "base_uri": "https://localhost:8080/",
          "height": 0
        }
      },
      "execution_count": 50
    },
    {
      "cell_type": "markdown",
      "source": [
        "---\n"
      ],
      "metadata": {
        "id": "jWAQ1kUBj-TH"
      }
    },
    {
      "outputs": [
        {
          "output_type": "execute_result",
          "data": {
            "text/plain": [
              "\u001b[1m6×7 DataFrame\n",
              "\u001b[1m Row │\u001b[1m Term  \u001b[1m Session \u001b[1m Subject \u001b[1m Catalog \u001b[1m ID     \u001b[1m Name         \u001b[1m Grade\n",
              "     │\u001b[90m Int64 \u001b[90m Int64   \u001b[90m String3 \u001b[90m Int64   \u001b[90m Int64  \u001b[90m String15     \u001b[90m Missing\n",
              "─────┼─────────────────────────────────────────────────────────────────\n",
              "   1 │  1229        1  MTH          105  163486  Carol,Carol  \u001b[90m missing\n",
              "   2 │  1229        1  MTH          105  163486  Carol,Carol  \u001b[90m missing\n",
              "   3 │  1229        1  ENG          110  163486  Carol,Carol  \u001b[90m missing\n",
              "   4 │  1229        1  PSY          100  185109  Brock,Erin   \u001b[90m missing\n",
              "   5 │  1229        1  MTH          105  185109  Brock,Erin   \u001b[90m missing\n",
              "   6 │  1229        1  ENG          111  659056  Mallory,Yves \u001b[90m missing"
            ],
            "text/html": [
              "<div><div style = \"float: left;\"><span>6×7 DataFrame</span></div><div style = \"clear: both;\"></div></div><div class = \"data-frame\" style = \"overflow-x: scroll;\"><table class = \"data-frame\" style = \"margin-bottom: 6px;\"><thead><tr class = \"header\"><th class = \"rowNumber\" style = \"font-weight: bold; text-align: right;\">Row</th><th style = \"text-align: left;\">Term</th><th style = \"text-align: left;\">Session</th><th style = \"text-align: left;\">Subject</th><th style = \"text-align: left;\">Catalog</th><th style = \"text-align: left;\">ID</th><th style = \"text-align: left;\">Name</th><th style = \"text-align: left;\">Grade</th></tr><tr class = \"subheader headerLastRow\"><th class = \"rowNumber\" style = \"font-weight: bold; text-align: right;\"></th><th title = \"Int64\" style = \"text-align: left;\">Int64</th><th title = \"Int64\" style = \"text-align: left;\">Int64</th><th title = \"String3\" style = \"text-align: left;\">String3</th><th title = \"Int64\" style = \"text-align: left;\">Int64</th><th title = \"Int64\" style = \"text-align: left;\">Int64</th><th title = \"String15\" style = \"text-align: left;\">String15</th><th title = \"Missing\" style = \"text-align: left;\">Missing</th></tr></thead><tbody><tr><td class = \"rowNumber\" style = \"font-weight: bold; text-align: right;\">1</td><td style = \"text-align: right;\">1229</td><td style = \"text-align: right;\">1</td><td style = \"text-align: left;\">MTH</td><td style = \"text-align: right;\">105</td><td style = \"text-align: right;\">163486</td><td style = \"text-align: left;\">Carol,Carol</td><td style = \"font-style: italic; text-align: right;\">missing</td></tr><tr><td class = \"rowNumber\" style = \"font-weight: bold; text-align: right;\">2</td><td style = \"text-align: right;\">1229</td><td style = \"text-align: right;\">1</td><td style = \"text-align: left;\">MTH</td><td style = \"text-align: right;\">105</td><td style = \"text-align: right;\">163486</td><td style = \"text-align: left;\">Carol,Carol</td><td style = \"font-style: italic; text-align: right;\">missing</td></tr><tr><td class = \"rowNumber\" style = \"font-weight: bold; text-align: right;\">3</td><td style = \"text-align: right;\">1229</td><td style = \"text-align: right;\">1</td><td style = \"text-align: left;\">ENG</td><td style = \"text-align: right;\">110</td><td style = \"text-align: right;\">163486</td><td style = \"text-align: left;\">Carol,Carol</td><td style = \"font-style: italic; text-align: right;\">missing</td></tr><tr><td class = \"rowNumber\" style = \"font-weight: bold; text-align: right;\">4</td><td style = \"text-align: right;\">1229</td><td style = \"text-align: right;\">1</td><td style = \"text-align: left;\">PSY</td><td style = \"text-align: right;\">100</td><td style = \"text-align: right;\">185109</td><td style = \"text-align: left;\">Brock,Erin</td><td style = \"font-style: italic; text-align: right;\">missing</td></tr><tr><td class = \"rowNumber\" style = \"font-weight: bold; text-align: right;\">5</td><td style = \"text-align: right;\">1229</td><td style = \"text-align: right;\">1</td><td style = \"text-align: left;\">MTH</td><td style = \"text-align: right;\">105</td><td style = \"text-align: right;\">185109</td><td style = \"text-align: left;\">Brock,Erin</td><td style = \"font-style: italic; text-align: right;\">missing</td></tr><tr><td class = \"rowNumber\" style = \"font-weight: bold; text-align: right;\">6</td><td style = \"text-align: right;\">1229</td><td style = \"text-align: right;\">1</td><td style = \"text-align: left;\">ENG</td><td style = \"text-align: right;\">111</td><td style = \"text-align: right;\">659056</td><td style = \"text-align: left;\">Mallory,Yves</td><td style = \"font-style: italic; text-align: right;\">missing</td></tr></tbody></table></div>"
            ],
            "text/latex": "\\begin{tabular}{r|ccccccc}\n\t& Term & Session & Subject & Catalog & ID & Name & Grade\\\\\n\t\\hline\n\t& Int64 & Int64 & String3 & Int64 & Int64 & String15 & Missing\\\\\n\t\\hline\n\t1 & 1229 & 1 & MTH & 105 & 163486 & Carol,Carol & \\emph{missing} \\\\\n\t2 & 1229 & 1 & MTH & 105 & 163486 & Carol,Carol & \\emph{missing} \\\\\n\t3 & 1229 & 1 & ENG & 110 & 163486 & Carol,Carol & \\emph{missing} \\\\\n\t4 & 1229 & 1 & PSY & 100 & 185109 & Brock,Erin & \\emph{missing} \\\\\n\t5 & 1229 & 1 & MTH & 105 & 185109 & Brock,Erin & \\emph{missing} \\\\\n\t6 & 1229 & 1 & ENG & 111 & 659056 & Mallory,Yves & \\emph{missing} \\\\\n\\end{tabular}\n"
          },
          "metadata": {},
          "execution_count": 51
        }
      ],
      "cell_type": "code",
      "source": [
        "# 💻 The nms vector is a valid column selector. What is the data frame f22 with only the names from `nms`?\n",
        "f22[:, nms]\n"
      ],
      "metadata": {
        "id": "6PSJw1Llj-TH",
        "outputId": "7b7a60e7-7adc-411d-a2f8-e51dcf5b54ab",
        "colab": {
          "base_uri": "https://localhost:8080/",
          "height": 228
        }
      },
      "execution_count": 51
    },
    {
      "outputs": [
        {
          "output_type": "execute_result",
          "data": {
            "text/plain": [
              "\u001b[1m5×7 DataFrame\n",
              "\u001b[1m Row │\u001b[1m Term  \u001b[1m Session \u001b[1m Subject \u001b[1m Catalog \u001b[1m ID     \u001b[1m Name         \u001b[1m Grade\n",
              "     │\u001b[90m Int64 \u001b[90m Int64   \u001b[90m String3 \u001b[90m Int64   \u001b[90m Int64  \u001b[90m String15     \u001b[90m Missing\n",
              "─────┼─────────────────────────────────────────────────────────────────\n",
              "   1 │  1229        1  MTH          105  163486  Carol,Carol  \u001b[90m missing\n",
              "   2 │  1229        1  ENG          110  163486  Carol,Carol  \u001b[90m missing\n",
              "   3 │  1229        1  PSY          100  185109  Brock,Erin   \u001b[90m missing\n",
              "   4 │  1229        1  MTH          105  185109  Brock,Erin   \u001b[90m missing\n",
              "   5 │  1229        1  ENG          111  659056  Mallory,Yves \u001b[90m missing"
            ],
            "text/html": [
              "<div><div style = \"float: left;\"><span>5×7 DataFrame</span></div><div style = \"clear: both;\"></div></div><div class = \"data-frame\" style = \"overflow-x: scroll;\"><table class = \"data-frame\" style = \"margin-bottom: 6px;\"><thead><tr class = \"header\"><th class = \"rowNumber\" style = \"font-weight: bold; text-align: right;\">Row</th><th style = \"text-align: left;\">Term</th><th style = \"text-align: left;\">Session</th><th style = \"text-align: left;\">Subject</th><th style = \"text-align: left;\">Catalog</th><th style = \"text-align: left;\">ID</th><th style = \"text-align: left;\">Name</th><th style = \"text-align: left;\">Grade</th></tr><tr class = \"subheader headerLastRow\"><th class = \"rowNumber\" style = \"font-weight: bold; text-align: right;\"></th><th title = \"Int64\" style = \"text-align: left;\">Int64</th><th title = \"Int64\" style = \"text-align: left;\">Int64</th><th title = \"String3\" style = \"text-align: left;\">String3</th><th title = \"Int64\" style = \"text-align: left;\">Int64</th><th title = \"Int64\" style = \"text-align: left;\">Int64</th><th title = \"String15\" style = \"text-align: left;\">String15</th><th title = \"Missing\" style = \"text-align: left;\">Missing</th></tr></thead><tbody><tr><td class = \"rowNumber\" style = \"font-weight: bold; text-align: right;\">1</td><td style = \"text-align: right;\">1229</td><td style = \"text-align: right;\">1</td><td style = \"text-align: left;\">MTH</td><td style = \"text-align: right;\">105</td><td style = \"text-align: right;\">163486</td><td style = \"text-align: left;\">Carol,Carol</td><td style = \"font-style: italic; text-align: right;\">missing</td></tr><tr><td class = \"rowNumber\" style = \"font-weight: bold; text-align: right;\">2</td><td style = \"text-align: right;\">1229</td><td style = \"text-align: right;\">1</td><td style = \"text-align: left;\">ENG</td><td style = \"text-align: right;\">110</td><td style = \"text-align: right;\">163486</td><td style = \"text-align: left;\">Carol,Carol</td><td style = \"font-style: italic; text-align: right;\">missing</td></tr><tr><td class = \"rowNumber\" style = \"font-weight: bold; text-align: right;\">3</td><td style = \"text-align: right;\">1229</td><td style = \"text-align: right;\">1</td><td style = \"text-align: left;\">PSY</td><td style = \"text-align: right;\">100</td><td style = \"text-align: right;\">185109</td><td style = \"text-align: left;\">Brock,Erin</td><td style = \"font-style: italic; text-align: right;\">missing</td></tr><tr><td class = \"rowNumber\" style = \"font-weight: bold; text-align: right;\">4</td><td style = \"text-align: right;\">1229</td><td style = \"text-align: right;\">1</td><td style = \"text-align: left;\">MTH</td><td style = \"text-align: right;\">105</td><td style = \"text-align: right;\">185109</td><td style = \"text-align: left;\">Brock,Erin</td><td style = \"font-style: italic; text-align: right;\">missing</td></tr><tr><td class = \"rowNumber\" style = \"font-weight: bold; text-align: right;\">5</td><td style = \"text-align: right;\">1229</td><td style = \"text-align: right;\">1</td><td style = \"text-align: left;\">ENG</td><td style = \"text-align: right;\">111</td><td style = \"text-align: right;\">659056</td><td style = \"text-align: left;\">Mallory,Yves</td><td style = \"font-style: italic; text-align: right;\">missing</td></tr></tbody></table></div>"
            ],
            "text/latex": "\\begin{tabular}{r|ccccccc}\n\t& Term & Session & Subject & Catalog & ID & Name & Grade\\\\\n\t\\hline\n\t& Int64 & Int64 & String3 & Int64 & Int64 & String15 & Missing\\\\\n\t\\hline\n\t1 & 1229 & 1 & MTH & 105 & 163486 & Carol,Carol & \\emph{missing} \\\\\n\t2 & 1229 & 1 & ENG & 110 & 163486 & Carol,Carol & \\emph{missing} \\\\\n\t3 & 1229 & 1 & PSY & 100 & 185109 & Brock,Erin & \\emph{missing} \\\\\n\t4 & 1229 & 1 & MTH & 105 & 185109 & Brock,Erin & \\emph{missing} \\\\\n\t5 & 1229 & 1 & ENG & 111 & 659056 & Mallory,Yves & \\emph{missing} \\\\\n\\end{tabular}\n"
          },
          "metadata": {},
          "execution_count": 52
        }
      ],
      "cell_type": "code",
      "source": [
        "# 💻 Wrap your previous command within `unique`. What is the difference?\n",
        "f22[:, nms] |> unique # combines first two  into 1"
      ],
      "metadata": {
        "id": "n4kX0cZaj-TH",
        "outputId": "bb0117ed-ce14-46b5-863c-42aee5495c79",
        "colab": {
          "base_uri": "https://localhost:8080/",
          "height": 207
        }
      },
      "execution_count": 52
    },
    {
      "cell_type": "markdown",
      "source": [
        "(The `f22` data is arranged to have replicated data for each day a class meets.)\n"
      ],
      "metadata": {
        "id": "dm7l0SV3j-TH"
      }
    },
    {
      "cell_type": "markdown",
      "source": [
        "---\n"
      ],
      "metadata": {
        "id": "gtGiRHFgj-TH"
      }
    },
    {
      "cell_type": "markdown",
      "source": [
        "The `vcat` function combines objects vertically (there is also `hcat` and `hvcat`).\n"
      ],
      "metadata": {
        "id": "QvFgrRoTj-TI"
      }
    },
    {
      "outputs": [
        {
          "output_type": "execute_result",
          "data": {
            "text/plain": [
              "\u001b[1m20×7 DataFrame\n",
              "\u001b[1m Row │\u001b[1m Term  \u001b[1m Session \u001b[1m Subject \u001b[1m Catalog \u001b[1m ID     \u001b[1m Name            \u001b[1m Grade\n",
              "     │\u001b[90m Int64 \u001b[90m Int64   \u001b[90m String3 \u001b[90m Int64   \u001b[90m Int64  \u001b[90m String15        \u001b[90m String3?\n",
              "─────┼─────────────────────────────────────────────────────────────────────\n",
              "   1 │  1149        1  ACC          114  812315  Abernathy,Alice  A\n",
              "   2 │  1149        1  MTH          123  812315  Abernathy,Alice  C\n",
              "   3 │  1152        1  ENG          132  812315  Abernathy,Alice  A\n",
              "   4 │  1152        1  ENG          211  812315  Abernathy,Alice  B\n",
              "   5 │  1169        1  MTH          231  889995  Ballew,Bob       A\n",
              "   6 │  1169        1  MTH          229  889995  Ballew,Bob       A\n",
              "   7 │  1172        1  ENG          111  889995  Ballew,Bob       B\n",
              "   8 │  1172        1  CSC          222  889995  Ballew,Bob       A-\n",
              "   9 │  1179        1  CSC          222  889995  Ballew,Bob       F\n",
              "  10 │  1179        1  ENG          232  889995  Ballew,Bob       A\n",
              "  11 │  1182        1  PSY          100  889995  Ballew,Bob       B+\n",
              "  12 │  1192        1  PSY          100  163486  Carol,Carol      A\n",
              "  13 │  1192        1  MTH          123  163486  Carol,Carol      A\n",
              "  14 │  1199        1  MTH          231  163486  Carol,Carol      A\n",
              "  15 │  1202        1  MTH          232  163486  Carol,Carol      W\n",
              "  16 │  1229        1  MTH          105  163486  Carol,Carol     \u001b[90m missing\n",
              "  17 │  1229        1  ENG          110  163486  Carol,Carol     \u001b[90m missing\n",
              "  18 │  1229        1  PSY          100  185109  Brock,Erin      \u001b[90m missing\n",
              "  19 │  1229        1  MTH          105  185109  Brock,Erin      \u001b[90m missing\n",
              "  20 │  1229        1  ENG          111  659056  Mallory,Yves    \u001b[90m missing"
            ],
            "text/html": [
              "<div><div style = \"float: left;\"><span>20×7 DataFrame</span></div><div style = \"clear: both;\"></div></div><div class = \"data-frame\" style = \"overflow-x: scroll;\"><table class = \"data-frame\" style = \"margin-bottom: 6px;\"><thead><tr class = \"header\"><th class = \"rowNumber\" style = \"font-weight: bold; text-align: right;\">Row</th><th style = \"text-align: left;\">Term</th><th style = \"text-align: left;\">Session</th><th style = \"text-align: left;\">Subject</th><th style = \"text-align: left;\">Catalog</th><th style = \"text-align: left;\">ID</th><th style = \"text-align: left;\">Name</th><th style = \"text-align: left;\">Grade</th></tr><tr class = \"subheader headerLastRow\"><th class = \"rowNumber\" style = \"font-weight: bold; text-align: right;\"></th><th title = \"Int64\" style = \"text-align: left;\">Int64</th><th title = \"Int64\" style = \"text-align: left;\">Int64</th><th title = \"String3\" style = \"text-align: left;\">String3</th><th title = \"Int64\" style = \"text-align: left;\">Int64</th><th title = \"Int64\" style = \"text-align: left;\">Int64</th><th title = \"String15\" style = \"text-align: left;\">String15</th><th title = \"Union{Missing, String3}\" style = \"text-align: left;\">String3?</th></tr></thead><tbody><tr><td class = \"rowNumber\" style = \"font-weight: bold; text-align: right;\">1</td><td style = \"text-align: right;\">1149</td><td style = \"text-align: right;\">1</td><td style = \"text-align: left;\">ACC</td><td style = \"text-align: right;\">114</td><td style = \"text-align: right;\">812315</td><td style = \"text-align: left;\">Abernathy,Alice</td><td style = \"text-align: left;\">A</td></tr><tr><td class = \"rowNumber\" style = \"font-weight: bold; text-align: right;\">2</td><td style = \"text-align: right;\">1149</td><td style = \"text-align: right;\">1</td><td style = \"text-align: left;\">MTH</td><td style = \"text-align: right;\">123</td><td style = \"text-align: right;\">812315</td><td style = \"text-align: left;\">Abernathy,Alice</td><td style = \"text-align: left;\">C</td></tr><tr><td class = \"rowNumber\" style = \"font-weight: bold; text-align: right;\">3</td><td style = \"text-align: right;\">1152</td><td style = \"text-align: right;\">1</td><td style = \"text-align: left;\">ENG</td><td style = \"text-align: right;\">132</td><td style = \"text-align: right;\">812315</td><td style = \"text-align: left;\">Abernathy,Alice</td><td style = \"text-align: left;\">A</td></tr><tr><td class = \"rowNumber\" style = \"font-weight: bold; text-align: right;\">4</td><td style = \"text-align: right;\">1152</td><td style = \"text-align: right;\">1</td><td style = \"text-align: left;\">ENG</td><td style = \"text-align: right;\">211</td><td style = \"text-align: right;\">812315</td><td style = \"text-align: left;\">Abernathy,Alice</td><td style = \"text-align: left;\">B</td></tr><tr><td class = \"rowNumber\" style = \"font-weight: bold; text-align: right;\">5</td><td style = \"text-align: right;\">1169</td><td style = \"text-align: right;\">1</td><td style = \"text-align: left;\">MTH</td><td style = \"text-align: right;\">231</td><td style = \"text-align: right;\">889995</td><td style = \"text-align: left;\">Ballew,Bob</td><td style = \"text-align: left;\">A</td></tr><tr><td class = \"rowNumber\" style = \"font-weight: bold; text-align: right;\">6</td><td style = \"text-align: right;\">1169</td><td style = \"text-align: right;\">1</td><td style = \"text-align: left;\">MTH</td><td style = \"text-align: right;\">229</td><td style = \"text-align: right;\">889995</td><td style = \"text-align: left;\">Ballew,Bob</td><td style = \"text-align: left;\">A</td></tr><tr><td class = \"rowNumber\" style = \"font-weight: bold; text-align: right;\">7</td><td style = \"text-align: right;\">1172</td><td style = \"text-align: right;\">1</td><td style = \"text-align: left;\">ENG</td><td style = \"text-align: right;\">111</td><td style = \"text-align: right;\">889995</td><td style = \"text-align: left;\">Ballew,Bob</td><td style = \"text-align: left;\">B</td></tr><tr><td class = \"rowNumber\" style = \"font-weight: bold; text-align: right;\">8</td><td style = \"text-align: right;\">1172</td><td style = \"text-align: right;\">1</td><td style = \"text-align: left;\">CSC</td><td style = \"text-align: right;\">222</td><td style = \"text-align: right;\">889995</td><td style = \"text-align: left;\">Ballew,Bob</td><td style = \"text-align: left;\">A-</td></tr><tr><td class = \"rowNumber\" style = \"font-weight: bold; text-align: right;\">9</td><td style = \"text-align: right;\">1179</td><td style = \"text-align: right;\">1</td><td style = \"text-align: left;\">CSC</td><td style = \"text-align: right;\">222</td><td style = \"text-align: right;\">889995</td><td style = \"text-align: left;\">Ballew,Bob</td><td style = \"text-align: left;\">F</td></tr><tr><td class = \"rowNumber\" style = \"font-weight: bold; text-align: right;\">10</td><td style = \"text-align: right;\">1179</td><td style = \"text-align: right;\">1</td><td style = \"text-align: left;\">ENG</td><td style = \"text-align: right;\">232</td><td style = \"text-align: right;\">889995</td><td style = \"text-align: left;\">Ballew,Bob</td><td style = \"text-align: left;\">A</td></tr><tr><td class = \"rowNumber\" style = \"font-weight: bold; text-align: right;\">11</td><td style = \"text-align: right;\">1182</td><td style = \"text-align: right;\">1</td><td style = \"text-align: left;\">PSY</td><td style = \"text-align: right;\">100</td><td style = \"text-align: right;\">889995</td><td style = \"text-align: left;\">Ballew,Bob</td><td style = \"text-align: left;\">B+</td></tr><tr><td class = \"rowNumber\" style = \"font-weight: bold; text-align: right;\">12</td><td style = \"text-align: right;\">1192</td><td style = \"text-align: right;\">1</td><td style = \"text-align: left;\">PSY</td><td style = \"text-align: right;\">100</td><td style = \"text-align: right;\">163486</td><td style = \"text-align: left;\">Carol,Carol</td><td style = \"text-align: left;\">A</td></tr><tr><td class = \"rowNumber\" style = \"font-weight: bold; text-align: right;\">13</td><td style = \"text-align: right;\">1192</td><td style = \"text-align: right;\">1</td><td style = \"text-align: left;\">MTH</td><td style = \"text-align: right;\">123</td><td style = \"text-align: right;\">163486</td><td style = \"text-align: left;\">Carol,Carol</td><td style = \"text-align: left;\">A</td></tr><tr><td class = \"rowNumber\" style = \"font-weight: bold; text-align: right;\">14</td><td style = \"text-align: right;\">1199</td><td style = \"text-align: right;\">1</td><td style = \"text-align: left;\">MTH</td><td style = \"text-align: right;\">231</td><td style = \"text-align: right;\">163486</td><td style = \"text-align: left;\">Carol,Carol</td><td style = \"text-align: left;\">A</td></tr><tr><td class = \"rowNumber\" style = \"font-weight: bold; text-align: right;\">15</td><td style = \"text-align: right;\">1202</td><td style = \"text-align: right;\">1</td><td style = \"text-align: left;\">MTH</td><td style = \"text-align: right;\">232</td><td style = \"text-align: right;\">163486</td><td style = \"text-align: left;\">Carol,Carol</td><td style = \"text-align: left;\">W</td></tr><tr><td class = \"rowNumber\" style = \"font-weight: bold; text-align: right;\">16</td><td style = \"text-align: right;\">1229</td><td style = \"text-align: right;\">1</td><td style = \"text-align: left;\">MTH</td><td style = \"text-align: right;\">105</td><td style = \"text-align: right;\">163486</td><td style = \"text-align: left;\">Carol,Carol</td><td style = \"font-style: italic; text-align: left;\">missing</td></tr><tr><td class = \"rowNumber\" style = \"font-weight: bold; text-align: right;\">17</td><td style = \"text-align: right;\">1229</td><td style = \"text-align: right;\">1</td><td style = \"text-align: left;\">ENG</td><td style = \"text-align: right;\">110</td><td style = \"text-align: right;\">163486</td><td style = \"text-align: left;\">Carol,Carol</td><td style = \"font-style: italic; text-align: left;\">missing</td></tr><tr><td class = \"rowNumber\" style = \"font-weight: bold; text-align: right;\">18</td><td style = \"text-align: right;\">1229</td><td style = \"text-align: right;\">1</td><td style = \"text-align: left;\">PSY</td><td style = \"text-align: right;\">100</td><td style = \"text-align: right;\">185109</td><td style = \"text-align: left;\">Brock,Erin</td><td style = \"font-style: italic; text-align: left;\">missing</td></tr><tr><td class = \"rowNumber\" style = \"font-weight: bold; text-align: right;\">19</td><td style = \"text-align: right;\">1229</td><td style = \"text-align: right;\">1</td><td style = \"text-align: left;\">MTH</td><td style = \"text-align: right;\">105</td><td style = \"text-align: right;\">185109</td><td style = \"text-align: left;\">Brock,Erin</td><td style = \"font-style: italic; text-align: left;\">missing</td></tr><tr><td class = \"rowNumber\" style = \"font-weight: bold; text-align: right;\">20</td><td style = \"text-align: right;\">1229</td><td style = \"text-align: right;\">1</td><td style = \"text-align: left;\">ENG</td><td style = \"text-align: right;\">111</td><td style = \"text-align: right;\">659056</td><td style = \"text-align: left;\">Mallory,Yves</td><td style = \"font-style: italic; text-align: left;\">missing</td></tr></tbody></table></div>"
            ],
            "text/latex": "\\begin{tabular}{r|ccccccc}\n\t& Term & Session & Subject & Catalog & ID & Name & Grade\\\\\n\t\\hline\n\t& Int64 & Int64 & String3 & Int64 & Int64 & String15 & String3?\\\\\n\t\\hline\n\t1 & 1149 & 1 & ACC & 114 & 812315 & Abernathy,Alice & A \\\\\n\t2 & 1149 & 1 & MTH & 123 & 812315 & Abernathy,Alice & C \\\\\n\t3 & 1152 & 1 & ENG & 132 & 812315 & Abernathy,Alice & A \\\\\n\t4 & 1152 & 1 & ENG & 211 & 812315 & Abernathy,Alice & B \\\\\n\t5 & 1169 & 1 & MTH & 231 & 889995 & Ballew,Bob & A \\\\\n\t6 & 1169 & 1 & MTH & 229 & 889995 & Ballew,Bob & A \\\\\n\t7 & 1172 & 1 & ENG & 111 & 889995 & Ballew,Bob & B \\\\\n\t8 & 1172 & 1 & CSC & 222 & 889995 & Ballew,Bob & A- \\\\\n\t9 & 1179 & 1 & CSC & 222 & 889995 & Ballew,Bob & F \\\\\n\t10 & 1179 & 1 & ENG & 232 & 889995 & Ballew,Bob & A \\\\\n\t11 & 1182 & 1 & PSY & 100 & 889995 & Ballew,Bob & B+ \\\\\n\t12 & 1192 & 1 & PSY & 100 & 163486 & Carol,Carol & A \\\\\n\t13 & 1192 & 1 & MTH & 123 & 163486 & Carol,Carol & A \\\\\n\t14 & 1199 & 1 & MTH & 231 & 163486 & Carol,Carol & A \\\\\n\t15 & 1202 & 1 & MTH & 232 & 163486 & Carol,Carol & W \\\\\n\t16 & 1229 & 1 & MTH & 105 & 163486 & Carol,Carol & \\emph{missing} \\\\\n\t17 & 1229 & 1 & ENG & 110 & 163486 & Carol,Carol & \\emph{missing} \\\\\n\t18 & 1229 & 1 & PSY & 100 & 185109 & Brock,Erin & \\emph{missing} \\\\\n\t19 & 1229 & 1 & MTH & 105 & 185109 & Brock,Erin & \\emph{missing} \\\\\n\t20 & 1229 & 1 & ENG & 111 & 659056 & Mallory,Yves & \\emph{missing} \\\\\n\\end{tabular}\n"
          },
          "metadata": {},
          "execution_count": 53
        }
      ],
      "cell_type": "code",
      "source": [
        "studs = vcat(s11[:,nms], unique(f22[:,nms]))"
      ],
      "metadata": {
        "id": "ULmmrzuJj-TI",
        "outputId": "9f6a4cd5-a0f8-42bc-bbdb-2a168842aa37",
        "colab": {
          "base_uri": "https://localhost:8080/",
          "height": 524
        }
      },
      "execution_count": 53
    },
    {
      "cell_type": "markdown",
      "source": [
        "DataFrames has much functionality for other types of data joins\n"
      ],
      "metadata": {
        "id": "HNdkY3vWj-TI"
      }
    },
    {
      "cell_type": "markdown",
      "source": [
        "## Split-apply-combine\n"
      ],
      "metadata": {
        "internals": {
          "slide_type": "subslide",
          "slide_helper": "subslide_end"
        },
        "slide_helper": "slide_end",
        "id": "DkHaKbiCj-TI"
      }
    },
    {
      "cell_type": "markdown",
      "source": [
        "The [split-apply-combine](https://vita.had.co.nz/papers/plyr.pdf) strategy is often used, and here we see `DataFrames` supports it fairly naturally.\n"
      ],
      "metadata": {
        "id": "E1INmiTDj-TJ"
      }
    },
    {
      "cell_type": "markdown",
      "source": [
        "For this data, we want to create a new data structure for each student:\n"
      ],
      "metadata": {
        "id": "-June1eJj-TK"
      }
    },
    {
      "cell_type": "markdown",
      "source": [
        "containing their 1) first semester, 2) their last semester, and 3) their gpa.\n"
      ],
      "metadata": {
        "id": "KMmdkl09j-TM"
      }
    },
    {
      "cell_type": "markdown",
      "source": [
        "The first and last semester is conveniently returned by `extrema` when applied to `Term`, given the manner in which the term is coded.\n"
      ],
      "metadata": {
        "id": "oLzuSN1rj-TO"
      }
    },
    {
      "cell_type": "markdown",
      "source": [
        "---\n"
      ],
      "metadata": {
        "id": "TsP3BqL-j-TO"
      }
    },
    {
      "outputs": [
        {
          "output_type": "execute_result",
          "data": {
            "text/plain": [
              "(1149, 1229)"
            ]
          },
          "metadata": {},
          "execution_count": 54
        }
      ],
      "cell_type": "code",
      "source": [
        "# 💻 What does extrema find for studs.Term?\n",
        "extrema(studs.Term)  # min and max in one pass"
      ],
      "metadata": {
        "id": "kB64INePj-TP",
        "outputId": "81cc2fa6-d577-40eb-adc5-53e5e586cade",
        "colab": {
          "base_uri": "https://localhost:8080/",
          "height": 0
        }
      },
      "execution_count": 54
    },
    {
      "cell_type": "markdown",
      "source": [
        "---\n"
      ],
      "metadata": {
        "id": "HA9iN50Aj-TP"
      }
    },
    {
      "cell_type": "markdown",
      "source": [
        "The `gpa` requires turning letter grades into numbers. Here is a simple way:\n"
      ],
      "metadata": {
        "id": "X7QJMTMbj-TP"
      }
    },
    {
      "outputs": [
        {
          "output_type": "execute_result",
          "data": {
            "text/plain": [
              "grade_to_number (generic function with 1 method)"
            ]
          },
          "metadata": {},
          "execution_count": 55
        }
      ],
      "cell_type": "code",
      "source": [
        "function grade_to_number(x)\n",
        "\tismissing(x) && return x\n",
        "    x == \"A\"  ? 4.0 :\n",
        "\tx == \"A-\" ? 3.7 :\n",
        "    x == \"B+\" ? 3.3 :\n",
        "\tx == \"B\"  ? 3.0 :\n",
        "    x == \"B-\" ? 2.7 :\n",
        "    x == \"C+\" ? 2.3 :\n",
        "\tx == \"C\"  ? 2.0 :\n",
        "    x == \"D\"  ? 1.0 :\n",
        "\tx == \"F\"  ? 0.0 : missing\n",
        "end"
      ],
      "metadata": {
        "id": "Qtai7NDNj-TP",
        "outputId": "71238ec9-d63e-4b5e-ae53-d3e4d72930c8",
        "colab": {
          "base_uri": "https://localhost:8080/",
          "height": 0
        }
      },
      "execution_count": 55
    },
    {
      "cell_type": "markdown",
      "source": [
        "The `gpa`  would just be done by applying `mean` (from the `Statistics` package).\n"
      ],
      "metadata": {
        "id": "4q3bTiDSj-TP"
      }
    },
    {
      "outputs": [],
      "cell_type": "code",
      "source": [
        "using Statistics  # base Statistics module is very minimal, but has `mean`"
      ],
      "metadata": {
        "id": "BB2cKn9xj-TP"
      },
      "execution_count": 56
    },
    {
      "cell_type": "markdown",
      "source": [
        "---\n"
      ],
      "metadata": {
        "id": "ZuD_MMYgj-TQ"
      }
    },
    {
      "outputs": [
        {
          "output_type": "execute_result",
          "data": {
            "text/plain": [
              "missing"
            ]
          },
          "metadata": {},
          "execution_count": 57
        }
      ],
      "cell_type": "code",
      "source": [
        "# 💻  what goes wrong here? A one character fix is?\n",
        "xs = grade_to_number(studs.Grade) # it needs grade_to_number.(studs.Grade) --- a dot to broadcast"
      ],
      "metadata": {
        "id": "SFLQTXgoj-TQ",
        "outputId": "8d247a5c-3656-47a1-9415-fbb13ea71c18",
        "colab": {
          "base_uri": "https://localhost:8080/",
          "height": 0
        }
      },
      "execution_count": 57
    },
    {
      "outputs": [
        {
          "output_type": "error",
          "ename": "LoadError",
          "evalue": "MethodError: no method matching iterate(::Missing)\n\n\u001b[0mClosest candidates are:\n\u001b[0m  iterate(\u001b[91m::LibGit2.GitRebase\u001b[39m)\n\u001b[0m\u001b[90m   @\u001b[39m \u001b[36mLibGit2\u001b[39m \u001b[90m/usr/local/share/julia/stdlib/v1.10/LibGit2/src/\u001b[39m\u001b[90m\u001b[4mrebase.jl:48\u001b[24m\u001b[39m\n\u001b[0m  iterate(\u001b[91m::LibGit2.GitRebase\u001b[39m, \u001b[91m::Any\u001b[39m)\n\u001b[0m\u001b[90m   @\u001b[39m \u001b[36mLibGit2\u001b[39m \u001b[90m/usr/local/share/julia/stdlib/v1.10/LibGit2/src/\u001b[39m\u001b[90m\u001b[4mrebase.jl:48\u001b[24m\u001b[39m\n\u001b[0m  iterate(\u001b[91m::PosLenString\u001b[39m)\n\u001b[0m\u001b[90m   @\u001b[39m \u001b[32mWeakRefStrings\u001b[39m \u001b[90m~/.julia/packages/WeakRefStrings/31nkb/src/\u001b[39m\u001b[90m\u001b[4mposlenstrings.jl:325\u001b[24m\u001b[39m\n\u001b[0m  ...\n",
          "traceback": [
            "MethodError: no method matching iterate(::Missing)\n\n\u001b[0mClosest candidates are:\n\u001b[0m  iterate(\u001b[91m::LibGit2.GitRebase\u001b[39m)\n\u001b[0m\u001b[90m   @\u001b[39m \u001b[36mLibGit2\u001b[39m \u001b[90m/usr/local/share/julia/stdlib/v1.10/LibGit2/src/\u001b[39m\u001b[90m\u001b[4mrebase.jl:48\u001b[24m\u001b[39m\n\u001b[0m  iterate(\u001b[91m::LibGit2.GitRebase\u001b[39m, \u001b[91m::Any\u001b[39m)\n\u001b[0m\u001b[90m   @\u001b[39m \u001b[36mLibGit2\u001b[39m \u001b[90m/usr/local/share/julia/stdlib/v1.10/LibGit2/src/\u001b[39m\u001b[90m\u001b[4mrebase.jl:48\u001b[24m\u001b[39m\n\u001b[0m  iterate(\u001b[91m::PosLenString\u001b[39m)\n\u001b[0m\u001b[90m   @\u001b[39m \u001b[32mWeakRefStrings\u001b[39m \u001b[90m~/.julia/packages/WeakRefStrings/31nkb/src/\u001b[39m\u001b[90m\u001b[4mposlenstrings.jl:325\u001b[24m\u001b[39m\n\u001b[0m  ...\n",
            "",
            "Stacktrace:",
            " [1] mean(f::typeof(identity), itr::Missing)",
            "   @ Statistics /usr/local/share/julia/stdlib/v1.10/Statistics/src/Statistics.jl:62",
            " [2] mean(itr::Missing)",
            "   @ Statistics /usr/local/share/julia/stdlib/v1.10/Statistics/src/Statistics.jl:44",
            " [3] top-level scope",
            "   @ In[58]:2"
          ]
        }
      ],
      "cell_type": "code",
      "source": [
        "# 💻 After ensuring xs is a vector, try finding the mean. What value do you get?\n",
        "mean(xs) # missing, need to somehow drop those"
      ],
      "metadata": {
        "id": "szQ3Nuhsj-TQ",
        "outputId": "36f384ec-c178-44e7-ea05-7e275d43cbd8",
        "colab": {
          "base_uri": "https://localhost:8080/",
          "height": 383
        }
      },
      "execution_count": 58
    },
    {
      "cell_type": "markdown",
      "source": [
        "---\n"
      ],
      "metadata": {
        "id": "s-ZCUwh-j-TQ"
      }
    },
    {
      "cell_type": "markdown",
      "source": [
        "For `mean(xs)` we have to be a bit careful with\n"
      ],
      "metadata": {
        "id": "UzgGjV4_j-TQ"
      }
    },
    {
      "cell_type": "markdown",
      "source": [
        "  * `missing` values (`ismissing`, `skipmissing`)\n",
        "  * and empty iterators (`isempty`)\n"
      ],
      "metadata": {
        "id": "9X2T2RbMj-TQ"
      }
    },
    {
      "cell_type": "markdown",
      "source": [
        "with this data:\n"
      ],
      "metadata": {
        "id": "_l9A8V1vj-TQ"
      }
    },
    {
      "outputs": [
        {
          "output_type": "execute_result",
          "data": {
            "text/plain": [
              "gpa (generic function with 1 method)"
            ]
          },
          "metadata": {},
          "execution_count": 59
        }
      ],
      "cell_type": "code",
      "source": [
        "\n",
        "function gpa(xs)\n",
        "    isempty(xs) && return missing\n",
        "    ys = grade_to_number.(xs)\n",
        "    all(ismissing.(ys)) && return missing\n",
        "    ys |> skipmissing |> mean\n",
        "end"
      ],
      "metadata": {
        "id": "blbaDJWQj-TR",
        "outputId": "1608ff3d-87a4-450d-f7c0-f6958ecc004f",
        "colab": {
          "base_uri": "https://localhost:8080/",
          "height": 0
        }
      },
      "execution_count": 59
    },
    {
      "cell_type": "markdown",
      "source": [
        "The function we apply to the dataframe for each unique student would be:\n"
      ],
      "metadata": {
        "id": "EcUJrjhvj-TR"
      }
    },
    {
      "outputs": [
        {
          "output_type": "execute_result",
          "data": {
            "text/plain": [
              "summarize_student (generic function with 1 method)"
            ]
          },
          "metadata": {},
          "execution_count": 60
        }
      ],
      "cell_type": "code",
      "source": [
        "function summarize_student(u)\n",
        "    m,n = size(u)\n",
        "    fterm, lterm = extrema(u.Term)\n",
        "    (F=fterm, L=lterm, N = m, gpa = gpa(u.Grade))\n",
        "end"
      ],
      "metadata": {
        "id": "FNydDtR_j-TR",
        "outputId": "07e674a3-008e-4343-bca8-7816d3c01c50",
        "colab": {
          "base_uri": "https://localhost:8080/",
          "height": 0
        }
      },
      "execution_count": 60
    },
    {
      "cell_type": "markdown",
      "source": [
        "---\n"
      ],
      "metadata": {
        "id": "fm87V_5Yj-TR"
      }
    },
    {
      "outputs": [
        {
          "output_type": "execute_result",
          "data": {
            "text/plain": [
              "\u001b[1m4×7 DataFrame\n",
              "\u001b[1m Row │\u001b[1m Term  \u001b[1m Session \u001b[1m Subject \u001b[1m Catalog \u001b[1m ID     \u001b[1m Name            \u001b[1m Grade\n",
              "     │\u001b[90m Int64 \u001b[90m Int64   \u001b[90m String3 \u001b[90m Int64   \u001b[90m Int64  \u001b[90m String15        \u001b[90m String3?\n",
              "─────┼─────────────────────────────────────────────────────────────────────\n",
              "   1 │  1149        1  ACC          114  812315  Abernathy,Alice  A\n",
              "   2 │  1149        1  MTH          123  812315  Abernathy,Alice  C\n",
              "   3 │  1152        1  ENG          132  812315  Abernathy,Alice  A\n",
              "   4 │  1152        1  ENG          211  812315  Abernathy,Alice  B"
            ],
            "text/html": [
              "<div><div style = \"float: left;\"><span>4×7 DataFrame</span></div><div style = \"clear: both;\"></div></div><div class = \"data-frame\" style = \"overflow-x: scroll;\"><table class = \"data-frame\" style = \"margin-bottom: 6px;\"><thead><tr class = \"header\"><th class = \"rowNumber\" style = \"font-weight: bold; text-align: right;\">Row</th><th style = \"text-align: left;\">Term</th><th style = \"text-align: left;\">Session</th><th style = \"text-align: left;\">Subject</th><th style = \"text-align: left;\">Catalog</th><th style = \"text-align: left;\">ID</th><th style = \"text-align: left;\">Name</th><th style = \"text-align: left;\">Grade</th></tr><tr class = \"subheader headerLastRow\"><th class = \"rowNumber\" style = \"font-weight: bold; text-align: right;\"></th><th title = \"Int64\" style = \"text-align: left;\">Int64</th><th title = \"Int64\" style = \"text-align: left;\">Int64</th><th title = \"String3\" style = \"text-align: left;\">String3</th><th title = \"Int64\" style = \"text-align: left;\">Int64</th><th title = \"Int64\" style = \"text-align: left;\">Int64</th><th title = \"String15\" style = \"text-align: left;\">String15</th><th title = \"Union{Missing, String3}\" style = \"text-align: left;\">String3?</th></tr></thead><tbody><tr><td class = \"rowNumber\" style = \"font-weight: bold; text-align: right;\">1</td><td style = \"text-align: right;\">1149</td><td style = \"text-align: right;\">1</td><td style = \"text-align: left;\">ACC</td><td style = \"text-align: right;\">114</td><td style = \"text-align: right;\">812315</td><td style = \"text-align: left;\">Abernathy,Alice</td><td style = \"text-align: left;\">A</td></tr><tr><td class = \"rowNumber\" style = \"font-weight: bold; text-align: right;\">2</td><td style = \"text-align: right;\">1149</td><td style = \"text-align: right;\">1</td><td style = \"text-align: left;\">MTH</td><td style = \"text-align: right;\">123</td><td style = \"text-align: right;\">812315</td><td style = \"text-align: left;\">Abernathy,Alice</td><td style = \"text-align: left;\">C</td></tr><tr><td class = \"rowNumber\" style = \"font-weight: bold; text-align: right;\">3</td><td style = \"text-align: right;\">1152</td><td style = \"text-align: right;\">1</td><td style = \"text-align: left;\">ENG</td><td style = \"text-align: right;\">132</td><td style = \"text-align: right;\">812315</td><td style = \"text-align: left;\">Abernathy,Alice</td><td style = \"text-align: left;\">A</td></tr><tr><td class = \"rowNumber\" style = \"font-weight: bold; text-align: right;\">4</td><td style = \"text-align: right;\">1152</td><td style = \"text-align: right;\">1</td><td style = \"text-align: left;\">ENG</td><td style = \"text-align: right;\">211</td><td style = \"text-align: right;\">812315</td><td style = \"text-align: left;\">Abernathy,Alice</td><td style = \"text-align: left;\">B</td></tr></tbody></table></div>"
            ],
            "text/latex": "\\begin{tabular}{r|ccccccc}\n\t& Term & Session & Subject & Catalog & ID & Name & Grade\\\\\n\t\\hline\n\t& Int64 & Int64 & String3 & Int64 & Int64 & String15 & String3?\\\\\n\t\\hline\n\t1 & 1149 & 1 & ACC & 114 & 812315 & Abernathy,Alice & A \\\\\n\t2 & 1149 & 1 & MTH & 123 & 812315 & Abernathy,Alice & C \\\\\n\t3 & 1152 & 1 & ENG & 132 & 812315 & Abernathy,Alice & A \\\\\n\t4 & 1152 & 1 & ENG & 211 & 812315 & Abernathy,Alice & B \\\\\n\\end{tabular}\n"
          },
          "metadata": {},
          "execution_count": 61
        }
      ],
      "cell_type": "code",
      "source": [
        "# 💻 Apply `summarize_student` to the data frame for Alice created by subsetting the rows:\n",
        "df = studs[studs.Name .== \"Abernathy,Alice\",:]"
      ],
      "metadata": {
        "id": "JHoyn_Lkj-TR",
        "outputId": "bd5f584f-1af6-4511-9d8d-95b23ab3f1d1",
        "colab": {
          "base_uri": "https://localhost:8080/",
          "height": 186
        }
      },
      "execution_count": 61
    },
    {
      "outputs": [
        {
          "output_type": "execute_result",
          "data": {
            "text/plain": [
              "(F = 1149, L = 1152, N = 4, gpa = 3.25)"
            ]
          },
          "metadata": {},
          "execution_count": 62
        }
      ],
      "cell_type": "code",
      "source": [
        "summarize_student(df)"
      ],
      "metadata": {
        "id": "aqOh_Np4j-TR",
        "outputId": "fa7760b1-b216-482e-e8ea-cfd63c30bd0d",
        "colab": {
          "base_uri": "https://localhost:8080/",
          "height": 0
        }
      },
      "execution_count": 62
    },
    {
      "cell_type": "markdown",
      "source": [
        "---\n"
      ],
      "metadata": {
        "id": "9-Vufl_Zj-TR"
      }
    },
    {
      "cell_type": "markdown",
      "source": [
        "We can use the `groupby` function to split the data frame on an ID, call the above on each student, and then combine into a data frame.\n"
      ],
      "metadata": {
        "id": "Qn576KZNj-TR"
      }
    },
    {
      "cell_type": "markdown",
      "source": [
        "The `groupby` function splits the data:\n"
      ],
      "metadata": {
        "id": "aWkclEJ5j-TS"
      }
    },
    {
      "outputs": [
        {
          "output_type": "execute_result",
          "data": {
            "text/plain": [
              "GroupedDataFrame with 5 groups based on key: ID\n",
              "First Group (4 rows): ID = 812315\n",
              "\u001b[1m Row │\u001b[1m Term  \u001b[1m Session \u001b[1m Subject \u001b[1m Catalog \u001b[1m ID     \u001b[1m Name            \u001b[1m Grade\n",
              "     │\u001b[90m Int64 \u001b[90m Int64   \u001b[90m String3 \u001b[90m Int64   \u001b[90m Int64  \u001b[90m String15        \u001b[90m String3?\n",
              "─────┼─────────────────────────────────────────────────────────────────────\n",
              "   1 │  1149        1  ACC          114  812315  Abernathy,Alice  A\n",
              "   2 │  1149        1  MTH          123  812315  Abernathy,Alice  C\n",
              "   3 │  1152        1  ENG          132  812315  Abernathy,Alice  A\n",
              "   4 │  1152        1  ENG          211  812315  Abernathy,Alice  B\n",
              "⋮\n",
              "Last Group (1 row): ID = 659056\n",
              "\u001b[1m Row │\u001b[1m Term  \u001b[1m Session \u001b[1m Subject \u001b[1m Catalog \u001b[1m ID     \u001b[1m Name         \u001b[1m Grade\n",
              "     │\u001b[90m Int64 \u001b[90m Int64   \u001b[90m String3 \u001b[90m Int64   \u001b[90m Int64  \u001b[90m String15     \u001b[90m String3?\n",
              "─────┼──────────────────────────────────────────────────────────────────\n",
              "   1 │  1229        1  ENG          111  659056  Mallory,Yves \u001b[90m missing"
            ],
            "text/html": [
              "<p><b>GroupedDataFrame with 5 groups based on key: ID</b></p><div><div style = \"float: left;\"><span>First Group (4 rows): ID = 812315</span></div><div style = \"clear: both;\"></div></div><div class = \"data-frame\" style = \"overflow-x: scroll;\"><table class = \"data-frame\" style = \"margin-bottom: 6px;\"><thead><tr class = \"header\"><th class = \"rowNumber\" style = \"font-weight: bold; text-align: right;\">Row</th><th style = \"text-align: left;\">Term</th><th style = \"text-align: left;\">Session</th><th style = \"text-align: left;\">Subject</th><th style = \"text-align: left;\">Catalog</th><th style = \"text-align: left;\">ID</th><th style = \"text-align: left;\">Name</th><th style = \"text-align: left;\">Grade</th></tr><tr class = \"subheader headerLastRow\"><th class = \"rowNumber\" style = \"font-weight: bold; text-align: right;\"></th><th title = \"Int64\" style = \"text-align: left;\">Int64</th><th title = \"Int64\" style = \"text-align: left;\">Int64</th><th title = \"String3\" style = \"text-align: left;\">String3</th><th title = \"Int64\" style = \"text-align: left;\">Int64</th><th title = \"Int64\" style = \"text-align: left;\">Int64</th><th title = \"String15\" style = \"text-align: left;\">String15</th><th title = \"Union{Missing, String3}\" style = \"text-align: left;\">String3?</th></tr></thead><tbody><tr><td class = \"rowNumber\" style = \"font-weight: bold; text-align: right;\">1</td><td style = \"text-align: right;\">1149</td><td style = \"text-align: right;\">1</td><td style = \"text-align: left;\">ACC</td><td style = \"text-align: right;\">114</td><td style = \"text-align: right;\">812315</td><td style = \"text-align: left;\">Abernathy,Alice</td><td style = \"text-align: left;\">A</td></tr><tr><td class = \"rowNumber\" style = \"font-weight: bold; text-align: right;\">2</td><td style = \"text-align: right;\">1149</td><td style = \"text-align: right;\">1</td><td style = \"text-align: left;\">MTH</td><td style = \"text-align: right;\">123</td><td style = \"text-align: right;\">812315</td><td style = \"text-align: left;\">Abernathy,Alice</td><td style = \"text-align: left;\">C</td></tr><tr><td class = \"rowNumber\" style = \"font-weight: bold; text-align: right;\">3</td><td style = \"text-align: right;\">1152</td><td style = \"text-align: right;\">1</td><td style = \"text-align: left;\">ENG</td><td style = \"text-align: right;\">132</td><td style = \"text-align: right;\">812315</td><td style = \"text-align: left;\">Abernathy,Alice</td><td style = \"text-align: left;\">A</td></tr><tr><td class = \"rowNumber\" style = \"font-weight: bold; text-align: right;\">4</td><td style = \"text-align: right;\">1152</td><td style = \"text-align: right;\">1</td><td style = \"text-align: left;\">ENG</td><td style = \"text-align: right;\">211</td><td style = \"text-align: right;\">812315</td><td style = \"text-align: left;\">Abernathy,Alice</td><td style = \"text-align: left;\">B</td></tr></tbody></table></div><p>&vellip;</p><div><div style = \"float: left;\"><span>Last Group (1 row): ID = 659056</span></div><div style = \"clear: both;\"></div></div><div class = \"data-frame\" style = \"overflow-x: scroll;\"><table class = \"data-frame\" style = \"margin-bottom: 6px;\"><thead><tr class = \"header\"><th class = \"rowNumber\" style = \"font-weight: bold; text-align: right;\">Row</th><th style = \"text-align: left;\">Term</th><th style = \"text-align: left;\">Session</th><th style = \"text-align: left;\">Subject</th><th style = \"text-align: left;\">Catalog</th><th style = \"text-align: left;\">ID</th><th style = \"text-align: left;\">Name</th><th style = \"text-align: left;\">Grade</th></tr><tr class = \"subheader headerLastRow\"><th class = \"rowNumber\" style = \"font-weight: bold; text-align: right;\"></th><th title = \"Int64\" style = \"text-align: left;\">Int64</th><th title = \"Int64\" style = \"text-align: left;\">Int64</th><th title = \"String3\" style = \"text-align: left;\">String3</th><th title = \"Int64\" style = \"text-align: left;\">Int64</th><th title = \"Int64\" style = \"text-align: left;\">Int64</th><th title = \"String15\" style = \"text-align: left;\">String15</th><th title = \"Union{Missing, String3}\" style = \"text-align: left;\">String3?</th></tr></thead><tbody><tr><td class = \"rowNumber\" style = \"font-weight: bold; text-align: right;\">1</td><td style = \"text-align: right;\">1229</td><td style = \"text-align: right;\">1</td><td style = \"text-align: left;\">ENG</td><td style = \"text-align: right;\">111</td><td style = \"text-align: right;\">659056</td><td style = \"text-align: left;\">Mallory,Yves</td><td style = \"font-style: italic; text-align: left;\">missing</td></tr></tbody></table></div>"
            ],
            "text/latex": "GroupedDataFrame with 5 groups based on key: ID\n\nFirst Group (4 rows): ID = 812315\n\n\\begin{tabular}{r|ccccccc}\n\t& Term & Session & Subject & Catalog & ID & Name & Grade\\\\\n\t\\hline\n\t& Int64 & Int64 & String3 & Int64 & Int64 & String15 & String3?\\\\\n\t\\hline\n\t1 & 1149 & 1 & ACC & 114 & 812315 & Abernathy,Alice & A \\\\\n\t2 & 1149 & 1 & MTH & 123 & 812315 & Abernathy,Alice & C \\\\\n\t3 & 1152 & 1 & ENG & 132 & 812315 & Abernathy,Alice & A \\\\\n\t4 & 1152 & 1 & ENG & 211 & 812315 & Abernathy,Alice & B \\\\\n\\end{tabular}\n\n$\\dots$\n\nLast Group (1 row): ID = 659056\n\n\\begin{tabular}{r|ccccccc}\n\t& Term & Session & Subject & Catalog & ID & Name & Grade\\\\\n\t\\hline\n\t& Int64 & Int64 & String3 & Int64 & Int64 & String15 & String3?\\\\\n\t\\hline\n\t1 & 1229 & 1 & ENG & 111 & 659056 & Mallory,Yves & \\emph{missing} \\\\\n\\end{tabular}\n"
          },
          "metadata": {},
          "execution_count": 63
        }
      ],
      "cell_type": "code",
      "source": [
        "students = groupby(studs, :ID)"
      ],
      "metadata": {
        "id": "CRbdS0kkj-TS",
        "outputId": "8ceeecd6-5187-434c-8a81-1cea3ee4d325",
        "colab": {
          "base_uri": "https://localhost:8080/",
          "height": 350
        }
      },
      "execution_count": 63
    },
    {
      "cell_type": "markdown",
      "source": [
        "---\n"
      ],
      "metadata": {
        "id": "QUtxNwpIj-TS"
      }
    },
    {
      "outputs": [
        {
          "output_type": "execute_result",
          "data": {
            "text/plain": [
              "GroupedDataFrame with 5 groups based on key: Name\n",
              "First Group (4 rows): Name = \"Abernathy,Alice\"\n",
              "\u001b[1m Row │\u001b[1m Term  \u001b[1m Session \u001b[1m Subject \u001b[1m Catalog \u001b[1m ID     \u001b[1m Name            \u001b[1m Grade\n",
              "     │\u001b[90m Int64 \u001b[90m Int64   \u001b[90m String3 \u001b[90m Int64   \u001b[90m Int64  \u001b[90m String15        \u001b[90m String3?\n",
              "─────┼─────────────────────────────────────────────────────────────────────\n",
              "   1 │  1149        1  ACC          114  812315  Abernathy,Alice  A\n",
              "   2 │  1149        1  MTH          123  812315  Abernathy,Alice  C\n",
              "   3 │  1152        1  ENG          132  812315  Abernathy,Alice  A\n",
              "   4 │  1152        1  ENG          211  812315  Abernathy,Alice  B\n",
              "⋮\n",
              "Last Group (1 row): Name = \"Mallory,Yves\"\n",
              "\u001b[1m Row │\u001b[1m Term  \u001b[1m Session \u001b[1m Subject \u001b[1m Catalog \u001b[1m ID     \u001b[1m Name         \u001b[1m Grade\n",
              "     │\u001b[90m Int64 \u001b[90m Int64   \u001b[90m String3 \u001b[90m Int64   \u001b[90m Int64  \u001b[90m String15     \u001b[90m String3?\n",
              "─────┼──────────────────────────────────────────────────────────────────\n",
              "   1 │  1229        1  ENG          111  659056  Mallory,Yves \u001b[90m missing"
            ],
            "text/html": [
              "<p><b>GroupedDataFrame with 5 groups based on key: Name</b></p><div><div style = \"float: left;\"><span>First Group (4 rows): Name = &quot;Abernathy,Alice&quot;</span></div><div style = \"clear: both;\"></div></div><div class = \"data-frame\" style = \"overflow-x: scroll;\"><table class = \"data-frame\" style = \"margin-bottom: 6px;\"><thead><tr class = \"header\"><th class = \"rowNumber\" style = \"font-weight: bold; text-align: right;\">Row</th><th style = \"text-align: left;\">Term</th><th style = \"text-align: left;\">Session</th><th style = \"text-align: left;\">Subject</th><th style = \"text-align: left;\">Catalog</th><th style = \"text-align: left;\">ID</th><th style = \"text-align: left;\">Name</th><th style = \"text-align: left;\">Grade</th></tr><tr class = \"subheader headerLastRow\"><th class = \"rowNumber\" style = \"font-weight: bold; text-align: right;\"></th><th title = \"Int64\" style = \"text-align: left;\">Int64</th><th title = \"Int64\" style = \"text-align: left;\">Int64</th><th title = \"String3\" style = \"text-align: left;\">String3</th><th title = \"Int64\" style = \"text-align: left;\">Int64</th><th title = \"Int64\" style = \"text-align: left;\">Int64</th><th title = \"String15\" style = \"text-align: left;\">String15</th><th title = \"Union{Missing, String3}\" style = \"text-align: left;\">String3?</th></tr></thead><tbody><tr><td class = \"rowNumber\" style = \"font-weight: bold; text-align: right;\">1</td><td style = \"text-align: right;\">1149</td><td style = \"text-align: right;\">1</td><td style = \"text-align: left;\">ACC</td><td style = \"text-align: right;\">114</td><td style = \"text-align: right;\">812315</td><td style = \"text-align: left;\">Abernathy,Alice</td><td style = \"text-align: left;\">A</td></tr><tr><td class = \"rowNumber\" style = \"font-weight: bold; text-align: right;\">2</td><td style = \"text-align: right;\">1149</td><td style = \"text-align: right;\">1</td><td style = \"text-align: left;\">MTH</td><td style = \"text-align: right;\">123</td><td style = \"text-align: right;\">812315</td><td style = \"text-align: left;\">Abernathy,Alice</td><td style = \"text-align: left;\">C</td></tr><tr><td class = \"rowNumber\" style = \"font-weight: bold; text-align: right;\">3</td><td style = \"text-align: right;\">1152</td><td style = \"text-align: right;\">1</td><td style = \"text-align: left;\">ENG</td><td style = \"text-align: right;\">132</td><td style = \"text-align: right;\">812315</td><td style = \"text-align: left;\">Abernathy,Alice</td><td style = \"text-align: left;\">A</td></tr><tr><td class = \"rowNumber\" style = \"font-weight: bold; text-align: right;\">4</td><td style = \"text-align: right;\">1152</td><td style = \"text-align: right;\">1</td><td style = \"text-align: left;\">ENG</td><td style = \"text-align: right;\">211</td><td style = \"text-align: right;\">812315</td><td style = \"text-align: left;\">Abernathy,Alice</td><td style = \"text-align: left;\">B</td></tr></tbody></table></div><p>&vellip;</p><div><div style = \"float: left;\"><span>Last Group (1 row): Name = &quot;Mallory,Yves&quot;</span></div><div style = \"clear: both;\"></div></div><div class = \"data-frame\" style = \"overflow-x: scroll;\"><table class = \"data-frame\" style = \"margin-bottom: 6px;\"><thead><tr class = \"header\"><th class = \"rowNumber\" style = \"font-weight: bold; text-align: right;\">Row</th><th style = \"text-align: left;\">Term</th><th style = \"text-align: left;\">Session</th><th style = \"text-align: left;\">Subject</th><th style = \"text-align: left;\">Catalog</th><th style = \"text-align: left;\">ID</th><th style = \"text-align: left;\">Name</th><th style = \"text-align: left;\">Grade</th></tr><tr class = \"subheader headerLastRow\"><th class = \"rowNumber\" style = \"font-weight: bold; text-align: right;\"></th><th title = \"Int64\" style = \"text-align: left;\">Int64</th><th title = \"Int64\" style = \"text-align: left;\">Int64</th><th title = \"String3\" style = \"text-align: left;\">String3</th><th title = \"Int64\" style = \"text-align: left;\">Int64</th><th title = \"Int64\" style = \"text-align: left;\">Int64</th><th title = \"String15\" style = \"text-align: left;\">String15</th><th title = \"Union{Missing, String3}\" style = \"text-align: left;\">String3?</th></tr></thead><tbody><tr><td class = \"rowNumber\" style = \"font-weight: bold; text-align: right;\">1</td><td style = \"text-align: right;\">1229</td><td style = \"text-align: right;\">1</td><td style = \"text-align: left;\">ENG</td><td style = \"text-align: right;\">111</td><td style = \"text-align: right;\">659056</td><td style = \"text-align: left;\">Mallory,Yves</td><td style = \"font-style: italic; text-align: left;\">missing</td></tr></tbody></table></div>"
            ],
            "text/latex": "GroupedDataFrame with 5 groups based on key: Name\n\nFirst Group (4 rows): Name = \"Abernathy,Alice\"\n\n\\begin{tabular}{r|ccccccc}\n\t& Term & Session & Subject & Catalog & ID & Name & Grade\\\\\n\t\\hline\n\t& Int64 & Int64 & String3 & Int64 & Int64 & String15 & String3?\\\\\n\t\\hline\n\t1 & 1149 & 1 & ACC & 114 & 812315 & Abernathy,Alice & A \\\\\n\t2 & 1149 & 1 & MTH & 123 & 812315 & Abernathy,Alice & C \\\\\n\t3 & 1152 & 1 & ENG & 132 & 812315 & Abernathy,Alice & A \\\\\n\t4 & 1152 & 1 & ENG & 211 & 812315 & Abernathy,Alice & B \\\\\n\\end{tabular}\n\n$\\dots$\n\nLast Group (1 row): Name = \"Mallory,Yves\"\n\n\\begin{tabular}{r|ccccccc}\n\t& Term & Session & Subject & Catalog & ID & Name & Grade\\\\\n\t\\hline\n\t& Int64 & Int64 & String3 & Int64 & Int64 & String15 & String3?\\\\\n\t\\hline\n\t1 & 1229 & 1 & ENG & 111 & 659056 & Mallory,Yves & \\emph{missing} \\\\\n\\end{tabular}\n"
          },
          "metadata": {},
          "execution_count": 64
        }
      ],
      "cell_type": "code",
      "source": [
        "# 💻 Group the data by the student name\n",
        "groupby(studs, :Name)"
      ],
      "metadata": {
        "id": "AZohlJN9j-TS",
        "outputId": "07efda4a-925d-49e6-d7b7-36511c2d1409",
        "colab": {
          "base_uri": "https://localhost:8080/",
          "height": 350
        }
      },
      "execution_count": 64
    },
    {
      "cell_type": "markdown",
      "source": [
        "---\n"
      ],
      "metadata": {
        "id": "v2E1Z_6Vj-TT"
      }
    },
    {
      "cell_type": "markdown",
      "source": [
        "The `GroupedDataFrame` object can be iterated over (but not broadcast over). Here we apply our function to each entry:\n"
      ],
      "metadata": {
        "id": "2F1oaXH0j-TT"
      }
    },
    {
      "outputs": [
        {
          "output_type": "execute_result",
          "data": {
            "text/plain": [
              "5-element Vector{NamedTuple{(:F, :L, :N, :gpa)}}:\n",
              " (F = 1149, L = 1152, N = 4, gpa = 3.25)\n",
              " (F = 1169, L = 1182, N = 7, gpa = 3.142857142857143)\n",
              " (F = 1192, L = 1229, N = 6, gpa = 4.0)\n",
              " (F = 1229, L = 1229, N = 2, gpa = missing)\n",
              " (F = 1229, L = 1229, N = 1, gpa = missing)"
            ]
          },
          "metadata": {},
          "execution_count": 65
        }
      ],
      "cell_type": "code",
      "source": [
        "student_summaries = [summarize_student(student) for student ∈ students]"
      ],
      "metadata": {
        "id": "qI-GpQUGj-TT",
        "outputId": "fc5308c0-b167-4bf3-c8e5-7975c36ef395",
        "colab": {
          "base_uri": "https://localhost:8080/",
          "height": 0
        }
      },
      "execution_count": 65
    },
    {
      "cell_type": "markdown",
      "source": [
        "The `DataFrame` constructor can consume an array of named tuples that is produced by the comprehension, treating each tuple as a new row:\n"
      ],
      "metadata": {
        "id": "u6KwZuEcj-TT"
      }
    },
    {
      "outputs": [
        {
          "output_type": "execute_result",
          "data": {
            "text/plain": [
              "\u001b[1m5×4 DataFrame\n",
              "\u001b[1m Row │\u001b[1m F     \u001b[1m L     \u001b[1m N     \u001b[1m gpa\n",
              "     │\u001b[90m Int64 \u001b[90m Int64 \u001b[90m Int64 \u001b[90m Float64?\n",
              "─────┼────────────────────────────────────\n",
              "   1 │  1149   1152      4        3.25\n",
              "   2 │  1169   1182      7        3.14286\n",
              "   3 │  1192   1229      6        4.0\n",
              "   4 │  1229   1229      2 \u001b[90m missing\n",
              "   5 │  1229   1229      1 \u001b[90m missing"
            ],
            "text/html": [
              "<div><div style = \"float: left;\"><span>5×4 DataFrame</span></div><div style = \"clear: both;\"></div></div><div class = \"data-frame\" style = \"overflow-x: scroll;\"><table class = \"data-frame\" style = \"margin-bottom: 6px;\"><thead><tr class = \"header\"><th class = \"rowNumber\" style = \"font-weight: bold; text-align: right;\">Row</th><th style = \"text-align: left;\">F</th><th style = \"text-align: left;\">L</th><th style = \"text-align: left;\">N</th><th style = \"text-align: left;\">gpa</th></tr><tr class = \"subheader headerLastRow\"><th class = \"rowNumber\" style = \"font-weight: bold; text-align: right;\"></th><th title = \"Int64\" style = \"text-align: left;\">Int64</th><th title = \"Int64\" style = \"text-align: left;\">Int64</th><th title = \"Int64\" style = \"text-align: left;\">Int64</th><th title = \"Union{Missing, Float64}\" style = \"text-align: left;\">Float64?</th></tr></thead><tbody><tr><td class = \"rowNumber\" style = \"font-weight: bold; text-align: right;\">1</td><td style = \"text-align: right;\">1149</td><td style = \"text-align: right;\">1152</td><td style = \"text-align: right;\">4</td><td style = \"text-align: right;\">3.25</td></tr><tr><td class = \"rowNumber\" style = \"font-weight: bold; text-align: right;\">2</td><td style = \"text-align: right;\">1169</td><td style = \"text-align: right;\">1182</td><td style = \"text-align: right;\">7</td><td style = \"text-align: right;\">3.14286</td></tr><tr><td class = \"rowNumber\" style = \"font-weight: bold; text-align: right;\">3</td><td style = \"text-align: right;\">1192</td><td style = \"text-align: right;\">1229</td><td style = \"text-align: right;\">6</td><td style = \"text-align: right;\">4.0</td></tr><tr><td class = \"rowNumber\" style = \"font-weight: bold; text-align: right;\">4</td><td style = \"text-align: right;\">1229</td><td style = \"text-align: right;\">1229</td><td style = \"text-align: right;\">2</td><td style = \"font-style: italic; text-align: right;\">missing</td></tr><tr><td class = \"rowNumber\" style = \"font-weight: bold; text-align: right;\">5</td><td style = \"text-align: right;\">1229</td><td style = \"text-align: right;\">1229</td><td style = \"text-align: right;\">1</td><td style = \"font-style: italic; text-align: right;\">missing</td></tr></tbody></table></div>"
            ],
            "text/latex": "\\begin{tabular}{r|cccc}\n\t& F & L & N & gpa\\\\\n\t\\hline\n\t& Int64 & Int64 & Int64 & Float64?\\\\\n\t\\hline\n\t1 & 1149 & 1152 & 4 & 3.25 \\\\\n\t2 & 1169 & 1182 & 7 & 3.14286 \\\\\n\t3 & 1192 & 1229 & 6 & 4.0 \\\\\n\t4 & 1229 & 1229 & 2 & \\emph{missing} \\\\\n\t5 & 1229 & 1229 & 1 & \\emph{missing} \\\\\n\\end{tabular}\n"
          },
          "metadata": {},
          "execution_count": 66
        }
      ],
      "cell_type": "code",
      "source": [
        "d = DataFrame(student_summaries)"
      ],
      "metadata": {
        "id": "ZUcy10bVj-TT",
        "outputId": "ae485b80-89b8-4224-adfc-a15b03cef905",
        "colab": {
          "base_uri": "https://localhost:8080/",
          "height": 207
        }
      },
      "execution_count": 66
    },
    {
      "cell_type": "markdown",
      "source": [
        "### DataFrames mini language\n"
      ],
      "metadata": {
        "internals": {
          "slide_type": "subslide"
        },
        "slide_helper": "slide_end",
        "id": "qHE_yvGfj-TT"
      }
    },
    {
      "cell_type": "markdown",
      "source": [
        "DataFrames provides a minilanguage to support the actions:\n"
      ],
      "metadata": {
        "id": "rCKk21duj-TT"
      }
    },
    {
      "cell_type": "markdown",
      "source": [
        "  * `combine`: create a new data frame with columns coming from transformations\n",
        "  * `select`: create a new data frame with same number of rows (cases) with only the specified columns\n",
        "  * `transform`: create a new data frame, as `select` with the same number of cases, but keeps original columns and any additional ones\n"
      ],
      "metadata": {
        "id": "LbhrjEgKj-TU"
      }
    },
    {
      "cell_type": "markdown",
      "source": [
        "Transformations apply a function to source rows and store the result(s) in destination rows. The `=>` pair notation is used to separate. The pattern is\n"
      ],
      "metadata": {
        "id": "txmnkvPjj-TU"
      }
    },
    {
      "outputs": [],
      "cell_type": "code",
      "source": [
        "# source column(s) specifier => function => destination column(s) specifier"
      ],
      "metadata": {
        "id": "8GUYbYQDj-TU"
      },
      "execution_count": 67
    },
    {
      "cell_type": "markdown",
      "source": [
        "The middle one is a function, which may be an anonymous function, in which case parentheses may be needed due to operator precedence.)\n"
      ],
      "metadata": {
        "id": "Df1WX0uQj-TU"
      }
    },
    {
      "cell_type": "markdown",
      "source": [
        "For example, in the below we will see `:Term => minimum => :F` which will apply the `minimum` function to each `Term` value in a data frame. The `minimum` function is a *reduction* returning a scalar, this will be stored in the computed data frame with variable name `F`. Similarly we have `:L` and `:N` computed:\n"
      ],
      "metadata": {
        "id": "APnbqKrEj-TU"
      }
    },
    {
      "outputs": [
        {
          "output_type": "execute_result",
          "data": {
            "text/plain": [
              "\u001b[1m5×5 DataFrame\n",
              "\u001b[1m Row │\u001b[1m ID     \u001b[1m F     \u001b[1m L     \u001b[1m N     \u001b[1m gpa\n",
              "     │\u001b[90m Int64  \u001b[90m Int64 \u001b[90m Int64 \u001b[90m Int64 \u001b[90m Float64?\n",
              "─────┼────────────────────────────────────────────\n",
              "   1 │ 812315   1149   1152      4        3.25\n",
              "   2 │ 889995   1169   1182      7        3.14286\n",
              "   3 │ 163486   1192   1229      6        4.0\n",
              "   4 │ 185109   1229   1229      2 \u001b[90m missing\n",
              "   5 │ 659056   1229   1229      1 \u001b[90m missing"
            ],
            "text/html": [
              "<div><div style = \"float: left;\"><span>5×5 DataFrame</span></div><div style = \"clear: both;\"></div></div><div class = \"data-frame\" style = \"overflow-x: scroll;\"><table class = \"data-frame\" style = \"margin-bottom: 6px;\"><thead><tr class = \"header\"><th class = \"rowNumber\" style = \"font-weight: bold; text-align: right;\">Row</th><th style = \"text-align: left;\">ID</th><th style = \"text-align: left;\">F</th><th style = \"text-align: left;\">L</th><th style = \"text-align: left;\">N</th><th style = \"text-align: left;\">gpa</th></tr><tr class = \"subheader headerLastRow\"><th class = \"rowNumber\" style = \"font-weight: bold; text-align: right;\"></th><th title = \"Int64\" style = \"text-align: left;\">Int64</th><th title = \"Int64\" style = \"text-align: left;\">Int64</th><th title = \"Int64\" style = \"text-align: left;\">Int64</th><th title = \"Int64\" style = \"text-align: left;\">Int64</th><th title = \"Union{Missing, Float64}\" style = \"text-align: left;\">Float64?</th></tr></thead><tbody><tr><td class = \"rowNumber\" style = \"font-weight: bold; text-align: right;\">1</td><td style = \"text-align: right;\">812315</td><td style = \"text-align: right;\">1149</td><td style = \"text-align: right;\">1152</td><td style = \"text-align: right;\">4</td><td style = \"text-align: right;\">3.25</td></tr><tr><td class = \"rowNumber\" style = \"font-weight: bold; text-align: right;\">2</td><td style = \"text-align: right;\">889995</td><td style = \"text-align: right;\">1169</td><td style = \"text-align: right;\">1182</td><td style = \"text-align: right;\">7</td><td style = \"text-align: right;\">3.14286</td></tr><tr><td class = \"rowNumber\" style = \"font-weight: bold; text-align: right;\">3</td><td style = \"text-align: right;\">163486</td><td style = \"text-align: right;\">1192</td><td style = \"text-align: right;\">1229</td><td style = \"text-align: right;\">6</td><td style = \"text-align: right;\">4.0</td></tr><tr><td class = \"rowNumber\" style = \"font-weight: bold; text-align: right;\">4</td><td style = \"text-align: right;\">185109</td><td style = \"text-align: right;\">1229</td><td style = \"text-align: right;\">1229</td><td style = \"text-align: right;\">2</td><td style = \"font-style: italic; text-align: right;\">missing</td></tr><tr><td class = \"rowNumber\" style = \"font-weight: bold; text-align: right;\">5</td><td style = \"text-align: right;\">659056</td><td style = \"text-align: right;\">1229</td><td style = \"text-align: right;\">1229</td><td style = \"text-align: right;\">1</td><td style = \"font-style: italic; text-align: right;\">missing</td></tr></tbody></table></div>"
            ],
            "text/latex": "\\begin{tabular}{r|ccccc}\n\t& ID & F & L & N & gpa\\\\\n\t\\hline\n\t& Int64 & Int64 & Int64 & Int64 & Float64?\\\\\n\t\\hline\n\t1 & 812315 & 1149 & 1152 & 4 & 3.25 \\\\\n\t2 & 889995 & 1169 & 1182 & 7 & 3.14286 \\\\\n\t3 & 163486 & 1192 & 1229 & 6 & 4.0 \\\\\n\t4 & 185109 & 1229 & 1229 & 2 & \\emph{missing} \\\\\n\t5 & 659056 & 1229 & 1229 & 1 & \\emph{missing} \\\\\n\\end{tabular}\n"
          },
          "metadata": {},
          "execution_count": 68
        }
      ],
      "cell_type": "code",
      "source": [
        "students = groupby(studs, :ID)\n",
        "combine(students,\n",
        "        :Term => minimum => :F,\n",
        "        :Term => maximum => :L,\n",
        "        :Term => length => :N,\n",
        "        :Grade => gpa => :gpa)"
      ],
      "metadata": {
        "id": "UIqZBUkbj-TU",
        "outputId": "1a4857de-a891-4627-95b8-219941563a15",
        "colab": {
          "base_uri": "https://localhost:8080/",
          "height": 207
        }
      },
      "execution_count": 68
    },
    {
      "cell_type": "markdown",
      "source": [
        "---\n"
      ],
      "metadata": {
        "id": "0o8GG72Zj-TU"
      }
    },
    {
      "outputs": [
        {
          "output_type": "execute_result",
          "data": {
            "text/plain": [
              "\u001b[1m10×2 DataFrame\n",
              "\u001b[1m Row │\u001b[1m Term  \u001b[1m gpa\n",
              "     │\u001b[90m Int64 \u001b[90m Float64?\n",
              "─────┼───────────────────\n",
              "   1 │  1149        3.0\n",
              "   2 │  1152        3.5\n",
              "   3 │  1169        4.0\n",
              "   4 │  1172        3.35\n",
              "   5 │  1179        2.0\n",
              "   6 │  1182        3.3\n",
              "   7 │  1192        4.0\n",
              "   8 │  1199        4.0\n",
              "   9 │  1202 \u001b[90m missing\n",
              "  10 │  1229 \u001b[90m missing"
            ],
            "text/html": [
              "<div><div style = \"float: left;\"><span>10×2 DataFrame</span></div><div style = \"clear: both;\"></div></div><div class = \"data-frame\" style = \"overflow-x: scroll;\"><table class = \"data-frame\" style = \"margin-bottom: 6px;\"><thead><tr class = \"header\"><th class = \"rowNumber\" style = \"font-weight: bold; text-align: right;\">Row</th><th style = \"text-align: left;\">Term</th><th style = \"text-align: left;\">gpa</th></tr><tr class = \"subheader headerLastRow\"><th class = \"rowNumber\" style = \"font-weight: bold; text-align: right;\"></th><th title = \"Int64\" style = \"text-align: left;\">Int64</th><th title = \"Union{Missing, Float64}\" style = \"text-align: left;\">Float64?</th></tr></thead><tbody><tr><td class = \"rowNumber\" style = \"font-weight: bold; text-align: right;\">1</td><td style = \"text-align: right;\">1149</td><td style = \"text-align: right;\">3.0</td></tr><tr><td class = \"rowNumber\" style = \"font-weight: bold; text-align: right;\">2</td><td style = \"text-align: right;\">1152</td><td style = \"text-align: right;\">3.5</td></tr><tr><td class = \"rowNumber\" style = \"font-weight: bold; text-align: right;\">3</td><td style = \"text-align: right;\">1169</td><td style = \"text-align: right;\">4.0</td></tr><tr><td class = \"rowNumber\" style = \"font-weight: bold; text-align: right;\">4</td><td style = \"text-align: right;\">1172</td><td style = \"text-align: right;\">3.35</td></tr><tr><td class = \"rowNumber\" style = \"font-weight: bold; text-align: right;\">5</td><td style = \"text-align: right;\">1179</td><td style = \"text-align: right;\">2.0</td></tr><tr><td class = \"rowNumber\" style = \"font-weight: bold; text-align: right;\">6</td><td style = \"text-align: right;\">1182</td><td style = \"text-align: right;\">3.3</td></tr><tr><td class = \"rowNumber\" style = \"font-weight: bold; text-align: right;\">7</td><td style = \"text-align: right;\">1192</td><td style = \"text-align: right;\">4.0</td></tr><tr><td class = \"rowNumber\" style = \"font-weight: bold; text-align: right;\">8</td><td style = \"text-align: right;\">1199</td><td style = \"text-align: right;\">4.0</td></tr><tr><td class = \"rowNumber\" style = \"font-weight: bold; text-align: right;\">9</td><td style = \"text-align: right;\">1202</td><td style = \"font-style: italic; text-align: right;\">missing</td></tr><tr><td class = \"rowNumber\" style = \"font-weight: bold; text-align: right;\">10</td><td style = \"text-align: right;\">1229</td><td style = \"font-style: italic; text-align: right;\">missing</td></tr></tbody></table></div>"
            ],
            "text/latex": "\\begin{tabular}{r|cc}\n\t& Term & gpa\\\\\n\t\\hline\n\t& Int64 & Float64?\\\\\n\t\\hline\n\t1 & 1149 & 3.0 \\\\\n\t2 & 1152 & 3.5 \\\\\n\t3 & 1169 & 4.0 \\\\\n\t4 & 1172 & 3.35 \\\\\n\t5 & 1179 & 2.0 \\\\\n\t6 & 1182 & 3.3 \\\\\n\t7 & 1192 & 4.0 \\\\\n\t8 & 1199 & 4.0 \\\\\n\t9 & 1202 & \\emph{missing} \\\\\n\t10 & 1229 & \\emph{missing} \\\\\n\\end{tabular}\n"
          },
          "metadata": {},
          "execution_count": 69
        }
      ],
      "cell_type": "code",
      "source": [
        "# 💻 group studs by :Term then apply `gpa`. Which term has the lowest gpa in the mock data set?\n",
        "combine(groupby(studs, :Term), :Grade => gpa => :gpa)"
      ],
      "metadata": {
        "id": "LICOXTWHj-TV",
        "outputId": "24945987-0e37-419e-bdcb-a6d68e21f4f0",
        "colab": {
          "base_uri": "https://localhost:8080/",
          "height": 313
        }
      },
      "execution_count": 69
    },
    {
      "cell_type": "markdown",
      "source": [
        "---\n"
      ],
      "metadata": {
        "id": "AzpSfQQ4j-TV"
      }
    },
    {
      "cell_type": "markdown",
      "source": [
        "## Transforming data examples\n"
      ],
      "metadata": {
        "internals": {
          "slide_type": "subslide",
          "slide_helper": "subslide_end"
        },
        "slide_helper": "slide_end",
        "id": "Y9rBF8ltj-TV"
      }
    },
    {
      "cell_type": "markdown",
      "source": [
        "We continue with a larger set of randomly generated mock data. Here we read the data from an internet source, so first the built-in `download` function is called to download the file,\n"
      ],
      "metadata": {
        "id": "F4f4U1woj-TV"
      }
    },
    {
      "outputs": [
        {
          "output_type": "execute_result",
          "data": {
            "text/plain": [
              "\u001b[1m15323×4 DataFrame\n",
              "\u001b[1m   Row │\u001b[1m F     \u001b[1m L     \u001b[1m N     \u001b[1m gpa\n",
              "       │\u001b[90m Int64 \u001b[90m Int64 \u001b[90m Int64 \u001b[90m Float64?\n",
              "───────┼─────────────────────────────────\n",
              "     1 │  1112   1112      8        0.6\n",
              "     2 │  1112   1132     24        3.85\n",
              "     3 │  1112   1132     23        3.35\n",
              "     4 │  1112   1159     44        2.65\n",
              "     5 │  1112   1149     14        4.04\n",
              "     6 │  1112   1119     13        2.75\n",
              "     7 │  1112   1122     12        1.31\n",
              "     8 │  1112   1112      7        3.53\n",
              "     9 │  1112   1112      5        3.8\n",
              "    10 │  1112   1112      6 \u001b[90m missing\n",
              "    11 │  1112   1139     23        3.22\n",
              "   ⋮   │   ⋮      ⋮      ⋮        ⋮\n",
              " 15314 │  1229   1229      8 \u001b[90m missing\n",
              " 15315 │  1229   1229      8 \u001b[90m missing\n",
              " 15316 │  1229   1229     12 \u001b[90m missing\n",
              " 15317 │  1229   1229      8 \u001b[90m missing\n",
              " 15318 │  1229   1229      9 \u001b[90m missing\n",
              " 15319 │  1229   1229      9 \u001b[90m missing\n",
              " 15320 │  1229   1229      8 \u001b[90m missing\n",
              " 15321 │  1229   1229      9 \u001b[90m missing\n",
              " 15322 │  1229   1229      6 \u001b[90m missing\n",
              " 15323 │  1229   1229      7 \u001b[90m missing\n",
              "\u001b[36m                       15302 rows omitted"
            ],
            "text/html": [
              "<div><div style = \"float: left;\"><span>15323×4 DataFrame</span></div><div style = \"float: right;\"><span style = \"font-style: italic;\">15298 rows omitted</span></div><div style = \"clear: both;\"></div></div><div class = \"data-frame\" style = \"overflow-x: scroll;\"><table class = \"data-frame\" style = \"margin-bottom: 6px;\"><thead><tr class = \"header\"><th class = \"rowNumber\" style = \"font-weight: bold; text-align: right;\">Row</th><th style = \"text-align: left;\">F</th><th style = \"text-align: left;\">L</th><th style = \"text-align: left;\">N</th><th style = \"text-align: left;\">gpa</th></tr><tr class = \"subheader headerLastRow\"><th class = \"rowNumber\" style = \"font-weight: bold; text-align: right;\"></th><th title = \"Int64\" style = \"text-align: left;\">Int64</th><th title = \"Int64\" style = \"text-align: left;\">Int64</th><th title = \"Int64\" style = \"text-align: left;\">Int64</th><th title = \"Union{Missing, Float64}\" style = \"text-align: left;\">Float64?</th></tr></thead><tbody><tr><td class = \"rowNumber\" style = \"font-weight: bold; text-align: right;\">1</td><td style = \"text-align: right;\">1112</td><td style = \"text-align: right;\">1112</td><td style = \"text-align: right;\">8</td><td style = \"text-align: right;\">0.6</td></tr><tr><td class = \"rowNumber\" style = \"font-weight: bold; text-align: right;\">2</td><td style = \"text-align: right;\">1112</td><td style = \"text-align: right;\">1132</td><td style = \"text-align: right;\">24</td><td style = \"text-align: right;\">3.85</td></tr><tr><td class = \"rowNumber\" style = \"font-weight: bold; text-align: right;\">3</td><td style = \"text-align: right;\">1112</td><td style = \"text-align: right;\">1132</td><td style = \"text-align: right;\">23</td><td style = \"text-align: right;\">3.35</td></tr><tr><td class = \"rowNumber\" style = \"font-weight: bold; text-align: right;\">4</td><td style = \"text-align: right;\">1112</td><td style = \"text-align: right;\">1159</td><td style = \"text-align: right;\">44</td><td style = \"text-align: right;\">2.65</td></tr><tr><td class = \"rowNumber\" style = \"font-weight: bold; text-align: right;\">5</td><td style = \"text-align: right;\">1112</td><td style = \"text-align: right;\">1149</td><td style = \"text-align: right;\">14</td><td style = \"text-align: right;\">4.04</td></tr><tr><td class = \"rowNumber\" style = \"font-weight: bold; text-align: right;\">6</td><td style = \"text-align: right;\">1112</td><td style = \"text-align: right;\">1119</td><td style = \"text-align: right;\">13</td><td style = \"text-align: right;\">2.75</td></tr><tr><td class = \"rowNumber\" style = \"font-weight: bold; text-align: right;\">7</td><td style = \"text-align: right;\">1112</td><td style = \"text-align: right;\">1122</td><td style = \"text-align: right;\">12</td><td style = \"text-align: right;\">1.31</td></tr><tr><td class = \"rowNumber\" style = \"font-weight: bold; text-align: right;\">8</td><td style = \"text-align: right;\">1112</td><td style = \"text-align: right;\">1112</td><td style = \"text-align: right;\">7</td><td style = \"text-align: right;\">3.53</td></tr><tr><td class = \"rowNumber\" style = \"font-weight: bold; text-align: right;\">9</td><td style = \"text-align: right;\">1112</td><td style = \"text-align: right;\">1112</td><td style = \"text-align: right;\">5</td><td style = \"text-align: right;\">3.8</td></tr><tr><td class = \"rowNumber\" style = \"font-weight: bold; text-align: right;\">10</td><td style = \"text-align: right;\">1112</td><td style = \"text-align: right;\">1112</td><td style = \"text-align: right;\">6</td><td style = \"font-style: italic; text-align: right;\">missing</td></tr><tr><td class = \"rowNumber\" style = \"font-weight: bold; text-align: right;\">11</td><td style = \"text-align: right;\">1112</td><td style = \"text-align: right;\">1139</td><td style = \"text-align: right;\">23</td><td style = \"text-align: right;\">3.22</td></tr><tr><td class = \"rowNumber\" style = \"font-weight: bold; text-align: right;\">12</td><td style = \"text-align: right;\">1112</td><td style = \"text-align: right;\">1162</td><td style = \"text-align: right;\">16</td><td style = \"text-align: right;\">3.48</td></tr><tr><td class = \"rowNumber\" style = \"font-weight: bold; text-align: right;\">13</td><td style = \"text-align: right;\">1112</td><td style = \"text-align: right;\">1122</td><td style = \"text-align: right;\">22</td><td style = \"text-align: right;\">3.4</td></tr><tr><td style = \"text-align: right;\">&vellip;</td><td style = \"text-align: right;\">&vellip;</td><td style = \"text-align: right;\">&vellip;</td><td style = \"text-align: right;\">&vellip;</td><td style = \"text-align: right;\">&vellip;</td></tr><tr><td class = \"rowNumber\" style = \"font-weight: bold; text-align: right;\">15312</td><td style = \"text-align: right;\">1229</td><td style = \"text-align: right;\">1229</td><td style = \"text-align: right;\">9</td><td style = \"font-style: italic; text-align: right;\">missing</td></tr><tr><td class = \"rowNumber\" style = \"font-weight: bold; text-align: right;\">15313</td><td style = \"text-align: right;\">1229</td><td style = \"text-align: right;\">1229</td><td style = \"text-align: right;\">6</td><td style = \"font-style: italic; text-align: right;\">missing</td></tr><tr><td class = \"rowNumber\" style = \"font-weight: bold; text-align: right;\">15314</td><td style = \"text-align: right;\">1229</td><td style = \"text-align: right;\">1229</td><td style = \"text-align: right;\">8</td><td style = \"font-style: italic; text-align: right;\">missing</td></tr><tr><td class = \"rowNumber\" style = \"font-weight: bold; text-align: right;\">15315</td><td style = \"text-align: right;\">1229</td><td style = \"text-align: right;\">1229</td><td style = \"text-align: right;\">8</td><td style = \"font-style: italic; text-align: right;\">missing</td></tr><tr><td class = \"rowNumber\" style = \"font-weight: bold; text-align: right;\">15316</td><td style = \"text-align: right;\">1229</td><td style = \"text-align: right;\">1229</td><td style = \"text-align: right;\">12</td><td style = \"font-style: italic; text-align: right;\">missing</td></tr><tr><td class = \"rowNumber\" style = \"font-weight: bold; text-align: right;\">15317</td><td style = \"text-align: right;\">1229</td><td style = \"text-align: right;\">1229</td><td style = \"text-align: right;\">8</td><td style = \"font-style: italic; text-align: right;\">missing</td></tr><tr><td class = \"rowNumber\" style = \"font-weight: bold; text-align: right;\">15318</td><td style = \"text-align: right;\">1229</td><td style = \"text-align: right;\">1229</td><td style = \"text-align: right;\">9</td><td style = \"font-style: italic; text-align: right;\">missing</td></tr><tr><td class = \"rowNumber\" style = \"font-weight: bold; text-align: right;\">15319</td><td style = \"text-align: right;\">1229</td><td style = \"text-align: right;\">1229</td><td style = \"text-align: right;\">9</td><td style = \"font-style: italic; text-align: right;\">missing</td></tr><tr><td class = \"rowNumber\" style = \"font-weight: bold; text-align: right;\">15320</td><td style = \"text-align: right;\">1229</td><td style = \"text-align: right;\">1229</td><td style = \"text-align: right;\">8</td><td style = \"font-style: italic; text-align: right;\">missing</td></tr><tr><td class = \"rowNumber\" style = \"font-weight: bold; text-align: right;\">15321</td><td style = \"text-align: right;\">1229</td><td style = \"text-align: right;\">1229</td><td style = \"text-align: right;\">9</td><td style = \"font-style: italic; text-align: right;\">missing</td></tr><tr><td class = \"rowNumber\" style = \"font-weight: bold; text-align: right;\">15322</td><td style = \"text-align: right;\">1229</td><td style = \"text-align: right;\">1229</td><td style = \"text-align: right;\">6</td><td style = \"font-style: italic; text-align: right;\">missing</td></tr><tr><td class = \"rowNumber\" style = \"font-weight: bold; text-align: right;\">15323</td><td style = \"text-align: right;\">1229</td><td style = \"text-align: right;\">1229</td><td style = \"text-align: right;\">7</td><td style = \"font-style: italic; text-align: right;\">missing</td></tr></tbody></table></div>"
            ],
            "text/latex": "\\begin{tabular}{r|cccc}\n\t& F & L & N & gpa\\\\\n\t\\hline\n\t& Int64 & Int64 & Int64 & Float64?\\\\\n\t\\hline\n\t1 & 1112 & 1112 & 8 & 0.6 \\\\\n\t2 & 1112 & 1132 & 24 & 3.85 \\\\\n\t3 & 1112 & 1132 & 23 & 3.35 \\\\\n\t4 & 1112 & 1159 & 44 & 2.65 \\\\\n\t5 & 1112 & 1149 & 14 & 4.04 \\\\\n\t6 & 1112 & 1119 & 13 & 2.75 \\\\\n\t7 & 1112 & 1122 & 12 & 1.31 \\\\\n\t8 & 1112 & 1112 & 7 & 3.53 \\\\\n\t9 & 1112 & 1112 & 5 & 3.8 \\\\\n\t10 & 1112 & 1112 & 6 & \\emph{missing} \\\\\n\t11 & 1112 & 1139 & 23 & 3.22 \\\\\n\t12 & 1112 & 1162 & 16 & 3.48 \\\\\n\t13 & 1112 & 1122 & 22 & 3.4 \\\\\n\t14 & 1112 & 1219 & 28 & 3.13 \\\\\n\t15 & 1112 & 1149 & 35 & 3.24 \\\\\n\t16 & 1112 & 1192 & 14 & 3.66 \\\\\n\t17 & 1112 & 1172 & 88 & 3.68 \\\\\n\t18 & 1112 & 1162 & 44 & 3.26 \\\\\n\t19 & 1112 & 1112 & 7 & 2.53 \\\\\n\t20 & 1112 & 1132 & 21 & 3.55 \\\\\n\t21 & 1112 & 1132 & 22 & 3.03 \\\\\n\t22 & 1112 & 1122 & 14 & 3.33 \\\\\n\t23 & 1112 & 1112 & 5 & 3.8 \\\\\n\t24 & 1112 & 1116 & 9 & 3.1 \\\\\n\t25 & 1112 & 1112 & 5 & 4.1 \\\\\n\t26 & 1112 & 1126 & 16 & 2.76 \\\\\n\t27 & 1112 & 1172 & 50 & 3.3 \\\\\n\t28 & 1112 & 1142 & 15 & 4.0 \\\\\n\t29 & 1112 & 1132 & 24 & 3.42 \\\\\n\t30 & 1112 & 1152 & 53 & 2.72 \\\\\n\t$\\dots$ & $\\dots$ & $\\dots$ & $\\dots$ & $\\dots$ \\\\\n\\end{tabular}\n"
          },
          "metadata": {},
          "execution_count": 70
        }
      ],
      "cell_type": "code",
      "source": [
        "url = \"https://raw.githubusercontent.com/jverzani/DataCampPresentation.jl/main/d.csv\"\n",
        "d = CSV.read(download(url), DataFrame)"
      ],
      "metadata": {
        "id": "pUPlPwdYj-TV",
        "outputId": "b9d86696-0e18-4f3b-b270-f598605cbef2",
        "colab": {
          "base_uri": "https://localhost:8080/",
          "height": 651
        }
      },
      "execution_count": 70
    },
    {
      "cell_type": "markdown",
      "source": [
        "### Filtering\n"
      ],
      "metadata": {
        "internals": {
          "slide_type": "subslide"
        },
        "slide_helper": "slide_end",
        "id": "l5JIZpYIj-TV"
      }
    },
    {
      "cell_type": "markdown",
      "source": [
        "We want to consider the more recent students only, so we filter out the students who started earlier:\n"
      ],
      "metadata": {
        "id": "Z3rmcPaWj-TW"
      }
    },
    {
      "outputs": [
        {
          "output_type": "execute_result",
          "data": {
            "text/plain": [
              "\u001b[1m7112×4 DataFrame\n",
              "\u001b[1m  Row │\u001b[1m F     \u001b[1m L     \u001b[1m N     \u001b[1m gpa\n",
              "      │\u001b[90m Int64 \u001b[90m Int64 \u001b[90m Int64 \u001b[90m Float64?\n",
              "──────┼─────────────────────────────────\n",
              "    1 │  1159   1162     11        3.34\n",
              "    2 │  1159   1192     41        2.51\n",
              "    3 │  1159   1172      9        4.1\n",
              "    4 │  1159   1189     23        2.7\n",
              "    5 │  1159   1192     34        3.8\n",
              "    6 │  1159   1202     41        2.81\n",
              "    7 │  1159   1159      7        4.1\n",
              "    8 │  1159   1222     20        3.74\n",
              "    9 │  1159   1182     16        0.96\n",
              "   10 │  1159   1162      7        3.8\n",
              "   11 │  1159   1192     46        4.0\n",
              "  ⋮   │   ⋮      ⋮      ⋮        ⋮\n",
              " 7103 │  1229   1229      8 \u001b[90m missing\n",
              " 7104 │  1229   1229      8 \u001b[90m missing\n",
              " 7105 │  1229   1229     12 \u001b[90m missing\n",
              " 7106 │  1229   1229      8 \u001b[90m missing\n",
              " 7107 │  1229   1229      9 \u001b[90m missing\n",
              " 7108 │  1229   1229      9 \u001b[90m missing\n",
              " 7109 │  1229   1229      8 \u001b[90m missing\n",
              " 7110 │  1229   1229      9 \u001b[90m missing\n",
              " 7111 │  1229   1229      6 \u001b[90m missing\n",
              " 7112 │  1229   1229      7 \u001b[90m missing\n",
              "\u001b[36m                       7091 rows omitted"
            ],
            "text/html": [
              "<div><div style = \"float: left;\"><span>7112×4 DataFrame</span></div><div style = \"float: right;\"><span style = \"font-style: italic;\">7087 rows omitted</span></div><div style = \"clear: both;\"></div></div><div class = \"data-frame\" style = \"overflow-x: scroll;\"><table class = \"data-frame\" style = \"margin-bottom: 6px;\"><thead><tr class = \"header\"><th class = \"rowNumber\" style = \"font-weight: bold; text-align: right;\">Row</th><th style = \"text-align: left;\">F</th><th style = \"text-align: left;\">L</th><th style = \"text-align: left;\">N</th><th style = \"text-align: left;\">gpa</th></tr><tr class = \"subheader headerLastRow\"><th class = \"rowNumber\" style = \"font-weight: bold; text-align: right;\"></th><th title = \"Int64\" style = \"text-align: left;\">Int64</th><th title = \"Int64\" style = \"text-align: left;\">Int64</th><th title = \"Int64\" style = \"text-align: left;\">Int64</th><th title = \"Union{Missing, Float64}\" style = \"text-align: left;\">Float64?</th></tr></thead><tbody><tr><td class = \"rowNumber\" style = \"font-weight: bold; text-align: right;\">1</td><td style = \"text-align: right;\">1159</td><td style = \"text-align: right;\">1162</td><td style = \"text-align: right;\">11</td><td style = \"text-align: right;\">3.34</td></tr><tr><td class = \"rowNumber\" style = \"font-weight: bold; text-align: right;\">2</td><td style = \"text-align: right;\">1159</td><td style = \"text-align: right;\">1192</td><td style = \"text-align: right;\">41</td><td style = \"text-align: right;\">2.51</td></tr><tr><td class = \"rowNumber\" style = \"font-weight: bold; text-align: right;\">3</td><td style = \"text-align: right;\">1159</td><td style = \"text-align: right;\">1172</td><td style = \"text-align: right;\">9</td><td style = \"text-align: right;\">4.1</td></tr><tr><td class = \"rowNumber\" style = \"font-weight: bold; text-align: right;\">4</td><td style = \"text-align: right;\">1159</td><td style = \"text-align: right;\">1189</td><td style = \"text-align: right;\">23</td><td style = \"text-align: right;\">2.7</td></tr><tr><td class = \"rowNumber\" style = \"font-weight: bold; text-align: right;\">5</td><td style = \"text-align: right;\">1159</td><td style = \"text-align: right;\">1192</td><td style = \"text-align: right;\">34</td><td style = \"text-align: right;\">3.8</td></tr><tr><td class = \"rowNumber\" style = \"font-weight: bold; text-align: right;\">6</td><td style = \"text-align: right;\">1159</td><td style = \"text-align: right;\">1202</td><td style = \"text-align: right;\">41</td><td style = \"text-align: right;\">2.81</td></tr><tr><td class = \"rowNumber\" style = \"font-weight: bold; text-align: right;\">7</td><td style = \"text-align: right;\">1159</td><td style = \"text-align: right;\">1159</td><td style = \"text-align: right;\">7</td><td style = \"text-align: right;\">4.1</td></tr><tr><td class = \"rowNumber\" style = \"font-weight: bold; text-align: right;\">8</td><td style = \"text-align: right;\">1159</td><td style = \"text-align: right;\">1222</td><td style = \"text-align: right;\">20</td><td style = \"text-align: right;\">3.74</td></tr><tr><td class = \"rowNumber\" style = \"font-weight: bold; text-align: right;\">9</td><td style = \"text-align: right;\">1159</td><td style = \"text-align: right;\">1182</td><td style = \"text-align: right;\">16</td><td style = \"text-align: right;\">0.96</td></tr><tr><td class = \"rowNumber\" style = \"font-weight: bold; text-align: right;\">10</td><td style = \"text-align: right;\">1159</td><td style = \"text-align: right;\">1162</td><td style = \"text-align: right;\">7</td><td style = \"text-align: right;\">3.8</td></tr><tr><td class = \"rowNumber\" style = \"font-weight: bold; text-align: right;\">11</td><td style = \"text-align: right;\">1159</td><td style = \"text-align: right;\">1192</td><td style = \"text-align: right;\">46</td><td style = \"text-align: right;\">4.0</td></tr><tr><td class = \"rowNumber\" style = \"font-weight: bold; text-align: right;\">12</td><td style = \"text-align: right;\">1159</td><td style = \"text-align: right;\">1212</td><td style = \"text-align: right;\">43</td><td style = \"text-align: right;\">2.74</td></tr><tr><td class = \"rowNumber\" style = \"font-weight: bold; text-align: right;\">13</td><td style = \"text-align: right;\">1159</td><td style = \"text-align: right;\">1182</td><td style = \"text-align: right;\">45</td><td style = \"text-align: right;\">3.8</td></tr><tr><td style = \"text-align: right;\">&vellip;</td><td style = \"text-align: right;\">&vellip;</td><td style = \"text-align: right;\">&vellip;</td><td style = \"text-align: right;\">&vellip;</td><td style = \"text-align: right;\">&vellip;</td></tr><tr><td class = \"rowNumber\" style = \"font-weight: bold; text-align: right;\">7101</td><td style = \"text-align: right;\">1229</td><td style = \"text-align: right;\">1229</td><td style = \"text-align: right;\">9</td><td style = \"font-style: italic; text-align: right;\">missing</td></tr><tr><td class = \"rowNumber\" style = \"font-weight: bold; text-align: right;\">7102</td><td style = \"text-align: right;\">1229</td><td style = \"text-align: right;\">1229</td><td style = \"text-align: right;\">6</td><td style = \"font-style: italic; text-align: right;\">missing</td></tr><tr><td class = \"rowNumber\" style = \"font-weight: bold; text-align: right;\">7103</td><td style = \"text-align: right;\">1229</td><td style = \"text-align: right;\">1229</td><td style = \"text-align: right;\">8</td><td style = \"font-style: italic; text-align: right;\">missing</td></tr><tr><td class = \"rowNumber\" style = \"font-weight: bold; text-align: right;\">7104</td><td style = \"text-align: right;\">1229</td><td style = \"text-align: right;\">1229</td><td style = \"text-align: right;\">8</td><td style = \"font-style: italic; text-align: right;\">missing</td></tr><tr><td class = \"rowNumber\" style = \"font-weight: bold; text-align: right;\">7105</td><td style = \"text-align: right;\">1229</td><td style = \"text-align: right;\">1229</td><td style = \"text-align: right;\">12</td><td style = \"font-style: italic; text-align: right;\">missing</td></tr><tr><td class = \"rowNumber\" style = \"font-weight: bold; text-align: right;\">7106</td><td style = \"text-align: right;\">1229</td><td style = \"text-align: right;\">1229</td><td style = \"text-align: right;\">8</td><td style = \"font-style: italic; text-align: right;\">missing</td></tr><tr><td class = \"rowNumber\" style = \"font-weight: bold; text-align: right;\">7107</td><td style = \"text-align: right;\">1229</td><td style = \"text-align: right;\">1229</td><td style = \"text-align: right;\">9</td><td style = \"font-style: italic; text-align: right;\">missing</td></tr><tr><td class = \"rowNumber\" style = \"font-weight: bold; text-align: right;\">7108</td><td style = \"text-align: right;\">1229</td><td style = \"text-align: right;\">1229</td><td style = \"text-align: right;\">9</td><td style = \"font-style: italic; text-align: right;\">missing</td></tr><tr><td class = \"rowNumber\" style = \"font-weight: bold; text-align: right;\">7109</td><td style = \"text-align: right;\">1229</td><td style = \"text-align: right;\">1229</td><td style = \"text-align: right;\">8</td><td style = \"font-style: italic; text-align: right;\">missing</td></tr><tr><td class = \"rowNumber\" style = \"font-weight: bold; text-align: right;\">7110</td><td style = \"text-align: right;\">1229</td><td style = \"text-align: right;\">1229</td><td style = \"text-align: right;\">9</td><td style = \"font-style: italic; text-align: right;\">missing</td></tr><tr><td class = \"rowNumber\" style = \"font-weight: bold; text-align: right;\">7111</td><td style = \"text-align: right;\">1229</td><td style = \"text-align: right;\">1229</td><td style = \"text-align: right;\">6</td><td style = \"font-style: italic; text-align: right;\">missing</td></tr><tr><td class = \"rowNumber\" style = \"font-weight: bold; text-align: right;\">7112</td><td style = \"text-align: right;\">1229</td><td style = \"text-align: right;\">1229</td><td style = \"text-align: right;\">7</td><td style = \"font-style: italic; text-align: right;\">missing</td></tr></tbody></table></div>"
            ],
            "text/latex": "\\begin{tabular}{r|cccc}\n\t& F & L & N & gpa\\\\\n\t\\hline\n\t& Int64 & Int64 & Int64 & Float64?\\\\\n\t\\hline\n\t1 & 1159 & 1162 & 11 & 3.34 \\\\\n\t2 & 1159 & 1192 & 41 & 2.51 \\\\\n\t3 & 1159 & 1172 & 9 & 4.1 \\\\\n\t4 & 1159 & 1189 & 23 & 2.7 \\\\\n\t5 & 1159 & 1192 & 34 & 3.8 \\\\\n\t6 & 1159 & 1202 & 41 & 2.81 \\\\\n\t7 & 1159 & 1159 & 7 & 4.1 \\\\\n\t8 & 1159 & 1222 & 20 & 3.74 \\\\\n\t9 & 1159 & 1182 & 16 & 0.96 \\\\\n\t10 & 1159 & 1162 & 7 & 3.8 \\\\\n\t11 & 1159 & 1192 & 46 & 4.0 \\\\\n\t12 & 1159 & 1212 & 43 & 2.74 \\\\\n\t13 & 1159 & 1182 & 45 & 3.8 \\\\\n\t14 & 1159 & 1172 & 20 & 3.35 \\\\\n\t15 & 1159 & 1179 & 10 & 3.81 \\\\\n\t16 & 1159 & 1202 & 46 & 3.03 \\\\\n\t17 & 1159 & 1169 & 7 & 3.66 \\\\\n\t18 & 1159 & 1169 & 15 & 1.68 \\\\\n\t19 & 1159 & 1162 & 13 & 2.42 \\\\\n\t20 & 1159 & 1162 & 13 & 1.32 \\\\\n\t21 & 1159 & 1159 & 5 & \\emph{missing} \\\\\n\t22 & 1159 & 1199 & 43 & 2.83 \\\\\n\t23 & 1159 & 1182 & 20 & 2.78 \\\\\n\t24 & 1159 & 1159 & 5 & 3.8 \\\\\n\t25 & 1159 & 1182 & 19 & 3.65 \\\\\n\t26 & 1159 & 1202 & 32 & 2.35 \\\\\n\t27 & 1159 & 1182 & 33 & 3.75 \\\\\n\t28 & 1159 & 1229 & 9 & \\emph{missing} \\\\\n\t29 & 1159 & 1212 & 42 & 2.58 \\\\\n\t30 & 1159 & 1162 & 8 & 4.1 \\\\\n\t$\\dots$ & $\\dots$ & $\\dots$ & $\\dots$ & $\\dots$ \\\\\n\\end{tabular}\n"
          },
          "metadata": {},
          "execution_count": 71
        }
      ],
      "cell_type": "code",
      "source": [
        "d = filter(r -> r.F >= 1159, d)"
      ],
      "metadata": {
        "id": "wOkcadovj-TW",
        "outputId": "8bace3bb-1b01-4f74-8d64-8e1e968504ae",
        "colab": {
          "base_uri": "https://localhost:8080/",
          "height": 651
        }
      },
      "execution_count": 71
    },
    {
      "cell_type": "markdown",
      "source": [
        "  * Somewhat idiosyncratically `filter` for a data frame filters over rows. (a preferred direction isn't obvious)\n",
        "  * the call above is a bit wasteful, as we can filter in place with `filter!`. (The above allocates a new data frame)\n",
        "  * As an alternative to `filter` there is `subset` (and `subset!`) which could also be used. E.g.:\n"
      ],
      "metadata": {
        "id": "OzEnYotYj-TW"
      }
    },
    {
      "outputs": [
        {
          "output_type": "execute_result",
          "data": {
            "text/plain": [
              "\u001b[1m2356×4 DataFrame\n",
              "\u001b[1m  Row │\u001b[1m F     \u001b[1m L     \u001b[1m N     \u001b[1m gpa\n",
              "      │\u001b[90m Int64 \u001b[90m Int64 \u001b[90m Int64 \u001b[90m Float64?\n",
              "──────┼─────────────────────────────────\n",
              "    1 │  1209   1212     15        1.76\n",
              "    2 │  1209   1209      9        0.1\n",
              "    3 │  1209   1222     23        3.78\n",
              "    4 │  1209   1212     13        1.36\n",
              "    5 │  1209   1212     12        3.56\n",
              "    6 │  1209   1222     25        3.24\n",
              "    7 │  1209   1229     27        3.33\n",
              "    8 │  1209   1229     30        2.82\n",
              "    9 │  1209   1212     13        0.1\n",
              "   10 │  1209   1229     26        2.66\n",
              "   11 │  1209   1219     16        1.87\n",
              "  ⋮   │   ⋮      ⋮      ⋮        ⋮\n",
              " 2347 │  1229   1229      8 \u001b[90m missing\n",
              " 2348 │  1229   1229      8 \u001b[90m missing\n",
              " 2349 │  1229   1229     12 \u001b[90m missing\n",
              " 2350 │  1229   1229      8 \u001b[90m missing\n",
              " 2351 │  1229   1229      9 \u001b[90m missing\n",
              " 2352 │  1229   1229      9 \u001b[90m missing\n",
              " 2353 │  1229   1229      8 \u001b[90m missing\n",
              " 2354 │  1229   1229      9 \u001b[90m missing\n",
              " 2355 │  1229   1229      6 \u001b[90m missing\n",
              " 2356 │  1229   1229      7 \u001b[90m missing\n",
              "\u001b[36m                       2335 rows omitted"
            ],
            "text/html": [
              "<div><div style = \"float: left;\"><span>2356×4 DataFrame</span></div><div style = \"float: right;\"><span style = \"font-style: italic;\">2331 rows omitted</span></div><div style = \"clear: both;\"></div></div><div class = \"data-frame\" style = \"overflow-x: scroll;\"><table class = \"data-frame\" style = \"margin-bottom: 6px;\"><thead><tr class = \"header\"><th class = \"rowNumber\" style = \"font-weight: bold; text-align: right;\">Row</th><th style = \"text-align: left;\">F</th><th style = \"text-align: left;\">L</th><th style = \"text-align: left;\">N</th><th style = \"text-align: left;\">gpa</th></tr><tr class = \"subheader headerLastRow\"><th class = \"rowNumber\" style = \"font-weight: bold; text-align: right;\"></th><th title = \"Int64\" style = \"text-align: left;\">Int64</th><th title = \"Int64\" style = \"text-align: left;\">Int64</th><th title = \"Int64\" style = \"text-align: left;\">Int64</th><th title = \"Union{Missing, Float64}\" style = \"text-align: left;\">Float64?</th></tr></thead><tbody><tr><td class = \"rowNumber\" style = \"font-weight: bold; text-align: right;\">1</td><td style = \"text-align: right;\">1209</td><td style = \"text-align: right;\">1212</td><td style = \"text-align: right;\">15</td><td style = \"text-align: right;\">1.76</td></tr><tr><td class = \"rowNumber\" style = \"font-weight: bold; text-align: right;\">2</td><td style = \"text-align: right;\">1209</td><td style = \"text-align: right;\">1209</td><td style = \"text-align: right;\">9</td><td style = \"text-align: right;\">0.1</td></tr><tr><td class = \"rowNumber\" style = \"font-weight: bold; text-align: right;\">3</td><td style = \"text-align: right;\">1209</td><td style = \"text-align: right;\">1222</td><td style = \"text-align: right;\">23</td><td style = \"text-align: right;\">3.78</td></tr><tr><td class = \"rowNumber\" style = \"font-weight: bold; text-align: right;\">4</td><td style = \"text-align: right;\">1209</td><td style = \"text-align: right;\">1212</td><td style = \"text-align: right;\">13</td><td style = \"text-align: right;\">1.36</td></tr><tr><td class = \"rowNumber\" style = \"font-weight: bold; text-align: right;\">5</td><td style = \"text-align: right;\">1209</td><td style = \"text-align: right;\">1212</td><td style = \"text-align: right;\">12</td><td style = \"text-align: right;\">3.56</td></tr><tr><td class = \"rowNumber\" style = \"font-weight: bold; text-align: right;\">6</td><td style = \"text-align: right;\">1209</td><td style = \"text-align: right;\">1222</td><td style = \"text-align: right;\">25</td><td style = \"text-align: right;\">3.24</td></tr><tr><td class = \"rowNumber\" style = \"font-weight: bold; text-align: right;\">7</td><td style = \"text-align: right;\">1209</td><td style = \"text-align: right;\">1229</td><td style = \"text-align: right;\">27</td><td style = \"text-align: right;\">3.33</td></tr><tr><td class = \"rowNumber\" style = \"font-weight: bold; text-align: right;\">8</td><td style = \"text-align: right;\">1209</td><td style = \"text-align: right;\">1229</td><td style = \"text-align: right;\">30</td><td style = \"text-align: right;\">2.82</td></tr><tr><td class = \"rowNumber\" style = \"font-weight: bold; text-align: right;\">9</td><td style = \"text-align: right;\">1209</td><td style = \"text-align: right;\">1212</td><td style = \"text-align: right;\">13</td><td style = \"text-align: right;\">0.1</td></tr><tr><td class = \"rowNumber\" style = \"font-weight: bold; text-align: right;\">10</td><td style = \"text-align: right;\">1209</td><td style = \"text-align: right;\">1229</td><td style = \"text-align: right;\">26</td><td style = \"text-align: right;\">2.66</td></tr><tr><td class = \"rowNumber\" style = \"font-weight: bold; text-align: right;\">11</td><td style = \"text-align: right;\">1209</td><td style = \"text-align: right;\">1219</td><td style = \"text-align: right;\">16</td><td style = \"text-align: right;\">1.87</td></tr><tr><td class = \"rowNumber\" style = \"font-weight: bold; text-align: right;\">12</td><td style = \"text-align: right;\">1209</td><td style = \"text-align: right;\">1209</td><td style = \"text-align: right;\">6</td><td style = \"font-style: italic; text-align: right;\">missing</td></tr><tr><td class = \"rowNumber\" style = \"font-weight: bold; text-align: right;\">13</td><td style = \"text-align: right;\">1209</td><td style = \"text-align: right;\">1229</td><td style = \"text-align: right;\">11</td><td style = \"text-align: right;\">3.1</td></tr><tr><td style = \"text-align: right;\">&vellip;</td><td style = \"text-align: right;\">&vellip;</td><td style = \"text-align: right;\">&vellip;</td><td style = \"text-align: right;\">&vellip;</td><td style = \"text-align: right;\">&vellip;</td></tr><tr><td class = \"rowNumber\" style = \"font-weight: bold; text-align: right;\">2345</td><td style = \"text-align: right;\">1229</td><td style = \"text-align: right;\">1229</td><td style = \"text-align: right;\">9</td><td style = \"font-style: italic; text-align: right;\">missing</td></tr><tr><td class = \"rowNumber\" style = \"font-weight: bold; text-align: right;\">2346</td><td style = \"text-align: right;\">1229</td><td style = \"text-align: right;\">1229</td><td style = \"text-align: right;\">6</td><td style = \"font-style: italic; text-align: right;\">missing</td></tr><tr><td class = \"rowNumber\" style = \"font-weight: bold; text-align: right;\">2347</td><td style = \"text-align: right;\">1229</td><td style = \"text-align: right;\">1229</td><td style = \"text-align: right;\">8</td><td style = \"font-style: italic; text-align: right;\">missing</td></tr><tr><td class = \"rowNumber\" style = \"font-weight: bold; text-align: right;\">2348</td><td style = \"text-align: right;\">1229</td><td style = \"text-align: right;\">1229</td><td style = \"text-align: right;\">8</td><td style = \"font-style: italic; text-align: right;\">missing</td></tr><tr><td class = \"rowNumber\" style = \"font-weight: bold; text-align: right;\">2349</td><td style = \"text-align: right;\">1229</td><td style = \"text-align: right;\">1229</td><td style = \"text-align: right;\">12</td><td style = \"font-style: italic; text-align: right;\">missing</td></tr><tr><td class = \"rowNumber\" style = \"font-weight: bold; text-align: right;\">2350</td><td style = \"text-align: right;\">1229</td><td style = \"text-align: right;\">1229</td><td style = \"text-align: right;\">8</td><td style = \"font-style: italic; text-align: right;\">missing</td></tr><tr><td class = \"rowNumber\" style = \"font-weight: bold; text-align: right;\">2351</td><td style = \"text-align: right;\">1229</td><td style = \"text-align: right;\">1229</td><td style = \"text-align: right;\">9</td><td style = \"font-style: italic; text-align: right;\">missing</td></tr><tr><td class = \"rowNumber\" style = \"font-weight: bold; text-align: right;\">2352</td><td style = \"text-align: right;\">1229</td><td style = \"text-align: right;\">1229</td><td style = \"text-align: right;\">9</td><td style = \"font-style: italic; text-align: right;\">missing</td></tr><tr><td class = \"rowNumber\" style = \"font-weight: bold; text-align: right;\">2353</td><td style = \"text-align: right;\">1229</td><td style = \"text-align: right;\">1229</td><td style = \"text-align: right;\">8</td><td style = \"font-style: italic; text-align: right;\">missing</td></tr><tr><td class = \"rowNumber\" style = \"font-weight: bold; text-align: right;\">2354</td><td style = \"text-align: right;\">1229</td><td style = \"text-align: right;\">1229</td><td style = \"text-align: right;\">9</td><td style = \"font-style: italic; text-align: right;\">missing</td></tr><tr><td class = \"rowNumber\" style = \"font-weight: bold; text-align: right;\">2355</td><td style = \"text-align: right;\">1229</td><td style = \"text-align: right;\">1229</td><td style = \"text-align: right;\">6</td><td style = \"font-style: italic; text-align: right;\">missing</td></tr><tr><td class = \"rowNumber\" style = \"font-weight: bold; text-align: right;\">2356</td><td style = \"text-align: right;\">1229</td><td style = \"text-align: right;\">1229</td><td style = \"text-align: right;\">7</td><td style = \"font-style: italic; text-align: right;\">missing</td></tr></tbody></table></div>"
            ],
            "text/latex": "\\begin{tabular}{r|cccc}\n\t& F & L & N & gpa\\\\\n\t\\hline\n\t& Int64 & Int64 & Int64 & Float64?\\\\\n\t\\hline\n\t1 & 1209 & 1212 & 15 & 1.76 \\\\\n\t2 & 1209 & 1209 & 9 & 0.1 \\\\\n\t3 & 1209 & 1222 & 23 & 3.78 \\\\\n\t4 & 1209 & 1212 & 13 & 1.36 \\\\\n\t5 & 1209 & 1212 & 12 & 3.56 \\\\\n\t6 & 1209 & 1222 & 25 & 3.24 \\\\\n\t7 & 1209 & 1229 & 27 & 3.33 \\\\\n\t8 & 1209 & 1229 & 30 & 2.82 \\\\\n\t9 & 1209 & 1212 & 13 & 0.1 \\\\\n\t10 & 1209 & 1229 & 26 & 2.66 \\\\\n\t11 & 1209 & 1219 & 16 & 1.87 \\\\\n\t12 & 1209 & 1209 & 6 & \\emph{missing} \\\\\n\t13 & 1209 & 1229 & 11 & 3.1 \\\\\n\t14 & 1209 & 1212 & 6 & 3.95 \\\\\n\t15 & 1209 & 1209 & 5 & 4.1 \\\\\n\t16 & 1209 & 1229 & 22 & 3.02 \\\\\n\t17 & 1209 & 1229 & 29 & 3.21 \\\\\n\t18 & 1209 & 1209 & 6 & 4.1 \\\\\n\t19 & 1209 & 1212 & 7 & 4.1 \\\\\n\t20 & 1209 & 1229 & 24 & 3.61 \\\\\n\t21 & 1209 & 1212 & 13 & 3.25 \\\\\n\t22 & 1209 & 1212 & 14 & 2.43 \\\\\n\t23 & 1209 & 1209 & 9 & \\emph{missing} \\\\\n\t24 & 1209 & 1219 & 19 & 3.4 \\\\\n\t25 & 1209 & 1229 & 27 & 3.82 \\\\\n\t26 & 1209 & 1219 & 14 & 3.65 \\\\\n\t27 & 1209 & 1219 & 17 & 3.52 \\\\\n\t28 & 1209 & 1219 & 17 & 4.07 \\\\\n\t29 & 1209 & 1209 & 8 & 0.1 \\\\\n\t30 & 1209 & 1219 & 17 & 2.05 \\\\\n\t$\\dots$ & $\\dots$ & $\\dots$ & $\\dots$ & $\\dots$ \\\\\n\\end{tabular}\n"
          },
          "metadata": {},
          "execution_count": 72
        }
      ],
      "cell_type": "code",
      "source": [
        "subset(d, :F => ByRow(>=(1209)))"
      ],
      "metadata": {
        "id": "uyXbkI2Ej-TW",
        "outputId": "1ce46a88-3953-496e-bcaa-b07cf2bf6c01",
        "colab": {
          "base_uri": "https://localhost:8080/",
          "height": 651
        }
      },
      "execution_count": 72
    },
    {
      "cell_type": "markdown",
      "source": [
        "As another alternate, the mini language can also be used with filter\n"
      ],
      "metadata": {
        "id": "78bxSQQ6j-TW"
      }
    },
    {
      "outputs": [
        {
          "output_type": "execute_result",
          "data": {
            "text/plain": [
              "\u001b[1m2356×4 DataFrame\n",
              "\u001b[1m  Row │\u001b[1m F     \u001b[1m L     \u001b[1m N     \u001b[1m gpa\n",
              "      │\u001b[90m Int64 \u001b[90m Int64 \u001b[90m Int64 \u001b[90m Float64?\n",
              "──────┼─────────────────────────────────\n",
              "    1 │  1209   1212     15        1.76\n",
              "    2 │  1209   1209      9        0.1\n",
              "    3 │  1209   1222     23        3.78\n",
              "    4 │  1209   1212     13        1.36\n",
              "    5 │  1209   1212     12        3.56\n",
              "    6 │  1209   1222     25        3.24\n",
              "    7 │  1209   1229     27        3.33\n",
              "    8 │  1209   1229     30        2.82\n",
              "    9 │  1209   1212     13        0.1\n",
              "   10 │  1209   1229     26        2.66\n",
              "   11 │  1209   1219     16        1.87\n",
              "  ⋮   │   ⋮      ⋮      ⋮        ⋮\n",
              " 2347 │  1229   1229      8 \u001b[90m missing\n",
              " 2348 │  1229   1229      8 \u001b[90m missing\n",
              " 2349 │  1229   1229     12 \u001b[90m missing\n",
              " 2350 │  1229   1229      8 \u001b[90m missing\n",
              " 2351 │  1229   1229      9 \u001b[90m missing\n",
              " 2352 │  1229   1229      9 \u001b[90m missing\n",
              " 2353 │  1229   1229      8 \u001b[90m missing\n",
              " 2354 │  1229   1229      9 \u001b[90m missing\n",
              " 2355 │  1229   1229      6 \u001b[90m missing\n",
              " 2356 │  1229   1229      7 \u001b[90m missing\n",
              "\u001b[36m                       2335 rows omitted"
            ],
            "text/html": [
              "<div><div style = \"float: left;\"><span>2356×4 DataFrame</span></div><div style = \"float: right;\"><span style = \"font-style: italic;\">2331 rows omitted</span></div><div style = \"clear: both;\"></div></div><div class = \"data-frame\" style = \"overflow-x: scroll;\"><table class = \"data-frame\" style = \"margin-bottom: 6px;\"><thead><tr class = \"header\"><th class = \"rowNumber\" style = \"font-weight: bold; text-align: right;\">Row</th><th style = \"text-align: left;\">F</th><th style = \"text-align: left;\">L</th><th style = \"text-align: left;\">N</th><th style = \"text-align: left;\">gpa</th></tr><tr class = \"subheader headerLastRow\"><th class = \"rowNumber\" style = \"font-weight: bold; text-align: right;\"></th><th title = \"Int64\" style = \"text-align: left;\">Int64</th><th title = \"Int64\" style = \"text-align: left;\">Int64</th><th title = \"Int64\" style = \"text-align: left;\">Int64</th><th title = \"Union{Missing, Float64}\" style = \"text-align: left;\">Float64?</th></tr></thead><tbody><tr><td class = \"rowNumber\" style = \"font-weight: bold; text-align: right;\">1</td><td style = \"text-align: right;\">1209</td><td style = \"text-align: right;\">1212</td><td style = \"text-align: right;\">15</td><td style = \"text-align: right;\">1.76</td></tr><tr><td class = \"rowNumber\" style = \"font-weight: bold; text-align: right;\">2</td><td style = \"text-align: right;\">1209</td><td style = \"text-align: right;\">1209</td><td style = \"text-align: right;\">9</td><td style = \"text-align: right;\">0.1</td></tr><tr><td class = \"rowNumber\" style = \"font-weight: bold; text-align: right;\">3</td><td style = \"text-align: right;\">1209</td><td style = \"text-align: right;\">1222</td><td style = \"text-align: right;\">23</td><td style = \"text-align: right;\">3.78</td></tr><tr><td class = \"rowNumber\" style = \"font-weight: bold; text-align: right;\">4</td><td style = \"text-align: right;\">1209</td><td style = \"text-align: right;\">1212</td><td style = \"text-align: right;\">13</td><td style = \"text-align: right;\">1.36</td></tr><tr><td class = \"rowNumber\" style = \"font-weight: bold; text-align: right;\">5</td><td style = \"text-align: right;\">1209</td><td style = \"text-align: right;\">1212</td><td style = \"text-align: right;\">12</td><td style = \"text-align: right;\">3.56</td></tr><tr><td class = \"rowNumber\" style = \"font-weight: bold; text-align: right;\">6</td><td style = \"text-align: right;\">1209</td><td style = \"text-align: right;\">1222</td><td style = \"text-align: right;\">25</td><td style = \"text-align: right;\">3.24</td></tr><tr><td class = \"rowNumber\" style = \"font-weight: bold; text-align: right;\">7</td><td style = \"text-align: right;\">1209</td><td style = \"text-align: right;\">1229</td><td style = \"text-align: right;\">27</td><td style = \"text-align: right;\">3.33</td></tr><tr><td class = \"rowNumber\" style = \"font-weight: bold; text-align: right;\">8</td><td style = \"text-align: right;\">1209</td><td style = \"text-align: right;\">1229</td><td style = \"text-align: right;\">30</td><td style = \"text-align: right;\">2.82</td></tr><tr><td class = \"rowNumber\" style = \"font-weight: bold; text-align: right;\">9</td><td style = \"text-align: right;\">1209</td><td style = \"text-align: right;\">1212</td><td style = \"text-align: right;\">13</td><td style = \"text-align: right;\">0.1</td></tr><tr><td class = \"rowNumber\" style = \"font-weight: bold; text-align: right;\">10</td><td style = \"text-align: right;\">1209</td><td style = \"text-align: right;\">1229</td><td style = \"text-align: right;\">26</td><td style = \"text-align: right;\">2.66</td></tr><tr><td class = \"rowNumber\" style = \"font-weight: bold; text-align: right;\">11</td><td style = \"text-align: right;\">1209</td><td style = \"text-align: right;\">1219</td><td style = \"text-align: right;\">16</td><td style = \"text-align: right;\">1.87</td></tr><tr><td class = \"rowNumber\" style = \"font-weight: bold; text-align: right;\">12</td><td style = \"text-align: right;\">1209</td><td style = \"text-align: right;\">1209</td><td style = \"text-align: right;\">6</td><td style = \"font-style: italic; text-align: right;\">missing</td></tr><tr><td class = \"rowNumber\" style = \"font-weight: bold; text-align: right;\">13</td><td style = \"text-align: right;\">1209</td><td style = \"text-align: right;\">1229</td><td style = \"text-align: right;\">11</td><td style = \"text-align: right;\">3.1</td></tr><tr><td style = \"text-align: right;\">&vellip;</td><td style = \"text-align: right;\">&vellip;</td><td style = \"text-align: right;\">&vellip;</td><td style = \"text-align: right;\">&vellip;</td><td style = \"text-align: right;\">&vellip;</td></tr><tr><td class = \"rowNumber\" style = \"font-weight: bold; text-align: right;\">2345</td><td style = \"text-align: right;\">1229</td><td style = \"text-align: right;\">1229</td><td style = \"text-align: right;\">9</td><td style = \"font-style: italic; text-align: right;\">missing</td></tr><tr><td class = \"rowNumber\" style = \"font-weight: bold; text-align: right;\">2346</td><td style = \"text-align: right;\">1229</td><td style = \"text-align: right;\">1229</td><td style = \"text-align: right;\">6</td><td style = \"font-style: italic; text-align: right;\">missing</td></tr><tr><td class = \"rowNumber\" style = \"font-weight: bold; text-align: right;\">2347</td><td style = \"text-align: right;\">1229</td><td style = \"text-align: right;\">1229</td><td style = \"text-align: right;\">8</td><td style = \"font-style: italic; text-align: right;\">missing</td></tr><tr><td class = \"rowNumber\" style = \"font-weight: bold; text-align: right;\">2348</td><td style = \"text-align: right;\">1229</td><td style = \"text-align: right;\">1229</td><td style = \"text-align: right;\">8</td><td style = \"font-style: italic; text-align: right;\">missing</td></tr><tr><td class = \"rowNumber\" style = \"font-weight: bold; text-align: right;\">2349</td><td style = \"text-align: right;\">1229</td><td style = \"text-align: right;\">1229</td><td style = \"text-align: right;\">12</td><td style = \"font-style: italic; text-align: right;\">missing</td></tr><tr><td class = \"rowNumber\" style = \"font-weight: bold; text-align: right;\">2350</td><td style = \"text-align: right;\">1229</td><td style = \"text-align: right;\">1229</td><td style = \"text-align: right;\">8</td><td style = \"font-style: italic; text-align: right;\">missing</td></tr><tr><td class = \"rowNumber\" style = \"font-weight: bold; text-align: right;\">2351</td><td style = \"text-align: right;\">1229</td><td style = \"text-align: right;\">1229</td><td style = \"text-align: right;\">9</td><td style = \"font-style: italic; text-align: right;\">missing</td></tr><tr><td class = \"rowNumber\" style = \"font-weight: bold; text-align: right;\">2352</td><td style = \"text-align: right;\">1229</td><td style = \"text-align: right;\">1229</td><td style = \"text-align: right;\">9</td><td style = \"font-style: italic; text-align: right;\">missing</td></tr><tr><td class = \"rowNumber\" style = \"font-weight: bold; text-align: right;\">2353</td><td style = \"text-align: right;\">1229</td><td style = \"text-align: right;\">1229</td><td style = \"text-align: right;\">8</td><td style = \"font-style: italic; text-align: right;\">missing</td></tr><tr><td class = \"rowNumber\" style = \"font-weight: bold; text-align: right;\">2354</td><td style = \"text-align: right;\">1229</td><td style = \"text-align: right;\">1229</td><td style = \"text-align: right;\">9</td><td style = \"font-style: italic; text-align: right;\">missing</td></tr><tr><td class = \"rowNumber\" style = \"font-weight: bold; text-align: right;\">2355</td><td style = \"text-align: right;\">1229</td><td style = \"text-align: right;\">1229</td><td style = \"text-align: right;\">6</td><td style = \"font-style: italic; text-align: right;\">missing</td></tr><tr><td class = \"rowNumber\" style = \"font-weight: bold; text-align: right;\">2356</td><td style = \"text-align: right;\">1229</td><td style = \"text-align: right;\">1229</td><td style = \"text-align: right;\">7</td><td style = \"font-style: italic; text-align: right;\">missing</td></tr></tbody></table></div>"
            ],
            "text/latex": "\\begin{tabular}{r|cccc}\n\t& F & L & N & gpa\\\\\n\t\\hline\n\t& Int64 & Int64 & Int64 & Float64?\\\\\n\t\\hline\n\t1 & 1209 & 1212 & 15 & 1.76 \\\\\n\t2 & 1209 & 1209 & 9 & 0.1 \\\\\n\t3 & 1209 & 1222 & 23 & 3.78 \\\\\n\t4 & 1209 & 1212 & 13 & 1.36 \\\\\n\t5 & 1209 & 1212 & 12 & 3.56 \\\\\n\t6 & 1209 & 1222 & 25 & 3.24 \\\\\n\t7 & 1209 & 1229 & 27 & 3.33 \\\\\n\t8 & 1209 & 1229 & 30 & 2.82 \\\\\n\t9 & 1209 & 1212 & 13 & 0.1 \\\\\n\t10 & 1209 & 1229 & 26 & 2.66 \\\\\n\t11 & 1209 & 1219 & 16 & 1.87 \\\\\n\t12 & 1209 & 1209 & 6 & \\emph{missing} \\\\\n\t13 & 1209 & 1229 & 11 & 3.1 \\\\\n\t14 & 1209 & 1212 & 6 & 3.95 \\\\\n\t15 & 1209 & 1209 & 5 & 4.1 \\\\\n\t16 & 1209 & 1229 & 22 & 3.02 \\\\\n\t17 & 1209 & 1229 & 29 & 3.21 \\\\\n\t18 & 1209 & 1209 & 6 & 4.1 \\\\\n\t19 & 1209 & 1212 & 7 & 4.1 \\\\\n\t20 & 1209 & 1229 & 24 & 3.61 \\\\\n\t21 & 1209 & 1212 & 13 & 3.25 \\\\\n\t22 & 1209 & 1212 & 14 & 2.43 \\\\\n\t23 & 1209 & 1209 & 9 & \\emph{missing} \\\\\n\t24 & 1209 & 1219 & 19 & 3.4 \\\\\n\t25 & 1209 & 1229 & 27 & 3.82 \\\\\n\t26 & 1209 & 1219 & 14 & 3.65 \\\\\n\t27 & 1209 & 1219 & 17 & 3.52 \\\\\n\t28 & 1209 & 1219 & 17 & 4.07 \\\\\n\t29 & 1209 & 1209 & 8 & 0.1 \\\\\n\t30 & 1209 & 1219 & 17 & 2.05 \\\\\n\t$\\dots$ & $\\dots$ & $\\dots$ & $\\dots$ & $\\dots$ \\\\\n\\end{tabular}\n"
          },
          "metadata": {},
          "execution_count": 73
        }
      ],
      "cell_type": "code",
      "source": [
        "g1209(x) = x >= 1209\n",
        "filter(:F => g1209, d)"
      ],
      "metadata": {
        "id": "WvjoeZlkj-TW",
        "outputId": "9df25f0a-fe6c-46cb-b8ff-2d58a0321ada",
        "colab": {
          "base_uri": "https://localhost:8080/",
          "height": 651
        }
      },
      "execution_count": 73
    },
    {
      "cell_type": "markdown",
      "source": [
        "As an covenient alternate, we also have:\n"
      ],
      "metadata": {
        "id": "wJXJg-WUj-TW"
      }
    },
    {
      "outputs": [
        {
          "output_type": "execute_result",
          "data": {
            "text/plain": [
              "\u001b[1m2356×4 DataFrame\n",
              "\u001b[1m  Row │\u001b[1m F     \u001b[1m L     \u001b[1m N     \u001b[1m gpa\n",
              "      │\u001b[90m Int64 \u001b[90m Int64 \u001b[90m Int64 \u001b[90m Float64?\n",
              "──────┼─────────────────────────────────\n",
              "    1 │  1209   1212     15        1.76\n",
              "    2 │  1209   1209      9        0.1\n",
              "    3 │  1209   1222     23        3.78\n",
              "    4 │  1209   1212     13        1.36\n",
              "    5 │  1209   1212     12        3.56\n",
              "    6 │  1209   1222     25        3.24\n",
              "    7 │  1209   1229     27        3.33\n",
              "    8 │  1209   1229     30        2.82\n",
              "    9 │  1209   1212     13        0.1\n",
              "   10 │  1209   1229     26        2.66\n",
              "   11 │  1209   1219     16        1.87\n",
              "  ⋮   │   ⋮      ⋮      ⋮        ⋮\n",
              " 2347 │  1229   1229      8 \u001b[90m missing\n",
              " 2348 │  1229   1229      8 \u001b[90m missing\n",
              " 2349 │  1229   1229     12 \u001b[90m missing\n",
              " 2350 │  1229   1229      8 \u001b[90m missing\n",
              " 2351 │  1229   1229      9 \u001b[90m missing\n",
              " 2352 │  1229   1229      9 \u001b[90m missing\n",
              " 2353 │  1229   1229      8 \u001b[90m missing\n",
              " 2354 │  1229   1229      9 \u001b[90m missing\n",
              " 2355 │  1229   1229      6 \u001b[90m missing\n",
              " 2356 │  1229   1229      7 \u001b[90m missing\n",
              "\u001b[36m                       2335 rows omitted"
            ],
            "text/html": [
              "<div><div style = \"float: left;\"><span>2356×4 DataFrame</span></div><div style = \"float: right;\"><span style = \"font-style: italic;\">2331 rows omitted</span></div><div style = \"clear: both;\"></div></div><div class = \"data-frame\" style = \"overflow-x: scroll;\"><table class = \"data-frame\" style = \"margin-bottom: 6px;\"><thead><tr class = \"header\"><th class = \"rowNumber\" style = \"font-weight: bold; text-align: right;\">Row</th><th style = \"text-align: left;\">F</th><th style = \"text-align: left;\">L</th><th style = \"text-align: left;\">N</th><th style = \"text-align: left;\">gpa</th></tr><tr class = \"subheader headerLastRow\"><th class = \"rowNumber\" style = \"font-weight: bold; text-align: right;\"></th><th title = \"Int64\" style = \"text-align: left;\">Int64</th><th title = \"Int64\" style = \"text-align: left;\">Int64</th><th title = \"Int64\" style = \"text-align: left;\">Int64</th><th title = \"Union{Missing, Float64}\" style = \"text-align: left;\">Float64?</th></tr></thead><tbody><tr><td class = \"rowNumber\" style = \"font-weight: bold; text-align: right;\">1</td><td style = \"text-align: right;\">1209</td><td style = \"text-align: right;\">1212</td><td style = \"text-align: right;\">15</td><td style = \"text-align: right;\">1.76</td></tr><tr><td class = \"rowNumber\" style = \"font-weight: bold; text-align: right;\">2</td><td style = \"text-align: right;\">1209</td><td style = \"text-align: right;\">1209</td><td style = \"text-align: right;\">9</td><td style = \"text-align: right;\">0.1</td></tr><tr><td class = \"rowNumber\" style = \"font-weight: bold; text-align: right;\">3</td><td style = \"text-align: right;\">1209</td><td style = \"text-align: right;\">1222</td><td style = \"text-align: right;\">23</td><td style = \"text-align: right;\">3.78</td></tr><tr><td class = \"rowNumber\" style = \"font-weight: bold; text-align: right;\">4</td><td style = \"text-align: right;\">1209</td><td style = \"text-align: right;\">1212</td><td style = \"text-align: right;\">13</td><td style = \"text-align: right;\">1.36</td></tr><tr><td class = \"rowNumber\" style = \"font-weight: bold; text-align: right;\">5</td><td style = \"text-align: right;\">1209</td><td style = \"text-align: right;\">1212</td><td style = \"text-align: right;\">12</td><td style = \"text-align: right;\">3.56</td></tr><tr><td class = \"rowNumber\" style = \"font-weight: bold; text-align: right;\">6</td><td style = \"text-align: right;\">1209</td><td style = \"text-align: right;\">1222</td><td style = \"text-align: right;\">25</td><td style = \"text-align: right;\">3.24</td></tr><tr><td class = \"rowNumber\" style = \"font-weight: bold; text-align: right;\">7</td><td style = \"text-align: right;\">1209</td><td style = \"text-align: right;\">1229</td><td style = \"text-align: right;\">27</td><td style = \"text-align: right;\">3.33</td></tr><tr><td class = \"rowNumber\" style = \"font-weight: bold; text-align: right;\">8</td><td style = \"text-align: right;\">1209</td><td style = \"text-align: right;\">1229</td><td style = \"text-align: right;\">30</td><td style = \"text-align: right;\">2.82</td></tr><tr><td class = \"rowNumber\" style = \"font-weight: bold; text-align: right;\">9</td><td style = \"text-align: right;\">1209</td><td style = \"text-align: right;\">1212</td><td style = \"text-align: right;\">13</td><td style = \"text-align: right;\">0.1</td></tr><tr><td class = \"rowNumber\" style = \"font-weight: bold; text-align: right;\">10</td><td style = \"text-align: right;\">1209</td><td style = \"text-align: right;\">1229</td><td style = \"text-align: right;\">26</td><td style = \"text-align: right;\">2.66</td></tr><tr><td class = \"rowNumber\" style = \"font-weight: bold; text-align: right;\">11</td><td style = \"text-align: right;\">1209</td><td style = \"text-align: right;\">1219</td><td style = \"text-align: right;\">16</td><td style = \"text-align: right;\">1.87</td></tr><tr><td class = \"rowNumber\" style = \"font-weight: bold; text-align: right;\">12</td><td style = \"text-align: right;\">1209</td><td style = \"text-align: right;\">1209</td><td style = \"text-align: right;\">6</td><td style = \"font-style: italic; text-align: right;\">missing</td></tr><tr><td class = \"rowNumber\" style = \"font-weight: bold; text-align: right;\">13</td><td style = \"text-align: right;\">1209</td><td style = \"text-align: right;\">1229</td><td style = \"text-align: right;\">11</td><td style = \"text-align: right;\">3.1</td></tr><tr><td style = \"text-align: right;\">&vellip;</td><td style = \"text-align: right;\">&vellip;</td><td style = \"text-align: right;\">&vellip;</td><td style = \"text-align: right;\">&vellip;</td><td style = \"text-align: right;\">&vellip;</td></tr><tr><td class = \"rowNumber\" style = \"font-weight: bold; text-align: right;\">2345</td><td style = \"text-align: right;\">1229</td><td style = \"text-align: right;\">1229</td><td style = \"text-align: right;\">9</td><td style = \"font-style: italic; text-align: right;\">missing</td></tr><tr><td class = \"rowNumber\" style = \"font-weight: bold; text-align: right;\">2346</td><td style = \"text-align: right;\">1229</td><td style = \"text-align: right;\">1229</td><td style = \"text-align: right;\">6</td><td style = \"font-style: italic; text-align: right;\">missing</td></tr><tr><td class = \"rowNumber\" style = \"font-weight: bold; text-align: right;\">2347</td><td style = \"text-align: right;\">1229</td><td style = \"text-align: right;\">1229</td><td style = \"text-align: right;\">8</td><td style = \"font-style: italic; text-align: right;\">missing</td></tr><tr><td class = \"rowNumber\" style = \"font-weight: bold; text-align: right;\">2348</td><td style = \"text-align: right;\">1229</td><td style = \"text-align: right;\">1229</td><td style = \"text-align: right;\">8</td><td style = \"font-style: italic; text-align: right;\">missing</td></tr><tr><td class = \"rowNumber\" style = \"font-weight: bold; text-align: right;\">2349</td><td style = \"text-align: right;\">1229</td><td style = \"text-align: right;\">1229</td><td style = \"text-align: right;\">12</td><td style = \"font-style: italic; text-align: right;\">missing</td></tr><tr><td class = \"rowNumber\" style = \"font-weight: bold; text-align: right;\">2350</td><td style = \"text-align: right;\">1229</td><td style = \"text-align: right;\">1229</td><td style = \"text-align: right;\">8</td><td style = \"font-style: italic; text-align: right;\">missing</td></tr><tr><td class = \"rowNumber\" style = \"font-weight: bold; text-align: right;\">2351</td><td style = \"text-align: right;\">1229</td><td style = \"text-align: right;\">1229</td><td style = \"text-align: right;\">9</td><td style = \"font-style: italic; text-align: right;\">missing</td></tr><tr><td class = \"rowNumber\" style = \"font-weight: bold; text-align: right;\">2352</td><td style = \"text-align: right;\">1229</td><td style = \"text-align: right;\">1229</td><td style = \"text-align: right;\">9</td><td style = \"font-style: italic; text-align: right;\">missing</td></tr><tr><td class = \"rowNumber\" style = \"font-weight: bold; text-align: right;\">2353</td><td style = \"text-align: right;\">1229</td><td style = \"text-align: right;\">1229</td><td style = \"text-align: right;\">8</td><td style = \"font-style: italic; text-align: right;\">missing</td></tr><tr><td class = \"rowNumber\" style = \"font-weight: bold; text-align: right;\">2354</td><td style = \"text-align: right;\">1229</td><td style = \"text-align: right;\">1229</td><td style = \"text-align: right;\">9</td><td style = \"font-style: italic; text-align: right;\">missing</td></tr><tr><td class = \"rowNumber\" style = \"font-weight: bold; text-align: right;\">2355</td><td style = \"text-align: right;\">1229</td><td style = \"text-align: right;\">1229</td><td style = \"text-align: right;\">6</td><td style = \"font-style: italic; text-align: right;\">missing</td></tr><tr><td class = \"rowNumber\" style = \"font-weight: bold; text-align: right;\">2356</td><td style = \"text-align: right;\">1229</td><td style = \"text-align: right;\">1229</td><td style = \"text-align: right;\">7</td><td style = \"font-style: italic; text-align: right;\">missing</td></tr></tbody></table></div>"
            ],
            "text/latex": "\\begin{tabular}{r|cccc}\n\t& F & L & N & gpa\\\\\n\t\\hline\n\t& Int64 & Int64 & Int64 & Float64?\\\\\n\t\\hline\n\t1 & 1209 & 1212 & 15 & 1.76 \\\\\n\t2 & 1209 & 1209 & 9 & 0.1 \\\\\n\t3 & 1209 & 1222 & 23 & 3.78 \\\\\n\t4 & 1209 & 1212 & 13 & 1.36 \\\\\n\t5 & 1209 & 1212 & 12 & 3.56 \\\\\n\t6 & 1209 & 1222 & 25 & 3.24 \\\\\n\t7 & 1209 & 1229 & 27 & 3.33 \\\\\n\t8 & 1209 & 1229 & 30 & 2.82 \\\\\n\t9 & 1209 & 1212 & 13 & 0.1 \\\\\n\t10 & 1209 & 1229 & 26 & 2.66 \\\\\n\t11 & 1209 & 1219 & 16 & 1.87 \\\\\n\t12 & 1209 & 1209 & 6 & \\emph{missing} \\\\\n\t13 & 1209 & 1229 & 11 & 3.1 \\\\\n\t14 & 1209 & 1212 & 6 & 3.95 \\\\\n\t15 & 1209 & 1209 & 5 & 4.1 \\\\\n\t16 & 1209 & 1229 & 22 & 3.02 \\\\\n\t17 & 1209 & 1229 & 29 & 3.21 \\\\\n\t18 & 1209 & 1209 & 6 & 4.1 \\\\\n\t19 & 1209 & 1212 & 7 & 4.1 \\\\\n\t20 & 1209 & 1229 & 24 & 3.61 \\\\\n\t21 & 1209 & 1212 & 13 & 3.25 \\\\\n\t22 & 1209 & 1212 & 14 & 2.43 \\\\\n\t23 & 1209 & 1209 & 9 & \\emph{missing} \\\\\n\t24 & 1209 & 1219 & 19 & 3.4 \\\\\n\t25 & 1209 & 1229 & 27 & 3.82 \\\\\n\t26 & 1209 & 1219 & 14 & 3.65 \\\\\n\t27 & 1209 & 1219 & 17 & 3.52 \\\\\n\t28 & 1209 & 1219 & 17 & 4.07 \\\\\n\t29 & 1209 & 1209 & 8 & 0.1 \\\\\n\t30 & 1209 & 1219 & 17 & 2.05 \\\\\n\t$\\dots$ & $\\dots$ & $\\dots$ & $\\dots$ & $\\dots$ \\\\\n\\end{tabular}\n"
          },
          "metadata": {},
          "execution_count": 74
        }
      ],
      "cell_type": "code",
      "source": [
        "filter(:F => >=(1209), d)"
      ],
      "metadata": {
        "id": "v7-N2tO0j-TX",
        "outputId": "0f300319-be3b-44d7-8acf-6fce59a470ac",
        "colab": {
          "base_uri": "https://localhost:8080/",
          "height": 651
        }
      },
      "execution_count": 74
    },
    {
      "cell_type": "markdown",
      "source": [
        "To explain a bit:\n"
      ],
      "metadata": {
        "id": "ZkWFqzQMj-TX"
      }
    },
    {
      "cell_type": "markdown",
      "source": [
        "  * `>=(1209)` is a curried from of `>=(x,y)` with `y=1209` – there are a few such operators for convenience with such tasks;\n",
        "  * `subset` needs `ByRow` (to ensure the function consumes an element in the column, not the entire column), whereas `filter` does not, as `filter` returns rows that match the function, so pass rows to the function, whereas, `subset` passes the whole column.)\n",
        "  * The `r -> r.F == 1209` anonymous function is probably clearer...\n"
      ],
      "metadata": {
        "id": "SWfbzlqqj-TX"
      }
    },
    {
      "cell_type": "markdown",
      "source": [
        "---\n"
      ],
      "metadata": {
        "id": "494WuqWoj-TX"
      }
    },
    {
      "outputs": [
        {
          "output_type": "execute_result",
          "data": {
            "text/plain": [
              "\u001b[1m599×4 DataFrame\n",
              "\u001b[1m Row │\u001b[1m F     \u001b[1m L     \u001b[1m N     \u001b[1m gpa\n",
              "     │\u001b[90m Int64 \u001b[90m Int64 \u001b[90m Int64 \u001b[90m Float64?\n",
              "─────┼───────────────────────────────\n",
              "   1 │  1229   1229      5 \u001b[90m  missing\n",
              "   2 │  1229   1229      8 \u001b[90m  missing\n",
              "   3 │  1229   1229      9 \u001b[90m  missing\n",
              "   4 │  1229   1229      6 \u001b[90m  missing\n",
              "   5 │  1229   1229      9 \u001b[90m  missing\n",
              "   6 │  1229   1229      8 \u001b[90m  missing\n",
              "   7 │  1229   1229      9 \u001b[90m  missing\n",
              "   8 │  1229   1229     10 \u001b[90m  missing\n",
              "   9 │  1229   1229      9 \u001b[90m  missing\n",
              "  10 │  1229   1229      7 \u001b[90m  missing\n",
              "  11 │  1229   1229      5 \u001b[90m  missing\n",
              "  ⋮  │   ⋮      ⋮      ⋮       ⋮\n",
              " 590 │  1229   1229      8 \u001b[90m  missing\n",
              " 591 │  1229   1229      8 \u001b[90m  missing\n",
              " 592 │  1229   1229     12 \u001b[90m  missing\n",
              " 593 │  1229   1229      8 \u001b[90m  missing\n",
              " 594 │  1229   1229      9 \u001b[90m  missing\n",
              " 595 │  1229   1229      9 \u001b[90m  missing\n",
              " 596 │  1229   1229      8 \u001b[90m  missing\n",
              " 597 │  1229   1229      9 \u001b[90m  missing\n",
              " 598 │  1229   1229      6 \u001b[90m  missing\n",
              " 599 │  1229   1229      7 \u001b[90m  missing\n",
              "\u001b[36m                     578 rows omitted"
            ],
            "text/html": [
              "<div><div style = \"float: left;\"><span>599×4 DataFrame</span></div><div style = \"float: right;\"><span style = \"font-style: italic;\">574 rows omitted</span></div><div style = \"clear: both;\"></div></div><div class = \"data-frame\" style = \"overflow-x: scroll;\"><table class = \"data-frame\" style = \"margin-bottom: 6px;\"><thead><tr class = \"header\"><th class = \"rowNumber\" style = \"font-weight: bold; text-align: right;\">Row</th><th style = \"text-align: left;\">F</th><th style = \"text-align: left;\">L</th><th style = \"text-align: left;\">N</th><th style = \"text-align: left;\">gpa</th></tr><tr class = \"subheader headerLastRow\"><th class = \"rowNumber\" style = \"font-weight: bold; text-align: right;\"></th><th title = \"Int64\" style = \"text-align: left;\">Int64</th><th title = \"Int64\" style = \"text-align: left;\">Int64</th><th title = \"Int64\" style = \"text-align: left;\">Int64</th><th title = \"Union{Missing, Float64}\" style = \"text-align: left;\">Float64?</th></tr></thead><tbody><tr><td class = \"rowNumber\" style = \"font-weight: bold; text-align: right;\">1</td><td style = \"text-align: right;\">1229</td><td style = \"text-align: right;\">1229</td><td style = \"text-align: right;\">5</td><td style = \"font-style: italic; text-align: right;\">missing</td></tr><tr><td class = \"rowNumber\" style = \"font-weight: bold; text-align: right;\">2</td><td style = \"text-align: right;\">1229</td><td style = \"text-align: right;\">1229</td><td style = \"text-align: right;\">8</td><td style = \"font-style: italic; text-align: right;\">missing</td></tr><tr><td class = \"rowNumber\" style = \"font-weight: bold; text-align: right;\">3</td><td style = \"text-align: right;\">1229</td><td style = \"text-align: right;\">1229</td><td style = \"text-align: right;\">9</td><td style = \"font-style: italic; text-align: right;\">missing</td></tr><tr><td class = \"rowNumber\" style = \"font-weight: bold; text-align: right;\">4</td><td style = \"text-align: right;\">1229</td><td style = \"text-align: right;\">1229</td><td style = \"text-align: right;\">6</td><td style = \"font-style: italic; text-align: right;\">missing</td></tr><tr><td class = \"rowNumber\" style = \"font-weight: bold; text-align: right;\">5</td><td style = \"text-align: right;\">1229</td><td style = \"text-align: right;\">1229</td><td style = \"text-align: right;\">9</td><td style = \"font-style: italic; text-align: right;\">missing</td></tr><tr><td class = \"rowNumber\" style = \"font-weight: bold; text-align: right;\">6</td><td style = \"text-align: right;\">1229</td><td style = \"text-align: right;\">1229</td><td style = \"text-align: right;\">8</td><td style = \"font-style: italic; text-align: right;\">missing</td></tr><tr><td class = \"rowNumber\" style = \"font-weight: bold; text-align: right;\">7</td><td style = \"text-align: right;\">1229</td><td style = \"text-align: right;\">1229</td><td style = \"text-align: right;\">9</td><td style = \"font-style: italic; text-align: right;\">missing</td></tr><tr><td class = \"rowNumber\" style = \"font-weight: bold; text-align: right;\">8</td><td style = \"text-align: right;\">1229</td><td style = \"text-align: right;\">1229</td><td style = \"text-align: right;\">10</td><td style = \"font-style: italic; text-align: right;\">missing</td></tr><tr><td class = \"rowNumber\" style = \"font-weight: bold; text-align: right;\">9</td><td style = \"text-align: right;\">1229</td><td style = \"text-align: right;\">1229</td><td style = \"text-align: right;\">9</td><td style = \"font-style: italic; text-align: right;\">missing</td></tr><tr><td class = \"rowNumber\" style = \"font-weight: bold; text-align: right;\">10</td><td style = \"text-align: right;\">1229</td><td style = \"text-align: right;\">1229</td><td style = \"text-align: right;\">7</td><td style = \"font-style: italic; text-align: right;\">missing</td></tr><tr><td class = \"rowNumber\" style = \"font-weight: bold; text-align: right;\">11</td><td style = \"text-align: right;\">1229</td><td style = \"text-align: right;\">1229</td><td style = \"text-align: right;\">5</td><td style = \"font-style: italic; text-align: right;\">missing</td></tr><tr><td class = \"rowNumber\" style = \"font-weight: bold; text-align: right;\">12</td><td style = \"text-align: right;\">1229</td><td style = \"text-align: right;\">1229</td><td style = \"text-align: right;\">9</td><td style = \"font-style: italic; text-align: right;\">missing</td></tr><tr><td class = \"rowNumber\" style = \"font-weight: bold; text-align: right;\">13</td><td style = \"text-align: right;\">1229</td><td style = \"text-align: right;\">1229</td><td style = \"text-align: right;\">6</td><td style = \"font-style: italic; text-align: right;\">missing</td></tr><tr><td style = \"text-align: right;\">&vellip;</td><td style = \"text-align: right;\">&vellip;</td><td style = \"text-align: right;\">&vellip;</td><td style = \"text-align: right;\">&vellip;</td><td style = \"text-align: right;\">&vellip;</td></tr><tr><td class = \"rowNumber\" style = \"font-weight: bold; text-align: right;\">588</td><td style = \"text-align: right;\">1229</td><td style = \"text-align: right;\">1229</td><td style = \"text-align: right;\">9</td><td style = \"font-style: italic; text-align: right;\">missing</td></tr><tr><td class = \"rowNumber\" style = \"font-weight: bold; text-align: right;\">589</td><td style = \"text-align: right;\">1229</td><td style = \"text-align: right;\">1229</td><td style = \"text-align: right;\">6</td><td style = \"font-style: italic; text-align: right;\">missing</td></tr><tr><td class = \"rowNumber\" style = \"font-weight: bold; text-align: right;\">590</td><td style = \"text-align: right;\">1229</td><td style = \"text-align: right;\">1229</td><td style = \"text-align: right;\">8</td><td style = \"font-style: italic; text-align: right;\">missing</td></tr><tr><td class = \"rowNumber\" style = \"font-weight: bold; text-align: right;\">591</td><td style = \"text-align: right;\">1229</td><td style = \"text-align: right;\">1229</td><td style = \"text-align: right;\">8</td><td style = \"font-style: italic; text-align: right;\">missing</td></tr><tr><td class = \"rowNumber\" style = \"font-weight: bold; text-align: right;\">592</td><td style = \"text-align: right;\">1229</td><td style = \"text-align: right;\">1229</td><td style = \"text-align: right;\">12</td><td style = \"font-style: italic; text-align: right;\">missing</td></tr><tr><td class = \"rowNumber\" style = \"font-weight: bold; text-align: right;\">593</td><td style = \"text-align: right;\">1229</td><td style = \"text-align: right;\">1229</td><td style = \"text-align: right;\">8</td><td style = \"font-style: italic; text-align: right;\">missing</td></tr><tr><td class = \"rowNumber\" style = \"font-weight: bold; text-align: right;\">594</td><td style = \"text-align: right;\">1229</td><td style = \"text-align: right;\">1229</td><td style = \"text-align: right;\">9</td><td style = \"font-style: italic; text-align: right;\">missing</td></tr><tr><td class = \"rowNumber\" style = \"font-weight: bold; text-align: right;\">595</td><td style = \"text-align: right;\">1229</td><td style = \"text-align: right;\">1229</td><td style = \"text-align: right;\">9</td><td style = \"font-style: italic; text-align: right;\">missing</td></tr><tr><td class = \"rowNumber\" style = \"font-weight: bold; text-align: right;\">596</td><td style = \"text-align: right;\">1229</td><td style = \"text-align: right;\">1229</td><td style = \"text-align: right;\">8</td><td style = \"font-style: italic; text-align: right;\">missing</td></tr><tr><td class = \"rowNumber\" style = \"font-weight: bold; text-align: right;\">597</td><td style = \"text-align: right;\">1229</td><td style = \"text-align: right;\">1229</td><td style = \"text-align: right;\">9</td><td style = \"font-style: italic; text-align: right;\">missing</td></tr><tr><td class = \"rowNumber\" style = \"font-weight: bold; text-align: right;\">598</td><td style = \"text-align: right;\">1229</td><td style = \"text-align: right;\">1229</td><td style = \"text-align: right;\">6</td><td style = \"font-style: italic; text-align: right;\">missing</td></tr><tr><td class = \"rowNumber\" style = \"font-weight: bold; text-align: right;\">599</td><td style = \"text-align: right;\">1229</td><td style = \"text-align: right;\">1229</td><td style = \"text-align: right;\">7</td><td style = \"font-style: italic; text-align: right;\">missing</td></tr></tbody></table></div>"
            ],
            "text/latex": "\\begin{tabular}{r|cccc}\n\t& F & L & N & gpa\\\\\n\t\\hline\n\t& Int64 & Int64 & Int64 & Float64?\\\\\n\t\\hline\n\t1 & 1229 & 1229 & 5 & \\emph{missing} \\\\\n\t2 & 1229 & 1229 & 8 & \\emph{missing} \\\\\n\t3 & 1229 & 1229 & 9 & \\emph{missing} \\\\\n\t4 & 1229 & 1229 & 6 & \\emph{missing} \\\\\n\t5 & 1229 & 1229 & 9 & \\emph{missing} \\\\\n\t6 & 1229 & 1229 & 8 & \\emph{missing} \\\\\n\t7 & 1229 & 1229 & 9 & \\emph{missing} \\\\\n\t8 & 1229 & 1229 & 10 & \\emph{missing} \\\\\n\t9 & 1229 & 1229 & 9 & \\emph{missing} \\\\\n\t10 & 1229 & 1229 & 7 & \\emph{missing} \\\\\n\t11 & 1229 & 1229 & 5 & \\emph{missing} \\\\\n\t12 & 1229 & 1229 & 9 & \\emph{missing} \\\\\n\t13 & 1229 & 1229 & 6 & \\emph{missing} \\\\\n\t14 & 1229 & 1229 & 9 & \\emph{missing} \\\\\n\t15 & 1229 & 1229 & 5 & \\emph{missing} \\\\\n\t16 & 1229 & 1229 & 8 & \\emph{missing} \\\\\n\t17 & 1229 & 1229 & 6 & \\emph{missing} \\\\\n\t18 & 1229 & 1229 & 9 & \\emph{missing} \\\\\n\t19 & 1229 & 1229 & 9 & \\emph{missing} \\\\\n\t20 & 1229 & 1229 & 8 & \\emph{missing} \\\\\n\t21 & 1229 & 1229 & 9 & \\emph{missing} \\\\\n\t22 & 1229 & 1229 & 8 & \\emph{missing} \\\\\n\t23 & 1229 & 1229 & 8 & \\emph{missing} \\\\\n\t24 & 1229 & 1229 & 5 & \\emph{missing} \\\\\n\t25 & 1229 & 1229 & 9 & \\emph{missing} \\\\\n\t26 & 1229 & 1229 & 9 & \\emph{missing} \\\\\n\t27 & 1229 & 1229 & 5 & \\emph{missing} \\\\\n\t28 & 1229 & 1229 & 9 & \\emph{missing} \\\\\n\t29 & 1229 & 1229 & 8 & \\emph{missing} \\\\\n\t30 & 1229 & 1229 & 10 & \\emph{missing} \\\\\n\t$\\dots$ & $\\dots$ & $\\dots$ & $\\dots$ & $\\dots$ \\\\\n\\end{tabular}\n"
          },
          "metadata": {},
          "execution_count": 75
        }
      ],
      "cell_type": "code",
      "source": [
        "# 💻 Using `filter` extract those students whose first term was `1229`. How many were there?\n",
        "filter(:F => >=(1229), d)"
      ],
      "metadata": {
        "id": "FlJI30MKj-TX",
        "outputId": "1802e893-27d4-46c2-ffff-b621ce3620d0",
        "colab": {
          "base_uri": "https://localhost:8080/",
          "height": 651
        }
      },
      "execution_count": 75
    },
    {
      "outputs": [
        {
          "output_type": "execute_result",
          "data": {
            "text/plain": [
              "\u001b[1m15×2 DataFrame\n",
              "\u001b[1m Row │\u001b[1m F     \u001b[1m cnt\n",
              "     │\u001b[90m Int64 \u001b[90m Int64\n",
              "─────┼──────────────\n",
              "   1 │  1159    456\n",
              "   2 │  1162    281\n",
              "   3 │  1169    719\n",
              "   4 │  1172    281\n",
              "   5 │  1179    800\n",
              "   6 │  1182    253\n",
              "   7 │  1189    762\n",
              "   8 │  1192    240\n",
              "   9 │  1199    701\n",
              "  10 │  1202    263\n",
              "  11 │  1209    719\n",
              "  12 │  1212    207\n",
              "  13 │  1219    662\n",
              "  14 │  1222    169\n",
              "  15 │  1229    599"
            ],
            "text/html": [
              "<div><div style = \"float: left;\"><span>15×2 DataFrame</span></div><div style = \"clear: both;\"></div></div><div class = \"data-frame\" style = \"overflow-x: scroll;\"><table class = \"data-frame\" style = \"margin-bottom: 6px;\"><thead><tr class = \"header\"><th class = \"rowNumber\" style = \"font-weight: bold; text-align: right;\">Row</th><th style = \"text-align: left;\">F</th><th style = \"text-align: left;\">cnt</th></tr><tr class = \"subheader headerLastRow\"><th class = \"rowNumber\" style = \"font-weight: bold; text-align: right;\"></th><th title = \"Int64\" style = \"text-align: left;\">Int64</th><th title = \"Int64\" style = \"text-align: left;\">Int64</th></tr></thead><tbody><tr><td class = \"rowNumber\" style = \"font-weight: bold; text-align: right;\">1</td><td style = \"text-align: right;\">1159</td><td style = \"text-align: right;\">456</td></tr><tr><td class = \"rowNumber\" style = \"font-weight: bold; text-align: right;\">2</td><td style = \"text-align: right;\">1162</td><td style = \"text-align: right;\">281</td></tr><tr><td class = \"rowNumber\" style = \"font-weight: bold; text-align: right;\">3</td><td style = \"text-align: right;\">1169</td><td style = \"text-align: right;\">719</td></tr><tr><td class = \"rowNumber\" style = \"font-weight: bold; text-align: right;\">4</td><td style = \"text-align: right;\">1172</td><td style = \"text-align: right;\">281</td></tr><tr><td class = \"rowNumber\" style = \"font-weight: bold; text-align: right;\">5</td><td style = \"text-align: right;\">1179</td><td style = \"text-align: right;\">800</td></tr><tr><td class = \"rowNumber\" style = \"font-weight: bold; text-align: right;\">6</td><td style = \"text-align: right;\">1182</td><td style = \"text-align: right;\">253</td></tr><tr><td class = \"rowNumber\" style = \"font-weight: bold; text-align: right;\">7</td><td style = \"text-align: right;\">1189</td><td style = \"text-align: right;\">762</td></tr><tr><td class = \"rowNumber\" style = \"font-weight: bold; text-align: right;\">8</td><td style = \"text-align: right;\">1192</td><td style = \"text-align: right;\">240</td></tr><tr><td class = \"rowNumber\" style = \"font-weight: bold; text-align: right;\">9</td><td style = \"text-align: right;\">1199</td><td style = \"text-align: right;\">701</td></tr><tr><td class = \"rowNumber\" style = \"font-weight: bold; text-align: right;\">10</td><td style = \"text-align: right;\">1202</td><td style = \"text-align: right;\">263</td></tr><tr><td class = \"rowNumber\" style = \"font-weight: bold; text-align: right;\">11</td><td style = \"text-align: right;\">1209</td><td style = \"text-align: right;\">719</td></tr><tr><td class = \"rowNumber\" style = \"font-weight: bold; text-align: right;\">12</td><td style = \"text-align: right;\">1212</td><td style = \"text-align: right;\">207</td></tr><tr><td class = \"rowNumber\" style = \"font-weight: bold; text-align: right;\">13</td><td style = \"text-align: right;\">1219</td><td style = \"text-align: right;\">662</td></tr><tr><td class = \"rowNumber\" style = \"font-weight: bold; text-align: right;\">14</td><td style = \"text-align: right;\">1222</td><td style = \"text-align: right;\">169</td></tr><tr><td class = \"rowNumber\" style = \"font-weight: bold; text-align: right;\">15</td><td style = \"text-align: right;\">1229</td><td style = \"text-align: right;\">599</td></tr></tbody></table></div>"
            ],
            "text/latex": "\\begin{tabular}{r|cc}\n\t& F & cnt\\\\\n\t\\hline\n\t& Int64 & Int64\\\\\n\t\\hline\n\t1 & 1159 & 456 \\\\\n\t2 & 1162 & 281 \\\\\n\t3 & 1169 & 719 \\\\\n\t4 & 1172 & 281 \\\\\n\t5 & 1179 & 800 \\\\\n\t6 & 1182 & 253 \\\\\n\t7 & 1189 & 762 \\\\\n\t8 & 1192 & 240 \\\\\n\t9 & 1199 & 701 \\\\\n\t10 & 1202 & 263 \\\\\n\t11 & 1209 & 719 \\\\\n\t12 & 1212 & 207 \\\\\n\t13 & 1219 & 662 \\\\\n\t14 & 1222 & 169 \\\\\n\t15 & 1229 & 599 \\\\\n\\end{tabular}\n"
          },
          "metadata": {},
          "execution_count": 76
        }
      ],
      "cell_type": "code",
      "source": [
        "# 💻 Can you answer the same question for all terms using `combine`, say?\n",
        "combine(groupby(d, :F), :F => length => :cnt)"
      ],
      "metadata": {
        "id": "GgQtO-QTj-TX",
        "outputId": "4a5892ae-a583-4ea9-dafe-24539152d28b",
        "colab": {
          "base_uri": "https://localhost:8080/",
          "height": 418
        }
      },
      "execution_count": 76
    },
    {
      "cell_type": "markdown",
      "source": [
        "---\n"
      ],
      "metadata": {
        "id": "f5bs4DrEj-TX"
      }
    },
    {
      "cell_type": "markdown",
      "source": [
        "### Creating new columns\n"
      ],
      "metadata": {
        "internals": {
          "slide_type": "subslide"
        },
        "slide_helper": "slide_end",
        "id": "SHplTmAGj-TY"
      }
    },
    {
      "cell_type": "markdown",
      "source": [
        "We want to compute how many semesters a student stayed. The data is computable as we have the first and last (`.F` and `.L`) semesters recorded. However, the semester uses an idiosyncratic storage (a leading `1`, two digit year, semester with spring=`1`, fall=`9`.)\n"
      ],
      "metadata": {
        "id": "-OFkaF7Yj-TY"
      }
    },
    {
      "cell_type": "markdown",
      "source": [
        "Here we decode:\n"
      ],
      "metadata": {
        "id": "g_GzSH_oj-TY"
      }
    },
    {
      "outputs": [
        {
          "output_type": "execute_result",
          "data": {
            "text/plain": [
              "decode_semester (generic function with 1 method)"
            ]
          },
          "metadata": {},
          "execution_count": 77
        }
      ],
      "cell_type": "code",
      "source": [
        "function decode_semester(x)\n",
        "    yr  = div(x - 1000, 10)   # 1229 -> 22\n",
        "    val = rem(x, 10) == 2 ? 0.0 : 0.5 # 1229 -> 22 + 0.5; 1222 -> 22 + 0.0\n",
        "    yr + val\n",
        "end"
      ],
      "metadata": {
        "id": "ia6cPA0Yj-TY",
        "outputId": "dfc23020-75cb-4268-b989-72ff3c6c5ed9",
        "colab": {
          "base_uri": "https://localhost:8080/",
          "height": 0
        }
      },
      "execution_count": 77
    },
    {
      "cell_type": "markdown",
      "source": [
        "We want to combine the `:F` and `:L` columns and make a new column.  For use, this becomes\n"
      ],
      "metadata": {
        "id": "vLz7MPyvj-TY"
      }
    },
    {
      "outputs": [
        {
          "output_type": "execute_result",
          "data": {
            "text/plain": [
              "\u001b[1m7112×5 DataFrame\n",
              "\u001b[1m  Row │\u001b[1m F     \u001b[1m L     \u001b[1m N     \u001b[1m gpa        \u001b[1m semesters\n",
              "      │\u001b[90m Int64 \u001b[90m Int64 \u001b[90m Int64 \u001b[90m Float64?   \u001b[90m Float64\n",
              "──────┼────────────────────────────────────────────\n",
              "    1 │  1159   1162     11        3.34        1.0\n",
              "    2 │  1159   1192     41        2.51        4.0\n",
              "    3 │  1159   1172      9        4.1         2.0\n",
              "    4 │  1159   1189     23        2.7         3.5\n",
              "    5 │  1159   1192     34        3.8         4.0\n",
              "    6 │  1159   1202     41        2.81        5.0\n",
              "    7 │  1159   1159      7        4.1         0.5\n",
              "    8 │  1159   1222     20        3.74        7.0\n",
              "    9 │  1159   1182     16        0.96        3.0\n",
              "   10 │  1159   1162      7        3.8         1.0\n",
              "   11 │  1159   1192     46        4.0         4.0\n",
              "  ⋮   │   ⋮      ⋮      ⋮        ⋮           ⋮\n",
              " 7103 │  1229   1229      8 \u001b[90m missing           0.5\n",
              " 7104 │  1229   1229      8 \u001b[90m missing           0.5\n",
              " 7105 │  1229   1229     12 \u001b[90m missing           0.5\n",
              " 7106 │  1229   1229      8 \u001b[90m missing           0.5\n",
              " 7107 │  1229   1229      9 \u001b[90m missing           0.5\n",
              " 7108 │  1229   1229      9 \u001b[90m missing           0.5\n",
              " 7109 │  1229   1229      8 \u001b[90m missing           0.5\n",
              " 7110 │  1229   1229      9 \u001b[90m missing           0.5\n",
              " 7111 │  1229   1229      6 \u001b[90m missing           0.5\n",
              " 7112 │  1229   1229      7 \u001b[90m missing           0.5\n",
              "\u001b[36m                                  7091 rows omitted"
            ],
            "text/html": [
              "<div><div style = \"float: left;\"><span>7112×5 DataFrame</span></div><div style = \"float: right;\"><span style = \"font-style: italic;\">7087 rows omitted</span></div><div style = \"clear: both;\"></div></div><div class = \"data-frame\" style = \"overflow-x: scroll;\"><table class = \"data-frame\" style = \"margin-bottom: 6px;\"><thead><tr class = \"header\"><th class = \"rowNumber\" style = \"font-weight: bold; text-align: right;\">Row</th><th style = \"text-align: left;\">F</th><th style = \"text-align: left;\">L</th><th style = \"text-align: left;\">N</th><th style = \"text-align: left;\">gpa</th><th style = \"text-align: left;\">semesters</th></tr><tr class = \"subheader headerLastRow\"><th class = \"rowNumber\" style = \"font-weight: bold; text-align: right;\"></th><th title = \"Int64\" style = \"text-align: left;\">Int64</th><th title = \"Int64\" style = \"text-align: left;\">Int64</th><th title = \"Int64\" style = \"text-align: left;\">Int64</th><th title = \"Union{Missing, Float64}\" style = \"text-align: left;\">Float64?</th><th title = \"Float64\" style = \"text-align: left;\">Float64</th></tr></thead><tbody><tr><td class = \"rowNumber\" style = \"font-weight: bold; text-align: right;\">1</td><td style = \"text-align: right;\">1159</td><td style = \"text-align: right;\">1162</td><td style = \"text-align: right;\">11</td><td style = \"text-align: right;\">3.34</td><td style = \"text-align: right;\">1.0</td></tr><tr><td class = \"rowNumber\" style = \"font-weight: bold; text-align: right;\">2</td><td style = \"text-align: right;\">1159</td><td style = \"text-align: right;\">1192</td><td style = \"text-align: right;\">41</td><td style = \"text-align: right;\">2.51</td><td style = \"text-align: right;\">4.0</td></tr><tr><td class = \"rowNumber\" style = \"font-weight: bold; text-align: right;\">3</td><td style = \"text-align: right;\">1159</td><td style = \"text-align: right;\">1172</td><td style = \"text-align: right;\">9</td><td style = \"text-align: right;\">4.1</td><td style = \"text-align: right;\">2.0</td></tr><tr><td class = \"rowNumber\" style = \"font-weight: bold; text-align: right;\">4</td><td style = \"text-align: right;\">1159</td><td style = \"text-align: right;\">1189</td><td style = \"text-align: right;\">23</td><td style = \"text-align: right;\">2.7</td><td style = \"text-align: right;\">3.5</td></tr><tr><td class = \"rowNumber\" style = \"font-weight: bold; text-align: right;\">5</td><td style = \"text-align: right;\">1159</td><td style = \"text-align: right;\">1192</td><td style = \"text-align: right;\">34</td><td style = \"text-align: right;\">3.8</td><td style = \"text-align: right;\">4.0</td></tr><tr><td class = \"rowNumber\" style = \"font-weight: bold; text-align: right;\">6</td><td style = \"text-align: right;\">1159</td><td style = \"text-align: right;\">1202</td><td style = \"text-align: right;\">41</td><td style = \"text-align: right;\">2.81</td><td style = \"text-align: right;\">5.0</td></tr><tr><td class = \"rowNumber\" style = \"font-weight: bold; text-align: right;\">7</td><td style = \"text-align: right;\">1159</td><td style = \"text-align: right;\">1159</td><td style = \"text-align: right;\">7</td><td style = \"text-align: right;\">4.1</td><td style = \"text-align: right;\">0.5</td></tr><tr><td class = \"rowNumber\" style = \"font-weight: bold; text-align: right;\">8</td><td style = \"text-align: right;\">1159</td><td style = \"text-align: right;\">1222</td><td style = \"text-align: right;\">20</td><td style = \"text-align: right;\">3.74</td><td style = \"text-align: right;\">7.0</td></tr><tr><td class = \"rowNumber\" style = \"font-weight: bold; text-align: right;\">9</td><td style = \"text-align: right;\">1159</td><td style = \"text-align: right;\">1182</td><td style = \"text-align: right;\">16</td><td style = \"text-align: right;\">0.96</td><td style = \"text-align: right;\">3.0</td></tr><tr><td class = \"rowNumber\" style = \"font-weight: bold; text-align: right;\">10</td><td style = \"text-align: right;\">1159</td><td style = \"text-align: right;\">1162</td><td style = \"text-align: right;\">7</td><td style = \"text-align: right;\">3.8</td><td style = \"text-align: right;\">1.0</td></tr><tr><td class = \"rowNumber\" style = \"font-weight: bold; text-align: right;\">11</td><td style = \"text-align: right;\">1159</td><td style = \"text-align: right;\">1192</td><td style = \"text-align: right;\">46</td><td style = \"text-align: right;\">4.0</td><td style = \"text-align: right;\">4.0</td></tr><tr><td class = \"rowNumber\" style = \"font-weight: bold; text-align: right;\">12</td><td style = \"text-align: right;\">1159</td><td style = \"text-align: right;\">1212</td><td style = \"text-align: right;\">43</td><td style = \"text-align: right;\">2.74</td><td style = \"text-align: right;\">6.0</td></tr><tr><td class = \"rowNumber\" style = \"font-weight: bold; text-align: right;\">13</td><td style = \"text-align: right;\">1159</td><td style = \"text-align: right;\">1182</td><td style = \"text-align: right;\">45</td><td style = \"text-align: right;\">3.8</td><td style = \"text-align: right;\">3.0</td></tr><tr><td style = \"text-align: right;\">&vellip;</td><td style = \"text-align: right;\">&vellip;</td><td style = \"text-align: right;\">&vellip;</td><td style = \"text-align: right;\">&vellip;</td><td style = \"text-align: right;\">&vellip;</td><td style = \"text-align: right;\">&vellip;</td></tr><tr><td class = \"rowNumber\" style = \"font-weight: bold; text-align: right;\">7101</td><td style = \"text-align: right;\">1229</td><td style = \"text-align: right;\">1229</td><td style = \"text-align: right;\">9</td><td style = \"font-style: italic; text-align: right;\">missing</td><td style = \"text-align: right;\">0.5</td></tr><tr><td class = \"rowNumber\" style = \"font-weight: bold; text-align: right;\">7102</td><td style = \"text-align: right;\">1229</td><td style = \"text-align: right;\">1229</td><td style = \"text-align: right;\">6</td><td style = \"font-style: italic; text-align: right;\">missing</td><td style = \"text-align: right;\">0.5</td></tr><tr><td class = \"rowNumber\" style = \"font-weight: bold; text-align: right;\">7103</td><td style = \"text-align: right;\">1229</td><td style = \"text-align: right;\">1229</td><td style = \"text-align: right;\">8</td><td style = \"font-style: italic; text-align: right;\">missing</td><td style = \"text-align: right;\">0.5</td></tr><tr><td class = \"rowNumber\" style = \"font-weight: bold; text-align: right;\">7104</td><td style = \"text-align: right;\">1229</td><td style = \"text-align: right;\">1229</td><td style = \"text-align: right;\">8</td><td style = \"font-style: italic; text-align: right;\">missing</td><td style = \"text-align: right;\">0.5</td></tr><tr><td class = \"rowNumber\" style = \"font-weight: bold; text-align: right;\">7105</td><td style = \"text-align: right;\">1229</td><td style = \"text-align: right;\">1229</td><td style = \"text-align: right;\">12</td><td style = \"font-style: italic; text-align: right;\">missing</td><td style = \"text-align: right;\">0.5</td></tr><tr><td class = \"rowNumber\" style = \"font-weight: bold; text-align: right;\">7106</td><td style = \"text-align: right;\">1229</td><td style = \"text-align: right;\">1229</td><td style = \"text-align: right;\">8</td><td style = \"font-style: italic; text-align: right;\">missing</td><td style = \"text-align: right;\">0.5</td></tr><tr><td class = \"rowNumber\" style = \"font-weight: bold; text-align: right;\">7107</td><td style = \"text-align: right;\">1229</td><td style = \"text-align: right;\">1229</td><td style = \"text-align: right;\">9</td><td style = \"font-style: italic; text-align: right;\">missing</td><td style = \"text-align: right;\">0.5</td></tr><tr><td class = \"rowNumber\" style = \"font-weight: bold; text-align: right;\">7108</td><td style = \"text-align: right;\">1229</td><td style = \"text-align: right;\">1229</td><td style = \"text-align: right;\">9</td><td style = \"font-style: italic; text-align: right;\">missing</td><td style = \"text-align: right;\">0.5</td></tr><tr><td class = \"rowNumber\" style = \"font-weight: bold; text-align: right;\">7109</td><td style = \"text-align: right;\">1229</td><td style = \"text-align: right;\">1229</td><td style = \"text-align: right;\">8</td><td style = \"font-style: italic; text-align: right;\">missing</td><td style = \"text-align: right;\">0.5</td></tr><tr><td class = \"rowNumber\" style = \"font-weight: bold; text-align: right;\">7110</td><td style = \"text-align: right;\">1229</td><td style = \"text-align: right;\">1229</td><td style = \"text-align: right;\">9</td><td style = \"font-style: italic; text-align: right;\">missing</td><td style = \"text-align: right;\">0.5</td></tr><tr><td class = \"rowNumber\" style = \"font-weight: bold; text-align: right;\">7111</td><td style = \"text-align: right;\">1229</td><td style = \"text-align: right;\">1229</td><td style = \"text-align: right;\">6</td><td style = \"font-style: italic; text-align: right;\">missing</td><td style = \"text-align: right;\">0.5</td></tr><tr><td class = \"rowNumber\" style = \"font-weight: bold; text-align: right;\">7112</td><td style = \"text-align: right;\">1229</td><td style = \"text-align: right;\">1229</td><td style = \"text-align: right;\">7</td><td style = \"font-style: italic; text-align: right;\">missing</td><td style = \"text-align: right;\">0.5</td></tr></tbody></table></div>"
            ],
            "text/latex": "\\begin{tabular}{r|ccccc}\n\t& F & L & N & gpa & semesters\\\\\n\t\\hline\n\t& Int64 & Int64 & Int64 & Float64? & Float64\\\\\n\t\\hline\n\t1 & 1159 & 1162 & 11 & 3.34 & 1.0 \\\\\n\t2 & 1159 & 1192 & 41 & 2.51 & 4.0 \\\\\n\t3 & 1159 & 1172 & 9 & 4.1 & 2.0 \\\\\n\t4 & 1159 & 1189 & 23 & 2.7 & 3.5 \\\\\n\t5 & 1159 & 1192 & 34 & 3.8 & 4.0 \\\\\n\t6 & 1159 & 1202 & 41 & 2.81 & 5.0 \\\\\n\t7 & 1159 & 1159 & 7 & 4.1 & 0.5 \\\\\n\t8 & 1159 & 1222 & 20 & 3.74 & 7.0 \\\\\n\t9 & 1159 & 1182 & 16 & 0.96 & 3.0 \\\\\n\t10 & 1159 & 1162 & 7 & 3.8 & 1.0 \\\\\n\t11 & 1159 & 1192 & 46 & 4.0 & 4.0 \\\\\n\t12 & 1159 & 1212 & 43 & 2.74 & 6.0 \\\\\n\t13 & 1159 & 1182 & 45 & 3.8 & 3.0 \\\\\n\t14 & 1159 & 1172 & 20 & 3.35 & 2.0 \\\\\n\t15 & 1159 & 1179 & 10 & 3.81 & 2.5 \\\\\n\t16 & 1159 & 1202 & 46 & 3.03 & 5.0 \\\\\n\t17 & 1159 & 1169 & 7 & 3.66 & 1.5 \\\\\n\t18 & 1159 & 1169 & 15 & 1.68 & 1.5 \\\\\n\t19 & 1159 & 1162 & 13 & 2.42 & 1.0 \\\\\n\t20 & 1159 & 1162 & 13 & 1.32 & 1.0 \\\\\n\t21 & 1159 & 1159 & 5 & \\emph{missing} & 0.5 \\\\\n\t22 & 1159 & 1199 & 43 & 2.83 & 4.5 \\\\\n\t23 & 1159 & 1182 & 20 & 2.78 & 3.0 \\\\\n\t24 & 1159 & 1159 & 5 & 3.8 & 0.5 \\\\\n\t25 & 1159 & 1182 & 19 & 3.65 & 3.0 \\\\\n\t26 & 1159 & 1202 & 32 & 2.35 & 5.0 \\\\\n\t27 & 1159 & 1182 & 33 & 3.75 & 3.0 \\\\\n\t28 & 1159 & 1229 & 9 & \\emph{missing} & 7.5 \\\\\n\t29 & 1159 & 1212 & 42 & 2.58 & 6.0 \\\\\n\t30 & 1159 & 1162 & 8 & 4.1 & 1.0 \\\\\n\t$\\dots$ & $\\dots$ & $\\dots$ & $\\dots$ & $\\dots$ & $\\dots$ \\\\\n\\end{tabular}\n"
          },
          "metadata": {},
          "execution_count": 78
        }
      ],
      "cell_type": "code",
      "source": [
        "Δ(f,l) = decode_semester(l) - decode_semester(f) + 1/2\n",
        "transform!(d, [:F, :L] => ByRow(Δ) => :semesters)"
      ],
      "metadata": {
        "id": "fqVa8yFAj-TY",
        "outputId": "7f6ceff5-8cd1-45c3-a281-572ba2eead4c",
        "colab": {
          "base_uri": "https://localhost:8080/",
          "height": 651
        }
      },
      "execution_count": 78
    },
    {
      "cell_type": "markdown",
      "source": [
        "The subtlety above is the `ByRow` which is needed to broadcast the values here. In this example, we could have written `Δ` to broadcast with either:\n"
      ],
      "metadata": {
        "id": "TBfu7di1j-TZ"
      }
    },
    {
      "outputs": [
        {
          "output_type": "execute_result",
          "data": {
            "text/plain": [
              "Δ (generic function with 1 method)"
            ]
          },
          "metadata": {},
          "execution_count": 79
        }
      ],
      "cell_type": "code",
      "source": [
        "Δ(f,l) = decode_semester.(l) - decode_semester.(f) .+ 1/2"
      ],
      "metadata": {
        "id": "y3CcKIjvj-TZ",
        "outputId": "f91f3233-4cd9-496f-80c4-25be3c87f4b9",
        "colab": {
          "base_uri": "https://localhost:8080/",
          "height": 0
        }
      },
      "execution_count": 79
    },
    {
      "cell_type": "markdown",
      "source": [
        "Or using the `@.` **macro**:\n"
      ],
      "metadata": {
        "id": "6su8Pj7Cj-TZ"
      }
    },
    {
      "outputs": [
        {
          "output_type": "execute_result",
          "data": {
            "text/plain": [
              "Δ (generic function with 1 method)"
            ]
          },
          "metadata": {},
          "execution_count": 80
        }
      ],
      "cell_type": "code",
      "source": [
        "@. Δ(f,l) = decode_semester(l) - decode_semester(f) + 1/2"
      ],
      "metadata": {
        "id": "fvFg9aF5j-TZ",
        "outputId": "5087447e-8d15-40ad-e3ce-db981976ce04",
        "colab": {
          "base_uri": "https://localhost:8080/",
          "height": 0
        }
      },
      "execution_count": 80
    },
    {
      "cell_type": "markdown",
      "source": [
        "Then we could have computed with:\n"
      ],
      "metadata": {
        "id": "sT9xYYV7j-TZ"
      }
    },
    {
      "outputs": [
        {
          "output_type": "execute_result",
          "data": {
            "text/plain": [
              "\u001b[1m7112×6 DataFrame\n",
              "\u001b[1m  Row │\u001b[1m F     \u001b[1m L     \u001b[1m N     \u001b[1m gpa        \u001b[1m semesters \u001b[1m alt_semesters\n",
              "      │\u001b[90m Int64 \u001b[90m Int64 \u001b[90m Int64 \u001b[90m Float64?   \u001b[90m Float64   \u001b[90m Float64\n",
              "──────┼───────────────────────────────────────────────────────────\n",
              "    1 │  1159   1162     11        3.34        1.0            1.0\n",
              "    2 │  1159   1192     41        2.51        4.0            4.0\n",
              "    3 │  1159   1172      9        4.1         2.0            2.0\n",
              "    4 │  1159   1189     23        2.7         3.5            3.5\n",
              "    5 │  1159   1192     34        3.8         4.0            4.0\n",
              "    6 │  1159   1202     41        2.81        5.0            5.0\n",
              "    7 │  1159   1159      7        4.1         0.5            0.5\n",
              "    8 │  1159   1222     20        3.74        7.0            7.0\n",
              "    9 │  1159   1182     16        0.96        3.0            3.0\n",
              "   10 │  1159   1162      7        3.8         1.0            1.0\n",
              "   11 │  1159   1192     46        4.0         4.0            4.0\n",
              "  ⋮   │   ⋮      ⋮      ⋮        ⋮           ⋮            ⋮\n",
              " 7103 │  1229   1229      8 \u001b[90m missing           0.5            0.5\n",
              " 7104 │  1229   1229      8 \u001b[90m missing           0.5            0.5\n",
              " 7105 │  1229   1229     12 \u001b[90m missing           0.5            0.5\n",
              " 7106 │  1229   1229      8 \u001b[90m missing           0.5            0.5\n",
              " 7107 │  1229   1229      9 \u001b[90m missing           0.5            0.5\n",
              " 7108 │  1229   1229      9 \u001b[90m missing           0.5            0.5\n",
              " 7109 │  1229   1229      8 \u001b[90m missing           0.5            0.5\n",
              " 7110 │  1229   1229      9 \u001b[90m missing           0.5            0.5\n",
              " 7111 │  1229   1229      6 \u001b[90m missing           0.5            0.5\n",
              " 7112 │  1229   1229      7 \u001b[90m missing           0.5            0.5\n",
              "\u001b[36m                                                 7091 rows omitted"
            ],
            "text/html": [
              "<div><div style = \"float: left;\"><span>7112×6 DataFrame</span></div><div style = \"float: right;\"><span style = \"font-style: italic;\">7087 rows omitted</span></div><div style = \"clear: both;\"></div></div><div class = \"data-frame\" style = \"overflow-x: scroll;\"><table class = \"data-frame\" style = \"margin-bottom: 6px;\"><thead><tr class = \"header\"><th class = \"rowNumber\" style = \"font-weight: bold; text-align: right;\">Row</th><th style = \"text-align: left;\">F</th><th style = \"text-align: left;\">L</th><th style = \"text-align: left;\">N</th><th style = \"text-align: left;\">gpa</th><th style = \"text-align: left;\">semesters</th><th style = \"text-align: left;\">alt_semesters</th></tr><tr class = \"subheader headerLastRow\"><th class = \"rowNumber\" style = \"font-weight: bold; text-align: right;\"></th><th title = \"Int64\" style = \"text-align: left;\">Int64</th><th title = \"Int64\" style = \"text-align: left;\">Int64</th><th title = \"Int64\" style = \"text-align: left;\">Int64</th><th title = \"Union{Missing, Float64}\" style = \"text-align: left;\">Float64?</th><th title = \"Float64\" style = \"text-align: left;\">Float64</th><th title = \"Float64\" style = \"text-align: left;\">Float64</th></tr></thead><tbody><tr><td class = \"rowNumber\" style = \"font-weight: bold; text-align: right;\">1</td><td style = \"text-align: right;\">1159</td><td style = \"text-align: right;\">1162</td><td style = \"text-align: right;\">11</td><td style = \"text-align: right;\">3.34</td><td style = \"text-align: right;\">1.0</td><td style = \"text-align: right;\">1.0</td></tr><tr><td class = \"rowNumber\" style = \"font-weight: bold; text-align: right;\">2</td><td style = \"text-align: right;\">1159</td><td style = \"text-align: right;\">1192</td><td style = \"text-align: right;\">41</td><td style = \"text-align: right;\">2.51</td><td style = \"text-align: right;\">4.0</td><td style = \"text-align: right;\">4.0</td></tr><tr><td class = \"rowNumber\" style = \"font-weight: bold; text-align: right;\">3</td><td style = \"text-align: right;\">1159</td><td style = \"text-align: right;\">1172</td><td style = \"text-align: right;\">9</td><td style = \"text-align: right;\">4.1</td><td style = \"text-align: right;\">2.0</td><td style = \"text-align: right;\">2.0</td></tr><tr><td class = \"rowNumber\" style = \"font-weight: bold; text-align: right;\">4</td><td style = \"text-align: right;\">1159</td><td style = \"text-align: right;\">1189</td><td style = \"text-align: right;\">23</td><td style = \"text-align: right;\">2.7</td><td style = \"text-align: right;\">3.5</td><td style = \"text-align: right;\">3.5</td></tr><tr><td class = \"rowNumber\" style = \"font-weight: bold; text-align: right;\">5</td><td style = \"text-align: right;\">1159</td><td style = \"text-align: right;\">1192</td><td style = \"text-align: right;\">34</td><td style = \"text-align: right;\">3.8</td><td style = \"text-align: right;\">4.0</td><td style = \"text-align: right;\">4.0</td></tr><tr><td class = \"rowNumber\" style = \"font-weight: bold; text-align: right;\">6</td><td style = \"text-align: right;\">1159</td><td style = \"text-align: right;\">1202</td><td style = \"text-align: right;\">41</td><td style = \"text-align: right;\">2.81</td><td style = \"text-align: right;\">5.0</td><td style = \"text-align: right;\">5.0</td></tr><tr><td class = \"rowNumber\" style = \"font-weight: bold; text-align: right;\">7</td><td style = \"text-align: right;\">1159</td><td style = \"text-align: right;\">1159</td><td style = \"text-align: right;\">7</td><td style = \"text-align: right;\">4.1</td><td style = \"text-align: right;\">0.5</td><td style = \"text-align: right;\">0.5</td></tr><tr><td class = \"rowNumber\" style = \"font-weight: bold; text-align: right;\">8</td><td style = \"text-align: right;\">1159</td><td style = \"text-align: right;\">1222</td><td style = \"text-align: right;\">20</td><td style = \"text-align: right;\">3.74</td><td style = \"text-align: right;\">7.0</td><td style = \"text-align: right;\">7.0</td></tr><tr><td class = \"rowNumber\" style = \"font-weight: bold; text-align: right;\">9</td><td style = \"text-align: right;\">1159</td><td style = \"text-align: right;\">1182</td><td style = \"text-align: right;\">16</td><td style = \"text-align: right;\">0.96</td><td style = \"text-align: right;\">3.0</td><td style = \"text-align: right;\">3.0</td></tr><tr><td class = \"rowNumber\" style = \"font-weight: bold; text-align: right;\">10</td><td style = \"text-align: right;\">1159</td><td style = \"text-align: right;\">1162</td><td style = \"text-align: right;\">7</td><td style = \"text-align: right;\">3.8</td><td style = \"text-align: right;\">1.0</td><td style = \"text-align: right;\">1.0</td></tr><tr><td class = \"rowNumber\" style = \"font-weight: bold; text-align: right;\">11</td><td style = \"text-align: right;\">1159</td><td style = \"text-align: right;\">1192</td><td style = \"text-align: right;\">46</td><td style = \"text-align: right;\">4.0</td><td style = \"text-align: right;\">4.0</td><td style = \"text-align: right;\">4.0</td></tr><tr><td class = \"rowNumber\" style = \"font-weight: bold; text-align: right;\">12</td><td style = \"text-align: right;\">1159</td><td style = \"text-align: right;\">1212</td><td style = \"text-align: right;\">43</td><td style = \"text-align: right;\">2.74</td><td style = \"text-align: right;\">6.0</td><td style = \"text-align: right;\">6.0</td></tr><tr><td class = \"rowNumber\" style = \"font-weight: bold; text-align: right;\">13</td><td style = \"text-align: right;\">1159</td><td style = \"text-align: right;\">1182</td><td style = \"text-align: right;\">45</td><td style = \"text-align: right;\">3.8</td><td style = \"text-align: right;\">3.0</td><td style = \"text-align: right;\">3.0</td></tr><tr><td style = \"text-align: right;\">&vellip;</td><td style = \"text-align: right;\">&vellip;</td><td style = \"text-align: right;\">&vellip;</td><td style = \"text-align: right;\">&vellip;</td><td style = \"text-align: right;\">&vellip;</td><td style = \"text-align: right;\">&vellip;</td><td style = \"text-align: right;\">&vellip;</td></tr><tr><td class = \"rowNumber\" style = \"font-weight: bold; text-align: right;\">7101</td><td style = \"text-align: right;\">1229</td><td style = \"text-align: right;\">1229</td><td style = \"text-align: right;\">9</td><td style = \"font-style: italic; text-align: right;\">missing</td><td style = \"text-align: right;\">0.5</td><td style = \"text-align: right;\">0.5</td></tr><tr><td class = \"rowNumber\" style = \"font-weight: bold; text-align: right;\">7102</td><td style = \"text-align: right;\">1229</td><td style = \"text-align: right;\">1229</td><td style = \"text-align: right;\">6</td><td style = \"font-style: italic; text-align: right;\">missing</td><td style = \"text-align: right;\">0.5</td><td style = \"text-align: right;\">0.5</td></tr><tr><td class = \"rowNumber\" style = \"font-weight: bold; text-align: right;\">7103</td><td style = \"text-align: right;\">1229</td><td style = \"text-align: right;\">1229</td><td style = \"text-align: right;\">8</td><td style = \"font-style: italic; text-align: right;\">missing</td><td style = \"text-align: right;\">0.5</td><td style = \"text-align: right;\">0.5</td></tr><tr><td class = \"rowNumber\" style = \"font-weight: bold; text-align: right;\">7104</td><td style = \"text-align: right;\">1229</td><td style = \"text-align: right;\">1229</td><td style = \"text-align: right;\">8</td><td style = \"font-style: italic; text-align: right;\">missing</td><td style = \"text-align: right;\">0.5</td><td style = \"text-align: right;\">0.5</td></tr><tr><td class = \"rowNumber\" style = \"font-weight: bold; text-align: right;\">7105</td><td style = \"text-align: right;\">1229</td><td style = \"text-align: right;\">1229</td><td style = \"text-align: right;\">12</td><td style = \"font-style: italic; text-align: right;\">missing</td><td style = \"text-align: right;\">0.5</td><td style = \"text-align: right;\">0.5</td></tr><tr><td class = \"rowNumber\" style = \"font-weight: bold; text-align: right;\">7106</td><td style = \"text-align: right;\">1229</td><td style = \"text-align: right;\">1229</td><td style = \"text-align: right;\">8</td><td style = \"font-style: italic; text-align: right;\">missing</td><td style = \"text-align: right;\">0.5</td><td style = \"text-align: right;\">0.5</td></tr><tr><td class = \"rowNumber\" style = \"font-weight: bold; text-align: right;\">7107</td><td style = \"text-align: right;\">1229</td><td style = \"text-align: right;\">1229</td><td style = \"text-align: right;\">9</td><td style = \"font-style: italic; text-align: right;\">missing</td><td style = \"text-align: right;\">0.5</td><td style = \"text-align: right;\">0.5</td></tr><tr><td class = \"rowNumber\" style = \"font-weight: bold; text-align: right;\">7108</td><td style = \"text-align: right;\">1229</td><td style = \"text-align: right;\">1229</td><td style = \"text-align: right;\">9</td><td style = \"font-style: italic; text-align: right;\">missing</td><td style = \"text-align: right;\">0.5</td><td style = \"text-align: right;\">0.5</td></tr><tr><td class = \"rowNumber\" style = \"font-weight: bold; text-align: right;\">7109</td><td style = \"text-align: right;\">1229</td><td style = \"text-align: right;\">1229</td><td style = \"text-align: right;\">8</td><td style = \"font-style: italic; text-align: right;\">missing</td><td style = \"text-align: right;\">0.5</td><td style = \"text-align: right;\">0.5</td></tr><tr><td class = \"rowNumber\" style = \"font-weight: bold; text-align: right;\">7110</td><td style = \"text-align: right;\">1229</td><td style = \"text-align: right;\">1229</td><td style = \"text-align: right;\">9</td><td style = \"font-style: italic; text-align: right;\">missing</td><td style = \"text-align: right;\">0.5</td><td style = \"text-align: right;\">0.5</td></tr><tr><td class = \"rowNumber\" style = \"font-weight: bold; text-align: right;\">7111</td><td style = \"text-align: right;\">1229</td><td style = \"text-align: right;\">1229</td><td style = \"text-align: right;\">6</td><td style = \"font-style: italic; text-align: right;\">missing</td><td style = \"text-align: right;\">0.5</td><td style = \"text-align: right;\">0.5</td></tr><tr><td class = \"rowNumber\" style = \"font-weight: bold; text-align: right;\">7112</td><td style = \"text-align: right;\">1229</td><td style = \"text-align: right;\">1229</td><td style = \"text-align: right;\">7</td><td style = \"font-style: italic; text-align: right;\">missing</td><td style = \"text-align: right;\">0.5</td><td style = \"text-align: right;\">0.5</td></tr></tbody></table></div>"
            ],
            "text/latex": "\\begin{tabular}{r|cccccc}\n\t& F & L & N & gpa & semesters & alt\\_semesters\\\\\n\t\\hline\n\t& Int64 & Int64 & Int64 & Float64? & Float64 & Float64\\\\\n\t\\hline\n\t1 & 1159 & 1162 & 11 & 3.34 & 1.0 & 1.0 \\\\\n\t2 & 1159 & 1192 & 41 & 2.51 & 4.0 & 4.0 \\\\\n\t3 & 1159 & 1172 & 9 & 4.1 & 2.0 & 2.0 \\\\\n\t4 & 1159 & 1189 & 23 & 2.7 & 3.5 & 3.5 \\\\\n\t5 & 1159 & 1192 & 34 & 3.8 & 4.0 & 4.0 \\\\\n\t6 & 1159 & 1202 & 41 & 2.81 & 5.0 & 5.0 \\\\\n\t7 & 1159 & 1159 & 7 & 4.1 & 0.5 & 0.5 \\\\\n\t8 & 1159 & 1222 & 20 & 3.74 & 7.0 & 7.0 \\\\\n\t9 & 1159 & 1182 & 16 & 0.96 & 3.0 & 3.0 \\\\\n\t10 & 1159 & 1162 & 7 & 3.8 & 1.0 & 1.0 \\\\\n\t11 & 1159 & 1192 & 46 & 4.0 & 4.0 & 4.0 \\\\\n\t12 & 1159 & 1212 & 43 & 2.74 & 6.0 & 6.0 \\\\\n\t13 & 1159 & 1182 & 45 & 3.8 & 3.0 & 3.0 \\\\\n\t14 & 1159 & 1172 & 20 & 3.35 & 2.0 & 2.0 \\\\\n\t15 & 1159 & 1179 & 10 & 3.81 & 2.5 & 2.5 \\\\\n\t16 & 1159 & 1202 & 46 & 3.03 & 5.0 & 5.0 \\\\\n\t17 & 1159 & 1169 & 7 & 3.66 & 1.5 & 1.5 \\\\\n\t18 & 1159 & 1169 & 15 & 1.68 & 1.5 & 1.5 \\\\\n\t19 & 1159 & 1162 & 13 & 2.42 & 1.0 & 1.0 \\\\\n\t20 & 1159 & 1162 & 13 & 1.32 & 1.0 & 1.0 \\\\\n\t21 & 1159 & 1159 & 5 & \\emph{missing} & 0.5 & 0.5 \\\\\n\t22 & 1159 & 1199 & 43 & 2.83 & 4.5 & 4.5 \\\\\n\t23 & 1159 & 1182 & 20 & 2.78 & 3.0 & 3.0 \\\\\n\t24 & 1159 & 1159 & 5 & 3.8 & 0.5 & 0.5 \\\\\n\t25 & 1159 & 1182 & 19 & 3.65 & 3.0 & 3.0 \\\\\n\t26 & 1159 & 1202 & 32 & 2.35 & 5.0 & 5.0 \\\\\n\t27 & 1159 & 1182 & 33 & 3.75 & 3.0 & 3.0 \\\\\n\t28 & 1159 & 1229 & 9 & \\emph{missing} & 7.5 & 7.5 \\\\\n\t29 & 1159 & 1212 & 42 & 2.58 & 6.0 & 6.0 \\\\\n\t30 & 1159 & 1162 & 8 & 4.1 & 1.0 & 1.0 \\\\\n\t$\\dots$ & $\\dots$ & $\\dots$ & $\\dots$ & $\\dots$ & $\\dots$ & $\\dots$ \\\\\n\\end{tabular}\n"
          },
          "metadata": {},
          "execution_count": 81
        }
      ],
      "cell_type": "code",
      "source": [
        "d = transform(d, [:F, :L] => Δ => :alt_semesters)"
      ],
      "metadata": {
        "id": "kF3xAs92j-TZ",
        "outputId": "1fa2da77-393e-4fa4-e2f0-dbb5bc41e525",
        "colab": {
          "base_uri": "https://localhost:8080/",
          "height": 651
        }
      },
      "execution_count": 81
    },
    {
      "cell_type": "markdown",
      "source": [
        "---\n"
      ],
      "metadata": {
        "id": "4qbc9Nxcj-Ta"
      }
    },
    {
      "outputs": [
        {
          "output_type": "execute_result",
          "data": {
            "text/plain": [
              "\u001b[1m7112×1 DataFrame\n",
              "\u001b[1m  Row │\u001b[1m avg\n",
              "      │\u001b[90m Float64\n",
              "──────┼──────────\n",
              "    1 │  5.5\n",
              "    2 │  5.125\n",
              "    3 │  2.25\n",
              "    4 │  3.28571\n",
              "    5 │  4.25\n",
              "    6 │  4.1\n",
              "    7 │  7.0\n",
              "    8 │  1.42857\n",
              "    9 │  2.66667\n",
              "   10 │  3.5\n",
              "   11 │  5.75\n",
              "  ⋮   │    ⋮\n",
              " 7103 │  8.0\n",
              " 7104 │  8.0\n",
              " 7105 │ 12.0\n",
              " 7106 │  8.0\n",
              " 7107 │  9.0\n",
              " 7108 │  9.0\n",
              " 7109 │  8.0\n",
              " 7110 │  9.0\n",
              " 7111 │  6.0\n",
              " 7112 │  7.0\n",
              "\u001b[36m7091 rows omitted"
            ],
            "text/html": [
              "<div><div style = \"float: left;\"><span>7112×1 DataFrame</span></div><div style = \"float: right;\"><span style = \"font-style: italic;\">7087 rows omitted</span></div><div style = \"clear: both;\"></div></div><div class = \"data-frame\" style = \"overflow-x: scroll;\"><table class = \"data-frame\" style = \"margin-bottom: 6px;\"><thead><tr class = \"header\"><th class = \"rowNumber\" style = \"font-weight: bold; text-align: right;\">Row</th><th style = \"text-align: left;\">avg</th></tr><tr class = \"subheader headerLastRow\"><th class = \"rowNumber\" style = \"font-weight: bold; text-align: right;\"></th><th title = \"Float64\" style = \"text-align: left;\">Float64</th></tr></thead><tbody><tr><td class = \"rowNumber\" style = \"font-weight: bold; text-align: right;\">1</td><td style = \"text-align: right;\">5.5</td></tr><tr><td class = \"rowNumber\" style = \"font-weight: bold; text-align: right;\">2</td><td style = \"text-align: right;\">5.125</td></tr><tr><td class = \"rowNumber\" style = \"font-weight: bold; text-align: right;\">3</td><td style = \"text-align: right;\">2.25</td></tr><tr><td class = \"rowNumber\" style = \"font-weight: bold; text-align: right;\">4</td><td style = \"text-align: right;\">3.28571</td></tr><tr><td class = \"rowNumber\" style = \"font-weight: bold; text-align: right;\">5</td><td style = \"text-align: right;\">4.25</td></tr><tr><td class = \"rowNumber\" style = \"font-weight: bold; text-align: right;\">6</td><td style = \"text-align: right;\">4.1</td></tr><tr><td class = \"rowNumber\" style = \"font-weight: bold; text-align: right;\">7</td><td style = \"text-align: right;\">7.0</td></tr><tr><td class = \"rowNumber\" style = \"font-weight: bold; text-align: right;\">8</td><td style = \"text-align: right;\">1.42857</td></tr><tr><td class = \"rowNumber\" style = \"font-weight: bold; text-align: right;\">9</td><td style = \"text-align: right;\">2.66667</td></tr><tr><td class = \"rowNumber\" style = \"font-weight: bold; text-align: right;\">10</td><td style = \"text-align: right;\">3.5</td></tr><tr><td class = \"rowNumber\" style = \"font-weight: bold; text-align: right;\">11</td><td style = \"text-align: right;\">5.75</td></tr><tr><td class = \"rowNumber\" style = \"font-weight: bold; text-align: right;\">12</td><td style = \"text-align: right;\">3.58333</td></tr><tr><td class = \"rowNumber\" style = \"font-weight: bold; text-align: right;\">13</td><td style = \"text-align: right;\">7.5</td></tr><tr><td style = \"text-align: right;\">&vellip;</td><td style = \"text-align: right;\">&vellip;</td></tr><tr><td class = \"rowNumber\" style = \"font-weight: bold; text-align: right;\">7101</td><td style = \"text-align: right;\">9.0</td></tr><tr><td class = \"rowNumber\" style = \"font-weight: bold; text-align: right;\">7102</td><td style = \"text-align: right;\">6.0</td></tr><tr><td class = \"rowNumber\" style = \"font-weight: bold; text-align: right;\">7103</td><td style = \"text-align: right;\">8.0</td></tr><tr><td class = \"rowNumber\" style = \"font-weight: bold; text-align: right;\">7104</td><td style = \"text-align: right;\">8.0</td></tr><tr><td class = \"rowNumber\" style = \"font-weight: bold; text-align: right;\">7105</td><td style = \"text-align: right;\">12.0</td></tr><tr><td class = \"rowNumber\" style = \"font-weight: bold; text-align: right;\">7106</td><td style = \"text-align: right;\">8.0</td></tr><tr><td class = \"rowNumber\" style = \"font-weight: bold; text-align: right;\">7107</td><td style = \"text-align: right;\">9.0</td></tr><tr><td class = \"rowNumber\" style = \"font-weight: bold; text-align: right;\">7108</td><td style = \"text-align: right;\">9.0</td></tr><tr><td class = \"rowNumber\" style = \"font-weight: bold; text-align: right;\">7109</td><td style = \"text-align: right;\">8.0</td></tr><tr><td class = \"rowNumber\" style = \"font-weight: bold; text-align: right;\">7110</td><td style = \"text-align: right;\">9.0</td></tr><tr><td class = \"rowNumber\" style = \"font-weight: bold; text-align: right;\">7111</td><td style = \"text-align: right;\">6.0</td></tr><tr><td class = \"rowNumber\" style = \"font-weight: bold; text-align: right;\">7112</td><td style = \"text-align: right;\">7.0</td></tr></tbody></table></div>"
            ],
            "text/latex": "\\begin{tabular}{r|c}\n\t& avg\\\\\n\t\\hline\n\t& Float64\\\\\n\t\\hline\n\t1 & 5.5 \\\\\n\t2 & 5.125 \\\\\n\t3 & 2.25 \\\\\n\t4 & 3.28571 \\\\\n\t5 & 4.25 \\\\\n\t6 & 4.1 \\\\\n\t7 & 7.0 \\\\\n\t8 & 1.42857 \\\\\n\t9 & 2.66667 \\\\\n\t10 & 3.5 \\\\\n\t11 & 5.75 \\\\\n\t12 & 3.58333 \\\\\n\t13 & 7.5 \\\\\n\t14 & 5.0 \\\\\n\t15 & 2.0 \\\\\n\t16 & 4.6 \\\\\n\t17 & 2.33333 \\\\\n\t18 & 5.0 \\\\\n\t19 & 6.5 \\\\\n\t20 & 6.5 \\\\\n\t21 & 5.0 \\\\\n\t22 & 4.77778 \\\\\n\t23 & 3.33333 \\\\\n\t24 & 5.0 \\\\\n\t25 & 3.16667 \\\\\n\t26 & 3.2 \\\\\n\t27 & 5.5 \\\\\n\t28 & 0.6 \\\\\n\t29 & 3.5 \\\\\n\t30 & 4.0 \\\\\n\t$\\dots$ & $\\dots$ \\\\\n\\end{tabular}\n"
          },
          "metadata": {},
          "execution_count": 82
        }
      ],
      "cell_type": "code",
      "source": [
        "# 💻 Can you compute the average number of classes taken per semester for each student?\n",
        "avg(s,n) = n/(2s)\n",
        "combine(d, [:semesters, :N] => ByRow(avg) => :avg)"
      ],
      "metadata": {
        "id": "V8RexAuyj-Ta",
        "outputId": "1f49955e-0c6f-4e48-f8d2-df552ff4c298",
        "colab": {
          "base_uri": "https://localhost:8080/",
          "height": 651
        }
      },
      "execution_count": 82
    },
    {
      "cell_type": "markdown",
      "source": [
        "---\n"
      ],
      "metadata": {
        "id": "4pgzuViij-Ta"
      }
    },
    {
      "cell_type": "markdown",
      "source": [
        "### Counting\n"
      ],
      "metadata": {
        "internals": {
          "slide_type": "subslide"
        },
        "slide_helper": "slide_end",
        "id": "8E-JXsO8j-Tb"
      }
    },
    {
      "cell_type": "markdown",
      "source": [
        "The number of semesters a student stays is of interest. At Euphoria State there are many good  reasons to transfer, so the simple model of 8 semesters and out is not typical.\n"
      ],
      "metadata": {
        "id": "PWaCpyUBj-Tb"
      }
    },
    {
      "cell_type": "markdown",
      "source": [
        "A simple tally could be done as follows:\n"
      ],
      "metadata": {
        "id": "5FeGJYMdj-Tc"
      }
    },
    {
      "outputs": [
        {
          "output_type": "execute_result",
          "data": {
            "text/plain": [
              "Dict{Float64, Int64} with 15 entries:\n",
              "  5.0 => 170\n",
              "  7.0 => 17\n",
              "  0.5 => 2191\n",
              "  7.5 => 11\n",
              "  1.5 => 784\n",
              "  1.0 => 1165\n",
              "  5.5 => 134\n",
              "  4.0 => 371\n",
              "  6.0 => 66\n",
              "  2.0 => 545\n",
              "  3.5 => 462\n",
              "  6.5 => 53\n",
              "  3.0 => 344\n",
              "  2.5 => 540\n",
              "  4.5 => 259"
            ]
          },
          "metadata": {},
          "execution_count": 83
        }
      ],
      "cell_type": "code",
      "source": [
        "sems = unique(d.semesters)\n",
        "cnt = Dict(s => 0 for s ∈ sems)  # initialize with a generator\n",
        "for r ∈ eachrow(d)\n",
        "    cnt[r.semesters] += 1\n",
        "end\n",
        "cnt"
      ],
      "metadata": {
        "id": "f2a-yhlZj-Tc",
        "outputId": "3acc5cd4-5d98-4667-89d0-87feae4b9266",
        "colab": {
          "base_uri": "https://localhost:8080/",
          "height": 0
        }
      },
      "execution_count": 83
    },
    {
      "cell_type": "markdown",
      "source": [
        "Since `for` loops are fast in `Julia` this is actually performant, but the dictionary used for counting is not that convenient.\n"
      ],
      "metadata": {
        "id": "TQCiCbiRj-Tc"
      }
    },
    {
      "cell_type": "markdown",
      "source": [
        "This counting can be achieved with `combine` followed by sorting:\n"
      ],
      "metadata": {
        "id": "fPPFP0Kuj-Tc"
      }
    },
    {
      "outputs": [
        {
          "output_type": "execute_result",
          "data": {
            "text/plain": [
              "\u001b[1m15×2 DataFrame\n",
              "\u001b[1m Row │\u001b[1m semesters \u001b[1m n\n",
              "     │\u001b[90m Float64   \u001b[90m Int64\n",
              "─────┼──────────────────\n",
              "   1 │       0.5   2191\n",
              "   2 │       1.0   1165\n",
              "   3 │       1.5    784\n",
              "   4 │       2.0    545\n",
              "   5 │       2.5    540\n",
              "   6 │       3.0    344\n",
              "   7 │       3.5    462\n",
              "   8 │       4.0    371\n",
              "   9 │       4.5    259\n",
              "  10 │       5.0    170\n",
              "  11 │       5.5    134\n",
              "  12 │       6.0     66\n",
              "  13 │       6.5     53\n",
              "  14 │       7.0     17\n",
              "  15 │       7.5     11"
            ],
            "text/html": [
              "<div><div style = \"float: left;\"><span>15×2 DataFrame</span></div><div style = \"clear: both;\"></div></div><div class = \"data-frame\" style = \"overflow-x: scroll;\"><table class = \"data-frame\" style = \"margin-bottom: 6px;\"><thead><tr class = \"header\"><th class = \"rowNumber\" style = \"font-weight: bold; text-align: right;\">Row</th><th style = \"text-align: left;\">semesters</th><th style = \"text-align: left;\">n</th></tr><tr class = \"subheader headerLastRow\"><th class = \"rowNumber\" style = \"font-weight: bold; text-align: right;\"></th><th title = \"Float64\" style = \"text-align: left;\">Float64</th><th title = \"Int64\" style = \"text-align: left;\">Int64</th></tr></thead><tbody><tr><td class = \"rowNumber\" style = \"font-weight: bold; text-align: right;\">1</td><td style = \"text-align: right;\">0.5</td><td style = \"text-align: right;\">2191</td></tr><tr><td class = \"rowNumber\" style = \"font-weight: bold; text-align: right;\">2</td><td style = \"text-align: right;\">1.0</td><td style = \"text-align: right;\">1165</td></tr><tr><td class = \"rowNumber\" style = \"font-weight: bold; text-align: right;\">3</td><td style = \"text-align: right;\">1.5</td><td style = \"text-align: right;\">784</td></tr><tr><td class = \"rowNumber\" style = \"font-weight: bold; text-align: right;\">4</td><td style = \"text-align: right;\">2.0</td><td style = \"text-align: right;\">545</td></tr><tr><td class = \"rowNumber\" style = \"font-weight: bold; text-align: right;\">5</td><td style = \"text-align: right;\">2.5</td><td style = \"text-align: right;\">540</td></tr><tr><td class = \"rowNumber\" style = \"font-weight: bold; text-align: right;\">6</td><td style = \"text-align: right;\">3.0</td><td style = \"text-align: right;\">344</td></tr><tr><td class = \"rowNumber\" style = \"font-weight: bold; text-align: right;\">7</td><td style = \"text-align: right;\">3.5</td><td style = \"text-align: right;\">462</td></tr><tr><td class = \"rowNumber\" style = \"font-weight: bold; text-align: right;\">8</td><td style = \"text-align: right;\">4.0</td><td style = \"text-align: right;\">371</td></tr><tr><td class = \"rowNumber\" style = \"font-weight: bold; text-align: right;\">9</td><td style = \"text-align: right;\">4.5</td><td style = \"text-align: right;\">259</td></tr><tr><td class = \"rowNumber\" style = \"font-weight: bold; text-align: right;\">10</td><td style = \"text-align: right;\">5.0</td><td style = \"text-align: right;\">170</td></tr><tr><td class = \"rowNumber\" style = \"font-weight: bold; text-align: right;\">11</td><td style = \"text-align: right;\">5.5</td><td style = \"text-align: right;\">134</td></tr><tr><td class = \"rowNumber\" style = \"font-weight: bold; text-align: right;\">12</td><td style = \"text-align: right;\">6.0</td><td style = \"text-align: right;\">66</td></tr><tr><td class = \"rowNumber\" style = \"font-weight: bold; text-align: right;\">13</td><td style = \"text-align: right;\">6.5</td><td style = \"text-align: right;\">53</td></tr><tr><td class = \"rowNumber\" style = \"font-weight: bold; text-align: right;\">14</td><td style = \"text-align: right;\">7.0</td><td style = \"text-align: right;\">17</td></tr><tr><td class = \"rowNumber\" style = \"font-weight: bold; text-align: right;\">15</td><td style = \"text-align: right;\">7.5</td><td style = \"text-align: right;\">11</td></tr></tbody></table></div>"
            ],
            "text/latex": "\\begin{tabular}{r|cc}\n\t& semesters & n\\\\\n\t\\hline\n\t& Float64 & Int64\\\\\n\t\\hline\n\t1 & 0.5 & 2191 \\\\\n\t2 & 1.0 & 1165 \\\\\n\t3 & 1.5 & 784 \\\\\n\t4 & 2.0 & 545 \\\\\n\t5 & 2.5 & 540 \\\\\n\t6 & 3.0 & 344 \\\\\n\t7 & 3.5 & 462 \\\\\n\t8 & 4.0 & 371 \\\\\n\t9 & 4.5 & 259 \\\\\n\t10 & 5.0 & 170 \\\\\n\t11 & 5.5 & 134 \\\\\n\t12 & 6.0 & 66 \\\\\n\t13 & 6.5 & 53 \\\\\n\t14 & 7.0 & 17 \\\\\n\t15 & 7.5 & 11 \\\\\n\\end{tabular}\n"
          },
          "metadata": {},
          "execution_count": 84
        }
      ],
      "cell_type": "code",
      "source": [
        "df = combine(groupby(d, :semesters), nrow => :n)\n",
        "sort(df, :semesters)"
      ],
      "metadata": {
        "id": "wqko7eI0j-Td",
        "outputId": "0741c8c1-9371-43cf-b08d-389b4c6f78e6",
        "colab": {
          "base_uri": "https://localhost:8080/",
          "height": 418
        }
      },
      "execution_count": 84
    },
    {
      "cell_type": "markdown",
      "source": [
        "---\n"
      ],
      "metadata": {
        "id": "-Hhd3loKj-Td"
      }
    },
    {
      "outputs": [
        {
          "output_type": "execute_result",
          "data": {
            "text/plain": [
              "\u001b[1m62×2 DataFrame\n",
              "\u001b[1m Row │\u001b[1m N     \u001b[1m n\n",
              "     │\u001b[90m Int64 \u001b[90m Int64\n",
              "─────┼──────────────\n",
              "   1 │     8    683\n",
              "   2 │     5    612\n",
              "   3 │     9    575\n",
              "   4 │     6    376\n",
              "   5 │    13    303\n",
              "   6 │    14    294\n",
              "   7 │    10    281\n",
              "   8 │    12    271\n",
              "   9 │     7    227\n",
              "  10 │    15    188\n",
              "  11 │    11    165\n",
              "  ⋮  │   ⋮      ⋮\n",
              "  53 │    56      3\n",
              "  54 │    81      3\n",
              "  55 │    65      2\n",
              "  56 │    57      1\n",
              "  57 │    59      1\n",
              "  58 │    60      1\n",
              "  59 │    61      1\n",
              "  60 │    62      1\n",
              "  61 │    63      1\n",
              "  62 │    67      1\n",
              "\u001b[36m     41 rows omitted"
            ],
            "text/html": [
              "<div><div style = \"float: left;\"><span>62×2 DataFrame</span></div><div style = \"float: right;\"><span style = \"font-style: italic;\">37 rows omitted</span></div><div style = \"clear: both;\"></div></div><div class = \"data-frame\" style = \"overflow-x: scroll;\"><table class = \"data-frame\" style = \"margin-bottom: 6px;\"><thead><tr class = \"header\"><th class = \"rowNumber\" style = \"font-weight: bold; text-align: right;\">Row</th><th style = \"text-align: left;\">N</th><th style = \"text-align: left;\">n</th></tr><tr class = \"subheader headerLastRow\"><th class = \"rowNumber\" style = \"font-weight: bold; text-align: right;\"></th><th title = \"Int64\" style = \"text-align: left;\">Int64</th><th title = \"Int64\" style = \"text-align: left;\">Int64</th></tr></thead><tbody><tr><td class = \"rowNumber\" style = \"font-weight: bold; text-align: right;\">1</td><td style = \"text-align: right;\">8</td><td style = \"text-align: right;\">683</td></tr><tr><td class = \"rowNumber\" style = \"font-weight: bold; text-align: right;\">2</td><td style = \"text-align: right;\">5</td><td style = \"text-align: right;\">612</td></tr><tr><td class = \"rowNumber\" style = \"font-weight: bold; text-align: right;\">3</td><td style = \"text-align: right;\">9</td><td style = \"text-align: right;\">575</td></tr><tr><td class = \"rowNumber\" style = \"font-weight: bold; text-align: right;\">4</td><td style = \"text-align: right;\">6</td><td style = \"text-align: right;\">376</td></tr><tr><td class = \"rowNumber\" style = \"font-weight: bold; text-align: right;\">5</td><td style = \"text-align: right;\">13</td><td style = \"text-align: right;\">303</td></tr><tr><td class = \"rowNumber\" style = \"font-weight: bold; text-align: right;\">6</td><td style = \"text-align: right;\">14</td><td style = \"text-align: right;\">294</td></tr><tr><td class = \"rowNumber\" style = \"font-weight: bold; text-align: right;\">7</td><td style = \"text-align: right;\">10</td><td style = \"text-align: right;\">281</td></tr><tr><td class = \"rowNumber\" style = \"font-weight: bold; text-align: right;\">8</td><td style = \"text-align: right;\">12</td><td style = \"text-align: right;\">271</td></tr><tr><td class = \"rowNumber\" style = \"font-weight: bold; text-align: right;\">9</td><td style = \"text-align: right;\">7</td><td style = \"text-align: right;\">227</td></tr><tr><td class = \"rowNumber\" style = \"font-weight: bold; text-align: right;\">10</td><td style = \"text-align: right;\">15</td><td style = \"text-align: right;\">188</td></tr><tr><td class = \"rowNumber\" style = \"font-weight: bold; text-align: right;\">11</td><td style = \"text-align: right;\">11</td><td style = \"text-align: right;\">165</td></tr><tr><td class = \"rowNumber\" style = \"font-weight: bold; text-align: right;\">12</td><td style = \"text-align: right;\">16</td><td style = \"text-align: right;\">160</td></tr><tr><td class = \"rowNumber\" style = \"font-weight: bold; text-align: right;\">13</td><td style = \"text-align: right;\">17</td><td style = \"text-align: right;\">155</td></tr><tr><td style = \"text-align: right;\">&vellip;</td><td style = \"text-align: right;\">&vellip;</td><td style = \"text-align: right;\">&vellip;</td></tr><tr><td class = \"rowNumber\" style = \"font-weight: bold; text-align: right;\">51</td><td style = \"text-align: right;\">55</td><td style = \"text-align: right;\">7</td></tr><tr><td class = \"rowNumber\" style = \"font-weight: bold; text-align: right;\">52</td><td style = \"text-align: right;\">58</td><td style = \"text-align: right;\">5</td></tr><tr><td class = \"rowNumber\" style = \"font-weight: bold; text-align: right;\">53</td><td style = \"text-align: right;\">56</td><td style = \"text-align: right;\">3</td></tr><tr><td class = \"rowNumber\" style = \"font-weight: bold; text-align: right;\">54</td><td style = \"text-align: right;\">81</td><td style = \"text-align: right;\">3</td></tr><tr><td class = \"rowNumber\" style = \"font-weight: bold; text-align: right;\">55</td><td style = \"text-align: right;\">65</td><td style = \"text-align: right;\">2</td></tr><tr><td class = \"rowNumber\" style = \"font-weight: bold; text-align: right;\">56</td><td style = \"text-align: right;\">57</td><td style = \"text-align: right;\">1</td></tr><tr><td class = \"rowNumber\" style = \"font-weight: bold; text-align: right;\">57</td><td style = \"text-align: right;\">59</td><td style = \"text-align: right;\">1</td></tr><tr><td class = \"rowNumber\" style = \"font-weight: bold; text-align: right;\">58</td><td style = \"text-align: right;\">60</td><td style = \"text-align: right;\">1</td></tr><tr><td class = \"rowNumber\" style = \"font-weight: bold; text-align: right;\">59</td><td style = \"text-align: right;\">61</td><td style = \"text-align: right;\">1</td></tr><tr><td class = \"rowNumber\" style = \"font-weight: bold; text-align: right;\">60</td><td style = \"text-align: right;\">62</td><td style = \"text-align: right;\">1</td></tr><tr><td class = \"rowNumber\" style = \"font-weight: bold; text-align: right;\">61</td><td style = \"text-align: right;\">63</td><td style = \"text-align: right;\">1</td></tr><tr><td class = \"rowNumber\" style = \"font-weight: bold; text-align: right;\">62</td><td style = \"text-align: right;\">67</td><td style = \"text-align: right;\">1</td></tr></tbody></table></div>"
            ],
            "text/latex": "\\begin{tabular}{r|cc}\n\t& N & n\\\\\n\t\\hline\n\t& Int64 & Int64\\\\\n\t\\hline\n\t1 & 8 & 683 \\\\\n\t2 & 5 & 612 \\\\\n\t3 & 9 & 575 \\\\\n\t4 & 6 & 376 \\\\\n\t5 & 13 & 303 \\\\\n\t6 & 14 & 294 \\\\\n\t7 & 10 & 281 \\\\\n\t8 & 12 & 271 \\\\\n\t9 & 7 & 227 \\\\\n\t10 & 15 & 188 \\\\\n\t11 & 11 & 165 \\\\\n\t12 & 16 & 160 \\\\\n\t13 & 17 & 155 \\\\\n\t14 & 19 & 153 \\\\\n\t15 & 18 & 150 \\\\\n\t16 & 20 & 150 \\\\\n\t17 & 21 & 140 \\\\\n\t18 & 23 & 128 \\\\\n\t19 & 25 & 124 \\\\\n\t20 & 22 & 123 \\\\\n\t21 & 24 & 111 \\\\\n\t22 & 29 & 111 \\\\\n\t23 & 26 & 99 \\\\\n\t24 & 28 & 97 \\\\\n\t25 & 36 & 94 \\\\\n\t26 & 27 & 92 \\\\\n\t27 & 35 & 86 \\\\\n\t28 & 37 & 84 \\\\\n\t29 & 32 & 83 \\\\\n\t30 & 30 & 81 \\\\\n\t$\\dots$ & $\\dots$ & $\\dots$ \\\\\n\\end{tabular}\n"
          },
          "metadata": {},
          "execution_count": 85
        }
      ],
      "cell_type": "code",
      "source": [
        "# 💻 What is the distribution of the number of courses a student took while at Euphoria State?\n",
        "# use the argument `rev=true` to sort to order the values. What is the most common number of courses?\n",
        "df = combine(groupby(d, :N), nrow=> :n)\n",
        "sort(df, :n; rev=true)"
      ],
      "metadata": {
        "id": "8yo1pAbfj-Td",
        "outputId": "17c01b18-cfb8-45db-8d70-6712ccba54f5",
        "colab": {
          "base_uri": "https://localhost:8080/",
          "height": 651
        }
      },
      "execution_count": 85
    },
    {
      "outputs": [
        {
          "output_type": "execute_result",
          "data": {
            "text/plain": [
              "\u001b[1m15×2 DataFrame\n",
              "\u001b[1m Row │\u001b[1m F     \u001b[1m n\n",
              "     │\u001b[90m Int64 \u001b[90m Float64\n",
              "─────┼────────────────\n",
              "   1 │  1169  24.0946\n",
              "   2 │  1159  24.0241\n",
              "   3 │  1179  21.9925\n",
              "   4 │  1189  21.6496\n",
              "   5 │  1199  20.3666\n",
              "   6 │  1172  17.9893\n",
              "   7 │  1162  17.7117\n",
              "   8 │  1182  17.5099\n",
              "   9 │  1192  17.0333\n",
              "  10 │  1209  16.1586\n",
              "  11 │  1202  13.8745\n",
              "  12 │  1219  12.781\n",
              "  13 │  1212  11.0628\n",
              "  14 │  1222   9.2426\n",
              "  15 │  1229   8.0217"
            ],
            "text/html": [
              "<div><div style = \"float: left;\"><span>15×2 DataFrame</span></div><div style = \"clear: both;\"></div></div><div class = \"data-frame\" style = \"overflow-x: scroll;\"><table class = \"data-frame\" style = \"margin-bottom: 6px;\"><thead><tr class = \"header\"><th class = \"rowNumber\" style = \"font-weight: bold; text-align: right;\">Row</th><th style = \"text-align: left;\">F</th><th style = \"text-align: left;\">n</th></tr><tr class = \"subheader headerLastRow\"><th class = \"rowNumber\" style = \"font-weight: bold; text-align: right;\"></th><th title = \"Int64\" style = \"text-align: left;\">Int64</th><th title = \"Float64\" style = \"text-align: left;\">Float64</th></tr></thead><tbody><tr><td class = \"rowNumber\" style = \"font-weight: bold; text-align: right;\">1</td><td style = \"text-align: right;\">1169</td><td style = \"text-align: right;\">24.0946</td></tr><tr><td class = \"rowNumber\" style = \"font-weight: bold; text-align: right;\">2</td><td style = \"text-align: right;\">1159</td><td style = \"text-align: right;\">24.0241</td></tr><tr><td class = \"rowNumber\" style = \"font-weight: bold; text-align: right;\">3</td><td style = \"text-align: right;\">1179</td><td style = \"text-align: right;\">21.9925</td></tr><tr><td class = \"rowNumber\" style = \"font-weight: bold; text-align: right;\">4</td><td style = \"text-align: right;\">1189</td><td style = \"text-align: right;\">21.6496</td></tr><tr><td class = \"rowNumber\" style = \"font-weight: bold; text-align: right;\">5</td><td style = \"text-align: right;\">1199</td><td style = \"text-align: right;\">20.3666</td></tr><tr><td class = \"rowNumber\" style = \"font-weight: bold; text-align: right;\">6</td><td style = \"text-align: right;\">1172</td><td style = \"text-align: right;\">17.9893</td></tr><tr><td class = \"rowNumber\" style = \"font-weight: bold; text-align: right;\">7</td><td style = \"text-align: right;\">1162</td><td style = \"text-align: right;\">17.7117</td></tr><tr><td class = \"rowNumber\" style = \"font-weight: bold; text-align: right;\">8</td><td style = \"text-align: right;\">1182</td><td style = \"text-align: right;\">17.5099</td></tr><tr><td class = \"rowNumber\" style = \"font-weight: bold; text-align: right;\">9</td><td style = \"text-align: right;\">1192</td><td style = \"text-align: right;\">17.0333</td></tr><tr><td class = \"rowNumber\" style = \"font-weight: bold; text-align: right;\">10</td><td style = \"text-align: right;\">1209</td><td style = \"text-align: right;\">16.1586</td></tr><tr><td class = \"rowNumber\" style = \"font-weight: bold; text-align: right;\">11</td><td style = \"text-align: right;\">1202</td><td style = \"text-align: right;\">13.8745</td></tr><tr><td class = \"rowNumber\" style = \"font-weight: bold; text-align: right;\">12</td><td style = \"text-align: right;\">1219</td><td style = \"text-align: right;\">12.781</td></tr><tr><td class = \"rowNumber\" style = \"font-weight: bold; text-align: right;\">13</td><td style = \"text-align: right;\">1212</td><td style = \"text-align: right;\">11.0628</td></tr><tr><td class = \"rowNumber\" style = \"font-weight: bold; text-align: right;\">14</td><td style = \"text-align: right;\">1222</td><td style = \"text-align: right;\">9.2426</td></tr><tr><td class = \"rowNumber\" style = \"font-weight: bold; text-align: right;\">15</td><td style = \"text-align: right;\">1229</td><td style = \"text-align: right;\">8.0217</td></tr></tbody></table></div>"
            ],
            "text/latex": "\\begin{tabular}{r|cc}\n\t& F & n\\\\\n\t\\hline\n\t& Int64 & Float64\\\\\n\t\\hline\n\t1 & 1169 & 24.0946 \\\\\n\t2 & 1159 & 24.0241 \\\\\n\t3 & 1179 & 21.9925 \\\\\n\t4 & 1189 & 21.6496 \\\\\n\t5 & 1199 & 20.3666 \\\\\n\t6 & 1172 & 17.9893 \\\\\n\t7 & 1162 & 17.7117 \\\\\n\t8 & 1182 & 17.5099 \\\\\n\t9 & 1192 & 17.0333 \\\\\n\t10 & 1209 & 16.1586 \\\\\n\t11 & 1202 & 13.8745 \\\\\n\t12 & 1219 & 12.781 \\\\\n\t13 & 1212 & 11.0628 \\\\\n\t14 & 1222 & 9.2426 \\\\\n\t15 & 1229 & 8.0217 \\\\\n\\end{tabular}\n"
          },
          "metadata": {},
          "execution_count": 86
        }
      ],
      "cell_type": "code",
      "source": [
        "# 💻 what is the distribution of the mean number of courses taken by first term (:F)?\n",
        "# After sorting, which term had the most?\n",
        "df = combine(groupby(d, :F), :N => mean => :n)\n",
        "sort(df, :n; rev=true)"
      ],
      "metadata": {
        "id": "jQOdZZhej-Te",
        "outputId": "6846edc5-f61c-4b96-c204-cf1b0bea3677",
        "colab": {
          "base_uri": "https://localhost:8080/",
          "height": 418
        }
      },
      "execution_count": 86
    },
    {
      "cell_type": "markdown",
      "source": [
        "---\n"
      ],
      "metadata": {
        "id": "GJ2i1Tytj-Te"
      }
    },
    {
      "cell_type": "markdown",
      "source": [
        "## Contigency tables\n"
      ],
      "metadata": {
        "internals": {
          "slide_type": "subslide",
          "slide_helper": "subslide_end"
        },
        "slide_helper": "slide_end",
        "id": "smiFeWoFj-Te"
      }
    },
    {
      "cell_type": "markdown",
      "source": [
        "We are curious how the number of semesters has varied over the years and want a contingency table.\n"
      ],
      "metadata": {
        "id": "REq7YUWuj-Te"
      }
    },
    {
      "cell_type": "markdown",
      "source": [
        "Grouping by more than one column is possible, as this shows:\n"
      ],
      "metadata": {
        "id": "W6EJSEB9j-Tf"
      }
    },
    {
      "outputs": [
        {
          "output_type": "execute_result",
          "data": {
            "text/plain": [
              "\u001b[1m120×3 DataFrame\n",
              "\u001b[1m Row │\u001b[1m semesters \u001b[1m F     \u001b[1m N\n",
              "     │\u001b[90m Float64   \u001b[90m Int64 \u001b[90m Int64\n",
              "─────┼─────────────────────────\n",
              "   1 │       0.5   1159     73\n",
              "   2 │       1.0   1159     74\n",
              "   3 │       1.5   1159     32\n",
              "   4 │       2.0   1159     39\n",
              "   5 │       2.5   1159     26\n",
              "   6 │       3.0   1159     35\n",
              "   7 │       3.5   1159     11\n",
              "   8 │       4.0   1159     49\n",
              "   9 │       4.5   1159     12\n",
              "  10 │       5.0   1159     33\n",
              "  11 │       5.5   1159     12\n",
              "  ⋮  │     ⋮        ⋮      ⋮\n",
              " 111 │       0.5   1212    100\n",
              " 112 │       1.0   1212     28\n",
              " 113 │       1.5   1212     16\n",
              " 114 │       2.0   1212     63\n",
              " 115 │       0.5   1219    194\n",
              " 116 │       1.0   1219    147\n",
              " 117 │       1.5   1219    321\n",
              " 118 │       0.5   1222     84\n",
              " 119 │       1.0   1222     85\n",
              " 120 │       0.5   1229    599\n",
              "\u001b[36m                99 rows omitted"
            ],
            "text/html": [
              "<div><div style = \"float: left;\"><span>120×3 DataFrame</span></div><div style = \"float: right;\"><span style = \"font-style: italic;\">95 rows omitted</span></div><div style = \"clear: both;\"></div></div><div class = \"data-frame\" style = \"overflow-x: scroll;\"><table class = \"data-frame\" style = \"margin-bottom: 6px;\"><thead><tr class = \"header\"><th class = \"rowNumber\" style = \"font-weight: bold; text-align: right;\">Row</th><th style = \"text-align: left;\">semesters</th><th style = \"text-align: left;\">F</th><th style = \"text-align: left;\">N</th></tr><tr class = \"subheader headerLastRow\"><th class = \"rowNumber\" style = \"font-weight: bold; text-align: right;\"></th><th title = \"Float64\" style = \"text-align: left;\">Float64</th><th title = \"Int64\" style = \"text-align: left;\">Int64</th><th title = \"Int64\" style = \"text-align: left;\">Int64</th></tr></thead><tbody><tr><td class = \"rowNumber\" style = \"font-weight: bold; text-align: right;\">1</td><td style = \"text-align: right;\">0.5</td><td style = \"text-align: right;\">1159</td><td style = \"text-align: right;\">73</td></tr><tr><td class = \"rowNumber\" style = \"font-weight: bold; text-align: right;\">2</td><td style = \"text-align: right;\">1.0</td><td style = \"text-align: right;\">1159</td><td style = \"text-align: right;\">74</td></tr><tr><td class = \"rowNumber\" style = \"font-weight: bold; text-align: right;\">3</td><td style = \"text-align: right;\">1.5</td><td style = \"text-align: right;\">1159</td><td style = \"text-align: right;\">32</td></tr><tr><td class = \"rowNumber\" style = \"font-weight: bold; text-align: right;\">4</td><td style = \"text-align: right;\">2.0</td><td style = \"text-align: right;\">1159</td><td style = \"text-align: right;\">39</td></tr><tr><td class = \"rowNumber\" style = \"font-weight: bold; text-align: right;\">5</td><td style = \"text-align: right;\">2.5</td><td style = \"text-align: right;\">1159</td><td style = \"text-align: right;\">26</td></tr><tr><td class = \"rowNumber\" style = \"font-weight: bold; text-align: right;\">6</td><td style = \"text-align: right;\">3.0</td><td style = \"text-align: right;\">1159</td><td style = \"text-align: right;\">35</td></tr><tr><td class = \"rowNumber\" style = \"font-weight: bold; text-align: right;\">7</td><td style = \"text-align: right;\">3.5</td><td style = \"text-align: right;\">1159</td><td style = \"text-align: right;\">11</td></tr><tr><td class = \"rowNumber\" style = \"font-weight: bold; text-align: right;\">8</td><td style = \"text-align: right;\">4.0</td><td style = \"text-align: right;\">1159</td><td style = \"text-align: right;\">49</td></tr><tr><td class = \"rowNumber\" style = \"font-weight: bold; text-align: right;\">9</td><td style = \"text-align: right;\">4.5</td><td style = \"text-align: right;\">1159</td><td style = \"text-align: right;\">12</td></tr><tr><td class = \"rowNumber\" style = \"font-weight: bold; text-align: right;\">10</td><td style = \"text-align: right;\">5.0</td><td style = \"text-align: right;\">1159</td><td style = \"text-align: right;\">33</td></tr><tr><td class = \"rowNumber\" style = \"font-weight: bold; text-align: right;\">11</td><td style = \"text-align: right;\">5.5</td><td style = \"text-align: right;\">1159</td><td style = \"text-align: right;\">12</td></tr><tr><td class = \"rowNumber\" style = \"font-weight: bold; text-align: right;\">12</td><td style = \"text-align: right;\">6.0</td><td style = \"text-align: right;\">1159</td><td style = \"text-align: right;\">28</td></tr><tr><td class = \"rowNumber\" style = \"font-weight: bold; text-align: right;\">13</td><td style = \"text-align: right;\">6.5</td><td style = \"text-align: right;\">1159</td><td style = \"text-align: right;\">10</td></tr><tr><td style = \"text-align: right;\">&vellip;</td><td style = \"text-align: right;\">&vellip;</td><td style = \"text-align: right;\">&vellip;</td><td style = \"text-align: right;\">&vellip;</td></tr><tr><td class = \"rowNumber\" style = \"font-weight: bold; text-align: right;\">109</td><td style = \"text-align: right;\">2.0</td><td style = \"text-align: right;\">1209</td><td style = \"text-align: right;\">82</td></tr><tr><td class = \"rowNumber\" style = \"font-weight: bold; text-align: right;\">110</td><td style = \"text-align: right;\">2.5</td><td style = \"text-align: right;\">1209</td><td style = \"text-align: right;\">253</td></tr><tr><td class = \"rowNumber\" style = \"font-weight: bold; text-align: right;\">111</td><td style = \"text-align: right;\">0.5</td><td style = \"text-align: right;\">1212</td><td style = \"text-align: right;\">100</td></tr><tr><td class = \"rowNumber\" style = \"font-weight: bold; text-align: right;\">112</td><td style = \"text-align: right;\">1.0</td><td style = \"text-align: right;\">1212</td><td style = \"text-align: right;\">28</td></tr><tr><td class = \"rowNumber\" style = \"font-weight: bold; text-align: right;\">113</td><td style = \"text-align: right;\">1.5</td><td style = \"text-align: right;\">1212</td><td style = \"text-align: right;\">16</td></tr><tr><td class = \"rowNumber\" style = \"font-weight: bold; text-align: right;\">114</td><td style = \"text-align: right;\">2.0</td><td style = \"text-align: right;\">1212</td><td style = \"text-align: right;\">63</td></tr><tr><td class = \"rowNumber\" style = \"font-weight: bold; text-align: right;\">115</td><td style = \"text-align: right;\">0.5</td><td style = \"text-align: right;\">1219</td><td style = \"text-align: right;\">194</td></tr><tr><td class = \"rowNumber\" style = \"font-weight: bold; text-align: right;\">116</td><td style = \"text-align: right;\">1.0</td><td style = \"text-align: right;\">1219</td><td style = \"text-align: right;\">147</td></tr><tr><td class = \"rowNumber\" style = \"font-weight: bold; text-align: right;\">117</td><td style = \"text-align: right;\">1.5</td><td style = \"text-align: right;\">1219</td><td style = \"text-align: right;\">321</td></tr><tr><td class = \"rowNumber\" style = \"font-weight: bold; text-align: right;\">118</td><td style = \"text-align: right;\">0.5</td><td style = \"text-align: right;\">1222</td><td style = \"text-align: right;\">84</td></tr><tr><td class = \"rowNumber\" style = \"font-weight: bold; text-align: right;\">119</td><td style = \"text-align: right;\">1.0</td><td style = \"text-align: right;\">1222</td><td style = \"text-align: right;\">85</td></tr><tr><td class = \"rowNumber\" style = \"font-weight: bold; text-align: right;\">120</td><td style = \"text-align: right;\">0.5</td><td style = \"text-align: right;\">1229</td><td style = \"text-align: right;\">599</td></tr></tbody></table></div>"
            ],
            "text/latex": "\\begin{tabular}{r|ccc}\n\t& semesters & F & N\\\\\n\t\\hline\n\t& Float64 & Int64 & Int64\\\\\n\t\\hline\n\t1 & 0.5 & 1159 & 73 \\\\\n\t2 & 1.0 & 1159 & 74 \\\\\n\t3 & 1.5 & 1159 & 32 \\\\\n\t4 & 2.0 & 1159 & 39 \\\\\n\t5 & 2.5 & 1159 & 26 \\\\\n\t6 & 3.0 & 1159 & 35 \\\\\n\t7 & 3.5 & 1159 & 11 \\\\\n\t8 & 4.0 & 1159 & 49 \\\\\n\t9 & 4.5 & 1159 & 12 \\\\\n\t10 & 5.0 & 1159 & 33 \\\\\n\t11 & 5.5 & 1159 & 12 \\\\\n\t12 & 6.0 & 1159 & 28 \\\\\n\t13 & 6.5 & 1159 & 10 \\\\\n\t14 & 7.0 & 1159 & 11 \\\\\n\t15 & 7.5 & 1159 & 11 \\\\\n\t16 & 0.5 & 1162 & 100 \\\\\n\t17 & 1.0 & 1162 & 28 \\\\\n\t18 & 1.5 & 1162 & 26 \\\\\n\t19 & 2.0 & 1162 & 12 \\\\\n\t20 & 2.5 & 1162 & 10 \\\\\n\t21 & 3.0 & 1162 & 11 \\\\\n\t22 & 3.5 & 1162 & 29 \\\\\n\t23 & 4.0 & 1162 & 5 \\\\\n\t24 & 4.5 & 1162 & 18 \\\\\n\t25 & 5.0 & 1162 & 9 \\\\\n\t26 & 5.5 & 1162 & 14 \\\\\n\t27 & 6.0 & 1162 & 5 \\\\\n\t28 & 6.5 & 1162 & 8 \\\\\n\t29 & 7.0 & 1162 & 6 \\\\\n\t30 & 0.5 & 1169 & 103 \\\\\n\t$\\dots$ & $\\dots$ & $\\dots$ & $\\dots$ \\\\\n\\end{tabular}\n"
          },
          "metadata": {},
          "execution_count": 87
        }
      ],
      "cell_type": "code",
      "source": [
        "df = combine(groupby(d, [:semesters, :F]), nrow => :N)\n",
        "sort(df, [:F, :semesters])"
      ],
      "metadata": {
        "id": "16Y8zMa1j-Tf",
        "outputId": "79e47bb3-a32e-4383-b958-50c392671df1",
        "colab": {
          "base_uri": "https://localhost:8080/",
          "height": 651
        }
      },
      "execution_count": 87
    },
    {
      "cell_type": "markdown",
      "source": [
        "But a more familiar display is in the form of a contingency table. For that we reach for a package that is useful for contingency tables:\n"
      ],
      "metadata": {
        "id": "4H06BQlfj-Tg"
      }
    },
    {
      "outputs": [
        {
          "output_type": "stream",
          "name": "stderr",
          "text": [
            "\u001b[32m\u001b[1m   Resolving\u001b[22m\u001b[39m package versions...\n",
            "\u001b[32m\u001b[1m   Installed\u001b[22m\u001b[39m Combinatorics ───── v1.0.2\n",
            "\u001b[32m\u001b[1m   Installed\u001b[22m\u001b[39m FreqTables ──────── v0.4.6\n",
            "\u001b[32m\u001b[1m   Installed\u001b[22m\u001b[39m CategoricalArrays ─ v0.10.8\n",
            "\u001b[32m\u001b[1m   Installed\u001b[22m\u001b[39m NamedArrays ─────── v0.10.3\n",
            "\u001b[32m\u001b[1m    Updating\u001b[22m\u001b[39m `~/.julia/environments/v1.10/Project.toml`\n",
            "  \u001b[90m[da1fdf0e] \u001b[39m\u001b[92m+ FreqTables v0.4.6\u001b[39m\n",
            "\u001b[32m\u001b[1m    Updating\u001b[22m\u001b[39m `~/.julia/environments/v1.10/Manifest.toml`\n",
            "  \u001b[90m[324d7699] \u001b[39m\u001b[92m+ CategoricalArrays v0.10.8\u001b[39m\n",
            "  \u001b[90m[861a8166] \u001b[39m\u001b[92m+ Combinatorics v1.0.2\u001b[39m\n",
            "  \u001b[90m[da1fdf0e] \u001b[39m\u001b[92m+ FreqTables v0.4.6\u001b[39m\n",
            "  \u001b[90m[86f7a689] \u001b[39m\u001b[92m+ NamedArrays v0.10.3\u001b[39m\n",
            "\u001b[32m\u001b[1mPrecompiling\u001b[22m\u001b[39m packages...\n",
            "   2333.5 ms\u001b[32m  ✓ \u001b[39m\u001b[90mCombinatorics\u001b[39m\n",
            "   2586.9 ms\u001b[32m  ✓ \u001b[39m\u001b[90mCategoricalArrays\u001b[39m\n",
            "   2739.2 ms\u001b[32m  ✓ \u001b[39m\u001b[90mNamedArrays\u001b[39m\n",
            "   2088.7 ms\u001b[32m  ✓ \u001b[39m\u001b[90mCategoricalArrays → CategoricalArraysRecipesBaseExt\u001b[39m\n",
            "   2195.7 ms\u001b[32m  ✓ \u001b[39m\u001b[90mCategoricalArrays → CategoricalArraysJSONExt\u001b[39m\n",
            "   1396.0 ms\u001b[32m  ✓ \u001b[39m\u001b[90mCategoricalArrays → CategoricalArraysSentinelArraysExt\u001b[39m\n",
            "   1586.7 ms\u001b[32m  ✓ \u001b[39mFreqTables\n",
            "  7 dependencies successfully precompiled in 8 seconds. 455 already precompiled.\n"
          ]
        }
      ],
      "cell_type": "code",
      "source": [
        "Pkg.add(\"FreqTables\")\n",
        "import FreqTables: freqtable"
      ],
      "metadata": {
        "id": "7jESafGQj-Tg",
        "outputId": "b7bc9983-3a88-4420-a676-cca5218374dd",
        "colab": {
          "base_uri": "https://localhost:8080/",
          "height": 0
        }
      },
      "execution_count": 114
    },
    {
      "cell_type": "markdown",
      "source": [
        "The `freqtable` function is used like `R`'s `table` function (not `xtabs`, with its modeling formula interface):\n"
      ],
      "metadata": {
        "id": "zKnsXfkMj-Tg"
      }
    },
    {
      "outputs": [
        {
          "output_type": "execute_result",
          "data": {
            "text/plain": [
              "15×15 Named Matrix{Int64}\n",
              "Dim1 ╲ Dim2 │ 0.5  1.0  1.5  2.0  2.5  3.0  …  5.0  5.5  6.0  6.5  7.0  7.5\n",
              "────────────┼──────────────────────────────────────────────────────────────\n",
              "1159        │  73   74   32   39   26   35  …   33   12   28   10   11   11\n",
              "1162        │ 100   28   26   12   10   11       9   14    5    8    6    0\n",
              "1169        │ 103  136   49   73   32   45      51   20   24   35    0    0\n",
              "1172        │ 101   24   22   14   17   14      18    9    9    0    0    0\n",
              "1179        │ 138  167   69   71   37   54      38   79    0    0    0    0\n",
              "1182        │  82   36   26   12   18   15      21    0    0    0    0    0\n",
              "1189        │ 150  159   43   55   40   57       0    0    0    0    0    0\n",
              "1192        │  72   22   20   10   24   17       0    0    0    0    0    0\n",
              "1199        │ 114  106   53   81   54   52       0    0    0    0    0    0\n",
              "1202        │ 109   18   30   33   29   44       0    0    0    0    0    0\n",
              "1209        │ 172  135   77   82  253    0       0    0    0    0    0    0\n",
              "1212        │ 100   28   16   63    0    0       0    0    0    0    0    0\n",
              "1219        │ 194  147  321    0    0    0       0    0    0    0    0    0\n",
              "1222        │  84   85    0    0    0    0       0    0    0    0    0    0\n",
              "1229        │ 599    0    0    0    0    0  …    0    0    0    0    0    0"
            ]
          },
          "metadata": {},
          "execution_count": 115
        }
      ],
      "cell_type": "code",
      "source": [
        "m = freqtable(d.F, d.semesters)"
      ],
      "metadata": {
        "id": "2BhgJA3ij-Tg",
        "outputId": "5b163e71-a50e-4d85-b8ec-7608774ceba0",
        "colab": {
          "base_uri": "https://localhost:8080/",
          "height": 0
        }
      },
      "execution_count": 115
    },
    {
      "cell_type": "markdown",
      "source": [
        "Students on the lower diagonal are still enrolled, other students have left.\n"
      ],
      "metadata": {
        "id": "hdSbHIavj-Tg"
      }
    },
    {
      "cell_type": "markdown",
      "source": [
        "---\n"
      ],
      "metadata": {
        "id": "0QQ-3sLlj-Th"
      }
    },
    {
      "outputs": [
        {
          "output_type": "execute_result",
          "data": {
            "text/plain": [
              "15×15 Named Matrix{Int64}\n",
              "Dim1 ╲ Dim2 │ 1159  1162  1169  1172  1179  …  1209  1212  1219  1222  1229\n",
              "────────────┼──────────────────────────────────────────────────────────────\n",
              "1159        │   73    74    32    39    26  …    12    28    10    11    11\n",
              "1162        │    0   100    28    26    12        9    14     5     8     6\n",
              "1169        │    0     0   103   136    49       39    51    20    24    35\n",
              "1172        │    0     0     0   101    24       21    16    18     9     9\n",
              "1179        │    0     0     0     0   138       39    61    47    38    79\n",
              "1182        │    0     0     0     0     0       15    24    10     9    21\n",
              "1189        │    0     0     0     0     0       40    57    54    86   118\n",
              "1192        │    0     0     0     0     0       10    24    17    25    50\n",
              "1199        │    0     0     0     0     0       53    81    54    52   241\n",
              "1202        │    0     0     0     0     0       18    30    33    29    44\n",
              "1209        │    0     0     0     0     0      172   135    77    82   253\n",
              "1212        │    0     0     0     0     0        0   100    28    16    63\n",
              "1219        │    0     0     0     0     0        0     0   194   147   321\n",
              "1222        │    0     0     0     0     0        0     0     0    84    85\n",
              "1229        │    0     0     0     0     0  …     0     0     0     0   599"
            ]
          },
          "metadata": {},
          "execution_count": 116
        }
      ],
      "cell_type": "code",
      "source": [
        "# 💻 Make a contingency table of :F versus :L for d. Is the shape expected?\n",
        "freqtable(d.F, d.L) # yes, as :F <= :L we get 0s when this is not the case"
      ],
      "metadata": {
        "id": "oBSVhPr6j-Th",
        "outputId": "5a09576b-2476-433e-9eda-322f6e181588",
        "colab": {
          "base_uri": "https://localhost:8080/",
          "height": 0
        }
      },
      "execution_count": 116
    },
    {
      "cell_type": "markdown",
      "source": [
        "---\n"
      ],
      "metadata": {
        "id": "tdp7YS13j-Th"
      }
    },
    {
      "cell_type": "markdown",
      "source": [
        "There are big variations between students who started in the fall versus the spring (more students start in the fall semester at Euphoria State). Here we select fall cohorts:\n"
      ],
      "metadata": {
        "id": "4gsUWPz3j-Th"
      }
    },
    {
      "outputs": [
        {
          "output_type": "execute_result",
          "data": {
            "text/plain": [
              "8×15 Named Matrix{Int64}\n",
              "Dim1 ╲ Dim2 │ 0.5  1.0  1.5  2.0  2.5  3.0  …  5.0  5.5  6.0  6.5  7.0  7.5\n",
              "────────────┼──────────────────────────────────────────────────────────────\n",
              "1159        │  73   74   32   39   26   35  …   33   12   28   10   11   11\n",
              "1169        │ 103  136   49   73   32   45      51   20   24   35    0    0\n",
              "1179        │ 138  167   69   71   37   54      38   79    0    0    0    0\n",
              "1189        │ 150  159   43   55   40   57       0    0    0    0    0    0\n",
              "1199        │ 114  106   53   81   54   52       0    0    0    0    0    0\n",
              "1209        │ 172  135   77   82  253    0       0    0    0    0    0    0\n",
              "1219        │ 194  147  321    0    0    0       0    0    0    0    0    0\n",
              "1229        │ 599    0    0    0    0    0  …    0    0    0    0    0    0"
            ]
          },
          "metadata": {},
          "execution_count": 117
        }
      ],
      "cell_type": "code",
      "source": [
        "d1 = filter(r -> r.F % 10 == 9, d)\n",
        "m = freqtable(d1.F, d1.semesters)"
      ],
      "metadata": {
        "id": "E84T2DJZj-Th",
        "outputId": "e10e83bb-cf1e-4d0a-f46f-6dbadc746ace",
        "colab": {
          "base_uri": "https://localhost:8080/",
          "height": 0
        }
      },
      "execution_count": 117
    },
    {
      "cell_type": "markdown",
      "source": [
        "---\n"
      ],
      "metadata": {
        "id": "2z1w9o1Zj-Th"
      }
    },
    {
      "outputs": [
        {
          "output_type": "execute_result",
          "data": {
            "text/plain": [
              "7×14 Named Matrix{Int64}\n",
              "Dim1 ╲ Dim2 │ 0.5  1.0  1.5  2.0  2.5  3.0  …  4.5  5.0  5.5  6.0  6.5  7.0\n",
              "────────────┼──────────────────────────────────────────────────────────────\n",
              "1162        │ 100   28   26   12   10   11  …   18    9   14    5    8    6\n",
              "1172        │ 101   24   22   14   17   14      16   18    9    9    0    0\n",
              "1182        │  82   36   26   12   18   15       9   21    0    0    0    0\n",
              "1192        │  72   22   20   10   24   17       0    0    0    0    0    0\n",
              "1202        │ 109   18   30   33   29   44       0    0    0    0    0    0\n",
              "1212        │ 100   28   16   63    0    0       0    0    0    0    0    0\n",
              "1222        │  84   85    0    0    0    0  …    0    0    0    0    0    0"
            ]
          },
          "metadata": {},
          "execution_count": 118
        }
      ],
      "cell_type": "code",
      "source": [
        "# 💻 Repeat the above, finding a contingency table for those starting in the spring semester (Term ends in 2)\n",
        "d1 = filter(r -> r.F % 10 == 2, d)\n",
        "m = freqtable(d1.F, d1.semesters)"
      ],
      "metadata": {
        "id": "wCqDe2uKj-Ti",
        "outputId": "5e5526bb-cc06-47a8-b887-9bc911c1b8fc",
        "colab": {
          "base_uri": "https://localhost:8080/",
          "height": 0
        }
      },
      "execution_count": 118
    },
    {
      "cell_type": "markdown",
      "source": [
        "---\n"
      ],
      "metadata": {
        "id": "mUGDzoj8j-Ti"
      }
    },
    {
      "cell_type": "markdown",
      "source": [
        "This pattern of repeated data transformation is often done with a piping syntax, which can feel more natural. Here is one way to do so:\n"
      ],
      "metadata": {
        "id": "dT7QowcDj-Ti"
      }
    },
    {
      "outputs": [
        {
          "output_type": "execute_result",
          "data": {
            "text/plain": [
              "8×15 Named Matrix{Int64}\n",
              "Dim1 ╲ Dim2 │ 0.5  1.0  1.5  2.0  2.5  3.0  …  5.0  5.5  6.0  6.5  7.0  7.5\n",
              "────────────┼──────────────────────────────────────────────────────────────\n",
              "1159        │  73   74   32   39   26   35  …   33   12   28   10   11   11\n",
              "1169        │ 103  136   49   73   32   45      51   20   24   35    0    0\n",
              "1179        │ 138  167   69   71   37   54      38   79    0    0    0    0\n",
              "1189        │ 150  159   43   55   40   57       0    0    0    0    0    0\n",
              "1199        │ 114  106   53   81   54   52       0    0    0    0    0    0\n",
              "1209        │ 172  135   77   82  253    0       0    0    0    0    0    0\n",
              "1219        │ 194  147  321    0    0    0       0    0    0    0    0    0\n",
              "1229        │ 599    0    0    0    0    0  …    0    0    0    0    0    0"
            ]
          },
          "metadata": {},
          "execution_count": 119
        }
      ],
      "cell_type": "code",
      "source": [
        "d |>\n",
        "    x -> filter(r -> r.F % 10 == 9, x) |>\n",
        "    x -> freqtable(x.F, x.semesters)"
      ],
      "metadata": {
        "id": "lF-xLQHKj-Ti",
        "outputId": "225b8816-3012-427e-cb12-640f56b3b5f7",
        "colab": {
          "base_uri": "https://localhost:8080/",
          "height": 0
        }
      },
      "execution_count": 119
    },
    {
      "cell_type": "markdown",
      "source": [
        "The anonymous functions are easy to write, but difficult to parse. Plus they add some boilerplate that would be nice to remove.\n"
      ],
      "metadata": {
        "id": "-mtwweFdj-Ti"
      }
    },
    {
      "cell_type": "markdown",
      "source": [
        "In `Julia` there are **too** many solutions to this through add-on packages. One is to create a placeholder for the previous value so it can thread through the other might be to create simplified syntax for anonymous functions. We use the `Chain` package and `@chain` macro for the former, the `Underscores` package can do the latter (there are also related `Pipe`, `DataPipes`, `Lazy`, ... packages).\n"
      ],
      "metadata": {
        "id": "PCESnKRUj-Ti"
      }
    },
    {
      "cell_type": "markdown",
      "source": [
        "We will use `Chain`\n"
      ],
      "metadata": {
        "id": "9qO1tEy4j-Ti"
      }
    },
    {
      "outputs": [
        {
          "output_type": "stream",
          "name": "stderr",
          "text": [
            "\u001b[32m\u001b[1m   Resolving\u001b[22m\u001b[39m package versions...\n",
            "\u001b[32m\u001b[1m   Installed\u001b[22m\u001b[39m Chain ─ v0.6.0\n",
            "\u001b[32m\u001b[1m    Updating\u001b[22m\u001b[39m `~/.julia/environments/v1.10/Project.toml`\n",
            "  \u001b[90m[8be319e6] \u001b[39m\u001b[92m+ Chain v0.6.0\u001b[39m\n",
            "\u001b[32m\u001b[1m    Updating\u001b[22m\u001b[39m `~/.julia/environments/v1.10/Manifest.toml`\n",
            "  \u001b[90m[8be319e6] \u001b[39m\u001b[92m+ Chain v0.6.0\u001b[39m\n",
            "\u001b[32m\u001b[1mPrecompiling\u001b[22m\u001b[39m packages...\n",
            "    850.9 ms\u001b[32m  ✓ \u001b[39mChain\n",
            "  1 dependency successfully precompiled in 1 seconds. 462 already precompiled.\n"
          ]
        }
      ],
      "cell_type": "code",
      "source": [
        "Pkg.add(\"Chain\")\n",
        "using Chain"
      ],
      "metadata": {
        "id": "Oj6RckWDj-Ti",
        "outputId": "1af3119e-2a7c-44ba-c72d-843800f9544e",
        "colab": {
          "base_uri": "https://localhost:8080/",
          "height": 0
        }
      },
      "execution_count": 121
    },
    {
      "cell_type": "markdown",
      "source": [
        "With `Chain` we use two simple rules:\n"
      ],
      "metadata": {
        "id": "QvUaNEf4j-Tj"
      }
    },
    {
      "cell_type": "markdown",
      "source": [
        "  * we can use an underscore, `_`, to specify where the passed along value should fit into the next function call\n",
        "  * if no `_` is used, it is passed to the first position.\n"
      ],
      "metadata": {
        "id": "OuR8k3JMj-Tj"
      }
    },
    {
      "cell_type": "markdown",
      "source": [
        "Also with `Chain` the piping notation is implicit through a new line.\n"
      ],
      "metadata": {
        "id": "K7CYWOarj-Tj"
      }
    },
    {
      "cell_type": "markdown",
      "source": [
        "The above becomes:\n"
      ],
      "metadata": {
        "id": "Suz4sFLYj-Tj"
      }
    },
    {
      "outputs": [
        {
          "output_type": "execute_result",
          "data": {
            "text/plain": [
              "8×15 Named Matrix{Int64}\n",
              "Dim1 ╲ Dim2 │ 0.5  1.0  1.5  2.0  2.5  3.0  …  5.0  5.5  6.0  6.5  7.0  7.5\n",
              "────────────┼──────────────────────────────────────────────────────────────\n",
              "1159        │  73   74   32   39   26   35  …   33   12   28   10   11   11\n",
              "1169        │ 103  136   49   73   32   45      51   20   24   35    0    0\n",
              "1179        │ 138  167   69   71   37   54      38   79    0    0    0    0\n",
              "1189        │ 150  159   43   55   40   57       0    0    0    0    0    0\n",
              "1199        │ 114  106   53   81   54   52       0    0    0    0    0    0\n",
              "1209        │ 172  135   77   82  253    0       0    0    0    0    0    0\n",
              "1219        │ 194  147  321    0    0    0       0    0    0    0    0    0\n",
              "1229        │ 599    0    0    0    0    0  …    0    0    0    0    0    0"
            ]
          },
          "metadata": {},
          "execution_count": 122
        }
      ],
      "cell_type": "code",
      "source": [
        "@chain d begin\n",
        "    filter(r -> r.F % 10 == 9, _)\n",
        "    freqtable(_.F, _.semesters)\n",
        "end"
      ],
      "metadata": {
        "id": "6Ac_p0T5j-Tj",
        "outputId": "67ec645b-392c-4442-c09c-d962cdcd96d5",
        "colab": {
          "base_uri": "https://localhost:8080/",
          "height": 0
        }
      },
      "execution_count": 122
    },
    {
      "cell_type": "markdown",
      "source": [
        "(The `Underscores.jl` package could avoid the remaining anonymous function.) Here we define a *closure* to create a function that fixes the semester:\n"
      ],
      "metadata": {
        "id": "L9ZI1Cuyj-Tj"
      }
    },
    {
      "outputs": [
        {
          "output_type": "execute_result",
          "data": {
            "text/plain": [
              "start_semester (generic function with 2 methods)"
            ]
          },
          "metadata": {},
          "execution_count": 123
        }
      ],
      "cell_type": "code",
      "source": [
        "function start_semester(x=:fall)\n",
        "    s = x == :spring ? 2 : 9\n",
        "    r -> r.F % 10 == s\n",
        "end"
      ],
      "metadata": {
        "id": "b3gXZLnyj-Tj",
        "outputId": "d616a82d-e63f-4fa4-a24e-2090d5e448cb",
        "colab": {
          "base_uri": "https://localhost:8080/",
          "height": 0
        }
      },
      "execution_count": 123
    },
    {
      "cell_type": "markdown",
      "source": [
        "Then we have the above can be:\n"
      ],
      "metadata": {
        "id": "hSffnTD1j-Tj"
      }
    },
    {
      "outputs": [
        {
          "output_type": "execute_result",
          "data": {
            "text/plain": [
              "8×15 Named Matrix{Int64}\n",
              "Dim1 ╲ Dim2 │ 0.5  1.0  1.5  2.0  2.5  3.0  …  5.0  5.5  6.0  6.5  7.0  7.5\n",
              "────────────┼──────────────────────────────────────────────────────────────\n",
              "1159        │  73   74   32   39   26   35  …   33   12   28   10   11   11\n",
              "1169        │ 103  136   49   73   32   45      51   20   24   35    0    0\n",
              "1179        │ 138  167   69   71   37   54      38   79    0    0    0    0\n",
              "1189        │ 150  159   43   55   40   57       0    0    0    0    0    0\n",
              "1199        │ 114  106   53   81   54   52       0    0    0    0    0    0\n",
              "1209        │ 172  135   77   82  253    0       0    0    0    0    0    0\n",
              "1219        │ 194  147  321    0    0    0       0    0    0    0    0    0\n",
              "1229        │ 599    0    0    0    0    0  …    0    0    0    0    0    0"
            ]
          },
          "metadata": {},
          "execution_count": 124
        }
      ],
      "cell_type": "code",
      "source": [
        "@chain d begin\n",
        "    filter(start_semester(:fall), _)\n",
        "    freqtable(_.F, _.semesters)\n",
        "end"
      ],
      "metadata": {
        "id": "l6NB4Od6j-Tk",
        "outputId": "b8f2aa10-fe2c-494c-ed0d-f30cd22e22e5",
        "colab": {
          "base_uri": "https://localhost:8080/",
          "height": 0
        }
      },
      "execution_count": 124
    },
    {
      "cell_type": "markdown",
      "source": [
        "---\n"
      ],
      "metadata": {
        "id": "v9z-uoJ7j-Tk"
      }
    },
    {
      "outputs": [
        {
          "output_type": "execute_result",
          "data": {
            "text/plain": [
              "4×38 Named Matrix{Int64}\n",
              "Dim1 ╲ Dim2 │   5    6    7    8    9   10  …   37   38   39   40   41   42\n",
              "────────────┼──────────────────────────────────────────────────────────────\n",
              "1199        │  37   23   42   48   21   15  …   10    7    8    2    3    1\n",
              "1209        │  55   39   18   53   54   23       1    0    0    0    0    1\n",
              "1219        │  62   34   12   65   53   35       0    0    0    0    0    0\n",
              "1229        │  60   64   38  171  191   64  …    0    0    0    0    0    0"
            ]
          },
          "metadata": {},
          "execution_count": 125
        }
      ],
      "cell_type": "code",
      "source": [
        "# 💻 Can you filter by fall semester; then filter by :F being 1199 or greater; then make a table of first semster by number of courses?\n",
        "@chain d begin\n",
        "filter(start_semester(:fall), _)\n",
        "filter(:F => >=(1199), _)\n",
        "freqtable(_.F, _.N)\n",
        "end"
      ],
      "metadata": {
        "id": "SgTW4a1ij-Tk",
        "outputId": "b2c90bc9-d58b-4aa9-da97-e043c55fa15e",
        "colab": {
          "base_uri": "https://localhost:8080/",
          "height": 0
        }
      },
      "execution_count": 125
    },
    {
      "outputs": [
        {
          "output_type": "execute_result",
          "data": {
            "text/plain": [
              "\u001b[1m2318×6 DataFrame\n",
              "\u001b[1m  Row │\u001b[1m F     \u001b[1m L     \u001b[1m N     \u001b[1m gpa      \u001b[1m semesters \u001b[1m alt_semesters\n",
              "      │\u001b[90m Int64 \u001b[90m Int64 \u001b[90m Int64 \u001b[90m Float64? \u001b[90m Float64   \u001b[90m Float64\n",
              "──────┼─────────────────────────────────────────────────────────\n",
              "    1 │  1159   1162     11      3.34        1.0            1.0\n",
              "    2 │  1159   1172      9      4.1         2.0            2.0\n",
              "    3 │  1159   1192     34      3.8         4.0            4.0\n",
              "    4 │  1159   1159      7      4.1         0.5            0.5\n",
              "    5 │  1159   1222     20      3.74        7.0            7.0\n",
              "    6 │  1159   1162      7      3.8         1.0            1.0\n",
              "    7 │  1159   1192     46      4.0         4.0            4.0\n",
              "    8 │  1159   1182     45      3.8         3.0            3.0\n",
              "    9 │  1159   1172     20      3.35        2.0            2.0\n",
              "   10 │  1159   1179     10      3.81        2.5            2.5\n",
              "   11 │  1159   1202     46      3.03        5.0            5.0\n",
              "  ⋮   │   ⋮      ⋮      ⋮       ⋮          ⋮            ⋮\n",
              " 2309 │  1219   1222      8      3.95        1.0            1.0\n",
              " 2310 │  1219   1229     16      3.61        1.5            1.5\n",
              " 2311 │  1219   1229     17      3.98        1.5            1.5\n",
              " 2312 │  1219   1222     13      3.38        1.0            1.0\n",
              " 2313 │  1219   1229     17      3.13        1.5            1.5\n",
              " 2314 │  1219   1229     20      3.13        1.5            1.5\n",
              " 2315 │  1219   1229     18      3.61        1.5            1.5\n",
              " 2316 │  1219   1229     17      3.81        1.5            1.5\n",
              " 2317 │  1219   1222      8      4.1         1.0            1.0\n",
              " 2318 │  1219   1222     13      3.91        1.0            1.0\n",
              "\u001b[36m                                               2297 rows omitted"
            ],
            "text/html": [
              "<div><div style = \"float: left;\"><span>2318×6 DataFrame</span></div><div style = \"float: right;\"><span style = \"font-style: italic;\">2293 rows omitted</span></div><div style = \"clear: both;\"></div></div><div class = \"data-frame\" style = \"overflow-x: scroll;\"><table class = \"data-frame\" style = \"margin-bottom: 6px;\"><thead><tr class = \"header\"><th class = \"rowNumber\" style = \"font-weight: bold; text-align: right;\">Row</th><th style = \"text-align: left;\">F</th><th style = \"text-align: left;\">L</th><th style = \"text-align: left;\">N</th><th style = \"text-align: left;\">gpa</th><th style = \"text-align: left;\">semesters</th><th style = \"text-align: left;\">alt_semesters</th></tr><tr class = \"subheader headerLastRow\"><th class = \"rowNumber\" style = \"font-weight: bold; text-align: right;\"></th><th title = \"Int64\" style = \"text-align: left;\">Int64</th><th title = \"Int64\" style = \"text-align: left;\">Int64</th><th title = \"Int64\" style = \"text-align: left;\">Int64</th><th title = \"Union{Missing, Float64}\" style = \"text-align: left;\">Float64?</th><th title = \"Float64\" style = \"text-align: left;\">Float64</th><th title = \"Float64\" style = \"text-align: left;\">Float64</th></tr></thead><tbody><tr><td class = \"rowNumber\" style = \"font-weight: bold; text-align: right;\">1</td><td style = \"text-align: right;\">1159</td><td style = \"text-align: right;\">1162</td><td style = \"text-align: right;\">11</td><td style = \"text-align: right;\">3.34</td><td style = \"text-align: right;\">1.0</td><td style = \"text-align: right;\">1.0</td></tr><tr><td class = \"rowNumber\" style = \"font-weight: bold; text-align: right;\">2</td><td style = \"text-align: right;\">1159</td><td style = \"text-align: right;\">1172</td><td style = \"text-align: right;\">9</td><td style = \"text-align: right;\">4.1</td><td style = \"text-align: right;\">2.0</td><td style = \"text-align: right;\">2.0</td></tr><tr><td class = \"rowNumber\" style = \"font-weight: bold; text-align: right;\">3</td><td style = \"text-align: right;\">1159</td><td style = \"text-align: right;\">1192</td><td style = \"text-align: right;\">34</td><td style = \"text-align: right;\">3.8</td><td style = \"text-align: right;\">4.0</td><td style = \"text-align: right;\">4.0</td></tr><tr><td class = \"rowNumber\" style = \"font-weight: bold; text-align: right;\">4</td><td style = \"text-align: right;\">1159</td><td style = \"text-align: right;\">1159</td><td style = \"text-align: right;\">7</td><td style = \"text-align: right;\">4.1</td><td style = \"text-align: right;\">0.5</td><td style = \"text-align: right;\">0.5</td></tr><tr><td class = \"rowNumber\" style = \"font-weight: bold; text-align: right;\">5</td><td style = \"text-align: right;\">1159</td><td style = \"text-align: right;\">1222</td><td style = \"text-align: right;\">20</td><td style = \"text-align: right;\">3.74</td><td style = \"text-align: right;\">7.0</td><td style = \"text-align: right;\">7.0</td></tr><tr><td class = \"rowNumber\" style = \"font-weight: bold; text-align: right;\">6</td><td style = \"text-align: right;\">1159</td><td style = \"text-align: right;\">1162</td><td style = \"text-align: right;\">7</td><td style = \"text-align: right;\">3.8</td><td style = \"text-align: right;\">1.0</td><td style = \"text-align: right;\">1.0</td></tr><tr><td class = \"rowNumber\" style = \"font-weight: bold; text-align: right;\">7</td><td style = \"text-align: right;\">1159</td><td style = \"text-align: right;\">1192</td><td style = \"text-align: right;\">46</td><td style = \"text-align: right;\">4.0</td><td style = \"text-align: right;\">4.0</td><td style = \"text-align: right;\">4.0</td></tr><tr><td class = \"rowNumber\" style = \"font-weight: bold; text-align: right;\">8</td><td style = \"text-align: right;\">1159</td><td style = \"text-align: right;\">1182</td><td style = \"text-align: right;\">45</td><td style = \"text-align: right;\">3.8</td><td style = \"text-align: right;\">3.0</td><td style = \"text-align: right;\">3.0</td></tr><tr><td class = \"rowNumber\" style = \"font-weight: bold; text-align: right;\">9</td><td style = \"text-align: right;\">1159</td><td style = \"text-align: right;\">1172</td><td style = \"text-align: right;\">20</td><td style = \"text-align: right;\">3.35</td><td style = \"text-align: right;\">2.0</td><td style = \"text-align: right;\">2.0</td></tr><tr><td class = \"rowNumber\" style = \"font-weight: bold; text-align: right;\">10</td><td style = \"text-align: right;\">1159</td><td style = \"text-align: right;\">1179</td><td style = \"text-align: right;\">10</td><td style = \"text-align: right;\">3.81</td><td style = \"text-align: right;\">2.5</td><td style = \"text-align: right;\">2.5</td></tr><tr><td class = \"rowNumber\" style = \"font-weight: bold; text-align: right;\">11</td><td style = \"text-align: right;\">1159</td><td style = \"text-align: right;\">1202</td><td style = \"text-align: right;\">46</td><td style = \"text-align: right;\">3.03</td><td style = \"text-align: right;\">5.0</td><td style = \"text-align: right;\">5.0</td></tr><tr><td class = \"rowNumber\" style = \"font-weight: bold; text-align: right;\">12</td><td style = \"text-align: right;\">1159</td><td style = \"text-align: right;\">1169</td><td style = \"text-align: right;\">7</td><td style = \"text-align: right;\">3.66</td><td style = \"text-align: right;\">1.5</td><td style = \"text-align: right;\">1.5</td></tr><tr><td class = \"rowNumber\" style = \"font-weight: bold; text-align: right;\">13</td><td style = \"text-align: right;\">1159</td><td style = \"text-align: right;\">1159</td><td style = \"text-align: right;\">5</td><td style = \"text-align: right;\">3.8</td><td style = \"text-align: right;\">0.5</td><td style = \"text-align: right;\">0.5</td></tr><tr><td style = \"text-align: right;\">&vellip;</td><td style = \"text-align: right;\">&vellip;</td><td style = \"text-align: right;\">&vellip;</td><td style = \"text-align: right;\">&vellip;</td><td style = \"text-align: right;\">&vellip;</td><td style = \"text-align: right;\">&vellip;</td><td style = \"text-align: right;\">&vellip;</td></tr><tr><td class = \"rowNumber\" style = \"font-weight: bold; text-align: right;\">2307</td><td style = \"text-align: right;\">1219</td><td style = \"text-align: right;\">1222</td><td style = \"text-align: right;\">16</td><td style = \"text-align: right;\">3.83</td><td style = \"text-align: right;\">1.0</td><td style = \"text-align: right;\">1.0</td></tr><tr><td class = \"rowNumber\" style = \"font-weight: bold; text-align: right;\">2308</td><td style = \"text-align: right;\">1219</td><td style = \"text-align: right;\">1222</td><td style = \"text-align: right;\">17</td><td style = \"text-align: right;\">3.56</td><td style = \"text-align: right;\">1.0</td><td style = \"text-align: right;\">1.0</td></tr><tr><td class = \"rowNumber\" style = \"font-weight: bold; text-align: right;\">2309</td><td style = \"text-align: right;\">1219</td><td style = \"text-align: right;\">1222</td><td style = \"text-align: right;\">8</td><td style = \"text-align: right;\">3.95</td><td style = \"text-align: right;\">1.0</td><td style = \"text-align: right;\">1.0</td></tr><tr><td class = \"rowNumber\" style = \"font-weight: bold; text-align: right;\">2310</td><td style = \"text-align: right;\">1219</td><td style = \"text-align: right;\">1229</td><td style = \"text-align: right;\">16</td><td style = \"text-align: right;\">3.61</td><td style = \"text-align: right;\">1.5</td><td style = \"text-align: right;\">1.5</td></tr><tr><td class = \"rowNumber\" style = \"font-weight: bold; text-align: right;\">2311</td><td style = \"text-align: right;\">1219</td><td style = \"text-align: right;\">1229</td><td style = \"text-align: right;\">17</td><td style = \"text-align: right;\">3.98</td><td style = \"text-align: right;\">1.5</td><td style = \"text-align: right;\">1.5</td></tr><tr><td class = \"rowNumber\" style = \"font-weight: bold; text-align: right;\">2312</td><td style = \"text-align: right;\">1219</td><td style = \"text-align: right;\">1222</td><td style = \"text-align: right;\">13</td><td style = \"text-align: right;\">3.38</td><td style = \"text-align: right;\">1.0</td><td style = \"text-align: right;\">1.0</td></tr><tr><td class = \"rowNumber\" style = \"font-weight: bold; text-align: right;\">2313</td><td style = \"text-align: right;\">1219</td><td style = \"text-align: right;\">1229</td><td style = \"text-align: right;\">17</td><td style = \"text-align: right;\">3.13</td><td style = \"text-align: right;\">1.5</td><td style = \"text-align: right;\">1.5</td></tr><tr><td class = \"rowNumber\" style = \"font-weight: bold; text-align: right;\">2314</td><td style = \"text-align: right;\">1219</td><td style = \"text-align: right;\">1229</td><td style = \"text-align: right;\">20</td><td style = \"text-align: right;\">3.13</td><td style = \"text-align: right;\">1.5</td><td style = \"text-align: right;\">1.5</td></tr><tr><td class = \"rowNumber\" style = \"font-weight: bold; text-align: right;\">2315</td><td style = \"text-align: right;\">1219</td><td style = \"text-align: right;\">1229</td><td style = \"text-align: right;\">18</td><td style = \"text-align: right;\">3.61</td><td style = \"text-align: right;\">1.5</td><td style = \"text-align: right;\">1.5</td></tr><tr><td class = \"rowNumber\" style = \"font-weight: bold; text-align: right;\">2316</td><td style = \"text-align: right;\">1219</td><td style = \"text-align: right;\">1229</td><td style = \"text-align: right;\">17</td><td style = \"text-align: right;\">3.81</td><td style = \"text-align: right;\">1.5</td><td style = \"text-align: right;\">1.5</td></tr><tr><td class = \"rowNumber\" style = \"font-weight: bold; text-align: right;\">2317</td><td style = \"text-align: right;\">1219</td><td style = \"text-align: right;\">1222</td><td style = \"text-align: right;\">8</td><td style = \"text-align: right;\">4.1</td><td style = \"text-align: right;\">1.0</td><td style = \"text-align: right;\">1.0</td></tr><tr><td class = \"rowNumber\" style = \"font-weight: bold; text-align: right;\">2318</td><td style = \"text-align: right;\">1219</td><td style = \"text-align: right;\">1222</td><td style = \"text-align: right;\">13</td><td style = \"text-align: right;\">3.91</td><td style = \"text-align: right;\">1.0</td><td style = \"text-align: right;\">1.0</td></tr></tbody></table></div>"
            ],
            "text/latex": "\\begin{tabular}{r|cccccc}\n\t& F & L & N & gpa & semesters & alt\\_semesters\\\\\n\t\\hline\n\t& Int64 & Int64 & Int64 & Float64? & Float64 & Float64\\\\\n\t\\hline\n\t1 & 1159 & 1162 & 11 & 3.34 & 1.0 & 1.0 \\\\\n\t2 & 1159 & 1172 & 9 & 4.1 & 2.0 & 2.0 \\\\\n\t3 & 1159 & 1192 & 34 & 3.8 & 4.0 & 4.0 \\\\\n\t4 & 1159 & 1159 & 7 & 4.1 & 0.5 & 0.5 \\\\\n\t5 & 1159 & 1222 & 20 & 3.74 & 7.0 & 7.0 \\\\\n\t6 & 1159 & 1162 & 7 & 3.8 & 1.0 & 1.0 \\\\\n\t7 & 1159 & 1192 & 46 & 4.0 & 4.0 & 4.0 \\\\\n\t8 & 1159 & 1182 & 45 & 3.8 & 3.0 & 3.0 \\\\\n\t9 & 1159 & 1172 & 20 & 3.35 & 2.0 & 2.0 \\\\\n\t10 & 1159 & 1179 & 10 & 3.81 & 2.5 & 2.5 \\\\\n\t11 & 1159 & 1202 & 46 & 3.03 & 5.0 & 5.0 \\\\\n\t12 & 1159 & 1169 & 7 & 3.66 & 1.5 & 1.5 \\\\\n\t13 & 1159 & 1159 & 5 & 3.8 & 0.5 & 0.5 \\\\\n\t14 & 1159 & 1182 & 19 & 3.65 & 3.0 & 3.0 \\\\\n\t15 & 1159 & 1182 & 33 & 3.75 & 3.0 & 3.0 \\\\\n\t16 & 1159 & 1162 & 8 & 4.1 & 1.0 & 1.0 \\\\\n\t17 & 1159 & 1162 & 17 & 3.63 & 1.0 & 1.0 \\\\\n\t18 & 1159 & 1169 & 18 & 3.43 & 1.5 & 1.5 \\\\\n\t19 & 1159 & 1162 & 6 & 4.1 & 1.0 & 1.0 \\\\\n\t20 & 1159 & 1192 & 40 & 3.46 & 4.0 & 4.0 \\\\\n\t21 & 1159 & 1212 & 44 & 3.43 & 6.0 & 6.0 \\\\\n\t22 & 1159 & 1159 & 6 & 3.95 & 0.5 & 0.5 \\\\\n\t23 & 1159 & 1199 & 45 & 3.58 & 4.5 & 4.5 \\\\\n\t24 & 1159 & 1192 & 42 & 3.73 & 4.0 & 4.0 \\\\\n\t25 & 1159 & 1212 & 42 & 3.43 & 6.0 & 6.0 \\\\\n\t26 & 1159 & 1222 & 43 & 3.14 & 7.0 & 7.0 \\\\\n\t27 & 1159 & 1162 & 12 & 3.04 & 1.0 & 1.0 \\\\\n\t28 & 1159 & 1189 & 33 & 3.88 & 3.5 & 3.5 \\\\\n\t29 & 1159 & 1222 & 49 & 3.59 & 7.0 & 7.0 \\\\\n\t30 & 1159 & 1222 & 52 & 3.89 & 7.0 & 7.0 \\\\\n\t$\\dots$ & $\\dots$ & $\\dots$ & $\\dots$ & $\\dots$ & $\\dots$ & $\\dots$ \\\\\n\\end{tabular}\n"
          },
          "metadata": {},
          "execution_count": 126
        }
      ],
      "cell_type": "code",
      "source": [
        "# 💻 Can you filter by fall semester; then filter by :gpa being 3.0 or greater; then make a table of first semster by number of courses?\n",
        "# something like this will be needed: filter(:gpa => !ismissing, _)\n",
        "@chain d begin\n",
        "filter(start_semester(:fall), _)\n",
        "filter(:gpa => !ismissing, _)\n",
        "filter(:gpa => >=(3.0), _)\n",
        "end"
      ],
      "metadata": {
        "id": "9pShuMclj-Tk",
        "outputId": "a40aa311-b57f-4867-896d-5b831b727115",
        "colab": {
          "base_uri": "https://localhost:8080/",
          "height": 651
        }
      },
      "execution_count": 126
    },
    {
      "cell_type": "markdown",
      "source": [
        "---\n"
      ],
      "metadata": {
        "id": "HNla6ev9j-Tk"
      }
    },
    {
      "cell_type": "markdown",
      "source": [
        "## Visualization\n"
      ],
      "metadata": {
        "internals": {
          "slide_type": "subslide",
          "slide_helper": "subslide_end"
        },
        "slide_helper": "slide_end",
        "id": "ZuQ8WVjCj-Tk"
      }
    },
    {
      "cell_type": "markdown",
      "source": [
        "A visualization might be helpful. `Julia` has a few add-on packages for making plots: `PyPlot` uses the Python package `Matplotlib`; `GR` uses the GR graphing package; `Plots` is a very useful interface to those backends and others; `Makie` is a powerful package written in `Julia` which shines with 3-d graphics. Here we use the `PlotlyLight` interface to PlotlyJS, as it works quickly under colab.\n"
      ],
      "metadata": {
        "id": "WQPdMkPKj-Tk"
      }
    },
    {
      "outputs": [
        {
          "output_type": "stream",
          "name": "stderr",
          "text": [
            "\u001b[32m\u001b[1m   Resolving\u001b[22m\u001b[39m package versions...\n",
            "\u001b[32m\u001b[1m   Installed\u001b[22m\u001b[39m StructTypes ──────── v1.11.0\n",
            "\u001b[32m\u001b[1m   Installed\u001b[22m\u001b[39m JSON3 ────────────── v1.14.2\n",
            "\u001b[32m\u001b[1m   Installed\u001b[22m\u001b[39m EasyConfig ───────── v0.1.16\n",
            "\u001b[32m\u001b[1m   Installed\u001b[22m\u001b[39m Cobweb ───────────── v0.7.2\n",
            "\u001b[32m\u001b[1m   Installed\u001b[22m\u001b[39m PlotlyLight ──────── v0.12.0\n",
            "\u001b[32m\u001b[1m   Installed\u001b[22m\u001b[39m DefaultApplication ─ v1.1.0\n",
            "\u001b[32m\u001b[1m    Updating\u001b[22m\u001b[39m `~/.julia/environments/v1.10/Project.toml`\n",
            "  \u001b[90m[ca7969ec] \u001b[39m\u001b[92m+ PlotlyLight v0.12.0\u001b[39m\n",
            "\u001b[32m\u001b[1m    Updating\u001b[22m\u001b[39m `~/.julia/environments/v1.10/Manifest.toml`\n",
            "  \u001b[90m[ec354790] \u001b[39m\u001b[92m+ Cobweb v0.7.2\u001b[39m\n",
            "  \u001b[90m[3f0dd361] \u001b[39m\u001b[92m+ DefaultApplication v1.1.0\u001b[39m\n",
            "  \u001b[90m[acab07b0] \u001b[39m\u001b[92m+ EasyConfig v0.1.16\u001b[39m\n",
            "  \u001b[90m[0f8b85d8] \u001b[39m\u001b[92m+ JSON3 v1.14.2\u001b[39m\n",
            "  \u001b[90m[ca7969ec] \u001b[39m\u001b[92m+ PlotlyLight v0.12.0\u001b[39m\n",
            "  \u001b[90m[856f2bd8] \u001b[39m\u001b[92m+ StructTypes v1.11.0\u001b[39m\n",
            "\u001b[32m\u001b[1mPrecompiling\u001b[22m\u001b[39m packages...\n",
            "   1716.4 ms\u001b[32m  ✓ \u001b[39m\u001b[90mDefaultApplication\u001b[39m\n",
            "   1949.3 ms\u001b[32m  ✓ \u001b[39m\u001b[90mStructTypes\u001b[39m\n",
            "   3035.6 ms\u001b[32m  ✓ \u001b[39m\u001b[90mCategoricalArrays → CategoricalArraysStructTypesExt\u001b[39m\n",
            "   3658.4 ms\u001b[32m  ✓ \u001b[39m\u001b[90mCobweb\u001b[39m\n",
            "  13692.3 ms\u001b[32m  ✓ \u001b[39m\u001b[90mJSON3\u001b[39m\n",
            "    953.3 ms\u001b[32m  ✓ \u001b[39m\u001b[90mEasyConfig\u001b[39m\n",
            "   3347.4 ms\u001b[32m  ✓ \u001b[39mPlotlyLight\n",
            "  7 dependencies successfully precompiled in 20 seconds. 463 already precompiled.\n"
          ]
        }
      ],
      "cell_type": "code",
      "source": [
        "Pkg.add(\"PlotlyLight\")\n",
        "using PlotlyLight"
      ],
      "metadata": {
        "id": "lc9ahIadj-Tl",
        "outputId": "a44cd866-467e-42ef-c444-6ef189c08767",
        "colab": {
          "base_uri": "https://localhost:8080/",
          "height": 0
        }
      },
      "execution_count": 127
    },
    {
      "cell_type": "markdown",
      "source": [
        "`PlotlyLight` is a *lightweight* interface to PlotlyJS, with `Config` used to create `JSON` from `Julia` objects. The PlotlyJS API has some shortcuts to make multiple plots, but for pedagogical reasons we show how to add each at once.\n"
      ],
      "metadata": {
        "id": "HG8veeCxj-Tl"
      }
    },
    {
      "cell_type": "markdown",
      "source": [
        "For this graphic we have to be careful to remove the values on the diagonal, as we are looking for when students leave. First we define a function to make the plotting data (`x`, `y` values and a label) for a given semester.\n"
      ],
      "metadata": {
        "id": "t7nipr26j-Tl"
      }
    },
    {
      "outputs": [
        {
          "output_type": "execute_result",
          "data": {
            "text/plain": [
              "gather_data (generic function with 1 method)"
            ]
          },
          "metadata": {},
          "execution_count": 128
        }
      ],
      "cell_type": "code",
      "source": [
        "function gather_data(s)\n",
        "    sem = first(s.F)\n",
        "\tm = maximum(s.semesters)\n",
        "    n = length(s.semesters)\n",
        "\n",
        "\txs = 0.5:0.5:m\n",
        "\tys = [sum(s.semesters .== i) for i ∈ xs] ./ n\n",
        "\n",
        "    (x = xs[1:end-1], y = ys[1:end-1], name = string(sem))\n",
        "end"
      ],
      "metadata": {
        "id": "9zTmJ9-4j-Tl",
        "outputId": "3bd5e16b-4f0e-40d7-cfac-8be1060f0897",
        "colab": {
          "base_uri": "https://localhost:8080/",
          "height": 0
        }
      },
      "execution_count": 128
    },
    {
      "cell_type": "markdown",
      "source": [
        "To make different plots with `PlotlyLight`, we set up a basic configuration, and reuse this for each layer:\n"
      ],
      "metadata": {
        "id": "ZErkkzbuj-Tl"
      }
    },
    {
      "outputs": [
        {
          "output_type": "execute_result",
          "data": {
            "text/plain": [],
            "text/html": [
              "<iframe srcdoc=\"&lt;html&gt;&lt;head&gt;&lt;meta charset=&quot;utf-8&quot;&gt;&lt;meta name=&quot;viewport&quot; content=&quot;width=device-width, initial-scale=1&quot;&gt;&lt;meta name=&quot;description&quot; content=&quot;PlotlyLight.jl Plot&quot;&gt;&lt;title&gt;PlotlyLight.jl&lt;/title&gt;&lt;style&gt;html, body { padding: 0px; margin: 0px; }&lt;/style&gt;&lt;script src=&quot;https://cdn.plot.ly/plotly-2.35.2.min.js&quot; charset=&quot;utf-8&quot;&gt;&lt;/script&gt;&lt;/head&gt;&lt;body&gt;&lt;div class=&quot;plotlylight-parent&quot;&gt;&lt;div class=&quot;plotlylight-plot-div&quot; style=&quot;height:100vh; width:100vw&quot; id=&quot;plotlyx-ucayvazxjn&quot;&gt;&lt;/div&gt;&lt;script&gt;Plotly.newPlot(&quot;plotlyx-ucayvazxjn&quot;,[{&quot;type&quot;:&quot;scatter&quot;,&quot;mode&quot;:&quot;lines markers&quot;,&quot;x&quot;:[0.5,1.0,1.5,2.0,2.5,3.0,3.5,4.0,4.5,5.0,5.5,6.0,6.5,7.0],&quot;y&quot;:[0.1600877192982456,0.16228070175438597,0.07017543859649122,0.08552631578947369,0.05701754385964912,0.07675438596491228,0.02412280701754386,0.1074561403508772,0.02631578947368421,0.07236842105263158,0.02631578947368421,0.06140350877192982,0.021929824561403508,0.02412280701754386],&quot;name&quot;:&quot;1159&quot;},{&quot;type&quot;:&quot;scatter&quot;,&quot;mode&quot;:&quot;lines markers&quot;,&quot;x&quot;:[0.5,1.0,1.5,2.0,2.5,3.0,3.5,4.0,4.5,5.0,5.5,6.0,6.5],&quot;y&quot;:[0.35587188612099646,0.099644128113879,0.09252669039145907,0.042704626334519574,0.03558718861209965,0.03914590747330961,0.10320284697508897,0.017793594306049824,0.06405693950177936,0.03202846975088968,0.0498220640569395,0.017793594306049824,0.028469750889679714],&quot;name&quot;:&quot;1162&quot;},{&quot;type&quot;:&quot;scatter&quot;,&quot;mode&quot;:&quot;lines markers&quot;,&quot;x&quot;:[0.5,1.0,1.5,2.0,2.5,3.0,3.5,4.0,4.5,5.0,5.5,6.0],&quot;y&quot;:[0.14325452016689846,0.18915159944367177,0.06815020862308763,0.10152990264255911,0.04450625869262865,0.06258692628650904,0.031988873435326845,0.12378303198887343,0.054242002781641166,0.07093184979137691,0.027816411682892908,0.03337969401947149],&quot;name&quot;:&quot;1169&quot;},{&quot;type&quot;:&quot;scatter&quot;,&quot;mode&quot;:&quot;lines markers&quot;,&quot;x&quot;:[0.5,1.0,1.5,2.0,2.5,3.0,3.5,4.0,4.5,5.0,5.5],&quot;y&quot;:[0.3594306049822064,0.08540925266903915,0.07829181494661921,0.0498220640569395,0.060498220640569395,0.0498220640569395,0.05693950177935943,0.07473309608540925,0.05693950177935943,0.06405693950177936,0.03202846975088968],&quot;name&quot;:&quot;1172&quot;},{&quot;type&quot;:&quot;scatter&quot;,&quot;mode&quot;:&quot;lines markers&quot;,&quot;x&quot;:[0.5,1.0,1.5,2.0,2.5,3.0,3.5,4.0,4.5,5.0],&quot;y&quot;:[0.1725,0.20875,0.08625,0.08875,0.04625,0.0675,0.04875,0.07625,0.05875,0.0475],&quot;name&quot;:&quot;1179&quot;},{&quot;type&quot;:&quot;scatter&quot;,&quot;mode&quot;:&quot;lines markers&quot;,&quot;x&quot;:[0.5,1.0,1.5,2.0,2.5,3.0,3.5,4.0,4.5],&quot;y&quot;:[0.3241106719367589,0.1422924901185771,0.10276679841897234,0.04743083003952569,0.07114624505928854,0.05928853754940711,0.09486166007905138,0.039525691699604744,0.03557312252964427],&quot;name&quot;:&quot;1182&quot;},{&quot;type&quot;:&quot;scatter&quot;,&quot;mode&quot;:&quot;lines markers&quot;,&quot;x&quot;:[0.5,1.0,1.5,2.0,2.5,3.0,3.5,4.0],&quot;y&quot;:[0.1968503937007874,0.20866141732283464,0.05643044619422572,0.07217847769028872,0.05249343832020997,0.07480314960629922,0.07086614173228346,0.11286089238845144],&quot;name&quot;:&quot;1189&quot;},{&quot;type&quot;:&quot;scatter&quot;,&quot;mode&quot;:&quot;lines markers&quot;,&quot;x&quot;:[0.5,1.0,1.5,2.0,2.5,3.0,3.5],&quot;y&quot;:[0.3,0.09166666666666666,0.08333333333333333,0.041666666666666664,0.1,0.07083333333333333,0.10416666666666667],&quot;name&quot;:&quot;1192&quot;},{&quot;type&quot;:&quot;scatter&quot;,&quot;mode&quot;:&quot;lines markers&quot;,&quot;x&quot;:[0.5,1.0,1.5,2.0,2.5,3.0],&quot;y&quot;:[0.16262482168330955,0.15121255349500715,0.07560627674750357,0.11554921540656206,0.07703281027104136,0.07417974322396577],&quot;name&quot;:&quot;1199&quot;},{&quot;type&quot;:&quot;scatter&quot;,&quot;mode&quot;:&quot;lines markers&quot;,&quot;x&quot;:[0.5,1.0,1.5,2.0,2.5],&quot;y&quot;:[0.4144486692015209,0.06844106463878327,0.11406844106463879,0.12547528517110265,0.11026615969581749],&quot;name&quot;:&quot;1202&quot;},{&quot;type&quot;:&quot;scatter&quot;,&quot;mode&quot;:&quot;lines markers&quot;,&quot;x&quot;:[0.5,1.0,1.5,2.0],&quot;y&quot;:[0.23922114047287898,0.18776077885952713,0.1070931849791377,0.11404728789986092],&quot;name&quot;:&quot;1209&quot;},{&quot;type&quot;:&quot;scatter&quot;,&quot;mode&quot;:&quot;lines markers&quot;,&quot;x&quot;:[0.5,1.0,1.5],&quot;y&quot;:[0.4830917874396135,0.13526570048309178,0.07729468599033816],&quot;name&quot;:&quot;1212&quot;},{&quot;type&quot;:&quot;scatter&quot;,&quot;mode&quot;:&quot;lines markers&quot;,&quot;x&quot;:[0.5,1.0],&quot;y&quot;:[0.2930513595166163,0.22205438066465258],&quot;name&quot;:&quot;1219&quot;},{&quot;type&quot;:&quot;scatter&quot;,&quot;mode&quot;:&quot;lines markers&quot;,&quot;x&quot;:[0.5],&quot;y&quot;:[0.4970414201183432],&quot;name&quot;:&quot;1222&quot;}],{&quot;width&quot;:800,&quot;height&quot;:500},{&quot;responsive&quot;:true,&quot;displaylogo&quot;:false})&lt;/script&gt;&lt;/div&gt;&lt;/body&gt;&lt;/html&gt;\" style=\"display:block; border:none; min-height:350px; min-width:350px; width:100%; height:100%\"></iframe>"
            ]
          },
          "metadata": {},
          "execution_count": 129
        }
      ],
      "cell_type": "code",
      "source": [
        "cfg = Config(type=\"scatter\", mode=\"lines markers\")\n",
        "data = Config[]  # a typed array with no elements\n",
        "for s  ∈ groupby(d, :F)\n",
        "    first(s.F) == 1229 && continue\n",
        "    plt = copy(cfg)\n",
        "    plt.x, plt.y, plt.name = gather_data(s)\n",
        "    push!(data, plt)\n",
        "end\n",
        "lyt = Config(width=800, height=500)\n",
        "Plot(data, lyt)"
      ],
      "metadata": {
        "id": "lzseQFBpj-Tm",
        "outputId": "3318def0-5036-467e-d6ba-5476f89d1628",
        "colab": {
          "base_uri": "https://localhost:8080/",
          "height": 367
        }
      },
      "execution_count": 129
    },
    {
      "cell_type": "markdown",
      "source": [
        "A similar plot could be formed from the frequency table. In the above, we needlessly recreate that construction in `gather_data` with the comprehension.\n"
      ],
      "metadata": {
        "id": "DWtFWe8sj-Tm"
      }
    },
    {
      "cell_type": "markdown",
      "source": [
        "---\n"
      ],
      "metadata": {
        "id": "eNKw2zCKj-Tm"
      }
    },
    {
      "outputs": [
        {
          "output_type": "execute_result",
          "data": {
            "text/plain": [],
            "text/html": [
              "<iframe srcdoc=\"&lt;html&gt;&lt;head&gt;&lt;meta charset=&quot;utf-8&quot;&gt;&lt;meta name=&quot;viewport&quot; content=&quot;width=device-width, initial-scale=1&quot;&gt;&lt;meta name=&quot;description&quot; content=&quot;PlotlyLight.jl Plot&quot;&gt;&lt;title&gt;PlotlyLight.jl&lt;/title&gt;&lt;style&gt;html, body { padding: 0px; margin: 0px; }&lt;/style&gt;&lt;script src=&quot;https://cdn.plot.ly/plotly-2.35.2.min.js&quot; charset=&quot;utf-8&quot;&gt;&lt;/script&gt;&lt;/head&gt;&lt;body&gt;&lt;div class=&quot;plotlylight-parent&quot;&gt;&lt;div class=&quot;plotlylight-plot-div&quot; style=&quot;height:100vh; width:100vw&quot; id=&quot;plotlyx-xxbdgwhooh&quot;&gt;&lt;/div&gt;&lt;script&gt;Plotly.newPlot(&quot;plotlyx-xxbdgwhooh&quot;,[{&quot;type&quot;:&quot;scatter&quot;,&quot;mode&quot;:&quot;lines markers&quot;,&quot;x&quot;:[0.5,1.0,1.5,2.0,2.5,3.0],&quot;y&quot;:[0.16262482168330955,0.15121255349500715,0.07560627674750357,0.11554921540656206,0.07703281027104136,0.07417974322396577],&quot;name&quot;:&quot;1199&quot;},{&quot;type&quot;:&quot;scatter&quot;,&quot;mode&quot;:&quot;lines markers&quot;,&quot;x&quot;:[0.5,1.0,1.5,2.0],&quot;y&quot;:[0.23922114047287898,0.18776077885952713,0.1070931849791377,0.11404728789986092],&quot;name&quot;:&quot;1209&quot;},{&quot;type&quot;:&quot;scatter&quot;,&quot;mode&quot;:&quot;lines markers&quot;,&quot;x&quot;:[0.5,1.0],&quot;y&quot;:[0.2930513595166163,0.22205438066465258],&quot;name&quot;:&quot;1219&quot;}],{&quot;width&quot;:800,&quot;height&quot;:500},{&quot;responsive&quot;:true,&quot;displaylogo&quot;:false})&lt;/script&gt;&lt;/div&gt;&lt;/body&gt;&lt;/html&gt;\" style=\"display:block; border:none; min-height:350px; min-width:350px; width:100%; height:100%\"></iframe>"
            ]
          },
          "metadata": {},
          "execution_count": 130
        }
      ],
      "cell_type": "code",
      "source": [
        "# 💻 filter out students so only those that started in a fall from fall 19 to fall 22 are shown.\n",
        "df = @chain d begin\n",
        "filter(start_semester(:fall), _)\n",
        "filter(:F => >=(1199), _)\n",
        "end\n",
        "\n",
        "data = Config[]  # a typed array with no elements\n",
        "for s  ∈ groupby(df, :F)\n",
        "    first(s.F) == 1229 && continue\n",
        "    plt = copy(cfg)\n",
        "    plt.x, plt.y, plt.name = gather_data(s)\n",
        "    push!(data, plt)\n",
        "end\n",
        "lyt = Config(width=800, height=500)\n",
        "Plot(data, lyt)\n"
      ],
      "metadata": {
        "id": "IQXHQWwYj-Tm",
        "outputId": "785d280e-a80d-45b8-c878-2835806f4203",
        "colab": {
          "base_uri": "https://localhost:8080/",
          "height": 367
        }
      },
      "execution_count": 130
    },
    {
      "cell_type": "markdown",
      "source": [
        "---\n"
      ],
      "metadata": {
        "id": "TGVnGKFsj-Tm"
      }
    },
    {
      "cell_type": "markdown",
      "source": [
        "Restricting the semesters details a bit more change in the patterns due to the pandemic. We might see an increase in students leaving after an initial semester.\n"
      ],
      "metadata": {
        "id": "o4PbchEYj-Tn"
      }
    },
    {
      "cell_type": "markdown",
      "source": [
        "## More data management\n"
      ],
      "metadata": {
        "internals": {
          "slide_type": "subslide",
          "slide_helper": "subslide_end"
        },
        "slide_helper": "slide_end",
        "id": "BUIUpAEvj-Tn"
      }
    },
    {
      "cell_type": "markdown",
      "source": [
        "Suppose that is to be looked at, we might want to see if the GPA has something to do with it. Perhaps it is lack of preparation due to the pandemic, perhaps not.\n"
      ],
      "metadata": {
        "id": "BC858Ajaj-Tn"
      }
    },
    {
      "cell_type": "markdown",
      "source": [
        "The `gpa` value is numeric, but we would prefer it be categorical. The `cut` function from the `CategoricalArrays` can perform that classification:\n"
      ],
      "metadata": {
        "id": "bCgS1w9Sj-Tn"
      }
    },
    {
      "outputs": [
        {
          "output_type": "stream",
          "name": "stderr",
          "text": [
            "\u001b[32m\u001b[1m   Resolving\u001b[22m\u001b[39m package versions...\n",
            "\u001b[32m\u001b[1m    Updating\u001b[22m\u001b[39m `~/.julia/environments/v1.10/Project.toml`\n",
            "  \u001b[90m[324d7699] \u001b[39m\u001b[92m+ CategoricalArrays v0.10.8\u001b[39m\n",
            "\u001b[32m\u001b[1m  No Changes\u001b[22m\u001b[39m to `~/.julia/environments/v1.10/Manifest.toml`\n"
          ]
        }
      ],
      "cell_type": "code",
      "source": [
        "Pkg.add(\"CategoricalArrays\")\n",
        "import CategoricalArrays: cut"
      ],
      "metadata": {
        "id": "YuYxOR2mj-Tn",
        "outputId": "da2bb493-a422-4561-fe2c-40aede1c5b65",
        "colab": {
          "base_uri": "https://localhost:8080/",
          "height": 0
        }
      },
      "execution_count": 131
    },
    {
      "outputs": [
        {
          "output_type": "execute_result",
          "data": {
            "text/plain": [
              "\u001b[1m7112×7 DataFrame\n",
              "\u001b[1m  Row │\u001b[1m F     \u001b[1m L     \u001b[1m N     \u001b[1m gpa        \u001b[1m semesters \u001b[1m alt_semesters \u001b[1m status\n",
              "      │\u001b[90m Int64 \u001b[90m Int64 \u001b[90m Int64 \u001b[90m Float64?   \u001b[90m Float64   \u001b[90m Float64       \u001b[90m Cat…?\n",
              "──────┼────────────────────────────────────────────────────────────────────\n",
              "    1 │  1159   1162     11        3.34        1.0            1.0  hi\n",
              "    2 │  1159   1192     41        2.51        4.0            4.0  medium\n",
              "    3 │  1159   1172      9        4.1         2.0            2.0  hi\n",
              "    4 │  1159   1189     23        2.7         3.5            3.5  medium\n",
              "    5 │  1159   1192     34        3.8         4.0            4.0  hi\n",
              "    6 │  1159   1202     41        2.81        5.0            5.0  medium\n",
              "    7 │  1159   1159      7        4.1         0.5            0.5  hi\n",
              "    8 │  1159   1222     20        3.74        7.0            7.0  hi\n",
              "    9 │  1159   1182     16        0.96        3.0            3.0  lo\n",
              "   10 │  1159   1162      7        3.8         1.0            1.0  hi\n",
              "   11 │  1159   1192     46        4.0         4.0            4.0  hi\n",
              "  ⋮   │   ⋮      ⋮      ⋮        ⋮           ⋮            ⋮           ⋮\n",
              " 7103 │  1229   1229      8 \u001b[90m missing           0.5            0.5 \u001b[90m missing\n",
              " 7104 │  1229   1229      8 \u001b[90m missing           0.5            0.5 \u001b[90m missing\n",
              " 7105 │  1229   1229     12 \u001b[90m missing           0.5            0.5 \u001b[90m missing\n",
              " 7106 │  1229   1229      8 \u001b[90m missing           0.5            0.5 \u001b[90m missing\n",
              " 7107 │  1229   1229      9 \u001b[90m missing           0.5            0.5 \u001b[90m missing\n",
              " 7108 │  1229   1229      9 \u001b[90m missing           0.5            0.5 \u001b[90m missing\n",
              " 7109 │  1229   1229      8 \u001b[90m missing           0.5            0.5 \u001b[90m missing\n",
              " 7110 │  1229   1229      9 \u001b[90m missing           0.5            0.5 \u001b[90m missing\n",
              " 7111 │  1229   1229      6 \u001b[90m missing           0.5            0.5 \u001b[90m missing\n",
              " 7112 │  1229   1229      7 \u001b[90m missing           0.5            0.5 \u001b[90m missing\n",
              "\u001b[36m                                                          7091 rows omitted"
            ],
            "text/html": [
              "<div><div style = \"float: left;\"><span>7112×7 DataFrame</span></div><div style = \"float: right;\"><span style = \"font-style: italic;\">7087 rows omitted</span></div><div style = \"clear: both;\"></div></div><div class = \"data-frame\" style = \"overflow-x: scroll;\"><table class = \"data-frame\" style = \"margin-bottom: 6px;\"><thead><tr class = \"header\"><th class = \"rowNumber\" style = \"font-weight: bold; text-align: right;\">Row</th><th style = \"text-align: left;\">F</th><th style = \"text-align: left;\">L</th><th style = \"text-align: left;\">N</th><th style = \"text-align: left;\">gpa</th><th style = \"text-align: left;\">semesters</th><th style = \"text-align: left;\">alt_semesters</th><th style = \"text-align: left;\">status</th></tr><tr class = \"subheader headerLastRow\"><th class = \"rowNumber\" style = \"font-weight: bold; text-align: right;\"></th><th title = \"Int64\" style = \"text-align: left;\">Int64</th><th title = \"Int64\" style = \"text-align: left;\">Int64</th><th title = \"Int64\" style = \"text-align: left;\">Int64</th><th title = \"Union{Missing, Float64}\" style = \"text-align: left;\">Float64?</th><th title = \"Float64\" style = \"text-align: left;\">Float64</th><th title = \"Float64\" style = \"text-align: left;\">Float64</th><th title = \"Union{Missing, CategoricalArrays.CategoricalValue{String, UInt32}}\" style = \"text-align: left;\">Cat…?</th></tr></thead><tbody><tr><td class = \"rowNumber\" style = \"font-weight: bold; text-align: right;\">1</td><td style = \"text-align: right;\">1159</td><td style = \"text-align: right;\">1162</td><td style = \"text-align: right;\">11</td><td style = \"text-align: right;\">3.34</td><td style = \"text-align: right;\">1.0</td><td style = \"text-align: right;\">1.0</td><td style = \"text-align: left;\">hi</td></tr><tr><td class = \"rowNumber\" style = \"font-weight: bold; text-align: right;\">2</td><td style = \"text-align: right;\">1159</td><td style = \"text-align: right;\">1192</td><td style = \"text-align: right;\">41</td><td style = \"text-align: right;\">2.51</td><td style = \"text-align: right;\">4.0</td><td style = \"text-align: right;\">4.0</td><td style = \"text-align: left;\">medium</td></tr><tr><td class = \"rowNumber\" style = \"font-weight: bold; text-align: right;\">3</td><td style = \"text-align: right;\">1159</td><td style = \"text-align: right;\">1172</td><td style = \"text-align: right;\">9</td><td style = \"text-align: right;\">4.1</td><td style = \"text-align: right;\">2.0</td><td style = \"text-align: right;\">2.0</td><td style = \"text-align: left;\">hi</td></tr><tr><td class = \"rowNumber\" style = \"font-weight: bold; text-align: right;\">4</td><td style = \"text-align: right;\">1159</td><td style = \"text-align: right;\">1189</td><td style = \"text-align: right;\">23</td><td style = \"text-align: right;\">2.7</td><td style = \"text-align: right;\">3.5</td><td style = \"text-align: right;\">3.5</td><td style = \"text-align: left;\">medium</td></tr><tr><td class = \"rowNumber\" style = \"font-weight: bold; text-align: right;\">5</td><td style = \"text-align: right;\">1159</td><td style = \"text-align: right;\">1192</td><td style = \"text-align: right;\">34</td><td style = \"text-align: right;\">3.8</td><td style = \"text-align: right;\">4.0</td><td style = \"text-align: right;\">4.0</td><td style = \"text-align: left;\">hi</td></tr><tr><td class = \"rowNumber\" style = \"font-weight: bold; text-align: right;\">6</td><td style = \"text-align: right;\">1159</td><td style = \"text-align: right;\">1202</td><td style = \"text-align: right;\">41</td><td style = \"text-align: right;\">2.81</td><td style = \"text-align: right;\">5.0</td><td style = \"text-align: right;\">5.0</td><td style = \"text-align: left;\">medium</td></tr><tr><td class = \"rowNumber\" style = \"font-weight: bold; text-align: right;\">7</td><td style = \"text-align: right;\">1159</td><td style = \"text-align: right;\">1159</td><td style = \"text-align: right;\">7</td><td style = \"text-align: right;\">4.1</td><td style = \"text-align: right;\">0.5</td><td style = \"text-align: right;\">0.5</td><td style = \"text-align: left;\">hi</td></tr><tr><td class = \"rowNumber\" style = \"font-weight: bold; text-align: right;\">8</td><td style = \"text-align: right;\">1159</td><td style = \"text-align: right;\">1222</td><td style = \"text-align: right;\">20</td><td style = \"text-align: right;\">3.74</td><td style = \"text-align: right;\">7.0</td><td style = \"text-align: right;\">7.0</td><td style = \"text-align: left;\">hi</td></tr><tr><td class = \"rowNumber\" style = \"font-weight: bold; text-align: right;\">9</td><td style = \"text-align: right;\">1159</td><td style = \"text-align: right;\">1182</td><td style = \"text-align: right;\">16</td><td style = \"text-align: right;\">0.96</td><td style = \"text-align: right;\">3.0</td><td style = \"text-align: right;\">3.0</td><td style = \"text-align: left;\">lo</td></tr><tr><td class = \"rowNumber\" style = \"font-weight: bold; text-align: right;\">10</td><td style = \"text-align: right;\">1159</td><td style = \"text-align: right;\">1162</td><td style = \"text-align: right;\">7</td><td style = \"text-align: right;\">3.8</td><td style = \"text-align: right;\">1.0</td><td style = \"text-align: right;\">1.0</td><td style = \"text-align: left;\">hi</td></tr><tr><td class = \"rowNumber\" style = \"font-weight: bold; text-align: right;\">11</td><td style = \"text-align: right;\">1159</td><td style = \"text-align: right;\">1192</td><td style = \"text-align: right;\">46</td><td style = \"text-align: right;\">4.0</td><td style = \"text-align: right;\">4.0</td><td style = \"text-align: right;\">4.0</td><td style = \"text-align: left;\">hi</td></tr><tr><td class = \"rowNumber\" style = \"font-weight: bold; text-align: right;\">12</td><td style = \"text-align: right;\">1159</td><td style = \"text-align: right;\">1212</td><td style = \"text-align: right;\">43</td><td style = \"text-align: right;\">2.74</td><td style = \"text-align: right;\">6.0</td><td style = \"text-align: right;\">6.0</td><td style = \"text-align: left;\">medium</td></tr><tr><td class = \"rowNumber\" style = \"font-weight: bold; text-align: right;\">13</td><td style = \"text-align: right;\">1159</td><td style = \"text-align: right;\">1182</td><td style = \"text-align: right;\">45</td><td style = \"text-align: right;\">3.8</td><td style = \"text-align: right;\">3.0</td><td style = \"text-align: right;\">3.0</td><td style = \"text-align: left;\">hi</td></tr><tr><td style = \"text-align: right;\">&vellip;</td><td style = \"text-align: right;\">&vellip;</td><td style = \"text-align: right;\">&vellip;</td><td style = \"text-align: right;\">&vellip;</td><td style = \"text-align: right;\">&vellip;</td><td style = \"text-align: right;\">&vellip;</td><td style = \"text-align: right;\">&vellip;</td><td style = \"text-align: right;\">&vellip;</td></tr><tr><td class = \"rowNumber\" style = \"font-weight: bold; text-align: right;\">7101</td><td style = \"text-align: right;\">1229</td><td style = \"text-align: right;\">1229</td><td style = \"text-align: right;\">9</td><td style = \"font-style: italic; text-align: right;\">missing</td><td style = \"text-align: right;\">0.5</td><td style = \"text-align: right;\">0.5</td><td style = \"font-style: italic; text-align: left;\">missing</td></tr><tr><td class = \"rowNumber\" style = \"font-weight: bold; text-align: right;\">7102</td><td style = \"text-align: right;\">1229</td><td style = \"text-align: right;\">1229</td><td style = \"text-align: right;\">6</td><td style = \"font-style: italic; text-align: right;\">missing</td><td style = \"text-align: right;\">0.5</td><td style = \"text-align: right;\">0.5</td><td style = \"font-style: italic; text-align: left;\">missing</td></tr><tr><td class = \"rowNumber\" style = \"font-weight: bold; text-align: right;\">7103</td><td style = \"text-align: right;\">1229</td><td style = \"text-align: right;\">1229</td><td style = \"text-align: right;\">8</td><td style = \"font-style: italic; text-align: right;\">missing</td><td style = \"text-align: right;\">0.5</td><td style = \"text-align: right;\">0.5</td><td style = \"font-style: italic; text-align: left;\">missing</td></tr><tr><td class = \"rowNumber\" style = \"font-weight: bold; text-align: right;\">7104</td><td style = \"text-align: right;\">1229</td><td style = \"text-align: right;\">1229</td><td style = \"text-align: right;\">8</td><td style = \"font-style: italic; text-align: right;\">missing</td><td style = \"text-align: right;\">0.5</td><td style = \"text-align: right;\">0.5</td><td style = \"font-style: italic; text-align: left;\">missing</td></tr><tr><td class = \"rowNumber\" style = \"font-weight: bold; text-align: right;\">7105</td><td style = \"text-align: right;\">1229</td><td style = \"text-align: right;\">1229</td><td style = \"text-align: right;\">12</td><td style = \"font-style: italic; text-align: right;\">missing</td><td style = \"text-align: right;\">0.5</td><td style = \"text-align: right;\">0.5</td><td style = \"font-style: italic; text-align: left;\">missing</td></tr><tr><td class = \"rowNumber\" style = \"font-weight: bold; text-align: right;\">7106</td><td style = \"text-align: right;\">1229</td><td style = \"text-align: right;\">1229</td><td style = \"text-align: right;\">8</td><td style = \"font-style: italic; text-align: right;\">missing</td><td style = \"text-align: right;\">0.5</td><td style = \"text-align: right;\">0.5</td><td style = \"font-style: italic; text-align: left;\">missing</td></tr><tr><td class = \"rowNumber\" style = \"font-weight: bold; text-align: right;\">7107</td><td style = \"text-align: right;\">1229</td><td style = \"text-align: right;\">1229</td><td style = \"text-align: right;\">9</td><td style = \"font-style: italic; text-align: right;\">missing</td><td style = \"text-align: right;\">0.5</td><td style = \"text-align: right;\">0.5</td><td style = \"font-style: italic; text-align: left;\">missing</td></tr><tr><td class = \"rowNumber\" style = \"font-weight: bold; text-align: right;\">7108</td><td style = \"text-align: right;\">1229</td><td style = \"text-align: right;\">1229</td><td style = \"text-align: right;\">9</td><td style = \"font-style: italic; text-align: right;\">missing</td><td style = \"text-align: right;\">0.5</td><td style = \"text-align: right;\">0.5</td><td style = \"font-style: italic; text-align: left;\">missing</td></tr><tr><td class = \"rowNumber\" style = \"font-weight: bold; text-align: right;\">7109</td><td style = \"text-align: right;\">1229</td><td style = \"text-align: right;\">1229</td><td style = \"text-align: right;\">8</td><td style = \"font-style: italic; text-align: right;\">missing</td><td style = \"text-align: right;\">0.5</td><td style = \"text-align: right;\">0.5</td><td style = \"font-style: italic; text-align: left;\">missing</td></tr><tr><td class = \"rowNumber\" style = \"font-weight: bold; text-align: right;\">7110</td><td style = \"text-align: right;\">1229</td><td style = \"text-align: right;\">1229</td><td style = \"text-align: right;\">9</td><td style = \"font-style: italic; text-align: right;\">missing</td><td style = \"text-align: right;\">0.5</td><td style = \"text-align: right;\">0.5</td><td style = \"font-style: italic; text-align: left;\">missing</td></tr><tr><td class = \"rowNumber\" style = \"font-weight: bold; text-align: right;\">7111</td><td style = \"text-align: right;\">1229</td><td style = \"text-align: right;\">1229</td><td style = \"text-align: right;\">6</td><td style = \"font-style: italic; text-align: right;\">missing</td><td style = \"text-align: right;\">0.5</td><td style = \"text-align: right;\">0.5</td><td style = \"font-style: italic; text-align: left;\">missing</td></tr><tr><td class = \"rowNumber\" style = \"font-weight: bold; text-align: right;\">7112</td><td style = \"text-align: right;\">1229</td><td style = \"text-align: right;\">1229</td><td style = \"text-align: right;\">7</td><td style = \"font-style: italic; text-align: right;\">missing</td><td style = \"text-align: right;\">0.5</td><td style = \"text-align: right;\">0.5</td><td style = \"font-style: italic; text-align: left;\">missing</td></tr></tbody></table></div>"
            ],
            "text/latex": "\\begin{tabular}{r|ccccccc}\n\t& F & L & N & gpa & semesters & alt\\_semesters & status\\\\\n\t\\hline\n\t& Int64 & Int64 & Int64 & Float64? & Float64 & Float64 & Cat…?\\\\\n\t\\hline\n\t1 & 1159 & 1162 & 11 & 3.34 & 1.0 & 1.0 & hi \\\\\n\t2 & 1159 & 1192 & 41 & 2.51 & 4.0 & 4.0 & medium \\\\\n\t3 & 1159 & 1172 & 9 & 4.1 & 2.0 & 2.0 & hi \\\\\n\t4 & 1159 & 1189 & 23 & 2.7 & 3.5 & 3.5 & medium \\\\\n\t5 & 1159 & 1192 & 34 & 3.8 & 4.0 & 4.0 & hi \\\\\n\t6 & 1159 & 1202 & 41 & 2.81 & 5.0 & 5.0 & medium \\\\\n\t7 & 1159 & 1159 & 7 & 4.1 & 0.5 & 0.5 & hi \\\\\n\t8 & 1159 & 1222 & 20 & 3.74 & 7.0 & 7.0 & hi \\\\\n\t9 & 1159 & 1182 & 16 & 0.96 & 3.0 & 3.0 & lo \\\\\n\t10 & 1159 & 1162 & 7 & 3.8 & 1.0 & 1.0 & hi \\\\\n\t11 & 1159 & 1192 & 46 & 4.0 & 4.0 & 4.0 & hi \\\\\n\t12 & 1159 & 1212 & 43 & 2.74 & 6.0 & 6.0 & medium \\\\\n\t13 & 1159 & 1182 & 45 & 3.8 & 3.0 & 3.0 & hi \\\\\n\t14 & 1159 & 1172 & 20 & 3.35 & 2.0 & 2.0 & hi \\\\\n\t15 & 1159 & 1179 & 10 & 3.81 & 2.5 & 2.5 & hi \\\\\n\t16 & 1159 & 1202 & 46 & 3.03 & 5.0 & 5.0 & hi \\\\\n\t17 & 1159 & 1169 & 7 & 3.66 & 1.5 & 1.5 & hi \\\\\n\t18 & 1159 & 1169 & 15 & 1.68 & 1.5 & 1.5 & lo \\\\\n\t19 & 1159 & 1162 & 13 & 2.42 & 1.0 & 1.0 & medium \\\\\n\t20 & 1159 & 1162 & 13 & 1.32 & 1.0 & 1.0 & lo \\\\\n\t21 & 1159 & 1159 & 5 & \\emph{missing} & 0.5 & 0.5 & \\emph{missing} \\\\\n\t22 & 1159 & 1199 & 43 & 2.83 & 4.5 & 4.5 & medium \\\\\n\t23 & 1159 & 1182 & 20 & 2.78 & 3.0 & 3.0 & medium \\\\\n\t24 & 1159 & 1159 & 5 & 3.8 & 0.5 & 0.5 & hi \\\\\n\t25 & 1159 & 1182 & 19 & 3.65 & 3.0 & 3.0 & hi \\\\\n\t26 & 1159 & 1202 & 32 & 2.35 & 5.0 & 5.0 & medium \\\\\n\t27 & 1159 & 1182 & 33 & 3.75 & 3.0 & 3.0 & hi \\\\\n\t28 & 1159 & 1229 & 9 & \\emph{missing} & 7.5 & 7.5 & \\emph{missing} \\\\\n\t29 & 1159 & 1212 & 42 & 2.58 & 6.0 & 6.0 & medium \\\\\n\t30 & 1159 & 1162 & 8 & 4.1 & 1.0 & 1.0 & hi \\\\\n\t$\\dots$ & $\\dots$ & $\\dots$ & $\\dots$ & $\\dots$ & $\\dots$ & $\\dots$ & $\\dots$ \\\\\n\\end{tabular}\n"
          },
          "metadata": {},
          "execution_count": 132
        }
      ],
      "cell_type": "code",
      "source": [
        "rcode(gpa) = cut(gpa, [0.0, 2.0, 3.0, Inf];\n",
        "                 labels=[\"lo\", \"medium\", \"hi\"])\n",
        "transform!(d, :gpa => rcode => :status)"
      ],
      "metadata": {
        "id": "JIvN7qIbj-Tn",
        "outputId": "1d9d11ab-e00b-4fb4-ced2-7a49a4758874",
        "colab": {
          "base_uri": "https://localhost:8080/",
          "height": 651
        }
      },
      "execution_count": 132
    },
    {
      "outputs": [
        {
          "output_type": "execute_result",
          "data": {
            "text/plain": [
              "8×4 Named Matrix{Int64}\n",
              "Dim1 ╲ Dim2 │      lo   medium       hi  missing\n",
              "────────────┼───────────────────────────────────\n",
              "1159        │      11        8       33       21\n",
              "1169        │      26       15       33       29\n",
              "1179        │      29       26       27       56\n",
              "1189        │      46       18       37       49\n",
              "1199        │      32        7       26       49\n",
              "1209        │      34       19       68       51\n",
              "1219        │      34       28       67       65\n",
              "1229        │       0        0        0      599"
            ]
          },
          "metadata": {},
          "execution_count": 133
        }
      ],
      "cell_type": "code",
      "source": [
        "@chain d begin\n",
        "    filter(start_semester(:fall), _)\n",
        "    filter(:semesters => ==(0.5), _)\n",
        "    freqtable(_.F, _.status)\n",
        "end"
      ],
      "metadata": {
        "id": "4ixm6Kwsj-Tn",
        "outputId": "898e38c4-359b-47f0-a20c-62b377518f08",
        "colab": {
          "base_uri": "https://localhost:8080/",
          "height": 0
        }
      },
      "execution_count": 133
    },
    {
      "cell_type": "markdown",
      "source": [
        "Working a bit more, we want to manipulate the frequency table, but our tools are easier with DataFrames. Unfortunately, we don't have the most direct conversion. Here we extract its values and column names for the data frame, then insert the rownames as the first column of our data frame\n"
      ],
      "metadata": {
        "id": "n-fPlhjWj-To"
      }
    },
    {
      "outputs": [
        {
          "output_type": "execute_result",
          "data": {
            "text/plain": [
              "nt_2_df"
            ]
          },
          "metadata": {},
          "execution_count": 134
        }
      ],
      "cell_type": "code",
      "source": [
        "\"\"\"\n",
        "    nt_2_df(m::NamedTable; nm=:ID)\n",
        "\n",
        "Convert named table (e.g., from `FreqTables`) into data frame.\n",
        "\"\"\"\n",
        "function nt_2_df(m; nm=:ID)\n",
        "    rnames, cnames = names(m, 1), names(m, 2)\n",
        "\tD = DataFrame(m.array, (Symbol∘string).(cnames))\n",
        "\tinsertcols!(D, 1, nm => rnames)\n",
        "    D\n",
        "end"
      ],
      "metadata": {
        "id": "5Dath7huj-To",
        "outputId": "9a18066f-b18f-48b9-e379-7d4bd5b166db",
        "colab": {
          "base_uri": "https://localhost:8080/",
          "height": 0
        }
      },
      "execution_count": 134
    },
    {
      "outputs": [
        {
          "output_type": "execute_result",
          "data": {
            "text/plain": [
              "\u001b[1m14×5 DataFrame\n",
              "\u001b[1m Row │\u001b[1m ID    \u001b[1m N     \u001b[1m lo       \u001b[1m medium    \u001b[1m hi\n",
              "     │\u001b[90m Int64 \u001b[90m Int64 \u001b[90m Float64  \u001b[90m Float64   \u001b[90m Float64\n",
              "─────┼─────────────────────────────────────────────\n",
              "   1 │  1159     73  0.438356  0.109589   0.452055\n",
              "   2 │  1162    100  0.38      0.21       0.41\n",
              "   3 │  1169    103  0.533981  0.145631   0.320388\n",
              "   4 │  1172    101  0.584158  0.128713   0.287129\n",
              "   5 │  1179    138  0.615942  0.188406   0.195652\n",
              "   6 │  1182     82  0.402439  0.170732   0.426829\n",
              "   7 │  1189    150  0.633333  0.12       0.246667\n",
              "   8 │  1192     72  0.416667  0.111111   0.472222\n",
              "   9 │  1199    114  0.710526  0.0614035  0.22807\n",
              "  10 │  1202    109  0.568807  0.0733945  0.357798\n",
              "  11 │  1209    172  0.494186  0.110465   0.395349\n",
              "  12 │  1212    100  0.34      0.05       0.61\n",
              "  13 │  1219    194  0.510309  0.14433    0.345361\n",
              "  14 │  1222     84  0.464286  0.119048   0.416667"
            ],
            "text/html": [
              "<div><div style = \"float: left;\"><span>14×5 DataFrame</span></div><div style = \"clear: both;\"></div></div><div class = \"data-frame\" style = \"overflow-x: scroll;\"><table class = \"data-frame\" style = \"margin-bottom: 6px;\"><thead><tr class = \"header\"><th class = \"rowNumber\" style = \"font-weight: bold; text-align: right;\">Row</th><th style = \"text-align: left;\">ID</th><th style = \"text-align: left;\">N</th><th style = \"text-align: left;\">lo</th><th style = \"text-align: left;\">medium</th><th style = \"text-align: left;\">hi</th></tr><tr class = \"subheader headerLastRow\"><th class = \"rowNumber\" style = \"font-weight: bold; text-align: right;\"></th><th title = \"Int64\" style = \"text-align: left;\">Int64</th><th title = \"Int64\" style = \"text-align: left;\">Int64</th><th title = \"Float64\" style = \"text-align: left;\">Float64</th><th title = \"Float64\" style = \"text-align: left;\">Float64</th><th title = \"Float64\" style = \"text-align: left;\">Float64</th></tr></thead><tbody><tr><td class = \"rowNumber\" style = \"font-weight: bold; text-align: right;\">1</td><td style = \"text-align: right;\">1159</td><td style = \"text-align: right;\">73</td><td style = \"text-align: right;\">0.438356</td><td style = \"text-align: right;\">0.109589</td><td style = \"text-align: right;\">0.452055</td></tr><tr><td class = \"rowNumber\" style = \"font-weight: bold; text-align: right;\">2</td><td style = \"text-align: right;\">1162</td><td style = \"text-align: right;\">100</td><td style = \"text-align: right;\">0.38</td><td style = \"text-align: right;\">0.21</td><td style = \"text-align: right;\">0.41</td></tr><tr><td class = \"rowNumber\" style = \"font-weight: bold; text-align: right;\">3</td><td style = \"text-align: right;\">1169</td><td style = \"text-align: right;\">103</td><td style = \"text-align: right;\">0.533981</td><td style = \"text-align: right;\">0.145631</td><td style = \"text-align: right;\">0.320388</td></tr><tr><td class = \"rowNumber\" style = \"font-weight: bold; text-align: right;\">4</td><td style = \"text-align: right;\">1172</td><td style = \"text-align: right;\">101</td><td style = \"text-align: right;\">0.584158</td><td style = \"text-align: right;\">0.128713</td><td style = \"text-align: right;\">0.287129</td></tr><tr><td class = \"rowNumber\" style = \"font-weight: bold; text-align: right;\">5</td><td style = \"text-align: right;\">1179</td><td style = \"text-align: right;\">138</td><td style = \"text-align: right;\">0.615942</td><td style = \"text-align: right;\">0.188406</td><td style = \"text-align: right;\">0.195652</td></tr><tr><td class = \"rowNumber\" style = \"font-weight: bold; text-align: right;\">6</td><td style = \"text-align: right;\">1182</td><td style = \"text-align: right;\">82</td><td style = \"text-align: right;\">0.402439</td><td style = \"text-align: right;\">0.170732</td><td style = \"text-align: right;\">0.426829</td></tr><tr><td class = \"rowNumber\" style = \"font-weight: bold; text-align: right;\">7</td><td style = \"text-align: right;\">1189</td><td style = \"text-align: right;\">150</td><td style = \"text-align: right;\">0.633333</td><td style = \"text-align: right;\">0.12</td><td style = \"text-align: right;\">0.246667</td></tr><tr><td class = \"rowNumber\" style = \"font-weight: bold; text-align: right;\">8</td><td style = \"text-align: right;\">1192</td><td style = \"text-align: right;\">72</td><td style = \"text-align: right;\">0.416667</td><td style = \"text-align: right;\">0.111111</td><td style = \"text-align: right;\">0.472222</td></tr><tr><td class = \"rowNumber\" style = \"font-weight: bold; text-align: right;\">9</td><td style = \"text-align: right;\">1199</td><td style = \"text-align: right;\">114</td><td style = \"text-align: right;\">0.710526</td><td style = \"text-align: right;\">0.0614035</td><td style = \"text-align: right;\">0.22807</td></tr><tr><td class = \"rowNumber\" style = \"font-weight: bold; text-align: right;\">10</td><td style = \"text-align: right;\">1202</td><td style = \"text-align: right;\">109</td><td style = \"text-align: right;\">0.568807</td><td style = \"text-align: right;\">0.0733945</td><td style = \"text-align: right;\">0.357798</td></tr><tr><td class = \"rowNumber\" style = \"font-weight: bold; text-align: right;\">11</td><td style = \"text-align: right;\">1209</td><td style = \"text-align: right;\">172</td><td style = \"text-align: right;\">0.494186</td><td style = \"text-align: right;\">0.110465</td><td style = \"text-align: right;\">0.395349</td></tr><tr><td class = \"rowNumber\" style = \"font-weight: bold; text-align: right;\">12</td><td style = \"text-align: right;\">1212</td><td style = \"text-align: right;\">100</td><td style = \"text-align: right;\">0.34</td><td style = \"text-align: right;\">0.05</td><td style = \"text-align: right;\">0.61</td></tr><tr><td class = \"rowNumber\" style = \"font-weight: bold; text-align: right;\">13</td><td style = \"text-align: right;\">1219</td><td style = \"text-align: right;\">194</td><td style = \"text-align: right;\">0.510309</td><td style = \"text-align: right;\">0.14433</td><td style = \"text-align: right;\">0.345361</td></tr><tr><td class = \"rowNumber\" style = \"font-weight: bold; text-align: right;\">14</td><td style = \"text-align: right;\">1222</td><td style = \"text-align: right;\">84</td><td style = \"text-align: right;\">0.464286</td><td style = \"text-align: right;\">0.119048</td><td style = \"text-align: right;\">0.416667</td></tr></tbody></table></div>"
            ],
            "text/latex": "\\begin{tabular}{r|ccccc}\n\t& ID & N & lo & medium & hi\\\\\n\t\\hline\n\t& Int64 & Int64 & Float64 & Float64 & Float64\\\\\n\t\\hline\n\t1 & 1159 & 73 & 0.438356 & 0.109589 & 0.452055 \\\\\n\t2 & 1162 & 100 & 0.38 & 0.21 & 0.41 \\\\\n\t3 & 1169 & 103 & 0.533981 & 0.145631 & 0.320388 \\\\\n\t4 & 1172 & 101 & 0.584158 & 0.128713 & 0.287129 \\\\\n\t5 & 1179 & 138 & 0.615942 & 0.188406 & 0.195652 \\\\\n\t6 & 1182 & 82 & 0.402439 & 0.170732 & 0.426829 \\\\\n\t7 & 1189 & 150 & 0.633333 & 0.12 & 0.246667 \\\\\n\t8 & 1192 & 72 & 0.416667 & 0.111111 & 0.472222 \\\\\n\t9 & 1199 & 114 & 0.710526 & 0.0614035 & 0.22807 \\\\\n\t10 & 1202 & 109 & 0.568807 & 0.0733945 & 0.357798 \\\\\n\t11 & 1209 & 172 & 0.494186 & 0.110465 & 0.395349 \\\\\n\t12 & 1212 & 100 & 0.34 & 0.05 & 0.61 \\\\\n\t13 & 1219 & 194 & 0.510309 & 0.14433 & 0.345361 \\\\\n\t14 & 1222 & 84 & 0.464286 & 0.119048 & 0.416667 \\\\\n\\end{tabular}\n"
          },
          "metadata": {},
          "execution_count": 135
        }
      ],
      "cell_type": "code",
      "source": [
        "_prop(x...) = sum(x[1:end-1]) / x[end]\n",
        "\n",
        "@chain d begin\n",
        "    filter(:F => !=(1229), _)\n",
        "    filter(:semesters => ==(0.5), _)\n",
        "    freqtable(_.F, _.status)\n",
        "    nt_2_df\n",
        "    combine(:ID, Not(:ID) => (+) => :N, :)\n",
        "    combine(:ID, :N,\n",
        "            [:lo, :missing, :N] => ByRow(_prop) => :lo,\n",
        "            [:medium, :N] => ByRow(_prop) => :medium,\n",
        "            [:hi, :N] => ByRow(_prop) => :hi)\n",
        "end\n"
      ],
      "metadata": {
        "id": "qZx8--WTj-To",
        "outputId": "a1cf08bc-1768-4f35-e74c-1b90968cddc6",
        "colab": {
          "base_uri": "https://localhost:8080/",
          "height": 397
        }
      },
      "execution_count": 135
    },
    {
      "cell_type": "markdown",
      "source": [
        "## Tangent: overriding a base method\n"
      ],
      "metadata": {
        "internals": {
          "slide_type": "subslide",
          "slide_helper": "subslide_end"
        },
        "slide_helper": "slide_end",
        "id": "fQHeI8EQj-To"
      }
    },
    {
      "cell_type": "markdown",
      "source": [
        "This shoehorns in an example of defining a user defined structure and custom `show` method, a common, easy-to-do, practice.\n"
      ],
      "metadata": {
        "id": "ghYzwKS4j-To"
      }
    },
    {
      "cell_type": "markdown",
      "source": [
        "This example is to create an alternate display for the table we saw previously:\n"
      ],
      "metadata": {
        "id": "zF0pK1xOj-To"
      }
    },
    {
      "outputs": [
        {
          "output_type": "execute_result",
          "data": {
            "text/plain": [
              "Dict{Float64, Int64} with 15 entries:\n",
              "  5.0 => 170\n",
              "  7.0 => 17\n",
              "  0.5 => 2191\n",
              "  7.5 => 11\n",
              "  1.5 => 784\n",
              "  1.0 => 1165\n",
              "  5.5 => 134\n",
              "  4.0 => 371\n",
              "  6.0 => 66\n",
              "  2.0 => 545\n",
              "  3.5 => 462\n",
              "  6.5 => 53\n",
              "  3.0 => 344\n",
              "  2.5 => 540\n",
              "  4.5 => 259"
            ]
          },
          "metadata": {},
          "execution_count": 136
        }
      ],
      "cell_type": "code",
      "source": [
        "sems = unique(d.semesters)\n",
        "cnt = Dict(s => 0 for s ∈ sems)  # initialize with a generator\n",
        "for r ∈ eachrow(d)\n",
        "    cnt[r.semesters] += 1\n",
        "end\n",
        "cnt"
      ],
      "metadata": {
        "id": "6whu2vo3j-To",
        "outputId": "b4b5c802-0dc3-4d78-c650-d015393d519c",
        "colab": {
          "base_uri": "https://localhost:8080/",
          "height": 0
        }
      },
      "execution_count": 136
    },
    {
      "cell_type": "markdown",
      "source": [
        "Defining new types is as easy as calling `struct` appropriately:\n"
      ],
      "metadata": {
        "id": "gzAWBQS2j-Tp"
      }
    },
    {
      "outputs": [],
      "cell_type": "code",
      "source": [
        "struct PrisonCount\n",
        "    x::Int\n",
        "end"
      ],
      "metadata": {
        "id": "4063vFyKj-Tp"
      },
      "execution_count": 137
    },
    {
      "cell_type": "markdown",
      "source": [
        "This creates an immutable struct, mutable structs are also possible.\n"
      ],
      "metadata": {
        "id": "C-Nz_j33j-Tp"
      }
    },
    {
      "cell_type": "markdown",
      "source": [
        "We use the following Unicode string for the display:\n"
      ],
      "metadata": {
        "id": "n0HInsAbj-Tp"
      }
    },
    {
      "outputs": [
        {
          "output_type": "execute_result",
          "data": {
            "text/plain": [
              "\"||||̸ \""
            ]
          },
          "metadata": {},
          "execution_count": 138
        }
      ],
      "cell_type": "code",
      "source": [
        "tallies =  \"\\u007C\"^4*\"\\u0338 \""
      ],
      "metadata": {
        "id": "JZOIiuc0j-Tp",
        "outputId": "9b7f5800-84c7-4634-9795-8a8b2e10a340",
        "colab": {
          "base_uri": "https://localhost:8080/",
          "height": 0
        }
      },
      "execution_count": 138
    },
    {
      "cell_type": "markdown",
      "source": [
        "Unicode is more commonly entered using LaTeX shortcuts (e.g., `\\alpha[tab]`), the above uses code points. It also illustrates that `^` for strings is repetition and `*` is concatenation.\n"
      ],
      "metadata": {
        "id": "63vZEmzFj-Tp"
      }
    },
    {
      "cell_type": "markdown",
      "source": [
        "To override the base `show` method for our new type, the method must be imported or qualified, as below, and the acceptable types of `x` below must be narrowed:\n"
      ],
      "metadata": {
        "id": "mOeNEI6tj-Tp"
      }
    },
    {
      "outputs": [],
      "cell_type": "code",
      "source": [
        "function Base.show(io::IO, x::PrisonCount)\n",
        "    d,r = divrem(x.x, 5)\n",
        "    if d > 10\n",
        "       print(io, \"($d*5)... + \")\n",
        "       d = mod(d, 10)\n",
        "    end\n",
        "    print(io, tallies^d)\n",
        "    println(io, tallies[1:r]) # add newline at end\n",
        "end"
      ],
      "metadata": {
        "id": "1sBPiTd5j-Tp"
      },
      "execution_count": 139
    },
    {
      "cell_type": "markdown",
      "source": [
        "  * `Julia` permits a user to override base types for any type, but the common practice is to only do so for types that a package developer ones. \"Type piracy\" can be an issue.\n",
        "  * The `show` method defined above is the catch all, there is also the ability to override based on the MIME type of the display. This notebook shows objects differently than the command line.\n",
        "  * Indexing into a string is fruitfully done above. The empty range created by `1:r` when `r=0` requires no special case.\n"
      ],
      "metadata": {
        "id": "V5rZ8Vnmj-Tq"
      }
    },
    {
      "cell_type": "markdown",
      "source": [
        "Finally, we want to see the result\n"
      ],
      "metadata": {
        "id": "IADl1qbaj-Tq"
      }
    },
    {
      "outputs": [
        {
          "output_type": "stream",
          "name": "stdout",
          "text": [
            "0.5 | (438*5)... + ||||̸ ||||̸ ||||̸ ||||̸ ||||̸ ||||̸ ||||̸ ||||̸ |\n",
            "1.0 | (233*5)... + ||||̸ ||||̸ ||||̸ \n",
            "1.5 | (156*5)... + ||||̸ ||||̸ ||||̸ ||||̸ ||||̸ ||||̸ ||||\n",
            "2.0 | (109*5)... + ||||̸ ||||̸ ||||̸ ||||̸ ||||̸ ||||̸ ||||̸ ||||̸ ||||̸ \n",
            "2.5 | (108*5)... + ||||̸ ||||̸ ||||̸ ||||̸ ||||̸ ||||̸ ||||̸ ||||̸ \n",
            "3.0 | (68*5)... + ||||̸ ||||̸ ||||̸ ||||̸ ||||̸ ||||̸ ||||̸ ||||̸ ||||\n",
            "3.5 | (92*5)... + ||||̸ ||||̸ ||\n",
            "4.0 | (74*5)... + ||||̸ ||||̸ ||||̸ ||||̸ |\n",
            "4.5 | (51*5)... + ||||̸ ||||\n",
            "5.0 | (34*5)... + ||||̸ ||||̸ ||||̸ ||||̸ \n",
            "5.5 | (26*5)... + ||||̸ ||||̸ ||||̸ ||||̸ ||||̸ ||||̸ ||||\n",
            "6.0 | (13*5)... + ||||̸ ||||̸ ||||̸ |\n",
            "6.5 | ||||̸ ||||̸ ||||̸ ||||̸ ||||̸ ||||̸ ||||̸ ||||̸ ||||̸ ||||̸ |||\n",
            "7.0 | ||||̸ ||||̸ ||||̸ ||\n",
            "7.5 | ||||̸ ||||̸ |\n"
          ]
        }
      ],
      "cell_type": "code",
      "source": [
        "for k ∈ sort(collect(keys(cnt)))\n",
        "    print(k, \" | \")\n",
        "    print(PrisonCount(cnt[k]))\n",
        "end"
      ],
      "metadata": {
        "id": "O3pdzuZMj-Tq",
        "outputId": "a0d17ca4-1875-44bb-ac70-373029916764",
        "colab": {
          "base_uri": "https://localhost:8080/",
          "height": 0
        }
      },
      "execution_count": 140
    }
  ]
}
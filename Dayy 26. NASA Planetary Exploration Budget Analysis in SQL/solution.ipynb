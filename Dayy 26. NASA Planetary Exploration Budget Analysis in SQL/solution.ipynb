{
 "cells": [
  {
   "cell_type": "markdown",
   "id": "d0eb4f16-5a99-460d-a5ba-706b7ef0bbe7",
   "metadata": {
    "id": "bA5ajAmk7XH6"
   },
   "source": [
    "# Analyzing NASA Planetary Exploration Budgets in SQL\n"
   ]
  },
  {
   "cell_type": "markdown",
   "id": "f71f8b02-bbf5-4d03-a553-7ee1ea03a12d",
   "metadata": {},
   "source": [
    "## By: Vatsal Vinay Parikh\n",
    "\n",
    "For much of the last 60 years, NASA has been at the forefront of exploring our solar system. In this project, we'll see how much money they spent to do this. For expensive science projects, not least those funded with public money, the price of conducting research is a huge consideration, so budgeting is important.\n",
    "\n",
    "We'll use a cleaned up version of the [public dataset](https://www.planetary.org/space-policy/planetary-exploration-budget-dataset) provided by the The Planetary Society."
   ]
  },
  {
   "cell_type": "markdown",
   "id": "5f9fe220-c7b7-4279-b32c-4dc2d9bd6d82",
   "metadata": {},
   "source": [
    "## What is the total cost of all planetary missions over all time?"
   ]
  },
  {
   "cell_type": "markdown",
   "id": "67ac6795-54bb-4c0a-8ce6-bb1fea245a44",
   "metadata": {},
   "source": [
    "A good first step in any budgetary analysis is to determine how much money has been spent in total.\n",
    "\n",
    "For this, we need the `mission_budgets` table. Each row represents the cost in a fiscal year, of one aspect of a project for one mission. There are 5 columns:\n",
    "\n",
    "- `mission`: The name of the mission.\n",
    "- `fiscal_year`: The year, for accounting purposes.\n",
    "- `cost_type`: Fine-grained aspect of the project, e.g., \"Spacecraft\".\n",
    "- `cost_group`: Broader aspect of the project, e.g., \"Development/Implementation\".\n",
    "- `cost_MUSD`: Cost in million US dollars.\n"
   ]
  },
  {
   "cell_type": "markdown",
   "id": "4c741454-8ce7-49c9-b708-8c3e99821875",
   "metadata": {},
   "source": [
    "### Instructions\n",
    "\n",
    "- Calculate the total cost of all missions over all time as `total_cost_MUSD`."
   ]
  },
  {
   "cell_type": "code",
   "execution_count": 2,
   "id": "2bbac0c6-e9b6-4c22-bf80-7738863a683c",
   "metadata": {
    "customType": "sql",
    "dataFrameVariableName": "df",
    "executionCancelledAt": null,
    "executionTime": null,
    "initial": false,
    "integrationId": "8f6c6137-732b-4eab-9ebb-dd4683402e9f",
    "lastExecutedAt": null,
    "lastExecutedByKernel": null,
    "lastScheduledRunId": null,
    "lastSuccessfullyExecutedCode": null,
    "outputsMetadata": {
     "0": {
      "height": 137,
      "tableState": {
       "customFilter": {
        "const": {
         "type": "boolean",
         "valid": true,
         "value": true
        },
        "id": "415791f4-dcd5-4e9a-9656-a395c2605dcd",
        "nodeType": "const"
       },
       "quickFilterText": ""
      },
      "type": "dataFrame"
     }
    },
    "sqlSource": {
     "integrationId": "fe69b2d4-166e-4f4c-8c2b-bc2ed932b8da",
     "integrationType": "postgresql",
     "type": "integration"
    }
   },
   "outputs": [
    {
     "data": {
      "application/com.datacamp.data-table.v2+json": {
       "table": {
        "data": {
         "index": [
          0
         ],
         "total_cost_musd": [
          41406.554506425
         ]
        },
        "schema": {
         "fields": [
          {
           "name": "index",
           "type": "integer"
          },
          {
           "name": "total_cost_musd",
           "type": "number"
          }
         ],
         "pandas_version": "1.4.0",
         "primaryKey": [
          "index"
         ]
        }
       },
       "total_rows": 1,
       "truncation_type": null
      },
      "text/html": [
       "<div>\n",
       "<style scoped>\n",
       "    .dataframe tbody tr th:only-of-type {\n",
       "        vertical-align: middle;\n",
       "    }\n",
       "\n",
       "    .dataframe tbody tr th {\n",
       "        vertical-align: top;\n",
       "    }\n",
       "\n",
       "    .dataframe thead th {\n",
       "        text-align: right;\n",
       "    }\n",
       "</style>\n",
       "<table border=\"1\" class=\"dataframe\">\n",
       "  <thead>\n",
       "    <tr style=\"text-align: right;\">\n",
       "      <th></th>\n",
       "      <th>total_cost_musd</th>\n",
       "    </tr>\n",
       "  </thead>\n",
       "  <tbody>\n",
       "    <tr>\n",
       "      <th>0</th>\n",
       "      <td>41406.554506</td>\n",
       "    </tr>\n",
       "  </tbody>\n",
       "</table>\n",
       "</div>"
      ],
      "text/plain": [
       "   total_cost_musd\n",
       "0     41406.554506"
      ]
     },
     "execution_count": 2,
     "metadata": {
      "application/com.datacamp.data-table.v2+json": {
       "status": "success"
      }
     },
     "output_type": "execute_result"
    }
   ],
   "source": [
    "-- Calculate the total cost of all missions over all time\n",
    "SELECT SUM(\"cost_MUSD\") AS total_cost_MUSD\n",
    "FROM mission_budgets"
   ]
  },
  {
   "cell_type": "markdown",
   "id": "1846f331-f891-4cba-836a-08447aa70745",
   "metadata": {},
   "source": [
    "## What happens when you adjust for inflation?"
   ]
  },
  {
   "cell_type": "markdown",
   "id": "3109dc03-a3b3-4b03-b926-f7db31987728",
   "metadata": {},
   "source": [
    "Due to inflation, costs in the 1960s are not directly equivalent to those in the 2020s. We need to adjust for inflation in order to get a cost in current currency.\n",
    "\n",
    "Correction factors are available in the `inflation` table. Each row represents an inflation adjustment for a time period relative to today. ther are two columns.\n",
    "\n",
    "- `fiscal_year`: The year, for accounting purposes. Note that in 1976, inflation was especially high, so two values are provided. \"1976\" represents the start of the year, and \"1976TQ\" represents the third quarter onwards.\n",
    "- `inflation_adjustment`: Multiply currency values from the past time by this number to get current currency values."
   ]
  },
  {
   "cell_type": "markdown",
   "id": "23f239b6-ffab-41f9-84bb-c39c4fc66beb",
   "metadata": {},
   "source": [
    "### Instructions\n",
    "\n",
    "- Join the `mission_budgets` table to the `inflation` table on the fiscal year.\n",
    "- Calculate the total cost of all missions over all time, adjusted for inflation as `adjusted_total_cost_MUSD`."
   ]
  },
  {
   "cell_type": "code",
   "execution_count": 3,
   "id": "09336a76-50c2-4de0-aaba-587139e4a914",
   "metadata": {
    "customType": "sql",
    "dataFrameVariableName": "df",
    "executionCancelledAt": null,
    "executionTime": 1186,
    "initial": false,
    "integrationId": "8f6c6137-732b-4eab-9ebb-dd4683402e9f",
    "lastExecutedAt": 1740616478072,
    "lastExecutedByKernel": "ca32c1d4-6311-424c-806b-632141c51b80",
    "lastScheduledRunId": null,
    "lastSuccessfullyExecutedCode": "-- Calculate the total cost of all missions over all time, adjusted for inflation\nSELECT SUM(\"cost_MUSD\" * inflation_adjustment) AS adjusted_total_cost_MUSD\nFROM mission_budgets\nLEFT JOIN inflation\n\tUSING(fiscal_year)\n\t--ON mission_budgets.fiscal_year = inflation.fiscal_year\n\t",
    "outputsMetadata": {
     "0": {
      "height": 50,
      "tableState": {
       "customFilter": {
        "const": {
         "type": "boolean",
         "valid": true,
         "value": true
        },
        "id": "415791f4-dcd5-4e9a-9656-a395c2605dcd",
        "nodeType": "const"
       },
       "quickFilterText": ""
      },
      "type": "dataFrame"
     }
    },
    "sqlSource": {
     "integrationId": "fe69b2d4-166e-4f4c-8c2b-bc2ed932b8da",
     "integrationType": "postgresql",
     "type": "integration"
    }
   },
   "outputs": [
    {
     "data": {
      "application/com.datacamp.data-table.v2+json": {
       "table": {
        "data": {
         "adjusted_total_cost_musd": [
          80992.5939825601
         ],
         "index": [
          0
         ]
        },
        "schema": {
         "fields": [
          {
           "name": "index",
           "type": "integer"
          },
          {
           "name": "adjusted_total_cost_musd",
           "type": "number"
          }
         ],
         "pandas_version": "1.4.0",
         "primaryKey": [
          "index"
         ]
        }
       },
       "total_rows": 1,
       "truncation_type": null
      },
      "text/html": [
       "<div>\n",
       "<style scoped>\n",
       "    .dataframe tbody tr th:only-of-type {\n",
       "        vertical-align: middle;\n",
       "    }\n",
       "\n",
       "    .dataframe tbody tr th {\n",
       "        vertical-align: top;\n",
       "    }\n",
       "\n",
       "    .dataframe thead th {\n",
       "        text-align: right;\n",
       "    }\n",
       "</style>\n",
       "<table border=\"1\" class=\"dataframe\">\n",
       "  <thead>\n",
       "    <tr style=\"text-align: right;\">\n",
       "      <th></th>\n",
       "      <th>adjusted_total_cost_musd</th>\n",
       "    </tr>\n",
       "  </thead>\n",
       "  <tbody>\n",
       "    <tr>\n",
       "      <th>0</th>\n",
       "      <td>80992.593983</td>\n",
       "    </tr>\n",
       "  </tbody>\n",
       "</table>\n",
       "</div>"
      ],
      "text/plain": [
       "   adjusted_total_cost_musd\n",
       "0              80992.593983"
      ]
     },
     "execution_count": 3,
     "metadata": {
      "application/com.datacamp.data-table.v2+json": {
       "status": "success"
      }
     },
     "output_type": "execute_result"
    }
   ],
   "source": [
    "-- Calculate the total cost of all missions over all time, adjusted for inflation\n",
    "SELECT SUM(\"cost_MUSD\" * inflation_adjustment) AS adjusted_total_cost_MUSD\n",
    "FROM mission_budgets\n",
    "LEFT JOIN inflation\n",
    "\tUSING(fiscal_year)\n",
    "\t--ON mission_budgets.fiscal_year = inflation.fiscal_year"
   ]
  },
  {
   "cell_type": "markdown",
   "id": "5e7c5edf-fff9-4694-9e3b-d141b9e87422",
   "metadata": {},
   "source": [
    "## Which was the most expensive mission?"
   ]
  },
  {
   "cell_type": "markdown",
   "id": "fd12af61-1679-4140-89b4-1944bae785b7",
   "metadata": {},
   "source": [
    "The biggest, grandest missions make headlines, but at some point, someone always asks questions about how much things cost, and the biggest budgets are the first place people look for cost savings. Knowing which is the most expensive project is an essential task for anyone responsible for a budget."
   ]
  },
  {
   "cell_type": "markdown",
   "id": "5f17b654-2fa1-442e-85ef-03982debc835",
   "metadata": {},
   "source": [
    "### Instructions\n",
    "\n",
    "- Group the budgets by mission, and calculate the total cost for each mission.\n",
    "- Get the mission with the highest total cost."
   ]
  },
  {
   "cell_type": "code",
   "execution_count": 7,
   "id": "b18508f9-9f08-481e-88d9-e84d532af238",
   "metadata": {
    "customType": "sql",
    "dataFrameVariableName": "df",
    "executionCancelledAt": null,
    "executionTime": null,
    "initial": false,
    "integrationId": "8f6c6137-732b-4eab-9ebb-dd4683402e9f",
    "lastExecutedAt": null,
    "lastExecutedByKernel": null,
    "lastScheduledRunId": null,
    "lastSuccessfullyExecutedCode": null,
    "outputsMetadata": {
     "0": {
      "height": 82,
      "tableState": {
       "customFilter": {
        "const": {
         "type": "boolean",
         "valid": true,
         "value": true
        },
        "id": "415791f4-dcd5-4e9a-9656-a395c2605dcd",
        "nodeType": "const"
       },
       "quickFilterText": ""
      },
      "type": "dataFrame"
     }
    },
    "sqlSource": {
     "integrationId": "fe69b2d4-166e-4f4c-8c2b-bc2ed932b8da",
     "integrationType": "postgresql",
     "type": "integration"
    }
   },
   "outputs": [
    {
     "data": {
      "application/com.datacamp.data-table.v2+json": {
       "table": {
        "data": {
         "adjusted_total_cost_musd": [
          7208.541041
         ],
         "index": [
          0
         ],
         "mission": [
          "Viking"
         ]
        },
        "schema": {
         "fields": [
          {
           "name": "index",
           "type": "integer"
          },
          {
           "name": "mission",
           "type": "string"
          },
          {
           "name": "adjusted_total_cost_musd",
           "type": "number"
          }
         ],
         "pandas_version": "1.4.0",
         "primaryKey": [
          "index"
         ]
        }
       },
       "total_rows": 1,
       "truncation_type": null
      },
      "text/html": [
       "<div>\n",
       "<style scoped>\n",
       "    .dataframe tbody tr th:only-of-type {\n",
       "        vertical-align: middle;\n",
       "    }\n",
       "\n",
       "    .dataframe tbody tr th {\n",
       "        vertical-align: top;\n",
       "    }\n",
       "\n",
       "    .dataframe thead th {\n",
       "        text-align: right;\n",
       "    }\n",
       "</style>\n",
       "<table border=\"1\" class=\"dataframe\">\n",
       "  <thead>\n",
       "    <tr style=\"text-align: right;\">\n",
       "      <th></th>\n",
       "      <th>mission</th>\n",
       "      <th>adjusted_total_cost_musd</th>\n",
       "    </tr>\n",
       "  </thead>\n",
       "  <tbody>\n",
       "    <tr>\n",
       "      <th>0</th>\n",
       "      <td>Viking</td>\n",
       "      <td>7208.541041</td>\n",
       "    </tr>\n",
       "  </tbody>\n",
       "</table>\n",
       "</div>"
      ],
      "text/plain": [
       "  mission  adjusted_total_cost_musd\n",
       "0  Viking               7208.541041"
      ]
     },
     "execution_count": 7,
     "metadata": {
      "application/com.datacamp.data-table.v2+json": {
       "status": "success"
      }
     },
     "output_type": "execute_result"
    }
   ],
   "source": [
    "-- Get the mission with the highest total cost\n",
    "SELECT mission, SUM(\"cost_MUSD\" * inflation_adjustment) AS adjusted_total_cost_MUSD\n",
    "FROM mission_budgets\n",
    "LEFT JOIN inflation\n",
    "\tUSING(fiscal_year)\n",
    "GROUP BY mission\n",
    "ORDER BY adjusted_total_cost_MUSD DESC\n",
    "LIMIT 1"
   ]
  },
  {
   "cell_type": "markdown",
   "id": "e8ce1071-96a4-48e9-8281-af2a208879ba",
   "metadata": {},
   "source": [
    "## How much was spent each year?"
   ]
  },
  {
   "cell_type": "markdown",
   "id": "be09644b-1084-41c2-b87c-62defb0501aa",
   "metadata": {},
   "source": [
    "Understanding how budgets change over time is also important. NASA has not been immune to the wax and wane of the US economy over the decades, nor the change in political enthusiasm for planetary exploration. More generally, to understand your current budget, it's usually helpful to know the context of how much budget you or your predecessors had in previous years."
   ]
  },
  {
   "cell_type": "markdown",
   "id": "5e005c17-75cc-496d-960f-dffb452fe44c",
   "metadata": {},
   "source": [
    "### Instructions\n",
    "\n",
    "- Group the budgets by mission, and calculate the inflation adjusted total cost for each mission.\n",
    "- Save the results as the data frame `total_cost_by_year`."
   ]
  },
  {
   "cell_type": "code",
   "execution_count": 9,
   "id": "77df19a1-1893-43b3-a96c-0601325b5904",
   "metadata": {
    "customType": "sql",
    "dataFrameVariableName": "total_cost_by_year",
    "executionCancelledAt": null,
    "executionTime": 747,
    "initial": false,
    "integrationId": "8f6c6137-732b-4eab-9ebb-dd4683402e9f",
    "lastExecutedAt": 1740616840677,
    "lastExecutedByKernel": "ca32c1d4-6311-424c-806b-632141c51b80",
    "lastScheduledRunId": null,
    "lastSuccessfullyExecutedCode": "-- Calculate the inflation adjusted total cost per year\nSELECT fiscal_year, SUM(\"cost_MUSD\" * inflation_adjustment) AS adjusted_total_cost_MUSD\nFROM mission_budgets\nLEFT JOIN inflation\n\tUSING(fiscal_year)\nGROUP BY fiscal_year\nORDER BY fiscal_year",
    "outputsMetadata": {
     "0": {
      "height": 550,
      "tableState": {
       "customFilter": {
        "const": {
         "type": "boolean",
         "valid": true,
         "value": true
        },
        "id": "415791f4-dcd5-4e9a-9656-a395c2605dcd",
        "nodeType": "const"
       },
       "quickFilterText": ""
      },
      "type": "dataFrame"
     }
    },
    "sqlSource": {
     "integrationId": "fe69b2d4-166e-4f4c-8c2b-bc2ed932b8da",
     "integrationType": "postgresql",
     "type": "integration"
    }
   },
   "outputs": [
    {
     "data": {
      "application/com.datacamp.data-table.v2+json": {
       "table": {
        "data": {
         "adjusted_total_cost_musd": [
          261.139746,
          674.84976,
          1624.48845,
          2268.368675,
          2412.93582,
          2620.062486,
          2496.027447,
          1833.667764,
          1183.803376,
          695.647722,
          1164.966397,
          1286.644029,
          2193.191178,
          2443.451351,
          2637.251406,
          1260.79628,
          1237.1821,
          314.226045,
          865.436145,
          316.756398,
          479.422727,
          592.615077,
          347.100546,
          471.1481333344,
          378.860000001,
          482.0816000009,
          714.5449173342,
          810.3000000009,
          679.939095,
          710.87302,
          1070.4504,
          686.638484,
          994.057218,
          954.4768,
          636.402168,
          1191.8256,
          1242.0408,
          1234.37,
          960.2978,
          771.1098,
          820.4278,
          638.2721,
          1045.463,
          1102.494,
          1264.3215,
          1188.677642851,
          1179.6895333287,
          1044.6406499955,
          1188.124758329,
          1174.7932,
          1083.047,
          1134.51595,
          1144.6428,
          1083.3336,
          919.0463333294,
          942.3620666628,
          995.2719999624,
          1119.678,
          1236.4716,
          1635.1775,
          1866.2655,
          1816.4388,
          1371.6,
          1808.2,
          1639.4,
          1289.8,
          1055.3,
          866.7,
          974,
          160.53333333,
          150.05277778,
          149.5162037,
          149.60563272,
          149.59072788,
          149.59321202,
          128.05,
          128.05
         ],
         "fiscal_year": [
          "1960",
          "1961",
          "1962",
          "1963",
          "1964",
          "1965",
          "1966",
          "1967",
          "1968",
          "1969",
          "1970",
          "1971",
          "1972",
          "1973",
          "1974",
          "1975",
          "1976",
          "1976TQ",
          "1977",
          "1978",
          "1979",
          "1980",
          "1981",
          "1982",
          "1983",
          "1984",
          "1985",
          "1986",
          "1987",
          "1988",
          "1989",
          "1990",
          "1991",
          "1992",
          "1993",
          "1994",
          "1995",
          "1996",
          "1997",
          "1998",
          "1999",
          "2000",
          "2001",
          "2002",
          "2003",
          "2004",
          "2005",
          "2006",
          "2007",
          "2008",
          "2009",
          "2010",
          "2011",
          "2012",
          "2013",
          "2014",
          "2015",
          "2016",
          "2017",
          "2018",
          "2019",
          "2020",
          "2021",
          "2022",
          "2023",
          "2024",
          "2025",
          "2026",
          "2027",
          "2028",
          "2029",
          "2030",
          "2031",
          "2032",
          "2033",
          "2034",
          "2035"
         ],
         "index": [
          0,
          1,
          2,
          3,
          4,
          5,
          6,
          7,
          8,
          9,
          10,
          11,
          12,
          13,
          14,
          15,
          16,
          17,
          18,
          19,
          20,
          21,
          22,
          23,
          24,
          25,
          26,
          27,
          28,
          29,
          30,
          31,
          32,
          33,
          34,
          35,
          36,
          37,
          38,
          39,
          40,
          41,
          42,
          43,
          44,
          45,
          46,
          47,
          48,
          49,
          50,
          51,
          52,
          53,
          54,
          55,
          56,
          57,
          58,
          59,
          60,
          61,
          62,
          63,
          64,
          65,
          66,
          67,
          68,
          69,
          70,
          71,
          72,
          73,
          74,
          75,
          76
         ]
        },
        "schema": {
         "fields": [
          {
           "name": "index",
           "type": "integer"
          },
          {
           "name": "fiscal_year",
           "type": "string"
          },
          {
           "name": "adjusted_total_cost_musd",
           "type": "number"
          }
         ],
         "pandas_version": "1.4.0",
         "primaryKey": [
          "index"
         ]
        }
       },
       "total_rows": 77,
       "truncation_type": null
      },
      "text/html": [
       "<div>\n",
       "<style scoped>\n",
       "    .dataframe tbody tr th:only-of-type {\n",
       "        vertical-align: middle;\n",
       "    }\n",
       "\n",
       "    .dataframe tbody tr th {\n",
       "        vertical-align: top;\n",
       "    }\n",
       "\n",
       "    .dataframe thead th {\n",
       "        text-align: right;\n",
       "    }\n",
       "</style>\n",
       "<table border=\"1\" class=\"dataframe\">\n",
       "  <thead>\n",
       "    <tr style=\"text-align: right;\">\n",
       "      <th></th>\n",
       "      <th>fiscal_year</th>\n",
       "      <th>adjusted_total_cost_musd</th>\n",
       "    </tr>\n",
       "  </thead>\n",
       "  <tbody>\n",
       "    <tr>\n",
       "      <th>0</th>\n",
       "      <td>1960</td>\n",
       "      <td>261.139746</td>\n",
       "    </tr>\n",
       "    <tr>\n",
       "      <th>1</th>\n",
       "      <td>1961</td>\n",
       "      <td>674.849760</td>\n",
       "    </tr>\n",
       "    <tr>\n",
       "      <th>2</th>\n",
       "      <td>1962</td>\n",
       "      <td>1624.488450</td>\n",
       "    </tr>\n",
       "    <tr>\n",
       "      <th>3</th>\n",
       "      <td>1963</td>\n",
       "      <td>2268.368675</td>\n",
       "    </tr>\n",
       "    <tr>\n",
       "      <th>4</th>\n",
       "      <td>1964</td>\n",
       "      <td>2412.935820</td>\n",
       "    </tr>\n",
       "    <tr>\n",
       "      <th>...</th>\n",
       "      <td>...</td>\n",
       "      <td>...</td>\n",
       "    </tr>\n",
       "    <tr>\n",
       "      <th>72</th>\n",
       "      <td>2031</td>\n",
       "      <td>149.605633</td>\n",
       "    </tr>\n",
       "    <tr>\n",
       "      <th>73</th>\n",
       "      <td>2032</td>\n",
       "      <td>149.590728</td>\n",
       "    </tr>\n",
       "    <tr>\n",
       "      <th>74</th>\n",
       "      <td>2033</td>\n",
       "      <td>149.593212</td>\n",
       "    </tr>\n",
       "    <tr>\n",
       "      <th>75</th>\n",
       "      <td>2034</td>\n",
       "      <td>128.050000</td>\n",
       "    </tr>\n",
       "    <tr>\n",
       "      <th>76</th>\n",
       "      <td>2035</td>\n",
       "      <td>128.050000</td>\n",
       "    </tr>\n",
       "  </tbody>\n",
       "</table>\n",
       "<p>77 rows × 2 columns</p>\n",
       "</div>"
      ],
      "text/plain": [
       "   fiscal_year  adjusted_total_cost_musd\n",
       "0         1960                261.139746\n",
       "1         1961                674.849760\n",
       "2         1962               1624.488450\n",
       "3         1963               2268.368675\n",
       "4         1964               2412.935820\n",
       "..         ...                       ...\n",
       "72        2031                149.605633\n",
       "73        2032                149.590728\n",
       "74        2033                149.593212\n",
       "75        2034                128.050000\n",
       "76        2035                128.050000\n",
       "\n",
       "[77 rows x 2 columns]"
      ]
     },
     "execution_count": 9,
     "metadata": {
      "application/com.datacamp.data-table.v2+json": {
       "status": "success"
      }
     },
     "output_type": "execute_result"
    }
   ],
   "source": [
    "-- Calculate the inflation adjusted total cost per year\n",
    "SELECT fiscal_year, SUM(\"cost_MUSD\" * inflation_adjustment) AS adjusted_total_cost_MUSD\n",
    "FROM mission_budgets\n",
    "LEFT JOIN inflation\n",
    "\tUSING(fiscal_year)\n",
    "GROUP BY fiscal_year\n",
    "ORDER BY fiscal_year"
   ]
  },
  {
   "cell_type": "markdown",
   "id": "b0dd110e-8b46-449f-8ac5-418b9878d4ec",
   "metadata": {},
   "source": [
    "### Instructions\n",
    "\n",
    "- Draw a bar plot of total cost vs. year.\n",
    "- Write down your interpretation of the plot."
   ]
  },
  {
   "cell_type": "code",
   "execution_count": 10,
   "id": "80f9c83c-42f1-4956-83a0-1b40ac8173b3",
   "metadata": {
    "executionCancelledAt": null,
    "executionTime": null,
    "lastExecutedAt": null,
    "lastExecutedByKernel": null,
    "lastScheduledRunId": null,
    "lastSuccessfullyExecutedCode": null,
    "outputsMetadata": {
     "0": {
      "height": 17,
      "type": "plotly"
     }
    }
   },
   "outputs": [
    {
     "data": {
      "application/vnd.plotly.v1+json": {
       "config": {
        "displaylogo": false,
        "plotlyServerURL": "https://plot.ly",
        "toImageButtonOptions": {
         "filename": "DataLab plot",
         "format": "png",
         "height": 500,
         "scale": 2,
         "width": 700
        }
       },
       "data": [
        {
         "alignmentgroup": "True",
         "hovertemplate": "fiscal_year=%{x}<br>adjusted_total_cost_musd=%{y}<extra></extra>",
         "legendgroup": "",
         "marker": {
          "color": "#6568a0",
          "pattern": {
           "shape": ""
          }
         },
         "name": "",
         "offsetgroup": "",
         "orientation": "v",
         "showlegend": false,
         "textposition": "auto",
         "type": "bar",
         "x": [
          "1960",
          "1961",
          "1962",
          "1963",
          "1964",
          "1965",
          "1966",
          "1967",
          "1968",
          "1969",
          "1970",
          "1971",
          "1972",
          "1973",
          "1974",
          "1975",
          "1976",
          "1976TQ",
          "1977",
          "1978",
          "1979",
          "1980",
          "1981",
          "1982",
          "1983",
          "1984",
          "1985",
          "1986",
          "1987",
          "1988",
          "1989",
          "1990",
          "1991",
          "1992",
          "1993",
          "1994",
          "1995",
          "1996",
          "1997",
          "1998",
          "1999",
          "2000",
          "2001",
          "2002",
          "2003",
          "2004",
          "2005",
          "2006",
          "2007",
          "2008",
          "2009",
          "2010",
          "2011",
          "2012",
          "2013",
          "2014",
          "2015",
          "2016",
          "2017",
          "2018",
          "2019",
          "2020",
          "2021",
          "2022",
          "2023",
          "2024",
          "2025",
          "2026",
          "2027",
          "2028",
          "2029",
          "2030",
          "2031",
          "2032",
          "2033",
          "2034",
          "2035"
         ],
         "xaxis": "x",
         "y": [
          261.139746,
          674.8497600000001,
          1624.48845,
          2268.3686750000006,
          2412.9358199999997,
          2620.062486,
          2496.0274469999995,
          1833.6677639999998,
          1183.803376,
          695.6477219999999,
          1164.9663970000001,
          1286.644029,
          2193.191178,
          2443.4513509999997,
          2637.251406,
          1260.79628,
          1237.1821,
          314.226045,
          865.4361449999999,
          316.756398,
          479.42272700000007,
          592.615077,
          347.100546,
          471.14813333439395,
          378.86000000099705,
          482.0816000009461,
          714.544917334248,
          810.3000000008882,
          679.9390950000001,
          710.8730200000001,
          1070.4504,
          686.6384839999998,
          994.0572179999999,
          954.4768,
          636.402168,
          1191.8256,
          1242.0408,
          1234.37,
          960.2978000000003,
          771.1098,
          820.4278000000002,
          638.2721,
          1045.463,
          1102.494,
          1264.3214999999998,
          1188.6776428509502,
          1179.6895333286602,
          1044.6406499954699,
          1188.12475832897,
          1174.7932,
          1083.0469999999998,
          1134.5159500000002,
          1144.6427999999996,
          1083.3336000000002,
          919.0463333294199,
          942.3620666628301,
          995.2719999624001,
          1119.6779999999999,
          1236.4715999999999,
          1635.1775000000005,
          1866.2654999999997,
          1816.4387999999997,
          1371.6,
          1808.1999999999998,
          1639.3999999999996,
          1289.8000000000002,
          1055.3,
          866.7,
          974,
          160.53333333,
          150.05277778,
          149.5162037,
          149.60563272000002,
          149.59072788,
          149.59321202,
          128.05,
          128.05
         ],
         "yaxis": "y"
        }
       ],
       "layout": {
        "barmode": "relative",
        "legend": {
         "tracegroupgap": 0
        },
        "margin": {
         "t": 60
        },
        "template": {
         "data": {
          "bar": [
           {
            "error_x": {
             "color": "#2a3f5f"
            },
            "error_y": {
             "color": "#2a3f5f"
            },
            "marker": {
             "line": {
              "color": "white",
              "width": 0.5
             },
             "pattern": {
              "fillmode": "overlay",
              "size": 10,
              "solidity": 0.2
             }
            },
            "type": "bar"
           }
          ],
          "barpolar": [
           {
            "marker": {
             "line": {
              "color": "white",
              "width": 0.5
             },
             "pattern": {
              "fillmode": "overlay",
              "size": 10,
              "solidity": 0.2
             }
            },
            "type": "barpolar"
           }
          ],
          "carpet": [
           {
            "aaxis": {
             "endlinecolor": "#2a3f5f",
             "gridcolor": "#C8D4E3",
             "linecolor": "#C8D4E3",
             "minorgridcolor": "#C8D4E3",
             "startlinecolor": "#2a3f5f"
            },
            "baxis": {
             "endlinecolor": "#2a3f5f",
             "gridcolor": "#C8D4E3",
             "linecolor": "#C8D4E3",
             "minorgridcolor": "#C8D4E3",
             "startlinecolor": "#2a3f5f"
            },
            "type": "carpet"
           }
          ],
          "choropleth": [
           {
            "colorbar": {
             "outlinewidth": 0,
             "ticks": ""
            },
            "type": "choropleth"
           }
          ],
          "contour": [
           {
            "colorbar": {
             "outlinewidth": 0,
             "ticks": ""
            },
            "colorscale": [
             [
              0,
              "#0d0887"
             ],
             [
              0.1111111111111111,
              "#46039f"
             ],
             [
              0.2222222222222222,
              "#7201a8"
             ],
             [
              0.3333333333333333,
              "#9c179e"
             ],
             [
              0.4444444444444444,
              "#bd3786"
             ],
             [
              0.5555555555555556,
              "#d8576b"
             ],
             [
              0.6666666666666666,
              "#ed7953"
             ],
             [
              0.7777777777777778,
              "#fb9f3a"
             ],
             [
              0.8888888888888888,
              "#fdca26"
             ],
             [
              1,
              "#f0f921"
             ]
            ],
            "type": "contour"
           }
          ],
          "contourcarpet": [
           {
            "colorbar": {
             "outlinewidth": 0,
             "ticks": ""
            },
            "type": "contourcarpet"
           }
          ],
          "heatmap": [
           {
            "colorbar": {
             "outlinewidth": 0,
             "ticks": ""
            },
            "colorscale": [
             [
              0,
              "#0d0887"
             ],
             [
              0.1111111111111111,
              "#46039f"
             ],
             [
              0.2222222222222222,
              "#7201a8"
             ],
             [
              0.3333333333333333,
              "#9c179e"
             ],
             [
              0.4444444444444444,
              "#bd3786"
             ],
             [
              0.5555555555555556,
              "#d8576b"
             ],
             [
              0.6666666666666666,
              "#ed7953"
             ],
             [
              0.7777777777777778,
              "#fb9f3a"
             ],
             [
              0.8888888888888888,
              "#fdca26"
             ],
             [
              1,
              "#f0f921"
             ]
            ],
            "type": "heatmap"
           }
          ],
          "heatmapgl": [
           {
            "colorbar": {
             "outlinewidth": 0,
             "ticks": ""
            },
            "colorscale": [
             [
              0,
              "#0d0887"
             ],
             [
              0.1111111111111111,
              "#46039f"
             ],
             [
              0.2222222222222222,
              "#7201a8"
             ],
             [
              0.3333333333333333,
              "#9c179e"
             ],
             [
              0.4444444444444444,
              "#bd3786"
             ],
             [
              0.5555555555555556,
              "#d8576b"
             ],
             [
              0.6666666666666666,
              "#ed7953"
             ],
             [
              0.7777777777777778,
              "#fb9f3a"
             ],
             [
              0.8888888888888888,
              "#fdca26"
             ],
             [
              1,
              "#f0f921"
             ]
            ],
            "type": "heatmapgl"
           }
          ],
          "histogram": [
           {
            "marker": {
             "pattern": {
              "fillmode": "overlay",
              "size": 10,
              "solidity": 0.2
             }
            },
            "type": "histogram"
           }
          ],
          "histogram2d": [
           {
            "colorbar": {
             "outlinewidth": 0,
             "ticks": ""
            },
            "colorscale": [
             [
              0,
              "#0d0887"
             ],
             [
              0.1111111111111111,
              "#46039f"
             ],
             [
              0.2222222222222222,
              "#7201a8"
             ],
             [
              0.3333333333333333,
              "#9c179e"
             ],
             [
              0.4444444444444444,
              "#bd3786"
             ],
             [
              0.5555555555555556,
              "#d8576b"
             ],
             [
              0.6666666666666666,
              "#ed7953"
             ],
             [
              0.7777777777777778,
              "#fb9f3a"
             ],
             [
              0.8888888888888888,
              "#fdca26"
             ],
             [
              1,
              "#f0f921"
             ]
            ],
            "type": "histogram2d"
           }
          ],
          "histogram2dcontour": [
           {
            "colorbar": {
             "outlinewidth": 0,
             "ticks": ""
            },
            "colorscale": [
             [
              0,
              "#0d0887"
             ],
             [
              0.1111111111111111,
              "#46039f"
             ],
             [
              0.2222222222222222,
              "#7201a8"
             ],
             [
              0.3333333333333333,
              "#9c179e"
             ],
             [
              0.4444444444444444,
              "#bd3786"
             ],
             [
              0.5555555555555556,
              "#d8576b"
             ],
             [
              0.6666666666666666,
              "#ed7953"
             ],
             [
              0.7777777777777778,
              "#fb9f3a"
             ],
             [
              0.8888888888888888,
              "#fdca26"
             ],
             [
              1,
              "#f0f921"
             ]
            ],
            "type": "histogram2dcontour"
           }
          ],
          "mesh3d": [
           {
            "colorbar": {
             "outlinewidth": 0,
             "ticks": ""
            },
            "type": "mesh3d"
           }
          ],
          "parcoords": [
           {
            "line": {
             "colorbar": {
              "outlinewidth": 0,
              "ticks": ""
             }
            },
            "type": "parcoords"
           }
          ],
          "pie": [
           {
            "automargin": true,
            "type": "pie"
           }
          ],
          "scatter": [
           {
            "fillpattern": {
             "fillmode": "overlay",
             "size": 10,
             "solidity": 0.2
            },
            "type": "scatter"
           }
          ],
          "scatter3d": [
           {
            "line": {
             "colorbar": {
              "outlinewidth": 0,
              "ticks": ""
             }
            },
            "marker": {
             "colorbar": {
              "outlinewidth": 0,
              "ticks": ""
             }
            },
            "type": "scatter3d"
           }
          ],
          "scattercarpet": [
           {
            "marker": {
             "colorbar": {
              "outlinewidth": 0,
              "ticks": ""
             }
            },
            "type": "scattercarpet"
           }
          ],
          "scattergeo": [
           {
            "marker": {
             "colorbar": {
              "outlinewidth": 0,
              "ticks": ""
             }
            },
            "type": "scattergeo"
           }
          ],
          "scattergl": [
           {
            "marker": {
             "colorbar": {
              "outlinewidth": 0,
              "ticks": ""
             }
            },
            "type": "scattergl"
           }
          ],
          "scattermapbox": [
           {
            "marker": {
             "colorbar": {
              "outlinewidth": 0,
              "ticks": ""
             }
            },
            "type": "scattermapbox"
           }
          ],
          "scatterpolar": [
           {
            "marker": {
             "colorbar": {
              "outlinewidth": 0,
              "ticks": ""
             }
            },
            "type": "scatterpolar"
           }
          ],
          "scatterpolargl": [
           {
            "marker": {
             "colorbar": {
              "outlinewidth": 0,
              "ticks": ""
             }
            },
            "type": "scatterpolargl"
           }
          ],
          "scatterternary": [
           {
            "marker": {
             "colorbar": {
              "outlinewidth": 0,
              "ticks": ""
             }
            },
            "type": "scatterternary"
           }
          ],
          "surface": [
           {
            "colorbar": {
             "outlinewidth": 0,
             "ticks": ""
            },
            "colorscale": [
             [
              0,
              "#0d0887"
             ],
             [
              0.1111111111111111,
              "#46039f"
             ],
             [
              0.2222222222222222,
              "#7201a8"
             ],
             [
              0.3333333333333333,
              "#9c179e"
             ],
             [
              0.4444444444444444,
              "#bd3786"
             ],
             [
              0.5555555555555556,
              "#d8576b"
             ],
             [
              0.6666666666666666,
              "#ed7953"
             ],
             [
              0.7777777777777778,
              "#fb9f3a"
             ],
             [
              0.8888888888888888,
              "#fdca26"
             ],
             [
              1,
              "#f0f921"
             ]
            ],
            "type": "surface"
           }
          ],
          "table": [
           {
            "cells": {
             "fill": {
              "color": "#EBF0F8"
             },
             "line": {
              "color": "white"
             }
            },
            "header": {
             "fill": {
              "color": "#C8D4E3"
             },
             "line": {
              "color": "white"
             }
            },
            "type": "table"
           }
          ]
         },
         "layout": {
          "annotationdefaults": {
           "arrowcolor": "#2a3f5f",
           "arrowhead": 0,
           "arrowwidth": 1
          },
          "autotypenumbers": "strict",
          "coloraxis": {
           "colorbar": {
            "outlinewidth": 0,
            "ticks": ""
           }
          },
          "colorscale": {
           "diverging": [
            [
             0,
             "#8e0152"
            ],
            [
             0.1,
             "#c51b7d"
            ],
            [
             0.2,
             "#de77ae"
            ],
            [
             0.3,
             "#f1b6da"
            ],
            [
             0.4,
             "#fde0ef"
            ],
            [
             0.5,
             "#f7f7f7"
            ],
            [
             0.6,
             "#e6f5d0"
            ],
            [
             0.7,
             "#b8e186"
            ],
            [
             0.8,
             "#7fbc41"
            ],
            [
             0.9,
             "#4d9221"
            ],
            [
             1,
             "#276419"
            ]
           ],
           "sequential": [
            [
             0,
             "#0d0887"
            ],
            [
             0.1111111111111111,
             "#46039f"
            ],
            [
             0.2222222222222222,
             "#7201a8"
            ],
            [
             0.3333333333333333,
             "#9c179e"
            ],
            [
             0.4444444444444444,
             "#bd3786"
            ],
            [
             0.5555555555555556,
             "#d8576b"
            ],
            [
             0.6666666666666666,
             "#ed7953"
            ],
            [
             0.7777777777777778,
             "#fb9f3a"
            ],
            [
             0.8888888888888888,
             "#fdca26"
            ],
            [
             1,
             "#f0f921"
            ]
           ],
           "sequentialminus": [
            [
             0,
             "#0d0887"
            ],
            [
             0.1111111111111111,
             "#46039f"
            ],
            [
             0.2222222222222222,
             "#7201a8"
            ],
            [
             0.3333333333333333,
             "#9c179e"
            ],
            [
             0.4444444444444444,
             "#bd3786"
            ],
            [
             0.5555555555555556,
             "#d8576b"
            ],
            [
             0.6666666666666666,
             "#ed7953"
            ],
            [
             0.7777777777777778,
             "#fb9f3a"
            ],
            [
             0.8888888888888888,
             "#fdca26"
            ],
            [
             1,
             "#f0f921"
            ]
           ]
          },
          "colorway": [
           "#6568a0",
           "#43d7a4",
           "#4095db",
           "#facc5f",
           "#cae279",
           "#7db64f",
           "#f08083",
           "#5bcdf2",
           "#f099dc",
           "#965858"
          ],
          "font": {
           "color": "#05192D",
           "family": "Studio-Feixen-Sans, Arial, sans-serif"
          },
          "geo": {
           "bgcolor": "white",
           "lakecolor": "white",
           "landcolor": "white",
           "showlakes": true,
           "showland": true,
           "subunitcolor": "#C8D4E3"
          },
          "hoverlabel": {
           "align": "left",
           "font": {
            "family": "Studio-Feixen-Sans, Arial, sans-serif"
           }
          },
          "hovermode": "closest",
          "mapbox": {
           "style": "light"
          },
          "paper_bgcolor": "white",
          "plot_bgcolor": "white",
          "polar": {
           "angularaxis": {
            "gridcolor": "#EBF0F8",
            "linecolor": "#EBF0F8",
            "ticks": ""
           },
           "bgcolor": "white",
           "radialaxis": {
            "gridcolor": "#EBF0F8",
            "linecolor": "#EBF0F8",
            "ticks": ""
           }
          },
          "scene": {
           "xaxis": {
            "backgroundcolor": "white",
            "gridcolor": "#DFE8F3",
            "gridwidth": 2,
            "linecolor": "#EBF0F8",
            "showbackground": true,
            "ticks": "",
            "zerolinecolor": "#EBF0F8"
           },
           "yaxis": {
            "backgroundcolor": "white",
            "gridcolor": "#DFE8F3",
            "gridwidth": 2,
            "linecolor": "#EBF0F8",
            "showbackground": true,
            "ticks": "",
            "zerolinecolor": "#EBF0F8"
           },
           "zaxis": {
            "backgroundcolor": "white",
            "gridcolor": "#DFE8F3",
            "gridwidth": 2,
            "linecolor": "#EBF0F8",
            "showbackground": true,
            "ticks": "",
            "zerolinecolor": "#EBF0F8"
           }
          },
          "shapedefaults": {
           "line": {
            "color": "#2a3f5f"
           }
          },
          "ternary": {
           "aaxis": {
            "gridcolor": "#DFE8F3",
            "linecolor": "#A2B1C6",
            "ticks": ""
           },
           "baxis": {
            "gridcolor": "#DFE8F3",
            "linecolor": "#A2B1C6",
            "ticks": ""
           },
           "bgcolor": "white",
           "caxis": {
            "gridcolor": "#DFE8F3",
            "linecolor": "#A2B1C6",
            "ticks": ""
           }
          },
          "title": {
           "x": 0.05
          },
          "xaxis": {
           "automargin": true,
           "gridcolor": "#EBF0F8",
           "linecolor": "#EBF0F8",
           "ticks": "",
           "title": {
            "standoff": 15
           },
           "zerolinecolor": "#EBF0F8",
           "zerolinewidth": 2
          },
          "yaxis": {
           "automargin": true,
           "gridcolor": "#EBF0F8",
           "linecolor": "#EBF0F8",
           "ticks": "",
           "title": {
            "standoff": 15
           },
           "zerolinecolor": "#EBF0F8",
           "zerolinewidth": 2
          }
         }
        },
        "xaxis": {
         "anchor": "y",
         "domain": [
          0,
          1
         ],
         "title": {
          "text": "fiscal_year"
         }
        },
        "yaxis": {
         "anchor": "x",
         "domain": [
          0,
          1
         ],
         "title": {
          "text": "adjusted_total_cost_musd"
         }
        }
       }
      }
     },
     "metadata": {},
     "output_type": "display_data"
    }
   ],
   "source": [
    "import plotly.express as px\n",
    "\n",
    "px.bar(\n",
    "    total_cost_by_year, x = 'fiscal_year', y = 'adjusted_total_cost_musd'\n",
    ")"
   ]
  },
  {
   "attachments": {
    "image.png": {
     "image/png": "[encoded data removed]"
    }
   },
   "cell_type": "markdown",
   "id": "fe7315e4",
   "metadata": {},
   "source": [
    "![image.png](attachment:image.png)"
   ]
  },
  {
   "cell_type": "markdown",
   "id": "7880ca7c-685d-4dd5-b806-97a1afecbbb6",
   "metadata": {},
   "source": [
    "The bar plot of total cost vs. year shows the variation in NASA's budget over time, adjusted for inflation. From the plot, we can observe periods of increased spending, which may correspond to significant missions or projects, as well as periods of reduced spending, possibly due to economic downturns or shifts in political priorities. Notable peaks in the budget could indicate years when major missions were launched or significant investments were made in space exploration. Conversely, troughs might reflect budget cuts or reallocation of funds to other areas. Overall, the plot provides a visual representation of how NASA's financial resources have fluctuated over the years, offering insights into the economic and political factors influencing space exploration funding."
   ]
  },
  {
   "cell_type": "markdown",
   "id": "7058ff4a-a1e8-4265-88f3-3e93181d290a",
   "metadata": {},
   "source": [
    "## How much was spent on each destination?"
   ]
  },
  {
   "cell_type": "markdown",
   "id": "3589e3fa-4bbf-441d-8208-c6ac08e22db6",
   "metadata": {},
   "source": [
    "The 1960s was famous for the \"Space Race\" between the United States and Russia to be the first to get a man on the moon. In the time since then, attention has also been turned to the other planets in the solar system and to small bodies like asteroids and comets.\n",
    "\n",
    "To analyze spending by destination, we'll need to look at the `mission_details` table. Each row represenats one mission. There are 4 columns:\n",
    "\n",
    "- `mission`: The name of the mission.\n",
    "- `mission_full_name`: The formal name of the mission.\n",
    "- `destination`: The place in the solar system that the mission is exploring.\n",
    "- `program`: The name of the NASA program that the mission is part of."
   ]
  },
  {
   "cell_type": "markdown",
   "id": "1cd153ca-928a-47dd-a1fe-255ad044f4c9",
   "metadata": {},
   "source": [
    "### Instructions\n",
    "\n",
    "- Join the budgets to the mission details on the `mission` column.\n",
    "- Calculate the total cost by destination."
   ]
  },
  {
   "cell_type": "code",
   "execution_count": 11,
   "id": "b667ab79-1707-4a32-b682-27a1e4f9b7de",
   "metadata": {
    "customType": "sql",
    "dataFrameVariableName": "df",
    "executionCancelledAt": null,
    "executionTime": null,
    "initial": false,
    "integrationId": "8f6c6137-732b-4eab-9ebb-dd4683402e9f",
    "lastExecutedAt": null,
    "lastExecutedByKernel": null,
    "lastScheduledRunId": null,
    "lastSuccessfullyExecutedCode": null,
    "outputsMetadata": {
     "0": {
      "height": 50,
      "tableState": {
       "customFilter": {
        "const": {
         "type": "boolean",
         "valid": true,
         "value": true
        },
        "id": "415791f4-dcd5-4e9a-9656-a395c2605dcd",
        "nodeType": "const"
       },
       "quickFilterText": ""
      },
      "type": "dataFrame"
     }
    },
    "sqlSource": {
     "integrationId": "fe69b2d4-166e-4f4c-8c2b-bc2ed932b8da",
     "integrationType": "postgresql",
     "type": "integration"
    }
   },
   "outputs": [
    {
     "data": {
      "application/com.datacamp.data-table.v2+json": {
       "table": {
        "data": {
         "adjusted_total_cost_musd": [
          31725.3485936077,
          21827.5647858509,
          12982.887263,
          7365.86016243,
          4796.7030106715,
          1519.605957,
          427.2201,
          347.40411
         ],
         "destination": [
          "Mars",
          "Outer Planets",
          "The Moon",
          "Small Bodies",
          "Venus",
          "Mercury",
          "Earth-Sun L1",
          "The Sun"
         ],
         "index": [
          0,
          1,
          2,
          3,
          4,
          5,
          6,
          7
         ]
        },
        "schema": {
         "fields": [
          {
           "name": "index",
           "type": "integer"
          },
          {
           "name": "destination",
           "type": "string"
          },
          {
           "name": "adjusted_total_cost_musd",
           "type": "number"
          }
         ],
         "pandas_version": "1.4.0",
         "primaryKey": [
          "index"
         ]
        }
       },
       "total_rows": 8,
       "truncation_type": null
      },
      "text/html": [
       "<div>\n",
       "<style scoped>\n",
       "    .dataframe tbody tr th:only-of-type {\n",
       "        vertical-align: middle;\n",
       "    }\n",
       "\n",
       "    .dataframe tbody tr th {\n",
       "        vertical-align: top;\n",
       "    }\n",
       "\n",
       "    .dataframe thead th {\n",
       "        text-align: right;\n",
       "    }\n",
       "</style>\n",
       "<table border=\"1\" class=\"dataframe\">\n",
       "  <thead>\n",
       "    <tr style=\"text-align: right;\">\n",
       "      <th></th>\n",
       "      <th>destination</th>\n",
       "      <th>adjusted_total_cost_musd</th>\n",
       "    </tr>\n",
       "  </thead>\n",
       "  <tbody>\n",
       "    <tr>\n",
       "      <th>0</th>\n",
       "      <td>Mars</td>\n",
       "      <td>31725.348594</td>\n",
       "    </tr>\n",
       "    <tr>\n",
       "      <th>1</th>\n",
       "      <td>Outer Planets</td>\n",
       "      <td>21827.564786</td>\n",
       "    </tr>\n",
       "    <tr>\n",
       "      <th>2</th>\n",
       "      <td>The Moon</td>\n",
       "      <td>12982.887263</td>\n",
       "    </tr>\n",
       "    <tr>\n",
       "      <th>3</th>\n",
       "      <td>Small Bodies</td>\n",
       "      <td>7365.860162</td>\n",
       "    </tr>\n",
       "    <tr>\n",
       "      <th>4</th>\n",
       "      <td>Venus</td>\n",
       "      <td>4796.703011</td>\n",
       "    </tr>\n",
       "    <tr>\n",
       "      <th>5</th>\n",
       "      <td>Mercury</td>\n",
       "      <td>1519.605957</td>\n",
       "    </tr>\n",
       "    <tr>\n",
       "      <th>6</th>\n",
       "      <td>Earth-Sun L1</td>\n",
       "      <td>427.220100</td>\n",
       "    </tr>\n",
       "    <tr>\n",
       "      <th>7</th>\n",
       "      <td>The Sun</td>\n",
       "      <td>347.404110</td>\n",
       "    </tr>\n",
       "  </tbody>\n",
       "</table>\n",
       "</div>"
      ],
      "text/plain": [
       "     destination  adjusted_total_cost_musd\n",
       "0           Mars              31725.348594\n",
       "1  Outer Planets              21827.564786\n",
       "2       The Moon              12982.887263\n",
       "3   Small Bodies               7365.860162\n",
       "4          Venus               4796.703011\n",
       "5        Mercury               1519.605957\n",
       "6   Earth-Sun L1                427.220100\n",
       "7        The Sun                347.404110"
      ]
     },
     "execution_count": 11,
     "metadata": {
      "application/com.datacamp.data-table.v2+json": {
       "status": "success"
      }
     },
     "output_type": "execute_result"
    }
   ],
   "source": [
    "-- Calculate the inflation adjusted total cost per destination\n",
    "SELECT destination, SUM(\"cost_MUSD\" * inflation_adjustment) AS adjusted_total_cost_MUSD\n",
    "FROM mission_budgets\n",
    "LEFT JOIN inflation\n",
    "\tUSING(fiscal_year)\n",
    "LEFT JOIN mission_details\n",
    "\tUSING(mission)\n",
    "GROUP BY destination\n",
    "ORDER BY adjusted_total_cost_MUSD DESC"
   ]
  },
  {
   "cell_type": "markdown",
   "id": "99be7924-1468-4feb-8aef-e09023ef443b",
   "metadata": {},
   "source": [
    "## How did spending by destination change over time?"
   ]
  },
  {
   "cell_type": "markdown",
   "id": "ae853d7f-7918-4a90-8af1-ebaf953ab655",
   "metadata": {},
   "source": [
    "You've already looked at spending by year and spending by destination individually. You can get more insight by looking at both of these things together."
   ]
  },
  {
   "cell_type": "markdown",
   "id": "ac83f7b3-f53b-42bc-a5b3-790cf0bdace7",
   "metadata": {},
   "source": [
    "### Instructions\n",
    "\n",
    "- Join the budgets, inflation adjustment and details tables as before.\n",
    "- Group the budgets by fiscal year and destination.\n",
    "- Calculate the total adjusted cost for each group.\n",
    "- Store the data frame as `total_cost_by_year_and_destination`."
   ]
  },
  {
   "cell_type": "code",
   "execution_count": 13,
   "id": "afe5f293-8871-4592-a851-039ae045680e",
   "metadata": {
    "customType": "sql",
    "dataFrameVariableName": "total_cost_by_date_and_destination",
    "executionCancelledAt": null,
    "executionTime": 862,
    "initial": false,
    "integrationId": "8f6c6137-732b-4eab-9ebb-dd4683402e9f",
    "lastExecutedAt": 1740617847417,
    "lastExecutedByKernel": "ca32c1d4-6311-424c-806b-632141c51b80",
    "lastScheduledRunId": null,
    "lastSuccessfullyExecutedCode": "-- Calculate the inflation adjusted total cost per year per destination\nSELECT fiscal_year, destination, SUM(\"cost_MUSD\" * inflation_adjustment) AS adjusted_total_cost_MUSD\nFROM mission_budgets\nLEFT JOIN inflation\n\tUSING(fiscal_year)\nLEFT JOIN mission_details\n\tUSING(mission)\nGROUP BY fiscal_year, destination\nORDER BY fiscal_year, destination",
    "outputsMetadata": {
     "0": {
      "height": 550,
      "tableState": {
       "customFilter": {
        "const": {
         "type": "boolean",
         "valid": true,
         "value": true
        },
        "id": "415791f4-dcd5-4e9a-9656-a395c2605dcd",
        "nodeType": "const"
       },
       "quickFilterText": ""
      },
      "type": "dataFrame"
     }
    },
    "sqlSource": {
     "integrationId": "fe69b2d4-166e-4f4c-8c2b-bc2ed932b8da",
     "integrationType": "postgresql",
     "type": "integration"
    }
   },
   "outputs": [
    {
     "data": {
      "application/com.datacamp.data-table.v2+json": {
       "table": {
        "data": {
         "adjusted_total_cost_musd": [
          261.139746,
          674.84976,
          1248.17475,
          376.3137,
          382.5222,
          31.443806,
          1703.895821,
          150.506848,
          447.89301,
          203.7447,
          1761.29811,
          281.687166,
          206.194293,
          2132.181027,
          24.524505,
          175.389597,
          2029.337145,
          266.7762,
          401.78156,
          81.267404,
          1229.894104,
          120.724696,
          662.308276,
          80.7415,
          408.457,
          32.2966,
          630.671712,
          64.97601,
          944.702997,
          7.5663,
          210.175,
          2.5221,
          574.027311,
          106.028054,
          591.561564,
          15.0271,
          1521.0906,
          392.0568,
          261.338778,
          18.705,
          1928.496575,
          264.096253,
          105.986788,
          144.871735,
          2069.624511,
          73.75551,
          342.49761,
          151.373775,
          567.48736,
          31.73104,
          488.04652,
          8.344,
          165.18736,
          215.9465,
          635.2654,
          6.5604,
          379.4098,
          62.118,
          141.259545,
          110.8485,
          125.349,
          306.300645,
          433.7865,
          91.56,
          181.659618,
          43.53678,
          20.905,
          420.888727,
          37.629,
          9.25365,
          552.1974,
          31.164027,
          330.974846,
          16.1257,
          455.026,
          16.1221333344,
          363.7056,
          15.154400001,
          385.4004,
          96.6812000009,
          35.672,
          333.220384,
          345.6525333342,
          140.3928,
          282.1176,
          387.7896000009,
          91.6122,
          295.833195,
          292.4937,
          131.0309,
          270.37582,
          309.4663,
          278.28,
          517.6008,
          274.5696,
          368.624718,
          213.483333,
          104.530433,
          427.174776,
          460.853442,
          106.029,
          253.2784,
          596.1408,
          105.0576,
          47.4822,
          575.241968,
          13.678,
          172.7256,
          823.812,
          172.9152,
          22.3728,
          350.0112,
          770.0616,
          121.968,
          360.0396,
          655.027,
          153.7106,
          65.5928,
          1.4224,
          269.1892,
          462.6356,
          190.4238,
          36.6268,
          75.7758,
          292.3524,
          169.4118,
          225.42,
          8.1498,
          140.3497,
          429.6834,
          2.8781,
          136.4558,
          107.3362,
          3.7246,
          101.3621,
          239.0063,
          15.6192,
          123.9774,
          158.3071,
          46.472,
          557.978,
          81.326,
          114.767,
          244.92,
          15.5754,
          551.7051,
          148.7298,
          126.1302,
          260.3535,
          14.95,
          610.7075,
          129.6165,
          136.7925,
          372.255,
          13.4385,
          573.087,
          61.1235,
          120.244642851,
          420.784,
          13.5994,
          593.6535333287,
          10.7954,
          117.3474,
          444.2938,
          2.5821,
          659.4320999955,
          11.1438,
          165.32235,
          206.1603,
          1.4399,
          823.928233329,
          12.3046,
          221.28645,
          127.594775,
          1.5708,
          0.2528,
          791.6432,
          14.536,
          222.78,
          54.3204,
          91.2608,
          360.964,
          20.212,
          423.274,
          51.553,
          227.044,
          439.9131,
          19.3234,
          413.80205,
          50.7545,
          210.7229,
          554.0808,
          27.3308,
          312.3176,
          48.762,
          202.1516,
          654.9309,
          41.5659,
          95.28,
          172.2186,
          119.3382,
          467.7607333294,
          19.4884,
          176.9218,
          189.4836,
          65.3918,
          493.3569666628,
          14.0422,
          166.5497,
          255.1767,
          13.2365,
          464.2095999624,
          6.768,
          235.752,
          288.5424,
          625.2834,
          7.5684,
          285.5958,
          201.2304,
          639.366,
          392.028,
          205.0776,
          783.8182,
          605.6292,
          245.7301,
          709.346,
          591.9925,
          523.4405,
          41.4865,
          550.5786,
          647.6613,
          562.0362,
          56.1627,
          331.9,
          476.3,
          437.6,
          122.3,
          3.5,
          892.3,
          509.7,
          263,
          129.7,
          13.5,
          1025.8,
          380.6,
          112,
          98.2,
          22.8,
          803.6,
          303.3,
          91.2,
          35,
          56.7,
          703,
          101.2,
          84.4,
          3.4,
          163.3,
          602.4,
          80.6,
          76.4,
          1.8,
          105.5,
          612.1,
          77.7,
          105.9,
          0.8,
          177.5,
          128.05,
          32.48333333,
          128.05,
          22.00277778,
          128.05,
          21.4662037,
          128.05,
          21.55563272,
          128.05,
          21.54072788,
          128.05,
          21.54321202,
          128.05,
          128.05
         ],
         "destination": [
          "The Moon",
          "The Moon",
          "The Moon",
          "Venus",
          "Mars",
          "Outer Planets",
          "The Moon",
          "Venus",
          "Mars",
          "Outer Planets",
          "The Moon",
          "Mars",
          "Outer Planets",
          "The Moon",
          "Mars",
          "Outer Planets",
          "The Moon",
          "Venus",
          "Mars",
          "Outer Planets",
          "The Moon",
          "Venus",
          "Mars",
          "Outer Planets",
          "The Moon",
          "Venus",
          "Mars",
          "Outer Planets",
          "Mars",
          "Mercury",
          "Outer Planets",
          "The Sun",
          "Mars",
          "Mercury",
          "Outer Planets",
          "The Sun",
          "Mars",
          "Mercury",
          "Outer Planets",
          "The Sun",
          "Mars",
          "Mercury",
          "Outer Planets",
          "The Sun",
          "Mars",
          "Mercury",
          "Outer Planets",
          "The Sun",
          "Mars",
          "Mercury",
          "Outer Planets",
          "The Sun",
          "Venus",
          "Mars",
          "Outer Planets",
          "The Sun",
          "Venus",
          "Mars",
          "Outer Planets",
          "Venus",
          "Mars",
          "Outer Planets",
          "Venus",
          "Mars",
          "Outer Planets",
          "Venus",
          "Mars",
          "Outer Planets",
          "Venus",
          "Mars",
          "Outer Planets",
          "Venus",
          "Outer Planets",
          "Venus",
          "Outer Planets",
          "Venus",
          "Outer Planets",
          "Venus",
          "Outer Planets",
          "Venus",
          "Mars",
          "Outer Planets",
          "Venus",
          "Mars",
          "Outer Planets",
          "Venus",
          "Mars",
          "Outer Planets",
          "Venus",
          "Mars",
          "Outer Planets",
          "Venus",
          "Mars",
          "Outer Planets",
          "Venus",
          "Mars",
          "Outer Planets",
          "Venus",
          "Mars",
          "Outer Planets",
          "Venus",
          "Mars",
          "Outer Planets",
          "Venus",
          "Mars",
          "Outer Planets",
          "Venus",
          "Mars",
          "Outer Planets",
          "Small Bodies",
          "Venus",
          "Mars",
          "Outer Planets",
          "Small Bodies",
          "Mars",
          "Outer Planets",
          "Small Bodies",
          "The Moon",
          "Earth-Sun L1",
          "Mars",
          "Outer Planets",
          "Small Bodies",
          "The Moon",
          "Earth-Sun L1",
          "Mars",
          "Outer Planets",
          "Small Bodies",
          "The Moon",
          "Earth-Sun L1",
          "Mars",
          "Mercury",
          "Outer Planets",
          "Small Bodies",
          "The Moon",
          "Earth-Sun L1",
          "Mars",
          "Mercury",
          "Outer Planets",
          "Small Bodies",
          "Earth-Sun L1",
          "Mars",
          "Mercury",
          "Outer Planets",
          "Small Bodies",
          "Earth-Sun L1",
          "Mars",
          "Mercury",
          "Outer Planets",
          "Small Bodies",
          "Earth-Sun L1",
          "Mars",
          "Mercury",
          "Outer Planets",
          "Small Bodies",
          "Earth-Sun L1",
          "Mars",
          "Mercury",
          "Outer Planets",
          "Small Bodies",
          "Earth-Sun L1",
          "Mars",
          "Mercury",
          "Outer Planets",
          "Small Bodies",
          "Earth-Sun L1",
          "Mars",
          "Mercury",
          "Outer Planets",
          "Small Bodies",
          "Earth-Sun L1",
          "Mars",
          "Mercury",
          "Outer Planets",
          "Small Bodies",
          "The Moon",
          "Earth-Sun L1",
          "Mars",
          "Mercury",
          "Outer Planets",
          "Small Bodies",
          "The Moon",
          "Mars",
          "Mercury",
          "Outer Planets",
          "Small Bodies",
          "The Moon",
          "Mars",
          "Mercury",
          "Outer Planets",
          "Small Bodies",
          "The Moon",
          "Mars",
          "Mercury",
          "Outer Planets",
          "Small Bodies",
          "The Moon",
          "Mars",
          "Mercury",
          "Outer Planets",
          "Small Bodies",
          "The Moon",
          "Mars",
          "Mercury",
          "Outer Planets",
          "Small Bodies",
          "The Moon",
          "Mars",
          "Mercury",
          "Outer Planets",
          "Small Bodies",
          "The Moon",
          "Mars",
          "Mercury",
          "Outer Planets",
          "Small Bodies",
          "Mars",
          "Mercury",
          "Outer Planets",
          "Small Bodies",
          "Mars",
          "Outer Planets",
          "Small Bodies",
          "Mars",
          "Outer Planets",
          "Small Bodies",
          "Mars",
          "Outer Planets",
          "Small Bodies",
          "The Moon",
          "Mars",
          "Outer Planets",
          "Small Bodies",
          "The Moon",
          "Mars",
          "Outer Planets",
          "Small Bodies",
          "The Moon",
          "Venus",
          "Mars",
          "Outer Planets",
          "Small Bodies",
          "The Moon",
          "Venus",
          "Mars",
          "Outer Planets",
          "Small Bodies",
          "The Moon",
          "Venus",
          "Mars",
          "Outer Planets",
          "Small Bodies",
          "The Moon",
          "Venus",
          "Mars",
          "Outer Planets",
          "Small Bodies",
          "The Moon",
          "Venus",
          "Mars",
          "Outer Planets",
          "Small Bodies",
          "The Moon",
          "Venus",
          "Mars",
          "Outer Planets",
          "Small Bodies",
          "The Moon",
          "Venus",
          "Outer Planets",
          "Small Bodies",
          "Outer Planets",
          "Small Bodies",
          "Outer Planets",
          "Small Bodies",
          "Outer Planets",
          "Small Bodies",
          "Outer Planets",
          "Small Bodies",
          "Outer Planets",
          "Small Bodies",
          "Outer Planets",
          "Outer Planets"
         ],
         "fiscal_year": [
          "1960",
          "1961",
          "1962",
          "1962",
          "1963",
          "1963",
          "1963",
          "1963",
          "1964",
          "1964",
          "1964",
          "1965",
          "1965",
          "1965",
          "1966",
          "1966",
          "1966",
          "1966",
          "1967",
          "1967",
          "1967",
          "1967",
          "1968",
          "1968",
          "1968",
          "1968",
          "1969",
          "1969",
          "1970",
          "1970",
          "1970",
          "1970",
          "1971",
          "1971",
          "1971",
          "1971",
          "1972",
          "1972",
          "1972",
          "1972",
          "1973",
          "1973",
          "1973",
          "1973",
          "1974",
          "1974",
          "1974",
          "1974",
          "1975",
          "1975",
          "1975",
          "1975",
          "1975",
          "1976",
          "1976",
          "1976",
          "1976",
          "1976TQ",
          "1976TQ",
          "1976TQ",
          "1977",
          "1977",
          "1977",
          "1978",
          "1978",
          "1978",
          "1979",
          "1979",
          "1979",
          "1980",
          "1980",
          "1980",
          "1981",
          "1981",
          "1982",
          "1982",
          "1983",
          "1983",
          "1984",
          "1984",
          "1985",
          "1985",
          "1985",
          "1986",
          "1986",
          "1986",
          "1987",
          "1987",
          "1987",
          "1988",
          "1988",
          "1988",
          "1989",
          "1989",
          "1989",
          "1990",
          "1990",
          "1990",
          "1991",
          "1991",
          "1991",
          "1992",
          "1992",
          "1992",
          "1993",
          "1993",
          "1993",
          "1994",
          "1994",
          "1994",
          "1994",
          "1995",
          "1995",
          "1995",
          "1996",
          "1996",
          "1996",
          "1996",
          "1997",
          "1997",
          "1997",
          "1997",
          "1997",
          "1998",
          "1998",
          "1998",
          "1998",
          "1998",
          "1999",
          "1999",
          "1999",
          "1999",
          "1999",
          "1999",
          "2000",
          "2000",
          "2000",
          "2000",
          "2000",
          "2001",
          "2001",
          "2001",
          "2001",
          "2001",
          "2002",
          "2002",
          "2002",
          "2002",
          "2002",
          "2003",
          "2003",
          "2003",
          "2003",
          "2003",
          "2004",
          "2004",
          "2004",
          "2004",
          "2004",
          "2005",
          "2005",
          "2005",
          "2005",
          "2005",
          "2006",
          "2006",
          "2006",
          "2006",
          "2006",
          "2007",
          "2007",
          "2007",
          "2007",
          "2007",
          "2007",
          "2008",
          "2008",
          "2008",
          "2008",
          "2008",
          "2008",
          "2009",
          "2009",
          "2009",
          "2009",
          "2009",
          "2010",
          "2010",
          "2010",
          "2010",
          "2010",
          "2011",
          "2011",
          "2011",
          "2011",
          "2011",
          "2012",
          "2012",
          "2012",
          "2012",
          "2012",
          "2013",
          "2013",
          "2013",
          "2013",
          "2013",
          "2014",
          "2014",
          "2014",
          "2014",
          "2014",
          "2015",
          "2015",
          "2015",
          "2015",
          "2016",
          "2016",
          "2016",
          "2016",
          "2017",
          "2017",
          "2017",
          "2018",
          "2018",
          "2018",
          "2019",
          "2019",
          "2019",
          "2019",
          "2020",
          "2020",
          "2020",
          "2020",
          "2021",
          "2021",
          "2021",
          "2021",
          "2021",
          "2022",
          "2022",
          "2022",
          "2022",
          "2022",
          "2023",
          "2023",
          "2023",
          "2023",
          "2023",
          "2024",
          "2024",
          "2024",
          "2024",
          "2024",
          "2025",
          "2025",
          "2025",
          "2025",
          "2025",
          "2026",
          "2026",
          "2026",
          "2026",
          "2026",
          "2027",
          "2027",
          "2027",
          "2027",
          "2027",
          "2028",
          "2028",
          "2029",
          "2029",
          "2030",
          "2030",
          "2031",
          "2031",
          "2032",
          "2032",
          "2033",
          "2033",
          "2034",
          "2035"
         ],
         "index": [
          0,
          1,
          2,
          3,
          4,
          5,
          6,
          7,
          8,
          9,
          10,
          11,
          12,
          13,
          14,
          15,
          16,
          17,
          18,
          19,
          20,
          21,
          22,
          23,
          24,
          25,
          26,
          27,
          28,
          29,
          30,
          31,
          32,
          33,
          34,
          35,
          36,
          37,
          38,
          39,
          40,
          41,
          42,
          43,
          44,
          45,
          46,
          47,
          48,
          49,
          50,
          51,
          52,
          53,
          54,
          55,
          56,
          57,
          58,
          59,
          60,
          61,
          62,
          63,
          64,
          65,
          66,
          67,
          68,
          69,
          70,
          71,
          72,
          73,
          74,
          75,
          76,
          77,
          78,
          79,
          80,
          81,
          82,
          83,
          84,
          85,
          86,
          87,
          88,
          89,
          90,
          91,
          92,
          93,
          94,
          95,
          96,
          97,
          98,
          99,
          100,
          101,
          102,
          103,
          104,
          105,
          106,
          107,
          108,
          109,
          110,
          111,
          112,
          113,
          114,
          115,
          116,
          117,
          118,
          119,
          120,
          121,
          122,
          123,
          124,
          125,
          126,
          127,
          128,
          129,
          130,
          131,
          132,
          133,
          134,
          135,
          136,
          137,
          138,
          139,
          140,
          141,
          142,
          143,
          144,
          145,
          146,
          147,
          148,
          149,
          150,
          151,
          152,
          153,
          154,
          155,
          156,
          157,
          158,
          159,
          160,
          161,
          162,
          163,
          164,
          165,
          166,
          167,
          168,
          169,
          170,
          171,
          172,
          173,
          174,
          175,
          176,
          177,
          178,
          179,
          180,
          181,
          182,
          183,
          184,
          185,
          186,
          187,
          188,
          189,
          190,
          191,
          192,
          193,
          194,
          195,
          196,
          197,
          198,
          199,
          200,
          201,
          202,
          203,
          204,
          205,
          206,
          207,
          208,
          209,
          210,
          211,
          212,
          213,
          214,
          215,
          216,
          217,
          218,
          219,
          220,
          221,
          222,
          223,
          224,
          225,
          226,
          227,
          228,
          229,
          230,
          231,
          232,
          233,
          234,
          235,
          236,
          237,
          238,
          239,
          240,
          241,
          242,
          243,
          244,
          245,
          246,
          247,
          248,
          249,
          250,
          251,
          252,
          253,
          254,
          255,
          256,
          257,
          258,
          259,
          260,
          261,
          262,
          263,
          264,
          265,
          266,
          267,
          268,
          269,
          270,
          271,
          272,
          273,
          274,
          275,
          276,
          277,
          278,
          279,
          280,
          281
         ]
        },
        "schema": {
         "fields": [
          {
           "name": "index",
           "type": "integer"
          },
          {
           "name": "fiscal_year",
           "type": "string"
          },
          {
           "name": "destination",
           "type": "string"
          },
          {
           "name": "adjusted_total_cost_musd",
           "type": "number"
          }
         ],
         "pandas_version": "1.4.0",
         "primaryKey": [
          "index"
         ]
        }
       },
       "total_rows": 282,
       "truncation_type": null
      },
      "text/html": [
       "<div>\n",
       "<style scoped>\n",
       "    .dataframe tbody tr th:only-of-type {\n",
       "        vertical-align: middle;\n",
       "    }\n",
       "\n",
       "    .dataframe tbody tr th {\n",
       "        vertical-align: top;\n",
       "    }\n",
       "\n",
       "    .dataframe thead th {\n",
       "        text-align: right;\n",
       "    }\n",
       "</style>\n",
       "<table border=\"1\" class=\"dataframe\">\n",
       "  <thead>\n",
       "    <tr style=\"text-align: right;\">\n",
       "      <th></th>\n",
       "      <th>fiscal_year</th>\n",
       "      <th>destination</th>\n",
       "      <th>adjusted_total_cost_musd</th>\n",
       "    </tr>\n",
       "  </thead>\n",
       "  <tbody>\n",
       "    <tr>\n",
       "      <th>0</th>\n",
       "      <td>1960</td>\n",
       "      <td>The Moon</td>\n",
       "      <td>261.139746</td>\n",
       "    </tr>\n",
       "    <tr>\n",
       "      <th>1</th>\n",
       "      <td>1961</td>\n",
       "      <td>The Moon</td>\n",
       "      <td>674.849760</td>\n",
       "    </tr>\n",
       "    <tr>\n",
       "      <th>2</th>\n",
       "      <td>1962</td>\n",
       "      <td>The Moon</td>\n",
       "      <td>1248.174750</td>\n",
       "    </tr>\n",
       "    <tr>\n",
       "      <th>3</th>\n",
       "      <td>1962</td>\n",
       "      <td>Venus</td>\n",
       "      <td>376.313700</td>\n",
       "    </tr>\n",
       "    <tr>\n",
       "      <th>4</th>\n",
       "      <td>1963</td>\n",
       "      <td>Mars</td>\n",
       "      <td>382.522200</td>\n",
       "    </tr>\n",
       "    <tr>\n",
       "      <th>...</th>\n",
       "      <td>...</td>\n",
       "      <td>...</td>\n",
       "      <td>...</td>\n",
       "    </tr>\n",
       "    <tr>\n",
       "      <th>277</th>\n",
       "      <td>2032</td>\n",
       "      <td>Small Bodies</td>\n",
       "      <td>21.540728</td>\n",
       "    </tr>\n",
       "    <tr>\n",
       "      <th>278</th>\n",
       "      <td>2033</td>\n",
       "      <td>Outer Planets</td>\n",
       "      <td>128.050000</td>\n",
       "    </tr>\n",
       "    <tr>\n",
       "      <th>279</th>\n",
       "      <td>2033</td>\n",
       "      <td>Small Bodies</td>\n",
       "      <td>21.543212</td>\n",
       "    </tr>\n",
       "    <tr>\n",
       "      <th>280</th>\n",
       "      <td>2034</td>\n",
       "      <td>Outer Planets</td>\n",
       "      <td>128.050000</td>\n",
       "    </tr>\n",
       "    <tr>\n",
       "      <th>281</th>\n",
       "      <td>2035</td>\n",
       "      <td>Outer Planets</td>\n",
       "      <td>128.050000</td>\n",
       "    </tr>\n",
       "  </tbody>\n",
       "</table>\n",
       "<p>282 rows × 3 columns</p>\n",
       "</div>"
      ],
      "text/plain": [
       "    fiscal_year    destination  adjusted_total_cost_musd\n",
       "0          1960       The Moon                261.139746\n",
       "1          1961       The Moon                674.849760\n",
       "2          1962       The Moon               1248.174750\n",
       "3          1962          Venus                376.313700\n",
       "4          1963           Mars                382.522200\n",
       "..          ...            ...                       ...\n",
       "277        2032   Small Bodies                 21.540728\n",
       "278        2033  Outer Planets                128.050000\n",
       "279        2033   Small Bodies                 21.543212\n",
       "280        2034  Outer Planets                128.050000\n",
       "281        2035  Outer Planets                128.050000\n",
       "\n",
       "[282 rows x 3 columns]"
      ]
     },
     "execution_count": 13,
     "metadata": {
      "application/com.datacamp.data-table.v2+json": {
       "status": "success"
      }
     },
     "output_type": "execute_result"
    }
   ],
   "source": [
    "-- Calculate the inflation adjusted total cost per year per destination\n",
    "SELECT fiscal_year, destination, SUM(\"cost_MUSD\" * inflation_adjustment) AS adjusted_total_cost_MUSD\n",
    "FROM mission_budgets\n",
    "LEFT JOIN inflation\n",
    "\tUSING(fiscal_year)\n",
    "LEFT JOIN mission_details\n",
    "\tUSING(mission)\n",
    "GROUP BY fiscal_year, destination\n",
    "ORDER BY fiscal_year, destination"
   ]
  },
  {
   "cell_type": "markdown",
   "id": "fe951515-f3be-42fb-bced-ce3a5b7b93b1",
   "metadata": {},
   "source": [
    "### Instructions\n",
    "\n",
    "\n",
    "- Draw a bar plot of total cost vs. year, colored by destination.\n",
    "- Write down your interpretation of the plot."
   ]
  },
  {
   "cell_type": "code",
   "execution_count": 14,
   "id": "717b898c-4a03-4dc6-82ae-abdbb542638f",
   "metadata": {
    "executionCancelledAt": null,
    "executionTime": null,
    "lastExecutedAt": null,
    "lastExecutedByKernel": null,
    "lastScheduledRunId": null,
    "lastSuccessfullyExecutedCode": null,
    "outputsMetadata": {
     "0": {
      "height": 17,
      "type": "plotly"
     }
    }
   },
   "outputs": [
    {
     "data": {
      "application/vnd.plotly.v1+json": {
       "config": {
        "displaylogo": false,
        "plotlyServerURL": "https://plot.ly",
        "toImageButtonOptions": {
         "filename": "DataLab plot",
         "format": "png",
         "height": 500,
         "scale": 2,
         "width": 700
        }
       },
       "data": [
        {
         "alignmentgroup": "True",
         "hovertemplate": "destination=The Moon<br>fiscal_year=%{x}<br>adjusted_total_cost_musd=%{y}<extra></extra>",
         "legendgroup": "The Moon",
         "marker": {
          "color": "#6568a0",
          "pattern": {
           "shape": ""
          }
         },
         "name": "The Moon",
         "offsetgroup": "The Moon",
         "orientation": "v",
         "showlegend": true,
         "textposition": "auto",
         "type": "bar",
         "x": [
          "1960",
          "1961",
          "1962",
          "1963",
          "1964",
          "1965",
          "1966",
          "1967",
          "1968",
          "1996",
          "1997",
          "1998",
          "1999",
          "2007",
          "2008",
          "2009",
          "2010",
          "2011",
          "2012",
          "2013",
          "2014",
          "2019",
          "2020",
          "2021",
          "2022",
          "2023",
          "2024",
          "2025",
          "2026",
          "2027"
         ],
         "xaxis": "x",
         "y": [
          261.139746,
          674.8497600000001,
          1248.17475,
          1703.895821,
          1761.2981100000002,
          2132.1810269999996,
          2029.337145,
          1229.894104,
          408.45700000000005,
          65.5928,
          36.6268,
          8.149799999999999,
          3.7246000000000006,
          1.5708,
          91.2608,
          227.044,
          210.7229,
          202.1516,
          119.33820000000003,
          65.39179999999999,
          13.2365,
          41.4865,
          56.162699999999994,
          122.3,
          129.7,
          98.2,
          35,
          3.4,
          1.8,
          0.8
         ],
         "yaxis": "y"
        },
        {
         "alignmentgroup": "True",
         "hovertemplate": "destination=Venus<br>fiscal_year=%{x}<br>adjusted_total_cost_musd=%{y}<extra></extra>",
         "legendgroup": "Venus",
         "marker": {
          "color": "#43d7a4",
          "pattern": {
           "shape": ""
          }
         },
         "name": "Venus",
         "offsetgroup": "Venus",
         "orientation": "v",
         "showlegend": true,
         "textposition": "auto",
         "type": "bar",
         "x": [
          "1962",
          "1963",
          "1966",
          "1967",
          "1968",
          "1975",
          "1976",
          "1976TQ",
          "1977",
          "1978",
          "1979",
          "1980",
          "1981",
          "1982",
          "1983",
          "1984",
          "1985",
          "1986",
          "1987",
          "1988",
          "1989",
          "1990",
          "1991",
          "1992",
          "1993",
          "1994",
          "2021",
          "2022",
          "2023",
          "2024",
          "2025",
          "2026",
          "2027"
         ],
         "xaxis": "x",
         "y": [
          376.3137,
          150.506848,
          266.7762,
          120.72469600000001,
          32.2966,
          165.18735999999998,
          379.4097999999999,
          110.8485,
          433.7865,
          43.53678000000001,
          37.629,
          31.164026999999997,
          16.125700000000002,
          16.122133334394,
          15.154400000997,
          96.681200000946,
          345.65253333424806,
          387.789600000888,
          292.49370000000005,
          309.4663,
          274.56960000000004,
          104.530433,
          106.029,
          105.0576,
          13.677999999999999,
          22.3728,
          3.5,
          13.5,
          22.8,
          56.7,
          163.3,
          105.5,
          177.5
         ],
         "yaxis": "y"
        },
        {
         "alignmentgroup": "True",
         "hovertemplate": "destination=Mars<br>fiscal_year=%{x}<br>adjusted_total_cost_musd=%{y}<extra></extra>",
         "legendgroup": "Mars",
         "marker": {
          "color": "#4095db",
          "pattern": {
           "shape": ""
          }
         },
         "name": "Mars",
         "offsetgroup": "Mars",
         "orientation": "v",
         "showlegend": true,
         "textposition": "auto",
         "type": "bar",
         "x": [
          "1963",
          "1964",
          "1965",
          "1966",
          "1967",
          "1968",
          "1969",
          "1970",
          "1971",
          "1972",
          "1973",
          "1974",
          "1975",
          "1976",
          "1976TQ",
          "1977",
          "1978",
          "1979",
          "1980",
          "1985",
          "1986",
          "1987",
          "1988",
          "1989",
          "1990",
          "1991",
          "1992",
          "1993",
          "1994",
          "1995",
          "1996",
          "1997",
          "1998",
          "1999",
          "2000",
          "2001",
          "2002",
          "2003",
          "2004",
          "2005",
          "2006",
          "2007",
          "2008",
          "2009",
          "2010",
          "2011",
          "2012",
          "2013",
          "2014",
          "2015",
          "2016",
          "2017",
          "2018",
          "2019",
          "2020",
          "2021",
          "2022",
          "2023",
          "2024",
          "2025",
          "2026",
          "2027"
         ],
         "xaxis": "x",
         "y": [
          382.5222,
          447.89301,
          281.687166,
          24.524505,
          401.78156,
          662.308276,
          630.671712,
          944.702997,
          574.0273109999999,
          1521.0906,
          1928.4965750000001,
          2069.624511,
          567.48736,
          215.9465,
          62.118,
          125.34899999999999,
          91.56,
          20.905,
          9.25365,
          35.672000000000004,
          140.3928,
          91.6122,
          131.0309,
          278.28,
          368.62471800000003,
          427.174776,
          253.2784,
          47.48219999999999,
          172.7256,
          350.0112000000001,
          360.03960000000006,
          269.1892,
          292.35240000000005,
          429.6834,
          239.0063,
          557.9780000000001,
          551.7051,
          610.7075000000001,
          573.087,
          593.6535333286599,
          659.43209999547,
          823.92823332897,
          791.6432,
          360.964,
          439.9131,
          554.0808,
          654.9309,
          467.76073332941996,
          493.35696666282996,
          464.2095999624,
          625.2834,
          639.366,
          783.8181999999999,
          709.3459999999999,
          550.5785999999999,
          331.9,
          892.3000000000001,
          1025.8,
          803.6,
          703,
          602.4,
          612.1
         ],
         "yaxis": "y"
        },
        {
         "alignmentgroup": "True",
         "hovertemplate": "destination=Outer Planets<br>fiscal_year=%{x}<br>adjusted_total_cost_musd=%{y}<extra></extra>",
         "legendgroup": "Outer Planets",
         "marker": {
          "color": "#facc5f",
          "pattern": {
           "shape": ""
          }
         },
         "name": "Outer Planets",
         "offsetgroup": "Outer Planets",
         "orientation": "v",
         "showlegend": true,
         "textposition": "auto",
         "type": "bar",
         "x": [
          "1963",
          "1964",
          "1965",
          "1966",
          "1967",
          "1968",
          "1969",
          "1970",
          "1971",
          "1972",
          "1973",
          "1974",
          "1975",
          "1976",
          "1976TQ",
          "1977",
          "1978",
          "1979",
          "1980",
          "1981",
          "1982",
          "1983",
          "1984",
          "1985",
          "1986",
          "1987",
          "1988",
          "1989",
          "1990",
          "1991",
          "1992",
          "1993",
          "1994",
          "1995",
          "1996",
          "1997",
          "1998",
          "1999",
          "2000",
          "2001",
          "2002",
          "2003",
          "2004",
          "2005",
          "2006",
          "2007",
          "2008",
          "2009",
          "2010",
          "2011",
          "2012",
          "2013",
          "2014",
          "2015",
          "2016",
          "2017",
          "2018",
          "2019",
          "2020",
          "2021",
          "2022",
          "2023",
          "2024",
          "2025",
          "2026",
          "2027",
          "2028",
          "2029",
          "2030",
          "2031",
          "2032",
          "2033",
          "2034",
          "2035"
         ],
         "xaxis": "x",
         "y": [
          31.443806,
          203.7447,
          206.19429299999996,
          175.38959699999998,
          81.26740400000001,
          80.7415,
          64.97601,
          210.175,
          591.561564,
          261.338778,
          105.98678799999999,
          342.49760999999995,
          488.04652,
          635.2654,
          141.259545,
          306.300645,
          181.659618,
          420.8887270000001,
          552.1974,
          330.974846,
          455.02599999999995,
          363.70560000000006,
          385.40040000000005,
          333.220384,
          282.1176,
          295.83319500000005,
          270.37582,
          517.6008,
          213.48333299999996,
          460.853442,
          596.1408,
          575.241968,
          823.812,
          770.0616,
          655.027,
          462.6356,
          169.41180000000003,
          136.45579999999998,
          123.9774,
          114.767,
          126.13019999999999,
          136.79250000000002,
          120.24464285095,
          117.3474,
          165.32235,
          221.28644999999997,
          222.78,
          423.274,
          413.80205,
          312.31759999999997,
          95.28,
          176.92179999999996,
          166.54969999999997,
          235.75199999999995,
          285.59580000000005,
          392.0280000000001,
          605.6292,
          591.9925000000001,
          647.6613,
          476.3,
          509.70000000000005,
          380.6,
          303.3,
          101.2,
          80.6,
          77.7,
          128.05,
          128.05,
          128.05,
          128.05,
          128.05,
          128.05,
          128.05,
          128.05
         ],
         "yaxis": "y"
        },
        {
         "alignmentgroup": "True",
         "hovertemplate": "destination=Mercury<br>fiscal_year=%{x}<br>adjusted_total_cost_musd=%{y}<extra></extra>",
         "legendgroup": "Mercury",
         "marker": {
          "color": "#cae279",
          "pattern": {
           "shape": ""
          }
         },
         "name": "Mercury",
         "offsetgroup": "Mercury",
         "orientation": "v",
         "showlegend": true,
         "textposition": "auto",
         "type": "bar",
         "x": [
          "1970",
          "1971",
          "1972",
          "1973",
          "1974",
          "1975",
          "1999",
          "2000",
          "2001",
          "2002",
          "2003",
          "2004",
          "2005",
          "2006",
          "2007",
          "2008",
          "2009",
          "2010",
          "2011",
          "2012",
          "2013",
          "2014",
          "2015",
          "2016"
         ],
         "xaxis": "x",
         "y": [
          7.5663,
          106.028054,
          392.05680000000007,
          264.096253,
          73.75550999999999,
          31.73104,
          2.8781,
          15.6192,
          81.32600000000001,
          148.7298,
          129.6165,
          61.12349999999999,
          10.795399999999999,
          11.143799999999999,
          12.3046,
          14.536,
          20.212,
          19.323400000000003,
          27.3308,
          41.5659,
          19.488400000000002,
          14.0422,
          6.767999999999999,
          7.5684
         ],
         "yaxis": "y"
        },
        {
         "alignmentgroup": "True",
         "hovertemplate": "destination=The Sun<br>fiscal_year=%{x}<br>adjusted_total_cost_musd=%{y}<extra></extra>",
         "legendgroup": "The Sun",
         "marker": {
          "color": "#7db64f",
          "pattern": {
           "shape": ""
          }
         },
         "name": "The Sun",
         "offsetgroup": "The Sun",
         "orientation": "v",
         "showlegend": true,
         "textposition": "auto",
         "type": "bar",
         "x": [
          "1970",
          "1971",
          "1972",
          "1973",
          "1974",
          "1975",
          "1976"
         ],
         "xaxis": "x",
         "y": [
          2.5221,
          15.027099999999999,
          18.705000000000002,
          144.871735,
          151.373775,
          8.344,
          6.5604
         ],
         "yaxis": "y"
        },
        {
         "alignmentgroup": "True",
         "hovertemplate": "destination=Small Bodies<br>fiscal_year=%{x}<br>adjusted_total_cost_musd=%{y}<extra></extra>",
         "legendgroup": "Small Bodies",
         "marker": {
          "color": "#f08083",
          "pattern": {
           "shape": ""
          }
         },
         "name": "Small Bodies",
         "offsetgroup": "Small Bodies",
         "orientation": "v",
         "showlegend": true,
         "textposition": "auto",
         "type": "bar",
         "x": [
          "1994",
          "1995",
          "1996",
          "1997",
          "1998",
          "1999",
          "2000",
          "2001",
          "2002",
          "2003",
          "2004",
          "2005",
          "2006",
          "2007",
          "2008",
          "2009",
          "2010",
          "2011",
          "2012",
          "2013",
          "2014",
          "2015",
          "2016",
          "2017",
          "2018",
          "2019",
          "2020",
          "2021",
          "2022",
          "2023",
          "2024",
          "2025",
          "2026",
          "2027",
          "2028",
          "2029",
          "2030",
          "2031",
          "2032",
          "2033"
         ],
         "xaxis": "x",
         "y": [
          172.9152,
          121.968,
          153.7106,
          190.4238,
          225.41999999999996,
          107.33619999999999,
          158.30710000000002,
          244.92000000000002,
          260.3535,
          372.25500000000005,
          420.78400000000005,
          444.2938,
          206.1603,
          127.59477500000001,
          54.3204,
          51.553000000000004,
          50.75450000000001,
          48.76199999999999,
          172.2186,
          189.48359999999997,
          255.1767,
          288.5424,
          201.2304,
          205.07760000000002,
          245.7301,
          523.4405,
          562.0362,
          437.6,
          263,
          111.99999999999999,
          91.2,
          84.4,
          76.4,
          105.9,
          32.48333333,
          22.00277778,
          21.4662037,
          21.55563272,
          21.54072788,
          21.54321202
         ],
         "yaxis": "y"
        },
        {
         "alignmentgroup": "True",
         "hovertemplate": "destination=Earth-Sun L1<br>fiscal_year=%{x}<br>adjusted_total_cost_musd=%{y}<extra></extra>",
         "legendgroup": "Earth-Sun L1",
         "marker": {
          "color": "#5bcdf2",
          "pattern": {
           "shape": ""
          }
         },
         "name": "Earth-Sun L1",
         "offsetgroup": "Earth-Sun L1",
         "orientation": "v",
         "showlegend": true,
         "textposition": "auto",
         "type": "bar",
         "x": [
          "1997",
          "1998",
          "1999",
          "2000",
          "2001",
          "2002",
          "2003",
          "2004",
          "2005",
          "2006",
          "2007",
          "2008"
         ],
         "xaxis": "x",
         "y": [
          1.4224,
          75.7758,
          140.34969999999998,
          101.36210000000001,
          46.47200000000001,
          15.575399999999998,
          14.950000000000001,
          13.438500000000001,
          13.599399999999997,
          2.5821,
          1.4399,
          0.2528
         ],
         "yaxis": "y"
        }
       ],
       "layout": {
        "barmode": "relative",
        "legend": {
         "title": {
          "text": "destination"
         },
         "tracegroupgap": 0
        },
        "margin": {
         "t": 60
        },
        "template": {
         "data": {
          "bar": [
           {
            "error_x": {
             "color": "#2a3f5f"
            },
            "error_y": {
             "color": "#2a3f5f"
            },
            "marker": {
             "line": {
              "color": "white",
              "width": 0.5
             },
             "pattern": {
              "fillmode": "overlay",
              "size": 10,
              "solidity": 0.2
             }
            },
            "type": "bar"
           }
          ],
          "barpolar": [
           {
            "marker": {
             "line": {
              "color": "white",
              "width": 0.5
             },
             "pattern": {
              "fillmode": "overlay",
              "size": 10,
              "solidity": 0.2
             }
            },
            "type": "barpolar"
           }
          ],
          "carpet": [
           {
            "aaxis": {
             "endlinecolor": "#2a3f5f",
             "gridcolor": "#C8D4E3",
             "linecolor": "#C8D4E3",
             "minorgridcolor": "#C8D4E3",
             "startlinecolor": "#2a3f5f"
            },
            "baxis": {
             "endlinecolor": "#2a3f5f",
             "gridcolor": "#C8D4E3",
             "linecolor": "#C8D4E3",
             "minorgridcolor": "#C8D4E3",
             "startlinecolor": "#2a3f5f"
            },
            "type": "carpet"
           }
          ],
          "choropleth": [
           {
            "colorbar": {
             "outlinewidth": 0,
             "ticks": ""
            },
            "type": "choropleth"
           }
          ],
          "contour": [
           {
            "colorbar": {
             "outlinewidth": 0,
             "ticks": ""
            },
            "colorscale": [
             [
              0,
              "#0d0887"
             ],
             [
              0.1111111111111111,
              "#46039f"
             ],
             [
              0.2222222222222222,
              "#7201a8"
             ],
             [
              0.3333333333333333,
              "#9c179e"
             ],
             [
              0.4444444444444444,
              "#bd3786"
             ],
             [
              0.5555555555555556,
              "#d8576b"
             ],
             [
              0.6666666666666666,
              "#ed7953"
             ],
             [
              0.7777777777777778,
              "#fb9f3a"
             ],
             [
              0.8888888888888888,
              "#fdca26"
             ],
             [
              1,
              "#f0f921"
             ]
            ],
            "type": "contour"
           }
          ],
          "contourcarpet": [
           {
            "colorbar": {
             "outlinewidth": 0,
             "ticks": ""
            },
            "type": "contourcarpet"
           }
          ],
          "heatmap": [
           {
            "colorbar": {
             "outlinewidth": 0,
             "ticks": ""
            },
            "colorscale": [
             [
              0,
              "#0d0887"
             ],
             [
              0.1111111111111111,
              "#46039f"
             ],
             [
              0.2222222222222222,
              "#7201a8"
             ],
             [
              0.3333333333333333,
              "#9c179e"
             ],
             [
              0.4444444444444444,
              "#bd3786"
             ],
             [
              0.5555555555555556,
              "#d8576b"
             ],
             [
              0.6666666666666666,
              "#ed7953"
             ],
             [
              0.7777777777777778,
              "#fb9f3a"
             ],
             [
              0.8888888888888888,
              "#fdca26"
             ],
             [
              1,
              "#f0f921"
             ]
            ],
            "type": "heatmap"
           }
          ],
          "heatmapgl": [
           {
            "colorbar": {
             "outlinewidth": 0,
             "ticks": ""
            },
            "colorscale": [
             [
              0,
              "#0d0887"
             ],
             [
              0.1111111111111111,
              "#46039f"
             ],
             [
              0.2222222222222222,
              "#7201a8"
             ],
             [
              0.3333333333333333,
              "#9c179e"
             ],
             [
              0.4444444444444444,
              "#bd3786"
             ],
             [
              0.5555555555555556,
              "#d8576b"
             ],
             [
              0.6666666666666666,
              "#ed7953"
             ],
             [
              0.7777777777777778,
              "#fb9f3a"
             ],
             [
              0.8888888888888888,
              "#fdca26"
             ],
             [
              1,
              "#f0f921"
             ]
            ],
            "type": "heatmapgl"
           }
          ],
          "histogram": [
           {
            "marker": {
             "pattern": {
              "fillmode": "overlay",
              "size": 10,
              "solidity": 0.2
             }
            },
            "type": "histogram"
           }
          ],
          "histogram2d": [
           {
            "colorbar": {
             "outlinewidth": 0,
             "ticks": ""
            },
            "colorscale": [
             [
              0,
              "#0d0887"
             ],
             [
              0.1111111111111111,
              "#46039f"
             ],
             [
              0.2222222222222222,
              "#7201a8"
             ],
             [
              0.3333333333333333,
              "#9c179e"
             ],
             [
              0.4444444444444444,
              "#bd3786"
             ],
             [
              0.5555555555555556,
              "#d8576b"
             ],
             [
              0.6666666666666666,
              "#ed7953"
             ],
             [
              0.7777777777777778,
              "#fb9f3a"
             ],
             [
              0.8888888888888888,
              "#fdca26"
             ],
             [
              1,
              "#f0f921"
             ]
            ],
            "type": "histogram2d"
           }
          ],
          "histogram2dcontour": [
           {
            "colorbar": {
             "outlinewidth": 0,
             "ticks": ""
            },
            "colorscale": [
             [
              0,
              "#0d0887"
             ],
             [
              0.1111111111111111,
              "#46039f"
             ],
             [
              0.2222222222222222,
              "#7201a8"
             ],
             [
              0.3333333333333333,
              "#9c179e"
             ],
             [
              0.4444444444444444,
              "#bd3786"
             ],
             [
              0.5555555555555556,
              "#d8576b"
             ],
             [
              0.6666666666666666,
              "#ed7953"
             ],
             [
              0.7777777777777778,
              "#fb9f3a"
             ],
             [
              0.8888888888888888,
              "#fdca26"
             ],
             [
              1,
              "#f0f921"
             ]
            ],
            "type": "histogram2dcontour"
           }
          ],
          "mesh3d": [
           {
            "colorbar": {
             "outlinewidth": 0,
             "ticks": ""
            },
            "type": "mesh3d"
           }
          ],
          "parcoords": [
           {
            "line": {
             "colorbar": {
              "outlinewidth": 0,
              "ticks": ""
             }
            },
            "type": "parcoords"
           }
          ],
          "pie": [
           {
            "automargin": true,
            "type": "pie"
           }
          ],
          "scatter": [
           {
            "fillpattern": {
             "fillmode": "overlay",
             "size": 10,
             "solidity": 0.2
            },
            "type": "scatter"
           }
          ],
          "scatter3d": [
           {
            "line": {
             "colorbar": {
              "outlinewidth": 0,
              "ticks": ""
             }
            },
            "marker": {
             "colorbar": {
              "outlinewidth": 0,
              "ticks": ""
             }
            },
            "type": "scatter3d"
           }
          ],
          "scattercarpet": [
           {
            "marker": {
             "colorbar": {
              "outlinewidth": 0,
              "ticks": ""
             }
            },
            "type": "scattercarpet"
           }
          ],
          "scattergeo": [
           {
            "marker": {
             "colorbar": {
              "outlinewidth": 0,
              "ticks": ""
             }
            },
            "type": "scattergeo"
           }
          ],
          "scattergl": [
           {
            "marker": {
             "colorbar": {
              "outlinewidth": 0,
              "ticks": ""
             }
            },
            "type": "scattergl"
           }
          ],
          "scattermapbox": [
           {
            "marker": {
             "colorbar": {
              "outlinewidth": 0,
              "ticks": ""
             }
            },
            "type": "scattermapbox"
           }
          ],
          "scatterpolar": [
           {
            "marker": {
             "colorbar": {
              "outlinewidth": 0,
              "ticks": ""
             }
            },
            "type": "scatterpolar"
           }
          ],
          "scatterpolargl": [
           {
            "marker": {
             "colorbar": {
              "outlinewidth": 0,
              "ticks": ""
             }
            },
            "type": "scatterpolargl"
           }
          ],
          "scatterternary": [
           {
            "marker": {
             "colorbar": {
              "outlinewidth": 0,
              "ticks": ""
             }
            },
            "type": "scatterternary"
           }
          ],
          "surface": [
           {
            "colorbar": {
             "outlinewidth": 0,
             "ticks": ""
            },
            "colorscale": [
             [
              0,
              "#0d0887"
             ],
             [
              0.1111111111111111,
              "#46039f"
             ],
             [
              0.2222222222222222,
              "#7201a8"
             ],
             [
              0.3333333333333333,
              "#9c179e"
             ],
             [
              0.4444444444444444,
              "#bd3786"
             ],
             [
              0.5555555555555556,
              "#d8576b"
             ],
             [
              0.6666666666666666,
              "#ed7953"
             ],
             [
              0.7777777777777778,
              "#fb9f3a"
             ],
             [
              0.8888888888888888,
              "#fdca26"
             ],
             [
              1,
              "#f0f921"
             ]
            ],
            "type": "surface"
           }
          ],
          "table": [
           {
            "cells": {
             "fill": {
              "color": "#EBF0F8"
             },
             "line": {
              "color": "white"
             }
            },
            "header": {
             "fill": {
              "color": "#C8D4E3"
             },
             "line": {
              "color": "white"
             }
            },
            "type": "table"
           }
          ]
         },
         "layout": {
          "annotationdefaults": {
           "arrowcolor": "#2a3f5f",
           "arrowhead": 0,
           "arrowwidth": 1
          },
          "autotypenumbers": "strict",
          "coloraxis": {
           "colorbar": {
            "outlinewidth": 0,
            "ticks": ""
           }
          },
          "colorscale": {
           "diverging": [
            [
             0,
             "#8e0152"
            ],
            [
             0.1,
             "#c51b7d"
            ],
            [
             0.2,
             "#de77ae"
            ],
            [
             0.3,
             "#f1b6da"
            ],
            [
             0.4,
             "#fde0ef"
            ],
            [
             0.5,
             "#f7f7f7"
            ],
            [
             0.6,
             "#e6f5d0"
            ],
            [
             0.7,
             "#b8e186"
            ],
            [
             0.8,
             "#7fbc41"
            ],
            [
             0.9,
             "#4d9221"
            ],
            [
             1,
             "#276419"
            ]
           ],
           "sequential": [
            [
             0,
             "#0d0887"
            ],
            [
             0.1111111111111111,
             "#46039f"
            ],
            [
             0.2222222222222222,
             "#7201a8"
            ],
            [
             0.3333333333333333,
             "#9c179e"
            ],
            [
             0.4444444444444444,
             "#bd3786"
            ],
            [
             0.5555555555555556,
             "#d8576b"
            ],
            [
             0.6666666666666666,
             "#ed7953"
            ],
            [
             0.7777777777777778,
             "#fb9f3a"
            ],
            [
             0.8888888888888888,
             "#fdca26"
            ],
            [
             1,
             "#f0f921"
            ]
           ],
           "sequentialminus": [
            [
             0,
             "#0d0887"
            ],
            [
             0.1111111111111111,
             "#46039f"
            ],
            [
             0.2222222222222222,
             "#7201a8"
            ],
            [
             0.3333333333333333,
             "#9c179e"
            ],
            [
             0.4444444444444444,
             "#bd3786"
            ],
            [
             0.5555555555555556,
             "#d8576b"
            ],
            [
             0.6666666666666666,
             "#ed7953"
            ],
            [
             0.7777777777777778,
             "#fb9f3a"
            ],
            [
             0.8888888888888888,
             "#fdca26"
            ],
            [
             1,
             "#f0f921"
            ]
           ]
          },
          "colorway": [
           "#6568a0",
           "#43d7a4",
           "#4095db",
           "#facc5f",
           "#cae279",
           "#7db64f",
           "#f08083",
           "#5bcdf2",
           "#f099dc",
           "#965858"
          ],
          "font": {
           "color": "#05192D",
           "family": "Studio-Feixen-Sans, Arial, sans-serif"
          },
          "geo": {
           "bgcolor": "white",
           "lakecolor": "white",
           "landcolor": "white",
           "showlakes": true,
           "showland": true,
           "subunitcolor": "#C8D4E3"
          },
          "hoverlabel": {
           "align": "left",
           "font": {
            "family": "Studio-Feixen-Sans, Arial, sans-serif"
           }
          },
          "hovermode": "closest",
          "mapbox": {
           "style": "light"
          },
          "paper_bgcolor": "white",
          "plot_bgcolor": "white",
          "polar": {
           "angularaxis": {
            "gridcolor": "#EBF0F8",
            "linecolor": "#EBF0F8",
            "ticks": ""
           },
           "bgcolor": "white",
           "radialaxis": {
            "gridcolor": "#EBF0F8",
            "linecolor": "#EBF0F8",
            "ticks": ""
           }
          },
          "scene": {
           "xaxis": {
            "backgroundcolor": "white",
            "gridcolor": "#DFE8F3",
            "gridwidth": 2,
            "linecolor": "#EBF0F8",
            "showbackground": true,
            "ticks": "",
            "zerolinecolor": "#EBF0F8"
           },
           "yaxis": {
            "backgroundcolor": "white",
            "gridcolor": "#DFE8F3",
            "gridwidth": 2,
            "linecolor": "#EBF0F8",
            "showbackground": true,
            "ticks": "",
            "zerolinecolor": "#EBF0F8"
           },
           "zaxis": {
            "backgroundcolor": "white",
            "gridcolor": "#DFE8F3",
            "gridwidth": 2,
            "linecolor": "#EBF0F8",
            "showbackground": true,
            "ticks": "",
            "zerolinecolor": "#EBF0F8"
           }
          },
          "shapedefaults": {
           "line": {
            "color": "#2a3f5f"
           }
          },
          "ternary": {
           "aaxis": {
            "gridcolor": "#DFE8F3",
            "linecolor": "#A2B1C6",
            "ticks": ""
           },
           "baxis": {
            "gridcolor": "#DFE8F3",
            "linecolor": "#A2B1C6",
            "ticks": ""
           },
           "bgcolor": "white",
           "caxis": {
            "gridcolor": "#DFE8F3",
            "linecolor": "#A2B1C6",
            "ticks": ""
           }
          },
          "title": {
           "x": 0.05
          },
          "xaxis": {
           "automargin": true,
           "gridcolor": "#EBF0F8",
           "linecolor": "#EBF0F8",
           "ticks": "",
           "title": {
            "standoff": 15
           },
           "zerolinecolor": "#EBF0F8",
           "zerolinewidth": 2
          },
          "yaxis": {
           "automargin": true,
           "gridcolor": "#EBF0F8",
           "linecolor": "#EBF0F8",
           "ticks": "",
           "title": {
            "standoff": 15
           },
           "zerolinecolor": "#EBF0F8",
           "zerolinewidth": 2
          }
         }
        },
        "xaxis": {
         "anchor": "y",
         "domain": [
          0,
          1
         ],
         "title": {
          "text": "fiscal_year"
         }
        },
        "yaxis": {
         "anchor": "x",
         "domain": [
          0,
          1
         ],
         "title": {
          "text": "adjusted_total_cost_musd"
         }
        }
       }
      }
     },
     "metadata": {},
     "output_type": "display_data"
    }
   ],
   "source": [
    "# Draw a bar plot of total cost vs. year, colored by destination\n",
    "px.bar(\n",
    "    total_cost_by_date_and_destination, x = 'fiscal_year', y = 'adjusted_total_cost_musd', color = 'destination'\n",
    ")"
   ]
  },
  {
   "attachments": {
    "image.png": {
     "image/png": "[encoded data removed]"
    }
   },
   "cell_type": "markdown",
   "id": "854f0308",
   "metadata": {},
   "source": [
    "![image.png](attachment:image.png)"
   ]
  },
  {
   "cell_type": "markdown",
   "id": "9e8f5fcf-7645-4586-8322-fe3cd2221e06",
   "metadata": {},
   "source": [
    "The bar plot shows the total adjusted cost of missions per fiscal year, with different colors representing different destinations. From the plot, we can observe the following:\n",
    "\n",
    "1. **Trends Over Time**: There are noticeable trends in spending over the years. Some years have significantly higher total costs, which could be due to major missions or multiple missions being launched in those years.\n",
    "\n",
    "2. **Destination-Specific Spending**: The color coding allows us to see which destinations received more funding in specific years. For example, certain years might show a higher concentration of spending on Mars missions, while others might show more spending on lunar missions.\n",
    "\n",
    "3. **Budget Allocation**: The plot helps in understanding how the budget is allocated across different destinations over time. This can provide insights into the strategic priorities of the space program.\n",
    "\n",
    "4. **Inflation Adjustment Impact**: Since the costs are adjusted for inflation, the plot provides a more accurate representation of the spending power and how it has changed over the years.\n",
    "\n",
    "Overall, the plot is a useful tool for visualizing and analyzing the distribution of mission costs over time and across different destinations."
   ]
  },
  {
   "cell_type": "markdown",
   "id": "5ae37491-a06b-4032-907e-131d41e11d55",
   "metadata": {},
   "source": [
    "## Which part of the mission is most expensive, on average? (Does it make a difference if you look at `cost_type` or `cost_group`?)"
   ]
  },
  {
   "cell_type": "code",
   "execution_count": 15,
   "id": "961cb193-c731-4d8c-a0a9-762419b6dbc3",
   "metadata": {
    "customType": "sql",
    "dataFrameVariableName": "df1",
    "executionCancelledAt": null,
    "executionTime": null,
    "lastExecutedAt": null,
    "lastExecutedByKernel": null,
    "lastScheduledRunId": null,
    "lastSuccessfullyExecutedCode": null,
    "outputsMetadata": {
     "0": {
      "height": 550,
      "tableState": {
       "customFilter": {
        "const": {
         "type": "boolean",
         "valid": true,
         "value": true
        },
        "id": "415791f4-dcd5-4e9a-9656-a395c2605dcd",
        "nodeType": "const"
       },
       "quickFilterText": ""
      },
      "type": "dataFrame"
     }
    },
    "sqlCellMode": "dataFrame",
    "sqlSource": {
     "integrationId": "fe69b2d4-166e-4f4c-8c2b-bc2ed932b8da",
     "integrationType": "postgresql",
     "type": "integration"
    }
   },
   "outputs": [
    {
     "data": {
      "application/com.datacamp.data-table.v2+json": {
       "table": {
        "data": {
         "average_cost": [
          185.7507936508,
          104.8782608696,
          102.1810126577,
          67.26,
          44.4435897436,
          35.8664485294,
          25.8742281162,
          22.2675675676,
          16.6623846154,
          15.54,
          13.7401555556,
          12.936328125,
          12.8875,
          8.2115942029,
          6.2382857143,
          5,
          4.9560769231,
          2.7137931034
         ],
         "cost_type": [
          "Implementation (incl LV)",
          "Development (incl LV)",
          "Formulation",
          "Implementation",
          "Development",
          "Spacecraft",
          "Operations",
          "Launch Support",
          "Science",
          "Upper Stage",
          "Experiments",
          "Launch Vehicle(s)",
          "Launch Services",
          "Operations & Data Analysis",
          "Ground Operations",
          "Microrover",
          "Project Management",
          "Data Analysis"
         ],
         "index": [
          0,
          1,
          2,
          3,
          4,
          5,
          6,
          7,
          8,
          9,
          10,
          11,
          12,
          13,
          14,
          15,
          16,
          17
         ]
        },
        "schema": {
         "fields": [
          {
           "name": "index",
           "type": "integer"
          },
          {
           "name": "cost_type",
           "type": "string"
          },
          {
           "name": "average_cost",
           "type": "number"
          }
         ],
         "pandas_version": "1.4.0",
         "primaryKey": [
          "index"
         ]
        }
       },
       "total_rows": 18,
       "truncation_type": null
      },
      "text/html": [
       "<div>\n",
       "<style scoped>\n",
       "    .dataframe tbody tr th:only-of-type {\n",
       "        vertical-align: middle;\n",
       "    }\n",
       "\n",
       "    .dataframe tbody tr th {\n",
       "        vertical-align: top;\n",
       "    }\n",
       "\n",
       "    .dataframe thead th {\n",
       "        text-align: right;\n",
       "    }\n",
       "</style>\n",
       "<table border=\"1\" class=\"dataframe\">\n",
       "  <thead>\n",
       "    <tr style=\"text-align: right;\">\n",
       "      <th></th>\n",
       "      <th>cost_type</th>\n",
       "      <th>average_cost</th>\n",
       "    </tr>\n",
       "  </thead>\n",
       "  <tbody>\n",
       "    <tr>\n",
       "      <th>0</th>\n",
       "      <td>Implementation (incl LV)</td>\n",
       "      <td>185.750794</td>\n",
       "    </tr>\n",
       "    <tr>\n",
       "      <th>1</th>\n",
       "      <td>Development (incl LV)</td>\n",
       "      <td>104.878261</td>\n",
       "    </tr>\n",
       "    <tr>\n",
       "      <th>2</th>\n",
       "      <td>Formulation</td>\n",
       "      <td>102.181013</td>\n",
       "    </tr>\n",
       "    <tr>\n",
       "      <th>3</th>\n",
       "      <td>Implementation</td>\n",
       "      <td>67.260000</td>\n",
       "    </tr>\n",
       "    <tr>\n",
       "      <th>4</th>\n",
       "      <td>Development</td>\n",
       "      <td>44.443590</td>\n",
       "    </tr>\n",
       "    <tr>\n",
       "      <th>5</th>\n",
       "      <td>Spacecraft</td>\n",
       "      <td>35.866449</td>\n",
       "    </tr>\n",
       "    <tr>\n",
       "      <th>6</th>\n",
       "      <td>Operations</td>\n",
       "      <td>25.874228</td>\n",
       "    </tr>\n",
       "    <tr>\n",
       "      <th>7</th>\n",
       "      <td>Launch Support</td>\n",
       "      <td>22.267568</td>\n",
       "    </tr>\n",
       "    <tr>\n",
       "      <th>8</th>\n",
       "      <td>Science</td>\n",
       "      <td>16.662385</td>\n",
       "    </tr>\n",
       "    <tr>\n",
       "      <th>9</th>\n",
       "      <td>Upper Stage</td>\n",
       "      <td>15.540000</td>\n",
       "    </tr>\n",
       "    <tr>\n",
       "      <th>10</th>\n",
       "      <td>Experiments</td>\n",
       "      <td>13.740156</td>\n",
       "    </tr>\n",
       "    <tr>\n",
       "      <th>11</th>\n",
       "      <td>Launch Vehicle(s)</td>\n",
       "      <td>12.936328</td>\n",
       "    </tr>\n",
       "    <tr>\n",
       "      <th>12</th>\n",
       "      <td>Launch Services</td>\n",
       "      <td>12.887500</td>\n",
       "    </tr>\n",
       "    <tr>\n",
       "      <th>13</th>\n",
       "      <td>Operations &amp; Data Analysis</td>\n",
       "      <td>8.211594</td>\n",
       "    </tr>\n",
       "    <tr>\n",
       "      <th>14</th>\n",
       "      <td>Ground Operations</td>\n",
       "      <td>6.238286</td>\n",
       "    </tr>\n",
       "    <tr>\n",
       "      <th>15</th>\n",
       "      <td>Microrover</td>\n",
       "      <td>5.000000</td>\n",
       "    </tr>\n",
       "    <tr>\n",
       "      <th>16</th>\n",
       "      <td>Project Management</td>\n",
       "      <td>4.956077</td>\n",
       "    </tr>\n",
       "    <tr>\n",
       "      <th>17</th>\n",
       "      <td>Data Analysis</td>\n",
       "      <td>2.713793</td>\n",
       "    </tr>\n",
       "  </tbody>\n",
       "</table>\n",
       "</div>"
      ],
      "text/plain": [
       "                     cost_type  average_cost\n",
       "0     Implementation (incl LV)    185.750794\n",
       "1        Development (incl LV)    104.878261\n",
       "2                  Formulation    102.181013\n",
       "3               Implementation     67.260000\n",
       "4                  Development     44.443590\n",
       "5                   Spacecraft     35.866449\n",
       "6                   Operations     25.874228\n",
       "7               Launch Support     22.267568\n",
       "8                      Science     16.662385\n",
       "9                  Upper Stage     15.540000\n",
       "10                 Experiments     13.740156\n",
       "11           Launch Vehicle(s)     12.936328\n",
       "12             Launch Services     12.887500\n",
       "13  Operations & Data Analysis      8.211594\n",
       "14           Ground Operations      6.238286\n",
       "15                  Microrover      5.000000\n",
       "16          Project Management      4.956077\n",
       "17               Data Analysis      2.713793"
      ]
     },
     "execution_count": 15,
     "metadata": {
      "application/com.datacamp.data-table.v2+json": {
       "status": "success"
      }
     },
     "output_type": "execute_result"
    }
   ],
   "source": [
    "-- Calculate the average cost by cost_type\n",
    "SELECT \n",
    "    cost_type, \n",
    "    AVG(\"cost_MUSD\") AS average_cost\n",
    "FROM \n",
    "    mission_budgets\n",
    "GROUP BY \n",
    "    cost_type\n",
    "ORDER BY \n",
    "    average_cost DESC;"
   ]
  },
  {
   "cell_type": "code",
   "execution_count": 16,
   "id": "6f49a0ef-9224-40e6-a2d3-65c3e5da4a68",
   "metadata": {
    "customType": "sql",
    "dataFrameVariableName": "df3",
    "executionCancelledAt": null,
    "executionTime": null,
    "lastExecutedAt": null,
    "lastExecutedByKernel": null,
    "lastScheduledRunId": null,
    "lastSuccessfullyExecutedCode": null,
    "outputsMetadata": {
     "0": {
      "height": 50,
      "tableState": {
       "customFilter": {
        "const": {
         "type": "boolean",
         "valid": true,
         "value": true
        },
        "id": "415791f4-dcd5-4e9a-9656-a395c2605dcd",
        "nodeType": "const"
       },
       "quickFilterText": ""
      },
      "type": "dataFrame"
     }
    },
    "sqlCellMode": "dataFrame",
    "sqlSource": {
     "integrationId": "fe69b2d4-166e-4f4c-8c2b-bc2ed932b8da",
     "integrationType": "postgresql",
     "type": "integration"
    }
   },
   "outputs": [
    {
     "data": {
      "application/com.datacamp.data-table.v2+json": {
       "table": {
        "data": {
         "average_cost": [
          164.1220930233,
          102.1810126577,
          37.6888486486,
          21.4677610873,
          16.0756578947,
          14.395137931,
          5.9694354839
         ],
         "cost_group": [
          "Development/Implementation (incl LV)",
          "Formulation",
          "Development/Implementation",
          "Operations & Data Analysis",
          "Launch Vehicle(s) & Support",
          "Science & Experiments",
          "Project Management/Ground Operations"
         ],
         "index": [
          0,
          1,
          2,
          3,
          4,
          5,
          6
         ]
        },
        "schema": {
         "fields": [
          {
           "name": "index",
           "type": "integer"
          },
          {
           "name": "cost_group",
           "type": "string"
          },
          {
           "name": "average_cost",
           "type": "number"
          }
         ],
         "pandas_version": "1.4.0",
         "primaryKey": [
          "index"
         ]
        }
       },
       "total_rows": 7,
       "truncation_type": null
      },
      "text/html": [
       "<div>\n",
       "<style scoped>\n",
       "    .dataframe tbody tr th:only-of-type {\n",
       "        vertical-align: middle;\n",
       "    }\n",
       "\n",
       "    .dataframe tbody tr th {\n",
       "        vertical-align: top;\n",
       "    }\n",
       "\n",
       "    .dataframe thead th {\n",
       "        text-align: right;\n",
       "    }\n",
       "</style>\n",
       "<table border=\"1\" class=\"dataframe\">\n",
       "  <thead>\n",
       "    <tr style=\"text-align: right;\">\n",
       "      <th></th>\n",
       "      <th>cost_group</th>\n",
       "      <th>average_cost</th>\n",
       "    </tr>\n",
       "  </thead>\n",
       "  <tbody>\n",
       "    <tr>\n",
       "      <th>0</th>\n",
       "      <td>Development/Implementation (incl LV)</td>\n",
       "      <td>164.122093</td>\n",
       "    </tr>\n",
       "    <tr>\n",
       "      <th>1</th>\n",
       "      <td>Formulation</td>\n",
       "      <td>102.181013</td>\n",
       "    </tr>\n",
       "    <tr>\n",
       "      <th>2</th>\n",
       "      <td>Development/Implementation</td>\n",
       "      <td>37.688849</td>\n",
       "    </tr>\n",
       "    <tr>\n",
       "      <th>3</th>\n",
       "      <td>Operations &amp; Data Analysis</td>\n",
       "      <td>21.467761</td>\n",
       "    </tr>\n",
       "    <tr>\n",
       "      <th>4</th>\n",
       "      <td>Launch Vehicle(s) &amp; Support</td>\n",
       "      <td>16.075658</td>\n",
       "    </tr>\n",
       "    <tr>\n",
       "      <th>5</th>\n",
       "      <td>Science &amp; Experiments</td>\n",
       "      <td>14.395138</td>\n",
       "    </tr>\n",
       "    <tr>\n",
       "      <th>6</th>\n",
       "      <td>Project Management/Ground Operations</td>\n",
       "      <td>5.969435</td>\n",
       "    </tr>\n",
       "  </tbody>\n",
       "</table>\n",
       "</div>"
      ],
      "text/plain": [
       "                             cost_group  average_cost\n",
       "0  Development/Implementation (incl LV)    164.122093\n",
       "1                           Formulation    102.181013\n",
       "2            Development/Implementation     37.688849\n",
       "3            Operations & Data Analysis     21.467761\n",
       "4           Launch Vehicle(s) & Support     16.075658\n",
       "5                 Science & Experiments     14.395138\n",
       "6  Project Management/Ground Operations      5.969435"
      ]
     },
     "execution_count": 16,
     "metadata": {
      "application/com.datacamp.data-table.v2+json": {
       "status": "success"
      }
     },
     "output_type": "execute_result"
    }
   ],
   "source": [
    "-- Calculate the average cost by cost_group\n",
    "SELECT \n",
    "    cost_group, \n",
    "    AVG(\"cost_MUSD\") AS average_cost\n",
    "FROM \n",
    "    mission_budgets\n",
    "GROUP BY \n",
    "    cost_group\n",
    "ORDER BY \n",
    "    average_cost DESC;"
   ]
  },
  {
   "cell_type": "markdown",
   "id": "8919ff9f-2e4a-4816-b6dd-e9f316dfe32e",
   "metadata": {},
   "source": [
    "## For most programs, all the mission have the same destination, but that isn't always true. Which programs have more than one destination for their missions?"
   ]
  },
  {
   "cell_type": "code",
   "execution_count": 19,
   "id": "d4dd3f39-c0ad-4cc6-8c2a-6b6751f8ae75",
   "metadata": {
    "customType": "sql",
    "dataFrameVariableName": "df2",
    "executionCancelledAt": null,
    "executionTime": 747,
    "lastExecutedAt": 1740618492801,
    "lastExecutedByKernel": "ca32c1d4-6311-424c-806b-632141c51b80",
    "lastScheduledRunId": null,
    "lastSuccessfullyExecutedCode": "SELECT program, COUNT(destination)\nFROM mission_details\nGROUP BY program\nHAVING COUNT(DISTINCT destination) > 1\nORDER BY count DESC",
    "outputsMetadata": {
     "0": {
      "height": 50,
      "tableState": {
       "customFilter": {
        "const": {
         "type": "boolean",
         "valid": true,
         "value": true
        },
        "id": "415791f4-dcd5-4e9a-9656-a395c2605dcd",
        "nodeType": "const"
       },
       "quickFilterText": ""
      },
      "type": "dataFrame"
     }
    },
    "sqlCellMode": "dataFrame",
    "sqlSource": {
     "integrationId": "fe69b2d4-166e-4f4c-8c2b-bc2ed932b8da",
     "integrationType": "postgresql",
     "type": "integration"
    }
   },
   "outputs": [
    {
     "data": {
      "application/com.datacamp.data-table.v2+json": {
       "table": {
        "data": {
         "count": [
          14,
          6,
          5,
          4,
          3,
          3,
          2
         ],
         "index": [
          0,
          1,
          2,
          3,
          4,
          5,
          6
         ],
         "program": [
          "Discovery",
          "Mariner",
          "",
          "Pioneer",
          "New Frontiers",
          "SIMPLEx",
          "Solar System Exploration"
         ]
        },
        "schema": {
         "fields": [
          {
           "name": "index",
           "type": "integer"
          },
          {
           "name": "program",
           "type": "string"
          },
          {
           "name": "count",
           "type": "integer"
          }
         ],
         "pandas_version": "1.4.0",
         "primaryKey": [
          "index"
         ]
        }
       },
       "total_rows": 7,
       "truncation_type": null
      },
      "text/html": [
       "<div>\n",
       "<style scoped>\n",
       "    .dataframe tbody tr th:only-of-type {\n",
       "        vertical-align: middle;\n",
       "    }\n",
       "\n",
       "    .dataframe tbody tr th {\n",
       "        vertical-align: top;\n",
       "    }\n",
       "\n",
       "    .dataframe thead th {\n",
       "        text-align: right;\n",
       "    }\n",
       "</style>\n",
       "<table border=\"1\" class=\"dataframe\">\n",
       "  <thead>\n",
       "    <tr style=\"text-align: right;\">\n",
       "      <th></th>\n",
       "      <th>program</th>\n",
       "      <th>count</th>\n",
       "    </tr>\n",
       "  </thead>\n",
       "  <tbody>\n",
       "    <tr>\n",
       "      <th>0</th>\n",
       "      <td>Discovery</td>\n",
       "      <td>14</td>\n",
       "    </tr>\n",
       "    <tr>\n",
       "      <th>1</th>\n",
       "      <td>Mariner</td>\n",
       "      <td>6</td>\n",
       "    </tr>\n",
       "    <tr>\n",
       "      <th>2</th>\n",
       "      <td></td>\n",
       "      <td>5</td>\n",
       "    </tr>\n",
       "    <tr>\n",
       "      <th>3</th>\n",
       "      <td>Pioneer</td>\n",
       "      <td>4</td>\n",
       "    </tr>\n",
       "    <tr>\n",
       "      <th>4</th>\n",
       "      <td>New Frontiers</td>\n",
       "      <td>3</td>\n",
       "    </tr>\n",
       "    <tr>\n",
       "      <th>5</th>\n",
       "      <td>SIMPLEx</td>\n",
       "      <td>3</td>\n",
       "    </tr>\n",
       "    <tr>\n",
       "      <th>6</th>\n",
       "      <td>Solar System Exploration</td>\n",
       "      <td>2</td>\n",
       "    </tr>\n",
       "  </tbody>\n",
       "</table>\n",
       "</div>"
      ],
      "text/plain": [
       "                    program  count\n",
       "0                 Discovery     14\n",
       "1                   Mariner      6\n",
       "2                                5\n",
       "3                   Pioneer      4\n",
       "4             New Frontiers      3\n",
       "5                   SIMPLEx      3\n",
       "6  Solar System Exploration      2"
      ]
     },
     "execution_count": 19,
     "metadata": {
      "application/com.datacamp.data-table.v2+json": {
       "status": "success"
      }
     },
     "output_type": "execute_result"
    }
   ],
   "source": [
    "SELECT program, COUNT(destination)\n",
    "FROM mission_details\n",
    "GROUP BY program\n",
    "HAVING COUNT(DISTINCT destination) > 1\n",
    "ORDER BY count DESC"
   ]
  }
 ],
 "metadata": {
  "colab": {
   "name": "Welcome to DataCamp Workspaces.ipynb",
   "provenance": []
  },
  "kernelspec": {
   "display_name": "Python 3 (ipykernel)",
   "language": "python",
   "name": "python3"
  },
  "language_info": {
   "codemirror_mode": {
    "name": "ipython",
    "version": 3
   },
   "file_extension": ".py",
   "mimetype": "text/x-python",
   "name": "python",
   "nbconvert_exporter": "python",
   "pygments_lexer": "ipython3",
   "version": "3.8.10"
  }
 },
 "nbformat": 4,
 "nbformat_minor": 5
}
